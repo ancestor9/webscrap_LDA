{
 "cells": [
  {
   "cell_type": "markdown",
   "metadata": {},
   "source": [
    "# 환경부 보도자료 분석 (튜토리얼 형태 Ver)"
   ]
  },
  {
   "cell_type": "markdown",
   "metadata": {},
   "source": [
    "## 관련 라이브러리 import\n",
    "- https://github.com/lovit/customized_konlpy\n",
    "- pip install customized_konlpy\n",
    "- pip install textrankr"
   ]
  },
  {
   "cell_type": "code",
   "execution_count": 1,
   "metadata": {},
   "outputs": [],
   "source": [
    "from IPython.core.interactiveshell import InteractiveShell\n",
    "InteractiveShell.ast_node_interactivity = \"all\""
   ]
  },
  {
   "cell_type": "code",
   "execution_count": 2,
   "metadata": {},
   "outputs": [
    {
     "name": "stderr",
     "output_type": "stream",
     "text": [
      "C:\\Users\\NFSI172\\Anaconda3\\lib\\site-packages\\sklearn\\externals\\six.py:31: FutureWarning: The module is deprecated in version 0.21 and will be removed in version 0.23 since we've dropped support for Python 2.7. Please rely on the official version of six (https://pypi.org/project/six/).\n",
      "  \"(https://pypi.org/project/six/).\", FutureWarning)\n",
      "C:\\Users\\NFSI172\\Anaconda3\\lib\\site-packages\\sklearn\\externals\\joblib\\__init__.py:15: FutureWarning: sklearn.externals.joblib is deprecated in 0.21 and will be removed in 0.23. Please import this functionality directly from joblib, which can be installed with: pip install joblib. If this warning is raised when loading pickled models, you may need to re-serialize those models with scikit-learn 0.21+.\n",
      "  warnings.warn(msg, category=FutureWarning)\n"
     ]
    }
   ],
   "source": [
    "import re\n",
    "import gensim \n",
    "import mglearn\n",
    "import numpy as np\n",
    "import pandas as pd\n",
    "import os\n",
    "from konlpy.utils import pprint\n",
    "from sklearn.feature_extraction.text import CountVectorizer, TfidfVectorizer,TfidfTransformer\n",
    "from sklearn.decomposition import LatentDirichletAllocation\n",
    "import pyLDAvis.gensim\n",
    "import pyLDAvis.sklearn\n",
    "import collections\n",
    "from konlpy.tag import Kkma"
   ]
  },
  {
   "cell_type": "code",
   "execution_count": 3,
   "metadata": {},
   "outputs": [],
   "source": [
    "from ckonlpy.tag import Twitter"
   ]
  },
  {
   "cell_type": "code",
   "execution_count": 4,
   "metadata": {},
   "outputs": [
    {
     "name": "stderr",
     "output_type": "stream",
     "text": [
      "C:\\Users\\NFSI172\\Anaconda3\\lib\\site-packages\\networkx\\classes\\reportviews.py:95: DeprecationWarning: Using or importing the ABCs from 'collections' instead of from 'collections.abc' is deprecated, and in 3.8 it will stop working\n",
      "  from collections import Mapping, Set, Iterable\n"
     ]
    }
   ],
   "source": [
    "from gensim.models.word2vec import Word2Vec\n",
    "#from eunjeon import Mecab  # KoNLPy style mecab wrapper\n",
    "import copy\n",
    "import networkx as nx\n",
    "import matplotlib.pyplot as plt\n",
    "import matplotlib"
   ]
  },
  {
   "cell_type": "code",
   "execution_count": 5,
   "metadata": {},
   "outputs": [],
   "source": [
    "from textrankr import TextRank"
   ]
  },
  {
   "cell_type": "code",
   "execution_count": 6,
   "metadata": {},
   "outputs": [],
   "source": [
    "# 명사인식\n",
    "import soynlp\n",
    "from soynlp.utils import DoublespaceLineCorpus\n",
    "from soynlp.noun import LRNounExtractor_v2\n",
    "\n",
    "plt.rc('font', family='NanumBarunGothicOTF')"
   ]
  },
  {
   "cell_type": "markdown",
   "metadata": {},
   "source": [
    "## 인덱스 파일 로드 \n",
    "- ./data/indexing.txt : 인덱싱 파일\n",
    "- ./data/*.txt : 그외 파일은 기사 제목 및 내용"
   ]
  },
  {
   "cell_type": "code",
   "execution_count": 23,
   "metadata": {},
   "outputs": [
    {
     "data": {
      "text/plain": [
       "['NewsResult_20170101-20170625.xlsx',\n",
       " 'NewsResult_20170626-20180109.xlsx',\n",
       " 'NewsResult_20180110-20180718.xlsx',\n",
       " 'NewsResult_20180719-20190104.xlsx',\n",
       " 'NewsResult_20190105-20190624.xlsx',\n",
       " 'NewsResult_20190625-20191116.xlsx',\n",
       " 'NewsResult_20191117-20200327.xlsx',\n",
       " '조상.xlsx']"
      ]
     },
     "execution_count": 23,
     "metadata": {},
     "output_type": "execute_result"
    },
    {
     "data": {
      "text/plain": [
       "['NewsResult_20170101-20170625.xlsx',\n",
       " 'NewsResult_20170626-20180109.xlsx',\n",
       " 'NewsResult_20180110-20180718.xlsx',\n",
       " 'NewsResult_20180719-20190104.xlsx',\n",
       " 'NewsResult_20190105-20190624.xlsx',\n",
       " 'NewsResult_20190625-20191116.xlsx',\n",
       " 'NewsResult_20191117-20200327.xlsx']"
      ]
     },
     "execution_count": 23,
     "metadata": {},
     "output_type": "execute_result"
    }
   ],
   "source": [
    "import os\n",
    "import glob\n",
    "os.chdir('../data/') # 폴더를 변경하는 명령\n",
    "os.listdir('.')      # 폴더내 모든 파일을 보여주는 명령(아래 보면 필요없는 '조상' 엑셀도 보여줌)\n",
    "files = glob.glob('New*.xlsx') # 내가 필요한 파일만 선택하여 files라는 변수로 저장\n",
    "files"
   ]
  },
  {
   "cell_type": "code",
   "execution_count": 13,
   "metadata": {
    "scrolled": false
   },
   "outputs": [
    {
     "name": "stderr",
     "output_type": "stream",
     "text": [
      "C:\\Users\\NFSI172\\Anaconda3\\lib\\site-packages\\defusedxml\\ElementTree.py:68: DeprecationWarning: The html argument of XMLParser() is deprecated\n",
      "  _XMLParser.__init__(self, html, target, encoding)\n",
      "C:\\Users\\NFSI172\\Anaconda3\\lib\\site-packages\\defusedxml\\ElementTree.py:68: DeprecationWarning: The html argument of XMLParser() is deprecated\n",
      "  _XMLParser.__init__(self, html, target, encoding)\n",
      "C:\\Users\\NFSI172\\Anaconda3\\lib\\site-packages\\defusedxml\\ElementTree.py:68: DeprecationWarning: The html argument of XMLParser() is deprecated\n",
      "  _XMLParser.__init__(self, html, target, encoding)\n",
      "C:\\Users\\NFSI172\\Anaconda3\\lib\\site-packages\\defusedxml\\ElementTree.py:68: DeprecationWarning: The html argument of XMLParser() is deprecated\n",
      "  _XMLParser.__init__(self, html, target, encoding)\n",
      "C:\\Users\\NFSI172\\Anaconda3\\lib\\site-packages\\defusedxml\\ElementTree.py:68: DeprecationWarning: The html argument of XMLParser() is deprecated\n",
      "  _XMLParser.__init__(self, html, target, encoding)\n",
      "C:\\Users\\NFSI172\\Anaconda3\\lib\\site-packages\\defusedxml\\ElementTree.py:68: DeprecationWarning: The html argument of XMLParser() is deprecated\n",
      "  _XMLParser.__init__(self, html, target, encoding)\n",
      "C:\\Users\\NFSI172\\Anaconda3\\lib\\site-packages\\defusedxml\\ElementTree.py:68: DeprecationWarning: The html argument of XMLParser() is deprecated\n",
      "  _XMLParser.__init__(self, html, target, encoding)\n"
     ]
    },
    {
     "data": {
      "text/plain": [
       "(17362, 19)"
      ]
     },
     "execution_count": 13,
     "metadata": {},
     "output_type": "execute_result"
    },
    {
     "name": "stderr",
     "output_type": "stream",
     "text": [
      "C:\\Users\\NFSI172\\Anaconda3\\lib\\site-packages\\defusedxml\\ElementTree.py:68: DeprecationWarning: The html argument of XMLParser() is deprecated\n",
      "  _XMLParser.__init__(self, html, target, encoding)\n",
      "C:\\Users\\NFSI172\\Anaconda3\\lib\\site-packages\\defusedxml\\ElementTree.py:68: DeprecationWarning: The html argument of XMLParser() is deprecated\n",
      "  _XMLParser.__init__(self, html, target, encoding)\n",
      "C:\\Users\\NFSI172\\Anaconda3\\lib\\site-packages\\defusedxml\\ElementTree.py:68: DeprecationWarning: The html argument of XMLParser() is deprecated\n",
      "  _XMLParser.__init__(self, html, target, encoding)\n",
      "C:\\Users\\NFSI172\\Anaconda3\\lib\\site-packages\\defusedxml\\ElementTree.py:68: DeprecationWarning: The html argument of XMLParser() is deprecated\n",
      "  _XMLParser.__init__(self, html, target, encoding)\n",
      "C:\\Users\\NFSI172\\Anaconda3\\lib\\site-packages\\defusedxml\\ElementTree.py:68: DeprecationWarning: The html argument of XMLParser() is deprecated\n",
      "  _XMLParser.__init__(self, html, target, encoding)\n",
      "C:\\Users\\NFSI172\\Anaconda3\\lib\\site-packages\\defusedxml\\ElementTree.py:68: DeprecationWarning: The html argument of XMLParser() is deprecated\n",
      "  _XMLParser.__init__(self, html, target, encoding)\n"
     ]
    },
    {
     "data": {
      "text/plain": [
       "Index(['뉴스 식별자', '일자', '언론사', '기고자', '제목', '통합 분류1', '통합 분류2', '통합 분류3',\n",
       "       '사건/사고 분류1', '사건/사고 분류2', '사건/사고 분류3', '인물', '위치', '기관', '키워드', '특성추출',\n",
       "       '본문', 'URL', '분석제외 여부'],\n",
       "      dtype='object')"
      ]
     },
     "execution_count": 13,
     "metadata": {},
     "output_type": "execute_result"
    },
    {
     "name": "stderr",
     "output_type": "stream",
     "text": [
      "C:\\Users\\NFSI172\\Anaconda3\\lib\\site-packages\\defusedxml\\ElementTree.py:68: DeprecationWarning: The html argument of XMLParser() is deprecated\n",
      "  _XMLParser.__init__(self, html, target, encoding)\n",
      "C:\\Users\\NFSI172\\Anaconda3\\lib\\site-packages\\defusedxml\\ElementTree.py:68: DeprecationWarning: The html argument of XMLParser() is deprecated\n",
      "  _XMLParser.__init__(self, html, target, encoding)\n",
      "C:\\Users\\NFSI172\\Anaconda3\\lib\\site-packages\\defusedxml\\ElementTree.py:68: DeprecationWarning: The html argument of XMLParser() is deprecated\n",
      "  _XMLParser.__init__(self, html, target, encoding)\n",
      "C:\\Users\\NFSI172\\Anaconda3\\lib\\site-packages\\defusedxml\\ElementTree.py:68: DeprecationWarning: The html argument of XMLParser() is deprecated\n",
      "  _XMLParser.__init__(self, html, target, encoding)\n",
      "C:\\Users\\NFSI172\\Anaconda3\\lib\\site-packages\\defusedxml\\ElementTree.py:68: DeprecationWarning: The html argument of XMLParser() is deprecated\n",
      "  _XMLParser.__init__(self, html, target, encoding)\n",
      "C:\\Users\\NFSI172\\Anaconda3\\lib\\site-packages\\defusedxml\\ElementTree.py:68: DeprecationWarning: The html argument of XMLParser() is deprecated\n",
      "  _XMLParser.__init__(self, html, target, encoding)\n",
      "C:\\Users\\NFSI172\\Anaconda3\\lib\\site-packages\\defusedxml\\ElementTree.py:68: DeprecationWarning: The html argument of XMLParser() is deprecated\n",
      "  _XMLParser.__init__(self, html, target, encoding)\n",
      "C:\\Users\\NFSI172\\Anaconda3\\lib\\site-packages\\defusedxml\\ElementTree.py:68: DeprecationWarning: The html argument of XMLParser() is deprecated\n",
      "  _XMLParser.__init__(self, html, target, encoding)\n",
      "C:\\Users\\NFSI172\\Anaconda3\\lib\\site-packages\\defusedxml\\ElementTree.py:68: DeprecationWarning: The html argument of XMLParser() is deprecated\n",
      "  _XMLParser.__init__(self, html, target, encoding)\n",
      "C:\\Users\\NFSI172\\Anaconda3\\lib\\site-packages\\defusedxml\\ElementTree.py:68: DeprecationWarning: The html argument of XMLParser() is deprecated\n",
      "  _XMLParser.__init__(self, html, target, encoding)\n",
      "C:\\Users\\NFSI172\\Anaconda3\\lib\\site-packages\\defusedxml\\ElementTree.py:68: DeprecationWarning: The html argument of XMLParser() is deprecated\n",
      "  _XMLParser.__init__(self, html, target, encoding)\n",
      "C:\\Users\\NFSI172\\Anaconda3\\lib\\site-packages\\defusedxml\\ElementTree.py:68: DeprecationWarning: The html argument of XMLParser() is deprecated\n",
      "  _XMLParser.__init__(self, html, target, encoding)\n",
      "C:\\Users\\NFSI172\\Anaconda3\\lib\\site-packages\\defusedxml\\ElementTree.py:68: DeprecationWarning: The html argument of XMLParser() is deprecated\n",
      "  _XMLParser.__init__(self, html, target, encoding)\n"
     ]
    },
    {
     "data": {
      "text/plain": [
       "(20000, 19)"
      ]
     },
     "execution_count": 13,
     "metadata": {},
     "output_type": "execute_result"
    },
    {
     "name": "stderr",
     "output_type": "stream",
     "text": [
      "C:\\Users\\NFSI172\\Anaconda3\\lib\\site-packages\\defusedxml\\ElementTree.py:68: DeprecationWarning: The html argument of XMLParser() is deprecated\n",
      "  _XMLParser.__init__(self, html, target, encoding)\n",
      "C:\\Users\\NFSI172\\Anaconda3\\lib\\site-packages\\defusedxml\\ElementTree.py:68: DeprecationWarning: The html argument of XMLParser() is deprecated\n",
      "  _XMLParser.__init__(self, html, target, encoding)\n",
      "C:\\Users\\NFSI172\\Anaconda3\\lib\\site-packages\\defusedxml\\ElementTree.py:68: DeprecationWarning: The html argument of XMLParser() is deprecated\n",
      "  _XMLParser.__init__(self, html, target, encoding)\n",
      "C:\\Users\\NFSI172\\Anaconda3\\lib\\site-packages\\defusedxml\\ElementTree.py:68: DeprecationWarning: The html argument of XMLParser() is deprecated\n",
      "  _XMLParser.__init__(self, html, target, encoding)\n",
      "C:\\Users\\NFSI172\\Anaconda3\\lib\\site-packages\\defusedxml\\ElementTree.py:68: DeprecationWarning: The html argument of XMLParser() is deprecated\n",
      "  _XMLParser.__init__(self, html, target, encoding)\n",
      "C:\\Users\\NFSI172\\Anaconda3\\lib\\site-packages\\defusedxml\\ElementTree.py:68: DeprecationWarning: The html argument of XMLParser() is deprecated\n",
      "  _XMLParser.__init__(self, html, target, encoding)\n",
      "C:\\Users\\NFSI172\\Anaconda3\\lib\\site-packages\\defusedxml\\ElementTree.py:68: DeprecationWarning: The html argument of XMLParser() is deprecated\n",
      "  _XMLParser.__init__(self, html, target, encoding)\n"
     ]
    },
    {
     "data": {
      "text/plain": [
       "Index(['뉴스 식별자', '일자', '언론사', '기고자', '제목', '통합 분류1', '통합 분류2', '통합 분류3',\n",
       "       '사건/사고 분류1', '사건/사고 분류2', '사건/사고 분류3', '인물', '위치', '기관', '키워드', '특성추출',\n",
       "       '본문', 'URL', '분석제외 여부'],\n",
       "      dtype='object')"
      ]
     },
     "execution_count": 13,
     "metadata": {},
     "output_type": "execute_result"
    },
    {
     "name": "stderr",
     "output_type": "stream",
     "text": [
      "C:\\Users\\NFSI172\\Anaconda3\\lib\\site-packages\\defusedxml\\ElementTree.py:68: DeprecationWarning: The html argument of XMLParser() is deprecated\n",
      "  _XMLParser.__init__(self, html, target, encoding)\n",
      "C:\\Users\\NFSI172\\Anaconda3\\lib\\site-packages\\defusedxml\\ElementTree.py:68: DeprecationWarning: The html argument of XMLParser() is deprecated\n",
      "  _XMLParser.__init__(self, html, target, encoding)\n",
      "C:\\Users\\NFSI172\\Anaconda3\\lib\\site-packages\\defusedxml\\ElementTree.py:68: DeprecationWarning: The html argument of XMLParser() is deprecated\n",
      "  _XMLParser.__init__(self, html, target, encoding)\n",
      "C:\\Users\\NFSI172\\Anaconda3\\lib\\site-packages\\defusedxml\\ElementTree.py:68: DeprecationWarning: The html argument of XMLParser() is deprecated\n",
      "  _XMLParser.__init__(self, html, target, encoding)\n",
      "C:\\Users\\NFSI172\\Anaconda3\\lib\\site-packages\\defusedxml\\ElementTree.py:68: DeprecationWarning: The html argument of XMLParser() is deprecated\n",
      "  _XMLParser.__init__(self, html, target, encoding)\n",
      "C:\\Users\\NFSI172\\Anaconda3\\lib\\site-packages\\defusedxml\\ElementTree.py:68: DeprecationWarning: The html argument of XMLParser() is deprecated\n",
      "  _XMLParser.__init__(self, html, target, encoding)\n",
      "C:\\Users\\NFSI172\\Anaconda3\\lib\\site-packages\\defusedxml\\ElementTree.py:68: DeprecationWarning: The html argument of XMLParser() is deprecated\n",
      "  _XMLParser.__init__(self, html, target, encoding)\n",
      "C:\\Users\\NFSI172\\Anaconda3\\lib\\site-packages\\defusedxml\\ElementTree.py:68: DeprecationWarning: The html argument of XMLParser() is deprecated\n",
      "  _XMLParser.__init__(self, html, target, encoding)\n",
      "C:\\Users\\NFSI172\\Anaconda3\\lib\\site-packages\\defusedxml\\ElementTree.py:68: DeprecationWarning: The html argument of XMLParser() is deprecated\n",
      "  _XMLParser.__init__(self, html, target, encoding)\n",
      "C:\\Users\\NFSI172\\Anaconda3\\lib\\site-packages\\defusedxml\\ElementTree.py:68: DeprecationWarning: The html argument of XMLParser() is deprecated\n",
      "  _XMLParser.__init__(self, html, target, encoding)\n",
      "C:\\Users\\NFSI172\\Anaconda3\\lib\\site-packages\\defusedxml\\ElementTree.py:68: DeprecationWarning: The html argument of XMLParser() is deprecated\n",
      "  _XMLParser.__init__(self, html, target, encoding)\n",
      "C:\\Users\\NFSI172\\Anaconda3\\lib\\site-packages\\defusedxml\\ElementTree.py:68: DeprecationWarning: The html argument of XMLParser() is deprecated\n",
      "  _XMLParser.__init__(self, html, target, encoding)\n",
      "C:\\Users\\NFSI172\\Anaconda3\\lib\\site-packages\\defusedxml\\ElementTree.py:68: DeprecationWarning: The html argument of XMLParser() is deprecated\n",
      "  _XMLParser.__init__(self, html, target, encoding)\n"
     ]
    },
    {
     "data": {
      "text/plain": [
       "(20000, 19)"
      ]
     },
     "execution_count": 13,
     "metadata": {},
     "output_type": "execute_result"
    },
    {
     "name": "stderr",
     "output_type": "stream",
     "text": [
      "C:\\Users\\NFSI172\\Anaconda3\\lib\\site-packages\\defusedxml\\ElementTree.py:68: DeprecationWarning: The html argument of XMLParser() is deprecated\n",
      "  _XMLParser.__init__(self, html, target, encoding)\n",
      "C:\\Users\\NFSI172\\Anaconda3\\lib\\site-packages\\defusedxml\\ElementTree.py:68: DeprecationWarning: The html argument of XMLParser() is deprecated\n",
      "  _XMLParser.__init__(self, html, target, encoding)\n",
      "C:\\Users\\NFSI172\\Anaconda3\\lib\\site-packages\\defusedxml\\ElementTree.py:68: DeprecationWarning: The html argument of XMLParser() is deprecated\n",
      "  _XMLParser.__init__(self, html, target, encoding)\n",
      "C:\\Users\\NFSI172\\Anaconda3\\lib\\site-packages\\defusedxml\\ElementTree.py:68: DeprecationWarning: The html argument of XMLParser() is deprecated\n",
      "  _XMLParser.__init__(self, html, target, encoding)\n",
      "C:\\Users\\NFSI172\\Anaconda3\\lib\\site-packages\\defusedxml\\ElementTree.py:68: DeprecationWarning: The html argument of XMLParser() is deprecated\n",
      "  _XMLParser.__init__(self, html, target, encoding)\n",
      "C:\\Users\\NFSI172\\Anaconda3\\lib\\site-packages\\defusedxml\\ElementTree.py:68: DeprecationWarning: The html argument of XMLParser() is deprecated\n",
      "  _XMLParser.__init__(self, html, target, encoding)\n"
     ]
    },
    {
     "data": {
      "text/plain": [
       "Index(['뉴스 식별자', '일자', '언론사', '기고자', '제목', '통합 분류1', '통합 분류2', '통합 분류3',\n",
       "       '사건/사고 분류1', '사건/사고 분류2', '사건/사고 분류3', '인물', '위치', '기관', '키워드', '특성추출',\n",
       "       '본문', 'URL', '분석제외 여부'],\n",
       "      dtype='object')"
      ]
     },
     "execution_count": 13,
     "metadata": {},
     "output_type": "execute_result"
    },
    {
     "name": "stderr",
     "output_type": "stream",
     "text": [
      "C:\\Users\\NFSI172\\Anaconda3\\lib\\site-packages\\defusedxml\\ElementTree.py:68: DeprecationWarning: The html argument of XMLParser() is deprecated\n",
      "  _XMLParser.__init__(self, html, target, encoding)\n",
      "C:\\Users\\NFSI172\\Anaconda3\\lib\\site-packages\\defusedxml\\ElementTree.py:68: DeprecationWarning: The html argument of XMLParser() is deprecated\n",
      "  _XMLParser.__init__(self, html, target, encoding)\n",
      "C:\\Users\\NFSI172\\Anaconda3\\lib\\site-packages\\defusedxml\\ElementTree.py:68: DeprecationWarning: The html argument of XMLParser() is deprecated\n",
      "  _XMLParser.__init__(self, html, target, encoding)\n",
      "C:\\Users\\NFSI172\\Anaconda3\\lib\\site-packages\\defusedxml\\ElementTree.py:68: DeprecationWarning: The html argument of XMLParser() is deprecated\n",
      "  _XMLParser.__init__(self, html, target, encoding)\n",
      "C:\\Users\\NFSI172\\Anaconda3\\lib\\site-packages\\defusedxml\\ElementTree.py:68: DeprecationWarning: The html argument of XMLParser() is deprecated\n",
      "  _XMLParser.__init__(self, html, target, encoding)\n",
      "C:\\Users\\NFSI172\\Anaconda3\\lib\\site-packages\\defusedxml\\ElementTree.py:68: DeprecationWarning: The html argument of XMLParser() is deprecated\n",
      "  _XMLParser.__init__(self, html, target, encoding)\n",
      "C:\\Users\\NFSI172\\Anaconda3\\lib\\site-packages\\defusedxml\\ElementTree.py:68: DeprecationWarning: The html argument of XMLParser() is deprecated\n",
      "  _XMLParser.__init__(self, html, target, encoding)\n",
      "C:\\Users\\NFSI172\\Anaconda3\\lib\\site-packages\\defusedxml\\ElementTree.py:68: DeprecationWarning: The html argument of XMLParser() is deprecated\n",
      "  _XMLParser.__init__(self, html, target, encoding)\n",
      "C:\\Users\\NFSI172\\Anaconda3\\lib\\site-packages\\defusedxml\\ElementTree.py:68: DeprecationWarning: The html argument of XMLParser() is deprecated\n",
      "  _XMLParser.__init__(self, html, target, encoding)\n",
      "C:\\Users\\NFSI172\\Anaconda3\\lib\\site-packages\\defusedxml\\ElementTree.py:68: DeprecationWarning: The html argument of XMLParser() is deprecated\n",
      "  _XMLParser.__init__(self, html, target, encoding)\n",
      "C:\\Users\\NFSI172\\Anaconda3\\lib\\site-packages\\defusedxml\\ElementTree.py:68: DeprecationWarning: The html argument of XMLParser() is deprecated\n",
      "  _XMLParser.__init__(self, html, target, encoding)\n",
      "C:\\Users\\NFSI172\\Anaconda3\\lib\\site-packages\\defusedxml\\ElementTree.py:68: DeprecationWarning: The html argument of XMLParser() is deprecated\n",
      "  _XMLParser.__init__(self, html, target, encoding)\n"
     ]
    },
    {
     "data": {
      "text/plain": [
       "(20000, 19)"
      ]
     },
     "execution_count": 13,
     "metadata": {},
     "output_type": "execute_result"
    },
    {
     "name": "stderr",
     "output_type": "stream",
     "text": [
      "C:\\Users\\NFSI172\\Anaconda3\\lib\\site-packages\\defusedxml\\ElementTree.py:68: DeprecationWarning: The html argument of XMLParser() is deprecated\n",
      "  _XMLParser.__init__(self, html, target, encoding)\n",
      "C:\\Users\\NFSI172\\Anaconda3\\lib\\site-packages\\defusedxml\\ElementTree.py:68: DeprecationWarning: The html argument of XMLParser() is deprecated\n",
      "  _XMLParser.__init__(self, html, target, encoding)\n",
      "C:\\Users\\NFSI172\\Anaconda3\\lib\\site-packages\\defusedxml\\ElementTree.py:68: DeprecationWarning: The html argument of XMLParser() is deprecated\n",
      "  _XMLParser.__init__(self, html, target, encoding)\n",
      "C:\\Users\\NFSI172\\Anaconda3\\lib\\site-packages\\defusedxml\\ElementTree.py:68: DeprecationWarning: The html argument of XMLParser() is deprecated\n",
      "  _XMLParser.__init__(self, html, target, encoding)\n",
      "C:\\Users\\NFSI172\\Anaconda3\\lib\\site-packages\\defusedxml\\ElementTree.py:68: DeprecationWarning: The html argument of XMLParser() is deprecated\n",
      "  _XMLParser.__init__(self, html, target, encoding)\n",
      "C:\\Users\\NFSI172\\Anaconda3\\lib\\site-packages\\defusedxml\\ElementTree.py:68: DeprecationWarning: The html argument of XMLParser() is deprecated\n",
      "  _XMLParser.__init__(self, html, target, encoding)\n"
     ]
    },
    {
     "data": {
      "text/plain": [
       "Index(['뉴스 식별자', '일자', '언론사', '기고자', '제목', '통합 분류1', '통합 분류2', '통합 분류3',\n",
       "       '사건/사고 분류1', '사건/사고 분류2', '사건/사고 분류3', '인물', '위치', '기관', '키워드', '특성추출',\n",
       "       '본문', 'URL', '분석제외 여부'],\n",
       "      dtype='object')"
      ]
     },
     "execution_count": 13,
     "metadata": {},
     "output_type": "execute_result"
    },
    {
     "name": "stderr",
     "output_type": "stream",
     "text": [
      "C:\\Users\\NFSI172\\Anaconda3\\lib\\site-packages\\defusedxml\\ElementTree.py:68: DeprecationWarning: The html argument of XMLParser() is deprecated\n",
      "  _XMLParser.__init__(self, html, target, encoding)\n",
      "C:\\Users\\NFSI172\\Anaconda3\\lib\\site-packages\\defusedxml\\ElementTree.py:68: DeprecationWarning: The html argument of XMLParser() is deprecated\n",
      "  _XMLParser.__init__(self, html, target, encoding)\n",
      "C:\\Users\\NFSI172\\Anaconda3\\lib\\site-packages\\defusedxml\\ElementTree.py:68: DeprecationWarning: The html argument of XMLParser() is deprecated\n",
      "  _XMLParser.__init__(self, html, target, encoding)\n",
      "C:\\Users\\NFSI172\\Anaconda3\\lib\\site-packages\\defusedxml\\ElementTree.py:68: DeprecationWarning: The html argument of XMLParser() is deprecated\n",
      "  _XMLParser.__init__(self, html, target, encoding)\n",
      "C:\\Users\\NFSI172\\Anaconda3\\lib\\site-packages\\defusedxml\\ElementTree.py:68: DeprecationWarning: The html argument of XMLParser() is deprecated\n",
      "  _XMLParser.__init__(self, html, target, encoding)\n",
      "C:\\Users\\NFSI172\\Anaconda3\\lib\\site-packages\\defusedxml\\ElementTree.py:68: DeprecationWarning: The html argument of XMLParser() is deprecated\n",
      "  _XMLParser.__init__(self, html, target, encoding)\n",
      "C:\\Users\\NFSI172\\Anaconda3\\lib\\site-packages\\defusedxml\\ElementTree.py:68: DeprecationWarning: The html argument of XMLParser() is deprecated\n",
      "  _XMLParser.__init__(self, html, target, encoding)\n",
      "C:\\Users\\NFSI172\\Anaconda3\\lib\\site-packages\\defusedxml\\ElementTree.py:68: DeprecationWarning: The html argument of XMLParser() is deprecated\n",
      "  _XMLParser.__init__(self, html, target, encoding)\n",
      "C:\\Users\\NFSI172\\Anaconda3\\lib\\site-packages\\defusedxml\\ElementTree.py:68: DeprecationWarning: The html argument of XMLParser() is deprecated\n",
      "  _XMLParser.__init__(self, html, target, encoding)\n",
      "C:\\Users\\NFSI172\\Anaconda3\\lib\\site-packages\\defusedxml\\ElementTree.py:68: DeprecationWarning: The html argument of XMLParser() is deprecated\n",
      "  _XMLParser.__init__(self, html, target, encoding)\n",
      "C:\\Users\\NFSI172\\Anaconda3\\lib\\site-packages\\defusedxml\\ElementTree.py:68: DeprecationWarning: The html argument of XMLParser() is deprecated\n",
      "  _XMLParser.__init__(self, html, target, encoding)\n",
      "C:\\Users\\NFSI172\\Anaconda3\\lib\\site-packages\\defusedxml\\ElementTree.py:68: DeprecationWarning: The html argument of XMLParser() is deprecated\n",
      "  _XMLParser.__init__(self, html, target, encoding)\n"
     ]
    },
    {
     "data": {
      "text/plain": [
       "(20000, 19)"
      ]
     },
     "execution_count": 13,
     "metadata": {},
     "output_type": "execute_result"
    },
    {
     "name": "stderr",
     "output_type": "stream",
     "text": [
      "C:\\Users\\NFSI172\\Anaconda3\\lib\\site-packages\\defusedxml\\ElementTree.py:68: DeprecationWarning: The html argument of XMLParser() is deprecated\n",
      "  _XMLParser.__init__(self, html, target, encoding)\n",
      "C:\\Users\\NFSI172\\Anaconda3\\lib\\site-packages\\defusedxml\\ElementTree.py:68: DeprecationWarning: The html argument of XMLParser() is deprecated\n",
      "  _XMLParser.__init__(self, html, target, encoding)\n",
      "C:\\Users\\NFSI172\\Anaconda3\\lib\\site-packages\\defusedxml\\ElementTree.py:68: DeprecationWarning: The html argument of XMLParser() is deprecated\n",
      "  _XMLParser.__init__(self, html, target, encoding)\n",
      "C:\\Users\\NFSI172\\Anaconda3\\lib\\site-packages\\defusedxml\\ElementTree.py:68: DeprecationWarning: The html argument of XMLParser() is deprecated\n",
      "  _XMLParser.__init__(self, html, target, encoding)\n",
      "C:\\Users\\NFSI172\\Anaconda3\\lib\\site-packages\\defusedxml\\ElementTree.py:68: DeprecationWarning: The html argument of XMLParser() is deprecated\n",
      "  _XMLParser.__init__(self, html, target, encoding)\n",
      "C:\\Users\\NFSI172\\Anaconda3\\lib\\site-packages\\defusedxml\\ElementTree.py:68: DeprecationWarning: The html argument of XMLParser() is deprecated\n",
      "  _XMLParser.__init__(self, html, target, encoding)\n"
     ]
    },
    {
     "data": {
      "text/plain": [
       "Index(['뉴스 식별자', '일자', '언론사', '기고자', '제목', '통합 분류1', '통합 분류2', '통합 분류3',\n",
       "       '사건/사고 분류1', '사건/사고 분류2', '사건/사고 분류3', '인물', '위치', '기관', '키워드', '특성추출',\n",
       "       '본문', 'URL', '분석제외 여부'],\n",
       "      dtype='object')"
      ]
     },
     "execution_count": 13,
     "metadata": {},
     "output_type": "execute_result"
    },
    {
     "name": "stderr",
     "output_type": "stream",
     "text": [
      "C:\\Users\\NFSI172\\Anaconda3\\lib\\site-packages\\defusedxml\\ElementTree.py:68: DeprecationWarning: The html argument of XMLParser() is deprecated\n",
      "  _XMLParser.__init__(self, html, target, encoding)\n",
      "C:\\Users\\NFSI172\\Anaconda3\\lib\\site-packages\\defusedxml\\ElementTree.py:68: DeprecationWarning: The html argument of XMLParser() is deprecated\n",
      "  _XMLParser.__init__(self, html, target, encoding)\n",
      "C:\\Users\\NFSI172\\Anaconda3\\lib\\site-packages\\defusedxml\\ElementTree.py:68: DeprecationWarning: The html argument of XMLParser() is deprecated\n",
      "  _XMLParser.__init__(self, html, target, encoding)\n",
      "C:\\Users\\NFSI172\\Anaconda3\\lib\\site-packages\\defusedxml\\ElementTree.py:68: DeprecationWarning: The html argument of XMLParser() is deprecated\n",
      "  _XMLParser.__init__(self, html, target, encoding)\n",
      "C:\\Users\\NFSI172\\Anaconda3\\lib\\site-packages\\defusedxml\\ElementTree.py:68: DeprecationWarning: The html argument of XMLParser() is deprecated\n",
      "  _XMLParser.__init__(self, html, target, encoding)\n",
      "C:\\Users\\NFSI172\\Anaconda3\\lib\\site-packages\\defusedxml\\ElementTree.py:68: DeprecationWarning: The html argument of XMLParser() is deprecated\n",
      "  _XMLParser.__init__(self, html, target, encoding)\n",
      "C:\\Users\\NFSI172\\Anaconda3\\lib\\site-packages\\defusedxml\\ElementTree.py:68: DeprecationWarning: The html argument of XMLParser() is deprecated\n",
      "  _XMLParser.__init__(self, html, target, encoding)\n",
      "C:\\Users\\NFSI172\\Anaconda3\\lib\\site-packages\\defusedxml\\ElementTree.py:68: DeprecationWarning: The html argument of XMLParser() is deprecated\n",
      "  _XMLParser.__init__(self, html, target, encoding)\n",
      "C:\\Users\\NFSI172\\Anaconda3\\lib\\site-packages\\defusedxml\\ElementTree.py:68: DeprecationWarning: The html argument of XMLParser() is deprecated\n",
      "  _XMLParser.__init__(self, html, target, encoding)\n",
      "C:\\Users\\NFSI172\\Anaconda3\\lib\\site-packages\\defusedxml\\ElementTree.py:68: DeprecationWarning: The html argument of XMLParser() is deprecated\n",
      "  _XMLParser.__init__(self, html, target, encoding)\n",
      "C:\\Users\\NFSI172\\Anaconda3\\lib\\site-packages\\defusedxml\\ElementTree.py:68: DeprecationWarning: The html argument of XMLParser() is deprecated\n",
      "  _XMLParser.__init__(self, html, target, encoding)\n",
      "C:\\Users\\NFSI172\\Anaconda3\\lib\\site-packages\\defusedxml\\ElementTree.py:68: DeprecationWarning: The html argument of XMLParser() is deprecated\n",
      "  _XMLParser.__init__(self, html, target, encoding)\n"
     ]
    },
    {
     "data": {
      "text/plain": [
       "(20000, 19)"
      ]
     },
     "execution_count": 13,
     "metadata": {},
     "output_type": "execute_result"
    },
    {
     "name": "stderr",
     "output_type": "stream",
     "text": [
      "C:\\Users\\NFSI172\\Anaconda3\\lib\\site-packages\\defusedxml\\ElementTree.py:68: DeprecationWarning: The html argument of XMLParser() is deprecated\n",
      "  _XMLParser.__init__(self, html, target, encoding)\n",
      "C:\\Users\\NFSI172\\Anaconda3\\lib\\site-packages\\defusedxml\\ElementTree.py:68: DeprecationWarning: The html argument of XMLParser() is deprecated\n",
      "  _XMLParser.__init__(self, html, target, encoding)\n",
      "C:\\Users\\NFSI172\\Anaconda3\\lib\\site-packages\\defusedxml\\ElementTree.py:68: DeprecationWarning: The html argument of XMLParser() is deprecated\n",
      "  _XMLParser.__init__(self, html, target, encoding)\n",
      "C:\\Users\\NFSI172\\Anaconda3\\lib\\site-packages\\defusedxml\\ElementTree.py:68: DeprecationWarning: The html argument of XMLParser() is deprecated\n",
      "  _XMLParser.__init__(self, html, target, encoding)\n",
      "C:\\Users\\NFSI172\\Anaconda3\\lib\\site-packages\\defusedxml\\ElementTree.py:68: DeprecationWarning: The html argument of XMLParser() is deprecated\n",
      "  _XMLParser.__init__(self, html, target, encoding)\n",
      "C:\\Users\\NFSI172\\Anaconda3\\lib\\site-packages\\defusedxml\\ElementTree.py:68: DeprecationWarning: The html argument of XMLParser() is deprecated\n",
      "  _XMLParser.__init__(self, html, target, encoding)\n"
     ]
    },
    {
     "data": {
      "text/plain": [
       "Index(['뉴스 식별자', '일자', '언론사', '기고자', '제목', '통합 분류1', '통합 분류2', '통합 분류3',\n",
       "       '사건/사고 분류1', '사건/사고 분류2', '사건/사고 분류3', '인물', '위치', '기관', '키워드', '특성추출',\n",
       "       '본문', 'URL', '분석제외 여부'],\n",
       "      dtype='object')"
      ]
     },
     "execution_count": 13,
     "metadata": {},
     "output_type": "execute_result"
    },
    {
     "name": "stderr",
     "output_type": "stream",
     "text": [
      "C:\\Users\\NFSI172\\Anaconda3\\lib\\site-packages\\defusedxml\\ElementTree.py:68: DeprecationWarning: The html argument of XMLParser() is deprecated\n",
      "  _XMLParser.__init__(self, html, target, encoding)\n",
      "C:\\Users\\NFSI172\\Anaconda3\\lib\\site-packages\\defusedxml\\ElementTree.py:68: DeprecationWarning: The html argument of XMLParser() is deprecated\n",
      "  _XMLParser.__init__(self, html, target, encoding)\n",
      "C:\\Users\\NFSI172\\Anaconda3\\lib\\site-packages\\defusedxml\\ElementTree.py:68: DeprecationWarning: The html argument of XMLParser() is deprecated\n",
      "  _XMLParser.__init__(self, html, target, encoding)\n",
      "C:\\Users\\NFSI172\\Anaconda3\\lib\\site-packages\\defusedxml\\ElementTree.py:68: DeprecationWarning: The html argument of XMLParser() is deprecated\n",
      "  _XMLParser.__init__(self, html, target, encoding)\n",
      "C:\\Users\\NFSI172\\Anaconda3\\lib\\site-packages\\defusedxml\\ElementTree.py:68: DeprecationWarning: The html argument of XMLParser() is deprecated\n",
      "  _XMLParser.__init__(self, html, target, encoding)\n",
      "C:\\Users\\NFSI172\\Anaconda3\\lib\\site-packages\\defusedxml\\ElementTree.py:68: DeprecationWarning: The html argument of XMLParser() is deprecated\n",
      "  _XMLParser.__init__(self, html, target, encoding)\n",
      "C:\\Users\\NFSI172\\Anaconda3\\lib\\site-packages\\defusedxml\\ElementTree.py:68: DeprecationWarning: The html argument of XMLParser() is deprecated\n",
      "  _XMLParser.__init__(self, html, target, encoding)\n",
      "C:\\Users\\NFSI172\\Anaconda3\\lib\\site-packages\\defusedxml\\ElementTree.py:68: DeprecationWarning: The html argument of XMLParser() is deprecated\n",
      "  _XMLParser.__init__(self, html, target, encoding)\n",
      "C:\\Users\\NFSI172\\Anaconda3\\lib\\site-packages\\defusedxml\\ElementTree.py:68: DeprecationWarning: The html argument of XMLParser() is deprecated\n",
      "  _XMLParser.__init__(self, html, target, encoding)\n",
      "C:\\Users\\NFSI172\\Anaconda3\\lib\\site-packages\\defusedxml\\ElementTree.py:68: DeprecationWarning: The html argument of XMLParser() is deprecated\n",
      "  _XMLParser.__init__(self, html, target, encoding)\n",
      "C:\\Users\\NFSI172\\Anaconda3\\lib\\site-packages\\defusedxml\\ElementTree.py:68: DeprecationWarning: The html argument of XMLParser() is deprecated\n",
      "  _XMLParser.__init__(self, html, target, encoding)\n",
      "C:\\Users\\NFSI172\\Anaconda3\\lib\\site-packages\\defusedxml\\ElementTree.py:68: DeprecationWarning: The html argument of XMLParser() is deprecated\n",
      "  _XMLParser.__init__(self, html, target, encoding)\n",
      "C:\\Users\\NFSI172\\Anaconda3\\lib\\site-packages\\defusedxml\\ElementTree.py:68: DeprecationWarning: The html argument of XMLParser() is deprecated\n",
      "  _XMLParser.__init__(self, html, target, encoding)\n"
     ]
    },
    {
     "data": {
      "text/plain": [
       "(19993, 19)"
      ]
     },
     "execution_count": 13,
     "metadata": {},
     "output_type": "execute_result"
    },
    {
     "name": "stderr",
     "output_type": "stream",
     "text": [
      "C:\\Users\\NFSI172\\Anaconda3\\lib\\site-packages\\defusedxml\\ElementTree.py:68: DeprecationWarning: The html argument of XMLParser() is deprecated\n",
      "  _XMLParser.__init__(self, html, target, encoding)\n",
      "C:\\Users\\NFSI172\\Anaconda3\\lib\\site-packages\\defusedxml\\ElementTree.py:68: DeprecationWarning: The html argument of XMLParser() is deprecated\n",
      "  _XMLParser.__init__(self, html, target, encoding)\n",
      "C:\\Users\\NFSI172\\Anaconda3\\lib\\site-packages\\defusedxml\\ElementTree.py:68: DeprecationWarning: The html argument of XMLParser() is deprecated\n",
      "  _XMLParser.__init__(self, html, target, encoding)\n",
      "C:\\Users\\NFSI172\\Anaconda3\\lib\\site-packages\\defusedxml\\ElementTree.py:68: DeprecationWarning: The html argument of XMLParser() is deprecated\n",
      "  _XMLParser.__init__(self, html, target, encoding)\n",
      "C:\\Users\\NFSI172\\Anaconda3\\lib\\site-packages\\defusedxml\\ElementTree.py:68: DeprecationWarning: The html argument of XMLParser() is deprecated\n",
      "  _XMLParser.__init__(self, html, target, encoding)\n",
      "C:\\Users\\NFSI172\\Anaconda3\\lib\\site-packages\\defusedxml\\ElementTree.py:68: DeprecationWarning: The html argument of XMLParser() is deprecated\n",
      "  _XMLParser.__init__(self, html, target, encoding)\n",
      "C:\\Users\\NFSI172\\Anaconda3\\lib\\site-packages\\defusedxml\\ElementTree.py:68: DeprecationWarning: The html argument of XMLParser() is deprecated\n",
      "  _XMLParser.__init__(self, html, target, encoding)\n"
     ]
    },
    {
     "data": {
      "text/plain": [
       "Index(['뉴스 식별자', '일자', '언론사', '기고자', '제목', '통합 분류1', '통합 분류2', '통합 분류3',\n",
       "       '사건/사고 분류1', '사건/사고 분류2', '사건/사고 분류3', '인물', '위치', '기관', '키워드', '특성추출',\n",
       "       '본문', 'URL', '분석제외 여부'],\n",
       "      dtype='object')"
      ]
     },
     "execution_count": 13,
     "metadata": {},
     "output_type": "execute_result"
    },
    {
     "name": "stderr",
     "output_type": "stream",
     "text": [
      "C:\\Users\\NFSI172\\Anaconda3\\lib\\site-packages\\defusedxml\\ElementTree.py:68: DeprecationWarning: The html argument of XMLParser() is deprecated\n",
      "  _XMLParser.__init__(self, html, target, encoding)\n",
      "C:\\Users\\NFSI172\\Anaconda3\\lib\\site-packages\\defusedxml\\ElementTree.py:68: DeprecationWarning: The html argument of XMLParser() is deprecated\n",
      "  _XMLParser.__init__(self, html, target, encoding)\n",
      "C:\\Users\\NFSI172\\Anaconda3\\lib\\site-packages\\defusedxml\\ElementTree.py:68: DeprecationWarning: The html argument of XMLParser() is deprecated\n",
      "  _XMLParser.__init__(self, html, target, encoding)\n",
      "C:\\Users\\NFSI172\\Anaconda3\\lib\\site-packages\\defusedxml\\ElementTree.py:68: DeprecationWarning: The html argument of XMLParser() is deprecated\n",
      "  _XMLParser.__init__(self, html, target, encoding)\n",
      "C:\\Users\\NFSI172\\Anaconda3\\lib\\site-packages\\defusedxml\\ElementTree.py:68: DeprecationWarning: The html argument of XMLParser() is deprecated\n",
      "  _XMLParser.__init__(self, html, target, encoding)\n",
      "C:\\Users\\NFSI172\\Anaconda3\\lib\\site-packages\\defusedxml\\ElementTree.py:68: DeprecationWarning: The html argument of XMLParser() is deprecated\n",
      "  _XMLParser.__init__(self, html, target, encoding)\n",
      "C:\\Users\\NFSI172\\Anaconda3\\lib\\site-packages\\defusedxml\\ElementTree.py:68: DeprecationWarning: The html argument of XMLParser() is deprecated\n",
      "  _XMLParser.__init__(self, html, target, encoding)\n"
     ]
    },
    {
     "data": {
      "text/plain": [
       "541527"
      ]
     },
     "execution_count": 13,
     "metadata": {},
     "output_type": "execute_result"
    },
    {
     "data": {
      "text/plain": [
       "(137355, 19)"
      ]
     },
     "execution_count": 13,
     "metadata": {},
     "output_type": "execute_result"
    }
   ],
   "source": [
    "row_sum = 0\n",
    "df=pd.DataFrame()\n",
    "\n",
    "for file_name in files :\n",
    "    pd.read_excel(file_name).shape\n",
    "    pd.read_excel(file_name).columns\n",
    "    df = df.append(pd.read_excel(file_name))\n",
    "    row_sum = row_sum + df.shape[0]\n",
    "    \n",
    "row_sum    \n",
    "df.shape"
   ]
  },
  {
   "cell_type": "code",
   "execution_count": 28,
   "metadata": {},
   "outputs": [],
   "source": [
    "df = df[['일자', '언론사', '키워드', '본문']]\n",
    "df.to_pickle('../data/df.pkl')"
   ]
  },
  {
   "cell_type": "code",
   "execution_count": null,
   "metadata": {},
   "outputs": [],
   "source": []
  },
  {
   "cell_type": "code",
   "execution_count": 8,
   "metadata": {},
   "outputs": [
    {
     "data": {
      "text/html": [
       "<div>\n",
       "<style scoped>\n",
       "    .dataframe tbody tr th:only-of-type {\n",
       "        vertical-align: middle;\n",
       "    }\n",
       "\n",
       "    .dataframe tbody tr th {\n",
       "        vertical-align: top;\n",
       "    }\n",
       "\n",
       "    .dataframe thead th {\n",
       "        text-align: right;\n",
       "    }\n",
       "</style>\n",
       "<table border=\"1\" class=\"dataframe\">\n",
       "  <thead>\n",
       "    <tr style=\"text-align: right;\">\n",
       "      <th></th>\n",
       "      <th>date</th>\n",
       "      <th>title</th>\n",
       "      <th>content_url_list</th>\n",
       "      <th>file_list</th>\n",
       "    </tr>\n",
       "  </thead>\n",
       "  <tbody>\n",
       "    <tr>\n",
       "      <th>0</th>\n",
       "      <td>2005-01-03</td>\n",
       "      <td>“분묘훼손 멧돼지”를 「유해조수」로 추가 지정</td>\n",
       "      <td>http://www.me.go.kr/home/web/board/read.do;jse...</td>\n",
       "      <td>./data/20050104_1.txt</td>\n",
       "    </tr>\n",
       "    <tr>\n",
       "      <th>1</th>\n",
       "      <td>2005-01-03</td>\n",
       "      <td>「수도권 대기환경개선에 관한 특별법 시행규칙」 제정</td>\n",
       "      <td>http://www.me.go.kr/home/web/board/read.do;jse...</td>\n",
       "      <td>./data/20050105_1.txt</td>\n",
       "    </tr>\n",
       "    <tr>\n",
       "      <th>2</th>\n",
       "      <td>2005-01-03</td>\n",
       "      <td>음식물류 폐기물 직매립 금지 시행 3일째</td>\n",
       "      <td>http://www.me.go.kr/home/web/board/read.do;jse...</td>\n",
       "      <td>./data/20050106_2.txt</td>\n",
       "    </tr>\n",
       "    <tr>\n",
       "      <th>3</th>\n",
       "      <td>2005-01-04</td>\n",
       "      <td>기후변화와 기업의 대응에 관한 세미나 개최</td>\n",
       "      <td>http://www.me.go.kr/home/web/board/read.do;jse...</td>\n",
       "      <td>./data/20050106_1.txt</td>\n",
       "    </tr>\n",
       "    <tr>\n",
       "      <th>4</th>\n",
       "      <td>2005-01-05</td>\n",
       "      <td>환경부 9급 국가공무원 필기시험 대상자 및 시험장소 공고</td>\n",
       "      <td>http://www.me.go.kr/home/web/board/read.do;jse...</td>\n",
       "      <td>./data/20050107_2.txt</td>\n",
       "    </tr>\n",
       "  </tbody>\n",
       "</table>\n",
       "</div>"
      ],
      "text/plain": [
       "         date                            title  \\\n",
       "0  2005-01-03        “분묘훼손 멧돼지”를 「유해조수」로 추가 지정   \n",
       "1  2005-01-03     「수도권 대기환경개선에 관한 특별법 시행규칙」 제정   \n",
       "2  2005-01-03           음식물류 폐기물 직매립 금지 시행 3일째   \n",
       "3  2005-01-04          기후변화와 기업의 대응에 관한 세미나 개최   \n",
       "4  2005-01-05  환경부 9급 국가공무원 필기시험 대상자 및 시험장소 공고   \n",
       "\n",
       "                                    content_url_list              file_list  \n",
       "0  http://www.me.go.kr/home/web/board/read.do;jse...  ./data/20050104_1.txt  \n",
       "1  http://www.me.go.kr/home/web/board/read.do;jse...  ./data/20050105_1.txt  \n",
       "2  http://www.me.go.kr/home/web/board/read.do;jse...  ./data/20050106_2.txt  \n",
       "3  http://www.me.go.kr/home/web/board/read.do;jse...  ./data/20050106_1.txt  \n",
       "4  http://www.me.go.kr/home/web/board/read.do;jse...  ./data/20050107_2.txt  "
      ]
     },
     "execution_count": 8,
     "metadata": {},
     "output_type": "execute_result"
    },
    {
     "data": {
      "text/plain": [
       "(10100, 4)"
      ]
     },
     "execution_count": 8,
     "metadata": {},
     "output_type": "execute_result"
    }
   ],
   "source": [
    "dir_path = './data/'\n",
    "\n",
    "idx_result_df = pd.read_csv(dir_path + 'indexing.txt', encoding=\"UTF8\", header=None)\n",
    "idx_result_df.columns = ['date','title','content_url_list','file_list']\n",
    "\n",
    "# 인덱스 파일 날짜로 정렬\n",
    "idx_result_df = idx_result_df.sort_values('date')\n",
    "\n",
    "idx_result_df.head()\n",
    "idx_result_df.shape"
   ]
  },
  {
   "cell_type": "code",
   "execution_count": 9,
   "metadata": {},
   "outputs": [
    {
     "data": {
      "text/html": [
       "<div>\n",
       "<style scoped>\n",
       "    .dataframe tbody tr th:only-of-type {\n",
       "        vertical-align: middle;\n",
       "    }\n",
       "\n",
       "    .dataframe tbody tr th {\n",
       "        vertical-align: top;\n",
       "    }\n",
       "\n",
       "    .dataframe thead th {\n",
       "        text-align: right;\n",
       "    }\n",
       "</style>\n",
       "<table border=\"1\" class=\"dataframe\">\n",
       "  <thead>\n",
       "    <tr style=\"text-align: right;\">\n",
       "      <th></th>\n",
       "      <th>date</th>\n",
       "      <th>title</th>\n",
       "      <th>content_url_list</th>\n",
       "      <th>file_list</th>\n",
       "    </tr>\n",
       "  </thead>\n",
       "  <tbody>\n",
       "    <tr>\n",
       "      <th>566</th>\n",
       "      <td>2006-02-20</td>\n",
       "      <td>국립환경과학원에서 2005년도에 수행한 연구사업 관련 요약 자료</td>\n",
       "      <td>http://www.me.go.kr/home/web/board/read.do;jse...</td>\n",
       "      <td>./data/20060220_2.txt</td>\n",
       "    </tr>\n",
       "    <tr>\n",
       "      <th>568</th>\n",
       "      <td>2006-02-21</td>\n",
       "      <td>국립환경과학원에서 2005년도에 수행한 연구사업 관련 요약 자료</td>\n",
       "      <td>http://www.me.go.kr/home/web/board/read.do;jse...</td>\n",
       "      <td>./data/20060221_2.txt</td>\n",
       "    </tr>\n",
       "    <tr>\n",
       "      <th>574</th>\n",
       "      <td>2006-02-22</td>\n",
       "      <td>국립환경과학원에서 2005년도에 수행한 연구사업 관련 요약 자료</td>\n",
       "      <td>http://www.me.go.kr/home/web/board/read.do;jse...</td>\n",
       "      <td>./data/20060222_2.txt</td>\n",
       "    </tr>\n",
       "    <tr>\n",
       "      <th>578</th>\n",
       "      <td>2006-02-23</td>\n",
       "      <td>국립환경과학원에서 2005년도에 수행한 연구사업 관련 요약 자료</td>\n",
       "      <td>http://www.me.go.kr/home/web/board/read.do;jse...</td>\n",
       "      <td>./data/20060223_5.txt</td>\n",
       "    </tr>\n",
       "    <tr>\n",
       "      <th>2164</th>\n",
       "      <td>2008-07-28</td>\n",
       "      <td>인사발령 보도자료</td>\n",
       "      <td>http://www.me.go.kr/home/web/board/read.do;jse...</td>\n",
       "      <td>./data/20080728_3.txt</td>\n",
       "    </tr>\n",
       "    <tr>\n",
       "      <th>4032</th>\n",
       "      <td>2010-12-01</td>\n",
       "      <td>인사발령 보도자료</td>\n",
       "      <td>http://www.me.go.kr/home/web/board/read.do;jse...</td>\n",
       "      <td>./data/20101201_3.txt</td>\n",
       "    </tr>\n",
       "    <tr>\n",
       "      <th>4461</th>\n",
       "      <td>2011-06-10</td>\n",
       "      <td>‘캠프 캐롤 고엽제 매립 의혹’ 관련, 기지 내외의 한미공동조사...</td>\n",
       "      <td>http://www.me.go.kr/home/web/board/read.do;jse...</td>\n",
       "      <td>./data/20110610_3.txt</td>\n",
       "    </tr>\n",
       "    <tr>\n",
       "      <th>4572</th>\n",
       "      <td>2011-07-15</td>\n",
       "      <td>‘캠프 캐롤 고엽제 매립 의혹’ 관련, 기지 내외의 한미공동조사...</td>\n",
       "      <td>http://www.me.go.kr/home/web/board/read.do;jse...</td>\n",
       "      <td>./data/20110715_1.txt</td>\n",
       "    </tr>\n",
       "    <tr>\n",
       "      <th>4741</th>\n",
       "      <td>2011-10-11</td>\n",
       "      <td>우리 녹색성장 브랜드 수출 본격화</td>\n",
       "      <td>http://www.me.go.kr/home/web/board/read.do;jse...</td>\n",
       "      <td>./data/20111011_4.txt</td>\n",
       "    </tr>\n",
       "    <tr>\n",
       "      <th>4973</th>\n",
       "      <td>2012-01-31</td>\n",
       "      <td>구제역 매몰지 4/4분기 지하수 수질조사 결과 “침출수 영향 없음”</td>\n",
       "      <td>http://www.me.go.kr/home/web/board/read.do;jse...</td>\n",
       "      <td>./data/20120131_3.txt</td>\n",
       "    </tr>\n",
       "    <tr>\n",
       "      <th>4977</th>\n",
       "      <td>2012-01-31</td>\n",
       "      <td>종량제 시행으로 음식물쓰레기 최대 60%까지 감소</td>\n",
       "      <td>http://www.me.go.kr/home/web/board/read.do;jse...</td>\n",
       "      <td>./data/20120131_5.txt</td>\n",
       "    </tr>\n",
       "    <tr>\n",
       "      <th>4978</th>\n",
       "      <td>2012-01-31</td>\n",
       "      <td>기업형 슈퍼마켓, 2월 1일부터 1회용 비닐쇼핑백 판매 중단</td>\n",
       "      <td>http://www.me.go.kr/home/web/board/read.do;jse...</td>\n",
       "      <td>./data/20120131_2.txt</td>\n",
       "    </tr>\n",
       "  </tbody>\n",
       "</table>\n",
       "</div>"
      ],
      "text/plain": [
       "            date                                   title  \\\n",
       "566   2006-02-20     국립환경과학원에서 2005년도에 수행한 연구사업 관련 요약 자료   \n",
       "568   2006-02-21     국립환경과학원에서 2005년도에 수행한 연구사업 관련 요약 자료   \n",
       "574   2006-02-22     국립환경과학원에서 2005년도에 수행한 연구사업 관련 요약 자료   \n",
       "578   2006-02-23     국립환경과학원에서 2005년도에 수행한 연구사업 관련 요약 자료   \n",
       "2164  2008-07-28                               인사발령 보도자료   \n",
       "4032  2010-12-01                               인사발령 보도자료   \n",
       "4461  2011-06-10  ‘캠프 캐롤 고엽제 매립 의혹’ 관련, 기지 내외의 한미공동조사...   \n",
       "4572  2011-07-15  ‘캠프 캐롤 고엽제 매립 의혹’ 관련, 기지 내외의 한미공동조사...   \n",
       "4741  2011-10-11                      우리 녹색성장 브랜드 수출 본격화   \n",
       "4973  2012-01-31   구제역 매몰지 4/4분기 지하수 수질조사 결과 “침출수 영향 없음”   \n",
       "4977  2012-01-31             종량제 시행으로 음식물쓰레기 최대 60%까지 감소   \n",
       "4978  2012-01-31       기업형 슈퍼마켓, 2월 1일부터 1회용 비닐쇼핑백 판매 중단   \n",
       "\n",
       "                                       content_url_list              file_list  \n",
       "566   http://www.me.go.kr/home/web/board/read.do;jse...  ./data/20060220_2.txt  \n",
       "568   http://www.me.go.kr/home/web/board/read.do;jse...  ./data/20060221_2.txt  \n",
       "574   http://www.me.go.kr/home/web/board/read.do;jse...  ./data/20060222_2.txt  \n",
       "578   http://www.me.go.kr/home/web/board/read.do;jse...  ./data/20060223_5.txt  \n",
       "2164  http://www.me.go.kr/home/web/board/read.do;jse...  ./data/20080728_3.txt  \n",
       "4032  http://www.me.go.kr/home/web/board/read.do;jse...  ./data/20101201_3.txt  \n",
       "4461  http://www.me.go.kr/home/web/board/read.do;jse...  ./data/20110610_3.txt  \n",
       "4572  http://www.me.go.kr/home/web/board/read.do;jse...  ./data/20110715_1.txt  \n",
       "4741  http://www.me.go.kr/home/web/board/read.do;jse...  ./data/20111011_4.txt  \n",
       "4973  http://www.me.go.kr/home/web/board/read.do;jse...  ./data/20120131_3.txt  \n",
       "4977  http://www.me.go.kr/home/web/board/read.do;jse...  ./data/20120131_5.txt  \n",
       "4978  http://www.me.go.kr/home/web/board/read.do;jse...  ./data/20120131_2.txt  "
      ]
     },
     "execution_count": 9,
     "metadata": {},
     "output_type": "execute_result"
    },
    {
     "data": {
      "text/plain": [
       "(10100, 4)"
      ]
     },
     "execution_count": 9,
     "metadata": {},
     "output_type": "execute_result"
    }
   ],
   "source": [
    "idx_result_df[idx_result_df.duplicated(subset=['date','title'])]\n",
    "idx_result_df.shape"
   ]
  },
  {
   "cell_type": "code",
   "execution_count": 10,
   "metadata": {
    "scrolled": true
   },
   "outputs": [
    {
     "data": {
      "text/html": [
       "<div>\n",
       "<style scoped>\n",
       "    .dataframe tbody tr th:only-of-type {\n",
       "        vertical-align: middle;\n",
       "    }\n",
       "\n",
       "    .dataframe tbody tr th {\n",
       "        vertical-align: top;\n",
       "    }\n",
       "\n",
       "    .dataframe thead th {\n",
       "        text-align: right;\n",
       "    }\n",
       "</style>\n",
       "<table border=\"1\" class=\"dataframe\">\n",
       "  <thead>\n",
       "    <tr style=\"text-align: right;\">\n",
       "      <th></th>\n",
       "      <th>date</th>\n",
       "      <th>title</th>\n",
       "      <th>content_url_list</th>\n",
       "      <th>file_list</th>\n",
       "    </tr>\n",
       "  </thead>\n",
       "  <tbody>\n",
       "    <tr>\n",
       "      <th>0</th>\n",
       "      <td>2005-01-03</td>\n",
       "      <td>“분묘훼손 멧돼지”를 「유해조수」로 추가 지정</td>\n",
       "      <td>http://www.me.go.kr/home/web/board/read.do;jse...</td>\n",
       "      <td>./data/20050104_1.txt</td>\n",
       "    </tr>\n",
       "    <tr>\n",
       "      <th>1</th>\n",
       "      <td>2005-01-03</td>\n",
       "      <td>「수도권 대기환경개선에 관한 특별법 시행규칙」 제정</td>\n",
       "      <td>http://www.me.go.kr/home/web/board/read.do;jse...</td>\n",
       "      <td>./data/20050105_1.txt</td>\n",
       "    </tr>\n",
       "    <tr>\n",
       "      <th>2</th>\n",
       "      <td>2005-01-03</td>\n",
       "      <td>음식물류 폐기물 직매립 금지 시행 3일째</td>\n",
       "      <td>http://www.me.go.kr/home/web/board/read.do;jse...</td>\n",
       "      <td>./data/20050106_2.txt</td>\n",
       "    </tr>\n",
       "    <tr>\n",
       "      <th>3</th>\n",
       "      <td>2005-01-04</td>\n",
       "      <td>기후변화와 기업의 대응에 관한 세미나 개최</td>\n",
       "      <td>http://www.me.go.kr/home/web/board/read.do;jse...</td>\n",
       "      <td>./data/20050106_1.txt</td>\n",
       "    </tr>\n",
       "    <tr>\n",
       "      <th>4</th>\n",
       "      <td>2005-01-05</td>\n",
       "      <td>환경부 9급 국가공무원 필기시험 대상자 및 시험장소 공고</td>\n",
       "      <td>http://www.me.go.kr/home/web/board/read.do;jse...</td>\n",
       "      <td>./data/20050107_2.txt</td>\n",
       "    </tr>\n",
       "  </tbody>\n",
       "</table>\n",
       "</div>"
      ],
      "text/plain": [
       "         date                            title  \\\n",
       "0  2005-01-03        “분묘훼손 멧돼지”를 「유해조수」로 추가 지정   \n",
       "1  2005-01-03     「수도권 대기환경개선에 관한 특별법 시행규칙」 제정   \n",
       "2  2005-01-03           음식물류 폐기물 직매립 금지 시행 3일째   \n",
       "3  2005-01-04          기후변화와 기업의 대응에 관한 세미나 개최   \n",
       "4  2005-01-05  환경부 9급 국가공무원 필기시험 대상자 및 시험장소 공고   \n",
       "\n",
       "                                    content_url_list              file_list  \n",
       "0  http://www.me.go.kr/home/web/board/read.do;jse...  ./data/20050104_1.txt  \n",
       "1  http://www.me.go.kr/home/web/board/read.do;jse...  ./data/20050105_1.txt  \n",
       "2  http://www.me.go.kr/home/web/board/read.do;jse...  ./data/20050106_2.txt  \n",
       "3  http://www.me.go.kr/home/web/board/read.do;jse...  ./data/20050106_1.txt  \n",
       "4  http://www.me.go.kr/home/web/board/read.do;jse...  ./data/20050107_2.txt  "
      ]
     },
     "execution_count": 10,
     "metadata": {},
     "output_type": "execute_result"
    },
    {
     "data": {
      "text/html": [
       "<div>\n",
       "<style scoped>\n",
       "    .dataframe tbody tr th:only-of-type {\n",
       "        vertical-align: middle;\n",
       "    }\n",
       "\n",
       "    .dataframe tbody tr th {\n",
       "        vertical-align: top;\n",
       "    }\n",
       "\n",
       "    .dataframe thead th {\n",
       "        text-align: right;\n",
       "    }\n",
       "</style>\n",
       "<table border=\"1\" class=\"dataframe\">\n",
       "  <thead>\n",
       "    <tr style=\"text-align: right;\">\n",
       "      <th></th>\n",
       "      <th>date</th>\n",
       "      <th>title</th>\n",
       "      <th>content_url_list</th>\n",
       "      <th>file_list</th>\n",
       "    </tr>\n",
       "  </thead>\n",
       "  <tbody>\n",
       "    <tr>\n",
       "      <th>0</th>\n",
       "      <td>2005-01-03</td>\n",
       "      <td>“분묘훼손 멧돼지”를 「유해조수」로 추가 지정</td>\n",
       "      <td>http://www.me.go.kr/home/web/board/read.do;jse...</td>\n",
       "      <td>./data/20050104_1.txt</td>\n",
       "    </tr>\n",
       "    <tr>\n",
       "      <th>1</th>\n",
       "      <td>2005-01-03</td>\n",
       "      <td>「수도권 대기환경개선에 관한 특별법 시행규칙」 제정</td>\n",
       "      <td>http://www.me.go.kr/home/web/board/read.do;jse...</td>\n",
       "      <td>./data/20050105_1.txt</td>\n",
       "    </tr>\n",
       "    <tr>\n",
       "      <th>2</th>\n",
       "      <td>2005-01-03</td>\n",
       "      <td>음식물류 폐기물 직매립 금지 시행 3일째</td>\n",
       "      <td>http://www.me.go.kr/home/web/board/read.do;jse...</td>\n",
       "      <td>./data/20050106_2.txt</td>\n",
       "    </tr>\n",
       "    <tr>\n",
       "      <th>3</th>\n",
       "      <td>2005-01-04</td>\n",
       "      <td>기후변화와 기업의 대응에 관한 세미나 개최</td>\n",
       "      <td>http://www.me.go.kr/home/web/board/read.do;jse...</td>\n",
       "      <td>./data/20050106_1.txt</td>\n",
       "    </tr>\n",
       "    <tr>\n",
       "      <th>4</th>\n",
       "      <td>2005-01-05</td>\n",
       "      <td>환경부 9급 국가공무원 필기시험 대상자 및 시험장소 공고</td>\n",
       "      <td>http://www.me.go.kr/home/web/board/read.do;jse...</td>\n",
       "      <td>./data/20050107_2.txt</td>\n",
       "    </tr>\n",
       "  </tbody>\n",
       "</table>\n",
       "</div>"
      ],
      "text/plain": [
       "         date                            title  \\\n",
       "0  2005-01-03        “분묘훼손 멧돼지”를 「유해조수」로 추가 지정   \n",
       "1  2005-01-03     「수도권 대기환경개선에 관한 특별법 시행규칙」 제정   \n",
       "2  2005-01-03           음식물류 폐기물 직매립 금지 시행 3일째   \n",
       "3  2005-01-04          기후변화와 기업의 대응에 관한 세미나 개최   \n",
       "4  2005-01-05  환경부 9급 국가공무원 필기시험 대상자 및 시험장소 공고   \n",
       "\n",
       "                                    content_url_list              file_list  \n",
       "0  http://www.me.go.kr/home/web/board/read.do;jse...  ./data/20050104_1.txt  \n",
       "1  http://www.me.go.kr/home/web/board/read.do;jse...  ./data/20050105_1.txt  \n",
       "2  http://www.me.go.kr/home/web/board/read.do;jse...  ./data/20050106_2.txt  \n",
       "3  http://www.me.go.kr/home/web/board/read.do;jse...  ./data/20050106_1.txt  \n",
       "4  http://www.me.go.kr/home/web/board/read.do;jse...  ./data/20050107_2.txt  "
      ]
     },
     "execution_count": 10,
     "metadata": {},
     "output_type": "execute_result"
    },
    {
     "data": {
      "text/plain": [
       "(10088, 4)"
      ]
     },
     "execution_count": 10,
     "metadata": {},
     "output_type": "execute_result"
    }
   ],
   "source": [
    "# 제목이 같은 항목 삭제 및 마지막 레코드만 남김\n",
    "idx_result_df = idx_result_df.drop_duplicates(subset=['date','title'], keep=\"last\")\n",
    "\n",
    "idx_result_df.head()\n",
    "\n",
    "# 인덱스 파일 인덱스 정리\n",
    "idx_result_df = idx_result_df.reset_index(drop=True)\n",
    "\n",
    "idx_result_df.head()\n",
    "idx_result_df.shape\n",
    "#idx_result_df"
   ]
  },
  {
   "cell_type": "code",
   "execution_count": 12,
   "metadata": {},
   "outputs": [],
   "source": [
    "idx_result_df = idx_result_df.sample(frac=0.3)"
   ]
  },
  {
   "cell_type": "markdown",
   "metadata": {},
   "source": [
    "## 결과저장 디렉토리 생성"
   ]
  },
  {
   "cell_type": "code",
   "execution_count": 11,
   "metadata": {},
   "outputs": [],
   "source": [
    "dirname = './result'\n",
    "if ((os.path.isdir('./' + dirname + '/')) == False):\n",
    "    os.mkdir('./' + dirname + '/')\n",
    "\n",
    "dirname = './noun_recognition'\n",
    "if ((os.path.isdir('./' + dirname + '/')) == False):\n",
    "    os.mkdir('./' + dirname + '/')  \n",
    "    \n",
    "    \n",
    "dirname = './lda_result'\n",
    "if ((os.path.isdir('./' + dirname + '/')) == False):\n",
    "    os.mkdir('./' + dirname + '/')\n",
    "\n",
    "dirname = './doc_trend_result'\n",
    "if ((os.path.isdir('./' + dirname + '/')) == False):\n",
    "    os.mkdir('./' + dirname + '/')\n",
    "\n",
    "dirname = './keyword_frequency_result'\n",
    "if ((os.path.isdir('./' + dirname + '/')) == False):\n",
    "    os.mkdir('./' + dirname + '/')\n",
    "\n",
    "dirname = './keyword_frequency_yearly_basis_result/'\n",
    "if ((os.path.isdir('./' + dirname + '/')) == False):\n",
    "    os.mkdir('./' + dirname + '/')   \n",
    "\n",
    "dirname = './keyword_trend_result'\n",
    "if ((os.path.isdir('./' + dirname + '/')) == False):\n",
    "    os.mkdir('./' + dirname + '/')\n",
    "\n",
    "dirname = './lda_stat'\n",
    "if ((os.path.isdir('./' + dirname + '/')) == False):\n",
    "    os.mkdir('./' + dirname + '/')    \n",
    "\n",
    "dirname = './lda_result'\n",
    "if ((os.path.isdir('./' + dirname + '/')) == False):\n",
    "    os.mkdir('./' + dirname + '/')\n",
    "\n",
    "dirname = './sentence_level_cowords'\n",
    "if ((os.path.isdir('./' + dirname + '/')) == False):\n",
    "    os.mkdir('./' + dirname + '/')\n",
    "\n",
    "dirname = './doc_level_cowords'\n",
    "if ((os.path.isdir('./' + dirname + '/')) == False):\n",
    "    os.mkdir('./' + dirname + '/')\n",
    "\n",
    "dirname = './w2v_result'\n",
    "if ((os.path.isdir('./' + dirname + '/')) == False):\n",
    "    os.mkdir('./' + dirname + '/')\n",
    "\n",
    "dirname = './filtered_sentence_result'\n",
    "if ((os.path.isdir('./' + dirname + '/')) == False):\n",
    "    os.mkdir('./' + dirname + '/')    \n",
    "\n",
    "dirname = './sentence_summary_result'\n",
    "if ((os.path.isdir('./' + dirname + '/')) == False):\n",
    "    os.mkdir('./' + dirname + '/')  "
   ]
  },
  {
   "cell_type": "markdown",
   "metadata": {},
   "source": [
    "##  형태소 분석기 설정 : Customized 트위터 분석기 사용함\n",
    "- from ckonlpy.tag import Twitter : 명사 추가 기능이 추가된 트위터 분석기"
   ]
  },
  {
   "cell_type": "code",
   "execution_count": 30,
   "metadata": {
    "scrolled": false
   },
   "outputs": [
    {
     "name": "stderr",
     "output_type": "stream",
     "text": [
      "C:\\Users\\NFSI172\\Anaconda3\\lib\\site-packages\\konlpy\\tag\\_okt.py:16: UserWarning: \"Twitter\" has changed to \"Okt\" since KoNLPy v0.4.5.\n",
      "  warn('\"Twitter\" has changed to \"Okt\" since KoNLPy v0.4.5.')\n"
     ]
    }
   ],
   "source": [
    "twitter = Twitter()\n",
    "#mecab = Mecab()"
   ]
  },
  {
   "cell_type": "code",
   "execution_count": 31,
   "metadata": {},
   "outputs": [
    {
     "data": {
      "text/plain": [
       "['아버지', '방', '가신']"
      ]
     },
     "execution_count": 31,
     "metadata": {},
     "output_type": "execute_result"
    }
   ],
   "source": [
    "#twitter.pos('아버지가 방에 들어가신다.')\n",
    "twitter.nouns('아버지가 방에 들어가신다.')\n",
    "#mecab.pos('아버지가 방에 들어가신다')"
   ]
  },
  {
   "cell_type": "markdown",
   "metadata": {},
   "source": [
    "## 분석 범위 설정 1 : 날짜 필터링 \n",
    "\n",
    "- 시작 날짜 및 끝 날짜 설정 필요"
   ]
  },
  {
   "cell_type": "code",
   "execution_count": 13,
   "metadata": {},
   "outputs": [
    {
     "data": {
      "text/html": [
       "<div>\n",
       "<style scoped>\n",
       "    .dataframe tbody tr th:only-of-type {\n",
       "        vertical-align: middle;\n",
       "    }\n",
       "\n",
       "    .dataframe tbody tr th {\n",
       "        vertical-align: top;\n",
       "    }\n",
       "\n",
       "    .dataframe thead th {\n",
       "        text-align: right;\n",
       "    }\n",
       "</style>\n",
       "<table border=\"1\" class=\"dataframe\">\n",
       "  <thead>\n",
       "    <tr style=\"text-align: right;\">\n",
       "      <th></th>\n",
       "      <th>date</th>\n",
       "      <th>title</th>\n",
       "      <th>content_url_list</th>\n",
       "      <th>file_list</th>\n",
       "    </tr>\n",
       "  </thead>\n",
       "  <tbody>\n",
       "    <tr>\n",
       "      <th>4404</th>\n",
       "      <td>2011-05-25</td>\n",
       "      <td>누구나 쉽게 국립공원 이용할 수 있도록 탐방로 등급제 만든다</td>\n",
       "      <td>http://www.me.go.kr/home/web/board/read.do;jse...</td>\n",
       "      <td>./data/20110525_3.txt</td>\n",
       "    </tr>\n",
       "    <tr>\n",
       "      <th>3601</th>\n",
       "      <td>2010-06-01</td>\n",
       "      <td>세계 생물권보전지역의 리더 대한민국</td>\n",
       "      <td>http://www.me.go.kr/home/web/board/read.do;jse...</td>\n",
       "      <td>./data/20100603_3.txt</td>\n",
       "    </tr>\n",
       "    <tr>\n",
       "      <th>6340</th>\n",
       "      <td>2013-11-22</td>\n",
       "      <td>환경공단-아프리카 물·위생환경기구, 환경협력 시동</td>\n",
       "      <td>http://www.me.go.kr/home/web/board/read.do;jse...</td>\n",
       "      <td>./data/20131122_2.txt</td>\n",
       "    </tr>\n",
       "    <tr>\n",
       "      <th>543</th>\n",
       "      <td>2006-02-01</td>\n",
       "      <td>하수도 보급률 83%로 선진국 수준</td>\n",
       "      <td>http://www.me.go.kr/home/web/board/read.do;jse...</td>\n",
       "      <td>./data/20060201_1.txt</td>\n",
       "    </tr>\n",
       "    <tr>\n",
       "      <th>5844</th>\n",
       "      <td>2013-03-05</td>\n",
       "      <td>한국환경공단, 세계적 권위의 美 환경상 2년 연속 수상 !</td>\n",
       "      <td>http://www.me.go.kr/home/web/board/read.do;jse...</td>\n",
       "      <td>./data/20130305_1.txt</td>\n",
       "    </tr>\n",
       "  </tbody>\n",
       "</table>\n",
       "</div>"
      ],
      "text/plain": [
       "            date                              title  \\\n",
       "4404  2011-05-25  누구나 쉽게 국립공원 이용할 수 있도록 탐방로 등급제 만든다   \n",
       "3601  2010-06-01                세계 생물권보전지역의 리더 대한민국   \n",
       "6340  2013-11-22        환경공단-아프리카 물·위생환경기구, 환경협력 시동   \n",
       "543   2006-02-01                하수도 보급률 83%로 선진국 수준   \n",
       "5844  2013-03-05   한국환경공단, 세계적 권위의 美 환경상 2년 연속 수상 !   \n",
       "\n",
       "                                       content_url_list              file_list  \n",
       "4404  http://www.me.go.kr/home/web/board/read.do;jse...  ./data/20110525_3.txt  \n",
       "3601  http://www.me.go.kr/home/web/board/read.do;jse...  ./data/20100603_3.txt  \n",
       "6340  http://www.me.go.kr/home/web/board/read.do;jse...  ./data/20131122_2.txt  \n",
       "543   http://www.me.go.kr/home/web/board/read.do;jse...  ./data/20060201_1.txt  \n",
       "5844  http://www.me.go.kr/home/web/board/read.do;jse...  ./data/20130305_1.txt  "
      ]
     },
     "execution_count": 13,
     "metadata": {},
     "output_type": "execute_result"
    },
    {
     "name": "stdout",
     "output_type": "stream",
     "text": [
      "<class 'pandas.core.frame.DataFrame'>\n",
      "Int64Index: 3026 entries, 4404 to 7179\n",
      "Data columns (total 4 columns):\n",
      "date                3026 non-null object\n",
      "title               3026 non-null object\n",
      "content_url_list    3026 non-null object\n",
      "file_list           3026 non-null object\n",
      "dtypes: object(4)\n",
      "memory usage: 118.2+ KB\n"
     ]
    }
   ],
   "source": [
    "idx_result_df.head()\n",
    "idx_result_df.info()"
   ]
  },
  {
   "cell_type": "code",
   "execution_count": 14,
   "metadata": {},
   "outputs": [
    {
     "data": {
      "text/plain": [
       "False    2204\n",
       "True      822\n",
       "Name: date, dtype: int64"
      ]
     },
     "execution_count": 14,
     "metadata": {},
     "output_type": "execute_result"
    }
   ],
   "source": [
    "# 시작 날짜 및 끝 날짜 설정\n",
    "start_date = '2015-01-01'\n",
    "end_date = '2018-12-31'\n",
    "\n",
    "idx_result_df['date'] = pd.to_datetime(idx_result_df['date'])\n",
    "# 날짜에 해당하는 인덱스 내용만 추출\n",
    "\n",
    "dt_idx = (idx_result_df['date'] >= start_date) & (idx_result_df['date'] <= end_date)\n",
    "\n",
    "dt_idx.value_counts()"
   ]
  },
  {
   "cell_type": "code",
   "execution_count": 15,
   "metadata": {},
   "outputs": [
    {
     "data": {
      "text/html": [
       "<div>\n",
       "<style scoped>\n",
       "    .dataframe tbody tr th:only-of-type {\n",
       "        vertical-align: middle;\n",
       "    }\n",
       "\n",
       "    .dataframe tbody tr th {\n",
       "        vertical-align: top;\n",
       "    }\n",
       "\n",
       "    .dataframe thead th {\n",
       "        text-align: right;\n",
       "    }\n",
       "</style>\n",
       "<table border=\"1\" class=\"dataframe\">\n",
       "  <thead>\n",
       "    <tr style=\"text-align: right;\">\n",
       "      <th></th>\n",
       "      <th>date</th>\n",
       "      <th>title</th>\n",
       "      <th>content_url_list</th>\n",
       "      <th>file_list</th>\n",
       "    </tr>\n",
       "  </thead>\n",
       "  <tbody>\n",
       "    <tr>\n",
       "      <th>7460</th>\n",
       "      <td>2015-08-12</td>\n",
       "      <td>환경과학원, 국민 몸속 환경오염물질 노출 수준 조사한다</td>\n",
       "      <td>http://www.me.go.kr/home/web/board/read.do;jse...</td>\n",
       "      <td>./data/20150812_2.txt</td>\n",
       "    </tr>\n",
       "    <tr>\n",
       "      <th>9060</th>\n",
       "      <td>2017-12-22</td>\n",
       "      <td>겨울철 야영장…화재나 가스중독 사고 주의해야</td>\n",
       "      <td>http://www.me.go.kr/home/web/board/read.do;jse...</td>\n",
       "      <td>./data/20171222_3.txt</td>\n",
       "    </tr>\n",
       "    <tr>\n",
       "      <th>7146</th>\n",
       "      <td>2015-02-25</td>\n",
       "      <td>수질오염총량관리제, 2단계 마무리 짓고 3단계 논의</td>\n",
       "      <td>http://www.me.go.kr/home/web/board/read.do;jse...</td>\n",
       "      <td>./data/20150225_1.txt</td>\n",
       "    </tr>\n",
       "  </tbody>\n",
       "</table>\n",
       "</div>"
      ],
      "text/plain": [
       "           date                           title  \\\n",
       "7460 2015-08-12  환경과학원, 국민 몸속 환경오염물질 노출 수준 조사한다   \n",
       "9060 2017-12-22        겨울철 야영장…화재나 가스중독 사고 주의해야   \n",
       "7146 2015-02-25    수질오염총량관리제, 2단계 마무리 짓고 3단계 논의   \n",
       "\n",
       "                                       content_url_list              file_list  \n",
       "7460  http://www.me.go.kr/home/web/board/read.do;jse...  ./data/20150812_2.txt  \n",
       "9060  http://www.me.go.kr/home/web/board/read.do;jse...  ./data/20171222_3.txt  \n",
       "7146  http://www.me.go.kr/home/web/board/read.do;jse...  ./data/20150225_1.txt  "
      ]
     },
     "execution_count": 15,
     "metadata": {},
     "output_type": "execute_result"
    },
    {
     "data": {
      "text/plain": [
       "(822, 4)"
      ]
     },
     "execution_count": 15,
     "metadata": {},
     "output_type": "execute_result"
    },
    {
     "data": {
      "text/plain": [
       "Index(['date', 'title', 'content_url_list', 'file_list'], dtype='object')"
      ]
     },
     "execution_count": 15,
     "metadata": {},
     "output_type": "execute_result"
    },
    {
     "data": {
      "text/html": [
       "<div>\n",
       "<style scoped>\n",
       "    .dataframe tbody tr th:only-of-type {\n",
       "        vertical-align: middle;\n",
       "    }\n",
       "\n",
       "    .dataframe tbody tr th {\n",
       "        vertical-align: top;\n",
       "    }\n",
       "\n",
       "    .dataframe thead th {\n",
       "        text-align: right;\n",
       "    }\n",
       "</style>\n",
       "<table border=\"1\" class=\"dataframe\">\n",
       "  <thead>\n",
       "    <tr style=\"text-align: right;\">\n",
       "      <th></th>\n",
       "      <th>date</th>\n",
       "      <th>title</th>\n",
       "      <th>content_url_list</th>\n",
       "      <th>file_list</th>\n",
       "    </tr>\n",
       "  </thead>\n",
       "  <tbody>\n",
       "    <tr>\n",
       "      <th>0</th>\n",
       "      <td>2015-08-12</td>\n",
       "      <td>환경과학원, 국민 몸속 환경오염물질 노출 수준 조사한다</td>\n",
       "      <td>http://www.me.go.kr/home/web/board/read.do;jse...</td>\n",
       "      <td>./data/20150812_2.txt</td>\n",
       "    </tr>\n",
       "    <tr>\n",
       "      <th>1</th>\n",
       "      <td>2017-12-22</td>\n",
       "      <td>겨울철 야영장…화재나 가스중독 사고 주의해야</td>\n",
       "      <td>http://www.me.go.kr/home/web/board/read.do;jse...</td>\n",
       "      <td>./data/20171222_3.txt</td>\n",
       "    </tr>\n",
       "    <tr>\n",
       "      <th>2</th>\n",
       "      <td>2015-02-25</td>\n",
       "      <td>수질오염총량관리제, 2단계 마무리 짓고 3단계 논의</td>\n",
       "      <td>http://www.me.go.kr/home/web/board/read.do;jse...</td>\n",
       "      <td>./data/20150225_1.txt</td>\n",
       "    </tr>\n",
       "  </tbody>\n",
       "</table>\n",
       "</div>"
      ],
      "text/plain": [
       "        date                           title  \\\n",
       "0 2015-08-12  환경과학원, 국민 몸속 환경오염물질 노출 수준 조사한다   \n",
       "1 2017-12-22        겨울철 야영장…화재나 가스중독 사고 주의해야   \n",
       "2 2015-02-25    수질오염총량관리제, 2단계 마무리 짓고 3단계 논의   \n",
       "\n",
       "                                    content_url_list              file_list  \n",
       "0  http://www.me.go.kr/home/web/board/read.do;jse...  ./data/20150812_2.txt  \n",
       "1  http://www.me.go.kr/home/web/board/read.do;jse...  ./data/20171222_3.txt  \n",
       "2  http://www.me.go.kr/home/web/board/read.do;jse...  ./data/20150225_1.txt  "
      ]
     },
     "execution_count": 15,
     "metadata": {},
     "output_type": "execute_result"
    }
   ],
   "source": [
    "filtered_idx_result_df = idx_result_df.loc[dt_idx]\n",
    "filtered_idx_result_df.head(3)\n",
    "\n",
    "filtered_idx_result_df = filtered_idx_result_df.reset_index(drop=True) \n",
    "# reset_index 명령 사용시에 drop=True 로 설정하면 인덱스 열을 보통의 자료열로 올리는 것이 아니라 그냥 버리게 된다.\n",
    "# index번호를 0 부터 순번으로 indexing하기 위해\n",
    "filtered_idx_result_df.shape\n",
    "filtered_idx_result_df.columns\n",
    "filtered_idx_result_df.head(3)"
   ]
  },
  {
   "cell_type": "markdown",
   "metadata": {},
   "source": [
    "## 분석 범위 설정 2 : 내용 기반 필터링\n",
    "- 정규표현식 기반 문자열 매칭 방식 (예를 들어 '미세먼지'로 필터링을 할경우 '초미세먼지'의 경우에도 '미세먼지' 글자를 포함하므로 필터링에 포함\n",
    "- 전체 문서에서 필요없는 문서 제거(is_del = True) 하거나 특정단어가 들어간 문서만 활용(is_del=False) 설정\n",
    "- 생략할경우 전체문서 사용"
   ]
  },
  {
   "cell_type": "code",
   "execution_count": 16,
   "metadata": {},
   "outputs": [
    {
     "data": {
      "text/plain": [
       "'./data/20150812_2.txt ./data/20171222_3.txt ./data/20150225_1.txt ./data/20151203_3.txt ./data/20151'"
      ]
     },
     "execution_count": 16,
     "metadata": {},
     "output_type": "execute_result"
    }
   ],
   "source": [
    "# is_del = True : 특정단어가 들어간 문서제거, is_del = False : 특정단어가 들어간 문서만 활용\n",
    "\n",
    "is_del = True\n",
    "\n",
    "# 정규표현식 \n",
    "rexp = \"인사발령|공개모집|필기시험|발령|인사 발령|과장|전보 일자|공무원|대변인|국장|승진|공모전|캠프 캐롤|고엽제 매립\"\n",
    "\n",
    "\n",
    "# 정규표현식 기반 문서 필터링\n",
    "\n",
    "file_list = filtered_idx_result_df['file_list'].tolist()\n",
    "' '.join(file_list)[0:100]"
   ]
  },
  {
   "cell_type": "code",
   "execution_count": 17,
   "metadata": {},
   "outputs": [],
   "source": [
    "fidx = []\n",
    "didx = []\n",
    "\n",
    "# 각 파일 문서 내용 체크 및 필터링\n",
    "for i,fn in enumerate(file_list):\n",
    "    \n",
    "    # 각 파일 읽기\n",
    "    f = open(fn, 'r',encoding='utf-8',errors=\"ignore\")\n",
    "    \n",
    "    # 파일을 읽어서 doc변수에 문서내용 저장\n",
    "    doc = f.read()\n",
    "    f.close()\n",
    "    \n",
    "    # 정규표현식 활용 문서 내용 체크\n",
    "    p = re.compile(rexp)\n",
    "    ridx = p.search(doc)\n",
    "\n",
    "    if(ridx == None):\n",
    "        didx.append(i)\n",
    "    else:\n",
    "        fidx.append(i)"
   ]
  },
  {
   "cell_type": "code",
   "execution_count": 18,
   "metadata": {},
   "outputs": [
    {
     "data": {
      "text/plain": [
       "True"
      ]
     },
     "execution_count": 18,
     "metadata": {},
     "output_type": "execute_result"
    },
    {
     "data": {
      "text/plain": [
       "[1, 3, 6, 7, 8, 9, 12, 13, 18, 19]"
      ]
     },
     "execution_count": 18,
     "metadata": {},
     "output_type": "execute_result"
    },
    {
     "data": {
      "text/plain": [
       "[0, 2, 4, 5, 10, 11, 14, 15, 16, 17]"
      ]
     },
     "execution_count": 18,
     "metadata": {},
     "output_type": "execute_result"
    }
   ],
   "source": [
    "is_del\n",
    "didx[0:10]\n",
    "fidx[0:10]"
   ]
  },
  {
   "cell_type": "code",
   "execution_count": 19,
   "metadata": {},
   "outputs": [
    {
     "data": {
      "text/html": [
       "<div>\n",
       "<style scoped>\n",
       "    .dataframe tbody tr th:only-of-type {\n",
       "        vertical-align: middle;\n",
       "    }\n",
       "\n",
       "    .dataframe tbody tr th {\n",
       "        vertical-align: top;\n",
       "    }\n",
       "\n",
       "    .dataframe thead th {\n",
       "        text-align: right;\n",
       "    }\n",
       "</style>\n",
       "<table border=\"1\" class=\"dataframe\">\n",
       "  <thead>\n",
       "    <tr style=\"text-align: right;\">\n",
       "      <th></th>\n",
       "      <th>date</th>\n",
       "      <th>title</th>\n",
       "      <th>content_url_list</th>\n",
       "      <th>file_list</th>\n",
       "    </tr>\n",
       "  </thead>\n",
       "  <tbody>\n",
       "    <tr>\n",
       "      <th>0</th>\n",
       "      <td>2015-08-12</td>\n",
       "      <td>환경과학원, 국민 몸속 환경오염물질 노출 수준 조사한다</td>\n",
       "      <td>http://www.me.go.kr/home/web/board/read.do;jse...</td>\n",
       "      <td>./data/20150812_2.txt</td>\n",
       "    </tr>\n",
       "    <tr>\n",
       "      <th>1</th>\n",
       "      <td>2017-12-22</td>\n",
       "      <td>겨울철 야영장…화재나 가스중독 사고 주의해야</td>\n",
       "      <td>http://www.me.go.kr/home/web/board/read.do;jse...</td>\n",
       "      <td>./data/20171222_3.txt</td>\n",
       "    </tr>\n",
       "    <tr>\n",
       "      <th>2</th>\n",
       "      <td>2015-02-25</td>\n",
       "      <td>수질오염총량관리제, 2단계 마무리 짓고 3단계 논의</td>\n",
       "      <td>http://www.me.go.kr/home/web/board/read.do;jse...</td>\n",
       "      <td>./data/20150225_1.txt</td>\n",
       "    </tr>\n",
       "    <tr>\n",
       "      <th>3</th>\n",
       "      <td>2015-12-03</td>\n",
       "      <td>환경부, 수은 취급사업장 35곳 대상 특별점검 실시</td>\n",
       "      <td>http://www.me.go.kr/home/web/board/read.do;jse...</td>\n",
       "      <td>./data/20151203_3.txt</td>\n",
       "    </tr>\n",
       "    <tr>\n",
       "      <th>4</th>\n",
       "      <td>2015-10-22</td>\n",
       "      <td>전기차 급속충전시설 사용요금, 유류비 대비 40~62% 책정…최종 의견...</td>\n",
       "      <td>http://www.me.go.kr/home/web/board/read.do;jse...</td>\n",
       "      <td>./data/20151022_1.txt</td>\n",
       "    </tr>\n",
       "  </tbody>\n",
       "</table>\n",
       "</div>"
      ],
      "text/plain": [
       "        date                                       title  \\\n",
       "0 2015-08-12              환경과학원, 국민 몸속 환경오염물질 노출 수준 조사한다   \n",
       "1 2017-12-22                    겨울철 야영장…화재나 가스중독 사고 주의해야   \n",
       "2 2015-02-25                수질오염총량관리제, 2단계 마무리 짓고 3단계 논의   \n",
       "3 2015-12-03                환경부, 수은 취급사업장 35곳 대상 특별점검 실시   \n",
       "4 2015-10-22  전기차 급속충전시설 사용요금, 유류비 대비 40~62% 책정…최종 의견...   \n",
       "\n",
       "                                    content_url_list              file_list  \n",
       "0  http://www.me.go.kr/home/web/board/read.do;jse...  ./data/20150812_2.txt  \n",
       "1  http://www.me.go.kr/home/web/board/read.do;jse...  ./data/20171222_3.txt  \n",
       "2  http://www.me.go.kr/home/web/board/read.do;jse...  ./data/20150225_1.txt  \n",
       "3  http://www.me.go.kr/home/web/board/read.do;jse...  ./data/20151203_3.txt  \n",
       "4  http://www.me.go.kr/home/web/board/read.do;jse...  ./data/20151022_1.txt  "
      ]
     },
     "execution_count": 19,
     "metadata": {},
     "output_type": "execute_result"
    },
    {
     "data": {
      "text/plain": [
       "(822, 4)"
      ]
     },
     "execution_count": 19,
     "metadata": {},
     "output_type": "execute_result"
    }
   ],
   "source": [
    "filtered_idx_result_df.head()\n",
    "filtered_idx_result_df.shape"
   ]
  },
  {
   "cell_type": "code",
   "execution_count": 20,
   "metadata": {},
   "outputs": [
    {
     "data": {
      "text/plain": [
       "482"
      ]
     },
     "execution_count": 20,
     "metadata": {},
     "output_type": "execute_result"
    }
   ],
   "source": [
    "len(didx)"
   ]
  },
  {
   "cell_type": "code",
   "execution_count": 21,
   "metadata": {},
   "outputs": [],
   "source": [
    "# 삭제하는 경우\n",
    "if is_del == True:  \n",
    "    filtered_idx_result_df = filtered_idx_result_df.loc[didx]\n",
    "    filtered_idx_result_df = filtered_idx_result_df.reset_index(drop=True)\n",
    "    \n",
    "# 추가하는 경우\n",
    "else :\n",
    "    filtered_idx_result_df = filtered_idx_result_df.loc[fidx]\n",
    "    filtered_idx_result_df = filtered_idx_result_df.reset_index(drop=True)   \n",
    "    \n",
    "# filtered_idx_result_df"
   ]
  },
  {
   "cell_type": "code",
   "execution_count": 22,
   "metadata": {},
   "outputs": [
    {
     "data": {
      "text/html": [
       "<div>\n",
       "<style scoped>\n",
       "    .dataframe tbody tr th:only-of-type {\n",
       "        vertical-align: middle;\n",
       "    }\n",
       "\n",
       "    .dataframe tbody tr th {\n",
       "        vertical-align: top;\n",
       "    }\n",
       "\n",
       "    .dataframe thead th {\n",
       "        text-align: right;\n",
       "    }\n",
       "</style>\n",
       "<table border=\"1\" class=\"dataframe\">\n",
       "  <thead>\n",
       "    <tr style=\"text-align: right;\">\n",
       "      <th></th>\n",
       "      <th>date</th>\n",
       "      <th>title</th>\n",
       "      <th>content_url_list</th>\n",
       "      <th>file_list</th>\n",
       "    </tr>\n",
       "  </thead>\n",
       "  <tbody>\n",
       "    <tr>\n",
       "      <th>0</th>\n",
       "      <td>2017-12-22</td>\n",
       "      <td>겨울철 야영장…화재나 가스중독 사고 주의해야</td>\n",
       "      <td>http://www.me.go.kr/home/web/board/read.do;jse...</td>\n",
       "      <td>./data/20171222_3.txt</td>\n",
       "    </tr>\n",
       "    <tr>\n",
       "      <th>1</th>\n",
       "      <td>2015-12-03</td>\n",
       "      <td>환경부, 수은 취급사업장 35곳 대상 특별점검 실시</td>\n",
       "      <td>http://www.me.go.kr/home/web/board/read.do;jse...</td>\n",
       "      <td>./data/20151203_3.txt</td>\n",
       "    </tr>\n",
       "    <tr>\n",
       "      <th>2</th>\n",
       "      <td>2017-07-24</td>\n",
       "      <td>사자평 고산습지와 무제치늪, 육지화 우려 벗고 국내 대표 생태습지로 거듭나</td>\n",
       "      <td>http://www.me.go.kr/home/web/board/read.do;jse...</td>\n",
       "      <td>./data/20170724_5.txt</td>\n",
       "    </tr>\n",
       "    <tr>\n",
       "      <th>3</th>\n",
       "      <td>2017-07-10</td>\n",
       "      <td>멸종위기종 팔색조, 어린 뱀을 잡아 새끼 키우는 모습 포착</td>\n",
       "      <td>http://www.me.go.kr/home/web/board/read.do;jse...</td>\n",
       "      <td>./data/20170710_2.txt</td>\n",
       "    </tr>\n",
       "    <tr>\n",
       "      <th>4</th>\n",
       "      <td>2018-07-12</td>\n",
       "      <td>온실가스 배출권 할당 총량안 3년간 17억 7,713만 톤</td>\n",
       "      <td>http://www.me.go.kr/home/web/board/read.do;jse...</td>\n",
       "      <td>./data/20180712_4.txt</td>\n",
       "    </tr>\n",
       "  </tbody>\n",
       "</table>\n",
       "</div>"
      ],
      "text/plain": [
       "        date                                      title  \\\n",
       "0 2017-12-22                   겨울철 야영장…화재나 가스중독 사고 주의해야   \n",
       "1 2015-12-03               환경부, 수은 취급사업장 35곳 대상 특별점검 실시   \n",
       "2 2017-07-24  사자평 고산습지와 무제치늪, 육지화 우려 벗고 국내 대표 생태습지로 거듭나   \n",
       "3 2017-07-10           멸종위기종 팔색조, 어린 뱀을 잡아 새끼 키우는 모습 포착   \n",
       "4 2018-07-12           온실가스 배출권 할당 총량안 3년간 17억 7,713만 톤   \n",
       "\n",
       "                                    content_url_list              file_list  \n",
       "0  http://www.me.go.kr/home/web/board/read.do;jse...  ./data/20171222_3.txt  \n",
       "1  http://www.me.go.kr/home/web/board/read.do;jse...  ./data/20151203_3.txt  \n",
       "2  http://www.me.go.kr/home/web/board/read.do;jse...  ./data/20170724_5.txt  \n",
       "3  http://www.me.go.kr/home/web/board/read.do;jse...  ./data/20170710_2.txt  \n",
       "4  http://www.me.go.kr/home/web/board/read.do;jse...  ./data/20180712_4.txt  "
      ]
     },
     "execution_count": 22,
     "metadata": {},
     "output_type": "execute_result"
    },
    {
     "data": {
      "text/plain": [
       "(482, 4)"
      ]
     },
     "execution_count": 22,
     "metadata": {},
     "output_type": "execute_result"
    }
   ],
   "source": [
    "filtered_idx_result_df.head()\n",
    "filtered_idx_result_df.shape"
   ]
  },
  {
   "cell_type": "markdown",
   "metadata": {},
   "source": [
    "## 명사인식 및 명사 추출 (생략 가능)\n",
    "- Out of Vocabuluary Problem\n",
    "- 참고: 서울대학교 산업공학과 김형중 박사 구현 라이브러리(soynlp), 상세사항은 https://github.com/lovit/soynlp 참조)\n",
    "- 코퍼스가 너무 큰 경우에는 사용이 어려움 (한개의 데이터 프레임이 모든 내용을 넣기 때문임, 문서를 나누어서 실행 등의 방법 필요\n",
    "- (예) 네이버 뉴스 20만건 등)"
   ]
  },
  {
   "cell_type": "code",
   "execution_count": 23,
   "metadata": {},
   "outputs": [],
   "source": [
    "# 명사 인식을 위한 사전 준비\n",
    "\n",
    "corpus = [] \n",
    "\n",
    "file_list = idx_result_df['file_list'].tolist()\n",
    "\n",
    "for fn in file_list:\n",
    "    f = open(fn, 'r',encoding='utf-8',errors=\"ignore\")\n",
    "    \n",
    "    # 파일을 읽어서 doc변수에 문서내용 저장\n",
    "    doc = f.read()\n",
    "    doc = doc.replace(\"\\n\",\"\")\n",
    "    corpus.append(\"\".join(doc))\n",
    "\n",
    "corpus = pd.DataFrame(corpus)\n",
    "corpus_fname = './noun_recognition/corpus.txt'\n",
    "corpus.to_csv(corpus_fname, sep=\" \", header=None)"
   ]
  },
  {
   "cell_type": "code",
   "execution_count": 24,
   "metadata": {
    "scrolled": false
   },
   "outputs": [
    {
     "data": {
      "text/plain": [
       "3026"
      ]
     },
     "execution_count": 24,
     "metadata": {},
     "output_type": "execute_result"
    },
    {
     "data": {
      "text/plain": [
       "pandas.core.frame.DataFrame"
      ]
     },
     "execution_count": 24,
     "metadata": {},
     "output_type": "execute_result"
    },
    {
     "data": {
      "text/html": [
       "<div>\n",
       "<style scoped>\n",
       "    .dataframe tbody tr th:only-of-type {\n",
       "        vertical-align: middle;\n",
       "    }\n",
       "\n",
       "    .dataframe tbody tr th {\n",
       "        vertical-align: top;\n",
       "    }\n",
       "\n",
       "    .dataframe thead th {\n",
       "        text-align: right;\n",
       "    }\n",
       "</style>\n",
       "<table border=\"1\" class=\"dataframe\">\n",
       "  <thead>\n",
       "    <tr style=\"text-align: right;\">\n",
       "      <th></th>\n",
       "      <th>0</th>\n",
       "    </tr>\n",
       "  </thead>\n",
       "  <tbody>\n",
       "    <tr>\n",
       "      <th>0</th>\n",
       "      <td>누구나 쉽게 국립공원 이용할 수 있도록 탐방로 등급제 만든다962\"누구나 쉽게 국립...</td>\n",
       "    </tr>\n",
       "    <tr>\n",
       "      <th>1</th>\n",
       "      <td>세계 생물권보전지역의 리더 대한민국\"1,036\"\"세계 생물권보전지역의 리더 대한민국...</td>\n",
       "    </tr>\n",
       "    <tr>\n",
       "      <th>2</th>\n",
       "      <td>\"환경공단-아프리카 물·위생환경기구, 환경협력 시동\"\"4,349\"\"환경공단-아프리카...</td>\n",
       "    </tr>\n",
       "  </tbody>\n",
       "</table>\n",
       "</div>"
      ],
      "text/plain": [
       "                                                   0\n",
       "0  누구나 쉽게 국립공원 이용할 수 있도록 탐방로 등급제 만든다962\"누구나 쉽게 국립...\n",
       "1  세계 생물권보전지역의 리더 대한민국\"1,036\"\"세계 생물권보전지역의 리더 대한민국...\n",
       "2  \"환경공단-아프리카 물·위생환경기구, 환경협력 시동\"\"4,349\"\"환경공단-아프리카..."
      ]
     },
     "execution_count": 24,
     "metadata": {},
     "output_type": "execute_result"
    }
   ],
   "source": [
    "len(corpus)\n",
    "type(corpus)\n",
    "corpus.head(3)"
   ]
  },
  {
   "cell_type": "code",
   "execution_count": 25,
   "metadata": {},
   "outputs": [
    {
     "data": {
      "text/plain": [
       "'./noun_recognition/corpus.txt'"
      ]
     },
     "execution_count": 25,
     "metadata": {},
     "output_type": "execute_result"
    }
   ],
   "source": [
    "corpus_fname"
   ]
  },
  {
   "cell_type": "markdown",
   "metadata": {},
   "source": [
    "# <font color='red'> self-study\n",
    "https://datascienceschool.net/view-notebook/31eaecec4187428a8dfcab5f686bda8b/"
   ]
  },
  {
   "cell_type": "code",
   "execution_count": 38,
   "metadata": {},
   "outputs": [
    {
     "data": {
      "text/plain": [
       "'./noun_recognition/corpus.txt'"
      ]
     },
     "execution_count": 38,
     "metadata": {},
     "output_type": "execute_result"
    }
   ],
   "source": [
    "corpus_fname"
   ]
  },
  {
   "cell_type": "code",
   "execution_count": 26,
   "metadata": {
    "scrolled": true
   },
   "outputs": [
    {
     "name": "stdout",
     "output_type": "stream",
     "text": [
      "[Noun Extractor] use default predictors\n",
      "[Noun Extractor] num features: pos=3929, neg=2321, common=107\n",
      "[Noun Extractor] counting eojeols\n",
      "[EojeolCounter] n eojeol = 231426 from 3143 sents. mem=0.250 Gb                    \n",
      "[Noun Extractor] complete eojeol counter -> lr graph\n",
      "[Noun Extractor] has been trained. #eojeols=904456, mem=0.872 Gb\n",
      "[Noun Extractor] batch prediction was completed for 72912 words\n",
      "[Noun Extractor] checked compounds. discovered 38012 compounds\n",
      "[Noun Extractor] postprocessing detaching_features : 6952 -> 6932\n",
      "[Noun Extractor] postprocessing ignore_features : 6932 -> 6857\n",
      "[Noun Extractor] postprocessing ignore_NJ : 6857 -> 6805\n",
      "[Noun Extractor] 6805 nouns (38012 compounds) with min frequency=10\n",
      "[Noun Extractor] flushing was done. mem=0.997 Gb                    \n",
      "[Noun Extractor] 74.11 % eojeols are covered\n"
     ]
    }
   ],
   "source": [
    "sents = DoublespaceLineCorpus(corpus_fname, iter_sent=True)\n",
    "\n",
    "# 명사 인식기 생성\n",
    "noun_extractor = LRNounExtractor_v2(verbose=True, max_left_length=30, min_num_of_features=20)\n",
    "\n",
    "# 명사 인식기 학습\n",
    "noun_extractor.train(sents)\n",
    "\n",
    "# 명사추출\n",
    "nouns = noun_extractor.extract(min_noun_frequency=10)\n",
    "nouns = list(nouns.keys())\n",
    "noun_list = []\n",
    "\n",
    "# 특수문자 제거 및 불용어 제거 (각 명사에 대해)\n",
    "for w in list(nouns):\n",
    "    w = re.sub('\\'', '', w)\n",
    "    w = re.sub('\\「', '', w)\n",
    "    w = re.sub('\\」', '', w)\n",
    "    w = re.sub(' ', '', w)\n",
    "    if((\".\" in w) | w.endswith(\"?\")):\n",
    "        pass\n",
    "    else:\n",
    "        noun_list.append(w.replace('\\\"', ''))\n",
    "        \n",
    "# 팔요시 파일로 저장, 잘못 인식된 단어가 많으므로 수작업을 통해 필요한 단어 정리 필요\n",
    "nouns_df = pd.DataFrame(noun_list)\n",
    "nouns_df.to_csv(\"./noun_recognition/nouns.csv\",sep=\" \", header=None, index=None)"
   ]
  },
  {
   "cell_type": "code",
   "execution_count": 27,
   "metadata": {},
   "outputs": [
    {
     "data": {
      "text/plain": [
       "(3026, 1)"
      ]
     },
     "execution_count": 27,
     "metadata": {},
     "output_type": "execute_result"
    },
    {
     "data": {
      "text/html": [
       "<div>\n",
       "<style scoped>\n",
       "    .dataframe tbody tr th:only-of-type {\n",
       "        vertical-align: middle;\n",
       "    }\n",
       "\n",
       "    .dataframe tbody tr th {\n",
       "        vertical-align: top;\n",
       "    }\n",
       "\n",
       "    .dataframe thead th {\n",
       "        text-align: right;\n",
       "    }\n",
       "</style>\n",
       "<table border=\"1\" class=\"dataframe\">\n",
       "  <thead>\n",
       "    <tr style=\"text-align: right;\">\n",
       "      <th></th>\n",
       "      <th>0</th>\n",
       "    </tr>\n",
       "  </thead>\n",
       "  <tbody>\n",
       "    <tr>\n",
       "      <th>0</th>\n",
       "      <td>누구나 쉽게 국립공원 이용할 수 있도록 탐방로 등급제 만든다962\"누구나 쉽게 국립...</td>\n",
       "    </tr>\n",
       "    <tr>\n",
       "      <th>1</th>\n",
       "      <td>세계 생물권보전지역의 리더 대한민국\"1,036\"\"세계 생물권보전지역의 리더 대한민국...</td>\n",
       "    </tr>\n",
       "    <tr>\n",
       "      <th>2</th>\n",
       "      <td>\"환경공단-아프리카 물·위생환경기구, 환경협력 시동\"\"4,349\"\"환경공단-아프리카...</td>\n",
       "    </tr>\n",
       "    <tr>\n",
       "      <th>3</th>\n",
       "      <td>하수도 보급률 83%로 선진국 수준\"5,151\"\"하수도 보급률 83%로 선진국 수준...</td>\n",
       "    </tr>\n",
       "    <tr>\n",
       "      <th>4</th>\n",
       "      <td>\"한국환경공단, 세계적 권위의 美 환경상 2년 연속 수상 !\"\"1,227\"\"한국환경...</td>\n",
       "    </tr>\n",
       "  </tbody>\n",
       "</table>\n",
       "</div>"
      ],
      "text/plain": [
       "                                                   0\n",
       "0  누구나 쉽게 국립공원 이용할 수 있도록 탐방로 등급제 만든다962\"누구나 쉽게 국립...\n",
       "1  세계 생물권보전지역의 리더 대한민국\"1,036\"\"세계 생물권보전지역의 리더 대한민국...\n",
       "2  \"환경공단-아프리카 물·위생환경기구, 환경협력 시동\"\"4,349\"\"환경공단-아프리카...\n",
       "3  하수도 보급률 83%로 선진국 수준\"5,151\"\"하수도 보급률 83%로 선진국 수준...\n",
       "4  \"한국환경공단, 세계적 권위의 美 환경상 2년 연속 수상 !\"\"1,227\"\"한국환경..."
      ]
     },
     "execution_count": 27,
     "metadata": {},
     "output_type": "execute_result"
    }
   ],
   "source": [
    "corpus.shape\n",
    "corpus.head()"
   ]
  },
  {
   "cell_type": "code",
   "execution_count": 28,
   "metadata": {},
   "outputs": [
    {
     "data": {
      "text/plain": [
       "(0, './data/20110525_3.txt')"
      ]
     },
     "execution_count": 28,
     "metadata": {},
     "output_type": "execute_result"
    },
    {
     "data": {
      "text/plain": [
       "(1, './data/20100603_3.txt')"
      ]
     },
     "execution_count": 28,
     "metadata": {},
     "output_type": "execute_result"
    },
    {
     "data": {
      "text/plain": [
       "(2, './data/20131122_2.txt')"
      ]
     },
     "execution_count": 28,
     "metadata": {},
     "output_type": "execute_result"
    },
    {
     "data": {
      "text/plain": [
       "(3, './data/20060201_1.txt')"
      ]
     },
     "execution_count": 28,
     "metadata": {},
     "output_type": "execute_result"
    },
    {
     "data": {
      "text/plain": [
       "(4, './data/20130305_1.txt')"
      ]
     },
     "execution_count": 28,
     "metadata": {},
     "output_type": "execute_result"
    }
   ],
   "source": [
    "for i,fn in enumerate(file_list[0:5]):\n",
    "    i, fn"
   ]
  },
  {
   "cell_type": "markdown",
   "metadata": {},
   "source": [
    "## 명사인식 및 명사 추출 (생략 가능, 수작업을 통해 필요한 단어 정리 후)"
   ]
  },
  {
   "cell_type": "code",
   "execution_count": 32,
   "metadata": {},
   "outputs": [],
   "source": [
    "# 정제된 명사 파일을 로드후 형태소 분석기 사전에 넣기 (연구자가 추가할 단어 선정후 refined.nouns.csv 파일로 저장하였음)\n",
    "\n",
    "nouns_df = pd.read_csv(\"./noun_recognition/refined_nouns.csv\",header=None)\n",
    "nouns = nouns_df[0].tolist()\n",
    "twitter.add_dictionary(nouns, 'Noun')"
   ]
  },
  {
   "cell_type": "markdown",
   "metadata": {},
   "source": [
    "## 키워드 빈도수 분석"
   ]
  },
  {
   "cell_type": "code",
   "execution_count": 33,
   "metadata": {},
   "outputs": [],
   "source": [
    "# 옵션 설정 \n",
    "# is_tfidf = False (단순빈도수), is_tfidf = Ture (TF-IDF 사용)\n",
    "\n",
    "is_tfidf = True\n",
    "num = 50\n",
    "\n",
    "corpus = []\n",
    "\n",
    "file_list = filtered_idx_result_df['file_list'].tolist()\n",
    "\n",
    "for fn in file_list:\n",
    "\n",
    "    f = open(fn, 'r',encoding='utf-8',errors=\"ignore\")\n",
    "    doc = f.read()\n",
    "    corpus.append(\" \".join(twitter.nouns(doc)))\n",
    "\n",
    "# Stop word 설정\n",
    "stop_words = [\"전략\", \"연구\", \"평가\", \"마련\", \"조사\", \"관리\", \"보다\", \"관련\",\"전문가\",\"예정\",\"이번\",\"환경부\", \"환경\", \"기술\", \"사업\", \"산업\", \"기업\",\"우리나라\", \"또한\",\n",
    "            \"총회\", \"대한\", \"통해\", \"한국\",\"국내\",\"개최\",\"행사\",\"우수\",\"장관\",\"피해\",\"해외\",\"일자리\",\"박람회\", \"지원\", \"위해\", \"총회\",\"국제\",\"분야\",\"물의\",\"세계\",\n",
    "            \"환경과학\",\"국립\",\"시민\",\"통합\"]\n",
    "\n",
    "stop_words = list(set(stop_words))\n",
    "\n",
    "# ngram_range를 (1,2)를 사용할 경우 unigram 및 bigram 혼합 활용\n",
    "vect = CountVectorizer(stop_words = stop_words,ngram_range=(1, 2),min_df=0.005,max_df=0.3)\n",
    "\n",
    "# Doc-Term Matrix 계산\n",
    "X = vect.fit_transform(corpus)\n",
    "X = TfidfTransformer().fit_transform(X)\n",
    "\n",
    "# 저장 파일 이름 설정\n",
    "fn = \"./keyword_frequency_result/KF_\"\n",
    "if is_tfidf == True:\n",
    "    fn = fn + \"norm_TF.txt\"\n",
    "else :\n",
    "    fn = fn + \"_TF.txt\"\n",
    "\n",
    "# Doc-Term Matrix 각 단어에 대한 합\n",
    "count = X.toarray().sum(axis=0)\n",
    "idx = np.argsort(-count)\n",
    "count = count[idx]\n",
    "\n",
    "feature_name = np.array(vect.get_feature_names())[idx]\n",
    "\n",
    "keyword_list = list(zip(feature_name[:num], count[:num]))\n",
    "\n",
    "result_df = pd.DataFrame(keyword_list)\n",
    "# result_df.to_csv(fn,header=None)\n",
    "# result"
   ]
  },
  {
   "cell_type": "code",
   "execution_count": 34,
   "metadata": {},
   "outputs": [
    {
     "data": {
      "text/plain": [
       "482"
      ]
     },
     "execution_count": 34,
     "metadata": {},
     "output_type": "execute_result"
    },
    {
     "data": {
      "text/plain": [
       "list"
      ]
     },
     "execution_count": 34,
     "metadata": {},
     "output_type": "execute_result"
    }
   ],
   "source": [
    "len(corpus)\n",
    "type(corpus)"
   ]
  },
  {
   "cell_type": "code",
   "execution_count": 35,
   "metadata": {
    "scrolled": true
   },
   "outputs": [
    {
     "data": {
      "text/plain": [
       "['겨울철 야영장 화재 가스중독 사고 주의 텐트 내 연소 기구 전열기 구 사용 자제 자주 환기 월악산 국립공원 야영장 가스 및 연기 경보기 대여 가능 환경부 국립공원 관리 공단 이사장 권 업 은 겨울철 안전 야영 위해 화재 가스 중독 주의 겨울철 야영 기온 때문 야외 활동 줄 실내 연소 기구 사용 거나 취사 경우 화재 발생 및 가스 중독 위험 증가 겨울철 야영 안전 사고 예방 위해 무리 난방 자제 휴대 용 가스 경보기 소화기 사전 준비 환기 자주 환기 시설 텐트 내 전열 기구 사용 경우 화재 발생 수 연소 기구 때 일산화탄소 발생 가스 중독 수 또한 야외 고기 굽 숯 등 방치 취침 경우 연기 텐트 안 수 따라서 사용 숯 완전 제거 국립공원 관리 공단 겨울철 야영 장소 인기 월악산 국립공원 이용 객 대상 안전 사고 예방 활동 월악산 국립공원 사무소 안전 사고 예방 위해 돈재 풀 옵션 야영장 일산화탄소 및 연기 감지기 개별 소화기 배치 전열기 구 사용 제한 차단기 설치 방염 소재 텐트 직접 제작 운영 야영 객 대상 입실 전 안전교육 텐트 내 연소 기구 사용 금지 약속 서명 자동차 야영장 이용 객 대상 가스 감지기 돈재 풀 옵션 야영장 텐트 내부 너 텐트 온수 매트 추가 설치 필요 경우 침 낭도 제공 이임 월악산 국립공원 사무소 장 겨울철 야영 기온 활동 불편 함 안전 수칙 준 수하 설경 감상 수 등 겨울철 낭만 만끽 수 말 자료 사진 전문용어 설명 질의 응답 끝',\n",
       " '환경부 수은 취급 사업 장 곳 대상 특별 점검 실시 환경부 수은 취급 사업 장 곳 대상 특별 점검 실시 주 남영 전구 광주 공장 형광등 생산 시설 철거 중 수은 누 계기 종 업계 대한 일제 지도 점검 환경오염 예방 수은 취급 사업 장 곳 대상 고용노동부 합동 점검 실시 환경부 장관 윤성규 지난 발생 남영 전구 주 광주 공장 형광 램프 생산 설비 철거 작업 자 수은중독 사건 계기 고용노동부 합동 전국 수은 취급 사업 장 곳 대해 일부 터 달 동안 특별 지도 점검 나선 남영 전구 주 광주 공장 형광 램프 생산 설비 철거 공사 중 철거 작업 자가 설비 등 잔류 수은 노출 명 수은중독 증상 산재 신청 이중 명 업무 관련성 인정 명 조사 중 환경부 이번 특별 지도 점검 통해 수은 취급 사업 장의 안전 관리 실태 면밀 점검 수은 유출 화학사 발생 예방 국정 과제 화학물질 사고 예방 대응 사후관리 체계 구축 기여 계획 특별 지도 점검 수은 취급 사업 수은 취급 관리 기준 준 수하 여부 사용 후 발생 수은 폐 유독 물의 무단 투기 불법 매립 여부 공공 수역 유출 토양오염 여부 등 중점 적 점검 확인 위해 인근 우수 수질 토양 시료 우수 맨홀 퇴적물 등 분석 수은 유출 여부 조사 예정 조사 대상 곳 사업 장 수은 취급 양 곳 선정 고용노동부 합동 점검 실시 수은 서부 터 사용 저장 및 폐기물 처리 전 과정 점검 조사 대상 곳 사업 장 화학물질 통계 조사 및 유독 물 영업 허가 사업 장 등 수은 취 급량 사업 장 작업 환경 측정 결과 노출 기준 대비 이상 검 사업 장 기타 전구 제조업 등 사전 검토 통해 선정 고용노동부 안전 보건 상의 조치 기준 준수 여부 작업 환경 측정 특수 건강 진단 실시 여부 및 사후관리 적정 성 파악 작업장 내 수은 노출 수준 직접 측정 중점 점검 내용 유해 화학물질 취급 기준 준수 여부 유해 화학물질 적합 개인 보호 장구 착용 여부 유해 화학물질 관 표시 여부 정기 적 자체 점검 주 이상 실시 여부 지정 폐기물 처리 계획 확인 여부 지정 폐기물 위탁 적 법처 리 및 지정 폐기물 보관 관리 상태 등 중금속 수은 현재 일부 형광등 체온 기 등 사용 먹이사슬 통해 어패류 축적 섭취 경우 미나마타병 등 유발 등 유해 화학물질 엄격 관리 발효 예상 수은 관 미나마타 협약 이후 수은 이용 제품 제조 수출 수입 등 전면 금지 환경부 이번 특별 지도 점검 결과 취약 시설 향후 철거 폐쇄 등 관리 사업 장 수은 취급 시설 안전 철거 주변 환경 조사 포함 환경 안전 관리 침 마련 제도 계획 질의 응답 전문 용어 설명 끝',\n",
       " '사자 평 고산 습지 무제 치늪 육지 화 우려 국내 대표 생태 습지 거듭 부터 추진 복원 사업 효과 풍부 수량 확보 무제 치늪 멸종위기 야생 생물 급 꼬마 잠자리 마리 발견 낙동강 유역 환경청 청장 송형근 은 산지 습지 사자 평 고산 습지 밀양 무제 치늪 울산 이 부터 추진 복원 사업 효과 육지 화 우려 생태 습지 거듭 고 사자 평 고산 습지 밀양시 재약산 부 능선 평탄 곳 형성 습지 물 머 금고 이 탄층 발달 여러 살이 식물 새 군락 발달 멸종위기 야생 생물 급 삵 담비 하늘다람쥐 서식 생물다양성 풍부 일부 터 습지 보호지역 지정 사자 평 고산 습지 등산 객 출입 발자국 압력 답압 이 물 흐름 왜곡 등 점차 육지 화 현상 발생 이 낙동강 유역 환경청 사자 평 고산 습지 훼손 습지 환경 찾기 위해 부터 까지 원 복원 사업 추진 복원 사업 이후 사자 평 고산 습지 올해 극심 가뭄 불구 습지 내 물이 풍부 해지 과거 육지 화 지역 습지 복원 것 확인 또한 새 골풀 등 습지 식물 서식 면적 일부 구간 잠자리 물방개 류 등 서식지 조성 등 습지 내 생물다양성 또 다른 습지 무제 치늪 울산 시 정족산 능선 형성 곳 이삭 개 땅 개 등 다양 습지 식물 멸종위기 야생 생물 급 꼬마 잠자리 서식 생태계 보고 습지 보호지역 지정 이 곳 역시 주변 탐방 의 영향 토사 유입 육상 식물 침범 육 지화 건조 화 현상 발생 마리 까지 발견 꼬마 잠자리 지난해 마리 까지 이 낙동강 유역 환경청 부터 꼬마 잠자리 보호 위해 서식지 복원 사업 추진 무제 치늪 내 골풀 등 습지 식물 물이 곳 나무 가로막 설 치하 물의 흐름 등 서식지 복원 힘 그 결과 올해 무제 치늪 꼬마 잠자리 유충 여 마리 총 마리 암컷 마리 수컷 마리 의 성충 발견 유충 본격 적 성충 말 여 마리 이상 꼬마 잠자리 성충 발견 것 송형근 낙동강 유역 환경청 장 앞 사자 평 고산 습지 무제 치늪 대한 지속 적 관찰 통해 습지 복원 효과 검증 국내 최고 자연자원 보금자리 거듭 게 계획 사자 평 생태 복원 사업 현장 무제 치늪 꼬마 잠자리 전문용어 설명 끝',\n",
       " '멸종위기종 팔색조 뱀 새끼 모습 포착 국립공원 관리 공단 그간 지지 려 해상 팔색조 새끼 행동 습성 확인 환경부 국립공원 관리 공단 이사장 박보환 은 뱀 새끼 등 그간 지지 멸종위기 야생 생물 급 팔색조 의 생태 습성 처 음으로 포착 국립공원 관리 공단 올해 려 해상 국립공원 경남 남해 군 금산 일대 팔색조 관찰 중 뱀 새끼 먹이 모습 최초 촬 영하 데 성공 팔색조 가장 경계 천적 뱀 이나 뱀 팔색조 어미 여 년 전 학술 자료 실제 팔색조 뱀 새끼 먹이 모습 이번 처 음으로 확인 것 팔색조 과거 학술 자료 출처 한국 문화 연구원 김헌 규 팔색조 생태 팔색조 새끼 과정 중 새끼 지렁이 지렁이 형태 곤충 먹이 것 일 반적 이번 관찰 과정 중 팔색조 다른 동물 로부터 새끼 보호 위해 부화 알 껍질 어미 장면 포착 다른 조류 어미 알 껍질 모습 자주 확인 팔색조 관련 기록 뿐 실제 확인 것 이번 처음 팔색조 주요 서식지 려 해상 국립공원 경남 남해 군 금산 일대 숲 울창 습도 먹이 지렁이 풍부 곳 국립공원 관리 공단 남해 군 금산 일대 팔색조 서식 처 음으로 확인 이후 려 해상 국립공원 일대 지속 적 관찰 올해 려 해상 국립공원 속 거제도 학동 마을 동백 숲 서도 쌍 이상 팔색조 번식 것 확인 학동 마을 년대 초 부터 팔색조 번식 확인 곳 국립공원 관리 공단 팔색조 생태 적 습성 대한 지속 적 연구 번식 보호 국립공원 지역 경제 활성화 등 위해 거제도 학동 마을 팔색조 마을 로 만들기 위 사업 추진 팔색조 마을 만들기 사업 학동 마을 팔색조 고장 알리 통한 멸종위기종 생태 관찰 관광 명소 만들기 위 사업 문명 려 해상 국립공원 사무장 려 해상 국립공원 곳곳 여름 철새 팔색조 번식 것 판단 며 공원 내 팔색조 분포 정밀 조사 서식 방해 요인 제거 등 팔색조 보호 앞장 고 팔색조 설명 자료 현황 사진 질의 응답',\n",
       " '온실가스 배출 권 할당 총량안 톤 제 차 계획 기간 국가 배출 권 할당 계획 안 대한 공청회 개최 제 차 계획 기간 배출 권 여 톤 여유 잠정 분석 환경부 장관 김은경 오후 시부 터 서울 서초구 엘 타워 온실가스 배출권거래제 제 차 계획 기간 국가 배출 권 할당 계획 안 이하 할당 계획 안 대한 공청회 개최 온실가스 배출권거래제 발전 사 철강업 체 등 대규모 온실가스 배출 업체 감축 유도 위해 부터 시행 연평 균 온실가스 배출 량 이상인 업체 업체 단위 지정 업체 이상인 사업 장 보유 업체 사업 장 단위 지정 업체 간의 계획 기간 구분 업체 배출 허용 총량 정 각 업체 감축 비용 고려 직접 온실가스 감 축하 거나 배출 권 구 입하 충당 수 통해 국가 전 체적 비용 효과 적 온실가스 감축 이루 지도 록 유연성 부여 차 차 차 부터 단위 이번 공청회 환경부 부터 까지 간인 제 차 계획 기간 배출 허용 총량 톤 설정 공개 예정 이번 공개 할당 계획 계획 기간 중 배출 권 할당 및 거래 관 전 반적 사항 포함 환경부 이번 할당 계획 안 작성 위해 올해 일부 터 까지 관계 부처 협의 산업 계 설명 회 또한 일부 터 사흘 간 업종 별 간담 회 기후변화 에너지 전문가 시민사회 산업 계 지자체 등 여 명 구성 민 관상 설 협의 체 회의 개 최하 등 이해관계자 의견 할당 계획 안 마련 간의 배출 허용 총량 톤 배출 권 할당 기준 시점 해당 업체 배출 량 총 톤 약 국가 온실가스 감축 목표 추기 위해 온실가스 감축 로드맵 수정 보완 내용 반영 결과 최근 산업 부문 성장 세 등 배출 량 증가 전망 고려 온실가스 배출전망치 대비 감축 감축 후 배출 량 톤 업체 배출 권 전부 무상 할당 제 차 계획 기간 달리 이번 계획 기간 발전 사 등 속 개 업종 대해 할당 량 씩 유상 할당 다만 배출권거래제 시행 중인 유럽연합 캘리포니아 기준 국제무역 생산비 용 영향 업종 대해 기존 처럼 배출 권 전량 무상 할당 무역 집약 이상 생산비 용 발생 이상 무역 집약 이상 생산비 용 발생 이상 배출권거래제 법 시행 령 제 철강 반도체 디스플레이 전기 전자 자동차 조선 시멘트 등 업계 기존 처럼 배출 권 전량 무상 할당 유상 할당 시행 발생 수입 중소기업 유상 할당 업체 감축 설비 지원 등 온실가스 감축 산업 혁신 재 투자 예정 또한 배출 권 할당 형평성 등 강화 위 배출 효율 설비 배출 권 할당 과거 활동 자료 량 기반 할당 방식 적용 대상 늘 린다 과거 활동 자료 량 기반 할당 방식 과거 온실가스 배출 량 비례 배출 권 당하 과거 배출 량 기반 할당 방식 고 효율 설비 불 리하 작용 수 점 고려 유럽연합 등 도입 할당 방식 제 차 계획 기간 제 차 계획 기간 동안 과거 활동 자료 량 기반 할당 방식 적용 정유 시멘트 항공 업계 발전 집단 에너지 산업 단지 폐기물 업계 추가 배출 권 거래 시장 활성화 위해 산업 은행 기업은행 등 공적 금융기관 시장 조성자 역할 시장 조성 위 배출 권 물량 제 차 계획 기간 중 배출 권 거래 량 등 고려 톤 정해 이 정부 시장 안정화 조치 별개 시장 유동성 확보 업체 거래 시장 경색 배출 권 구 매하 데 어려움 것 잉여 배출 권 보유 업체 배출 권 매 도하 다음 계획 기간 이월 로써 발생 거래 량 부족 현상 방지 위해 이월 승인 기준 강화 잉여 배출 권 보유 업체 계획 기간 중 순수 매 도량 비례 만 다음 계획 기간 배출 권 이월 수 도록 제 차 계획 기간 중 연평 균 순 매도 량 매도 량 매수 량 만 이월 가능 다만 배출 권 매수 업체 등 배출 실적 정부 제출 수량 우수리 이월 수 도록 예외 적 기준 도 마련 업체 단위 지정 업체 사업 장 단위 지정 업체 환경부 이번 공청회 제시 의견 중 타당 부분 할당 계획 안 반영 계획 할당 계획 할당 위원회 위원장 기획재정부장관 녹색 성장 위원회 위원장 국무총리 민간 위원장 공동 를 달 말 국무회의 심의 통해 최종 확정 예정 한편 제 차 계획 기간 경우 최 종적 약 톤 배출 권 할당 데 배출 권 정산 위해 인증 업체 배출 량 약 톤 잠정 집계 이 할당 량 정도 약 톤 여유 것 분석 또한 기간 동안 상쇄 배출 권 전환 수 외부 사업 감축 실적 약 톤 가량 인증 할당 량 여유 분 톤 외부 감축 실적 톤 중 미사 용 제 차 계획 기간 이월 양은 약 톤 상회 것 산 업계 감축 부담 도움 것 예상 할당 계획 안 주요 내용 및 무상 할당 업종 분류 제 차 계획 기간 배출 권 총수 량 질의 응답 끝',\n",
       " '화학 성분 차이 식물 종 구분 항산화 물질 국립생물자원관 단풍나무 등 자생 식물 종 대사체 분석 통해 과 및 종 구분 수 대표 물질 단풍나무 자작나무 참나무 항산화 효능 물질 나타 환경부 소속 국립생물자원관 식물 화학 성분 분석 통해 단풍나무 등 종 자생 식물 종 구분 데 기여 물질 또한 이 식물 종 함유 항산화 물질 확인 국립생물자원관 부터 최근 까지 이충환 건국대 교수 팀 공동 자생 식물 종 대사체 분석 통해 유사 식물 군 구분 수 대표 물질 대사체 식물 미생물 대사 통해 생 물질 연구 진 단풍나무 복분자딸기 신갈나무 등 자생 식물 종 대사체 분석 데이터 대해 계층 적 군집 분석 그 결과 항산화 물질 퀸산 갈릭 산 틴 카테킨 등 개 물질 식물 개 과 를 구분 수 대표 물질 임 계층 적 군집 분석 까운 개체 끼리 차례 거나 멀리 어진 개체 차례 분 리하 몇 개 집단 분석 법 개 과 단풍나무 자작나무 참나무 콩 국화 장미 퀸산 갈릭 산 틴 유도체 캠 페롤 유도체 등 개 물질 단풍나무 자작나무 참나무 다른 콩 국화 장미 상 대적 함량 나타 예 카테킨 은 국화 틴 은 자작나무 캠 페롤 루티노 사이드 참나무 식물 함량 연 구진 단풍나무 식물 종 구분 수 물질 퀸산 유도체 탄닌 유도체 세로 제닌 유도체 등 종류 대표 물질 연 구진 항산화 효능 대표 물질 상관관계 분석 결과 단풍나무 자작나무 참나무 항산화 물질 나타 단풍나무 자작나무 참나무 항산화 물질 플라보노이드 계열 틴 유도체 및 캠 페롤 유도체 콩 국화 장미 상대 적 함량 확인 단풍나무 식물 중 항산화 효능 가장 나타 신나무 비타민 씨 항산화 효능 물질 메이플 렉신 계열 물질 것 연 구진 이번 연구 결과 국제 적 저명 학술지 몰레큘스 플로 스원 각각 게재 서흥 원 국립생물자원관 생 물자원 활용 부장 식물 고유 물질 식물 분류 유용성 평가 데 중요 정보 자생 식물 활용 성 증대 크게 기여 것 이 라며 이번 연구 한정 앞 다른 자생 식물 연구 대상 계획 자생 식물 종 화학 적 분류 및 항산화 관련 대표 물질 단풍나무 종 구분 대표 물질 및 항산화 물질 질의 응답 전문용어 설명 끝',\n",
       " '목포대 등 그린 캠퍼스 조성 우수 대학 곳 선정 목포대 최우수상 성결대 중원대 우수상 한양대 인천대 장려상 총 원 규모 사업 비 지원 상장 및 현판 전달 환경부 장관 김은경 한국 환경 공단 이사장 전병성 은 년도 그린 캠퍼스 조성 우수 대학교 로 목포대 성결대 중원대 한양대 인천대 등 곳 대학교 선정 이 대학교 올해 경진 대회 통해 선정 목포대 최우수상 성결대 중원대 우수상 한양대 인천대 장려상 각각 환경부 올해 그린 캠퍼스 조성 우수 대학 곳 대한 시상 및 현판 수 여식 서울 중구 에나 스 위트 호텔 개최 최우수상 목포대 전기 수도 가스 사 용량 통합 적 검증 모니터링 수 스마트 플랫폼 운 영하 효율 적 에너지 관리 절감 등 그린 캠퍼스 특화 사업 평가 우수상 성결대 에너지 효율 설비 및 신 재생 에너지 설치 확대 중원대 친환경 실천 위 지역 사회 협력 분야 평가 각각 장려상 선정 한양대 동아리 활동 및 관련 캠페인 실시 인천대 대학 구성원 교육 프로그램 운영 호평 이번 선정 곳 대학 온실가스 감축 위 시설 투자 및 친환경 인식 전환 활동 비용 최우수상 학교 천만 원 우수상 학교 각 원 장려상 학교 각 천만 원 등 총 원 사업 비 지급 환경부 부터 친환경 적 대학 캠퍼스 조성 인재 양성 청년 층 친환경 문화 확산 등 위해 그린 캠퍼스 조성 지원 사업 추진 부터 까지 총 개 대학교 그린 캠퍼스 선정 매년 천만 원 지원 부터 전국 대학 대상 매년 그린 캠퍼스 조성 우수 사례 경진 대회 를 개 최하 그린 캠퍼스 조성 우수 학교 를 선정 지원 김영훈 환경부 기후변화 정책 관 친환경 그린 캠퍼스 조성하 우수 대학 지속 적 발굴 성과 확산 계획 이 라며 대학 지역 사회 중 심축 앞장 친환경 실 천하 지속 가능 사회 실현 역할 것 기대 말 그린 캠퍼스 조성 우수 사례 경진 대회 개요 년도 선정 그린 캠퍼스 조성 우수 대학 그린 캠퍼스 조성 우수 사례 선정 대학 시상식 개요 끝',\n",
       " '환경부 환경 영향 평가 절차 합리화 추진 공장 및 산업 단지 활성화 대책 환경부 환경 영향 평가 절차 합리화 추진 지난 정부 합동 실시 현장 목소리 반영 환경 영향 사업 협의 기간 단축 국가 측정 망 자료 이용 활성화 등 환경부 장관 윤성규 공장 신 증설 및 산업 단지 활성화 위해 평가 보완 절차 개선 소규모 환경 영향 평가 협의 기간 단축 대기 질 및 수질 현장 조사 대체 기준 마련 등 개 주요 규제 개혁 과제 마련 집중 개선 대책 세부 내용 다음 환경 영향 평가 보완 요구 절차 개 선하 협의 기간 단축 현행 협의 기관 승인 기관 환경 영향 평가 보완 요구 승인 기관 사업자 다시 통보 개선 협의 기관 승인 기관 사업자 동시 보완 요구 환경 영향 평가 협의 기간 최소 이상 단축 가능 환경 영향 평가 협의 업무 처리 규정 개정 환경 영향 사업 협의 기간 단축 현행 환경 영향 사업 경우 타 사업 소규모 환경 영향 평가 협의 기간 일로 규정 개선 환경 영향 사업 은 이내 협의 수 도록 시행 령 개정 미만 공장 창고 등 개 사업 환경 영향 평가 협의 기간 최소 이상 단축 가능 환경 영향 평가 법 시행 령 개정 환경 영향 평가 작성 위 현장 조사 대체 수 현행 환경 영향 평가 작성 시 기존 자료 무관 계절 이상 현장 조사 실시 도록 요구 개선 수질 현장 조사 계절 이상 실시 원칙 국가 측정 망 자료 등 신뢰 기존 데이터 경우 현장 조사 대체 수 도록 명확 규정 환경 영향 평가 협의 기간 최소 계절 이상 단축 가능 환경 영향 평가 등 작성 등 관 규정 개정 개발 사업 생태 면적 율 적용 기준 합리 적 개선 현행 산업 단지 공장 조성 때 생태 면적 율 이상 확보 요구 적용 기준 과 도하 민원 제기 생태 면적 율 자연 녹지 공원 투 수성 도로포장 옥상녹화 등 면적 합 전체 개발 면적 개선 산업 단지 조성 등 개발 사업 종류 및 입지 유형 별 생태 면적 율 적용 기준 대한 적정 성 검토 제도 개선 추진 산업 단지 조성 시 사업자 비용 감소 투자 활성화 기대 생태 면적 율 제도 개선 연구 용역 제도 개선 방안 마련 환경부 상기 대책 외 공장 설립 이나 산업 단지 조성 위 환경 영향 평가 절차 합리화 위해 지속 적 노력 협의 기간 장기 화 것 방지 위해 환경 영향 평가 보완 요구 횟수 회로 제한 이행 경우 평가 를 반려 수 도록 등 환경 영향 평가 절차 개 선하 내용 법률 개정안 지난 국회 제출 바 사업 대한 중복 적 주민 의견 수렴 해소 전략 환경 영향 평가 항목 등 공개 절차 생략 환경 영향 평가 보완 조정 횟수 제한 승인 취소 사업 다시 승인 경우 환경 영향 평가 생략 앞 환경부 현장 목소리 귀 환경 영향 평가 제도 운영 과정 제기 불 필요 절차 규정 대하 계속 적 손질 한편 국토 지속 가능 친환경 적 발전 위해 환경 영향 평가 제도 실 효성 산업 단지 및 공장 신 증설 규제 개선 방안 부 주요 개선 대책 현장 사례 부 인포그래픽 부 끝',\n",
       " '유전자 원 접근 및 이익 공유 예시 계약서 설명 회 유전자 원 접근 및 이익 공유 예시 계약서 설명 회 제약 산업 계약서 작성 돕기 위 포럼 개최 제약 산업 계 법조 계 및 학계 등 관련 전문가 정보 교류 통한 제약기업 지원 정책 제시 지난해 나고야 의정서 발표 제약 등 산 업계 유전자 원 접근 및 이익 공유 관 의무 준수 때 필요 예시 계약서 설명 회 열 린다 유전자 원 접근 및 이익 공유 생물다양성 협약 및 나고야 의정서 유전자 원 이용 위해 접근 자 유전자 원 제 공국 사전 통보 승인 이 로부터 발생 이익 상호 합의 조건 공유 함 국립생물자원관 관장 김상배 은 서울시 강남구 타워 강당 제 차 한국 포럼 제약 산업 위 나고야 의정서 예시 계약서 를 개최 이번 포럼 나고야 의정서 발효 당 사국 유전자 원 이용 경우 제약업 계 등 산 업계 유전자 원 접근 및 이익 공유 대한 대응 방안 국정 과제 기후변화 질병 관리 강화 및 생물다양성 보전 기여 위해 마련 포럼 바이오 협회 제약기업 법조 계 학계 등 다양 전문가 참석 나고야 의정서 관련 최신 정보 및 동향 소개 또한 유전자 원 접근 및 이익 공유 대응 방안 예시 계약서 관련 논의 제약 협회 화장품 협회 바이오 협회 회원 대상 나고야 의정서 인식 대한 조사 결과 논의 예정 국립생물자원관 향후 나고야 의정서 당사 국 예시 계약서 사용 일 증가 것 예상 이 대한 대비 시급 것 보고 우리나라 제약 기업 타국 유전자 원 이용 경우 어려움 발생 것 예상 이번 포럼 통해 소개 예시 계약서 어려움 해결 줄 중요 참고자료 활용 것 기대 한국 포럼 나고야 의정서 관련 정부 부처 정보 교류 및 산 학 연 등 정책 논의 장 월부 터 매년 예시 계약서 개요 포럼 개요 포럼 개최 목록 질의 응답 전문 용어 설명 끝',\n",
       " '무료 지하수 수질검사 서비스 신청 환경부 무료 수질검사 정수 장치 보급 등 지원 사업 통해 지하수 사용 농촌 주민 물 안전 확보 농촌 취약 계층 경우 안심 지하수 콜센터 지하수 무료 수질검사 서비스 신청 가능 환경부 장관 조경규 지하수 이용 농촌 지역 취약 계층 주민 물 복지 향상 위해 년도 안심 지하수 사업 실시 취약 계층 기초 생활 수급 자 차 상위 계층 등 경 제적 소외 저 소득 층 안심 지하수 사업 은 농촌 지역 취약 계층 이용 지하수 무료 수질검사 해주 수질 기준 초과 경우 지하수 관정 정수 장치 달 접수 신청 환경부 소속 국립 환경과학 원 운 영하 안심 지하수 콜센터 환경부 지하수 수질검사 이후 기준 초과 가구 대해 토양 지하수 기술 개발 로 제작 농촌 지역 맞춤 형 정수 장치 를 지원 예정 농촌 지역 맞춤 형 정수 장치 농촌 지역 지하수 가축 분뇨 비료 영향 총 대장균 군 질산 성질 소 등 수질 기준 초과 경우 것 고려 총 대장균 질 산성 질소 제거 수 필터 장착 또한 안심 지하수 콜센터 통해 정수 장치 사후관리 지하수 관정 관리 방법 홍보 등 지속 적 수행 그 환경부 농촌 지역 주민 공동 안 전하 사용 수 지하수 공동 시설 개발 등 다양 지원 실시 예정 기존 농촌 지역 사용 지하수 관정 중 수질 수량 만 족하 관정 안심 지하수 로 지정 상수도 보급 곳 살 주민 공동 사용 수 도록 시설 개선 계획 관정 주변 오염원 제거 오염 방지 시설 설치 통한 지하수 수질 개선 추진 이영기 환경부 상 하수도 정책 관 안전 지하수 이용 위해 주 기적 관리 필 요하 실제 농촌 지역 주민 관리 필요성 거나 비용 부담 등 이유 제대로 관 리하 못 실정 이 라며 농촌 지역 대상 안심 지하수 사업 지속 지방 상수도 보급 추진 환경부 지난 지자체 통해 파악 결과 농촌 지역 지하수 물 이용 주민 약 명 나타 지역별 수도권 강원 권 명 충청권 명 전라 권 제주 포함 명 경상 권 명 농촌 지역 지하수 관정 개발 이후 관리 소홀 상태 장기간 사용 경우 지하수 오염 참고 사진 질의 응답 전문용어 설명 끝',\n",
       " '노후 석탄 발전기 기 달 일시 가동 중단 삼천포 호기 등 기 시부 개월 동안 셧다운 내년 부터 노후 석탄 봄철 셧다운 정례 화 노후 석탄 기 까지 모두 폐지 추진 산업부 환경부 가동 중단 전후 미세먼지 변화 효과 공동 측정 산업부 미세먼지 대책 일환 발 전사 협의 이상 노후 석탄 달 가동 정지 계획 가동 정지 대상 삼천포 보령 영동 서천 등 총 기이 호남 호기 지역 내 안정 적 전력 공급 위해 대상 제외 이번 시행 경험 바탕 내년 부터 봄철 노후 석탄 가동 정지 정례 계획 비교 적 전력 비수 기인 봄철 노후 석탄 가동 정지 통해 미세먼지 감축 기여 위 조치 석탄 발전 오염 물질 배출 량 석탄 전체 노후 기 산업부 위해 전기 사업 법 하위 규정 전력 시장 운영 규칙 개정 완료 근거 전기 사업 법 제 제 내용 발전 사의 제한 입찰 근거 마련 효과 분석 산업부 환경부 관계 기관 과 공동 가동 정지 미세먼지 개선 효과 측정 분석 추진 국립 환경과학 원 수도권대기환경청 한국 환경 공단 중부 발전 남동 발전 등 분석 대상 가동 정지 대상 개 발전소 인근 수도권 등 가동 정지 전 후의 미세먼지 농도 변화 측정 분석 발전 사 자체 측정 소 도시 대기 측정 소 이동식 측정 차량 분석 방법 측정 결과 활용 가동 중단 배출 량 변화 통계 적 분석 대기 오염 변화 이동 측정 차량 대기 질 모형 등 통해 분석 긴급 대비 가동 정지 기간 중 혹시 발생 수 전력 수급 비상 대비 언제 긴급 가동 가능 도록 시간 가동 대기 상태 유지 가동 정지 발전소 별로 긴급 운전 필요 명 이상 필수 인력 배치 조기 폐지 노후 석탄 당초 일정 이번 정부 내 모두 폐지 수 도록 사업자 협의 계획 우선 사업자 조기 폐지 준비 온 서천 호기 영동 호기 등 석탄 발전 가동 정지 후 월부 터 폐지 절차 돌입 계획 나머지 전력 수급 지역 경제 영향 사업자 의향 등 감안 폐지 일정 단축 추진 당초 폐지 일정 영동 삼천포 호남 보령 기대 효과 이번 일시 가동 중단 조치 등 통해 석탄 발전 배출 오염 물질 년대 비 올해 감축 것 기대 금년 가동 정지 및 조기 폐지 대비 톤 오염 물질 감축 예상 감축 량 톤 확대 보완 대책 산업부 노후 석탄 일시 가동 중단 조기 폐지 추진 전력 수급 영향 등 면밀 주시 면서 보완 대책 추진 전력 계획 전력 수급 가동 정지 기간 수급 차질 도록 발전기 계획 예방 정비 일정 조정 해 공급 력 충분 확보 봄철 계획 발전기 정비 노후 석탄 가동 정지 기간 피해 정비 시행 협력 업체 정비 연료 역 환경 설비 운영 등 협력 업체 경우 봄철 계획 정비 집중 시행 방법 통해 가동 정지 중 일감 감소 가능성 최소 화 가동 정지 일감 수 협력 업체 인력 계획 정비 업무 배치',\n",
       " '참고 배출 가스 부품 신고 위반 벤츠 판매정지 및 과징금 부과 환경부 장관 조경규 벤츠 코리아 주 등 개 차종 의 배출 가스 부품 인터쿨러 변 경하 면서 환경부 신고 것 대해 판매정지 명령 과징금 약 원 부과 예정 과징금 부과 대한 사전 통지 벤츠 흡입 공기 압 축하 과정 흡입 공기 허용 온도 이상 라가 도록 연소 실 유입 전 냉각 장치 벤츠 코리아 주 해당 차종 인증 월부 터 환경부 변경 인증 신고 인터쿨러 상단 징 냉각수 통로 위치 폭 변경 상태 차량 판 매하 다가 환경부 자진 신고 자발 적 판매 중단 변경 인증 인증 내용 자동차 제작 판매 경우 대기 환경보전 법 판매 정지 판매 액 원 의 해 당하 약 원 과징금 부과 수 벤츠 코리아 주 독일 본사 변경 사항 대한 통보 이루 어짐 배출 가스 부품 변경 인증 신청 해당 부품 변경 접합 부의 실금 발생 방지 용접 강성 증가 위 조치 로서 차량 성능 영향 환경부 그 동안 판매 배출 가스 부품 인터쿨러 문제 것 기 때문 리콜 대상',\n",
       " '국립공원 역사 국립공원 국립공원 관리 공단 역사 자료 대국민 공모 수집 자료 올해 발간 예정 국립공원 역사 수록 환경부 국립공원 관리 공단 이사장 권 업 은 국립공원 국립공원 관리 공단 역사 발간 위해 일부 터 까지 대국민 사료 공모 진행 공모 대상 국립공원 국립공원 관리 공단 역사 관련 사진 발간 물 박물 류 사연 수기 등 해당 자료 소장 국민 전자우편 제공 거나 우편 강원도 원주시 혁신 국립공원 관리 공단 사사 편찬 담당 통해 택배 방 문하 자료 접 수하 수집 자료 중 사료 가치 판단 자료 추첨 통해 소정 사은 품 아이패드 프로 명 백화점 상품권 원 명 국립공원 기념 주화 명 영화관 람 명 제공 자세 내용 국립공원 관리 공단 누리집 확인 수 국립공원 관리 공단 지난해 국립공원 지정 주년 공단 창립 주년 광화문 광장 문화 행사 개최 국립공원 기념 주화 발행 등 다양 기념 행사 개최 바 올해 국립공원 역사 짚 어보 국립공원 준비 위해 지난 월부 터 국립공원 역사 편찬 작업 수행 국립공원 관리 공단 이번 사료 공모 자료 토대 우리나라 국립공원 제도 태동 부터 공단 창립 국립공원 변천사 등 간의 기록 체계 적 정 리하 국립공원 역사 를 제작 예정 국립공원 역사 공단 누리집 과 책자 발간 통해 국민 올해 말 공개 예정 서영교 국립공원 관리 공단 경 영기획 부장 국립공원 역사 적 의미 되새 기고 자 대국민 사료 공모 마련 라며 개인 소장 국립공원 추억 자료 국민 역사 페이지 기록 수 도록 관심 참여 바란 말 사료 공모 포스터 관련 사진 질의 응답 끝',\n",
       " '한국 수자원공사 서울시 도시 홍수 방지 위해 협력 서울시 청서 스마트 도시 홍수 관리 기술 공동 협력 협약 체결 국 지성 집중호우 예측 배수 시스템 연 계해 도시 홍수 대응 환경부 한국 수자원공사 사장 이학수 서울시 오전 서울시 중구 서울시 청 스마트 도시 홍수 관리 기술 공동 협력 협약 체결 한국 수자원공사 스마트 도시 홍수 관리 기술 은 고정 밀 강우 관측 기술 로 취득 강우 정보 도시 배수 시스템 하수도 등 연 계해 돌발 적 도시 홍수 대응 기술 한국 수자원공사 도시 홍수 주요 원인 국 지성 집중호우 대부분 지상 내외 고도 발달 비구름 발생 점 착안 관측 수 고정 밀 강우 관측 기술 지난 부터 개발 그간 국내 강우 관측 설비 산 정상 등 주로 지상 이상 높이 설치 이보 고도 관측 협약 한국 수자원공사 고정 밀 강우 관측 기술 활용 시간 최대 시간 전 까지 집중호우 예측 도시 내 홍수 취약 지역 분석 단위 서울시 공유 계획 또한 이 연 계해 도시 하수도 빗물 펌프 장 등 배수 시스템 현황 빗물 유입 량 등 종합 적 분석 빗물 신속 배 출하 도시 홍수 관리 시스템 서울시 구축 계획 한국 수자원공사 스마트 도시 홍수 관리 기술 의 실용 화 위해 내년 부터 서울시 홍수 관리 시범 적 활용 계획 스마트 시티 국가 시범 도시 선정 부산 에코 델타 시티 이 기술 적용 스마트 시티 상징 적 모델 제시 예정 한국 수자원공사 이번 협약 계기 기존 시설 중심 대응 정부 추진 중인 예방 중심 선 제적 효과 적 국가 재난 관리 시스템 구 축하 데 기여 것 전망 한편 한국 수자원공사 풍수 물 재해 총칭 대응 기술 고도화 교류 위해 일본 방재 기술 전문 기관 교토 대학교 방재 연구소 올해 공동 협력 협약 체결 이학수 한국 수자원공사 사장 기후변화 강우 양상 변 음 앞 도시 홍수 관리 더욱 중요 질 것 이 라며 예방 중심 재난 관리 시스템 구축 통해 사회 적 가치 실현 수 도록 각 지자체 협력 더욱 스마트 도시 홍수 관리 기술 협력 위 협약 식 계획 스마트 도시 홍수 관리 기술 개요 관련 사진 끝',\n",
       " '텐진 폭발사고 저녁 시안 화 나트륨 다량 유출 대기오염 물질 국내 유입 가능성 대비 실시 미세먼지 및 빗물 중 시안 분석 결과 텐진 폭발사고 저녁 시안 화 나트륨 다량 유출 대기오염 물질 국내 유입 가능성 대비 실시 미세먼지 및 빗물 중 시안 분석 결과 배 경 텐진 폭발 오염 물질 한국 유입 가능성 언론보도 관 보도 설명 자료 기 배포 추가 오염 발생 가능성 대비 실시 국내 대기 빗물 중 시안 분석 결과 과학 원 도 국내 오염 영향 것 확인 설명 요지 미세먼지 및 빗물 중 시안 성분 분석 결과 불 검 확인 오염 물질 국내 유입 가능성 미세먼지 시안 분석 수도권 대기오염 집중 측정 소 백령도 서울 불광동 사고 직후 및 채취 미세먼지 개 시료 분석 결과 시안 성분 검 필터 재질 채취 미세먼지 흡수 액 후 발 색시 켜 흡광 분석 기 영역 를 사용 분석 대기 이동 경로 일간 대기 이동 경로 분석 결과 여전 남서 계열 우세 만주 몽골 쪽 이동 사고 직후 발생 오염 물질 이동 경로 기상청 천리안 위성사진 비교 결과 발표 대기 이동 경로 분석 결과 일치 함 영국 우주 국 위성 사진 일치 폭발사고 직후 이후 대기 이동 경로 분석 결과 천리안 위성사진 비교 영국 우주 국 위성 해상 사진 빗물 시안 분석 수도권 지역 개 강우 측정 소 채취 개 빗물 시료 분석 결과 시안 성분 검 서울 불광동 구이 인천 구월동 경기도 이천 안산 향후 조치 계획 진사고 국내 오염 영향 분석 및 모니터링 지속 실시 미세먼지 중 시안 분석 백령도 서울 불광동 및 대기 중 시안 화합물 시안화수소 시료 분석 실시 백령도 과학 원 수도권 지역 강우 채취 중 시안 화합물 분석 향후 강우 시 지속 유해 대기 물질 시안화수소 등 종 등 장거리 이동 대기오염 물질 대한 상시 측정 체계 구축 기재부 등 관계 부처 협의 미세먼지 및 빗물 중 시안 분석 결과 대기 이동 경로 분석 결과 비교 과학 원 기상청 일본 연구 팀 분석 자료 보도 사실 확인 결과',\n",
       " '여름 휴가 철 야외 활동 시 독성 식물 조심 여름 휴가 철 야외 활동 시 독성 식물 조심 여름 휴가 철 산림 초지 등 독버섯 종 출현 늘 독버섯 식용버섯 구분 중독 사고 발생 우려 야외 활동 시 뱀 말벌 등 알레르기 유발 성분 생물 조심 국립공원 관리 공단 이사장 박보환 은 여름 휴가 철 이하 국립공원 야외 활동 인구 급증 함 국립공원 탐방 시 독성 식물 대한 행동 요령 발표 고온 여름철 야영장 주변 이나 산림 등지 자라 독버섯 식용버섯 착각 채 취하 어서 지정 야영지 탐방 를 야외 활동 숲 속 적합 옷 향 화장 용품 사용 시 뱀 이나 벌 경우 생명 위태 울 수도 장마 전후 고온 기후 산림 초지 다양 버섯 대량 수 여건 최근 버섯 건강 식품 관심 야생 버섯 채취 다가 독버섯 중독 사고 경우 종종 버섯 서식지 환경 이나 생장 단계 색 모양 변화 심 채취 버섯 일부 독버섯 수 때문 도록 야생 버섯 말 아야 야영장 주변 발생 독버섯 어린이 등 무심코 수 각별 주의 관심 필 요하 한편 버섯 비롯 야생 식물 허가 채 취하 경우 자연 공원 법 이하 징역 만원 이하 벌금 처 올해 여름 가뭄 장마철 비 내 리지 장마 발생 이로 보통 성묘 철 왕성 활 동하 말벌 달 가량 월부 터 왕성 활동 국립공원 대부분 탐방 시설 물 위치 말 벌집 사전 제거 요즘 처럼 말벌 활동 왕성 시기 시간 내 집 수도 탐방 객 각별 유의 필 요하 야영장 지정 지역 임의 거나 정규 탐방 샛길 등 이용 때 말벌 이나 땅벌 등 기타 벌레 해 입 확률 현저 아지 반드시 지정 지역 탐방 를 이용 말벌 염증 수 국 적 피부 염증 지속 병원 아야 벌집 발견 스스로 제거 기보 국립공원 사무소 소방 연락 벌 자극 려면 최대한 자세 취해 집 제거 이후 벌 소 본능 때문 시간 시간 정도 자기 집 자리 배회 때문 절대 벌집 자리 가지 말 아야 뱀 사고 주의 요한 국립공원 지난 뱀 사고 건 불과 건 모두 휴가 철인 야영장 주변 발생 독사 살모사 류 표적 건강 사람 도 바로 사망 가능성 다만 상태 흥분 산 오거 혈액 순환 증가 독 통상 뱀 물리 시간 내 병원 치료 아야 이 독성 가지 거나 알레르기 식물 대한 주의 필 요하 잎 가시 포름산 쐐기풀 꽃가루 알레르기 환삼덩굴 돼지풀 등 표적 피해 예방 위해 민소매 반바지 소매 바지 지정 탐방 를 이용 것 원색 화려 옷 곤충 유인 수 색상 피해 향수 향 함유 비누 샴푸 로션 것 향수 향 함유 비누 샴푸 로션 향기 민감 곤충 유 인하 벌레 물리 거나 벌 이기 독버섯 식용버섯 대조 사진 부 알레르기 성분 생물 사진 부 질의 응답 부 관련 사진 및 영상 웹하드 게재 끝',\n",
       " '환경 산업 기술 원 대학생 환경 지킴 에코 프렌즈 모집 환경 산업 기술 원 대학생 환경 지킴 에코 프렌즈 모집 친환경 생활 정책 국민 알리 대학생 서포터즈 명 모집 국내 유학 중인 외국인 대학생 포함 우수 활동 팀 환경부 장관 상 및 해외 연수 기회 부여 한국 환경 산업 기술 원 원장 김용주 은 다양 환경 제도 국민 전달 앞장 설 대학생 홍보 서포터즈 에코 프렌즈 를 일부 터 까지 모집 선발 에코 프렌즈 서포터즈 월부 터 까지 약 개 월간 활 동하 환경마크 탄소 성적표 그린카드 환경기술 등 환경 관련 여러 제도 소개 대국민 친환경 소비 생활 알리 역할 환경 관심 내 외국인 대학생 휴학생 포함 이면 누구 지원 가능 서류 전형 면접 총 명 개 팀 이 선발 예정 참여 대학생 명 팀 구 성하 환경 산업 기술 원 누리집 신청서 작성 이메일 로 제 출하 이번 에코 프렌즈 서포터즈 우리나라 유학 중인 외국인 대학생 참여 가능 점 특징 이번 선발 외국인 대학생 해외 기반 소셜네트워크서비스 등 활용 한국 우수 환경기술 환경 제도 등 여러 나라 알 린다 또한 우리나라 개최 다양 국제 환경 행사 참여 외국인 방문객 대상 다양 홍보 활동 환경 산업 기술 원 외국인 대학생 팀 규모 모집 계획 활동 에코 프렌즈 전원 수료증 발급 최우수 팀 환경부 장관 상과 해외 연수 기회 우수 팀 한국 환경 산업 기술 원 원장 상과 장학금 각각 주 어진 지난해 에코 프렌즈 활동 박상준 건국대 학생 또래 친 구들 환경 정책 국민 에코 프렌즈 활동 경험 말 김용주 한국 환경 산업 기술 원 원장 앞 대학생 서포터즈 활동 등 다양 정책 홍보 활동 적극 지원 국민 친환경 생활 문화 조성하 국민 눈높이 환경 정책 홍보 위해 노력 것 말 제 기 에코 프렌즈 서포터즈 운영 개요 모집 공고 포스터 질의 응답 전문 용어 설명 끝',\n",
       " '국립공원 봄철 해빙 기 낙석 위험 구 안전 점검 국립공원 봄철 해빙 기 낙석 위험 구 안전 점검 전국 국립공원 낙석 위험 구 곳 대해 민관 합동 일제 점검 낙석 제거 작업 대적 시행 최근 해빙 기 동안 건의 낙석 사고 발생 국립공원 관리 공단 이사장 박보환 은 봄철 해 빙기 안전 사고 예방 위해 전국 국립공원 낙석 위험 구 곳 대한 안전 점검 나선 이번 안전 점검 지리산 설악산 등 개 국립공원 개 구간 의 탐방 상 급경사 곳 산봉우리 암장 곳 등 낙석 위험 지역 대상 탐방 설치 낙석 방지 시설 안전 난간 등 구 조물 점검 얼음 과정 탐방 주변 바위 균열 등 집중 적 점검 부터 까지 봄철 해빙 기 동안 발생 낙석 사고 총 건 이 중 북한 산 인수 봉 낙석 명 사망 명 부상 당하 사고 발생 국립공원 관리 공단 이번 안전 점검 결과 위험 지역 대해 산악회 민관 합동 낙석 제거 안전 시설 설치 계획 또한 우회 탐방 를 개설 등 탐방 객 안전 사고 예방 즉각 조치 예정 낙석 위험 급경사 중 위험 등급 나 등급 급경사 곳 선적 정비 예정 국립공원 관리 공단 급경사 를 등급 관리 등급 가장 위험 급경사 설악산 곳 오대산 곳 등 총 곳 급경사 관리 현황 매우 곳 곳 보통 곳 위험 곳 매우 위험 곳 국립공원 관리 공단 까지 급경사 곳 모두 연차 적 개선 계획 한편 국립공원 탐방 객 안전 산행 돕기 위해 스마트폰 사물인터넷 기술 접목 비콘 통해 위험 요소 사전 탐방 객 재난 안전 알림 서비스 를 제공 국립공원 산 행정 보 앱 설 치하 재난 안전 알림 서비스 를 수 재난 안전 알림 정보 추락 위험 지역 낙석 발생 우려 지역 낙뢰 다발 구간 급경사 산사태 우려 지역 상습 결빙 지역 등 대상 또한 국립공원 산 행정 보 앱 은 터 안내 탐방 객 안전 수칙 기상특보 발표 시 대피 방법 등 주요 정보 제공 위험 처 때 신속 구조 요청 수 조난 신고 기능 추가 국립공원 관리 공단 봄철 해빙 기 안전 산행 위해 탐방 객 스스로 주의 것 최선 낙석 발생 지역 시기 예측 매우 항상 주변 살피 위험 구간 신속 통과 안내 낙석 외 해 빙기 기온 때문 반드시 보온 의류 눈길 덧신 아이젠 도 준비 노면 탐방 의 경우 낙엽 돌 등 발목 이나 허리 부상 수 음 유의 고혈압 심근경색 등 심혈 관 질 환자 고지 산행 피하 자신 체력 건강 상태 탐방 를 선택 김경 국립공원 관리 공단 안전 방재 처 국립공원 안 전하 탐방 수 도록 위험 요소 사전 점검 등 안전 관리 최선 며 탐방 객 해빙 기 때 발생 가능 안전 사고 유의사항 미리 숙 지하 안전 탐방 수 고 말 국립공원 급경사 관리 현황 최근 낙석 발생 현황 및 해빙 기 안전 사고 현황 낙석 제거 등 안전 점검 현황 사진 질의 응답 전문용어 해설 끝',\n",
       " '월악산 하늘다람쥐 다시 나타 월악산 하늘다람쥐 다시 나타 말 벌집 하늘다람쥐 말벌 집 자연 소멸 사라 다가 인공 둥지 마리 발견 하늘다람쥐 인공 둥지 중 서식 흔적 발견 국립공원 관리 공단 이사장 박보환 은 전 월악산 국립공원 내 말 벌집 살 다가 자취 것 추정 멸종위기종 야생 생물 급 하늘다람쥐 지역 인공 둥지 보금자리 마련 사실 확인 지난 월악산 국립공원 특 이하 비어 말 벌집 살 하늘다람쥐 마리 발견 중 비바람 말 벌집 파손 하늘다람쥐 종적 하늘다람쥐 말 벌집 사라 지자 월악산 국립공원 사무소 소장 신종 서울대 공원 인공 둥지 개 제작 이 일대 설치 하늘다람쥐 서식 여부 관찰 그 결과 지난 처 음으로 개 인공 둥지 중 개 나뭇잎 새 깃털 이용 하늘다람쥐 보금자리 마련 흔적 발견 현재 까지 마리 하늘다람쥐 인공 둥지 장면 포착 하늘다람쥐 몸 길이 꼬리 길이 의 자그 마한 몸집 유난 초롱초롱 눈망울 청설모 포유류 성질 온순 특 유의 비막 이용 행글라이더 처럼 날 나 무사이 이 동하 주로 저녁 무렵 부터 아침 일출 전 까지 행동 때문 관찰 매우 것 비막 활강 비행 육상 척추동물 주로 앞다리 몸통 뒷다리 피부 주름 형성 막 하늘다람쥐 상수리나무 잣나무 곳 이나 순수 침엽수 림 잣나무 숲 자 연적 어진 나무 구멍 딱따구리 구멍 나무껍질 풀잎 나뭇가지 등 보금자리 것 일 반적 하늘다람쥐 천적 피하 기 위해 보통 여러 개 둥지 사용 이번 발견 개 인공 둥지 서식 흔적 모두 이번 발견 하늘다람쥐 사용 것 추정 신종 월악산 국립공원 사무소 소장 서울대 공원 협력 마련 인공 둥지 가수 상태 겨울 하늘다람쥐 서식 적합 설치 것 며 인공 둥지 하늘다람쥐 생태 습성 및 서식 환경 연구 위 기초 자료 활용 수 고 말 월악산 하늘다람쥐 서식 현황 관련 사진 및 영상 환경부 웹하드 게재 예정',\n",
       " '안전 표시 기준 위반 개 위해 우려 제품 회수 조치 환경부 신고 부적합 의심 제품 대한 조사 결과 자가 검사 불 이행 및 표시 기준 위반 개 제품 적발 환경부 장관 김은경 자가 검사 시중 유통 중인 개 업체 개 위해 우려 제품 적발 회수 조치 이 제품 화학물질 등록 및 평가 등 관 법률 이하 화평 법 위해 우려 제품 지정 제품 올해 기간 중 소비자 안전 표시 기준 위반 의심 환경부 신고 제품 중 환경부 조 사하 위반 확인 것 위해 우려 제품 개 품목 세 정제 합성세제 표백제 섬유 유연 제 자동차 용 워셔액 코팅 제 방청제 김 서림 방지 제 접착제 다림질 보조 제 틈새 충 진제 방향 제 탈취 제 물체 탈 염색 제 문신용 염료 인쇄 용 잉크 토너 소독제 방충 제 방부제 살 조제 양초 습기 제거 제 부동액 위해 우려 제품 시장 유통 전 반드시 유해 물질 안전 기준 적합 여부 확 인하 자가 검사 검사 합격 시 부여 자가 검사 번호 제품 표시 유통 하나 이번 회수 조치 개 제품 모두 자가 검사 제품 유통 것 환경부 이 제품 생산 수 입하 개 업체 대하 관할 유역 지방 환경청 통한 판매 금지 회수 명령 조치 완료 관할 수사 기관 중 고발 조치 예정 또한 환경부 이 제품 더 이상 시중 유통 못 도록 이 제품 위해 상품 판매 차단 시스템 일괄 등록 날 사 한국 온라인쇼핑 협회 유통 금지 요청 위해 상품 판매 차단 시스템 위반 제품 바코드 및 상품 명 사진 업체 명 등 제품 정보 등록 통해 대형 유통 매장 및 편의점 등 판매 시점 정보 관리 시스템 운영 매장 판매 차단 시스템 판매 금지 회수 명령 업체 화평 법 제 등 소비자 판매 제품 안전 제품 교환 환불 주어 유통 사 납품 제품 모두 수거 해당 제품 구매 소비자 경우 생산 수입 업체 고객 센터 구매 처 반품 수 해당 제품 정보 초록 누리 사이트 생활환경 안전 정보 시스템 확인 수 환경부 회수 명령 유해 상품 차단 조치 등 불구 미처 회수 못 제품 시장 유통 가능성 보고 이 제품 재 유통 여부 감시 모니터링 계획 또한 소비자 회수조치 이후 해당 제품 구입 거나 판매 중인 제품 발견 경우 생활 화학 제품안전 센터 국민신문고 로 신고 줄 것 안내 환경부 앞 소비자 건강 위해 줄 가능성 안전 표시 기준 위반 제품 대한 지속 적 시장 감시 실시 안전성 조사 강화 위해 우려 제품 국민 불안 해 소하 데 주력 방침 안전 표시 기준 위 반제품 현황 전문용어 설명 끝',\n",
       " '중 생활 분야 온실가스 감축 위해 중 생활 분야 온실가스 감축 위해 그린 터치 그린카드 탄소 포인트 제 등 개 협력 사업 추진 제 차 한중일 환경 장관 회의 계기 베이징 한중 대표 생활 분야 온실가스 감축 협력 사업 양해각서 체결 환경부 장관 윤성규 중 생활 분야 온실가스 감축 위 협력 사업 추진 위해 한국 한국 기후 환경 네트워크 한국 환경 산업 기술 원 한국 환경 공단 과 중국 전국 스모그 퇴치 전략 연맹 협력 기관 간 양해각서 베이징 체결 양해각서 그간 우리나라 상당 온실가스 감축 성과 보이 컴퓨터 절전 형 소프트웨어 그린 터치 보급 녹색 소비 촉진 위 그린카드 전기 가스 수도 등 에너지 절약 위 탄소 포인트 제 등 개 협력 사업 대한 협력 방안 그린 터치 개인 기업 등 그린 터치 만대 보급 및 누적 감축 기준 그린카드 기준 만좌 발급 및 까지 감축 탄소 포인트 제 까지 가구 참여 연간 감축 한중 온실가스 감축 협력 사업 한중 정상회담 공동 성명 환경 기후변화 등 미래 지향 적 협력 사업 발굴 합의 것 일환 시작 최근 중국 생활 분야 온실가스 감축 위해 국민 동참 유도 위 다양 방안 검토 가운데 한국 경제 적 인 센티 브 부여 정책 상당 온실가스 감축 성과 거두 그린 터치 그린카드 탄소 포인트 제 관심 가지 중국 전역 보급 확산 위해 양해각서 체 결하 것 날 양해각서 서명 식 김재옥 한국 기후 환경 네트워크 상임 대표 그린 터치 김필홍 한국 환경 산업 기술 원 친환경 생활 단장 그린카드 안연 순 한국 환경 공단 기후 대기 본부장 탄소 포인트 제 이 중국 리 양 전국 스모그 퇴치 전략 연맹 비서장 양해각서 서명 전직 고위 관료 유관 기관 단체 장 등 배석 한중 온실가스 감축 양해각서 체결 주요 내용 다음 한국 한국 환경 공단 한국 환경 산업 기술 원 한국 기후 환경 네트워크 탄소 포인트 제 그린카드 그린 터치 기술 지원 적극 협력 중국 전국 스모그 방지 퇴치 전략 연맹 중국 유관 정부 기관 기업 금융기관 단체 등 협조 바탕 개 협력 사업 보급 확산 노력 한국 환경부 중국 환경보호 한중 협력 사업 원활 추진 수 도록 적극 지원 필요 경우 관련 정책 반영 계 수 도록 노력 한편 날 회의 양국 대표 한중 온실가스 감축 협력 사업 조기 정착 중국 온실가스 감축 상당 성과 수 바란 고 말 최흥진 환경부 기후 대기 정책 관 온실가스 감축 나라 문제 범 지구 적 공통 해결 과제 이번 한중 온실가스 감축 협력 사업 양해각서 체결 통해 중국 생활 분야 온실가스 감축 도움 수 바란 고 말 온실가스 감축 협력 사업 그간 추진 성과 및 전망 한중 온실가스 감축 협력 사업 체결 계획 질의 응답 전문 용어 설명 끝 행사 관련 사진 환경부 웹하드 게재 예정',\n",
       " '환경부 빈병 재사용 활성화 위해 주류 음료 업계 자발 적 협약 체결 환경부 빈병 재사용 활성화 위해 주류 음료 업계 자발 적 협약 체결 소주 맥주 등 빈병 재사용 촉진 위 표준 용기 사용 확대 무인 회수 기 설치 등 다양 사업 추진 업계 협력 체계 구축 소비자 빈 용기 반환 편 의성 높이 빈 용기 재사용 율 증대 통한 자원 재활용 확대 환경부 장관 윤성규 국정 과제 자원 순환 사회 전환 촉진 위 기반 마련 기여 위해 주류 음료 제조 및 유통업 계 한국 순환 자원 유통 원 센터 등 소주 맥주 등 빈 용기 원활 회수 및 재사용 촉진 빈 용기 보증금 제도 개선 위 자발 적 협약 체결 서울 메리어트 호텔 개 최하 이번 협약 체 결식 윤성규 환경부 장관 최봉홍 새누리당 국회의원 비롯 주류 음료 제조 및 유통업 계 대표 약 여명 참석 빈 용기 재사용 확대 나 가기 위 제도 개선 추진 결의 협약 참여 기관 및 업체 환경부 한국 주류 산업 협회 하이트진로 주 오비맥주 주 주 금복주 대선 주조 주 주 더맥 키스 컴퍼니 주 무학 주 충북 소주 주 한라산 등 주류 업계 롯데 칠성 음료 주 코카콜라 음료 주 주 제주 소주 사 전국 종합 주류 업 중앙회 사 한국 체인 사업 협동조합 사 한국 체인스토어 협회 한국 수퍼마켓 협동조합 연합 회 이마트 롯데 마트 홈플러스 한국 순환 자원 유통 원 센터 이번 자발 적 협약 정부 산 업계 개정 법률 취지 공감 하위 법령 규정 세부 이행 방안 또한 빈 용기 재사용 촉진 조기 이루 기 위 시범 사업 추진 등 공동 노력 고자 내용 의지 포함 자발 적 협약 참여 각 주체 별 역할 과제 다음 환경부 빈 용기 재사용 촉진 성과 달성 위해 정책 적 지원 대국민 홍보 추진 제조 및 유통업 계 빈 용기 원활 회수 소비자 인식 높이 기 위 시범 사업 참여 제조업 계 종이 박스 대신 빈 용기 훼손 회수 용이 플라스틱 박스 판매 확대 재사용 및 환불 표시 강화 표준 라벨 도입 또한 제조 사의 구분 공통 회 수하 사용 수 표준 용기 사용 확대 유통업 계 회수 빈 용기 재사용 촉진 위해 제조업 자별 용량 별 종류 별 분류 및 반환 소비자 빈 용기 반환 편의 성 제공 등 위해 반환 장소 설치 확대 또한 반환 장소 표시 강화 플라스틱 박스 제품 주문 확대 제품 판매 시 제품 가격 보증금 액 별도 표시 통해 소비자 반환 노력 촉진 빈 용기 무인 회수 도입 한국 순환 자원 유통 원 센터 이번 협약 원활 추진 필요 연구 조사 등 지원 환경부 이번 자발 적 협약 체결 통해 빈 용기 보증금 제도 개선 대한 산 업계 긴밀 협조 체계 구축 다양 시범 사업 참여 계기 마련 개정 자원 재활용 법 취지 부합 빈 용기 보증금 제도 개선 방안 본격 적 시작 빈 용기 보증금 제도 발전 계기 것 기대 빈 용기 보증금 제도 소비자 소주 등 빈병 반환 유도 위해 제품 가격 외 빈 용기 별도 보증금 포함 제품 판매 빈 용기 반환 때 소비자 제도 도입 유리 병 회수 재사용 율 높이 데 기여 보증금 제도 대한 소비자 인식 반환 장소 부족 등 소비자 빈 용기 반환 포 기하 사례 증가 문제 해결 자 국회 지난 빈 용기 보증금 제도 개선 위 자원 절약 재활용 촉진 관 법률 이 개정 법 개정 빈 용기 보증금 및 취급 수수료 지급 관리 체계 개선 등 세부 시행 필요 사항 하위 법령 규정 내년 월부 터 시행 빈 용기 보증금 제도 개선 위 자발 적 협약 추진 계획 빈 용기 보증금 제도 개선 위 자발 적 협약 질의 응답 전문 용어 설명 끝',\n",
       " '환경부 년도 예산안 쾌적 안전 생활환경 조성 투자 확대 년도 환경부 예산 및 기금 안 총 원 편성 미세먼지 온실가스 화학물질 등 환경 위해 로부터 안심 환경 조성 지역 밀착 형 생활 정비 집중 투자 환경부 장관 김은경 년도 환경부 예산 및 기금 총 지출 대비 원 증액 원 편성 국회 제출 예정 년도 환경부 예산안 전 년도 원 대비 원 증액 원 기금 대강 수계 기금 원 석면 피해 구제 기금 원 등 전 년도 대비 원 감액 원 편성 내년 환경부 예산안 가장 특징 변화 정책 여건 아지 국민 환경 개선 요구 수준 국민 체감 형 체질 개선 환경 기초 시설 양적 확대 질적 투자 전환 미세먼지 온실가스 및 화학물질 등 국민 불안 요인 대한 투자 강화 잠재 적 위협 선 제적 대응 수 신규 사업 추가 생활환경 안 전망 환경 관리 위 재정 투자가 환경 질 개선 뿐 경제 활성화 일자리 창 기여 도록 편성 예산안 주요 특징 환경 정책 변화 선도 신규 사업 대폭 확대 새정부 환경 정책 전환 방향 아지 국민 환경 질 개선 요구 부응 위 신규 사업 다수 발굴 개 사업 원 규모 개 사업 원 규모 환경 기초 시설 투자 패러다임 전환 상 하수도 사회 간접 자본 은 선진국 수준 보급 률 고려 물 안전 물 복지 격차 해소 등 사회 적 가치 고려 질적 투자 전환 상수도 노후 상수도 현대 화 도 서지역 식수 원 개발 등 지역 밀착 형 생활 투자 중심 확대 원 원 하수도 신설 확충 보수 개량 중심 투자 비중 실 집행 률 고려 효율 화 원 원 순환 경제 사회 조기 구현 위 자원 순환 예산 구조 개혁 생산 소비 단계 폐기물 원천 감량 유 도하 발 생원 관리 예산 재활용 및 관련 산업 촉진 매립 소각 등 최종 처리 시설 최적화 효율 화 중심 투자 방향 전환 예정 국민 불안 위 미세먼지 전 지구 적 위협 온실가스 분야 투자 집중 미세먼지 내년 지하철 역사 대상 실내 미세먼지 개선 사업 착수 수송 및 산업 부문 배출 감 사업 투자 강화 미세먼지 분야 예산 원 원 증가 온실가스 중소 중견 기업 감축 설비 구축 본격 확대 지원 및 폭염 한파 등 기후변화 취약성 감 시범 사업 실시 온실가스 분야 예산 원 원 증가 중점 투자 분야 미세먼지 감 및 피해 예방 원 원 먼저 수송 부문 미세먼지 배출 감 위해 노후 경유 차 조기 폐차 및 운행 차 배출 가스 관리 강화 전기차 수소차 등 친환경 차 보급 확대 위 예산 증액 내년 어린이 통학 차량 승합차 노후 화물차 량 대해 서도 경 유차 액화 석유 스 차로 전환 경우 구매 보조금 지급 계획 수소 버스 보급 위 시범 사업 실시 노후 경유 차 조기 폐차 원 만대 계획 원 만대 어린이 승합차 전환 원 계획 원 노후 화물차 전환 신규 사업 계획 원 전기자동차 보급 및 충전 인프라 확충 원 계획 원 수소 자동차 보급 및 충전 인프라 확충 원 계획 원아 산업 부문 대기오염 배출 사업 장 대한 감시 강화 한편 중소기업 대해 배출 감 시설 설치 지원 내년 이동 차량 드론 활용 사업 장 외부 배출 량 확인 배 출원 추 적하 미세먼지 배출 원 차원 추적 관리 사업 이 시행 소규모 사업 장 사물인터넷 부착 지원 원 계획 원 미세먼지 배출 원 차원 추적 관리 신규 사업 계획 원 소규모 사업 장방 시설 설치 시범 사업 신규 사업 계획 원 생활 부문 저 녹스 보일러 보급 및 도로 재 비산 먼지 감 위 청소 차 보급 확대 지원 내년 전국 주요 지하 역사 미세먼지 개선 사업 신규 추진 가정 용 저 녹스 보일러 보급 원 계획 원 도로 재 비산 먼지 저 감사 업 원 계획 원 지하 역사 미세먼지 개선 사업 신규 사업 계획 원 또한 중국 발 미세먼지 감 대책 일환 중 실증 협력 사업 공동 연구 사업 유지 강화 중 환경 협력 센터 운영 중 대기 질 공동 연구 원 계획 원 중 미세먼지 감 실증 협력 원 계획 원 환 중 환경 협력 센터 신규 사업 계획 그 외 과 학적 신속 예보 체계 구축 위 예산 증액 내년 저 소득 층 민감 계층 대상 미세먼지 마스크 보급 사업 시행 예정 대기오염 측정 망 구축 운영 원 계획 원 미세먼지 범부 처 프로젝트 원 계획 원 미세먼지 건강 피해 저 감사 업 신규 사업 계획 원 화학물질 및 환경 보건 원 올해 개정 가습기 살균제 피해 구제 위 특별법 특별구 제계 정 정부 원 출연 예정 가습기 살균제 참사 재발 방지 독성 시험 분석 역량 강화 위해 유 해성 시험 기관 육성 지원 확대 계획 가습기 살균제 피해자 지원 원 계획 원 화학물질 유 해성 시험 기관 육성 지원 원 계획 원 또한 석면 피해 방지 위해 시행 중인 노후 슬레이트 철거 처리 사업 내년 저 소득 층 대상 개량 비용 지원 슬레이트 관리 종합 대책 원 계획 원 내년 월부 터 생활화 학 제품 및 살생물제 안전 관리 관 법률 이 시행 살생물제 안전성 효능 평가 시설 구축 중소기업 제도 이행 지원 예산 편성 살생물제 안전성 효능 평가 시설 구축 신규 사업 계획 원 중소기업 살생물제 승인 전과 정 지원 신규 사업 계획 원 온실가스 감축 및 기후변화 적응 원 원 온실가스 감축 기반 구축 위해 배출권거래제 참여 업체 및 기관 대상 감축 설비 지원 확대 해외 배출 권 확보 사업 신규 시행 배출권거래제 참여 업체 기관 감축 설비 지원 원 계획 원 환경 기초 시설 탄소 중립 프로그램 원 계획 원 해외 배출 권 확보 사업 신규 사업 계획 원아 폭염 한파 등 기후변화 적응 위해 지역별 기후변화 취약성 감 시범 사업 실시 지역 특화 기후변화 취약성 개선 시범 사업 신규 사업 계획 그 온실가스 저 감형 생활 문화 확산 위해 탄소 포인트 환경부 에코 마일리지 서울시 제도 통합 사업 자동차 탄소 포인트 제 시범 사업 추진 예산 편성 탄소 포인트 제 운영 원 계획 원 지역 밀착 형 생활 원 원 먼저 급수 취약 지역 도 서지역 안전 수돗물 공급 위 시설 설치 지원 예산 노후 상수도 시설 정비 예산 대폭 확대 도 서지역 식수 원 개발 원 계획 원 지방 상수도 현대 화 사업 원 계획 원 고 친환경 차 보급 및 혁신 성장 가속 화 위해 수소차 및 전기차 충전 인프라 확충 계획 전기차 충전 인프라 구축 원 계획 원 수소차 충전 인프라 구축 원 계획 원 이외 국립공원 내 자연 학습장 생태 학습장 및 야영장 정비 등 생활 사업 확대 추진 예정 과 불화 화합물 폐기물 재활용 및 라돈 등 최근 현안 대응 내년 과 불화 화합물 등 물 안전 위협 미량 유해 물질 관리 강화 위해 정수 장 상시 감시 체계 구축 미량 유해 물질 정 수처리 시설 설치 지원 미량 유해 물질 상시 감시 체계 구축 운영 신규 사업 계획 원 미량 유해 물질 정수 설비 설치 신규 사업 계획 원아 자원 순환 사회 전환 촉진 및 재활용 폐기물 수거 중단 등 비상 상황 대응 위해 생활 폐기물 공 공선 별장 대폭 확충 생활 폐기물 재활용 연구개발 사업 신규 추진 앞 발생 량 급격 증가 것 예상 태양광 폐 모듈 전기차 폐 배터리 등 효율 적 재활용 위 거점 수거 센터 구축 착수 생활자 원 회수 센터 확충 원 계획 원 생활 폐기물 재활용 기술 개발 신규 사업 계획 원 미래 자원 거점 수거 센터 구축 신규 사업 계획 원 고 라돈 로부터 국민 불안 해소 위해 내년 신축 공동 주택 조사 및 농 도지역 집중 조사 등 실내 라돈 조사 관리 강화 예정 실내 라돈 관리 대책 원 계획 원 향후 계획 년도 환경부 예산 및 기금 향후 국회 심의 의결 올해 까지 최종 확정 예정 금 승 환경부 정책 기획 관 내년 예산안 국민 체감 수 환경 질 개선 정책 최 우선 라면 국회 심의 확정 집행 단계 최대한 효과 낼 수 도록 사업 준비 만전 기 계획 년도 환경부 예산 및 기금 안 개요 년도 환경부 주요 특색 사업 년도 환경부 신규 사업',\n",
       " '마세라티 기블리 배출 기준 초과 결함 시정 마세라티 기블리 배출 기준 초과 결함 시정 수입 사 주 에프 엠 케이 일부 터 국내 판매 마세라티 기블리 등 연료 분사 개선 위해 리콜 실시 환경부 장관 윤성규 지난 달 마세라티 기블리 대한 배출 가스 검사 결과 탄화수소 제작 차 배출 허용 기준 초과 함 이 차 수입 판 매하 주 에프 엠 케이 일부 터 결함 시정 리콜 실시 결함 시정 대상 차 종은 주 에프 엠 케이 일부 터 까지 수입 판매 마세라티 기블리 를 포함 콰트로 포르테 기블리 모델 이상 휘발유 차 등 총 이 환경부 제작 차 정기 검사 결과 시동 후 공회 전 상태 엔진 회전 수 불 안정 불완전 연소 발생 면서 탄화수소 농도 로 나타 기준 치인 초과 재검사 결과 로 측정 역시 기 준치 이 주 에프 엠 케이 진회 전수 안정화 수 도록 연료 공급 조건 조정 전자 제어장치 프로그램 개선 계획 해당 차량 소유자 일부 터 마세라티 공식 서비스 센터 전자 제어장치 프로그램 개선 조치 무상 수 자세 사항 공식 서비스 센터 전화 로 문의 이번 결함 시정 마세라티 기블리 콰트로 포르테 기블리 이탈리아 스포츠카 전문 제작사 마세라티 제작 승용차 국내 월부 터 판매 이 차량 공 식수 입사 주 에프 엠 케이 부터 지난 까지 국내 수입 판매 마세라티 총 판매량 중 약 를 차 지하 주력 차 종이 질의 응답 전문 용어 설명 끝',\n",
       " '환경과학 원 나사 정지궤도 환경 위성 산출 자료 공유 국립 환경과학 원 미국 항공우주 국 전후 발사 예정 정지궤도 환경 위성 산출 대기 질 정보 공유 위해 업무 협약 체결 환경부 소속 국립 환경과학 원 원장 장윤석 은 새벽 한국 시간 미국 워싱턴 디씨 이스트 스트리트 미국 항공우주 국 이하 나사 본부 발사 예정 정지궤도 환경 위성 산출 자료 공유 공동 연구 위 업무 협약 체결 정지궤도 환경 위성 전후 발사 목표 우리나라 미국 유럽연합 오존 이산화황 등 대기오염 물질 감시 위해 세계 최초 개발 중인 총 대의 환경 위성 의미 정지궤도 위성 지상 약 어진 우주 지구 자전 속도 동일 속도 회전 따라서 지구 도 등분 대의 위성 각각 지구 전역 감시 수 국립 환경과학 원 동아시아 지역 감시 정지궤도 환경 위성 젬스 의 탑재 체 개발 나사 북아메리카 지역 감시 정지궤도 환경 위성 템포 를 개발 중이 한편 유럽연합 유럽 북아프리카 지역 감시 정지궤도 환경 위성 센티널 를 개발 중이 이번 업무 협약 전후 발사 예정 정지궤도 환경 위성 젬스 템포 산 출하 자료 상호 검증 위성 운영 활용 기술 공유 위해 마련 정지궤도 환경 위성 젬스 태양빛 파장 종류 서로 다른 개 파장 별 사진 연산 명령 알고리즘 이산화질소 이산화황 오존 포름알데히드 등 대기 농도 자료 산출 업무 협약 체 결식 장윤석 국립 환경과학 원장 김정수 기후 대기 연구 부장 길버트 커크 햄 나사 본부 국제 협력 중재 사무국 과학부 총괄 부장 켈리 챈스 환경 위성 템포 연구 책임자 등 총 여 명 참석 예정 국립 환경과학 원 이번 업무 협약 통해 나사 보유 선진 기술 공유 통해 세계 적 연구기관 발돋움 것 기대 나사 이하 저궤도 환경 위성 개발 기간 운영 경험 통해 선진 기술 확보 우리나라 정지궤도 환경 위성 젬스 발사 성공 경우 세계 최초 정지궤도 환경 위성 보유 국 로서 환경 위성 연구 선도 적 역할 수행 수 환경 위성 환경부 부터 까지 총 원 이상 예산 투 입하 개발 중이 개 부처 환경부 과학기술 정보통신부 해양수산부 기상청 공동 추진 중인 정지궤도 복합 위성 개발 사업 총 원 해 국립 환경과학 원 이번 업무 협약 제 차 협력 국내 대기 질 공동 조사 연구 이하 대한 추진 방향 계획 등 나사 협의 예정 제 차 대기 질 관측 예보 정확도 향상 환경 위성 젬스 자료 조기 활용 위해 양국 개 기관 여명 연 구진 일부 터 주간 나사 항공기 인공위성 선박 지상 관측 소 등 동원 한반도 대기 질 입체 관측 수행 국립 환경과학 원 국내외 미세먼지 기여 율 유기물질 오존 발생 분포 특성 등 제 차 관측 결과 최종 보고서 나사 공동 작성 중이 상반기 중 공개 계획 제 차 상반기 전후 진행 예정 김상균 국립 환경과학 원 환경 위성 센터 장 이번 업무 협약 체결 통해 양국 간 지속 적 환경 위성 연구 이루 것 이 라며 우리나라 환경 위성 연구 전문성 및 미세먼지 감시 역량 강화 수 기회 것 말 업무 협약 주요 내용 전문용어 설명 질의 응답 끝',\n",
       " '대강 개 보 중 개 보 개방 확대 관측 강화 금강 및 영산강 모든 보 완전 개방 낙동강 개 보 취수 제약 수위 개방 개 완전 개방 개 한강 이포보 개방 농업 용수 등 지역 물 이용 지장 도록 탄력 적 보 개방 추진 금강 영산강 보 처리 방안 한강 낙동강 내년 중 마련 환경부 장관 김은경 지난해 월부 터 추진 대강 개 보 개방 관측 이하 모니터링 올해 월부 터 크게 늘 린다 환경부 그간 대강 개 보 중 개 보 개방 그 영향 모니터링 말 기준 개 보가 개방 완전 개방 개 세종 보 공주보 승촌보 부분 개방 개 강정 고령 달성 합천 창녕 창녕 함안 죽산 보 백제보 수위 회복 개 상주보 관리 수위 회복 중순 이후 금강 개 보 영산강 개 보가 완전 개방 예정 한강 개 보 강 여주 이포 중 이포보 일부 터 처 음으로 개방 낙동강 개 상주 낙단 구미 칠곡 강정보 령 달성 합천 창녕 창녕 함안 보 중 처음 수문 여 구미보 포함 개 보 개방 예정 강정고령보 관리 수위 현재 취 수제 약수 위 유지 칠곡보 이번 개방 계획 제외 대강 조사 평가 단 이하 조사 평가 단 은 취 양수장 제약 수위 및 이용 시기 지하수 이용 등 종합 적 고려 용수 이용 지장 도록 보 개방 수위 기간 정 이번 보 개방 내년 양수장 가동 이전 까지 이후 개방 계획 취 양수장 대책 등 반영 지자체 농민 등 수위 회복 시기 회복 수위 등 협의 추후 수립 예정 보 개방 확대 필요성 및 준비 과정 지난 보 개방 모니터링 중간 평가 결과 클로로필 농도 감소 동식물 서식 환경 개선 등 대강 자연 성 회복 가능성 일부 확인 보 처리 방안 근거 실증 자료 확보 위해 개방 폭 모니터링 기간 확대 필요 지적 이번 보 개방 폭 기간 최대한 확대 이번 개방 계획 유역 지방 환경청 사전 조사 토대 다양 의견 수렴 마련 수계 별 민 관 협의 체 농 어민 등 주민 설명 회 민간 전문가 구성 개 전문 위원회 물 환경 수리 수문 유역 협력 등 지역 사회 전문가 의견 수렴 수계 별 보 개방 계획 모니터링 위해 일부 터 개방 한강 이포보 취 수제 약수 위 까지 개방 예정 이후 동절 기 수막 재배 위해 이포보 수위 계획 내년 말 까지 양수장 대책 완료 등 여건 마련 이후 개방 시기 확대 수 것 기대 조사 평가 단 한강 나머지 강천보 여주보 경우 관리 수위 대형 취 수장 점 고려 개선 조치 이후 개방 계획 검토 예정 낙동강 수계 개 보 중 낙단보 구미보 처 음으로 개방 기존 개방 보 개 상주보 달성보 합천창녕보 창녕함안보 의 수위 강정고령보 현 개방 상태 유지 등 총 개 보가 개방 예정 낙동강 수계 녹조 감 유해 물질 유입 등 비상 상황 시 즉시 조치 등 위해 보 탄력 적 운영 필요 대형 취 양수장 제약 수위 등 보 개방 여건 었다 조사 평가 단 그동안 지역 사회 협의 보별 양수장 가동 종료 시점 등 종합 적 고려 상주보 달성보 창녕함안보 취수 제약 수위 개방 낙단보 구미보 합천창녕보 지하수 위 면밀 모니터링 면서 수문 완전 개방 계획 창녕함안보 경우 일부 터 취수 제약 수위 개방 다가 수막 재배 시작 이전 중순 수위 회복 계획 칠곡보 취 수장 애 우려 올해 개방 곤란 상황 현재 취수 제약 수위 개방 강정고령보 민간 취 수장 이전 협의 및 양수장 개선 조치 등 완료 이후 추가 개방 가능 전망 금강 수계 대강 중 처 음으로 모든 보가 중순 부터 완전 개방 예정 세 종보 지난해 월부 터 최저 수위 유지 공주보 백제 문화제 종료 후 수문 재개 방 최저 수위 도달 조사 평가 단 백제보 인근 지역 농민 지속 적 소통 협력 지난 백제보 개방 추진 업무 협력 협약 를 체결 그 이후 지하수 문제 해결 나 가면 단계 적 완전 개방 계획 백제보 수막 재배 위해 까지 수위 회복 계획 영산강 수계 죽산 보가 추가 개방 나머지 승촌보 포함 개 보 모두 완전 개방 예정 승촌 월부 터 완전 개방 상태 유지 중이 수막 재배 시작 부터 수위 회복 예정 죽 산보 지난해 이후 현재 수위 를 유지 중이 올해 일부 터 최저 수위 로 완전 개방 예정 죽산 보 하류 영산포 선착장 및 선박 이동 위해 일시 적 수위 회복 예정 이번 보 개방 지역 물이 용 생태계 등 지장 주지 방향 추진 주변 지역 주민 수 생태계 대한 영향 최소 위해 목표 수위 수문 점진 적 단계 적 개방 조사 평가 단 보 개방 어류 고립 및 다슬기 폐사 등 발생 도록 우려 지역 대한 모니터링 확대 강화 계획 또한 보 관리자 수자원공사 인근 지자체 주민 등 보 개방 계획 사전 통지 하천 레저 보트 등 활동 대해 사전 경고 조치 현장 순찰 강화 지하수 위 면밀 모니터링 지하수 제약 예상 수위 도달 개방 단계 적 추진 용수 이용 대한 일일 모니터링 및 장애 발생 시 비상조치 등 시행 일정 기간 모니터링 후 문제 발생 시 수위 저하 중단 현장 확인 후 개방 재개 수위 회복 검토 인근 관정 기존 지표 용수 활용 대체 관정 개발 등앞 조사 평가 단 보별 민 관 협의 체 구성 운 영하 지역 밀착 의견 수렴 면서 개별 보 개방 준비 계획 또한 보별 민 관 협의 체 통해 지역 보 개방 진행 및 모니터링 결과 등 정보 공유 추진 상황 점검 모니터링 확대 강화 조사 평가 단 모니터링 대상 분야 추가 개 개 분야 지점 및 항목 확대 등 보 개방 영향 심층 모니터링 계획 개 분야 수질 수생 태 육상 생태 퇴적물 노출 경관 구제 수리 수문 지하수 물이 용 농 어업 하천 시설 구조 물 지류 하천 보 활용 신설 모니터링 지점 지하수 모니터링 항목 물이 용 이용 현황 구조 물 상변 화 등 개 항목 추가 모니터링 과정 시민단체 일반 국민 등 참여 수 도록 민간 모니터링 참여 단 구성 운 영하 모니터링 분석 결과 매월 공개 계획 보 모니터링 종합정보시스템 과 페이스북 등 사회 관계 망 서비스 로 보 개방 및 모니터링 관련 정보 지자체 지역 주민 등 실시간 공유 보 처리 방안 마련 계획 조사 평가 단 그간 보 개방 및 모니터링 결과 토대 올해 금강 및 영산강 수계 개 보 대한 처리 방안 마련 계획 이후 내년 상반기 공청회 등 사회 적 합의 과정 국가 물 관리 위원회 금강 영산강 수계 보 처리 방안 확정 한강 낙동강 경우 보 개방 및 모니터링 추가 확대 이후 내년 중 이 보 처리 방안 마련 계획 년도 하반기 수계 별 개방 계획 대강 보 현황 보 개방 모니터링 확대 계획 주요 항목 모니터링 지점 예시 전문용어 설명 끝',\n",
       " '국립생물자원관 신종 무척추동물 올챙이 새우 류 포함 점 동물 표본 기증 국립생물자원관 신종 무척추동물 올챙이 새우 류 포함 점 동물 표본 기증 신종 학술 논문 보고 기준 표본 종 무척추동물 어류 수서곤충 등 동물 표본 포함 국립생물자원관 김상배 관장 은 이창 목 박사 파주 운정 교사 김영 효 단국대 교수 로부터 신종 올챙이 새우 류 종 포함 자게 쏙 붙이 등 동물 표본 점 지난 기증 이번 기증 동물 표본 단국대학교 연구 진 이창 목 박사 이경숙 교수 강 범준 연구원 이 전국 해안 채집 연구 부터 사이 신종 발표 때 사용 올챙이 새우 류 무척추동물 종 대한 점 기준 표본 포함 기준 표본 신종 발견 학술 논문 기재 발표 때 기준 증거 표본 올챙이 새 우류 수질 환경 변화 예측 수 지표 종 활용 수 이 종 표본 역시 학술 적 가치 매우 것 또한 김영 효 단국대 교수 자게 바다 류 쏙 붙이 등 무척추동물 점 참붕어 등 어류 점 게아재비 등 수서곤충 점 기증 이 표본 단국대 생명과학 학생 연구원 학술 연구 위해 년대 부터 전국 해안 조간대 채집 동정 표본 조간대 바지락 칠 등 동물 서식 조수 간만 차 썰물 때 바닥 곳 동정 채집 표본 형태 적 동일 것 끼리 이 동일 것 발표 논문 기재 종 중 것 일 치하 조 사하 종명 확정 과정 표본 년 전국 다양 지역 채집 표본 이기 때문 국내 기록 종 분포 연구 기후변화 연구 활용 등 국가 생 물자원 체계 적 조사 연구 관리 귀중 자료 것 기대 김상배 국립생물자원관 관장 이번 기증 그동안 해외 기증 기준 표본 국립생물자원관 기증 로써 국내 체계 적 표본 관리 연구자 공유 수 기회 점 의미 말 기준 표본 은주 름 이형 올챙이 새우 및 일반 표본 사진 기준 표본 명단 기증 자 약력 끝',\n",
       " '국립공원 관리 공단 금융감독원 홍보 업무 협약 체결 국립공원 관리 공단 금융감독원 홍보 업무 협약 체결 개방 공유 소통 협력 정부 가치 실현 위해 대국민 홍보 협력 체계 구축 국민 생활 유용 정보 효과 적 전달 국립공원 관리 공단 이사장 박보환 과 금융감독원 원장 진웅 섭 은 서울 영등포구 금융감독원 대국민 홍보 협력 체계 구축 위 업무 협약 체결 양 기관 국민 편익 증진 위해 국립공원 지속 가능 이용 금융 소비자보호 등 대해 대국민 홍보 중 요하 데 공감 이번 협약 마련 이번 업무 협약 서로 특성 다른 업무 수행 양 기관 홍보 매개 상호 협력 로써 개방 공유 소통 협력 추구 정부 의 핵심 가치 실현 주요 협약 내용 양 기관 보유 전광판 사회 관계 망 서비스 누리집 홈페이지 등 온 오프라인 홍보 매체 상호 공유 활용 또한 캠페인 등 현장 행사 때 협업 가능 범위 내 상대 기관 책자 등 홍보물 비치 배포 양 기관 이번 업무 협약 계기 국민 생활 유용 정보 다양 채널 통해 효과 적 전달 국민 국립공원 건강 소 중하 이용 안전 편리 금융 생활 영위 도움 줄 것 기대 앞 국립공원 관리 공단 금융감독원 상호 협의 통해 홍보 매체 공유 지속 적 확대 고 미래세 교육 등 다양 분야 협력 범위 확장 계획 정장훈 국립공원 관리 공단 홍보 실장 이번 업무 협약 계기 국민 도심 속 일상 국립공원 아름 움 가치 수 계기 것 양 기관 홍보 교육 업무 동반 상승 효과 창 것 기대 고 질의 응답 전문용어 설명 끝',\n",
       " '환경기술 연구개발 국민 성과 점검 환경기술 연구개발 국민 성과 점검 환경 산업 기술 원 국민 공감 포럼 및 성과 발표회 개최 국민 배심원 단 등 여명 참석 환경기술 연구개발 중간 성과 점검 및 국민 의견 공유 생활 밀접 환경기술 연구개발 사업 대해 최종 수혜자 국민 중간 성과 점검 발전 방향 모색 자리 마련 한국 환경 산업 기술 원 원장 김용주 은 공공 환경기술 연구개발 사업 성과 공유 국민 필요 환경기술 대한 의견 나누기 위해 서울 서대문구 그랜드 힐튼 호텔 국민 공감 포럼 및 성과 발표회 를 개최 날 발표회 환경부 한국 환경 산업 기술 원 진행 환경기술 개발 사업 중 국민 실생활 밀접 영향 환경 정책 기반 공공 기술 생활 공감 환경 보건 기술 기후변화 대응 환경기술 등 가지 환경기술 개발 사업 성과 또한 국민 대표 자격 참석 환경기술 개발 배심원 단 비롯 정부 전문 기관 환경기술 개발 연구자 등 명 참석 이번 발표회 국민 공감 형 환경기술 개발 발전 방향 해외 사례 공유 위 대국민 토론회 국민 생활 밀접 환경기술 연구개발 사업 대한 현재 까지 성과 대한 소개 구성 대국민 토론회 학계 대표 이상은 한양대 특임 교수 산업 계 대표 권 동명 에코 센스 대표이사 국민 대표 황규 섭 환경기술 개발 국민 배심원 겸 이지 텍 대표 각각 환경기술 연구개발 대한 의견 발표 토론 황규 섭 국민 배심원 약 개월 동안 환경 배심원 단 활 동하 면서 온 환경기술 대한 생각 공유 환경문제 개선 위 국민 역할 공공 환경기술 발전 방향 대해 의견 발표 이 외 김지석 주한 영국 대사관 기후변화 선임 담당 관 영국정부 기후변화 대응 정책 성과 소개 시간 환경기술 성과 발표회 환경 정책 기반 공공 기술 생활 공감 환경 보건 기술 기후변화 대응 환경기술 등 가지 부문 개발 국민 생활 밀접 형 우수 기술 소개 도시 하수도 악취 상황 파악 악취 감 시설 효율 적 설치 수 도록 악취 저 감지 악취 저 감기 술 탈취 제 등 생활화 학용품 안전 사용 위 위 해성 평가 기술 등 총 개 사업 중간 성과 공유 예정 한국 환경 산업 기술 원 이번 행사 통해 국민 환경기술 개발 상황 직접 점검 의견 수요 자 중심 환경기술 개발 실현 계획 김용주 한국 환경 산업 기술 원 원장 무엇 국민 공감 수 환경기술 개발 환경 정책 수립 위해 국민 목소리 항상 귀 수 도록 노력 것 말 공공 환경 국민 공감 포럼 및 성과 발표회 계획 안 공공 환경 사업 개요 질의 응답 주요 용어 설명 끝',\n",
       " '전기차 급속 충전 시설 확충 서울 부산 운행 가능 전기차 급속 충전 시설 확충 서울 부산 운행 가능 서울 부산 목포 등 주요 고속도로 구간 충전 시설 설치 올해 충전 소 고속도로 기 포함 기 설치 일부 터 가동 환경부 장관 윤성규 전기차 장거리 운행 긴급 충전 대비 수 급속 충전 시설 경부 서해안 등 고속도로 휴게소 곳 수도권 경상 권 등 전국 곳 설 치하 일부 터 운행 기 설치 현황 고속도로 수도권 경상 권 전라 권 충청권 강원 권 환경부 전기차 주행 가능 지역 확장 위해 한국 도로공사 올해 설치 분 기 중 고속도로 휴게소 집중 적 설치 급속 충전 시설 간 최 장거리 경부 고속 의 경우 서해 고속도로 경우 이 충전 시설 국내 전기차 평균 주행 거리 약 내 서울 부산 목포 까지 전기차 수 지난해 까지 고속도로 휴게소 설치 급속 충전 시설 서울 경 기권 기 전라 권 기 경 상권 총 불과 전기차 이상 장거리 운행 이번 설치 급속 충전 시설 전기차 차 종별 상이 급속 충전 방식 모두 지원 멀티 형 차 데모 상 콤보 국내 출시 모든 종류 전기차 충전 수 또한 기존 설치 급속 충전 시설 중 이용 시간 제한 시설 대해 시간 이용 가능 곳 이전 설치 작업 말 까지 추진 예정 이번 설치 충전 시설 위치 한국 환경 공단 운 영하 충전 인프라 정보 시스템 확인 가능 고속도로 휴게소 별 충전 시설 설치 여부 도로공사 누리집 서도 확인 수 고속도로 휴게소 설치 현재 이용 가능 나머지 일부 터 이용 수 급속 충전 시설 올해 말 까지 무료 사용 수 부터 유료 전환 계획 급속 충전 시설 이용 요금 월말 까지 결정 예정 환경부 올해 설치 포함 총 개 급속 충전 시설 전 국적 운 영하 까지 총 기 급속 충전 시설 설 치하 전국 어디 전기차 수 충전 인프라 구축 완성 계획 공공 급속 충전 시설 설치 현황 및 계획 공공 급속 충전 시설 설치 지점 질의 응답 전문 용어 설명 끝',\n",
       " '무인도 생태계 파괴 방목 염소 포획 무인도 생태계 파괴 방목 염소 포획 다도해 해상 국립공원 매물도 말 까지 전부 포획 예정 포획 완료 후 자생 식물 섬 생태계 복원 계획 국립공원 관리 공단 이사장 박보환 이 다도해 해상 및 려 해상 국립공원 생태계 보전 위해 이 곳 일대 무인도 등 섬 지역 생태계 파괴 방목 염소 대해 대적 포획 작업 공단 해상 국립공원 속 무인도 매물도 신안군 흑산면 염소 마리 말 까지 전부 포획 예정 대매물도 통영시 한산 염소 마리 올해 연말 까지 포획 계획 공단 이 곳 섬 포함 해상 국립공원 일대 개 섬 여 마리 염소 살 것 추정 이 곳 염소 섬 자생 초본 류 및 후박나무 껍질 뿌리 까지 어치 워 섬 생태계 심각 훼손 염소 포획 방법 염소 스트레스 심각 부상 당하 도록 그물 로프 등 이용 몰이 식 방법 사용 포획 염소 재 방사 조건 원 주인 인계 예정 염소 세계 자연 보전 연맹 이 지정 악성 외래종 해상 국립공원 도 서지역 주민 농가 소득 증대 등 이유 방목 염소 수용 한계 이상 증식 이 염소 식물상 변화 서식 종 수의 감소 토양 유실 및 수목 피해 등 생태계 영향 이유 국립 환경과학 원 섬 지역 방목 염소 생태계 위해 성 급 종 분류 공단 년도 부터 까지 해상 국립공원 일대 섬 마리 염소 포획 바 최종 관 다도해 해상 국립공원 서부 사무소 소장 앞 유 무인도 생태계 건강 성 유지 위해 섬 지역 염소 포획 지속 적 추진 포획 완료 섬 자생 식물 등 생태계 복원 위해 힘 고 말 국립공원 내 섬 지역 염소 서식 현황 추정 질의 응답 전문 용어 설명 끝 관련 영상 및 사진 환경부 웹하드 게재',\n",
       " '제주 물장오리오름 습지 멸종위기종 조류 천국 국립 환경과학 원 조사 결과 대비 종 종 야생 생물 서식 확인 산지 습지 유형 다른 지역 매 조롱 등 멸종위기종 조류 서식 종수 환경부 소속 국립 환경과학 원 원장 박진원 은 지난해 제주 물장오리오름 습지 보호지역 정밀 조사 결과 대비 종 총 종 야생 생물 살 것 확인 제주 물장오리오름 습지 화산 폭발 암석 화구 주변 원추 형 스코리아 콘 지형 보기 드문 화구호 습지 곳 환경부 지정 습지 보호지역 등록 산 정상 부근 호수 물 안개 피어 활엽수 림 등 우수 자연 경관 생태 적 가치 지니 국립 환경과학 원 습지 보전 법 제 단위 물장오리오름 습지 보호지역 식물상 조류 포유류 등 개 분야 조사 개 조사 분야 지형 지질 퇴적물 수리 수문 식생 식물상 조류 포유류 육상 곤충 양서 파충류 저 서성 무척추동물 식물플랑크톤 지난해 조사 결과 물장오리오름 습지 생물 종은 멸종위기 야생 생물 포함 식물상 종 조류 종 포유류 종 양서파충류 종 육상 곤충 종 저서 성 대형 무척추동물 종 식물플랑크톤 종 등 총 종 나타 전체 생물 종 수 정밀 조사 종이 습지 보호지역 지정 이후 생태계 보전 관리 것 영향 것 멸종위기 야생 생물 급 매 비롯 급 배 새매 조롱 팔색조 꼬리 딱새 총 종 멸종위기종 야생 조류 살 것 확인 화구호 습지 산지 형 습지 보호지역 평균 멸종위기종 조류 출현 종 수준 것 나타 또한 물장오리오름 습지 배 새매 꼬리 딱새 알 새끼 핵심 서식지 이정환 국립 환경과학 원 국립 습지 센터 장 이번 조사 결과 통해 물장오리오름 습지 자연 생태계 대한 기초 자료 확보 개별 습지 보호지역 대한 보전 계획 습지 관리 정책 수립 유용 활용 것 말 물장오리오름 습지 보호지역 경관 사진 물장오리오름 습지 보호지역 주요 생물 종 사진 산지 형 습지 보호지역 생물 종 비교 질의 응답 전문용어 설명 끝',\n",
       " '한반도 온난화 영향 괭이갈매기 번식 시기 려 해상 홍도 괭이갈매기 올해 번식 시기 관측 시작 국립공원 연구원 한반도 기후변화 섬 생태계 변화 관찰 환경부 국립공원 관리 공단 이사장 박보환 은 려 해상 국립공원 홍도 괭이갈매기 번식 시기 조사 결과 올해 번식 시기 조사 시작 이후 가장 것 나타 홍도 괭이갈매기 번식 시작 올해 번식 시작 전인 이나 번식 것 조사 또한 해역 별 기후변화 영향 비교 위해 지난해 부터 서해안 괭이갈매기 번식 지인 난도 번식 시기 조사 조사 결과 올해 번식 시작 국립공원 관리 공단 괭이갈매기 번식 시기 점차 빨 라지 이유 대해 번식 인근 해수 표면 연평 균 수온 이 괭이갈매기 먹이 어류 개체군 크기 이동 변화 영향 것 보고 홍도 부근 측정 한국 해양 자료 센터 정선 해양 관측 자료 해수 표면 수심 의 연평 균 수온 년대 년대 증가 것 나타 홍도 인근 거제 지역 연평 균 기온 기상청 자료 도 년대 상승 국립공원 연구원 기후변화 섬 도서 생태계 영향 파악 위 지난해 부터 괭이갈매기 번식 인근 해양 환경 수온 염도 과 번식 내 무기 환경 기온 습도 토양 식물 식생 변화 등 종합 적 관찰 모니터링 나 공주 국립공원 관리 공단 국립공원 연구원 장 최 상위 포식자 괭이갈매기 번식 시기 변화 섬 생태계 한반도 온난화 영향 음 확인 수 지표 라며 바 닷새 번식 시기 뿐 종합 적 섬 생태계 연구 통해 기후변화 영향 파악 예정 괭이갈매기 번식 시기 및 인근 지역 수온 및 기온 현황 현황 사진 괭이갈매기 번식 시기 모니터링 방법 홍도 난도 괭이갈매기 번식 위치 및 현황 질의 응답 끝',\n",
       " '맥주 토종 효모 발견 대부분 수입 맥주 양조 용 효모 대체 수 국산 효모 발견 과일 향 캐러멜 향 장미 향 등 향 맥주 양조 가능 환경부 소속 국립생물자원관 관장 백운석 은 우리나라 자생 누룩 미가 향상 맥주 수 토종 효모 지난해 발견 이 대한 특허 최근 출원 특허 출원 번호 및 날짜 특허 번호 이번 발견 토종 효모 맥주 양조 용 수입 효모 대체 수 것 기대 맥주 우리나라 전체 주류 소 비량 약 이상 차지 국내 맥주 제조 이용 효모 대부분 수입 국세 통계 연보 국세청 를 맥주 점 유량 이후 이상 증가 추세 효모 맥아 물 등 다른 맥주 원료 더 불어 맥주 품질 영향 요소 중 하나 국립생물자원관 지난해 김계원 한경대 교수 박천 석 경희대 교수 등 공동 연구 통해 전통 누룩 주의 효모 균주 분리 양조 특성 우수 효모 균주 중 향 미가 맥주 제조 수 효모 균주 발견 이 효모 맥주 양조 시 이용 사카 로마 세스 세레비 제 강원도 삼척시 수집 양조 용 전통 누룩 분리 연 구진 유전학 적 분석 결과 기존 상업 용 맥주 효모 사카 로마 세스 세레비 제 속 종 이나 일부 유전자 구조 다른 새 균주 로 연 구진 이 효모 발효 과정 바나나 사과 포도 등 과 일향 캐러멜 향 비롯 장미 향 등 화합물질 기존 효모 최대 까지 대량 생산 수 것 확인 국립생물자원관 이 효모 이용 미가 맥주 제조 수 것 기대 또한 나고야 의정서 발효 대비 양조 주권 확보 도움 줄 것 보고 나고야 의정서 유전자 원 이용 대한 사전 승인 이익 생 산국 공 유하 도록 규정 맥주 양조 용 효모 미생물 대상 포함 백운석 국립생물자원관 관장 이번 확보 토종 효모 이용 맥주 제조 업체 기술이전 추진 계획 이 라며 통해 수입 산 생 물자원 면 안 생각 다양 분야 자생 생 물자원 활용 수 분위기 조성 기대 고 말 특허 출원 새 효모 균주 개요 누룩 분리 효모 주 목록 맥주 제조 시 효모 역할 질의 응답 전문용어 설명 끝',\n",
       " '전기차 아파트 주차장 전기 콘센트 충전 전기차 아파트 주차장 전기 콘센트 충전 전국 곳 아파트 전기차 충전 식별 장치 부착 완료 전기차 충전 요금 전기요금 처럼 월 납부 월부 터 입 주자 대표 회의 승인 식별 장치 부착 가능 환경부 장관 윤성규 파워 큐브 협력 서울 곳 대구 곳 등 전국 곳 아파트 주차장 전기 콘센트 전기차 충전 식별 장치 태그 개 설치 일부 터 아파트 주차장 전기 콘센트 전기차 충전 가능 현재 설치 중인 전기차 충전 식별 장치 개 포함 식별 장치 부착 전기 콘센트 전기차 충전 위해 전용 이동형 충전기 필 요하 현재 전기차 신규 구매 국가 이동형 충전기 무료 제공 기존 전기차 소유자 필요 경우 전용 이동형 충전기 구매 만원 내외 사용 다만 전기 콘센트 이용 충전 시간 시간 이 급속 충전기 완속 충전기 시간 편이 전기 콘센트 충전 요금 한국전력 고시 가정 용 별도 책정 저렴 전기차 전용 충전 요금 매월 부과 주행 거리 인 전기차 경우 식별 장치 부착 전기 콘센트 사용 급속 충전기 요금 의 수준 전기요금 연비 급속 충전기 전기요금 이동형 충전기 전기요금 기준 전기차 소유자 경우 전기차 충전 식별 장치 부착 건물 이면 어디 서든 충전 가능 예 씨 전기차 집 벽 산타 운 단지 금천구 직장 오토 웨어 타워 강남구 출장 종로 소방 종로구 약속 코엑스 강남구 로 이동 때 건물 충전 가능 식별 장치 그간 파워 큐브 입 주자 대표 회의 협의 아파트 주차장 무료 설치 올해 부터 관련 법령 개정 입 주자 대표 동의 관리소 장의 동의 설치 가능 예정 공통 주택 관리 법 시행 령 환경부 현재 곳 전기차 충전 식별 장치 까지 태그 전기차 이용자 편리 성 예정 전기차 충전 식별 장치 부착 건물 위치 전기차 충전 식별 장치 부착 건물 세부 위치 전기 콘센트 전기 충전기 비교 전기차 충전 전력 금 전문용어 설명 끝',\n",
       " '기업 공공기관 곳 년도 환경 정보 분석 발표 폐기물 수질오염 물질 배출 량 감소 에너지 용수 사용 량 증가 서울 엘 타워 환경 정보공개 우수 기업 유공 자 포상 환경부 장관 조경규 한국 환경 산업 기술 원 원장 남 광희 은 국내 곳 기업 기관 환경 정보 분석 환경 정보공개 보고서 를 환경 정보공개 시스템 공개 환경 정보공개 보고서 우리나라 주요 기업 기관 곳 본사 및 소속 사업 장 총 곳 대상 조사 자료 용수 사용 량 에너지 사용 량 폐기물 배출 량 등 개 항목 포함 환경 정보 분석 결과 용수 에너지 사용 량 및 대기오염 물질 배출 량 전 년대 비 증가 반면 폐기물 및 수질오염 물질 배출 량 전 년대 비 감소 세 것 나타 용수 에너지 전 년대 비 각각 증가 자원 사 용량 상 대적 온실가스 목표 관리 업체 신규 대상 기관 편입 요인 분석 제조업 개 기업 당 평균 용수 사 용량 전 년대 비 감소 발전 업 등 기타 산업 기업 당 평균 에너지 사 용량 전 년대 비 감 소하 기업 별로 용수 에너지 절감 위해 노력 것 나타 폐기물 및 수질오염 물질 전 년대 비 각각 및 감 소하 산 업계 수처리 시설 효율 증대 위 개선 노력 폐수 슬러지 감소 수질오염 물질 배출 감소 효과 나타 것 분석 녹색 기업 경우 용수 에너지 등 전 항목 매출 액 기준 원 단위 개선 원 편익 발생 것 나타 이번 환경 정보 분석 보고서 인포그래픽 등 시각 자료 활용 정보 이용자 이해 수 도록 구성 업종 별 지역별 연도 별 비교 분석 자료 항 목별 개선 기업 수록 한국 환경 산업 기술 원 이번 분석 보고서 통해 국민 관심 기업 환경 경영 성과 확인 국내외 투자 평가 기관 기업 환경 사회 지배구조 평가 확대 수 도록 지원 계획 한편 환경부 한국 환경 산업 기술 원 서울 양재동 엘 타워 환경 정보공개 우수 기관 유 공자 대한 시상식 환경 정보 등록 실무 교육 진행 날 시상식 환경 정보 등록 공개 성실 이행 환경 경영 위 노력 성과 인정 진에어 전북대학교병원 한국 광해 관리 공단 환경부 장 관상 환경 정보공개 제도 성실 이행 중소기업 쌍용 해운 특별상 한국 환경 산업 기술 원장 상이 수여 환경 정보 등록 실무 교육 환경 정보 등록 위 환경 정보 추출 작성 방법 누리집 사용 방법 등 수요 자 안내 올해 환경 정보 등록 실무 교육 서울 시작 광주 대전 광주 대전 부산 홍천 부산 홍천 등 총 진행 남 광희 한국 환경 산업 기술 원장 사회 전 분야 환경 경영 정착 가속 화 경영 활동 투명 성과 효 율성 제 고하 데 도움 바란 고 환경 정보공개 제도 개요 연도 별 환경 정보 통계 환경 정보공개 대상 개요 질의 응답 전문용어 설명 끝',\n",
       " '학교 밖 세상 여름방학 국립생물자원관 학교 밖 세상 여름방학 국립생물자원관 여름방학 특별 교육과정 어린이 생 물자원 학교 청소년 생 물자원 학교 등 일부 터 접수 청소년 생물다양성 전문가 꿈 기회 제공 국립생물자원관 관장 백운석 은 여름방학 기간 동안 어린이 생 물자원 학교 청소년 생 물자원 학교 등 생물다양성 대한 특별 교육과정 운영 이번 특별 교육과정 초 중 고 재학생 청소년 생물다양성 전문가 꿈 기회 제공 일부 터 까지 우편 담당자 이메일 통해 신청 수 우편 인천 시 서구 환경로 종합 환 경연 구단 국립생물자원관 전시 교육 어린이 생 물자원 학교 생물 환경 관심 초등학생 대상 생물다양성 생물분류 멸종위기 야생 생물 생물 로부터 지혜 등 개 과정 차례 진행 이번 어린이 생 물자원 학교 일부 터 까지 학년 명 학년 명 두 개 반 진행 차도 방식 일부 터 까지 운영 어린이 생 물자원 학교 지난 부터 시작 이번 교육과정 까지 총 기 명의 수료 생 배출 청소년 생 물자원 학교 중 고등 재학생 만 세부 터 세 까지 청소년 대상 진행 중학교 과정 명 일부 터 일간 개 세부 과정 고등학교 과정 명 일부 터 일간 개 세부 과정 참여 중학교 과정 식물 야외 실습 생물분류 실습 조류 의 다양성 식물 표본 제작 등 구성 고등학교 과정 곤충 관련 현장 실습 표본 관찰 및 제작 등 구성 이 과정 작성 보고서 추후 학교 개인 과제 도 활용 수 청소년 생 물자원 학교 지난 부터 생 물자원 주니어 큐레이터 로 시작 이번 교육과정 까지 총 명의 청소년 수료 예정 상세 교육 내용 국립생물자원관 누리집 수록 이번 생물다양성 대한 특별 교육과정 참가자 어린이 생 물자원 학교 의 경우 컴퓨터 추첨 청소년 생 물자원 학교 접수 자기 소개 를 중심 선발 국립생물자원관 누리집 통해 발표 예정 백운석 국립생물자원관 장 이번 여름방학 특별 교육과정 생물다양성 전문가 학생 다양 체험 활동 통해 생물다양성 수 기회 관련 사진 질의 응답 끝',\n",
       " '공동 소상 공인 자영 업자 지원 대책 발표 자영 업 지원 당 정 협의 개최 이상 현장 방문 간담 회 통해 현장 맞춤 형 대책 수립 대비 이상 규모 지원 대책 마련 단기 적 지원 뿐 경영 환경 개선 등 구조 적 대응 포함 현장 행보 이 어가 부족 부분 보완 것 더 불어 민주당 정부 수 당 정협 를 개최 소상 공인 자영 업자 지원 대책 발표 당 정 협의 개요 일시 장소 수 국회 의원 회관 호 정책 위 회의실 참석자 홍영표 원내대표 김태년 정책 위 의장 김영진 전략기획 위원장 홍익표 수석 부의 장 진선미 원내 수석 부대 표 이원욱 제 정조 위원장 한정애 제 정조 위원장 김성환 정책 위 상임 부의 장 김정우 당대 표 비서실 장 홍의락 산 중위 간사 등 홍종학 중 기부 장관 고형 권 기재부 차관 심보 균 행안부 차관 김 오수 법무부 차관 이성 기 고용부 차관 권 덕철 복지부 차관 안병옥 환경부 차관 김용범 금융위 부 위원장 채규 공정위 사무 처 그간 정부 경영 비용 부담 완화 영업 기반 보호 공정 거래 질서 확립 등 소상 공인 자영 업자 경영 환경 개선 지속 노력 카드 수수료 부담 완화 우대 수수료 적용 확대 수수료 부과 방식 개선 정액 제 정률제 세금 인하 의제 매입 세액 공제 지원 확대 건강 보험료 인하 일자리 안정 자금 대상 신규가입 자 경감 등 비용 부담 완화 영세 사업자 이하 중소 가맹 점 이하 연매출 이하 개인 음식점 의제 매입 세액 공제 율 상향 생계 형 적합 업종 특별법 제정 등 골목 상권 보호 대기업 골목 상인 간 자율 적 상생 협약 확산 환산 보증금 인상 이상 임대료 인상 률 상한 인하 등 안정 적 임차 환경 조성 및 보복 행위 금지 징벌 적 손해배상 도입 등 가맹 본부 가맹 점 간의 불공정 거래 관행 개선 금번 대책 제도 개선 불구 다양 어려움 제 기하 현장 목소리 적극 반영 기존 정책 연장 선 상 시너지 효과 내기 위 것 기재부 중 기부 등 이상 현장 방문 및 업계 간담 회 등 통해 현장 맞춤 형 대책 마련 주요 건의 과제 예시 소상 공인 연합 회 소상 공인 연합 회 최저임금 위원회 위원 추천 권 부여 최저임금 차등 적용 카드 수수료 인하 상가 임대차 보호 법 개정 등 전국 상인 연합 회 최저임금 관련 법 위반 시 처벌 계도 중점 법집 행 관공서 주변 상권 활성화 위해 구내식당 의무 휴무 제 확대 한국 수퍼 조합 연합 회 전국 편의점 맹점 협회 담배 세 인상 우대 수수료 적용 경우 발생 전국 개인 택시 조합 결제 대행 업체 이용 택시 사업자 우대 수수료 적용 한국 외식 업 중앙회 면세 농산물 의제 매입 세액 공제 공제 한도 확대 신용카드 매출 세액 공제 한도 인상 전국 편의점 맹점 협회 편의점 과 점 문제 개선 심야 영업 부담 완화 당 정은 수 부진 등 자영 업자 경영 여건 치 가운데 경영 상 비용 부담 완화 수 직접 적 지원 구조 적 대응 시급 데 공감 일자리 안정 자금 두루 누리 근로장려금 등 직접 지원 확대 카드 수수료 세금 등 경영 비용 부담 완화 안정 적 임차 환경 조성 등 공정 거래 질서 확립 재기 지원 및 창업 교육 등 경영 환경 개선 방안 합의 대책 주요 내용 다음 일자리 안정 자금 지원 대상 확대 등 수준 직접 지원 일자리 안정 자금 수준 감안 지속 지원 이내 최저임금 영향 인 미만 사업 장 대해 우대 지원 고령자 등 취약 계층 대해 인 이상 사업 장 지원 두루 누리 지원 사업 근로장려금 지원 요건 완화 등 자영 업자 실질 소득 확대 온라인 판매업 음식 업 등 정책 대상 별 지원 강화 온라인 판매업 자 및 개인 택시 사업자 대해 신용카드 우대 수수료 적용 확대 카드 수수료 종합 개편 방안 통해 담배 등 일부 품목 제외 여부 등 수수료 부담 완화 방안 추진 음식점 등 대해 서도 의제 매입 세액 공제 공제 한도 확대 및 신용카드 매출 세액 공제 한도 인상 만원 등 세금 부담 완화 안정 적 임차 환경 조성 위 실효 성 확보 추진 환산 보증금 추가 상향 재건축 우선 입 주요 권 퇴거 보상 계약 갱신 청구권 연장 권리금 관련 분쟁 조정 기구 설치 및 전통 시장 권리금 보호대 상 확대 가맹 본부 가맹 점 상생 분위기 확산 가맹 거래 법 상의 자율 규약 활용 업계 자율 적 과 점 문제 대한 실 질적 개선 방안 도출 수 도록 유도 최저 수익 보장 가맹 점 영업 지역 확대 설정 등 이행 가맹 본부 대해 공정 거래 협약 평가 시 가점 부여 소상 공인 자영 업자 권익 보호 확 대소 상공 관련 단체 최저임금 위원회 사용자 위원 추천 권 부여 최저임금 결정 대한 소상 공인 업계 의견 반영 확대 노동 관계 법 위반 시 시정 기회 우선 제공 차 시정 및 교육 지도 후 조치 및 노동 관계 법 자율 준수 등 위 교육 컨설팅 지원 한계 자영 업자 연착 륙 및 재도 약 지원 등 자영 업자 근로자 전환 시 사업 장 폐업 정리 지원 대폭 확대 명 만원 명 만원 전직 장려 수당 인상 만원 및 폐업 영세 자영 업자 대한 구직 촉진 수당 신설 월 만원 개 월간 비 과밀 업종 창업 유도 위 재창 업 교육 명 및 멘토링 명 확대 한편 지역 보 보증 공급 및 기업은행 초 저금 리 대출 소진 기금 확대 청년 고용 특별 자금 등 등 유동성 공급 확대 정부 앞 현장 소통 지속 소상 공인 자영 업자 직면 경영 애로 계속 발굴 추가 적 지원 대책 모색 계획 임 상세 사항 별 자료 참고 별 소상 공인 자영 업자 지원 대책 별 소상 공인 자영 업자 지원 대책 효과 추정 별 정책 과제 별 건의 협 단체',\n",
       " '참고 도래 마리 겨울철새 대상 찰 강화 기러기 류 위주 도래 중순 기준 마리 관찰 현재 가금류 영향 줄 수 야생 조류 건 검 건 저 병원 성 확진 건 분석 중 환경부 장관 김은경 일부 터 간 전국 곳 주요 철새 도래 실시 동시 센서스 결과 전 국적 종 마리 겨울철새 도래 것 확인 야생 조류인플루엔자 찰 강화 금년 현재 까지 도래 겨울철새 중 오리 기러기 고니류 등 종이 전체 개체 수의 인 마리 월말 부터 도래 시작 기러기 류 마리 가장 개체군 차지 도래 총 개체 수 시기 종 개체 관찰 개체 관찰 민감 종인 오리 기러기 고니류 도래 개체 과 차이 것 나타 환경부 말 부터 오리 류 본격 도래 면서 사이 최대 개체군 형성 것 예상 올해 절기 최대 마리 관찰 바 환경부 국내 도래 철새 수도 가금류 전파 것 차단 위 농가 방역 지원 오리 기러기 등 민감 종 국내 도래 시기 분포 이동현 황 야생 조류 검사 결과 등 정보 농림축산검역본부 지자체 등 방역 당국 제공 국립 환경과학 원 동절 기 야생 조류 분변 점 폐 사체 개체 수집 분석 야생 조류 고 병원 성 건 검 폐 사체 건 분변 건 월부 터 현재 까지 가금류 영향 줄 수 야생 조류 형 형 건 검 이중 건 저 병원 성 확진 고 병원 성 아직까지 검 저 병원 성 확진 건 형 건 경북 영천 환경과학 원 채집 형 건 화성 서울 검역 본부 채집 경우 고 병원 성 채집 분변 최초 검 출아 국립 환경과학 원 전북 익산시 만경강 일대 채집 야생 조류 분변 검 형 건 대해 중간 결과 농림축산식품부 농가 차단 방역 조치 취할 수 도록 농식품부 형 형 검 출시 병원 성과 관계 주변 지역 를 야생 조수 류 찰 지역 설정 지역 내 가금류 이동 제한 저 병원 성 확 진시 해제 국립 환경과학 원 유전자 분석 통해 바이러스 고 병원 성 여부 형 타입 확 예정 환경부 겨울철새 월말 경 대규모 도래 후 연말 까지 최대 개체 수 이루 것 고려 철새 찰 및 시료 검사 분포 찰 신속 철저 이행 예정 또한 지방 환경청 찰 참여 주요 철새 서식지 곳 대해 월 평균 분변 검사 확대 야생동물 질병 진단 기관 올해 개소 지정 폐 사체 이상 행동 조류 발견 즉시 까운 기관 이송 신속 검사 수 도록 제도 개선 바 시설 전문 인력 수 의과대학 시 도 가축 방역 기관 대상 야생동물 질병 진단 기관 지정 겨울철 조류 동시 센서스 결과 야생동물 질병 진단 기관 지정 현황 끝',\n",
       " '팔당호 남조류 종 수돗물 흙 냄새 유발 유전자 확인 국립 환경과학 원 월부 터 까지 팔당호 남조류 연구 남조류 종 수돗물 흙 냄새 유발 유전자 확인 환경부 소속 국립 환경과학 원 원장 박진원 은 월부 터 까지 팔당호 출현 남조류 종 중 종 남조류 수돗물 흙 냄새 물질 생 성하 유전자 확인 종 남조류 환경부 시행 중인 조류 경보 제 대상 유해 남조류 속 포함 것 나베 종 토리아 종이 이 종 남조류 수돗물 흙 냄새 유발 물질 지오 유전자 것 확인 지오 인체 독성 흙 냄새 유발 수돗물 품질 저하 상수 원 관리 표적 물질 국립 환경과학 원 한강 물 환경 연구소 연 구진 지오 유전자 보유 여부 분석 위해 중합 효소 연쇄반응 기술 이용 남조류 종 특성 시발 체 를 사용 중합 효소 연쇄반응 시발 체 이용 특정 유전자 증 폭하 기술 연구 진 팔당호 마이크로 시스 티스 나베 파니 메논 등 총 종 남조류 분리 배양 종 남조류 대상 유전자 분석 등 지오 생산 종 남조류 이번 확인 것 이중 종 나 지난 겨울 수도권 수돗물 흙 냄새 발생 때 북 한강 팔당호 대량 증식 남조류 또한 호수 강 바닥 지오 생 성하 저서 성 남조류 토리아 종도 이번 연구 확인 연 구진 이번 종 남조류 지오 유발 유전자 확인 이 조류 종이 대량 발생 경우 정 수처리 강화 위 사전 정보 활용 것 보고 유순 주 국립 환경과학 원 한강 물 환경 연구소 소장 팔당호 출현 남조류 지속 적 분리 배 양하 지오 뿐 또 다른 냄새 물질 유전자 등 분석 남조류 관 분자생물학 적 연구 기반 예정 말 분리 배양 냄새 물질 발생 원인 남조류 지오 유전자 검 전기영 사진 질의 응답 전문용어 설명 끝',\n",
       " '려 수도 바다 려 해상 생태 탐방 원 개원 려 해상 생태 탐방 원 개원 층 연 면적 국립공원 생태 탐방 원 최초 해상 생태 탐방 원 환경부 국립공원 관리 공단 이사장 권 업 은 국립공원 최초 해상 생태 탐방 원인 려 해상 생태 방원 개원 경남 통영시 산양읍 연화 리 위치 려 해상 생태 방원 총사 업비 원 투입 지상 층 연 면적 의 규모 공사 시작 완공 연간 명 방 문하 려 해상 국립공원 달 아공 원 인근 남해 배경 건물 건물 형태 일몰 굴곡 남해 해안선 조화 이루 도록 디자인 생활관 지붕 유럽 풍 갈색 단장 내부 명 동시 이용 수 목적 강당 개 강의실 체험 실습 실 명 수용 수 생활관 식당 등 구성 려 해상 생태 방원 북한 산 지리산 설악산 소백산 번 조성 생태 탐방 원 바다 리길 만 지도 명품 마을 한산도 제승당 등 주변 우수 생태 문화 자원 등 활용 자연 생태 환경 대한 교육 체험 생태관광 거점 시설 활용 국립공원 관리 공단 통영 지역 청소년 위해 전국 국립공원 운 영하 자유 학년 제 진로 체험 인 성교육 해양 청소년 자원 보호 단 등 환경 교육 프로그램 곳 운영 계획 올해 월부 터 가족 동호회 등 소규모 단체 대상 생태관광 프로그램 운영 예정 국립공원 관리 공단 생태 탐방 원 누리집 예약 병관 려 해상 생태 탐방 원장 려 해상 생태 방원 다양 프로그램 운영 통해 자연 역사 배우 교 육적 역할 곳 이 라며 려 해상 생태 탐방 원 개원 계기 지역 경제 활성화 도움 주도 록 노력 려 해상 생태 탐방 원 개요 관련 사진 질의 응답 끝',\n",
       " '참고 전북 군산 만경강 하류 야생 조류 분변 형 바이러스 검 국립 환경과학 원 원장 장윤석 은 전북 군산시 금광 리 만경강 채취 야생 조류 분변 시료 점 분석 결과 형 야생 조류인플루엔자 이하 바이러스 검 주변 지역 대한 야생 조류 찰 활동 강화 형 바이러스 등 개 유전형 중 등 병 원성 나타 날 수 유전형 국립 환경과학 원 새만금지방환경청 만경강 주변 철새 도래 반경 내 야생 조류 분변 및 폐 사체 찰 강화 농림축산검역본부 질병 관리 본부 및 해당 지자체 등 바이러스 검 정보 관계 기관 신속 통보 방역 조치 수 도록 국립 환경과학 원 바이러스 최종 유전자형 및 고 병원 성 확인 정도 소요 것 예상',\n",
       " '우리 고품격 생태관광 를 한자리 우리 고품격 생태관광 를 한자리 내장산 국립공원 일부 터 까지 제 생태관광 페스티벌 개최 생태관광 지역 홍보 부스 직거래 장터 내장 호 자연 해설 탐방 생태관광 컨설팅 사생 대회 동아리 경진 대회 등 환경부 장관 조경규 일부 터 까지 전북 정읍시 내장산 국립공원 단풍 생태 공원 네이처 센터 일원 제 생태관광 페스티벌 개최 가을 여행 주간 주 앞서 이번 행사 환경부 지정 생태관광 지역 국립공원 생태관광 운영자 한자리 기존 관광 다른 생태관광 특성 널리 관광 패러다임 점진 적 변화 정착 위해 마련 제주 동백동 산 선흘 리 마을 인제 생태 마을 고창 용 계마 영산 명품 마을 등 환경부 지정 개 생태관광 지역 국립공원 관리 공단 국립생태원 전북 군 생태관광 등 생태관광 프로그램 소개 체험 행사 진행 약 여개 홍보 부스 생태관광 지역 특산 물 직거래 장터 이번 페스티벌 미래 위 약속 생태관광 주제 미래 세대 위해 환경 생 각하 여행 생태관광 취지 학생 가족 수 자리 마련 행사 첫날 초등학생 여명 참가 사생 대회 청소년 동아리 경진 대회 열 린다 사생 대회 일부 터 국립공원 누리집 접수 선착순 참가자 모집 서울대학교 생태관광 연구 센터 진행 생태관광 여행 컨설팅 과 국립공원 자연환경 해설 사가 안내 내장 호 자연 해설 탐방 도 내장 호 탐방 여명 한정 탐방 프로그램 일부 터 이틀 간 총 현장 신청 수 이 네이처 센터 이 누크 소년 산다 것 등 환경 영화 편이 상영 윤형빈 정경미 부부 토크쇼 스탬프 투어 등 채 현장 행사 열 린다 환경 영화 편 이 누크 소년 산다 것 가이드 베이비붐 차일 드 사가 시티 에코 시티 바다 꿈 행사 개요 질의 응답 전문용어 설명 끝',\n",
       " '생물다양성 특 성화 대학원 지역 순회 설명 회 개최 체계 적 생물다양성 전문가 양성 본격 시행 일부 터 달 전국 대상 지역 순회 설명 회 개최 환경부 소속 국립생물자원관 관장 백운석 은 체계 적 생물다양성 전문가 양성 위 생물다양성 특 성화 대학원 지원 사업 의 지역 순회 설명 회 일부 터 까지 개최 생물다양성 특 성화 대학원 지원 사업 은 대학원 교육 연구 자율성 및 책 무성 강화 창의 적 연구 성과 도출 가능 생물다양성 전문가 를 양성 위 것 이번 지원 사업 생물다양성 협약 대응 나고야 의정서 이행 위 전문가 양성 목표 사업 총괄 환경부 전담 기관 국립생물자원관 사업 평가 관리 및 지원 주관 기관 대학원 교육 과정 개발 운영 담당 생물다양성 보전 및 이용 관 법률 제 전문 인력 양성 생물다양성 특 성화 대학원 은 지역 순회 설명 회 시작 사업 공고 계약 까지 총 개 대학원 선정 간 지원이 국가 당사자 계약 관 법률 제한 경쟁 및 협상 계약 해당 사업 선정 대학원 미개척 생물 분류군 발굴 생물다양성 가치 보전 전략 수립 등 교육과정 개설 생물다양성 및 나고야 의정서 관련 전문가 양 성하 지역 순회 설명 회 강원 권 춘천 시작 전라 광주 권 광주 광역시 수도권 충청권 대전 경상 권 대구 경상 권 부산 순 개최 예정 설명 회 참석 국립생물자원관 누리집 신청서 작 성하 해당 지역 설명 회 개최 전 담당자 이메일 사전 등록 설명 회 특 성화 대학원 지정 목적 지원 범위 및 선정 절차 등 대한 소개 지원 사업 대한 질의 응답 순 진행 국립생물자원관 부터 까지 미개척 생물분류 군 전문 인력 양성 사업 과 생물다양성 및 경제학 관련 전문가 양성 사업 총 명의 석 박사 과정 생 지원 전문 인력 양성 이 가운데 총 명 해당 분야 박사 학위 취득 바 백운석 국립생물자원관 장 이번 지원 사업 생물다양성 전문가 양성 적 극적 동참 수 대학 참여 바란 며 앞 생물다양성 협약 대응 나고야 의정서 이행 관련 전문가 양성 지속 적 지원 계획 말 지역 순회 설명 회 일정 개요 질의 응답 전문 용어 설명 끝',\n",
       " '환경 공단 코트디부아르 환경 분야 전문가 파견 환경 공단 코트디부아르 환경 분야 전문가 파견 수도 아비장 시 빈민 지역 가구 상수도 공급 시설 설치 사업 환경 분야 국제 원조 사업 전문가 파견 통해 국내 기술 사업 관리 방법 등 한국 형 환경 협력 방식 전수 기대 한국 환경 공단 이사장 이시진 이 서아프리카 코트디부아르 식수 공급 사업 위 환경 분야 전문가 파견 이번 파견 한국 국제 협력 단 국제 원조 사업 일환 진행 것 한국 국제 협력 단 총 규모 달러 한화 약 만원 를 코트디부아르 수도 아비장 시 상수 관망 설치 사업 지원 예정 환경 공단 환경 전문 서비스 기관 명의 전문가 파견 통해 상수도 공급 시설 수요 조사 설치 및 시공 사업 평가 등 사업 관리 전반 담당 코트디부아르 지난 정치 적 불안 내전 도심지 역 주민 식수 접근 율 고 이번 사업 대상 지인 아비장 시 경우 요 공 아보 보 쿠마시 등 빈민 지역 가구 약 명 하루 분량 추가 식수 공급 필요 실정 현재 코트디부아르 프랑스 빈민 대한 식수 공급 및 위생 개선 위 부채 탕감 개발 계약 체 결하 사업 추진 중 프랑스 고 채무 빈국 부채 탕감 지원 위해 수원 국 프랑스 상환 자금 다시 수원 국 개발 사용 대외 원조 방식 코트디부아르 프랑스 령 서아프리카 식민지 프랑스 공동체 일원 자치공화국 수립 프랑스 공동체 이탈 완전 독립 실현 한국 국제 협력 단 지난해 프랑스 협력 청 코트디부아르 경제 인프라 부와 공동 사업 추진 위 자 협약 체 결하 우리나라 환경 기관 참여 길이 환경 공단 서아프리카 인접 국 콩고민주공화국 콩고 지난 부터 지하수 관정 개발 식수 원 개선 보건소 학교 위생 시설 개선 빗물 이용 시설 설치 등 수행 중 코트디부아르 측으 로부터 전문가 파견 요청 환경 공단 우선 코트디부아르 수자원 공기업 전문 자격 직원 파견 본격 적 사업 준비 착수 예정 이번 사업 한국 지원 규모 약 원 소규모 불과 환경 공단 국내 원조 기관 해외 원조 기관 환경 분야 원조 사업 직접 참여 로써 한국 환경기술 사업 관리 경험 아프리카 특성 접목 환경 협력 모델 기회 삼 예정 이시진 환경 공단 이사장 이번 코트디부아르 전문가 파견 프랑스 아프리카 국제 원조 사업 기법 습득 수 기회 라며 지속 적 사업 참여 전문가 파견 확대 향후 한국 형 원조 사업 밑거름 고 말 한국 환경 공단 코트디부아르 전문가 파견 사업 개요 질의 응답 전문 용어 설명 끝',\n",
       " '태안 해안 국립공원 세계 자연 보전 연맹 국립공원 보호지역 카테고리 변경 태안 해안 국립공원 세계 자연 보전 연맹 국립공원 보호지역 카테고리 변경 태안 해안 국립공원 세계 자연 보전 연맹 보호지역 카테고리 경관 보호지역 국립공원 로 변경 다도해 백도 칠 발도 덕유산 안성 연 계곡 광릉요강꽃 특별 보호 구역 학술 적 엄정 보호 구역 인증 국립공원 관리 공단 이사장 박보환 은 태안 해안 국립공원 세계 자연 보전 연맹 의 보호지역 카테고리 경관 보호지역 국립공원 로 변경 이 우리나라 국립공원 처 음으로 다도해 해상 국립공원 덕유산 국립공원 일부 특별 보호 구역 곳 세계 자연 보전 연맹 카테고리 학술 적 엄정 보호 구역 로 인증 카테고리 학술 적 엄정 보호 구역 인증 지역 다도해 해상 국립공원 백도 칠 발도 덕유산 국립공원 안성 연 계곡 광릉요강꽃 특별 보호 구역 등 세계 자연 보전 연맹 보호지역 카테고리 시스템 세계 보호지역 학술 적 엄정 보호 구역 원시 야생 역 국립공원 등 총 개 유형 분류 국제 적 기준 유엔 환경 계획 생물다양성 협약 이 시스템 세계 자연보호 역 분류 위 국제 기준 공식 채택 우리나라 국립공원 생태 적 가치 우수 관리 불구 카테고리 경관 보호지역 로 분류 국제 적 기준 여론 이 국립공원 관리 공단 부터 국제 적 기준 부합 국립공원 체계 정립 관리 선 진화 목표 세계 자연 보전 연맹 보호지역 카테고리 변경 사업 추진 현재 까지 설악산 지리산 소백산 등 총 개 국립공원 카테고리 경관 보호지역 국립공원 변경 이번 태안 해안 국립공원 카테고리 국립공원 변경 지난 이 지역 발생 유류 오염 사고 이후 생태계 건강 성 회복 위해 국립공원 관리 공단 지속 적 추진 온 보전 복원 관리 노력 대해 국제사회 인정 것 또한 다도해 해상 국립공원 덕유산 국립공원 특별 보호 구역 보호지역 카테고리 학술 적 엄정 보호지역 로 인증 것 국립공원 관리 공단 멸종위기종 보호 구역 관리 등 자연 보전 활동 인정 점 의의 정 용상 국립공원 관리 공단 상생 협력 실장 우리나라 국립공원 보전 가치 국립공원 과학 적 체계 적 관리 위 공단 노력 적 극적 국제사회 환경 분야 리더십 발휘 도록 세계 자연 보전 연맹 보호지역 카테고리 변경 인증 사업 지속 적 추진 고 세계 자연 보전 연맹 보호지역 카테고리 변경 추진 현황 세계 자연 보전 연맹 보호지역 카테고리 별 조건 질의 응답 전문 용어 설명 인증서 사진 끝',\n",
       " '민관 합동 조사 반 코웨이 종 얼음 정수기 제품 결함 조사 결과 발표 민관 합동 조사 반 코웨이 종 얼음 정수기 제품 결함 조사 결과 발표 니켈 검 출원 은 증발기 냉각 구조 물의 구조 제조 상 결함 실제 사용 기간 고려 시 위해 우려 니켈 과민 군 피부염 유발 가능성 산업 통상 자원부 국가기술표준원 환경부 한국 소비자원 코웨이 얼음 정수기 종 의 니켈 검 논란 조사 위해 구성 민관 합동 제품 결함 조사 위원회 의 조사 결과 공동 발표 코웨이 얼음 정수기 종 조사 위원회 위원장 홍순 찬 단국대 명예 교수 산업부 환경부 식약처 소비자원 학계 연구기관 등 명 구성 그 간 위원회 제품 결함 원인 니켈 위해 성 규명 위해 증발기 구조 분석 니켈 검 농도 및 위해 분석 등 약 개 월간 조사 진행 제품 결함 제빙 용 증발기 의 니켈 도금 층 니켈 일부 증발기 아래 냉수 통 등 어진 것 증발기 란 얼음 정수기 얼음 핵심 부품 제빙 효율 높이 기 위해 열전도율 구리 재질 사용 내부 식성 등 위해 니켈 도금 조사 위원회 코웨이 종 얼음 정수기 증발기 니켈 도금 어진 제품 결함 원인 증발기 히터 등 구성 냉각 구조 물 의 구조 제조 상 결함 문제 발표 함 참고 냉각 구조 물 증발기 히터 냉수 플레이 트 로 조립 증발기 제빙 기능 히터 탈빙 기능 냉수 플레이 정수 물 냉수 기능 함 종 얼음 정수기 협 소한 냉각 구조 물 틀 증발기 히터 측면 접촉 도록 조 립하 구조 조립 과정 니켈 도금 손상 발생 우려 접촉 부분 다수 손상 확인 냉각 구조 물 개 분해 결과 증발기 히터 간 접촉 부 스크래치 조립 과정 중 발생 것 분석 증발기 도금 손상 육안 개 구 조물 발견 증발기 히터 상부 케이스 냉수 플레이 트 안 공기 접촉 상호 압축 밀착 상태 구조 적 문제 증발기 히터 간 급격 온도 변화 발생 니켈 도금 층 열 응력 손상 시간 지나 면서 부식 가속 화 것 추정 함 열 응력 이란 제빙 냉각 온도 도 과 탈빙 히터 가열 온도 도 이 반복 동안 밀착 이종금 속 증발기 히터 이 압축 팽창 면서 서로 가해 힘 조사 위원회 얼음 정수기 증발기 이번 종 얼음 정수기 증발기 구조 다른 형태 보고 얼음 정수기 관련 문제 잠정 결론 또한 이번 종 얼음 정수기 이외 코웨이 다른 얼음 정수기 증발기 종 얼음 정수기 증발기 구조 다른 형태 보고 얼음 정수기 증발기 조사 한국 소비자원 주관 진행 는바 조사 결과 후속 발표 예정 임 정부 얼음 정수기 대해 니켈 검 여부 등 문제 안전성 조사 등 지속 적 모니터링 실시 유사 문제 발생 경우 추가 적 조사 실시 방침 임 조사 위원회 코웨이 종 얼음 정수기 니켈 검 수준 파악 자 위원회 내 제안 방법 차례 실험 결과 참고 정량 한계 미만 최고 의 농도 나타남 수의 수거 보관 중이 던 제품 신품 단기간 시험 실제 검 수준 파악 한계 사용 중이 던 제품 로부터 직접 채수 조사 업체 자료 입수 분석 필 요하 의견 제기 문제 제품 실제 사용 중 니켈 검 수준 단시간 내 모사 수 공인 시험 방법 현재 제안 방법 대하 도 위원회 내 전문가 중 이견 조사 위원회 의견 고려 중순 당초 발표 계획 보류 활 동기간 연 장하 보강 조사 진행 객관성 논란 우려 당초 검토 대상 고려 코웨이 자체 조사 자료 를 제출 검토 결과 사용 중이 던 제품 정량 한계 미만 최고 의 니켈 검 사실 확인 참고 코웨이 문제 최초 인 지하 실시 수질 조사 및 개선 조치 진행 소비자 사용 중이 던 제품 대상 실시 수질 조사 자료 확보 검토 조사 위원회 확보 조사 자료 중 최고 농도 니켈 검 개 제품 대상 수질 조사 자료 토대 단기 장기 평생 동안 얼음 정수기 통해 니켈 섭취 경우 위 해성 각각 평가 참고 실제 사용 기간 미만 및 대부분 제품 수거 점 고려 장 단기 노출 평가 경우 위해 우려 수준 임 단기 노출 이내 단기 음용 가정 미국 환경청 의 어린이 단기 권고 치 로 판단 검 최고 농도 경우 위해 수준 미만 장기 노출 실제 사용 기간 최대 고려 미국 환경청 의 어린이 장기 음 용기 준 권고 치 로 판단 검 최고 농도 경우 위해 수준 미만 평생 노출 검 최고 농도 니켈 냉수 평생 동안 매일 음 용한 것 가정 미국 환경청 의 음용 권고 치 세계보건기구 의 음용 권고 치 로 판단 시 일부 제품 인체 위해 우려 실제 노출 조건 상이 가정 타당성 문제 제품 최대 사용 기간 이내 제품 대부분 수거 점 고려 때 평생 노출 기간 평가 시 위해 나치 과대 평가 소지 니켈 특별 취약 니켈 과민 군 대상 공복 시 흡수 율 증가 등 최악 시나리오 근거 산정 참고 다만 조사 위원회 장 단기 노출 기준 평가 위해 우려 수준 나타 더라도 아무 조치 계속 사용 경우 니켈 과민 군 피부염 등 위해 우려 여전 수거 문제 제품 소비자 사용 중단 것 당부 니켈 과민 군 대상 저 용량 인체 투여 임 피부염 발생 관찰 여러 문헌 정부 제품 결함 대한 행정처분 정수기 부가 기능 관리 미흡 문제 재발 방지 위해 부처 별 업무 기능 조정 협의 계획 임산 업 통상 자원부 국가기술표준원 제품안전 기본 법 이번 코웨이 얼음 정수기 종 제품 대해 구조 제조 상 결함 등 관련 제품 수거 등 행정처분 방침 임 코웨이 발표 해당 제품 이상 자체 회수 나머지 회수 제품 대해 서도 적극 회수 수 도록 정부 점검 필요 환경부 정수기 품질 검사 시 수질 영향 수 모든 부가 기능 부품 대하 도 사전 검토 실시 재질 용출 안전성 검사 기준 강화 등 정수기 품질 관리 제도 재정 비 계획 임 정부 이번 얼음 정수기 제품 결함 조사 계기 정수기 부가 기능 확산 탄산수 커피 등 안전성 검증 수 도록 정수기 복합 제품 안전 제도 전 반적 재정 비 계획 임',\n",
       " '서해안 옹진군 섬 국내 미기 록종 조류 종 발견 서해안 옹진군 섬 국내 미기 록종 조류 종 발견 국립생물자원관 서해안 통과 철새 실태 조사 동남아시아 일대 뿔 찌르레기 회색 머리 노랑 딱새 발견 국립생물자원관 서해안 섬 지역 통과 철새 도래 실태 조사 중 국내 기록 뿔 찌르레기 가칭 회색 머리 노랑 딱새 가칭 처 음으로 발견 뿔 찌르레기 인천광역시 옹진군 무인도 회색 머리 노랑 딱새 옹진군 소청도 각각 개체 발견 뿔 찌르레기 중국 남 부지역 부터 베트남 등 동남아시아 부지역 까지 널리 분포 찌르레기 속 텃새 몸 길이 무게 정도 몸 대부분 검은색 찌르레기 부리 시작 부분 여러 개 깃 뿔 처럼 비행 때 날개 흰색 무늬 보이 것 특징 회색 머리 노랑 딱새 중국 남서 부지역 인도 포함 동남아시아 폭 분포 종이 솔 딱새 속 조류 중국 남 서부 여름 철새 인도 태국 베트남 말레이시아 등 텃새 분포 몸 길이 정도 머리 가슴 회색 몸 면 날개 꼬리 녹색 배 꼬리 깃 노란색 국립생물자원관 이번 관찰 뿔 찌르레기 회색 머리 노랑 딱새 본래 서식지 길 새 로 추정 이번 발견 기후변화 연구 지표 종 활용 조류 분포 권 변화 연구 등 학술 적 의미 국립생물자원관 이번 미기 록종 발견 계기 우리나라 섬 지역 통과 철새 관찰 생물다양성 보전 위 철새 연구 생물 종 발굴 더욱 강화 계획 환경부 철새 연구 생물 종 발굴 강화 위해 옹진군 소청도 국가 철새 연구 센터 를 건립 중이 청사 완공 이후 본격 적 철새 연구 시작 예정 소청도 중국 산둥반도 우리나라 중 부지역 연 결하 최 단거리 위치 철새 주요 이동 통로 로서 철새 연구 최적 지로 곳 뿔 찌르레기 회색 머리 노랑 딱새 사진 뿔 찌르레기 회색 머리 노랑 딱새 분포 지도 질의 응답 전문용어 설명 끝',\n",
       " '제품 환경성 표시 드립 환경 산업 기술 원 제품 환경성 표시 광고 길라잡이 책자 발간 환경부 한국 환경 산업 기술 원 원장 남 광희 은 제품 환경성 관 표시 광고 제도 이해도 높이 기 위해 기업 담당자 위 제품 환경성 표시 광고 길라잡이 책자 발간 제품 환경성 이란 제품 제조 소비 폐기 때 배출 오염 물질 온실가스 비롯 때 사용 자원 에너지 등 환경 모든 영향력 정도 나타 것 이번 책자 제품 환경성 표시 광고 대해 표현 명확 성 대상 구체성 정보 완전 성 등 기본 원칙 구 체적 사례 설명 독자 표시 방법 명확 알 수 도록 예 접착제 휘 발성 유기화합물 이 검 사실 무독 성 표시 안 휘 발성 유기화합물 불검 과 소비자 오 인하 도록 명확 표시 제품 포장 재활용 불구 제품 전체 재활용 가능 표시 것 소비자 잘못 인식 주기 때문 포장 재활용 가능 과 재활용 부분 무엇 인지 구 체적 주방 세제 제품 사용 것 수질오염 발생 수 제품 수질오염 일 방적 표시 도 안 이 외 책자 제조업 자 등 제품 환경성 표시 광고 바르게 적용 스스로 점검 수 자가진단 점검 표 셀프 체 크리스트 를 수록 기업 관계자 편의 또한 출시 제품 대해 한국 환경 산업 기술 원 환경성 표시 광고 검토 지원 제품 환경성 표시 광고 사전 검토 제 안내 포함 책자 중순 부터 기업 교육 및 세미나 시 배포 예정 한국 환경 산업 기술 원 누리집 서도 그림 파일 수 남 광희 한국 환경 산업 기술 원장 기업 제품 환경성 표시 광고 제도 바르게 이해 준수 수 도록 적극 지원 제품 환경성 표시 광고 길라잡이 책자 표지 전문용어 설명 끝',\n",
       " '환경부 장관 갈수 기 안전 대진 단 현장 점검 실시 환경부 장관 갈수 기 안전 대진 단 현장 점검 실시 윤성규 환경부 장관 한강 수계 상류 지역 강원도 횡성댐 현장 점검 실시 윤성규 환경부 장관 지난해 부터 지속 강수량 부족 및 겨울 가뭄 중 부지역 주요 댐 저수 율 낮 아지 가운데 오전 한강 수계 상류 지역 강원도 횡성댐 대한 현장 점검 실시 이번 현장 점검 횡성댐 저수량 용수 공급 현황 비상 용수 공급 대응 체제 등 점검 댐 주요 시설 물 수질 등 총 저수량 횡성댐 현재 저수량 월말 기준 은 저수 율 최근 최저 수준 나타 영서 영동 지역 포함 중 부지역 갈수 현상 악화 상수 원수 공급 차질 및 수질 관리 어려움 예상 이 환경부 지난 월부 터 가뭄 지역 신속 비상 급수 실시 위 현장 중심 비상 급수 체계 유지 또한 폐수 배출 유류 보관 시설 공사 장 등 배출 원 관리 강화 상수 원 등 대한 사전 찰 활동 통해 수질오염 사고 예방 만전 기하 수질오염 사고 및 녹조 발생 시 비상 방류 등 신속 대응 위해 관계 기관 합동 수질 수량 계 시스템 구축 운영 한강 수계 주요 댐 수위 및 저수량 율 비교 끝 관련 사진 이후 환경부 웹하드 게재 예정',\n",
       " '제 환경 날 기념 식 개최 기후 체제 제주 탄소 섬 앞장 제주 탄소 섬 추진 주제 제 환경 날 기념 식 제주도 개최 환경부 장관 윤성규 한국 에너지 기술 연구원 제주 글로벌 연구 센터 제주도 민 관계자 백 여명 참석 가운데 제 환경 날 기념 식 개최 올해 기념 식 제주도 개 최하 것 체결 새 기후변화 협정 선 제적 대응 새 성장 기회 활용 위해 제주도 세계 적 모범 탄소 섬 의지 표명 위해 이번 기념 식 주제 기후 체제 제주 탄소 섬 앞장 윤성규 환경부 장관 기념 통해 기후변화 선 제적 대응 기후 체제 새 성장 기회 활용 위 첫 걸음 제주 시작 것 의미 이 대한 지원 고 예정 기념 식 환경보전 기여 온 공로 각계 인사 대한 정부 포상 실시 국민훈장 동백 장 수상자 한삼 조선일보 논설 위원 샛강 등 환경 캠페인 주도 환경 칼럼 게재 통해 환경 쟁점 해설 대안 제시 등 국민 환경보전 인식 고 기여 다른 국민훈장 동백 장 수상자 창 한국 자원 순환 단체 총 연맹 회장 자원 재활용 기술 개발 및 보급 자원 순환 사회 구축 앞장 온 공로 인정 홍조 근정훈장 수상자 김홍 균 한양 대학교 교수 환경오염 피해 구제 제도 도입 공감 형성 법률 안 자문 등 환경법 제도 선 진화 기여 환경 전문가 탑 산업 훈장 수상자 문대 흥 현대 자동차 주 부 사장 수소차 핵심 기술 연료 전지 국산 화 기술 개발 주 도하 세계 최초 수소 자동차 양산 체제 구 축하 등 친환경 차량 개발 기여 정부 포상 명 훈장 명 포장 명 대통령 표창 명 한라 체육관 등 제주도 각지 재생 가능 에너지 전시회 환경 퀴즈 대회 전기자동차 랠리 등 채 부대 행사 개최 또한 환경부 지자체 환경 달 로 정 지역 특성 환경 정화 활동 전시회 체험 행사 등 달 간 진행 예정 환경 날 기념 행사 개요 주요 정부 포상 자 공적 개요 환경 날 연혁 끝',\n",
       " '태안 해안 유류 사고 이후 물새 번식 증가 확인 태안 해안 유류 사고 이후 물새 번식 증가 확인 태안 해안 국립공원 몽산포 모래 해변 물떼새 번식 첫 확인 유류 유출 사고 이후 지속 적 관리 통한 생태계 회복 신호 국립공원 관리 공단 이사장 박보환 이 지난 태안 해안 유류 유출 사고 이후 태안 해안 지난 쇠 제비갈매기 번식 둥지 처 음으로 발견 데 물떼새 번식 몽산포 등 다수 해안 증가 것 확인 공단 이번 번식 둥지 발견 이 지역 생태계 점차 안정화 증거 보고 유류 유출 사고 전인 태안 해안 바람 아래 해변 머리 물떼새 쌍 기지 포 해안 물떼새 둥지 발견 이번 첫 확인 몽산포 포함 기지 포 바람 아래 변 등 지역 동시 번식 둥지 확인 것 처음 바람 아래 해변 쇠 제비갈매기 번식 둥지 처 음으로 발견 공단 몽산포 기지 포 바람 아래 안 등 발견 번식 둥지 통해 물떼새 알 새끼 확인 바람 아래 해안 쇠 제비갈매기 알도 처 음으로 발견 일 반적 조류 먹이 풍부 천적 로부터 방해 지역 번식 지로 선정 따라서 번식 둥지 발견 점 조류 이원 수 해양 생물 부하 것 의미 해양 생태계 회복 증거 물떼새 쇠 제비갈매기 하순 부터 경 해안 모래 땅 구의 삼각주 등지 주로 번식 여름철새 이자 통과 철새 알 보통 개 둥지 조개 껍데기 돌 및 나무 조각 등 먹이 주로 소형 무척추동물 곤충류 복족류 갑각류 다모류 소형 어류 등 이번 물새 번식 둥지 발견 국립공원 철새 연구 센터 허베이 스피리 트 호 유류 유출 사고 생태계 영향 장기 모니터링 일환 실시 조사 중 확인 국립공원 유류 오염 연구 센터 유조선 유류 유출 사고 이후 지속 적 잔 존유 징 해양 환경 해양 생물 등 조사 수행 신용 석 국립공원 연구원 원장 태안 해안 이번 물새 번식 둥지 발견 유류 유출 사고 이후 이 일대 조류 서식지 점차 안정 하나 증거 라며 향후 자세 번식 현황 관찰 통해 특 별보 호구 선정 등 방법 이 서식지 보호 것 말 관련 사진 부 질의 응답 전문 용어 설명 끝 관련 영상 및 사진 환경부 웹하드 게재',\n",
       " '제 대한민국 국제 물주 간 개막 제 대한민국 국제 물주 간 개막 대구 수 토 일간 개최 국제 물 이슈 논의 물 산업 육성 위해 개국 전문가 한자리 국토교통부 장관 강호인 환경부 장관 조경규 대구광역시 시장 권영진 경상북도 도지사 김관용 사장 이학수 공동 주최 한국 물포 럼 총재 이정무 이 주관 제 대한민국 국제 물주 간 이하 행사 일부 터 까지 나흘 간 대구 열 린다 이번 행사 작년 대구 경주 개최 제 차 세계 물포 럼 성과 이 어가 기 위 박근혜 대통령 제안 것 기존 대구 물 산업 전과 경북 낙동강 국제 물주 간 행사 등 통합 올해 처 음으로 개최 것 제 지속 가능 발전 위 워터 파트너 십 주제 이집트 세네갈 등 개국 장 차관 포함 세계 개국 물 관련 정부 민간 기관 학계 관계자 여명 베트남 호치민 필리핀 마닐라 등 개국 도시 대표 등 참여 개 회식 시작 고위 급 회담 세미나 포럼 전시회 등 총 개 다양 프로그램 구성 프로그램 개요 참조 국토교통부 관계자 대한민국 국제 물주 간 행사 국내외 물 분야 정부 지자체 민간 기업 학계 국내 최대 규모 물 관련 행사 우리나라 제 차 세계 물포 럼 국제사회 물 문제 주도 세미나 포럼 등 통한 국내 기술 홍보 미팅 기회 제공 등 향후 우리 기업 해외진출 허브 역할 해나 것 기대 고',\n",
       " '사업 장 오토바이 등 배출 대기오염 물질 관리 강화 사업 장 오토바이 등 배출 대기오염 물질 관리 강화 대기 환경보전 법 시행 령 및 시행 규칙 일부 터 시행 강선 건조 업 등 개 업종 유해 대기오염 물질 비산 배출 감 대상 업종 확대 관리 오토바이 배출 허용 기준 강화 및 경유 택시 배출 가스 보증 기간 확대 환경부 윤성규 장관 사업 장 이륜차 오토바이 등 배출 유해 대기오염 물질 관리 강화 주요 내용 대기 환경보전 법 시행 령 시행 규칙 개 정령 일부 터 시행 이번 개 정령 국정 과제 대기 질 개선 기여 이륜차 경유 택시 주유소 등 발생 생활 주변 대기오염 물질 감소 것 기대 개 정령 유해 대기오염 물질 비산 배출 감 대상 업종 확대 대형 사업 장의 오염 물질 측정 결과 공개 이동 오염원 대한 관리 강화 주유소 유증기 회수 설비 설치 의무 지역 확대 등 포함 유해 대기오염 물질 비산 배출 감 대상 업종 원유 정제 처리 업 등 현행 개 일부 터 강선 건조 업 등 개 업종 추가 개 업종 확대 환경부 방지 시설 거치 공기 중 직접 배출 유해 대기오염 물질 줄 이기 위 비산 배출 감 제도 최초 도입 이번 개정 통 대상 사업 장 규모 확대 화학물질 배출 량 조사 결과 유해 화학물질 배출 량 톤 중 대기 중 배출 이중 인 방지 시설 공기 중 직접 비산 배출 대형 사업 장 굴뚝 배출 대기오염 물질 측정 결과 내년 월부 터 단위 공개 공개 항목 굴뚝 자동 측정기 기 측정 먼지 질소 산화물 등 대기오염 물질 종 연간 배출 량 공개 대상 업체 연간 대기오염 물질 배출 량 톤 이상인 전국 개 사업 장 대기오염 물질 종 먼지 질소 산화물 황산화물 일산화탄소 염화수소 암모니아 불화수소 이륜차 등 이동 오염원 배출 대기오염 물질 관리 강화 현행 유로 기준 이륜차 배기가스 배출 허용 기준 일부 터 유로 수준 강화 일산화탄소 탄화수소 질소 산화물 측정 기준 치가 이륜차 배출 허용 기준 강화 안 단위 이륜차 배출 허용 기준 강화 안 표 오염 물질 별로 현행 안과 개선 안 확인 수 구분 일산화탄소 탄화수소 질소 산화물 비고 현행 시행 개선 환경부 이륜차 승용차 배 이상 대기오염 물질 배 출하 생활 주변 기질 악화 주요 요인 보고 이륜차 전체 등록 차량 만대 기준 의 이나 수송 부문 대기오염 물질 배출 량 를 차지 함 이륜차 배출 가스 부품 대한 보증 기간 확대 배출 가스 부품 보증 기간 현행 최고 속도 미만 이륜차 이상인 이륜차 까지 보증 기간 확대 관련 부품 내 구성 강화 대기 환경 영향 지고 소비자 권 확대 것 이 올해 일부 터 출시 예정 경유 택시 배출 가스 부품 대한 보증 기간 강화 경유 택시 택시 운송 사업 발전 관 법률 및 택시 산업 발전 종합 대책 이후 연간 만대 범위 내 유로 경유 택시 도입 결정 유가 보조금 지급 택시 용 사용 유로 경유 차량 배출 가스 부품 보증 기간 현행 액화 석유 스 택시 수준 적용 현행 인 보증 기간 올해 월부 터 이후 로 보증 기간 확대 경유 택시 도입 환경 영향 최 소화 현행 택시 형평성 제 전망 주유소 유증기 회수 설비 설치 의무 지역 인구 이상 도시 확대 수 근거 마련 인구 이상 도시 통계청 울산 대전 포항 등 개대 상 지역 오존 농도 환경 기준 초과 여부 고려 해당 지자체 협의 고시 예정 주유 중 발생 유증기 벤젠 등 휘 발성 유기화합물 질 를 포함 건강 피해 유발 뿐 오존 발생 원인 물질 작용 고시 지역 영업 중인 주유소 부터 까지 단계 적 유증기 회수 설비 설치 운영 환경부 이번 하위 법령 개정 통해 사업 장 이륜차 경유 택시 주유소 등 생활 주변 발생 대기오염 물질 국민 체감 수 기질 개선 것 기대 비산 배출 감 제도 설명 자료 비산 배출 시설 관리 기준 적용 대상 업종 굴뚝 원 격감 시체 계 현황 질의 응답 전문 용어 설명 끝',\n",
       " '생활화 학 제품 살생물제 안전 관리 법 제화 추진 생활화 학 제품 살생물제 안전 관리 법 제화 추진 화학물질 등록 가속 화 제품 내 함유 화학물질 관리 강화 위해 화학물질 등록 및 평가 등 관 법률 개정안 입법 예고 살생물제 관리제 도입 생활화 학 제품 관리 강화 위 생활화 학 제품 및 살생물제 안전 관리 법 제정 안 입법 예고 환경부 장관 조경규 화학물질 등록 및 평가 등 관 법률 이하 화평 법 개정안 생활화 학 제품 및 살생물제 안전 관리 법 이하 살생물제 법 제 정안 입법 예고 이번 법률 제 개정안 지난 국민 건강 영향 수 생활화 학 제품 안전 관리 체계 개선 위해 수립 생활화 학 제품 안전 관리 대책 뒷받침 위해 마련 화평 법 개정안 제품 위해 성 평가 위해 필수 적 화학물질 유해 성 정보 조기 확보 위해 화학물질 제품 사용 것 대한 감시 규제 강화 위 것 유해 성 물질 고유 독성 위해 성 유해 물질 노출 건강 피해 줄 수 정도 유해 성 노출 빈도 지속 시간 강도 살생물제 법 제 정안 가습기 살균제 유사 사고 재발 예방 등 살생물제 관리 강화 위해 살생 물질 승인 살생물제 품 허가 제도 등 도 입하 것 현재 화평 법 관리 위해 우려 제품 관련 조문 살생물제 법 관 관련 사업자 책임 처벌 강화 내용 주요 골자 살생물제 정의 및 예시 살생물제 정의 및 예시 살생물제 정의 예시 살생 물질 유해 생물 제거 제어 무 화 억 제하 효과 물질 등 살생물제 품 유해 생물 제거 등 주 기능 제품 소독제 방충 제 살충제 방부제 가습기 살균제 오존 이온 발생 기 등 살생 물처리 제품 살생 물질 의 도적 포함 제품 중 유해 생물 제거 등 주 기능 제품 항균 에어컨 필터 모기 퇴치 옷 탈취 양말 보존 제 함유 세 정제 방향 제 탈취 제 등 살생 물질 로 보존 제 살생물제 품 보존 제로 코팅 항균 필터 살생 물처리 제품 화평 법 개정안 주요 내용 다음 화학물질 등록 체계 변경 화학물질 등록 빨 라진 기존 화학물질 등록 체계 등록 대상 매 마다 지정 고시 체계 법적 이행 력 안 정성 수 까지 등록 대상 종 고시 이 제조 수입 량 연간 톤 이상인 기존 화학물질 여종 은 모두 등록 도록 규정 유럽연합 의 등록 제도 유통 량 등록 유예 기간 설정 사전 등록 제도 도입 기존 화학물질 등록 신청 일정 기간 내 사전 등록 여야 대표자 정 자료 공동 제 출하 여야 함 화학물질 등록 체계 변경 내용 현행 개선 기존 화학물질 중 마다 등록 대상 지정 고시 모든 기존 화학물질 단계 적 등록 약 종 화학물질 등록 이나 변경 등록 유통 사업자 벌칙 이하 징역 원 이하 벌금 과 더 불어 화학물질 매출 액 일부 상 당하 과징금 부과 유해 화학물질 정보 전달 의무 강화 유독 물질 등 유해 화학물질 등록 여부 함량 관계 화학물질 제조 자가 물질 구 매하 자 유해 성 정보 전달 의무 강화 위해 물질 제품 내 사용 대한 감시 강화 일정 비율 이상 의 유독 물질 제한 물질 유해 화학물질 이 함유 화학 제품 신 고하 것 고 위험 물질 발암 성 돌연변이 성 생식 독성 물질 등 사용 경우 모두 신고 강화 유 해성 의심 등 필요 경우 등록 요구 수 제한 물질 노닐 페놀 등 현재 종 사용 금지 용도 제품 로 사용 경우 대한 처벌 이하 징역 원 이하 벌금 이 신설 현재 화학물질 관리 법 영업 허가 수입 신고 등 의무 부과 허가 물질 은 현재 일부 용도 대해 만 허가 그 제한 수 도록 원칙 적 사용 금지 불가피 경우 허가 아야 사용 수 도록 개편 강화 살생물제 법 제 정안 주요 내용 다음 살생 물질 승인 제도 도입 살생 물질 살생물제 품 사용 위해 물질 효과 효능 사용 목적 및 노출 독성 등 평가자 료 제 출하 환경부 장관 평가 승인 아야 기준 시장 유통 중인 살생 물질 일정 기간 이내 신고 기존 살생 물질 인정 수 사업자 이내 범위 승인 유예 기간 부여 승인 신청 필요 시험 자료 일정 제 출하 여야 도 살생물제 품 규제 도입 면서 유예 기간 부여 평가 장시간 연장 평가 완료 목표 살생물제 품 허가 제도 도입 제품 효과 효능 사용 목적 및 노출 독성 제품 표시 및 포장 등 자료 제출 환경부 장관 평가 허가 아야 사용 모든 살생 물질 명칭 농도 허가 번호 사용 방법 부작용 및 응급처치 방법 등 표시 농약 의약외품 화장품 식품첨가물 물 수처리 제 선박 평형 수처리 제 등 법 규제 살생물제 이 법 적용 제외 다른 용도 사용 경우 적용 도록 해 관리 사각 지대 발생 도록 살생 물처리 제품 허가 살생물제 품 사용 수 포함 모든 살생 물질 명칭 기능 표시 생활화 학 제품 관련 규정 통합 관리 강화 현행 화평 법 상의 위해 우려 제품 은 적합 확인 대상 생활화 학 제품 명칭 변경 관 살생물제 품 동일 법률 규정 수 도록 화학물질 노출 위해 우려 생활화 학 제품 대해 성분 배합 비 등 실태 조사 위해 성 평가 실시 위해 여부 결정 수 근거 마련 생활화 학 제품 제조 수 입자 마다 시험 검사 기관 부터 안전 표시 기준 적합 여부 검사 도록 화평 법 하위 법령 살생물제 법 제 정안 격 상하 규정 생활화 학 제품 살생물제 품 유통 관리 강화 생활화 학 제품 살생물제 품 광고 무독 성 무 안전 환경 친 적 등 소비자 오해 수 광고 문구 사용 수 제품 건강 환경 악 영향 것 알 경우 제조 수입 자가 환경부 장관 보 고하도 록 의무 화 승인 허가 취소 살생물제 제조 수 입하 거나 부작용 보 고하 경우 등 판매 액 상당 과징금 부과 안전 기준 위반 제품 수입 통신 판 매하 해외 구매 대행 자 통신 판매 중개 처벌 수 규정 도입 이호 중 환경부 환경 보건 정책 관 이번 법률 제 개정 국내 유통 모든 화학물질 유해 성 정보 확보 수 살생 물질 발암 물질 등 위해 화학물질 제품 내 사용 엄격 관리 것 말 이번 법률 제 개정안 자세 내용 환경부 누리집 법령 정보 확인 수 입법 예고 관련 생활화 학 제품 안전 관리 대책 주요 내용 질의 응답 끝',\n",
       " '참고 중 서부 지역 중심 미세먼지 가능 대기 정체 일부 터 까지 일간 지속 면서 수능 당일 중 서부 지역 중심 미세먼지 가능 국립 환경과학 원 원장 장윤석 은 현재 서쪽 지역 중심 일 부지역 이상 미세먼지 고 농도 발생 대기 정체 까지 지속 면서 중 서부 지역 미세먼지 농도 증가 것 전망 수능 일인 서울 인천 경기 남부 충청남도 일 평균 수준 미세먼지 고 농도 발생 것 전망 이번 미세먼지 고 농도 고기압 영향 하 국외 유입 거의 대기 정체 국내 배 출원 영향 중 서부 지역 중심 미세먼지 농도 증감 반복 면서 증가 추세 것 분석 또한 밤사이 국외 유입 가능성 까지 고 농도 가능성 것 예상 국립 환경과학 원 미세먼지 오염 변동 가능성 실시간 대기오염 예보 정보 참고 건강 유의 것 안내 상세 분석 결과 끝',\n",
       " '국립생태원 생태학 술 야생동물 질병 간 캐나다 수의 병리학자 연구 결과 경험 학술 번역 야생동물 질병 생태 적 인과관계 접근 예방 대안 모색 환경부 국립생태원 원장 이희철 은 인간 동물 간의 질병 생태 적 인과관계 에코 인사이트 시리즈 야생동물 질병 발간 야생동물 질병 은 캐나다 출신 수의 병리학자 게리 우베 저 이상 연구 결과 경험 토대 간 학술 를 국립생태원 동물병원 부 국내 사례 사진 자료 등 보 강하 번역 책 이번 번역 조류인플루엔자 메르스 사스 등 인수 공통 감염병 관리 중요성 인수 공통 감염병 숙주 유지 숙주 세분 화 인간 가축 야생동물 공 유하 병원체 실제 역 사적 사례 표 이용 설명 인수 공통 감염병 예방 위 방법 제시 질병 발생 원인 비롯 생물 무생물 간의 상호 관계 반응 발생 인과관계 소개 독자 호기심 자극 국내 수의 병리학 전문가 직접 번역 실제 업 사용 단어 어휘 사용 직접 촬영 사진 수록 독자 이해도 야생동물 질병 은 수의사 생태학 야생 동물학자 집단 생물학자 공중보건 종사 자 유용 활용 수 일부 터 전국 주요 서점 온라인 서점 통해 구입 수 가격 국립생태원 이번 야생동물 질병 간 계기 생태 분야 다양 학문 주제 에코 인사이트 시리즈 지속 적 예정 이희철 국립생태원 장 에코 인사이트 시리즈 통해 세계 적 생태학 흐름 우리나라 생태학 자 관련 분야 전문가 동참 수 도록 우수 해외 저작물 엄 선하 번역 것 이 라며 국립생태원 연구 성과 물 국민 예비 생태학 자 알리 기 위해 에코 인사이트 학술 총서 지속 적 간 계획 야생동물 질병 표지 및 내용 질의 응답 전문용어 설명 끝',\n",
       " '참고 한국 닛산 캐시 카이 행정처분 집행정지 결정 한국 닛산 캐시 카이 행정처분 집행정지 결정 서울 행정법원 환경부 지난 한국 닛산 주 캐시 카이 판매정지 인증 취소 리콜 명령 과징금 부과 처분 대하 일자 과징금 부과 를 제외 판매정지 인증 취소 리콜 명령 대해 집행정지 일부인 용 결정 한국 닛산 주 과징금 전액 납부 앞서 한국 닛산 주 지난 김앤장 법률 사무소 소송대리인 서울 행정법원 행정처분 취소소송 제 기하 면서 집행정지 신청 서울 행정법원 제 행정부 양 심문 진행 행정처분 취소소송 변론 진행 상태 임 환경부 이번 집행정지 결정 대해 항고 기간 내 자료 보완 서울 고등법원 항고 예정',\n",
       " '려 해상 멸종위기종 풍란 칠보 치마 복원 려 해상 멸종위기종 풍란 칠보 치마 복원 려 해상 확보 자생 원종 풍란 개체 추가 복원 칠보 치마 개체 국립공원 내 무인도 자생 복원 국립공원 관리 공단 이사장 박보환 은 멸종위기 야생 생물 급 풍란 개체 급 칠보 치마 개체 려 해상 국립공원 내 무인도 최근 복원 국립공원 관리 공단 지난해 려 해상 국립공원 무인도 일대 풍란 개체 복원 바 려 해상 국립공원 사무소 복원 풍란 개체 중 절벽 상부 개체 제외 개체 현재 관찰 결과 약 인 개체 생존 것 확인 려 해상 국립공원 사무소 지난해 복원 풍란 개체 이번 개체 원종 자생 내 복원 풍란 자생 안정화 힘 려 해상 일대 확보 칠보 치마 원종 개체 증식 이후 개체 이번 복원 사용 려 해상 국립공원 약 여종 야생 동식물 서식 풍란 복원 무인도 원시 생태계 보전 곳 국립공원 관리 공단 칠보 치마 역시 원 자생 유사 환경 조건 복원 때문 안착 성공 것 기대 또한 국립공원 관리 공단 려 해상 국립공원 내의 자연 관찰 멸종위기 식물원 국립공원 명품 마을 등 탐방 객 볼 수 장소 풍란 개체 풍란 난초 속 다년생 초본 식물 주로 상록수 림 나무 바위 자라 착 생식 물이 남해안 지역 제주도 자생 식물 무분별 남획 개체 수가 급격 감소 칠보 치마 백합 속 다년생 초본 수원 칠보산 처음 발견 칠보 치마 란 이름 칠보산 더 이상 자취 볼 수 현재 부산 경남 일 부지역 볼 수 정도 매우 희귀 종이 최종 관 국립공원 관리 공단 자원 보전 처 국립공원 자연 생태계 필수 구성 인자 식물 종 복원 것 매우 의미 사업 이 라며 앞 과 학적 조사 보전 복원 통해 국립공원 생태계 건 강성 높이 우리나라 생물다양성 보전 국가 생물 주권 확립 기여 것 말 종별 세부 설명 자료 질의 응답 전문용어 설명 끝',\n",
       " '우리 식물 가치 알리 멸종위기 식물 종자 발간 우리 식물 가치 알리 멸종위기 식물 종자 발간 국립생물자원관 멸종위기 식물 연구 생물 주권 강화 계기 멸종위기 식물 종자 보존 증식 연구 활용 기대 종자 종 포함 현재 까지 여 점 종 의 종자 건강 상태 보존 멸종위기 야생 생물 식물 종 대해 발아 연구 완료 대량 증식 연구 진행 중이 그 중 멸종위기 야생 생물 급 전 주물 꼬리풀 황 은 전주시 서귀포시 복원 사업 각각 추진 국립생물자원관 이번 멸종위기 식물 종자 발간 계기 멸종위기 야생 생물 식물 종자 안 정적 보존 복원 위 중요 자료 활용 계획 멸종위기 식물 종자 달 중 전국 주요 도서관 연구기관 배포 예정 국립생물자원관 누리집 자료 실 게재 백운석 국립생물자원관 장 나고야 의정서 생 물자원 산업 시대 대비 우리나라 야생 식물 대한 종자 보존 더 불어 대량 증식 연구 통해 지속 적 야생 식물 자 원화 앞장 설 계획 말 멸종위기 식물 종자 표지 멸종위기 식물 종자 내지 멸종위기 식물 종자 소개 종자 종 질의 응답 전문용어 설명 끝',\n",
       " '물관 리 혁신 방안 해커 톤 대회 참가자 모집 한국 수자원공사 일부 터 까지 국민 누구 참여 수 물관 리 혁신 방안 헤커톤 대회 공모 아이디어 차원 구체 적 물관 리 혁신 실행 방안 도출 기대 환경부 한국 수자원공사 사장 이학수 국민 직접 국가 물관 리 혁신 방안 제시 시민 참여 혁신 해커 톤 대회 참가자 일부 터 까지 모집 해커 톤 해킹 마라톤 합성어 참가자 팀 일정 시간 내 아이디어 기획 부터 완성 까지 결과 물 완 성하 혁신 기법 의미 이번 해커 톤 대회 한국 수자원공사 지난 월부 터 운영 온라인 소통 창구 단비 톡톡 통해 수렴 국민 제안 구 체적 실행 방안 발전 위해 마련 대한민국 국민 누구 참가 가능 명 이상 명 이내 팀 구성 단비 톡톡 누리집 의 신청 양식 접 수하 공모 주제 물관 리 전문 공기업 한국 수자원공사 혁신 성장 추진 방안 여기 대해 무인기 드론 등 혁신 신 기술 적용 방안 혁신 성장 저해 요인 해소 방안 등 물관 리 혁신 위 실행 계획 구 체적 제시 한국 수자원공사 각 팀 제출 실행 계획 혁신 성 우수 성 사업 성 완성 등 종합 평가 상위 개 팀 서울 중구 엘 더블유 컨벤션 센터 예정 해커 톤 대회 참가 수 자격 부여 대회 참가 개팀 한국 수자원공사 직원 관련 전문가 참여 전문성 완성 를 예정 또한 대회 선정 수작 한국 수자원공사 혁신 추진 과제 로 지정 실행 력 확보 진행 과정 단비 톡톡 통해 공개 예정 한국 수자원공사 이번 대회 계기 국민 적 관심 거나 도입 시급 물관 리 혁신 주제 선정 국민 직접 실행 방안 제시 해커 톤 대회 정례 화해 국민 주 도하 물관 리 혁신 실현 계획 이학수 한국 수자원공사 사장 해커 톤 대회 국민 관점 국민 물 관리 실현 위 밑거름 것 이 라며 국민 이루 물관 리 혁신 국민 소통 통한 사회 적 가치 실현 최선 시민 참여 혁신 해커 톤 대회 개요 시민 참여 혁신 해커 톤 포스터 끝',\n",
       " '태안 해안 러시아 태국 철새 발견 여름철새 나그네새 주요 이동 경로 지역 부각 태안 해안 러시아 태국 철새 발견 여름철새 나그네새 주요 이동 경로 지역 부각 태안 해안 학암 포 가락지 부착 조사 중 러시아 태국 이동 숲새 쇠개개비 확인 국립공원 관리 공단 이사장 박보환 은 태안 해안 국립공원 학암 포 조류 가락지 부착 조사 진행 중 러시아 연해주 지방 숲새 태국 라용 지방 만나이 섬 쇠개개비 를 확인 이번 발견 숲 러시아 버드 링잉 센터 연해주 지방 프 라바 리토브카강 부근 가락지 부착 개체 약 개월 지난 올해 약 어진 태안 해안 학암 포 발견 국립공원 관리 공단 철새 연구 센터 러시아 버드 링잉 센터 숲새 부착 가락지 사실 관계 요청 최종 확인 이번 발견 숲 최소 이상 어미 새 로 추정 러시아 방사 이후 동남아 지역 월동 후 번식 위해 북상 중 태안 해안 발견 것 숲 대만 중국 동남 부 미얀마 월동 우리나라 중국 북동 부 사할린 남부 쿠릴열도 남부 일본 번식 여름철새 이번 발견 태안 해안 국립공원 지역 중국 남부 동남아시아 등 월 동지 로부터 러시아 일본 국내 번식 지로 북 상하 숲새 중요 이동 경로 임 확인 첫 사례 또한 지난 태국 라용 지방 만나이 섬 가락지 부착 쇠개개비 도 어진 태안 학암 포 발견 이번 발견 쇠개개비 올해 태국 공원 청 가락지 부착 개체 달 태안 학암 포 확인 쇠개개비 중국 남부 태국 미얀마 월동 중국 동북 부와 우수리강 사할린 등지 국내 발견 여름철새 이자 국내 통과 나그네새 철새 연구 센터 태국 조류 보호 협회 확인 작업 후 쇠개개비 의 이동 경로 태국 로부터 확인 첫 기록 의미 지금 까지 국립공원 관리 공단 조사 통해 일본 시네마 현 미야기현 등 가락지 부착 쇠개개비 차례 흑산도 홍도 일대 확인 바 태안 해안 일대 발견 것 이번 처음 철새 연구 센터 이번 쇠개개비 의 발견 통해 태안 학암 포 월 동지 번식 지로 이 동하 철새 중요 이동 경로 중 하나 임 확인 권 영수 국립공원 관리 공단 철새 연구 센터 장 태안 해안 조류 가락지 부착 조사 시행 이후 동안 새 철새 이동 경로 지속 적 확인 고 말 또한 앞 철새 이동 경로 새로이 철새 도래 보호 위해 가락지 부착 조사 지역 범위 계획 가락지 부착 조사 통한 이동 경로 확인 결과 관련 사진 종 설명 질의 응답 전문용어 해설 끝',\n",
       " '미기 록 담수 식물 좀개구리밥 발견 유용 자원 기대 미기 록 담수 식물 좀개구리밥 발견 유용 자원 기대 국내 미기 록 고등 수생 식물 좀개구리밥 가칭 경기 충청 경상 전남 제주 등 전국 서식 확인 수질 정화 오염 물질 독성 평가 녹색 비료 축산 사료 바이오연료 등 생 물자원 산업화 연구 활성화 기대 국립 낙동강 생 물자원 관 관장 안영 은 올해 연구 사업 수행 중인 담수 생물 조사 발굴 사업 국내 미기 록종 담수 식물 좀개구리밥 가칭 이 경기 충청 경상 전남 제주도 등 전국 분포 것 발견 국립 낙동강 생 물자원 관 연 구진 유전자 정보 활용 계통 분석 유전자 염기서열 분석 통해 좀개구리밥 속 포함 좀개구리밥 학명 이 전국 각지 하천 배후습지 논 호소 등 담수 수 생태계 살 것 확인 연 구진 좀개구리밥 의 세 부적 구조 특징 좀개구리밥 형태 적 비슷 좀개구리밥 이름 었다 또한 우리나라 서식 좀개구리밥 속 식물 그간 좀개구리밥 종 이번 연구 통해 좀개구리밥 속 내 유 전적 차이 나 좀개구리밥 의 존재 확인 좀개구리밥 은 좀개구리밥 과 외형 비슷 하나 뿌리 부착 점 기부 싸개 날개 전체 모양 좀개구리밥 이 타원형 까운 데 원형 거나 광 타원형 좀 더 편이 연 구진 좀개구리밥 의 생태 적 특성 고려 좀개구리밥 도 번식 력 유용 생물 자원 활용 수 것 보고 좀개구리밥 은 영양 번식 통해 열흘 동안 배 기하 급수 적 증가 정도 번식 력 단시간 개체 수가 급속도 특성 스웨덴 덴마크 등 주요 경제 협력 개발 기구 국가 좀개구리밥 수 환경 오염 물질 독성 평가 시험 식물 종 이용 중국 윈난성 쿤밍 좀개구리밥 속 식물 이용 오염 호수 정화 기도 국립 낙동강 생 물자원 관 향후 좀개구리밥 이용 수질 정화 물속 오염 물질 독성 평가 축산 사료 녹색 비료 바이오연료 등 유용식 물 자원 활용 연구 추진 계획 국립 낙동강 생 물자원 관 이번 연구 결과 전문 학술지 한국 환경 생태학 회지 다음 달 중 논문 게재 공식 적 검증 과정 계획 안영 국립 낙동강 생 물자원 관장 논 이나 농 수로 발견 우리 좀개구리밥 속 식물 활용 성과 전 국적 분포 장점 가지 며 수질 정화 농축 산산 업 바이오연료 등 산업화 관련 체계 적 연구 진행 경우 우리 유용 식물 다가 것 말 국내 미기 록종 좀개구리밥 가칭 사진 좀개구리밥 가칭 발견 지점 질의 응답 전문용어 설명 끝',\n",
       " '국립공원 인문 자원 문학 연구 발간 국립공원 노래 대표 적 시 소설 기행문 건 정리 환경부 국립공원 관리 공단 이사장 권 업 은 국립공원 배경 주요 문학작품 정리 국립공원 문학 연구 를 최근 발간 이번 연구 한라산 제외 전국 개 국립공원 배경 총 건의 문학작품 중 대표 성과 상징 성 두드 러진 작품 건 대한 원문 해설 작품 배경 역사 적 의미 매천 황현 지리산 아름 다운 풍경 노래 기행문 유 방장산 기 를 비롯 려 해상 앞바다 왜적 맞선 이순신 장군 난중일기 태조 이성계 북한 산 운 새 왕조 개창 꿈 노래 시조 등 운봉 등 시 편 기행문 편 노래 일기 건 수록 수록 작품 마다 작가 삶 시대 상 해당 지역 역사 계 작품 의미 간략 조명하 선인 우리 자연 인문 환경 대한 외 소감 체험 수 도록 이번 연구 국립공원 설화 국립공원 국방 유적 세 번 출판 연구 국립공원 관리 공단 앞 국립공원 종교 유적 사진 그림 주요 인물 등 주제 연구 를 지속 적 발간 계획 국립공원 문학 연구 국립공원 관리 공단 누리집 자료 마당 그림 문서 파일 로 수 이전 웅 국립공원 관리 공단 보전 정책 부장 그간 자연 경관 주목 국립공원 인문 자원 가치 조명하 나 아가 국립공원 역사 인문 교육 장 활용 수 도록 노력 계획 말 연구 수록 문학작품 목록 관련 사진 질의 응답 끝',\n",
       " '환경부 산업 현장 불편 사항 개선 앞 장선 환경부 산업 현장 불편 사항 개선 앞 장선 소음 배출 시설 기준 합리화 화학물질 관리 기업 부담 완화 등 경제 단체 제기 현장 불편 사항 중 합리 적 과제 개선 착수 환경부 장관 윤성규 전국 경제 연합 회 대한 상공회의소 등 개 경제 단체 건의 현장 규제 개선 과제 적극 검토 불합리 거나 과도 규제 요소 개선 위 법령 정비 등 착수 개 경제 단체 전국 경제 연합 회 대한 상공회의소 중소기업 중앙회 중견 기업 연합 회 무역 협회 처 협회 소상 공인 연합 회 주요 개선 과제 다음 특정 수질 유해 물질 페놀류 배 출하 시설 경우 사전 배출 시설 설치 허가 아야 데 현행법 상 페놀류 독성 녹차 등 식품 폴리페놀 까지 포함 폴리페놀 포함 천연 원료 사용 배출 시설 경우 페놀류 검 수 이 천연 폴리페놀 성분 페놀류 분 리하 측정 로써 특정 수질 유해 물질 폴리페놀 제외 거나 폴리페놀 배출 량 페놀류 차감 관리 방안 마련 계획 수질 및 수 생태계 보전 관 법률 시행 규칙 개정 예정 또한 소음 진동 배출 시설 경우 현장 규제 대상 명확 구분 위 실제 배출 소음 측정 대신 기기 동력 기준 마력 기준 배출 시설 해당 여부 판별 최근 기술 진전 마력 기기 소음 배 출하 저 소음 기기 등장 이 현실 고려 앞 기기 마력 뿐 실제 발생 소음 까지 측정 소음 배출 시설 판별 로써 고 효율 저 소음 기기 보급 촉진 계획 소음 진동 관리 법 시행 규칙 개정 예정 올해 부터 시행 화학물질 등록 및 평가 등 관 법률 신규 화학물질 이나 톤 이상 기존 화학물질 제조 수 입하 경우 화학물질 유해 성 등 관 자료 등록 여야 국민 건강 보호 안전 위해 필요 규제 이나 중소기업 경우 화학물질 유해 성 등 관 자료 생산 등록 절차 및 비용 상당 어려움 호소 실정 이 정부 제도 시행 전인 부터 용역 통해 유해 성 시험 자료 생산 그간 구축 자료 저가 생산비 로 기업 제공 개 물질 여개 시험 자료 앞 국내 기업 주로 제조 화학물질 선정 유해 성 시험 자료 생산 후 저가 기업 제공 사업 확대 계획 대기오염 물질 중 아주 작은량 국민 건강 악 영향 줄 수 특정 대기 유해 물질 배 출하 시설 대해 사전 설치 허가 도록 엄격 규제 측정기 기 성능 그동안 검 출하 못 극미 량 수준 까지 측정 수 발전 기존 배출 시설 중 생산 활동 배출 것 보기 매우 농도 특정 대기 유해 물질 측정 경우 배출 시설 적용 대상 제외 수 방안 마련 계획 산 업계 건의 내용 완전 수용 부분 적 합리 적 내용 분 리하 수용 거나 규제 존치 면서 불편 사항 해소 수 다른 대안 적 극적 강구 음식물 쓰레기 탈수 건조 등 방법 부피 량 감량 기기 현재 일 처리 능력 미만 별도 신고 설치 수 건조 음식물 쓰레기 고형 연료 인정 거나 감량 기기 설치 용량 확대 달라 건의 대하 에너지 효율 연료 품질 및 사용 처 등 문제 음식물 쓰레기 고형 연료 인정 수용 음식물 쓰레기 감량 기기 사용자 편익 등 고려 시적 일 처리 능력 까지 확대 시행 폐기물 고형 연료 제품 사용 시설 검사 수 기관 민간 기관 확 대하 지정 달라 요구 대하 고형 연료 제품 사용 시설 전 국적 개소 불과 검사 기관 부 족하 고형 연료 제품 사용 시설 기 피하 주민 정서 고려 검사 기관 확대 공공기관 중 현재 지정 검사 기관 업무 적정 수행 관리 강화 것 바람 직하 고 판단 다만 고형 연료 사용 시설 대한 검사 비용 현행 인 하하 개선 방안 까지 추진 계획 고형 연료 제품 제조 시설 사용 시설 검사 절차 방법 등 관 고시 개정 환경부 앞 산업 현장 제 기하 불편 사항 규제 애로 사항 적 극적 수렴 규제 개선 현장 체감 를 높이 환경 규제 국민 건강 환경 더욱 효과 적 보호 면서 기업 활동 저 해하 도록 지속 적 규제 품질 효율 적 개선 계획 질의 응답 전문 용어 설명 끝',\n",
       " '깃대종 친구 애니메이션 자연 보전 교육 국립공원 깃대종 캐릭터 교육 용 애니매이션 개발 및 배포 환경부 국립공원 관리 공단 이사장 권 업 은 국립공원 대표 깃대종 주제 제작 교육 홍보 용 애니메이션 깃대종 친구 우의 욕심 일부 터 국립공원 관리 공단 누리집 통해 배포 깃대종 이란 그 지역 생태 지리 문화 적 특성 반 영하 상징 적 야생 생물 국제연합 환경 계획 이 발표 생물다양성 국가 연구 관 안내서 가이드라인 제시 개념 애니메이션 깃대종 친구 은 지리산 용추 쌀 바위 전설 겨울 식량 준비 중이 던 깃대종 친 구들 유쾌하 발랄 이야기 용추 쌀 바위 전설 지리산 경남 하동 지역 전설 바위 구멍 쌀 것 우연 목격 나무꾼 욕심 구멍 크게 그 후 쌀 나 오지 이야기 총 종 국립공원 야생동물 깃대종 중 반달가슴곰 지리산 여우 소백산 삵 가야산 하늘다람쥐 속리산 수달 무등산 표범장지뱀 태안 해안 등 종이 출현 전체 분량 영상 과도 욕심 대한 교훈 전달 각 깃대종 별 동물 특성 반 영하 세 세 어린이 루하 볼 수 국립공원 깃대종 국립공원 자연자원 관심 높이 기 위해 각 분야 별 전문가 국민 의견 수렴 각 공원 별로 선정 현재 한라산 제외 전국 개 국립공원 총 종 동물 종 식물 종 의 깃대종 지정 부터 깃대종 중 동물 종 캐릭터 개발 홍보물 제작 등 활용 이번 깃대종 친구 애니메이션 국립공원 관리 공단 누리집 무료 수 비상 업적 목적 활용 가능 김진 광 국립공원 관리 공단 자원 보전 처 미래세 어린이 국립공원 알 수 도록 이번 애니메이션 제작 라며 앞 국립공원 깃대종 다양 분야 홍보 계획 국립공원 별 깃대종 현황 깃대종 친구 우의 욕심 내용 관련 사진 질의 응답 끝',\n",
       " '효소 산업 활용 가치 담수 세균 발견 국립 낙동강 생 물자원 관 효소 활 평가 정보 확보 유용 담수 세균 균주 발견 다당류 분해 등 수입 의존 국내 산업 용 효소 시장 활용 기대 환경부 국립 낙동강 생 물자원 관 효소 산업 활용 가치 담수 세균 균주 발견 다당류 분해 등 종류 효소 활 평가 정보 최근 확보 균주 재료 로부터 순수 분리 세균 및 인 공적 배양 자손 세대 세균 포함 유전자 구성 세포 집단 의미 효소 란 다당류 분해 지방 분해 등 각종 화학반응 자신 변화 반응속도 일종 촉매 단백질 말 국립 낙동강 생 물자원 관 연 구진 낙동강 섬진강 등 채집 국내 담수 세균 균주 대상 부터 개 월간 지방 분해 등 종류 효소 활 여부 평가 효소 활 평가 결과 리시 바실 러스 푸시 포 미스 등 균 주가 지방 분해 효소 생산 것 나타 라보 박 테리 움 레이 첸 바치 등 균 전분 분해 효소 잔 티노 박 테리 움 리비듐 등 균 단백질 분해 효소 페 도박 터 등 균 비 전분 다당류 식이섬유 분해 효소 생산 것 나타 균 종류 효소 활 중 종 이상 중복 활 보임 페니 바실 러스 툰드 외 균 글 루카 이즈 자일란 제 라비 노자 란 제 란 제 등 종 이상 비 전분 다당류 분해 효소 활 능력 바실 러스 스트 토스 페 리쿠스 균 전분 비 전분 다당류 분해 등 종류 효소 활 낙동강 분리 바실 러스 토 엔시 스 키토산 분해 능력 것 파악 국립 낙동강 생 물자원 관 이번 담수 세균 발견 대부분 해외 수입 의존 국내 산업 용 효소 시장 우리나라 고유 생 물자원 활용 수 것 기대 기준 국내 산업 용 효소 시장 약 원 추정 효소 원료 를 해외 수입 출처 제노 포커스 분기 보고서 비 전분 다당류 분해 효소 소화 식이섬유 분 해하 흡수 가능 주기 때문 각광 기능 성 식품 의약품 생산 가축 사료 첨가제 등 다양 산업 활용 국립 낙동강 생 물자원 관 국내 담수 세균 효소 활 지속 적 평가 그 결과 현재 구축 중인 담 수생 물자원 통합 정보 플랫폼 올해 연말 부터 제공 예정 이욱재 국립 낙동강 생 물자원 관 담수 생물 연구 본부장 이번 효소 활 평가 국내 담 수생 물자원 산업 적 가치 부여 일 평가 결과 제공 국내 바이오 산업 발전 기여 것 말 담수 세균 효소 활 분포도 전문용어 설명 끝',\n",
       " '환경 공단 아름 다운 게 소장품 나눔 바자회 개최 깨끗 성능 온전 임 직원 소장품 개 선 해 기부 판매 아름 다운 게 전국 개 매장 동시 진행 임 직원 직접 판매 봉사 참여 판매 수익금 지역 취약 계층 전달 환경부 한국 환경 공단 이사장 전병성 은 나눔 문화 확산 위해 아름 다운 게 공단 임 직원 소장품 기부 판 매하 나눔 바자회 아름 다운 하루 행사 개최 아름 다운 하루 현재 가정 이나 직장 사용 성능 온전 물품 아름 다운 게 기증 하루 동안 재판매 수익금 취약 계층 지원 행사 아름 다운 재활용 재사용 통한 자원 순환 활성화 도모 나눔 통한 사회 취약 계층 지원 위해 부터 공공기관 지자체 기업 등 이번 행사 한국 환경 공단 아름 다운 하루 이름 아름 다운 게 동인 점 분당 이 매점 영등포 점 부산 사상 점 대구 수성 점 대전 방점 광주 첨단 점 등 총 개 매장 열 린다 한국 환경 공단 이번 행사 위해 까지 임 직원 로부터 의류 잡화 가전 도서 등 제품 여 개 전달 아름 다운 게 기증 또한 한국 환경 공단 직원 행사 당일 아름 다운 게 각 매장 판매 봉사활동 진행 판매 수익금 아름 다운 게 지역 매장 소재 취약 계층 의료 비 주거 비 교육비 등 사용 예정 한국 환경 공단 그동안 옷 기부 행사 자원 순환 바자회 등 자원 순환 관련 사회 공헌 활동 매년 개최 전병성 한국 환경 공단 이사장 번 사용 것일 뿐 집 이나 회사 창고 한구석 방치 물건 중 품질 것 꽤 라면 이번 나눔 바자회 환경 공단 직원 제공 질 값 제품 것 말 아름 다운 하루 나눔 바자회 추진 계획 질의 응답 끝',\n",
       " '미래 생 물자원 전문가 여름방학 교육과정 개설 국립생물자원관 미래 생 물자원 생물다양성 전문가 양성 위 개 교육과정 개설 운영 생물 주권 생물다양성 보전 중요성 인식 수 다양 체험학습 중심 구성 환경부 소속 국립생물자원관 관장 백운석 은 여름방학 이하 미래 생 물자원 생물다양성 전문가 양성 위 개 교육과정 개설 운영 개설 과정 어린이 대상 어린이 생 물자원 교실 청소년 대상 개 청소년 생 물자원 교실 교직원 대상 생물다양성 및 생물분류 교원 연수 일부 터 까지 인천 서구 국립생물자원관 운영 제 기 어린이 생 물자원 교실 은 초등학교 학년 명 대상 화 목 까지 운영 제 기 청소년 생 물자원 교실 은 중학생 및 청소년 명 대상 수 금 까지 제 기 청소년 생 물자원 교실 은 고등학생 및 청소년 명 대상 화 목 까지 운영 초 중등 교원 명 대상 생물다양성 및 생물분류 교원 연수 화 목 까지 운영 어린이 생 물자원 교실 은 생물다양성 이해 생 물자원 조사 및 표본 제작 생 물자원 활용 과거 현재 미래 등 개 주제 청소년 생 물자원 교실 은 생물다양성 생 물자원 생물학자 생물 조사 생 물자원 관련 법령 및 국제 협약 등 개 주제 교육 초 중등 교사 및 교장 교감 장학사 등 참여 교원 연수 프로그램 지난해 국유 특허 취득 생 물자원 보드게임 활용 교육 방법 실습 등 학교 현장 나고야 의정서 생 물자원 개념 수 도록 지원 예정 이 한국은행 인 재개발 원 주 최하 초등학생 경제 캠프 참가자 명 국립과천과학관 유니버설 창의 인재 학교 참여자 명 등 대상 생 물자원 가치 나고야 의정서 바이오 산업 활성화 등 전달 교육 프로그램 운영 국립생물자원관 현재 수행 생 물자원 생물다양성 연구 계 강화 수 도록 교육과정 내용 지속 적 개편 운영 계획 또한 유전자 법 시행 나고야 의정서 국내 발효 생 물자원 생물다양성 관련 분야 전문 인력 수요 증가 것 예상 이 관련 미래 인재 양성 교육 프로그램 강화 예정 생물 경제 생물 국제 관계 생물 등 새 융합 분야 관 내용 연령 별로 수 체계 구성 확대 예정 백운석 국립생물자원관 장 생 물자원 생물다양성 가치 확대 보전 위해 전문 인력 뿐 모든 연령 층 대상 다양 교육 프로그램 지속 적 확대 예정 관련 사진 질의 응답 전문용어 설명 끝',\n",
       " '화학물질 식품 처럼 유통 이력 추적 관리 화학물질 관리 법 일부 개정안 입법 예고 화학물질 별로 위험 유해정 보 고유 식별 번호 화학물질 확인 번호 부여 관리 무허가 영업 등 화학물질 불법 유통 근절 알권리 보 장하 소비자 건강 피해 최소 화 기대 환경부 장관 김은경 화학물질 이력 추적 관리제 도입 주요 내용 화학물질 관리 법 이하 화관 법 일부 개정 법률 안 일부 터 입법 예고 화학물질 이력 추적 관리제 란 국내 제조 수입 화학물질 대상 고유 식별 번호 화학물질 확인 번호 를 부여 혼합 보관 판매 등 까지 표시 관 리하 제도 이 제도 화학물질 원인 위해 사고 발생 시 유통 경로 추 적하 그 원인 규명 해당 원료 물질 사용 생활화 학 제품 신속 파악 조치 위해 도입 것 또한 화학물질 유통 경로 투명 성과 거래 공 정성 높이 유해정 보 허위 표시 거나 제 품명 달 리하 유통 현황 추적 단절 것 방 지하 국민 유해 화학물질 대한 알권리 수 환경부 지난 화관 법 도입 이후 일부 업체 관련 법 알 화학물질 허가 신고 사례 보고 지난해 일부 터 올해 까지 화관 법 자진 신 고제 운영 환경부 월부 터 까지 철강 등 개 업종 제출 통관 역 건 조사 결과 이 중 인 건 화학물질 확인 명세서 를 제 출하 것 나타 화관 법 제 기업 화학물질 제품 제조 수입 전 그 물질 유독 물질 등록 대상 물질 등 규제 대상 물질 함 유하 스스로 확 인하 명세서 제 출하 제도 물질 명 함량 번호 수입 국 연간 제조 수입 예정 량 등 또한 관련 기업 화학물질 제조 거나 수입 때 성분 이나 함량 누락 거나 조작 화학물질 확인 명세서 를 제출 해도 교차 검증 위 정보 수단 미흡 지적도 예컨대 동일 화학물질 유통 어도 취급 기업 마다 각종 신고 보고 및 통계 조사 시 제 품명 각각 기입 함 정부 허위 보고 여부 적발 구조 것 올해 인천 서구 무허가 영업 다가 화재 이레 화학 사고 계기 화학물질 유통 감시 체계 전반 개선 지적도 화재 사고 발생 인천 서구 이레 화학 지정 폐기물 중간 처리 업체 종업원 명 은 무허가 메탄올 등 유해 화학물질 취급 이번 입법 예고 화관 법 개정안 화학물질 정보 공개 통한 화학사 예방 주요 목표 다음 내용 화학물질 이력 추적 관리제 도입 화학물질 확인 신고 제 도입 안제 현재 기업 스스로 화학물질 혼합물 등 유독 물질 등록 대상 물질 함유 여부 확 인하 제 출하 확인 명세서 신고 전환 화학물질 혼합물 포함 별로 화학물질 확인 번호 를 부여 화학물질 확인 번호 제조 국 신고 년도 유해 위험 정보 물리 적 위험성 건강 유해 성 환경 유해 성 등 일련번호 성상 등 약 개 자리 생 유해 화학물질 취급 용기 포장 화학물질 확인 번호 표시 안제 조제 항 국외 제조 자의 대리인 선임 신고 제 도입 안제 조의 신설 국외 제조 자가 영업비밀 노출 등 우려 물질 성분 함량 정보 등 국내 업체 등 제공 문제 해결 위해 대리인 선임 신고 화학물질 확인 신고 등 의무 대행 수 대리인 통해 국내 업체 민감 전 성분 함량 역 유해 위험 정보 화학물질 확인 번호 안전 취급 정보 등 선별 제공 가능 화학물질 하위 사용자 등 대한 정보 제공 의무 화 안제 조의 신설 화학물질 제조 수입 업자 포함 양도인 화학물질 확인 번호 유해 위험 정보 안전 취급 정보 등 양 수인 제공 다만 산업 안전 보건 법 제 물질 안전 보건 자료 작성 제공 경우 이 포함 제공 것 가능 화학물질 유통 관리 시스템 구축 운영 안제 조제 항 등 환경부 화학물질 확인 신고 통계 조사 격년 수출입 등 유통 실태 상시 파악 감시 수 정보 체계 화학물질 유통 관리 시스템 를 구축 관세청 화학물질 통관 기록 공유 화관 법 이행 점검 제재 활용 근거 포함 유독 물질 수입 신고 폐지 안제 조제 항 삭제 모든 화학물질 대상 확인 신고 제 제조 수입 시 신설 유독 물질 수입 신고 폐 지하 업계 신고 부담 완화 장외 영향 평가 위해 관리 계획 제도 개선 장외 영향 평가 제도 실효 성 강화 차원 제출 업체 대상 제재 근거 이하 징역 를 마련 사고 발생 시 주민 환경 피해 우려 극소 량 취급 시설 작성 제출 면제 근거 마련 위해 관리 계획 의 경우 주민 고지 항목 도 심사 대상 포함 충실 성 적 정성 검토 주민 고지 수단 현행 가지 이상 가지 이상 확대 적합 통보 건 중 건 지역 사회 등 고지 사 고대 비물질 유해 위험 정보 사고 영향 범위 경보 전달 방법 주민 행동 령 등 고지 이 입법 예고 화관 법 하위 법령 개정안 주요 내용 다음 화학물질 통계 조사 결과 공개 관련 비공개 신청서 및 소명 자료 허위 제출 시 부과 과태료 천만 원 이하 의 부과 기준 신청 항목 수 당 원 차 위반 시 원 차 위반 시 규정 예시 제품 명칭 제품 성분 별 함량 등 영세 업체 기술 인력 확보 현장 여건 고려 종업원 인 미만 업체 화학물질안전원 개설 전문 교육과정 이 수하 합격 시 기술 인력 요건 충 족하 것 류 연기 환경부 화학 안전 기획 단장 화학물질 이력 추적 관리제 유럽연합 서도 부터 시행 예정 유해 화학물질 불법 유통 문제 근절 위험 정보 대한 국민 알권리 확 대하 데 크게 기여 것 이 라며 화학물질 자진 신고 기간 아직 가량 만큼 화학물질 취급 업체 위반 사항 다시 번 확인 바란 말 환경부 이번 화학물질 확인 신 고제 공포 후 후 시행 예정 임 향후 유해 성 분류 표시 프로그램 개발 보급 화학 안전 컨설팅 등 업계 어려움 최소 각종 지원 책 마련 예정 화학물질 관리 법 주요 개정 사항 화학물질 관리 법 하위 법령 주요 개정 사항 화학물질 이력 추적 관리제 개요 화학물질 등록 제도 및 확인 제도 비교 화관 법 자진 신고 접수 현황 해외 사례 전문용어 설명 끝',\n",
       " '녹조 발생 상황 한눈 조류 보고서 공개 녹조 발생 상황 한눈 조류 보고서 공개 환경부 해 동안 녹조 발생 상황 조류 발생 대응 연차 보고서 발간 녹조 발생 상황 발생 당시 기온 강수량 일조시간 등 관련 정보 정리 환경부 장관 윤성규 지난해 해 동안 발생 녹조 현상 정보 체계 적 정리 조류 발생 대응 연차 보고서 를 국립 중앙 도서관 등 전국 주요 도서관 배포 이번 연차 보고서 녹조 대한 객관 적 수치 수질 정보 녹조 발생 당시 기상 수리 수문 상황 정보 또한 녹조 현상 관 주요 쟁점 관련 대응 책 등 체계 적 정리 연차 보고서 총 부로 구성 환경부 디지털 도서관 서도 수 제 지난해 한강 낙동강 등 대강 개보 주요 상수 원 호소 발생 녹조 대해 발생 부터 소멸 까지 시기 별 조류 발생 상황 총괄 적 설명 제 부 녹조 발생 현황 낙동강 봄철 파니 메논 대량 발생 층 용존 산소 고갈 현상 칠곡보 하류 물고기 폐 사사 등 주요 수계 내 발생 주요 쟁점 대한 원인 등 정리 파니 메논 신경독 소 냄새 물질 배 출하 유해 남조류 일종 제 녹조 발생 예방 대응 위해 정부 추진 조류 경보 제 관계 기관 협업 체계 구축 운영 녹조 발생 시 취 정수 장 운영 강화 등 년도 각 기관 실행 대응 실적 대해 설명 제 대강 개 보 및 주요 호소 조류 분석 결과 년도 추진 녹조 관련 각종 정책 자료 수록 조류 관련 자료 정보 이해 도록 정리 환경부 이번 연차 보고서 발간 국민 녹조 이 해하 데 도움 한편 학계 일선 전문 기관 등 녹조 현상 연구 때 유용 자료 것 기대 또한 조류 발생 대응 연차 보고서 를 매년 발간 정책 추진 연속성 확보 장기 적 관점 조류 발생 유형 분석 대응 책 마련 등 활용 예정 그간 환경부 국민 녹조 대한 이해 학계 관련 연구 기초 자료 활용 수 도록 녹조 관련 수질 자료 등 물 환경 정보 시스템 통해 공개 조류 발생 대응 연차 보고서 목차 끝',\n",
       " '발암 성 화학물질 트리 로 에틸렌 배출 기준 마련 발암 성 화학물질 트리 로 에틸렌 배출 기준 마련 대기 환경보전 법 시행 규칙 개정 사업 장 주로 세척제 등 용제 사용 트리 로 에틸렌 대한 배출 허용 기준 마련 대기오염 물질 배출 밀폐 진공 기반 용해 시설 배출 시설 제외 기업 규제 부담 완화 환경부 장관 윤성규 발암 성 화학물질 국민 건강 위해 우려 트리 로 에틸렌 대한 배출 허용 기준 설정 등 골자 대기 환경보전 법 시행 규칙 일부 개정안 일부 터 시행 트리 로 에틸렌 냄새 나 무색 액체 기름 성분 추 출하 거나 드라이클리닝 등 산 업계 세척 공정 사용 화학물질 이번 개정 트리 로 에틸렌 배출 시설 내년 일부 터 신규 설 치하 사업 장 이하 배출 허용 기준 준수 다만 올해 이전 설치 배출 시설 대해 산 업계 준비 기간 감안 까지 시적 이하 적용 트리 로 에틸렌 대한 배출 허용 기준 설정 전체 특정 대기 유해 물질 종 중 법적 허용 기준 정해 물질 종 특정 대기 유해 물질 대기오염 물질 중 사람 건강 이나 식물 생육 직접 간접 심각 위해 줄 수 별도 관리 필요 물질 이번 개정안 대기오염 물질 배출 밀폐 진공 기반 용해 시설 배출 시설 제외 도록 근거 규정 마련 밀폐 진공 기반 시설 기업 대기오염 물질 배 출하 불구 배출 시설 관리 부담 완화 도록 것 환경부 관련 시설 구 체적 기준 올해 상반기 내 공개 계획 환경부 배출 허용 기준 설정 나머지 특정 대기 유해 물질 대해 까지 단계 적 배출 허용 기준 마련 계획 대기 환경보전 법 시행 규칙 개정안 주요 내용 질의 응답 전문용어 설명 끝',\n",
       " '환경부 자동차 사 상 생으로 환경 경제 살 린다 지역 경제 일자리 고려 강화 경유 차 시험 방법 적용 최소한 범위 유예 제작사 자발 적 감 통해 시험 방법 유예 질소 산화물 예상 증가 분 약 톤 상 회하 톤 감축 환경부 장관 김은경 올해 월부 터 시행 예정 강화 중소 형 경유 자동차 실내 시험 방식 이하 과 관련 환경 면서 경제 배려 협력 본보기 모델 를 마련 추진 환경부 경 유차 배출 가스 정법 를 도입 올해 부터 신규 인증 차량 인증 생산 중인 모델 월부 터 적용 입법 예고 를 바 이후 쌍용 르노 삼성 등 자동차 제작사 까지 일부 기존 인증 차종 대한 규제 기준 만족 생산 중단 불가피 여 개 달 협력 업체 경영 악화 지역 경제 침체 일자리 감소 우려 면서 시행 시기 유예 요청 이 환경부 제작사 전문가 회의 전 년도 고량 범위 내 일부 터 까지 기존 시험 방법 적용 차량 출고 수 내용 대기 환경보전 법 시행 규칙 일부 개정안 올해 재 입법 예고 또한 환경부 일부 시험 방법 유예 질소 산화물 증가 량 톤 년 의 상쇄 방안 대해 제작사 지속 적 협의 결과 톤 자발 적 감 방안 마련 제도 전면 시행 시보 오히려 톤 추가 협력 모델 구 체적 각 제작사 일부 차종 조기 단종 거나 월부 터 시행 실 도로 인증 기준 조기 대응 방법 실 도로 배출 량 우리나라 유럽연합 의 권고 기준 이내 관 리하 방법 등 통해 대응 차 종이 추가 배 출하 질소 산화물 상쇄 제작사 별로 생산 중인 차종 적용 배출 가스 감 기술 상 이함 추가 감 가능 차종 대해 배출 가스 적 극적 감 못 차종 대해 유예 허용 물량 활용 최소한 생산 유지 함 것 환경부 협력 모델 국무회의 보 고하 면서 앞 필요 환경 규제 도입 강화 과정 환경 경제 사회 모두 상생 수 방안 강 구해 또한 환경부 자동차 제작사 이 협의 내용 공개 적 확인 향후 친환경 차 확대 등 대한 장기 적 뜻 고자 말 자발 적 협 약식 개최 예정 앞 그 이행상 황 점검 계획 제작 자동차 인증 시험 방법 개정 내용 개요 및 경유 차 배출 허용 기준 시험 방식 개정 추진 현황 끝',\n",
       " '등록 대상 기존 화학물질 종 대표자 선정 유해 성 관리 본격 가동 등록 대상 기존 화학물질 종 대표자 선정 유해 성 관리 본격 가동 협의 체 구성 화평 법 등록 대상 기존 화학물질 종 중 종 대표자 선정 공동 등록 준비 진행 협의 체 대표자 본격 적 지원 환경부 장관 윤성규 화학물질 등록 및 평가 등 관 법률 이하 화평 법 까지 등록 기존 화학물질 종 중 종이 협의 체 구성 이중 포름알데히드 벤젠 등 종이 대표자 선정 등록 대상 기존 화학물질 화학물질 국내 유통 량 유해 성 위 해성 대한 정보 등 종합 적 고려 환경부 령 종이 고시 협의 체 동일 등록 대상 기존 화학물질 제조 수 입하 자 선임 자가 등록 신청 자료 공동 제출 위 업무 원활 수행 위해 구성 운 영하 조직 의미 함 종 기존 화학물질 대표자 환경부 공동 등록 지원 공동 등록 협의 체 시스템 통해 지난해 월부 터 협의 체 회원 가입 대표자 후보 등록 대표자 선정절차 의견 수렴 투표 등 회원 합의 절차 선정 대표자 확정 종 기존 화학물질 전체 목록 환경부 누리집 화학물질 정보처리 시스템 화평 법 화관 법 산업 계 도움 센터 등 확인 수 협의 체 대표자 공동 제출 화학물질 자료 선택 생산 공동 제출 소요 비용 분담 등록 신청 자료 공동 작성 제출 등 관 업무 수행 대표자 까지 해당 물질 물리화학 적 특성 유해 성 위해 성 평가자 료 등 확보 시험 구입 등 해 국립 환경과학 원 공동 등록 환경부 공동 등록 기존 화학물질 화평 법 기준 등록 경우 월부 터 해당 화학물질 제조 거나 수 입하 설명 따라서 기존 화학물질 종 사용 제품 생산 사업자 해당 물질 공동 등록 준비 상황 사전 반드시 확인 현재 협의 체 단계 기존 화학물질 총 종이 대표자 선정 중 협의 체 단계 기존 화학물질 종이 아직 협의 체 단계 못 기존 화학물질 종이 협의 체 구성 필요 종 기존 화학물질 협의 체 구성 직전 거나 톤 미만 소량 유통 물질 환경부 협의 체 단계 종 대해 대표자 조속 선정 수 도록 공동 등록 제도 취지 대표자 역할 등 소개 설명 회 개 최하 등 집중 지원 계획 또한 협의 체 구성 필요 종 화학물질 제조 거나 수입 업체 상대로 권역별 설명 회 기업 맞춤 형 컨설팅 등 실시 예정 종 화학물질 공동 등록 준비 미진 보고 이 물질 사용 사업자 직접 안내 등 화학물질 등록 실패 발생 수 피해 사전 예방 계획 이호 중 화학 안 전산 업계 원단 단장 환경부 환경 보건 정책 관 은 대표자 선정 종 협의 체 대해 우선 지원 계획 이 라며 대표자 선정 단계 종 협의 체 대상 대표자 선정 완료 수 도록 적극 지원 한편 중소기업 중심 구성 협의 체 대해 대표자 선정 협의 체 운영 등록 자료 작성 등 공동 등록 이행 단계 별로 교육 컨설팅 지원 예정 말 협의 체 단계 못 종 화학물질 제조 거나 수입 업체 대상 불이익 도록 맞춤 형 안내 적 극적 실시 고 환경부 화학물질 유통 사 용량 증가 함 환경 위 해성 예방 화학산 업 경쟁력 강화 목적 화학물질 관리제 를 시행 유럽연합 의 경우 월부 터 기존 화학물질 관련 법령 개편 화학물질 관리제 를 시행 일본 화학물질 신고 심사 등 관 법률 개정 바 대표자 선정 등록 대상 기존 화학물질 종 공동 등록 제도 소개 협의 체 가입 및 탈퇴 절차 대표자 선정 및 변경 절차 질의 응답 전문 용어 설명 끝',\n",
       " '관광지 폐기 물처리 시설 설치 합리 적 개선 관광지 폐기 물처리 시설 설치 합리 적 개선 관광지 폐기 물처리 시설 설치 대상 조성 면적 기준 조성 면적 과 폐기물 배출 량 고려 로써 처리 시설 설치 문제점 해소 폐기물 일정량 미만 배 출하 경우 폐기 물처리 시설 설치 비용 지자체 납부 위탁 처리 가능 도록 개선 환경부 장관 윤성규 관광지 관광 단지 폐기 물처리 시설 설치 기준 합리 적 개선 내용 골자 폐기 물처리 시설 설치 촉진 및 주변 지역 원 등 관 법률 이하 폐기물 시설 촉진법 일부 터 시행 폐기물 시설 촉진법 은 관광지 관광 단지 개발 증설 경우 종전 폐기물 배출 량 관계 조성 면적기 준 폐기 물처리 시설 설치 규정 조성 면적 폐기물 배출 량 고려 도록 지난 개정 종전 폐기물 배출 량 상관 관광지 관광 단지 조성 면적 이상 이면 재활용 분리 및 보관 시설 음식 물처리 시설 이상 이면 매립 시설 설 치하 도록 규정 이 처리 시설 설치 불 필요 사회 적 비용 최 소화 사업 장 부담 완화 위해 조성 면적기 준 이상 은 그대로 유 지하 면서 재활용 대상 폐기물 연간 톤 음식 물류 폐기물 연간 톤 이상 배 출하 경우 재활용 분리 및 보관 시설 음식 물처리 시설 설 치하 도록 또한 관광지 관광 단지 배출 폐기물 생활 폐기물 가연성 폐기물 주로 배출 특성 감안 폐기물 직 매립 최소 화 폐열 회 수하 에너지 활용 도록 유도 위해 조성 면적 이상 폐기물 연간 이상 배 출하 경우 매립 시설 소각 시설 변 경하 설치 개선 이번 폐기물 시설 촉진법 시행 령 개정 조성 면적 폐기물 배출 량 폐기 물처리 시설 설치 대상 규모 미만 배 출하 경우 시설 설치 비용 관할 시 군 구 납부 배출 폐기물 종량제 봉투 등 이용 위탁 처리 수 폐기 물처리 시설 설치 비용 납부 해당 시 군 구 이 비용 자체 폐기 물처리 시설 설치 비용 사용 수 폐기 물처리 시설 설치 기관 주변 영향 역 주 민지원 사업 계획 수립 지원 사업 실적 등 다음 연도 말 까지 인터넷 공개 도록 환경부 이번 폐기물 시설 촉진법 개선 관 광산업 활성화 지자체 폐기 물처리 시설 설치 소요 재정 부담 것 보고 또한 관광지 관광 단지 개발 거나 조성 때 폐기 물처리 시설 설치 사업자 부담 완화 대신 폐기물 재활용 촉진 적정 처리 것 기대 폐기물 시설 촉진법 시행 령 주요 개정 내용 관광지 관광 단지 현황 질의 응답 전문 용어 해설 끝',\n",
       " '평창 동계올림픽 기간 동안 대기 질 감시 체계 강화 국립 환경과학 원 일부 터 까지 미세먼지 등 대기 질 감시 및 분석 다각 적 추진 대기 질 이동 측정 차량 배치 위성영상 감시 강화 강원도 고 해상도 예보 화력발전 가동 중단 효과 분석 등 추진 환경부 소속 국립 환경과학 원 원장 박진원 은 일부 터 까지 일간 평창 동계올림픽 페럴 림픽 개최 강원 지역 대상 과 학적 대기 질 감시 체계 강화 이번 대기 질 감시 체계 강화 강원 지역 다른 곳 평균 미세먼지 의 농도 약간 낮 올림픽 기간 동안 대기 정체 발생 경우 단시간 농도 수 때문 추진 것 미세먼지 오염 수도권 강원도 또한 국립 환경과학 원 수도권대기환경청 한국 환경 공단 협력 최신 과학기술 활용 입 체적 대기 질 감시 안전 환경 올림픽 수 도록 계획 대기 질 감시 강화 평창 동계올림픽 경기장 선수촌 중심 미세먼지 오염 관측 고 해상도 예보 위성 활용 배출 원 감시 영동 화력발전소 호기 가동 중단 대기 질 효과 분석 구분 미세먼지 오염 감시 필요 강원 개 지점 정선 알파인스키 장 강릉 영동 화력발전소 이동 측정 차량 설치 조밀 미세먼지 오염 를 실시간 공개 평창올림픽 스타디움 한국 환경 공단 휘닉스 스노 경기장 강원 보건 환경 연구원 은 이동 측정 차량 기운 영 이 동차 강원 지역 상층 대기오염 물질 이동 분석 위 고층 기상관측 실시 기존 수도권 미세먼지 예보 적용 격자 간격 고 해상도 예보 강원 영서 영동 지역 확대 시행 기존 경기장 주변 상세 예보 일부 터 제공 예정 또한 대형 배출 원 오염 물질 감시 위해 여러 위성영상 분석 특정 지역 미세먼지 등 오염 물질 이상 징후 포착 경우 정밀 평가 현장 점검 등 감 조치 활용 계획 궤도 위성 천리안 정지궤도 해양 관측 위성 노후 석탄 발전소 영동 화 호기 올해 월부 터 까지 가동 중단 함 대기 질 모델 활용 올림픽 경기장 및 선수촌 주변 중심 미세먼지 오염 개선 예방 효과 분석 김정수 국립 환경과학 원 기후 대기 연구 부장 이번 대기 질 감시 체계 강화 강원도 고 농도 미세먼지 발생 경우 오염 물질 배출 징후 분석 신속 정보 전달 것 목표 라며 미세먼지 효율 적 관리 및 감시 비롯 적정 대응 도록 노력 것 말 평창 동계올림픽 기간 대기 질 감시 체계 강화 계획 대기 질 감시 체계 세부 역 질의 응답 끝',\n",
       " '이번 겨울방학 미래 생 물자원 전문가 이번 겨울방학 미래 생 물자원 전문가 국립생물자원관 어린이 생 물자원 교실 생 물자원 이해 인턴십 등 겨울방학 교육 과정 참가자 모집 환경부 소속 국립생물자원관 관장 백운석 은 겨울방학 기간 동안 미래 생 물자원 인재 양성 위해 어린이 생 물자원 교실 과정 개설 초등학생 학년 대상 참가자 모집 신청 까지 우편 담당자 이메일 로 지원 신청서 제 출하 우편 주소 인천 시 서구 환경로 국립생물자원관 전시 교육 교육 담당자 앞 선정 컴퓨터 추첨 진행 결과 국립생물자원관 누리집 통해 발표 예정 어린이 생 물자원 교실 은 생물 환경 관심 초등학생 대상 생물다양성 생물분류 멸종위기 야생 생물 생물 로부터 지혜 등 개 과정 차례 진행 어린이 생 물자원 교실 일부 터 까지 학년 명 학년 명 두 개 반 진행 기도 방식 일부 터 까지 운영 부터 시작 현재 까지 기 운영 명 수료 함 한편 국립생물자원관 생 물자원 이해 인턴십 대학별 학점 인정 제도 계 개방 공유 소통 협력 추구 정부 의 가치 실천 생 물자원 이해 인턴십 은 생물 관련 전공 대학생 학년 대상 생 물자원 연구 활용 분야 업무 실습 등 관련 분야 진로 탐색 경력 형성 기회 제공 프로그램 내년 일부 터 까지 주 동안 참가자 생 물자원 발굴 확보 관리 활용 전시 교육 홍보 관 공통 교육 과정 이수 후 희망 국립생물자원관 부서 배정 담당 연 구관 연구 사의 조언 아래 실제 업무 수행 부터 시작 현재 까지 기 운영 전국 개 대학 명 수료 함 신청 까지 방문 우편 참가 방법 신청서 류 등 국립생물자원관 누리집 안내 수 백운석 국립생물자원관 장 이번 겨울방학 특별 교육 과정 미래 생 물자원 전문가 학생 생 물자원 가치 대해 배우 관련 진로 탐색 수 기회 것 말 관련 사진 질의 응답 전문용어 설명 끝',\n",
       " '미세먼지 민감 층 노인 위 방문 교실 운영 미세먼지 민감 층 노인 위 방문 교실 운영 수도권대기환경청 오전 동대문 노인 종합 복지관 미세먼지 바로 방문 교실 운영 미세먼지 방지 용 마스크 개 전달 배식 봉사 수도권대기환경청 청장 송형근 은 오전 분부 터 서울시 동대문구 동대문 노인 종합 복지관 미세먼지 정보 대응 요령 미세먼지 바로 방문 교실 진행 이번 행사 겨울철 난방 본격 적 시작 달 부터 고 농도 미세먼지 발생 빈번 것 예상 면서 미세먼지 더욱 민감 노인 위해 마련 방문 교실 미세먼지 발생 원인 위해 성 생활 수칙 등 노인 눈높이 추어 미세먼지 대한 예 경보 제 정보 확인 방법 실천 수칙 등 정보 설명 동영상 상영 안내서 배포 예정 또한 미세먼지 교육 홍보단 소속 백수 영 강사 동영상 안내서 설명 미세먼지 발생 원인 대응 요령 등 자세 이해 도록 강의 미세먼지 교육 홍보단 미세먼지 관련 정보 체계 적 효과 적 교육 위해 수도권대기환경청 대기 환경 교육 전문가 일정 기간 위촉 미세먼지 바로 전담 강 사진 미세먼지 대응 요령 고 농도 미세먼지 발생 시 외출 삼 가기 외출 경우 식품의약품안전처 인증 보건 용 마스크 착용 외출 후 손발 충분 수분 섭취 미세먼지 예보 주의 보기 등 교육 후 동대문 노인 종합 복지관 미세먼지 방지 용 마스크 개 전달 수도권대기환경청 직원 교육 참석 노인 대상 점심 배식 봉사 활동 진행 예정 송형근 수도권대기환경청 장 이번 교육 통해 미세먼지 황사 민감 어르신 미세먼지 위험성 알 오늘 대응 요령 생활 속 실천 해주 길 바란 고 말 수도권대기환경청 노인 아동 등 미세먼지 민감 계층 상대로 올해 이상 미세먼지 바로 방문 교실 진행 내년 지속 적 방문 교실 추진 계획 미세먼지 바로 방문 교실 신청 내년 월부 터 관심 단체 학교 담당자 수도권대기환경청 누리집 신청서 작 성하 제 출하 전화 문의 미세먼지 바로 방문 홍보 추진 계획 안 미세먼지 바로 안내 문 질의 응답 전문 용어 설명 끝 행사 사진 이후 환경부 웹하드 게재 예정',\n",
       " '가습기 살균제 특별구 제 대상자 추가 선정 구제 계 정운용 위원회 구제 급여 상당 지원 명 및 긴급 의료 지원 명 특별구 제 심의 의결 환경부 장관 김은경 한국 환경 산업 기술 원 원장 남 광희 은 오후 시부 터 서울역 회의실 제 차 구제 계 정운용 위원회 위원장 이용규 중앙대 교수 특별구 제계 정 지원 대상자 추가 선정 안건 심의 의결 위원회 이번 제 차 회의 구제 급여 상당 지원 신청 명 신규 지원 대상자 선정 지원 금액 정부 구제 대상 피해자 지급 구제 급여 동일 수준 요양 급여 본인 부담 액 전액 및 일부 비급 항목 포함 요양 생활 수당 간병 비 장의 비 특별 유족 조위 금 특별 장의 비 구제 급여 조정 금 등 총 가지 항목 구성 또한 이번 회의 의료 적 재정 적 지원이 시급 대상자 명 대한 긴급 의료 원 의결 대상자 환경 노출 조사 결과 의료 적 긴급 성 및 소득 수준 등 종합 적 고려 결정 요양 급여 최대 천만 원 까지 지원 이번 회의 지난 제 차 회의 특별구 제 대상 추가 질환 확정 성인 간질 성 폐질 환 등 개 질환 의 심사 기준 마련 대한 진행 현황 공유 천식 구제 급여 대상 피해 질환 성인 간질 성 폐질 환 기관지 확장 증 폐렴 독성 간염 질환 별 심사 기준 현재 구제 계 정운용 위원회 구제 급여 상당 지원 전문 위원회 검토 중이 차기 구제 계 정운용 위원회 심의 의결 후 질환 별로 판정 절차 진행 예정 환경부 관계자 구제 계 정운용 위원회 의결 사항 차질 이행 도록 만전 기 예정 가습기 살균제 피해 구제 체계 질의 응답 끝',\n",
       " '환경부 장관 국가 안전 대진 단 일환 현장 점검 실시 환경부 장관 국가 안전 대진 단 일환 현장 점검 실시 윤성규 환경부 장관 경기 파주 소재 디스플레이 현장 안전 점검 실시 윤성규 환경부 장관 국가 안전 대진 단 일환 화학물질 취급 사업 장의 안전 상 위해 요소 사전 점검 위 오전 경기도 파주시 디스플레이 사업 장 대한 현장 점검 실시 이번 현장 점검 안전 활동 온실가스 감축 노력 및 에너지 절감 활동 등 후 공장 옥상 설치 표적 전력 절감 시설 태양광 발전 시설 최근 화학사 건수 지속 적 증가 추세 유해 화학물질 취급 사업 장의 저장 보관 시설 배관 이송 시설 등 취급 자 조작 미숙 배관 밸브 파손 작업 부주의 등 사유 화학사 발생 신고 건 수가 아지 때문 이 환경부 화학사 발생 업종 화학물질 제품 제조업 전자부품 반도체 관련 제조업 대하 지난 일부 터 까지 유해 화학물질 취급 시설 대하 안 전대 진단 실시 안전 대진 단 결과 사업 장의 시설 개선 유도 중소기업 안전 진단 컨설팅 사업 통 안전 사고 대비 만전 기 예정 관련 사진 이후 환경부 웹하드 게재 예정',\n",
       " '참고 가습기 살균제 피해 미인 정자 구제 급여 지원 제 차 구제 계 정운용 위원회 단계 판정 자 명 특별 구제 구제 급여 상당 지원 심의 의결 환경부 한국 환경 산업 기술 원 원장 남 광희 은 서울역 회의실 제 차 구제 계 정운용 위원회 가습기 살균제 건강 피해 미인 정자 특별 구제 급여 지급 등 심의 의결 위원회 이번 차 회의 특별 구제 추가 신청 자 명 중 명 지원 대상자 선정 지원 금액 정부 구제 대상 피해자 지급 구제 급여 동일 수준 의료 비 본인 부담 액 전액 및 일부 비급 여항 목 포함 요양 생활 수당 간병 비 장의 비 특별 유족 장의 비 특별 유족 조위 금 구제 급여 조정 금 등 총 가지 항목 구성 또한 이번 회의 의료 적 재정 적 지원이 시급 대상자 명 대한 긴급 의료 지원 의결 대상자 환경 노출 조사 결과 의료 적 긴급 성 및 소득 수준 등 종합 적 고려 결정 지원 대상자 의료 비 최대 천만 원 까지 지원 예정 구제 계 정운용 위원회 가습기 살균제 피해 구제 위 특별법 특별구 제계 정 활용 건강 피해 미인 정자 현 폐 섬유화 단계 판정 자 의 특별 구제 급여 지원 심의 의결 또한 의료 적 재정 적 지원이 시급 피 해신 청자 긴급 의료 원 한도 천만 원 원인 자 미상 무자력 피해자 구제 급여 및 추가 지원 등 심의 의결 특별구 제계 정 원료 물질 가습기 살균제 사업자 개 사 분담 금 원 조성 피해 구제 재원 제 차 회의 제 차 회의 의결 건강 피해 미인 정자 현 폐 섬유화 단계 판정 자 대한 피해 구제 계획 특별 구제 구제 급여 상당 지원 신청 자 명 중 명 지원 대상자 선정 피해 구제 계획 단계 판정 자 명 우선 심 사하 지원 단계 판정 자 명 등 질환 별 건강 피해 관련성 등 검토 순차 적 지원 한국 환경 산업 기술 원 구제 계 정운용 위원회 의결 사항 차질 이행 수 도록 만전 기 예정 가습기 살균제 피해 구제 체계 질의 응답 끝',\n",
       " '공공기관 녹색 제품 천억 원 구매 공공기관 녹색 제품 천억 원 구매 년 대비 증가 제도 시행 배 증가 녹색 구매 누적 실적 이산화탄소 감축 및 환경 적 편익 발생 환경부 장관 윤성규 한국 환경 산업 기술 원 원장 김용주 이 해동 안 정부 공공기관 총 곳 녹색 제품 구매 실적 집계 결과 년 대비 나타 환경마크 우수 재활용 인증 제품 환경오염 감 에너지 자원 절약 인체 유해 성 예방 등 환경 적 편익 제품 녹색 제품 구매 촉진 관 법률 이 제정 공공기관 녹색 제품 의무 구매 제도 도입 이후 가장 규모 로서 녹색 제품 구매 실적 대비 배 증가 수치 정부 공공기관 녹색 조달 구매 통한 환경 적 편익 은 분석 이 중 에너지 감 제품 구매 이산화탄소 감축 량 톤 것 나타 녹색 제품 사용 에너지 절약 자원 절약 폐기물 감 등 경제 적 효과 분석 품목 복합기 세탁기 식기세척기 냉장고 노트북컴퓨터 등 개 품목 서울시 일 평균 승용차 통행 량 이산화탄소 배출 량 환산 때 약 일간 발생 이산화탄소 배출 량 상쇄하 효과 동일 서울시 일 평균 자동차 통행 량 이산화탄소 배출 량 에너지 소비 효율 등급 기준 톤 일 에너지관 리 공단 승용차 전망 치 기준 또한 부터 까지 공공기관 녹색 제품 누적 구매 액 총 달 이 누적 환경 적 편익 총 에너지 감 제품 구매 이산화탄소 감축 량 총 것 분석 기관 유형 별 구매 실적 지방 공기업 공기업 지방자치단체 년 비교 금액 증 가율 또한 전체 녹색 구매 실적 절반 차 지하 토목 건축 자재 류 구매 금액 년 약 증가 가장 크게 증가 세 부적 창호 년 대비 아스팔트 콘크리트 아스콘 증가 환경부 한국 환경 산업 기술 원 운 영하 전국 녹색 구매 제도 순회 교육 공공기관 녹색 구매 상담 지원 녹색 구매 침 및 범 사례 집 발간 등 녹색 건설 자재 구매 등 위 수요 자 맞춤 형 교육 확대 결과 분석 공사 설명 서인 표준 시방서 및 각 기관 녹색 구매 규정 개정 등 지원 녹색 건설 자재 안 정적 구매 유도 것 역할 공공기관 녹색 제품 의무 구매 제도 녹색 제품 구매 촉진 관 법률 제정 공공기관 녹색 제품 의 무적 구매 사용 도록 로써 녹색 제품 시장 기반 마련 위해 시행 대한민국 녹색 구매 제도 지난 미국 지속 가능 구매 리더십 위원회 올해 우수 제도 사례 로 선정 등 국 제적 우수 제도로 인정 공공기관 녹색 구매 실적 및 사회 경제 적 편익 질의 응답 주요 용어 설명 끝',\n",
       " '참고 경유 차 폐차 보조금 경기도 추가 배정 환경부 장관 조경규 경기도 경유 차 폐차 보조금 지원 사업 조기 완료 거나 완료 것 예상 폐차 보조금 지원 대수 추가 배정 결정 추가 배정 물량 폐차 보조금 사업 시행 경기도 개 시 중 기준 폐차 보조금 신청 율 를 개 시 로 배정 고양 과천 광명 광주 김포 남양주 동두천 부천 수원 안성 안양 용인 의정부 평택 포천 화성 보조금 신청 완료 수원시 안성시 포천시 광주시 대가 집중 배정 내일 부터 폐차 보조금 신청 재개 이번 경기도 폐차 보조금 추가 배정 기준 폐차 보조금 신청 율 로 상 대적 나타 서울시 폐차 보조금 물량 조정 충당 폐차 보조금 신청 율 기준 전체 만대 중 서울시 중 경기도 중 인천 시 중 수도권 중 폐차 보조금 물량 조정 서울시 감소 경기도 증가 인천 시 변동 수도권 변동 참고 정부 경유 차 폐차 신청 증가 것 대비 폐차 보조금 물량 지난해 만대 국비 지방 비 올해 만대 국비 지방 비 로 바 예산 만대 추경 예산 만대 합계 만대 만대 올해 폐차 보조금 신청 건수 증가 반 영하 폐차 보조금 예산 증액 편성 방침 추경 편성 경우 최우 선적 예산 신청 질의 응답',\n",
       " '화학물질 등록 면제 확인 업무 환경 공단 관 화평 법 시행 령 개정 일부 터 화학물질 등록 면제 확인 업무 한국 환경 공단 수행 기존 신청 방식 대로 화학물질 정보처리 시스템 누리집 등록 면제 확인 신청 환경부 한국 환경 공단 이사장 전병성 은 화학물질 등록 면제 확인 업무 일부 터 한국 화학물질 관리 협회 한국 환경 공단 관 화학물질 등록 면제 확인 이란 화학물질 등록 및 평가 등 관 법률 이하 화평 법 제 조의 규정 신규 화학물질 연간 톤 이상 등록 대상 기존 화학물질 중 등록 면제 대상 화학물질 제조 수입 전 등록 면제 확인 아야 것 말 이번 업무 관 화평 법 시행 령 지난해 개정 확정 이 이전 화학물질 등록 면제 접수 건 까지 한국 화학물질 관리 협회 업무 처리 이후 한국 환경 공단 화학물질 등록 면제 확인 처리 업무 시작 해당 업계 기존 신청 방식 화학물질 정보처리 시스템 누리집 등록 면제 확인 신 청하면 단 업무 관 시스템 점검 오후 시부 터 오전 까지 등록 면제 확인 신청 중지 예정 관련 업계 고하 등록 면제 확인 신청 진행 업무 관 대한 안내 한국 환경 공단 화관 법 화평 법 산업 계 도움 센터 화학물질 정보처리 시스템 한국 화학물질 관리 협회 등 누리집 집 내 공지 사항 확인 수 정찬 윤 한국 환경 공단 환경 안 전지원 단장 업무 관 시스템 변동 사항 관련 산 업계 혼란 미연 방지 위해 최선 향후 사용자 편의 성 고 위 지속 적 시스템 개선 등 실시 고 말 화학물질 등록 및 평가 등 관 법률 시행 령 개정 내용 질의 응답 전문용어 설명 끝',\n",
       " '국립공원 산불 예방 위해 일부 터 까지 일부 탐방 통제 국립공원 산불 예방 위해 일부 터 까지 일부 탐방 통제 산불 감시 원 배치 순찰 활동 인화 물질 보관 함 운영 등 국립공원 산불 예방 대응 체계 강화 환경부 장관 윤성규 국립공원 관리 공단 이사장 박보환 이 봄철 산 불조심 기간 산불 예방 현장 대응 체계 강화 위해 일부 탐방 통제 산불 감시 원 배치 등 산불 특별 대책 추진 공단 일부 터 까지 전국 국립공원 일부 탐방 대해 입산 통제 공원 별 적설량 등 고려 통제 기간 탄력 적 운영 계획 통제 기간 해당 국립공원 지리산 려 해상 다도해 해상 월출산 무등산 계룡산 속리산 내장산 가야산 덕유산 주왕산 월악산 소백산 변산반도 설악산 오대산 치악산 북한 산 전국 국립공원 탐방 개 길이 구간 중 산불 취약 지역 지리산 노고단 장터 목 구간 등 개 길이 탐방 전면 통제 룡 화 개재 구간 등 개 구간 길이 은 부분 통제 그 외 지리산 장터 목 천왕봉 구간 등 개 탐방 평상시 공원 탐방 가능 공원 별로 과거 산불 발생 지역 이나 탐방 객 출입 산불 위험 곳 산불 취약 지역 지정 산불 감시 원 배치 및 순찰 활동 강화 인화 물질 보관 함 설치 등 현장 중심 예방 활동 강화 설날 어린이날 등 휴일 산불 발생 위험 시기 특별 비상근 무 산불 예방 활동 더욱 강화 계획 공단 국립공원 산불 로부터 보호 위해 공원 내 흡연 이나 인화 물질 반입 금지 산 불조심 기간 동안 통제 구역 무단 입하 행위 대해 적 극적 단속 예정 통제 구역 출입 위반 시 과태료 부과 차 위반 원 차 위반 원 차 위반 원 최승 운 공단 안전 방재 처 기상 등 현장 여건 공원 별로 통제 기간 변경 수 국립공원 방문객 통제 탐방 대피소 이용 정보 해당 사무소 공단 누리집 등 통해 사전 확인 고 말 봄철 국립공원 탐방 출입통제 공고 문 봄철 산 불조심 기간 중 탐방 통제 현황 끝',\n",
       " '염전 원생동물 신종 발견 피부 보호 물질 활용 기대 국립생물자원관 태안 염전 편모충류 신종 종 비롯 제주도 아메바류 신종 종 발견 염도 매우 환경 원생동물 생태 및 진화 적 변화 연구 중요 단서 제공 국내 염전 원생동물 신종 발견 호 염성 원생동물 피부 보호 탁월 토인 이 부하 고 산업 적 활용 가능성 것 기대 토인 피부 보호 주름 방지 가려움 방지 등 탁월 물질 환경부 소속 국립생물자원관 충남 태안 지역 염전 서식 편모충류 종 포함 제주도 아메바류 종 등 총 종 원생동물 신종 최근 발견 국립생물자원관 월부 터 올해 까지 경북 박종수 교수 팀 공동 수행 자생 생물 조사 발굴 연구 미소 생물 분야 사업 통해 이번 원생동물 종 확인 원생동물 광합성 단세포 생물 광학현미경 통해 관찰 가능 전 세계 적 종이 분포 것 이번 발견 편모충류 신종 오렘 하이퍼 살 리나 로 염도 일반 해수 배 충남 태안 지역 염전 염도 발견 염도 매우 환경 원생동물 거의 살 때문 이번 발견 호 염성 진핵생물 적응 방산 규명 생태 및 진화 적 변화 연구 활용 수 진핵생물 진핵세포 구성 생물체 말 세포 내 막 싸인 핵 존재 원핵생물 대응 생물 말 적응 방산 생물 분류군 환경 적응 진화 적 과정 환경 형태 적 생리 적 특성 진화 적 차이 발생 함 또한 호 염성 원생동물 피부 보호 탁월 토인 부하 고 연 구진 발굴 편모충류 대해 유전체 분석 기법 활용 염 환경 적응 방산 작 규명 정밀 분석 토인 등 고 부가가치 신 물질 확인 대량 생산 체계 구축 국내외 특허 신청 계획 한편 제주도 송천 성산읍 혼인 등 발견 아메바류 신종 종은 네 글레이 속 종 스코 테드 아메바 속 종 테트라 마이 터스 속 종이 아메바류 전 세계 적 만종 국내 여 종 보고 발굴 가능성 매우 미개척 분류군 연 구진 편모충류 신종 원생동물 분야 저명 학술지 진핵 미생물학 회지 올해 게재 아메바류 신종 종도 진핵 미생물학 회지 등 해외 전문 학술지 까지 관련 논문 발표 공식 적 인정 계획 진핵 미생물학 회지 미국 발행 세계 적 원생동물 학술지 신규 원생동물 종 정식 등록 이루 표적 학술지 임서 민환 국립생물자원관 생 물자원 연구 부장 자생 생물 조사 발굴 연구 통해 지금 까지 연구 활발 이루 지지 원생동물 지속 적 발굴 생물다양성 가치 높이 생물 주권 위해 노력 것 말 신종 편모충류 채집 및 화상 자료 신종 아메바류 화상 자료 질의 응답 전문용어 설명 끝',\n",
       " '국립공원 내 겨우살이 등 임산물 채취 집중 단속 국립공원 내 겨우살이 등 임산물 채취 집중 단속 국립공원 임산물 불법 채취 시 이하 징역 이나 원 이하 벌금 처 수 국립공원 관리 공단 이사장 박보환 이 최근 겨우살이 등 약재 용 임산물 불법 채 취하 사례 것 보고 말 까지 국립공원 내 임산물 채취 집중 적 단속 겨우살이 주로 참나무 기생 상록 성 식물 숙주 나무 잎 어진 겨울철 눈 때문 해마 이맘 때 불법 채취 기승 부리고 공단 국립공원 마다 순찰 활동 강화 한편 지리산 설악산 덕유산 면적 불법 채취 것 예상 국립공원 명 규모 특별 단속 팀 투입 계획 최근 국립공원 임산물 채 취하 적발 건수 건 건 건 겨우살이 채취 적발 건수 건 최 병기 공단 환경 관리 부 부장 임산물 채취 행위 현지 주민 외지 이루 경우 면서 대부분 인적 드문 지역 지기 때문 안전 사고 위험 고 말 국립공원 임산물 불법 채 취하 적발 이하 징역 이나 원 이하 벌금 처 관련 동영상 환경부 웹하드 게재 예정',\n",
       " '노동시간 단축 환경부 공공기관 일자리 확대 연결 환경부 노동시간 단축 소속 기관 곳 국립공원 관리 공단 한국 수자원공사 화학물질안전원 수도권매립지 관리 공사 총 명 추가 채용 추진 환경부 장관 김은경 주 시간 노동시간 단축 소속 기관 곳 국립공원 관리 공단 한국 수자원공사 화학물질안전원 수도권매립지 공사 총 명의 추가 채용 추진 이번 추가 채용 환경 분야 노동시간 점검 근무시간 주 시간 초과 우려 기관 대상 실시 것 그간 환경 공공 분야 업무 특성 인하 현장 관리 등 특정 부서 주 시간 초과 무하 실정 었다 국립공원 관리 공단 종합 상황 실 섬 도서 지역 분소 대피소 근무 자의 근로시간 단축 적극 지원 위해 현장 관리인 명 올해 하반기 중 추가 채용 통해 전국 산간 벽지 근무 근무 자의 삶 질 개선 탐방 객 대한 서비스 질도 것 예상 한국 수자원공사 댐 및 정수 장 교대근무 위 추가 소요 인력 명 추가 고용 기존 시간 근무 시간 근무 제로 전환 통해 신규 일자리 창 국민 물 복지 향상 기여 예정 화학물질안전원 현재 명의 인력 시간 교대 근무 중인 화학 안전 사고 종합 상황 실 추가 명 채용 이 화학 안전 사고 종합 상황 실 교대 교대 근무 가능 해지 근무시간 단축 등 근무 환경 개선 안 정적 화학사 대응 가능 것 화학 안전 사고 종합 상황 실 인력 채용 상반기 명 월말 까지 배치 예정 하반기 명 채용 예정 수도권매립지 관리 공사 시간 운영 중인 수처리 처 유기성 사업 처 음 폐수 바이오 가스 화 시설 총 명 추가 고용 주 시간 노동시간 단축 대비 수도권매립지 관리 공사 향후 근로 환경 개선 위해 타 분야 채용 확대 검토 계획 황 계영 환경부 환경 경제정책 관 공공 분야 노동시간 단축 민간 부문 전파 사회 전 체적 분위기 형성 것 중 요하 라며 환경 기업 일자리 나누기 동참 수 도록 일자리 우수 기업 지정 등 각종 지원 검토 노동시간 단축 환경부 소속 기관 기관 채용 현황 끝',\n",
       " '멸종위기종 좀수수치 다도해 해상 고흥반도 집단 서식지 발견 멸종위기 야생 생물 급 미꾸리 과로 우리나라 고유종 어류 환경부 국립공원 관리 공단 올해 진행 제 기 다도해 해상 국립공원 자연자원 조사 과정 중 올해 전라남도 고흥반도 멸종위기 야생 생물 급 좀수수치 집단 서식지 발견 이번 확인 좀수수치 전남 고흥군 다도해 해상 국립공원 팔영산 지구 소하천 발견 여 마리 이상 좀수수치 안 정적 서식 것 확인 미꾸리 속 좀수수치 우리나라 서식 고유 담수어 류 몸 길이 최대 를 자갈 호박 돌이 맑은 하천 중 상류 산다 고흥반도 인근 섬 지역 규모 하천 서식 분포 지역 매우 절멸 우려 종이 국립공원 관리 공단 이번 발견 좀수수치 서식 환경 생태 특성 파악 등 정밀 조사 연구 위 기초 자료 확보 또한 다른 지역 좀수수치 서식지 하천 정비 사업 이나 농업 폐수 수질 오염 위협 상황 이번 발견 서식지 보전 위 연구 진행 예정 나 공주 국립공원 연구원 장 기후변화 등 생물다양성 감소 현 상황 희귀 좀수수치 서식지 발견 생물다양성 저변 의미 일 이 라며 멸종위기 야생 생물 서식지 보존 위 다각 적 방안 연구 고 말 한편 다도해 해상 국립공원 자연자원 조 사하 정밀 조사 생물상 변동 사항 기록 관련 첫 보고서 상반기 발간 예정 관련 사진 좀수수치 생물 정보 질의 응답 전문용어 설명 끝',\n",
       " '국립공원 주년 미래 위해 민 관 지혜 국립공원 주년 기념 행사 추진 위원회 출범 식 개최 국회 지자체 언론 계 시민사회 지역 주민 등 각계 각층 대표 구성 올해 개최 국립공원 주년 기념 행사 를 국민 국립공원 미래 공 유하 계기 만들기 위 방안 논의 환경부 장관 조경규 국립공원 주년 기념 행사 추진 위원회 범식 서울 중구 롯데 호텔 개최 올해 국립공원 제도 처음 도입 제 호 지리산 국립공원 지정 주년 환경부 광화문 광장 국민 국립공원 미래 공유 위 대규모 기념 행사 개최 예정 이번 국립공원 주년 기념 행사 추진 위원회 조경규 환경부 장관 손숙 마포 문화재단 이사장 전 환경부 장관 이 공동 위원장 직 수행 정부위원 명과 민간 위원 명 포함 총 명의 위원 구성 정부위원 정당 이종구 의원 자유 한국 당 강석호 의원 국민의당 이상돈 의원 더 불어 민주당 창현 의원 등 국회의원 명 비롯 이낙연 전남도지사 홍준표 경남 도지사 원희룡 제주 특별자치도 사 등 광역 지자체 장 명 참여 민간 위원 양병 전 서울대학교 환경 대학원 장 등 학계 최 기 국 모 국립공원 을지 키 시민 모임 상임 대표 등 시민사회 한삼 조선일보 논설 위원 등 언론 계 우두 성 전 구례 문화원 장 등 지역 주민 조계종 사회 부장 정문 스님 등 종교 계 산악인 엄홍길 등 각계 각층 저명 인사 참여 이번 범식 민간 위원장 포함 명의 위원 위촉 수여 환경부 추진 주년 기념 행사 추진 계획 설명 국립공원 미래 대해 논의 자리 마련 조경규 환경부 장관 주년 행사 국립공원 주인 국민 국립공원 가치 되새 기고 적 극적 참여 행사 도록 것 이 라며 국립공원 미래 제시 국립공원 주년 새 반세기 향 도약 원년 것 국립공원 주년 기념 행사 추진 위원회 분기 별로 정례 회의 개 최하 국립공원 미래 발전 한편 국립공원 주년 기념 위 다양 사업 지속 적 점검 역할 수행 환경부 추진 위원회 활동 각계 각층 참여 국민 국립공원 공유 원동력 것 기대 한편 환경부 이번 범식 시작 국립공원 주년 기념 위 다양 국민 참여 형 이벤트 추진 올해 개최 예정 국립공원 주년 기념 행사 준비 나선 국민 참여 형 이벤트 야영장 무료 사용 명사 국립공원 탐방 국립공원 편지 쓰기 대회 야영장 미니 콘서트 등 다채롭 마련 또한 국립공원 주년 미래 포럼 구 성하 그간 자연 공원 정책 평가 미래 마련 한편 자연 공원 정책 패러다임 전환 위 계기 활용 계획 국립공원 주년 기념 사업 추진 위원회 및 출범 식 개요 추진 위원 명단 끝',\n",
       " '유해 화학물질 안전교육 필수 과정 온라인 교육 서비스 개시 유해 화학물질 안전교육 필수 과정 온라인 교육 서비스 개시 안전교육 필수 이수 과정 시간 중 시간 전용 사이트 이수 가능 강의실 집합 교육 위주 개선 산업 계 불편 해소 기대 화학물질안전원 원장 김균 이 유해 화학물질 취급 자가 시간 동안 의 무적 아야 유해 화학물질 안전교육 중 절반 시간 사무실 이나 가정 수 도록 온라인 교육 사이트 운영 유해 화학물질 안전교육 온라인 교육 전용 사이트 를 통해 제공 교육 대상자 전용 사이트 회원 가입 후 총 시간 해 당하 유해 화학물질 안전교육 온라인 통해 이수 수 올해 일부 터 시행 화학물질 관리 법 유해 화학물질 취급 자 책임자 기술자 운반자 등 매 마다 시간 식 의무교육 아야 유해 화학물질 안전교육 온라인 과정 주요 내용 화학물질 관리 법 이해 유해 화학물질 안전 관리 취급 시설 설치 및 관리 등 이번 조치 유해 화학물질 취급 자가 유해 화학물질 사업 장 일반 종 사자 매년 시간 동안 아야 유해 화학물질 종사 자 교육 도 온라인 과정 수 유해 화학물질 종사 자 교육 온라인 과정 유해 화학물질 취급 유형 별 제조 저장 운반 등 로 해당 과목 구성 화학물질안전원 이번 온라인 교육 운영 통해 약 해 당하 유해 화학물질 업계 관계자 교육 위해 장소 모 여야 불편 함 상당수 해소 것 기대 다만 전체 교육 과정 온라인 운영 경우 교육 효과 수 강의실 대면 교육 혼합 운영 화학물질안전원 이번 온라인 교육 프로그램 개방 공유 소통 협력 중시 정부 의 정책 부합 국정 과제 화학물질 사고 예방 대응 사후관리 체계 구축 기여 것 기대 화학물질안전원 온라인 교육 이용 안내 유해 화학물질 안전교육 과정 별 교육 대상 질의 응답 전문 용어 설명 끝',\n",
       " '전라도 멸종위기종 비단벌레 경남 서도 발견 전라 지역 외 발견 기록 멸종위기 야생 생물 급 비단벌레 경남 밀양 최초 발견 발견 곳 수목 풍부 생태 적 보존 지역 환경부 국립생태원 원장 이희철 은 전라도 분포 것 멸종위기 야생 생물 급 비단벌레 를 경남 밀양시 일대 발견 밀양시 발견 비단벌레 국립생태원 수행 중인 기초 생태 연구 연구 사업 조사 과정 중 발견 비단벌레 변산반도 국립공원 내장산 국립공원 등 서식지 보존 전라도 지역 서식 확인 다가 이번 경남 지역 것 처 음으로 확인 것 비단벌레 발견 곳 주변 재약산 천황산 등 수목 풍부 생태 적 보존 지역 비단벌레 팽나무 느티나무 왕벚나무 선호 발견 지역 수령 오래 이 나무 보존 비단벌레 딱정벌레목 곤충 몸 길이 정도 우리나라 비단벌레 류 중 가장 전 체적 초록색 금속성 광택 강하 앞가슴 등판 딱지 날개 은색 줄무늬 어서 매우 화려 애벌레 느티나무 감나무 등 줄기 어가 약 지나 성충 성충 월부 터 까지 느티나무 등 오래 활엽수 림 해외 과거 장신구 이용 위해 남획 현재 서식지 감소 멸종위기 처 이희철 국립생태원 장 그동안 보고 지역 첫 발견 만큼 의미 향후 비단벌레 생태계 보전 및 생물다양성 위해 연구 활동 비단벌레 사진 질의 응답 끝',\n",
       " '안전 기준 위반 생활화 학 제품 개 시장 퇴 한국 쓰리엠 주 의 제품 중 욕실 용 세 정제 욕실 청소 용 린스 폼알데하이드 함량 기준 초과 회사 다용 강력 접착제 사용제한 물질 염화비닐 검 소비자 안전 정보 표시 누락 개 제품 개선 명령 조치 환경부 장관 조경규 종 위해 우려 제품 대상 화학물질 등록 평가 법 이하 화평 법 안전 기준 표시 기준 준수 여부 조사 결과 개 제품 안전 기준 위반 개 제품 소비자 정보 표기 누락 등 표시 기준 위반 위해 우려 제품 종 세 정제 합성세제 표백제 섬유 유연 제 코팅 제 방청제 김 서림 방지 제 접착제 방향 제 탈취 제 물체 탈 염색 제 문신용 염료 소독제 방충 제 방부제 안전 기준 위반 개 제품 세 정제 접착제 코팅 제 문신용 염료 방향 제 탈취 제 표시 기준 위반 개 제품 세 정제 물체 탈 염색 제 방향 제 탈취 제 문신용 염료 접착제 합성세제 방청제 소독제 환경부 부터 시장 유통 중인 위해 우려 제품 주 기적 조사 이번 조사 결과 안전 기준 위 반제품 생산 수입 업체 판매 중단 회수 명령 표시 기준 위 반제품 생산 수입 업체 개선 명령 이번 안전 기준 표시 기준 위반 제품 대한 정보 생활환경 안전 정보 시스템 공개 위해 상품 판매 차단 시스템 대한 상공회의소 운영 제품 바코드 등록 전국 대형 유통 매장 판매 불가능 안전 기준 표시 기준 위반 제품 생산 수입 업체 화평 법 제 등 유통 매장 해당 제품 즉시 수거 거나 포장 교체 등 개선 조치 이행 여야 현재 안전 기준 위반 업체 위 반제품 판매 중단 회수 명령 이행 나 서고 표시 기준 관 개선 명령 업체 제품 포장 교체 등 후속 조치 이행 중이 또한 해당 업체 관할 수사 기관 고발 조치 예정 위해 우려 제품 안전 기준 표시 기준 위반 행위 대해 화평 법 제 최고 이하 징역 이하 벌금형 처 수 회수 명령 대상 제품 가지 소비자 경우 해당 제품 생산 수 입하 회사 직접 연락 교환 환불 수 향후 환경부 생활화 학 제품 대한 위 해성 평가 조사 지속 적 시행 안전 기준 강화 국민 불안 해 소하 데 계획 환경부 화학 제품 류필 무 팀 위해 우려 제품 자가 검사 거나 안전성 입증 제품 시중 유통 도록 업계 안전 품질 관리 철저 것 당부 한편 안전 기준 표시 기준 부적합 제품 시장 유통 도록 기준 위반 제품 대해 엄정 조치 고 안전 기준 표시 기준 위반 행정처분 제품 위반 내용 품목 별로 다음 안전 기준 위반 개 제품 세 정제 개 제품 한국 쓰리엠 의 욕실 청소 용 린스 포함 세 정제 폼알데하이드 함량 제한 기준 초과 안전 기준 부적합 총 개 제품 국내 생산 제품 개 수입 제품 개 적발 그 중 은나라 생산 맑은 염산 및 황산 함량 제한 기준 위반 한국 쓰리엠 생산 욕실 청소 용 린스 은 폼알데하이드 함량 제한 기준 이하 배 검 초과 은나라 생산 맑은 폼알데하이드 함량 제한 기준 이하 배 검 초과 염산 및 황산 함량 제한 기준 이하 도 배 검 초과 벡스 인터 코퍼레이션 생산 가정 용 벡 스크린 폼알데하이드 함량 제한 기준 이하 배 검 초과 칼자이스 코리아 수입 자 이스 렌즈 클리 너 렌즈 클리닝 와이프 스 폼알데하이드 함량 제한 기준 이하 각각 배 검 배 검 초과 오토 앤 수입 라임 프라임 프리 왁스 클린 슈퍼 마이크로 러빙 컴 파운드 폼알데하이드 함량 제한 기준 이하 각각 배 검 배 검 초과 극동 연 수입 머 울트라 샤인 워시 왁스 머 외 플라스틱 범퍼 복원 제 머 실내 크리 너 티슈 숲속 향 폼알데하이드 함량 제한 기준 이하 각각 배 검 배 검 배 검 초과 오토 왁스 수입 듀라글 로스 시 컨 센트 레이 트 폼알데하이드 함량 제한 기준 이하 배 검 초과 일신 생산 캬브레타 초크 크리 너 세 정제 사용 제한 디 로 메탄 검 접착제 개 제품 접착제 사용 수 도록 금지 염화비닐 검 개 제품 톨루엔 디 로 메탄 함량 기준 초과 개 제품 적발 한국 쓰리엠 생산 다용 강력 접착제 강력 접착제 다용 사용제한 물질 염화비닐 각각 검 유선 케미칼 생산 록스타 손오공 본드 톨루엔 함량 제한 기준 이하 배 검 디 로 메탄 함량 제한 기준 이하 배 검 초과 코팅 제 개 제품 폼알데하이드 함량 기준 초과 수입 코팅 제 제품 개 적발 테크 수입 마루 마루 스프레이 물 왁스 폼알데하이드 함량 제한 기준 이하 배 검 초과 오토 왁스 수입 화이트 다이아몬드 쇼 글레이 스 아크릴 릭 글란츠 폼알데하이드 함량 제한 기준 이하 각각 배 검 배 검 초과 에이큐 에이 수입 스피드 잎 폼알데하이드 함량 제한 기준 이하 배 검 초과 스톤 닥터 앤 제네럴 코리아 수입 폼알데하이드 함량 제한 기준 이하 배 검 초과 문신용 염료 개 제품 문신용 염료 균 검 거나 폼알데하이드 함량 기준 초과 안전 기준 부적합 제품 개 적발 바이올렛 수입 카리스마 색소 라이트 브라운 은 무균 시험 부적합 판정 카리스마 색소 제트 블랙 은 폼알데하이드 함량 제한 기준 이하 배 검 초과 생산 터치 마살라 레드 무균 시험 부적합 폼알데하이드 함량 제한 기준 이하 배 검 초과 방향 제 개 제품 메탄올 함량 제한 기준 초과 방향 제 개 제품 적발 센트 온 수입 아로마 후 레쉬 메탄올 함량 제한 기준 이하 배 검 초과 폴앤 마틴 생산 싱글 룸디 퓨저 폴앤 마틴 룸 스프레이 메탄올 함량 제한 기준 각각 배 검 배 검 초과 탈취 제 개 제품 폼알데하이드 함량 제한 기준 은 함량 제한 기준 초과 탈취 제 개 제품 적발 나바켐 생산 자동차 탈취 제 폼알데하이드 함량 제한 기준 이하 배 검 초과 태양 생산 부츠 신발 탈취 스프레이 은 함량 제한 기준 이하 배 검 초과 표시 기준 위반 개 제품 위반 제품 총 개 제품 함유 성분 제품 사용 시 주의 사항 안전 기준 통과 제품 부여 위해 우려 제품 자가 검사 번호 등 소비자 위 안전 정보 의무 표시 사항 제품 겉면 누락 것 대부분 었다 자가 검사 번호 공인 시험 분석 기관 안전 기준 합격 제품 부여 일련 인증 번호 예시 위해 우려 제품 안전 기준 표시 기준 위 반제품 현황 질의 응답 위반 제품 대한 안전 기준 표시 기준 현황 전문용어 설명 끝',\n",
       " '멸종위기종 급 풍란 려 해상 국립공원 무인도 복원 멸종위기종 급 풍란 려 해상 국립공원 무인도 복원 풍란 자생 발견 후 채취 종자 개체 자체 증식 원래 자생 려 해상 국립공원 내 개체 복원 시행 국립공원 관리 공단 이사장 박보환 이 초 멸종위기 야생 생물 급 풍란 개체 려 해상 국립공원 내 무인도 복원 공단 지난 려 해상 국립공원 내 처 음으로 풍란 자생 발견 자생 보전 및 복원 위해 풍란 종자 채 취하 증식 그 결과 공단 종 복원 기술 원 식물 복원 센터 풍란 개체 자체 증식 성공 유전자 분석 통해 이 풍란 우리나라 고유종 임 확인 이중 개체 원래 자생 려 해상 국립공원 복원 이번 복원 풍란 생존 율 높이 기 위해 본격 적 장마철 시작 전 복 원함 충분 수분 공급 가능 도록 복원 증식 방법 조직 배양 등 무성생식 종자 활용 유성생식 가지 방법 이번 복원 개체 유전자 무성생식 대신 유전자 다양성 높이 기 위해 유성생식 방법 사용 복원 지역 과 다한 햇빛 고사 도록 지형 적 여건 고려 북동 남동 사면 중심 선정 풍란 상록 성 여러해살이풀 노끈 모양 뿌리 바위 나무 표면 어서 남해안 일대 제주도 분포 일명 꼬리 난초 고도 부 분별 남획 개체 수가 급격 감소 국립생물자원관 한국 멸종위기종 사이트 김종완 국립공원 관리 공단 자원 보전 처 자연 생태계 필수 구성 인자 식물 종 복원 일 국가 생물다양성 보전 매우 의미 향후 종 대한 복원 지속 적 시행 계획 말 공단 이번 풍란 복원 이후 생존 율 생장 량 등 관찰 결과 유사 종 복원 자료 활용 예정 또한 멸종위기종 주요 위협 요인 무분별 남획 방지 위해 유관 기관 협업 통한 수시 순찰 등 철저 사후 관리 시행 계획 이번 복원 사용 나머지 풍란 개체 풍란 생육 환경 고려 려 해상 및 다도해 해상 국립공원 내 최적 를 선정 순차 적 복원 사업 진행 예정 국내 국립공원 내 멸종위기종 현황 증식 방법 장 단점 비교 관련 사진 질의 응답 전문 용어 설명 끝 관련 영상 및 사진 환경부 웹하드 게재',\n",
       " '도시 숲 미세먼지 푸른 하늘 어요 수도권대기환경청 환경재단 서울 노을 공원 나무 심기 기 부금 통한 나무 심기 미세먼지 도시 숲 조성 기여 환경부 소속 수도권대기환경청 청장 김 동구 은 환경재단 서울 마포구 노을 공원 나무 심기 캠페인 진행 이번 캠페인 숲 환 경적 가치 높이 미세먼지 하늘 만들기 위해 도시 숲 조성하 취지 마련 날 행사 환경재단 관계자 및 개인 후원자 수도권대기환경청 직원 등 약 여 명 참여 노을 공원 묘목 그루 심 예정 이번 캠페인 수도권대기환경청 온라인 공익 캠페인 푸른 하늘 캠페인 통해 적립 기 부금 진행 수도권대기환경청 올해 일부 터 까지 온라인 기부 포털 네이버 해피빈 통해 기부 계 대기 환경 개선 실천 캠페인 진행 캠페인 대기 환경 개선 위 실천 습관 미세먼지 대응 요령 등 안내 약 건의 캠페인 참여 수 기록 이번 캠페인 통해 적립 총 원 기부 금은 환경재단 모금 함 포함 사막화 방지 도시 숲 조성 등 대기 환경 개선 관련 개 모금 함 기부 에브리데이 식목 데이 모금 함 운영 환경재단 수도권대기환경청 및 개인 후원자 기 부금 활용 이번 나무 심기 캠페인 추진 한편 수도권대기환경청 날 인근 서울 난지천 공원 대한민국 어린이 푸른 나라 그림 대회 환경 주제 체험 과정 운영 그림 대회 내 부스 통해 태양광 에너지 이용 자동차 만들기 공기 정화 원리 알 수 공기청정기 만들기 친환경 화분 만들기 등 체험 수 환경보호 이야기 마술 공연 진행 대한민국 어린이 푸른 나라 그림 대회 어린이 환경 중요성 알리 기 위해 현대 자동차 환경보전 협회 주 최하 올해 환경부 소속 기관 후원 우리나라 표적 어린이 그림 대회 올해 처 음으로 수도권대기환경청 체험 과정 운영 김 동구 수도권대기환경청 장 미세먼지 피해 줄 대기 환경 개선 위해 도시 숲 중요성 강조 면서 시민 공터 식물 심 거나 실내 공기 정화 식물 등 생활 주변 미세먼지 데 동참 바란 말 온라인 공익 캠페인 주요 이미지 제 어린이 푸른 나라 그림 대회 개요 끝',\n",
       " '참고 광양 백운산 활동 반달가슴곰 불법 엽구 광양 백운산 활동 무 채 발견 반달가슴곰 공존 협의 체 통한 서식지 보호 활동 주력 계획 환경부 국립공원 관리 공단 이사장 권 업 은 광양 백운산 지역 활동 반달가슴곰 이 무 채 발견 작년 월부 터 백운산 일원 활동 위치 추적 위해 부착 발신기 로부터 이 상음 수신 오전 현장 확인 결과 오른쪽 앞발 이동형 무 다래 덩굴 켜 바위 틈 채 발견 나무 등 고정 것 길이 정도 절 단목 와이어 형 무 달 야생동물 무 채 폐 사하 무 공단 그간 관계 기관 백운산 지역 서식지 안정화 위해 불법 엽구 수거 등 시행 미처 제거 못 무가 남아 희생 것 보고 불법 엽구 설 치자 대한 수사 의뢰 한편 반달가슴곰 비롯 야생동물 공존 위 주민 협력 사업 강화 계획 송동주 국립공원 관리 공단 종 복원 기술 원장 자연 서식지 확산 과정 중 매우 안타 까운 사건 일어 면서 지난 발족 공존 협의 체 통해 서식 예상 지역 대한 불법 엽구 수거 등 서식지 보호 활동 더욱 강화 임 현황 사진 부',\n",
       " '전국 곳 오염 하천 선정 수질 개선 통합 집중 지원 전국 곳 오염 하천 선정 수질 개선 통합 집중 지원 통합 집중 형 오염 하천 개선 사업 인천 굴포천 등 전국 곳 오염 하천 선정 개 사업 원 투자 하수도 비점 오염 감 생태 하천 복원 등 분산 수질 개선 사업 통합 집 중하 단기간 수질 개선 효과 환경부 장관 윤성규 국정 과제 건강 물 환경 조성 및 깨끗 안전 물 공급 확대 를 위해 인천 굴포천 등 전국 오염 하천 곳 통합 집중 형 오염 하천 개선 사업 대상 선정 통합 집중 형 오염 하천 개선 사업 오염 하천 하수도 생태 하천 복원 등 다양 개 선수단 이내 단기간 집중 지원 체계 적 수질 개선 생태계 복원 추진 사업 이 사업 그간 환경부 수처리 비점 오염 감 등 단위 사업 통합 수질 개선 사업 계 높이 통합 집중 지원 단기간 수질 개선 효과 향상 것 기대 올해 선정 중 소규모 오염 하천 곳 인천 굴포천 성남 시흥 천 밀양 초동 천 부산 온천천 천안 천안 천 순천 해룡 천 당진 남 원천 석우 천 고창 외정 천 등 이 오염 하천 부터 까지 국비 원 사업 비 지원 예정 개선 사업 완료 대부분 오염 하천 수질 등급 이하 물 생물 화 학적 산소요구량 이하 수준 개선 목표 굴포천 이나 해 룡천 처럼 오염 도시 지역 하천 이번 사업 완료 경우 지역 주민 친환경 적 생활 공간 제공 고 질적 악취 해소 수 것 기대 한편 환경부 부터 매년 수질오염 정도 인구 밀집 역 지역 주민 개선 요구 등 고려 곳 내외 중 소규모 하천 선정 통합 집중 형 오염 하천 개선 사업 추진 까지 전국 개 오염 하천 선정 개선 사업 추진 중이 대부분 사업 시행 전보 수질 개선 부산 대리 천 경우 사업 시행 전 수치 로 개선 전북 익산 천도 로 개선 추세 환경부 앞 매년 개 내외 오염 중 소규모 하천 대하 통합 집중 형 오염 하천 개선 사업 계속 추진 까지 개 하천 수질 대폭 개선 계획 통합 집중 형 사업 선정 결과 질의 응답 전문 용어 설명 끝',\n",
       " '여름 휴가 철 물놀이 음주 가장 위험 여름철 국립공원 전체 익사 사고 건 중 건 이 음주 후 물놀이 사고 준비운동 구명조끼 착용 등 안전 수칙 반드시 환경부 국립공원 관리 공단 이사장 권 업 은 여름 휴가 철 국립공원 주요 계곡 해변 탐방 객 물놀이 때 안전 사고 대해 각별 주의 국립공원 관리 공단 최근 간 여름철 휴가 기간 내 국립공원 발생 물놀이 익사 사고 건 분석 결과 음주 후 물놀이 익사 건 나타 일 반적 술 심장 박동 빨 라지 혈관 이 때 찬물 어가 혈관 급격 수 축하 심장 부담 심장마비 발생 수 여름철 안전 물놀이 위해 금주 사전 준비운동 기 본적 안전 수칙 반드시 국립공원 내 계곡 수온 깊이 정확 알 수 일부 구간 경우 소용돌이 현상 발생 때문 물놀이 계곡 가장자리 주변 해변 해수욕장 의 경우 조수웅덩이 이안류 바다 갈림길 등 위험 요소 대한 정보 사전 확인 또한 여름철 산악 지형 상 갑작 폭우 소나기 수 때문 기상 상태 주의 호우 주의보 등 기상특보 발효 물놀이 즉시 중지 통제 적극 라야 국립공원 관리 공단 여름철 물놀이 안전 사고 예방 위해 태안 해안 등 전국 개 국립공원 주요 계곡 해변 곳 중점 관리 대상 선정 집중 적 관리 중점 관리 대상 지역 안전 사고 취약 시간 대인 오후 순찰 인력 집중 배치 입수 통제 그물 망 안전 선 튜브 등 구조 장비 설치 비롯 탐방 객 통제 안전 수칙 홍보물 비치 이용민 국립공원 관리 공단 재난 안전 처 국립공원 안전 휴가 보 내기 위해 음주 후 물놀이 것 구명조끼 안전 장비 착용 등 기 본적 안전 수칙 반드시 준수 말 국립공원 내 안전 사고 현황 최근 간 국립공원 익사 사고 현황 현황 사진 질의 응답 물놀이 안전 수칙 행정안전부 끝',\n",
       " '국립생물자원관 국제 동물 명명 규약 한국어 판 발간 국립생물자원관 아시아 번 국제 동물 명명 규약 번역 판 발간 분류학 자의 새 생물 종 발굴 연구 차 세대 연구자 양성 교육 활용 기대 환경부 소속 국립생물자원관 관장 백운석 은 국제 동물 명명 규약 한국어 판 국내 최초 발간 국제 동물 명명 규약 은 생물 공식 이름 학명 부여 국제 적 기준 우리나라 이번 발간 통해 아시아 번 전문 번역 국가 학명 세기 분류학 선구자 린네 이명법 표 기법 정리 세기 생물 기록 종 수가 폭발 적 증가 면서 식물학자 각각 명명 위원회 구성 규칙 부합 공식 적 이름 부여 도록 국제 적 기준 명명 규약 마련 이명법 명 종 본명 의 조합 표 기법 라틴어 알파벳 구성 예 사람 학명 속 명인 종 본명 를 로 표기 국제 동물 명명 규약 은 국제 동물 명명법 심의회 처 음으로 발표 영어 프랑스어 작성 제 판이 출판 현재 개 언어 번역 판이 출판 상태 아시아 일본 중국 자국 번역 판 출판 바 번역 개 언어 스페인어 러시아어 일본어 그리스어 독일어 체코어 중국어 우리나라 간 제 판 요약 문 번역 한국 동물학 회지 실 바 전문 우리말 번역 출판 것 이번 처음 이번 국제 동물 명명 규약 동물 명명법 정의 적합 학명 조건 용어 해설 등 국제 동물 명명 규약 원문 라틴어 기반 전 문적 학술 용어 영어 기술 그동안 생물 분류 연구 학자 바르게 이해 활용 데 어려움 이번 발간 통해 라틴어 익숙 우리나라 분류학 자 학명 부여 기본 원칙 좀 더 이해 바르게 사용 수 것 기대 국제 동물 명명 규약 한국어 판 국립생물자원관 생물다양성 도서관 누리집 수 국제 동물 명명법 심의회 누리집 다른 나라 번역본 게시 예정 백운석 국립생물자원관 장 생물 주권 대한 주장 그 나라 살 생물 파악 이름 부여 일 시작 며 이번 국제 동물 명명 규약 한국어 판 발간 분류학 자의 전문 연구 뿐 생물학자 양 성교육 널리 활용 우리 생물 주권 주장 초석 바란 고 말 국제 동물 명명 규약 한국어 판 표지 전문용어 설명 끝',\n",
       " '국립생태원 대표 전시 식물 종 안내서 발간 기후 대별 대표 식물 종 생육 정보 삽화 수록 에코 리움 식물 이야기 발간 망그로브 식충식물 등 독특 생태 이야기 형식 소개 환경부 국립생태원 원장 이희철 은 에코 리움 전시관 내 전시 중인 대표 식물 종 소개 에코 리움 식물 이야기 를 최근 발간 국립생태원 상징 적 전시관 에코 리움 열대 사막 지중해 온대 등 지구 대표 기후 대별 생태계 재현 체험 수 공간 약 종 식물 전시 이번 안내서 이중 대표 식물 종 대한 이야기 에코 리움 식물 이야기 식물 시 수스 몬스테라 등 열대 종 리톱스 금호 선인장 등 사막 종 바오밥나무 월계수 등 지중해 종 녹나무 구실잣밤나무 등 온대 종이 이 대표 식물 대한 생태 특성 생육 정보 흥미 롭 소개 실제 자생 모습 비롯 꽃 이나 열매 등 특징 적 부분 삽화 활용 이해 수 도록 또한 망그로브 바오밥나무 식충식물 등 독특 생태 보 여주 식물 이야기 스토리텔링 형식 설명 식물 생태 대한 흥미 이해 높이 도록 구성 이번 안내서 전국 식물원 수목원 도서관 등 중순 부터 무료 배포 예정 이희철 국립생태원 장 이번 에코 리움 식물 이야기 발간 다양 기후 대의 식물 이해 이 식물 얼마나 중요 역할 인식 데 도움 기대 에코 리움 식물 이야기 표지 에코 리움 식물 이야기 대표 식물 전문용어 설명 끝',\n",
       " '지하 역사 실내 공기 질 바로 바로 확인 지하 역사 실내 공기 질 바로 바로 확인 지하 역사 등 공공시설 곳 실내 공기 질 정보 인터넷 실시간 제공 환경부 장관 윤성규 일부 터 지하 역사 등 전국 다중이 용 시설 곳 실내 공기 질 정보 실내 공기 질 자료 공개 서비스 를 통해 실시간 제공 실내 공기 질 자료 공개 서비스 서울 인천 등 전국 개 도시 곳 지하 역사 서울 소공동 지하상가 김포공항 대합실 등 총 곳 다중이 용 시설 대한 미세먼지 이산화탄소 등 실내 공기 오염 물질 농도 정보 제공 실내 공기 오염 물질 농도 정보 환경부 지자체 각각 곳 곳 다중이 용 시설 설치 자동 측정 망 실시간 공기 질 측정 자료 취합 것 오염 물질 농도 정보 시간 단위 제공 실내 공기 질 자료 공개 서비스 컴퓨터 휴대폰 접속 수 시설 클릭 바로 확인 수 네이버 나 다음 과 인터넷 포털 실내 공기 질 자료 공개 서비스 를 검색 접속 가능 오염 물질 농도 보통 관리 필요 등 단계 아이콘 형태 표시 실내 공기 질 상태 한눈 파악 수 환경부 이번 실내 공기 질 자료 공개 서비스 를 통해 국민 실 내공 기질 정보 바로 확 인하 활동 계획 수 뿐 공공시설 관리자 오염 물질 감 관리 도움 줄 수 것 기대 또한 황사 등 계절 적 요인 실 내공 기질 상관관계 이용자 수 특정 활동 오염 변화 분석 가능 것 보고 통해 오염 감 대책 마련 실내 공기 질 관리 위 중요 기초 자료 도 활용 수 환경부 자동 측정 망 운 영하 시설 대해 연간 실시 실내 공기 질 자가 측정 교육 등 면 제하 혜택 등 다중이 용 시설 자동 측정 망 설치 확대 정보공개 서비스 강화 계획 실내 공기 질 자료 공개 서비스 화면 국가 및 지자체 실내 공기 질 측정 망 현황 실내 공기 질 실시간 공개 대상 시설 및 항목 질의 응답 전문 용어 설명 끝',\n",
       " '부산 지역 미세먼지 배출 단속 곳 중 곳 위반 환경부 부산시 사하구 청 부산 신평 장림 산업 단지 내 환경 배출 곳 단속 결과 곳 건 위반 대기 방지 시설 설치 등 불법 환경오염 행위 적발 환경부 장관 김은경 부산 사하구 신평 장림 산업 단지 안 환경오염 물질 배출 사업 장 곳 특별 단속 결과 총 곳 사업 장 건의 위반 행위 적발 적발 률 특별 단속 대상 조성 신평 장림 공단 내 사업 장 시설 노후 화 관리 부실 등 인근 아파트 주민 로부터 미세먼지 악취 등 민원 지속 적 제기 곳 장림동 년도 미세먼지 농도 기간 전국 평균 수준 이번 특별 단속 일부 터 동안 환경부 중앙 환경 기동 단속 반 부산광역시 사하구 청 합동 실시 대기 배출 방지 시설 정상 가동 여부 무허가 시설 설치 운영 여부 허가 신고 배출 시설 적법 여부 등 불법 행위 중점 적 단속 이번 특별 단속 나타 주요 위반 사례 다음 인조 피혁 제조업체 경은 산업 주 은 대기오염 물질 배출 시설 혼합 시설 발생 오염 물질 먼지 등 이송 덕트 별도 지름 의 관 개 설 치하 배출 시설 오염 물질 외부 공기 배 출하 다가 적발 볼트 피막 처리 업체 해광 엠 대기오염 방지 시설 로서 정집 진시 설 분 설 치하 것 허가 설 치하 화성 처리 시설 메이트 처리 운 영하 적발 선박 용 파이프 피막 처리 업체 진흥 테크 주 대기오염 물질 배출 시설 화성 처리 시설 인산염 처리 설치 후 조업 면서 대기오염 물질 배출 시설 설치 신고 대기오염 방지 시설 운 영하 적발 폐기물 소각 업체 에너지 네트웍 사업 장 폐기물 폐 합성수지 허가 장소 무단 보관 약 톤 폐수 배출 허용 기준 초과 등 위법 사항 건 적발 기준 농도 측정 농도 이번 단속 적발 총 건의 위반 행위 매체 별로 대기 건 수질 건 폐기물 건 악취 건 등 나타 위반 행위 유형 별로 대기 방지 시설 설치 및 부식 마모 훼손 방치 등 건 악취 및 대기 수질 배출 허용 기준 초과 건 폐기물 부적정 보관 및 처리기 준 위반 등 건 기타 건 환경부 이번 특별 단속 적발 곳 사업 장 대해 관할 지자체 행정처분 과태료 처분 요청 이중 위반 행위 엄중 건 환경부 소속 낙동강 유역 환경청 수사 후 검찰 송치 계획 부산시 사하구 청 신평 장림 산업 단지 노후 시설 보유 업체 대상 환경 개선 자금 지원 천만 원 악취 유발 시설 등 대한 시설 개선 통해 본적 대기 악취 문제 해결 계획 부산 노후 단속 결과 질의 응답 전문용어 설명 끝',\n",
       " '경 강선 알펜시아 호텔 탄소발자국 인증 인천 강릉 노선 평창 알펜시아 인터콘티넨탈 호텔 인증 탄소발자국 인증 친환경 동계올림픽 탄소 안내 판 역할 기대 환경부 장관 김은경 친환경 평창 동계올림픽 실현 위해 한국 철도공사 경 강선 인천공항 강릉 노선 과 강원 개발 공사 알펜시아 인터콘티넨탈 호텔 이하 알펜시아 호텔 탄소발자국 인증 이번 탄소발자국 인증 평창동계올림픽 대회 조직 위원회 참여 환경부 기관 한국 환경 산업 기술 원 탄소 배출 량 산정 역할 담당 탄소발자국 이란 제품 및 서비스 전 과정 발생 온실가스 배출 량 이산화탄소 배출 량 환산 표시 것 경 강선 탄소 배출 량 알펜시아 호텔 스탠다드 룸 기준 박 당 인증 경 강선 발생 탄소 배출 량 자가용 이용 경우 발생 탄소 배출 량 비교 때 약 수치 평창동계올림픽 기간 한정 개월 인증 일부 데이터 예측 치 활용 알펜시아 호텔 탄소 배출 량 탄소발자국 인증 호텔 평균 탄소 배출 량 과 비 교하면 약 환경부 이번 탄소발자국 인증 동계올림픽 방문객 강원도 이 동하 거나 숙박 때 발생 온실가스 배출 량 가늠 수 것 보고 또한 이번 인증 친환경 평창올림픽 탄소 안내 판 역할 것 기대 이번 경 강선 알펜시아 호텔 대한 탄소 배출 량 인증 지난 인증 개 생태관광 프로그램 평창 동계올림픽 친환경 올림픽 자리 매 기여 것 강릉 경포호 가시연 습지 탐방 박 생태 체험 강릉 경포호 가시연 습지 탐방 당일 생태 체험 춘천역 출발 양구 시티투어 연 코스 춘천역 출발 양구 시티투어 펀치 볼 코스 정종선 환경부 환경 융합 정책 관 이번 평창 동계올림픽 우리나라 환경 관리 수준 전 세계 선 보이 자리 라며 올림픽 조직 위원회 긴밀 협력 저 탄소 친환경 올림픽 성 공적 개최 수 도록 지원 것 환경 성적표 인증 제도 소개 환경 성적표 탄소발자국 인증 서비스 소개 질의 응답 전문용어 설명 끝',\n",
       " '온실가스 감축 국민 운동 주년 실천 대회 김해 개최 환경부 일부 터 이틀 간 경남 김해시 화포 천 체육 공원 저 탄소 생활 실천 국민대회 지난 약 명의 그린 리더 명의 온실가스 진단 상담사 활동 저 탄소 생활 확산 기여 환경부 장관 김은경 경상남도 김해시 한국 기후 환경 네트워크 공동 저 탄소 생활 실천 국민대회 를 일부 터 까지 경상남도 김해시 화포 천 체육 공원 개최 저 탄소 생활 실천 국민대회 생활 분야 온실가스 감축 실천 확산 위해 민간 단체 중심 부터 매년 올해 맞이 올해 행사 개 회식 포함 저 탄소 생활 경연 대회 다양 체험 전시 홍보 관 등 개 회식 주요 내빈 전국 네트워크 참여 단체 대표 비롯 그린 리더 상담사 컨설턴트 유관 기관 기업 학생 시민 등 여 명 참석 예정 날 진행 경연 대회 기후변화 대응 국민 실천 부문 교육 홍보 부문 예선 통과 지자체 기업 민간 단체 등 개 팀 지난 저 탄소 생활 실천 성과 발표 심사 결과 당일 환경부 장관 상장 상금 지급 또한 대회 기간 동안 온실가스 인 톤 줄 이기 체험 미세먼지 대한민국 홍보 관 등 여 개 다양 친환경 체험 전시 홍 보관 이 오 엑스 환경 퀴즈 대회 환경 영화 상영 화포 천 생태 문화 체험 진행 그간 저 탄소 생활 실천 공로 인정 김해시 등 개 기관 단체 정부 포상 수여 김해시 기후변화 행복도시 미래 상 제시 기후변화 정책 적극 추진 공적 대통령 표창 소니코리아 주 녹색 구매 시스템 구축 환경 발자국 관리 청라 힐스테이트 아파트 관리사 무소 입 주민 대상 에너지 절약 교육 탄소 포인트 제 가입 공로 각각 국무총리 표창 환경부 이번 행사 통해 그간 저 탄소 생활 실천 국민 운동 추진 성과 돌 아보 전국 지역 네트워크 간의 협조 체계 강화 예정 지난 저 탄소 생활 실천 국민 운동 통해 약 명의 그린 리더 명의 온실가스 진단 상담사 컨설턴트 활동 그린 리더 각 지자체 소정 저 탄소 생활 교육 저 탄소 친환경 생활 운동 선도 전파 실천 진단 교육 실천 활동가 환경부 올해 대회 계기 정부 기업 시민사회 기후변화 대응 협력 강화 온실가스 인 톤 줄 이기 국민 운동 일상생활 자리 김 도록 다각도 지원 계획 진 환경부 신 기후 체제 대응 팀 우리나라 국제사회 약속 국가 온실가스 감축 목표 온실가스 배출전망치 대비 감축 달성 위해 정부 기업 시민사회 협력 필요성 매우 라면 이번 대회 저 탄소 생활 대한 국민 적 관심 높이 실천 지도 록 데 도움 바란 말 저 탄소 생활 실천 국민대회 개요 저 탄소 생활 실천 유공 자 명단 온실가스 줄 이기 실천 수칙 질의 응답 전문용어 설명 끝',\n",
       " '교도소 피어 꽃 재활 씨앗 뿌 린다 교도소 피어 꽃 재활 씨앗 뿌 린다 국립생물자원관 국군 교도소 등 개 수용 시설 제휴 통해 노랑 무늬 붓꽃 등 자생 식물 종 개체 생산 계획 자생 식물 종자 제공 원예 교육 수용 자의 재활 기회 제공 교도소 내 자생 식물 재 배하 국가 생 물자원 보존 활용 위해 씨앗 종자 수확 사업 시작 국립생물자원관 관장 김상배 은 자생 식물 복원 파트너 십 사업 통해 일부 터 까지 국군 교도소 등 개 수용 시설 노랑 무늬 붓꽃 등 자생 식물 종 개체 증식 계획 자생 식물 복원 파트너 십 사업 환경부 법무부 업무 협약 체결 시작 현재 법무부 서울 소년원 청주 소년원 광주 소년원 영월교도소 순천교도소 국방부 국군 교도소 공동 자생 식물 여종 개체 생산 및 보급 국립생물자원관 노랑 무늬 붓꽃 등 고유 식물 증식 뿐 원예 용 활용 가능성 붓꽃 등 식물 증식 올해 초 수립 자생 식물 복원 파트너 십 사업 계획 반영 또한 국립생물자원관 서울 청주 광주 등 소년원 곳 영월 순천 등 교도소 곳 노랑 무늬 붓꽃 붓꽃 등 종자 제공 주 기적 원예 교육 전문가 특강 지원 예정 이번 자생 식물 복원 파트너 십 참여 국군 교도소 지난 부터 자생 식물 재배 사업 참여 지금 까지 구절초 등 종 개체 생산 올해 생산 목표 종 개체 수용 자 직접 재배 자생 식물 다시 씨앗 수확 환경부 국가 야생 식물 종자 행 보관 교육 연구 목적 외부 분양 수 소재 활용 원예 활동 참여 중인 수용 자 원예 반장 자생 식물 재 배하 연말 다시 씨앗 수확 국립생물자원관 때 성취 감 만족감 고 말 국립생물자원관 수용 자 원예 활동 통해 자연 생명 직접 경험 교화 도움 동시 국가 사업 기여 만족감 것 기대 한편 국립생물자원관 오후 시부 터 경기도 이천시 국군 교도소 자생 식물 복원 사업 행사 개최 년도 자생 식물 복원 파트너쉽 시작 예정 수용 자의 원예 활동 소감 문 국군 교도소 내 구절초 사진 질의 응답 전문 용어 설명 끝 행사 사진 오후 시부 터 환경부 웹하드 게재 예정',\n",
       " '공동 참고 국민 미세먼지 아이디어 실현 국민 참여 미세먼지 최종 아이디어 선정 범부 처 미세먼지 연구개발 이하 협의 체 이하 범부 처 협의 체 국민 제안 미세먼지 아이디어 중 전문가 평가 결과 총 개 아이디어 최종 선정 발표 과학기술 기반 본적 미세먼지 문제 해결 방안 모색 위해 미세먼지 관련 개 기관 중심 구성 최종 아이디어 지난 일부 터 까지 대학생 대학원생 연구자 및 일반 국민 제안 미세먼지 아이디어 여건 중 미세먼지 분야 전문가 아이디어 충실 성 기술 개발 실현 가능성 및 필요성 등 검토 후보 군 개 선정 시민단체 포함 전문가 평가 위원회 과학 적 실현 가능성 기술 적 파급 효과 문제해결 기여 국민 만족도 및 정책 반영 등 고려 심층 평가 실시 최종 건 선정 또한 평가 위원회 최종 선정 아이디어 계 시너지 효과 창 수 아이디어 건 추가 검토 총 개 아이디어 신규 사업 기획 활용 예정 이번 선정 건의 국민 제안 아이디어 주요 내용 다음 세부 내용 참조 미세먼지 정화 위 토양 필터 식물 산화 티타늄 등 다양 요소 기술 융합 미세먼지 바리 케이트 를 도로 변 설 치하 아이디어 통해 미세먼지 원인 물질 등 감 수 또한 초등학교 유형 별로 공기 질 현황 미세먼지 노출 량 등 분석 이산화탄소 농도 에너지 효율 등 종합 적 고려 공기 정화 장치 최적화 시스템 개발 세계보건기구 수준 학교 미세먼지 농도 관 리하 아이디어 선정 이 도로 주행 면서 미세먼지 감 수 필터 개발 공공 버스 등 대중교통 부착 시범 운용 달리 미세먼지 감 장치 아이디어 버스 정류장 외부 공기 정화 정류장 내부 및 주변 공급 정보통신기술 기술 활용 실시간 미세먼지 알림 친환경 디스플레이 정류장 벽면 구현 등 미세먼지 청정 스마트 거리 를 조성하 아이디어 선정 뿐 안전 먹거리 위해 미세먼지 등 유해 물질 농작물 축적 등 평가 안전 농산물 생산 위 기술 개발 가축 분뇨 퇴비 화 과정 미세먼지 감 제안 과도 시 내 공사 현장 테두리 원예 작물 활용 그린 링 구 축하 거나 건축물 등 활용 가능 미세먼지 감 식생 시스템 개발 등 식물 활용 다양 공기 정화 아이디어 선정 제안 아이디어 기존 발전소 자동차 배기가스 등 발생 원 로부터 미세먼지 감 것 대기 중 미세먼지 직접 줄 이기 위 식물 및 장치 활용 것 접근 방법 상 이하 초등학생 등 미세먼지 민감 계층 보호 위 연구개발 도로 변 공사 장 등 미세먼지 취약 지역 개선 아이디어 또한 그동안 정부 연구개발 투자가 농촌 분야 미세먼지 해결 위 다양 아이디어 선정 그 의미 최종 선정 제안 해당 아이디어 관련 분야 전문가 아이디어 기반 신규 사업 기획 기회 과학기술 정보통신부 정병 선 연구개발 정책 실장 아이디어 제안 국민 아이디어 구체화 관계 부처 협업 신규 사업 기획 것 더 나 아가 연구개발 수행 과정 국민 직접 참여 현장 중심 미세먼지 사업 의 첫 시작 수 도록 노력 미세먼지 국민 제안 아이디어 끝',\n",
       " '참고 국내 유럽 미세먼지 전문가 자리 대기오염 건강 공동 워크숍 개최 한국 유럽연합 전문가 간 미세먼지 연구 사례 공유 미세먼지 문제 해결 공동 연구 협력 기반 마련 미세먼지 분야 유럽연합 대기 질 관리 동향 도시 대기오염 대기 질 예보 미세먼지 건강 영향 등 주제 논의 과학기술 정보통신부 환경부 보건복지부 유럽연합 미세먼지 범부 처 프로젝트 사업 단 주관 대기오염 건강 공동 워크숍 개최 행사 한국 유럽 전문가 간 미세먼지 연구 동향 교류 통한 긴밀 미세먼지 공동 연구 협력 기반 구축 한국 회원 국 간의 미세먼지 대응 전략 사례 공유 위해 마련 이번 워크숍 시작 미세먼지 측정 예보 건강 분야 대해 한국 유럽 전문가 연구 네트워크 강화 향후 구 체적 교류 계획 국내 외 미세먼지 전문가 및 관련 분야 종 사자 대상 행사 기조 강연 시작 도시 대기오염 대기 질 관리 동향 예보 미세먼지 건강 영향 세션 별 전문가 발표 진행 계획 기조 강연 배 남 미세먼지 사업 단장 미세먼지 범부 처 프로젝트 사업 대해 설명 스페인 공중보건 개선 위 대기 질 관리 미래 를 발표 도시 대기오염 측정 세션 이탈리아 유럽 도시 대기오염 측정 김용 표 교수 이화여대 서울 대기 질 대해 발표 예정 평균 농도 중심 관리 서울 대기 질 현황 및 문제점 보고 서울 미세먼지 농도 유럽 도시 자동차 인접 고 농도 오염 중심 관 리하 사례 소개 대기 질 모델링 및 예측 세션 독일 의 대기 질 통합 평가 모델링 이용 대기오염 정책 효율 성 평가 송철 교수 광주 과기원 의 한국 대기 질 예측 현황 관 발표 진행 세션 유럽 산업 및 차량 배출 중심 대기오염 정책 효율 성 평가 결과 공 유하 대기 질 모델링 대기 오염 정책 평가 시 활용 사례 확인 수 마지막 미세먼지 노출 건강 영향 세션 벨기에 의 건강 영향 산출 위 다양 노출 평가 방법 적합 성 과 홍윤 철 교수 서울대 의 아시아 대기오염 질병 부담 주제 발표 진행 아시아 대상 질병 부담 산 출하 연구 현황 미세먼지 건강 영향 규명 위해 유럽 사용 다양 노출 평가 방법 적 합성 자리 공유 수 것 기대 한국 이번 행사 통해 미래 사회 대응 미세먼지 및 대기오염 물질 관리 위 정책 마련 도움 도록 전문가 정보 교류 국가 간 협력 확대 방안 적극 마련 예정 대기오염 건강 공동 워크샵 세부 일정 발표 연사 프로필 및 발표 주요 내용',\n",
       " '년도 환경 예산 최종 확정 년도 환경 예산 최종 확정 환경부 재정 규모 금년 대비 증가 환경 기초 시설 신규 투자 및 정비 예산 등 국회 증액 환경부 장관 윤성규 대두 환경 수요 적극 대응 환경 지속 성 확보 위 미래 투자 확 대하 데 초점 규모 년도 예산안 및 기금 운용 계획 안이 국회 본회의 의결 통해 최종 확정 발표 당초 정부 예산안 기금 등 총 규모 환경 예산 및 기금 안 국회 제출 국회 심의 과정 개 사업 증액 개 사업 감액 증 국회 심의 과정 증액 주요 사업 다음 노후 화 단수 사고 누수 수질오염 등 문제점 안고 지방 상수도 시설 대해 개소 시범 적 투 입하 개량 사업 실시 면서 바람 대책 모색 보기 또한 홀 수질오염 등 서울시 노후 하수 관 정비 위 예산 반영 전체 재정 규모 부담 줄 이기 위 목적 예비 비 편성 예비 비 지출 승인 후 환경 개선 특별회계 전입 지출 예정 예산 환경 지출 간주 경우 환경 예산 년 대비 증액 도심지 역 하수도 발생 악취 국민 불편 해소 위 하수도 악취 개선 사업 신규 반영 그 지역 환경 개선 지역 경제 활성화 위 기초 시설 확충 국립공원 탐방 정비 소외 지역 계층 환경 교육 강화 대기오염 측정 망 등 증액 한편 정 부안 편성 사업 중 내년 집행 가능성 등 우려 제기 일부 환경 기초 시설 설치 사업 하이브리드 차량 구매 보조금 지원 사업 등 총 감액 환경부 관계자 환경부 예산 및 기금 대두 환경문제 해결 국민 새 환경 서비스 제공 환경 미래 가치 창 적극 투 자하 예산 이 라며 예산안 편성 만큼 집행 과정 충분 효과 발휘 수 도록 준비 계획 말 년도 예산 국회 심사 증액 및 감액 사업 목록',\n",
       " '년도 환경 생태 분야 해외 교류 연구원 모집 국립생태원 국 제적 종합 생태 전문 연구기관 기반 구축 위해 일부 터 까지 해외 교류 연구원 모집 환경부 국립생태원 국 제적 종합 생태 전문 연구기관 기반 구축 위해 년도 환경 생태 분야 해외 교류 연구원 일부 터 까지 모집 모집 대상 대한민국 국적 생태 관련 학사 이상 국외 거 주자 서류 활동 능력 기관 이해도 등 선발 과정 총 명 선발 예정 부터 처음 모집 시작 해외 교류 연구원 은 해외 환경 생태 분야 연구 전문가 국립생태원 연구 교류 활동 추진 거주 국 환경 생태 분야 동향 조사 보고서 작성 선정 연구원 국립생태원 지정 양식 조사 활동 기간 내 편의 보고서 제출 보고서 주제 국립생태원 수행 중인 생태계 서비스 가치 평가 등 연구 과제 토대 제시 예정 국립생태원 해외 교류 연구원 제공 여러 국가 환경 생태 분야 최신 정보 축 적하 연구 과제 활용 예정 또한 수집 정보 해외 동향 보고서 제작 국립생태원 누리집 생태 정보 국제 환경 동향 자료 실 그림 파일 형태 공개 해외 교류 연구원 지원 대한 자세 사항 국립생태원 누리집 해당 국가 한인 회 구인 사이트 등 게재 모집 공 고문 고하 지원 관련 서류 담당자 이메일 합격자 개별 통보 후 선정 연구원 일부 터 까지 업무 수행 김정규 국립생태원 생태 연구 본부장 해외 교류 연구원 환경 생태 연구 해외 최신 동향 제공 뿐 국립생태원 국 제적 종합 생태 전문 연구기관 도약 도움 해외 교류 연구원 모집 공고 계획 공고 문 포스터 질의 응답 끝',\n",
       " '남해안 구역 곳 규모 멸종위기종 천국 국립 환경과학 원 남해안 구역 곳 생태계 정밀 조사 규모 다수 멸종위기종 서식 중선 포천 경남 사천 국내 최대 규모 대추 귀 고둥 서식 그동안 규모 우수 생태계 발굴 조사 대한 관심 상 대적 남해안 구역 곳 멸종위기 야생 생물 포함 다양 생물 종 중요 서식지 확인 국립 환경과학 원 원장 박진원 은 지난해 광양시 서천 하동군 관곡 사천시 중선 포천 등 남해안 구역 곳 대상 생태계 정밀 조사 이번 조사 남해안 구역 곳 일 반적 하천 연안 생태계 구분 곳 서천 관곡 중선 포천 구간 이 구역 서식 확인 생물 종은 서천 종 관곡 종 중선 포천 종 나타 서식지 질적 수준 평가 지표 멸종위기 야생 생물 서천 종 관곡 종 중선 포천 종 각각 확인 부터 까지 조사 구역 평균 조 사구간 현종 평균 종 멸종위기 야생 생물 평균 종인 것 비 교하면 남해안 구역 곳 생물 종 다양성 양적 측면 수준 유 지하 것 나타 이동성 환경 변화 민감 멸종위기 야생 생물 급 기수 갈고 둥 대추 귀 고둥 발 농게 등 대량 서식 것 확인 중선 포천 대추 귀 고둥 최대 마리 가량 살 국내 최대 수준 집단 서식지 대추 귀 고둥 남해안 서해안 일부 갯벌 서식 유 패류 지난 전남 순천만 여 마리 발견 것 최대 기록 국립 환경과학 원 남해안 구역 곳 생물다양성 이유 대해 구의 특성 상 자연 민물 바닷물 기수역 환경 유지 때문 보고 바닷물 유입 자 연적 말 하구둑 인 공구 조물 바닷물 흐름 구라 이정환 국립 환경과학 원 국립 습지 센터 장 이번 조사 결과 생물 종 다양성 정보 기반 구의 생태계 특성 장점 규명 계기 마련 라며 국가 생물다양성 정보 확보 서식지 보전 생태계 우수 보전 기여 구역 생태계 현황 면밀 분석 평가 구역 보전 관리 위 정책 지원 자료 활용 계획 국립 환경과학 원 생태계 우수 것 구역 대상 적절 보전 관리 위해 매년 곳 선정 지형 유역 환경 식물 등 총 개 분야 대해 조사 개 조사 분야 지형 유역 환경 식생 식물상 조류 포유류 육상 곤충 어류 양서 파충류 담수 무척추동물 기수 무척추동물 식물플랑크톤 동물 플랑크톤 관련 사진 연도 별 구역 조사 및 생물 종 출현 현황 질의 응답 전문용어 설명 끝',\n",
       " '국립생태원 봄 채 문화 행사 개최 일부 터 까지 봄 에코 그림 대회 개최 일부 터 주간 야생화 주제 알 사랑 하자 우리 들꽃 개최 일부 터 까지 입장료 할인 환경부 국립생태원 원장 이희철 은 봄 여행 주간 과 계 봄 특별 행사 일부 터 까지 국립생태원 야외 공간 개최 올해 개원 국립생태원 매년 봄철 야생화 주제 특별 행사 개최 올해 그림 그리기 대회 식물 생태 전시 등 국민 모두 수 생태 문화 체험 행사 열 린다 일부 터 까지 개최 봄 그 리다 행사 유치부 초 등부 대상 무료 진행 에코 그림 대회 관람객 대상 국립생태원 방문사 진 관람 후기 등 개인 소셜 네트워크 서비스 등 공 유하 이벤트 구성 일부 터 까지 식생 유형 생태 적 특성 반 영하 조성 한반도 숲 서어나무 군락 우리나라 야생화 주제 우산나물 풀솜 등 종 우리 들꽃 소개 알 사랑 하자 우리 들꽃 행사 국립생태원 입장권 증강현실 활용 사진 콘테스트 까지 진행 재치 재미 사진 국립생태원 소셜 네트워크 서비스 블로그 페이스북 등 응모 명 국립생태원 발간 도서 등 다양 상품 발표 후 증정 예정 사전 모집 실시 국립생태원 방문객 가족 친구 등 대상 무료 스냅 사진 촬영 해주 생태 여행 사진 상자 초등학생 자녀 가족 생태 체험 가족캠프 일부 터 국립생태원 진행 예정 국립생태원 봄 여행 주간 일부 터 동안 입장료 할인 행사 실시 이용 요금 성인 청소년 소인 또한 근로자 날 생물 다양성 날 월요일 관 평상시 달리 특별 개관 무료 입장 가능 이희철 국립생태원 장 이번 봄 특별 행사 관람객 생태 보전 의식 자연 수 측면 의미 며 개방 공유 소통 협력 추구 정부 정책 앞 새 채 방법 통해 국민 소통 수 행사 개최 계획 봄 특별 행사 사진 및 이미지 봄 특별 행사 일정 표 질의 응답 끝',\n",
       " '생태 교육 접목 간행물 무크 호 발간 국립생태원 생태학 다른 학문 예술 간의 온전 통섭 도 모하 부 정기간행물 호 생태 교육 발간 교육 기관 지자체 및 시민사회 주도 다채롭 성장 우리나라 생태 교육 역사 현주소 소개 환경부 국립생태원 원장 박용 목 은 생태학 다른 학문 간의 온전 통섭 도모 위해 잡지 형식 무크 에코 플러스 이하 무크 호 생태 교육 특집 발간 무크 우리나라 생태 문화 확산 위해 생태 문학 생태건축 생태 철학 등 생태 다양 학문 예술 통섭 목적 첫 선 국립생태원 출판 부의 부 정기간행물 무크 호 생태 교육 은 특집 좌담 시작 교육 기관 및 국가 기관 지자체 기업 시민사회 주도 온 채 생태 교육 역사 현장 이야기 구성 특집 좌담 이재영 공주대 환경 교육 교수 전정일 신구대 원예 디자인 교수 오충 현 동국대 바이오 환경과학 교수 하지원 사 에코 맘 코리아 대표 신경준 숭문중 학교 교사 생태 교육 현황 미래 주제 이야기 교육 정책 및 현장 전문가 글 생태 교육 정의 역사 해외 사례 등 뒤 국립생태원 생태 교육 프로그램 포함 우리나라 곳곳 이루 생태 교육 현장 소개 도심 공원 놀이터 마을 숲 등 다양 장소 탐조 활동 양서류 보호 활동 생태 연못 조성 채 방식 진행 이 시대 생태 교육 모습 생생 기록 무크 호 생태 교육 특집 전국 주요 서점 인터넷 서점 정가 판매 예정 박용 목 국립생태원 장 환경 위기 극복 및 인식 함양 위해 이 시대 꼭 필요 생태 교육 이번 호의 주제 매우 뜻 생각 라며 다음 서도 다른 여러 학문 예술 분야 생태학 적 문제 의식 고민 가지 세상 이 경험 생각 충실 담 아내 무크 에코 플러스 호 생태 교육 표지 무크 에코 플러스 호 생태 교육 목차 전문용어 설명 끝',\n",
       " '동계올림픽 국립공원 아름 움 로 국립공원 관리 공단 동계올림픽 가상현실 서비스 오대산 경주 내장산 덕유산 등 국립공원 우수 경관 곳 추가 환경부 국립공원 관리 공단 이사장 권 업 은 평창 동계올림픽 우리나라 국립공원 아름 움 홍보 위해 가상현실 이하 서비스 일부 터 확대 운영 국립공원 서비스 국립공원 주요 명소 도 입체 영상 제공 실제 국립공원 방 문하 생생 간접 체험 가능 도록 지원 이번 공개 영상 동계올림픽 평창 위치 오대산 비롯 경주 내장산 덕유산 등 개 국립공원 총 곳 명소 오대산 영상 오대산 일대 전경 전나무 숲길 선재 길 소금강 계곡 등 경주 영상 마애 보살 반가상 늠 비봉 오층석탑 문무대왕 수증 릉 내장산 영상 단풍 터널 내장산 전망대 백양 골 덕유산 영상 어사 길 덕 유평 전 향 적봉 등 경치 국립공원 관리 공단 이번 새 영상 국립공원 체험 앱 기능 향상 기존 몰입 감 환경 구축 영상 시선 움직 특 화형 자막기 능 추가 외국인 장애인 위해 영문 국문 자막 선택 수 또한 바 라보 방향 자연 수 물소 리 새소리 바람소리 등 음향효과 증폭 상호작용 음향효과 를 구현 한층 실감 체험 가능 도록 국립공원 서비스 스마트폰 플레이스토어 안드로이드 나 앱스토어 국립공원 가상현실 이나 국립공원 관리 공단 를 검색 체험 앱 스마트폰 감 상하 기기 이용 더욱 실감 체험 가능 국립공원 누리집 국립공원 서비스 사용 영상 게재 국립공원 관리 공단 동계올림픽 관문 진부 오대산 역 오대산 국립공원 상원 탐방 원 센터 체험 시설 일부 터 운영 예정 이기석 국립공원 관리 공단 뉴미디어 담당 관 이번 곳 영상 추가 국립공원 서비스 총 곳 명소 루고 면서 앞 과 최신 정보통 신 기술 적극 도 입하 국립공원 가치 널리 계획 가상현실 촬영 경관 설명 자료 가상현실 경관 및 체험 사진 질의 응답 전문용어 설명 끝',\n",
       " '국립생태원 에코 리움 하천 수 생태계 한눈 에코 리움 온대 관 국내 하천 수 생태계 공개 국내 상류 하류 까지 분포 어류 생태계 구현 환경부 국립생태원 일부 터 기존 에코 리움 온 대관 한강 수계 어류 전 시공간 국내 하천 수 생태계 공간 조성하 이번 전시 상류 계곡 시작 중류 하류 일련 하천 생태계 곳 어류 한눈 볼 수 도록 기획 하천 수 생태계 공간 은 온 대관 숲속 계곡 형태 길 구성 전시 수조 크기 관람객 눈높이 안정감 기존 톤 규모 소형 수조 개 톤 규모 개 대형 수조 변경 수심 어류 다양 서식 환경 수조 내 연출 또한 인위 적 이지 자연 생태 근접 환경 조성 다양 물의 세기 바닥재 나무 수초 등 여러 환경 어류 특징 적 모습 볼 수 발광다이오드 해설 판 설치 관람객 동선 생태 해설 사가 우리나라 하천 생태계 관 다양 이야기 멸종위기 야생 생물 급 감돌고기 고유종 쉬리 등 여 종 마리 다양 수 생태계 생물 전시 예정 이 배근 국립생태원 동물 관리 연구실 장 이번 온대 관 하천 생태계 전시 통해 관람객 상류 하류 까지 다양 국내 어류 수중 생태 환경 그 곳 살 아가 어류 습성 이 해하 데 도움 줄 것 말 온대 관 전시 수조 사진 주요 전시 어류 목록 끝',\n",
       " '환경 산업 기술 원 유럽 살생물제 규제 대응 사례 집 발간 유럽 화학물질 관리 청 규제 동향 국내 기업 대응 사례 등 수록 국내 살생물제 법 제정 가이드라인 제시 환경부 한국 환경 산업 기술 원 원장 김용주 은 주 독일 한국 대사관 분관 한국 과학기술 연구원 유럽 연구소 등 유럽 살생 물 제품 관리 및 규제 최근 동향 연구 사례 집 공동 발간 이 책자 유럽 화학물질 규제 제도 최신 정책 동향 소개 이 대한 국내외 기업 살생물제 규제 대응 방안 공유 위해 제작 사례 안전 화학물질 관리 위 유럽 화학물질 관리 청 의 살생물제 규제 동향 이 대한 국내외 기업 대응 방안 국내 관련 정책 기업 대응 대한 시사 점 등 구성 또한 살생물제 규제 영국 독일 대응 방안 유럽 화학물질 규제 제도 신규 화학물질 등록 관리 방법 소개 국내 관련 규제 비교 국내 영향력 대한 전망 등 한국 환경 산업 기술 원 이번 책자 발간 통해 유럽 수출 어려움 국내 환경 중소기업 유럽 살생물제 규제 효과 적 대응 수 체계 적 정보 제공 계획 생활화 학 제품 및 살생물제 안전 관리 법 제정 안이 지난해 입법 예고 국내 산 업계 생활화 학 제품 안전 관리 대책 마련 선 제적 대응 수 도록 지원 예정 이번 발간 사례 유해 화학물질 관련 기관 기업 등 대상 배포 한국 환경 산업 기술 원 누리집 의 자료 실 서도 수 한국 환경 산업 기술 원 주 독일 한국 대사관 분관 한국 과학기술 연구원 유럽 연구소 유럽 화학물질 규제 정책 동향 파악 국내 기업 대응역 량 강화 위해 지속 적 노력 부터 매년 유럽 환경 정책 협의 회 국제 공동 워크숍 개최 지난해 독일 진행 워크숍 유럽 살생물제 규제 관련 산업 정책 및 동향 관 정보 공유 송 준호 한국 환경 산업 기술 원 국가 환경 정보 센터 장 이번 사례 집 유럽연합 의 살생물제 품 정책 기본 원리 이해 기업 신속 대응 필요 실 질적 정보 제공 데 기여 수 바란 고 유럽 살생물제 규제 대응 사례 집 이미지 질의 응답 전문용어 설명 끝',\n",
       " '환경부 사우디 기상 환경청 환경 협력 양해각서 체결 환경부 사우디 기상 환경청 환경 협력 양해각서 체결 청장 부청 장 등 사우디 고위 급 대표 단 방한 대기오염 감시 유해 폐기물 관리 등 환경 협력 양해각서 체결 우리나라 굴뚝 원 격감 시체 계 시찰 위해 한국 환경 공단 방문 환경부 장관 윤성규 사우디 기상 환경청 청장 압둘 아지 과 서울 중구 롯데 호텔 환경 협력 양해각서 체결 이번 양해각서 체결 지난 사우디 대표 단 우리나라 굴뚝 원 격감 시체 계 체계 폐기물 관리 등 시찰 위 방한 이후 적 극적 협력 희망 함 수 차례 실무 협의 것 양해각서 대기오염 감시 유해 폐기물 관리 등 환경 협력 전반 대하 환경 전문가 상호 방문 세미나 개최 환경 정보 교환 등 다양 환경 협력 활동 양해각서 체결 식 이후 윤성규 환경부 장관 압둘 아지 사우디 기상 환경청 장 환경 현황 공유 환경 정책 대화 정기 개설 환경 산업 및 기술 협력 방안 등 논의 윤성규 장관 양국 환경 협력 양해각서 체결 계기 우리 선진 환경 기술 및 제도 대기오염 폐기 물처리 등 사우디 주요 환경문제 개선 활용 수 도록 적극 지원 고 말 한편 사우디 기상 환경청 대표 단 글로벌 그린 허브 코리아 전시장 보고 한국 환경 공단 방 문하 굴뚝 원 격감 시체 계 운영체계 견학 글로벌 그린 허브 코리아 국내 환경 기업 해외 프로젝트 수주 성과 향상 위해 전세계 유력 발주 처 초청 까지 인천 송도 컨벤 시아 개최 환경부 이번 사우디 대표 단 방한 우리나라 환경 기술 대한 인식 향후 사우디 국가 환경 협력 사업 추진 데 힘 것 전망 환경부 사우디 기상 환경청 간 환경 협력 양해각서 체결 계획 질의 응답 전문 용어 설명 끝 주요 행사 사진 환경부 웹하드 게재 예정',\n",
       " '태백산 국립공원 해발 이상 고원지대 여름 야생화 천국 태백산 국립공원 해발 이상 고원지대 여름 야생화 천국 국내 최대 규모 야생화 군락 희귀 식물 다수 서식 여름 야생화 일월 비비추 말나 리 동자꽃 이질풀 본격 개화 국립공원 관리 공단 이사장 박보환 은 올해 번 신규 지정 태백산 국립공원 금 대봉 함백산 일대 여름 야생화 본격 적 개화 시작 태백산 국립공원 멸종위기 야생 생물 종 포함 종 다양 생물 살 곳 자연 생태계 수하 개 병풍 복주머니란 기생꽃 대성 쓴풀 등 다수 희귀 식물 포함 종 식물 종이 서식 태백산 국립공원 금 대봉 함백산 만항재 일대 국내 최대 규모 야생화 군락 해발 고산 지대 자생 다양 야생화 한자리 볼 수 현재 얼레지 앵초 꿩 바람꽃 한계령 풀 등 봄철 야생화 지고 여름철 야생화 말나 리 동자꽃 이질풀 까치수염 일월 비비추 노루오줌 등 본격 적 개화 시작 관찰 가능 야생화 솔나물 여로 마타리 구릿대 짚신나물 나비나물 터리풀 투구꽃 타래난초 태백 기린초 뱀무 송이풀 오이풀 용머리 잔대 박새 산수 국 산 솜방망이 각시 원추 리 물레나물 산꿩 다리 좀꿩 다리 진범 어수리 등 금대 봉 일대 생태 경관 보전 지역 지정 탐방 전 태백 관광 누리집 통해 사전 예약 신청 탐방 가능 탐방 가능 시기 일부 터 까지 최대 인원 명 초과 수 김진 광 태백산 국립공원 관리 준비 단장 태백산 일대 시원 고원지대 요즘 처럼 여름 다양 야생화 관찰 수 최적 장소 라며 야생화 관찰 한강 발원 지인 검룡소 탐방 역사 속 시간여행 석탄 박물관 관람 등 다양 볼거리 거리 풍부 태백산 국립공원 올여름 가족 생태관광 여행지 추천 고 말 여름 야생화 사진 질의 응답 전문용어 해설 끝',\n",
       " '담 수생 물자원 본격 적 활용 산 학 연 담 수생 물자원 본격 적 활용 산 학 연 국립 낙동강 생 물자원 관 생 물자원 산업화 연구 회 발족 개 산 학 연 담 수생 물자원 활용 연구 산업화 협력 환경부 국립 낙동강 생 물자원 관 관장 안영 은 국가 담수 생물 산업화 협력 위해 기업 대학 연구기관 등 구성 생 물자원 산업화 연구 회 이하 연구 회 를 발족 연구 회 대봉 엘에스 주 바이오 랜드 코스 맥스 주 코스 메카 코리아 주 불 화장품 주 애경 산업 주 등 화장품 관련 개 기업 경희대 대구 한의대 인하대 등 개 대학 한약 진흥 재단 및 경북 바이오 산업 연구원 등 지역 기반 개 연구기관 참여 담 수생 물자원 분야 산 학 연 상설 협의 체다 국내외 담 수생 물자원 산업 현황 파악 논의 위 주 기적 세미나 개최 산 업계 핵심 수요 파악 중점 과제 도출 맞춤 형 공동 연구 추진 정보공 유 등 기능 수행 계획 연구 회 경북 상주시 국립 낙동강 생 물자원 관 전시 교육 발족 식 워크숍 개최 참여 기관 역할 생 물자원 산업화 연구 회 운영 발전 방향 등 대한 종합 토론 토론 결과 국립 낙동강 생 물자원 관 담수 생물 유용성 생물 정보 소재 등 제공 학계 및 연구기관 추가 적 유용성 검증 분석 사업 화 관련 기술 개발 지원 예정 산 업계 연구개발 결과 활용 제품 화 등 역할 수행 연구 회 이번 발족 계기 담 수생 물자원 산업화 연구 동반 상승 시너지 효과 화장품 산업 비롯 향후 건강 기능 식품 의약품 등 분야 확대 것 기대 안영 국립 낙동강 생 물자원 관장 생 물자원 산업화 연구 회 개방 형 참여 형 이용자 중심 운영 미개척 분야 담 수생 물자원 적극 적 활용 방안 모색 국가 담수 생물 산업 육성 모범 수 도록 노력 말 발족 식 개요 생 물자원 산업화 연구 회 참여 기관 질의 응답 전문용어 설명 끝',\n",
       " '수질 및 수 생태계 보전 관 법률 하위 법령 개정 시행 조류 피해 예방 조치 수 생태계 복원 계획 수립 시행 물놀이 형 수경 시설 관리제 및 측정기 기 관리 대행 업 등록 제 등 본격 시행 환경부 장관 조경규 물놀이 형 수경 시설 관리제 및 수질 측정기 기 관리 대행 업 등록 제 도입 등 내용 지난해 개정 수질 및 수 생태계 보전 관 법률 이하 수질 수 생태계 법 이 일부 터 시행 위 하위 법령 시행 령 시행 규칙 개정 공포 이번 수질 수 생태계 법 하위 법령 개정 조류 피해 예방 조치 수 생태계 복원 계획 비점 오염원 관리 종합 대책 수립 절차 물놀이 형 수경 시설 관리 측정기 기 관리 대행 업 시행 공공 폐수처리 시설 관리 개선 등 골자 주요 내용 다음 조류 피해 예방 조치 위해 환경부 장관 공공 수역 관리자 관계 중앙 행정기관 장 방류 조류 제거 조치 요청 수 도록 규정 물 안전 위해 취 정수 시설 관리자 조류 유입 차단 정 수처리 강화 등 조류 피해 예방 조치 명령 가능 도록 근거 마련 수 생태계 복원 계획 및 비점 오염원 관리 종합 대책 내용 수립 이행 절차 등 규정 계획 수립 이행 체계 수 생태계 복원 계획 사업 우선 순위 연도 별 추진 계획 재원 조달 계획 등 포함 수 립하 도록 환경부 장관 계획 수정 보완 요청 경우 시 도지사 이행 도록 규정 관계 기관 비점 오염원 관리 종합 대책 소관 별 대책 이행 실적 매년 제출 환경부 장관 평가 후 이행 강화 요청 도록 관련 정책 범 정부 적 계 이행 확보 기반 마련 물놀이 형 수경 시설 깨끗 안 전하 이용 위해 필요 사항 추가 보완 관리 강화 물놀이 형 수경 시설 설치 운영 경우 설치 운영 전 까지 기존 시설 까지 신고 의무 법적 관리 체계 적 이루 수 도록 신고 절차 신고 처 과태료 등 세부 사항 규정 신고 대상 물놀이 형 수경 시설 국가 지자체 공공기관 설치 운 영하 시설 공공 보건 료 수행 기관 관광지 관광 단지 도시 공원 체육 시설 어린이 놀이 시설 설 치하 민간 시설 등 수질 수 생태계 법 제 조의 국가 및 시 도 시설 유역 지방 환경청 장 시 군 구 및 민간 시설 시 도지사 신고 미신 시설 검사 의무 수질 관리 기준 위반 경우 원 이하 과태료 부과 예정 지침 수준 관리 물놀이 형 수경 시설 개 항목 수질 기준 법령 규정 유리잔 류 염소 항목 염소 소독 시 이 추가 그간 물놀이 형 수경 시설 수질 관리 환경부 지침 수소이온농도 탁 이하 대장균 개체 수 미만 가지 항목 관리 중이 었다 매월 이상 었던 수질검사 주기 마다 이상 강화 류 청소 주 이상 여과기 통과 이상 소독 의무 등 추가 적 관리 기준 정 수질 원 격감 시체 계 측정기 기 안정 성과 전문성 높이 기 위해 측정기 기 관리 대행 업 등록 관리 관련 세부 사항 규정 측정기 기 관리 대행 업 등록 제 도입 사업 계획 를 포함 등록 신청서 관할 유역 지방 환경청 제 출하 등 절차 마련 관리 대행 업자 수질 자동 측정기 기 가동 상태 상시 점검 매년 실적 보고서 제 출하 한편 기술 인력 특화된 교육 이 수하 도록 공공 폐수처리 시설 관리 개 선하 시설 설치 운영 효율 공공 폐수처리 시설 기본 계획 포함 승인 경우 재해 사고 부득이 폐수 완충 류 시설 유입 경우 기준 준수 예외 인정 시설 운영 현실 공공 폐수처리 시설 설치 운 영하 마다 유입 물질 특성 조사 공정 별 처리 효율 시설 문제점 개선 방안 유지 관리 방안 등 내용 기술 진단 실시 도록 규정 공공 폐수처리 시설 우수 지자체 포 상금 지급 경우 폐수 유입 률 처리 효율 경우 등 고려 도록 규정 공공 폐수처리 시설 운영 관리 효율 화 위 지원 기반 마련 환경부 국민 안심 물놀이 수 도록 지속 적 관련 정책 제도 발전 수질 및 수 생태계 보전 위 다양 정책 제도 개선 사항 발굴 계획 수질 수 생태계 법 하위 법령 주요 내용 질의 응답 전문용어 설명 끝',\n",
       " '환경 공단 강 병원 의원 실 환경 분야 일자리 창 토론회 개최 오전 국회의원 회관 제 세미나 실 더 불어 민주당 강 병원 의원 실 한국 환경 공단 공동 주최 새 정부 일자리 정책 환경 일자리 방향성 및 정책 적 입법 적 개선 방안 모색 환경 노동 전문가 토론 및 주제 발표 환경부 한국 환경 공단 이사장 전병성 은 여의도 국회의원 회관 제 세미나 실 더 불어 민주당 강 병원 의원 실 국회 환경 노동위 회 서울 은평 과 문재인 정부 환경 분야 일자리 창 것 를 주제 토론회 개최 이번 토론회 새 정부 일자리 정책 발 환경 일자리 확대 방향성 극대 수 정책 입법 적 개선 방안 모색 환경 노동 전문가 고용 창 기여 수 양질 환경 일자리 창 방안 대한 토론 진행 환경 일자리 온실가스 감축 지구 환경 생태계 보호 통해 지속 가능 성장 관련 재화 서비스 제공 직업 군 말함 유엔 환경 계획 한국 환경 공단 환경 일자리 중요성 인식 지난 환경부 학계 전문가 등 참석 가운데 환경 일자리 창 확대 포럼 개최 바 논의 주제 확 대하 두 번 이번 토론회 마련 토론회 강 병원 국회의원 개 회사 홍영표 국회 환경 노동위 원장 더 불어 민주당 인천 부평 의 축사 시작 환경 노동 등 각 분야 전문가 주제 발표 패널 토론 진행 제 발제 홍종호 서울대학교 환경 대학원 교수 녹색 일자리 란 무엇 개념 가능성 전략 주제 환경 일자리 개념 바탕 구 체적 환경 일자리 확대 전략 설명 이승 길 아주 대학교 법학 전문대 학원 교수 제 발제 환경 분야 일자리 현황 법적 과제 대해 발표 패널 토론 강 옥 한국 환경 공단 경 영기획 본부장 좌 이병욱 동아시아 지속 가능 발전 연구원 장 전의 찬 세종 대학교 교수 황석 준 경북 대학교 교수 나영 선 한국 직업 능력 개발 원 부원장 김익수 환경일보 대표이사 등 발표 주제 대한 심층 토론 진행 강 병원 국회의원 환경 일자리 확충 문재인 정부 공공 부문 일자리 확충 가장 적합 정책 이 라며 이번 토론회 통해 환경 분야 인적자원 축적 위 방안 무엇 인지 미래 필요 새 환경 일자리 무엇 인지 활발 논의 기대 고 말 전병성 한국 환경 공단 이사장 환경 일자리 경제성장 환경보전 고용 창 선 순환 구조 구 축하 교두보 역할 것 이 라며 토론회 결과 환경 일자리 정책 아이디어 바란 고 일자리 창 토론회 개최 계획 개요 질의 응답 전문용어 설명 끝',\n",
       " '미분 화 식물 세포 멸종위기종 식물 종 증식 성공 국립 낙동강 생 물자원 관 멸종위기 야생 생물 급 층층 둥굴레 등 종 조직 이용 미분 화 식물 세포 증식 성공 층층 둥굴레 등 종은 미분 화 식물 세포 유도기 법 특허 출원 국립 낙동강 생 물자원 관 관장 안영 미분 화 식물 세포 이용 조직 배양기 술 활용 멸종위기 야생 생물 급 식물 종 증식 최근 성공 미분 화 식물 세포 캘러스 란 식물 상처 조직 세포 식물호르몬 처리 방식 목적 잎 줄기 등 식물 기관 수 이번 증식 성공 멸종위기종 식물 종은 층층 둥굴레 섬 현삼 분홍 장구채 가시연 꽃 바늘꽃 매화마름 대청부채 등 국립 낙동강 생 물자원 관 연 구진 종 식물 중 층층 둥굴레 섬 현삼 분홍 장구채 가시연 꽃 바늘꽃 종 미분 화 식물 세포 국내 최초 어진 것 매화마름 한국 생명공학 연구원 오명 진 등 초 저온 장기 보존 위해 대청부채 홍천 칼 허브 연구소 배기 화 등 개체 복원 위해 짐연 구진 층층 둥굴레 매화마름 종 미분 화 식물 세포 유도 및 증식 기법 관해 올해 특허 출원 완료 나머지 종 대해 서도 올해 연말 완료 목표 특허 출원 준비 특허 출원 주요 내용 조직 배양기 술 이용 야생 층층 둥굴레 매화마름 잎 줄기 뿌리 조직 로부터 미분 화 식물 세포 유도 증식 방법 관 것 특허 명 층층 둥굴레 조직 유래 캘러스 제조 방법 및 상기 방법 제조 캘러스 출원 번호 매화마름 식물 체 조직 로부터 기내 배양 통한 캘러스 생산 방법 출원 번호 미분 화 식물 세포 증식 방법 영양 염류 어간 인공 배지 식물호르몬 첨가 수행 또한 식물 체 생산 적합 식물호르몬 처 리하 정 상적 식물 수 국립 낙동강 생 물자원 관 앞 미분 화 식물 세포 로부터 식물 체 생산 필요 최적 증식 및 분화 조건 탐색 연구 지속 적 추진 개체 복원 효과 적 실험실 내 장기 보존 시스템 개발 예정 위해 연 구진 미분 화 식물 세포 식 물체 분화 연구 비롯 야생 개체 생육 특성 연구 병행 또한 생 물자원 상용 화 위 수요 자 맞춤 형 대량 증식 기술 개발 계획 안영 국립 낙동강 생 물자원 관장 생 물자원 보전 활용 위해 멸종위기종 식물 포함 미분 화 식물 세포 관리 기반 체계 적 구축 계획 말 멸종위기 식물 종 미분 화 식물 세포 사진 인공 배양 실험실 사진 질의 응답 끝',\n",
       " '참고 환경부 함유 항균 필터 사용 공기청정기 에어컨 기기 명 추가 공개 환경부 함유 항균 필터 사용 공기청정기 에어컨 기기 명 추가 공개 환경부 장관 윤성규 항균 필터 위해 성 평가 결과 함유 필터 모델 명 공개 소비자 사용 제품 이 해당 확인 수 도록 해당 필터 사용 공기청정기 에어컨 등 모델 명 공개 참고 마스터 케미칼 등 대리점 판매 차량 용 에어컨 용 필터 제조 추가 확인 반영 국내 판매 공기청정기 사용 필터 코웨이 대해 필터 제품 정보 정정 항균 필터 제 조사 공기청정기 에어컨 제조 사의 상호 검증 함유 여부 최종 확인 필터 제품 정보 반영 참고 함유 필터 모델 명 및 공기청정기 에어컨 기기 명 함유 항균 필터 관련',\n",
       " '반월 시화 화학물질 안전 관리 자율 대응 반 출범 반월 시화 화학물질 안전 관리 자율 대응 반 출범 환경기술 구성 자율 대응 반 안전 관리 기술 지원 실시 화학사 발생 시 대응 기관 협업 방재 체계 구축 한강유역환경청 청장 종 은 안산 문화 예술의전당 시화 반월 국가 지역 화학물질 안전 관리 위해 유해 화학물질 자율 대응 반 발대식 개최 본격 적 활동 시작 유해 화학물질 자율 대응 반 은 국정 과제 화학물질 사고 예방 대응 사후관리 체계 구축 기여 위 것 자율 대응 반 은 반월 시화 업체 환경기술 대상 시화 국가 개 반 반월 국가 개 반 반월 도금 단지 개 반 등 총 개 반 개 업체 구성 반 별로 화학사 예방 대응 위해 방재 훈련 체계 구축 화학사 시 공동 대응 유해 화학물질 취급 시설 자체 점검 유해 화학물질 취급 시설 관리 공유 유해 화학물질 관련 법 교육 훈련 등 임무 수행 예정 한강유역환경청 매월 둘째 주 금요일 자체 안전 점검 등 자율 관리 활동 실시 유해 화학물질 자율 대응 날 로 지정 운영 계획 또한 지역별 반장 회사 및 기업 협의 회 관계자 등 대상 년 간담 회 개 최하 우수 사례 등 공 유하 등 자율 대응 반 정착 수 도록 지원 예정 한강유역환경청 전국 처 음으로 시작 이번 자율 대응 반 위해 행 정지원 여러 혜택 제공 계획 중 소 업체 대해 민간 전문가 도움 활용 노후 화 시설 등 안전 진단 유해 화학물질 누 의심 시설 대해 누 측정 등 무상 제공 한강유역환경청 직원 직접 반 별로 순 회하 유해 화학물질 법령 교육 실시 법령 미숙 지로 화학사 를 사전 예방 계획 한강유역환경청 화학물질 관리 법 지도 점검 민간 전문가 사전 상담 자체 점검 실적 대체 방안 적극 검토 자율 대응 반의 우수 참여 업체 대해 환경부 장관 표창 수여 예정 종 한강유역환경청 청장 이번 자율 대응 반의 활동 시화 반월 국가 지역 안전 사각 문제 해소 전국 화학 관련 산 업체 가장 밀집 이 곳 주민 걱정 기대 고 말 한강유역환경청 이번 시화 반월 국가 산 단지 역 자율 대응 반의 활동 성과 분석 인근 지역 남동 공단 등 인천광역시 전 지역 까지 자율 대응 반 확대 계획 자율 대응 반 행사 계획 및 결의 문 질의 응답 전문 용어 설명 끝',\n",
       " '참고 환경부 차 가습기 살균제 피해 신청 접수 계획 환경부 차 가습기 살균제 피해 신청 접수 계획 차 피해 조사 신청 접수 재개 차 조사 까지 마무리 구비 서류 완비 신 청자 올해 안 조사 폐 이외 건강 영향 대한 조사 연구 지속 환경부 장관 윤성규 가습기 살균제 대한 피해 조사 신청 대한 추가 접수 재개 현재 진행 중인 차 신청 자 조사 및 판정 조속 마무리 계획 차 피해 조사 신청 접수 현재 환경부 차 피해 조사 신청 접수 예정 관련 고시 를 개정 계획 가습기 살균제 사용 화학물질 폐질 환의 인정 및 지원기 준 등 관 고시 추가 신청 분 신청서 개인정보 수집 이용 및 제공 동의 신분증 사본 진료기록 부 등 의료 기관 진단 자료 준비 한국 환경 산업 기술 원 신 청하면 인터넷 홈페이지 가습기 살균제 피해 차 조사 마무리 지난 연말 마감 차 접수 총 명 신청 현재 서울 아산병원 중심 조사 판정 진행 환경부 조사 기관 협력 진료기록 부 등 증빙 서류 제출 신청 자 금년 말 까지 조사 끝 마치 증빙 서류 제출 미비 신청 자 까지 조사 완료 계획 차 피해 조사 신청 자 명 중 명 증빙 서류 신청서 제출 가습기 살균제 건강 영향 조사 연구 확대 환경부 서울 아산병원 환경 보건 센터 지정 기 조사 판정 피해자 대한 건강 모니터링 등 통 폐 이외 건강 피해 가능성 조사 연구 해당 분야 대한 진단 판정 기준 마련 경우 지원 대상 확대 계획 올해 건강 보험 공단 등 보유 피해자 건 강정보 자료 확보 피해 가능성 심층 적 연구 가습기 살균제 유해 성분 폐 손상 관련 질환 발생 메카니즘 규명 건강 영향 평가 연구 도 추진 가습기 살균제 피해 조사 지원 등 관 자료',\n",
       " '살생물제 화학물질 로부터 안전 사회 위 살생물제 관리 법 제정 및 화평 법 개정 공포 가습기 살균제 모든 살생물제 유 위 해성 사전 검증 안전 경우 시장 유통 허용 기업 스스로 연간 톤 이상 제조 수 입하 모든 화학물질 유해 성 정보 확보 정부 까지 단계 적 등록 환경부 장관 김은경 가습기 살균제 사고 재발 방지 화학물질 로부터 안전 사회 만들기 위 생활화 학 제품 및 살생물제 안전 관리 관 법률 이하 살생물제 관리 법 제정 과 화학물질 등록 및 평가 등 관 법률 이하 화평 법 개정 이 공포 내년 일부 터 시행 예정 살생물제 관리 법 의 주요 내용 다음 살생물제 관리 모든 살 생물 물질 및 살생물제 안전성 입증 경우 시장 유통 허용 도록 사 전승 인제 도입 살 생물 물질 제조 수 입자 해당 물질 유해 성 위해 성 자료 갖 추어 환경부 승인 신청 환경부 인체 환경 영향 종합 적 고려 안전 입증 살 생물 물질 살생물제 품 사용 것 허용 계획 한편 법 시행 전 국내 유통 중인 살 생물 물질 산 업계 준비 기간 고려 기업 환경부 승인 유예 신청 경우 물질 용도 유해 성 위해 성 등 고려 최대 범위 승인 유예 기간 부여 계획 살생물제 품 제조 수 입하 국내 판매 제품 내 함유 물질 유해 성 제품 사용 물질 노출 등 종합 적 고려 위 해성 평가 제품 안전성 관 자료 갖 추어 환경부 승인 아야 승인 제품 판매 경우 제품 포함 살 생물 물질 목록 제품 사용 방법 및 사용 위험성 등 제품 겉면 소비자 표시 제품 방부 및 항균 등 기능 보완 위해 살생물제 품 사용 경우 예 살생 물처리 제품 반드시 승인 살생물제 품 사용 목적 사용 도록 생활화 학 제품 관리 생활화 학 제품 관련 규정 통합 관리 체계 개선 그동안 화평 법 규정 위해 우려 제품 관리 관 사항 살생물제 법 관 안전 확인 대상 생활화 학 제품 명칭 변경 관리 대상 범위 가정 용 사무실 다중이 용 시설 사용 제품 확대 앞 안전 확인 대상 생활화 학 제품 의 제조 수 입자 해당 제품 안전 기준 적합 한지 여부 마다 검사 아야 검사 결과 포함 제품 정보 일체 환경부 신고 사후관리 무독 성 친환경 등 제품 안전 대해 소비자 오해 수 일체 표시 광고 문구 금지 제품 부작용 사실 알 경우 즉시 환경부 보 고하도 록 안전 기준 위반 불법 제품 즉시 제조 수입 금지 및 회수조치 명령 과징금 부과 등 행정 제재 기업 상시 주의 책임 의무 도록 화평 법 개정 주요 내용 다음 국내 유통 기존 화학물질 유해 성 정보 조기 확보 위해 기존 화학물질 관리 체계 개선 국내 연간 톤 이상 제조 수입 기존 화학물질 가운데 등록 대상 물질 마다 지정 고시 현재 체계 앞 연간 톤 이상 기존 화학물질 유해 성 유통 량 까지 모두 단계 적 등록 도록 개편 국민 건강 상 위해 우려 발암 성 돌연변이 성 생식 독성 물질 국내 유통 량 해 당하 톤 이상 물질 제조 수 입하 까지 유 해성 정보 확보 등록 발암 성 돌연변이 성 생식 독성 물질 또한 정부 등록 예정자 미리 파악 관리 기업 원활 공동 등록 돕기 위해 기존 화학물질 국내 제조 수입 경우 업체 명 등 간단 정보 를 정부 제조 수입 전 신고 정부 사전 신고 기업 유통 량 등록 유예 기간 부여 등록 대상 대한 관리 강화 미신 시 유예 기간 등록 화학물질 등록 중복 적 동물실험 방지 등 위해 물질 제조 수 입하 기업 협의 체 구 성하 유해 성 시험 자료 공동 제출 함 발암 성 등 인체 위해 우려 화학물질 함 유하 제품 대한 관리 강화 환경부 물질 고 축적 성 고 잔류 성 물질 폐 간 등 특정 장기 손상 유발 물질 등 인체 위해 물질 중점 관리 물질 지정 엄격 관리 예정 중점 관리 물질 함 유하 제품 제조 수 입자 제품 함유 물질 명칭 용도 함량 유 해성 정보 간단 노출 정보 등 신고 정부 신고 자료 검토 필요 시 위 해성 평가 실시 다음 제품 내 사용 제한 정부 허가 사용 금지 수 또한 국회 심의 과정 소량 위해 우려 국내 제조 수입 량 화학물질 대한 관리 강화 개별 사업자 기준 등록 대상 더라도 연간 국내 총 제조 수입 량 일정 기준 하위 법령 규정 초과 경우 화학물질 평가 위원회 심의 등록 대상 지정 고시 기업 유해 성 자료 확보 등록 도록 그 화학물질 등록 제조 수입 경우 발생 불 법적 경제 적 이익 환 수하 과징금 제도 신설 금전 적 제재 통해 미등록 물질 유통 국민 생명 안전 위해 가해 것 막 고자 현재 벌칙 부과 이하 징역 이하 벌금 시행 살생물제 관리 법 화평 법 모두 일부 터 시행 환경부 신규 도입 제도 원활 정착 수 도록 산업 계 시민사회 등 이해관계자 소통 제도 구체화 계획 중소기업 등 산 업계 제도 이행 돕기 위해 다양 지원 방안 마련 한편 현장 애로 사항 적극 반영 계획 환경부 이번 제 개정 살생물제 관리 법 과 화평 법 이 시행 화학물질 제품 유해 성 및 위해 성 정보 신속 확 보되 국민 제공 화학물질 로부터 안전 사회 구 축하 데 크게 기여 것 기대 류 연기 환경부 화학 안전 기획 단장 이번 제 개정 두 법률 정착 도록 화학물질 로부터 국민 건강 안전 보호 제 의 가습기 살균제 사고 방 지하 데 힘 것 말 생활화 학 제품 및 살생물제 안전 관리 관 법률 주요 내용 화학물질 등록 및 평가 등 관 법률 주요 내용 질의 응답 전문용어 설명 끝',\n",
       " '국립생태원 제 생태 환경 동아리 탐구 발표 대회 개최 국립생태원 제 생태 환경 동아리 탐구 발표 대회 개최 개미 벌 생태 관찰 통해 학생 생태계 변화 위협 대한 이해 관심 위 목적 팀 선발 워크숍 멘토링 등 탐구 활동 지원 까지 신청 접수 개 월간 탐구 활동 지원 후 최종 발표 대회 예정 국립생태원 원장 최재천 은 미래 생태 분야 인재 양성 청소년 생태 환경 보전 의식 함양 수행 위 제 국립생태원 생태 환경 동아리 탐구 발표 대회 를 개최 대회 참가 대상 전국 초 중 고 학생 및 지도 교사 까지 국립생태원 누리집 교육 알림 게시판 게시 탐구 계획 를 후 서식 작 성하 전용 카페 접수 게시판 통해 지도 교사 등록 이번 발표 대회 개미 벌 생태 를 주제 자연 곤충 관심 전국 생태 환경 동아리 초 중등 학생 명과 지도 교사 명 구성 제출 탐구 계획 를 사전 심 사하 총 개팀 초등 팀 중등 팀 선발 선발 개팀 개 월간 탐구 활동 후 최종 발표 대회 이 팀 각각 원 탐구 원금 지원 국립생태원 생태 환경 동아리 탐구 발표 대회 진행 순서 탐구 발표 대회 전용 카페 개팀 워크숍 약 개 월간 탐구 내용 대한 온라인 보고 활동 최종 결과 물 및 발표 대회 점수 합산 순위 환경부 장관 상 국립생태원 장상 등 표창 상금 포상 금 규모 총 만원 이 수여 예정 제 생태 환경 동아리 탐구 발표 대회 개최 사진 질의 응답 전문 용어 설명 끝',\n",
       " '국립생태원 생태 분야 기후변화 적응 사례 집 발간 기후변화 발생 생태계 위험성 취약성 대한 외국 주요 국가 관리 대책 우수 사례 소개 환경부 국립생태원 국내외 생태 분야 기후변화 적응 방안 흐름 발전 방향 정리 생태 분야 기후변화 적응 사례 집 최근 발간 이번 사례 환경부 등 국가 기후변화 적응 대책 수립 기관 및 지자체 관계자 생태 분야 정책 기반 연구 강화 참고 수 도록 제작 사례 기후변화 협약 등 관련 국제 협약 국내외 생태 부문 적응 정책 현황 조 사하 생태 분야 적응 범위 사례 영국 생태 부문 기후변화 리스크 평가 및 국가 적응 프로그램 비롯 독일 호주 미국 일본 등 해외 개국 생태 부문 적응 정책 및 연구 프로그램 현황 소개 또한 각 국가 별 생태 분야 적응 정책 범위 특징 보고 우리나라 생태 분야 적응 정책 범위 대한 시사 점 도출 영국 자연보호 정책 실행 기구 내추럴 잉글랜드 발간 기후변화 대한 자연 보전 설명 매뉴얼 를 표적 사례 내추럴 잉글랜드 영국 생물다양성 실행 계획 분류 영국 전역 서식지 개 유형 기후 민감 단계 구분 취약성 평가 기후변화 가장 민감 서식지 해안 염습 고산 서식지 등 개 유형 중간 정도 민감 서식지 해안사 구 갈대 밭 등 개 유형 민감 정도 가장 서식지 과수원 목초지 등 개 유형 각각 구분 호주 기후변화 적응 대책 관련 연구기관 국가 기후변화 적응 연구시설 를 통해 태즈매니아 등 호주 지역별 생물다양성 관리 지원 위 생물다양성 적응 지원 지침 가이드라인 를 발간 이 지침 호주 대륙 부터 사이 기후변화 서식지 변화 생존 위협 처 종 새 적합 서식지 이동 수 도록 생태 적 피난처 의 위치 유효 면적 산정 방법 소개 이번 사례 말 부터 지자체 및 주요 도서관 등 배포 예정 국립생태원 누리집 그림 파일 형태 공개 박은진 국립생태원 융합 연구실 장 이번 사례 환경부 등 유관 기관 기후변화 적응 대책 수립 시 생태계 위험 요소 감 방안 활용 수 지자체 생태 부문 기후변화 적응 대책 수립 및 시행 능력 강화 도움 줄 것 생태 분야 기후변화 적응 사례 집 표지 생태 분야 기후변화 적응 사례 집 내용 소개 전문용어 설명 끝',\n",
       " '지리산 반달가슴곰 마리 자연 출생 세대 확인 포획 체중 수컷 반달곰 자연 출생 세대 개체 확인 기존 방사 개체 다른 유전자형 일부 향후 추가 적 유전자 정보 분석 예기 존 방사 개체 다른 유전자형 일부 향후 추가 적 유전자 정보 분석 예정 정 환경부 국립공원 관리 공단 이사장 권 업 은 지난 지리산 활 동하 반달가슴곰 마리 포획 유전자 분석 결과 자연 출생 세대 개체 확인 자연 출생 세대 개체 란 지리산 방사 세대 개체 자연 출생 세대 사이 개체 의미 세대 개체 러시아 중국 등 외부 도 입하 지리산 방사 개체 자연 출생 세대 방사 개체 사이 처 음으로 자연 출생 개체 국립공원 관리 공단 포획 반달곰 혈액 유전자 분석 결과 자연 출생 세대 개체 사이 세대 개체 임 말 최종 확인 포획 당시 반달가슴곰 생후 살로 추정 체중 의 건강 수컷 국립공원 관리 공단 연 구진 이 곰 발신기 부착 후 바로 재 방사 새끼 반달가슴곰 경우 생후 개월 성장 시기 발신기 부착 이 시기 곰 대부분 어미 곰 활동 포획 실정 이로 지리산 이번 세대 반달가슴곰 마리 포함 총 마리 서식 것 확인 이번 확인 수컷 반달가슴곰 마리 자연 출생 세대 중 지난 번 발견 개체 아비 곰 방사 개체 후손 경 자연 출생 개체 어미 곰 유 전적 기존 방사 개체 후손 일 연 관성 매우 연 구진 이번 확인 자연 출생 세대 곰 기존 방사 개체 출현 유전자형 일부 보유 향후 추가 적 유전자 분석 통해 가계도 명확 예정 송동주 국립공원 관리 공단 종 복원 기술 원장 향후 차 세대 염기서열 분석 통한 유전자 전체 서열 확보 반달가슴곰 혈통 관리 체계 구축 예정 이 라며 지리산 권역 적정 수용 력 유전 적 다양성 유지 등 향후 복원 방향 설정 예정 말 관련 사진 전문용어 설명 질의 응답 끝',\n",
       " '참고 산 공항 국립공원 위원회 심의 중단 환경부 장관 김은경 오늘 흑산도 소규모 공항 건설 것 주요 내용 다도해 해상 국립공원 계획 변경 대한 국립공원 위원회 심의 중단 사업자 서울 지방 항공 청 제 차 국립공원 위원회 개최 안건 다도해 해상 국립공원 계획 변경 재 보완 서류 제출 를 보완 다시 제출 공문 제출 함 현재 정회 중인 제 차 위원회 자동 폐회 것 사업자 심의 안건 재 보완 서류 를 추가 보완 다시 제 출하 국립공원 위원회 다시 개 최하 심의 절차 개 예정 한편 산 공항 대한 국립공원 위원회 심의 처음 개최 보류 다가 서울 지방 항공 청 제출 보완 다시 보완 올해 재 보완 제출 국립공원 위원회 심의 재개 국립공원 위원회 서울 지방 항공 청 신청 다도해 해상 국립공원 계획 변경 대해 쟁점 사항 대한 전문가 검토 지역 주민 의견청취 사업 타당성 대한 종합 토론회 등 심의 진행 제 차 회의 계속 심의 제 차 회의 정회 중 이전 개 산 공항 건설 사업 심의 경과 부 끝',\n",
       " '수소 버스 확산 위해 정부 지자체 제작사 환경 산업 국토부 개 지자체 현대차 간 업무 협약 체결 수소 버스 시범 사업 원활 추진 향후 수소 버스 확산 등 위해 상호 협력 협약 환경부 장관 조명 수소 시내버스 보급 확산 위 정부 지자체 제작사 간 업무 협약 오후 서울 중구 더 플라자 호텔 개최 이번 업무 협약 내년 예정 전국 개 도시 수소 버스 시범 사업 성 공적 추진 위해 마련 수소 버스 시범 사업 부터 서울 광주 울산 창원 아산 서산 등 총 대의 수소 버스 전국 개 도시 시내버스 노선 투 입하 것 협약 행사 조명 환경부 장관 성윤 모 산업 통상 자원부 장관 김정렬 국토교통부 차관 비롯 내년 시범 사업 역 지자체 관계자 및 정진 행 현대 자동차 사장 참석 서울시장 광주 울산 부시장 충남 경남 부지 사 창원 아산 서산 시장 협약 참석자 이번 업무 협약 수소 버스 시범 사업 원활 추진 향후 수소 버스 확산 위해 상호 협력 날 서울시 수소 버스 시범 운행 번 노선 과 수소 충전 소 특수 목적 법인 발대식 창립총회 도 개 최하 수소 버스 확대 수소 충전 소 속도 감 구축 또한 수소 버스 보급 및 충전 인프라 구축 저 해하 규제 지속 적 발굴 개 선하 한편 수소 자동차 친환경 성과 수소 충전 소의 안전성 대한 홍보 강화 예정 협약 식 행사 곧바로 서울 광장 수소 버스 승 행사 이어진 참석자 현대차 관계자 로부터 수소 버스 대한 설명 후 수소 버스 타고 서울 광장 출발 종로 출발점 황석 태 환경부 대기 환경 정책 관 이번 업무 협약 통해 내년 수소 버스 시범 사업 성 공적 추진 향후 수소 버스 보급 확산 위해 정부 지자체 제작사 상호 긴밀 협력 계획 말 한편 환경부 내년 수소 버스 시범 사업 후 하반기 부터 수소 버스 보급 시작 까지 총 보급 목표 수소 버스 보급 확산 협약 식 행사 계획 안 질의 응답 끝',\n",
       " '화학 안전 정보 화학물질 종합 포털 해소 화학물질안전원 화학물질 종합 포털 일부 터 본격 운영 화학물질 안전 관리 화학사 발생 이력 및 예방 대응 정보 등 다양 정보 제공 화학 안전 대한 국민 궁금증 해소 환경부 소속 화학물질안전원 원장 김균 은 화학 안전 정보 신속 정확 제공 위 화학물질 종합 정보 포털 일부 터 본격 적 운영 화학물질 종합 정보 포털 은 화학사 예방 업무 특성 이용자 편 의성 높이 기 위해 유형 별로 정보 구분 국내 유통 중인 화학물질 종 물리 화학 적 특성 이 물질 취급 때 주의 사항 정보 등 화학사 발생 시 대응 요령 비롯 인체 독성 유 해성 관 국내외 규제 등 다양 화학물질 기본 정보 소개 화학사 발생 장소 사고 유형 원인 피해 현황 등 화학사 현황 정보 화학물질 취급 사업 장의 유통 배출 정보 등 화학물질 대한 전 반적 궁금증 해소 수 각종 정보 제공 관련 종사 자 유해 화학물질 사고 발생 시 현장 초동 대처 업무 수행 수 도록 대피 요령 방재 정보 등 신속 이번 화학물질 종합 정보 포털 은 기존 화관 법 민원 통합 운 영하 것 특징 화관 법 민원 유해 화학물질 운반 계획 제출 법률 정보 제공 영업 인 허가 접수 하반기 예정 등 사업자 화학물질 관리 법 이행 돕기 위해 개설 시스템 화학물질 종합 정보 포털 은 기존 화관 법 민원 의 업무 처리 유해 화학물질 운반 차량 사고 발생 시 차량 번호 검색 화학물질 종류 수량 운전자 연락처 등 실시간 확인 수 기능 제공 운반 계획 업무 지방 유역 환경청 담당자 화학물질안전원 인증 사용자 차량 운반 화학물질 종류 물동량 지역 경로 등 정보 확인 수 화학물질안전원 이번 화학물질 종합 정보 포털 의 본격 적 운영 계기 그간 개별 시스템 별도 누리집 운영 화학물질 관련 각종 정보 군데 확인 수 것 기대 또한 국민 누구 화학물질 정보 제공 활용 수 때문 화학사 예방 기여 수 것 보고 이상목 화학물질안전원 정보화 기획 팀 이번 화학물질 종합 정보 포털 운영 계기 국민 화학물질 대한 막연 불안감 해소 관계 기관 화학사 예방 대응 적극 활용 수 것 말 화학물질 종합정보시스템 메인 페이지 질의 응답 전문용어 설명 끝',\n",
       " '산불 예방 위해 국립공원 일부 탐방 일부 터 통제 국립공원 관리 공단 일부 터 국립공원 일부 탐방 통제 국립공원 방문 전 탐방 통제 여부 사전 확인 환경부 국립공원 관리 공단 산불 예방 위해 일부 터 까지 전국 국립공원 일부 탐방 를 통제 이번 탐방 통제 산불 발생 요인 사전 차단 산불 발생 경우 신속 현장 대응 체계 강화 등 산불 피해 최소 데 중점 전국 국립공원 탐방 개 길이 구간 중 산불 취약 설악산 백담사 대청봉 구간 등 개 길이 탐방 전면 통제 지리산 룡 화 개재 구간 등 개 구간 길이 은 부분 통제 그 외 지리산 장터 목 천왕봉 구간 등 개 탐방 평상 시 이용 가능 국립공원 별 자세 통제 탐방 현황 국립공원 관리 공단 누리집 확인 수 국립공원 관리 공단 과거 산불 발생 지역 이나 산불 위험 곳 산불 취약 지역 지정 산 불감 시원 배치 국립공원 입구 인화 물질 보관 함 설 치하 등 현장 중심 예방 활동 계획 또한 국립공원 내 흡연 행위 및 인화 물질 반입 엄격 단속 산불 조심 기간 동안 통제 구역 무단 출입 등 불법 무질서 행위 등 집중 적 단속 예정 국립공원 내 불법 행위 과태료 차 위반 일 경우 원 차 위반 일 경우 원 차 위반 일 경우 원 김경 국립공원 관리 공단 안전 방재 처 국립공원 발생 산불 대부분 탐방 객 실화 논 밭 두렁 쓰레기 소각 등 사소 부주의 때문 발생 만큼 인화 물질 소지 통제 탐방 무단 출입 국립공원 인접 지역 소각 등 산불 발생 원인 행동 고 말 가을 철 국립공원 탐방 출입통제 공고 가을 철 탐방 통제 현황 질의 응답 전문용어 설명 끝',\n",
       " '조류 씨앗 포함 퇴적물 제거 북한 강 녹조 조류 씨앗 포함 퇴적물 제거 북한 강 녹조 호소 바닥 퇴적물 조류 씨앗 휴면 포자 제거 남조류 냄새 물질 발생 억제 연구 추진 국립 환경과학 원 북한 강 의암호 조류 발생 지역 대한 조류 발생 억제 위해 퇴적물 제거 녹조 발생 감 연구 한강유역환경청 원주지방환경청 등 까지 추진 이번 연구 겨울철 퇴적물 바닥 가라 조류 휴면 포자 제거 때 여름철 녹조 및 냄새 물질 발생 대한 억제 효과 파악 국정 과제 건강 물 환경 조성 및 깨끗 안전 물 공급 확대 기여 위해 실시 것 휴면 포자 조류 환경 여건 때 포자 퇴적 층 다가 환경 조건 아지 다시 발 아하 증식 휴면 포자 형 성하 남조류 나베 파니 메논 이 표적 올해 연구 조류 발생 의암호 공지천 하류 휴면 포자 분포 지점 실험 를 설 치하 휴면 포자 제거 전후 조류 냄새 물질 등 발생 정도 조사 실 험지 휴면 포자 조류 발생 파악 위 조류 차단 막 통해 영양 염류 내외 부로 자유 롭 이 동하 외부 어류 조류 등 유입 도록 진행 예정 이 앞서 국립 환경과학 원 지난 예비 조사 실시 그 결과 공지천 일대 조류 차단 막 설치 지점 수거 퇴적물 중 조류 휴면 포자 당 최대 세포 것 나타 깊이 인 퇴적 표층 당 세포 발견 깊이 심층 검 거나 당 최대 세포 분포 것 나타 퇴적 층 수록 휴면 포자 국립 환경과학 원 실험 의 내 외부 관찰 통해 식물 플랑크톤 냄새 물질 영양 염류 질소 인 등 퇴적 층 휴면 포자 분포 등 주 마다 조사 계획 의암호 내 지점 실험 내부 지점 주 기적 조 사하 남조류 발생 시 수심 별로 조류 움직임 파악 예정 또한 냄새 물질 발생 시 냄새 물질 발생 원 방선균 남조류 등 파악 위 유전자 분석 조류 주요 발생 지점 파악 위 안정 동위원소 분석 등 동시 수행 예정 이재관 국립 환경과학 원 한강 물 환경 연구소 소장 퇴적 층 제거 녹조 발생 억제 연구 조류 뿐 수돗물 곰팡이 냄새 유발 지오 등 냄새 물질 감 기대 고 말 남조류 나배 의 생활사 퇴적물 나배 휴면 포자 분포 결과 질의 응답 전문 용어 설명 끝',\n",
       " '자외선 반사 테이프 조류 유리창 충돌 예방 유리창 등 인공 구조 물 충돌 야생 조류 피해 방지 안내서 발간 환경부 국립생태원 자외선 반사 테이프 등 야생 조류 유리창 충돌 피해 예방 수 국내외 최신 방안 소개 야생 조류 유리창 충돌 안내서 발간 이번 안내서 미국 야생 조류 보전 협회 발간 조류 친 화형 건물 설계 를 바탕 작성 안내서 야생 조류 보전 생태계 건 강성 위 목적 제작 유리창 충돌 야생 조류 피해 문제 다각 적 검토 평가 방지 수 효과 적 방안 정리 야생 조류 정도 유리창 취약 대한 정보 더 불어 유리창 충돌 조류 신체 구조 등 대해 설명 대부분 조류 눈 머리 양 옆 전면 장애물 대해 거리 감 신체 구조 또한 조류 보호 위 과학 적 근거 자료 건물 적용 수 조류 충돌 방안 대한 다양 사례 미국 유럽 등 선진국 조류충돌 방지 위해 유리창 무늬 패턴 를 적용 거나 자외선 반사 테이프 부착 등 다양 방법 야생 조류 유리창 인식 수 도록 독일 조류 사람과 달리 자외선 볼 수 점 이용 조류 인식 유리창 개발 건축 활용 국립생태원 조류 자외선 인지 사실 기초 미국 야생 조류 보전 협회 개발 건물 미관 해치 면서 충돌 방지 효과 우수 자외선 반사 테이프 도 입하 원내 일부 건물 우선 적용 이 자외선 반사 테이프 차례 국립생태원 개 건물 우선 적용 결과 시공 전 개월 당 마리 달 야생 조류 폐 율 시공 이후 현재 까지 단 건 발생 국립생태원 이번 책자 유리창 조류 위협 근원 심 각성 대한 이해 도시 계획 자 건축 설계자 조류 보호자 등 도움 것 기대 이번 사례 초 부터 환경부 등 유관 기관 및 지자체 주요 도서관 등 배포 예정 국립생태원 누리집 그림 파일 형태 공개 이 배근 국립생태원 동물 관리 연구실 장 국립생태원 이번 안내서 발간 통해 조류 유리창 충돌 현실 알림 동시 다양 기관 및 단체 적극 전파 야생 조류 인간 상생 수 하나 기회 삼 것 표지 이미지 질의 응답',\n",
       " '어린이 청소년 대상 생태 환경 전문가 체험 교육 어린이 청소년 대상 생태 환경 전문가 체험 교육 국립생태원 생태 교육 프로그램 학생 대상 명 모집 생태 진로 체험 등 개 과정 개 프로그램 등 양하 마련 국립생태원 원장 최재천 은 신 학기 어린이 청소년 자연 속 식물 탐구 생명 사랑 수 생태 교육 프로그램 월부 터 내년 말 까지 운영 이번 생태 교육 프로그램 지난해 생태 진로 체험 방과후 교실 등 개 과정 추가 개 과정 개 프로그램 여명 대상 진행 국립생태원 생태 교육 프로그램 지난해 처 음으로 일일 생태 체험 생태 진로 체험 등 개 과정 개 프로그램 진행 여명 교육 일일 생태 체험 과정 유아 고등학생 까지 단체 진행 얘 나 식물 동물 등 개 프로그램 진행 생태 진로 체험 과정 초등학교 고학년 학년 과 중 고등학생 등 대상 진행 이 과정 중학교 자 유학 기제 계 진로 체험 프로그램 식물 연구 전문가 생태 탐험 통한 생태학 대해 알 아보 시간 생태 과학 교실 과정 등 개월 동안 개 프로그램 개 프로그램 하나로 진행 이수 학생 국립생태원 장 명의 수료증 생태 캠프 과정 국립생태원 내 하룻밤 숙 박하 프로그램 진로 탐색 과정 리더십 과정 진행 자 유학 기제 진로 탐색 등 다양 체험 활동 가능 도록 교육과정 운 영하 제도로 교육부 부터 시범 운영 부터 전체 중학교 전면 확대 이번 확대 방과후 교실 서천 지역 계 체험 형 생태 교육 프로그램 방과후 교실 단체 과 에코 리움 배움터 개별 로 구성 지역 교육 발전 위 상생 프로그램 운영 예정 김혜윤 국립생태원 교육 운영 부 차장 지역 내 학생 국립생태원 특성 화 체험 형 생태 교육 참여 로써 생태 배우 미래 생태학 자의 꿈 서천 지역 생태도시 더욱 발전 수 기대 고 말 생태 교육 프로그램 참가자 각 프로그램 별 교육 시작 달 전부 터 국립생태원 누리집 를 통해 각각 모집 교육 상담 세부 사항 문의 전화 담당 김혜윤 로 가능 국립생태원 생태 교육 프로그램 접수 안내 생태 교육 참여 사진 끝',\n",
       " '윤성규 환경 장관 파리 총회 환경 건전성 그룹 대표 기조 발언 윤성규 환경 장관 파리 총회 환경 건전성 그룹 대표 기조 발언 역대 환경부 장관 중 최초 환경 건전성 그룹 대표 기조 발언 강력 신 기후 체제 채택 필요성 역설 개도국 지원 위 재원 조성 강조 등 선진 개도국 간 중재 적 대안 제시 윤성규 환경부 장관 프랑스 파리 개최 제 차 기후변화 협약 당 사국 총회 이하 파리 총회 전체 회의 참석 우리나라 포함 환경 건전성 그룹 대표 기조 발언 수행 기조 발언 윤성규 환경 장관 파리 총회 강력 의욕 적 신 기후 체제 채택 함 역설 한편 선진국 개도국 유연 차별 화 강력 투명 성 체제 지하 입장 표명 신 기후 체제 개도국 기후변화 지원 위 재원 조성 중요성 강조 등 선진 개도국 간의 핵심 쟁점 대한 중재 자 대안 제시 환경 건전성 그룹 우리나라 스위스 멕시코 모나코 리히텐슈타인 참여 협상 그룹 선진국 개도국 간 중간자 적 입장 표명 매년 개최 기후변화 협약 당 사국 총회 우리나라 환경부 장관 환경 건전성 그룹 대표 발언 것 이번 처음 윤성규 장관 발언 서두 전체 당사 국 이상 국가 국별 기여 방안 제출 것 높이 평가 면서 지구 평균기온 산업화 대비 이하 억제 목표 를 달성 위해 각국 국제 적 국 내적인 노력 강화 것 필 요하 위 효과 적 기반 강력 법적 구속력 신 기후 체제 필요 함 강조 또한 새 기후 체제 의욕 적 강력 지속 가능 적 체제 언급 신 기후 체제 미래 상 제시 윤 장관 또한 선진 개도국 간의 차별 화 측정 보고 검증 등 투명 성 체계 기후 재원 등 주요 협상 쟁점 대한 중재 적 대안 제시 신 기후 체제 선진 개도국 차별 적 의무 여부 관련 지속 가능 체제 형성 위 유연 실 용적 접근 촉구 한편 각국 기후변화 행동 담보 위 강력 투명 성 체제 측정 보고 검증 등 를 마련 온실가스 감축 수준 강화 나가야 함 지적 또한 금번 협상 핵심 쟁점 개도국 기후변화 대응 위 재원 조성 관련 저 탄소 기후 탄력 적 경제 의 전환 위 원활 재원 흐름 지속 적 증진 함 강조 등 중재 적 입장 제시 금번 파리 총회 현 기후 체제 교토의정서 대체 위 신 기후 체제 협 정문 채택 위 일부 터 까지 전세계 개국 정상 포함 개국 정부 대표 가운데 프랑스 파리 개최 윤성규 환경부 장관 기간 동안 주요 국 장관 급 인사 중국 에콰도르 등 및 주요 국제 기구 수장 아시아 개발 행 생물다양성 협약 사무 총장 등 양자 회담 기후변화 환경 협력 방안 논의 등 적 극적 환경 외교 예정 환경 건전성 그룹 대표 기조 발언 영문 부 별',\n",
       " '장수말벌 공격성 향 실험 머리 다리 집중 공격 말벌 집 땐 웅 크리 이상 나야 은색 계열 옷 등산 화 모자 각반 착용 것 예방 효과 환경부 국립공원 관리 공단 올해 월부 터 초 까지 경주 국립공원 일대 장수말벌 공격성 향 실험 결과 장수말벌 사람 머리 다리 집중 적 공격 성향 강하 고 공격성 향 공격 부위 색상 거리 진동 민감 성 등 이번 실험 야외 활동 발생 수 말벌 공격 효과 적 대처 방안 무엇 인지 파악 위해 지난해 털보말벌 등 말벌 국내 가장 장수말벌 대상 공격성 향 것 실험 결과 장수말벌 땅속 벌집 주변 발생 진동 수십 마리 벌집 밖 등 민감 반응 머리 부터 공격 털보말벌 등 말벌 달리 땅속 집 장수말벌 벌집 까운 사람 다리 부위 집중 공격 이후 사람 행동 몸 전체 공격 성향 이 반응 볼 때 벌집 등 직접 적 충격 행위 자극 움직임 장수말벌 공격성 높이 매우 위험 행동 확인 장수말벌 색상 별 공격성 향 일반 말벌 검은색 갈색 빨간색 노란색 및 초록색 순 공격성 것 나타 장수말벌 검은색 이나 갈색 등 두운 색깔 공격성 이유 곰 오소리 담비 등 야생동물 천적 색상 검은색 갈색 이기 때문 것 추측 때문 야외 활동 때 계열 등산 복 등산 화 등산 모 각반 스 패치 등 착용 말벌 류 공격 안전 확보 수 정종철 국립공원 연구원 생태 연구 팀 땅속 장수말벌 집 때 그 자리 벌 려고 다리 거나 팔로 머리 주저 며 땅속 집 장수말벌 이나 나뭇가지 집 등 말벌 등 벌집 덩 치가 벌 무조건 머리 그 자리 이상 어진 곳 나야 피해 수 고 말 나 공주 국립공원 관리 공단 국립공원 연구원 장 야영 이나 등산 등 국립공원 내 야외 활동 전 말벌 유무 세심 살피 벌집 발견 경우 건드 리지 관할 국립공원 사무소 바로 며 탐방 객 위협 수 곤충 생태 행동 특성 등 지속 적 연구 안전 대처 법 적 극적 알리 데 노력 것 말벌 공격성 향 실험 사진 종별 세부 설명 자료 질의 응답 끝',\n",
       " '국립공원 직원 추 천하 겨울철 탐방 명소 선 국립공원 직원 추 천하 겨울철 탐방 명소 선 국립공원 직원 여 명 추 천하 겨울철 저지 탐방 명소 정상 정복 형 수직 산행 문화 개선 저지 수평 탐방 문화 확산 환경부 국립공원 관리 공단 이사장 박보환 은 공단 직원 추 천하 겨울철 탐방 명소 곳 공개 이번 겨울철 탐방 명소 선정 국립공원 관리 공단 직원 여 명 참여 정상 정복 형 수직 산행 문화 개선 저지 수평 탐방 문화 확산 위해 고지 지역 가능 제외 곳 명소 차로 발굴 방송사 영화 기획 작가 참여 최종 심사 최 종적 곳 선정 겨울철 탐방 명소 곳 은 오대산 고위 평탄 무등산 동부 규봉암 주상절리 설악산 토 왕성 폭포 전망대 설악산 백담사 계곡 변산반도 적벽 강 지리산 미타 암 지리산 화 야생 녹차 밭 내장산 입암산성 월악산 옥 봉 태안 해안 신 두리 해안사 구 가야산 농 산정 가야산 해인사 암 주왕산 절골 계곡 경주 남산 옥룡암 려 해상 통영 편 백림 오대산 고위 평탄 은 노 인봉 서쪽 구름 장관 이루 곳 설악산 토 왕성 폭포 전망대 설악산 웅 장함 가장 볼 수 곳 설악산 백담사 계곡 은 에메랄드 빛 계곡 그 주변 여진 돌탑 인 상적 변산반도 적벽 강 은 천만 년 퇴적 침식 바위 절벽 빚 명소 지리산 미타 암 은 겨울 준비 지리산 암자 창문 너머 볼 수 월악산 옥 봉 은 남한 강변 우뚝 반 사극 영화 장면 연상 웅장 곳 가야산 농 산정 은 통일 신라시대 문장가 최치원 선생 은거 생활 곳 겨울철 조상 풍류 생활 수 이 외 국내 다른 산성 차별 내장산 입암산성 괴석 섶다리 등 운치 주왕산 절골 계곡 등 겨울철 탐방 장소 인상 곳 국립공원 관리 공단 이번 선정 겨울철 탐방 명소 곳 비롯 차로 발굴 곳 명소 대한 설명 자료 제작 국립공원 관리 공단 누리집 달 중 공개 예정 또한 이 설명 자료 방송 이나 영화 산업 관계자 배포 국립공원 촬영 명소 계획 이용민 국립공원 관리 공단 탐방 복지 처 겨울철 탐방 명소 곳 영화 드라마 촬영 장소 손색 정도 곳 이 라며 이번 선정 계기 지속 적 명소 발굴 국민 국립공원 가치 알리 기 위해 노력 고 말 겨울철 탐방 명소 선 겨울철 탐방 명소 선 세부 역 질의 응답 전문용어 설명 끝',\n",
       " '영산강 보 완전 개방 후 대강 중 가장 모래톱 변 공간 나타 승촌보 및 죽산 보 완전 개방 축구장 약 배 모래톱 약 배 변 공간 발생 승촌보 완전 개방 매년 여름 반복 녹조 급감 층 산소 부족 해소 서식지 개선 물새류 대비 약 배 증가 개방 수위 지하수 위 변동 폭 등 물 이용 지장 환경부 장관 조명 지난 일부 터 까지 영산강 승촌보 죽 산보 완전 개방 그 결과 관측 이하 모니터링 결과 발표 승촌 올해 일부 터 점진 적 개방 일부 터 완전 개방 상태 유 지하 다가 수막 재배 시작 기간 일부 터 목표 수위 까지 회복 죽 산보 작년 월부 터 부분 개방 이후 올해 일부 터 완전 개방 상태 를 유지 양수장 가동 시작 내년 까지 현 수위 유지 예정 보 개방 이후 물의 흐름 체류 시간 평균 일로 크게 감소 유속 폭 증가 등 대폭 개선 이번 개방 수계 전체 모래톱 축구장 면적 약 배 이 발생 변 공간 증가 축구장 면적 약 배 등 개방 수계 중 가장 노출 나타 죽 산보 노출 발생 개방 보 중 최대 모래톱 변 공간 음으로 금강 공주보 모래톱 변 공간 영산강 승촌보 모래톱 변 공간 순 나타남 또한 완전 개방 시 전 구간 유 수성 회복 승촌보 달리 죽 산보 하구둑 수위 영향 보 하류 일부 구간 유 수성 회복 한계 변 생태 공간 지고 여울 웅덩이 등 형성 면서 다양 물새류 맹꽁이 삵 수달 등 멸종위기 야생 생물 서식 환경 개선 또한 영산강 수계 완전 개방 이후 전월 대비 텃새 화 물새류 개체 수 마리 마리 배 가까이 증가 겨울철새 청둥오리 뺨 검둥 오리 쇠오리 등 까지 포함 시 영산강 수계 전체 종이 증가 약 배 개체 수 증가 환경부 영산강 주변 육상 수 생태계 변화 계절 적 요인 관계 지속 적 관찰 평가 계획 지난 일부 터 완전 개방 승촌보 경우 매년 여름 이면 반복 녹조 올해 급감 매년 발생 층 산소 부족 현상 이하 도 해소 승촌보 경우 클로로필 예년 기간 및 개방 전 대비 감소 생화 학적 산소요구량 은 개방 전 대비 감소 다만 죽 산보 총 및 농도 개방 전 및 년 기간 대비 다소 증가 경향 월초 비 비점 오염 물질 유입 증가 영산강 수계 대규모 수처리 장 집약 적 농 축 산업 기인 오염 물질 보 구간 퇴적 다가 보가 개방 면서 퇴적물 재 부유 증가 수치 상승 것 추정 환경부 향후 보 개방 더 정확 수질 변화 분석 위해 개방 기간 확대 비점 오염 물질 유입 지류 하천 영향 면밀 분석 예정 또한 죽산 보 개방 시 관계 기관 한국 수자원공사 구제 작업 단 영산강 유역 청 환경 지킴 이 합동 생태계 영향 최소 위해 어패류 구제 작업 총력 그 결과 어류 개체 패류 개체 구 제하 수심 곳 방생 어패류 폐사 발생 수 매우 물이 용의 경우 지하수 변동 대부분 관 측정 곳 제외 개방 수위 변동 폭 것 나타 완전 개방 기간 동안 취 수장 곳 및 양수장 개 모두 문제 승촌보 관측 정 지하수 위 저하 나주 천 취 수장 임시 대책 완료 정상 가동 개 양수장 사전 임시 대책 완료 양수장 농업 용수 공급 완료 가동 가동 시기 종료 개방 기간 동안 친 수시 설 곳 모두 운영 중단 죽산 보 영산포 선착장 황포돛배 죽산 보 하류 다야 뜰 선착장 이동 보 완전 개방 이후 보 구 조물 부유 쓰레기 자연 이동 강 바닥 라오 혐기 성가 스 등 사라 악취 개선 이번 영산강 완전 개방 기간 관찰 모니터링 결과 수계 및 보별 민 관 협의 체 지역 사회 공유 세 부적 내용 보 모니터링 종합 정보 시스템 누구 확인 수 도록 일부 터 공개 예정 물 환경 관련 자료 영산강 수계 개방 전후 전경 끝',\n",
       " '국립생태원 조류독감 국제 학술 토론 행사 개최 국립생태원 조류독감 국제 학술 토론 행사 개최 대응 전략 수립 위해 일 독 등 개국 전문가 초청 세계 적 연구 동향 대한 정보 및 기술 교류 장 마련 유관 기관 및 단체 등 사람 누구 무료 참석 가능 국립생태원 원장 최재천 은 야생 조류 조류독감 분야 국내외 전문가 초청 야생 조류 보전 방역 대한 정보 교류 장 마련 일과 양일간 충남 서천 위치 국립생태원 진행 이번 행사 발생 야생 조류 중심 국가 차원 대응 전략 수립 기여 자 마련 미국 일본 독일 등 개국 전문가 비롯 환경부 및 농림축산식품부 관계자 참석 연구 결과 발표 토론 예정 미국 국립 야생동물 보건 센터 혼 입 교수 독일 프리드리히 뢰플러 연구소 팀 대표 중국 과학 원 북동 농업생태학 및 지리학 연구소 무하 호주 출신 더그 왓킨스 교수 헝가리 동아시아 대양주 철새 이동 경로 파트너 십 의 자보 연구 관 일본 환경성 자 연보 전국 야스 코 내 아가리 연구 관 등 참석 각국 발생 극복 위 노력 소개 예정 이번 행사 차단 위 노력 과 야생 조류 보전 이란 두 가지 주제 진행 관련 야생 조류 이동 및 를 극복 위 국내외 방역 기관 노하우 공 유하 등 효과 적 효율 적 야생 조류 방역 방안 논의 자리 전망 행사 참석 사람 오전 시부 터 국립생태원 생태 교육 관 층 현장 등록 세계 적 전문가 초청 심포지엄 개최 계획 안 질의 응답 전문 용어 설명 끝',\n",
       " '참고 대강 보 개방 모니터링 지역 협력 탄력 적 추진 금강 수계 민 관 협의 체 의 논의 결과 백제 문화제 기간 중 공주보 수위 한시 적 상승 농업 용수 생활 용수 등 지장 범위 내 지역 소통 보 개방 모니터링 추진 중 정부 지난해 월부 터 대강 개 보 중 개 보 단계 적 개방 그 영향 관찰 평가 토대 보 처리 방안 마련 중이 보 개방 이후 모니터링 중간 결과 보도자료 참고 물 흐름 회복 조류 농도 감소 모래톱 회복 등 대강 자연 성 회복 가능성 확인 보 개방 이전 취수 양수장 등 개선 관계 기관 지자체 지역 주민 등 구성 민 관 협의 체 논의 결과 반 영하 단계 적 보 개방 한편 필요시 수위 탄력 적 조정 등 물 이용 불편 도록 다각 적 조치 취해 고 공주보 올해 일부 터 단계 적 개방 일부 터 수위 로 유 지하 공주시 및 지역 사회 백제 문화제 원활 추진 수 도록 공주보 수위 달라 요구 금강 수계 보 개방 민 관 협의 체 의 논의 결과 대강 사업 이전 부터 백제 문화제 부교 및 유등 등 위해 올해 공주대교 백제큰다리 구간 수심 확보 농 어민 대표 민간 단체 전문가 환경부 부여군 수자원공사 농어촌 공사 등 명 일부 터 까지 대전 지역 집중 강우 이후 홍수 감소 오전 시부 터 공주보 수위 리기 시작 까지 점차 적 공주보 수위 까지 회복 일부 터 까지 이 수위 유지 백제 문화제 종료 부터 까지 다시 단계 적 보 개방 계획 이번 공주보 수위 회복 올해 것 내년 백제 문화제 지자체 등 논의 다양 대안 마련 환경부 공주보 한시 적 수위 회복 및 재 저하 시 수질 수 생태계 영향 파악 위해 분야 별로 모니터링 강화 올해 백제 문화제 종료 이후 생태계 변화 등 모니터링 결과 공개 예정 한편 지난 환경부 대강 자연 성 회복 위 조사 평가 단 단장 홍정기 이 정식 출범 함 보 모니터링 종합정보시스템 통해 관련 정보 일부 터 투명 공개 보 개방 모니터링 자료 수질 생태계 수자원 이용 등 대한 객관 적 과 학적 평가 개 보 처리 방안 확정 계획 공주보 수위 회복 및 향후 계획 대강 자연 성 회복 위 조사 평가 단 개요 보 모니터링 종합정보시스템',\n",
       " '국립공원 관리 공단 원주시 개막 국립공원 관리 공단 원주 혁신도시 이전 신청 사 개청 환경부 국립공원 관리 공단 이사장 박보환 은 강원도 원주 혁신도시 위치 국립공원 관리 공단 신 청사 개청 원주시 를 선언 날 개청 조경규 환경부 장관 비롯 김기선 국회의원 송기헌 국회의원 김명선 강원도 기획 조정 실장 원창묵 원주시 장 지역 시민 등 여 명 참석 예정 국립공원 관리 공단 신 청사 강원도 원주시 반곡동 혁신 원주 혁신도시 내 부지면적 지상 층 지하 층 연 면적 의 규모 원주 혁신도시 유일하 규 장석 외부 마감 것 특징 규장 석 화성암 일종 내 구성 내 산성 등 대리석 등 강하 질감 뜻 시간 날수 록 색상 특징 전체 부지면적 조경 원주 혁신도시 공공기관 중 부지면적 대비 가장 정원 보유 이 정원 시민 공 유하 신청 사의 주요 시설 자연 친 적 설계 기반 지열 에너지 활용 빗물 재활용 등 친환경 요소 적극 도 입하 에너지 효율 등급 녹색건축 인증 청사 건립 박보환 국립공원 관리 공단 이사장 창립 이후 간의 임차 청사 생활 마감 숙원 사업 었던 자체 청사 건립 데 의의 면서 앞 지역 인재 채용 지역 사회 소통 상생 위해 최선 고 국립공원 관리 공단 신청 사 개청 개요 현황 사진 끝',\n",
       " '국립생태원 이제 사이버 공간 만난 전시 교육 콘텐츠 온라인 서비스 일부 터 제공 현장 동일 파노라마 전시관 마련 환경부 국립생태원 원장 이희철 은 온라인 국립생태원 전시 교육 체험 볼 수 사이버 전시 교육 마당 서비스 일부 터 운영 이번 온라인 서비스 기획전 시 자료 국립생태원 제작 교육 프로그램 정보 공유 심화 학습 체험 수 사이버 전시 교육 마당 은 국립생태원 전시관 직접 방 문하 전시 현장 보고 수 사이버 전시관 제공 현재 전시 생물 모방 특별 전 비롯 개미 세계 탐험 전 상설 주제 전시관 파노라마 촬영 제작 전시 현장 도 그래픽 수 전시 개미 모습 등 동영상 볼 수 또한 우리 독도 이야기 장욱진 생명 사랑 전 등 지난 기획전 시 자료 웹 도록 형식 제공 사이버 전시 교육 마당 전시 자료 뿐 학생 교육 기관 대상 제작 다양 교육자 료 초등 교과 과정 계 이러닝 콘텐츠 지구 고고 생태 탐험대 게시 중학교 자유 학기 제 진로 탐색 프로그램 에코 드림 스쿨 과 생태 교실 등 교사 용 지도 학생용 숙제 자료 워 크시 트 를 제공 교육 기관 생태 교육 자율 적 진행 거나 국립생태원 방문 계획 인솔 교사 사전 참고 수 도록 사이버 전시 교육 마당 국립생태원 누리집 이나 국립생태원 사이버전 시교 육 마당 통해 확인 수 자세 내용 문의 전시 교육 기획 부 로 가능 이희철 국립생태원 장 사이버 전시 교육 마당 국민 누구 국립생태원 축적 생태 전시 교육 콘텐츠 접근 수 며 앞 생태 문화 확산 위해 다각 적 대국민 서비스 제공 방안 모색 것 말 사이버 전시 교육 마당 홈페이지 사진 사이버 전시 교육 마당 사진 질의 응답 전문용어 설명 끝',\n",
       " '강원 아름 다운 자연 국 영문 화보 집 발간 원주지방환경청 국립생물자원관 평창올림픽 조직 위원회 강원도 아름 다운 생태 경관 국제 사회 홍보 강원 생태 우수 역 곳 주요 야생 동식물 한눈 소개 환경부 소속 원주지방환경청 청장 박 미자 은 국립생물자원관 평창올림픽 조직 위원회 공동 국 영문 화보 집 강원 아름 다운 자연 발간 이번 화보 평창 동계올림픽 기간 우리나라 방 문하 외국 관광객 강원도 우수 자연 환경 고유 생물 정보 알리 기 위해 발간 설악산 동강 등 강원도 생태 우수 역 곳 한눈 볼 수 강원도 주로 야생 동식물 정보 사진 것 특징 생태 우수 역 곳 설악산 오대산 치악산 태백산 동강 유역 대암산 용늪 화보 부 강원도 생태 우수 역 곳 아름 다운 경관 동식물 사진 수록 부 멸종위기 야생 생물 급 각시 수련 등 강원도 서식 한반도 고유 식물 종 대한 정보 사진 수록 한반도 고유 식물 종은 동강 유역 등 강원도 특수 생 육지 서식 종 위주 선정 한반도 고유종 우리나라 내 자 연적 서식 모든 생물 분류군 말 총 종이 화보 강원도 평창 및 강릉 올림픽경기장 관광 안내소 등 중순 부터 배포 원주지방환경청 누리집 서도 그림 파일 이 공개 박 미자 원주지방환경청 장 평창동계올림픽 기간 방 문하 외국인 우리나라 다시 곳 기억 이번 화보 집 도움 바란 말 강원 아름 다운 자연 표지 강원 아름 다운 자연 내지 강원 아름 다운 자연 구성 내용 질의 응답 끝',\n",
       " '가을 정취 물씬 나 걷기 국립공원 단풍 길 곳 선정 가을 정취 물씬 나 걷기 국립공원 단풍 길 곳 선정 가족 걷기 국립공원 저지 단풍 경관 탐방 전국 국립공원 단풍 예상 시기 소개 국립공원 관리 공단 이사장 박보환 이 온 가족 가을 정취 수 걷기 국립공원 단풍 길 곳 선정 공단 추 천하 단풍 경사 완만 산책길 등산 나들이 남녀 노소 오색 찬란 가을 정취 수 곳 가야산 국립공원 소리 홍류 계곡 단풍 저지 탐방 로 가족 단풍 즐 기기 가을 단풍 물 까지 이름 여진 홍류 계곡 가야산 입구 해인사 까지 의 구간 물소 리 새소리 바람소리 가을 수 상암 영산 교 구간 은 턱 이나 계단 무장애 탐방 로 조성 노인 장애인 단풍 수 지리산 국립공원 단풍 핏빛 표현 만큼 피아골 직전 마을 피아골 삼거리 구간 총 구간 탐방 데 시간 정도 걸 린다 그 중 연곡사 시작 지리산 피아골 계곡 단풍 직전 마을 연주 담 통일 소 홍소 까지 시간 구간 으뜸 피아골 단풍 절경 모두 볼 수 공단 사찰 만날 수 단풍 추천 계룡산 국립공원 갑사 신원사 동학사 등 유서 사찰 가을 산책 즐 기기 계룡산 갑사 마곡 추 갑사 정도 가을 단풍 아름 답 리 숲 불리 계룡산 갑사 진입 가을 이면 단풍 장관 설악산 국립공원 설 악의 수렴 동계 곡 백담사 영 시암 수렴 대피소 까지 길 설악산 단풍 명소 유명 설악산 여느 계곡 달리 산길 평지 처럼 순탄 길 수 오색 단풍 투명 계곡 편의 수채화 연상 다만 설악산 국립공원 계곡 길 때 낙석 위험 곳 각별 주의 오대산 국립공원 선재 사찰 길 중 가장 아름 다운 곳 손 마사토 모래 황토 등 혼합 순수 흙길 가을 향 수 걸음 마다 계곡 단풍 지루 틈 아름 움 보 여준 주왕산 국립공원 절골 계곡 단풍 주산지 상 대적 덜 사람 한적 탐방 수 절골 계곡 탐방 탐방 지원 센터 대문 다리 구간 왕복 거리 산 험난 길이 완 만하 남녀 노소 걸 수 공단 서울 까운 단풍 명소 북 한산 국립공원 둘레길 우이령길 선정 왕복 시간 정도 우이령길 서울 우이동 경기 양주시 장흥 길 나무 단풍 가을 조화 오봉 전망대 도봉산 명물 깃돌 다섯 개 바위 봉우리 단풍 싸인 장관 연 출하 가을 철 사진 찍기 최고 장소 우이령길 전체 구간 완만 어린이 노인도 어려움 단풍 산책 수 다만 명 탐방 예약 인원 제한 주 넷째 주인 단풍 성수 기 주말 예약 이 전통 적 단풍 명소 내장산 국립공원 내장 탐방 원 센터 내 장사 탐방 안내소 원적 암 벽련암 구간 치악산 국립공원 구룡 탐방 원 센터 폭포 성남 공원 킴터 상원사 남대 봉 구간 속리산 국립공원 화양동 탐방 원 센터 학소 구간 무등산 국립공원 원효 분소 바람 재 구간 등 단풍 명소 추천 공단 단풍 길 뿐 은빛 물결 이루 억새 밭 가을 낭만 수 곳도 소개 경주 국립공원 곡 억새 밭 월출산 도 갑지 구 억새 밭 지나 억새 물결 속 가을 만끽 곳 전국 국립공원 단풍 초순 설악산 최초 시작 중순 쯤 소백산 월악산 초 내장산 지리산 등 남하 것 단풍 절정 일 설악산 등 중부지방 경 내장산 등 남부 지방 첫째 주 정도 것 예상 저지 대의 옻나무 류 단풍나무 류 참나무 류 등 중순 부터 아름 답 시작 것 예상 올해 일 조량 다음 달 초 까지 일 교차 날씨 단풍 빛깔 아주 곱 것 전망 정장훈 국립공원 관리 공단 홍보 실장 단풍 철 일시 사람 몰리 만큼 안전 주의 자기 체력 단풍 탐방 길 선택 것 고 말 국립공원 단풍 탐방 선 주요 단풍 길 현황 사진 질의 응답 전문 용어 설명 끝',\n",
       " '건강 실내 생활 에코 인테리어 지원 에코 인테리어 지원 사업 설명 회 개최 까지 접수 총 여 곳 선정 건강 실내 환경 확산 기여 환경부 한국 환경 산업 기술 원 원장 남 광희 은 친환경 자재 사용 확대 국민 주거 환경 개선 위 에코 인테리어 지원 사업 설명 회 대전 동구 한국 철도공사 본사 개최 이번 에코 인테리어 지원 사업 전국 인테리어 업소 대상 까지 신청 접수 총 여 곳 선정 예정 신청 방법 한국 환경 산업 기술 원 누리집 신청서 작성 후 담당자 이메일 보 내면 에코 인테리어 지원 사업 참여 친환경 자재 생산 기업 직거래 구 축하 친환경 자재 저렴 공급 소비자 합리 적 가격 친환경 자재 판 매하 국민 친환경 주거 환경 확산 지원 에코 인테리어 참여 업소 환경마크 인증 친환경 페인트 벽지 장판 단열 재 목재 가구 등 약 여 개 품목 친환경 건설 자재 공급 친환경 자재 정보 제공 교육 참석 홍보 경영 상담 등 지원 수 기존 사업 대상 수도권 및 일부 광역시 한정 올해 전국 확대 한국 환경 산업 기술 원 대전 사업 설명 회 통해 에코 인테리어 지원 사업 소개 및 사업 추진 방향 친환경 건설 자재 인증 제도 등 안내 에코 인테리어 지원 사업 참여 인테리어 년 비교 평균 매출 상승 친환경 건설 자재 매출 증 가율 를 달 성하 등 주요 사업 성과 공유 계획 한국 환경 산업 기술 원 에코 인테리어 지원 사업 국민 건강 실내 생활환경 확산 뿐 환경마크 인증 친환경 자재 생산 기업 인테리어 상생 관계 강화 앞장 설 계획 남 광희 한국 환경 산업 기술 원장 국민 에코 인테리어 업소 활용 친환경 실내 생활환경 조성 수 도록 적 극적 노력 것 년도 에코 인테리어 지원 사업 사업 설명 회 안내 에코 인테리어 지원 사업 개요 질의 응답 끝',\n",
       " '화학 테러 사고 대응 능력 평가 대회 개최 대응 태세 확립 화학 테러 사고 대응 능력 평가 대회 개최 대응 태세 확립 화학물질안전원 제 화학 테러 사고 대응 능력 평가 대회 개최 화학 테러 사고 현장 상황 대처 능력 점검 및 기관 간 대응 정보 교류 낙동강 유역 환경청 대구 지방 환경청 최우수 기관 선정 화학물질안전원 원장 김균 은 일부 터 이틀 간 경남 창원 개 지방 유역 환경청 개 합동 방재 센터 담당자 여명 대상 화학 테러 사고 대응 태세 확립 위 제 화학 테러 사고 대응 능력 평가 대회 를 개최 개 지방 유역 환경청 한강유역환경청 낙동강 유역 환경청 금강유역환경청 영산강유역환경청 원주지방환경청 대구 지방 환경청 새만금지방환경청 개 합동 방재 센터 시흥 합동 방재 센터 서산 합동 방재 센터 익산 합동 방재 센터 여수 합동 방재 센터 울산 합동 방재 센터 구미 합동 방재 센터 대회 결과 낙동강 유역 환경청 울산 합동 방재 센터 대구 지방 환경청 구미 합동 방재 센터 로 구성 동부 팀 최우수 팀 선정 이번 평가 대회 개 지방 유역 환경청 개 합동 방재 센터 지역 동부 팀 중부 팀 서부 팀 등 개 진행 평가 화학 테러 사고 현장 대응 시 발생 수 상황 시나리오 바탕 상황 판단 대응 장비 운영 탐지 측정 현장 운영 통신 등 개 분야 진행 최우수 팀 동부 팀 탐지 측정 분야 현장 운영 통신 등 분야 최고점 이 낙동강 유역 환경청 최 한도 원주지방환경청 곽 경복 등 개인 명 우수상 수상 대회 평가 위원 보건 안전 소방방 재 등 전문 분야 구성 교수 전문가 명 참여 이번 대회 지난 프랑스 파리 테러 사건 영향 대회 참가자 실제 움직임 보이 대회 임 평가 위원 참여 정상 태 인제대 교수 이번 평가 대회 통 환경부 소속 기관 전체 테러 대응 태세 점검 상황 대응 정보 교류 기관 간 협업 능력 강화 통해 화학 테러 사고 발생 시 신속 대응 능력 향 상하 계기 것 말 화학 테러 사고 대응 능력 평가 대회 화학사 테러 발생 시 현장 동하 유역 지방 환경청 대응 능력 강화 위해 부터 시작 올해 부터 합동 방재 센터 담당자 대회 참가 평가 대회 개요 평가 대회 관련 사진 질의 응답 전문 용어 설명 끝',\n",
       " '참고 가습기 살균제 피해자 지원 위해 최선 노력 것 가습기 살균제 피해자 지원 위해 최선 노력 것 조경규 환경부 장관 가습기 살균제 피해 지원 센터 를 방 문하 업무 내용 개선 계획 보고 피해자 입장 업무 처리 당부 조경규 환경부 장관 금 한국 환경 산업 기술 원 원장 김용주 이하 기술 원 내 가습기 살균제 피해 지원 센터 이하 지원 센터 를 방문 피해자 입장 나은 서비스 무엇 인지 고민 실천 줄 것 당부 지원 센터 가습기 살균제 피해 접수 조사 지원 금 지급 등 체계 적 종합 적 추진 위 설치 현재 센터 장 박준 철 포함 명 근무 기술 원 지원 센터 주요 업무 피해자 지원 서비스 질 높이 기 위 개선 계획 보고 먼저 상담심리사 사회 복지사 등 상담 전문 인력 명 채용 상담 서비스 질 높이 신청 편의 위해 콜백 시스템 도입 상담 원부 재 업무 시간 종료 등 상담 원 응대 경우 자동 응대 시스템 둘째 지원 사각 지대 해소 위해 심리 불 안정 우울 분노 등 민원 노약 자 거동 불편 자 등 대상 방문 접수 상담 의료 기관 영수증 발급 대행 등 추진 아가 서비스 를 확대 나 간다 공인 인증서 및 전자서명 이용 지원 금 신청서 접수 등 신청 방법 개선 넷째 계속 적 피해자 찾기 위해 방송 및 옥외 광고 등 다양 매체 활용 반상회 보 안내 문 게재 등 지자체 협력 통한 홍보 지속 적 추진 다섯 지난 월부 터 접수 중인 차 피해 신청 자 조속 판정 위해 참여 병원 개 병원 중 계약 체결 추진 환경부 서울 아산병원 지난 새로이 참여 병원 판정 일 관성 유지 수 도록 조사 판정 프로토콜 공유 세미나 개최 바 이 앞서 조경규 장관 여의도 인근 피해자 면담 건의 사항 청취 피해자 지원 위해 폐 이외 질환 대한 판정 기준 마련 신속 조사 판정 피해 메카니즘 규명 피해자 지원 위 서비스 개선 등 노력 약속 참고 가습기 살균제 피해자 지원 센터 개요',\n",
       " '화학물질 배출 량 전 년대 비 증가 톤 화학물질 배출 량 전 년대 비 증가 톤 환경부 화학물질 배출 량 조사 결과 발표 종 톤 화학물질 대기 등 환경 중 배출 이송 배관 도장 시설 등 비산 배출 전체 배출 량 차지 배출 량 비율 비산 오염원 대한 관리 강화 화학 석유 정제 차 금속 등 비산 배출 비율 업종 중심 이송 배관 등 비산 오염원 대한 배출 원인 진단 누 출감 시 활동 강화 화학물질안전원 원장 김균 이 전국 개 사업 장 대상 년도 화학물질 배출 량 조사 결과 년도 대비 증가 종 톤 화학물질 대기 등 환경 배출 것 나타 화학물질 배출 량 조사 대상 자일렌 등 종 화학물질 중 종 이상 연간 톤 톤 이상 제조 거나 사용 이하 취급 업체 그룹 종 발암 성 중금속 은 업체 기준 톤 이상 그룹 종 독성 물질 은 톤 이상 취급 제조 사용 시 보고 이번 조사 전국 개 사업 장 총 종 톤 화학물질 취급 이 가운데 종 톤 전체 취 급량 이 대기 등 환경 배출 년도 배출 량 톤 인 톤 증가 것 화학물질안전원 화학 석유 정제 차 금속 등 업종 화학물질 전체 취 급량 톤 톤 증가 보고 업체 수도 개 개 추가 화학물질 배출 량 것 보고 화학물질 전체 취급 대비 연도 별 배출 율 또한 화학물질 배출 관리 정보 비교 적 명확 점 오염원 굴뚝 등 환경오염 방지 시설 등 과 달리 사업 장의 자율 적 관리 의존 비산 오염원 이송 배관 등 의 배출 증가 것 원인 작용 이번 조사 비산 오염원 화학물질 배출 량 전체 배출 량 인 톤를 차지 이후 지속 적 수준 상회 주요 비산 오염원 화학물질 배출 시설 이송 배관 출하 시설 등 사업 장 널리 산재 또한 시설 숫자 주 기적 측정 누 출감 시 보수 등 화학물질 감 노력 활동 점 오염원 배출 시설 인력 장비 기술 기반 부족 등 이유 실정 기타 운송 장비 제조업 석유 정제 화학 등 주요 업종 비산 오염원 배출 량 전 증가 톤 기록 톤 톤 톤 화학물질 별로 화학물질 배출 량 용매 제 석 제로 주로 사용 자일렌 톨루엔 아세트산에틸 메틸에틸 케톤 에틸벤젠 등 개 화학물질 전체 배출 량 를 차지 자일렌 톨루엔 아세트산에틸 경우 각각 톤 톤 톤 톤 톤 톤 배출 량 대비 증가 것 나타 배출 비율 업종 기타 운송 장비 자동차 제조업 등 취 급량 톤 톤 대비 증가 때문 선박 건 조량 증가 산업 생산 수 증가 화학물질 취급 량 증가 벤젠 등 급 발암 물질 종 경우 전체 배출 량 해 당하 톤 배출 톤 톤 증가 업종 별로 화학물질 배출 량 기타 운송 장비 제조업 고무 플라스틱 제조업 자동차 및 트레일러 제조업 등 개 업종 전체 배출 량 인 톤 배출 기타 운송 장비 제조업 전 산업 차 지하 비중 업체 수 전체 취 급량 전체 불구 전체 화학물질 배출 량 를 차지 코팅 열처리 공정 분사 자연 열처리 건조 방지 시설 설치 방식 작업 형태 배출 율 다른 업종 때문 반면 화학 업종 코크스 석유 정제 업 등 배출 량 각각 전체 배출 량 를 각각 차 지하 배출 율 평균 로 나타 화학물질 배출 취급 관리 기술 수준 상 대적 양호 때문 배출 율 업종 화학 업종 과 코크스 석유 정제 업종 지역별 배출 량 년도 경기 톤 경남 톤 울산 톤 순 나타 상위 곳 지역 전체 배출 량 인 톤 배출 경기 사업 장 수가 개 조사 대상 전체 사업 장의 를 차지 상 대적 화학물질 다량 배출 경남 기타 운송 장비 제조업 울산 대규모 산업 단지 다량 배출 것 나타 환경부 화학물질안전원 부터 국민 알권리 사업 장의 배출 감 목표 화학물질 배출 량 조사 배출 감 자발 적 협약 프로그램 스마트 프로그램 체결 사업 장별 배출 량 공개 등 화학물질 배출 량 줄 이기 위해 다양 노력 향후 유해 화학물질 취급 시설 중점 적 자체 점검 강화 주 이상 의무 화 비산 오염원 대한 현장 조사 통한 배출 원인 진단 기술 지원 실시 예정 환경부 부터 기술 취약 중소 사업 장 대상 배출 원인 진단 기술 지원 사업 추진 년도 화학물질 배출 량 조사 결과 개방 공유 소통 협력 추구 정부 의 정책 부합 위해 화학물질 배출 이동 량 정보 시스템 누리집 통해 공개 화학물질 배출 량 조사 개요 연도 별 화학물질 배출 량 추이 매체 별 지역별 화학물질 배출 량 질의 응답 전문용어 설명 끝',\n",
       " '까지 플라스틱 폐기물 발생 량 절반 생산 부터 재활용 까지 각 순환 단계 별 종합 개선 대책 마련 생산 까지 무색 페트병 전환 재활용 의무 대상 확대 소비 대형 마트 슈퍼 비닐봉투 사용 금지 컵 보증금 도입 택배 포장 기준 신설 배출 분리 배출 가이드라인 보급 아파트 분리 배출 도우미 시범 사업 수거 아파트 재활용품 계약 보고 의무 화 및 표준 계약서 보급 재활용 시장 안정화 재원 마련 폐비 닐 등 재활용 제품 조기 상용 화 까지 플라스틱 폐기물 발생 량 감축 재활용 률 기존 까지 리기 위 종합 대책 추진 정부 폐비 닐 수거 거부 수도권 일부 공동 주택 문제 등 주민 불편 상황 해소 상황 이나 근본 적 재발 방지 위해 이낙연 국무총리 주재 제 차 국정 현안 점검 조정 회의 관계 부처 합동 재활용 폐기물 관리 종합 대책 논의 종합 대책 재활용 폐기물 대한 공공 관리 강화 재활용 시장 안정화 방안 중점 적 검토 제품 생산 부터 폐기물 재활용 까지 각 순환 단계 별 개선 대책 대책 실효 성과 사회 적 수용성 담보 위해 수립 과정 범 정부 합동 를 구성 지자체 업계 시민단체 등 간담 회 협의 체 등 통해 현장 목소리 충실 반 영하 도록 제조 생산 단계 제조 단계 부터 재활용 생산 재활용 제품 단계 적 퇴 음료 생수 중 유색 페트병 비율 생산자 책임 강화 재활용 촉진 위 지원 확대 까지 모든 생수 음료수 용 유색 페트병 무색 전환 등 재활용 제품 생산 단계 부터 단계 적 퇴 출시 킨다 모든 재활용 의무 대상 포장재 대해 평가 의무 화 재활용 포장재 사용 제한 도록 법령 개정 추진 특이 색상 이나 다른 재질 혼합 플라스틱 유리 병 등 사용 생산자 재활용 비용 차등 부과 전체 포장재 등급 평가 기준 재활용 현장 의견 수렴 재정 비 방침 백색 녹색 갈색 병 외 파란색 유리 병 특수 가공 유리 등 재활용 곤란 생수 음료수 등 무색 페트병 만 사용 환경 유 해하 면서 재활용 재질 등 은 사용 금지 예정 맥주 등 품질 유지 위해 필요 경우 제 한적 유색 갈색 페트병 사용 분담 금 차등 화 등 통해 점진 적 다른 재질 전환 한편 지난 주요 생산 업체 자발 적 협약 까지 페트병 등 평가 유색 병 무색 라벨 지도 록 개선 권고 이행 제품 언론 공개 등 조치 계획 개 주요 생산 업체 전체 페트병 고량 대상 중 개선 착 수하 까지 무색 페트병 전환 완료 기타 용 기류 재활용 재질 변경 제품 설계 개선 생산자 판매 제품 및 포장재 대한 재활용 의무 확대 강화 재활용 의무 비닐 플라스틱 제품 등 의무 대상 단계 적 편입 재활용 의무 대상 품목 현재 종 까지 종 계획 비닐 류 종 비닐 장갑 세탁소 비닐 에어캡 등 전체 비닐 중 품목 비율 현재 까지 확대 플라스틱 제품 종 바닥재 등 재활용 수익 성 비닐 류 우선 재활용 의무 율 현행 까지 로 상향 조정 출고 량 전체 대해 재활용 비용 부과 재활용 업계 지원 방안 검토 유통 소비 단계 과대 포장 억제 용품 사용 획 기적 감 까지 및 비닐봉투 사 용량 감 유통 과정 비닐 스티로폼 등 사용 줄 이기 위해 과대 포장 관리 강화 택배 전자제품 등 대한 포장 기준 신설 우선 대형 마트 지난 체결 자발 적 협약 행사 상품 이중 포장 등 제품 입점 전 포장 검사 성적 를 확인 과대 포장 제품 입점 자체 방 지하도 록 계획 현행 사후 점검 방식 제품 출시 이전 부터 과대 포장 검사 의무 도록 법령 개정 추진 한편 최근 온라인 쇼핑 등 증가 고려 택배 등 운송 포장재 과대 포장 방지 가이드라인 올해 까지 마련 현 장적 용성 평가 내년 법적 제한 기준 설정 방침 또한 스티로폼 등 사용 전자제품 대해 서도 올해 까지 과대 포장 기준 신설 계획 소비 단계 용품 사용 획 기적 까지 비닐봉투 사 용량 감량 계획 경우 우선 사용 감소 위해 커피전문점 패스트푸드 점 등 자발 적 협약 강화 텀블러 사용 시 수준 가격 할인 매장 내 머그컵 사용 시 리필 혜택 등 제공 예정 테이크아웃 컵 원활 회수 재활용 위해 컵 보증금 도입 판매 자 재활용 비용 부담 등 관련 법령 연내 개정 전용 수거 함 등 공공 회수 체계 정비 컵 재질 단일 화도 추진 대형 마트 대형 슈퍼 비닐봉투 대신 종이 박스 재사용 종량제 봉투 등 사용 매장 내 속 비닐 사 용량 감축 계획 이 제과점 등 종이 봉투 사용 촉진 재래시장 장바구니 대여 사업 등 사용 처별 맞춤 형 감량 대책 병행 예정 용품 사용 줄 이기 국민 참여 가장 중요 시민단체 지자체 등 합동 플라스틱 줄 이기 실천 협의 체 를 구 성하 지속 적 실천 운동 전개 현장 모니터링 추진 계획 공공 부문 대상 용품 사용 억제 지침 마련 감축 실적 기관 평가 지표 반 영하 등 공공 부문 사용 감량 대책 추진 분리 배출 단계 분리 배출 방법 집중 홍보 가이드라인 보급 분리 배출 폐기물 중 재활용 불가능 이물 질 비율 분리 배출 방법 대한 집중 홍보 국민 수 분리 배출 안내서 가이드라인 올해 까지 마련 점 즉시 확인 수 도록 스마트폰 앱 개발 등 추진 수도권 아파트 대상 현장 안내 도우미 시범 사업 통해 분리 배출 요령 현장 설명 및 모니터링 등 추진 계획 또한 단독주택 등 취약 지역 정부 지원 확 대하 분리 배출 시설 확충 전담 관리인 지정 운 영하 도록 예정 수거 선별 단계 지자체 공공 관리 강화 비상 대응 체계 구축 등 수거 중단 재발 방지 공동 주택 수거 문제 대해 민간 수거 업체 계약 내용 처리 실적 등 관할 지자체 보고 수거 중단 시 사전 통보 의무 등 공공 관리 체계 강화 위 법령 개정 추진 또한 수거 중단 등 비상 상황 시 정부 지자체 간 비상 체계 가동 계약 조정 중재 및 임시 처리 등 신속 대응 위 매뉴얼 정비 계획 지자체 관련 의무 이행 위 법적 근거 마련 한편 공 공선 별장 확충 위 정부 지원 대폭 확 대하 재활용품 공공 관리 비율 현재 수준 까지 처리 역량 제 방침 민간 수거 업체 경우 재활용품 가격 하락 시 아파트 수거 단가 조정 수 도록 가격 연동 표준 계약서 를 보급 안정 적 수익 확보 가능 도록 계획 또한 수거 업체 주요 수입 원인 폐지 대해 유통 구조 실태 조사 및 품질 자율 등급제 도입 등 적정 시장 가격 관리 대책 집중 추진 이 재활용품 세제 혜택 연장 고물상 시설 개선 및 입지 기준 합리화 방안 마련 추가 적 지원 대책 등 관계 부처 지자체 등 논의 지속 추진 예정 선별 업체 대해 서도 생산자 재활용 원금 확 대하 등 수익 개선 방안 추진 계획 재활용 단계 재활용 시장 모니터링 선제 적 대응 체계 구축 재활용 제품 품질 제 고하 수요 처 대폭 확대 재활용 시장 안정화 위해 생산자 분담 금 등 활용 재생 원료 가격 하락 시 구매 비축 등 신속 추진 수 도록 까지 규모 시장 안정화 재원 마련 계획 이 국내외 재활용 시장 동향 및 가격 변동 분석 등 시장 안 정적 관리 수 도록 환경부 유관 기관 업계 합동 전담 기구 재활용 시장 관리 위원회 가칭 등 를 설치 국제 시장 변동 무분별 폐기물 수입 발생 도록 환경부 관세청 협업 검사 확대 수입 신고 허가 시 국내 재활용 여건 고려 사전 심사 강화 또한 국산 재생 원료 우선 사용 도록 위해 제지 유리 병 업체 등 주요 재생 원료 사용 업체 이용 목표 율 하반기 중 상향 조정 이행상 황 대한 모니터링 강화 방침 국내 재활용 제품 수요 확대 위해 공공 조달 지침 규격 가점 등 관련 규정 정비 우선 추진 공공 부문 녹색 제품 구매 비율 수준 계획 폐비 닐 페트 등 활용 재활용 신 기술 조기 상용 도록 실증 화 사업 우선 추진 중장 기 기술 개발 확대 추진 계획 한편 폐 비닐 주요 재활용 방법 고형 연료 대해 소규모 사용 시설 난립 방 지하 면서 대기 배출 허용 기준 강화 등 환경 관리 기준 강화 주민 수용성 제 방침 이 생활 계 폐 비닐 제조 대해 조사 검사 통합 운영 등 관리 체계 합리 적 개선 환경 안전성 검증 전제 하수 슬러지 소각 시설 등 신규 사용 처 확대 예정 김은경 환경부 장관 플라스틱 등 폐기물 문제 전 세계 공통 문제 상황 라며 우리나라 국토 자원 부족 때문 용품 사용 줄 재활용 지속 가능 자원 순환 형 사회 전환 것 피 수 선택 강조 종합 대책 주요 개선 사항 주요 개선 목표 질의 응답',\n",
       " '구상나무 유전자 다양성 양호 우리나라 구상나무 유 전적 한라산 집단 내륙 집단 각 집단 유전 적 특 이성 보존 위해 보전 단위 구분 설정 향후 관리 유의 환경부 소속 국립생물자원관 관장 백운석 은 부터 까지 간 구상나무 유전자 다양성 분석 결과 우리나라 구상나무 유전자 다양성 양호 것 나타 구상나무 전 세계 적 우리나라 분포 고유 침엽수 종 한라산 지리산 덕유산 가야산 등 우리나라 남부 고산 지역 발견 국립생물자원관 연 구진 구상나무 유전 적 다양성 분석 위해 한라산 지리산 백운산 신불산 가야산 덕유산 속리산 구상나무 집단 총 개체 유전자형 분석 분석 결과 개체 수가 개체 미만 백운산 속리산 신불산 개체군 제외 모든 집단 유전자 다양성 지수 이상 나타 수치 그간 보고 다른 전나무속 식물 유전자 다양성 지수 약간 편이 유전자 다양성 지수 특정 유전자 서로 다른 유전자형 차 지하 빈도 의 미하 평균값 이상인 경우 유전자 다양성 수준 판단 또한 구상나무 유전자형 크게 한라산 집단 대표 한라산 형 과 나머지 집단 유형 한반도 형 구조 화 것 나타 결과 구상나무 시간 동안 내륙 고산 지역 한라산 지역 적응 각각 유전 적 고 유성 지니 음 의미 연 구진 각 집단 유전 적 다양성 양호 때문 구상나무 한라산 형 한반도 형 구분 집단 고 유성 유지 수 도록 보전 단위 설정 관리 필요 설명 유 전적 구조 화 더라도 유전자 다양성 매우 경우 인위 적 유전자 도입 개체군 유전 적 건 강성 증진 경우 구상나무 해 당하 것 판단 이번 연구 결과 과학기술 논문 추가 색인 수 논문 중 하나 국제 학술지 보전 유전학 회지 발표 과학기술 논문 색인 지수 논문 영문 논문 말 의 등록 여부 세계 적 권위 인정 학술지 평가 기준 임 백운석 국립생물자원관 장 구상나무 유 전적 건 강하 더라도 기후변화 등 개체 수가 감소 향후 구상나무 개체군 변동 현황 지속 적 관찰 모니터링 계획 구상나무 사진 자료 구상나무 및 종 유전자 다양성 지수 비교 구상나무 집단 유전 적 구조 질의 응답 전문용어 설명 끝',\n",
       " '중 일 환경과학 원장 동북아시아 환경오염 연구 협력 강화 제 차 중 일 환경과학 원장 회의 일부 터 까지 일본 츠쿠바 개최 환경부 소속 국립 환경과학 원 원장 박진원 은 중 일 환경 연구 협력 논의 위 제 차 중 일 환경과학 원장 회의 일부 터 까지 일본 츠쿠바 시 열 린다 이번 회의 박진원 국립 환경과학 원 원장 리하 셩 중국 환경과학 연구원 장 와타나베 치호 일본 국립 환경 연구소 원장 참석 국 공동 연구 협력 방안 논의 회의 폐기물 관리 아시아 대기오염 등 우선 협력 사업 대한 공 동연 구성 및 연구 로드맵 점검 향후 추진 방안 논의 국가 간 지속 적 연구 협력 강화 합의 예정 개 우선 협력 사업 호소 수질오염 아시아 대기오염 도시 환경 및 친환경 도시 황사 화학물질 위해 및 관리 생물다양성 보존 고형 폐기물 관리 기후변화 재난 환경 등 국 폐기물 관리 초점 일본 자원 순환 우리나라 재생 자원 환경 평가 중국 위험 폐기물 관리 등 논의 예정 또한 우리나라 어린이 환경 보건 문제 해결 위해 어린이 환경 보건 새 우선 협력 사업 제안 예정 우선 우리나라 일본 간 어린이 환경 보건 공동 연구 협약 체결 회의 평가 및 관리 통한 담수 환경문제 해결 이란 주제 국제 워크숍 개최 워크숍 후쿠시마 타케히코 카스 가우 환경과학 센터 장의 기조 연설 비롯 녹조 퇴적물 등 수질오염 각국 수질 개선 위 노력 등 그간 국 수행 편의 연구 결과 발표 박진원 국립 환경과학 원장 이번 회의 제시 국 최신 공동 연구 성과 동북아 환경 연구 발전 토대 것 이 라며 이번 회의 계기 아시아 환경 현안 해결 위 실 용적 공동 연구 협력 지속 적 강화 것 말 한중일 환경과학 원장 회의 일정 질의 응답 전문용어 설명 끝',\n",
       " '멸종위기종 대모 잠자리 국립생태원 습지 마리 이상 발견 멸종위기종 대모 잠자리 국립생태원 습지 마리 이상 발견 국립생태원 건립 당시 조성 의 습지 멸종위기 야생 생물 급 대모 잠자리 마리 이상 서식 확인 인공 습지 멸종위기종 대규모 발견 이례 적 현상 환경부 장관 윤성규 국립생태원 원장 최재천 은 멸종위기 야생 생물 급 대모 잠자리 충남 서천군 국립생태원 일대 인공 습지 마리 이상 살 것 최근 발견 대모 잠자리 멸종위기 야생 생물 급 처음 지정 갈대 수생 식물 유기물 풍부 갯벌 연못 습지 등 서식 배 길이 뒷날 개 길이 로 몸 갈색 바탕 등 성충 통상 활동 서해안 일대 김포 등 일부 지역 몇 마리 관찰 해외 일본 중국 등지 분포 대모 잠자리 국내 인 공적 조성 습지 발견 것 이번 처음 발견 대모 잠자리 규모 볼 때 국립생태원 습지 대모 잠자리 국내 최대 서식 처 예상 이 일대 습지 국립생태원 건립 당시 기존 논밭 근처 연못 물 다가 규모 조성 곳 이 곳 갈대 애기 부들 연꽃 어리연꽃 세모 랭 등 여종 수생 식물 어류 물새류 포유류 등 다양 동식물 살 수서곤충 연못 하루살이 비롯 너구리 멧토끼 고라니 왜가리 등 다양 야생동물 관찰 국립생태원 연 구진 현재 대모 잠자리 유입 경로 이 곳 일대 인공 습지 친환경 적 습지 조성 생물다양성 보전 위 엄격 관리 대모 잠자리 서식 환경 영향 것 보고 또한 국립생태원 습지 앞 인공 습지 조성 본보기 활용 수 것 기대 최재천 국립생태원 장 국립생태원 출현 대모 잠자리 인공 습지 자 연적 복원 특이 사례 지속 적 보전 보호 위해 다각 적 노력 말 대모 잠자리 출현 지역 질의 응답 전문용어 설명 끝 관련 영상 자료 환경부 웹하드 게재',\n",
       " '가습기 살균제 등 유해 화학물질 노출 분야 서울 아산병원 환경 보건 센터 가습기 살균제 등 유해 화학물질 노출 분야 서울 아산병원 환경 보건 센터 유해 화학물질 노출 분야 환경 보건 센터 서울 아산병원 지정 가습기 살균제 건강 피해 체계 적 조사 연구 피해자 대한 지속 적 건강 모니터링 인과관계 조사 연구 환경부 장관 윤성규 유해 화학물질 노출 분야 환경 보건 센터 지정 서울 아산병원 환경 보건 센터 센터 장 홍수 종 개 소한 고 이번 개 소하 유해 화학물질 노출 분야 환경 보건 센터 국정 과제 환경성 질환 예방 관리 체계 구축 기여 가습기 살균제 등 유해 화학물질 노출 건강 영향 인과관계 체계 적 조사 연구 또한 가습기 살균제 피해자 가족 등 대상 장 기적 건강 모니터링 정신건강 상담 및 치료 등 수행 현재 진단 이나 판단 기준 마련 가습기 살균제 폐 이외 장기 간 신장 심장 등 의 영향 대해 체계 적 조사 및 연구 실시 계획 윤성규 환경부 장관 오후 서울 아산병원 환경 보건 센터 개소 지정 를 교부 유해 화학물질 노출 건강 영향 대하 다양 조사 연구 가습기 살균제 피해자 질 환경 보건 서비스 제공 줄 것 당부 예정 환경 보건 센터 지정 서울 아산병원 지난 명의 원인 미상 중증 폐질 환자 발견 질병 관리 본부 역학 조사 실시 수 도록 조치 바 환자 진료 경험 전문성 바탕 가습기 살균제 피해자 대한 건강 영향 조사 개별 피해자 대한 진단 및 판정 업무 등 수행 한편 환경부 환경성 질환 환경 요인 간의 상관 성 조사 연구 환경성 질환 예방 관리 위해 부터 질환 별로 환경 보건 센터 지정 운영 중이 현재 알레르기 질환 소아 발달장애 소아 암 중금속 노출 등 분야 별로 전국 개 병원 대학 등 지정 운영 중이 각 센터 병원 대학교 등 전문 인력 장비 활용 매년 원 규모 국비 자체 부담 금 사업 수행 전국 개 환경 보건 센터 지정 현황 현대 아산병원 제외 임자 료 참조 환경 보건 센터 지정 운영 현황 질의 응답 전문 용어 설명 끝',\n",
       " '다도해 해상 국립공원 멸종위기종 유착 나무 돌산 호 발견 멸종위기 야생 생물 급 유착 나무 돌산 호 올해 국립공원 내 무인도 정밀 조사 중 발견 바다 종 과거 남해안 발견 어업 용 로프 등 훼손 서식지 환경부 국립공원 관리 공단 다도해 해상 국립공원 금오도 지구 등 곳 섬 멸종위기 야생 생물 급 유착 나무 돌산 호가 살 것 최근 확인 국립공원 관리 공단 규모 작고 바위 접근성 어진 해상 해안 국립공원 내 곳 무인도 대상 부터 까지 생태계 정밀 조사 유착 나무 돌산 호 서식지 올해 다도해 해상 국립공원 내 속 곳 무인도 조 사하 과정 중 발견 이번 서식지 곳 발견 유착 나무 돌 산호 수심 크기 대형 군체 개 수심 크기 중형 군체 개 수심 크기 이하 개 등 총 개 군체 나무모 양 골격 주황색 체색 노란색 촉수 특징 유착 나무 돌 산호 바다 나무 돌산 호과 속 종 과거 우리나라 남해안 동해안 발견 어업 용 로프 폐어 구 등 훼손 점차 서식지 지난해 독도 국내 최대 규모 의 유착 나무 돌산 호 군집 발견 다도해 해상 국립공원 곳 섬 전남 여수시 곳 섬 다도해 해상 국립공원 곳 섬 전남 완도군 곳 섬 년도 려 해상 국립공원 곳 섬 울릉도 통영시 한산도 등 서도 각각 서식 확인 바 한편 국립공원 관리 공단 지난해 다도해 해상 태안 해안 려 해상 등 해상 해안 국립공원 내 무인도 곳 생태계 조사 결과 신종 후보 종 말미잘 류 국내 미기 록종 종 꼬리풀 류 종 말미잘 류 종 이끼 벌레 류 종 조개 사돈 류 종 연체 류 종 멸종위기 야생 생물 종 풍란 매 새호리기 물수리 섬개개비 수달 등 발견 국립공원 관리 공단 이 생물 발견 서식지 국립공원 특별 보호 구역 지정 일반인 출입 금 지하 등 중요 자연자원 보전 김철 국립공원 관리 공단 해양 자원부 장 올해 여 곳 해상 해안 국립공원 내 무인도 추가 조사 까지 총 곳 국립공원 내 무인도 생태계 정밀 조사 완료 예정 유착 나무 돌산 호 세부 설명 자료 관련 사진 전문용어 설명 질의 응답 끝',\n",
       " '국립생태원 생태 공감 마당 평창 개최 생태 공감 마당 강원도 평 창강 생태 전문가 설명 생태계 관찰 현장 체험 교육 아름 다운 경관 생물다양성 풍부 평창군 채 생태 체험 행사 진행 환경부 국립생태원 원장 이희철 은 생물다양성 의식 함양 위해 생태 전문가 아가 현장 체험 교육 생태 공감 마당 강원도 평창군 평창 강 일대 개최 생태 공감 마당 은 생태학 전문가 설명 참가자 직접 생물 채집 관찰 생태계 탐험 교육 프로그램 부터 시작 올해 행사 식물 조류 등 개 분야 평창 다양 생태계 체험 조사 자료 종합 토론 평창 생태계 생물다양성 현황 공유 참가자 채집 생태계 교란 식물 화분 어항 전시 생태계 교란 생물 전시 부스 국립생태원 연구 전시 교육 현황 종합 연구 부스 등 다양 연구 전시 부스 생태 관련 콘텐츠 구성 증강현실 체험 압화 만들기 체험 등 다양 체험 부스 통해 관람객 즐 길거리 제공 또한 동계올림픽 개최 평창군 아름 다운 자연 우수 생태계 널리 알리 계기 마련 위해 올림픽 마스코트 사진 찍기 등 다양 행사 열 린다 이희철 국립생태원 장 이번 생태 공감 마당 행사 계기 생물다양성 보전 생 물자원 가치 대한 인식 제 수 것 기대 고 생태 공감 마당 서울 양평 대전 등 다양 지역 올해 까지 총 명 참가 생태 공감 마당 계획 생태 공감 마당 세부 일정 생태 공감 마당 행사 장 배치도 생태 공감 마당 사진 질의 응답 끝',\n",
       " '미생물 혼합 체 세제 공장 작업복 세탁 국립 낙동강 생 물자원 관 포스코 휴먼 스 공장 작업복 기름 때 제거 친환경 미생물 종 혼합 체 특허 출원 말 목표 친환경 세제 실용 화 추진 환경부 국립 낙동강 생 물자원 관 관장 안영 은 사회 적 기업인 포스코 휴먼 스 공동 연구 통해 공장 작업복 기름 때 분 해하 친환경 미생물 혼합 체 특허 출원 말 실용 화 목표 친환경 세제 개발 예정 이번 친환경 미생물 혼합 체 국내 자생 미기 록 원핵생물 종인 로도코커스 속 균주 넵튜노 모나스 속 균주 알 카니 보 락스 속 균 주가 기름 때 제거 능력 이용 것 국립 낙동강 생 물자원 관 연 구진 친환경 미생물 종 혼합 체 세탁 능력 실험 결과 기름 때 작업복 미생물 혼합 체 전 처리 경우 일 반적 화학 세제 세탁 때 비교 두 배 이상 우수 세척 효과 전 처리 기본 반응 이나 가공 앞서 화학 적 물리 적 작용 예 비적 처리 친환경 미생물 혼합 체 과 배양 액 기름 오염 공작 작업복 벌 시간 후 대형 세탁기 시간 동안 세탁 일반화학 세제 세척 작업복 육안 비교 결과 기름 때 두 배 이상 제거 국립 낙동강 생 물자원 관 올해 월부 터 포스코 휴먼 스 공동 연구 통해 이번 친환경 미생물 혼합 체 개발 포스코 휴먼 스 우리나라 대표 철강업 체인 포스코 속 사회 적기 업 명 직원 중 장애 직원 포스코 계 열사 대상 공작 작업복 세탁 서비스 수행 이 기관 말 실용 화 목표 미생물 혼합 체 이용 친환경 세제 개발 추진 예정 안영 국립 낙동강 생 물자원 관장 이번 연구 결과 산 업체 연구기관 협력 국내 보고 미생 물자원 활용 친환경 제품 개발 사례 것 이 라며 앞 산업 체 현장 어려움 해 결하 담수 생물 실증 화 개발 계획 말 혼합 체 구 성하 미생물 종 기름 때 오염 작업복 세척 실험 결과 질의 응답 전문용어 설명 끝',\n",
       " '고전 생태 만남 생태 돋보기 시리즈 신간 간 고전 생태 만남 생태 돋보기 시리즈 신간 간 국립생태원 조상 철학 우리 속담 과 안데르센 동화 속 생태 정보 구성 시리즈 물 신간 간 고전 교훈 생태 정보 동시 접 융 복합 형 콘텐츠 환경부 국립생태원 이야기 생태 정보 동시 접 수 아동 도서 생태 돋보기 다시 우리 속담 편 생태 돋보기 다시 안데르센 동화 편 등 권 신간 발간 우리 속담 편 아이 꼭 알 아야 속담 편 주제가 날 수 도록 쇠 불가사리 도깨비 개암 별주부전 등 널리 옛이야기 활용 거나 최근 아이 일상 생활 동화 형식 구성 속담 이야기 뒤 책 동식물 대한 호기심 궁금증 해결 가람 박사 생태 이야기 꼭지 수록 생태 정보 자연 연결 안데르센 동화 편 안데르센 대표 작품 인어공주 아기 오리 임금님 등 어린이 인기 편 수 도록 구성 동화 이야기 뒤 동화 주제 관련 재미 생태 정보 하늬 박사 생태 이야기 를 개 총 꼭지 수록 생태 흥미 롭 수 도록 구성 우리 속담 편 안데르센 동화 편 전국 서점 이 달 중 판매 예정 가격 각각 생태 돋보기 다시 시리즈 명작 동화 더 불어 이야기 속 생태 정보 구 성하 고전 삶 지혜 생태 관련 궁금증 번 습득 수 도록 기획 아동 도서 이 시리즈 국립생태원 연구원 개발 직접 참여 원고 사진 그림 감수 고전 생태 정보 균형 또한 구어 체 구 성하 자칫 아이 수 고전 생태 정보 접근 수 도록 구성 마지막 아보 기 를 책 생태 정보 볼 수 지난해 간 생태 돋보기 다시 이솝 우화 편 미래창조과학부 우수 과학 한국 출판 문화 산업 진흥 원 청소년 추천 도서 등 선정 등 독자 로부터 호평 국립생태원 고전 생태 만남 이 시리즈 특 장점 후속 권 지속 적 개발 예정 내년 상반기 백설공주 등 그림형제 동화 편 서양 삶 교훈 세계 속담 편 간 예정 김웅 식 국립생태원 생태 지식 문화 부장 이번 아동 도서 시리즈 고전 생태학 만남 측면 의미 시도 라며 앞 다양 학문 결합 통해 국민 생태 수 콘텐츠 계획 국립생태원 생태 돋보기 다시 시리즈 안내 질의 응답 전문용어 설명 끝',\n",
       " '국립공원 시설 예약 부도 자 최대 개월 이용 제한 대피소 야영장 예약 부도 낼 때 일부 터 이용 제한 정책 실시 사용 일전 문자 알림 서비스 국립공원 시설 예약 문화 정착 기대 환경부 국립공원 관리 공단 이사장 권 업 은 대피소 야영장 등 국립공원 시설 예약 이용 사용자 개월 최대 개 월간 이용 제한 정책 일부 터 실시 이번 정책 국립공원 시설 예약 부도 다수 사용자 이용 기회 늘 리기 위해 마련 이 당일 취 소자 예약 부도 자 개월 이상 예약 부도 자 개 월간 국립공원 시설 이용 일 시적 제한 다만 이내 추가 적 예약 부도 사실 경우 모든 기록 소멸 예약 부도 자 이용 제한 적용 시설 국립공원 대피소 곳 야영장 곳 태백산 민박 촌 탐방 예약 제 개 구간 국립공원 관리 공단 이번 정책 본격 적 시행 일부 터 달 예약 사이트 등 통해 관련 정보 예정 국립공원 관리 공단 시설 사용 일전 예약 역 문자 안내 사용 불가능 경우 사전 취소 수 도록 사전 알림 서비스 실시 계획 국립공원 관리 공단 최근 국립공원 대피소 곳 예약 부도 율 파악 결과 지난해 주말 기준 평균 약 의 예약 부도 발생 것 폭 중청 소청 등 설악산 대피소 예약 부도 율 평균 기간 동안 국립공원 야영장 곳도 평균 약 의 예약 부도 발생 가야산 삼정 야영장 치악산 금대 에코 힐링 야영장 지리산 원 야영장 등 평균 이상 예약 부도 발생 주말 마다 예약 만석 면서 인기 월악산 돈재풀 옵션 캠핑장 약 의 예약 부도 발생 성수 기인 예약 부도 발생 것 나타 당일 예약 취소 및 부도 합산 지난해 실률 대피소 야영장 로 나타 당일 예약 취소 경우 시간 촉박 때문 다른 사용자 이용 고스 란 공 실로 강동 익 국립공원 관리 공단 탐방 정책 부장 비록 예약 때 시설 이용 금 사전 더라도 취소 사유 발생 때 다른 사람 사용 수 도록 최소 이틀 전 예약 취소 말 국립공원 관리 공단 예약 사이트 를 통해 대기 신청 예약 취소 발생 경우 다음 순위 예 약자 문자 즉각 서비스 시행 국립공원 예약 문화 정착 위 개선 방안 관련 사진 용어 설명 질의 응답 끝',\n",
       " '중소기업 손 잡고 베트남 물 시장 개척 나선 중소기업 베트남 물 산업 박람회 비엣 워터 참가 해외 시장 우리 기업 스마트 물관 리 역량 홍보 및 판로 개척 지원 환경부 한국 수자원공사 사장 이학수 국내 중소기업 베트남 스마트 물관 리 시장 개척 단 구성 일부 터 까지 베트남 경제 중심지 호치민시 비엣 워터 참가 비엣 워터 베트남 건설부 주 최하 베트남 최대 규모 방문객 명 이상 물 산업 박람회 부터 매년 지난해 싱가포르 일본 프랑스 호주 등 개국 개 기업 참가 이번 베트남 시장 개척 단 양수기 플로 트형 응집 기 및 경사 판 침전 기 로얄 정공 자동 원심 탈수 기 미래 앤 아이 태양광 녹조 제거 기 삼성 계기 폴리카보네이트 신소재 계량기 썬텍 엔지니어링 사물인터넷 융합 수질 계측기 우영 엔지니어링 전기분해 방식 비소 제거 장치 유솔 사물인터넷 융합 누수 감지 장비 이상 개 기업 참여 이 기업 한국 수자원공사 댐 정 수장 성능 시험 장 테스트 베드 로 활용 제품 개발 거나 공사 중소기업 지원 위해 추진 각종 협업 과제 시범 사업 등 참여 한국 수자원공사 박람회 기간 동안 시장 개척 단 스마트 물관 리 홍보 관 운영 정보통신기술 사물인터넷 등 스마트 기술 융합 제품 기술 등 전시 기업 별 현장 구매 상담 등 통해 적 극적 판로 확보 계획 한국 수자원공사 올해 초 부터 총 베트남 인도네시아 싱가포르 필리핀 주요 물 산업 행사 시장 개척 단 구성 참가 현재 까지 개 중소기업 시장 개척 단 참여 참여 기업 대부분 시장 개척 단 해외 판로 확보 도움 지속 적 참여 의향 베트남 국제 물주 간 비엣 워터 인도네시아 국제 물주 간 싱가포르 국제 물주 간 필리핀 아시아 개발 행 워터 포럼 한국 수자원공사 시장 개척 단 통해 베트남 비롯 해외 물 시장 우리 기업 우수 물관 리 역량 효과 적 알리 중소기업 해외 잠재 고객 접점 확대 수 것 기대 이학수 한국 수자원공사 사장 한국 수자원공사 보유 역량 자원 바탕 중소기업 국내외 물 산업 주역 성장 수 도록 적극 지원 한편 베트남 연 의 경제성장 보이 투자 유망 국가 영국 물 전문 연구기관 더블유 아이 베트남 수자원 기반시설 투자 까지 약 달러 천억 원 규모 확대 전망 베트남 스마트 물관 리 시장 개척 단 개요 스마트 물관 리 개요 끝',\n",
       " '국립공원 봄꽃 나들이 국립공원 봄꽃 나들이 국립공원 별 봄꽃 탐방 적정 시기 관찰 장소 소개 국립공원 관리 공단 이사장 박보환 이 국립공원 봄꽃 나들이 탐방 객 위해 별로 국립공원 내 볼 수 봄꽃 종류 개화 시기 장소 등 공개 공단 봄꽃 먼저 수 곳 해상 국립공원 도서 지역 추천 가정 먼저 봄 알리 꽃 동백꽃 중순 개 려 해상 국립공원 지심 내 도의 동백나무 군락 다도해 해상 국립공원 거문도 보길도 등 동백꽃 절정 초면 다도해 국립공원 관매도 장산 평 마을 앞 의 들판 유채꽃 뒤 아름 다운 경관 볼 수 말 태안 해안 국립공원 해변 길 갯메꽃 군락 모래언덕 이 국적 경관 연출 전국 국립공원 봄꽃 북상 탐방 객 눈 것 지리산 국립공원 일대 초가 지리산 자락 빛 산수유 꽃 만날 수 시기 계룡산 국립공원 입구 부터 동학사 벚꽃 길이 장관 이 벚꽃 길 년 이상 겹 벚꽃 피어 봄 기운 만끽 수 경주 국립공원 소나무 군락 아래 분홍 빛 진달래 군락 말 부터 자태 공단 수도권 지역 탐방 객 위해 북 한산 국립공원 일대 봄꽃 탐방 최적 시기 구간 소개 초면 북한 산 둘레길 평창 마을 길 구간 은 개 산벚나무 꽃 만날 수 이 구간 경사 가족 봄 나들이 제격 구간 중순 이면 진달래 군락 볼 수 북한 산 둘레길 흰구름 길 구간 과 진달래 능선 강북구 수유동 도 추천 공단 국립공원 희귀 식물 관찰 수 시기 구간 안내 희귀 식물 히어리 말 부터 지리산 국립공원 뱀 사골 자연 관찰 볼 수 생강 냄새 이름 여진 생강나무 말 이면 전국 국립공원 탐방 관찰 수 모 데미 풀 동의 나물 말 이면 덕유산 구천동 계곡 완만 경사 모습 볼 수 정장훈 국립공원 관리 공단 홍보 실장 국립공원 봄꽃 탐방 산 과바 고 계곡 구간 단순 나들이 몸 마음 정화 수 시간 것 말 국립공원 별 봄꽃 관찰 시기 및 장소 질의 응답 전문 용어 설명 끝 관련 영상 및 사진 환경부 웹하드 게재',\n",
       " '수도권 날림 먼지 발생 사업 장 무더기 규정 위반 수도권 날림 먼지 발생 사업 장 무더기 규정 위반 한강 청 날림 비산 먼지 발생 사업 장 곳 현장 점검 결과 인 곳 건 위반 사항 적발 방진 덮개 설치 토사 공공 수역 무단 방출 등 환경 관리 뒷전 한강유역환경청 청장 홍정기 은 올해 일부 터 까지 수도권 일대 곳 날림 비산 먼지 발생 사업 장 특별 점검 결과 해 당하 곳 건의 위반 사항 적발 이번 특별 점검 봄철 황사 등 미세먼지 국민 건강 우려 가운데 대형 공사 장 등 날림 먼지 발 생원 대한 지도 관리 필요성 대두 실시 점검 대상 사업 장 인천광역시 남양주시 성남시 용인시 등 수도권 일대 건설 폐기물 처리 업체 대형 공사 장 등 곳 한강유역환경청 차량 바퀴 세척 물 뿌리 기 여부 수송 시설 덮개 함 설치 방진 막 설치 여부 등 현장 중점 적 점검 일부 터 까지 건설 폐기물 처리 업체 곳 점검 결과 인 곳 날림 먼지 무단 배 출하 등 규정 위반 것 나타 일부 터 까지 대형 공사 장 곳 점검 결과 인 곳 토사 날림 먼지 억제 시설 등 규정 위반 이번 특별 점검 결과 주요 위반 역 다음 건설 폐기물 처리 업체 곳 날림 먼지 방진 덮개 설 치하 적하 토사 날림 등 먼지 발생 고발 조치 건설 폐기물 처리 업체 곳 고발 조치 범죄 사실 재판 확인 사항 며 세부 명단 비공개 함대 길 그린 현대 환경 도성 환경 개발 도 디아 신명 등 곳 폐기물 보관 관리 기준 위반 과태 처분 또한 토 개발 은 비점 오염원 설치 신 고하 신고 상태 조업 사실 확인 고양시 용인시 등 택지 도로 건설 현장 곳 토사 방진 덮개 세륜 세차 시설 등 날림 먼지 억제 조치 공사 강행 흙 먼지 등 관련 규정 위반 경기 남양주시 위치 고속도로 건설 현장 토사 공공 수역 수질오염 하천 생태계 악 영향 사실 적발 일부 건설업 체 고발 조치 범죄 사실 재판 의 확인 사항 며 세부 명단 비공개 함 한국 토지 주택 공사 양주 사업 본부 경기도 시공사 대보 건설 미화 산업 신한 토건 한라 등 곳 사업 장 폐기물관리 미흡 토사 등 비점 오염 물질 유출 등 규정 위반 과태료 처분 한국 토지 주택 공사 경 기지역 본부 제 경인 연결 고속도로 등 곳 물 찌꺼기 가라 시설 폐쇄 변 경신고 채 토목공사 시행 정황 확인 경기도 시공사 서울 북부 고속도로 수암 광업 인천 김포 고속도로 덕송 내각 고속 화도 표 산업 화성 사업 소 등 곳 과도 공사 사면 절취 행위 날림 먼지 감 등 사후 환경 영향 조사 미실 시 등 환경 영향 평가 협의 내용 제대로 이행 승인 기관 통해 과태료 부과 등 이행 조치 요청 그 대우건설 포스코건설 온 산업 개발 등 곳 공사 장 출입 차량 바퀴 토사 제거 세륜 시설 동하 공사 차량 출입 면서 날림 먼지 발생 또한 골재 이송 면서 비산 먼지 발생 방 지하 덮개 설 치하 조업 적발 이 개선 명령 한강유역환경청 이번 적발 곳 업체 대해 해당 관할 청 해당 시설 개선 명령 이행 조치 명령 등 행정처분 의뢰 이 중 건 한강유역환경청 수사 고발 조치 한강유역환경청 수도권 일대 미세먼지 문제 그 원인 복합 적 이기 때문 행정기관 관리 감독 일시 해결 상황 보고 다만 이번 특별 단속 주민 피해 등 환경 관리 뒷전 눈앞 이익 신경 업체 경종 바 한강유역환경청 일부 터 까지 대형 건설 사업 장 대한 단속 확대 실시 등 수도권 대기 질 개선 위해 지속 적 관리 감독 강화 계획 비산 먼지 다량 발생 사업 장 위반 현황 전문용어 설명 질의 응답 끝',\n",
       " '멸종위기종 급 산양 마리 오대산 자연 방사 멸종위기종 급 산양 마리 오대산 자연 방사 국가 보호 생물 종 산양 보호 위 환경부 문화재 청 간 협업 산양 개체 추가 방사 유전 적 다양성 향상 기대 환경부 장관 윤성규 국립공원 관리 공단 이사장 박보환 이 멸종위기 야생 생물 급 이자 천연기념물 제 호인 산양 마리 증식 마리 교류 마리 를 오대산 국립공원 자연 방사 이번 방사 산양 지난해 국립공원 관리 공단 종 복원 기술 원 북부 복원 센터 증식 계류 시설 수컷 암컷 각 마리 문화재 청 양구 산양 증식 복원 센터 관리 수컷 마리 암컷 마리 이번 방사 멸종위기 야생 생물 환경부 과 천연기념물 문화재 청 로 지정 국가 보호 생물 종 산양 대한 환경부 문화재 청 간 공동 복원 사업 일환 정부 부처 간 협업 점 그 의미 이후 양 기관 지속 적 교류 사업 진행 환경부 문화재 청 양구 산양 증식 복원 센터 관리 산양 도 입하 월악산 마리 오대산 마리 를 방사 함 방사 대상 지인 오대산 노인 봉 바 골 은 현재 산양 마리 살 국도 호선 서식지 단절 상황 다른 지역 선적 산양 개체 수 확대 필요 지역 환경부 지난 부터 까지 오대산 국립공원 일대 산양 개체 수 조사 결과 로봉 마리 동대 산 마리 호령 봉 마리 노인 봉 마리 수골 마리 황병산 마리 등 총 마리 산양 살 것 나타 오대산 산양 복원 사업 까지 자체 존속 가능 개체 이상 서식 목표 추진 환경부 지속 적 방사 통해 자연 개체 번식 유도 개체 수 변동 상황 면밀 관찰 계획 송동주 국립공원 관리 공단 종 복원 기술 원 원장 백두대간 내 산양 생태 축 서식지 파편 화 등 다양 요인 단절 상태 라며 이번 방사 통해 산양 개체 수가 확대 유전 적 다양성 증대 것 말 종 복원 기술 원 백두대간 산양 생태 축 복원 위해 북부 권 설악산 오대산 비무장지대 중부 권 월악산 속리산 울진 삼척 남부 권 지리산 덕유산 등 권역별 핵심 지역 중심 복원 사업 추진 중이 방사 개체 현황 관련 사진 백두대간 산양 생태 축복 원사 업 개요 질의 응답 전문 용어 설명 끝',\n",
       " '환경부 세계 물포 럼 지속 가능 물 환경 정책 발전 물 산업 활성화 청사진 제시 환경부 세계 물포 럼 지속 가능 물 환경 정책 발전 물 산업 활성화 청사진 제시 지속 가능 물관 리 및 생태계 보전 주제 장관 급 원탁 회의 장관 급 선언문 발표 각국 양해각서 체결 양자 회담 개최 수도 기술 발전 협의 회 발 족하 물 산업 클러스터 조성 추진 국물 산업 협의 회 설립 물 산업 발전 발판 마련 환경부 장관 윤성규 일부 터 까지 대구 엑스코 경주 하이 코 현대 호텔 개최 제 차 세계 물포 럼 전세계 상대로 지속 가능 물 환경 정책 발전 물 산업 활성화 위 청사진 제시 윤성규 환경부 장관 행사 정치 적 과정 개 장관 급 원탁 회의 중 지속 가능 물관 리 및 생태계 보전 크리스토퍼 브릭스 람사르 협약 사무 총장 공동 주재 이 회의 윤성규 장관 수질 관리 수 생태계 지속 가능 발전 관련 각국 난제 공유 지속 가능 물 관리 중요성 부각 회의 면서 각국 참여 협력 해결 미래 과제 논의 고 평가 참석 국 케냐 미얀마 파푸아뉴기니 장관 일본 세이셸 공화국 우즈베키스탄 나이지리아 차관 오스트레일리아 인도네시아 국제 기구 유엔 아태 경제사 회 위원회 람사르 협약 물 위생 관 사무 총장 자문 위원회 세계 자연보호 기금 날 오후 장관 급 회의 참석자 회의 결과 제 차 세계 물포 럼 각료 선언문 채택 물 문제 글로벌 환경 기후변화 의제 부각 개도국 물 문제 수자원 관리 기술 확산 비즈니스 모델 개발 등 통해 적극 지원 결의 환경부 세계 물포 럼 기간 중 조지아 구 그루지아 환경 자연자원 보호 부와 환경 협력 양해각서 를 체결 유엔 사 무부 총장 사무 총장 등 국제 기구 및 알제리 덴마크 러시아 태국 파키스탄 등 양자 회담 통해 물 기후변화 폐기물 등 분야 별 협력 방안 논의 앞 협력 강화 나 가기 조지아 최근 상 하수도 등 환경 기초 시설 대폭 확충 국가 로써 이번 양해각서 체결 통 우리나라 환경 산업 조지아 진출 기회 확대 것 기대 러시아 우리나라 멸종위기종 복원 사업 적극 협력 온 국가 로써 앞 반달가슴곰 및 황새 등 우리나라 멸종위기종 복원 사업 위 양국 협력 강화 합의 현재 자국 비위 생 매립지 대대 적 정비 계획 태국 우리나라 지난 축적 온 비위 생 매립지 정비 기술 경험 활용 방안 등 양국 협력 방안 대한 의견 엘 하라 쉬 하천 복원 사업 국내 기업 참여 경험 알제리 하수 슬러지 감 및 처리 생태계 보전 분야 등 양국 협력 강화 방안 논의 얀 엘 리아 슨 유엔 부 사무 총장 박근혜 대통령 언급 북한 물 협력 물 외교 가능성 관심 보이 면서 유엔 차원 협력 지지 약속 한편 환경부 세계 물포 럼 행사 일환 서울시 등 특 광역시 상수도 사업 본부 환경 공단 상 하수도 협회 등 개 기관 참여 수도 기술 발전 협의 회 구성 위 협 약식 개최 이번 협의 회 발족 물 기업 기술 개발 사업 화 해외진출 전주 기 맞춤 형 지원 위 국가 물 산업 클러스터 조성 사업 국물 산업 협의 회 의 설립 물 기업 글로벌 시장 진출 발판 것 환경부 세계 물포 럼 국제 적 행사 로만 것 물 산업 대구 경북 역 거점 국가 성장동력 사업 성장 고 국제 적 물 문제 논의 선 도적 참여 우리나라 물 환경 정책 한단 계 발전 계기 고 평가 또한 이번 세계 물포 럼 물 문제 해결 위 서로 지식 경험 공 유하 자리 이자 대구 경북 지역 경험 기술 력 세계 각국 전문가 알리 기회 궁 극적 우리 기업 해외 진출 디딤돌 것 기대 장관 급 과정 라운드테이블 결과 물 산업 클러스터 조성 사업 개요 끝',\n",
       " '올해 달 노후 석탄 발전소 가동 중단 미세먼지 감 효과 나타 충남 지역 실 결과 지난 평균 치 대기 모델링 결과 충남 전역 낮 아지 최대 영향 지점 월 평균 일 최대 시간 최대 환경부 장관 김은경 산업 통상 자원부 장관 운규 국립 환경과학 원 원장 박진원 은 올해 달 전국 기 노후 석탄 발전소 충남 기 경남 기 강원 기 를 가동 중단 결과 충남 지역 중심 미세먼지 농도 개선 효과 발표 우선 충남 지역 개 지점 미세먼지 농도 실 결과 이번 가동 중 단기간 미세먼지 농도 평균 치 평균 치 인 이 감소 한편 석탄 발전소 가동 중단 감 효과 실 결과 인 나타 다만 최대 영향 점 보령 화 약 어진 지점 월 평균 일 최대 시간 최대 감소 등 개선 배출 량 감 배출 량 감 가동 중지 충남 화력발전 보령 서천 기 의 국가 배출 량 자료 실시간 굴뚝 원격 감시 시스템 의 측정 자료 활용 직접 배출 미세먼지 차 생 미세먼지 유발 전구 물질 황산화물 질소 산화물 동시 분석 분석 결과 충남 보령 서천 화력발전소 기 가동 중단 톤 미세먼지 감 전국 기 가동 중단 톤 미세먼지 감 전체 석탄 발전소 기 미세먼지 배출 량 톤 약 해 당하 양 예상 배출 량 대비 수준 농도 측정 결과 충남 지역 대기 중 농도 측정 반경 내 측정 망 측정 차량 간이 측정기 활용 개 지점 진행 국가 지자체 측정 망 발전소 측정 망 측정 차량 간이 측정기 미세먼지 농도 변화 평균 대비 감소 것 조사 올해 경우 강수일 수 평균 풍속 등 기상 요인 예년 유사 수준 었으 풍향 등 기상 요인 외부 오염 물질 유입 예년 유리 조건 형성 것 파악 모델링 결과 지난 의 기상 조건 반영 노후 화력발전소 정 상가 동시 가동 시 배출 량 차이 기질 모델링 기법 적용 기상 관측 자료 모델링 결과 차이 제외 노후 화력발전소 가동 시 배출 량 입력 결과 가동 시 배출 량 입력 결과 비교 분석 기법 모델링 결과 노후 발전소 가동 중단 기간 충남 지역 미세먼지 최대 영향 점 미세먼지 농도 감소 월 평균 오염 일 최대 시간 최대 로 분석 개선 효과 미세먼지 차 배출 감소 황산화물 질소 산화물 차 생 미세먼지 감소 주로 기인 미세먼지 측정 결과 대기 모델링 종합 결과 충남 지역 미세먼지 월 평균 감소 이 중 노후 발전소 가동 중지 효과 나머지 은 다른 오염원 영향 감소 국 지적 기상 여건 등 복합 적 작용 것 추정 분석 결과 의미 월 평균 미세먼지 농도 개선 효과 것 분석 인체 위해 성 관점 중요 단기간 감소 효과 상 대적 더 것 분석 일 최대 시간 최대 참고 국립 환경과학 원 서울시 민 대상 수행 연구 결과 미세먼지 평상 시 대비 아지 사망률 전연 령 세 이상 등 취약 군 증가 것 나타 환경부 국립 환경과학 원 산업 통상 자원부 이번 달 간의 조사 결과 앞 석탄 화력발전소 정책 결정 활용 계획 내년 석탄 화력발전소 가동 중지 효과 지속 적 조사 계획 김정수 국립 환경과학 원 기후 대기 연구 부장 이번 조사 통해 노후 석탄 화력발전 가동 중단 미세먼지 단기간 고 농도 사례 관 리하 데 효과 적임 알 수 고 말 가동 중단 전 후 농도 차이 모델링 대기 질 측정 지점 위치 가동 중단 노후 화력발전소 현황 질의 응답 전문용어 설명 끝',\n",
       " '코리아 등 종 배출 가스 부품 결함 시정 코리아 등 종 배출 가스 부품 결함 시정 등 종은 연료 분사기 제작 불량 미니쿠퍼 등 종은 연료 펌프 오작 개선 위해 결함 시정 리콜 조치 일부 터 코리아 주 서비스 센터 부품 무상 수리 환경부 장관 윤성규 코리아 주 미니쿠퍼 등 차종 총 대의 배출 가스 부품 개선 위 결함 시정 리콜 일부 터 실시 결함 시정 부품 및 대상 차종 결함 시정 부품 및 대상 차종 목록 결함 시정 부품 연료 분사기 차종 연료 펌프 차종 대상 차종 총 코리아 주 연료 분사기 연료 펌프 결함 건수 결함 비율 환경부 정 의무 적 결함 시정 요건 초과 해당 차종 소유자 무상 부품 교체 의무 적 결함 시정 요건 대기 환경보전 법 시행 령 제 연도 판매 동일 차종 동일 부품 결함 비율 이상 결함 건 수가 건 이상인 경우 일부 터 까지 독일 생산 등 종은 연료 분사기 불량 열 보상 오일 고착 화 연료 필터 불순 물 제거 성능 불량 것 확인 연료 분사기 불량 종 일부 터 까지 독일 생산 미니쿠퍼 등 종은 연료 펌프 내부 균열 발생 등 정 상적 작 동하 것 확인 연료 펌프 내부 균열 종 일부 터 해 까지 독일 생산 연료 분사기 연료 펌프 모두 교체 필요 것 연료 분사기 연료 펌프 이상 경우 차량 연료 공급 및 연료 공기 혼합 이상 발생 경우 차량 질소 산화물 등 대기오염 물질 배출 증가 시동 걸 리지 거나 차량 출력 저하 문제점 발생 코리아 주 해당 차종 소유자 결함 시정 사실 알리 연료 분사기 연료 펌프 무상 교체 계획 해당 차종 소유자 일부 터 코리아 주 서비스 센터 연료 분사기 및 연료 펌프 교체 무상 수 기타 자세 사항 코리아 주 고객 지원 센터 로 문의 질의 응답 전문 용어 설명 끝',\n",
       " '환경 신기 술 현장 교육 참여 기관 모집 환경 신기 술 현장 교육 참여 기관 모집 환 경신 기술 실제 적용 현장 방문 기술 보유 자 수요 자간 교류 확대 기대 일부 터 접수 참여 기관 관계자 명 선착순 모집 한국 환경 산업 기술 원 원장 김용주 은 환 경신 기술 실제 적용 현장 기술 수요 자 초청 기술 대한 이해도 신뢰 를 높이 기 위해 현장 체험 교육 환경 신기 술 현장 교육 처음 도입 일부 터 신청 접수 공공기관 이나 지자체 계약 담당자 등 환 경신 기술 관심 사람 면 누구 신청 수 명 선착순 모집 한국 환경 산업 기술 원 누리집 환경 신기 술 정보 시스템 신청 양식 이메일 로 접 수하 이번 환경 신기 술 현장 교육 은 올해 처음 도입 시범 사업 환경 신기 술 보 유자 기술 수요 자 교류 장 마련 환 경신 기술 대한 신뢰 를 높이 현장 적용 수성 수요 자 적 극적 알리 기 위해 추진 사업 환경 산업 기술 원 이번 사업 추진 위해 올해 초 수요 조사 진행 기술 수요 자 현장 교육 필요성 가장 분야 종합 적 검토 시범 사업 참여 기술 보유 기업 선정 현장 교육 기술 개발자 시설 운영자 각각 환 경신 기술 환 경신 기술 적용 시설 운영 현황 설명 방식 진행 기술 수요 자가 신기 술 현장 적용 대한 정보 종합 적 파악 수 도록 지원 또한 환경 산업 기술 원 환경 신기 술 담당자 참석 신 기술 현장 적용 애로 사항 등 의견 수렴 자리 예정 환경 산업 기술 원 올해 시범 사업 운영 참여자 의견 향후 전국 단위 맞춤 형 현장 교육 사업 확대 계획 김만영 한국 환경 산업 기술 원 환 경인 증평 단장 이번 사업 통해 기술 수요 자 기술 보유 자 간 교류 환경 신기 술 신뢰 고 현장 적용 확대 수 계기 바란 고 환경 신기 술 현장 교육 사업 개요 질의 응답 전문용어 설명 끝',\n",
       " '낙동강 원생동물 다양성 보고 낙동강 원생동물 다양성 보고 국립 낙동강 생 물자원 관 원생동물 조사 결과 종 아메바 신종 후보 발굴 국립 낙동강 생 물자원 관 관장 안영 은 지난해 월부 터 까지 낙동강 유역 생 물자원 발굴 위 기초 조사 를 실시 결과 원생동물 중 종 신종 후보 과 종 미기 록종 종 국내 고유종 등 총 종 아메바류 발견 원생동물 운 동성 단세포 동물 생식 영양 등 모든 기능 하나 세포 내 지고 하나 개체 생활 가장 원 시적 진핵생물 아메바 원생동물 박테리아 플랑크톤 하위 영양 단계 섭취 후 어류 상위 영양 단계 영양분 공급 등 수서 생태계 물질 순환 중요 역할 담당 이번 발견 종 아메바류 중 종 신종 아메바문 종 조개 아메바 종 자유아메바속 종이 종 미기 록 종은 가시 아메바 속 종 가닥 아메바 종이 종 국내 고유종 가시 아메바 횡불룩 아메바 가시 아메바 호흡기 눈 피부 상처 부위 통해 감염 병변 의 학적 관찰 요구 아메바 가시 아메바 병원 성 아메바 육아 종성 아메바 뇌염 아메바 성 각막염 등 질환 발생 지속 적 관찰 필요 국립 낙동강 생 물자원 관 이번 조사 통해 낙동강 수계 다양 종류 원생동물 살 것 확인 이 지역 수계 담수 생물 서식 처 로서 보전 가치 매우 것 의미 또한 이번 아메바류 신종 후보 과 미기 록 종이 발견 원생동물 분야 아직까지 국내 미개척 분류군 이 대한 지속 적 체계 적 조사 연구 필 요하 국립 낙동강 생 물자원 관 이번 조사 발견 원생동물 대해 향후 세 부적 연구 통해 국내 외 학술지 게재 등 검증 과정 공식 적 기록 예정 한편 국립 낙동강 생 물자원 관 이번 조사 사업 통해 낙동강 유역 수서 변 생태계 원생동물 포함 담 수조류 수서 무척추동물 등 생 물자원 종 표본 점 이상 확보 신종 후보 및 미기 록종 고유종 아메바 사진 아메바 발굴 지역 질의 응답 전문 용어 설명 끝',\n",
       " '국립생태원 호주 푸른베짜기개미 세계 최초 전시 국립생태원 호주 푸른베짜기개미 세계 최초 전시 개미 세계 탐험 전 일부 터 호주 푸른베짜기개미 전시 나무 위 집 특이 습성 청아 외모 특징 한산 모시 고장 서천 한산 모시 축제 더 불어 공개 국립생태원 원장 최재천 은 호주 푸른베짜기개미 국내 도 입하 일부 터 충남 서천군 국립생태원 기획 전시장 세계 최초 전시 호주 푸른베짜기개미 국립생태원 국제 개미 연구 전시 박람회 일환 운 영하 개미 과학 기지 개미 세계 탐험 전 통해 호주 푸른베짜기개미 호주 지역 서식 열대 곤충 이 개미 호주 정부 정식 승인 국외 반출 일반인 공개 것 이번 세계 처음 국립생태원 호주 푸른베짜기개미 오기 위해 올해 농림축산검역본부 검역 절차 승인 허가 심사 검역 관 입회 하 마리 개체 도입 호주 푸른베짜기개미 땅 속 집 생활 대부분 개미 달리 나무 위 둥지 살 아가 특이 습성 국제 학계 주목 신비 푸른색 에메랄드 빛 배 때문 개미 세계 모델 로 만큼 외모 애벌레 번데기 때 필요 고치 실로 나뭇잎 둥지 이 때 멀리 나뭇잎 서로 연결 위해 서로 몸 물 간격 잎 여러 장 하나 둥지 완성 모습 마치 베 작업 베짜기개미 불 린다 최재천 국립생태원 장 세계 적 주목 우리 국민 만날 기회 아주 특별 개미 협동 작업 눈앞 볼 수 고 말 최 원장 국립생태원 위치 한산 모시 고장 서천 호주 푸른베짜기개미 전시 연구 진 한산 모시 기개 별칭 며 이 개미 지역 대표 상징 성 더욱 특별 의미 고 말 국립생태원 국제 개미 연구 전시 박람회 충남 서천 일부 터 시작 한산 모시 축제 연 계해 생태 전시 공간 운영 예정 지난해 월부 터 내년 까지 국제 개미 연구 전시 박람회 불개미 곰개미 등 국내 개미 종 더 불어 호주 푸른베짜기개미 잎꾼개미 등 특이 행동 양식 보 여주 해외 개미 신비 모습 생생 보 여준 호주 푸른베짜기개미 사진 질의 응답 전문용어 설명 끝',\n",
       " '설악산 토 왕성 폭포 비경 생생 설악산 토 왕성 폭포 비경 생생 토 왕성 폭포 단 이어진 높이 의 폭포 그간 탐방 객 출입 통제 지역 최초 공개 설악산 담 폭포 비룡 폭포 계 토 왕성 폭포 조 탐방 를 추가 전망대 개설 달 말 부터 개방 예정 국립공원 관리 공단 이사장 박보환 은 개방 공유 소통 협력 중시 정부 의 정책 기여 위해 설악산 국립공원 토 왕성 폭포 비경 볼 수 탐방 전망대 개설 국립공원 지정 이후 달 말 부터 공개 토 왕성 폭포 탐방 및 전망대 공개 기상 사정 공사 기간 연장 공개 예정일 일보 며칠 가능성 국립공원 관리 공단 설악동 소 공원 비룡 폭포 구간 의 기존 탐방 를 약 연 장하 토 왕성 폭포 조 수 최적 장소 전망대 설치 이 곳 연중 개방 예정 다만 이 곳 탐방 이외 비룡 폭포 토 왕성 폭포 직접 방향 낙석 절벽 등 위험 지역 통제 지속 토 왕성 폭포 국가 지정 문화재 명승 제 호 지정 위험 지역 토 왕성 폭포 조 수 탐방 설악산 국립공원 내 개 명승 중 출입 통제 개 명소 중 하나로 그간 겨울철 빙벽 대회 기간 동안 참가자 한해 제 한적 공개 설악산 개 명승 비룡 폭포 울산 바위 대승폭포 십 이선 녀탕 수렴 구곡 담 계곡 비 선대 불 공룡능선 토 왕성 폭포 출입통제 용아장성 출입통제 설악 만경대 출입통제 경관 적 가치 매우 국립공원 표적 경관 자원 국립공원 경 선정 토 왕성 폭포 화채 봉 칠성 봉 끼 상단 중단 하단 로 총 길이 의 단 이루 폭 석벽 사이 천 길이 날 것 마치 선녀 비단 바위 위 듯 평가 등 국내 폭포 국립공원 관리 공단 이번 토 왕성 폭포 공개 위해 부처 간 칸막이 협력 추구 정부 의 정책 출입 금지 구역 명승 대해 관람 방안 문화재 청과 문화재 현상 변경 통해 비룡 폭포 토 왕성 폭포 전망대 구간 탐방 를 연 장하 개설 또한 담 폭포 다리 지난 재 정비 완료 비룡 폭포 계 명품 탐방 를 조성 국립공원 관리 공단 토 왕성 폭포 공개 용아장성 만경대 곳 현재 출입통제 구간 남아 내년 공원 계획 변경 및 문화재 현상 변경 등 관련 기관 협력 용아장성 조 수 사업 추진 계획 백상 흠 설악산 국립공원 소장 이번 개설 전망대 담 폭포 시작 비룡 폭포 토 왕성 폭포 설악산 절경 볼 수 명품 탐방 탄생 며 탐방 객 방문 지역 경제 활성화 도움 줄 것 말 설악산 토 왕성 폭포 전망대 탐방 설치 현황 설악산 국립공원 내 명승 지정 및 비공개 현황 질의 응답 전문용어 해설 끝',\n",
       " '집중호우 유입 부유 물 주 내 처리 비 상류 로부터 부유 물 전국 댐 하천 유입 수질 영향 및 주민 피해 방지 위해 인력 장비 총 동원 중 수거 부 유물 성상 별로 분류 퇴비 톱밥 등 재활용 계획 환경부 장관 김은경 한국 수자원공사 사장 이학수 최근 집중 호우 전국 주요 댐 하천 유입 부유 물 약 대한 수거 작업 본격 적 시작 주 내 완료 계획 환경부 대청댐 충주댐 등 전국 주요 댐 및 보 구간 이번 집중호우 로 발생 부 유물 조사 결과 약 로 나타 이 부 유물 지역 이상 비 상류 지역 산 농지 주택가 등 로부터 유입 것 올해 부유 물 누적 발생 량 장마 기간 말 까지 수거 포함 경우 약 지난 평균 발생 량 배 이 기간 중 부유 물이 가장 비 교하면 수준 유입 부유 물의 대부분 이상 은 풀 나무 나머지 병 플라스틱 스티로폼 등 생활 쓰레기 구성 환경부 현재 대부분 부유 물이 이전 설치 부유 물 차 단망 때문 수거 인력 선박 굴삭기 등 장비 총 동원 앞 주 내 모두 수거 수 것 판단 부유 물 차단 망 상류 유입 부유 물의 확산 방지 수거 작업 시간 단축 수거 부 유물 종류 별로 선별 작업 갈대 식물 풀 은 농민 퇴비 나무 주민 땔감 톱밥 지원 등 최대한 재활용 예정 나머지 생활 쓰레기 인근 폐기 물처리 장 등 분류 처리 한편 환경부 한국 수자원공사 매년 전국 상류 지역 주민 부유 쓰레기 유입 수 생태계 오염 막 고자 하천 정화 활동 또한 지역 지자체 상류 지역 인근 주요 관광지 경작지 합동 점검 등 부유 물 유입 량 줄 이기 위 노력 계속 쓰레기 무단 투기 금지 비롯 쓰레기 오기 등 국민 자발 적 참여 적 극적 알리 댐 보 부유 물 발생 현황 최근 부유 물 발생 및 처리 결과 부유 물 수거 작업 절차 관련 사진 대청댐 끝',\n",
       " '청소년 생 물자원 진로 체험 기회 활짝 국립생물자원관 생 물자원 연구자 꿈 끼 수 진로 체험 프로그램 참가자 모집 환경부 소속 국립생물자원관 관장 백운석 이 생 물자원 생물다양성 연구자 꿈 진로 체험 프로그램 생물학자 프로그램 개설 중 고등학교 및 청소년 대상 참가자 모집 신청 까지 국립생물자원관 누리집 인터넷 신청 후 참가 신청서 작 성하 전자 공문 팩스 로 제 출하 전자 공문 환경부 국립생물자원관 생 물자원 활용 부 전시 교육 로 팩스 로 제출 생물학자 프로그램 생 물자원 생물다양성 분야 박사 급 전문가 강의 연구 실습 구성 국립생물자원관 무하 연구자 직접 강의 진로 상담 참여 때문 전문성 실 질적 진로 체험 가능 국립생물자원관 자유 학기 제 전면 시행 이전 부터 진로 체험 프로그램 운영 경인교육대 학교 주관 초 중 고 학생 진로 활동 지도 위 진로 체험 프로그램 개발 참여 기획전 생물학자 계 프로그램 구성 진로 체험 전문교육 실 마련 입 체적 진로 체험 지난해 서울특별시 교육청 인천광역시 인천광역시 교육청 업무 협약 체 결하 등 청소년 다양 진로 체험 기회 제공 위해 지속 적 노력 올해 진로 체험 프로그램 학기 중인 월부 터 월부 터 까지 화 금요일 운 영하 연간 여 명의 청소년 참여 수 도록 규모 확대 계획 백운석 국립생물자원관 장 올해 초 유전자 원 접근 이용 및 이익 공유 관 법률 이 제정 생물다양성 보전 현명 이용 중요성 담당 전문가 필요성 제기 며 이번 국립생물자원관 진로 체험 프로그램 미래 생 물자원 연구자 양성 기반 수 도록 앞 초등학생 부터 대학생 까지 참여 수 프로그램 체계 구성 관련 사진 질의 응답 전문용어 설명 끝',\n",
       " '국립공원 대피소 야영장 가을 철 성수 기 예약 추첨 국립공원 대피소 야영장 가을 철 성수 기 예약 추첨 이용 객 대상 예약 추첨 실시 사회 적 약자 배려 위 별도 추첨 제 확대 운영 설악산 설악동 려 해상 학동 지리산 달궁 오대산 소금강 월악산 돈재 야영장 사회 적 약자 일부 터 까지 우선 신청 국립공원 관리 공단 이사장 박보환 은 가을 철 성수 기 기간 일부 터 까지 국립공원 대피소 야영장 이용 탐방 객 대상 추첨 제 시행 국립공원 관리 공단 선착순 방식 조기 예약 만료 형평성 문제 해소 인터넷 취약 계층 동등 기회 부여 위해 성수 기 대피소 야영장 추첨 제 를 시행 추첨 대상 시설 설악산 지리산 등 국립공원 내 인터넷 예 약제 지원 대피소 곳 석 야영장 곳 동이 추첨 제 신청 국립공원 예약 통합 시스템 접수 기간 오전 시부 터 정오 까지 당첨 자 발표 오후 부터 추첨 결과 예약 통합 시스템 조회 서비스 통해 확인 수 당 첨자 개별 적 예약 당첨 문자 발송 국립공원 관리 공단 이번 가을 철 성수 기 기간 중 장애인 국가 보훈 대상자 등 사회 적 약자 위 별도 야영장 추첨 제 확대 운영 계획 올해 여름 성수 기 야영장 추첨 당시 곳 설악산 설악동 려 해상 학동 사회 적 약자 별도 추첨 제 범위 내 를 운영 결과 이용 객 호응 이번 가을 성수 기 곳 설악산 설악동 려 해상 학동 지리산 달궁 오대산 소금강 월악산 돈재 로 확대 운영 사회 적 약자 경우 일부 터 까지 예약 통합 시스템 등록 후 증빙 서류 파일 부하 제출 등록 자 한해 별도 추첨 제 신청 가능 사항 국립공원 고객 센터 로 문의 추첨 제 신청 자 미달 당첨 자 미결 재 등 발생 잔 석 일인 예약 개 시일 선착순 예약 방식 전환 추첨 제 잔 석 대한 예약 개시 일 중 예약 대상 기간 일부 터 까지 대상 기간 일부 터 까지 예약 개시 시간 대피소 오전 야영장 오후 부터 성수 기 추첨 제 를 제외 기간 국립공원 대피소 야영장 선착순 예약 매월 차례 단위 시작 월 일부 터 말일 까지 다음 달 일부 터 까지 예약 가능 이용민 국립공원 관리 공단 탐방 복지 처 국립공원 대피소 야영장 성수 기 추첨 제 개방 공유 소통 협력 추구 정부 의 기조 운영 제도 라며 국민 모두 국립공원 주요 시설 공평 편안 이용 수 도록 사용자 입장 예약 체계 발전 운영 계획 말 가을 성수 기 추첨 제 세부 안내 추첨 대상 시설 현황 질의 응답 전문용어 해설',\n",
       " '수질 및 수 생태계 보전 관 법률 하위 법령 입법 예고 수질 및 수 생태계 보전 관 법률 하위 법령 입법 예고 내년 시행 하위 법령 입법 예고 의견 수렴 조류 피해 예방 조치 내용 수 생태계 복원 계획 비점 오염원 관리 종합 대책 수립 절차 물놀이 형 수경 시설 관리 수질 자동 측정 및 공공 폐수처리 시설 관리 개선 등 내용 포함 환경부 장관 윤성규 시행 수질 및 수 생태계 보전 관 법률 이하 수질 수 생태계 법 하위 법령 개정안 입법 예고 이번 개정안 조류 피해 예방 조치 내용 수 생태계 복원 계획 비점 오염원 관리 종합 대책 수립 절차 측정기 기 관리 대행 업 등록 물놀이 형 수경 시설 관리 공공 폐수처리 시설 관리 개선 등 수질 수 생태계 법 개정 후속 조치 루고 법률 개정 관련 절차 세부 내용 규정 면서 수질 원 격감 시체 계 관리 등 그간 개선 필요 부분 보완 조류 피해 예방 조치 주요 내용 환경부 장관 공공 수역 관리자 관계 중앙 행정기관 장 비상 방류 조류 제거 요청 수 도록 규정 물 안전 위해 취 정수 시설 관리자 조류 피해 예방 조치 명령 가능 도록 근거 마련 수 생태계 복원 계획 및 비점 오염원 관리 종합 대책 내용 수립 이행 절차 등 규정 계획 수립 이행 체계 수 생태계 복원 계획 사업 우선 순위 연도 별 추진 계획 재원 조달 계획 등 포함 수 립하 도록 환경부 장관 계획 수정 보완 요청 경우 시 도지사 이행 도록 규정 관계 기관 비점 오염원 관리 종합 대책 소관 별 대책 이행 실적 매년 제출 환경부 장관 평가 후 이행 강화 요청 도록 관련 정책 범 정부 적 계 이행 확보 기반 마련 물놀이 형 수경 시설 깨끗 안 전하 이용 위해 필요 사항 추가 보완 관리 강화 물놀이 형 수경 시설 설치 운영 경우 설치 운영 전 까지 기존 시설 까지 신고 의무 법적 관리 체계 적 이루 수 도록 신고 절차 신고 처 과태료 등 세부 사항 규정 신고 대상 물놀이 형 수경 시설 국가 지자체 공공기관 설치 운 영하 시설 공공 보건 료 수행 기관 관광지 관광 단지 도시 공원 체육 시설 어린이 놀이 시설 설 치하 민간 시설 등 수질 수 생태계 법 제 조의 개정 공포 시행 국가 및 시 도 시설 유역 지방 환경청 장 시 군 구 및 민간 시설 시 도지사 신고 미신 시설 검사 의무 수질 관리 기준 위반 경우 만원 이하 과태료 부과 예정 지침 수준 관리 물놀이 형 수경 시설 개 항목 수질 기준 법령 규정 유리잔 류 염소 항목 이하 염소 소독 시 이 추가 그간 물놀이 형 수경 시설 수질 관리 환경부 지침 수소이온농도 탁 이하 대장균 개체 수 미만 가지 항목 관리 중이 었다 매월 이상 었던 수질검사 주기 마다 이상 강화 류 청소 주 이상 여과기 통과 이상 소독 의무 등 추가 적 관리 기준 정 공공 폐수처리 시설 관리 개 선하 시설 설치 운영 효율 공공 폐수처리 시설 기본 계획 포함 승인 경우 재해 사고 부득이 폐수 완충 류 시설 유입 경우 기준 준수 예외 인정 시설 운영 현실 공공 폐수처리 시설 설치 운 영하 마다 유입 물질 특성 조사 공정 별 처리 효율 시설 문제점 개선 방안 유지 관리 방안 등 내용 기술 진단 실시 도록 규정 공공 폐수처리 시설 우수 지자체 포 상금 지급 경우 폐수 유입 률 처리 효율 경우 등 고려 도록 규정 공공 폐수처리 시설 운영 관리 효율 화 위 지원 기반 마련 수질 원 격감 시체 계 관리 개 선하 측정 결과 대한 신뢰 를 높이 운영 합리화 사업 장 대한 정기 지도 점검 시마 상대 정확도 검사 실시 유기물질 생물 화 학적 산소요구량 대신 화 학적 산소요구량 일원화 또한 방류 수질 측정값 관제 센터 실시간 전송 관리 수질 자동 측정기 기 부착 사업 장 대해 기본 배출 부과금 를 감경 부과 혜택 부여 수질 원 격감 시체 계 측정기 기 안정 성과 전문성 높이 기 위해 측정기 기 관리 대행 업 등록 관리 관련 세부 사항 규정 측정기 기 관리 대행 업 등록 제 도입 사업 계획 를 포함 등록 신청서 관할 유역 지방 환경청 제 출하 등 절차 마련 관리 대행 업자 수질 자동 측정기 기 가동 상태 상시 점검 매년 실적 보고서 제 출하 한편 기술 인력 특화된 교육 이 수하 도록 환경부 이번 개정안 상세 내용 환경부 누리집 공개 입법 예고 기간 동안 이해관계자 국민 등 다양 의견 수렴 개정안 반영 계획 수질 수 생태계 법 하위 법령 개정안 주요 내용 질의 응답 전문용어 설명 끝',\n",
       " '공공 민간 전기차 충전기 카드 이용 공공 민간 전기차 충전기 카드 이용 환경부 카드 천장 공공 충전기 기 민간 회사 카드 천장 민간 충전기 기 일부 터 계 부터 기존 충전기 모바일 웹 외 모바일 앱 서비스 제공 환경부 장관 윤성규 포스코 주 한국 전기차 충전 비스 주 주 비긴 스 등 개 민간 충전 회사 그간 각자 운영 전기차 충전 회원 카드 전기차 충전기 일부 터 공동 이용 결정 지금 까지 전기차 충전 회원 카드 환경부 기관 한국 환경 공단 장 포스코 장 한국 전기차 충전 비스 장의 회 원카드 각각 발급 또한 회 원카드 보유 자 공공 충전기 기 모두 급속 포스코 기 급속 기 완속 기 한국 전기차 충전 비스 기 급속 기 완속 기 비긴 스 기 급속 기 완속 기 등 총 기 공용 충전기 회 원카드 발급 기관 회사 별로 독자 적 이용 이번 공동 이용 결정 현재 회 원카드 보유 자 일부 터 회원정보 활용 충전기 이용 약관 동의 타 기관 회사 설치 충전기 이용 수 한국 환경 공단 회 원카드 소 지자 환경부 전기차 충전 소 홈페이지 민간 충전 회사 회 원카드 소 지자 회사 별 홈페이지 로그인 후 화면 자동 표시 약관 동의 다만 한국 전기차 충전 서비스 발급 회 원카드 보유 자 명 타 기관 회 원카드 호환 때문 발급 아야 충전 요금 결제 방식 한국 환경 공단 회 원카드 소 지자 신용카드 결 제하 거나 지정 계좌 예치 금액 내 충전기 이용 가능 민간 충전 회사 회 원카드 소 지자 충전 후 월 지정 신용카드 충전 요금 결제 환경부 충전기 위치 정보 시스템 이용 현재 운영 모바일 웹 외 월부 터 모바일 앱 서비스 추가 제공 예정 현재 모바일 웹 은 휴대폰 웹페이지 주소 입력 전국 기 충전기 급속 기 완속 기 정보 확인 수 월부 터 서비스 모바일 앱 은 휴대폰 웹페이지 주소 입력 번의 터치 앱 실행 가능 때문 충전기 위치 신속 편 리하 이용 수 모바일 앱 휴대폰 운영체제 안드로이드 삼성 등 인 경우 구글 플레이스토어 아이폰 인 경우 앱스토어 월부 터 다운로드 가능 도록 지원 예정 충전기 공동 이용 체계 충전기 현황 전문용어 설명 끝',\n",
       " '업무 계획 화학물질 안전 높이 미세먼지 걱정 화학물질 안전 높이 미세먼지 걱정 환경 정책 국민 건강 안전 최우 선 고려 환경 위해 로부터 국민 안전 확보 미세먼지 감 생활화 학 제품 안전 관리 환경 서비스 확대 생활환경 개선 도심 생태 공간 조성 친환경 소비 생활 미래 환경 수요 대응 신 기후 체제 대비 환경 신 산업 육성 및 해외진출 지원 새 환경 제도 정착 화학 안전 피 해구 제제 정착 통합 관리제 시행 환경부 장관 조경규 교육부 외 개 부처 복지부 고용부 여가부 식약처 세종 컨벤션 센터 세종시 대통령 권한 대행 업무 보고 이번 업무 보고 국민 실생활 밀접 민생 정책 구현 주제 아래 개 부처 합동 보고 환경부 안전 환경 행복 국민 주제 환경 위해 로부터 국민 안전 확보 환경 서비스 확대 정책 성과 체감 제 미래 환경 수요 적극 대응 새 환경 제도 조기 정착 등 올해 중점 추진 과제 보고 환경 위해 로부터 국민 안전 확보 미세먼지 감축 인공 지능 활용 예보 모델 시범 운영 초미세먼지 측정 망 확충 등 통해 고 농도 미세먼지 예보 정확도 현재 로 슈퍼 컴퓨터 과거 기상 대기 미세먼지 농도 간 인과관계 학습 농도 예측 노후 경유 차 조기 폐차 사업 확대 수도권 운행 제한 제도 본격 시행 건설 중인 석탄 발전소 기 배출 기준 기존 대비 최대 배 강화 등 배출 원 관리 강화 만대 만대 서울시 인천 및 경기 개 시 수도권 대기 관리 권역 전역 중국 동북 부 지역 대상 중 대기오염 공동 연구 착수 현지 공동 감 사업 산동 하북 산서성 요녕성 내몽고 지역 확 대하 등 한중 협력 강화 고 농도 미세먼지 지속 경우 수도권 공공 행정기관 대해 차량 부제 실시 건설 공사 장 공사 중지 공공사업 장 가동 률 조정 야외 수업 중지 등 비상조치 시행 생활화 학 제품 안전 관리 살생물제 및 생활화 학 제품 전수 조사 완료 문제 제품 리콜 조 치하 한편 위해 우려 제품 기존 종 종 확대 안전 표시 기준 모니터링 강화 유해 성 검증 살생물제 품 출시 불허 안전 확인 물질 제품 내 사용 허용 것 주 내용 살생물제 관리 법 제정 금년 정기 국회 통과 목표 연간 톤 이상 사용 기존 화학물질 약 종 은 유해 성 정보 조기 등록 화학물질 판매 때 유해 성 정보 의 무적 제공 화학물질 등록 평가 법 연내 개정 가습기 살균제 피해 지원 지난해 접수 피해 신고 자 명 대해 폐 질환 대해 연내 조사 판정 마무리 폐 이외 질환 대해 태아 피해 천식 등 질환 별 판정 기준 단계 적 마련 나 간다 피해자 전주 기 온라인 지원 시스템 구축 건강 모니터링 단계 판 정자 까지 확 대하 등 피해자 지원 강화 피해 조사 신청 부터 조사 판정 진행 상황 알림 지원 금 신청 등 일괄 지원 선제 적 녹조 대응 발생 원인 경로 규명 위 현장 실증 실험 연내 완료 대강 보 구간 수 생태계 조사 지점 확대 개 지점 생태 공원 정밀 조사 평가 등 통해 대강 현 상태 정확 진단 녹조 감 위해 수처리 장 등 총 처리 강화 지역 확대 평시 댐 보 저수지 환경 대응 용수 확보 다가 녹조 발생 시 이상 일제 방류 방안 마련 시행 기존 한강 낙동강 중 하류 지역 곳 확대 금강 포함 배 수준 확대 한강 낙동강 수계 고도 정수 처리율 제 소독 부산물 발생 억제 위 우수 운영 기법 발굴 전파 등 물 안전 관리 만전 기한 지진 기상 예 경보 고도화 지진 관측 망 확충 지진 긴급 재난 문자 송출 전용 시스템 구축 지진 조기 경보 통보 시간 기존 이내 일본 수준 로 단축 특 이기상 연구 센터 지정 폭염 장마 등 이상 기후 대한 장기 집중 연구 추진 업 활용 위 한국 형 수치 예보 모델 개발 착수 등 기상예보 능력 고도화 노약 자 어린이 등 계층 별 폭염 피해 예방 정보 제공 폭염 지수 서비스 기상 농업 생활 공업 등 분야 별로 분산 관리 가뭄 정보 통합 가뭄 예 경보 제 등 이상 기후 대응 위 수요 자 맞춤 형 정보 제공 환경 서비스 확대 정책 성과 체감 제 고소 음 악취 등 생활환경 개선 도심 속 생태 공간 조성 등 생활 밀착 형 환경 서비스 확 대하 국민 체감 만족도 소음 악취 석면 등 생활환경 개선 소음 층간소음 이웃 사이 서비스 확대 건 건 교통 소음 도 작성 지속 추진 개 개 지자체 누적 교통 소음 를 차 지하 타이어 소음 감 위해 소음 자율 표시 제 도입 악취 폐기물 수거 차량 축사 밀폐 형 전환 도심지 곳 서울 대구 광주 대해 하수도 악취 개선 사업 추진 폐기물 차량 청소 차 음식물 쓰레기 운반 차량 등 만대 축사 강화 축사 시설 기준 및 악취 배출 기준 마련 실내 공기 및 석면 어린이집 양로원 등 취약 계층 환경 안전 진단 실내 건축 자재 페인트 등 종 사전 적합 확인 제 지하 역사 석면 제거 완료 석면 슬레이트 지붕 철거 등 통해 생활 속 위해 요소 를 적 극적 제거 목표 누적 차 차 전국 개 역사 석면 제거 완료 도심 속 생태 공간 조성 훼손 를 복원 도시 내 소 생태계 조성하 자연 마당 생태 하천 복원 사업 등 지속 추진 광주 광역시 등 기존 도시 개 세종 신도시 저 영향 개발 기법 적용 물순환 선도 도시 조성하 사업 착수 자연 마당 조성 누적 생태 하천 조성 누적 친환경 에너지 타운 확산 주변 관광 자원 계 수익 사업 추가 발굴 등 홍천 성공 모델 더욱 발전 올해 중 곳 아산 청주 영천 경주 양산 완공 곳 인제 음성 제주 착공 한편 중국 생태 마을 접목 등 국내외 확산 도모 유리온 실 열대 식물원 설치 야생화 단지 확대 퇴비 야생화 화분 제작 등 친환경 소비 생활 기반 구축 빈병 보증금 인상 소주 병 무인 회수 기 확충 등 빈병 회수 율 높이 수거 차량 증차 등 통해 폐가 전 무상 수거 서비스 확대 단독주택 지역 거점 수거 시설 재활용 동네 마당 확충 국산 화 완료 및 보급 로드맵 마련 수거 대수 만대 목표 도시 민 연천 파주 청소년 교과 진로 체험 등 수요 자 맞춤 형 생태관광 프로그램 개발 국립공원 명품 마을 곳 추가 지정 등 자연자원 현명 이용 확대 목표 누적 생활 밀착 형 제품 환경 표지 인증 기준 개 누적 녹색 매장 지정 곳 누적 등 확대 탄소 포인트 제 친환경 운전 확 대하 녹색 소비 생활 더욱 확산 미래 환경 수요 적극 대응 파리 협정 나고야 의정서 등 새 국제 규범 충실 대응 면서 급격 확대 환경 산업 적극 육성 신 기후 체제 출범 대응 기반 구축 후속 협상 방향 등 대한 국가 제안 를 마련 제출 지자체 감축 목표 및 로드맵 수립 지원 개 시 도 등 온실가스 감축 본격 제 차 전력 수급 기본 계획 수립 시 친환경 에너지 공급 비중 확대 도록 협의 육상 풍력 환경성 평가 제도 개선 통해 환경 갈등 사전 예방 풍력발전 활성화 현행 입지 결정 후 환경 영향 평가 개선 사전 협의 후 입지 결정 취약 계층 대한 기후변화 적응 시범 사업 확대 가구 환경 위성 탑재 체 개발 및 국가 환경 위성 센터 조성 완료 한반도 기후변화 입 체적 관측 위 기반 마련 환경 신 산업 발굴 육성 친환경 차 물 생물 산업 등 환 경신 산업 적극 육 성하 환경 분야 성장동력 일자리 창 친환경 차 다량 수요 처 발굴 장기 렌트 등 천대 보조금 지급 대상 확대 화물차 초 소형차 등 공공 급속 충전기 확충 기 기 등 통해 전기차 산업 폭발 적 성장 촉진 전기차 보급 대수 누적 물 산업 물 산업 진흥 법 제정 중장 기 투자 전략 마련 물 산업 클러스터 운영 계획 수립 등 물 산업 육성 기반 마련 생물 산업 나고야 의정서 대응 법령 제정 시행 생물소재 대량 증식 기술 개발 건 건 및 생물소재 민간 이전 점 통해 그간 확보 생 물자원 정보 상용 화 산업화 지원 기상 산업 기상 기후 빅데이터 공개 확대 종 누적 날씨 경영 우수 기업 확대 지정 컨설팅 마케팅 등 지원 누적 환경 산업 해외진출 지원 성과 중심 연구 관리 혁신 방안 환경 제 해결 위 중장 기 투자 전략 등 통해 를 혁신 유망 중소기업 프로젝트 수주 시 자금 애로 해결 위해 미래 환경 산업 펀드 출시 환경 전문 무역 상사 지정 환경 신기 술 시제 품 실증 테스트 베드 준공 등 통해 환경 산업 수출 액 원 달성 도전 연간 환경 산업 수출 액 조원 목표 노후 환경 인프라 현 대화 노후 상수도 현대 화 국고 노후 하수 관로 정비 등 재정 사업 수질 관련 개 시설 대한 민간 투자 사업 등 통해 환경 개선 안전 사고 방지 지역 활 기여 공공 폐수처리 시설 수처리 장 수처리 수 재 이용 시설 새 환경 제도 조기 정착 화평 화관 법 피해 구제 법 통합 법 등 신규 환경 제도 현장 집행력 강화 예정 자원 순환기 법 시행 준비 철저 환경오염 피 해구 제제 정착 환경 책임 보험 가입 률 달 등 연착 륙했다 보고 업종 규모 별 보험 율 차등 화 및 온라인 가입 시스템 개발 단체 계약 상품 출시 등 제도 보완 방지 시설 공동 운영 사업 장 등 단체 입하 보험료 절감 가능 기존 건강 영향 조사 통해 인과관계 확인 진폐증 중금속 중독증 등 질환 대해 구제 급여 선지 급 시범 사업 추진 장애인 저 소득 층 대상 법률자문 소송 지원 개시 등 구제 급여 실 효성 강화 통합 환경 관리제 본격 시행 금년 적용 발전 소각 증기 생산 업종 대해 통합 환경 관리 계획 작성 컨설팅 전문 기술 교육 등 제공 통합 환경 허가 시스템 및 콜센터 운 영하 제도 이행 지원 시행 예정 업종 철강 비철금속 유기화학 대해 최적 가용 기법 기준 발간 모의 허가 시범 사업 등 통해 제도 시행 차질 도록 준비 자원 순환기 법 시행 준비 마무리 재활용 업계 등 참여 자원 순환 협의 체 통해 하위 법령 안 마련 연내 입법 완료 등 시행 준비 매립 소각 부담 금 부과 징수 시스템 구축 및 모의 적용 재활용 선 별장 확충 등 이행 기반 정비 사업 장 화학물질 안전 관리 강화 위해 관리 계획 대한 현장 확인 강화 기업 선제 적 조치 독려 사고 반복 고위 사업 장 특별 관리 화학사 를 건 대비 이상 감축 중소기업 화학 안전 공동체 운영 지원 개 개 사업 장 중소기업 화학물질 안전 관리 컨설팅 개 개 기업 확 대하 기업 제도 이행 현장 애로 상시 청 취하 도록 규제 현장 방문 간담 회 정례 화 여 년 계속 매체 별 실국별 칸막이 정책 기획 단계 부터 현안 해결 위 융합 행정 원스톱 행정 실현 환경 정보 대한 상 시적 공개 통해 대국민 소통 강화 에코 스터디 미팅 프레 스 투어 등 언론 협력 강화 국민 참여 형 홍보 방식 적극 발굴 출입 기자 대상 환경 제도 대해 담당자 직접 설명 토론 사업 기획 부터 주민 참여 스스로 스토리 콘텐츠 홍보 친환경 에너지 타운 등 조경규 환경부 장관 환경 그 속 사람 수 면서 금년 살생물제 관리 법 제정 가습기 살균제 유사 사고 재발 등 국민 건강 안전 정책 최우 선 순위 환경 관리 틀 완전 일 신하 고 강조 올해 부터 달라 주요 환경 제도 년도 업무 보고 기대 효과 질의 응답 전문용어 설명 끝',\n",
       " '징벌 적 손해배상 제 도입 환경 보건 법 개정 공포 사업 활동 중 고의 중대 과실 환경성 질환 경우 피해 액 배 이내 손해배상 책임 부과 환경부 장관 김은경 환경성 질환 대한 징벌 적 손해배상 제도 도입 주요 내용 환경 보건 법 개정안 홍영표 의원 대표 발의 이 공포 일부 터 시행 예정 이번 법률 개정 고의 중대 과실 환경성 질환 사업자 손해배상 책임 강화 환경 유해 자 상 관성 인정 질환 석면 폐질 환 환경오염 사고 건강 장해 등 환경성 질환 정 이번 환경 보건 법 개정 사업자 고의 중대 과실 경우 피해 액 배 이내 손해배상 도록 변경 배상 액 규모 환경 유해 자의 유 해성 비롯 사업자 고의 성 손해 발생 우려 인식 수준 손해 발생 감 노력 등 고려 정 도록 그간 환경 보건 법 오염 물질 배출 시설 운영 등 사업 활동 과정 환경 유해 자로 건강 피해 경우 그 피해 만큼 배상하 도록 규정 하미나 환경부 환경 보건 정책 관 이번 환경 보건 법 개정 제 조물 적용 징벌 적 손해배상 제 환경 유해 자로 건강 피해 확대 점 의미 환경 유해 자 환경성 질환 대한 사업자 주의 의무 높이 데 기여 것 말 환경 보건 법 주요 개정 내용 질의 응답 끝',\n",
       " '겨울 안전 산행 전제 조건 적절 탐방 계획 체온 유지 겨울 안전 산행 전제 조건 적절 탐방 계획 체온 유지 최근 겨울철 사망 사고 심장 돌연사 자신 체력 적합 탐방 선택 기상 변화 대비 체온 유지 관건 안전 예보 비콘 시스템 등 정보통신기술 활용 더욱 안전 겨울 설경 만끽 등산 가능 환경부 장관 윤성규 국립공원 관리 공단 이사장 박보환 은 본격 적 겨울 시작 안전 산행 즐 기기 위해 자신 체력 탐방 계획 사전 수립 체온 유지 위 방한 의류 준비 가장 중 요하 고 국립공원 관리 공단 부터 까지 겨울철 국립공원 내 사망 사고 건 조사 결과 이중 심장 돌연사 건 를 차지 것 나타 또한 최근 사망 사고 사례 중 처 음으로 동사 각각 건 발생 거나 부상 사고 골절 상처 전체 사고 건 중 건 를 차지 국립공원 관리 공단 심장 돌연사 동사 부상 등 예방 위해 겨울 산행 준비 단계 부터 자신 체력 적절 탐방 코스 선택 땀 체온 가지 도록 여벌 방한 의류 준비 것 중 요하 고 강조 겨울 탐방 추위 눈길 체력 소모 심 다른 계절 일조 시간 매우 기온 때문 안전 산행 위해 일몰 시간 전 하산 혼자 탐방 인 이상 충분 준비운동 뒤 탐방 중간 중간 안전 터 활용 반드시 적절 휴식 취해 산행 안전 사고 주로 하산 때 발생 하산 서두 르 다가 균형 거나 다리 힘 경우 대부분 이 장시간 산행 계획 초콜릿 열량 간식 이나 비상식량 준비 체온 유지 위 모자 장갑 눈 반사 자외선 막 아주 보호 안경 눈길 걷기 위 아이젠 각반 스패츠 등 준비 국립공원 관리 공단 탐방 객 겨울철 안전 산행 돕기 위해 정보통신기술 활용 국립공원 산 행정 보앱 과 국립공원 누리집 통해 탐방 의 경사 등 환경 기상 상태 미리 확인 수 안전 예보 를 제공 국립공원 산 행정 보앱 활용 탐방 상의 낙석 상습 결빙 구간 등 위험 지구 대한 정보 사물인터넷 비콘 통해 제공 수 조난 시 즉각 적 위치 파악 가능 신속 구조 가능 산 행정 보앱 터 위치 안내 탐방 객 안전 수칙 위험 지역 사전 정보 제공 기상특보 발표 시 대피 방법 등 사물인터넷 비콘 시스템 산행 현장 문자 즉각 적 안전 정보 제공 북한 산 개 지점 과 설악산 개 지점 시범 운영 중 전국 국립공원 확대 예정 국립공원 산 행정 보앱 은 스마트폰 앱스토어 무료 수 구글 애플 스토어 국립공원 검색 최승 운 국립공원 관리 공단 안전 방재 처 탐방 객 안전 사고 예방 위해 산악 사고 우려 지역 대해 현장 순찰 추락 이나 위험 정보 사전 제공 위해 정보통신기술 활용 안전 관리 체계 추진 고 말 최근 국립공원 안전 사고 현황 질의 응답 전문 용어 설명 끝',\n",
       " '톤 이상 기존 화학물질 제조 수입 사업자 공동 등록 협의 체 마감 일 가입 톤 이상 기존 화학물질 제조 수입 사업자 공동 등록 협의 체 마감 일 가입 등록 대상 기존 화학물질 종 공동 등록 의무 사업자 까지 공동 등록 협의 체 가입 공동 등록 협의 체 진행 단계 별로 맞춤 형 지원 예정 환경부 장관 윤성규 화학물질 등록 및 평가 등 관 법률 이하 화평 법 등록 대상 기존 화학물질 종 연간 톤 이상 제조 수입 사업자 까지 협의 체 가입 등록 대상 기존 화학물질 화학물질 국내 유통 량 유해 성 위 해성 대한 정보 등 종합 적 고려 환경부 령 올해 종이 고시 협의 체 가입 화학물질 정보처리 시스템 화평 법 시스템 공인 인증서 사업 장 범용 를 통해 등록 후 이 시스템 계 공동 등록 협의 체시스 템 접속 대상 화학물질 해 당하 협의 체 검색 입하 환경부 협의 체 가입 접수 올해 까지 주간 협의 체 가입 사업자 투표 등 통해 화학물질 별 대표자 확정 예정 대표자 선정 종료 화학물질 별 협의 체 가입자 간 협약 체결 시험 자료 확보 생산 비용 분담 등록 신청 자료 작성 등 단계 등록 대상 기존 화학물질 의 공동 등록 유예 기간 전 등록 서류 제출 완료 공동 제출 자료 화학물질 분류 및 표시 관 자료 물리 화학 적 특성 자료 유해 성 자료 시험 계획 화평 법 등록 대상 기존 화학물질 연간 톤 이상 제조 수입 유예 기간 이내 등록 필요 자료 대표자 정 의 무적 환경부 공동 제출 환경부 협의 체 가입 대상 사업자 등록 편의 위해 화평 법 이행 협의 체별 교육 대표자 선정 위해 성 자료 작성 등 지원 계획 이번 협의 체 가입 화평 법 등록 소요 비용 부담 기업 별로 화학물질 위해 성 실험 척추동물 시험 자제 뿐 정부 자료 검토 효 율성 향 상하 등 일석 삼조 효과 수 것 기대 이호 중 환경부 화학 안 전산 업계 원단 단장 공동 등록 의무 사업자 중 약 를 차 지하 중소기업 위해 협의 체 가입 대표자 선정 협의 체 운영 등 각 진행 단계 별로 맞춤 형 지원 체계 구축 것 공동 등록 제도 공동 등록 협의 체 운영 관리 절차 요약 등록 대상 기존 화학물질 종 질의 응답 전문 용어 설명 끝',\n",
       " '물 산업 혁신 성장 앞장 한국 수자원공사 사내 처 출범 제 기 사내 처 출범 식 및 혁신 경진 대회 개최 사내 처 통해 새 사업 기회 발굴 물 산업 혁신 성장 기대 환경부 한국 수자원공사 사장 이학수 제 기 한국 수자원공사 사내 처 를 출범 제 기 한국 수자원공사 사내 처 세종 강우 혼합형 강수량 측정 시스템 워터 아이즈 센서 사물인터넷 활용 수질 관리 워터 프렌드 초음파 플라즈마 텀블러 세척 기 워터 테크 관로 수압 완화 모의 진단 설비 커리어 체인 무전 원 원격 관망 감시 설비 펌프 케어 대형 펌프 에너지 절감 장치 이상 이 팀 명 구성 창업 아이템 물관 리 업무 수행 면서 발견 아이디어 바탕 한국 수자원공사 직원 참신 혁신 아이디어 구현 물 산업 분야 새 성장 동력 창 위해 올해 처음 사내 처 제도 도입 앞서 사내 공모 통해 참가자 모집 까지 민간 창업 기획사 컴퍼니 비 협업 참가자 아이디어 창업 아이템 발전 수 도록 지원 지난 개 팀 중소 벤처기업 부 사내 처 육성 사업 의 지원 대상 선정 이번 제 기 사내 처 로 공식 출범 선정 사내 처 한국 수자원공사 중소 벤처기업 부로 총 원 중소 벤처기업 부 원 공사 원 의 창업 자금 지원 앞 동안 한국 수자원공사 지원 독립 공간 창업 준비 매진 한국 수자원공사 제 기 제 기 등 지속 적 사내 처 출범 목표 지원 계속 계획 또한 사내 처 창의성 유연 함 등 통해 그간 조직 발견 못 새 시장 개척 차 산업혁명 기술 활용 물 산업 혁신 성장 앞장 설 것 기대 한편 한국 수자원공사 날 제 기 사내 처 범식 한해 혁신 활동 성과 공유 우수 과제 시 상하 혁신 경진 대회 이노베이션 콘서트 를 대전 시 대덕구 한국 수자원공사 본사 개최 올해 기존 사내 혁신 활동 사내 처 도입 인공 지능 사물인터넷 드론 등 혁신 기술 보유 외부 새싹 기업 스타트업 연 계해 수행 과제 완성 를 이학수 한국 수자원공사 사장 부터 온 혁신 활동 외부 혁신 생태계 연 계해 차원 혁신 성과 것 이 라며 사내 처 중심 물 산업 유망 사업 발굴 혁신 성장 선도 제 기 한국 수자원공사 사내 처 현황 이노베이션 콘서트 개요 끝',\n",
       " '화학사 대응 이제 민관 협력 화학사 대응 이제 민관 협력 환경부 화학물질안전원 제 화학 테러 사고 대응 능력 평가 대회 개최 우수 사례 대상 민 관 협의 회 운영 통한 화학사 공동 대응 선정 환경부 장관 조경규 화학물질안전원 원장 김균 은 제 화학 테러 사고 대응 능력 평가 대회 공동 개최 화학사 예방 대응 수습 우수 사례 낙동강 유역 환경청 민 관 협의 회 운영 통한 화학사 공동 대응 대상 선정 최우수상 한강유역환경청 위험 지도 자율 대응 반 통한 사업 장 관리 선정 대구 지방 환경청 화학물질 운반 차량 안전 관리 강화 방안 우수상 이번 화학 테러 사고 대응 능력 평가 대회 경주 개최 개 유역 지방 환경청 개 합동 방재 센터 소속 화학 테러 사고 대응 담당자 등 여 명 참석 개 지방 유역 환경청 한강유역환경청 낙동강 유역 환경청 금강유역환경청 영산강유역환경청 원주지방환경청 대구 지방 환경청 새만금지방환경청 개 합동 방재 센터 시흥 합동 방재 센터 서산 합동 방재 센터 익산 합동 방재 센터 여수 합동 방재 센터 울산 합동 방재 센터 구미 합동 방재 센터 대상 선정 낙동강 유역 환경청 대회 참가 기관 중 최초 관내 화학물질 취급 민간 기업 민 관 공동 대응 협의 회 를 구성 운영 점 평가 협의 통해 화학사 고가 발생 경우 실시간 전파 오염 범위 확인 농도 측정 방재 물자 지원 등 민간 기업 인적 물 자원 활용 신속 대응 또한 민간 기업 자율 훈련 현장 상담 표준화 상황 일지 개발 작성 차 사고 원인 조사 실시 등 화학사 대응 능력 향상 위 자율 적 관리 한강유역환경청 인천 시흥 등 내 각 기업 민 관 안전 관리 자율 대응 반 운 영하 평상 시 화학사 취약 업체 대한 안심 상담 컨설팅 지원 사고 발생 경우 각 기업 자율 적 상호 지원 공동 대응 협력 체계 구축 점 평가 취급 화학물질 유해 위해 성 사고 이력 등 사업 장 위험 지도 작 성하 위험 곳 선제 적 선 적 관리 로써 사고 데 활용 우수상 대구 지방 환경청 휴게소 고속도로 전광판 등 유해 화학물질 운송 차량 운전자 대상 안전 운전 캠페인 전개 터널 내 화학사 대응 훈련 등 실시 김균 화학물질안전원 장 정책 활용 성 실현 가능성 등 고려 이번 대회 발굴 우수 사례 전국 확대 시행 화학사 를 활용 계획 말 평가 대회 개요 질의 응답 끝',\n",
       " '설명 중앙 일보 보도 친환경 차 의무 판매 제 쌍용차 돈 테슬라 꼴 대하 다음 설명 보도 내용 친환경 차 의무 판매 제 도입 여부 관련 정부 업체 팽팽하 서고 정부 미세먼지 줄 이기 위해 친환경 차 의무 판매 제 입법 추진 중 자동차 회사 사회 적 책임 좀 더 공감 의무 판매 제 도입 필 요하 입장 자동차 제조업체 의무 판매 제 도입 시기상조 국내 업체 고가 차 소량 판 매하 수입 사보 부담 친환경 국내 사가 타격 주장 설명 내용 친환경 차 의무 판매 제 국회 법안 개정안 발의 것 법안 수도권 대기 환경 개선 관 특별법 부터 수도권 지역 대상 운영 저 공해 자동차 의무 보급 제 를 전국 확 대하 것 주요 내용 바 제도 국내 갑작 도입 것 또한 구 체적 시행 사항 하위 법령 정 도록 적용 범위 및 부담 수준 등 세부 사항 정해진 바 전기차 등 친환경 차 보급 정책 미국 중국 등 주요 국가 공통 적 보조금 등 인 센티 브 정책 친환경 차 의무 판매 제 등 제도 적 장치 동시 추진 는바 제도 시행 글로벌 트렌드 임 친환경 차 의무 판매 제 등 관련 제도 운영 주요 국가 현황 및 세부 내용 임자 료 참조 정부 국회 논의 결과 존 중하 제도 설계 시 자동차 사 관계 부처 시민사회 등 이해관계자 의견 충분 수렴',\n",
       " '국립생태원 청각 장애인 위 수화 영상 발간 생태 돋보기 다시 우리 속담 수화 영상 서로 개발 전국 장애인 도서관 관계 기관 말 무상 배포 환경부 국립생태원 발간 생태 돋보기 다시 우리 속담 이하 우리 속담 제 장애인 날 청각장애 위 수화 영상 서로 개발 관계 기관 무상 보급 우리 속담 은 꿩 대신 닭 처럼 널리 속담 부터 염소 물똥 누 것 낯선 속담 까지 생태 관련 총 편의 우리 속담 생태 정보 아동 용 도서 또한 지난해 과학기술 정보통신부 우수 과학 서로 선정 국립생태원 대표 개발 도서 국립생태원 발간 도서 생태 돋보기 다시 시리즈 편이 청각 장애인 용 수화 영상 우리 속담 은 디비디 로 제작 편의 주제 각각 약 여 분 길이 영상 제작 속담 선택 수 도록 동화 생태 정보 구 연하 수화 구연 명 참여 영상 전문 성우 녹음 내레이션 자막 삽입 동화 뒤 이야기 동식물 대한 호기심 궁금증 해결 가람 박사 생태 이야기 를 수록 이번 청각 장애인 용 수화 영상 장애인 비 장애인 편 리하 이용 수 도록 말 부터 전국 장애인 도서관 청각 장애인 관련 단체 등 무상 배포 예정 수화 영상 영상 국립생태원 누리집 및 국립 장애인 서관 누리집 서도 확인 수 김웅 식 국립생태원 생태 지식 문화 부장 이번 수화 영상 개발 통해 장애 학생 생태 알 관심 가지 길 바란 라며 지난해 올해 두 수화 영상 개발 것 처럼 앞 지속 적 장애 여부 관계 동등 수 생태 콘텐츠 개발 사회 적 가치 확산 실천 계획 말 생태 돋보기 다시 우리 속담 수화 영상 이미지 생태 돋보기 다시 우리 속담 목록 질의 응답 끝',\n",
       " '국립생물자원관 제주 지역 미기 록 이끼 종 발견 제주도 한라산 곶자왈 거문오름 등 미기 록 이끼 선태식물 종 발견 거문오름 혈 지역 고산 지대 분포 종 등 다양 이끼류 확인 환경부 소속 국립생물자원관 관장 백운석 은 부터 최근 까지 일본 국립 과학 박물관 및 히로시마 대학 공동 수행 선태식물 조사 발굴 및 다양성 연구 를 통해 제주 지역 국내 미기 록 이끼 선태류 종 이끼 관속 식물 달리 관다발 뿌리 조직 크게 솔이끼 류 선류 식물 문 우산이끼류 태류 식물 문 뿔이끼류 태류 식물 문 로 구성 국립생물자원관 우리나라 이끼류 실체 파악 위해 생물다양성 풍부 제주 지역 집중 적 조사 조사 지역 한라산 국립공원 실 계곡 거문오름 곶자왈 세 오름 등 이끼 생육 환경 다양 곳 발견 종은 봉황 이끼 속 종 포함 솔이끼 류 종 게발 이끼 속 우산이끼류 종이 솔이끼 류 종 중 단지 이끼 갈색 삭치 이끼 국명 정해 나머지 종은 국명 아직 정해 지지 단지 이끼 김원희 국립생물자원관 연구 사가 일본 큐슈 지역 세계 최초 발견 신종 보고 종 이번 발견 세계 번 제주도 실 계곡 효 계곡 생육 확인 갈색 삭치 이끼 효 계곡 솔이끼 류 종인 라오 포디움 그 실리 뭄 과 디 피시 움 뮤 로 포리 움 비롯 우산이끼류 세 팔로 지아 키애리 발견 조사 지역 중 거문오름 지역 특이 혈 지형 영향 고산 분포 이끼 종 다수 확인 발견 캄 필로스 텔 리움 삭시 콜라 종은 유일 분포 백두산 혈 지역 산 속 바위 틈새 지역 여름 찬 공기 겨울 공기 바깥 배출 거문오름 지역 발견 네오 디 디 엘라 펜 타 종은 지역 나뭇가지 등 실 타래 처럼 자라 것 특징 이 곶자왈 지역 발견 봉황 이끼 속 종은 피시 덴스 크레눌라투스 피시 덴스 크리스 플러스 피시 덴스 하이 알 리누스 한라산 세 오름 부근 발견 톰 움 메 노필 로이 데스 종은 솔 이끼류 속 연 구진 이번 발견 국내 미기 록 생물 종 종 중 국명 정해진 단지 이끼 갈색 삭치 이끼 연구 논문 세계 적 선태류 학회 지인 영국 선태식물 학회 일본 식물학 회지 각각 지난 게재 나머지 종 대해 서도 국내 외 전문 학술지 중 투고 예정 또한 제주도 선태식물 자연환경 수성 알리 국민 이끼 식물 이 해하 도록 거문오름 이끼 가칭 등 도감 편찬 계획 백운석 국립생물자원관 장 그간 이끼류 조사 관련 전문가 부족 연구 실적 미비 며 우리나라 이끼 분포 조사 계속 제주 이외 다양 지역 지지 새 이끼 아내 기 위해 노력 것 말 관련 사진 및 참고자료 질의 응답 전문용어 설명 끝',\n",
       " '안전 표시 기준 위반 개 위해 우려 제품 회수 환경부 신고 부적합 의심 제품 조사 결과 물질 별 함 유기준 초과 및 자가 검사 불 이행 개 제품 적발 환경부 장관 김은경 유해 물질 함유 기준 초과 거나 자가 검사 시중 유통 개 업체 개 제품 적발 최근 회수 조치 이 제품 화학물질 등록 및 평가 등 관 법률 이하 화평 법 위해 우려 제품 지정 제품 소비자 안전 표시 기준 위반 의심 올해 상반기 환경부 신고 워셔액 등 개 제품 위해 우려 제품 개 품목 세 정제 합성세제 표백제 섬유 유연 제 자동차 용 워셔액 코팅 제 방청제 김 서림 방지 제 접착제 다림질 보조 제 틈새 충 진제 방향 제 탈취 제 물체 탈 염색 제 문신용 염료 인쇄 용 잉크 토너 소독제 방충 제 방부제 살 조제 양초 습기 제거 제 부동액 환경부 한국 환경 산업 기술 원 이 개 제품 안전 표시 기준 준수 여부 조사 이 제품 중 개 제품 자가 검사 유통 것 확인 또한 세 정제 개 제품 에탄올 아민 안전 기준 이하 배 초과 이 제품 자가 검사 불구 유해 물질 안전 기준 위반 자가 검사 유통 제품 중 워셔액 개 제품 메틸알코올 안전 기준 이하 각각 배 배 초과 것 위해 우려 제품 시장 유통 전 반드시 유해 물질 안전 기준 적합 여부 확 인하 자가 검사 검사 합격 시 부여 자가 검사 번호 제품 표시 유통 환경부 이 제품 생산 수 입하 개 기업 대하 관할 유역 지방 환경청 통한 판매 금지 회수 명령 조치 완료 관할 수사 기관 달 중 고발 조치 예정 또한 환경부 이 제품 더 이상 시중 유통 못 도록 이 제품 위해 상품 판매 차단 시스템 일괄 등록 사 한국 온라인쇼핑 협회 유통 금지 요청 위해 상품 판매 차단 시스템 위반 제품 바코드 및 상품 명 사진 업체 명 등 제품 정보 등록 통해 대형 유통 매장 및 편의점 등 판매 시점 정보 관리 시스템 운영 매장 판매 차단 시스템 판매 금지 회수 명령 업체 화평 법 제 등 소비자 판매 제품 안전 제품 교환 환불 주어 유통 사 납품 제품 모두 수거 해당 제품 구매 소비자 경우 생산 수입 기업 고객 센터 구매 처 반품 수 해당 제품 정보 초록 누리 사이트 생활환경 안전 정보 시스템 확인 수 환경부 회수 명령 유통 차단 조치 등 불구 미처 회수 못 제품 시장 유통 가능성 보고 이 제품 유통 여부 감시 모니터링 계획 또한 소비자 회수조치 이후 해당 제품 구입 거나 판매 중인 제품 발견 경우 생활 화학 제품안전 센터 국민신문고 로 신고 줄 것 안내 환경부 앞 소비자 건강 위해 줄 가능성 안전 표시 기준 위반 제품 대한 지속 적 시장 감시 실시 안전성 조사 강화 위해 우려 제품 국민 불안 해 소하 데 주력 방침 안전 표시 기준 위 반제품 현황 전문용어 설명 끝',\n",
       " '수도권 지역 자동차연료 환경 품질 등급 세계 최고 수준 수도권 지역 자동차연료 환경 품질 등급 세계 최고 수준 년도 하반기 자동차연료 환경 품질 평가 결과 경유 별 개 최고 등급 휘발유 별 개 등급 방향족 화합물 품질 등급 기준 부피 이하 강화 고시 개정 추진 하반기 수도권 판매 정유 사의 경유 별 개 휘발유 별 개 각각 기록 자동차연료 환경 품질 등급 세계 최고 수준 평가 별 개 등급 세계 최고 수준 이란 휘발유 경유 품질 등급 세계 가장 강화 수준 도록 정 품질 항목 기준 환경부 수도권대기환경청 청장 송형근 은 년도 하반기 수도권 지역 판매 자동차연료 환경 품질 평가 결과 공개 이번 평가 결과 국내 정유 사 및 수입 사의 경유 모두 별 개 세계 최고 등급 국내 정유 사의 경유 하반기 부터 하반기 까지 연속 별 개 에너지 칼텍스 현대 오일 뱅크 등 개 국내 정유 사의 휘발유 별 개 평가 항목 세 부적 휘발유 방향족 화합물 등 개 항목 중 개 항목 국내 정유 사 모두 별 개 등급 획득 오존 형성 물질 증가 올레 핀 함량 에너지 현대 오일 뱅크 은 별 개 칼텍스 별 개 휘 발성 유기화합물 배출 영향 증기압 항목 칼텍스 별 개 에너지 현대 오일 뱅크 은 별 개 각각 증기압 휘 발성 평가 지표 로서 월부 터 까지 유통 휘발유 대해 만 평가 경유 황 함량 등 개 항목 국내 정유 사 및 수입 사 모두 별 개 방향족 화합물 에너 탱크 별 개 제외 국내 및 수입 정유 사 모두 별 개 획득 밀도 항목 페트 코리아 남해 화학 등 수입 개사 국내 정 유사 별 개 에너 탱크 이지 석유 각각 별 개 별 개 국내 정유 사의 품질 더 것 나타 한편 수도권대기환경청 지난 대기 환경보전 법 시행 규칙 의 자동차연료 제조 기준 중 휘발유 방향족 화합물 함량 기준 강화 이 자동차연료 환경 품질 등급 평가 기준 개정 휘발유 방향족 화합물 대한 품질 등급 별 개 기준 기존 이하 이하 별 개 기준 기존 이하 이하 강화 월부 터 시행 예정 대기 환경보전 법 시행 규칙 제 별표 자동차연료 제조 기준 의 휘발유 방향족 화합물 함량 기준 부피 이하 시행 자동차연료 환경 품질 등급 평가 기준 제도 수도권 대기 환경 개선 관 특별법 소비자 친환경 연료 구매 촉진 자동차연료 제조 수입 사의 자율 적 환경 품질 개선 유도 위 부터 시행 수도권대기환경청 알뜰 주유소 자동차연료 공급 한국 석유 공사 농협 중앙회 환경 품질 평가 지난해 월부 터 실시 공개 연료 품질 기준 개 항목 중 분석 증기압 항목 반영 하반기 종합 평가 포함 올해 상반기 평가 부터 공개 함 수도권 지역 자동차연료 환경 품질 등급제 개요 년도 하반기 정유 사별 자동차연료 환경 품질 등급 년도 정유 사별 자동차연료 환경 품질 등급 현황 자동차연료 환경 품질 등급 기준 현행 자동차연료 환경 품질 등급 기준 개정안 우리나라 자동차연료 제조 기준 국제 제조 기준 비교 자동차연료 성분 특징 환경 적 영향 끝',\n",
       " '국립공원 자원봉사 스마트폰 참여 국립공원 자원봉사 스마트폰 예약 시스템 개시 국립공원 자원봉사 행정안전부 자원봉사 포털 계 환경부 국립공원 관리 공단 자원봉사 스마트폰 예약 시스템 개발 완료 일부 터 국립공원 자원봉사 활동 스마트폰 신청 수 국립공원 자원봉사 국민 국립공원 관리 참여 환경 보전 의식 증진 목적 시작 현재 매년 약 명 희귀 식물 관찰 외래 식물 제거 탐방 안내 등 다양 분야 참여 그간 국립공원 자원봉사 개인 용 컴퓨터 로 국립공원 누리집 이나 전화 로만 신청 가능 이번 국립공원 자원봉사 스마트폰 예약 시스템 모바일 웹 통해 국립공원 자원봉사 누리집 이나 국립공원 관리 공단 누리집 접속 자원봉사 메뉴 클릭 회원 가입 후 봉사 국립공원 날짜 프로그램 등 선택 한편 국립공원 관리 공단 올해 국립공원 자원봉사 시스템 행정안전부 자원봉사 포털 과 실적 연동 완료 전국 자원봉사 정보 조회 신청 실적 확인 가능 행정안전부 자원봉사 포털 회원 국립공원 자원봉사 누리집 연동 신청 자동 자원봉사 포털 실적 등록 국립공원 관리 공단 국립공원 자원봉사 실적 자원봉사 포털 실적 실시간 통합 개인 별 자원봉사 실적 관리 것 기대 자원봉사 포털 연동 교육행정 정보 시스템 나이스 자동 실적 연동 때문 학생 자원봉사 실적 관리 도움 것 김종희 국립공원 관리 공단 상생 협력 실장 자원봉사 스마트폰 예약 시스템 조성 국립공원 자원봉사 활성화 크게 기여 것 이 라며 은퇴 세대 재능기부 미래세 대의 자원봉사 체험 등 각 세대 목적 자원봉사 참여 문화 말 국립공원 자원봉사 참여 방법 국립공원 자원봉사 운영 현황 관련 사진 질의 응답 자료 끝',\n",
       " '물 환경보전 법 하위 법령 입법 예고 지속 가능 체계 전환 인간 자연 동시 고려 지속 가능 물관 리 체계 전환 물 환경보전 법 내년 시행 하위 법령 의견 수렴 수 생태계 연속성 조사 방법 및 연속성 확보 조치 환경 생태 유량 산정 필요 사항 국 가물 환경 관리 기본 계획 수립 절차 등 규정 환경부 장관 김은경 내년 시행 물 환경보전 법 하위 법령 개정안 일부 터 까지 입법 예고 올해 개정 물 환경보전 법 은 물 환경 전반 보전 대상 확대 위해 기존 수질 및 수 생태계 보전 관 법률 의 명칭 변경 법 이번 물 환경보전 법 하위 법령 개정안 수 생태계 현황 조사 계획 포함 사항 수 생태계 연속성 조사 방법 및 확보 조치 환경 생태 유량 산정 필요 사항 국가 물 환경 관리 기본 계획 수립 절차 특정 수질 유해 물질 배출 량 조사 제도 도입 등 물 환경보전 법 개정 후속 조치 루고 수 생태계 연속성 공공 수역 상류 하류 간 공공 수역 변 지역 간 물 토양 등 물질 순환 원활 생물 이동 자연 상태 의미 법률 개정 관련 절차 세부 내용 규정 면서 수질 배출 부과금 신용카드 직불카드 납부 수 도록 등 개선 필요 부분 보완 수 생태계 현황 조사 계획 조사 시기 지점 기관 자료 확인 방법 등 포함 현황 조사 최초 시점 개월 전 까지 조사 계획 고시 도록 수 생태계 연속성 조사 방법 현지 조사 원칙 통계 문헌 등 간접 조사 병행 가능 도록 수 생태계 연속성 단절 훼손 기준 공공 수역 상 하류 간 및 변 지역 간 물질 순환 이나 생물 이동 제한 거나 불가능 경우 규정 수 생태계 연속성 단절 거나 훼손 경우 환경부 장관 국토교통부 등 관계 중앙 행정기관 장 협의 댐 보 저수지 개선 어도 설치 개선 저 류지 설치 등 조치 가능 도록 수 생태계 건강 성 유지 위해 필요 최소한 유량 환경 생태 유량 법률 규정 환경 생태 유량 확보 위 대표 지점 선정 때 수 생태계 건강 성 조사 정 기적 수 지점 대표 어종 선정 가능 지점 및 수 생태계 건 강성 현저 훼손 지점 등 고려 선정 도록 대표 지점 명칭 위치 환경 생태 유량 조사 방법 주기 및 산정 방법 등 환경부 장관 별도 고시 도록 국가 물 환경 관리 기본 계획 수립 때 관계 중앙 행정기관 및 시 도지사 필요 자료 제출 요청 협의 진행 중앙 환경 정책 위원회 심의 확정 후 관계 중앙 행정기관 통보 시행 도록 규정 또한 물 환경 관리 기본 계획 기존 계획 성과 평가 사회 경제 기술 변화 및 전망 연구개발 투자 계획 등 포함 도록 국가 차원 장 기적 물 관리 체계 화 물 환경 목표 기준 달성 우려 중 역 대해 관할 지방 환경 관서 장 지방 유역 환경청 장 이 대권 역 계획 중 역 물 환경 관리 계획 수 립하 도록 규정 특정 수질 유해 물질 배출 량 조사 제도 도입 조사 대상 범위 제 종 부터 제 종 까지 특정 수질 유해 물질 배출 사업 장 정 이 사업 환경부 배출 량 조사 계획 조사 실시 후 그 결과 지방 유역 환경청 제 출하 국립 환경과학 원 검증 도록 절차 마련 검증 완료 경우 특별 비공개 사유 면 배출 량 조사 결과 공개 도록 특정 수질 유해 물질 합리 적 자발 적 감 유도 수 도록 이 그간 제도 운영 상의 부족 나타 수질 배출 부과금 납부 방식 현금 외 신용카드 직불카드 등 납부 가능 도록 개선 환경부 물 환경보전 법 하위 법령 개정안 상세 내용 환경부 누리집 공개 입법 예고 기간 동안 이해 관계자 국민 등 다양 의견 수렴 개정안 반영 계획 물 환경보전 법 하위 법령 개정안 주요 내용 질의 응답 전문용어 설명 끝',\n",
       " '환경 공단 올해 원 규모 환경 시설 공사 발주 환경 공단 올해 원 규모 환경 시설 공사 발주 총 금액 년 대비 턴키 방식 건 공사 비 용인 레 스피아 사업 최대 규모 이상 공사 건 한국 환경 공단 이사장 이시진 이 올해 원 규모 환경 시설 공사 건의 발주 계획 확정 총 건의 공사 가운데 건 설계 시공 일괄 입찰 턴키 입찰 방식 집행 나머지 건 일반 경쟁 방식 적 격심 사 입찰 참가자 격 사전 심사 진행 턴키 입찰 방식 건설업 체 설계 시공 일괄 책임 공사 방식 올해 시설 공사 발주 건수 지난해 건 규모 이나 발주 금액 지난해 원 인 원 유일 턴키 입찰 공사 공공 수처리 시설 공사 용인 레 스피아 개량 및 증설 사업 공단 건 건 턴키 입찰 비중 단 건 건설업 체 담합 사업 비 증가 대형 건설 사 편중 등 사회 적 문제 계속 제기 정부 차원 턴키 입찰 방식 개선 준비 데 것 공단 올해 턴키 입찰 최소 방향 환경 시설 공사 발주 계획 표 한국 환경 공단 턴키 발주 공사 발주 년도 공 사 명 도급 금액 백만 원 익산시 하수 슬러지 처리 시설 하동 갈사 조선 산업 단지 폐수종 말 처리 시설 설치 사업 홍천군 가축 분뇨 자 원화 시설 사업 남양주 월산 푸른 물 센터 설치 사업 옹진군 공공 하수 및 하수 관거 설치 사업 단계 군산 국가 산업 단지 폐수종 말 처리 시설 공사 아산시 수처리 시설 에너지 자립 화 단계 사업 용인 레 스피아 개량 및 증설 사업 전체 환경 시설 공사 시설 별로 폐수처리 시설 건 폐기 물처리 시설 건 비점 오염 저 감시 설 건 에너지 자립 화 시설 등 기타 환경 시설 건 등 이 중 절반 폐수처리 시설 집중 최대 규모 공사 총 공사 비 원 규모 발 주하 용인 레 스피아 개량 및 증설 사업 용인시 처인구 포곡읍 유 일대 위치 공공 수처리 시설 하루 처리 능력 톤 개량 톤 증설 톤 개 선하 사업 이외 공사 비 원 이상 중 대형 환경 시설 공사 가평군 환경 기초 시설 확충 사업 가평군 차집 관로 정비 시범 사업 등 년 건 원 이상 원 미만 중 소형 공사 음성군 하수 관로 정비사 업 원 보령시 가축 분뇨 공공 처리 시설 원 등 지난해 건 올해 건 증가 공단 전체 환경 시설 공사 가운데 총 건 원 상반기 내 발 주하 건설 경기 침체 어려움 건설 사 힘 보탤 방침 또한 지난해 입찰 참가자 격 사전 심사 제 및 적 격심 사 업체 입찰 관련 서류 제출 전 산화 데 올해 불공정 하도급 신고 센터 를 운 영하 등 건설업 체 편의 성 확대 공사 발주 투명 성과 공 정성 확 립하 데 최선 예정 공단 올해 발주 계획 한국 환경 공단 누리집 확인 수 한국 환경 공단 발주 계획 원 이상 끝',\n",
       " '강원도 횡성 저수지 아마존 육식 어종 피라냐 레드 파쿠 발견 강원도 횡성 저수지 아마존 육식 어종 피라냐 레드 파쿠 발견 장마철 대비 환경부 지자체 생태 원 등 관계 기관 협조 관리 방안 마련 국내 저수지 외래 육식 종이 발견 국립생태원 원장 최재천 은 강원도 횡성군 마옥 저수지 남미 원산 피라냐 그 유 사어 종인 레드 파쿠 국내 자연 생태계 최초 발견 생 태원 마옥 저수지 외래어 종이 서식 제보 이틀 간 투망 자망 낚시 등 이용 조사 결과 이 사실 확인 설치 자망 피라냐 마리 레드 파쿠 마리 포획 낚시 차례 도중 날카 이빨 이용 모두 줄 도망 생 태원 이번 발견 외래어 종이 누군가 관 상어류 것 추정 피라냐 레드 파쿠 남미 주로 서식 어종 국내 인위 적 유입 외 분포 가능성 매우 적기 때문 또한 이번 발견 외래어 종이 국내 생태계 영향 미미 것 전망 두 어종 모두 남미 원산 국내 기후 등 환경 적응 것 보고 때문 겨울 나기 것 생태 원 위해 생물 연구 부 김수환 박사 두 어종 모두 월동 것 생각 만일 대비 정밀 조사 실시 계획 주변 강 이나 호수 확산 가능성 것 보고 최근 가뭄 심해 수위 매우 유지 저수지 물이 주변 하천 가능성 매우 적기 때문 장마 수위 상승 시 하류 의 확산 우려 환경부 원주지방환경청 횡성군 청 국립생태원 등 관계 기관 신속 협조 관리 방안 도출 예정 피라냐 국내 영화 통해 육식 종이 날카 이빨 가지 아마존강 일대 주로 서식 크기 최대 레드 파쿠 남미 서식 피라냐 친척 뻘 물고기 피라냐 뭉툭 이빨 개체 크기 더 것 특징 까지 관련 사진 부',\n",
       " '국립공원 기후 변화 계절 알리 생물 종 선정 국립공원 기후 변화 계절 알리 생물 종 선정 기후 계절 변화 국립공원 계절 알리 생물 종 발굴 대표 생물 종 분류군 식물 곤충 양서류 조류 총 종 선정 국립공원 관리 공단 이사장 박보환 은 기후 계절 변화 감지 수 계절 알리 생물 종 종 선정 계절 알리 생물 종 은 국립공원 탐방 때 이 종 관찰 경우 계절 변화 확 인하 실 질적 기후변화 체감 수 도록 선정 식물 곤충 양서류 조류 등 동식물 국립공원 관리 공단 최근 기후변화 생물 발생 시기 생활 주기 과거 달라 계절 예측 혼돈 때문 이번 계절 알리 생물 종 이 실 질적 계절 변화 역할 것 기대 계절 알리 생물 종 은 국립공원 관리 공단 부터 시작 자연자원 조사 결과 통해 확보 국립공원 생물 종 종 토대 전문가 평가 회의 선정 계절 알리 생물 종 분류군 구분 식물 종 곤충 종 양서류 종 조류 종이 계절 별 발생 시기 볼 때 초봄 히어리 노루귀 등 종 봄 보춘화 호랑나비 등 종 초여름 물레나물 모시나비 등 종 여름 왜 솜다리 제비나비 등 종 초가을 고려 엉겅퀴 고추잠자리 등 종 가을 구절초 늦 반딧불 등 종 분류 초봄 종 히어리 노루귀 변산 바람꽃 복수초 생강나무 얼레지 진달래 애호랑나비 오드 재니 등 북방 산개구리 계곡 산개구리 노랑 할미 새 제비 봄 종 보춘화 춘란 산벚나무 피나물 한계령 풀 할미꽃 현호색 호랑나비 도롱뇽 두꺼비 뻐꾸기 초여름 종 물레나물 백운산 원추 리 일월 비비추 까치수염 모시나비 길앞잡이 꾀꼬리 소쩍새 여름 종 왜 솜다리 무릇 산수 국 참나리 제비나비 참매미 두견이 솔부엉이 초가을 종 고려 엉겅퀴 금강초롱꽃 쑥부쟁이 고추잠자리 귀뚜라미 딱새 가을 종 구절초 꽃향유 산국 억새 늦 반딧불 계절 알리 생물 종 은 일차 적 계절 별 발생 개화 시기 기준 구분 기후변화 생물 지표 종 모니터링 대상 종 여부 분포 지역 특이 성 대중성 등 대하 각 분야 전문가 평가 선정 이번 선정 계절 알리 생물 종 중 변산 바람꽃 피나물 한계령 풀 고려 엉겅퀴 금강초롱꽃 북방 산개구리 등 환경부 산림청 지정 기후변화 지표 종 해당 국립공원 관리 공단 앞 계절 알리 생물 종 대한 조사 자료 분석 기상 요인 상관 성 생물 종 생활 주기 변화 연구 등 활용 국립공원 생물 보전 정책 반영 계획 또한 부터 운영 중인 명의 국민 모니터링단 더욱 확대 국민 모니터링 프로그램 개발 계절 알리 종 대한 정밀 신속 조사 예정 신용 석 국립공원 연구원 원장 기후변화 계절 변화 민감 계절 알리 생물 종 생태 적 변화 지속 적 관찰 로써 국립공원 뿐 한반도 전 체적 기후변화 생태계 변화 예측 이 대비 데 기여 것 말 계절 알리 생물 종 현황 요약 분야 별 전문가 현황 계절 알리 생물 종 현황 질의 응답 전문용어 해설 끝',\n",
       " '나고야 의정서 대응 생 물자원 컨퍼런스 개최 나고야 의정서 대응 생 물자원 컨퍼런스 개최 생 물자원 활용 기술 대해 기업 기술이전 공동 연구 협약 체결 유망 기술 건 특허 건 소개 등 기술 공유 통해 바이오 산업 계 미래 성장 동력 마련 환경부 장관 조경규 나고야 의정서 시대 발 추어 생 물자원 활용 관 바이오 산업 계 인식 높이 기 위해 나고야 의정서 대응 생 물자원 컨퍼런스 를 인천 서구 국립생물자원관 개최 이번 행사 환경부 소속 국립생물자원관 관장 백운석 과 한국 바이오 협회 공동 주관 조경규 환경부 장관 홍영표 국회 환경 노동위 회 위원장 박일 호 밀양시 장 비롯 바이오 산업 계 학계 지자체 등 여 명 참석 나고야 의정서 국내 이행 법률 제정 의정서 비준 이 행사 국내 산 업계 나고야 의정서 체제 적응 위 지원 방법 모색 자리 마련 또한 국립생물자원관 그동안 생 물자원 가치 학계 및 산 업계 공 유하 시간 한국 포럼 회장 최원 목 이화여대 교수 컨퍼런스 기조 강연 최원 목 교수 생물다양성 시대 유전자 원 대한 접근 및 이익 공유 체제 현재 미래 를 주제 바이오 산업 계 나고야 의정서 대한 이해 증진 대응 방향 제시 예정 또한 국립생물자원관 그동안 발굴 생 물자원 활용 지원 위해 이번 컨퍼런스 국내 환경 정화 기업인 주 에코 필 비롯 화장품 기업인 한솔 생명과학 주 및 주 한솔 바이오 텍 기술이전 협약 의약품 기업인 주 코미 공동 연구 협약 각각 체결 주 에코 필 비소 독성 신종 박테리아 활용 생물학 적 정화 기술 한솔 생명과학 주 주 한솔 바이오 텍 캄보디아 자생 식물 미백 및 피부 주름 개선 특허 기술 국립생물자원관 이전 상용 예정 주 코미 천연 말벌 독 활용 친환경 백신 제조 기술 상용 화 위해 국립생물자원관 공동 연구 진행 이번 컨퍼런스 나고야 의정서 체제 대비 국립생물자원관 사업 화 유망 기술 바이오 산업 계 널리 알리 생 물자원 기술 정보 교류 회 도 열 린다 기술 정보 교류 회 쇠 물푸레 잎 이용 항산화 용 물질 활용 등 가지 유망 기술 느타리버섯 분리 균주 이용 합성 연료 분해 기술 등 건의 특허 기술 공유 관심 기업 기술이전 관련 상담 제공 조경규 환경부 장관 이번 컨퍼런스 나고야 의정서 비준 대비 우리 생 물자원 가치 제대로 알 수 자리 것 이 라며 나고야 의정서 발효 위기 새 기회 아들 이기 위 진지 논의 기대 고 나고야 의정서 대응 생 물자원 컨퍼런스 개요 협약 식 주요 내용 기술 정보 교류 회 주요 내용 질의 응답 전문용어 설명 끝',\n",
       " '참고 환경부 광주 전남 손 잡고 영산강 섬진강 물 문제 해결 지역 물 문제 해결 위해 환경부 장관 지방자치단체 장 광주 광역시 장 전라남도지사 정책 간담 회 개최 농업 용수 교차 이용 비점 오염 감 수자원 효율 적 이용 강 구로 영산강 수질 개선 방안 추진 협의 환경부 장관 김은경 오후 분부 터 광주 광역시 김대중 컨벤션 센터 이용섭 광주 광역시 장 김영록 전라남도지사 영산강 수계 통합 물관 리 정책 간담 회 를 개최 영산강 및 섬진강 수질 개선 문제 대해 공동 대응 나 가기 이번 간담 회 물 관리 일원화 시행 이후 처음 영산강 섬진강 유역 토론회 앞서 진행 간담 회 김은경 환경부 장관 영산강 수질 및 용 수문제 섬진강 유량 감소 피해 문제 두 수계 통합 적 광 역적 차원 중앙정부 지자체 유 기적 협력 여야 해결 가능 간담 회 결과 환경부 광주 광역시 전라남도 크게 가지 사항 중점 적 추진 협의 첫째 영산강 수질 개선 위해 유량 증대 중 요하 고 보고 위해 영산강 본류 농업 용수 공급 댐 저수 하천 유지 용수로 전환 방안 대해 농어촌 공사 등 관계 기관 적극 협의 둘째 영산강 수계 비점 오염 감 위해 민 관 협치 거버넌스 를 구축 지역 주민 시민단체 중심 주민 실천 운동 적극 추진 전남도 섬 지역 물 부족 해소 위해 급수 운반 선 식수 전용 저수지 등 지원 강화 광주 광역시 물순환 구조 개선 적극 지원 협력 날 논의 사항 지속 추진 위해 세 기관 간 정책 협의 회 정례 화 영산강 유역 지속 가능 물 이용 체계 구축 영산강 수계 통합 물관 리 정책 간담 회 자료 끝',\n",
       " '지리산 반달곰 월악산 산양 만난 지리산 반달곰 월악산 산양 만난 환경부 국토부 협업 백두대간 추풍령 생태 통로 복원 설치 추진 경부 고속도로 철도 국도 지방도 등 중 단절 추풍령 생태 축 복원 사업 추진 일제 강점 기 경부 선 철도 건설 훼손 백두대간 연 결하 국토 혈맥 복원 환경부 장관 윤성규 국토교통부 장관 강호인 백두대간 핵심 구간 추풍령 생태 축 복원 위해 추풍령 생태 축 연결 복원 사업 광복 기념 사업 하나로 추진 이번 사업 위해 환경부 국토교통부 참여 주체 간 재원 역할 분담 등 대한 내용 추풍령 생태 축 연결 복원 위 협약 정부 세종 청사 체결 협 약식 정연만 환경부 차관 최정호 국토교통부 제 차관 박보 생 김천시 장 최재천 국립생태원 장 등 참석 협약 환경부 고속도로 철도 지방도 구간 대한 추풍령 생태 축 연결 통로 설치 국고 보조 사업 추진 총괄 국토교통부 국도 구간 생태 통로 사업 주관 한국 도로공사 고속도로 구간 사업 비 분담 생태 통로 설치 운영 등 담당 한국 철도 시설 공단 철도 구간 사업 비 분담 예정 김천시 철도 구간 건너 도록 철도 지방도 구간 생태 통로 설치 운영 등 담당 국립생태원 추풍령 복원 사업 효과 적 추진 도록 생태 관련 자문 기술 지원 담당 추풍령 생태 축 연결 복원 사업 은 총 사업 비 투입 월부 터 까지 추진 폭 의 생태 통로 개 설 치하 야생동물 백두대간 원활 이동 수 도록 계획 생태 통로 한편 야생동물 이동 지장 도록 탐방 를 조성하 백두대간 종 주하 등산 객 이용 수 고속도로 구간 생태 통로 별도 보행자 육교 설치 예정 추풍령 백두대간 중심 위치 현재 개 도로 철도 경부 고속도로 경부 선 철도 국도 호선 군도 호선 로 야생동물 이동 단절 이 때문 로드킬 주요 원인 지적 지난 한반도 생태 축 구축 방안 등 통해 추풍령 생태 축 복원 추진 하자 논의 개 도로 별로 관리 주체 달라 본격 적 생태 축 연결 사업 지지 백두대간 백두산 지리산 산줄기 로서 한반도 생태 축의 근간 이루 일제 강점 경부 선 철도 건설 개통 시작 곳곳 야생동물 연결 통로 해방 이후 산업화 과정 도로 철도 곳 단절 그간 백두대간 보호 구역 내 총 개 생태 통로 조성 이번 가장 단절 심각 추풍령 지역 연결 복원 것 단절 국토 혈맥 복원 점 의미 백두대간 관통 도로 철도 총 개 임도 제외 이중 터널 통과 정연만 환경부 차관 백두대간 추풍령 생태 축 연결 복원 사업 과거 훼손 국토 상처 치유 자연 인간 공존 시대 열 어간 의미 고 추풍령 생태 축 연결 복원 사업 개요 질의 응답 중요 용어 설명 끝',\n",
       " '가습기 살균제 천식 피해 명 추가 인정 총 명 인정 제 차 가습기 살균제 피해 구제 위원회 개최 가습기 살균제 천식 명 폐질 환 중복 명 포함 인정 환경부 장관 김은경 서울 중구 서울 스퀘어 제 차 가습기 살균제 피해 구제 위원회 위원장 환경부 차관 박천 규 를 개 최하 가습기 살균제 천식 질환 조사 판정 결과 심의 의결 위원회 명 재심사 명 포함 대한 천식 피해 조사 판정 결과 심의 명 피해 것 인정 명 추가 자료 확보 후 판정 완료 이로 총 명 천식 피해 인정 판정 자 중 자료 오류로 불 인정 인 인정 정정 포함 이번 의결 가습기 살균제 건강 피해 피 인정 은 총 명 질환 별 중복 인정 자 제외 피 인정 자 명 폐질 환 명 태아 피해 명 천식 피해 명 폐질 환 태아 중복 인정 자 명 폐질 환 천식 중복 인정 자 명 한편 환경부 금년 내 폐질 환 명 태아 명 천식 질환 명 잔 신청 자 대해 올해 말 까지 조사 판정 완료 계획 검사 연기자 및 연락 두절 자 등 제외 유선 연락 서면 발송 등 통해 지속 적 연락 보완 실시 예정 가습기 살균제 피해 신규 신청 절차 구비 서류 등 자세 사항 가습기 살균제 종합 지원 센터 콜센터 로 연락 거나 가습기 살균제 피해 지원 종합 포털 확 인하 가습기 살균제 건강 피해 조사 판정 결과 끝',\n",
       " '반월 시화 노후 지게차 엔진 신형 교체 수도권 청 반월 시화 산업 공단 내 노후 지게차 신형 엔진 교체 업무 협약 지자체 및 공단 체결 오염 물질 장시간 노출 주요 산업 공단 근로자 업무 환경 개선 및 주변 지역 거주 자의 건강 위해 성 감소 기대 환경부 소속 수도권대기환경청 청장 김 동구 은 경기도 안산시 시흥시 한국 산업 단지 공단 경 기지역 본부 한국 자동차 환경 협회 오전 경기도 안산시 단원구 호텔 스퀘어 산업 공단 노후 건설 기계 엔진 교체 사업 활성화 위 업무 협약 체결 이번 업무 협약 대기오염 우려 지역 산업 공단 반월 안산시 및 시화 시흥시 산업 공단 근로자 업무 환경 개선 주변 지역 거주 자의 건강 위 해성 줄 이기 위해 마련 반월 시화 산업 단지 공업단지 도심 내 지게차 등 이전 등록 이상 노후 건설 기계 등록 대수 기준 대로 경기도 전체 의 약 를 차지 업무 협약 주요 내용 환경부 수도권대기환경청 엔진 교체 사업 총괄 관리 및 관련 기관 간 협력 관계 구축 경기도 안산시 시흥시 사업 참여 안내 및 엔진 교체 보조금 지원 한국 산업 단지 공단 산업 공단 내 입 주기 업 대상 노후 건설 기계 엔진 교체 참여 독려 한국 자동차 환경 협회 엔진 교체 감 효과 홍보 및 실무 지원 등 이번 협약 관련 협력 기관 총 원 예산 이전 출시 지게차 대의 구형 엔진 신형 교체 예정 지원 금은 지게차 엔진 규모 별로 최소 원 최대 원 사업 참여 희망 반월 시화공단 내 업체 한국 자동차 환경 협회 전화 까지 참여 신청 수도권대기환경청 한국 자동차 환경 협회 최초 등록 일 기준 차령 오래 순위 엔진 교체 대상 지게차 선정 계획 초 부터 선정 지게차 소유자 개별 적 연락 예정 수도권대기환경청 노후 지게차 소유 구형 엔진 신형 교체 기계 수명 증가 수리 비용 절감 배출 가스 감소 기여 것 예상 김 동구 수도권대기환경청 장 민 관 업무 협약 체결 통해 관련 기관 간 원활 업무 협력 체계 구축 수도권 산업 공단 엔진 교체 사업 활성화 기대 말 업무 협약 식 세부 일정 질의 응답 끝',\n",
       " '미얀마 최 북단 생물다양성 협력 연구 본격 화 미얀마 환경 차관 회담 양국 간 생 물자원 협력 논의 히말라야 인접 카 국립공원 내 미얀마 생물다양성 연구 센터 설치 생물다양성 공동 연구 확대 추진 환경부 장관 김은경 국립생물자원관 미얀마 네피도 그랜드 아마라 호텔 제 차 미얀마 생 물자원 협력 환경 차관 회담 이하 차관 회담 개최 이번 차관 회담 우리나라 미얀마 양국 간 생물다양성 협력 사업 강화 생 물자원 활용 연구 촉진 위 시작 우리나라 총 차례 회담 진행 차 인천 차 서울 이번 제 차 차관 회담 안병옥 환경부 차관 킨 마웅 이 미얀마 천연자원 환경보전 부 차관 비롯 양국 생물다양성 분야 정부 관계자 명 참석 양국 차관 제 차 차관 회담 이행 결과 성과 점검 향후 양국 간 생물다양성 협력 확대 발전 위 방안 논의 계획 미얀마 인도차이나 반도 가장 면적 차 지하 나라 주변 국가 생물다양성 고유 서식지 보존 관련 연구 및 관리 기반시설 인프라 의 부족 생물다양성 대한 정보 매우 빈약 환경부 국립생물자원관 부터 미얀마 국립공원 대상 생물다양성 연구 시작 포 파산 나마 땅 국립공원 조사 완료 바 그 결과 미얀마 생물다양성 도감 종 포파 산 약용식물 자료 집 등 발간 미얀마 기증 이 자료 미얀마 생물다양성 관리 및 연구 활용 미얀마 생물다양성 도감 미얀마 포파 산 생물다양성 도감 영어 판 미얀마어 판 나마 땅 생물다양성 도감 포파 산 약용식물 자료 집 나마 땅 종자식물 도감 또한 지난 국립생물자원관 간의 조사 발굴 식물 곤충 어류 등 현지 생물 표본 미얀마 천연자원 환경보전 부 중앙 산림 개발 교육 센터 기증 현지 연구자 학생 생물다양성 연구 수 도록 도움 이번 차관 회담 중 지난해 발간 미얀마 나마 땅 국립공원 종자식물 도감 의 기증 식이 예정 미얀마 이 대한 감사패 환경부 전달 제 차 차관 회담 미얀마 최북 단 히말라야 끝 자락 위치 카 카카 보라 국립공원 생물다양성 공동 연구 발전 위 구 체적 방안 집중 적 협의 카카 보라 국립공원 등 산객 방문 제 한적 허가 천연 림 보전 지역 아시아 대륙 생물다양성 가장 곳 중 하나로 국립생물자원관 미얀마 천연자원 환경보전 부 산림 국 지난해 월부 터 카친 주의 생물다양성 식물 조사 시작 향후 곤충 조류 파충류 등 다양 생물 분야 연구 확대 예정 또한 카 원주민 카친족 리 족 샨족 등 이 기간 이용 유용식 물 발굴 그 효능 과 학적 검증 연구 진행 이 차관 회담 카카 보라 국립공원 내 설치 미얀마 생물다양성 연구 센터 의 활용 계획 상세 논의 미얀마 생물다양성 연구 센터 제 차 차관 회담 설치 합의 준공 미얀마 생물다양성 연구 센터 카 생물다양성 조사 및 유용 생 물자원 연구 위 거점 센터 활용 안병옥 환경부 차관 생물다양성 국제 공동 연구 지구 생물권 보전 아직 가치 지지 유용 생 물자원 인류 위해 바르게 사용 수 도록 정보 제공 의미 라며 앞 생 물자원 활용 분야 기술 력 우리나라 생 물자원 부국 미얀마 협력 더욱 양국 호혜적 성과 기증 도감 설명 질의 응답 전문용어 끝',\n",
       " '멸종 조류 국립 낙동강 생 물자원 관 멸종 조류 국립 낙동강 생 물자원 관 바다 쇠오리 등 구상 사라 진 조류 종 표본 국내 최초 공개 환경부 국립 낙동강 생 물자원 관 관장 안영 은 구상 멸종 전세계 극소 수의 표본 남아 조류 종 국내 최초 일부 터 경북 상주시 국립 낙동강 생 물자원 관 제 전시 실 공개 사라 생물다양성 멸종 조류 를 주제 이번 전시회 바다 쇠오리 까치오리 나그네비둘기 극락 앵무 캐롤라이나앵무 뉴잉글랜드 초원 멧닭 등 점 후이아 암수 점 등 멸종 조류 종 점 박제 표본 전시 도도새 웃는올빼미 등 멸종 조류 종 멸종 원인 서식지 멸종 년도 등 정보 픽토그램 채 설 명문 통해 소개 픽토그램 그림 뜻 픽토 전보 뜻 텔레 그램 의 합성어 특정 개념 상징 적 나타 내 인식 수 도록 그림문자 전시 조류 표본 중 전 멸종 바다 쇠오리 과거 펭귄 불리 던 대형 조류 전세계 점 박제 표본 남아 매우 희귀 종이 뉴질랜드 고유종 후이아 독특 외모 꼬리 깃털 암컷 부리 장식품 인기 끌 면서 멸종 종이 뉴질랜드 경매 꼬리 깃털 하나 달러 한화 약 만원 낙찰 면서 세상 가장 깃털 새 명성 환경부 발간 국가 생물다양성 통계 자료 집 현재 전 세계 여종 새 살 것 나타 수 세기 동안 서식지 파괴 사냥 도입종 감염 포식 등 여 종 새 멸종 종 중 서도 여 종이 멸종위기 처 것 안영 국립 낙동강 생 물자원 관장 이번 전시 통해 관람객 인간 공생 여러 생 물자원 보존 지속 가능 이용 대해 고 민하 시간 기대 고 말 전문용어 및 멸종 조류 설명 질의 응답 멸종 조류 전시 사진 끝',\n",
       " '녹색 기후 기금 제 차 이사회 한국 형 기후변화 대응 사업 모델 승인 녹색 기후 기금 제 차 이사회 한국 형 기후변화 대응 사업 모델 승인 한국 형 기후변화 대응 사업 모델 반영 유럽 부흥 개발 행 협업 사업 이사회 승인 이번 사업 그동안 승인 사업 중 최대 규모 최 국가 대상 사업 한국 신재생에너지 에너지 저장장치 친환경 에너지 타운 스마트 모델 이 사업 분야 포함 의 사업 통해 한국 경쟁력 기후변화 대응 기술 개도국 본격 적 확산 보급 계기 것 기대 인천 송도 제 차 이사회 한국 형 기후변화 대응 사업 모델 반영 의 지속 가능 에너지 금융 사업 승인 이 사업 지역 금융기관 신용 한도 를 제공 중소기업 가정 등 대상 에너지 효율 화 신재생에너지 관련 간접 대출 지원 개도국 지역 금융기관 및 대출 수혜자 맞춤 형 사업 발굴 준비 신기 술 홍보 역량 강화 등 지원 사업 자세 사업 내용 별 참고 이번 사업 그동안 승인 사업 중 최 대상 국가 개국 최대 규모 프로그램 사업 총 지원 로서 사업 규모 대폭 적 확대 견인 전망 타지키스탄 몽골 몰도바 세르비아 이집트 요르단 모로코 튀니지 아르메니아 조지아 또한 한국 형 기후변화 대응 사업 모델 신재생에너지 에너지 저장장치 매립 가스 발전 친환경 에너지 타운 스마트 모델 대출 분야 포함 내 신탁 기금 한국 기술자 문협 력기 금 통해 지원 향후 공 여국 우리 기업 사업 참여 독려 지원 신탁 기금 한국 사업 모델 관련 사업 발굴 및 기술 제품 홍보 위주 활용 계획 이번 협력 사업 사업 승인 통해 한국 기후변화 대응 선도 노력 널리 알리 창조경제 에너지 신 산업 관련 우리 기업 해외 시장 진출 확대 것 기대 한국 형 사업 모델 관련 사업 승인 은 지난 차 이사회 승인 태양광 에너지 저장장치 모델 활용 페루 아마존 습지 보존 사업 이후 두 사례 로서 정부 한국 강점 가지 기후변화 대응 사업 모델 신 재생 에너지 에너지 저장장치 친환경 에너지 타운 전기차 스마트 중심 관계 부처 간 협업 통해 사업 승인 추진 중정부 앞 더 한국 형 사업 모델 관련 사업 승인 한국 기업 사업 적극 참여 수 도록 노력 계획 별 지속 가능 에너지 금융 사업 주요 내용 별 신재생에너지 에너지 저장장치 사업 모델 별 매립 가스 발전 사업 모델 별 스마트 사업 모델',\n",
       " '제과 업계 단계 적 비닐 쇼핑 백 퇴 환경부 파리 바게뜨 뚜레쥬르 등 주요 제과 브랜드 및 환경운동 연합 자발 적 협약 체결 파리 바게뜨 뚜레쥬르 비닐 쇼핑 백의 단계 적 퇴 더 불어 용품 줄 이기 위 사회 공헌 활동 추진 환경부 장관 김은경 국내 주요 제과 브랜드 파리 바게뜨 뚜레쥬르 및 환경운동 연합 용품 사용 줄 이기 위 자발 적 협약 오전 서울 중구 한국 프레 스 센터 체결 체결 식 장소 서울 중구 세종대 한국 프레 스 센터 층 목련 실 이번 자발 적 협 약식 안병옥 환경부 차관 권 태 파리크라상 파리 바게뜨 대표 김찬호 씨제이 푸드 베이커리 본부장 뚜레쥬르 이철수 환경운동 연합 대표 참석 파리 바게뜨 전국 매장 곳 보유 에스 피씨 그룹 소속 제과 브랜드 뚜레쥬르 매장 개 보유 씨제이 푸드 소속 제과 브랜드 현재 제과점 비닐 쇼핑 백 무 상제 공금 대상 업종 등 규제 두 업체 비닐 쇼핑 백 환경오염 문제 심 각성 고려 비닐 쇼핑 백 퇴 출하 기 위해 이번 자발 적 협약 체 결하 먼저 이번 협약 두 업체 비닐 쇼핑 백 전면 퇴 목표 단계 적 사용 량 감축 추진 파리 바게뜨 올해 말 까지 비닐 쇼핑 백 사 용량 이상 감축 뚜레쥬르 내년 까지 비닐 쇼핑 백 사 용량 감축 후 소비자 홍보 등 통해 단계 적 비닐 쇼핑 백 사용 계획 위해 두 업체 재생 종이 봉투 사용 소비자 쇼핑 백 사용 수 도록 앞장 서기 이번 협약 기존 두 업체 사용 비닐 쇼핑 백이 연간 천만 것 추정 이로 자원 절약 온실가스 톤 감축 등 환경 적 편익 발생 비닐봉투 장의 온실가스 배출 온실가스 인 톤 줄 이기 실천 수칙 자료 집 이외 제과 업계 이번 협약 계기 용품 감량 위 활동 적극 추진 계획 파리 바게뜨 올해 말 까지 플라스틱 빨대 사용 량 연간 톤 감축 무게 기준 내년 상용 화 목표 종이 빨대 빨대 필요 컵 뚜껑 등 개발 뚜레쥬르 올해 하반기 부터 기존 유색 컵 디자인 변경 계획 비닐 쇼핑 백 날 운 영하 장바구니 증정 행사 진행 날 협약 식 이후 안병옥 환경부 차관 세계 비닐봉투 날 기념 위해 서울 중구 파리 바게뜨 명동 본점 비닐 쇼핑 백 사용 줄 이기 캠페인 진행 날 파리 바게뜨 명동 본점 비닐 쇼핑 백 제공 전국 파리 바게뜨 직 영점 비닐 쇼핑 백 대신 종이 쇼핑 백 제공 계획 신선 경 환경부 자원 순환 정책 관 용품 줄 이기 위 규제 필 요하 기업 소비자 자발 적 참여 무엇 중 요하 라면 용품 사용 친환경 생활 문화 정착 수 도록 국민 모두 관심 부탁 드 린다 말 행사 계획 자발 적 협약 질의 응답 끝',\n",
       " '올해 흑산도 제비 전 증가 올해 흑산도 제비 전 증가 개체 개체 대비 증가 봄철 흑산도 체류 일수 약 수컷 암컷 꼬리 이상 것 확인 국립공원 관리 공단 이사장 박보환 이 전남 신안군 흑산도 올해 도래 제비 개체 수 조사 결과 전보 약 증가 개체 기록 도래 시기 최대 개체 수 기준 주 이상 일로 나타 흑산도 도래 제비 개체 관찰 로 개체 기록 등 지속 적 감 소하 다가 부터 증가 시작 올해 개체 확인 제비 개체 수의 증가 원인 월동 지인 중국 남부 및 동남아시아 지역 서식지 훼손 등 환경 변화 영향 거나 우리나라 최근 친환경 유기농법 제비 이원 둥지 재료 증가 등 서식 환경 개선 결과 추정 흑산도 제비 도래 시기 최대 개체 수 도착 일 기준 올해 주 이상 월동 지로 이 동하 가을 철 봄철 제비 개체 수의 이하 흑산도 봄철 흑산도 도착 일 지난 올해 간 점차 적 경향 전세계 적 기후변화 우리나라 월 동지 기후변화 주요 원인 추정 또한 가을 철 봄철 수 이하 흑산도 제비 봄철 이동 경로 거나 흑산도 중 간기 착지 활용 곧바로 월동 지로 이동 때문 것 판단 제비 봄철 가을 철 이동 시기 흑산도 중 간기 착지 이용 표적 여름철새 이번 조사 결과 의 개체 시간 정도 것 확인 제비 흑산도 기간 최대 일로 제비 구 체적 체류 기간 확인 것 이번 처음 제비 개체 간 체류 기간 다른 이유 기상 요인 개체 별로 번식 전략 때문 것 보고 국립공원 관리 공단 제비 흑산도 기간 시간 이내 가장 이번 자료 토대 제비 흑산도 주로 잠깐 잠자리 먹이 장소 이용 것 분석 앞 흑산도 중 간기 착지 도서 지역 서식지 관리 대한 방향 선정 데 중요 자료 것 판단 이번 조사 제비 꼬리 날개 길이 비 교하 암수 구분 수컷 눈 길 편이 꼬리 길이 성 구분 중요 요인 확인 수컷 꼬리 길이 암컷 평균 더 가장 도래 시기 발견 수컷 일찍 도착 거나 도착 다른 수컷 제비 상 대적 일찍 도착 거나 도착 수컷 가장 도래 시기 중간 시기 의 수컷 가장 건 강하 암컷 선호 개체 일 수 것 암시 꼬리 수컷 제비 건강 암컷 선택 경향 신용 석 국립공원 관리 공단 연구원 장 흑산도 제비 중 간기 착지 먹이 휴식 취하 중요 장소 이 부합 서식지 관리 필 요하 며 최근 제비 개체 수 증가 월동 의 환경 변화 최근 증가 친환경 유기농법 원인 일 수 확인 위 지속 적 관찰 필 요하 고 관련 사진 흑산도 도래 제비 개체 수 및 도래 일 질의 응답 전문 용어 해설 끝 관련 사진 및 영상 환경부 웹하드 게재',\n",
       " '참고 환경부 아우디 벤츠 경유 차 검사 계획 환경부 아우디 벤츠 경유 차 검사 계획 대상 차종 국내 판매 중인 경유 차 개 차종 아우디 벤츠 제작사 별 동일 엔진 동일 배기량 적용 차 종은 대표 개 차종 선정 검사 절차 차량 출고 장 평택 항 아우디 화성 벤츠 차 종별 봉 인하 검사 장소 교통 환경 연구소 인천 이동 이기 주행 시험 검사 방법 실내 인증 시험 조건 검사 실 도로 조건 시험 선택 적 환원 촉매 제어 로직 확인 검증 검사 일정 영상 취재 경우 각 수입 사 출고 장 평택 항 및 화성 취재 수 출고 장 내부 진입 불가 외부 촬영 가능',\n",
       " '공동 제 차 사회 관계 장관 회의 개최 선취 업 후 학습 활성화 청년 일자리 문제 구조 적 해소 청소년 인터넷 스마트폰 과 의존 예방 및 치유 활성화 지원 계획 수립 감염 성 의료 폐기물 안전 관리 체계 마련 밀도 논의 장 마련 위 사회 관계 장관 회의 운영 방식 개선 추진 김상곤 부총리 겸 교육부 장관 금 오전 정부 서울 청사 년도 제 차 사회 관계 장관 회의 개 최하 선취 업 후 학습 활성화 방안 안 청소년 인터넷 스마트폰 과 의존 예방 및 치유 지원 계획 안 의료 폐기물 안전 처리 방안 안 사회 관계 장관 회의 운영 방식 개선 방안 안 논의 제 호 안건 선취 업 후 학습 활성화 방안 안 토의 정부 노동시장 대졸 이상 인력 초과 공급 졸 인력 부족 청년 일자리 구조 적 문제 해소 위해 선취 업 후 학습 활성화 방안 마련 계획 향후 노동시장 대졸 자 이상 초과 공급 명 고 졸자 초과수 명 예상 고용노동부 중장 기인 수급 전망 정부 지난 제 차 사회 관계 장관 회의 선취 업 후 학습 활성화 방안 수립 계획 논의 그 이후 관계 부처 협의 기업 및 학교 현장 의견 수렴 등 통해 선취 업 후 학습 활성화 지원 위 세부 방안 마련 그간 중등 직업 교육 혁신 일반 비 진학 자 직업 교육 강화 사회 전반 선취 업 확산 및 지원 강화 대학 후 학습 기회 확대 후 학습 비용 및 학습 상담 지원 후 학습 친 적 기업 문화 확산 위 세부 추진 제 등 논의 향후 토의 결과 기반 관계 부처 간 협의 세부 추진 제 확정 중 관련 대책 발표 계획 제 호 안건 청소년 인터넷 스마트폰 과 의존 예방 및 치유 지원 계획 안 논의 정부 올해 실시 청소년 인터넷 스마트폰 이용 습관 진단 조사 결과 기반 청소년 인터넷 스마트폰 과 의존 예방 및 치유 지원 계획 마련 진단 조사 주요 내용 인터넷 스마트폰 과 의존 위험 군 증가 추세 과 의존 저 연령 화 추세 지속 여학생 인터넷 스마트폰 과 의존 위험 군 증가 우선 과 의존 저 연령 화 추세 대응 위해 유아 및 초등학생 등 대상 체험 형 예방 교육 확대 가정 내 건강 미디어 환경 조성 위 부모 교육 강화 계획 또한 과 의존 청소년 치유 효율 적 지원 위해 과 의존 요인 별 연령 별 성별 맞춤 형 상담 및 치유 서비스 제공 상담 전문 양 성교육 등 통해 교사 및 상담 전문 인력 역량 강화 한편 상담 치유 필요 청소년 적기 서비스 제공 도록 관계 기관 간 협력 활성화 예정 스마트 센터 센터 청소년 상담 복지 센터 게임 몰입 힐링 센터 정신건강 증진 센터 등 호 안건 관련 별도 보도자료 배포 예정 여가부 이후 보도 제 호 안건 의료 폐기물 안전 처리 방안 안 논의 의료 폐기물 매년 증가 처리 시설 부족 상황 의료 폐기물 적정 처리 사태 우려 정부 의료 폐기물 안전 처리 방안 마련 추진 자 이번 대책 의료 폐기물 발생 량 감축 안전 처리 체계 구축 이해관계자 간 협력 체계 구축 세 가지 방향 추진 첫째 의료 폐기물 불법 배출 대한 관리 강화 불필 요하 혼입 일반 폐기물 분리 배출 등 통해 의료 폐기물 발생 량 까지 대비 감축 계획 현재 다수 의료 기관 상당 량 일반 플라스틱 이나 포장재 등 까지 의료 폐기물 혼합 배출 둘째 적정 수준 처리 시설 확보 의료 폐기물 안전 처리 도모 단순 민원 처리 시설 설치 제한 도록 폐기 물처리 업 허가 적 극적 추진 대형 병원 내 멸균 시설 설치 활성화 위해 관련 법률 개정 검토 계획 또한 운영 중인 처리 시설 고장 나 거나 사고 발생 의료 폐기물 처리 비상 상황 발생 경우 위 해성 일반 의료 폐기물 한해 예 외적 사업 장 폐기물 소각 시설 처리 수 방안 추진 안전 처리 강화 계획 의료 폐기물 소각 시설 일반 소각 시설 동일 방식 기준 적용 미국 일본 등 의료 폐기물 일반 소각 시설 처리 이해관계자 간 협의 체 구 성하 상호 간 정보 공유 및 갈등 해결 역할 추진 관련 협회 중심 자율 적 관리 체계 구 축하 효과 적 의료 폐기물 관리 계획 마지막 안건 사회 관계 장관 회의 운영 방식 개선 방안 안 논의 정부 사회 관계 장관 회의 밀도 사회 분야 정책 논의 장 활성화 수 도록 적극 적 의제 발굴 및 기획 기능 강화 범부 처 협업 필요 과제 선적 상정',\n",
       " '년도 자원 순환 선도 기업 대상 공모 진행 년도 자원 순환 선도 기업 대상 공모 진행 폐기물 사전 발생 예방 및 자 원화 통한 감량 실적 우수 사업 장 발굴 포상 사업 장 폐기물 발생 억제 재활용 활성화 등 개 부문 대상 환경부 장관 윤성규 폐기물 발생 억제 및 재활용 활성화 통해 국정 과제 자원 에너지 선 순환 자원 순환 사회 실현 기여 기업 발굴 포상 자 년도 자원 순환 선도 기업 대상 공모 까지 진행 자원 순환 선도 기업 기술 개발 공정 개선 등 제품 생산 과정 폐기물 발생 사전 억 제하 거나 재활용 확대 자원 순환 촉진 선 도적 실 천하 친환경 기업 공모 분야 사업 장 폐기물 원천 적 발생 억제 발생 폐기물 재활용 촉진 등 총 개 부문 사업 장 폐기물 감량 의무 대상 사업 장 외 사업 장 폐기물 배 출하 중소 제조업체 또한 응모 가능 공모 참여 방법 신청서 작성 이메일 한국 환경 공단 폐기물관리 처 우편 접 수하 주소 인천 시 서구 환경로 한국 환경 공단 폐기물관리 처 신청서 양식 한국 환경 공단 누리집 의 공지 사항 코너 수 접수 공모 사례 관련 분야 전문가 구성 평가 단 심사 환경부 심의 폐기물 감량 및 재활용 실적 우수 기업 선발 대통령 국무총리 환경부 장관 표창 부상 수여 예정 우수 사례 대한 시상 올해 초로 계획 자원 순환 날 행사 실시 계획 선정 우수 사례 폐기물 배출 사업 장 활용 수 도록 사례 집 제작 보급 예정 제정 올해 자원 순환 선도 기업 대상 공모 기업 폐기물 감량 대한 동기 부여 사업 장 폐기물 감량 화 우수 사례 확산 위해 추진 사업 년도 자원 순환 선도 기업 대상 공고 문 질의 응답 전문 용어 설명 끝',\n",
       " '고 농도 오존 정보 예보 통해 미리 확인 고 농도 오존 정보 예보 통해 미리 확인 오존 고 농도 기간 일부 터 오존 예보 시행 개 등급 시간 최고 농도 기준 보통 매우 쁨 개 광역시 도 대상 예보 결과 제공 국립 환경과학 원 국정 과제 기후변화 질병 관리 강화 국민 건강 보호 위 오존 예보 고 농도 오존 발생 것 예상 일부 터 실시 이번 시행 오존 예보 개 예보 등급 전국 개 광역시 도 경기도 북 남부 강원도 영서 권역 세분 화 를 대상 하루 발표 예보 등급 하루 중 최고 농도 기준 보통 매우 쁨 단계 민감 군 어린이 노인 천식 폐질 환 및 심장질환 어른 오존 예보 지난해 월부 터 시행 미세먼지 예보 마찬가지 에어 코리아 누리집 스마트폰 앱 우리동네 대기 질 통해 서도 확인 수 송창근 국립 환경과학 원 대기 질통 합 예보 센터 센터 장 일부 터 까지 고 농도 오존 현상 자주 발생 가능성 라며 오존 건강 피해 최소 수 도록 실시간 예보 정보 주의 달라 고 말 오존 은 강력 산화제 호흡기 폐 눈 등 감각기관 자극 손상 질소 산화물 휘 발성 유기화합물 등 자외선 반응 생 질의 응답 전문 용어 설명 끝',\n",
       " '국립생물자원관 채 생물다양성 교육 진행 국립생물자원관 채 생물다양성 교육 진행 브 라울 리오 디아즈 생물다양성 협악 사무 총장 미래 생물다양성 전문가 꿈 고교생 특강 중학교 영재 학급 다문화 가정 등 대상 다양 교육 프로그램 운영 국립생물자원관 관장 김상배 이 브 라울 리오 디아즈 생물다양성 협약 사무 총장 초대 고교생 대상 특강 등 생물다양성 관련 다양 교육 프로그램 운영 눈길 끌 브 라울 리오 디아즈 사무 총장 생물다양성 정책 수립 이행 대한 국제 경험 임명 디아즈 사무 총장 인천 서구 국립생물자원관 방문 인천고 학생 상대로 생물다양성 의의 중요성 의 역할 국제 청소년 생물다양성 네트워크 등 주제 강의 디아즈 사무 총장 생물다양성 보전 전문가 꿈 학생 격려 강의 후 학생 사인 해주 시간 디아즈 사무 총장 사무국 려면 준비 학생 질문 아직 여러분 리지 대학 어가 생물 대해 열심 배우 관련 여러 가지 경험 가능 수 고 대답 또한 지난해 평창 제 차 생물다양성 협약 당사 국 총회 청소년 활동 사례 생물다양성 대한 청소년 가이드북 국제 청소년 생물다양성 네트워크 소개 면서 학생 생물다양성 보전 세계 적 흐름 이해 생물다양성 중요성 보전 필요성 주변 친 구들 이웃 열심 전파 역할 담당 줄 것 당부 디아즈 사무 총장 특강 국립생물자원관 철새 날 생물다양성 날 일부 터 까지 습지 주간 등 생 물자원 중요성 알리 기 위해 생물 환경 분야 특화된 체험 위주 교육 프로그램 진행 교육 프로그램 생물다양성 우리 생명 생 물자원 우리 힘 등 주제 초 중학교 영재 학급 다문화 가정 등 대상 군포 의왕 교육지원청 초 중등 영재 학급 학생 상대로 교육 인천 지역 다문화 가정 학생 대상 하늘 나그네 철새 기획전 계 교육 프로그램 지구 여행 새 를 운영 인천 경기 지역 초등학생 가족 중학교 영재 학급 학생 대상 습지 식물 생물다양성 습지 등 교육 프로그램 운영 예정 김상배 국립생물자원관 관장 자원 관 주요 기능 생 물자원 연구 뿐 특화된 교육 프로그램 통해 생 물자원 중요성 지속 적 이용 보전 필요성 알리 살 교육 기회 제공 고 말 국립생물자원관 교육 프로그램 통해 연간 명 이상 학생 참여 예정 국정 과제 기후변화 질병 관리 강화 및 생물다양성 보전 도움 줄 것 기대 관련 사진 국립생물자원관 교육 프로그램 안내 질의 응답 전문 용어 설명 끝',\n",
       " '중소기업 환경 신기 술 녹색 기술 인증 취득 도 드립 환경 산업 기술 원 환경기술 코 디네 터 지원 사업 일부 터 접수 환경기술 인증 준비 중인 중소기업 곳 선정 지원 환경부 한국 환경 산업 기술 원 원장 남 광희 은 환경 신기 술 녹색 기술 인증 중소기업 대상 환경기술 코 디네 터 지원 사업 시행 일부 터 신청 접수 환경 신기 술 환경기술 및 환경 산업 지원 법 환경기술 신기 술 해당 여부 심의 인증 녹색 기술 저 탄소 녹색 성장 기본 법 기술 우수 성과 녹색 성 등 심의 인증 신청 대상 환경 신기 술 녹색 기술 인증 취득 희망 중소기업 이나 인증 심의 위원회 탈락 중소기업 기술 자문 필요성 기술 완성 등 고려 환경 신기 술 곳 녹색 기술 곳 등 총 곳 내외 기업 선정 예정 접수 한국 환경 산업 기술 원 누리집 환경 신 기술 시스템 공지 사항 신청서 작 성하 까지 이메일 제 출하 선정 기업 월부 터 까지 약 개월 동안 환경 분야 전문가 로 연결 환 경신 기술 녹색 기술 증 취득 대한 기술 자문 현장 방문 통한 상담 서비스 등 다양 혜택 지원 또한 기업 세 부적 지원 분야 신청 도록 전문가 맞춤 형 지원 수 도록 자문 결과 보고서 활용 실제 인증 신청서 작성 수 올해 미세먼지 가뭄 녹조 생활 악취 지반침하 등 환경 제 관련 기술 개발 및 확산 지원 위해 해당 분야 기술 인증 기업 대상 선적 지원 계획 김 은 한국 환경 산업 기술 원 기술 평가 실장 중소기업 보유 우수 환경기술 환 경신 기술 녹색 기술 증 취득 어려움 도록 지원 더욱 강화 것 환경기술 코 디네 터 지원 사업 개요 질의 응답 전문용어 설명 끝',\n",
       " '환경 공단 올해 규모 환경 시설 공사 발주 환경 공단 올해 규모 환경 시설 공사 발주 년 대비 건 중 턴키 건 발주 파주 폐수종 말 처리 시설 사업 발주 공사 비 최대 한국 환경 공단 이사장 이시진 은 년 대비 규모 환경 시설 공사 발주 계획 확정 올해 시설 공사 발주 건수 총 건 지난해 건 건 이 금액 이 증가 총 건의 공사 가운데 건 턴키방식 일괄 입찰 나머지 건 일반 경쟁 방식 적 격심 사 입찰 참가자 격 사전 심사 진행 턴키방식 건설업 체 설계 시공 일괄 책임 공사 방식 턴키 공사 파주 일반 산업 단지 단계 폐수종 말 처리 시설 설치 사업 강화군 하수도 시설 확충 사업 인천 폐수종 말 처리 시설 증설 사업 등 건 공사 금액 총 환경 공단 업체 간 담합 사업 비 증가 대형 건설 사 편중 등 턴키 입찰 제도 대한 개선 필요성 제기 턴키 발주 최소 한편 불가피 턴키 발주 대해 입찰 담합 징후 진단 사 전체 크리스트 도입 담합 징후 공정위 조사 의뢰 관계 기관 담합 정보공 유 등 제도 개선 통한 부조리 차단 주력 계획 이번 환경 시설 공사 발주 계획 전체 공사 시설 별로 폐수처리 시설 건 폐기 물처리 시설 건 비점 오염 저 감시 설 건 기타 환경 시설 에너지 자립 화 시설 등 건 등 그 중 약 절반 폐수처리 시설 집중 이중 최대 규모 공사 총 공사 비 규모 파주 일반 산업 단지 단계 폐수종 말 처리 시설 설치 사업 발주 파주 일반 산업 단지 단계 발생 공장 폐수 및 생활 오수 적정 처리 위 하루 처리 능력 폐수종 말 처리 시설 설 치하 사업 턴키 공사 제외 이상 공사 춘천시 침수 예방 사업 창원시 침수 예방 사업 등 지난해 건 대비 건 환경 공단 전체 환경 시설 공사 가운데 총 건 상반기 내 발주 로써 침체 건설 경기 활 수 도록 힘 보탤 방침 한편 환경 공단 지난해 계약 제도 개선 통해 모든 사업 국가 계약법 일괄 적용 계약 방식 국가 사업 국가 계약법 지방자치단체 사업 지방 계약법 각각 적용 도록 개선 통해 지역 제한 금액 상향 로써 환경 공단 발주 공사 더 지역 건설업 체 참여 수 도록 또한 협상 용역 사업 평가 위원 전원 기술 용역 평가 위원 과반수 외부 전문가 참여 도록 용역 사업 평가 규정 개정 등 투 명성 한층 더 강화 환경 공단 올해 발주 계획 환경 공단 누리집 확인 수 한국 환경 공단 환경 시설 공사 발주 계획 이상 질의 응답 전문 용어 설명 턴키 입찰 제도 개선 사항 끝',\n",
       " '지구온난화 유발 블랙 카본 레이저 정밀 측정 지구온난화 유발 블랙 카본 레이저 정밀 측정 필터 레이저 활용 기존 대비 배 더 정밀 측정 올해 협력 대기 질 공동 조사 연구 활용 지구온난화 유발 물질 이자 초미세먼지 주요 성분 블랙 카본 레이저 정밀 측정 국내 기술 개발 환경부 장관 윤성규 한국 환경 산업 기술 원 원장 김용주 은 대기 중 초미세먼지 레이저 때 발생 굴절률 변화 감지 블랙 카본 측정 기술 개발 블랙 카본 석탄 석유 탄소 함유 연료 불완전 연소 때 검은색 그을음 자동차 매연 이나 석탄 때 연기 등 포함 햇빛 수하 성질 때문 이산화탄소 지구온난화 영향 주요 물질 로 일상생활 가시거리 초미세먼지 주요 성분 블랙 카본 지구온난화 영향 정보 출처 기후변화 관 정부 간 협의 체 차 보고서 이번 개발 기술 필터 레이저 대기 중 직접 블랙 카본 굴절률 변화 측정 블랙 카본 양 정밀 측정 수 기존 기술 필터 위 블랙 카본 광 흡수 측정 굴절률 빛 굴절 정도 로서 온도 굴절률 달라짐 여름철 아스팔트 위 생기 아지랑이 굴절률 변화 생기 현상 임 광열 간섭 필터 이용 측정 기존 장비 비교 때 약 배 정도 우수 민감 를 어서 지구온난화 예측 정밀도 수 것 기대 또한 기존 필터 기반 방법 필터 재질 때문 측정값 오차 발생 인위 적 보정 수 정과정 사용 필터 교환 이번 기술 레이저 직접 대기 시료 중 블랙 카본 이면 블랙 카본 레이저 빛 에너지 수하 주변 공기 가열 이 발생 굴절률 변화 감 지하 보정 이나 수정 작업 블랙 카본 양 정밀 측정 수 필터 기반 장 비처럼 항상 필터 교환 번거 로움 이번 블랙 카본 측정 기술 환경부 한국 환경 산업 기술 원 환경 융합 신 기술 개발 사업 중 하나로 월부 터 개발 시작 한국 기술 교육대학 교 랩코 연구 팀 기술 개발 수행 이 기술 미래창조과학부 기초 연구 한국 연구 재단 신진 연구자 원사 업 등 의 우수 성과 실용 연구 계 환경부 미래부 협업 체계 브리지 프로그램 진행 결과 이 기술 올해 국내 특허 취득 최근 국제 특허 도 출원 등 기술 수성 인정 또한 올해 월부 터 진행 협력 국내 대기 질 공동 조사 연구 도심 지역 지상 대기 질 측정 작업 약 주간 실제 투입 김용주 한국 환경 산업 기술 원 원장 경영학자 피터 측정 관리 수 말 처럼 정밀 측정기 술 환경오염 물질 관 리하 가장 중요 기초 기술 이 라며 이번 측정기 술 개발 기후변화 대기 환경 관리 자동차 배출 가스 감 등 다양 분야 적용 수 기대 고 말 광열 간섭 이용 블랙 카본 측정 기술 개요 질의 응답 전문용어 설명 끝',\n",
       " '빈 용기 보증금 가격 인상 업체 민 관 감시 강화 편의점 음식점 등 보증금 인상 미로 부당 주류 가격 인상 자제 시민단체 수도권 시작 전국 소매 점 음식점 모니터링 확 대하 조사 결과 공개 관계 기관 시정 요청 예정 환경부 장관 조경규 서울 용산구 서울역 회의실 편의점 유통업 외식 업 단체 소비자 시민단체 등 간담 회 빈 용기 보증금 인상 미로 업계 수익 무관 주류 가격 인상 대해 대응 방안 논의 간담 회 앞서 환경부 일부 터 소비자 시민단체 한국 순환 자원 유통 원 센터 구성 빈 용기 보증금 모니터링단 구 성하 수도권 위치 편의점 등 소 매점 주류 가격 빈 용기 반환 실태 등 대해 조사 착수 빈 용기 보증금 모니터링단 참여 단체 녹색 소비자 연대 소비자 공익 네트워크 등 환경부 간담 회 자리 빈 용기 보증금 모니터링단 이 최근 일부 프랜차이즈 음식점 가맹 본부 등 주류 가격 인상 움직임 포착 일부 터 수도권 여개 음식점 대해 서도 조사 월부 터 전국 소 매점 음식점 대상 확대 설명 빈 용기 보증금 모니터링단 은 우선 월초 수도권 조사 결과 공개 부 당하 주류 가격 인상 음식점 유통업체 등 대해 관계 당국 시정 요청 계획 환경부 날 간담 회 신규 사업자 편의점 경우 빈 용기 보증금 환불 경험 근무 자가 환불 요령 상황 대비 편의점 본사 차원 적 극적 안내 요청 또한 관할 지자체 시민단체 등 편의점 등 소 매점 빈 용기 보증금 환불 여부 대한 점검 강화 소 매점 빈 용기 보증금 환불 의무 부터 자원 절약 재활용 촉진 관 법률 등 정해 제도 대한 인식 법적 의무 것 처럼 오 인하 경우 환경부 향후 소비자 반환 증가 것 대비 지난해 빈 용기 취급 수수료 인상 도서 농어촌 지역 회수 지원 플라스틱 박스 보급 우수 업체 포상 등 각종 지원 대책 단계 별로 확대 예정 빈 용기 회수 보관 비용 제조 사가 도 소매업자 지급 소주 병 맥주 병 인상 합의 이정섭 환경부 차관 빈 용기 보증금 인상 소비자 빈 용기 보증금 자원 절약 위 것 이 라며 정부 차원 빈 용기 보증금 인상 미로 주류 가격 무분별 인상 업체 대상 강력 대응 추진 예정 만큼 건전 시장 질서 시민 의식 통해 빈 용기 보증금 제도 정착 기대 고',\n",
       " '국립생태원 야자 식물 전 야자 대양 건너 개최 까지 야자 여 종 활용 야자 전시회 개최 세계 대륙 별 야자 식물 분포 표현 생태 분경 전시 환경부 국립생태원 원장 이희철 은 본격 적 여름 휴가 철 이하 열대 기후 대표 식물 야자 여 종 활용 야자 식물 전 일부 터 까지 충남 서천군 국립생태원 서문 광장 개최 이번 전시회 관 상용 관음죽 부터 아프리카 세이셸 공화국 서식 국제 적 멸종위기종 인 코 코드 메르 를 비롯 사발 팔마 토 부 티아 야자 등 여 종 야자수 한눈 볼 수 국립생태원 그동안 보전 온실 열대 야자 식물 활용 전시장 내 야자 숲 재현 전시장 내 내부 관람 동선 마련 아시아 오세아니아 아메리카 아프리카 등 개 대륙 야자 식물 세계 대륙 별로 야자 숲 조성하 대륙 별 야자 소개 대륙 간 야자 이동 등 관 이야기 등 흥미 롭 전달 세이셸 분포 야자수 코 코드 메르 타 니아 야자 등 대한 자세 해설 판 설치 멸종위기 처 야자수 이해 또한 야자 대륙 별 분포 생태 특성 어린이 눈높이 설명 페이지 분량 아동 용 생태 도서 재미 야자 이야기 도 중순 야자 주로 열대 및 아열대 기 후대 분포 전세계 여종 대부분 가지 갈라 지지 줄기 자라 끝 잎 달린다 우리나라 제주도 추위 카나리 야자 워싱턴 야자 등 가로수로 이희철 국립생태원 장 이번 야자 전시 통해 생물 종 다양성 이해 높이 국제 적 멸종위기종 대한 인식 전환 수 기회 마련 것 전시 야자 식물 야자 전시회 리플릿 질의 응답 전문용어 설명 끝',\n",
       " '기후변화 정책 분석 위 사회 경제 시나리오 설명 회 개최 기후변화 정책 분석 위 사회 경제 시나리오 설명 회 개최 저 탄소 기후변화 적응 사회 위 사회 경제 변화 시나리오 설명 회 개최 한국 환경 산업 기술 원 원장 김용주 은 서울 중구 컨벤션 효과 적 기후변화 대응 정책 수립 관계자 의견 듣기 위해 저 탄소 기후변화 적응 사회 위 사회 경제 변화 시나리오 설명 회 개최 이번 설명 회 한국 환경 산업 기술 원 기후변화 대응 환경기술 개발 사업 연구 제 중 저 탄소 기후변화 적응 사회 위 사회 경제 변화 시나리오 개발 의 일환 진행 행사 이번 설명 회 발표 시나리오 기후변화 연관 우리나라 사회 경제 분야 주요 지표 까지 변화 것 대한 것 정부 지자체 기후변화 정책 수립 활용 수 도록 고안 기후변화 문제 효과 적 대응 위해 미래 사회 경제 변화 가정 장기 시나리오 필수 적 이지 현재 우리나라 사용 기후변화 시나리오 시나리오 주로 기후 부문 루고 사회 경제 적 상황 대한 분석 부족 상황 온실가스 대표 농도 경로 날 설명 회 소개 시나리오 장기간 기후 정책 수립 분석 위해 기후변화 관 정부 간 협의 체 개발 공동 사회 경제 경로 시나리오 이 시나리오 미래 기후변화 대비 수준 우리나라 인구 경제 토지 이용 에너지 사용 등 사회 경제 지표 변화 정량 적 분석 내용 공동 사회 경제 경로 가령 지속 가능 사회 지향 친환경 에너지 기술 개발 확산 저 탄소 기후 적응 사회 시나리오 의 경우 국내 인구 만원 예상 반면 친환경 에너지 분야 기술 성장 확산 인구 지속 적 감 소하 고 탄소 기후 비적 응사 회 시나리오 의 경우 인구 만원 전망 연 관성 지역 끼리 해당 권역 별로 사회 경제 시나리오 개발 정부 지자체 기후변화 적응 대책 수 립하 데 효과 적 활용 수 이번 설명 회 연구 과제 담당자 채여 한국 환경 정책 평가 연구원 박사 발표 진행 연구 내용 대한 관계자 토론 시간 행사 참석 사람 사회 경제 변화 시나리오 대한 안내 책자 연구 결과 자료 콤팩트 시디 를 제공 김용주 한국 환경 산업 기술 원 원장 이번 시나리오 개발 통해 사회 경제 부문 다양 미래 상황 기후변화 효과 적 대응 수 정책 수 립하 데 도움 기대 고 사회 경제 변화 시나리오 설명 회 주요 일정 질의 응답 전문용어 설명 끝',\n",
       " '야생동물 매개 질병 선제 적 대응 전문 위원회 발족 야생동물 매개 질병 선제 적 대응 전문 위원회 발족 야생동물 질병 전문 위원회 발족 수의학 환경 미생물학 등 산 학 연 관 전문가 명 구성 전문가 간 협력 체계 구축 야생동물 매개 신 변종 감염병 대한 체계 적 대응 기반 마련 국립 환경과학 원 원장 박진원 은 야생동물 매개 질병 선 제적 대응 위 야생동물 질병 전문 위원회 발족 식 인천 시 서구 국립 환경과학 원 개최 날 발족 식 전문 위원 위촉 장 수여 위원장 선출 비롯 환경과학 원 중 장기 야생동물 질병 연구 방향 소개 야생 생물 보호 및 관리 관 법률 의 효율 적 이행 위 정책 지원 연구 방안 등 논의 이번 야생동물 질병 전문 위원회 의 발족 심각 야생동물 질병 발생 경우 역학 조사 등 대응 방안 모색 야생동물 질병 관련 지침 서나 설명 관 기술 검토 정보 교류 등 위해 추진 야생동물 질병 전문 위원회 야생동물 질병 수의학 환경 미생물학 등 다양 전공 분야 정부 기관 학계 산업 계 소속 전문가 명 구성 위원장 최경희 국립 환경과학 원 환경 건강 연구 부장 남 서울대 교수 공동 운영 계획 야생동물 질병 전문 위원회 이번 발족 식 시작 정례 적 회의 개최 최근 연구 동향 파악 야생동물 질병 사고 발생 경우 수시 위원회 소집 원인 규명 사후 조치 등 신속 체계 적 대응 예정 최경희 국립 환경과학 원 환경 건강 연구 부장 지난해 국내 첫 야생동물 질병 전문 연구 시설 생물 안전 연구 의 준공 더 불어 야생동물 질병 전문 위원회 발족 로써 국립 환경과학 원 명실 상부 야생동물 질병 관리 중추 적 기관 자리 김 며 앞 국내 야생동물 매개 신 변종 인수공통감염병 대해 체계 적 대응 가능 것 말 동물 이용 생물 안전 등급 시설 고 병원 성 조류인플루엔자 고위 병원체 수 실험 시설 사람과 환경 보호 안전 밀폐 시설 야생동물 질병 전문 위원회 발족 식 개최 야생동물 질병 전문 위원 명단 질의 응답 전문용어 설명 끝',\n",
       " '참고 지속 가능 사람 자연 중심 예산 년도 환경부 예산안 및 기금 안 편성 년도 환경부 예산안 및 기금 안 총 편성 기초 시설 설치 예산 축소 국민 안전 자연보호 예산 확대 환경부 장관 김은경 새 정부 사람 중심 재정정책 기조 추어 사람과 자연 건강 성과 지속가능성 초점 년도 예산 및 기금 안 국회 제출 예정 발표 환경부 년도 예산안 총 지출 기준 은 전 년도 대비 감액 기금 안 여유 자금 제외 은 대강 수계 기금 석면 피해 구제 기금 등 전 년도 대비 감액 총 부문 별로 대기 부문 과 환경 융합 부문 이 증액 상 하수도 수질 폐기물 기후 미래 부문 감액 수질 기초 시설 효율 화 폐기물 기초 시설 효율 화 실증 연구 단지 조성 완료 년도 환경 예산 미세먼지 화학물질 등 국민 건강 위협 환경 위해 인 사업 최우 선적 편성 미세먼지 관리 특별 대책 까지 국내 미세먼지 배출 량 를 삭감 국정 과제 목표 이행 위해 년도 관련 예산 대폭 증액 수도권 미세먼지 농도 목표 수송 부문 수도권 미세먼지 오염 주원 인 수송 부문 미세먼지 줄 이기 위 사업 대비 증액 화물차 건설 기계 등 대형 배 출원 대한 관리 대폭 강화 또한 노후 경유 차 수도권 운행 제한 제도 실효 성 확보 위해 단속 카메라 설치 예산 경 유차 어린이 통학 차량 차로 전환 보조금 지급 예산 추경 분 신규 편성 데 분 확대 편성 산업부 문 원격 감시 시스템 의 무적 설 치하 관리 종 대형 사업 장 달리 실질 적 관리 수단 종 영세 사업 장 대한 관리 강화 위해 전수 조사 사업 비 신규 반영 생활 부문 도로 청소 차 보급 예산 분 분 증액 중국 발 미세먼지 대책 당초 종료 사업인 중 공동 미세먼지 감 실증 협력 사업 연 장하 추진 예보 부문 대기오염 측정 망 구축 예산 증액 인공 지능 활용 예보 시스템 구축 연구 사업 증액 연구개발 미세먼지 대응 기술 개발 위 사업 증액 가습기 살균 체 참사 후속 대책 정부 과거 화학물질 관리 체계 완비 가습기 살균제 참사 미연 방 지하 못 책임 통감 피해자 사과 가습기 살균제 피해 구제 특별법 조성 특별구 제계 정 연금 출연 목적 예비 비 편성 특별법 가해 기업 총 출연 예정 정부 상한선 추가 적 소요 금액 출연 예정 또한 피해자 전 국적 분포 점 감안 그간 서울 아산병원 지정 가습기 살균제 보건 센터 충청 영남 호남권 추가 접근성 전문의 검토 수당 및 노출 피해 조사 비용 반 영하 피해자 자부 담 판정 수 도록 한편 가습기 살균제 사건 참사 재발 방지 위 화학물질 관리 강화 위 예산 적극 반영 가습기 살균제 경우 흡입 통한 독성 평가 위 흡입 독성 챔버 추가 개 소의 조기 도입 위 예산 과 중소기업 법령 이행 지원 위 예산 이 반영 당초 계획 까지 까지 강화 까지 살생물제 관리 법 시행 사전 승인 제 등 도입 제도 시범 사업 위 예산 신규 반영 가뭄 대책 사업 사업 연례 적 가뭄 항구 적 대비 위 상수도 시설 확충 사업 수처리 수 재 이용사 업 등 적 극적 증액 편성 상수도 시설 확충 관리 수처리 수 재 이용 원유 율 제 고로 가뭄 대비 함 수돗물 오염 방지 위 착수 노후 상수도 정비사 업 도 폭 증액 노후 상수도 정비 생태계 보전 복원 이용 사업 자연 생태계 보전 복원 현명 이용 도 모하 예산 적극 편성 자 노력 자연자원 총량 제의 기반 생태계 서비스 가치 평가 등 조사 사업 예산 신규 반영 생태계 훼손 복원 사업 증액 하천 수질 수 생태계 모니터링 자연 성 회복 강구 위 예산 증액 기타 주요 증액 사업 및 감액 사업 그 대응 철새 정보 네트워크 신규 자 법 신규 제도 신규 환경 지킴 환 경전 문무역 상사 신규 등 신규 확대 편성 반면 하수 관로 정비 등 수질 기초 시설 설치 비 매립 장 등 폐기물 기초 시설 설치 비 보급 률 집행 가능성 등 감안 폭 조정 전체 예산 중 상 하수도 수질 부문 비중 그간 급증 온 친환경 차 예산 단가 인 하하 예산 규모 안정화 도모 하이브리드 차 만원 만원 전기차 만원 만원 원금 승 환경부 기획 재정 담당 관 년도 환경부 예산 및 기금 시설 투자 경도 온 그간 편성 방향 선 회하 사람과 자연 건강 성과 지속가능성 집중 예산 강조 면서 국회 심의 확정 집행 단계 최대한 효과 낼 수 도록 사업 준비 만전 기 계획 년도 환경부 예산안 개요 년도 환경부 주요 특색 사업',\n",
       " '중남미 환경 산업 진출 발판 현지 전문가 초청 전문교육 중남미 환경 산업 진출 발판 현지 전문가 초청 전문교육 국립 환경 개발 원 미주 개발 행 콜롬비아 등 중남미 개국 전문가 참가 국제 환경기술 전문 교육과정 진행 중남미 환경 협력 워크숍 개최 등 통해 중남미 환경 시장 진출 확대 기대 환경부 소속 국립 환경 개발 원 원장 김승희 은 일부 터 간 미주 개발 행 이하 비롯 콜롬비아 등 중남미 개국 환경 분야 전문가 참여 제 차 국제 환경기술 전문 교육과정 진행 미주 개발 행 중남미 지역 지속 적 경제 사회 개발 자유무역 및 지역 통합 달성 위 금융 기구 번 전문 교육과정 올해 환경부 환경 산업 기술 분야 워크숍 주 기적 개최 합의 함 마련 협력 국내 환경 기업 중남미 환경 산업 진출 방안 논의 예정 국립 환경 력개 발원 측 협조 전문 교육과정 참가자 초청 선임 전문가 콜롬비아 재정 신용 부 담당자 등 중남미 개국 상 하수도 폐기물 분야 주요 인사 명 참여 전문 교육과정 중남미 환경 협력 워크숍 폐기물 상 하수도 분야 정책 및 기술 소개 현장 견학 등 진행 서울 영등포구 코트 야드 메리어트 호텔 중남미 환경 협력 워크숍 초청 연수 참가자 국내 환경 기업 중남미 환경 현안 기술 적 해결 방안 대해 논의 예정 중남미 국가 환경 기반시설 인프라 사업 참여 후안 알 프레 림 실바 선임 전문가 환경 분야 사업 전략 발표 계획 국내 환경 기업 중남미 시장 진출 방안 모색 도움 것 글로벌 기후변화 대응 위해 협력 녹색 기후 기금 등 공동 협력 사업 발굴 계기 마련 예정 김승희 국립 환경 개발 원장 이번 전문 교육과정 측 협력 위 첫 걸음 점 의미 며 개방 공유 소통 협력 추구 정부 실현 일환 이번 교육과정 국내 환경 기업 수요 환경 산업 진출 기반 전략 마련 수 기회 바란 고 말 환경 협력 워크숍 개최 계획 제 차 국제 환경기술 전문 교육과정 운영 계획 제 차 국제 환경기술 전문 교육과정 세부 일정 전문용어 설명 끝',\n",
       " '사업 장 환경 관리 근본 부터 사업 장 환경 관리 근본 부터 환경 가치 보 장하 면서 기업 통합 환경 관리 방식 전환 환경오염 시설 통합 관리 관 법률 제정 공포 부터 배출 시설 별 최대 개 인 허가 하나로 통합 박근혜정부 국정 과제 허가 관리 시비 용연 억원 절감 환경 개선 기업 경쟁력 제 고로 경제 활성화 기여 환경부 장관 윤성규 지난 여 년 배출 구 농도 획일 적 규제 환경오염 시설 관리 방식 기술 발달 산업 고도화 추세 본적 환경부 환경오염 시설 통합 관리 관 법률 이하 통합 환경 관리 법 이 제정 공포 통합 환경 관리 법 부터 도입 환경오염 시설 대한 설치 허가 제도 전면 개편 것 대기 수질 등 최대 여개 인 허가 사업 장 하나로 통합 기술 수준 반 영하 합리 적 사업 장 맞춤 형 관 리하 이 적용 대상 기업 기존 배출 시설 별로 아야 수십 개 복수 인 허가 대신 하나 통합 허가 변경 허가 각종 신고 사후관리 또한 전체 사업 장 단위 다만 실제 사업 장 적용 시기 부터 까지 대통령령 업종 별로 달리 기존 사업 장인 경우 해당 업종 시행일 부터 이내 통합 허가 예 시행 업종 속 기존 사업 장 까지 통합 허가 아야 환경부 통합 환경 관리 법 여 년 유지 온 환경오염 시설 인 허가 제도 과 학적 선진 적 방식 탈바꿈 것 기대 환경 보 전하 면서 허가 절차 관리 과학 화 합리화 기업 부담 의도 치 처벌 가능성 해결 경제 활성화 효과 것 예상 통합 환경 관리 법 주요 내용 다음 절차 통합 대기 수질 폐기물 소음 진동 등 환경오염 배출 시설 설치 시 시설 별로 필요 다중 식 허가 사업 장 하나로 통합 관리 기존 최대 개 이상 중첩 허가 필요 가령 안산 소재 열 병합 발전소 환경오염 배출 시설 개 의 경우 사업 장 건설 환경 분야 종 약 건의 인 허가 필요 통합 환경 관리 법 시행 사업 장 단위 개 허가 인 허가 통합 면서 사업 장 전 체적 오염 배출 지점 이나 오염 감 방식 확인 수 때문 전 체적 환경 관리 수준 향상 오염 물질 최적화 통합 환경 관리 법 사업 장 해당 사항 중심 환경오염 물질 배출 최소 수 도록 허가 조건 허가 배출 기준 맞춤 형 부여 수 기존 환경법 모든 사업자 준수 의무사 항 법령 규정 어서 사업 장의 여건 불 필요 사항 불합리 점 또한 무기한 허가 제도 오염 처리기 술 등 과학기술 진보 적절 반영 수단 반영 신종 환경오염 물질 배출 사실 사업 장 조차 사례 다수 발생 통합 환경 관리 법 허가 조건 허가 배출 기준 마다 기술 발전 수준 관리 적정 성 등 토대 주 기적 검토 사업자 의견 변경 수 도록 기술 기반 오염 물질 배출 효과 적 면서 경제성 최적 기술 포함 최적 가용 기법 기준 를 마련 보급 도록 기술 재정 지원이 가능 도록 최적 가용 기법 마련 위 실태 조사 수 도록 민관 협업 산 업계 참여 업종 별 기술 작업 반 통해 최적 가용 기법 기준 마련 지원 도록 절차 투명 성 사업자 배출 시설 등 방지 시설 운영 관리 관 연간 보고서 제 출하 도록 사전 협의 허가 관리 관 사항 등 공개 로서 허가 과정 투 명성 확보 도록 이 외 최근 발달 정보통신기술 이용 허가 각종 신고 등 신청 통보 처리 수 도록 합리 적 사후관리 허가 사항 이행 역 주 기적 점검 기술 진단 실시 사업자 적합 문제해결 방안 제시 도록 로써 적발 위주 사후관리 합리 적 전환 절차 개선 통해 기업 부담 수 통합 법 시행 전후 비교 시행 통합 환경 관리 법 부터 오염 물질 배출 대규모 사업 장 수질 대기 종 이상 대상 시행 제도 적응 문제 도록 준비 상황 고려 환경 영향 업종 별로 까지 단계 적 적용 통합 환경 관리제 사업 장 환경 관리 효율 화 최적화 위해 독일 영국 등 년대 유럽연합 차원 년대 도입 효과 적 사업 장 관리 방안 경제 협력 개발 기구 지난 우리나라 통합 환경 관리제 도입 권고 바 유럽연합 통합 환경 관리 통해 환경 개선 매년 달 행정 비용 절감 자원 절감 재활용 통해 산업 경쟁력 높이 효과 바 환경부 통합 환경 관리 법 시행 중복 형식 적 인 허가 문제점 개선 경제성 최적 환경 관리 기법 바탕 사업 장 스스로 환경 관리 역량 제 수 체계 구축 것 기대 통해 환경 자원 이용 효 율성 높이 환경기술 개발 새 환경 시장 창 기여 효과 나타 날 것 예상 환경부 통합 환경 관리 법 제정 여 년 유지 온 환경 관리제 전면 개편 것 만큼 산업 계 시민단체 민간 전문가 관련 부처 지자체 등 소통 협업 통해 정부 부합 제도 구체화 계획 통합 환경 관리 시범 사업 업종 별로 확대 실시 사업 장 환경 관리 인 허가 검토 시 활용 업종 별 최적 가용 기법 기준 를 업종 별 시행 시기 고려 연차 적 마련 계획 윤성규 환경부 장관 박근혜정부 환경 정책 최대 역점 과제 통합 환경 관리 법 제정 로써 사업 장 환경 관리 역사 새 장 며 사업 장 환경 관리 기술 기반 과학 적 방식 전환 배출 오염 효과 적 뿐 기술 발전 연동 수 로써 기업 경쟁력 경쟁력 대로 아지 환경 환경 대로 것 질의 응답 용어 설명 끝 환경오염 시설 통합 관리 관 법률 별도 배포',\n",
       " '허베이 스피리 트호 유류 오염 사고 교훈 국립공원 관리 공단 유류 오염 국제 컨퍼런스 인천 개최 환경부 국립공원 관리 공단 이사장 권 업 은 환경부 해양 환경 안전 학회 공동 허베이 스피리 트호 유류 오염 국제 컨퍼런스 를 인천 송도컨벤시아 개최 이번 컨퍼런스 태안 반도 앞바다 발생 허베이 스피리 트호 유류 유출 사고 이후 국립공원 관리 공단 등 국내 관련 기관 조사 결과 외국 사고 사례 공유 위해 마련 국립공원 관리 공단 사고 직후 태안 해안 국립공원 일대 중심 해양 환경 해양 생물 인문 환경 등 개 분야 대한 장기 관측 모니터링 수행 국립공원 관리 공단 연 구진 허베이 스피리 트호 유류 유출 사고 대해 장기 관측 결과 유류 오염 영향 교란 생태계 사고 이전 생태계 수준 회복 것 나타 생태계 정밀 조사 결과 태안 해안 바다 속 의 저서 무척추동물 출현 종수 종 사고 전인 여 종 로 감소 다행 저서 무척추동물 출현 종수 부터 사고 이전 수준 회복 사고 직후 조사 당시 태안 해안 국립공원 북부 해안 등 피해 해안선 중 유류 남아 것 나타 이후 로 감소 조사 결과 유류 전혀 남아 이번 국제 컨퍼런스 권 업 국립공원 관리 공단 이사장 홍정기 환경부 자연환경 정책 실장 이 은방 해양 환경 안 전학 회장 비롯 개국 명의 국내외 전문가 및 정부 관계자 태안 지역 주민 등 총 여 명 참석 이 각국 유류 유출 사고 대한 조사 연구 결과 공유 향후 정책 방향 관 논의 기조 강연 미국 국립 해양 대기 청 동안 유류 오염 영향 연구 제프리 박사 각국 유류 유출 조사 연구 현황 지속 적 조사 필요성 관해 발표 이외 미국 스웨덴 영국 일본 호주 등 해외 전문가 국내 전문가 허베이 스피리 트호 유류 유출 후 생태계 연구 및 정책 추진 방향 대해 토론 나 공주 국립공원 관리 공단 국립공원 연구원 장 이번 컨퍼런스 발표 태안 유류 오염 사고 장기 관측 결과 혹시 유류 사고 발생 경우 해양 생태계 조사 연구 방향 결정 유용 이정표 것 허베이 스피리 트호 유류 유출 국제 컨퍼런스 개요 허베이 스피리 트호 유류 유출 사고 개요 관련 사진 생태계 영향 장기 모니터링 개요 끝',\n",
       " '박쥐 생태 특성 이용 동굴 환경 관찰 동굴 박쥐 온도 선호 동굴 환경 밀접 관계 이용 동굴 환경 모니터링 방법 특허 등록 생물 정보 이용 동굴 환경 정보 분석 및 데이터 구축 환경부 국립생태원 원장 이희철 은 동굴 박쥐 온도 선호 동굴 환경 밀접 관계 활용 동굴 환경 모니터링 시스템 및 방법 개발 최근 특허 등록 이번 특허 등록 국립생태원 수행 중인 생태계 공존 진화 연구 사업 중 동굴 박쥐 서식지 특성 연구 결과 일환 올해 특허 등록 특허 등록 동굴 환경 모니터링 시스템 및 방법 은 동굴 잠자리 이용 박쥐 생태 특성 동굴 환경 모니터링 방법 적용 것 박쥐 동면 중 에너지 대사 최소 위해 동면 장소 온도 체온 일치 또한 박쥐 종류 선호 서식지 조건 연 구진 동굴 잠 박쥐 체온 동굴 온도 밀접 연관 점 착안 박쥐 생태 적 특성 동굴 환경 지표 활용 가능 점 이용 특허 기술 개발 이 특허 기술 동굴 박쥐 생태 정보 동굴 환경 정보 수집 후 학습 모델 환경 정보 분석 데이터 구 축하 어진 데이터 합성 신경망 정보 동굴 대한 온도 공간 구성 등 환경 모니터링 결과 낼 수 가령 겨울철 동굴 때 중간 끝 지점 관코박쥐 토끼박쥐 관찰 그 동굴 온도 환경 이하일 것 추론 가능 관코박쥐 토끼박쥐 동면 온도 선호 이기 때문 이 특허 기술 동굴 조사 현장 적용 경우 온도 등 환경 정보 수집 이번 특허 수천 개 것 추정 국내 자연 동굴 대한 정보 부족 현실 감안 때 향후 활용 가능성 것 기대 이희철 국립생태원 장 국립생태원 연구 결과 개발 이번 특허 동굴 자연환경 조사 등 여러 분야 적용 가능 때문 특허 등록 활용 가치 것 기대 고 말 동굴 박쥐 사진 동굴 환경 모니터링 시스템 도식 질의 응답 전문용어 설명 끝',\n",
       " '공사 장마철 대비 효율 적 매립 작업 운영 공사 장마철 대비 효율 적 매립 작업 운영 매립 블록 축소 및 별도 수해 폐기물 매립 구역 설정 운영 비상 용 토사 확보 반입 즉시 매립 등 쾌적 환경 조성 수도권매립지 관리 공사 대표 이재현 이하 공사 수해 폐기물 대비 효율 적 매립 구역 설정 비상 용 토사 확보 반입 등 골자 장마철 대비 매립 작업 관리 대책 마련 이번 대책 현재 운영 중인 제 매립 장 장마철 대비 매립 작업 수해 피해 발생 폐기물 매립 사전 대비 악취 등 환경문제 예방 위해 마련 주요 대책 악취 확산 최소 위해 매립 블록 축소 분량 수도권 지역 수해 폐기물 매립 수 구역 설정 운영 수해 폐기물 전부 사업 장 생활 폐기물 구분 반입 수해 폐기물 유기물 수분 재활용 이나 소각 처리 경우 한해 반입 예정 또한 수해 폐기물 대응 조직체 계 구 축하 매립 및 악취 관리 대해 신속 대응 예정 수도권 지역 집중 강우 재난 대비 방송 즉시 비상 대응 조직체 계 수해 폐기물 대응 반 를 구축 약 분량 비상 용 토사 사전 확보 수해 폐기물 반입 경우 즉시 매립 처리 계획 외곽 흙 제방 안정 성 확보 위해 제방 횡 배수관 내 천막 덮개 등 활용 보강 쓰레기 외부 유출 도록 비산 방지 망 설치 이 차수 매트 등 설 치하 빗물 침출수 발생 원 천적 차단 한편 탈취 살균 방역 작업 강화 매립 가스 발생 최소 화 등 매립지 주변 지역 쾌적 환경 조성 계획 김정식 공사 매립 관리 처 공사 장마철 대비 수해 폐기물 안전 위생 적 친환경 적 처리 예정 이 라며 수해 폐기물 매립지 주변 지역 악취 등 환경문제 발생 도록 지자체 수해 폐기물 분리 배출 악취 감 방안 강구 등 적 극적 협조 필 요하 고 말 장마철 태풍 매립 작업 및 수해 폐기물 관리 대책 질의 응답 전문 용어 설명 끝',\n",
       " '물 산업 성장 중소 벤처기업 한국 수자원공사 일부 터 까지 성과 공유 제 등 개 분야 중소 벤처기업 지원 제도 참여 기업 모집 물 산업 중소 벤처기업 판로 확대 개발 비 지원 일자리 창 기대 환경부 한국 수자원공사 사장 이학수 일부 터 까지 하반기 물 산업 중소 벤처기업 기술 개발 지원 제도 참여 중소 벤처기업 모집 이번 공모 중소 벤처기업 기술 경쟁력 고 매출 확대 일자리 창 지원 위해 마련 지난 상반기 공모 올해 두 번 공모 분야 개 성과 공유 제 물 산업 기자 재 공급 자등 록제 민관 공동 투자 기술 개발 사업 구매 조건 부 신제품 개발 사업 먼저 성과 공유 제 한국 수자원공사 중소 벤처기업 공동 과제 수행 원가 절감 성능 및 품질 향상 성과 도출 경우 해당 기업 수의계약 체결 판로 지원 제도 물 산업 기자 재 등록 제 한국 수자원공사 기 자재 공급 중소 벤처기업 대상 공급 안정 성과 기술 등 평가 우수 기업 공사 지명 경쟁 입찰 참가자 격 부여 제도 민관 공동 투자 사업 과 구매 조건 부 신제품 개발 사업 은 한국 수자원공사 중소 벤처기업 부가 개발 비 일부 지원 중소 벤처기업 한국 수자원공사 필요 기술 개발 수의계약 체결 판로 지원 제도 이 경우 지원 금 규모 기관 별 부담 비율 사업 별로 선정 기업 한국 수자원공사 댐 정수 장 등 제품 성능 시험 기회 테스트 베드 도 제공 심사 최종 선정 성과 공유 제 물 산업 기자 재 등록 제 의 경우 한국 수자원공사 주관 민관 공동 투자 사업 과 구매 조건 부 신제품 개발 사업 은 중소 벤처기업 부 담당 공모 자격 요건 필요 서류 등 한국 수자원공사 마중 물 센터 누리집 확인 수 자세 사항 한국 수자원공사 물 산업 플랫폼 센터 로 문의 한편 한국 수자원공사 지난 상반기 공모 통해 총 건 신규 지원 과제 선정 현재 까지 여 개 신규 일자리 창 것 분석 이학수 한국 수자원공사 사장 국내 물 기업 를 차 지하 중소 벤처기업 육성 위해 다각 적 지원 제도 모색 관계 기관 간 협력 체계 구축 것 이 라며 중소 벤처기업 혁신 성장 일자리 창 물 산업 활성화 지도 록 최선 하반기 중소 벤처기업 기술 개발 지원 제도 공모 개요 끝',\n",
       " '전기차 이용자 공공 충전 소 관리 전기차 충전 소 지킴 명 차 임명 까지 명 확대 민간 전기차 충전 인프라 모바일 앱 발굴 육성 환경부 장관 조경규 전기차 이용자 참여 확대 공공 급속 충전 소의 관리 효율 화 위해 까지 전기차 충전 소 지킴 명 선정 계획 이번 선정 명의 전기차 충전 소 지킴 거주지 인근 공공 급속 충전 소 곳 전담 관리 주 이상 지정 충 전소 방 문하 가동 상태 확인 주변 환경 정 리하 등 간단 관리 업무 수행 고장 파손 등 전 문적 보수 필요 경우 공공 급속 충전 소 운영 관리 기관 한국 자동차 환경 협회 의뢰 신속 수리 이루 수 도록 충전 소 지킴 신청 환경부 통합 포털 게재 양식 까지 한국 자동차 환경 협회 담당자 이메일 제 출하 전기차 충전 소 지킴 이로 임명 활 동기간 동안 환경부 설치 급속 충전기 무료 사용 수 도록 연간 원 상당 충전 쿠폰 이 앞서 환경부 인천 영종도 드라이빙 센터 전기차 유저 포럼 명의 충전 소 지킴 차로 임명 나머지 명 신청 자 중 선정 예정 또한 환경부 전기차 이용자 편의 더욱 강화 자 전기차 충전 인프라 모바일 앱 제작 개인 기업 발굴 육성 계획 통해 전기차 이용자 충 전소 도록 현재 출시 모바일 앱 중 우수 앱 선정 지원 방침 현재 전기차 충전 인프라 모바일 앱 운영 거나 모바일 앱 개발 개인 사업자 환경부 전기차 통합 포털 등록 양식 서류 까지 개발 앱 까지 한국 자동차 환경 협회 그린 카 사업 국 제 출하 한국 자동차 환경 협회 주소 서울시 서초구 방배천로 구산 타워 층 우수 앱 전문가 사용자 평가 올해 최 종적 선정 대상 시 상자 원 상금 비롯 앱 기능 개선 위 개발 비 선적 지원 수 이윤 섭 환경부 기획 조정 실장 영종도 전기차 유저 포럼 행사 통해 전기차 이용자 친환경 차량 대한 애정 수 면서 앞 이용자 주 도하 전기차 보급 확대 수 정책 지속 적 발굴 계획 전기자동차 유저 포럼 페스티발 행사 계획 전기차 충전 소 지킴 운영 계획 전기차 공공 급속 충전 인프라 우수 앱 선발 계획',\n",
       " '생태 공감 마당 전북 임실 개최 생태 공감 마당 임실군 사선 생태 공원 일부 터 박 일간 개최 아름 다운 경관 생물다양성 풍부 현장 채 생태 체험 만끽 환경부 국립생태원 원장 박용 목 은 생태 공감 마당 일부 터 박 일간 전라북도 임실군 사선 생태 공원 일대 개최 생태 공감 마당 은 생태 전문가 설명 참가자 직접 생물 채집 관찰 생태계 탐험 현장 체험 교육 프로그램 부터 매년 국립생태원 경기 양평 시작 서울 대전 평창 등 전국 각 지역 지자체 협력 생태 공감 마당 개최 올해 생태 공감 마당 주제 생물다양성 생태계 중요성 확산 및 국민 참여 통한 생명 사랑 실천 국립생태원 시민 참여 기회 늘 리기 위해 전국 지자체 대상 개최 를 공개 모집 생물다양성 풍부 최적 적합 지로 임실군 사선 생태 공원 선정 이번 행사 식물 조류 등 개 분야 임실 다양 생태계 체험 참가자 조사 자료 토론 시간 등 생태계 생물다양성 가치 몸 마 음으로 수 도록 다양 프로그램 또한 생태 관련 연구 전시 교육 전문가 체험 수 생물다양성 체험 부스 뿐 생태 관련 콘텐츠 구성 증강현실 임실군 생태 환경 사진전 친환경 소품 만들기 등 다양 즐 길거리 볼거리 제공 박용 목 국립생태원 장 이번 생태 공감 마당 행사 계기 지자체 생물다양성 보전 의식 생명 사랑 가치 대한 관심 지기 기대 말 생태 공감 마당 계획 생태 공감 마당 세부 일정 생태 공감 마당 개최 사선 생태 공원 생태 공감 마당 운영 사진 질의 응답 끝',\n",
       " '주년 맞이 생물다양성 날 복원 생태계 풍요 생물다양성 환경부 주년 세계 생물다양성 날 맞이 충남 서천군 국립생태원 기념 행사 개최 주요 생태계 복원 사례 소개 지역 주민 생물다양성 체험 행사 등 제공 환경부 장관 김은경 충남 서천군 국립생태원 생물다양성 날 기념 행사 개최 세계 생물다양성 날 이번 기념 식 김은경 환경부 장관 이상돈 환경 노동위 회 위원 환경 단체 지역 주민 등 여 명 참석 올해 생물다양성 날 기념 복원 생태계 풍요 생물다양성 주제 주요 생태계 복원 사례 소개 지역 주민 체험 행사 등 다양 프로그램 유엔 생물다양성 협약 선정 주제 생물다양성 협약 주년 기념 세계 생물다양성 날 은 유엔 총회 생물다양성 협약 발효 일로 제정 면서 시작 올해 주년 맞이 우리나라 부터 정부 차원 기념 식 개최 유엔 총회 협약 발효 일 로 제정 선포 총회 협약 발표 일 로 변경 날 기념 행사 국립생태원 국립공원 관리 공단 등 개 기관 다양 생태계 복원 전시 및 체험 프로그램 운영 예정 전시 프로그램 백두대간 비무장지대 등 핵심 생태 축 내 훼손 지역 복원 사업 대강 보 개방 살 아난 서식지 멸종위기 야생 생물 증식 복원 성과 등 다양 생태계 복원 사례 소개 체험 프로그램 생물다양성 최신 연구 장비 체험 생물 모형 조립 철새 만들기 참여 형 미술 프로젝트 등 구성 전시 체험 프로그램 국립생태원 내 일부 터 까지 운영 예정 기념 행사 더 불어 환경부 생물다양성 달 로 선정 다양 온라인 이벤트 마련 공공기관 및 지자체 등 서도 생물다양성 날 이하 다양 행사 전국 개최 환경부 생태계 복원 사례 카드 뉴스 소개 생물다양성 관련 궁금증 해 소하 댓글 이벤트 환경부 누리집 과 페이스북 등 운영 또한 수원 광교산 일대 생물다양성 시민 모니터링 탐사 대구 금호강 강릉 경포호 등 고유 생태계 보호 위 정화 활동 국립생태원 생태 그림 대회 등 각종 행사 열 린다 정종선 환경부 자연 보전 정책 관 올해 생물다양성 날 국 제적 생물다양성 협약 발효 주년 그간 성과 한계 돌 아보 기회 우리 라며 나은 미래 위해 생태계 복원 토대 풍요 워질 생물다양성 위 다양 정책 마련 말 기념 식 및 부대 행사 계획 주간 계 행사 계획 질의 응답 전문용어 설명 끝',\n",
       " '낙동강 생물 자원 관 상주시 상생 발전 위 업무 협약 체결 낙동강 생물 자원 관 상주시 상생 발전 위 업무 협약 체결 시민 위 생 물자원 대한 전시 교육 프로그램 개발 운영 합동 사회 공헌 활동 등 지역 사회 발전 방안 공동 모색 국립 낙동강 생 물자원 관 관장 안영 은 상주시 시장 이정 백 경북 상주시 시청 소 회의실 양 기관 공동 발전 상호 교류 확대 위 업무 협약 체결 이번 협약 국립 낙동강 생 물자원 관 상주 시민 위 생 물자원 관련 다양 전시 교육 프로그램 개발 운영 주요 지역 행사 적극 참여 예정 또한 식물 모형 체험 프로그램 운 영하 등 생 물자원 체험 문화 향유 수 기회 최대한 제공 상주시 합동 자연 정화 활동 전개 교육 위 장소 제공 누리집 및 홍보 시설 물 사용 홍보 활용 야외 자연 생태학 습장 제공 등 지역 사회 상생 발전 방안 공동 모색 국립 낙동강 생 물자원 관 이번 협약 통해 상주시 지역 사회 안 정적 정착 로써 국가 생물 산업 경쟁력 강화 지역 사회 생물 산업 발전 인식 것 기대 안영 국립 낙동강 생 물자원 관장 곶감 자전거 지역 브랜드 화 성공 상주시 성공 기법 공유 상호 발전 수 기회 바란 며 생 물자원 관련 전시 교육 프로그램 등 통 시민 호흡 나 아가 시 공고 협력 체계 완성 지역 사회 상생 발전 위해 최선 계획 국립 낙동강 생 물자원 관 이야기 축제 지역 축제 사회 복지 시설 방문 농촌 일손 돕기 등 다양 사회 공헌 활동 통 지역 공동체 일원 책임 역할 위해 노력 업무 협약 식 진행 내용 질의 응답 전문 용어 설명 끝 협약 식 관련 사진 환경부 웹하드 게재',\n",
       " '국립공원 위원회 설악산 케이블카 시범 사업 심의 통과 국립공원 위원회 설악산 케이블카 시범 사업 심의 통과 양양군 차 신청 설악산 오색 케이블카 노선 설치 운영 가이드라인 및 검토 기준 부합 인정 다만 양양군 공원 관리 청 운영 협의 체 설치 설악산 환경보전 기금 조성 상부 정류장 기존 끝청 탐방 계 차단 등 부대 조건 부여 환경부 오늘 정부 과천 청사 제 차 국립공원 위원회 위원장 환경부 차관 오색 끝청 하단 연 결하 케이블카 설치 위해 양양군 신청 설악산 국립공원 계획 변경 심의 사업 시범 사업 통과 이번 설악산 케이블카 시범 사업 양양군 지난 제 차 국립공원 위원회 최초 설악산 케이블카 설치 사업 위 공원 계획 변경 신청 세번 시도 끝 이루 어졌다 시범 사업 지난 차 심의 시 지적 문제점 보완 오색 끝청 하단 노선 변 경하 주요 봉우리 일정 거리 이격 기존 탐방 계 가능성 차단 등 차 심의 사업 타당성 및 적 정성 향상 평가 다만 사업 추진 과정 양양군 공원 관리 청 운영 협의 체 설치 영업 이익 매출 액 를 설악산 환경보전 기금 조성하 상부 정류장 기존 끝청 탐방 계 확실 배제 상부 정류장 주변 식생 보전 대책 수립 등 여러가지 세부 조건 부여 참고 양양군 국립공원 위원회 년도 결정 국립공원 삭도 시범 사업 추진 방침 사업 오색 대청봉 신청 상부 정류장 대청봉 사업 대상 특별 보호 구역 내 위치 등 이유 차 부결 재 신청 차 사업 계획 오색 관모 능선 도 노선 산양 주요 서식지 중복 친환경 교통대 책 미흡 등 이유 부결 바 설악산 국립공원 양양 케이블카 차 신청 개요 설악산 국립공원 삭도 시범 사업 민간 전문 위원회 종합 검토 보고서 설악산 오색 케이블카 사업 경과 국립공원 케이블카 시범 사업 추진 경과 국립공원 케이블카 시범 사업 심의 절차 끝',\n",
       " '하수도 하천 생명력 복원 역사 하수도 하천 생명력 복원 역사 하수도 법 제정 주년 한국 하수도 발전 사 발간 생생 사진 자료 과거 기록 통해 하수도 발전 역사 조명 환경부 장관 조경규 제정 하수도 법 주년 한국 하수도 발전 사 를 발간 이번 한국 하수도 발전 사 우리나라 하수도 발전 역사 기록 생생 사진 주요 정책 하수도 보급 률 등 각종 정보 월부 터 편찬 작업 시작 개월 동안 자료 수집 집필 과정 한국 하수도 발전 사 올해 주년 하수도 법 의 의미 되새 겨 보고 우리나라 물 위생 하수도 의 발 전사 조명 우리나라 하수도 일제강점기 한국 전쟁 전후 복구 기 등 시절 역경 고난 불과 시간 동안 눈 부신 발전 우리나라 최초 청계천 수처리 장 준공 시작 제대로 수처리 장 하나 불모 이제 하수도 보급 률 어서 선진국 어깨 단계 이르렀다 하수 처리기 술 또한 침전 세대 생물학 적 처리 세대 를 질소 인 고 도처 리하 단계 세대 돌입 막 브레인 기술 이용 하수 물 수준 정수 처리 정도 까지 발전 한국 하수도 발전 사 과거 현재 하수도 보급 률 수처리 시설 톤 일 이상 개 하수 관로 연장 배 증가 하수도 발전 서울 올림픽 낙동강 페놀 오염 사고 등 계기 정부 각종 물관 리 종합 대책 재정 투자 확대 기여 한강 수계 상수 원 수질 개선 및 주 민지원 등 관 법률 등 대강 수계 법 제정 조성 수계 관리 기금 당시 재정 부족 지자체 하수도 투자 적 극적 나선 계기 마련 점도 하수도 발전 도움 한국 하수도 발전 사 총 여 쪽 분량 통사 및 부문 사 등 모두 권 구성 권 화보 통 편 의 경우 우리나라 하수도 변천 과정 대표 수 하수도 시설 사건 및 인물 등 화보 부문 고대 부터 현재 하수도 역사 연대 별로 구분 주요 정책 도입 사회 적 여건 변화 및 하수도 각 분야 발전 과정 기술 통사 부문 구성 권 부문 사 지방 하수도 편 의 경우 하수도 각 분야 별로 산업 발전 상 하수도 조직 학계 발전 발달 과정 등 기술 한국 하수도 발전 사 발간 작업 김응호 홍익대 교수 편찬 위원장 하수도 분야 원로 정책 참여 인물 대부분 자문 위원 참여 조언 도움 환경부 하수도 역사 최초 정리 한국 하수도 발전 사 의 발간 하수도 의 땀 결실 우리나라 하수도 발전 기여 온 하수도 의 자긍심 높이 계기 것 기대 환경부 경주 대명 리조트 하수도 찬회 한국 하수도 발전 사 발간 기념 식 개최 정부 기관 공공 도서관 지자체 등 책자 배포 계획 책자 전문 자료 환경부 누리집 공개 예정 한국 하수도 발전 사 주요 내용 요약 질의 응답 전문용어 설명 끝',\n",
       " '어린이 활동 공간 곳 점검 위반 곳 대부분 도료 마감 재료 중금속 기준 초과 원인 곳 시설 개선 완료 미개 선 시설 곳 환경부 누리집 등 명단 공개 개선 이행 독려 예정 환경부 장관 김은경 지난해 어린이 활동 공간 곳 지도 점검 결과 인 곳 환경 안전 관리 기준 위반 것 환경 안전 관리 기준 적용 어린이 활동 공간 이상 어린이집 보육 실 유치원 교실 초등학교 교실 도서관 등 전국 약 곳 위반 시설 곳 유형 별로 도료 마감 재료 중금속 기준 초과 사례 대부분 인 곳 나타 도료 및 마감 재료 중금속 기준 납 질량 분율 이하 납 수은 카드뮴 크롬 질량 분율 합 이하 이 모래 등 토양 기생충 알 란 검 금지 목재 용 방부제 사용 합성 고무 바닥재 기준 초과 등 이번 지도 점검 결과 관리 기준 위반 것 확인 시설 해당 지자체 및 교육청 개선 명령 기준 인 곳 개선 완료 나머지 곳 개월 개선 기간 내 개선 완료 환경부 명단 환경부 누리집 케미 스토리 등 공개 예정 또한 해당 지자체 교육청 시일 내 시설 개선 수 도록 사후관리 강화 요청 환경부 관계자 어린이 활동 공간 안 전하 관리 수 도록 지자체 교육청 등 지도 점검 지속 적 실시 기준 위반 시설 개선 명령 명단 공개 등 통해 조속 개선 이루 수 도록 조치 라며 향후 온 오프라인 교육 홍보 전문 교육 기관 방문 컨설팅 등 통해 어린이 활동 공간 소유자 환경 안전 관리 기준 이행 수 도록 노력 말 어린이 활동 공간 지도 점검 결과 질의 응답 미개 선 시설 명단 개선 완료 시설 추가 등 변경 사항 환경부 누리집 법령 정책 환경 보건 자료 실 참고 끝',\n",
       " '제품 탄소 배출 량 산정 무료 상담 드립 제품 탄소 배출 량 산정 무료 상담 드립 탄소 배출 량 무료 산정 사업 참여 중소 중견 기업 올해 부터 모집 기간 개 월간 신청 접수 총 개 기업 선정 한국 환경 산업 기술 원 원장 김용주 은 기업 제품 제조 모든 과정 발생 온실가스 배출 량 산정 탄소 성적표 인증 까지 수 도록 탄소 배출 량 산정 무료 지원 사업 일부 터 까지 실시 탄소 성적표 제품 전과 정 원료 취득 생산 유통 사용 폐기 각 단계 발생 온실가스 양 이산화탄소 배출 량 환산 제품 표 기하 제도 탄소 배출 량 산정 무료 지원 사업 은 제품 원료 취득 단계 부터 사용 폐기 단계 까지 전 과정 발생 온실가스 배출 량 산정 과정 등 무료 지원 또한 기업 자 체적 온실가스 관리 수 도록 실 무자 교육 업종 제품 별 특이 사항 반영 탄소 배출 량 산정 분석 보고서 제공 탄소 성적표 인증 신청 지원 등 포함 지원 대상 국내 중소 중견 기업 총 개 기업 선정 기업 당 개 제품 신청 총 개 제품 대한 탄소 배출 량 산정 무료 컨설팅 진행 통해 해당 기업 수백만 원 탄소 배출 량 산정 비용 절감 수 자발 적 온실가스 감축 기후변화 효과 적 대응 도록 각 기업 사업 일정 탄소 성적표 인증 준비 수 도록 올해 개 월간 수시 신청 접수 참여 기업 신청 기간 동안 언제 접수 수 한국 환경 산업 기술 원 서류 현장 평가 등 통해 매월 말 참여 기업 선정 신청서 한국 환경 산업 기술 원 탄소 성적표 누리집 수 구비 서류 이메일 팩스 로 접 수하 김용주 한국 환경 산업 기술 원 원장 중소 중견 기업 이번 사업 적극 활용 저 탄소 제품 생산 온실가스 감축 수 기대 고 년도 탄소 배출 량 산정 지원 사업 개요 탄소 성적표 제도 소개 질의 응답 전문 용어 설명 끝',\n",
       " '동물 흥미 생존 전략 살 남아 특별 전 개최 동물 흥미 생존 전략 살 남아 특별 전 개최 국립생물자원관 올해 일부 터 내년 까지 전시 생존 전략 색 다른 시각 포식자 피 식자 세계 재 조명하 생물다양성 보전 대한 인식 높이 계기 마련 국립생물자원관 관장 김상배 은 생태계 위 동물 치열 생존 전략 소개 살 남아 특별 전시회 달 일부 터 내년 까지 인천광역시 서구 국립생물자원관 전시관 층 특별 전시 실 개최 이번 전시 거나 위해 임 서로 경쟁 포식자 피 식자 생존 전략 주제 다양 흥미 예시 소개 포식자 다른 생물 생물 피 식자 생물 위 동물 여러 가지 전략 중 영양분 섭취 것 천적 로부터 것 를 위해 발달 동물 예민 감각기관 특화된 신체 부위 특이 형태 행동 등 전시 포식자 동물 경우 사냥 때 발달 시각 후각 청각 등 감각기관 사용 그 중 서도 먹이 아내 상어 예민 후각 맹금류 시각 인간 눈 볼 수 적외선 감 지하 뱀 피트 기관 등 대해 설명 피트 기관 살모사 보아 비단 구렁이 속 뱀 가지 적외선 감지 기관 이 기관 어둠 속 서도 체온 감 지하 먹이 움직임 위치 파악 함 먹이 찾기 위해 기관 일부 특별 발달 동물 중 아하 먹이 변형 도요새 물떼새 부리 나 무속 구멍 파고 곤충 찾기 위해 발달 딱따구리 혀 등 대해 일러스트 사진 표본 등 전시 독 위험성 천적 알리 기 위해 경 고색 무당개구리 유혈목이 보호색 위 장하 쏙독새 청개구리 몸 형태 주변 환경 교묘 위 장하 곤충 의태 등 소개 이 자신 위협 동물 오히려 화학물질 분 사하 스스로 폭탄 먼지 벌레 눈 피 뿜는 신기 방어 전략 세운 뿔도마뱀 생태 김상배 국립생물자원관 관장 동물 기간 진화 통해 공격 방어 전략 발달 면서 생태계 내 적절 균형 유지 면서 이번 전시 계기 관람객 조화 롭 살 아가 생물다양성 세계 보고 보전 필요성 적극 공감 바란 고 말 특별 전 포스터 관련 사진 질의 응답 전문 용어 설명 끝',\n",
       " '차원 입체 퍼즐 생태관광 국립생태원 생태관광 체험학습 용 차원 입체 퍼즐 개발 문제해결 공간 지각 등 사고력 발달 효과 적 환경부 국립생태원 원장 이희철 은 생태관광 체험학습 용 차원 입체 퍼즐 개발 중순 부터 각종 생태관광 관련 행사 보급 이번 차원 입체 퍼즐 국립생태원 생태관광 활성화 사업 하나로 개발 올해 디자인 등록 차원 입체 퍼즐 칼 풀 사용 견 고하 조립 수 체험학습 용 교 구재 문제해결 공간 지각 등 사고력 발달 효과 적 환경부 지정 우리나라 생태관광 곳 금강 유부도 이동성 물새 머리 물떼새 국립생태원 에코 리움 등 종류 사진 특징 소개 등 구성 세 이상 부터 사용 가능 면서 생태 여행 주제 개발 생태관광 체험 교육 프로그램 운영 적합 도록 제작 차원 입체 퍼즐 비매품 생태관광 행사 사회 관계 망 서비스 경품 등 활용 국립생태원 일부 터 까지 서울 종로구 광화문 광장 개최 생태관광 페스티벌 과 일부 터 까지 충남 서천군 조류 생태 전시관 서천 군산 철새 축제 차원 입체 퍼즐 보급 예정 이희철 국립생태원 장 앞 국립생태원 생태 분야 유용 정보 제공 자 생태관광 계 상품 개발 것 이 라며 지속 적 새 상품 개발 생태관광 활성화 도모 계획 차원 입체 퍼즐 사진 질의 응답 전문용어 설명 끝',\n",
       " '자동차 배출 가스 결함 시정 관리 강화 자동차 배출 가스 결함 시정 관리 강화 자동차 결함 시정 리콜 관리 강화 위 대기 환경보전 법 시행 령 개정안 국무회의 의결 연 자동차 리콜 현황 보고 의무 화 소비자 요구 리콜 명령 이행 경우 과태료 부과 신설 환경부 장관 윤성규 보증 기간 이내 자동차 배출 가스 결함 시정 리콜 관리 강화 골자 대기 환경보전 법 시행 령 개정안 국무회의 의결 이번 개정안 자동차 배출 가스 관련 부품 결함 시정 요 구건 수가 단 건만 더라도 결함 시정 현황 연 환경부 보 고하도 록 그간 자동차 제작사 배출 가스 관련 부품 결함 시정 요구 건 수가 연간 건 초과 그 비율 이상인 경우 결함 시정 현황 환경부 분기 별로 보고 앞 결함 시정 요구 건 수가 이 경우 매년 말 까지 결함 시정 현황 환경부 보 고하도 록 환경부 자동차 배출 가스 관련 부품 전 반적 결함 현황 파악 관리 수 배출 가스 부품 결함 대한 소비자 요구 대하 환경부 결함 시정 명령 자동차 제작사 위반 경우 과태료 부과 기준 마련 그간 자동차 소유자 자동차 제작사 배출 가스 관련 부품 결함 발견 시정 요구 때 제작사 정당 사유 이행 더라도 처벌 규정 이번 개정안 결함 시정 명령 이행 대한 과태료 부과 규정 신설 법 정 과태료 상한 액 만원 위반 부터 부과 소비자 요구 결함 시정 이행 실효 성 지도 록 나정균 환경부 기후 대기 정책 관 이번 시행 령 개정 환경부 배출 가스 관련 부품 결함 현황 총 체적 파악 중 장 기적 관리 대책 수 기초 정당 소비자 요구 대한 제작사 결함 시정 책임 실 질적 강화 데 의의 고 말 대기 환경보전 법 시행 령 개정안 주요 내용 질의 응답 전문용어 설명 끝',\n",
       " '유엔 손 잡고 국내 우수 환경 정책 전파 확대 유엔 손 잡고 국내 우수 환경 정책 전파 확대 환경 산업 기술 원 프랑스 파리 유엔 환경 계획 과 환경 정책 협력 업무 협약 체결 우수 환경 정책 전파 국내 환경 기업 해외진출 기회 확대 한국 우수 환경 정책 세계 전파 위해 한국 환경 산업 기술 원 유엔 환경 계획 이 손 한국 환경 산업 기술 원 원장 김용주 오후 한국 시간 현지 시각 오전 프랑스 파리 위치 유엔 환경 계획 파리 사무소 유엔 환경 계획 기술 산업 경제 국 과 환경 정책 협력 강화 위 업무 협약 체결 유엔 환경 계획 내 지속 가능 소비 생산 에너지 기후 화학물질 폐기물 등 담당 업무 협약 체 결식 김용주 한국 환경 산업 기술 원 원장 아랍 호 발라 유엔 환경 계획 지속 가능 생활 도시 산업부 장 관계자 참석 이번 업무 협약 지속 가능 소비 생산 녹색 금융 등 분야 협력 내용 포함 우리나라 그린카드 녹색 매장 녹색 전자 조달 등 우수 친환경 구매 정책 운영 친환경 경영 기업 금리 우대 제공 것 녹색 금융 제도 운영 이번 업무 협약 체결 우리나라 우수 환경 정책 세계 적극 전파 나 아가 우리나라 환경 기업 해외 진출 기회 까지 확대 것 기대 한국 환경 산업 기술 원 유엔 환경 계획 녹색 구매 분야 업무 협약 체결 바 우수 협력 성과 바탕 이번 녹색 금융 등 범위 확대 다시 업무 협약 체 결하 지난해 유엔 총회 지속 가능 발전 목표 를 채택 함 각국 환경 정책 개선 확대 것 전망 가운데 환경 산업 기술 원 국제 기구 협력 공 신력 강화 우리나라 환경 정책 전세계 적 극적 계획 이 외 환경 산업 기술 원 유엔 지속 가능 소비 생산 개년 계획 의 이사 역할 수행 아시아 태평양 지역 지속 가능 소비 생산 제도 확대 위해 노력 김용주 한국 환경 산업 기술 원 원장 유엔 환경 계획 협력 우리 환경 정책 전파 국내 환경 기업 해외진출 적극 지원 것 말 유엔 환경 계획 한국 환경 산업 기술 원 업무 협약 추진 계획 질의 응답 전문용어 설명 끝',\n",
       " '참고 공주보 창녕함안보 상시 개방 수위 도달 공주보 개 모두 창녕함안보 취 수구 개 양수장 모두 정상 가동 양수장 농업 용수 등 공급 차질 정부 시부 터 공주보 등 개 보 개방 시작 금강 공주보 자정 낙동강 창녕함안보 오전 상시 개방 수위 도달 공주보 최초 시간 당 로 낮 추어 금번 상시 개방 수위 로 운영 중 창녕함안보 최초 시간 당 로 낮 추어 금번 상시 개방 수위 로 운영 중 공주보 상류 개 양수장 원봉 장기 학 과 세종 천연가스 발전소 공업 용취 수장 정상 가동 중이 용수 공급 차질 것 확인 각 시설 물 관리 기관 한국 농어촌 공사 공주 세종대 전지 사 중부 발전 세종 발전 본부 취 양수장 운영 상태 점검 결과 상시 개방 수위 도달 후 정 상적 운영 중 음 확인 창녕함안보 상류 보 중 양수 제약 수위 가장 상 대포 양수장 과 중 포 양수장 이 운영 이상 것 확인 창녕함안보 개 양수장 모두 정상 가동 것 각 시설 물 관리 기관 한국 농어촌 공사 창녕 지사 합천군 취 양수장 운영 상태 점검 결과 상시 개방 수위 도달 후 정 상적 운영 중 음 확인 현재 나머지 개보 계획 대로 차질 수위 계속 중 강정고령보 가장 오전 목표 수위 도달 것 예상',\n",
       " '가습기 살균제 정부 구제 대상 명 추가 인정 제 차 가습기 살균제 피해 구제 위원회 개최 가습기 살균제 폐 손상 명 재심사 명 포함 태아 피해 명 인정 환경부 장관 김은경 서울 여의도 센터 제 차 가습기 살균제 피해 구제 위원회 위원장 환경부 차관 안병옥 를 개 최하 가습기 살균제 피해 신청 자 조사 판정 태아 피해 조사 판정 건의 안건 심의 의결 위원회 차 가습기 살균제 피해 신청 자 명 신청 과 차 피해 신청 자 명 신청 대한 폐 손상 조사 판정 결과 심의 명 피 정인 의결 또한 이전 조사 판정 결과 이의 제기 명 재심사 이 중 명 피 정인 의결 기존 단계 가습기 살균제 가능성 정부 구제 대상 단계 명 단계 명 변 경태 아피 건 대한 조사 판정 결과 심의 명 피해 것 인정 이번 의결 폐 손상 조사 판정 완료 피해 인정 신 청자 명 명 피해 인정 피 인정 인도 명 명 폐 손상 명 태아 피해 명 증가 조사 판정 완료 인원 명 은 전체 신청 자 기준 명 의 피 인정 자 명 기존 피 인정 자 명 폐 손상 인정 명 신규 명 재판정 명 태아 피해 인정 명 임신 중 태아 사망 명 한편 폐 손상 인정 기준 재 검토 인정 질환 확대 위 국립 환경과학 원 임 역학 독성 노출 분야 전문가 명 구성 건강 피해 인정 기준 검토 위원회 를 월부 터 운영 공동 위원장 국립 환경과학 원 유승도 환경 건강 연구 부장 서울대 백도 명 교수 서울 아산병원 홍수 종 교수 검토 위원회 피해자 주로 호 소하 질환 노출 가능 신체 부위 독성 기전 관련 질환 발생 추세 분석 기존 보유 질환 악화 등 고려 소아 간질 성 폐질 환 등 개 검토 대상 질환 선정 과학 적 근거 마련 위 연구 논의 진행 중 검토 대상 질환 개 소아 성인 간질 성 폐질 환 알레르기 비염 아토피피부염 폐렴 독성 간염 알레르기 결막염 피해자 호소 기저 질환 환경부 검토 위원회 논의 결과 토대 정부 구제 급여 구제 계정 민간 분담 금 조성 원 해당 피해자 지원 방안 검토 예정 환경부 관계자 연말 차례 더 피해 구제 위원회 개 최하 피해 질환 추가 인정 방안 검토 작년 말 까지 접수 신청 자 명 대한 폐 손상 판정 마무리 천식 질환 우선 검토 대상자 중 인정 가능성 일부 피해자 대한 개별 판정 수 도록 노력 고 가습기 살균제 건강 피해 조사 판정 결과 전문용어 설명 끝',\n",
       " '물 수질검사 기관 불법행위 근절 대책 본격 추진 전국 수질검사 기관 대표자 간담 회 개최 불법행위 근절 주문 수시 기획 점검 확대 위반 업체 처벌 강화 분석 결과 조작 방지 위 실험실 정보 관리 시스템 단계 적 도입 등 재발 방지 대책 본격 추진 환경부 장관 조경규 전국 곳 물 수질검사 기관 대표자 간담 회 수질검사 허위 성적 발급 등 검사 업체 불법행위 대한 근절 대책 본격 적 추진 물 실 검사 기관 간담 회 오후 시부 터 서울 은평구 한국 환경 산업 기술 원 강당 열 린다 환경부 지난해 검찰 합동 단속 통해 허위 성적 를 발급 곳 수질검사 기관 적발 총 명 기소 물 수질검사 기관 지정 취소 등 조치 바 해당 검사 기관 수질검사 의뢰 업체 등 대해 관할 지자체 수질검사 재 실시 등 조치 진행 중이 환경부 수질검사 기관 불법행위 근절 위해 단 기적 정기 지도 점검 확대 위반 검사 기관 대한 처벌 규정 강화 예정 정기 지도 점검 투입 인력 개조 명 보 강하 검사 기관 지정 요건 충족 여부 실험 절차 적정 성 분석 결과 정확성 성적 발급 등 철저 확인 또한 과거 법령 위반 거나 분석 건 수가 이례 적 증가 검사 기관 대상 수시 기획 점검 실시 시험 항목 별로 적정 실험 여부 확인 수 지도 점검 매뉴얼 개발 활용 방침 검사 기관 시료 채취 담당 직원 기술 인력 등 도록 의무 화 위반 행위 대한 행정처분 가중 처벌 기준 강화 검사 방법 경우 업무 정지 처분 기존 개월 개월 지정 취소 검사 기관 재 지정 제한 기간 이상 강화 동일 위반 행위 대한 가중 처벌 적용 기준 기간 최근 환경부 검사 기관 기술 인력 지정 요건 행정처분 강화 등 위해 올해 물 관리 법령 개정 예정 환경부 중장 기적 고 의적 허위 검사 예방 위해 실험실 정보 관리 시스템 도입 계획 실험실 정보 관리 시스템 시료 접수 부터 기기 분석 결과 기록 성적 발급 까지 일련 과정 기록 관리 수 시스템 김종률 환경부 수 도정 책장 지난해 불법행위 적발 계기 물 검사 기관 대한 관리 대책 강화 유사 사례 재발 도록 철저 관리 고 말 물 수질검사 기관 대표자 간담 회 개최 계획 불법행위 근절 대책 추진 방안 질의 응답 전문용어 설명 끝',\n",
       " '도토리 구멍 벌레 착안 생태 모방 드릴 개발 국립생태원 도토리 거위벌레 턱 모방 확 형 드릴 특허 출원 도토리 구멍 벌레 효율 성 드릴 성능 환경부 국립생태원 원장 이희철 은 한국 기계 연구원 원장 박천 홍 과 공동 연구 끝 도토리 거위벌레 턱 생태 동작 모방 확 형 드릴 개발 최근 특허 출원 이번 특허 출원 국립생태원 수행 중인 기초 생태 연구 생물 모방 연구 사업 의 하나로 올해 특허 출원 완료 특허 출원 확 형 드릴 은 미세 구멍 및 구멍 동시 수 기구 도토리 구멍 도토리 거위벌레 행동 생태 특성 모방 응용 것 딱정벌레목 속 도토리 거위벌레 성충 몸 길이 날개 길이 크기 주둥이 주둥이 끝 쌍 턱 여러 개 가위 처럼 입 체적 움직 이 벌레 주둥이 턱 이용 도토리 효율 적 구멍 구멍 입구 그 호리 병 처럼 국립생태원 연 구진 도토리 거위벌레 효율 적 움직임 착안 표면 입구 면서 내부 공간 수 확 형 드릴 개발 이 확 형 드릴 은 일 반적 드릴 회전 모터 구멍 칼날 길이 조 절하 수평 방향 모터 추가 도토리 거위벌레 효과 적 절삭 이번 확 형 드릴 특허 기술 주변 물 영향 주 면서 제거 부분 절삭 수 향후 여러 분야 활용 가능성 것 기대 국립생태원 확 형 드릴 의료 용 공업 용 개발 계획 시 제품 올해 중 예정 국립생태원 지난해 부터 한국 기계 연구원 공동 생물 특징 연구 응용 생물 모방 연구 시작 이번 확 형 드릴 은 첫 연구 결과 이희철 국립생태원 장 이번 특허 출원 계기 생물 모방 연구 더욱 강화 지적재산권 창 등 산업화 응용 연구 분야 기여 것 말 도토리 거위벌레 사진 확 형 드릴 모 식도 질의 응답 전문용어 설명 끝',\n",
       " '가습기 살균제 피해 구제 특별법 시행 령 국무회의 의결 가습기 살균제 건강 피해 범위 규정 및 피해 구제 위원회 구성 운영 특별구 제계 정 지원 수 건강 상 피해 인정 조건 마련 가습기 살균제 종합 지원 센터 및 보건 센터 설치 운영 환경부 장관 김은경 시행 예정 가습기 살균제 피해 구제 위 특별법 이하 특별법 의 원활 운영 위해 제정 시행 령 안이 국무회의 의결 가습기 살균제 피해자 대한 신속 구제 지속 가능 지원 대책 수립 목적 올해 국회 본회의 통과 제정 공포 특별법 시행 령 총 개 조항 구성 건강 피해 범위 및 피해 구제 위원회 구성 운영 구제 계 정운용 위원회 구제 계정 지원 인정 조건 가습기 살균제 종합 지원 센터 및 보건 센터 설치 운영 등 법률 위임 내용 기타 법 시행 필요 사항 주요 내용 먼저 특별법 위임 건강 피해 범위 특별법 규정 폐질 환 이외 지난 환경 보건 위원회 의결 태아 피해 인정 기준 반영 추가 적 건강 피해 환경부 장관 고시 수 도록 피해자 판정 지원 등 심의 의 결하 피해 구제 위원회 참여 중앙 행정기관 환경부 보건복지부 정 건강 피해 인정 피해 등급 등 관 전문 적 검토 폐질 환 폐 외질 환조 사 판정 전문 위원회 요청 수 도록 규정 피해 구제 위원회 부터 건강 피해 인정 구제 급여 상당 지원이 필 요하 고 인정 신 청자 대한 특별구 제계 정 지원 조건 등 정비 구제 계 정운용 위원회 건강 피해 및 법률 관련 전문가 자산운용 전문가 피해자 단체 환경 단체 등 추 천하 전문가 등 구성 가습기 살균제 노출 신청 자의 건강 상 피해 간 의학 적 개 연성 인정 시간 적 선후 관계 확인 피해 정도 중증 거나 지속 적일 경우 구제 계 정운용 위원회 심의 통해 구제 급여 상당 지원 수 도록 특별구 제계 정의 재원 원 가습기 살균제 사업자 원료 물질 사업자 분담 금 납부 기준 구체화 또한 폐업 부도 파산 사업자 등 분담 금 납부 의무 면제 중소기업 대한 납부 액 감액 및 분할 납부 등 규정 가습기 살균제 피해자 지원 위 서울시 은평구 한국 환경 산업 기술 원 가습기 살균제 종합 지원 센터 가습기 살균제 건강 피해 조사 연구 등 위 가습기 살균제 보건 센터 인천 서구 국립 환경과학 원 설치 운영 효율 적 업무 수행 위해 지원 센터 보건 센터 서울 아산병원 등 환경 보건 법 환경 보건 센터 등 기관 협력 수 도록 규정 이 외 중위 소득 이하 신 청자 대한 가습기 살균제 진찰 검사 비용 지원 피해자 단체 구성 요건 등 관 규정 마련 이번 통과 시행 령 지난 일부 터 일간 입법 예고 차례 공청회 초 재 입법 예고 등 의견 수렴 결과 반영 이번 시행 령 시행 전 관보 게재 통해 공포 예정 환경부 누리집 법령 정보 확인 수 가습기 살균제 피해 구제 위 특별법 시행 령 안 주요 내용 질의 응답 전문용어 설명 끝',\n",
       " '자연 다양 아이디어 생물 모방 특별 전 개최 국립생태원 일부 터 동안 아이디어 산실 자연 생 각하 특별 전 운영 생물 모방 국제 심포지엄 국립생태원 강당 개최 환경부 국립생태원 원장 이희철 은 자연 다양 아이디어 소개 생물 모방 특별 전 일부 터 동안 충남 서천군 국립생태원 에코 리움 특별 전시장 운영 생물 모방 이란 자연 생태계 자연 현상 생명체 기본 구조 원리 등 영감 공 학적 응용 것 의미 이번 전시 생물 생태 환경 등 대한 전 문적 내용 이해 상상력 볼 수 기회 제공 생물 모방 분야 생물 생태 대한 연구 이해 중요 역할 것 알리 고자 기획 국립생태원 이번 전시 생물 모방 연구 공간 과 생물 모방 놀이 공간 구 성하 관람객 전시 계 다양 체험 교육 과정 참여 수 도록 준비 생물 모방 연구 공간 은 생태 기반 연구실 진행 도토리 거위벌레 연구 를 소개 도마뱀붙이 노랑 거북복 거미 등 생물 직접 관찰 면서 생물 모방 사례 실제 경험 등 연구자 관점 자연 생물 탐구 생물 모방 놀이 공간 은 프린터 시연 거꾸로 글씨 체험 벨 찍찍 포토 존 등 마련 체험 통해 생태 모방 이해 연잎 방수 효과 실험 단풍 씨앗 낙하 실험 등 어린이 눈높이 설명 차별 화 체험 교육 주말 동안 하루 번 운영 예정 한편 국립생태원 생물 모방 연구 소개 최근 연구 동향 공유 위해 생물 모방 국제 심포지엄 국립생태원 교육 강당 개최 이번 심포지움 생물 모방 연구 현재 발전 가능성 다른 분야 접목 가능성 등 대한 정보 서로 공유 방향성 모색 심포지움 생물 및 공학 디자인 관련 다양 분야 국내외 연구자 명과 국내 관계 기관 학생 교수 전문가 등 여 명 참석 이희철 국립생태원 장 이번 특별 전 생물 모방 대해 국민 정보 공유 나 아가 미래 주인공 어린이 청소년 과학자 꿈 수 기회 제공 며 앞 연구 전시 교육 계 사업 지속 적 발굴 확대 예정 생물 모방 특별 전 포스터 생물 모방 국제 심포지움 포스터 질의 응답 전문용어 설명 끝',\n",
       " '환경 신기 술 개발 규제 혁신 시작 관계 부처 합동 건의 환경 규제 개선 방안 마련 대기오염 물질 측정 방식 다양 화 기반 마련 시험 연구 목적 폐기물 활용 허용 등 환경 분야 신기 술 개발 촉진 환경부 장관 김은경 정부 서울 청사 정부 세종 청사 화상회의 개 부처 참석 를 통해 제 국정 현안 점검 조정 회의 환경 분야 신기 술 촉진 및 신 산업 육성 위 건의 환경 규제 개선 방안 공개 건의 환경 규제 개선 방안 은 시험 연구 용 폐기물 재활용 원칙 적 허용 대기오염 물질 별 측정 방식 다양 화 환경 신기 술 환 경연 구단 내 환경오염 물질 허용 배출 가스 시료 채취 재료 범위 확대 구성 시험 연구 용 폐기물 재활용 원칙 적 허용 은 폐석 의료 폐기물 등 재활용 제한 폐기물 시험 연구 목적 활용 수 도록 허용 실효 성 폐기물 관리 기술 개발 등 가능 이 폐기물 재활용 관련 신기 술 개발 촉진 비롯 기업 시험 연구 투자 확대 재활용 산업 활성화 일자리 창 기대 대기오염 물질 별 측정 방식 다양 화 미세먼지 등 대기오염 물질 별로 가지 측정 방법 허용 환경 정책 기본 법 시행 령 이 올해 개정 대기오염 물질 별로 첨단 기술 활용 다양 측정 방식 도입 수 기반 마련 대기오염 물질 측정 방법 유연 도입 측정 시장 진입 장벽 낮 아지 관련 기술 개발 및 산업 활성화 기여 것 환경 신기 술 환 경연 구단 내 환경오염 물질 허용 은 환경 산업 연구 단지 내 폐수 폐기물 대기오염 물질 등 환경 오염 물질 반입 가능 신기 술 개발 위 실험 원료 확보 배출 가스 시료 채취 재료 범위 확대 다이옥신 등 잔류 성 유기오 염 물질 배출 시설 시료 채취 사용 가능 재료 범위 엑스 에이 디 수지 종류 규정 것 일정 기준 만 족하 흡착 수지 로 범위 수지 사 제품 다이옥신 등 대표 적 흡착 다이옥신 흡착 재 제품 간 경쟁 재료 가격 최대 절감 전국 여 개 잔류 성 유기오 염 물질 배출 시설 흡착 재 공급 부족 현상 해결 것 기대 이번 발표 환경 규제 개선 방안 혁신 성장 위해 범 정부 차원 추진 중인 포괄 적 네거티브 규제 전환 정책 의 하나로 추진 포괄 적 네거티브 규제 전환 이란 법령 포괄 적 개념 정의 유연 분류 체계 등 도 입하 개발 기술 법적 포섭 가능 실험 및 연구 활성화 위해 기존 규제 면제 규 제유 예제 도입 등 의미 박천 규 환경부 차관 이번 규제 개선 통해 생명공학 기술 정보통 신 등 민간 분야 우수 기술 환경 분야 적극 도입 수 계기 수 기대 라며 앞 건강 환경 생명 직결 환경 규제 철저 신기 술 신 산업 육성 가로막 규제 과감 개 선하 환경 분야 신 기술 혁신 성장 기여 수 도록 노력 건의 환경 규제 개선 방안 목록 끝',\n",
       " '전국 지자체 곳 전기차 구매 보조금 신청 접수 지자체 별로 원 원 사이 전기차 구매 가능 환경부 장관 조경규 일부 터 전국 곳 지자체 민간 대상 전기차 구매 보조금 신청 접수 올해 전기차 구매 보조금 지원 지난해 곳 지자체 곳 더 부산 대구 인천 등 곳 지자체 일부 터 즉시 구매 신청 가능 수원 성남 고양 등 곳 지자체 일부 터 서울 등 나머지 지자체 지방 비 확보 관련 절차 진행 후 월부 터 중 구매 신청 전기차 보조금 지원 신청 가능 지자체 현황 올해 전기차 구매 보조금 국고 원 지방 비 원 보조금 지원 지자체 별로 원 원 아이오 닉 기본 사양 기준 취득세 제외 전기차 구매 수 전기차 구매 보조금 가장 지자체 울릉도 국고 방비 원 청주 원 순천 원 순이 구매 보조금 지원 물량 가장 곳 제주도 총 대의 전기차 보조금 지원 이 어서 서울 대구 부산 순이 연간 를 주행 경우 차량 구매 비용 세금 연료비 포함 간의 총 전기차 비용 원 급 내연기관 차량 원 비교 때 전기차 최대 원 절약 승용차 연평 균 주행 거리 교통 안전 공단 전기차 내연기관차 실 구매 가격 및 총 비용 비교 전기차 아이오 닉 기본 사양 내연기관차 아반떼 기준 전기차 구매 희망 인근 자동차 판매 대리점 방 문하 보조금 지원 위 구매 신청서 계약서 작 성하 자동차 판매 대리점 지자체 서류 제출 등 관련 절차 대행 관련 모 식도 참조 환경부 전기차 보급 사업 관련 원활 정보 제공 위해 전기차 통합 콜센터 전기차 통합 포털 운영 차량 직접 체험 위해 서울 코엑스 로비 전기차 전용 홍 보관 운영 통합 콜센터 그간 환경부 지자체 자동차 판매 대리점 등 분산 전기차 보조금 관련 문의 일원화 전기차 구매 희망 자가 관련 서류 작성 어려움 도록 안내 코엑스 전기차 전용 홍 보관 까지 운영 예정 구매 희망 자가 홍 보관 방 문하 현장 전시 아이오 닉 쏘울 등 전기차 직접 체험 구매 절차 대한 상담 수 조경규 환경부 장관 전기차 홍 보관 방 문하 전시 차량 직접 체험 구매 절차 대한 안내 등 홍 보관 운영 수 도록 사전 점검 예정 조경규 장관 전기차 구 매하 미세먼지 감 비롯 온실가스 감축 환경 연료비 저렴 가계부 덜 수 며 전기차 장점 널리 국민 전기차 구매 희망 고 말 지자체 별 전기차 구매 보조금 및 보급 일정 전기차 구매 절차 전기차 보조금 지원 대상 차종 년도 전기자동차 보급 사업 공고 문 전기자동차 홍보 관 방문 계획 안',\n",
       " '환경부 닛산 포르쉐 자동차 인증서 류 오류 확인 환경부 닛산 포르쉐 자동차 인증서 류 오류 확인 닛산 개 개 포르쉐 개 등 개 차종 인증 취소 개 차종 판매정지 개 차종 과징금 부과 천대 예정 포르쉐 환경부 검찰 자진 신고 환경부 장관 조경규 지난 폭스바겐 인증서 류 위조 적발 이후 최근 까지 국내 개 수입 사 전체 대상 유사 사례 조사 진행 조사 기간 중 포르쉐 한국 법인 인증서 류 오류 환경부 검찰 자진 신고 다른 수 입사 교통 환경 연구소 인증 차량 모델 판매 차량 모델 다른 경우 다른 차종임 인증서 류 동일 것 확인 작업 진행 오류 발견 차량 수 입사 로부터 관련 서류 제출 차 소명 기회 제공 이번 오류 발견 차 종은 한국 닛산 코리아 포르쉐 코리아 개 자동차 수입 사의 개 차 종이 회사 별로 닛산 개 차종 판매 중 개 차종 판매 중 포르쉐 개 차종 판매 중 개 차종 단종 개 차종 유종 별로 경 유차 개 차종 인피니티 캐시 카이 마칸 디젤 나머지 개 차 종은 휘발유 인증서 류 오류 개 차종 인증서 류 오류 개 차종 구분 닛산 포르쉐 차종 개 차종 개 차종 개 차종 판매 중 개 차종 인피니티 캐시 카이 개 차종 개 차종 마칸 디젤 카이엔 하이브리드 카이엔 터보 단종 개 차종 스파이더 카이맨 파나메라 하이브리드 환경부 개 수 입사 일자 청문 실시 사전 통지 청문 절차 중순 행정 조치 예정 위법 사실 확인 해당 차 종은 인증 취소 판매정지 개 차종 개 차 종은 단종 과징금 천대 이 부과 환경부 검찰 자진 신고 포르쉐 제외 닛산 청문 절차 인증서 류 오류 대한 소명 경우 중순 인증 취소 검찰 고발 검토 예정 인증서 류 위조 시 이하 징역 이하 벌금 대기 환경보전 법 제 닛산 경우 인피니티 은 벤츠 사의 자기 진단 장치 시험 성적 를 캐시 카이 차량 르노 사의 자기 진단 장치 시험 성적 를 변 경하 인증서 류 제출 인피니티 은 일본 시험 적 일본 시험 실의 시험 성적 를 제출 것 확인 캐시 카이 차량 지난 배출 가스 불법 조작 적발 데 이번 인증서 류 오류 추가 확인 캐시 카이 소송 제기 진행 상황 본안 소송 차 변론 이후 차 변론 예정 가처분 소송 심 서울 행정법원 과징금 효력 유지 판매정지 인증 취소 리콜 집행정지 심 서울 고등법원 과징금 판매정지 효력 유지 인증 취소 리콜 집행정지 의 경우 차량 인증서 류 차량 시험 성적 일부 포함 것 확인 과 은 배출 가스 감 장치 엔진 동일 동일 인증 번호 차량 이기 때문 성적 포함 것 청문 과정 성적 포함 경위 추가 소명 입장 비교 배출 가스 감 장치 삼원 촉매 장치 엔진 배기량 출력 마력 동일 외형 차량 후 부 디자인 무게 포르쉐 경우 마칸 디젤 등 개 차량 인증서 류 배출 가스 시험 성적 일부 것 확인 카이맨 등 개 차량 배출 가스 시험 성적 를 환경부 인증 준 시설 곳 시험 인증 시설 시험 것 인증서 류 제출 환경부 이번 행정 조치 인증 취소 판매정지 과징금 부과 처분 더라도 수 입사 조치 로서 차량 소유 주 정 상적 법 절차 차량 구매 차량 운행 거나 중고차 매매 때 제한 환경부 관계자 인증서 류 오류 고의 성 여부 대기 환경보전 법 위반 앞 인증서 류 오류 여부 매년 조사 계획 말 인증서 류 오류 샘플 과징금 부과 역 잠정 치 질의 응답 끝',\n",
       " '집단 폐 야생 조류 마리 중 마리 농약 검 신고 야생 조류 집단 폐사 건 마리 중 인 건 마리 마리 수 기준 농약 성분 검 환경부 야생 조류 집단 폐사 집중 발생 기간 중 농약 유독 물 살포 행위 감시 활동 및 홍보 강화 해 신고 야생 조류 집단 폐사 동일 지역 마리 이상 평균 마리 사건 원인 대부분 농약 때문 것 나타 환경부 소속 국립 환경과학 원 원장 장윤석 은 월부 터 까지 발생 야생 조류 집단 폐사 건 마리 중 건 마리 대한 원인 분석 결과 인 건 마리 농약 성분 검 농약 검 건 살충제 등 사용 카보 퓨란 펜치 온 등 농약 성분 종이 검 주로 폐 야생 조류 위 내용물 볍씨 등 과 간 검 조류인플루엔자 바이러스 모두 검 나머지 건 마리 농약 성분 검 명확 폐사 원인 질병 아사 사고사 등 자연환경 내의 일 반적 죽 음으로 추정 국립 환경과학 원 폐 야생 조류 위 내용물 간 등 채취 후 농약 분석 전문 기관 의뢰 종 농약 류 고도 분석 장비 분석 농약 중독 야생 조류 집단 폐 철새 주로 도래 겨울철 집중 적 발생 발생 것 인 건 마리 대부분 이 시기 발생 것 나타 농약 중독 폐 야생 조류 철새 종 마리 텃새 종 마리 철새 로 비중 차지 철새 가창오리 떼 까마귀 청둥오리 흰뺨검둥오리 등 텃새 직박구리 까마귀 비둘기 류 등 가장 집단 폐사 사례 당진 발생 것 가창오리 마리 위 내용물 카보 퓨란 등 농약 성분 치사량 이상 단위 무게 당 최고 평균 검 영국 작물 생산 위원회 제공 카보 퓨란 농약 성분 치사량 단위 무게 당 임 최근 지난 울산 발생 떼 까마귀 집단 폐 사체 개체 펜치 온 이 검 경남 남 저수지 집단 폐사 개체 멸종위기 야생 생물 급 고니 터부 포스 검 등 농약 야생 조류 집단 폐 사가 겨울철 다시 시작 양상 보이 농약 야생 조류 집단 폐 해당 개체 생명 앗 뿐 독수리 등 상위 포식자 섭취 차 피해 발생 수 주요 종 멸종위기 심화 부 정적 영향 환경부 겨울철 마다 반복 고 의적 농약 유독 물 살포 야생 조류 집단 폐 위해 야생 조류 농약 살포 집단 폐 사가 집중 적 발생 내년 까지 농약 유독 물 살포 행위 대한 감시 활동 강화 또한 야생 조류 농약 살포 발생 지역 및 발생 가능성 주요 철새 서식지 안내 표시 판이 현수막 설치 전국 지자체 및 관련 기관 책자 비 치하 야생 조류 대한 농약 유독 물 살포 행위 금지 적극 홍보 계획 환경부 국립 환경과학 원 국립공원 관리 공단 누리집 게시 농약 유독 물 살포 집단 폐사 발생 시 해당 지자체 검사 결과 통보 엄 중하 조 치하 도록 요청 계획 야생 생물 보호 및 관리 관 법률 유독 물이 농약 등 살포 야생 생물 포획 거나 경우 이하 징역 원 이하 벌금 처 해지 멸종위기 야생 생물 경우 이하 징역 만원 이상 원 이하 벌금 처 정종선 환경부 자연 환경보전 정책 관 농약 이나 독극물 볍씨 등 살포 철새 계속 발생 안타 깝 라면 이제 과거 잘못 관행 때 범법 자 대해 강력 처벌 한편 생태계 귀중 부분 철새 보호 공존 자 의식 확산 도록 노력 말 폐사 검 농약 현황 야생 조류 집단 폐사 관련 사진 안내 책자 질의 응답 전문용어 설명 끝',\n",
       " '환경 공단 올해 원 규모 환경 시설 공사 발주 년 규모 폐수처리 시설 설치 부문 최 공사 비 원 원주시 단계 천 생태 하천 복원 사업 최대 규모 환경부 한국 환경 공단 이사장 전병성 은 지난해 발주 실적 대비 원 규모 환경 시설 공사 발주 계획 확정 올해 시설 공사 발주 건수 총 건 지난해 건 원 발주 실적 각각 건 발주 금액 총 원 인 원 총 건의 환경 시설 공사 가운데 건 턴키 입찰 방식 건 기술 제안 입찰 방식 나머지 건 적 격심 사 등 일반 입찰 방식 진행 턴키 입찰 방식 건설업 체 설계 시공 일괄 책임 입찰 방식 기술 제안 입찰 발주기 관 작 성하 교부 설계서 입찰 안내서 입찰 자가 기술 제안 를 작 성하 입찰 제 출하 입찰 방식 턴키 입찰 이천시 부발 공공 하수도 시설 설치 사업 건 원 기술 제안 입찰 음성군 가축 분뇨 공공 처리 시설 설치 사업 금산군 가축 분뇨 처리 시설 설치 사업 제주시 환경 순환 형 가축 분뇨 공공 처리 시설 설치 사업 등 건 공사 금액 총 원 전체 공사 시설 별로 폐수처리 시설 설치 사업 건 상수 관망 사업 건 생태 하천 복원 사업 건 폐기 물처리 시설 설치 사업 건 유해 대기 측정 소설 치 등 기타 환경 시설 건 등 그 중 폐수처리 시설 설치 사업 집중 이중 최대 규모 공사 원 규모 원주시 단계 천 생태 하천 복원 사업 시설 공사 로 올해 발주 원주시 단 계천 복 개구간 철거 후 발생 수 재해 요인 방지 원주시 내 부족 녹지 제공 지역 개발 계획 반영 친 수문 화 공간 조성 및 다양 하천 환경 시설 도입 하천 환경 복원 사업 턴키 및 기술 제안 입찰 방식 제외 원 이상 공사 남원시 차집 관로 정비사 업 원 서산 수처리 구역 차집 관로 정비공 사 원 등 건 지난해 건 환경 공단 전체 환경 시설 공사 가운데 총 건 원 상반기 내 조기 발주 로써 건설 경기 살 리기 힘 보탤 예정 한편 환경 공단 조달청 양해각서 체결 통해 공단 발 주하 추정 가격 원 이상 공사 대하 하도급 지킴 시스템 의무사 용 로써 불공정 하도급 거래 개선 경제 적 약자 권익 보호 위 노력 표 한국 환경 공단 턴키 공사 발주 올해 발주 계획 대한 상세 정보 환경 공단 누리집 확인 수 한국 환경 공단 환경 시설 공사 발주 계획 원 이상 질의 응답 전문용어 설명 끝',\n",
       " '겨울잠 꿀벌 인근 공사 장 소음 피해 원인 결정 겨울잠 꿀벌 인근 공사 장 소음 피해 원인 결정 양봉 벌 폐사 피해 농업 용 저수지 둑 높이 기 공 사장 발생 발파 소음 진동 원인 인정 여 만원 배상 결정 중앙 환경 분쟁 조정 위원회 위원장 남 광희 이하 분쟁 위 공 사장 발생 발파 소음 진동 인근 겨울잠 꿀벌 환경 분쟁 사건 대해 원인 제 공자 배상 결정 분쟁 위 농업 용 저수지 둑 높이 기 위 사업 장 발생 발파 소음 진동 인근 동면 중이 던 양봉 벌 폐사 등 피해 배상 신청 사건 대해 그 피해 인정 여 만원 배상하 도록 지난 결정 이 사건 강원 양양군 현남면 양봉 인근 지구 농업 용 저수지 둑 높이 기 사업 장 발생 소음 진동 먼지 양봉 피해 시 행사 시공사 상대로 피해 배상 요구 것 신청 은 도시 생활 청산 귀농 양봉 시작 양봉 시설 인근 남서쪽 약 지점 공 사장 월부 터 다음해 까지 발파 공정 발생 소음 진동 벌이 채취 꿀 상 품성 피해 주장 이 분쟁 위 피 신청 공사 장 발파 소음 진동 최대 소음 진동 속도 평균 이 가축 피해 인과관계 검토 기준 소음 진동 속도 초과 것 확인 또한 일정 기준 소음 진동 날개 진동 강약 의사소통 꿀벌 활동 방 해하 벌꿀 생산 산란 등 장애 초래 수 전문가 의견 등 종합 적 고려 분쟁 위 벌 폐 벌꿀 생산 량 감소 피해 대한 개 연성 인정 배상 결정 겨울철 꿀벌 벌통 안 공모 양 봉구 개체 근육 운동 사열 발생 생존 소음 진동 등 외부 환경 요인 봉구 개체 저체온증 그간 분쟁 위 공사 장 소음 진동 도로 차량 소음 공장 대기오염 물질 등 양봉 피해 원인 인정 배상 결정 지난해 경기 평택시 도로공사 장 발파 진동 꿀벌 월동 실패 대한 피해 인정 배상 액 만원 결정 시기 서울 서초구 경부 고속도로 확장 발생 교통 소음 영향 꿀벌 폐사 피해 인정 만원 배상 결정 충남 예산군 참숯 공장 대기오염 물질 양봉 피해 대해 피해 인정 만원 배상 남 광희 중앙 환경 분쟁 조정 위원장 사업자 벌 존재 인식 뿐 소음 이나 진동 피해 가능성 간과 공사 진행 경우 며 시 행사 공사 현장 주변 양봉 현황 파악 충분 피해 방지 대책 수립 것 당부 관련 사진 질의 응답 전문용어 소음 진동 등 꿀벌 영향 설명 양봉 피해 배상 판결 웹툰 끝',\n",
       " '미세먼지 대책 유해 화학물질 관리 집중 투자 년도 환경부 예산안 및 기금 안 편성 미세먼지 대책 유해 화학물질 관리 집중 투자 년도 환경부 예산안 및 기금 안 편성 년도 환경부 예산안 및 기금 안 총 편성 예산안 년 대비 감액 수계 기금 및 석면 기금 증액 환경 위험 감 환경 분야 성장동력 육성 분야 대폭 증액 편성 미세먼지 유해 화학물질 녹조 지반침하 등 국민 건강 위협 환경 제의 근본 적 해결 위해 집중 투자 누수 율 감 수돗물 오염 방지 위 지방 상수도 현대 화사 업 개시 재활용 산업 생 물자원 산업 물 산업 등 환경 분야 성장동력 육성 환경 경제 활 제 기여 환경부 장관 조경규 환경 제 해결 환경 분야 성장동력 육 성하 데 중점 규모 년도 예산안 및 기금 안 편 성하 국회 제출 발표 환경부 년도 예산안 총 지출 기준 은 전 년도 대비 감액 기금 안 여유 자금 제외 은 대강 수계 기금 석면 피해 구제 기금 등 전 년도 대비 증액 총 부문 별로 대기 환경 보건 자연 부문 증액 상 하수도 수질 환경 정책 폐기물 부문 감액 년도 환경부 예산 무엇 시급 환경 현안 대두 미세먼지 유해 화학물질 관리 분야 선적 투자 미세먼지 관리 특별 대책 상반기 미세먼지 문제 전국 민적 관심사 대두 정부 서울 기질 내 선진국 도시 수준 개선 목표 하 미세먼지 관리 특별 대책 수립 계획 년도 이행 위 예산 반영 수도권 농도 파리 교통부 문 수도권 미세먼지 오염 주원 인 노 후경 유차 조기 퇴 출시 키기 위 조기 폐차 지원 예산 만대 분 만대 분 증액 친환경 차 구매 연결 위 전기차 보급 예산 증액 하이브리드 차 수소차 등 대폭 증액 편성 또한 노후 경유 차 수도권 운행 제한 제도 실효 성 확보 위해 단속 용 카메라 설치 예산 분 분 생활 부문 도로 청소 차량 보급 예산 증액 가정 용 저 녹스 보일러 구매 보조금 지원 예산 신규 편성 중국 발 미세먼지 대책 당초 한시 사업 추진 중 미세먼지 감 실증 협력 사업 연장 반영 예보 부문 측정 망 확충 예산 증액 노후 장비 교체 예산 증액 연구개발 미세먼지 대응 위 부처 사업 착수 이중 환경 분야 기술 개발 신규 편성 가습기 살균제 사고 후속 대책 급증 피해 신고 신속 조사 판정 구제 위 예산 제 의 가습기 살균제 사고 위 화학물질 관리 예산 대폭 증액 조사 판정 구제 차 를 상 회하 차 피해 신청 접수 조사 판정 비 대폭 증액 차 질병 관리 본부 명 차 환경부 명 등 총 명 차 명 차 현재 명의 료비 장례 비 외 간병 비 생활자 금 추가 지원 함 피해자 지원 예산 증액 편성 또한 피해자 건강 영향 모니터링 등 위해 치료 지원 위 연구 비 등 신규 편성 살생 물질 관리 살생 물질 대한 전수 조사 안전 기준 마련 위 예산 가습기 살균제 사례 흡입 독성 평가 위 흡입 독성 챔버 도입 예산 원도 신규 편성 기타 환경 제의 해결 노후 상수도 연간 기준 의 수돗물 누수 천억 원 이상 경제 적 손실 초래 뿐 가뭄 수돗물 오염 취약 지방 상수도 현대 위 노후 상수도 정비사 업 신규 편성 상수 관로 정수 장 녹조 기후변화 가뭄 고온 현상 녹조 심화 응집 제 추가 투입 황토 살포 등 녹조 발생 대응 위 예산 편성 개 정수 장의 고 도정 수처리 시설 설치 지원 위 예산 편성 지반침하 하수 관로 노후 화 지반침하 빈발함 하수 관거 정비 예산 중 노후 하수 관 정비사 업 비중 로 상향 환경 분야 성장동력 확보 저 성장 율 고착 화 청년실업 심화 국가 적 당면 과제 부각 환경 분야 성장동력 아내 기 위 사업 적극 편 성함 환경문제 국가 적 현안 동시 해결 도모 환경 산업 펀드 먼저 환경 산업 수출 액 증가 연평 균 함 환경 산업 수출 박차 환경 분야 글로벌 스타 기업 발굴 육성 위 환경 산업 투자 펀드 조성하 신규 편성 재활용 산업 자원 순환기 법 통과 재활용 산업 더욱 육성 위 재활용 업사이클 센터 설치 재활용 산업 육성 융자 등 관련 예산 증액 생 물자원 산업 바이오 산업 원 센터 건립 등 야생 생물 유전자 원 활용 기반 구축 사업 증액 호남권 생물 자원 관 건립 사업 연차 소요 반영 환경 분야 대표 적 일자리 사업인 자연환경 해설 사 예산 증액 관련 일자리 확대 및 생태관광 활성화 기대 물 산업 부터 추진 물 산업 클러스터 조성 사업 까지 마무리 위 연차 소요 반영 물 산업 기반 구축 위 예산 증액 기타 주요 증액 사업 및 감액 사업 그 태백산 국립공원 신규 정비 예산 물순환 선도 도시 시범 사업 신규 친환경 에너지 타운 조성 사업 등 확대 편성 반면 수처리 장 확충 등 수질 기초 시설 설치 비 매립 장 등 폐기 물처리 기초 시설 설치 비 보급 률 등 감안 구조조정 이윤 섭 환경부 기획 조정 실장 년도 환경부 예산 및 기금 시급 환경 현안 해결 위 문제해결 형 예 산이면 환경 미래 가치 창 미래 대비 형 예산 강조 면서 국회 심의 확정 내년 초 부터 바로 집행 효과 낼 수 도록 사업 준비 만전 기 계획 년도 환경부 예산안 개요 년도 환경부 주요 특색 사업 끝',\n",
       " '올해 전기차 예산 지원 올해 전기차 예산 지원 전기차 년 추가 전기차 보조금 만원 세금 감경 만원 플러그인 하이브리드 차 만원 신규 지원 환경부 장관 윤성규 올해 전기차 하이브리드 차 플러그인 하이브리드 차 수소차 등 총 대의 친환경 차 보급 계획 지난해 대보 대가 것 전기차 지난해 대로 플러그인 하이브리드 올해 처 음으로 대가 포함 전기차 차량 보조금 만원 완속 충전기 설치 비 만원 세금 만원 지원 지자체 별로 최대 만원 까지 보조금 추가 지원 수 지원 대상 레이 스파크 쏘울 리프 아이오 닉 라보 피스 전기 화물차 종이 전기차 이외 전기 버스 차량 보조금 지원 지원 대상 이 프리머스 올레 브 이 화이 버드 종이 하이브리드 보조금 만원 지원 만원 세금 감경 혜택 부여 이산화탄소 를 초과 친환경 하이브리드 세금 감경 혜택 지원 지원 대상 소나타 아이오 닉 프리우스 렉서스 종이 올해 출시 친환경 차 전용 모델 현대 아이오 닉 올해 추가 출시 친환경 차 전용 모델 기아 로 보급 대상 포함 예정 플러그인 하이브리드 차량 보조금 만원 만원 세금 감경 혜택 신규 부여 지원 대상 이산화탄소 배출 량 이하이 면서 충전 주행 거리 이상인 이하 차량 현재 지원 대상 쏘나타 플러그인 하이브리드 차 종이 올해 기아 현대 아이오 닉 플러그인 하이브리드 추가 전망 수소차 지자체 공공기관 법인 대상 한해 구매 보조금 만원 지원 수소차 연료 전지 스택 수소 산소 반응 생 전기 동력 주행 환경부 수소차 전기차 동일 세금 감경 수 도록 관계 부처 협의 계획 전기차 구입 지자체 보급 공고 이후 구매 희망 구매 신청서 자동차 제조 사 지정 대리점 접수 추첨 이나 선착순 구매 결정 구매 자로 결정 완속 충전기 설치 후 구매 자가 시기 전기차 인도 차량 인도 면서 보조금 제외 차량 대금 자동차 판 매사 불하 구입 절차 서울 창원 제주 대구 등 개 지자체 완속 충전기 대신 사용 편리 이동형 충전기 보급 전기차 구매 수 이동형 충전기 보급 지자체 서울 창원 제주 대구 울산 포항 김해 성남 하이브리드 차 플러그인 하이브리드 차 구입 때 차량 대금 모두 지급 후 한국 환경 공단 개인 법인 계좌 보조금 만원 직접 지급 차량 등록 후 개월 이내 보조금 신청서 자동차 등록증 사본 본인 법인 명의 통장 사본 한국 환경 공단 제 출하 하이브리드 차 보조금 지원 시스템 직접 보조금 신청 거나 우편 이나 한국 환경 공단 방문 접수 가능 보조금 신청서 접수 이후 서류 검토 행정 검토 개월 이내 요청 계좌 지급 수소차 구매 희망 공공기관 법인 지자체 구매 가능 여부 우선 문의 전기차 동일 절차 차량 인도 면서 보조금 제외 차량 대금 자동차 판 매사 불하 한편 최근 친환경 차 대한 인식 개선 면서 친환경 차 판매량 지속 적 증가 전기차 부터 까지 대가 보급 보급 대수 하이브리드 차 누적 보급 대수 부터 까지 대가 보급 수소차 누적 보급 대수 부터 까지 대가 보급 환경부 친환 경자동차 산업 육성 위해 까지 친환경 차 만대 보급 계획 하이브리드 차 만대 플러그인 차 만대 전기차 만대 수소차 만대 계획 연간 신차 판매 대수 만대 중 친환경 만대 를 차지 전망 환경부 친환경 차 보급 여건 개선 위해 친환경 차 충전 시설 계속 확충 계획 전기차 공공 급속 충전 시설 고속도로 포함 전국 설치 예정 공공 급속 충전 시설 기준 고속도로 기 수도권 기 경상 권 기 전라 권 기 등 수소 충전 소 올해 광주 광역시 울산 광역시 창원시 각각 개소 설치 수소 충전 소 기준 서울 인천 경기 대구 울산 광주 충남 년도 친환경 차 보급 예산 현황 보조금 대상 친환경 차 현황 지자체 별 전기차 보조금 현황 전기차 이동형 충전기 보급 현황 질의 응답 전문 용어 설명 끝',\n",
       " '다도해 해상 여서 물속 모습 가상현실 다도해 해상 여서 도의 아름 다운 수중 모습 가상현실 구현 국립공원 관리 공단 누리집 통해 컴퓨터 모바일 감상 가능 환경부 국립공원 관리 공단 이사장 권 업 은 다도해 해상 국립공원 여서 도의 아름 다운 수중 비경 체험 수 여서 수중 가상현실 일부 터 제공 가상현실 시각 청각 등 감각 통해 컴퓨터 소프트웨어 프로그램 내부 가능 것 실제 현실 것 처럼 유 사하 체험 수 기술 이번 공개 수중 가상현실 천만 화소 이상 고화질 카메라 여서 도의 바다 속 촬 영하 곳 다양 해양 생물 모습 자세 관찰 수 여서 바다 속 총 여 개 지점 직접 촬영 수중사진 제작 감태 부채 뿔 산호 등 해조류 산호충류 아름 다운 비경 로 감상 수 여서 수중 가상현실 국립공원 관리 공단 누리집 스마트 국립공원 페이지 감상 수 컴퓨터 모바일 구현 가상현실 전용기 통해 실감 체험 가능 전남 완도군 최 남단 위치 여서 국립공원 편입 유인도 우리나라 영해 기점 곳 중 하나 제주 난류 영향 물이 다양 해조류 산호충류 풍부 해송 한진 총 산호 검 수지 맨드라미 유착 나무 돌산 호 등 멸종위기 야생 생물 다수 산다 김진 광 국립공원 관리 공단 자원 보전 처 여서 도의 수중 비경 국민 누구 감상 수 도록 제작 라며 내년 다도해 해상 국립공원 거문도 바다 속 비경 가상현실 콘텐츠 제작 계획 국립공원 관리 공단 려 해상 국립공원 홍도 다도해 해상 국립공원 백도 수중 가상현실 서비스 국립공원 관리 공단 누리집 통해 제공 현황 사진 전문용어 설명 질의 응답 끝',\n",
       " '공동 제 차 생물다양성 총회 막내 려 생물다양성 보전 위 행동 촉구 제 차 생물다양성 당 사국 총회 이집트 일부 터 이집트 시간 까지 동안 개최 생물다양성 주류 화 위 다양 이해관계자 참여 촉구 샤름엘셰이크 선언문 채택 제시 생물다양성 목표 대한 참가자 관심 확인 차기 총회 중국 베이징 개최 예정 생물다양성 보전 지속 가능 이용 목적 제 차 생물다양성 협약 당 사국 총회 일부 터 이집트 시간 까지 이집트 시나이반도 위치 샤름엘셰이크 개최 생물다양성 협약 기후변화 협약 사막화 방지 협약 환경 협약 중 하나로 우리나라 강원도 평창 제 차 생물다양성 협약 당 사국 총회 개최 바 이번 총회 아이치 타겟 국제사회 새 생물다양성 목표 제시 전 마지막 총 회이자 생물다양성 협약 발효 주년 기념 개최 총회 다른 때 의미 우리나라 이번 총회 정종선 환경부 자연 보전 정책 관 수석 대표 환경부 외교부 산업부 해수부 산림청 농진청 등 유관 부처 관련 연구기관 및 전문가 구성 정부 대표 단 참가 이번 총회 주제 인류 지구 위 생물다양성 투자 로 인프라 에너지 보건 등 모든 부문 생물다양성 주류 화 를 촉진 자 제시 이 관련 일부 터 이틀 동안 개최 고 위급 회담 내용 포함 샤름엘셰이크 선언문 채택 선언문 모든 정책 결정 과정 생물다양성 가치 반영 지속 가능 소비 생산 활성화 등 다양 분야 생물다양성 주류 화 촉진 또한 생물다양성 보전 위 지역 주민 여성 청년 지자체 학계 기업 등 다양 이해관계자 참여 중 요하 점 강조 일부 터 본격 적 시작 생물다양성 협약 당 사국 총회 제 차 나고야 의정서 및 제 차 카르타헤나 의정서 당사 국회 동시 개최 생물다양성 관련 다양 논의 첫날 개 회식 이집트 대통령 생물다양성 협약 사무국 사무 총장 등 참여 생물다양성 보전 위 메시지 전 세계 전달 압델 파타 알 시시 이집트 대통령 생물다양성 모든 삶 방식 통합 여야 자연 보존 지속 가능 방식 관리 점 강조 크리스 티아 머 사무 총장 우리 행 동하 곧 자연 돌이 킬 수 파괴 전환 점 궁 극적 인류 영향 것 전하 국제사회 긴급 행동 촉구 이후 진행 논의 당사 국 디지털 서열 정보 합성생물학 유전자변형생물체 안전 평가 및 관리 포스트 등 다양 논의 주제 가지 협상 포스트 제 차 생물다양성 당 사국 총회 베이징 채택 전지 적 생물다양성 목표 및 전략 계획 무엇 화제 디지털 서열 정보 용어 적용 범위 이익 공유 대상 여부 등 핵심 쟁점 합의 점 못 향후 전문가 회의 통해 논의 가기 결정 합성생물학 의 경우 학문 향후 생물다양성 영향 대한 분석 연구 수행 결정 합성생물학 의 산 물이 환경 부정 적 영향 예방 위 사전 적 접근 필 요하 의견 유전자변형생물체 관련 새 현대 생명공학 기술 적용 대한 당사 국 우려 제기 바 유전자 변형 어류 및 유전자 드라이브 기술 이용 산 물의 안전성 평가 위 표준 기술 개발 합의 특별 아이치 타겟 종료 상황 당사 국 대체 포스트 생물다양성 프레임워크 의 구 체적 논의 위 개방 형 작업 반 향후 간 운영 결정 한편 정부 대표 단 기간 동안 바이오 브릿지 이니셔티브 평화 생물다양성 다이얼로그 등 우리나라 운영 이니셔티브 홍보 위 부대 행사 개최 생물다양성 분야 국제사회 활동 강화 위 노력 지속 해양수산부 국립 양생 물자원 관 생물다양성 협약 사무 총장 비롯 여명 참가자 가운데 지속 가능 해양 날 바다 목소리 행사 개 최하 해양 분야 의견 교류 시간 산림청 산림 경관 및 생태계 복원 날 행사 개 최하 산림 경관 및 생태계 복원 관 국제 파트너 십 및 과학기술 협력 역할 등 관 주제 논의 진행 현재 운영 중인 산림 생태계 복원 이니셔티브 관련 우수 사례 공 유하 시간 산업 통상 자원부 개도국 카르타헤나 의정서 이행 지원 바이오안전성 역량 강화 이니셔티브 운영 경험 지역 협력 필요성 강조 관련 내용 결 정문 반 영하 기도 아시아 태평 양지역 대표 나고야 의정서 이행 권고 및 자문 담 당하 의무 준수 위원회 위원 박원석 중앙 대학교 법학 전문대 학원 교수 임명 성과 이루 었다 환경부 산업부 해수부 등 관계 부처 이번 총회 논의 사항 관련 심포지움 워크숍 등 통해 국내 학계 산업 계 등 이해관계자 공유 관련 정책 개선 방안 도 출하 데 활용 예정 수석 대표 정종선 환경부 자연 보전 정책 관 이번 회의 생물다양성 주류 화 이해관계자 참여 를 촉구 목소리 며 전지 적 생물다양성 보전 위해 국제사회 논의 적극 참여 국내 정책 이 발 추어 것 제 차 생물다양성 당 사국 총회 뒤 중국 베이징 개최 예정 제 차 생물다양성 협약 당 사국 총회 개요 나고야 의정서 개요 카르타헤나 의정서 개요 우리나라 주도 이니셔티브 개요 전문용어 설명 샤름엘셰이크 선언문 국 영문',\n",
       " '태양광 환경 훼손 최소 화 환경 영향 평가 협의 지침 마련 환경 친 적 개발 방향 제시 개발 입지 회피 지역 구체화 환경성 주민 수용성 확보 신재생에너지 목표 달성 지원 환경부 장관 김은경 태양광 발전 취약점 자연환경 훼손 가능성 최소 면서 친환경 에너지 생산 수 도록 육상 태양광 발전 사업 환경성 평가 협의 지침 마련 일부 터 시행 이번 지침 최근 육상 태양광 발전 사업 상 대적 땅값 저렴 산지 집중 면서 태양광 산림 경관 훼손 등 부작용 비판 여론 이 문제 개선 위해 마련 것 월부 터 중 설치 태양광 풍력 부지 지목 별로 분석 결과 전체 부지 를 임야 임야 대부분 태양광 차지 이번 지침 태양광 사업 환경 영향 평가 협의 방향 제시 평가 일 관성 유지 사업자 개발 예측 가능성 높이 친환경 적 개발 계획 수립 유도 지침 사업자 태양광 발전 개발 입지 선정 때 회피 지역 과 신중 검토 필요 지역 안내 회피 지역 은 백두대간 법정 보호지역 보호 생물 종 서식지 생태 자연도 등급 지역 등 생태 적 민감 지역 비롯 경사 이상 인 지역 산지 전용 허가 기준 중 경사 를 강화 법 개정 추진 산림청 반영 신중 검토 필요 지역 생태 자연도 등급 지역 생태 축 단절 우려 지역 식생 보전 등급 산림 침 투하 지역 법정 보호지역 경계 로부터 반경 이내 지역 중 환경 적 민감 지역 등 또한 지침 태양광 발전 사업 준비 사업자 환경 영향 최소 수 개발 방향 제시 환경 영향 최소 수 개발 방향 생태 축 단절 보호 생물 종 서식지 파편 화 방지 위해 연결 녹지 생태 통로 확보 태양광 모듈 하부 식 생피 복 사업 종료 후 원상 복구 도록 지형 훼손 최소 화 외부 노출 위 울타리 나무 심기 등 환경부 이번 지침 시행 그동안 태양광 발전 산지 집중 난 개발 경관 및 산림 훼손 등 민원 비롯 사업자 주민 간 갈등 태양광 사업 원활 추진 것 보고 한편 환경부 이번 지침 시행 태양광 발전 시설 보급 확대 차질 발생 도록 주무 부처 산업 자원부 협력 재생에너지 계획 입지 제 도입 수 도록 노력 방침 계획 입지 제 재생에너지 발전 사업 주민 수용성 환경성 사전 확보 부지 계획 적 공급 난 개발 방지 사업자 원활 부지 확보 지원 및 개발이익 지역 사회 공유 이 건축물 유 공간 농업 용 저수지 및 염 해피 간척 농지 등 환 경적 지속 가능 대체 개발 부지 태양광 입지 지원 예정 환경부 태양광 발전소 보급 전국 확대 면서 산지 훼손 등 부작용 발생 하자 올해 월부 터 범부 처 재생에너지 확산 및 부작용 해소 대책 반 참여 필요 과제 추진 정부 공동 대책 하나로 이번 지침 마련 재생에너지 사회 적 갈등 해소 범부 처 공동 대책 확정 발표 산업 통산 자원부 장관 육상 태양광 발전 사업 환경성 평가 협의 지침 의 자세 내용 환경부 누리집 공개 육상 태양광 개발 사업 환경성 평가 협의 지침 주요 개정 내용 질의 응답 끝',\n",
       " '전시 중인 젠투펭귄 국내 최초 부화 성공 국립생태원 도입 젠투펭귄 알 개 부화 성공 남극 환경 조명 조 절하 등 지속 적 서식 환경 개선 환경부 국립생태원 원장 이희철 은 국내 유일하 전시 중인 젠투펭귄 알 개 국내 최초 부화 성공 국립생태원 지난 일본 나고야 항 수족관 남극 펭귄 젠투펭귄 마리 수컷 암컷 턱끈펭귄 마리 수컷 암컷 를 도입 에코 리움 지관 관리 올해 일부 터 젠투펭귄 쌍 순차 적 각각 개 총 개 알 그 중 개 알 일과 각각 부화 현재 어미 경계 성별 확인 생후 약 개월 현재 평균 정도 건강 상태 양호 국립생태원 연 구진 중순 어미 만큼 새끼 활 동하 모습 볼 수 것 예상 이번 젠투펭귄 부화 성공 국립생태원 동안 남극 펭귄 번식 위해 지속 적 서식 환경 개선 점 주효 국립생태원 펭귄 생체리듬 위해 우리나라 달리 겨울 낮 시간 남극 광주 기 조명 여름 시간 겨울 시간 또한 자갈 조약돌 등 둥지 인공 눈 자연 펭귄 산란 유도 땅 바닥 매트 점프 설 치하 등 펭귄 행동 범위 지류 증도 예방 지류 증 조류 발바닥 세균 감염 거나 염증 생기 질병 조류 치명 적 전시장 내부 관람객 보이지 도록 편광 필름 설 치하 펭귄 스트레스 최소 이상 행동 신속 대응 위해 실시간 폐쇄회로텔레비전 면밀 관찰 젠투펭귄 젠투펭귄속 중 황제펭귄 킹펭귄 세 번 펭귄 눈 위 얼룩 무늬 오렌지색 부리 특징 펭귄 중 꼬리 가장 것 젠투펭귄 일 반적 사육 상태 대부분 개 알 정도 부화 율 이희철 국립생태원 장 이번 젠투펭귄 부화 지속 적 서식 환경 개선 통해 결과 만큼 새끼 펭귄 전시장 적응 수 도록 노력 라며 정숙 새끼 펭귄 관람 수 도록 관람객 협조 말 젠투펭귄 관련 사진 질의 응답 전문용어 설명 끝',\n",
       " '일 전문가 참여 야생동물 질병 국제 워크숍 개최 한국 미국 일본 개국 신 변종 야생동물 매개 질병 대응 위 정보 공유 및 관리 체계 발표 인수공통감염병 대응 위 국제 적 공조 기대 환경부 소속 국립 환경과학 원 원장 박진원 은 고 병원 성 조류 인플루엔자 야생동물 매개 질병 국 제적 대응 공조 위해 일부 터 까지 서울 영등포구 여의도 글래드 호텔 신 변종 야생동물 매개 질병 대응 위 국제 협력 워크숍 개최 이번 국제 워크숍 미국 일본 등 각 국가 야생동물 인수공통감염병 연구 결과 공유 국 제적 협력 체계 마련 위해 기획 워크숍 미국 명 일본 명 등 해외 전문가 명 비롯 국내 전문가 여 명 등 총 여 명 참석 이번 워크숍 각국 야생 조류 고 병원 성 조류 인플루엔자 현황 비롯 인수공통감염병 대한 연구 결과 관리 방안 공 유하 국가 간 공조 협력 체계 집중 적 논의 미국 국립 야생동물 보건 센터 의 조 나단 슬 리만 센터 장 야생 조류 곰팡이 병 주제 발표 일본 국립 환경 연구원 의 마나 부 누마 박사 부터 사이 일본 발생 조류 인플루엔자 대한 연구 결과 발표 예정 우리나라 국립 환경과학 원 고려대학교 국립생태원 소속 박사 고 병원 성 조류 인플루엔자 등 주요 인수공통감염병 대한 연구 결과 발표 각국 전문가 토론 예정 정원 화 국립 환경과학 원 생물 안전 연구 팀 전 세계 적 인수공통감염병 사람 동물 환경 모두 연결 하나 건강 관점 대응 며 국립 환경과학 원 국 내 외적인 야생동물 매개 질병 대응 협력 체계 지속 적 구축 계획 질의 응답 전문용어 설명 끝',\n",
       " '푸른 하늘 위해 청소년 리더 한자리 수도권 청 푸른 하늘 킴 리더 양성 캠프 개최 교실 창문 미세먼지 필터 효과 교내 공기오염 원 현황 등 미세먼지 주제 프로젝트 활동 상황 발표 수도권대기환경청 청장 김 동구 은 푸른 하늘 지킴 리더 양성 프로젝트 개 팀 대상 서울 관악구 서울대 글로벌 컨벤션 플라자 캠프 개최 푸른 하늘 지킴 리더 양성 프로젝트 수도권 서울 경기 인천 내 고등학생 명 구성 팀 각 팀 별로 미세먼지 등 대기 환경오염 원인 해결 방안 대해 조사 및 연구 등 계획 스스로 수 립하 실행 사업 이번 캠프 참여 프로젝트 팀 지난 월부 터 교실 창문 미세먼지 필터 효과 및 영향 조사 교내 공기오염 원 현황 학교 현장 공기 질 대책 방안 연구 시중 판매 미세먼지 마스크 효과 조사 등 주제 프로젝트 수 립하 진행 날 캠프 총 명의 학생 참여 개 팀 대표 프로젝트 추진 상황 발표 또한 진행 중인 프로젝트 대해 공 유하 시간 마련 활동 내용 서로 비 교하 시간 프로젝트 과정 대한 전문가 자문 환경 특강 미세먼지 차 산업혁명 환경 관련 현장 국립 환경과학 원 탄소 제로 빌딩 수도권매립지 관리 공사 견학 푸른 하늘 킴 리더 양성 프로젝트 까지 조사 연구 활동 예정 활동 결과 보고서 심사 통해 우수 팀 환경부 장관 및 수도권대기환경청 장상 시상 원 상당 부상 수여 예정 김 동구 수도권대기환경청 장 이번 캠프 통해 미래 주역 청소년 미세먼지 관심 그 해결 방안 고민 로써 친환경 시대 과학자 성장 수 토대 바란 말 푸른 하늘 킴 리더 양성 캠프 개요 끝',\n",
       " '환경부 강동대 등 개 대학 그린 캠퍼스 협약 환경부 강동대 등 개 대학 그린 캠퍼스 협약 환경부 한국 환경 공단 그린 캠퍼스 선정 대학 협약 식 및 추진 성과 대회 개최 강동대 대구대 창원 청주대 협성대 등 개 대학 그린 캠퍼스 선정 환경부 장관 조경규 한국 환경 공단 이사장 전병성 은 서울 중구 웨스 틴 조선 호텔 년도 그린 캠퍼스 협약 식 및 추진 성과 보고 회 를 개최 올해 그린 캠퍼스 선정 대학 강동대 대구대 창원 청주대 협성대 등 개 대학 이 대학 올해 공모 통해 선정 환경부 부터 대학 지속 가능 발전 친환경 문화 확산 위해 그린 캠퍼스 조성 지원 사업 추진 올해 까지 총 개 대학 그린 캠퍼스 선정 지원 이번 협약 식 및 추진 성과 보고 회 부터 까지 그린 캠퍼스 선정 대학 곳 올해 선정 대학 곳 한국 환경 공단 그린 캠퍼스 협의 회 등 관계자 여 명 참여 행사 그린 캠퍼스 선정 개 대학 환경부 한국 환경 공단 간 그린 캠퍼스 사업 추진 위 협약 체결 우수 사례 사업 성과 대한 발표 진행 예정 또한 그린 캠퍼스 우수 대학 공로 자 시상식 개 우수 대학 공 로자 환경부 장관 상이 수여 그린 캠퍼스 운영 대학 선정 대학 중 종합 우수 대학 신한대 상명대 선정 지속 가능 경영 교육 및 연구 참여 확산 친환경 교 정조성 등 개 부문 별 우수 대학 제주 나사렛대 고려대 충북보건과학대 각각 선정 지원이 종료 개 그린 캠퍼스 대학 선정 대학 대상 추진 성과 우수 사례 공 모하 인천대 안양대 계명대 신라대 등 개 대학 우수 대학 선정 행사 마지막 우수 대학 선정 개 대학 사례 노하우 공유 수 그린 캠퍼스 성과 보고 회 열 린다 그린 캠퍼스 선정 대학 제출 사업 계획 친환경 교정 조성 그린 인재 양성 등 연차 별 그린 캠퍼스 조성 사업 추진 환경부 선정 대학 당 총 원 재정 지원 한국 환경 공단 대학 내 온실가스 인벤 토리 구축 감축 계획 수립 등 대한 기술 지원 통해 대학 자율 적 온실가스 감축 유도 계획 그린 캠퍼스 조성 지원 사업 개요 그린 캠퍼스 조성 지원 사업 협약 그린 캠퍼스 선정 대학 그린 캠퍼스 선정 대학 현황 끝',\n",
       " '멸종위기 처 남생이 증식 복원 새 지평 멸종위기 처 남생이 증식 복원 새 지평 월출산 친환경 대체 서식지 남생이 마리 자연 부화 성공 안 정적 개체 증식 복원 수 프로그램 주력 환경부 국립공원 관리 공단 이사장 박보환 은 멸종위기 야생 생물 급 남생이 복원 위해 부터 시작 기초 연구 바탕 조성 대체 서식지 월출산 국립공원 일대 남생이 자연 부화 성공 국립공원 관리 공단 유전자 분석 결과 바탕 국내 산 남생이 마리 확보 총 마리 증식 이 중 확보 남생이 암컷 마리 월출산 내 대체 서식지 내 동면 출산 유도 결과 남생이 암컷 마리 마리 증식 이 마리 인공 부화 자연 부화 올해 마리 국립공원 연구원 인공 부화 마리 월출산 자연 부화 자연 부화 성공 남생이 마리 현재 평균 크기 동전 조금 약 정도 몸무게 약 국립공원 관리 공단 부터 남생이 증식 복원 위 기초 연구 진행 남생이 생활 필요 최적 환경 조건 반 영하 월출산 일대 친환경 대체 서식지 조성 남생이 증식 사업 개방 공유 소통 협력 추구 정부 의 가치 반 영하 국립공원 관리 공단 국립생물자원관 서울 동물원 상록 재단 등 여러 기관 인공 증식 서식지 분석 등 다양 연구 협업 협업 결과 인공 증식 방법 확보 서식지 평가 체계 확립 등 성과 도출 국내 산 남생이 판별 기준 등 학술 발표 비롯 대체 서식지 조성 대한 특허 출원 연구 결과 대해 총 회의 학술 발표 편의 논문 발간 및 건의 특허 출원 남생이 자라 우리나라 표적 담수 성 거북 류 등갑 길이 정도 등갑 흑색 갈색 암갈색 황 갈색 잡 식성 수초 비롯 곤충류 다슬기 복족류 어류 사체 등 월부 터 활동 시작 동면 제주도 제외 전국 저수지 연못 등 주로 서식 중국 일본 대만 분포 그릇 보신 주의 남획 서식지 파괴 외래종 귀 거북 경쟁 등 개체 수가 급격 최종 관 국립공원 관리 공단 자원 보전 처 남생이 고도화 복원 기술 개발 지속 것 이 라며 남생이 증식 개체 방사 어미 개체 관리 서식지 보전 등 체계 적 증식 복원 사업 진행 것 말 현황 사진 질의 응답 전문용어 설명 연구실 적 목록 끝',\n",
       " '공동 일자리 창 투자 유치 지역 발전 위해 국내 복귀 기업 지원 대상 혜택 대폭 확대 유턴 기업 종합 지원 대책 해외 사업 장 축소 요건 완화 및 지식 서비스업 종도 추가 지원 장기 임대 국 공유 재산 수의계약 허용 등 입지 인 센티 브 제공 농어촌 특별 세 법인세 관세 감 면액 면제 불법 폐기물 근절 대책 연내 방치 폐기물 특별 점검 및 야적 투기 폐기물 현황 전수 조사 후 엄중 조치 불법행위 자 처벌 강화 및 불법 처리 부당이득 액 환 수기 준 및 형량 상향 이낙연 국무총리 목 오전 정부 서울 청사 제 국정 현안 점검 조정 회의 서울 세종 영상 회의 를 주재 날 회의 정부 유턴 기업 종합 지원 대책 불법 폐기물 근절 대책 과 통신 재난 피해 현황 및 대응 방안 논의 참석 교육부 법무부 문체부 농식품부 산업부 복지부 환경부 고용부 국토부 해수부 중 기부 장관 국조 실장 금융위 방통 위원장 기재부 과기 정통부 차관 행안부 재난 안전 본부장 소방청장 법제처 경찰청 차장 등 유턴 기업 종합 지원 대책 관계 부처 합동 정부 일자리 창 투자 촉진 지역 발전 위해 국정 과제 로 추진 온 유턴 기업 종합 지원 대책 마련 일자리 개 창 개사 비 수도권 복귀 국정 과제 번 주력 산업 경쟁력 제 고로 산업 경제 활 회복 의 세부 실천 제로 추진 지난 유턴 법 시행 현재 까지 총 개사 국내 복 귀하 데 현장 의견 수렴 결과 해외 진출 목적 현지 시장 확보 점 지원 제도 협 소한 인정 범위 미흡 지원 수준 과중 서류 절차 부담 등 국내 복귀 저해 요인 제기 개별 기업 방문 전문가 유관 기관 간담 회 호남권 익산 영남권 대구 수도권 서울 등 복귀 의향 기업 간담 회 개최 정부 현행 유턴 기업 지원 제도 대한 평가 업계 의견 수렴 토대 수요 자 중심 종합 지원 대책 마련 이번 대책 해외진출 기업 복귀 법 개정안 연말 까지 국회 제출 계획 분야 별 대책 주요 내용 다음 유턴 기업 인정 범위 확대 유턴 기업 인정 위 해외 사업 장 축소 요건 이상 이상 완화 대상 업종 지식 서비스업 추가 동일 생산 제품 범위 표준 산업 분류 상 기존 세분 류 단위 소 분류 단위 기준 확 대하 유턴 기업 인정 범위 확대 인 센티 브 강화 입지 설비 보조금 지원 요건 국내 사업 장 상시 고용 인원 인 인 현 실화 유턴 기업 불리 현행 타당성 평가 기준 간소화 지원기 업 불편 최소 타당성 평가 통과 위해 고용 계획 과 계 후 보조금 환 수사 례 다수 발생 또한 유턴 기업 입지 설비 보조금 위해 지자체 제 출하 보증 보험 증권 발급 때 필요 담보 수단 다양 화 예 은행권 현금 예치 보조금 담보 활용 가능 지급 보증 발급 노동 집약 업종 주 이루 유턴 기업 유용 인 센티 브 고용 보조금 지원기 간 신규 고용 인원 부터 연장 보조금 신청 기한 유턴 기업 선 정일 로부터 연 장합 해외 사업 장 축소 후 복 귀하 대기업 법인세 혜택 중소 중견 기업 동일 부여 중소 중견 기업 부여 관세 청산 양도 축소 대기업 부여 유턴 기업 대한 농어촌 특별 세 납부 의무 법인세 관세 감 면액 역시 외투 기업 및 지방 이전 기업 동일 비 과세 전환 국 공유 재산 수의계약 허용 장기 임대 임대료 산정 특례 및 최대 등 입지 인 센티 브 외투 기업 수준 높이 유턴 기업 대한 초기 시설 투자 자금지원 금융위 스마트 공장 구축 지원 중 기부 등 정부 정책 사업 유턴 기업 참여 대하 방안 포함 지원 체계 일원화 및 절차 간소화 코트라 유턴 기업 위 원스톱 지원 데스크 를 구 축하 상담 유턴 기업 및 보조금 신청 등 동시 가능 뿐 수요 자 입장 제출 서류 대폭 줄 개 개 신청 기한 간소화 폐지 연장 복 귀하 기업 부담 앞 정부 국내 복귀 검토 중인 우리 기업 국내 복 귀하 데 주력 한편 기업 환경 개선 노력 병행 불법 폐기물 근절 대책 관계 부처 합동 정부 최근 사회 적 환경 적 피해 초래 불법 폐기물 투기 방치 예방 감시 및 사후 처리 등 내용 불법 폐기물 근절 대책 논의 이번 대책 주요 내용 다음 불법 폐기물 신속 처리 국민 피해 최 소화 올해 말 까지 방치 폐기물 발생 우려 사업 장 대상 환경부 지자체 특별 점검 약 실시 한편 전국 야적 투기 폐기물 현황 전수 조사 불법행위 대해 수사의뢰 고발 조치 등 엄중 조치 지자체 방치 폐기물 발생 예방 등 대한 정부 합동 감사 실시 지역별 방치 폐기물 현황 대한 언론 공표 반기 별 도 추진 임대차 계약 시 불법 투기 주의 예방 대한 홍보 교육 등 선의 피해자 도록 적정 처리 체계 구축 및 상시 감시 체계 강화 관리 미흡 공사 장 생활 폐기물 관리 체계 마련 우수 지자체 인 센티 브 제공 및 언론 공표 등 지자체 이행 촉진 빅데이터 기반 국가 폐기물 종합 감시 시스템 구축 지역 주민 시민단체 등 상시 감 시망 도록 신고 포상 금제 환경오염 신문고 를 도 입하 오염 피해 최소 불법 폐기물 예방 근절 위 실효 적 제도 개선 부적정 처리 자 및 재위 탁자 등 대한 처벌 강화 불법 처리 부당이득 액 환 수기 준 및 형량 확대 상향 조정 등 환경범죄 대한 가중 처벌 강화 또한 건설 폐기물 적격 업체 선정 시 위법 업체 입찰 불이익 종 업종 대한 허가 제한 업계 진입 차단 방치 폐기물 이행 보증금 처리 단가 현실 화 방치 폐기물 안 정적 처리 이번 마련 불법 폐기물 근절 대책 방치 불법 투기 폐기물 발생 예방 및 처리 대책 개선 추진 과제 개 올해 말 부터 단계 적 이행 예정 이행상 황도 지속 점검 도록 날 회의 이낙연 총리 지속 적 민원 제기 신고 방치 폐기물 해결 사례 정부 지자체 비장 각오 대응 줄 것 강조 방치 불법 투기 폐기물 발생 예방 및 처리 대책 주요 개선 사항 통신 재난 피해 현황 및 대응 방안 과기 정통부 정부 지난 토 발생 아현 국사 지하 통신 구 화재 사건 관련 피해 현황 및 대응 방안 논의 정부 과기 정통부 차관 단장 민관 참여 통신 재난 관리 체계 개선 를 구성 운영 계획 논의 내용 바탕 올해 안 통신 재난 방지 및 수습 대책 마련 계획',\n",
       " '자동차 탄소 포인트 제 차 시범 사업 추진 정식 도입 주행 거리 단축 친환경 운전 실적 최대 원 지급 환경부 한국 환경 공단 텔레콤 네트웍 스 업무 협약 체결 정식 도입 목표 지난해 올해 자동차 탄소 포인트 제 시범 사업 추진 자동차 탄소 포인트 제 주행 거리 단축 등 친환경 운전 실적 확인 최대 원 상당 탄소 포인트 지급 제도 환경부 장관 김은경 한국 환경 공단 텔레컴 네트웍 스 자동차 탄소 포인트 제 시범 사업 업무 협약 서울 용산구 포포 츠 바이 쉐라톤 서울 남산 호텔 체결 이번 협 약식 유 제철 환경부 생활환경 정책 실장 신동 석 한국 환경 공단 기후 대기 본부장 허일 규 텔레콤 사업 부장 신정식 네트웍 스 사업 부장 등 참석 각 기관 참여자 모집 홍보 운행 정보 수집 장치 장착 및 주행 정보 수집 활용 등 위해 적 극적 협력 예정 자동차 탄소 포인트 제 시범 사업 온실가스 감축 친환경 운전 실천 문화 확산 위해 지난해 처음 추진 운전자 주행 거리 단 축하 거나 급 가속 급 제동 친환경 운전 경우 실적 경제 적 혜택 탄소 포인트 올해 차 시범 사업 명 선착순 모집 까지 진행 참여 희망 자동차 탄소 포인트 제 시범 사업 누리집 신청 수 운행 정보 수집 방식 운행 기록 자기 진단 장치 이하 방식 사진 방식 중 하나 참여 수 주행 거리 단축 이나 친환경 운전 경우 최대 원 탄소 포인트 운행 기록 자기 진단 장치 자동차 전기 전자 적 작동 상태 확인 제어 위 진단 시스템 방식 한국 환경 공단 제공 단말기 차량 장착 주행 거리 친환경 운전 실적 산정 방식 차량 단말기 장착 참여자 네트웍 스 지정 스피드 메이트 지점 방문 무료 단말기 장착 서비스 지원 수 사진 방식 참여자 참여 시점 종료 후의 차량 계기 판 사진 전송 과거 주행 거리 비 교하 감축 실적 산정 방식 환경부 지난해 올해 시범 사업 결과 분석 운영 규정 마련 부터 자동차 탄소 포인트 제 를 본격 적 도입 예정 자동차 탄소 포인트 제 차 시범 사업 명의 참여자 총 주행 거리 를 톤 온실가스 감축 또한 한국 환경 공단 지난 공개 수송 부문 탄소 포인트 제 제도 활성화 방안 연구 자동차 탄소 포인트 제 부터 시행 까지 약 톤 의 이산화탄소 를 감축 수 것 나타 현행 탄소 포인트 제 시행 당시 초기 가입 률 과 감축 률 등 적용 추 산유 제철 환경부 생활환경 정책 실장 자동차 탄소 포인트 제 본격 적 시행 경우 실 질적 자동차 운행 감소 온실가스 감축 뿐 국민 건강 영향 미세먼지 수 말 시범 사업 업무 협약 계획 시범 사업 추진 계획 질의 응답 전문용어 설명 끝',\n",
       " '환경과학 원 과학 수사 연구원 협력 환경과학 수사 수준 환경과학 원 과학 수사 연구원 협력 환경과학 수사 수준 국립 환경과학 원 국립 과학 수사 연구원 업무 협약 환경오염 사고 분쟁 발생 시 과 학적 법적 결론 제시 능력 등 연구 역량 강화 기대 환경부 소속 국립 환경과학 원 원장 박진원 은 환경과학 수사 연구 역량 강화 위해 국립 과학 수사 연구원 원장 최영 식 과 인천 시 서구 국립 환경과학 원 업무 협약 체결 국립 과학 수사 연구원 법과학 이공 학 분야 등 첨단 장비 이용 분석 감정 기법 과학 수사 주도 온 기관 이번 처 음으로 환경 분야 업무 협력 추진 이번 협약 양 기관 과학 수사 관 경험 기술 등 공유 환경오염 원 추적 증거물 인정 기법 연구 대한 공동 연구 인적 교류 등 협력 예정 극미 량 분석 동위원소 분석 기법 관련 지식 공유 기술 발전 위 협력 관계 구축 환경과학 수사 연구 회 운영 공동 연구 강화 계획 또한 연구 인력 전문성 확대 위해 필요 경우 인력 교류 정보 이용 장비 시설 공동 활용 강화 예정 국립 환경과학 원 이번 업무 협약 계기 국립 과학 수사 연구원 경험 기술 력 교류 로써 환경오염 사고 분쟁 발생 때 과 학적 법적 결론 제시 능력 등 연구 역량 강화 것 기대 최종 국립 환경과학 원 환경 측정 분석 센터 장 이번 협약 체결 통해 환경과학 수사 연구 환경오염 문제 원인 파악 실마리 제공 것 기대 며 또한 환경 현안 해결 위 정책 지원 개방 공유 소통 협력 추구 정부 취지 부처 간 협업 활성화 수 계기 것 말 업무 협약 전문 질의 응답 전문용어 설명 끝',\n",
       " '독도 생태계 그림 국립생태원 생태계 현황 세밀화 그린 독도 생태계 발간 생태 전문가 독도 이야기 재능기부 서천군 동강 중학교 실시 환경부 국립생태원 원장 이희철 은 독도 날 독도 생태계 현황 세밀화 그린 독도 생태계 자료 집 발간 교육자 료 활용 이번 독도 생태계 자료 국민 이해 수 도록 독도 생물 종 지형 등 그림 작성 것 특징 자료 국립생태원 수행 제 차 특정도서 보전 기본 계획 환경부 의 조사 자료 활용 괭이갈매기 서식지 왕호 장 군락 독도 경비 한반도 바위 선착장 등 곳 주요 장소 세밀화 표현 독도 생물 종 대한 정보 뿐 사계절 식물 변화 양상 독도 다양 지형 경관 등 소개 국립생태원 이번 자료 집 자연환경 보전 보호 수행 행정기관 지자체 관련 분야 연구 종사 자 등 유용 활용 수 것 기대 독도 생태계 자료 전국 지자체 학교 도서관 등 초 부터 배포 국립생태원 누리집 생태 자료 실 공개 한편 국립생태원 서천군 동강 중학교 방 문하 독도 생태계 자료 집 전달 연구원 재능기부 독도 생태계 대한 교육 실시 이희철 국립생태원 장 이번 자료 우리나라 가장 먼저 해 바위 투성이 땅 살 아가 생명 생태계 그림 표현 책 이 라며 앞 유관 기관 뿐 일선 학교 활용 수 자료 집 지속 적 발간 계획 독도 세밀화 생태계 자료 집 표지 및 내용 전문용어 설명 끝',\n",
       " '환경 대학생 서포터즈 에코 프렌즈 모집 환경 산업 기술 원 대학생 환경 정책 알림 명 모집 다양 국민 의견 수렴 환경 정책 양방 향 소통 확대 지원 환경부 한국 환경 산업 기술 원 원장 남 광희 은 다양 환경 분야 제도 국민 안내 위 대학생 환경 정책 알림 기 에코 프렌즈 서포터즈 를 일부 터 까지 모집 환경 관심 대학생 이면 누구 지원 수 한국 환경 산업 기술 원 블로그 신청서 작성 후 이메일 제 출하 명 팀 팀 단위 지원 서류 전형 면접 총 개 팀 명 선발 예정 에코 프렌즈 선발 학생 올해 월부 터 초 까지 약 개 월간 활 동하 활동 전원 수료증 발급 우수 활동 팀 한국 환경 산업 기술 원장 상 장학금 등 주어 며 팀 해외 연수 기회 제공 올해 선발 에코 프렌즈 한국 환경 산업 기술 원 환경 기술 산업 인증 보건 생활 등 개 주요 사업 분야 각각 해당 분야 대한 정책 홍보 활동 또한 캠페인 설문조사 등 다양 활동 환경 정책 홍보 국민 의견 수렴 기관 국민 양방 향 소통 위 중간 역할 수행 통해 환경 정책 대한 국민 관심 강화 뿐 대학생 환경 분야 직업 대해 탐색 수 도록 에코 프렌즈 지난 동안 참신 아이디어 보이 다양 활동 친환경 생활 문화 확산 기여 대학 및 지역 축제 등 계 캠페인 홍보 활동 등 통해 총 여 건의 친환경 생활 정보 및 환경 정책 내용 전달 활동 수행 남 광희 한국 환경 산업 기술 원장 환경 사랑 대학생 관심 참여 바 라며 에코 프렌즈 서포터즈 활동 국민 양방 향 소통 강화 환경 정책 대한 국민 참여 수 도록 노력 것 에코 프렌즈 서포터즈 모집 포스터 질의 응답 전문용어 설명 끝',\n",
       " '산양 속리산 방사 백두대간 산양 생태 축 산양 속리산 방사 백두대간 산양 생태 축 속리산 내 산양 서식 흔적 발견 안정 적 개체군 형성 유도 위해 월악산 산양 개체 속리산 방사 설악산 오대산 월악산 속리산 백두대간 산양 생태 축 복원 환경부 장관 윤성규 국립공원 관리 공단 이사장 박보환 은 최근 속리산 멸종위기 야생 생물 급 산양 살 흔적 배설물 이 확인 속리산 개체군 안 정적 유지 위 월악산 산양 마리 속리산 자연 방사 속리산 산양 지난 동학 터널 일원 개체 발견 이후 최근 까지 서식 흔적 발견 국립공원 관리 공단 올해 산양 서식 실태 정밀 조사 결과 속리산 국립공원 내 군자산 일원 곳 산양 배설물 확인 발견 산양 배설물 분석 결과 속리산 내 수컷 성체 마리 서식 확인 안 정적 속리산 산양 개체군 형성 위해 암컷 마리 수컷 마리 서식 흔적 발견 지역 인근 방사 것 발견 지역 일대 대한 추가 조사 다른 산양 개체 서식 흔적 발견 이번 발견 개체 무리 이동 것 판단 이 개체 이동 이유 대해 국립공원 관리 공단 산양 교미 시기 암컷 차지 위해 수컷 간 힘겨루기 데 이 때 수컷 새 서식지 경우 추측 국립공원 관리 공단 겨울철 환경 적응 수 도록 방사 개체 인근 월악산 포획 개체 이용 송동주 국립공원 관리 공단 종 복원 기술 원장 이번 방사 대해 속리산 산양 개체 수 산양 자생 수 도록 그 의미 며 그간 백두대간 북 부권 이루 어지던 산양 복원 사업 중 부권 까지 확 대하 데 중요 계기 것 말 지난 부터 추진 월악산 산양 복원 사업 환경부 국립공원 관리 공단 지속 적 노력 야생 개체 수가 마리 까지 증가 매년 안 정적 새끼 이번 방사 통해 월악산 속리산 하나로 산양 생태 축 마련 것 기대 방사 개체 현황 질의 응답 전문 용어 설명 끝 관련 사진 및 영상 환경부 웹하드 게재',\n",
       " '건설업 계 공사 장 날림 먼지 자발 적 감축 나선 건설업 계 공사 장 날림 먼지 자발 적 감축 나선 환경부 건설업 개사 공사 장 발생 날림 비산 먼지 감 위 자발 적 협약 체결 업계 스스로 인근 도로 청소 풍속계 설치 등 날림 먼지 감 노력 환경부 장관 조경규 건설업 계 공사 장 날림 비산 먼지 감 위해 환경부 건설 사 날림 먼지 감 자발 적 협약 서울 강남구 건설 회관 체결 이번 협약 계룡 건설 산업 주 대림 산업 주 주 대우건설 두산건설 주 삼성 물산 주 삼성 엔지니어링 주 건설 주 건설 주 주 포스코건설 등 개 건설 사가 참여 환경부 개 건 설사 미세먼지 주요 발생 원인 중 하나 건설 공사 장의 날림 먼지 감 필요성 대한 인식 건설업 계 스스로 날림 먼지 발생 국민 건강 보호 대기 질 개선 기여 위해 이번 협약 체 결하 협약 참여 건 설사 공사 장 인근 도로 청소 풍속계 설 치하 초속 이상 강풍 불 경우 작업 중지 또한 가설 도로 포 장하 거나 먼지 억제제 살포 등 다양 감 조치 강구 공사 현장 특성 날림 먼지 관리 계획 수 립하 이행 계획 환경부 참여 건 설사 현판 제공 협약 사항 이행 수 도록 적극 지원 방침 날림 먼지 감 이행 실적 우수 건 설사 대해 표창 수여 등 혜택 인 센티 브 도 제공 예정 환경부 전 국적 약 여 곳 공 사장 보유 대형 건설 솔선수범 참여 만큼 앞 건설업 계 전반 날림 먼지 감 노력 확산 국민 건강 보호 대기 질 개선 기여 수 것 기대 자발 적 협약 주요 내용 건설업 날림 비산 먼지 감 자발 적 협약 자발 적 협약 참여 건설 사 명단 끝',\n",
       " '어린이 활동 공간 환경 안전 관리 상태 크게 향상 어린이 활동 공간 환경 안전 관리 상태 크게 향상 환경 안전 기준 미달 률 로 전 년대 비 환경부 기준 충족 시설 대해 사전 점검 시설 개선 독려 환경부 장관 윤성규 한해 동안 어린이 활동 공간 곳 대해 환경 안전 관리 상태 진단 결과 지난해 대비 크게 향상 것 나타 이번 진단 대상 중 곳 기준 미흡 것 나타 환경 안전 기준 미달 률 로 집계 년도 미달 률 감소 것 미달 률 이유 환경 안전 대한 지속 적 교육 홍보 통해 시설 소유자 인식 친환경 자재 사용 때문 것 분석 어린이 활동 공간 어린이 놀이 시설 어린이집 보육 실 유치원 초등학교 교실 도서관 등 해당 전국 곳 이번 진단 도료 마감 재의 중금속 함량 실내 활동 공간 오염 물질 방출 여부 토양 기생충 란 검 여부 등 대해 실시 진단 대상 어린이 활동 공간 환경 보건 법 이 적용 이전 설치 월부 터 환경 안전 기준 준수 의무 약 곳 중 지자체 추 천하 거나 시설 소유자 신청 선정 이전 설치 시설 이후 부터 환경 보건 법 적용 연 면적 미만 사립 어린이집 유치원 일부 터 적용 이번 어린이 활동 공간 환경 안전 진단 결과 주요 항 목별 다음 도료 마감 재의 중금속 기준 초과 시설 곳 이 중 인 곳 납 기준 초과 것 이 중 납 기준 최대 를 초과 검 곳도 납 도료 함유 어린이 지속 적 노출 성장 발육 장애 학습장애 등 유발 수 것 중금속 기준 납 수은 카드뮴 크롬 합 질량 분율 이하이 납 이하 환경부 납 대한 관리 위해 일부 터 납 허용 기준 별도 추가 함바 닥 모래 등 토 양으로 조성 어린이 놀이 시설 곳 기생충 란 이 검 어린이 놀이 시설 벤치 등 사용 목재 곳 사용 금지 크롬 구리 비소 화합물 계 방부제 를 사용 것 확인 또한 어린이 활동 공간 중 실내 공간 곳 진단 결과 인 곳 휘 발성 유기화합물 폼알데하이드 등 기 준치 초과 것 나타 휘 발성 유기화합물 이하 폼알데하이드 이하 환경부 이번 진단 결과 시설 소유자 지자체 통보 기준 미달 시설 대한 개선 요청 기준 초과 정도 시설 열 악한 곳 선정 시설 개선 지원 시설 개선 놀이터 그네 미끄럼틀 경우 기존 페인트 제거 후 친환경 페인트 다시 칠 실내 공간 친환경 벽지 장판 교체 거나 환기 등 실내 환경 관리 중요성 대한 교육 이산화탄소 알람 기인 어린이 건강 지킴 카나리아 를 설치 어린이 건강 지킴 카나리아 세기 영국 미국 광 부들 탄광 유독가스 탐지 위 이용 카나리아 착안 이산화탄소 농도 일정 수준 이상 아지 새소리 주도 록 환경부 개발 알람 기 환경부 년도 환경 안전 진단 대상 곳 시설 개선 대비 배 곳 확대 계획 또한 환경 안전 진단 결과 기준 충 족하 시설 대한 사전 점검 지속 적 개선 독려 월부 터 시행 예정 어린이 활동 공간 환경 안전 기준 준수 의무 화 이전 시설 개선 완료 예정 이 어린이 활동 공간 소유 관리자 학부모 환경 안전 대한 교육 홍보 강화 현재 환경 보건 법 적용 시설 대해 서도 지자체 교육청 합동 지도 점검 실시 예정 환경부 지난 부터 어린이 활동 공간 사용 도료 마감 재 합성 고무 바닥재 등 중금속 함유 여부 대해 환경 보건 법 의 환경 안전 관리 기준 적합 여부 무료 검사 어린이 활동 공간 환경 안전 진단 사업 어린이 활동 공간 현황 년도 어린이 활동 공간 환경 안전 진단 사업 결과 어린이 활동 공간 대한 환경 안전 관리 기준 끝',\n",
       " '통합 환경 관리제 발 호 사업 장 허가 승인 통합 환경 관리제 시행 이후 사업 장 최초 허가 승인 제 호 허가 사업 장 지에스 앤알 오염 물질 연간 감축 기대 환경부 장관 김은경 오염 물질 배출 사업 장의 효율 적 관리 위해 지난해 도입 통합 환경 관리제 의 호 사업 장 지에스 앤알 반월 발전 처 승인 호 통합 허가 지에스 앤알 반월 발전 처 경기도 안산시 반월 스마트 허브 반월 국가 산업 단지 위치 부터 운영 중인 열 병합 발전소 김은경 환경부 장관 오전 서울시 영등포구 위치 센터 낙평 지에스 앤알 반월 발전 처 제 호 통합 환경 허가 를 수여 예정 일부 터 시작 통합 환경 관리제 사업 장의 오염 물질 배출 시설 대기 수질 등 매체 별로 관리 기존 방식 하나 사업 장 단위 허가 통합 적 관 리하 제도 경제성 우수 환경 관리 기법 최적 가용 기법 적용 기반 사업 장 별로 입지 여건 및 시설 등 맞춤 형 허가 배출 기준 운영 기준 허가 조건 부여 기업 기술 수준 지역 환경 여건 고려 선진 적 사업 장 환경 관리 체계 이 제도 연간 톤 이상 대기오염 물질 발생 거나 하루 이상 폐수 배 출하 대규모 사업 장 대해 적용 발전 소각 증기 공급 업 시작 철강 비철 유기화학 업종 확대 등 까지 총 개 업종 여 개 사업 장 대해 단계 적 적용 예정 적용 대상 사업 장 중 신규 사업 장 사업 장 설치 이전 통합 허가 아야 기존 사업 장 업종 별 시행일 로부터 내 통합 허가 완료 환경부 호 통합 허가 지에스 앤알 반월 발전 처 대해 사업자 제출 통합 환경 관리 계획 를 토대 연료 사용 시설 운영 및 관리 계획 등 종합 적 검토 또한 사업 장의 적 극적 환경 개선 의지 반 영하 액화천연가스 등 청정 연료 사용 비율 높이 방지 시설 성능 대폭 개 선하 등 허가 조건 부여 이 사업 장 이번 통합 환경 허가 이후 미세먼지 등 대기오염 물질 배출 량 연간 기준 톤 톤 총 톤 감 수 것 예상 낙평 지에스 앤알 반월 발전 처 통합 허가 통해 시설 및 환경 관리 현황 재 점검 합리 적 개선 방안 도출 수 기회 이번 통합 허가 계기 향후 안산 지역 환경오염 감 위해 선 도적 역할 것 이 김은경 장관 제 호 허가 사업 장 계기 앞 우리나라 오염 물질 배출 사업 장 대한 통합 허가 본격 적 진행 미세먼지 감 등 국가 환경 현안 해결 쾌적 지역 환경 조성 크게 기여 것 말 통합 환경 관리제 개요 지에스 앤알 반월 발전 처 사업 장 개요 전문용어 설명 끝',\n",
       " '여름 국립공원 걷기 길 여름 휴가 철 시원 계곡 푸른 바다 국립공원 걷기 길 곳 선정 환경부 국립공원 관리 공단 이사장 박보환 은 여름 휴가 철 가족 시원 여름 청량감 걸 수 국립공원 힐링 로드 선 추천 이번 선정 선 국립공원 힐링 로드 선 중 계곡 길 숲길 바 길 등 여름 휴가 철 가족 걷기 길 선정 시원 계곡 걸 수 계곡 길 태백산 검룡소 길 덕유산 구천동 어사 길 가야산 백운동 길 주왕산 절골 계곡 길 소백산 구곡 길 무등산 용추계곡 길 월출산 경포대 계곡 길이 태백산 국립공원 끝 자락 위치 검룡소 한강 발원 지로 자그 마한 연못 연중 의 차 가운 맑은 물이 매일 냉천 의 완만 길 통해 남녀 노소 여름 더위 수 덕유산 구천동 어사 명의 승려 수도 곳 유래 선녀 비파 타고 비파 담 기묘 비경 구월 담 어사 박문수 구비 설화 일제 항일 의병 활동 거점 등 역사 적 공간 공존 곳 드라마 도깨비 촬 영지로 유 명세 타고 오대산 국립공원 전나무 길이 숲길 선정 이 곳 까지 그루 아름드리 전나무 거 피톤 치드 청량감 수 푸른 바다 파도 수 바 길 려 해상 비진도 길 태안 해안 노을길 선정 려 해상 국립공원 산호 빛 바다 으뜸 비진도 견줄 비 보배 진 의미 걸 두 개 섬 아름 다운 은 모래사장 산호 빛 바닷 물결 어 여름 가장 코스 려 해상 섬 눈 감상 수 곳 김영 국립공원 관리 공단 탐방 복지 처 여름 자연 선 사하 시원 나무 그늘 바다 국립공원 힐링 로드 여름 휴가 바란 고 말 국립공원 힐링 로드 선 현황 국립공원 힐링 로드 선 설명 현황 사진 질의 응답 끝',\n",
       " '국립생물자원관 국군 교도소 희망 꽃 자생 식물 종자 제공 원예 교육 수용 자의 재활 의욕 고취 국군 교도소 영월교도소 등 개 수용 시설 자생 식물 종자 종 보급 환경부 소속 국립생물자원관 국군 교도소 소장 채 왕식 오후 경기도 이천시 국군 교도소 태안 원추 리 등 자생 식물 종자 파종 행사 개 최하 자생 식물 복원 파트너 십 사업 시작 자생 식물 복원 파트너 십 사업 수용 자 교도소 소년원 내 자생 식물 재 배하 국가 생 물자원 보존 활용 위해 씨앗 종자 수확 사업 환경부 법무부 업무 협약 체결 시작 지금 까지 법무부 서울 소년원 청주 소년원 광주 소년원 영월교도소 순천교도소 국방부 국군 교도소 공동 자생 식물 여종 개체 생산 및 보급 올해 일부 터 까지 국군 교도소 영월 및 순천 교도소 청주 및 광주 소년원 등 총 곳 수용 시설 자생 식물 종 개체 증식 계획 국립생물자원관 태안 원추 리 등 우리나라 고유 식물 참나리 등 관상 가치 식물 종자 수용 시설 측 제공 주 기적 원예 교육 지원 예정 이번 자생 식물 복원 파트너 십 참여 국군 교도소 지난 부터 자생 식물 증식 사업 참여 지금 까지 섬 초롱꽃 등 종 개체 생산 올해 생산 목표 종 개체 수용 자 직접 재배 자생 식물 다시 씨앗 수확 수용 시설 인근 학교 보육원 등 보급 거나 환경부 국가 야생 식물 종자 행 보관 교육 연구 목적 외부 분양 수 소재 활용 예정 채 왕식 국군 교도소 장 수용 자 자생 식물 씨앗 싹 정성 식물 과정 통해 삭막 수용 시설 분위기 개선 뿐 수용 자 또한 보람 성취 감 전 최종원 국립생물자원관 생 물자원 활용 부장 수용 자 원예 활동 통해 자연 생명 직접 경험 국가 사업 기여 만족감 것 기대 말 국군 교도소 자생 식물 증식 대상 종 목록 질의 응답 전문용어 설명 끝',\n",
       " '국민 행복 환경부 약속 환경부 차관 전하 환경 정책 설명 회 개최 국민 행복 환경부 약속 환경부 차관 전하 환경 정책 설명 회 개최 환경부 서울 명동 페럼 타워 국민 상대로 올해 환경 정책 직접 설명 의견 경청 자리 마련 폐가 전 처리 층 소음 등 국민 불편 사항 현장 해결 방안 제시 아가 환경 서비스 상담 부스 운영 환경부 장관 윤성규 오후 서울 명동 페럼 타워 환경 정책 관심 환경 서포터즈 국민 명 초대 주요 환경 정책 설명 의견 국민 소통 환경 정책 설명 회 를 개최 환경 서포터즈 환경부 블로그 기자 단 생 물자원 보전 청소년 리더 등 환경 분야 대해 관심 여러 모임 의미 함 이번 행사 정연만 환경부 차관 국민 행복 환경부 가지 약속 주제 올해 환경부 정책 방향 대해 설명 환경부 가지 약속 생활환경 최우 선 해결 아가 환경 서비스 확대 저 비용 고 효율 환경 관리 전환 시장 친 적 온실가스 감축 환경 가치 보전 현명 이용 환경 기업 모두 환경 규제 개혁 등 구성 정연만 차관 생활환경 문제 미세먼지 녹조 유해 화학물질 악취 생활 속 온실가스 줄 이기 생태관광 이용 등 국민 생활 밀접 친환경 정책 상세 소개 예정 또한 행사 참석자 평소 가지 환경 정책 대한 궁금증 불편 함 생활환경 문제 조언 해주 시간 마련 환경부 업무 보고 인터넷 포털 환경부 업무 보고 검색 전용 페이지 로 상세 정보 알 수 전남 신안 산 초등학교 영산 분교 교장 정상호 교사 세 석주 대문 유명 생태관광 도 서지역 영산 명품 마을 직접 소개 시간 예정 환경부 이번 행사 국민 적 관심 중 대형 폐가 전 무상 방문 수거 층간소음 갈등 해결 지원 서비스 등 개 환경 서비스 대해 전문가 참여 참석자 대상 로 상담 해주 아가 환경 서비스 상담 부스 도 운영 예정 개 환경 서비스 미세먼지 예 경보 폐 가전제품 무상 방문 수거 층간소음 갈등 해결 지원 우리 집 수돗물 안심 확인 제 라돈 무료 측정 서비스 김은경 환경부 뉴미디어 홍보팀 팀 정부 정책 가치 소통 공감 이 라며 위해 국민 직접 상담 생활환경 불편 해 결하 아가 환경 서비스 상담 부스 를 설치 고 말 정연만 차관 이번 행사 국민 대상 환경 정책 전반 대해 설명 위해 올해 처음 준비 자리 라며 국민 환경 정책 진 정성 전달 자리 마련 고 말 환경 정책 설명 회 행사 계획 행사 콘셉트 이미지 행사 장 위치 끝 행사 사진 환경부 웹하드 게재',\n",
       " '국립공원 탐방 때 구조 요청 기능 국립공원 산 행정 보앱 꼭 설치 국립공원 탐방 때 구조 요청 기능 국립공원 산 행정 보앱 꼭 설치 산 행정 보앱 탐방 정보 긴급 신고 버튼 기능 제공 안전 사고 신변 위협 예방 위해 인 이상 동반 샛길 출입 야간 산행 삼 가해 국립공원 관리 공단 이사장 박보환 은 최근 발생 등산 객 사고 관련 국립공원 탐방 때 위성 위치 확인 시스템 기반 구조 요청 가능 국립공원 산 행정 보앱 설치 것 인 이상 동반 반드시 정규 탐방 이용 필 요하 고 산 행정 보앱 난이도 별 소요 시간 별로 탐방 의 정보 제공 길안 뿐 안전 사고 발생 이나 신변 위협 경우 신고 버튼 사용자 위치 정보 국립공원 관리 공단 본부 상황 실과 해당 사무소 즉시 전해 산 행정 보앱 국립공원 관리 공단 모바일 누리집 이나 안드로이드마켓 앱스토어 무료 다운 수 국립공원 관리 공단 무더위 기승 부리고 소나기 등 날씨 불 안정 시기 안전 사고 각별 유의 필 요하 고 설명 당뇨 심혈관계 질환 거나 고령 경우 폭염 속 정상 지향 산행 자칫 사고 수 둘레길 등 수평 탐방 를 이용 것 실제 어서 무등산 입석 상단 혈관 성형 술 스 텐트 삽입 세 남성 가슴통 증 발생 긴급 구조 소백산 비로봉 정상 세 남성 심폐소생술 실시 불구 심장 돌연사 사고 발생 국립공원 관리 공단 여름철 안전 산행 위해 출발 전 반드시 자신 체력 건강 상태 탐방 를 선택 스트레칭 등 충분 준비운동 필 요하 고 설명 이 총 개 노선 여 탐방 대한 측량 통해 난이도 경사 등 반영 탐방 등급제 매우 쉬움 쉬움 보통 어려움 매우 어려움 를 안내 여름철 날씨 불안 정 산행 때 기상 상태 주의 소나기 등 대비 비옷 이나 입 여벌 옷 준비 신발 배낭 등 방수 대책 낙뢰 대한 대비 철저 여름철 탈수 식중독 등 질병 감염 충분 식수 준비 음식물 변질 도록 관 리하 것 중 요하 또한 일행 무 리하 산행 힘 때 탐방 중간 조성 안전 터 충분 휴식 취하 안전 사고 예방 수 김경 국립공원 관리 공단 안전 방재 처 여름철 무더위 피 이유 인적 드문 새벽 이나 일몰 후 산행 경우 증가 반드시 입산 시간 준수 고 말 최근 여름철 안전 사고 현황 무리 산행 최근 사고사 례 질의 응답 전문용어 해설 끝',\n",
       " '수족관 생명 유지 과정 한눈 국립생태원 일부 터 생명 유지 장치 특별 전시회 개최 어류 전시 물 정화 위 필수 시설 생명 유지 장치 오염 물질 제거 과정 상세 소개 환경부 국립생태원 원장 박용 목 은 수족관 수질 정화 과정 알리 기 위 생명 유지 장치 특별 전 수족관 비밀 일부 터 충남 서천군 국립생태원 에코 리움 내 개최 이번 특별 전 수족관 수생 생물 살 면서 생기 배설물 등 오염 물질 제거 수온 산소 등 수생 생물 적합 환경 제공 생명 유지 장치 한눈 볼 수 도록 기획 특별 전 관람객 제한 공간 수질 정화 방식 이해 수 도록 전시 수조 생명 유지 장치 보 여준 톤 규모 전시 수조 수생 생물 살 수 서식 환경 제공 전시 수조 발생 오염 물질 생명 유지 장치 정화 전체 과정 흥미 롭 소개 관람객 수 자연 하천 자정 작용 의 원리 생명 유지 장치 계 이해 자정작용 물속 포함 오염 물질 스스로 정화 작용 전시 수조 블랙 팁 샤크 플랩 노 레이 등 소형 상어 가오리 등 전시 해 설사 통한 하천 자연 정화 생명 유지 장치 통한 정수 과정 대한 이야기 관람객 자연 과학 원리 박용 목 국립생태원 장 이번 전시 통해 생명 살 아가 데 필요 물 과정 원리 이해 나 아가 우리 살 아가 자연 환경 이 해하 데 기여 것 생명 유지 장치 특별 전 포스터 하천 자정 작용 관련 설명 판 전시 사진 질의 응답 전문용어 설명 끝',\n",
       " '민간 사업 장 손 잡고 미세먼지 비상 감 조치 실효 성 강화 환경부 수도권 곳 대기 배출 민간 사업 장 비상 감 조치 자발 적 협약 식 개최 고 농도 미세먼지 대응 위 민간 부문 자발 적 동참 뜻 환경부 장관 김은경 수도권대기환경청 청장 김 동구 은 오후 시부 터 서울 영등포구 켄싱턴 호텔 안병옥 환경부 차관 주재 수도권 내 민간 사업 장 곳 미세먼지 비상 감 조치 참여 자발 적 협약 식 개최 이번 협 약식 전 기가스 증기 업 제철 제강 업 비금속 광물 제조업 등 굴뚝 자동 측정 장비 구축 수도권 종 대기 배출 사업 참여 대기 배출 사업 장 종별 구분 대기오염 물질 연간 배출 량 톤 이상은 종 톤 종 톤 종 톤 종 톤 미만 종 구분 협 약식 지난 국정 현안 점검 조정 회의 보고 봄철 미세먼지 대책 보완 사항 비상 감 조치 실효 성 강화 위 민간 부문 참여 미세먼지 감 이행 다짐 위해 마련 환경부 수도권대기환경청 서울 인천 경기 등 수도권 지자체 그간 민간 사업 장 참여 협의 진행 그 결과 서울 곳 인천 곳 경기 곳 등 총 곳 민간 사업 수도권 미세먼지 비상 감 조치 참여 결정 참여 사업 장 사업 장별 특성 고려 미리 환경부 지자체 제출 미세먼지 배출 감 관리 카드 자 체적 비상 감 조치 참여 환경부 수도권대기환경청 이 사업 장의 미세먼지 배출 량 비교 분석 그 결과 지도 점검 자료 활용 지자체 통보 예정 환경부 수도권대기환경청 앞 굴뚝 자동 측정 장비 구축 수도권 전체 대형 사업 장 곳 대상 비상 감 조치 참여 대상 업체 예정 이 대형 사업 장 곳 말 기준 수도권 사업 장 곳 배 출하 미세먼지 의 를 배출 안병옥 환경부 차관 정부 고 농도 미세먼지 발생 경우 가용 모든 수단 동원 예정 이나 민간 부문 노력 미세먼지 대응 효과 지기 때문 민간 사업 장 서도 미세먼지 감축 방안 적 극적 실행 것 부탁 말 협약 식 개요 민간 사업 장 비상 감 조치 참여 자발 적 협약 민간 사업 장 비상 감 조치 참여 방안 끝',\n",
       " '한국 환경 산업 기술 원 법 제정 제 의 도약 발판 마련 한국 환경 산업 기술 원 법 제정 제 의 도약 발판 마련 한국 환경 산업 기술 법 제정 공포 국민 환경 복지 안전 향상 위 종합 환경 서비스 제공 기대 한국 환경 산업 기술 원 원장 김용주 의 종합 적 역할 지위 명확 반영 한국 환경 산업 기술 법 이 공포 이 법 지난해 국회 환경 노동위 회 주영순 의원 대표 발의 올해 환노위 법사 위 의결 지난 국회 본회의 최종 의결 한국 환경 산업 기술 법 설립 목적 기관 고유 사업 범위 운영 재원 수익 사업 업무 협력 등 명시 이번 법 제정 한국 환경 산업 기술 원 환경기술 개발 및 지원 환경 산업 육성 친환경 생활 확산 통 국민 환경 복지 서비스 향상 지속 가능 국가 발전 기여 종합 환경 기관 위상 강화 기관 사업 부문 환경 복지 관 업무 를 추가 국민 환경 복지 안전 향상 위 중추 적 역할 수행 수 토대 마련 한국 환경 산업 기술 원 진행 가습기 살균제 피해자 지원 환경오염 피해 구제 지원 사회 취약 계층 대상 실내 환경 진단 어르신 활동 공간 안전 진단 등 사회 적 약자 배려 다양 사업 더욱 책임감 추진 수 한국 환경 산업 기술 원 지난 설립 그간 환경기술 및 환경 산업 지원 법 기관 설립 및 활동 근거 환경기술 개발 환경 산업 육성 녹색 제품 보급 및 촉진 수행 최근 환경 문제 광범위 복합 적 발생 면서 국민 환경 관련 수요 다양 해지 한국 환경 산업 기술 원 업무 범위 환경 안전 환경 복지 등 확대 기존 법률 기관 업무 규정 데 한계 따라서 이번 법 제정 통해 한국 환경 산업 기술 원 다양 환경 문제 효과 적 대응 질 환경 복지 사회 구현 수 발판 마련 한국 환경 산업 기술 원 한국 환경기술 진 흥원 친환경 상품 진 흥원 통합 출범 이후 성장 거듭 출범 당시 비교 정원 배 정규직 명 명 예산 배 성장 고객 만족도 연속 점 이상 우수 성적 거두 공공기관 청렴 조사 연속 우수 등급 또한 지난 그린카드 제도로 영국 그린 월드 어워즈 최우수상 수상 국가 과학기술 식 정보 서비스 국무총리 기관 표창 수상 연속 말레이시아 녹색 기술 박람회 최우수 전시 참가 상 수상 등 국내 외적 성과 인정 한국 환경 산업 기술 원 조직개편 현재 환경기술 개발 환경 인증 평가 환경 산업 지원 환경 보건 안전 강화 친환경 생활 장려 등 크게 개 부문 사업 추진 또한 환경 산업 육성 해외 시장 진출 환경 복지 실현 기술 수준 향상 환경 정책 지원 경영 성과 선진 화 홍보 및 환경인식 제 등 고객 가치 를 수립 수요 자 중심 업무 체계 강화 앞 한국 환경 산업 기술 원 환경오염 피해 구제 국민 실생활 밀접 환경 문제 적 극적 대응 국민 요구 환경 서비스 선 제적 발굴 추진 계획 김용주 한국 환경 산업 기술 원장 환경 경제 상생 도 모하 지속 적 증가 국민 환경 수요 부합 수 도록 적극 노력 것 한국 환경 산업 기술 법 공포 뒤 일부 터 시행 법률 자세 내용 환경부 누리집 통해 확인 수 한국 환경 산업 기술 원 일반 현황 한국 환경 산업 기술 법 주요 내용 및 원문 질의 응답 주요 용어 설명 끝',\n",
       " '국제 환경 전문가 꿈 이 루세 국제 환경 전문가 양성 과정 참가자 까지 모집 환경 전문교육 실시 후 환경 관련 국제 기구 인턴 파견 기회 부여 환경부 장관 조경규 우리나라 청년 유엔 등 국제 기구 인턴십 근무 기회 제공 국제 환경 전문가 양성 과정 기 참가자 일부 터 까지 모집 모집 대상 대한민국 국적 대학교 학년 대학원 재학생 대학 및 대학원 졸업 후 이내 자 기준 서류 영어 면접 등 심사 총 명 선발 국제 환경 전문가 양성 과정 은 국제 환경 협력 수요 대응 우리나라 우수 인재 국제 기구 진출 지원 위해 부터 시작 지난해 말 기준 명 국제 환경 전문가 양성 과정 의 환경 전문교육 과정 수료 이중 명 환경 관련 국제 기구 파견 기회 국제 환경 전문가 양성 과정 합격자 일부 터 주 총 시간 동안 환경 관련 전문교육 무료 환경 관련 전문교육 기후변화 생물다양성 환경 통상 등 국내 외 환경 정책 국제 기구 근무 필요 각종 실무 과정 구성 국제 환경 전문가 양성 과정 수료 자 유엔 환경 계획 유엔 아시아 태평양 경제사 회 위원회 글로벌 녹색 성장기 구 등 국내 해외 소재 환경 관련 국제 기구 최 개월 동안 인턴 근무 기회 주 어진 환경부 해외 소재 국제 기구 파견 자 왕복 항공 료 파견 기간 동안 최대 월 원 체재비 국내 소재 국제 기구 근무 경우 월 원 체재비 각각 지원 예정 환경부 이번 지원 다수 국제 기구 인턴 무급 채용 상황 고려 때 재 정적 부담 인턴 근무 계획 청년 기회 것 현재 필리핀 마닐라 세계보건기구 태평 양지역 본부 인턴 활동 중인 기 수료 생 류세 은씨 국제 환경 전문가 양성 과정 통해 환경 국제 기구 대한 꿈 더욱 구체화 실제 국제 기구 무하 기회 까지 고 말 올해 국제 환경 전문가 양성 과정 지원 대한 자세 사항 환경부 한국 환경 공단 누리집 게재 모집 공 고문 고하 지원 관련 서류 담당자 이메일 전화 문의 환경부 국제 협력 한국 환경 공단 국제 협력 팀 기 국제 환경 전문가 양성 과정 교육 생 모집 공고 질의 응답 전문용어 설명 끝',\n",
       " '국립공원 로드킬 예방 결실 매년 감소 추세 국립공원 로드킬 예방 결실 매년 감소 추세 로드킬 피해 건 건 대폭 감소 예방 사업 수혜 종 양서류 건 건만 피해 국립공원 관리 공단 이사장 박보환 이 부터 까지 전국 개 국립공원 관통 개 도로 발생 로드킬 분석 결과 건 건 매년 평균 정도 로드킬 감소 추세 보이 것 나타 부터 까지 국립공원 발생 로드킬 누적 수 건 종별 순서 구분 포유류 건 양서류 건 파충류 건 조류 건 등 로드킬 가장 당한 동물 북방 산개구리 건 다람쥐 건 유혈목이 건 등 나타 로드킬 피해 가장 크게 감소 종은 양서류 건 발생 건 불과 국립공원 관리 공단 양서류 대체 산란 조성 로드킬 피해 예방 시설 설치 양서류 구조 활동 등 효과 나타 때문 파악 야생동물 로드킬 번 식기 주로 발생 평균 건 가장 평균 건 가장 포유류 다람쥐 번식 기인 월말 부터 월말 까지 피해 가장 양서류 산란 기인 가장 발생 파충류 뱀 등 대사 활동 필요 열 위해 도로 시간 월부 터 피해 집중 조류 여름철새 도래 월부 터 번식 기 이후 까지 집중 적 발생 로드킬 가장 발생 국립공원 내 도로 월악산 재 번 지방도 부터 까지 총 건 발생 두 번 발생 도로 오대산 국립공원 내 번 국도 기간 동안 총 건 발생 공단 야생동물 로드킬 피해 방지 위해 종별 행동 및 크기 유형 현장 여건 등 분석 맞춤 형 현장 관리 국립공원 내 야생동물 로드킬 피해 최 소화 월악산 재 지방도 경우 양서류 이동 통로 유도 울타리 등 로드킬 감 시설 설 치하 이후 양서류 로드킬 피해 건 발생 로드킬 피해 지역 주민 도로로 단절 양서류 서식지 산란 의 연결 위 생태 기능 공간 대체 산란 조성하 생 물자원 구조 및 보호 활동 등 공동 사업 추진 성과 것 강릉시 연곡면 산 리 주민 경우 주민 소유 토지 대체 산란 대상 지로 제공 양서류 구조 및 보호 활동 등 지원 역할 추진 지난 북방 산개구리 여 마리 대체 산란 로 성과 거두 기도 이 지역 주민 제공 대체 산란 강릉 송천 부연 등 총 개소 면적 조성 추가 개 소의 생태 기능 공간 조성 예정 공단 전국 주요 국립공원 양서류 파충류 위 배수로 탈출 시설 배수로 덮개 등 개소 설치 백두대간 등 주요 생태 축 설치 생태 통로 곳 대한 지속 적 관찰 지난해 말 국립공원 내 관통 도로 개 노선 로드킬 빈발 구간 대한 분석 완료 아이나비 등 차량 탑재 형 내비게이션 로드킬 주의 안내 정보 제공 공단 향후 스마트폰 내비게이션 로드킬 주의 구간 안내 확대 실시 야생동물 보호 활동 강화 예정 김종완 국립공원 관리 공단 자원 보전 처 야생동물 로드킬 원인 도로 서식지 단절 때문 판단 면서 주요 생태 축 생태 통로 및 도로시 설 개선 등 위해 관계 부처 도로 관리 청과 협조 지역 주민 상생 협력 등 지속 적 확대 고 말 까지 국립공원 내 로드킬 현황 월악산 재 번 지방도 연도 별 종별 로드킬 현황 오대산 진고 개 번 국도 연도 별 종별 로드킬 현황 오대산 생태 기능 공간 대체 산란 조성 현황 질의 응답 전문 용어 설명 끝 관련 영상 및 사진 환경부 웹하드 게재',\n",
       " '무인기 순찰 활용 국립공원 관리 혁신 드론 활용 순찰 전담 조직 운영 과학 적 공원 관리 차 산업혁명 일자리 창 공원 관리 모델 선도 환경부 국립공원 관리 공단 이사장 박보환 은 접근 산악 고 지대 해양 도 서지역 등 국립공원 현장 효과 적 과 학적 관리 위해 국립공원 무인기 드론 순찰 를 운영 국립공원 무인기 순찰 광범위 공원 산재 샛길 위험 지역 접근 해상 해안 국립공원 도 서지역 등 대한 순찰 활동 강화 위해 도 입하 시범 조직 국립공원 특별 단속 팀 무인기 운용 가능 직원 구성 이 지난 지리산 국립공원 국립공원 무인기 순찰 발대식 개최 지리산 국립공원 노고단 성 삼재 화엄사 일원 무인기 활용 순찰 및 단속 실시 국립공원 관리 공단 부터 총 대의 무인기 도 입하 전국 국립공원 사무소 국립공원 연구원 등 공원 관리 활용 앞 접근 려 해상 등 해상 해안 국립공원 특정도서 지역 취사 야영 해양 쓰레기 투기 등 환경오염 행위 풍란 등 멸종위기종 무단 채집 및 반출 행위 감시 집중 활용 예정 이진범 국립공원 관리 공단 환경 관리부장 국립공원 지역 사람 접근 급경사 면서 무인기 등 첨단 순찰 장비 통해 과 학적 공원 관리 위해 힘 것 말 현재 시범 적 운영 무인기 순찰 전담 조직 편 성하 일자리 창 기여 고 국립공원 무인기 순찰 운영 계획 현황 사진 질의 응답 전문용어 해설 끝',\n",
       " '경북 퇴적암 지대 희귀 식물 새 자생 다수 확인 경북 안동시 의성군 중생대 백악기 퇴적암 지대 대구 돌나물 망개나무 향나무 등 희귀 식물 포함 종류 관속 식물 확인 환경부 소속 국립생물자원관 관장 백운석 은 부터 동안 경상북도 안동시 의성군 분포 중생대 백악기 퇴적암 지대 대한 식물 다양성 조사 결과 곳 종류 관속 식물 것 나타 중생대 백악기 퇴적암 지대 지금 로부터 약 년 전 공룡 번성 중생대 백악기 형성 퇴적암 지대 말 경상도 분포 학술 적 경상 누층 공룡 화석 출토 경남 고성군 경북 의성군 전남 화순군 등 표적 지역 이번 조사 통해 대구 돌나물 망개나무 향나무 등 여러 희귀 식물 새 자생 확인 대구 돌나물 망개나무 향나무 국내 자생 몇 곳 희귀 종 대구 돌나물 세계 자연 보전 연맹 평가 기준 적용 시 취약종 분류 망개나무 까지 멸종위기 야생 생물 지정 보호 관심 대상 종이 또한 잎 꼬리풀 산 개나리 실제 비쑥 등 종 한반도 고유종 발견 발견 덕우 기름나물 장 군대 사초 국내 석회암 지대 분포 것 희귀 종 비 석회암 지대 발견 것 이번 처음 국립생물자원관 연 구진 경북 퇴적암 지대 북방 계 식물 남방 계 식물 공존 특이 식생 구조 조사 지역 해발고도 평균 로 낮 특 이하 도 북부 지방 해발고도 지역 주로 발견 북 떡쑥 선 이질풀 왜 미나리아재비 등 다수 북방 계 식물 발견 조사 대상 일부 지역 남부 지방 해안 근처 주로 분포 표적 남방 계 식물 해변 싸리 층꽃나무 집단 자라 것 관찰 연 구진 이 지역 북 방계 식물 남 방계 식물 공존 이유 대해 식물 집단 구성 변화 진행 바위 지대 건조 토양 층 분포 퇴적암 지대 지형 및 토양 적 특성 건조 환경 다양 희귀 종 잔존 집단 때문 보고 백운석 국립생물자원관 장 이번 조사 국내 분포 중생대 백악기 퇴적암 지대 대한 종합 적 식물 다양성 조사 라며 이번 조사 결과 최후 빙하 기 이후 한반도 식생 변화 복원 데 필요 중요 단서 것 관련 사진 주요 식물 설명 자료 질의 응답 전문용어 설명',\n",
       " '국립공원 멸종위기종 종 포함 식물 종 파종 증식 희귀 식물 자생 복원 거나 훼손 복구 활용 환경부 국립공원 관리 공단 이사장 박보환 은 멸종위기 야생 생물 급 식물 종 포함 기후변화 지표 식물 등 총 종 식물 파종 시작 국립공원 관리 공단 종 복원 기술 원 식물 복원 센터 내의 증 식장 초 파종 시작 발아 식물 월부 터 까지 분갈이 진행 예정 이후 지리산 덕유산 설악산 등 자생 훼손 복구 활용 계획 이번 파종 식물 종은 멸종위기 야생 식물 급 한라 송이풀 자주 땅 개 연잎 꿩 다리 등 종 기후변화 지표 식물 바람꽃 눈잣나무 땃두릅나무 등 종 비롯 끈끈이 주걱 꽃창포 매미꽃 등 희귀 식물 종 일반 식물 종 등 총 종이 국립공원 관리 공단 종 복원 기술 원 식물 복원 센터 이번 파종 위해 지난해 지리산 덕유산 설악산 등 전국 국립공원 희귀 식물 종자 여 개 수집 충실 종자 선별 저온 처리 기내 배양 등 과정 개체 증식 국립공원 관리 공단 종자 수집 원래 국립공원 내 자생 희귀 식물 복원 거나 공원 내 훼손 복구 활용 통합 식물 복원 과정 추진 통합 식물 복원 종자 수집 증식 자생 복원 까지 번 가능 복원 방식 난 부터 멸종위기종 야생 생물 급 풍란 개체 급 칠보 치마 개체 등 자생 지인 려 해상 국립공원 거제 해금강 지구 상주 금산 지구 각각 복원 바 고광나무 구절초 동자꽃 등 희귀 식물 종 개체 지리산 등 개 국립공원 훼손 복구 활용 송동주 국립공원 관리 공단 종 복원 기술 원장 자연 생태계 필수 구성 인자 식물 종 유전자 원 확보 증식 국가 생물다양성 보전 매우 의미 고 멸종위기 야생 식물 보전 위해 종자 발아 기내 배양 등 증식 기술 개발 통해 자생 복원 최선 고 말 현황 사진 주요 파종 식물 목록 질의 응답 전문용어 설명 끝',\n",
       " '냄새 던 수처리 장 도심 공원 대변 신 안양 새물 공원 가동 중 수처리 장 완전 지하 화 개월 공사 끝 올해 시민 품 광명역 권 택지 사업 계 악취 감 차단 주거 생활환경 개선 시민 도심 속 공원 변신 한국 환경 공단 이사장 전병성 이 추진 국내 최대 규모 수처리 시설 지하 화 사업인 안양 새물 공원 조성 사업 박달 수처리 장 지하 화 이 올해 최종 준공 시운전 진행 사업 비 원 시설 규모 일 톤 공사 기간 처음 가동 시작 안양시 박달 수처리 장 군포 의왕 광명 포함 일 톤 규모 안양시 권 광역 수처리 시설 과거 악취 민원 제기 곳 광명 권 개발 사업 택지 지구 내 입 주민 민원 발생 우려 이 광명 권 개발 사업 관련 개 기관 안양시 광명시 공사 악취 방지 위 박달 수처리 장의 지하 화 결정 월부 터 본격 적 공사 착수 안양 새물 공원 조성 사업 은 가동 중 대규모 수처리 시설 완전 지하 화 국내 최초 사업 세계 적 유사 사례 아보 기 이 사업 공사 기간 중 수처리 계속 서해안 고속도로 인접 대규모 굴착 공사 수반 뿐 공사 기간 동안 건조 시설 소화 조 발전 시설 등 복합 환경 시설 설치 마무리 최고 난이도 사업 올해 의 공정 률 현재 대부분 지하 시설 공사 완료 순조 롭 시운전 진행 일부 상부 공원 조성 부분 대한 공사 하반기 까지 마무리 예정 안양 새물 공원 축구장 해 당하 총 면적 규모 약 원 사업 비 투입 최신 기술 접 목하 수처리 효율 증 대하 한편 처리 시설 상부 공원 이나 체육 시설 설 치하 시민 휴식 여가 활동 공간 제공 수처리 과정 관련 모든 시설 지하 설치 이 때 발생 악취 단계 정화 과정 외부 배출 표적 기피 혐오시설 인식 수처리 다양 여가 활용 가능 공간 다시 시민 돌 아가 광명역 권 지구 도시 속 휴식 공간 자리 김 수 것 기대 수처리 시설 변신 과거 도시 외곽 위치 기피 대상 수처리 시민 곁 다가 방법 대한 새 본보기 제시 전망 또한 안양 새물 공원 신재생에너지 활용 에너지 자립 화 시설 적극 도 입하 차 세대 하수도 시설 새 기준 보 여주 하수 찌꺼기 처리 과정 발생 바이오 가스 활용 연간 약 의 전력 생산 것 예상 일반 가구 약 여 세대 연간 사용 수 전력량 해당 생산 전력 신재생에너지 공급 인증서 판매 통해 연간 약 원 수익 창 것 예상 또한 하수 찌꺼기 연료 화 각종 신재생에너지 이용 등 연간 의 온실가스 감 것 예상 전병성 한국 환경 공단 이사장 안양 새물 공원 환경 분야 님비 현상 극복 우수 사례 도심지 환경 기초 시설 국민 생활 충분 수 음 증명 것 이 라며 국민 사랑 환경 기초 시설 확대 수 도록 환경 공단 기술 적 제 도적 지원 고 말 안양 새물 공원 조성 사업 개요 질의 응답 전문용어 설명 끝',\n",
       " '저 소음 타이어 보급 발 개 타이어 제조 수입 업체 타이어 소음 성능 자율 표시 제 일부 터 시범 운영 개 모델 저 소음 타이어 보급 타이어 소음 성능 표시 제 본격 시행 앞서 자율 표시 제 시행 시행착오 안 정적 제도 정착 기여 환경부 장관 김은경 개 타이어 제조 수입 업체 일부 터 내년 까지 타이어 소음 성능 자율 표시 제 를 시범 운영 개 타이어 제조 수입 업체 한국 타이어 금호 타이어 넥센 타이어 미쉐린 코리아 굳이어 코리아 던롭 타이어 코리아 콘티 넨탈 타이어 코리아 피렐리 코리아 등 국내 제조 사 곳 수입 사 곳 구성 환경부 이 타이어 제조 수입 업체 지난해 한국 환경 공단 등 유관 기관 타이어 소음 자율 표시 자발 적 협약 체결 바 이 해당 타이어 업체 타이어 소음 성능 표시 제 의 본격 도입 전 까지 이번 시범 사업 통해 업체 별로 개 모델 저 소음 승용차 용 타이어 자율 적 보급 환경부 이번 시범 사업 시행 제도 도입 시 시행착오 줄 저 소음 타이어 홍보 로써 안 정적 제도 정착 기여 것 기대 개 모델 저 소음 타이어 부터 세계 처 음으로 도 입하 운영 중인 유럽연합 의 타이어 소음 성능 표시 제 의 기준 과 동일 수준 타이어 폭 사이다 유럽연합 타이어 소음 관리 기준 승용차 경우 소형 상용차 경우 중대 형 상용차 환경부 자율 표시 제 시범 운영 기간 제도 본격 시행 때 마찬가지 사후관리 실시 자율 표시 제의 실 효성 높이 타이어 소음 성능 표시 제 의 본격 시행 대비 계획 사후관리 한국 환경 공단 대상 타이어 일정 수량 표본 조 사하 표시 소음 도의 적 합성 확인 그 결과 관 리하 것 타이어 소음 성능 표시 제 타이어 소음 성능 의 무적 표시 기준 적합 저 소음 타이어 보급 제도로 유럽연합 현재 시행 중이 일본도 내년 월부 터 도입 예정 이 제도 도입 소음 기준 치 이 상이 거나 소음 성능 표시 타이어 시장 진입 원 천적 차단 효과 타이어 업체 타이어 소음 성능 표시 제 본격 적 시행 환경부 로부터 자체 측정 시설 승인 후 해당 시설 소음 를 측정 그 결과 한국 환경 공단 운 영하 국가 소음정 보 시스템 신고 등록 타이어 소음 관리제 추진 방안 자발 적 협약 주요 내용 외국 사례 끝',\n",
       " '제 차 가습기 살균제 피해 구제 계 정운용 위원회 개최 가습기 살균제 건강 피해 미인 정자 폐 손상 단계 대한 구제 급여 지원 및 원인 자 미상 무자력 세퓨 등 피해자 추가 지원 방안 논의 환경부 한국 환경 산업 기술 원 원장 남 광희 은 서울역 개최 제 차 구제 계 정운용 위원회 이하 위원회 가습기 살균제 피해 특별구 제 위 전문 위원회 구성 등 심의 의결 구제 계 정운용 위원회 위원장 안종 주 사회 안전 소통 센터 장 법정 민간 위원회 한국 환경 산업 기술 원 설치 운영 위원회 가습기 살균제 피해 구제 위 특별법 이하 특별법 사업자 분담 금 등 조성 특별구 제계 정 활용 정부 지원 대상 피해자 판정 자 폐 손상 단계 대한 구제 급여 지원 긴급 의료 원 원인 자 미상 무자력 피해자 대한 지원 등 결정 지난 개최 차 위원회 폐 이식 환자 산소호흡 기 치료 환자 등 대한 긴급 의료 원 결정 바 긴급 의료 원 현황 지원 자 명 폐 이식 산소호흡 기 치료 지원 금 천만원 인 이번 차 위원회 위원 간 이견 정부 구제 대상 제외 판 정자 대한 심사 계획 의 결하 못 전문 위원회 구 성하 예비 검토 후 추가 심의 것 결정 이번 회의 가해 기업 부도 세퓨 원인 자 미상 공공장소 노출 등 피해자 다른 기업 피해자 형평성 감안 적절 보상 이루 수 도록 지원 요건 지원 수준 검토 확정 수 도록 전문 위원회 구 성하 논의 원인 자 미상 공공장소 자발 적 노출 가해 기업 알 수 경우 원인 자 무자력 가해 기업 부도 폐업 등 실 질적 배상 수 경우 한국 환경 산업 기술 원 위원회 통해 특별법 특별구 제 차질 이행 수 도록 위원회 지원 계획',\n",
       " '내년 전기차 보급 내년 전기차 보급 올해 전기차 약 보급 내년 보조금 대당 원 급속 충전 소 기 설치 등 충전 인프라 확대 구축 환경부 장관 조경규 올해 월부 터 까지 보급 전기차 수 지난해 대비 증가 기간 전기차 신청 대수 이 중 보급 출고 제외 출고 환경부 내년 국회 전기차 보급 예산 확정 내년 전기차 대의 보급 지원 계획 전기차 대한 국고 보조금 대당 원 올해 동일 수준 지자체 별로 평균 원 추가 보조금 지원 경우 평균 원 구매 보조금 지원 수 구매 보조금 별도 개별 소비 세 최대 원 교육세 최대 원 취득세 최대 원 등 최대 원 세금 감경 혜택 까지 유지 충전 인프라 예산 증액 급속 충전기 설치 물량 올해 기 대비 증가 편성 올해 전기차 전국 운행 불편 함 도록 전 국적 충 전망 구축 내년 수도권 대도시 등 전기차 보급 곳 급속 충전기 설치 확대 이용 률 충 전소 충전기 기 이상 설치 또한 대의 전기차 동시 충전 수 집중 충전 소가 집중 충 전소 기존 급속 충전기 대비 최대 배 속도 충전 가능 향후 출시 주행 거리 전기차 량 내외 충전 가능 전망 기기 당 최대 사용 가능 기존 급 급속 충전기 대비 배 완속 충전기 설치 보조금 대당 원 올해 원 대비 원 감 소하 지원 물량 올해 만대 대비 기 감소 최근 한국전력 등 민간 공동 주택 충전기 설치 사업 이동형 충전기 등 대체 충전기 설치 감안 결과 개 아파트 단지 충전기 기 설치 예정 공동 주택 등 설치 콘센트 활용 충전기 내년 공동 주택 사업 장 등 공동 사용 용이 채널 충전기 등 최신 정보통 신 기술 활용 공동 주택 충전기 설치 문제 해결 수 다양 충전기 중점 적 지원 계획 충전 제어기 대로 이상 충전 가능 충전기 로서 기존 스탠드 형 충전기 설치 때 발생 전용 주차공간 문제 해소 가능 다만 단독주택 거주 자 등 개인 용 완속 충전기 설치 불가피 경우 지원 유 지하도 록 예정 이형섭 환경부 청정 대기 기획 팀 내년 이면 충전 인프라 등 전기차 보급 여건 선진국 수준 대폭 개선 것 말 또한 내년 주행 거리 전기차 종이 추가 고속도로 통행료 등 혜택 전기차 보급 목표 충분 달성 수 것 말 년도 전기차 보급 예산 현황 월별 전기차 보급 실적 집중 충전 소 설치 계획 및 설치 모습 끝',\n",
       " '년도 환경 정책 자금 원 융자 지원 환경 산업 기술 원 일부 터 분기 융자 접수 시작 일자리 창 기업 수출 증대 기업 등 지원 강화 환경부 한국 환경 산업 기술 원 원장 남 광희 은 환경 산업 체계 적 육성 경쟁력 강화 위해 올해 총 원 규모 환경 정책 자금 융자 지원 분야 별로 재활용 산업 육성 자금 원 환경 개선 자금 원 환경 산업 육성 자금 원 천연가스 공급 시설 설치 자금 원 융자 신청 접수 분기 별로 진행 분기 환경 정책 자금 융자 신청 접수 일부 터 시작 분기 대출 금리 연 적용 재활용 산업 육성 자금 천연가스 공급 시설 설치 자금 접수 기간 일환 경산 업 육성 자금 환경 개선 자금 접수 기간 접수 이번 정책 자금 융자 사업 일자리 창 해외 수출 증대 등 정부 정책 현안 부합 환경 기업 중심 지원이 강화 융자 심사 순위 평가 체계 기업 수출 고용 지표 기존 점 점 점 각각 배점 고용 실적 이나 수출 실적 기업 신속 융자 지원 수 도록 고용 실적 이나 수출 실적 년 대비 이상 증가 기업 각각 해외진출 자금 성장기 반 자금 신청 한도 원 원 배 확대 수 해외 시설 설치 자금 신설 기업 해외 현지 공장 설치 등 지원 해외 현지 법인 운영 등 필요 해외진출 자금 지원 범위 확 대하 기업 다양 해외진출 자금 수요 충족 수 도록 신청 희망 기업 한국 환경 산업 기술 원 온라인 융자 관리 시스템 융자 신청서 작성 온라인 제 출하 인터넷 이용 기업 대상 서울 은평구 불광동 한국 환경 산업 기술 원 본관 층 현장 접수 처가 운영 사업 담당자 직접 신청 절차 부터 승인 후 융자 금 인 방법 사업 완료 후 제출 서류 등 자세 내용 안내 한국 환경 산업 기술 원 환경 정책 자금 융자 신청 접수 시작 전 사업 설명 회 개최 지원기 업 궁금증 해소 예정 광주 광역시 김대중 컨벤션 센터 환경 정책 자금 설명 회 개최 년도 환경 정책 자금 운영 관 계획 및 분기 접수 안내 사업 담당자 상담 진행 남 광희 한국 환경 산업 기술 원장 국내 유일 환경 기업 대상 금융 지원 사업인 환경 정책 자금 제도 환경 기업 성공 위 밑거름 수 도록 노력 것 년도 환경 정책 자금 사업 개요 질의 응답 전문용어 설명 끝',\n",
       " '강원 권 국립공원 곳 동계올림픽 손님 맞이 준비 완료 동계올림픽 기간 진부 오대산 역 내 국립공원 전시 체험 홍보 관 운영 국립공원 홍보 영문 누리집 구축 및 동계올림픽 온라인 이벤트 진행 환경부 국립공원 관리 공단 이사장 권 업 은 평창 동계 올림픽 및 패럴림픽 기간 동안 설악산 오대산 태백산 치악산 등 강원 권 국립공원 곳 탐방 객 위 손님 맞이 준비 최근 완료 국립공원 관리 공단 일부 터 평창 동계올림픽 관문 진부 오대산 역 대합실 국립공원 전시 체험 홍 보관 운영 이 전시 체험 홍 보관 오대산 등 국립공원 사계 설악산 등 촬영 동계올림픽 응원 영상 상영 또한 국립공원 가상현실 서비스 직접 체험 수 장비 준비 동계올림픽 내 외국인 강원 권 위치 국립공원 계 방문 수 도록 홍 보관 다국어 영 일 중 홍보물 비치 직원 상주 탐방 안내 역 출입구 및 야외 광장 기념 사진 찍 수 도록 오대산 전나무 숲 이미지 오대산 깃대종 이자 멸종위기 야생 생물 급 점박이 올빼미 조형 물 설치 동계올림픽 개막 부터 강릉 올림픽 파크 한국 관 코리아 하우스 서도 국립공원 영상 홍보물 등 체험 수 국립공원 관리 공단 공단 누리집 강원 권 국립공원 탐방 안내 영문 페이지 별도 구 축하 등 온라인 홍보 진행 국립공원 공식 인스타그램 과 카카오스토리 진부 역 홍보 관 등 온라인 이벤트 일부 터 진행 온라인 이벤트 진부 오대산 역 내의 점박이 올빼미 조형 물 사진 촬영 후 페이스북 등 본인 사회 관계 망 서비스 계정 오대산 동계올림픽 등 필수 해시태그 를 참여 해시태그 검색 위해 단어 앞 붙이 특수문자 일명 우물 정자 샵 버튼 불리 기도 함 오대산 점박이 올빼미 별칭 동계올림픽 국립공원 관리 공단 온라인 이벤트 참여자 대상 추첨 통해 동계올림픽 마스코트 수호 반 다비 인형 및 동계올림픽 기념 우표 제공 예정 국립공원 공식 블로그 동계올림픽 현장 소식 강원 권 국립공원 탐방 후기 등 생생 정보 계획 정 용상 국립공원 관리 공단 홍보 실장 평창 동계올림픽 패럴림픽 계기 우리나라 방 문하 외국인 국립공원 아름 움 널리 수 도록 노력 계획 진부 오대산 역 전시 홍보 체험 관 설명 자료 강원 권 국립공원 홍보 팸플릿 관련 사진 질의 응답 끝',\n",
       " '참고 환경부 방향 제 탈취 제 등 스프레이 형 제품 안전 기준 강화 환경부 방향 제 탈취 제 등 스프레이 형 제품 안전 기준 강화 국민 건강 위해 우려 스프레이 형 제품 조사 평가 등 유해 물질 안전 기준 조속 마련 계획 평가 결과 위해 급 박하 우려 제품 제안 안전 기준 초과 제품 제품 회수 등 요구 계획 환경부 장관 윤성규 국민 생활 밀접 방향 제 탈취 제 코팅 제 대해 에틸렌글리콜 등 유해 물질 함량 기준 위해 우려 제품 안전 기준 조속 반영 계획 메틸 소치 아졸 리논 염화 디데실디메틸 암모늄 그간 환경부 산업부 국가기술표준원 로부터 생활화 학 제품 관리 업무 관 직후 흡입 노출 우려 스프레이 형 제품 대한 안전 관리 강화 위해 신속 조사 평가 착수 생활화 학 제품 안전성 조사 및 관리 확대 방안 마련 연구 올해 까지 추진 연구 시중 유통 방향 제 개 탈취 제 개 코팅 제 개 제품 대상 제품 사용 과정 인체 수 위 해성 평가 평가 결과 에틸렌글리콜 다이클로로벤젠 테트라 로 에틸렌 등 개 물질 대해 안전 기준 설정 필요 것 나타 연구 결과 방향 제 탈취 제 코팅 제 함유 위해 우려 물질 대하 사용 과정 인체 영향 수준 안전 기준 설정 제안 다음 노출 한계 란 무영 향 관찰 농도 노출 수준 안전 비율 은 위해 영향 나타 농도 수준 낮 추어 기준 정함 의미 함 이번 조사 물질 중 일 반적 위 해성 판단 물질 이하 은 위해 급 박하 우려 제품 것 평가 국민 건강 위해 방지 위 가습기 살균제 원료 물질 사용 스프레이 형 제품 사용 못 도록 방안 검토 계획 환경부 안전 기준 안 대해 이해관계자 간담 회 개최 화학물질 등록 평 가법 의거 구성 화학물질 평가 위원회 심의 행정 예고 규제 심사 등 조속 확정 시행 계획 안전 기준 확정 시행 이전 국민 건강 보호 위 제안 안전 기준 안 초과 제품 기업 자율 적 제품 공개 회수 요청 계획',\n",
       " '국립생태원 초등 교사 위 생태 교육 연수 과정 모집 일부 터 전국 초 등교 사 대상 연수 생 명 모집 생태 분야 전문교육 제공 및 교사 생태 적 교육 역량 강화 위해 마련 환경부 국립생태원 초 등교 사의 생태 적 교육 역량 강화 위해 전국 초 등교 사 명 대상 생태 교육 직무 연수 과정 일부 터 까지 운영 이 연수 초등 교사 생태 분야 전문교육 제공 생태학 대한 관심 실제 수업 현장 적용 가능 생태 교육 콘텐츠 교원 생태 적 교육 역량 높이 기 위해 마련 연수 프로그램 생태 교육학 공감 높이 이야기 구조 스마트폰 활용 생태 수업 드론 활용 생태 관찰 모니터링 기법 기후변화 생태계 조사 기법 기 후대 생물다양성 생태 동아리 운영 사례 등 개 강좌 진행 연수 과정 국립생태원 내부 직원 전북대학교 등 외부 직원 전문 강사 초청 이론 강의 실습 교육 진행 예정 모집 일부 터 까지 국립생태원 누리집 신청서 작성 후 담당자 이메일 제 출하 선발 인원 전국 초 등교 사 명 각각 명 선착순 모집 선발 자가 확정 개별 문자 발송 및 국립생태원 누리집 확인 가능 이번 연수 총 기 로 운영 박 동안 총 시간 교육 정진철 국립생태원 생태 전시 교육 본부장 강의 체험 실습 위주 생태 교육 연수로 교원 생태 의식 함양 도움 것 기 대하 초등 교원 관심 참여 바란 말 초 등교 원 생태 교육 직무 연수 교육 모집 포스터 초 등교 원 생태 교육 직무 연수 교육 모집 안내 교원 연수 신청서 질의 응답 끝',\n",
       " '탄소 배출 량 산정 기후변화 대응 참여 요 탄소 배출 량 산정 기후변화 대응 참여 요 한국 환경 산업 기술 원 개 중소 중견 기업 탄소 성적표 인증 무료 상담 까지 지원 신청서 접수 제품 탄소 배출 량 산정 작성 지침 매뉴얼 제작 및 배포 한국 환경 산업 기술 원 원장 김용주 이 중소 기업 기후변화 대응 참여 수 도록 중소 중견 기업 제품 탄소 배출 량 산정 지원 사업 일부 터 시작 이 사업 기업 생산 제품 탄소 배출 량 산정 부터 탄소 성적표 인증 취득 방법 까지 전문 기관 상담 무료 제공 올해 지원 대상 개 기업 개 제품 탄소 성적표 인증 필요 무료 상담 기업 내 실무 전문가 양성 위 전문교육 제공 부터 시작 이번 사업 지난해 까지 개 기업 참여 상담 전문교육 통해 총 개 제품 탄소 성적표 인증 인증 취득 개 제품 개 제품 개 제품 사업 참여 탄소 배출 량 산정 전문 기관 일대일 맞춤 형 상담 제공 수 시간 비용 절감 업종 적합 탄소 배출 량 산정 방법 수 참여 기업 교육 통해 지식 바탕 단계 탄소 배출 량 인증 이나 단계 저 탄소 제품 인증 수 인증 제품 갱신 자 체적 추진 활용 수 사업 참여 희망 기업 지원 사업 공 고문 제시 신청서 작성 구비 서류 이메일 팩스 로 제 출하 접수 마감 까지 공 고문 한국 환경 산업 기술 원 누리집 탄소 성적표 누리집 확인 수 이 한국 환경 산업 기술 원 제품 탄소 배출 량 산정 대한 기업 이해 돕기 위해 식 음료 건축 자재 세제 등 업종 별로 제품 탄소 배출 량 산정 작성 지침 매뉴얼 권 제작 공개 이 책 기업 수 도록 제품 탄소 배출 량 산정 과정 일목요연 정리 기업 실제 제품 적용 수 도록 실제 사례 중심 단계 별 탄소 배출 량 산정 방법 상세 이 책 한국 환경 산업 기술 원 누리집 누구 수 김용주 한국 환경 산업 기술 원 원장 우리나라 경제 지탱 중소 중견 기업 기후변화 대응 정책 적 지원 배려 충분 수 도록 지원 사업 확대 예정 말 중소 중견 기업 제품 탄소 배출 량 산정 지원 사업 개요 탄소 배출 량 작성 지침 매뉴얼 이미지 탄소 성적표 제도 소개 끝',\n",
       " '황산 염산 등 유해 화학물질 온라인 판매 원천 차단 황산 염산 등 유해 화학물질 온라인 판매 원천 차단 환경부 오픈마켓 유해 화학물질 온라인 불법 유통 근절 위 자율 관리 협약 체결 환경부 온라인 불법 유통 업체 등 정보 제공 오픈마켓 유해 화학물질 판매 중지 등 조치 환경부 장관 윤성규 범죄 악용 수 황산 염산 등 유해 화학물질 온라인 불법 판매 행위 근절 위해 플래닛 주 주 이베이 코리아 주 인터파크 등 오픈마켓 손 잡고 유해 화학물질 온라인 불법 유통 근절 위 자율 관리 협약 서울 중구 서울 체결 이번 협 약식 국정 과제 유해 화학물질 안전 관리 강화 기여 위해 마련 이호 중 환경부 환경 보건 정책 관 김석희 플래닛 주 본부장 문희 재 주 이베이 코리아 상무 주 세훈 주 인터파크 상무 등 오픈마켓 사의 관계자 참석 환경부 현행 화학물질 관리 법 준 수하 면서 온라인 유해 화학물질 판 매하 것 현 실적 불가능 함 불구 온라인 쇼핑몰 통해 실험 용 시약 고 농도 염산 등 판매 일 위해 오픈마켓 개사 이번 협약 준비 유해 화학물질 온라인 판매 때 준수 사항 용기 포장 유해 화학물질 표시 유해 화학물질 일반 우편 보 내지 말 것 식료품 사료 의약품 음식 혼합 보관 거나 운반 말 것 등 조건 매우 온라인 쇼핑몰 통해 구매 유해 화학물질 경우 개 인적 위협 행위 범죄 등 악용 가능성 범죄 악용 사례 조 모씨 전 여자친구 씨 씨 친구 염산 황산 추정 용액 투척 도 화상 경기 광주 이번 협약 환경부 화학물질 사이버 감시 단 수집 온라인 불법 유통 정보 쇼핑몰 내 판매 자의 유해 화학물질 제품 대한 유해 위해 성 정보 오픈마켓 사 제공 화학물질 사이버 감시 단 일 반시민 등 명 구성 인터넷 상 불법 유통 유해 화학물질 사제 폭탄 제조 등 대한 감시 함 온라인 불법 유통 정보 유해 화학물질 무허가 판매 실명 인증 체계 구축 등 오픈마켓 유해 화학물질 감시 체계 구 축하 사회 적 문제 유해 화학물질 대한 감시 모니터링 를 강화 환경부 제공 불법 유통 업체 온라인 쇼핑몰 유해 화학물질 판 매하 못 도록 판매 중지 조치 취하 환경부 앞 유해 화학물질 온라인 불법 유통 근절 위해 오픈마켓 업계 협력 강화 유해 화학물질 온 오프라인 판매 자 대한 주 기적 점검 강화 계획 유해 화학물질 온라인 불법 유통 근절 자율 관리 협약 식 계획 유해 화학물질 온라인 불법 유통 근절 위 자율 관리 협약 질의 응답 전문 용어 설명 끝',\n",
       " '한국 유엔 지속 가능 소비 생산 신탁 기금 출자 한국 유엔 지속 가능 소비 생산 신탁 기금 출자 한국 환경 산업 기술 원 유엔 지속 가능 소비 생산 개년 계획 신탁 기금 총 달러 출자 신탁 기금 운영 통해 개도국 지속 가능 소비 생산 이행 지원 온실가스 감축 등 기후변화 적극 대응 국정 과제 중 범 지구 적 기후변화 및 환경문제 주도 적 역할 수행 위해 우리나라 유엔 지속 가능 소비 생산 신탁 기금 출자 한국 환경 산업 기술 원 원장 김용주 은 유엔 환경 계획 과 유엔 지속 가능 소비 생산 개년 계획 신탁 기금 출자 협정 서울 은평구 환경 산업 기술 원 본관 체결 까지 총 달러 신탁 기금 출자 유엔 지속 가능 소비 생산 개년 계획 전세계 녹색 경제 및 지속 가능 발전 위해 유엔 환경 개발 회의 채택 지속 가능 소비 생산 국제 협력 프로그램 유엔 환경 계획 이 사무국 운영 날 협 정식 김용주 환경 산업 기술 원 원장 아랍 호 발라 유엔 환경 계획 기술 산업 경제 국 부장 등 참석 환경 산업 기술 원 이번 출자 통해 개발도상국 지속 가능 소비 생산 실현 수 도록 경험 전수 환경 부문 공적 개발원조 비중 확 대하 데 앞 장선 지속 가능 소비 생산 이란 제품 이나 서비스 생산 유통 소비 등 전 과정 자원 효 율성 높이 오염 물질 배출 량 감소 기존 지속 불균형 생산 소비 형태 지속 가능 방향 활동 의미 지속 가능 소비 생산 실현 위해 유엔 지속 능 소비 생산 개년 계획 은 신탁 기금 활용 개발도상국 대상 지속 가능 공공 구매 소비자 정보 지속 가능 생활 습관 및 교육 지속 가능 관광 지속 가능 건축 지속 가능 식품 체계 등 개 분야 다양 사업 지원 환경 산업 기술 원 유엔 총회 통해 출범 개년 계획 이사회 한국 대표 이사 참여 이번 출자 통해 한국 이사회 국가 중 핀란드 달러 일본 달러 세번 신탁 기금 자국 이사회 국가 한국 일본 인도네시아 라데 남아프리카공화국 탄자니아 멕시코 칠레 러시아 루마니아 스위스 핀란드 독일 한국 환경 산업 기술 원 진행 그린카드 녹색 매장 녹색 전자 조달 등 우수 녹색 구매 정책 경험 세계 적 인정 앞 국제사회 지속 가능 공공 구매 정책 등 우수 지속 가능 소비 생산 확대 사업 예정 아랍 호 발라 유엔 환경 계획 부장 한국 녹색 구매 관련 풍부 정책 운영 경험 전파 지속 가능 소비 생산 개년 계획 이행 기여 고 말 김용주 환경 산업 기술 원 원장 대통령 지난해 유엔기 후 정상 회 기조 연설 통해 강조 기후변화 대응 위 선진국 개도국 협력 실현 위해 환경 산업 기술 원 앞 국내 우수 지속 가능 소비 생산 정책 개도국 전하 국제 기구 협력 강화 것 말 유엔 지속 가능 소비 생산 개년 계획 개요 유엔 지속 가능 공공 구매 프로그램 개요 질의 응답 전문 용어 설명 끝 관련 사진 환경부 웹하드 제공 예정',\n",
       " '국립 낙동강 생 물자원 관 한국 교 육개 발원 업무 협약 체결 국립 낙동강 생 물자원 관 한국 교 육개 발원 업무 협약 체결 담수 생물 연구자 진로 체험 다양 교육 과정 제공 농어촌 지역 학교 아가 멘토링 과정 운영 국립 낙동강 생 물자원 관 관장 안영 은 한국 교육 개발 원 원장 과 교육 분야 핵심 과제 자 유학 기제 정착 생 물자원 교육 활성화 위 업무 협약 서울시 서초구 한국 교 육개 발원 체결 이번 협약 통해 국립 낙동강 생 물자원 관 여명 박사 급 인적 자원 전시 교육 시설 활용 한국 교 육개 발원 교육 방향 기법 등 제공 부터 전 국적 실시 중학교 자유 학기 제 운영 기여 또한 양 기관 자 유학 기제 생 물자원 교육 활성화 위해 직업 체험 기반시설 공동 구축 전문 강사 확보 등 공동 노력 이 국립 낙동강 생 물자원 관 박사 급 연구원 강사 체험 형 생 물자원 교육 전시 물 활용 수업 담수 생물 연구 전문가 진로 체험 등 다양 교육 체험 과정 제공 상 대적 교육 체험 과정 기회 부족 농어촌 지역 자유 학기 제 운영 학교 대상 아가 멘토링 과정 운영 예정 안영 국립 낙동강 생 물자원 관 관장 학생 다양 꿈 자신 진로 대해 고민 것 중요 만큼 자원 관 교육 과정 통해 창 의적 인재 성장 수 도록 책임 계획 말 국립 낙동강 생 물자원 관 교육 과정 프로그램 은 올해 교육 참여자 여명 대상 실시 설문조사 점 만족도 보이 국립 낙동강 생 물자원 관 앞 기후변화 국가 생 물자원 연구 중요성 대한 대국민 환경 교육 활성화 위 자원 관 인적 물 자원 활용 수 도록 다른 교육 기관 과도 적 극적 협력 계획 업무 협약 식 진행 내용 협약 교육 과정 프로그램 만족도 조사 결과 질의 응답 전문 용어 설명 끝 협약 식 관련 사진 환경부 웹하드 게재',\n",
       " '이제 공유 자동차 환경마크 확인 이제 공유 자동차 환경마크 확인 공유 자동차 카쉐어링 업체 카 업계 첫 환경마크 인증 획득 제품 서비스 분야 친환경 인증 확대 강화 공유 자동차 서비스 카쉐어링 첫 친환경 인증 등장 한국 환경 산업 기술 원 원장 김용주 은 공유 자동차 카쉐어링 전문 업체 카 국내 공유 자동차 업계 중 처 음으로 환경마크 인증 카쉐어링 스마트폰 앱 통해 시간 필요 시간 만큼 자동차 무인 초단 기 차량 대여 서비스 대의 자동차 여러 사람 공유경제 형 서비스 환경마크 란 생산 소비 폐기 등 전 과정 환경오염 거나 자원 절약 제품 이나 서비스 인증 제도로 지난해 공유 자동차 카쉐어링 부문 환경마크 대상 품목 지정 이후 이번 첫 인증 사례 공유 자동차 업체 카 친환경 설비 보유 친환경 서비스 제공 친환경 경영 실천 등 항목 우수 평가 서울 인천 경기 등 수도권 지역 서비스 부문 환경마크 인증 또한 현재 수도권 배정 차량 중 약 를 경차 전기차 하이브리드 차 저공 자동차 구성 저공 자동차 확산 온실가스 감 실현 일조 안내 책자 누리집 등 통해 고객 친환경 운전 법 대한 정보 제공 대중교통 확산 위해 대중교통 이용 후 이내 공유 자동차 이용 경우 쿠폰 제공 등 고객 서비스 부문 친환경 요소 실천 사무실 내 조명 모두 친환경 조명 설 치하 한편 내부 환경 방침 수립 차량 연료 효율 개 선하 거나 배기가스 등 환경 개선 위 지속 적 노력 점도 평가 올해 시행 환경마크 제도 말 기준 가정 용 기기 가구 산업 용 제품 장비 서비스 등 개 분야 총 개 인증 대상 품목 운영 부터 제품 뿐 서비스 분야 환경마크 인증 대상 품목 마련 서비스 제공 전 과정 환경오염 친환경 서비스 적극 발굴 현재 호텔 공유 자동차 등 총 개 서비스 인증 품목 운영 중이 환경마크 획득 조달청 입찰 시 가점 수 공공기관 환경마크 제품 이나 서비스 이용 경우 녹색 제품 구매 실적 인정 등 혜택 수 김용주 한국 환경 산업 기술 원 원장 이번 친환경 공유 자동차 인증 계기 제품 뿐 서비스 관련 부문 친환경 인증 더욱 확 대하 국정 과제 자원 에너지 선 순환 자원 순환 사회 를 실현 기여 것 말 질의 응답 전문 용어 설명 끝',\n",
       " '국립생태원 번식 중인 올빼미 첫 추적 성공 국립생태원 번식 중인 올빼미 첫 추적 성공 야행성 맹금류 올빼미 세력권 추적 국내 첫 사례 생물 서식지 관계 연구 통해 멸종위기 야생 생물 서식지 보호 정책 반영 계획 환경부 장관 윤성규 국립생태원 원장 최재천 은 올해 월부 터 까지 경상북도 일대 진행 멸종위기 야생 생물 급 올빼미 번식 기간 세력권 연구 통해 국내 처 음으로 번식 중인 올빼미 추 적하 데 성공 국내 이하 중형 야행성 맹금류 올빼미 번식 시기 위치 추적 성공 것 이번 처음 기존 지난 국립생물자원관 이상 대형 야행성 맹금류 이자 멸종위기 야생 생물 급 수리부엉이 마리 대상 월부 터 까지 위치 추적 기 를 부착 추적 사례 이번 연구 자연환경보전법 국립생태원 시행 전국 자연환경 조사 일환 올빼미 번식 기간 중 세력권 파악 위해 전남대 한국 환경 생태 연구소 공동 진행 세력권 이란 개체 집단 다른 개체 집단 로부터 먹이 자원 번식 등 위해 방어 점 유하 지역 말 야생동물 서식지 보호 위 기초 자료 중 요하 연 구진 암컷 올빼미 무게 의 위치 추적 기 를 부착 추적 그 결과 암컷 올빼미 둥지 중심 의 지역 이용 알 포란 기간 일로 확인 또한 암컷 올빼미 개 알 새끼 육 추기 간이 일인 것 확인 알 개 중 부화 알 부화 새끼 마리 이후 둥지 암컷 주로 둥지 주변 새끼 돌 보고 수컷 먹이 공급 행동 암컷 번식 시기 육 추기 간 동안 둥지 주변 곳 세력권 형성 국립생태원 향후 번식 기 암컷 행동 영역 상 대적 것 판단 수컷 행동 조 사하 등 올빼미 서식지 분포 대하 추가 적 연구 계획 올빼미 우리나라 텃새 주로 야간 사냥 설치류 조류 양서류 등 날개 솜털 날 때 소리 낮 나뭇가지 움직 이지 밤 활동 우리나라 전역 참나무 침엽수 구성 산림 지역 분포 알 흰색 알 최재천 국립생태원 장 올빼미 뿐 지속 적 멸종위기 조류 번식 기간 세력권 대한 연구 확대 며 생물 종 서식지 관계 멸종위기 야생 생물 서식지 보호 보전 정책 반영 계획 올빼미 특징 올빼미 추적 기 부착 모습 암컷 올빼미 둥지 주변 반경 질의 응답 전문용어 설명 전국 자연환경 조사 개요 끝',\n",
       " '환경부 장관 환경 기업 토론회 일자리 약속 인천 서구 환경 산업 연구 단지 중소 환경 기업 대표 환경부 장관 현장 토론회 개최 김은경 장관 최저임금 인상 환경 기업 협조 구 일자리 약속 환경 산업 혁신 지속 가능 성장 강조 김은경 환경부 장관 오후 인천광역시 서구 위치 환경 산업 연구 단지 중소 환경 기업 대표 아가 현장 토론회 를 김은경 장관 최소한 삶 질 보장 위해 환경 업계 최저임금 인상 정착 이 일자리 안정 자금 적 극적 활용 수 도록 중소 환경 기업 대표 협조 구 또한 환경기술 개발 투자 확대 성장 단계 별 맞춤 형 지원 프로그램 통해 환경 기업 혁신 성장 지속 가능 발전 주역 수 도록 적극 지원 것 약속 날 토론회 환경 산업 연구 단지 기업 포함 개 중소 환경 기업 대표 참석 이 자리 중소 환경 기업인 넥스트 앤엠 대표 최 기운 이 명의 일자리 안정 자금 신청서 제출 눈길 일자리 안정 자금 최저임금 인상 인건비 부담 줄 여주 기 위해 인 미만 업체 대상 월 원 미만 근로자 인 당 최대 월 원 지원 제도로 월부 터 도입 환경 산업 연구 단지 지난해 입 주한 넥스트 앤엠 해수담수화 및 연료 전지 활용 이온교환 막 제조 업체 설립 날 토론회 환경 산업 연구 단지 국내 최초 환경 기업 실증 연구 중점 지원 위해 지난해 개 소하 개 환경 기업 환경 기업 연구개발 부터 실증 실험 시제 품 제작 해외진출 등 사업 화 전 과정 지원 김은경 장관 최저임금 관련 업계 의견 적 극적 수렴 최저임금 인상 현장 조속 안착 수 도록 지원 것 이 라며 자칫 소외 환경 분야 선적 국민 목소리 귀 환경부 년도 업무 계획 발표 통해 올해 환경 산업 육성 위 가지 방안 공개 바 환경 산업 육성 위 가지 방안 환경기술 연구개발 관리 체계 혁신 강소 환경 기업 육성 환경 분야 특화 신사 업 발굴 아가 현장 토론회 개최 계획 환경 산업 연구 단지 개요 환경 산업 육성 방안 질의 응답 끝',\n",
       " '환경부 우수 환경 산업 체 개사 선정 환경부 우수 환경 산업 체 개사 선정 금융 수출 인력 마케팅 등 패키지 지원 통해 글로벌 경쟁력 강화 및 국내 환경 산업 견인 개 우수 환경 산업 체 전체 매출 액 약 천억 원 달성 환경부 장관 윤성규 한국 환경 산업 기술 원 원장 김용주 은 글로벌 환경 시장 경쟁력 확대 국내 환경 산업 견인 년도 우수 환경 산업 체 개사 지정 서울 중구 플라자 호텔 지정 기업 대표 임 직원 등 참석 가운데 지정 수 여식 개최 올해 우수 환 경산 업체 대경 에스코 덕산 실업 로얄 정공 에이 씨 아이 케이 이엔드디 진양 공업 린 에어 테크 피 피아 이평 화 등 선정 우수 환경 산업 체 지정 제도 사업 실적 기술 력 우수 기업 대한민국 환경 산업 분야 국가대표 기업 선정 기업 브랜드 가치 향상 국내 환경 산업 시장 성공 세계 시장 확산 것 목표 부터 시행 사업 누적 기업 수 금년 지정 기업 까지 포함 총 이 기업 전체 매출 액 전체 고용 인원 명 전체 수출 액 수준 환경 산업 분야 탁월 성과 거두 제도 도입 이후 개사 첫 지정 및 올해 지정 개사 개사 개사 환경기술 및 환경 산업 지원 법 개정 제도 도입 제 조의 유 리하 환경 산업 여건 이 기업 이처럼 탁월 성과 것 지정 우수 환경 산업 체 타 분야 융 복합 사업 통해 대한민국 창조경제 견인 선구자 것 기 대하 부분 이번 선정 개 기업 수질 대기 폐 자원 토양 에너지 등 각 분야 핵심 기술 력 사 업성 보유 기업 약 의 경쟁률 개 기업 신청 선정 이 기업 기준 평균 매출 액 약 고용 인원 명 환경 분야 성 장하 사업 중견 기업 해외 수출 액 규모 평균 글로벌 환경 시장 진출 기반 앞 수출 증대 가능성 기업 평가 아이 평화 종합 폴리염화비닐 배관 생산 분야 국내 시장 선도 기술 개발 통해 수명 강화 폴리염화비닐 관 및 방음 배관 등 다양 신기 술 제품 선 보이 시장 견인 고 기업 이씨 공기 청청기 및 에어컨 용 필터 제조업체 국내 시장점유율 위 기업 활성탄 항균 필터 황토 필터 등 다양 기술 개발 통해 기업 경쟁력 높이 기업 덕산 실업 초고 순도 폐 유기 용제 정제 기술 보유 국내 선도 기업 제조업 분야 반도체 액정 디스플레이 태양광 이차전지 등 부가가치 산업 분야 진 출하 판로 확대 고 이 앤드 디 코넥스 상 장사 매연 감 장치 제조 및 촉매 기술 보유 시장점유율 위 기업 바이오 디젤 및 이차전지 등 신규 기술 통해 대체에너지 개발 로얄 정공 국내 수처리 장 사용 원심 탈수 기 이상 납품 시장 점유 율 위 기업 대경 에스코 중 소형 폐기물 소각 전문 기업 노하우 통해 현재 목재 팰릿 및 바이오디젤 등 대체에너지 기술 개발 노력 아이 케이 건설 폐기물 및 순환 골재 처리 사업 장 국내 최초 세계 최대 규모 옥 내화 설비 자동 공정 시스템 구축 친환경 선도 기업 진양 공업 기상관측 장비 개발 및 예보 시스템 전문 기업 국내 기상청 인도 태국 필리핀 등 자체 개발 기술 제품 수출 린 에어 테크 대기오염 방지 위 집 진기 제조 전문 기업 나노 섬유 코팅 기술 개발 통해 기술 경쟁력 선 도하 시장 각 나타 기업 환경부 지정 수 여식 시작 선정 업체 홍보물 제작 해외 전시회 참가 등 마케팅 지원 민간 금융 연 계지 원 환경기술 개발 사업 참여 우대 등 기업 브랜드 가치 향상 위 다양 지원 계획 사업 진단 및 전략 수립 전문 인력 고용 금융 수수료 해외 마케팅 등 지원 그간 우수 환 경산 업체 지정 개 기업 금융 계 기술 개발 계 해외진출 계 등 기업 경쟁력 고 위 다양 지원 사업 추진 우수 환경 산업 체 상호 간 네트워크 및 협업 강화 위해 우수 환경 산업 협의 체 구 성하 기술 로드 쇼 및 글로벌 환경 프로젝트 공동 입찰 등 세계 환경 시장 진출 위 기술 정보 교류 등 협력 관계 구축 윤성규 환경부 장관 환경 분야 국가대표 우수 환 경산 업체 선두 국내 환 경산 업체 세계 환경 시장 고루 진 출하 더욱 성장 수 도록 환경 산업 육성 위 정부 지원 정책 다각도 모색 고 우수 환경 산업 체 지정 지원 제도 안내 질의 응답 전문용어 설명 끝',\n",
       " '미세먼지 고 농도 현상 및 예보 미세먼지 고 농도 현상 및 예보 미세먼지 고 농도 현상 우리나라 고 농도 나타 두 가지 패턴 중국 고 농도 미세먼지 발생 서풍 북풍 서해 상 북한 관통 한반도 통과 정도 수준 고 농도 발생 소위 중국 발 미세먼지 기압계 정체 주로 동풍 중국 및 우리나라 미세먼지 서해 상 축적 한반도 고 농도 유입 유출 반복 정도 중간 수준 고 농도 지속 최근 주간 지속 고 농도 전형 적 번 케이스 농도 발생 중국 영향 중국 영향 평균 고 농도 저 농도 포함 고 농도 시 중국 난방 중국 동북 성부 터 시작 북경 이남 지역 까지 확대 중 기전 망 겨울 엘리뇨 영향 기온 상승 강수 증가 난방 수요 감소 고 농도 미세먼지 발생 다소 완화 기대 다만 중국 상황 유동 적 기상청 년대 이후 엘리뇨 한반도 평년 온도 강수량 증가 미세먼지 예보 현황 및 계획 미세먼지 초미세먼지 대해 오전 오후 개 권역 서울 인천 경기 남 북 영동 충청 영남 호남 제주 단계 등급 구분 예보 현행 개 예보 권역 개 권역 확대 서울 인천 경기 북부 경기 남부 강원 영서 강원영동 제주 충청권 대전 충북 충남 호남권 광주 전북 전남 영남권 부산 대구 울산 경북 경남 예보 기간 단계 적 확대 현행 내일 예보 내일 모레 예보 단계 금요일 예보 시 주말 일요일 예보 전국 개괄 예보 예보 제공 단계 매일 예보 예보 전국 개괄 예보 제공 단계 매일 예보 권역별 예보 제공 부터 시범 예보 부터 예보',\n",
       " '참고 고양시 장항 습지 내 야생 조류 폐 사체 형 바이러스 유전자 검 환경부 소속 국립 환경과학 원 원장 박진원 은 고양시 장항 습지 발견 쇠기러기 폐 사체 형 조류인플루엔자 이하 바이러스 유전자 검 국립 환경과학 원 질병 관리 본부 등 관계 기관 검 정보 신속 통보 병원 성 확인 위 정밀 진단 고양시 지난 시민단체 에코 코리아 로부터 장항 습지 신경 이상 증상 목 비틀림 보이 폐 쇠기러기 마리 신고 국립 환경과학 원 정밀 진단 의뢰 국립 환경과학 원 이 기러기 부검 결과 내부 장기 특이 병변 보이지 항문 구강시 료 유전자 분석 형 바이러스 유전자 검 국립 환경과학 원 병원 성 판정 위 정밀 진단 결과 정도 소요 것 보고 환경부 올해 이후 야생 조류 폐 사체 형 바이러스 확인 것 이번 처음 이 국립 환경과학 원 국립생물자원관 검 지역 장항 습지 반경 를 중심 겨울철새 서식 현황 조사 예정 또한 국립 환경과학 원 한강유역환경청 야생 조류 분변 폐 사체 긴급 예 환경부 고 병원 성 확진 시 바이러스 검 지역 주변 출입 통 제하 등 겨울 야생 조류 발생 철저 대응 계획',\n",
       " '오염 평가 기준 세 분화 하천 퇴적물 오염 평가 개정안 시행 오염 평가 기준 세 분화 하천 퇴적물 오염 평가 개정안 시행 하천 호소 퇴적물 오염 평가 기준 예규 개정 기준 항목 종 개 등급 확대 지점 별 오염 를 단계 세분 화 퇴적물 지질학 적 특성 국내 환경 오염 물질 저서생물 영향 등 반영 평가 기준 개발 국립 환경과학 원 원장 박진원 은 하천 호수 이하 호소 퇴적물 오염 평가 기준 세분 것 골자 최근 개정 하천 호소 퇴적물 오염 평가 기준 예규 시행 중이 개정 기준 우리나라 수 생태계 환경 반영 평가 기준 하천 호소 유기물 영양 염류 완전 연소 능량 총 질소 총 종 금속 류 구리 납 니켈 신규 비소 수은 아연 카드뮴 크롬 종 등 개 항 목별 세 분화 등급 평가 또한 항 목별 평가 결과 오염 상태 종합 적 판단 위해 퇴적물 지점 별 평가 기준 보통 약간 매우 등 단계 평가 도록 기 준치 퇴적물 지질학 적 특성 국내 환경 오염 물질 저서생물 영향 등 조사 설정 저서생물 먹이 섭취 산란 하천 호수 해양 바닥 근처 동물 식물 의 미하 일 반적 무척추동물 보통 옆새우 등 퇴적물 평가 시험 종 사용 함 개정 평가 기준 향후 오염 퇴적물 선별 준설 정화 조치 필요성 판단 데 활용 예정 일 반적 퇴적물 유기물 영양 염류 금속 류 등 다양 오염 물질 축적 장기간 수질 수 생태계 오염 원인 작용 이 국립 환경과학 원 퇴적물 오염 를 과 학적 평가 기준 필요 함 부터 퇴적물 오염 평가 연구 진행 인애 국립 환경과학 원 물 환경공학 연구 연 구관 이번 평가 기준 개정 통해 퇴적물 오염 평가 신뢰 성과 객관성 한층 것 기대 고 말 개정 하천 호소 퇴적물 오염 평가 기준 의 세부 내용 국립 환경과학 원 누리집 내 정보 마당 법령 정보 예규 확인 수 하천 호소 퇴적물 오염 평가 기준 개정 내용 개정 전 하천 호소 퇴적물 오염 평가 기준 질의 응답 전문 용어 설명 끝',\n",
       " '환경 산업 기술 원 리 모델링 건물 중 첫 녹색건축 최우수 인증 리 모델링 건물 중 최초 녹색건축 최우수 등급 현판 식 환경부 한국 환경 산업 기술 원 원장 남 광희 은 지난해 준공 신청 사 건물 국내 리 모델링 건물 중 최초 녹색건축 최우수 등급 그린 등급 인증 획득 이 환경 산업 기술 원 서울 은평구 한국 환경 산업 기술 원 본관 녹색건축 최우수 인증 현판 식 진행 녹색건축 인증 제도 에너지 절약 환경오염 감 기여 친환경 건축물 인증 제도로 최우수 그린 등급 부터 일반 그린 등급 까지 단계 이 중 리 모델링 건물 녹색건축 인증 사례 예비 인증 포함 여 건 최우수 등급 인증 것 이번 처음 환경 산업 기술 원 신 청사 지상 층 지하 층 연 면적 규모 기존 건물 증축 리 모델링 친환경 기술 제품 적용 친환경 건축물 사무실 가로등 등 건물 설치 모든 조명기구 발광다이오드 조명 설치 연간 약 의 소비전력 절감 수 건물 모든 창문 고 효율 창호 사용 창문 단열 기밀 성능 기체 통 성질 보온 단열 재 마감 재 내장 재 접착제 페인트 벽지 바닥재 합성수지 제품 등 대부분 자재 환경마크 인증 제품 사용 신 청사 적용 친환경 저 탄소 제품 기술 총 개 또한 건물 옥상 태양광 집 판 설치 지열 활용 냉 난방 시스템 히트 펌프 적용 풍력발전 기와 태양광 전지 모듈 통해 빛 하이브리드 가로등 설치 등 신재생에너지 원 적극 활용 이처럼 다양 친환경 자재 사용 연간 이산화탄소 발생 량 톤 감축 수 태양광 등 신재생에너지 적극 활용 건물 에너지 효율 연간 원 규모 에너지 소비 수 환경 산업 기술 원 신청 사 건물 이번 녹색건축 최우수 등급 뿐 지난 건축물 에너지 효율 등급 인증 까지 취득 표적 친환경 에너지 절감 형 건축물 자리 김 남 광희 한국 환경 산업 기술 원 원장 친환경 건축물 만들기 위 노력 인정 것 생 각하 곳 신 청사 환경 산업 기술 원 제 도약 세계 적 환경 전문 기관 성장 수 도록 최선 고 한국 환경 산업 기술 원 신청 사 사진 질의 응답 전문용어 설명 끝',\n",
       " '대한민국 미세먼지 과학자 대토론 회 추진 미세먼지 전문가 대토론 회 참여 전문가 사전 접수 범부 처 미세먼지 연구개발 이하 협의 체 이하 범부 처 협의 체 수 목 간 서울 중구 컨벤션 센터 대한민국 미세먼지 전문가 대토론 회 를 개최 계획 과학기술 기반 본적 미세먼지 문제 해결 방안 모색 위해 미세먼지 관련 개 기관 중심 구성 이번 토론회 대한민국 미세먼지 분야 과학자 미세먼지 문제 획 기적 해결 수 도 전적 다양 과학 적 대응 방안 모색 위해 마련 우선 주요한 미세먼지 연구 개발 현황 공유 미세먼지 문제 해결 위 다양 혁신 적 과학 적 대안 다른 전문가 토론 것 이틀 간 진행 예정 토론회 참여 전문가 일부 터 까지 한국 연구 재단 기획 마루 홈페이지 통해 온라인 수요 조사 를 사전 제 출하 한국 연구 재단 기획 마루 홈페이지 대상 대학 교원 전임 비 전임 공공 민간 연구소 연구원 미세먼지 분야 박사 등 산 학 연 전문가 미세먼지 연구개발 내용 유사성 접수 건수 발표 여부 변경 가능 또한 사전 접수 기간 동안 권역별 미세먼지 전문가 간담 회 통해 지역별 미세먼지 현안 이슈 보고 과학기술 기반 맞춤 형 해결 방안 모색 자 지역 간담 회 미세먼지 국가 연구개발 추진 현황 지역 미세먼지 이슈 등 사전 토의 추후 토론회 계 계획 권역별 미세먼지 전문가 간담 회 계획 간담 회 일시 장소영 남 목 부산 역 회의실 호 회의실 강원 권 월 강원대학교 춘천 농업 생명과학 대학 호관 호 호남권 수 김대중 컨벤션 센터 호 충청권 목 한국 연구 재단 본관 호 대토론 회 시 논의 과학 적 대안 향후 미세먼지 관련 기관 개 공 유하 신규 사업 기획 시 적극 활용 수 도록 계획 과학기술 정보통신부 정병 선 연구개발 정책 실장 미세먼지 문제 국민 삶 질 심각 영향 만큼 미세먼지 문제 해결 기여 수 전문성 다양 대안 필 요하 지역 현장 맞춤 형 미세먼지 해결 수 다양 연구개발 아이디어 고민 범 부처 미세먼지 문제 과 학적 해결 위해 최선 한편 지난 미세먼지 국민 아이디어 제안 선정 아이디어 제안 자 및 관련 분야 전문가 사업 구체화 기획재정부 과기 혁신 본부 등 예산 당국 심의 결과 각 부처 별 유관 및 신규 사업 년도 정부 예산 안 반영 약 원 농 축산 분야 미세먼지 발생 실태 및 감 기술 개발 에너지 환경 통합 형 학교 미세먼지 관리 기술 개발 미세먼지 대응 도시 숲 연구 등 대한민국 미세먼지 전문가 대토론 회 포스터 끝',\n",
       " '전국 환경 시험 실 환경 분야 오염 검사 기관 능력 적합 전국 환경 시험 실 환경 분야 오염 검사 기관 능력 적합 국립 환경과학 원 환경 분야 시험 실 시험 검사 능력 평가 결과 개 중 개 적합 운영 능력 평가 개 시험 실 중 개 운용 능력 충족 전국 환경 시험 실 대부분 시험 검사 능력 평가 운영 능력 평가 적합 판정 국립 환경과학 원 국가 환경 데이터 질적 수준 향상 목적 지난해 실시 전국 환경 분야 오염 검사 기관 능력 평가 중 시험 검사 능력 평가 개 시험 실 가운데 개 의 시험 실 적합 판정 시험 검사 능력 평가 시험 실 중 개 부적합 판정 이 평가 시험 실 수질 물 실내 공기 질 등 총 개 분야 개 항목 표준 시료 공급 평가 운영 능력 평가 총 개 시험 실 중 개 적합 판정 개 운영 능력 부족 것 나타 이 평가 분석 기기 운영 및 관리 능력 시험 결과 계산 과정 시험 실의 품질 시스템 확보 여부 등 확 인하 것 미흡 점 전문가 현장 기술 지원 방식 국제 표준화 기구 정 시험 실 갖 추어 일반 적 요건 준 것 국 제적 이 요건 만족 시험 결과 신뢰 성 부여 이번 능력 평가 부 족하 고 판정 곳 앞 개 월간 업무 수 다시 업무 려면 능력 평가 적합 판정 아야 기존 민간 측정 행업 고자 경우 시설 인력 등록 부터 시험 검사 능력 적합 함 보 장하 성적 를 첨부 등록 수 도록 제도 강화 또한 부터 환경 기초 조사 사업 수돗물 품질 보고서 공공사업 보고서 시험 검사 결과 활용 려면 시험 검사 능력 운영 능력 적합 평가 아야 최종 국립 환경과학 원 환경 측정 분석 센터 장 올해 부터 시험 검사 능력 평가 기준 점 점 상향 적용 며 신뢰 성 시험 성적 를 생산 시험 실 환경 시험 시장 낙오 수 고 말 전국 환경 분야 오염 검사 기관 능력 평가 시험 검사 능력 평가 운영 능력 평가 로 구성 이 평가 목적 국가 측정 망 운영 기관 배출 시설 배출 대기 및 수질오염 물질 양 시험 측정 대행 업체 등 대해 시험 검사 정확성 향상 그 결과 신뢰 성 높이 기 위 것 시험 검사 능력 향상 참여 시험 실 시험 검사 능력 향상 항목 분야 별 시험 검사 능력 평가 결과 시험 실 운영 능력 평가 결과 끝',\n",
       " '포장재 생산 업체 곳 페트병 무색 환경부 포장재 상위 곳 생산자 자발 적 협약 체결 협약 생산자 까지 페트병 생산 시 무색 사용 각종 포장재 생산 단계 재활용 제조 도록 개선 환경부 장관 김은경 서울 영등포구 여의도 글래드 호텔 포장재 사용 생산 업체 곳 재활용 포장재 사용 위 자발 적 업무 협약 체결 이번 자발 적 협약 참여 생산 업체 곳 재활용 의무 생산자 속 기업 기준 페트병 출고 량 톤 중 를 생산 재활용 의무 생산자 생산 단계 유통 단계 재질 구조 회수 체계 개선 등 통 재활용 촉진 수 거나 사용 후 발생 폐기물 양 제품 자원 재활용 법 규정 품목 생산자 협약 참여 업체 곳 광동 제약 남양유업 농심 대상 동아제약 롯데 제과 롯데 칠성 음료 매일유업 빙그레 서울 우유 아모레퍼시픽 애경 산업 오비맥주 제주 특별자치도 개발 공사 코카콜라 음료 하이트진로 해태 에이치 티비 제일제당 생활 건강 등 이 생산 업체 자율 적 까지 생수 음료 등 페트병 무색 사용 도록 품목 별 포장재 재질 구조 등 개선 다만 맥주 제품 품질 보장 위해 필요 경우 제 한적 갈색 녹색 사용 이번 협약 이행 경우 음료 생 수병 무색 페트병 사용 비율 까지 증가 것 기대 재활용 유색 페트병 생산 제품 지침 가이드라인 금지 일본 경우 고려 때 이번 협약 재활용 용 이성 기여 것 예상 색상 이외 페트병 생산 시 재활용 비용 증가 종이 라벨 사용 몸체 직접 인쇄 등 제한 또한 까지 재활용 폴리염화비닐 등 재질 재활용 페트 등 재질 대체 알약 포장재 수액 팩 전자제품 포장 등 이용 페트병 이외 요구르트 병 샴푸 등 용기 류 생산 시 알루미늄 재질 뚜껑 몸체 다른 재질 이루 어진 부분 동일 재질 변경 요구르트 병 샴푸 알약 포장재 등 페트병 이외 단일 재질 합성수지 용 기류 협약 참여 업체 곳 이외 품목 별 제품 특성 고려 재활용 재질 구조 개선 사항 적 극적 발굴 계획 환경부 이번 협약 참여 업체 개선 노력 높이 평가 협약 사항 이행 적극 지원 방침 참여 업체 올해 월부 터 목표 이행 완료 때 까지 매년 세부 이행 계획 수립 환경부 협의 협약 실질 적 이행 위해 노력 예정 환경부 이번 자발 적 협약 생산 단계 재활용 도록 제품 설계 재활용 산업 활성화 자원 순환 사회 의 이행 촉진 계기 것 기대 환경부 포장재 재질 구조 기준 개선 등 관련 업계 및 전문가 의견 수렴 통한 제도 개선 생산자 재활용 책임 강화 재활용 효 율성 개 선하 재활용 확대 예정 사용 제한 제품 예시 질의 응답 포장재 재질 구조 개선 자발 적 협약 계획 자발 적 협약 문안 자발 적 협약 참여 업체 명단 끝',\n",
       " '우리나라 흙속 유산균 신종 종 발견 국립생물자원관 피부 미백 등 기능 성 유산균 신종 종 발견 및 세균 약 종 유전자 정보 확보 유전자 정보 자생 미생물 자원 전략 적 발굴 연구 활용 기대 환경부 소속 국립생물자원관 관장 백운석 은 우리나라 토양 서식 유산균 신종 종 발견 토종 세균 약 종 유전자 정보 확보 국립생물자원관 자생 생 물자원 발굴 하나로 부터 수행 중인 기능 성 자생 미생물 발굴 및 다양성 연구 사업 결과 이번 유산균 신종 종 발견 이 사업 환경 수 수백 억 마리 살 것 미생물 체계 적 발굴 위해 프로바이오틱스 로 유산균 발굴 지역별 세균 다양성 조사 목적 수행 프로바이오틱스 란 사람 체내 어가 건강 효과 균 뜻 국립생물자원관 연 구진 월부 터 최근 까지 순창 거창 천안 등 전통 적 발효식품 발달 전국 곳 지역 토양 채취 조사 연 구진 천안 지역 토양 표적 프로바이오틱스 유산균 속 락토 바실 러스 속 신종 종 분리 신종 종 은 미백 및 주름 억제 관 효능 연구 수행 그 결과 균 주의 세포 추출 물 처리 때 멜라닌 생 물질 약 억제 미백 기능 확인 주름 생 성인 자가 약 억제 결과 종합 기능 성 프로바이오틱스 균 가능성 확인 나머지 균 현재 특성 분석 진행 중이 연 구진 세계 최초 발견 이 신종 세균 대한 정보 국제 미생물 계통분류학 회지 올해 투고 국제 미생물 계통분류학 회지 영국 발행 세계 적 미생물학 술 지로 신규 세균 종 정식 등록 이루 표적 학술지 임 연 구진 채취 토양 대해 차 세대 염기서열 유전자 분석 법 세균 다양성 조사 결과 지점 별로 종 종 까지 다양성 마이크로 바이옴 확인 마이크로 바이옴 환경 공생 살 아가 미생물 군집 그 유전 정보 의 미하 염기서열 분석 기술 발달 세계 적 축적 빅데이터 발전 분야 임 확인 종 이상은 유전자 로만 확인 미지 세균 토양 신종 발굴 가능성 매우 미생 물자원 보고 임 확인 모든 토양 프로테오박테리아 가장 나타 음으로 시도 박테리아 피르미쿠테스 나타 지역 다소 다른 분포 프로테오박테리아 의학 농업 산업 등 여러 분야 중 요하 이용 공기 중 질소 고정 등 지구 환경 건강 주요한 역할 세균 임 시도 박테리아 토양 해양 온천 등 다양 환경 발견 세균 문 지구 생태계 주요한 역할 것 피르미쿠테스 락토 바실 러스 락 토코 쿠스 등 유산균 해 세균 임 국립생물자원관 토양 마이크로 바이옴 연구 통해 국내 미생물 서식 정보 전략 적 미생 물자원 발굴 자료 활용 계획 연 구진 이번 조사 결과 나고야 의정서 대응 위 국내 자생 미생물 종 서식 확인 생 물자원 수입 대체 및 신약 개발 등 위 미생 물자원 발굴 자료 활용 수 것 보고 위해 산 학 연 등 연구자 이용 관련 정보 제공 계획 백운석 국립생물자원관 장 첨단 조사 기법 활용 및 생물 종 가치 발굴 통한 전략 적 자생 생물 발굴 생물다양성 가치 증진 국가 생물 주권 초석 것 말 조사 지점 및 마이크로 바이옴 주요 결과 차 세대 염기서열 분석 법 신종 유산균 개요 질의 응답 전문용어 설명 끝',\n",
       " '참고 부산 울산 지역 고 농도 미세먼지 대기 정체 광 화학반응 차생 성 발생 북태평양 고기압 권 내 국 순환 대기 정체 조건 광 화학반응 유리 기상 조건 형성 미세먼지 전구 물질 배출 량 상 대적 울산 지역 수준 미세먼지 농도 발생 울산 지역 미세먼지 농도 일 평균 최고 시간 농도 부산 지역 미세먼지 농도 일 평균 최고 시간 농도 환경부 소속 국립 환경과학 원 부산 울산 지역 지난 일부 터 나타 고 고 농도 미세먼지 발생 원인 분석 결과 국 순환 해륙풍 대기 정체 조건 광 화학반응 차 미세먼지 생 활발 일어 발생 것 나타 해륙풍 맑은 날 해안가 하루 주기 지표면 기온 차 발생 국지풍 주간 해풍 야간 육풍 국립 환경과학 원 부산 울산 지역 지난 일부 터 나타 고 미세먼지 고 농도 발생 원인 지상 위성 관측 자료 기상 자료 배출 원 및 배출 량 자료 종합 적 분석 전국 각 지역 관측 미세먼지 일 평균 농도 일부 터 다른 지역 울산 부산 지역 미세먼지 농도 나타 고 울산 경우 분석 기간 동안 평균 농도 다른 지역 나타 최고 시간 농도 단일 측정 소 기준 를 미세먼지 예보 기준 강화 로 울산 및 주변 지역 수준 고 농도 현상 부각 나타남 울산 경우 기준 강화 최근 여름철 의 발생 일수 회로 증가 함 부산 울산 미세먼지 일 평균 농도 경우 북태평양고기압 내 국 순환 해륙풍 등 이 일어 영 남남동 부지역 중심 대기 정체 발생 또한 고기압 권 일사 고온 일 최고 기온 이상 광 화학반응 차 미세먼지 생 활발 일어 이번 미세먼지 농도 이상은 국내 영향 것 나타 지상 관측 및 모델 모사 해륙풍 국 순환 나타남 참고 울산 경우 광 화학반응 가장 활발 일어 낮 시간대 가파른 농도 증가 나타 광화학 반응 생 유기물질 미세먼지 전체 성분 를 차지 광화학 반응 지표 오존 농도 또한 주간 로 나타남 울산 부산 경남 지역 우리나라 종 대형 사업 장의 약 석유 정제 품 제조업 약 분포 울산 경우 아황산가스 배출 량 전국 총량 휘 발성 유기화합물 를 차지 단위 면적 대비 울산 배출 량 위 위연 중 미세먼지 농도 가장 여름철 대기 정체 광 화학반응 배출 조건 동시 형성 고 농도 미세먼지 발생 지속 수 울산 지역 고 농도 발생 일수 기준 국립 환경과학 원 최근 영남권 일간 오늘 지속 고 농도 미세먼지 현상 내일 토요일 오후 부터 태풍 간접 영향 다소 남동풍 유입 면서 점차 해소 것 전망 환경부 부산 울산 경남 및 국립 환경과학 원 한국 환경 공단 대책 회의 긴급 개최 미세먼지 농도 것 조사 배출 사업 장 대상 합동 특별 점검 대응 방안 마련 이번 특별 점검 휘 발성 유기화합물 질 등 미세먼지 전구 물질 배 출하 화학물질 저장 시설 냉각탑 및 각종 배출 시설 대한 집중 점검 단속 효율 성과 정확도 고 위해 현장 오염 물질 농도 정밀 측정 가능 이동 측정 차량 과 실시간 고 농도 오염 지역 및 배출 확인 가능 드론 이 활용 예정 김종률 환경부 대기 환경 정책 관 해당 지역 배출 사업 장 차생 성 미세먼지 오존 생 줄 이기 위 방지 시설 효율 높이 거나 무더위 건강 및 환경 영향 줄 이기 위 조업 단 축하 등 적 극적 오염 물질 자발 적 노력 것 당부 울산 지역 미세먼지 고 농도 사례 원인 분석 끝',\n",
       " '참고 자동차 배출 미세먼지 관리 첨단 장비 서울시 노후 경유 차 운행 제한 단속 카메라 올해 곳 운영 차량 정차 원격 측정기 로 자동차 배출 가스 측정 환경부 조경규 장관 올해 일부 터 서울시 시행 노후 경유 차 운행 제한 제도 실 효성 높이 기 위해 단속 카메라 설치 확대 노후 경유 차 저공 화 지원 강화 예정 현재 서울시 노후 경유 차 운행 제한 단속 카메라 서울 강변북로 올림픽대로 등 개 지점 운영 중이 단속 카메라 올해 하반기 까지 개 지점 추가 설치 까지 개 지점 단속 지점 확대 운영 예정 부터 노후 경유 차 운행 제한 제도 시행 인천 시 개 지점 경기도 개 지점 단속 카메라 설치 운영 예정 운행 제한 제도 시행 서울 인천 경기 개시 대기 관리 권역 전역 운행 제한 대상 차량 운행 중 감시카메라 적발 과태료 원 부과 서울시 과태료 부과 건 건 환경부 경유 차 운행 제한 제도 시행 조기 폐차 매연 감 장치 부착 노후 경유 차 저공 해조 치 지원 병행 이전 제작 노후 경우 차 조기 폐 차하 중 소형차 최대 원 대형차 최대 원 까지 보조금 지원 올해 까지 조기 폐차 후 신차 구입 경우 승용차 개별 소비 세 승합차 화물차 취득세 수 조기 폐차 물량 계획 만대 신청 전체 기준 세금 감 면액 개별 소비 세 최대 만원 취득세 최대 만원 저공 조치 차량 운행 기간 연장 차량 소유자 매연 감 장치 부착 비용 지원 장치 부착 비용 를 정부 지원 평균 원 차량 소유자 만 부담 국민 기초 생활 보장 법 생계 의료 주거 교육 급여 수급 전액 지원 한편 환경부 휘발유 가스 차 배출 가스 수시 점검 효율 높이 기 위해 원격 측정기 를 서울 인천 등 수도권 고속도로 구간 확 대하 설치 운영 계획 차량 측정 지점 통과 때 적외선 자외선 이용 배출 가스 수량 분석 배출 가스 농도 측정 원격 측정기 이용 점검 방식 은 기존 강제 정차식 노상 단속 교통체증 문제 등 개선 위해 처음 도입 제도 현재 수도권 지역 광역시 차량 통행 간선 도로 변 진 출입 등 개 지점 원격 측정 수시 점검 시행 중 올해 그동안 이동형 운영 방식 확 대하 고속도로 등 고 정형 설 치하 단속 효 율성 계획 원격 측정 결과 배출 가스 허용 기준 초과 차량 소유자 차 개선 권고 차 개선 명령 통보 차량 소유자 개선 명령 일 로부터 이내 정비 정비 점검 및 확인 검사 조경규 환경부 장관 오후 노후 경유 차 운행 제한 단속 카메라 설치 서울 반포대교 북단 배출 가스 원격 측정기 설치 동작대교 방 문하 운영체계 점검 조경규 장관 환경부 서울시 선 도적 시행 노후 경유 차 운행 제한 제도 정착 수 도록 지원 예정 단속 카메라 적발 차량 소유자 매연 감 장치 부착 조기 폐차 신청 경우 선적 조치 수 도록 계획 말 자동차 배출 가스 측정 방식 국민 불편 최소 면서 자동차 배출 가스 철저 관리 수 도록 원격 측정 방식 확대 축적 데이터 정책 활용 수 도록 방안 강구 것 말 노후 경유 차 운행 제한 단속 카메라 설치 지점 자동차 배출 가스 원격 측정 질의 응답 전문용어 설명 끝',\n",
       " '공동 참고 기술사 업 분야 규 제혁 파로 혁신 성장 견인 이낙연 국무총리 제 차 규제 혁파 위 현장 대화 주재 해외 송금 핀 테크 기업 대한 벤처캐피탈 투자 금지 조항 철폐 휴대전화 앱 요금 미터 택시 요금 미터 사용 수 도록 허용 등 이낙연 국무총리 수 오후 대전 시 유성구 가정 소재 한국 전자통신 연구원 원장 이상훈 를 방문 제 차 규제 혁파 위 현장 대화 를 주재 한국 전자통신 연구원 디지털 이동통신 시스템 지상파 세대 이동통신 무선 전송 시스템 등 기술 개발 산업 발전 기여 온 국책 연구기관 참석 민간 기술사 업 경험 기업 등 총 명 정부 산업부 환경부 중 기부 차관 과기부 과학기술 혁신 본부장 특허청장 금융위 증권 선물 위원회 상임 위원 교육부 기획 조정 실장 등 날 현장 대화 신 기술 보유 유망 기업 기술 사업 화 지원 혁신 성장 동력 창 출하 기 위 신기 술 사업 화 촉진 위 규제 혁신 추진 방안 이 논의 이번 기술사 업 분야 규제 혁신 방안 지난 제 차 규제 혁파 위 현장 대화 논의 혁신 성장 위 국가 분야 규제 혁파 방안 과 계 것 이후 기술사 업 단계 별 규제 개 선하 성 공적 기술 사업 화 통해 국내 기업 글로벌 기업 성장 원활 해지 계기 것 기대 기술사 업 성공사례 및 규제 혁신 현장 사례 참관 이 총리 먼저 한국 전자통신 연구원 방문 개발 기술 기업 이전 기술사 업 현황 및 성과 청취 정부 출연 연구기관 최초 기술사 업 전담 기술 지주회사 설립 현재 까지 개 연구소 기업 및 창업 기업 등 개 설 립하 기업 기술이전 지원 기업 기술 개발 해외 시장 진출 성공 기기 보안 기술 사례 등 참관 연구자 격려 경량 전력 계량기 보안 기술 가상현실 활용 기술사 업 사례 등 또한 신기 술 사업 화 촉진 위 규제 혁신 방안 과 관련 신기 술 사례 참관 녹조 제거 신기 술 직접 메탄올 연료 전지 및 로 보어 드 바이 저 기술 등 신기 술 사업 화 촉진 위 규제 혁신 추진 방안 논의 이 총리 주재 한국 전자통신 연구원 국제 회의실 신기 술 사업 화 촉진 위 규제 혁신 추진 방안 논의 날 논의 신기 술 사업 화 촉진 위 규제 혁신 추진 방안 의 주요 내용 다음 기술이전 제품 화 단계 기술 확보 제품 개발 저해 규제 혁신 기술 지주회사 투자 확대 가로막 제도 혁 신현재 기술 지주회사 자회사 설립 시 자회사 분 이상 보 유하 도록 규정 기술 지주회사 보유 기술 바탕 대규모 투자 자회사 설립 때 기술 지주회사 자회사 분 보유 비율 유지 위해 추가 적 현금 확보 부담 정부 문제점 해소 위 기술 지주회사 분 보유 비율 로 완화 대학 및 공공 연구소 기술 활용 창업 활성화 위해 기술 지주회사 설 립하 운영 중 국내 기술 지주회사 총 개 소속 자회사 여개 규제 혁파 통한 기대 효과 공공 연구기관 대학 등 의 장기 투자 유도 통한 투자 확대 자회사 추가 설립 통한 일자리 창 기반 마련 시장 진입 단계 신 기술 시장 진출 저 해하 규제 혁파 녹조 제거 기술 평가 제도 개선 조류 광합성 저해 소량 물질 도 녹조 제거 기술 개발 기존 기술 평가 방식 황토 살포 방식 적합 형태 로 신기 술 제품 출시 지적 현행 평가 지침 황토 살포 전제 응집 침강 형태 방식 녹조 제거 효율 평가 그 외 신 기술 대해 적절 측정 불 가정부 다양 조류 제거 기술 평가 수 도록 관련 지침 개정 규제 혁파 통한 기대 효과 기존 황토 살포 방식 비 교하 비용 절감 해당 대학 추정 가능 예측 앱 활용 택시 요금 미터 기 시장 진입 저 해하 인증 제도 개 선현행 택시 미터 기 관련 규정 전기 작동 방식 규정 기능 이용 스마트폰 앱 미터 기 의 도입 현행 규정 자동차 변속기 기기 부착 바퀴 회전 수로 거리 측정 방식 정부 스마트폰 앱 미터 기 를 택시 활용 수 도록 택시 미터 기 부착 규정 검정 기준 등 관련 제도 개 선하 것 적극 검토 규제 혁파 통한 기대 효과 기기 분해 통한 기계 조작 불가능 부당 요금 부과 등 분쟁 방지 택시 금 체계 개편 시 별도 기기 개조 무선 다운로드 방식 추가 비용 절감 시장 확대 단계 시장 진출 후 신 기술 시장 확대 저 해하 규제 혁파 해외 송금 관련 핀 테크 기업 대한 투자 확대 규제 혁신 핀 테크 스타트업 휴대전화 앱 간편 해외 송금 수 기술 개발 외부 로부터 투자 경우 현행 규정 해당 기업 금융기관 분류 벤처캐피탈 로부터 투자 수 현행 해외 송금 서비스 제공 기업 금융기관 해 당하 벤처캐피탈 로부터 투자 수 금융 실명 거래 및 비밀 보장 관 법률 벤처기업 육성 관 특별 조치 법 및 중소기업 창업 법 시행 령 정부 향후 해외 송금 서비스 수행 스타트업 벤처캐피탈 투자 수 도록 관련 규정 개정 계기 향후 해외 송금 서비스 기업 투자 유치 활성화 핀 테크 산업 성 장하 계기 것 기대 규제 혁파 통한 기대 효과 해외 송금 시 금융 비용 부담 완화 달러 송금 시 송금 비용 평균 만원 수준 만원 미만 하락 것 예상 로 보어 드 바이 저 금융 서비스 확대 규제 혁 신현재 핀 테크 기업 고객 자산 사람 대신 관리 해주 소프트웨어 로 보어 드 바이 저 개발 서비스 현행 규정 직원 상담 로 보어 드 바이 저 활용 온라인 자산 관리 계약 체결 경우 현행 규정 자기 자본 이상 것 요구 소규모 자본 중소 스타트업 창업 정부 날 자기 자본 요건 투자 일임 업자 등록 자기 자본 건 수준 낮 추도 록 관련 규정 개정 향후 로 보어 드 바이 저 활용 금융 서비스 활성화 것 기대 규제 혁파 통한 기대 효과 국내 로 보어 드 바이 저 시장 육성 기반 미련 예상 저 비용 맞춤 형 자산 관리 서비스 로 보어 드 바이 저 통해 국민 재산관리 기여 외 날 규제 혁파 현장 대화 기술이전 저 해하 발명자 보상 규정 개선 특허 활용 자금 조달 지원 제도 개선 등 기술사 업 촉진 수 다양 규제 개선 방안 발표 제 차 규제 혁파 위 현장 대화 행사 개요 신기 술 사업 화 촉진 위 규제 혁신 추진 방안 안건 한국 전자통신 연구원 현황',\n",
       " '참고 빈병 회수 정상 수준 소매 점 반환 거부 강력 단속 설 명절 이후 빈병 회수 율 정상 회복 중 소 매점 빈병 반환 거부 등 불법행위 강력 단속 환경부 장관 조경규 회수 율 다소 설 명절 이후 회복 추세 정상 수준 회수 율 로 예년 평균 회수 율 나타 설 명절 이후 까지 회수 율 로 증가 추세 보이 설 명절 등 연휴 전 후 판매량 대비 회 수량 업계 관행 이후 정상 수준 회복 것 전망 과거 설 명절 등 연휴 기간 회수 율 다가 회복 상황 수시 발생 금년 설 명절 이전 판매량 증가 등 후 월말 부터 회복 추세 등 주 주 주 주 보증금 인상 실 질적 정책 효과 제품 판매 부터 회수 유통 주기 고려 일정 기간 이상 자료 토대 분석 필 요하 고 한편 빈병 반환 거부 등 불법행위 대해 지자체 통 강력 단속 예정 지난 녹색 소비자 연대 발표 신고 보상 제 시행 등 수도권 소매 점 개 조사 결과 보증금 환불 의무 대해 인지 여전 보증금 환불 거부 것 확인 환경부 보증금 환불 거부 소 매점 대해 그간 계 중심 과태료 처분 등 단속 강화 방향 전환 예정 참고 소 매점 빈병 반환 무단 거부 반환 요일 시간 제한 병 미만 대한 구입 영수증 요구 반환 병 수의 제한 등 모두 위법 행위 해당 과태료 처분 대상 소매 점 반환 거부 시 원 이하 과태료 부과 중 시민단체 모니터링 대상 수도권 전국 소 매점 확대 예정 이 지자체 별로 관할 지역 내 소 매점 대해 행정지도 환불 거부 상황 대한 단속 강화 요청 계획 보증금 환불 참여 율 편의점 은 사차원 자체 홍보 시간제 근무 자 환불 요령 자료 배포 등 병행 일반 소매 점 반환 거부 율 편의점 반환 거부 율 소 매점 보관 부담 등 대해 도매 상 등 통한 신속 회수 요청 및 우수 소매 점 인 센티 브 등 각종 지원 대책 추진 소 매점 빈 용기 과 보관 경우 등 발생 시 보증금 상담 센터 를 통해 인근 제조 사 도매 상 등 신속 회수 직접 수거 조치 마지막 빈병 보증금 인 상분 초과 가격 인 상하 경우 대해 서도 지속 적 모니터링 계획 이번 녹색 소비자 연대 소매 점 모니터링 결과 보증금 인상 분 소주 병 맥주 병 초과 가격 인상 업체 개 중 개 편의점 해당 것 확인 지난 편의점 가격 재인 계획 발표 이전 조사 결과 전국 소매 점 등 대상 업체 별 가격 재인 이후 추가 적 가격 모니터링 실시 예정 전국 소매 점 식당 등 가격 인상 모니터링 중 환경부 관계자 소매 점 환불 참여 빈병 보증금 제도 핵심 이자 법적 의무 라며 소비자 권리 보호 위해 모든 소 매점 보증금 환불 참여 해달 고 강조 질의 응답 전문용어 설명 끝',\n",
       " '야생동물 질병 대응 전략 안내서 보급 야생동물 질병 대응 전략 안내서 보급 국립 환경과학 원 호주 정부 발간 야생동물 대응 전략 번역 한글 안내서 제작 배포 야생동물 질병 대응 현장 종 사자 수 의과대학 등 실질 적 도움 기대 야생동물 질병 신속 대응 수 방법 소개 안내서 국립 환경과학 원 호주 정부 발간 야생동물 대응 전략 의 한글 안내서 제작 배포 이 안내서 야생동물 질병 종류 질병 관리 원칙 개체군 조사 등 총 장 구성 야생동물 대응 전략 소개 야생동물 질병 대응 필요 질병 종류 특성 질병 관리 원리 의사결정 방법 질병 조사 방법 시료 채집 방법 질병 규모 역할 분담 등 내용 자세 수록 또한 야생동물 질병 확산 범위 유병률 조사 야생동물 포획 기술 질병 탐지기 술 등 소개 서재 화 국립 환경과학 원 환경 보건 연구 연 구관 안내서 야생동물 질병 관련 업무 수행 대학 연구기관 관련 부처 전문가 실 질적 도움 줄 것 이 라며 인수 공통 전염병 등 야생동물 질병 조사 관리 업무 참고 자료 활용 수 것 말 이번 안내서 개방 공유 소통 협력 목적 정부 기조 제작 농림축산식품부 전국 수 의과대학 시도 야생동물 구조 센터 등 관련 기관 배포 예정 국립 환경과학 원 야생동물 질병 대응 필요 지침 국내 현실 감안 야생동물 질병 체계 적 대응 국가 중 하나 호주 대응 전략 번역 이번 안내서 제작 야생동물 유래 인수 공통 전염병 생물학 적 환경 요인 인간 동물 생명 위협 문제 발생 국내외 적 중요시 실정 안내서 표지 부 끝',\n",
       " '참고 조명 환경부 장관 낙동강 물 문제 해결 첫걸음 현장 확인 보 개방 모니터링 및 자연 성 회복 창녕함안보 수 생태계 보전 및 연속성 확보 하굿둑 등 정책 이행상 황 점검 낙동강 물 문제 해결 위 지역 전문가 의견 수렴 실시 조명 환경부 장관 대강 자연 성 회복 첫걸음 오전 부터 창녕함안보 하굿둑 등 낙동강 유역 물 관리 현장 차례 예정 문재인 정부 국정 과제 추진 중인 대강 자연 성 회복 통합 물 관리 기하 낙동강 유역 물 문제 해결 방안 마련 위 지역 국민 소통 일환 첫 방문 지인 창녕함안보 경상남도 창녕군 길곡면 위치 낙동강 전체 개 보 중 가장 하류 창녕함안보 올해 일부 터 취 수제 약수 위 까지 추가 개방 다가 수막 재배 등 위해 양수 제약 수위 까지 수위 회복 부분 개방 상태 유지 그간 환경부 지역 물 이용 지장 범위 내 대강 개 보 중 개 개방 모니터링 해 일부 터 추가 개방 합천창녕보 포함 현재 개 보 를 개방 금강 세종 공주 영산강 승촌 죽산 낙동강 강정 고령 달성 합천 창녕 창녕 함안 조명 장관 보 개방 과정 물 이용 지장 도록 농 어민 피해 발생 도록 지역 주민 및 지자체 등 세밀 소통 것 중 요하 고 강조 앞 보 개방 폭 확대 과 학적 모니터링 평가 수 도록 현장 노력 달라 주문 예정 또한 낙동강 하굿둑 방 문하 수 생태계 보전 위해 관계 기관 합동 진행 중인 하굿둑 운영 개선 관련 추진 사항 점검 준공 낙동강 하굿둑 담수 확보 통해 인근 지역 생활 농업 공업 용수 공급 자 건설 바 구의 환경 적 가치 보전 필요성 대한 인식 확산 면서 하굿둑 개방 훼손 복원 등 필요성 지속 적 제기 이 환경부 수 생태계 보전 위해 낙동강 하굿둑 수문 개방 강 바다 수질 수 생태계 단절 문제 해 소하 방안 고심 중 조명 장관 날 낙동강 하굿둑 인근 지역 민간 단체 전문가 간담 회 수질 악화 물 안전 등 낙동강 물 문제 전반 대한 의견 해결 방안 모색 간담 회 조명 장관 낙동강 유역 물 문제 해결 위해 낙동강 수질 개선 우선 함 강조 유역 구성원 만족 수 방안 내년 까지 마련 발표 예정 조명 장관 낙동강 권 주민 삶 터전 이자 식물 살 아가 공간 수질 개선 수 생태계 복원 노력 기함 동시 물이 용 등 차질 도록 추진 이번 낙동강 하류 지역 방문 시작 낙동강 중 상류 등 물 관리 현장 차례 방 문하 현장 소통 지속 적 추진 세부 일정 창녕함안보 및 낙동강 하굿둑 시설 현황 대강 보 개방 현황 끝',\n",
       " '정부 개학 전 까지 전체 석면 공사 학교 대청 소 실시 민 관 합동 잔재 물 조사 결과 개교 중 개교 석면 확인 개학 전 까지 전체 석면 공사 학교 대상 대청 소 및 안전성 확인 부실 석면 해체 제거 업자 대한 퇴 기준 강화 등 제도 개선 추진 정부 겨울방학 기간 중 석면 해체 공사 실시 일부 학교 석면 잔재 물이 확인 석면 공사 학교 대해 개학 전 까지 청소 실시 정부 겨울방학 중 학교 석면 해체 공사 기간 동안 총 개 학교 전수 점검 총 건의 위반 사항 적발 시정 조치 또한 공사 후 개 학교 선정 학부모 명 전문 기관 등 합동 석면 잔 재물 조사 결과 개교 석면 잔재 물이 검 이 개 학교 시민단체 등 발표 석면 잔재 물 검 개 학교 대해 출입통제 후 정밀 청소 및 공기 질 측정 등 안전성 조치 까지 완료 석면 잔재 물이 검 개교 중 개교 정밀 청소 및 공기 중 농도 측정 완료 개교 개학 전 까지 완료 서울 인헌 초등학교 등 위 절차 안전성 조치 실시 중임 한편 이번 점검 및 잔재 물 조사 결과 석면 잔 재물 완전 제거 등 부실 작업 석면 해체 제거 업자 대해 산업 안전 보건 법 이하 징역 천만 원 이하 벌금 부과 등 엄중 조치 정부 일부 학교 석면 잔재 물이 검 개학 전 까지 학교 석면 안전성 확보 위 추가 조치 실시 교육부 학교 당국 석면 제거 실시 모든 학교 대해 청소 실시 청소 이후 학부모 교육청 학교 관계자 및 석면 조사 기관 등 참여 석면 잔 재물 확인 후 조치 잔재 물 발견 학교 해당 교실 즉시 사용 중지 정밀 청소 잔 재물 조사 관련 기관 입회 최종 점검 공기 중 석면 농도 측정 안전성 확보 후 교실 사용 잔재 물 발견 학교 대청 소 잔 재물 조사 관련 기관 입회 최종 점검 안전성 확보 후 교실 사용 환경부 고용노동부 청소 실시 학교 중 약 개교 선정 대청 소 잔재 물 확인 등 안전성 확인 작업 제대로 개학 전 까지 교차 점검 정부 앞 추진 학교 석면 해체 공사 대해 국민 참여 형 현장 감시 모니터링 시스템 적용 계획 학부모 시민단체 등 참여 시민 모니터 단 구 성하 공사 시작 부터 석면 잔재 물 조사 까지 공사 전 과정 확인 또한 석면 공사 학교 대하 사전 학부모 설명 회 실시 공사 중 전담 관리자 지정 및 일일 점검 책상 등 비품 이동 및 작업 현장 이중 보양 등 공사 발주 및 관리 기준 표준화 등 포함 석면 공사 관리 안내서 마련 학교 등 석면 해체 제거 사업 장의 안전 불감증 여 전함 석면 해체 제거 사업 장 안전 관리 위 제도 강화 추진 반복 적 산업 안전 보건 법 위반 석면 해체 업자 대한 처벌 강화 위 석면 해체 작업기 준 차 위반 시 등록 취 소하 방안 추진 현행 작업기 준 준수 최근 이상 형 선고 경우 등록 취소 석면 체 제거 작업 감리 대해 일정 자격 등록 도록 매년 주 기적 평가 통해 부실 감리 퇴 출하 석면 해체 작업 감리 등록 평 가제 도입 예정 한편 석면 해체 작업 완료 시 발주 자 석면 해체 업자 감리 이 석면 잔재 물 확 인하 도록 의무 화 석면 공사 부실 감리 원 이하 벌금 부과 도록 석면 안전 관리 법 올해 일부 터 시행 예정 겨울방학 학교 석면 특별 관리 결과 학교 석면 해체 제거 관리 주체 및 역할 질의 응답 전문용어 설명',\n",
       " '여름 휴가 철 명소 국립공원 계곡 선 추천 여름 휴가 철 명소 국립공원 계곡 선 추천 국립공원 관리 공단 가족 여름 휴가 보 내기 계곡 곳 추천 생태 체험 프로그램 운영 등 다양 체험 활동 참여 가능 국립공원 관리 공단 이사장 박보환 은 지리산 뱀 사골 계곡 설악산 백담 계곡 덕유산 구천동 계곡 등 국립공원 대표 유명 계곡 그동안 덜 가족 단위 적합 명소 국립공원 계곡 곳 추천 또한 인근 숙박시설 먹거리 볼거리 놀 거리 등 여름 국립공원 휴가 탐방 객 유용 정보 해당 계곡 국립공원 야영장 소개 지리산 국립공원 지리산 상징 뱀 사골 계곡 대신 달궁 계곡 추천 이 곳 삼한시대 효 성 달궁 불리 계곡 끼 달궁 야영장 달궁 자동차 야영장 덕동 자동차 영장 등 덕유산 구천동 경이 포함 구천동 계곡 국내 가장 덕 유대 야영장 상 대적 한적 구천동 계곡 반대편 위치 연 계곡 추천 연 계곡 울창 소나무 숲 일곱 개 못 줄 늘 어서 연 폭포 장관 주왕산 보통 개 폭포 주왕계곡 리지 주왕산 남동쪽 절골 계곡 추천 죽순 처럼 우뚝 괴석 울창 수림 인 상적 가을 이면 더욱 아름 답 계곡 곳 영화 봄 여름 가을 겨울 고 봄 촬 영지로 유명 주산지 월악산 이 곳 대명사 송계 계곡 대신 만수 봉 문수 봉 사이 계곡 추천 계곡 이어진 이끼 끼 맑은 물 바위 인 상적 야영장 끼 소백산 영남 제일 방 폭포 방계 곡 대신 남천 계곡 추천 남천 계곡 여름 한철 개방 사람 손 덜 자연 경관 지니 야영장 비 일체 제공 남천 풀 옵션 야영장 처음 캠핑 경험 자 가족 추 천하 곳 치악산 구룡 계곡 대신 금대 계곡 추천 금대 계곡 숲속 정원 주제 금대 에코 힐링 야영장 다양 숲 체험 프로그램 참여 수 자녀 가족 추 천하 곳 가야산 추천 계곡 홍류 계곡 해인사 입구 까지 곳 저지 수평 탐방 인 소리 길 무릉 교 칠성 낙화 담 등 가야산 국립공원 명소 중 명소 볼 수 치인 야영장 삼정 야영장 이 설악산 백담 계곡 대신 불 계곡 속리산 화양동 계곡 대신 만수 계곡 내장산 남창 계곡 대신 금선 계곡 선정 탐방 객 북 한산 계룡산 계곡 선 정과정 배제 한편 국립공원 야영장 여름 휴가 철 야영 객 위 숲속 도서관 운영 생태 체험 등 다양 거리 제공 야영 객 책 무료 숲속 도서관 설악산 설악동 가야산 치인 주왕산 상의 소백산 남천 태안 해안 학암 포 려 해상 학동 등 개 야영장 운영 치악산 금대 에코 힐링 야영장 말 까지 토요일 생태 체험 프로그램 운영 중이 숲속 명상 힐링 프로그램 편백 향 주머니 수서곤충 관찰 등 다양 프로그램 준비 정장훈 국립공원 관리 공단 홍보 실장 여름 휴가 우리나라 가장 아름 다운 국립공원 명소 자연 만끽 권한 며 우리 자연 오래 도록 수 도록 탐방 객 환경보호 신경 부탁 드 린다 고 말 여름 휴가 철 명소 국립공원 계곡 휴양지 선 계곡 및 야영장 현황 사진 질의 응답 전문 용어 해설 부 관련 영상 및 사진 환경부 웹하드 게재',\n",
       " '은평구 경로당 위 친환경 보금자리 선물 환경 산업 기술 원 은평구 청 충암 경로당 그 린리 모델링 준공 식 개최 경로당 최초 그 린리 모델링 녹색건축 최우수 획득 에너지 절감 환경부 한국 환경 산업 기술 원 원장 남 광희 은 지역 사회 상생 환경 복지 확대 위해 은평구 청 구청 장 김미경 과 추진 취약 시설 그 린리 모델링 준 공식 서울 은평구 충암 경로당 개최 취약 시설 그 린리 모델링 사업 은평구 소재 한국 환경 산업 기술 원 은평구 청과 협력 구내 취약 시설 친환경 구조 변경 리 모델링 환경 복지 사업 어진 충암 경로당 건물 오래 단열 기능 실내 환경 매우 취약 상황 었다 건물 단열 성능 이슬 자주 발생 이로 실내 곰팡이 악취 등 실내 환경 충암 경로당 올해 월부 터 약 개 월간 진행 그 린리 모델링 공사 실내 외 환경 개선 에너지 효율 끝 국내 경로당 처 음으로 그 린리 모델링 분야 녹색건축 최우수 등급 그린 등급 획득 환경 표지 인증 친환경 벽지 바닥재 페인트 등 친환경 건축 자재 적용 경로당 내 실 내공 기질 개선 환경 표지 인증 기업 창호 바닥재 페인트 보일러 등 친환경 자재 후원 또한 고 효율 단열 재 창호 발광다이오드 조명 등 설 치하 에너지 소요량 기존 시설 대비 약 절감 수 오래 보일러 친환경 콘덴싱 보일러 이 외 경로당 내 화장실 문턱 낮 추어 어르신 이용 편의 높이 누수 예방 위해 옥상 방수 작업 등 진행 남 광희 한국 환경 산업 기술 원장 앞 취약 계층 환경 복지 향상 위해 그 린리 모델링 협력 사업 지속 적 추진 공공기관 사회 적 책임 충암 경로당 그 린리 모델링 사업 개요 경로당 그 린리 모델링 적용 사진 전문용어 설명 끝',\n",
       " '전국 개 건설 현장 순환 골재 만 건설 시범 사업 전국 개 건설 현장 순환 골재 만 건설 시범 사업 건설 폐기물 재활용 예산 절감 환경보호 양득 그동안 건설 현장 쓸모 거나 저급 용도 재활용 순환 골재 천연 골재 대체 건설 자재 적극 활용 전망 현재 순환 골재 건설 폐기물 선입견 주로 건설 공사 성 복토 용 등 단순 용도 사용 건축 구조 용이 도로 표층 등 고 부가가치 용도 사용 아직 저조 실정 건설 폐기물 발생 량 톤 톤 톤 환경부 장관 윤성규 국토교통부 장관 서승환 매년 건설 폐기물 효과 적 처리 천연 골재 채취 환경 훼손 문제 해소 위 방안 순환 골재 활용 시범 사업 추진 올해 내 준공 가능 전국 건설 공사 대상 순환 골재 활용 시설 물 시공 계획 무엇 유동 인구 국민 직접 확인 가능 고속도로 휴게소 비롯 국립공원 캠핑장 등 시범 사업 대상 를 선정 시범 사업 참여 기관 및 사업 대상 참여 기관 시범 사업 대상 사업 기간 환경부 공원 관리 공단 내장산 국립공원 금 선교 화장실 도로공사 고속도로 순창 휴게소 화장실 수자원공사 송산 그린 시티 캠핑장 관리 사무소 행복도시 생활권 공원 관리 사무소 철도 시설 공단 진주 광양 복선 화 구간 황천 역사 대전 국토관리청 청양 홍성 국도 구간 표층 시범 사업 기간 동안 건설 기술 연구원 한국 건설 자원 협회 순환 골재 품질 확인 현장 모니터링 양질 순환 골재 공급 지속 적 실시 예정 환경부 국토교통부 고품 질의 순환 골재 생산 유도 위해 순환 골재 품질 기준 운영 품질 기준 적합 순환 골재 사용 경우 천연 골재 동등 품질 확보 시설 물의 구조 적 안전 이나 품질 지장 것 분석 년도 최초 시범 사업 추진 순환 골재 사용 되돌림 화장실 경부 고속도로 상 행선 입장 휴게소 분석 결과 안전 및 품질 상 문제 것 나타남 이번 시범 사업 모니터링 통해 순환 골재 사용 시설 물의 안전성 대한 실증 적 근거 확보 한편 토대 순환 골재 활용 용도 확대 방안 적극 추진 예정 이번 시범 사업 경우 천연 골재 대신 가격 저렴 면서 품질 양호 순환 골재 대체 사업 비 절감 기대 공사 현장 주변 다수 순환 골재 공급 업체 위치 골재 공급 측면 공기 단축 등 효과 나타 날 것 예상 골재 단가 당 순환 골재 천연 골재 또한 이번 시범 사업 통해 순환 골재 품질 대한 국민 긍 적적 인식 아지 건설 현장 순환 골재 활발 사용 계기 마련 것 기대 앞 환경부 국토교통부 순환 골재 사용 활성화 통해 천연 골재 수급 불균형 해소 연간 톤 건설 폐기물 재활용 통해 약 원 이상 경제 적 부가가치 창 유도 계획 순환 골재 연간 판매량 추이 톤 톤 톤 환경부 국토교통부 앞 양부 처 긴밀 협업 통해 건설 폐기물 관련 제도 개선 품질 관리 강화 통한 고품 질 순환 골재 생산 체계 확립 등 적극 추진 것 순환 골재 개요 부',\n",
       " '환경기술 개발 사업 연구 비 사용 법 환경기술 개발 사업 연구 비 사용 법 한국 환경 산업 기술 원 연구 비 부당 사용 예방 위 사례 집 발간 연구 비 부정 집행 사례 조치 결과 행정절차 유의사항 등 수록 한국 환경 산업 기술 원 원장 김용주 은 환경기술 개발 사업 연구 비 사용 부적정 집행 기준 설명 부당 사용 사전 예방 위해 연구개발 비 부적정 집행 사례 집 발간 사례 집 국가 환경기술 개발 사업 참여 연구자 연구개발 비 부 정적 사용 사례 조치 결과 등 수록 또한 사례 별 연구개발 비 사용 행정 처리 절차 대한 정보 제공 자주 질의 응답 포함 연구자 행정 업무 미숙 등 발생 부정 사용 예방 수 도록 이번 사례 연구원 인건비 연구 장비 재료 비 연구 과제 추진 비 연구 수당 성과 관리 등 사용 용도 별로 빈번 발생 부당 사용 사례 보기 구분 이 중 표적 사례 연구 책임자 자신 연구실 소속 학생 보조 연구원 등록 지급 인건비 중 일부 공동관리 개인 용도 사용 경우 수록 감사원 이 대해 해당 연구 책임자 국가 연구개발 사업 참여 제한 횡령 연구개발 비 회 수하 정당 권리자 주도 록 또한 연구 과제 관련 거나 연구개발 계획 반영 컴퓨터 프린터 복사기 등 사무 용 기기 구 입하 사용 연구개발 비 대해 회수 조치 사례 등 이번 사례 환경기술 개발 사업 참여 연구자 대상 배포 한국 환경 산업 기술 원 누리집 자료 실 누구 볼 수 김정주 한국 환경 산업 기술 원 환경기술 본부장 이번 사례 집 발간 계기 국가 환경기술 개발 사업 연 구비 부정 사용 대한 경 각심 고 취함 투명 연구개발 환경 조성 수 것 기 대하 연구개발 비 올바로 수 도록 지속 적 감시 고 연구개발 비 부적정 집행 사례 집 질의 응답 전문용어 설명 끝',\n",
       " '시각장애인 위 손끝 생물다양성 체험 시각장애인 위 손끝 생물다양성 체험 국립 낙동강 생 물자원 관 시각장애인 위 전시관 체험 교육 프로그램 마련 호랑이 북극곰 등 생물 표본 직접 볼 수 기회 제공 환경부 국립 낙동강 생 물자원 관 관장 안영 은 충북 시각장애인 복지 연합 회 시각장애인 여명 대상 촉각 청각 후각 생물다양성 수 체험 교육 프로그램 시범 운영 이번 시범 운영 시각 제외 여러 감각 이용 전시 교육 프로그램 개발 시각장애인 다양 생물 체험 수 기회 제공 위해 마련 대부분 전시관 이나 박물관 눈 전시 위주 때문 시각장애인 관람 적합 국립 낙동강 생 물자원 관 접합 수 생물 손 보고 체험 수 손 생물다양성 청각 후각 이용 생 물자원 교육 프로그램 운영 아시아 코끼리 사자 호랑이 북극곰 샴 악어 타조 철갑상어 등 포유류 종 조류 종 양서파충류 종 어류 종 등 총 종 생물 표본 점 손 직접 볼 수 생 물자원 교육 프로그램 우리 주변 수 접 기회 새소리 양서류 울음소리 식물 잎 열매 향기 등 우리 생활 속 다양 생물 체험 수 도록 안영 국립 낙동강 생 물자원 관장 이번 프로그램 운영 계기 시각장애인 생물 대한 이해 접근 기회 확대 기대 며 앞 전시관 관람 소외 사회 적 약자 배려 다양 수요 자 맞춤 형 관람 서비스 지속 적 개발 고 프로그램 운영 계획 질의 응답 전문용어 설명 끝',\n",
       " '여 개국 참여 유엔 기후변화 적응 국제 회의 유치 환경부 유엔 기후변화 협약 사무국 제 국제 국가 적응 계획 포럼 중 국내 개최 합의 유엔 기후변화 협약 사무국 기후변화 적응 분야 홍보 대사 최재천 이화여대 석좌교수 위촉 환경부 장관 김은경 유엔 기후변화 협약 사무국 제 국제 국가 적응 계획 포럼 중 우리나라 개최 합의 국제 국가 적응 계획 포럼 은 전 세계 각국 정책 결정 자가 한자리 기후변화 적응 계획 수립 이행 관련 사항 논의 위해 유엔 기후변화 협약 사무국 부터 독일 시작 매년 개최 유엔 공식 국제 회의 중 하나 이번 포럼 유치 지난해 서울 아시아 지역 국가 적응 계획 포럼 의 성공 계기 전 세계 국가 참여 국제 단위 포럼 유치 대한 유엔 기후변화 협약 사무국 요청 것 유엔 기후변화 협약 사무국 환경부 최종 협의 이집트 샴엘셰이크 제 국제 국가 적응 계획 포럼 현지 시각 폐회식 우리나라 차기 개 최국 공표 환경부 이번 포럼 유치 계기 기후변화 적응 대한 국 제적 선 도국 위상 계획 구 체적 포럼 개최 향후 협의 과정 통해 조율 포럼 여 개국 이상 참여 것 예상 유엔 지난 채택 파리 협정 통해 모든 국가 기후변화 적응 계획 수립 권 고하 등 기후변화 적응 중요성 강조 이 까지 전 세계 개국 이상 기후변화 적응 계획 수립 것 우리나라 기후변화 영향 과 학적 예측 이로 피해 사전 예방 최소 위해 환경부 등 관계 부처 합동 제 차 국가 기후변화 적응 대책 수 립하 이행 김은경 환경부 장관 이번 국제 포럼 유치 계기 우리나라 기후변화 적응 정책 사례 경험 세계 각국 널리 소개 개도국 등 기후변화 적응 계획 수립 지원 라면 궁 극적 국제사회 지속가능성 강화 데 기여 것 한편 유엔 기후변화 협약 사무국 최재천 이화여대 석좌교수 유엔 기후변화 협약 기후변화 적응 분야 홍보 대사 위촉 최재천 교수 환경부 중앙 환경 정책 위원회 위원장 및 국회 기후변화 포럼 공동 대표 도 활동 앞 유엔 기후변화 협약 당사 국 총회 등 유엔 기후변화 관련 공식 행사 초청 전 세계 기후변화 적응 관련 활동 장려 역할 최재천 교수 현실 다가 온 기후변화 대한 적응 사회 전 분야 참여 노력 가능 라면 우리나라 사회 전 분야 구성원 생태계 우르 통섭 지혜 발 휘하 국제사회 기후변화 적응 분야 선도 국가 자리 김 기대 국제 국가 적응 계획 포럼 개요 전문용어 설명',\n",
       " '북한 산 인수 봉 암벽등반 일부 터 가능 북한 산 인수 봉 암벽등반 일부 터 가능 낙석 위험 암석 톤 안전 조치 산악 단체 합동 점검 후 암벽 등반 결정 설악산 낙석 통제 곳 골 불 은 안전 점검 완료 때 까지 출입통제 유지 국립공원 관리 공단 이사장 박보환 은 지난 발생 인수 봉 낙석 사고 임시 통제 암벽등반 구간 대해 낙석 위험 암석 톤 대한 안전 조치 취하 산악 단체 곳 합동 안전 점검 최종 실시 후 일부 터 암벽등반 통제 해제 국립공원 관리 공단 낙석 사고 직후 인수 봉 암벽등반 통제 유관 기관 경찰 소방 및 산악 단체 합동 안전 점검 합동 안전 점검 나타 낙석 위험 톤 규모 암석 처리 위해 전문 기관 한국 지질 자원 연구원 의뢰 후 안전 조치 관 작업 국립공원 관리 공단 북한 산 국립공원 사무소 대한 산악 연맹 한국 산악회 한국 대학산 악연 맹 대한 산악 연맹 울 지부 등 산악 단체 협의 말 낙석 위험 암석 안전 조치 관 작업 실시 낙석 위험 암석 안전 조치 작업 톤 암석 파쇄 축 보호 망 나머지 톤 암석 구멍 철심 고정 북한 산 국립공원 사무소 인수 봉 암벽등반 통제 해제 이후 인수 봉 지속 적 점검 한편 한국 지질 자원 연구원 통해 낙석 위험 구간 대한 정밀 조사 등 안전 대책 지속 적 추진 예정 이상배 국립공원 관리 공단 북 한산 소장 공단 국립공원 내 낙석 제거 추락 방지 시설 설치 등 암벽등반 안전 사고 예방 위해 노력 면서 국립공원 자연 공원 언제 곳 낙석 항상 발생 수 음 염두 각별 유의 산행 임해 고 말 한편 지난 발생 낙석 통제 설악산 골 탐방 구간 지난 제 호 태풍 고니 의 여파 발생 낙석 사고 설악산 국립공원 불 비 선대 무너 고개 까지 구간 추가 낙석 위험 요소 전면 점검 파손 시설 물 복구 뒤 개방 계획 북한 산 인수 봉 낙석 위험 암석 보완 사업 역 설악산 통제 구간 위치 질의 응답 전문 용어 설명 끝 관련 사진 및 영상 환경부 웹하드 게재',\n",
       " '미세먼지 줄 이기 앞장 선 청소년 활약 수도권대기환경청 푸른 하늘 킴 리더 양성 프로젝트 발표 대회 서울 코엑스 개최 공기 흐름 미세먼지 농도 변화 마스크 효과 미세먼지 인식 조사 등 프로젝트 우수 활동 발표 환경부 소속 수도권대기환경청 청장 김 동구 은 미세먼지 줄 이기 앞장 선 청소년 우수 활동 사례 공 유하 푸른 하늘 지킴 리더 양성 프로젝트 발표 대회 를 서울 강남구 코엑스 개최 이번 발표 대회 올해 처음 시작 푸른 하늘 킴 리더 양성 프로젝트 사업 성과 소개 자리 이 사업 수도권 내 고등학생 명 내외 구성 개 팀 미세먼지 등 대기 환경오염 원인 해결 방안 대해 조사 및 연구 등 계획 스스로 수 립하 실행 사업 발표 대회 올해 모집 개 팀 중 예선 심사 통해 우수 활동 팀 선정 개 팀 이 도운 교사 관계자 등 약 명 참가 발표 대회 참가 팀 주요 활동 사례 공기 흐름 미세먼지 농도 변화 미세먼지 감 실험 시중 판매 마스크 효과 실험 미세먼지 인식 조사 및 감 홍보 캠페인 등 발표 대회 참가 팀 미세먼지 조사 연구 및 교내 외 홍보 활동 자 신들 속 학교 뿐 지역 시민 까지 대기 환경보전 인식 확산 역할 톡톡 수행 이번 발표 대회 우수 성적 개 팀 환경부 장 관상 개 팀 수도권대기환경청 장상 시상 상금 총 원 상당 문화 상품권 수여 예정 날 발표 대회 수도권대기환경청 장 토크 콘서트 도 수도권대기환경청 역할 소개 비롯 미세먼지 관 궁금증 해 소하 시간 김 동구 수도권대기환경청 장 푸른 하늘 킴 리더 양성 활동 통해 미세먼지 대한 해결 방안 청소년 모색 이 청소년 미래 대기 환경 전문가 성 장하 계기 바란 푸른 하늘 킴 리더 양성 프로젝트 발표 대회 개요 푸른 하늘 킴 리더 양성 프로젝트 발표 팀 활동 사례 질의 응답 끝',\n",
       " '쓰레기 종량제 도입 국민 불편 해소 위해 거듭 쓰레기 종량제 도입 국민 불편 해소 위해 거듭 소규모 가구 및 전입 가구 종량제 봉투 사용 불편 해소 시장 상가 업무 시설 등 사업 장 생활 계 종량제 강화 폐 의약품 안전 관리 위 수거 절차 간소화 환경부 윤성규 장관 지난 부터 전 국적 운영 중인 쓰레기 종량제 비점 보완 폐기물 발생 량 절감 재활용 자원 증가 취지 강화 자 제도 개선 추진 쓰레기 종량제 생활 속 항상 접 제도 만큼 그간 사회 경 제적 변화 고려 국민 불편 함 해 소하 방향 개선 종량제 시행 지침 지자체 달 지자체 조례 등 관련 규정 개정 도록 추진 예정 우선 인 가구 소규모 가구 쓰레기 배출 성향 고려 기존 대형 마트 중심 판매 단위 재사용 종량제 봉투 종류 세분 화 의 소형 봉투 제작 슈퍼 편의점 등 소형 도 매점 판매 또한 이사 경우 이사 전 지자체 종량제 봉투 사용 수 발생 불편 해소 전입 신고 시 일정량 최대 묶음 장 의 기존 종량제 봉투 스티커 등 인증 마크 부착 거나 교환 로써 이사 전 지자체 쓰레기 봉투 제 한적 사용 수 도록 개선 시장 상가 업무 시설 생산 제조 서비스업 시설 등 배출 사업 장 생활 계 폐기물 대한 종량제 제도 강화 비 가정 부문 분리 배출 촉진 고자 사업 장 생활 계 폐기물 배출 자 실명 제도 추진 이 제도 분리 배출 비중 상 대적 사업 장 쓰레기 종량제 봉투 배출 시 실 명제 도입 로써 자발 적 분리 배출 재활용 가능 자원 혼합 배출 방 지하 효과 것 기대 기준 분리 배출 재활용 음식물 발생 량 비중 가정 생활 계 폐기물 사업 장생 활 폐기물 로 사업 이 봉투 무게 기준 이하 제한 사업 장 배출 종량제 봉투 무게 제한 불 법적 압축기 사용 방지 무게 배출 비용 부과 수 도록 그간 일부 사업자 불법 압축기 사용 과 도하 무거 운 쓰레기 봉투 배 출하 환경미화원 어깨 등 골격계 질환 유발 약국 통해 별도 배 출하 도록 안내 폐 의약품 수거 과정 보건소 폐 의약품 적체 문제 제기 거점 보관 장소 거치 지자체 약국 직접 방 문하 보관 중인 폐 의약품 월 이상 직접 수거 도록 체계 단순화 등 폐 의약품 안전 수거 체계 확립 환경부 이번 제도 개선 통해 국민 쓰레기 배 출하 면서 발생 수 불편 함 해소 동시 분리 배출 활성화 자원 효율 적 이용 가능 것 기대 또한 환경부 이번 종량제 시행 지침 개정 사항 차질 이행 수 도록 지자체 적 극적 안내 우수 지자체 대해 포상 실시 등 지자체 여건 시행 위 지속 적 의견 수렴 및 정책 홍보 추진 예정 우수 지자체 평가 시 재정 자립 주민 부담 률 개선 정도 등 고려 청소 업무 효율 화 청소 예산 현 실화 대한 지자체 자 체적 노력 독려 나 가기 재활용 동네 마당 설치 지원 사업 등 통해 청소 비용 절감 위 지자체 보조 확대 계획 전국 평균 재정 자립 주민 부담 률 수준 부터 시작 쓰레기 종량제 생활 폐기물 발생 량 감소 처리 비용 절감 자원 재활용 증가 효과 발휘 한국 환경 정책 평가 연구원 이 부터 까지 쓰레기 종량제 창 경제 적 가치 추산 결과 것 나타 질의 응답 전문 용어 설명 사업 장생 활 실명 제 종량제 봉투 안 끝',\n",
       " '글로벌 그린 허브 코리아 해외 유망 발주 처 한자리 신 남방 신 북방 중점 협력 국 등 해외 유망 환경 에너지 분야 개국 개 발주 처 초청 달러 규모 사업 상담 회 진행 지속 가능 환경 에너지 포럼 비즈니스 상담 회 해외 프로젝트 설명 회 등 국내 기업 수요 반영 맞춤 형 해외 수주 지원 행사 개최 환경부 장관 김은경 한국 환경 산업 기술 원 원장 남 광희 및 대한 무역 투자 진흥 공사 사장 권평오 글로벌 그린 허브 코리아 를 일부 터 일간 서울 강남구 그랜드 인터컨티넨탈 호텔 개최 올해 이번 행사 상 하수도 재생에너지 자원 순환 대기 등 다양 환경 분야 사업 상담 회 해외 수주 유망 개국 개 발주 처가 참여 우리나라 우수 환경기술 보유 강소 중소기업 개사 명 참여 수주 상담 규모 달러 이번 행사 환경 에너지 분야 국제 협력 사업 발굴 국내 환경 기업 해외 진출 지원 위 다양 프로그램 마련 지속 가능 환경 에너지 포럼 지속 가능 발전 위 환경 에너지 산업 미래 주제 트리 반 세르비아 환경보호 부 장관 아시 아태평양 경제사 회위 회 유엔 워터 등 여러 국제 기구 고위 급 관계자 환경 에너지정책 기술 협력 강화 방안 논의 국내 환경 기업 대상 해외 환경 프로젝트 설명 회 해외 발주 처가 직접 해외 환경 사업 계획 대한 자세 정보 제공 바탕 해외 발주 처 국내 기업 간 맞춤 형 환경 사업 상담 회도 수주 계약 가능성 또한 해외 발주 처 대상 근처 코엑스 날 대한민국 친환경 대전 참관 경기도 하남시 소재 유니온 파크 를 견학 프로그램 마련 착공 규모 완공 총사 업비 원 최첨단 수처리 폐 자원 에너지 화 복합 시설 이 글로벌 천연가스 차량 포럼 개도국 환경 개선 기본 계획 수립 지원 사업 성과 공유 세미나 등 우리 기업 해외진출 도움 채 부대 행사 열 린다 올해 행사 신 남방 신 북방 등 환경 산업 진출 잠재력 국가 수자원 관리 및 해수담수화 사업 관심 국가 까지 초청 대상 확 대하 구 체적 성과 것 기대 아세안 개국 및 인도 러시아 몽골 및 카자흐스탄 등 독립국가연합 신 남방 국가 발주 처 필리핀 마닐라 홍수 방제 사업 달러 규모 베트남 폐기물 에너지 화 사업 달러 규모 등 대한 구 체적 상담 몽골 시내버스 매연 감 장치 지원 사업 달러 규모 러시아 벨고로드 주 폐기 물처리 사업 천만 달러 규모 등 신 북방 국가 유망 프로젝트 대한 상담 진행 홍정기 환경부 강조 사평 단장 이번 행사 예전 다양 국가 초청 구 체적 사업 상담 진행 해외 환경 시장 진출 위 실 질적 기회 아지 환경 분야 일자리 창 도움 것 기대 라면 우수 기술 경험 우리 환경 에너지 기업 최적 환경 사업 동반 자로 자리 김 수 도록 정부 지원 적 극적 확대 글로벌 그린 허브 코리아 개요 글로벌 그린 허브 코리아 우수 수주 사례 주요 발주 처 및 유망 프로젝트 목록 질의 응답 전문용어 설명 끝',\n",
       " '광화문 수돗물 우수 성 알리 수돗물 축제 한국 수자원공사 광화문 중앙 광장 수돗물 축제 참여 물 과학 교육 수돗물 물맛 평가 등 다양 시민 체험 행사 마련 환경부 한국 수자원공사 사장 이학수 서울시 중구 광화문 중앙 광장 오전 시부 터 오후 까지 수돗물 축제 참여 수돗물 수성 알 린다 이번 행사 우리 모두 수돗물 공식 구호 아래 수돗물 대한 인식 개선 음용률 높이 기 위해 마련 수돗물 시민 네트워크 주 최하 환경부 한국 수자원공사 서울시 등 후원 사단법인 수돗물 시민 네트워크 환경부 한국 수자원공사 서울시 환경운동 연합 등 전국 개 기관 시민단체 등 참여 수돗물 관련 범 국민 운동 기구 발족 한국 수자원공사 날 행사 초 중등 학생 대상 수력발전 원리 모형 수차 만들기 수돗물 정수 과정 간접 체험 물 정수 실험 물고기 이용 수경 재배 실험 아쿠아 포 닉스 만들기 등 총 개 물 과학 체험 교육 진행 이 수돗물 물맛 평가 다트 문항 선택 물 상식 퀴즈 등 시민 다양 체험 행사 진행 날 공식 행사 대형 수도꼭지 조형 물 앞 참가 기관 대표 어린이 시민 등 직접 수돗물 퍼포먼스 진행 이 비눗방울 공연 인디밴드 축하 무대 마술 쇼 등 다양 거리 마련 또한 일회용품 사용 줄 이기 동참 위해 통컵 텀블러 과 회용 용기 방문객 수돗물 커피 빙수 등 각종 음료 무료 제공 이학수 한국 수자원공사 사장 이번 수돗물 축제 통해 시민 수돗물 우수 물맛 풍부 장점 직접 확인 수 것 이 라며 한국 수자원공사 물관 리 경험 바탕 수돗물 공급 최선 수돗물 대한 신뢰 향상 위해 적극 노력 수돗물 축제 행사 계획 수돗물 축제 공식 포스터 끝',\n",
       " '강원도 출현 남미 어종 추가 발견 개체 강원도 출현 남미 어종 추가 발견 개체 저수지 양수 작업 후 피라냐 등 추가 개체 것 최종 확인 인근 하천 등 대한 추가 조사 실시 피라냐 등 위해 우려 종 지정 관 리하 방안 추진 원주지방환경청 청장 황 계영 은 아마존 서식 종인 피라냐 레드 파쿠 잔존 개체 확인 및 제거 위 강원도 횡성 소재 저수지 물 모두 최종 확인 결과 오후 발표 양수 작업 후 조사 확인 결과 피라미 올챙이 등 확인 피라냐 레드 파쿠 등 추가 개체 것 확 인하 최 종적 피라냐 마리 레드 파쿠 마리 무단 방류 것 파악 이 어류 번식 가능성 대해 수정란 대한 조사 실시 결과 수정란 것 확인 피라냐 레드 파쿠 육식성 어류 장마 인하 저수지 외부 유출 경우 생태계 교란 국민 안전 위협 줄 우려 원주지방환경청 환경부 국립생태원 횡성군 등 협의 신속 잔존 개체 확인 및 퇴치 작업 양수 작업 지난 오후 부터 시작 까지 밤샘 진행 저수지 바닥 정도 까지 물 빼 후 국립생태원 강원 등 전문 조사 기관 투입 확 인하 방식 진행 양수 과정 중 외래어 종 성체 및 수정란 등 외부 유출 것 방지 위해 철망 중 설치 전문 인력 배 치하 유출 여부 최종 모니터링 기존 확인 피라냐 마리 레드 파쿠 마리 개체 모두 국립생태원 이송 생태계 교란 및 위해 성 연구 용 활용 계획 이 어종들 주로 남미 서식 어종 국내 인위 적 유입 외 분포 가능성 매우 누군가 관상어 것 추정 원주지방환경청 관계자 환경부 강원대학교 등 관계 기관 협의 인근 하천 등 대해 서도 서식 실태 조사 실시 계획 관 상용 외래어 류 무단 하천 이나 호소 등 방류 경우 생태계 중대 교란 발생 수 절대로 발생 도록 해 줄 것 당부 한편 환경부 전문가 자문 이 번 발견 피라냐 및 레드 파쿠 위해 우려 종 지정 관 리하 방안 추진 이 위해 우려 종 지정 환경부 장관 승인 수입 반 입하 경우 이하 징역 천만원 이하 벌금 처 연구 등 특수 목적 경우 실 질적 수입 반입 것 또한 외래 생물 대한 자연 방사 유기 행위 대해 전문가 의견 수렴 및 해외 사례 조사 추진 방사 행위 금 지하 방안 검토 계획 피라냐 및 레드 파쿠 설명 자료 질의 응답 전문용어 설명 끝',\n",
       " '참고 한강 이포보 목표 수위 개방 완료 금강 개보 수문 처 음으로 완전 개방 한강 이포보 목표 수위 도달 어패류 구제 지속 및 모니터링 강화 백제보 개방 금강 수계 개보 완전 개방 환경부 장관 김은경 한강 이포보 오후 목표 수위 까지 수위 저하 완료 이포보 관리 수위 시작 수 생태계 영향 최소 위해 시간 당 이하 수위 환경부 수위 저하 과정 중 어패류 구조 인력 집중 적 투입 명 구조 반 편성 현재 까지 여 개체 패류 구조 방생 등 어패류 피해 최 소화 위해 노력 향후 불가피 발생 어업 피해 대해 직 간접 적 구제 방안 마련 주민 협의 예정 또한 수위 저하 이포보 상류 변 지역 면적 증가 자갈 이루 어진 상 노출 나타 상 노출 백로 등 조류 육안 관찰 기도 백제보 부터 수위 저하 재개 시간 당 완전 개방 도달 것 세 종보 공주보 백제보 완전 개방 금강 수계 개보 완전 개방 상태 도달 예정 세 종보 올해 월부 터 공주보 백제 문화제 종료 후 일부 터 완전 개방 상태 유지 백제보 일부 터 단계 적 수위 저하 중 지하수 부족 문제 인근 여 가구 중 건 발생 금강유역환경청 부여군 수자원공사 등 관계 기관 협력 지하수 펌프 교체 신규 관정 개 설 치하 등 지하수 부족 문제 해결 위해 적극 노력 백제보 말 까지 완전 개방 유지 이후 수막 재배 위해 수위 회복 시작 계획 환경부 이후 지역 용수 이용 생태계 변화 등 면밀 모니터링 것 민 관 협의 체 지자체 및 지역 주민 진행 상황 및 향후 계획 대해 논의 지속 계획 한강 금강 수계 보 개방 계획 이포보 개방 전 후 경관 변화 및 패류 구조 활동 끝',\n",
       " '환경 경제 살 린다 제 환경 창업 대전 개최 환경부 장관 대통령 업무 보고 후 첫 현장 행보 인천 환경 산업 연구 단지 제 환경 창업 대전 참석 까지 개 환경 창업 기업 육성 환경 산업 수출 연 원 달성 녹색 일자리 개 창 목표 환경 분야 세대 융합 창업 캠퍼스 개소식 환경 기업 간담 회도 개최 조명 환경부 장관 대통령 업무 보고 이후 첫 현장 행보 제 환경 창업 대전 이 인천 서구 환경 산업 연구 단지 오전 환경 창업 대전 은 환경 일자리 창 환경 산업 육성 위해 환경부 올해 처 음으로 마련 행사 행사 창업 스타 기업 및 우수 아이디어 시상 세대 융합 창업 캠퍼스 개소식 환경 창업 기업 간담 회로 구성 환경부 환경 창업 스타 기업 환경기술 아이디어 예비 창업 자 고교 및 대학 환경 창업 동아리 등 개 분야 대해 환경부 장관 상 등 수여 환경 창업 스타 기업 대상 서진 에너지 대표이사 임 태형 이 선정 창업 이 기업 음식물 쓰레기 바이오 가스 전기 및 도시가스 를 생산 기술 보유 기업 원 매출 원 기록 배 매출 신장 기록 환경 아이디어 부문 빅데이터 기반 급식 소 잔반 감소 시스템 제안 에이치 앤 대표이사 김대훈 대상 수상 환경 창업 동아리 부문 일회용 봉투 대신 타이 백 가방 제안 성균관대 등 개 팀 선정 이 개팀 동아리 활동 지원 금 만원 각각 성균관대 팀 감귤 농장 햇빛 반 사용 사용 타이 백 소재 천 재활용 가방 제작 일회용 비닐 사용 줄 재활용 석 조의 아이디어 제시 점수 조명 장관 환경 창업 대전 참석 뒤 환경 산업 연구 단지 입 주한 시뮬레이션 테크 등 대표 기업 곳 면서 환경기술 개발 수출 현황 파악 시뮬레이션 테크 선박 용 배기가스 감 장치 그리스 로부터 원 수주 추가 계약 추진 중 시뮬레이션 테크 환경 산업 연구 단지 시험 설비 파일럿 플랜트 를 운영 중이 매출 액 배 환경부 생태 모방 산업 기후변화 대응 산업 등 신 환경 산업 육성 통해 까지 녹색 일자리 창 출하 연간 환경 산업 수출 액 원 달성 목표 삼고 환경 산업 연구 단지 신 환경 산업 육 성하 표적 곳 환경 신 기술 실증 연구 수 도록 실증 실험 시설 시 제품 생산 원시 설 등 규모 환경 분야 연 구지원 시설 환경부 날 환경 산업 연구 단지 내 환경 분야 세대 융합 창업 캠퍼스 개소식 환경 창업 기업 정책 간담 회 시간 세대 융합 창업 캠퍼스 청년 중장 년층 세대 연 계해 아이디어 경험 창업 생태계 육성 중소 벤처기업 부 창업 지원 사업 전국 개 캠퍼스 이번 처 음으로 환경 분야 확대 환경 산업 연구 단지 캠퍼스 마련 세대 융합 창업 청년 예 비창 업자 관련 분야 경험 중장 년층 하나 창업 팀 구 성하 창업 지원 사업 신청 경우 사업자 금 지원 초기 창업 전 단계 상담 등 집중 지원 통해 유망 창업 기업 육 성하 프로그램 조명 장관 환경 창업 기업 정책 간담 회 창업 기업 및 연구 단지 기업 대표 로부터 현장 목소리 조명 장관 지구 기술 하나 경제 살 린다 강조 까지 환경 창업 기업 벤처기업 개 육성 환경 산업 혁신 기반 말 환경 창업 대전 개최 개요 환경 창업 대전 수상자 명단 질의 응답 전문용어 설명 끝',\n",
       " '서울 어린이 공원 수돗물 먹기 참여자 숲 조성 서울 어린이 공원 수돗물 먹기 참여자 숲 조성 환경부 몸 건강 지구 환경 생 각하 수돗물 먹기 온라인 캠페인 참여자 뜻 전나무 황매화 등 그루 숲 조성 환경부 장관 윤성규 서울 광진구 서울 어린이 대공 원 내 부지 수돗물 먹기 캠페인 디톡수 캠페인 참여자 이름 숲 조성하 물이 숲 현판 식 개최 디톡수 해독 작용 뜻 디톡스 수돗물 의 합성어 생활 속 안전 수돗물 마시기 몸 건강 저 탄소 친환경 식수 수돗물 사용 지구 건 강하 하자 의미 날 행사 정연만 환경부 차관 비롯 이강 오 서울 어린이 대공 원장 가수 아이비 캠페인 참여 시민 등 여명 참석 이번 행사 수돗물 대한 신뢰 를 높이 지구 환경 생각 하자 취지 마련 수돗물 페트병 사용 탄소 배출 량 나무 효과 것 알리 고자 것 물이 숲 조성 캠페인 참여 시민 이름 총 그루 전나무 황매화 등 묘목 것 환경부 전나무 묘목 경우 겨울철 본격 적 시작 전 추 방식 이번 숲 조성 묘목 식 재는 낙엽 기부 터 엄 동기 어서 기 전 까지 추 과 뿌리 활동 개시 식 이 추 은 뿌리 활동 개 시기 까지 뿌리 흙 식 보 다도 발 근량 생육 왕성 짐 출처 월간 새 농사 숲 설치 현판 큐알 코드 게재 숲 방문객 스마트폰 이번 캠페인 참여 시민 이름 확인 수 도록 환경부 한국 환경 공단 지난 달 동안 물 사랑 누리집 통해 가수 아이비 등 참여 지구 수돗물 한잔 디톡수 캠페인 진행 총 명의 시민 참여 한편 수돗물 건강 유익 미네랄 성분 시중 판매 샘물 거나 포함 수돗물 생산 과정 탄소 배출 량 먹는샘물 대비 최대 약 수준 지구 온난화 예방 도움 샘물 온실가스 배출 량 수돗물 온실가스 배출 량 샘물 대신 하루 한잔 의 수돗물 것 양 샘물 것 약 의 온실가스 감 효과 나무 그루 수하 온실가스 양보 약 수치 수돗물 음 샘물 대비 탄소 배출 저 감량 나무 그루 당 연평 균 흡수 량 행사 계획 수돗물 먹기 캠페인 내용 물이 숲 현판 질의 응답 전문 용어 설명 끝 행사 사진 환경부 웹하드 게재 예정',\n",
       " '토지 분 할하 환경 영향 평가 피해 행위 토지 분 할하 환경 영향 평가 피해 행위 환경 영향 평가 법 시행 령 시행 규칙 개정안 입법 예고 전국 임도 기본 계획 수립 시 전략 환경 영향 평가 실시 임도 환경 평가 대상 규모 강화 환경 피해 최소 화 환경부 장관 윤성규 환경 영향 평가 제도 실효 성과 합리 성 높이 기 위 환경 영향 평가 법 시행 령 시행 규칙 개정안 입법 예고 이번 환경 영향 평가 법 하위 법령 개정안 사업자 명의 달 리하 거나 토지 평가 대상 규모 기준 미만 분 할하 소규모 환경 영향 평가 피해 행위 원 천적 차단 수 도록 사업자 대한 정의 명확 규정 예컨대 법인 의 전원주택 단지 조성하 면서 친 인척 명의 도용 평가 대상 규모 기준 미만 다른 사업자 것 처럼 환경 영향 평가 개발 행위 수 대부분 전원주택 자연 경관 수려 지역 위치 심 각하 환경 훼 손하 문제 법망 교묘 수 법 사각 지대 것 앞 은행 법 동일인 공간 정보 구축 및 관리 등 관 법률 동일 필지 분할 필지 종류 사업 승인 신청 사업자 사업자 분류 사례 차단 은행 법 동일인 정의 본인 및 그 특수 관계 자 배우자 촌 이내 혈족 및 촌 이내 인척 비영리 법인 조합 단체 및 경 영주 로부터 고용 사람 등 임도 설치 환경 피해 최소 위해 전국 임도 기본 계획 수립 시 환경 적 측면 고려 수립 수 도록 전략 환경 영향 평가 대상 계획 추가 임도 삼림 경영 관리 및 임산물 운반 등 목적 설치 차로 보전 가치 공익 용 산지 내 설 치하 임도 설치 사업 대해 서도 환경 영향 평가 대상 규모 종전 로 강화 또한 산업 단지 재생 사업 집단 에너지 사업 마리나항 시설 건설 등 개 개발 사업 환경 영향 평가 대상 추가 다만 다세대 주택 밀집 지역 마을 회관 등 공동 이용 시설 확충 위 주거 환경 관리사 환경 영향 경 미하 평가 대상 제외 소규모 환경 영향 평가 대상 사업 중 미만 공장 설립 등 환경 영향 사업 대해 협의 기간 일로 법정 검토 기한 단축 현재 환경 영향 평가 협의 업무 처리 규정 이 사업 대하 이내 협의 내용 통보 것 원칙 운영 이번 환경 영향 평가 법 하위 법령 일간 입법 예고 이후 규제 심사 법제처 심사 등 공포 예정 구 체적 하위 법령 안 내용 환경부 누리집 게시 환경 영향 평가 법 하위 법령 주요 내용 질의 응답 전문 용어 설명',\n",
       " '국립생태원 청각 시각 장애인 위 이솝우화 발간 생태 돋보기 다시 이솝우화 를 수화 영상 점자 도서 개발 초 전국 장애인 도서관 시 청각 장애인 관련 기관 배포 환경부 국립생태원 원장 이희철 은 발간 생태 돋보기 다시 이솝우화 이하 이솝우화 를 청각 시각 장애인 위 수화 영상 점자 도서 등 가지 형태 개발 보급 이솝우화 편의 이솝우화 그 속 생태 정보 아동 용 도서 지난해 한국 출판 문화 산업 진 흥원 청소년 권장 서로 해 미래창조과학부 현 과학기술 정보통신부 우수 과학 서로 각각 선정 바 청각 장애인 용 수화 영상 편의 이야기 길이 영상 각각 제작 동화 선택 수 도록 동화 생태 정보 구 연하 수화 통역사 명 참여 영상 음성 내레이션 자막 주기 때문 비 장애인 활용 수 시각 장애인 용 점자 도서 풀어쓰기 방식 적용 점자 특성 상 총 권 제작 풀어쓰기 방식 예 점자 단어 점자 형식 표 기하 개 점자 구성 내용 원본 동일 제작 점자 일반 글자 혼용 장애인 비 장애인 모두 활용 수 도록 점자 인쇄 보편 적 방식 천공 방식 사용 시각장애인 불편 함 익숙 이용 수 도록 제작 이번 발 간물 장애인 비 장애인 편 리하 이용 수 도록 초 부터 전국 장애인 도서관 및 청각 시각 장애인 관련 단체 등 무료 배포 예정 수화 영상 영상 국립생태원 누리집 국립 장애인 서관 누리집 일부 터 볼 수 이희철 국립생태원 장 이번 도서 개발 우수 콘텐츠 접 장애인 위해 국립생태원 발간 도서 개발 것 이 라며 앞 장애 여부 관계 동등 수 생태 콘텐츠 지속 적 개발 사회 적 가치 확산 실천 계획 말 생태 돋보기 다시 이솝우화 장애인 용 도서 이미지 생태 돋보기 다시 이솝우화 목록 질의 응답 전문용어 설명 끝',\n",
       " '생존 위 아름 다운 유혹 꽃 꼬시 기획전 개최 국립생물자원관 꽃 양하 조명하 융 복합 전시 일부 터 내년 까지 개최 환경부 소속 국립생물자원관 일부 터 내년 까지 인천 서구 국립생물자원관 기획전 실 꽃 꼬시 기획전 연 이번 기획전 우리 일상 생물 꽃 인문학 예술 자연과학 등 관점 보고 꽃 새 모습 소개 식물 생존 본능 탄생 꽃 다른 생물 유기 적 관계 진화 공진화 모습 통해 생물다양성 공생 지혜 관람객 이번 기획전 정향풀 멸종위기종 급 등 꽃 자생 식물 표본 복제 모형 수분 매개 동물 표본 등 총 점 전시 꽃 핀 상태 식물 그대로 특 수용액 거나 아크릴 속 거나 변색 반영구 적 보관 꽃 볼 수 전시 크게 개 주제 이루 어진 꽃 만찬 은 구석기 부터 현대 까지 꽃 관련 문화 유물 공예품 전시 우리나라 전통 꽃장식 지화 를 전통 방식 재현 김 옥 지화 장 인천 시 무형문화재 호 의 작품 이 자리 소개 꽃 빠 지다 관람객 온몸 위로 투사 미디어아트 계절 피어 화려 꽃 향연 만끽 수 아름 움 속 치밀 전략 꽃가루 전달 동물 유혹 훈련 때로는 속 이기 식물 영리 생존 전략 벽화 영상 결합 애니메이션 수분 매개 자가 등 장하 디오라마 방식 소개 디오라마 지형 모형 생물 표본 설 치하 하나 장면 것 나 꽃 곤충 시각 체험 꽃 향기 꽃 모양 도장 찍기 사진 찍기 장소 포토 존 등 관람객 직접 체험 수 다양 프로그램 구성 국립생물자원관 이번 전시 기념 개관 일 로부터 달 간 관람객 참여 수 꽃 스타 그램 도 진행 꽃 스타 그램 꽃 사진 이나 전시장 방문 기념 사진 등 해시태그 꽃이꼬시 페이스북 인스타그램 비롯 소셜미디어 게재 참여 수 참여 사진 전시 소개 참여자 일부 소정 기념품 증정 황 계영 국립생물자원관 생 물자원 활용 부장 이번 전시 통해 관람객 우리 주변 볼 수 식물 눈길 주기 바란 라며 자세 신비 우리 식물 가치 이해 더욱 관심 계기 것 말 전시 포스터 전시 물 사진 질의 응답 전문용어 설명 끝',\n",
       " '철강 산업 폐기물 재활용 기술 세계 최초 개발 철강 산업 폐기물 재활용 기술 세계 최초 개발 철강 산업 발생 폐기물 제강 환원 슬 래그 고부 경 시멘트 제조 기술 세계 최초 개발 이산화탄소 감 효과 및 경 시멘트 생산 기대 국정 과제 자원 에너지 선 순환 자원 순환 사회 실현 의 일환 폐 자원 중 하나 제강 환원 슬 래그 고 부가가치 시멘트 기술 세계 최초 개발 한국 환경 산업 기술 원 원장 김용주 은 폐 금속 유용 자원 재활용 기술 개발 사업 단 단장 조봉규 과 고철 철로 제조 공정 중 발생 제강 환원 슬 래그 급속 냉 각하 성질 경 시멘트 제조 기술 개발 및 상용 화 성공 제강 환원 슬 래그 고철 로부터 철 제조 전기 공정 산화 후 다시 철로 환원 공정 중 발생 염기 폐기물 슬 래그 로서 전기 발생 전체 슬 래그 중 약 를 차지 경 시멘트 일반 시멘트 양생 작업 보통 이상 소요 경 시멘트 양생 기간 시간 불과 도로 긴급 보수 콘크리트 수중 작업 등 활용 기술 철 제조 과정 부산물 액체 상태 제강 환원 슬 래그 강력 바람 급속 냉각 냉각 결 정체 분쇄 첨가제 혼합 경 시멘트 공법 제강 환원 슬 래그 공기 중 급속 냉각 유리 질 결 정체 후 적정 크기 분쇄 시멘트 물 반응 수화 반응 성 이 분말 수 여기 석고 등 여러 첨가제 배합 경 시멘트 것 이번 기술 개발 제강 환원 슬 래그 처리 과정 발생 환경오염 문제 해결 이산화탄소 감 효과 수 국내 연간 규모 발생 것 추정 제강 환원 슬 래그 그간 단순 매 립하 처리 이 과정 먼지 오염 침출수 발생 등 환경오염 문제 지적 이번 기술 개발 이 환경문제 해결 것 기대 전기 발생 슬 래그 연간 톤 이중 인 환원 슬 래그 나머지 톤 산화 슬 래그 한국 철강 협회 또한 기존 경 시멘트 제조 방법 대신 이번 제강 환원 슬 래그 재활용 기술 적용 때 연간 약 규모 이산화탄소 환원 슬 래그 기준 도 감 수 기존 경 시멘트 생산 시 필요 고온 제조 소성 공정 에너지 소 비량 기존 대비 불과 함 이상 수입 의존 연간 원 규모 경 시멘트 산업 국산 화 수 것 환원 슬 래그 모두 경 시멘트 제조 경우 연간 원 환원 슬 래그 처리 비용 절감 수 경 시멘트 원 어치 생산 수 환원 슬 래그 톤 처리 비용 기준 속성 시멘트 톤 단가 만원 기준 지난해 전세계 제강 환원 슬 래그 발생 량 약 톤 추정 이번 개발 기술 모두 적용 때 약 원 경 시멘트 세계 시장 공급 수 것 전세계 환원 슬 래그 발생 량 국내 철강 생산 규모 세계 시장 차 지하 비율 때 발생 환원 슬 래그 추정 계산 전세계 환원 슬 래그 발생 량 한국 철강 협회 자료 인용 이번 재활용 기술 환경부 한국 환경 산업 기술 원 추진 글로벌 탑 환경기술 개발 사업 중 재활용 사업 단 제강 환원 슬 래그 고 효율 급랭 재활용 기술 개발 연구 과제 통해 진행 글로벌 탑 환경기술 개발 사업 환경부 세계 최고 수준 환경기술 개발 통한 환경기술 수출 사업 화 및 환경 산업 육성 목표 부터 총 원 투입 진행 사업 환경 산업 기술 원 한국 지질 자원 연구원 조봉규 책임 연구원 사업 단장 선정 해 에코 마이스 터 오상윤 대표 를 연구기관 확정 공주대학교 김진만 건축 공학 교수 동양시멘트 최종 구 대표이사 본격 적 산 학 공동 연구개발 시작 연구기관 코마 이스터 전라북도 군산 연간 톤 규모 경 시멘트 제조 공장 구축 기술 관련 건의 국내외 특허 확보 또한 철강 산업 활발 인도 남아프리카공화국 이번 기술 적용 현지 시범 사업 파일럿 테스트 진행 해외진출 대한 전망 긍 정적 한편 환경 산업 기술 원 재활용 사업 단 전라북도 군산 위치 에코 마이스 터 공장 연구 성과 발표회 개최 날 기술 대한 주요 내용 소개 김용주 한국 환경 산업 기술 원 원장 이번 기술 개발 성공 대통령 강조 자원 순환 실현 온실가스 감 환경 선진국 도약 등 다양 환경 분야 현안 해결 도움 줄 것 기대 고 말 조봉규 폐 금속 유용 자원 재활용 기술 개발 사업 단 단장 인도 남아공 등 해외 이번 기술 수출 동시 추진 관련 분야 일자리 창 기여 것 말 제강 환원 슬 래그 고 효율 재활용 기술 개요',\n",
       " '겨울철 안전 산행 안전 장비 방한복 미리 준비 겨울철 안전 산행 안전 장비 방한복 미리 준비 기상 확인 이후 자신 체력 적합 탐방 계획 수립 기상 변화 대비 방한복 장 등 충분 준비 필수 환경부 국립공원 관리 공단 이사장 박보환 은 겨울철 안전 산행 위해 자신 체력 탐방 계획 수립 기상 변화 대비 방한복 장 등 충분 사전 준비 필 요하 고 국립공원 관리 공단 부터 국립공원 내 발생 건의 안전 사고 조사 결과 겨울철 발생 사고 전체 대비 인 건 차지 것 나타 이 중 보온 이나 체온 유 지하 발생 동사 사고 건 이나 발생 겨울철 산행 추위 눈길 때문 체력 소모 심 폭설 강풍 등 예측 수 기상이변 산행 전 기상 정보 확인 겨울철 산행 필요 아이젠 이나 각반 스패츠 등 안전 장비 비롯 방한복 모자 장갑 등 겨울 용 복장 반드시 초콜릿 열량 간식 이나 비상식량 준비 산행 경험 사람 포함 인 이상 일몰 시간 전 까지 하산 것 올해 설악산 겨울철 복장 제대로 입지 탐방 객 갑작 강풍 한파 체온 유 지하 못 저 체온 증 사망 사건 발생 바 탐방 결빙 안전 사고 위험성 아지 데 암릉 암벽 산행 사고 위험성 매우 가급 적 자제 달 탐방 객 북한 산 사모 바위 아래 추락 사고 발생 눈 얼 음으로 인수 봉 암벽 등반 중인 탐방 객 국립공원 관리 공단 상 황실 지능 형 폐쇄 회로 로 확인 즉각 등반 중단 사례 국립공원 관리 공단 탐방 객 겨울철 안전 산행 돕기 위해 국립공원 누리집 기상 현황 산행 장비 사고 시 대응 요령 등 각종 정보 제공 또한 국립공원 산 행정 보앱 활용 탐방 상의 낙석 결빙 구간 등 위험 지구 대한 정보 수 탐방 설치 비콘 시스템 통해 서도 실시간 위험 정보 수 김경 국립공원 관리 공단 안전 방재 처 설경 눈꽃 볼 수 겨울 산행 다른 계절 사고 위험성 때문 산행 전 철저 준비 필 요하 고 말 최근 국립공원 내 안전 사고 현황 동사 안전 사고 사례 및 현황 사진 질의 응답 전문용어 설명 끝',\n",
       " '제주 바 속 무척추동물 신종 미기 록종 종 발견 국립생물자원관 제주 바다 수심 생물 서식지 탐사 산호 공생 새우 등 무척추동물 신종 종 미기 록종 종 발굴 우리나라 모든 연안 심해 동굴 등 미탐 사 서식지 탐사 신종 미기 록종 지속 적 발굴 계획 환경부 소속 국립생물자원관 제주 바 속 신종 종 새우 류 종 갯지렁이 류 종 바다거미 류 종 과 미기 록종 종 새우 류 종 흡구충류 환형동물 종 등 총 종 무척추동물 발견 국립생물자원관 연 구진 미탐 사 서식지 대상 자생 무척추동물 조사 및 발굴 연구 를 통해 올해 월부 터 까지 서울대 김원 교수 팀 차례 제주 서귀포 섬 및 범섬 연안 수심 까지 대상 탐사 곳 산호 류 등 분포 생물 서식지 발견 이 지역 대상 발굴 종 탐색 탐색 결과 연 구진 제주 섬 수심 의 산호 서식지 새우 류 미기 록종 종 토니 베르 시마 누스 폰 토니 데스 롤로 아타 를 발견 또한 범섬 섬 사이 수심 채집 바다나리 류 새우 류 신종 크리 스티 메네스 류 흡구충류 미기 록종 미조 스토 마류 를 발견 그 외 섬 수심 의 수중 반 갯지렁이 류 신종 콤포 세티 류 바다거미 류 신종 피크 노고 류 의 서식 확인 연 구진 이번 발견 새우 류 종 흡구충류 종이 회초리 산호 류 및 바다나리 류 공생 사실 주목 회초리 산호 류 자포동물문 회초리 산호 속 종 총칭 이 중 민 회초리 산호 속 속 종 그 형태 회초리 채찍 유 사하 표면 새우 및 어류 공생 것 바다나리 류 성게류 등 극피동물문 바다나리강 속 종 총칭 게류 새우 류 흡구충류 등 공생 것 일 반적 산 호류 바다나리 류 다른 소형 무척추동물 미소 서식지 역할 서로 영향 이 연 구진 이번 발견 공생 종간 연관 관계 생태 연구 발전 수 것 기대 국립생물자원관 발견 종 확증 표본 소장 보관 이번 발견 대해 주택 사 등 동물 분류학 전문 학술지 이듬해 투 고하 학계 검증 뒤 국가 생물 종목 록 추가 예정 또한 이번 탐사 활용 특수 과학 잠수 기술 비롯 다양 수중 조사 기법 활용 그동안 조사 새 생물 서식지 탐사 지속 예정 특수 과학 잠수 생물 서식지 탐색 등 위해 이상 수심 잠 수하 거나 수중 체류 시간 목적 특수 기체 감압 절차 이용 잠 수하 기술 황 계영 국립생물자원관 생 물자원 활용 부장 이번 탐사 결과 수중 생 물자원 발굴 새 가능성 사례 라며 앞 한반도 전체 대상 탐사 범위 확대 예정 발굴 종 요약 및 영상 자료 미탐 사 서식지 탐사 동영상 자료 질의 응답 전문용어 설명 끝',\n",
       " '지리산 심 마을 철거 자연 삶 터전 양보 부터 시작 지리산 산골 심 마을 철거 완료 가구 건물 및 길이 진입 등 인공 시설 철거 완료 환경부 국립공원 관리 공단 부터 시작 지리산 국립공원 심 마을 철거 정비 및 복원 사업 이 완료 심 마을 지리산 가운데 달궁 계곡 최상 부 해발 자리 동네 지리산 국립공원 지정 당시 마을 주민 대부분 임산물 채 취하 거나 토종 꿀 양봉 생업 산골 마을 지리산 관광도로 개통 면서 취락 중심 마을 식당 펜션 등 상업시설 변질 면서 지리산 심층 부가 훼손 계곡 내 각종 환경오염 유발 본적 곳 지적 심 마을 일대 멸종위기 야생 생물 급 반달가슴곰 주요 서식지 생태 적 보전 가치 매우 국립공원 관리 공단 환경 보전 위해 심 마을 주민 대상 지속 적 설득 동의 구 총 사업 비 약 원 투 입하 부터 보상 착 수하 올해 까지 간 철거 및 복원 사업 진행 그 결과 지난해 하반기 심 마을 전체 주민 보상 마무리 올해 말 마을 내 가구 건물 진입 도로 폭 옹벽 등 심 마을 설치 모든 인공 시설 대한 철거 및 복원 시작 올해 복원 완료 국립공원 관리 공단 철거 지역 급경사 임 고려 사스 레나 무 국수나무 병꽃나무 등 총 종 지리산 자생 수종 그루 또한 심 마을 철거 지역 출입 통제 식생 복원 자연 천이 과정 동식물 서식 등 관찰 실시간 영상 모니터링 시스템 구축 반야봉 노고단 만복대 싸인 이 지역 자연 생물 군집 서식지 비오톱 로 조성 계획 안시 영 지리산 국립공원 남부 사무소 장 올해 지리산 국립공원 지정 주년 심 마을 주민 헌신 협조 복원 사업 결실 면서 자연 심 마을 반달가슴곰 등 멸종위기 야생 생물 서식 수 핵심 생태계 보호지역 관리 계획 사업 현황 복원 개념 전문용어 해설 질의 응답 끝',\n",
       " '수도권 대기오염 물질 줄 이기 위해 곳 사업 장 자발 적 협약 참여 원 투자 수도권 대기오염 물질 줄 이기 위해 곳 사업 장자 발 협약 참여 원 투자 수도권 배출 허용 총량 이상 차 지하 사업 장 대기오염 물질 줄 이기 위 협약 식 협약 이행 실적 우수 파워 주 부천 열병 합 발전 처 안산 도시 개발 주 환경부 장관 상 시상 수도권대기환경청 청장 송형근 은 수도권 일대 발전 업 제조업 폐기물 처리 업 등 곳 사업 장 대기오염 물질 총량 관리 자발 적 협약 체 결식 서울시 양재동 엘 타워 이 사업 장 부터 까지 협약 기간 동안 배출 시설 적 정운영 방지 시설 개선 청정 연료 전환 등 통해 대기오염 물질 감 계획 위해 총 원 투자 예정 이번 체 결식 환경부 국정 과제 대기 질 개선 기여 위해 마련 것 자발 적 협약 참여 사업 장 엘지 디스플레이 주 인천공항 에너지 주 포스코에너지 주 한국 남동 발전 주 영흥 화 본부 등 곳 지난해 참여 곳 대비 두 배 증가 협약 사업 장 전체 수도권 대기오염 물질 배출 총량 관리사 업 곳 중 약 이나 질소 산화물 은 황산화물 은 를 차지 협약 사업 장 까지 질소 산화물 황산화물 배출 허용 총량 중 각각 평균 배출 것 목표 이 협약 사업 장의 까지 대기오염 물질 감 목표 량 질소 산화물 톤 황산화물 톤 협약 사업 장 대기오염 물질 총량 관리 자발 적 협약 명예 전당 등 며 자발 적 협약 사업 장 현판 수여 한편 수도권대기환경청 자발 적 협약 사업 장 대해 협약 목표 달성 여부 오염 물질 저 감실 적 시설 및 운영 방법 개선 노력 등 매년 평가 지난 부터 까지 협약 이행 실적 평가 결과 파워 주 부천 열병 합 발전 처 안산 도시 개발 주 최우수 사업 장 선정 환경부 장관 상 한국 서부 발전 주 평택 발전 본부 인천 종합 에너지 주 주 에너지 공장 각각 우수 사업 장 선정 수도권대기환경청 장상 이 개 사업 장 협약 기간 동안 청정 연료 전환 방지 시설 개선 등 오염 물질 감축 및 시설 개선 노력 평균 목표 달성 률 를 기록 부터 시작 대기오염 물질 총량 관리 자발 적 협약 은 수도권 지역 대기 질 개선 기업 친환경 적 이미지 높이 기 위해 수도권대기환경청 총량 관리 사업자 협약 체결 협약 사업자 대기 총량 관리제 할당 배출 허용 총량 대기오염 물질 더 배출 것 약속 연도 별 감 목표 이행 계획 수립 대기오염 물질 총량 관리 자발 적 협약 자발 적 협약 참여 사업 장 현황 자발 적 협약 개요 자발 적 협약 체결 식 일정 질의 응답 전문 용어 설명 끝',\n",
       " '환경 강연 프로그램 환경 예찬 개최 환경 강연 프로그램 환경 예찬 개최 자원 순환 사회 를 주제 서울 대학로 유니 플렉스 환경부 장관 재활용 전문가 강연 환경 대한 다양 주제 환경 일 강연 부터 시작 올해 개최 예정 환경부 장관 윤성규 자원 순환 사회 를 주제 국민 직접 소통 환경 강연 프로그램 환경 예찬 서울 대학로 유니 플렉스 관 오후 분부 터 개최 날 강연 윤성규 환경부 장관 박미현 한국 업사이클 디자인 디자이너 신효섭 요리사 등 강연 자로 나선 첫 강연 자인 윤성규 장관 생각 이상 특별 자원 순환 사회 를 주제 폐 자원 무상 방문 수거 음식물 쓰레기 종량제 도입 환경 적 효과 대해 설명 두 강연 한국 업사이클 디자인 협회 설립 본격 적 기반 구축 시작 박미현 디자이너 업사이클 대한 개념 폐 자원 가치 높이 방법 소개 업사이클 기존 제품 단순 재활용 차원 더 나 아가 새 디자인 미하 등 가치 전혀 다른 제품 다시 생산 것세 강연 신효섭 요리사 냉장고 속 식 재료 버 리지 사용 수 자투리 조리법 레시피 통해 음식물 쓰레기 방법 예정 지난해 월부 터 시작 환경 예찬 지난 서울시 북서 울 꿈 숲 아트 센터 퍼포먼스 홀 올해 첫 강연 시작 자원 순환 사회 주제 이번 강연 까지 맞이 환경 예찬 생활 속 유해 화학물질 이란 주제 어린이 환경 안전 전문가 은희 이화여대 교수 건강 생활용품 사용 안전 음식 섭취 등 유해 환경 물질 로부터 아이 안 전하 방법 대해 강연 또한 적 부터 아토피 자녀 종씨 야영 캠핑 활동 딸 아토피 치유 경 험담 전 박성호 개그맨 아이 유쾌 환경 상쾌 강연 주제 화학물질 아이 영향 유치원 놀이터 안전 수칙 대해 개그 재미 설명 반응 기도 환경 예찬 은 온실가스 줄 이기 란 주제 중 장소 미정 예정 환경 예찬 강연 참여 무료 신청 온 오프 믹스 자세 사항 환경부 페이스북 확인 수 환경 예찬 제작 계획 질의 응답 전문 용어 설명 끝',\n",
       " '국립공원 때 배낭 무게 줄 이세 국립공원 때 배낭 무게 줄 이세 국립공원 관리 공단 배낭 무게 줄 이기 캠페인 일부 터 환경부 국립공원 관리 공단 이사장 박보환 은 국립공원 탐방 객 가장 가을 성 수기 일부 터 전국 국립공원 배낭 무게 줄 이기 캠페인 시작 배낭 무게 줄 이기 캠페인 국립공원 자연 보고 문화 정착 단순 산행 양하 기 위해 마련 산행 전 준비 단계 부터 꼭 필요 행 동식 준비 배낭 리자 취지 행동 식 산행 간단 수 음식 주로 김밥 초코 바 등 말함 먹거리 위주 배낭 무거 울 수 쓰레기 또한 발생 때문 배낭 무게 줄 이면 쓰레기 줄 더 불어 건강 안전 수 국립공원 관리 공단 이번 캠페인 통해 국립공원 탐방 객 환경 아름 다운 실천 약속 가지 안내 첫째 산행 전 식품 포장 지나 과일 껍질 팩 이나 밀폐 용기 미리 준비 준비 산행 둘째 배낭 속 통닭 족발 주류 등 무거 운 음식 행 동식 활용 배낭 꾸리 기 때 자기 쓰레기 봉투 음식 다시 밀폐 용기 흔적 공원 만들기 나 공주 국립공원 관리 공단 공원 환경처 장 앞 배낭 무게 줄 이기 문화 정착 통해 쾌적 공원 환경 조성하 나 아가 자연 사람 모두 행복 국립공원 만들기 위해 최선 것 말 현황 사진 배낭 무게 줄 이기 캠페인 설명 자료 질의 응답 전문용어 해설 끝',\n",
       " '전국 환경 시험 실 오염 시험 검사 능력 적합 전국 환경 시험 실 오염 시험 검사 능력 적합 환경 분야 시험 실 능력 평가 결과 시험 검사 능력 평가 운영 능력 평가 적합 나타 적합 판정 기준 강화 불구 평가 제도 운영 효과 결실 국립 환경과학 원 원장 박진원 은 국가 환경 데이터 질적 수준 향상 목적 지난해 실시 전국 환경 분야 오염 검사 기관 능력 평가 결과 공개 평가 결과 곳 중 곳 의 시험 실 시험 검사 능력 평가 곳 중 곳 의 시험 실 운영 능력 평가 각각 적합 판정 시험 검사 능력 평가 시험 실 중 곳 은 능력 부족 것 확인 수질 분야 곳 중 곳 이 실내 공기 질 분야 곳 중 곳 이 각각 부적합 판정 또한 운영 능력 평가 곳 중 곳 이 부적합 판정 세부 분야 별로 수질 분야 곳 중 곳 이 실내 공기 질 분야 곳 중 곳 이 각각 부적합 판정 전국 환경 분야 오염 검사 기관 능력 평가 매년 시행 시험 검사 능력 평가 번 시행 운영 능력 평가 로 구분 이번 능력 평가 부적합 판정 시험 실 앞 개 월간 업무 수 다시 업무 려면 능력 평가 적합 판정 아야 국립 환경과학 원 평가 기관 신뢰 성 향상 위해 민간 측정 행업 고자 경우 시험 검사 능력 뿐 운영 능력 적합 함 보 장하 성적 를 첨부 등록 수 도록 관련 법령 개정 중 기존 시설 인력 시험 검사 능력 보 장하 성적 만 첨부 해도 등록 수 측정 기관 운영 능력 평가 통해 부족 부분 대해 전문가 기술 적 지도 음으로 시험 실 운영 실 질적 도움 수 운영 능력 평가 시험 검사 기관 생산 시험 성적 국제 적 규정 부합 도록 시험 실의 인력 장비 시설 및 시험 검사 결과 관련 자료 검증 제도 최종 국립 환경과학 원 환경 측정 분석 센터 장 부터 시험 검사 능력 평가 기준 점 점 상향 적용 며 불구 예년 시험 검사 능력 더 양호 나타 것 그동안 평가 제도 제대로 효과 발휘 결과 말 평가 결과 시험 검사 능력 평가 개 시험 실 가운데 개 의 시험 실 적합 판정 운영 능력 평가 총 개 시험 실 중 개 적합 판정 한편 국립 환경과학 원 측정 대행 업 제도 개선 방안 환경 측정 분석 사 제도 방안 등 소개 시험 실의 신뢰 성 향상 고자 일부 터 까지 이틀 간 대구 엑스코 찬회 개최 이 행사 관계자 명 참석 시험 검사 능력 향상 참여 시험 실 시험 검사 능력 향상 항목 분야 별 시험 검사 능력 평가 결과 시험 실 운영 능력 평가 결과 질의 응답 전문용어 설명 끝',\n",
       " '참고 전국 주요 습지 개소 겨울철새 개체 도래 확인 국립생물자원관 전국 주요 습지 개소 오리 기러기 류 등 겨울철새 종 개체 도래 확인 환경부 소속 국립생물자원관 관장 백운석 은 지난 일부 터 까지 전국 주요 습지 개소 대상 겨울철 조류 동시 센서스 이하 동시 센서스 를 실시 결과 총 종 개체 조류 확인 종별 쇠기러기 개체 청둥오리 개체 가창오리 개체 의 순 관찰 지역별 영암 호 개체 간월호 개체 철원 평야 개체 의 순 도래 것 확인 지난 동일 지역 대상 실시 동시 센서스 결과 비교 때 전체 개체 수 약 배 증가 오리 기러기 고니류 약 배 증가 역적 경기 충남 지역 집중 전남 지역 도래 개체 수가 증가 경향 국립생물자원관 조사 결과 관계 기관 제공 철새 정보 시스템 게재 찰 및 농가 방역 활용 수 도록',\n",
       " '수도권매립지 정책 자 협의 체 최종 합의 수도권매립지 정책 자 협의 체 최종 합의 환경부 장관 수도권 개 시 도 단체 장 서울시장 인천 시장 및 경기 도지사 은 서울 더 케이 호텔 자 협의 체 회의 지난 발표 바 수도권매립지 정책 개선 위 합의 문 의 후속 조치 대해 논의 수도권매립지 정책 관련 다음 최종 합의 수도권매립지 운영 관리 시 인천 시민 지역 주민 최우 선 고려 자 협의 체 지난 여 년 동안 수도권매립지 운영 환경 적 경제 적 피해 일 방적 감 내해 온 인천 시민 주변 지역 주민 고통 아픔 다시 번 감사 뜻 표 수도권매립지 운영 관리 과정 인천 시민 주변 지역 주민 최우 선적 고려 데 인식 선제 적 조치 세부 이행 사항 자 협의 체 이번 합의 이후 관계 법령 매립 면허 권 즉시 인천 시로 양 도하 절차 착수 또한 자 협의 체 이번 합의 이후 수도권매립지 관리 공사 인천 시 관 위해 인천 시가 선결 조건 이행 방안 조속 제시 등 관 절차 착수 자 협의 체 수도권매립지 주변 지역 주민 삶 질 향상 인천 지역 경제 활성화 적극 협력 반입 수수료 가산금 부지 매각 대금 등 수익금 인천 시로 지원 수도권매립지 사용 자 협의 체 수도권매립지 사용 기한 말로 임박 불구 대체 효과 적 실효 성 폐기물 처리 방안 마련 못 현실 인식 이하 수도권 발생 폐기물 안정 적 효율 적 처리 위해 현재 수도권매립지 제 한적 연장 사용 것 불가피 선택 데 합의 이 자 협의 체 생활 폐기물 직매 립 제 로화 추진 대체 매립지 확보 추진단 구 성하 대체 매립지 조성 등 안정 적 처리 방안 마련 공동 노력 합의 사항 이행 추진 및 관리 이번 자 협의 체 합의 사항 향후 수도권 해안 매립 조정 위원회 위원장 환경부 차관 구 체적 이행상 황 점검 관리 수도권매립지 정책 개선 위 합의 문 자 협의 체 회의 사진 수도권매립지 정책 자 협의 체 최종 합의 끝',\n",
       " '온실가스 인 톤 줄 이기 조형 물 서울시 청 앞 설치 온실가스 인 톤 줄 이기 조형 물 서울시 청 앞 설치 온실가스 톤 부피 강철 지구본 형상 화 온실가스 배출 부피 볼 수 줄 이기 운동 동참 제막식 행사 환경부 장관 녹색 위 공동 위원장 국회의원 서울시장 시민단체 학계 등 여명 참석 환경부 장관 윤성규 온실가스 감축 등 통해 범 지구 적 기후변화 문제 주 도적 역할 수행 국정 과제 기후변화 적응 역량 제 이행 위 온실가스 인 톤 줄 이기 조형 물 제막식 서울시 청 광장 개최 제막식 윤성규 환경부 장관 권성동 한정애 국회의원 이승훈 녹색 성장 위원장 박원순 서울시장 김재옥 한국 기후 환경 네트워크 상임 대표 등 각계 인사 여명 참석 조형 물 국민 실천 통해 연간 온실가스 톤 부피 로 표현 지름 의 지구본 모 양으로 재활용 가능 강철 제작 침대 높이 크기 것 조형 물 양면 한글 온실가스 인 톤 줄 이기 영문 문구 표기 약자 온실가스 종합 정보 센터 조사 우리나라 기준 연간 약 온실가스 배출 온실가스 종합 정보 센터 년도 국가 온실가스 배출 량 발표 정부 기후변화 원인 물질 온실가스 전세계 기후변화 완화 위해 까지 우리나라 온실가스 예상 배출 량 대비 인 감축 지난해 국가 온실가스 감축 국제 공약 이행 발표 바 환경부 감축 목표 중 인 일상생활 에너지 절약 등 달성 위해 한국 기후 환경 네트워크 등 시민단체 지난해 부터 온실가스 줄 이기 실천 운동 추진 확산 위 방안 하나로 이번 조형 물 제작 온실가스 줄 이기 실천 운동 외출 시 사용 전원 거나 코드 뽑기 대중교통 이용 등 온실가스 줄 이기 더 불어 에너지 절약 통해 생활비 가계 보탬 수도 또한 이번 조형 물 통해 국민 온실가스 배출 량 가늠 볼 수 도록 로써 국민 개개인 온실가스 줄 이기 대한 참여 실천 낼 것 기대 환경부 지난 대통령 기후변화 대응 관련 작 국민 동참 수 생활 밀착 형 노력 병행 줄 것 당부 함 온실가스 인 톤 줄 이기 실천 운동 국민 동참 유도 자 이번 조형 물 마련 조형 물 시각 적 홍보 효과 것 예상 서울시 청 광장 까지 전시 향후 전국 주요 도시 순회 전시 예정 최홍 진 환경부 기후 대기 정책 관 온실가스 인 톤 줄 이기 조형 물 전시 시민 기후변화 심 각성 인식 온실가스 줄 이기 실천 운동 적극 동참 수 계기 바란 고 말 온실가스 인 톤 줄 이기 조형 물 설치 위치 및 조감도 온실가스 인 톤 줄 이기 조형 물 제막식 계획 질의 응답 전문 용어 설명 끝',\n",
       " '갈대 뿌리 미생물 뇌 세포 염증 억제 물질 갈대 뿌리 미생물 뇌 세포 염증 억제 물질 국립생물자원관 순천만 갈대 뿌리 서식 진균 뇌 세포 염증 억제 물질 특허 출원 뇌 세포 염증 억제 활 물질 대량생산 위 후속 연구 진행 중 국립생물자원관 관장 백운석 은 순천만 갈대 뿌리 공생 미생물 뇌신경 세포 염증 억제 대한 효과 단일 물질 아내 특허 출원 국립생물자원관 연 구진 지난해 중순 부터 갈대 뿌리 공생 식물 내생 균 고 이마 노마 세스속 균주 로부터 단일 물질 분리 구조 분석 이 단일 물질 뇌 세포 염증 억제 물질 에르 스테롤 퍼옥 사이드 유도체 중 하나 에르 스테롤 퍼옥 사이드 약용 버섯 등 진균 스테롤 중 하나로 주요 항암 물질 작용 항산화 항염 항균 작용 것 연 구진 이 물질 배양 미세 교세포 처리 후 염증 유발 염증 억제 정도 평가 결과 기존 에르 스테롤 퍼옥 사이드 최대 배 뇌 세포 항 염증 효과 발견 또한 이 물질 고 농도 세포독성 보이지 향후 새 뇌 세포 염증 억제 치료 제 소재 활용 수 것 기대 이 연 구진 이번 단일 물질 유전자 파악 이 단일 물질 대량생산 위 기반 연구 추진 이 단일 물질 뇌신경 세포 작용 대한 연구 병행 이번 연구 갈대 뿌리 공생 식물 내생 균 뇌 세포 항 염증 효과 사실 과 학적 규명 우리나라 전통 지식 착안 갈대 뿌리 공생 미생물 뇌신경 세포 염증 억제 물질 조건 이 물질 대량생산 수 가능성 점 의의 한국 본초 감 등 방 문헌 갈대 뿌리 노근 폐 위 천연 약물 기록 한국 본초 감 우리나라 자생 약초 중심 효능 및 성분 리 작용 등 설명 책 안덕균 저 개정 증보 교학사 백운석 국립생물자원관 장 자생 생 물자원 발굴 정확 종 확인 비롯 이 대한 잠 재적 가치 일 국립생물자원관 장점 이 라며 향후 활용 가치 증진 수 고 말 갈대 서식 균주 및 단일 물질 염증 억제 활 질의 응답 전문용어 설명 끝',\n",
       " '환경 공단 유엔 기후변화 협약 기후 기술 센터 네트워크 가입 환경 공단 유엔 기후변화 협약 기후 기술 센터 네트워크 가입 환경부 기관 중 최초 개도국 기후변화 기술 개발 및 사업 지원 위해 설립 유엔 기후변화 협약 기술 이행 기구 가입 공단 해외 사업 역량 인정 향후 기후 기술 센터 네트워크 주관 개도국 지원 사업 우선 입찰 자격 등 혜택 부여 한국 환경 공단 이사장 이시진 은 환경부 기관 중 최초 유엔 기후변화 협약 의 개도국 기술 개발 이전 지원 위 이행 기구 기후 기술 센터 네트워크 전문 기관 가입 기후 기술 센터 네트워크 유엔 기후변화 협약 개도국 온실가스 감축 기술 이전 위해 설립 국제 기구 기후 기술 센터 네트워크 유엔 환경 계획 과 유엔 공업 개발 기구 협력 관 리하 기구 개도국 온실가스 감축 관련 사업 요청 접수 관 리하 개 기후 기술 센터 실제 사업 수행 전문 기관 구성 전문 기관 세계 지적재산권 기구 글로벌 환경 연구소 를 비롯 총 개국 개 전문 기관 가입 이 전문 기관 기후 기술 센터 네트워크 주관 온실가스 감축 개도국 지원 사업 우선 입찰 자격 등 혜택 한국 환경 공단 개도국 협력 지원 사업 유리 위치 기후 기술 센터 네트워크 전문 기관 가입 위해 개도국 적용 가능 기후 기술 개발 이전 배치 능력 보유 개도국 대상 사업 실적 전문가 한국 환경 공단 아태 지역 개도국 지속 가능 발전 위 서울 이니셔티브 프로그램 운영 콩고 식수 위생 개선 사업 콜롬비아 대기 환경 모니터링 시스템 구축 사업 스리랑카 폐기물 소각 시설 설치 사업 등 개도국 대상 해외 환경 사업 활발 가입 한국 환경 공단 올해 말 신 기후 체제 출범 재생에너지 에너지 효율 도시 환경 등 온실가스 감축 기술 개발 개도국 이전 대한 수요 증가 것 전망 유엔 녹색 기후 기금 과 세계 은행 등 다양 재원 활용 온실가스 감축 기술 개발 이전 사업 활발 것 보고 이시진 한국 환경 공단 이사장 이번 기후 기술 센터 네트워크 가입 여건 속 전세계 무대 해외 환경 산업 추진 온 결과 라며 축적 경험 기술 바탕 해외 신사 업 창 세계 적 기후변화 대응 노력 더욱 기여 것 기후 기술 센터 네트워크 설명 자료 질의 응답 전문 용어 설명 끝',\n",
       " '똑똑 환경 관리 차 산업혁명 시대 발 인공 지능 고도 분석 통한 대기 질 예보 강화 사물인터넷 및 빅데이터 활용 밀렵 감시 체계 최적화 등 지능 형 환경 관리 정책 발굴 환경부 소속 기관 인공 지능 전문가 등 포함 지능 형 환경 관리 발족 올해 중 추진 과제 발표 예정 환경부 장관 조경규 차 산업혁명 시대 도래 발 지능 형 환경 관리 대책 반 를 발족 인공 지능 등 첨단 기술 적용 환경 관리 정책 과제 발굴 차 산업혁명 이란 기계 지능 화로 생 산성 고도 향상 산업 구조 근본 변화 것 말 지능 형 환경 관리 국립 환경과학 원 국립생물자원관 한국 환경 관리 공단 한국 환경 산업 기술 원 국립공원 관리 공단 국립생태원 등 환경부 소속 기관 비롯 사물인터넷 인공 지능 드론 관련 기술 전문가 등 참여 환경부 지능 형 환경 관리 발족 관련 서울 서초구 컨벤션 센터 차 회의 개최 차 회의 통해 지능 형 환경 관리 올해 중 사물인터넷 기반 환경 질 데이터 측정 강화 인공 지능 활용 데이터 고도 분석 환경 변화 사전 예측 및 관리 최적화 등 차 산업혁명 걸 환경 관리 정책 발굴 또한 사물인터넷 빅데이터 등 차 산업혁명 이루 핵심 기술 바탕 밀렵 대한 감시 체계 최적화 대기 등 환경 질 예보 고도화 멸종위기종 행동 분석 통한 안전 서식 처 유도 등 해외 사례 참조 지능 형 환경 관리 의 혁신 방안 가칭 마련 계획 김영훈 환경부 환경 정책 관 차 산업혁명 기술 적 측면 사물인터넷 인공 지능 빅데이터 등 독립 적 발전 온 기술 상호 융합 새 부가가치 창 출하 점 주목 며 환경 관리 분야 차 산업혁명 핵심 기술 적용 국민 체감 수 정책 발굴 추진 계획 지능 형 환경 관리 구성 질의 응답 전문용어 설명 끝',\n",
       " '낙동강 생물 자원 관 대구 교육청 청소년 생물 교육 확대 낙동강 생물 자원 관 대구 교육청 청소년 생물 교육 확대 학교 생 물자원 체험 교육 등 적극 협력 지원 자유 학기 제 진로 체험 교육 활성화 계기 마련 국립 낙동강 생 물자원 관 관장 안영 은 청소년 다양 생 물자원 관련 교육 기회 제공 위해 대구광역시 교육청 업무 협약 체결 양 기관 이번 업무 협약 통해 자 유학 기제 확산 생명과학 동아리 지원 담 수생 물자원 관련 영재교육 국가 생 물자원 전문성 신장 위 교원 직무 연수 등 일련 교육 과정 공동 개발 운영 계획 이 기관 상호 협력 바탕 청소년 지속 가능 생물 교육 제공 생물다양성 생물 보전 인식 뜻 안영 국립 낙동강 생 물자원 관장 청소년 담수 생 물자원 대해 인식 다양 직업 세계 경험 과학자 환경 관련 직업 대해 이해 나 아가 꿈 설계 도움 바란 고 말 또한 안영 관장 대구광역시 교육청 국립 낙동강 생 물자원 관 환경 체험 프로그램 지속 적 발전 자 유학 기제 활성화 기여 대한민국 생 물자원 교육 중추 적 역할 수 도록 적극 지원 고 업무 협약 식 진행 내용 협약 국립 낙동강 생 물자원 관 자유 학기 제 지원 방안 질의 응답 전문용어 설명 끝',\n",
       " '국립 낙동강 생 물자원 관 멸종 위기 생물 특별 전 개최 지구 사라 진 바바리사자 극락 앵무 등 종 실물 표본 전시 한반도 사라 진 아무르표범 스라소니 등 실물 표본 전시 환경부 국립 낙동강 생 물자원 관 관장 안영 은 절멸 종 멸종위기종 대한 정보 및 생물다양성 가치 보전 중요성 알리 기 위해 일부 터 까지 국립 낙동강 생 물자원 관 특별 전시 실 멸종 위기 생물 특별 전 개최 특별 전 멸종 원인 서식지 파괴 남획 인구 증가 외래종 유입 환경오염 등 대부분 인간 간섭 일어 것 이기 인간 노력 통해 생물다양성 회복 수 음 보 여준 이번 전시회 세계 자연 보전 연맹 이 지정 적색 목록 범주 기준 구상 절멸 동물 종 한반도 절멸 동물 종 멸종위기 야생동물 종 외래 동물 종 등 총 종이 실물 표본 모형 전시 구상 절멸 바바리사자 바다 쇠오리 까치오리 나그네비둘기 극락 앵무 캐롤라이나앵무 뉴잉글랜드 초원 멧닭 후이아 등 종은 실물 표본 도도 모형 전시 한반도 절멸 아무르표범 스라소니 크낙새 소똥구리 종 등 종은 실물 표본 원앙사촌 모형 전시 장수하늘소 귀이빨대칭이 꼬마 잠자리 다나 줄 돌산 호 푸른 산호 아프리카매너티 북극곰 등 멸종위기 야생동물 종 뉴트리아 파랑 볼 우럭 떡붕어 입배 스 등 종 외래종 실물 표본 전시 국립 낙동강 생 물자원 관 생동감 내용 이해 수 도록 모래 애니메이션 증강현실 체험 해설 등 다양 프로그램 운영 실물 표본 전시 나그네비둘기 바다 쇠오리 뉴잉글랜드 초원 멧닭 등 종 조류 모래 애니메이션 통해 구상 사라 진 원인 설명 세계 적 멸종 새 대표 도도 실제 크기 모형 우리나라 멸종 종 대표 독도 바다사자 차원 가상 이미지 개발 증강현실 또한 세관 압수 품 활용 전시 물 멸종 종 포토 존 압력 센서 이용 카툰 패널 등 콘텐츠 통해 야생 생물 멸종 방지 보전 위 인간 역할 대해 조명 안영 국립 낙동강 생 물자원 관장 이번 특별 전 통해 생물다양성 보전 의미 가치 생물 살 아가 인간 대해 다시 번 생 각하 계기 바란 홍보 포스터 전시 물 사진 질의 응답 전문 용어 설명 끝',\n",
       " '환경 산업 기술 원 친환경 가구 문화 선도 환경 산업 기술 원 친환경 가구 문화 선도 친환경 가구 확산 위해 대한 가구 산업 협동조합 연합 회 등 가구 단체 곳 다자 간 업무 협약 체결 환경마크 인증 가구 제품 총 여개 폼알데히드 등 유해 물질 로부터 안전 친환경 가구 한국 환경 산업 기술 원 중소 가구 업계 친환경 가구 생산 확대 국민 안전 친환경 가구 사용 수 도록 가구 단체 손 한국 환경 산업 기술 원 원장 김용주 은 대한 가구 산업 협동조합 연합 회 회장 김계원 한국 금속 구 공업 협동조합 연합 회 회장 김홍근 한국 주택 가구 협동조합 이사장 정해 상 과 친환경 가구 확산 위 다자 간 업무 협력 양해각서 를 서울 영등포구 중소기업 중앙회 체결 이번 협약 통해 각 기관 중소 가구 업체 친환경 가구 제품 생산 확대 위해 노력 정부 기관 민간 기관 환경마크 인증 친환경 가구 제품 구매 활성화 수 도록 협력 나선 또한 가구 업계 애로 사항 해결 책 공동 모색 한편 환경마크 인증 제도 효율 적 운영 위해 노력 환경마크 인증 제품 공공기관 친환경 상품 의무 구매 대상 조달청 통한 판매 비중 만큼 중소 가구 업체 공공기관 조달 시장 접근 판로 개척 수 도록 지원 공공기관 구매 자 품목 환경마크 등 친환경 상품 경우 의 무적 구매 함 녹색 제품 구매 촉진 관 법률 제 환경 산업 기술 원 학교 물품 공동 구매 시스템 조달청 나라장터 계 환경마크 가구 제품 파악 수 도록 별도 메뉴 구성 계획 이장 등 아파트 전 미리 설 치하 가구 친환경 제품 사용 수 도록 한국 주택 가구 협동조합 등 관련 업계 협의 예정 최근 건강 주거 환경 대한 인식 아지 면서 환경마크 인증 친환경 가구 제품 대한 관심 증가 환경마크 생산 유통 소비 폐기 전 과정 오염 물질 배출 거나 자원 절약 제품 이나 서비스 인증 부여 제도 환경마크 인증 가구 납 카드뮴 수은 유해 물질 함유량 일정 수준 이하 페인트 사용 폼알데하이드 휘 발성 유기화합물 과 실내 공기 오염 물질 배출 량 인체 무 수준 오염 물질 배출 량 기준 폼알데하이드 이하 휘 발성 유기화합물 단위 소형 챔버법 후 방출 량 또한 친환경 가구 제품 폐 목재 활용 산림 자원 절약 뿐 산림 제품 관리 방법 등 다양 정보 소비자 제공 친환경 가구 제품 수 매년 증가 추세 보이 말 제품 수 말 기준 증가 여개 환경마크 인증 친환경 가구 제품 종류 별로 책상 서랍 등 가구 개 사무 학습 용 의자 개 침대 환경마크 가구 관련 대상 제품 별 인증 현황 가구 개 사무 학습 용 의자 개 학생용 책상 및 의자 개 침대 개 김종선 한국 환경 산업 기술 원 인증 실장 중소 가구 업계 상생 친환경 가구 확산 수 도록 노력 국가 공인 친환경 인증 제도 발전 국민 환경 복지 기여 것 한국 환경 산업 기술 원 다자 간 가구 조합 업무 협약 식 개최 안 친환경 가구 인증 기준 발췌 질의 응답 전문용어 설명 끝',\n",
       " '터널 공사 발파 진동 분재 피해 첫 배상 결정 중앙 환경 분쟁 조정 위원회 발파 진동 명자나무 등 분재 피해 대해 원 배상 결정 공사 장 발파 진동 근처 온실 분재 피해 환경 분쟁 사건 대해 원인 제 공자 배상 결정 첫 사례 환경부 소속 중앙 환경 분쟁 조정 위원회 위원장 남 광희 이하 위원회 수도권 고속 철도공사 장 발파 진동 발생 분재 피해 배상 신청 사건 대해 그 피해 인정 원 배상하 도록 결정 이 사건 경기 용인시 명자나무 등 분재 재 배하 이 인근 고속 철도공사 장 발생 발파 진동 분재 나무 등 피해 발주 처 시공사 상대로 원 피해 배상 요구 것 신청 은 현재 장소 규모 비닐하우스 온실 설치 명자나무 그루 등 분재 그루 재배 중 온실 로부터 까운 곳 월부 터 까지 고속 철도 공사 장의 터널 발파 공사 실시 이 신청 은 해 월부 터 까지 본인 재 배하 명자나무 등 분재 그루 고 사하 생육 불량 상태 등 피해 주장 신청 인의 주장 대하 피 신청 은 발파 진동 피해 줄 이기 위해 화약 장약량 최 소화 분 재원 진동 계 실시 진동수 준 최소 위해 노력 주장 이 수치 현장 관리 기준 이내 발파 진동 불과 지속 때문 발파 진동 분재 고사 등 직접 적 피해 원인 보기 설명 이 위원회 발파 진동 분야 분재 재배 분야 전문가 조사 사 한국 분재 조합 가격 평가 등 실시 전문가 발파 지점 분재 재배 장소 이격 거리 등 고려 발파 진동 예측 결과 진동 속도 최대 로 나타 분갈이 분재 뿌리 영향 고사 등 피해 수준 것 판단 분재 분갈이 때 진동 등 외부 환경 취약 토양 마사토 의 표면 움직 거나 때 뿌리 손상 줄 수 점 등 종합 적 고려 것 다만 위원회 분갈이 명자나무 분재 그루 중 발파 때 뿌리 안정 분재 수량 그루 자연 손실 율 피해 율 등 고려 전체 피해 주 장액 피해 액 인정 남 광희 중앙 환경 분쟁 조정 위원장 분갈이 분재 나무 경우 뿌리 수준 진동 피해 발생 수 시공사 주변 분재 재배 농가 확인 공사 때 피해 최소 화 대책 강구 필요 고 말 관련 사진 질의 응답 전문용어 설명 분재 피해 배상 판결 웹툰 끝',\n",
       " '안전 관리 계획 중복 해소 관계 부처 환경부 고용노동부 산업 통상 자원부 안전 관리 계획 위해 관리 계획 공정 안전 보고서 안전성 향상 계획 의 통합 서식 마련 올해 월부 터 통합 서식 작성 제출 허용 정부 화학사 고 위험 사업 관련 부처 각각 작성 제 출하 여야 안전 관리 계획 의 작성 부담 해소 위해 통합 서식 마련 현재 화학사 위험성 사업 장의 경우 부처 별로 위해 관리 계획 환경부 공정 안전 보고서 고용노동부 안전성 향상 계획 산업 통상 자원부 를 작성 제 출하 도록 위해 관리 계획 화학물질 관리 법 사 고대 비물질 종 지정수 량 이상 취급 시설 화학사 고가 발생 경우 사고 대비 대응 사고 시 주민 경보 주민 소산 사고 후 복구 계획 등 사업 장 밖 주민 환경 피해 최소 특 공정 안전 보고서 산업 안전 보건 법 원유 정제 처리 업 등 개 업종 사업 장 대상 물질 종 취급 사업 장의 근로자 보호 초점 공정 위험성 평가 안전 작업 허가 변경 요소 관리 근로자 교육 등 사고 예방 활동 특 공정 안전 관리 또한 안전성 향상 계획 고압 가스 안전 관리 법 고압 가스 저장 처리 시설 대상 고압 가스 위해 방지 위해 해당 시설 안전성 확 인하 데 특 이 부처 별 제도 취지 적용 대상 운영 형태 차이 그간 산 업계 일부 기초 자료 취급 시설 물질 정보 공정 도면 등 중복 작성 대한 부담 완화 줄 것 지속 적 요청 이 환경부 고용노동부 산업 통상 자원부 부터 유관 기관 화학물질안전원 안전 보건 공단 가스 안전 공사 과 통합 화 작업 추진 통합 서식 안 마련 권역별 공청회 여수 울산 대산 시화 를 지난해 월말 통합 서식 최종 확정 또한 제도 원활 시행 위해 관계 부처 공동 일부 터 까지 총 차례 지역별 구미 청주 울산 전주 설명 회 개최 통합 서식 각 부처 유관 기관 홈페이지 안내 이 올해 부터 각 부처 별 안전 관리 계획 를 통합 서식 작성 제 출하 것 허용 사업 장 안전 관리 계획 통합 서식 활용 함 부처 별 제도 취지 달 성하 면서 산 업계 작성 부담 경감 수 것 기대 한편 환경부 고용노동부 산업 통상 자원부 국민 안전 처 등 화학물질 안전 관리 관계 부처 분류 표시 시설 기준 등 유사 분야 개별 법령 상이 기준 정비 위 작년 월부 터 공동 테스 포스 구성 운영 앞 관계 부처 협업 산업 계 부담 경감 수 과제 지속 적 발굴 추진 계획 화학물질 관리 법 산업 안전 보건 법 고압 가스 안전 관리 법 위험 물 안전 관리 법 질의 응답 용어 설명 부처 별 안전 관리 계획 작성 제출 제도 화학사 예방 대응 체계 개선 테스 포스 운영 계획',\n",
       " '환경 정책 자금 원 역대 최대 규모 환경 정책 자금 원 역대 최대 규모 긴급 융자 제도 시행 시설 자금 지원 범위 확대 등 현장 수요 적극 반영 융자 제도 운영 한국 환경 산업 기술 원 원장 김용주 은 환경 산업 체계 적 육성 환경보전 강화 위해 년도 환경 정책 자금 년 대비 원 증가 총 원 확대 운영 환경 관련 기업체 시설 설치 및 경영 안정 위해 장기 저리 융자 해주 자금 역대 최대 규모 분야 별로 환경 산업 육성 자금 원 환경 개선 자금 원 재활용 산업 육성 자금 원 천연가스 공급 시설 설치 자금 원 최근 재활용품 가격 폭락 기업 경영 어려움 중소 재활용 업체 효과 적 지원 위해 재활용 산업 육성 자금 년 대비 확대 긴급 경영 안정화 자금 신규 운영 올해 재활용 산업 육성 자금 융자 신청 규모 지원 예산 대비 를 기록 등 재활용 업체 자금 수요 증가 재활용 산업 육성 자금 년 대비 원 증가 원 지원 계획 또한 기존 재활용 산업 육성 자금 운전자 금 경영 안정 자금 연 상 하반기 융자 신청 내년 긴급 경영 안정화 자금 신설 상시 접수 예정 긴급 경영 안정화 자금 신청 접수 경우 최 우선 심사 순위 부여 자금지원 수 도록 환경 산업 육성 자금 환경 개선 자금 시설 자금 지원 범위 확대 심사 기간 단 축하 한편 운전자 금 사용 기간 연장 수 도록 등 현장 수요 자 목소리 적극 반영 기존 시설 자금 지원 범위 신규 시설 설치 국한 내년 신규 시설 설치 뿐 기존 운영 시설 개보 수 비용 까지 시설 자금 지원이 가능 또한 시설 자금 대한 심사 기간 일로 단 축하 심사 대기 인하 기업 시설 공사 일정 차질 발생 도록 운전자 금 경우 불가피 사정 융 자금 사용 기간 안 모두 사용 경우 돈 반납 제도 적 비점 보완 위해 운전자 금 사용 기간 기존 최대 일로 연장 수 도록 한국 환경 산업 기술 원 올해 환경 정책 자금 융자 지원 기업 대상 설문조사 현장 방문 간담 회 등 통해 현장 의견 적극 수렴 바탕 내년 환경 정책 자금 사업 제도 적 변화 김용주 한국 환경 산업 기술 원장 앞 수요 자 중심 역 지사 자세 환경 정책 자금 융자 사업 운 영하 환경 산업 육성 위해 노력 것 년도 환경 정책 자금 사업 개요 질의 응답 전문용어 설명 끝',\n",
       " '설 연휴 미세먼지 전망 야외 활동 무리 수준 설날 연휴 기간 미세먼지 농도 야외 활동 무리 보통 수준 전망 연휴 전날 고 농도 발생 후 연휴 기간 대체로 보통 수준 나타 일 시적 농도 가능성 환경부 소속 국립 환경과학 원 설 연휴 기간 전국 미세먼지 농도 야외 활동 무리 보통 수준 일 것 예상 대기 중 부 유하 먼지 지름 이하 먼지 보통 매우 쁨 다만 연휴 전날 대기 정체 후 서풍 계열 바람 타고 국외 미세먼지 일부 유입 가능성 일부 남 부지역 오전 까지 영향 수 것 예상 연휴 이튿날 부터 대기 흐름 대부분 원활 하나 일 시적 농도 다소 가능성 수도권 경우 연휴 기간 동안 대체로 보통 수준 나타 낼 것 전망 다만 국내외 미세먼지 영향 오전 전후 일 시적 농도 가능성 국립 환경과학 원 동계올림픽 평창 강릉 지역 역시 연휴 기간 동안 고 농도 미세먼지 발생 가능성 낮 것 다만 강원 영서 지역 태백산맥 등 지형 적 영향 일 시적 고 농도 미세먼지 발생 가능성 국립 환경과학 원 기존 수도권 적용 격자 간격 고 해상도 예보 일부 터 강원 지역 적용 미세먼지 이동 측정 차량 경기장 배 치하 등 평창 동계 올림픽 대비 대기 질 감시 체계 강화 바 이 충청 전라 경상 제주 등 다른 지역 역시 설 연휴 기간 동안 고 농도 미세먼지 발생 가능성 다만 전라 경상 일부 지역 오전 까지 일시 적 고 농도 발생 가능성 국립 환경과학 원 기상청 중기 예보 국내외 대기 질 모델 최근 대기오염 물질 농도 정보 종합 적 분석 이번 설 연휴 기간 미세먼지 농도 예상 한편 올해 설 연휴 기간 포함 대하 최근 미세먼지 일 평균 수준 이상 발생 사례 것 나타 서울 발생 사례 것 분석 권역 이상 이상 발생 일수 권역 이상 이상 발생 일수 지역 미세먼지 전국 서울 장임 석 국립 환경과학 원 대기 질통 합 예보 센터 장 우리나라 주변 지역 미세먼지 농도 기상 조건 변동성 연휴 기간 실제 미세먼지 농도 이번 전망 다소 차이 수도 라며 하루 번 발표 미세먼지 최신 예보 참고 필요 말 미세먼지 예보 환경부 에어 코리아 하루 번 일치 오늘 내일 모레 제공 설 연휴 기간 자료 분석 및 전망 결과 미세먼지 예보 등급 및 행동 요령 미세먼지 예보 생산 질의 응답 전문용어 설명 끝',\n",
       " '가습기 살균제 구제 계정 폐렴 천식 대상자 선정 가습기 살균제 구제 계 정운용 위원회 폐렴 천식 심사 기준 의결 및 특별구 제계 정 지원 대상자 명 선정 환경부 장관 조명 한국 환경 산업 기술 원 원장 남 광희 은 오전 시부 터 서울 용산역 회의실 제 차 구제 계 정운용 위원회 위원장 이용규 중앙대 교수 폐렴 천식 구제 급여 상당 지원 심사 기준 안 등 안건 심의 의결 위원회 지난 차 회의 특별구 제계 정 신규 지원 대상 선정 개 질환 중 중 폐렴 및 천식 대한 구제 급여 상당 지원 심사 기준 의결 총 명 지원 대상자 인정 성인 간질 성 폐질 환 기관지확장증 폐렴 독성 간염 천식 등 개 질환 지원 대상자 명 폐렴 명 천식 명 지원 금액 정부 구제 대상 피해자 지급 구제 급여 동일 수준 요양 급여 본인 부담 액 전액 및 일부 비급 항목 포함 요양 생활 수당 간병 비 장의 비 특별 유족 조위 금 특별 장의 비 구제 급여 조정 금 등 총 가지 항목 구성 먼저 폐렴 지원 대상자 기존 가습기 살균제 건강 피해 인정 신청 자 가습기 살균제 피해자 판정 자 및 기존 구제 급여 상당 지원 지원 대상자 제외 의 의무 기록 및 국민 건강 보험 공단 자료 등 토대 심사 기준 적용 선정 고 천식 가습기 살균제 피해 구제 위원회 의 조사 판정 결과 천식 진단 음 확인 시행 령 제 조제 천식 질환 인정 기준 충 족하 특별구 제계 정 지원 의결 이번 위원회 천식 상당 지원 기준 충족 만 세 미만 아동 명 지원 대상자 결정 성인 지원 대상자 차기 위원회 선정 계획 또한 위원회 성인 간질 성 폐질 환 심사 기준 충족 선행 질환 진단 등 추가 확인 필요 대상자 중 명 추가 지원 대상자 인정 이후 순차 적 추가 확인 대상자 의무 기록 및 국민 건강 보험 공단 자료 등 검토 구제 급여 상당 지원 여부 결정 예정 오늘 회의 의결 지원 대상자 포함 현재 까지 특별구 제 대상자 총 명 질환 별 분야 별 중복 지원 제외 특별구 제 대상자 명 폐 섬유화 동반 폐질 환 명 아동 성인 간질 성 폐질 환 및 기관지확장증 명 폐렴 명 천식 명 긴급 의료 원 명 원인 자 미상 무자력 피해자 명 진찰 검사 비 명 중복 명 한편 한국 환경 산업 기술 원 올해 현재 기준 원인 자미 상 무자력 피해자 긴급 의료 원 및 구제 급여 상당 지원 대상자 등 특별구 제 대상 명 총 원 지원 이번 결정 특별구 제계 정 대상 선정 개 질환 중 성인 간질 성 폐질 환 기관지확장증 폐렴 천식 등 개 질환 대한 구제 급여 상당 지원 심사 기준 마련 독성 간염 심사 기준 추가 검토 후 차기 위원회 확정 계획 환경부 관계자 구제 계 정운용 위원회 의결 사항 차질 이행 도록 만전 기 예정 가습기 살균제 피해 구제 체계 질의 응답 끝',\n",
       " '운문산 거금도 등 생태 경관 보전 역 생태계 정밀 조사 생물 종 대규모 서식 확인 운문산 거금도 등 생태 경관 보전 역 생태계 정밀 조사 생물 종 대규모 서식 확인 생태 경관 보전 역 청도군 운문산 종 고흥군 거금도 적대 봉 종 식물 종이 발견 생태계 우수 지역 보전 관리 대책 수립 필요 생태계 기초 자료 확보 계획 국립생태원 원장 최재천 은 전국 곳 생태 경관 보전 역 특정도서 해안사 구 무인도 등 대한 년도 특정 지역 생태계 정밀 조사 결과 발표 특정 지역 생태계 정밀 조사 란 국가 보호지역 생태 경관 보전 역 특정도서 해안사 구 등 특정 지역 생태계 관리 대책 기여 발견 생물 종 보호지역 발굴 위해 국립생태원 환경부 위탁 이 지역 생태계 정밀 조사 것 말 국립생태원 월부 터 까지 년도 특정 지역 생태계 정밀 조사 를 실시 이번 조사 대상 지역 생태 경관 보전 역 경우 경북 청도군 운문산 전남 고흥군 거금도 적대 봉 등 곳 비롯 충남 서산 태안 전남 보성 권역 내의 특정도서 곳 무인도 곳 해안사 구인 강원도 강릉 송정 사구 삼척 맹방 곳 등 총 곳 조사 결과 경북 청도군 운문산 발견 종 생물 종 포함 식물 종 조류 종 멸종위기 야생 생물 종 포함 포유류 종 멸종위기 야생 생물 종 포함 양서 파충류 종 곤충 종 담수어 류 종 저 서성 무척추동물 종 등 총 종 생물 종이 확인 운문산 발견 멸종위기 야생 생물 종 급 수달 급 삵 담비 하늘다람쥐 올빼미 전남 고흥군 거금도 적 대봉 발견 종 생물 종 포함 식물 종 조류 종 멸종위기 야생 생물 종 포함 포유류 종 멸종위기 야생 생물 종 포함 양서 파충류 종 곤충 종 담수어 류 종 저 서성 무척추동물 종 등 총 종 생물 종이 확인 적대 봉 발견 멸종위기 야생 생물 종 급 수달 매 급 삵 참매 새매 팔색조 꼬리 딱새 충남 서산 태안 전남 보성 권역 내의 특정도서 곳 대한 조사 결과 이 지역 멸종위기 야생 생물 급 종 노랑 부리 백로 매 수달 급 종 수리부엉이 머리 물떼새 섬개개비 물수리 구렁이 발 농게 이 발견 이 중 수달 노랑 부리 백로 구렁이 발 농게 물수리 등 종은 이번 조사 발견 종이 수달 조사 대상 곳 특정도서 중 곳 배설물 발자국 등 흔적 발견 충남 서산 흑어도 식물 구계 학적 특정 식물 종 등급 금 방망이 의 한반도 최 남단 대규모 자생 제주도 제외 발견 식물 구계 학적 특정 식물 종 등급 생태 적 환경 등 이유 고립 불연속 적 분포 분류군 해당 특정 수종 의미 등급 수록 희귀 함 강원도 강릉 송정 사구 삼척 맹 방사 구도 멸종위기 야생 생물 다수 서식 등 생물다양성 우수 것 조사 송정 식물 총 종 식물 종 조류 종 육상 곤충 종 양서 파충류 종 맹방 식물 총 종 식물 종 조류 종 곤충 종 양서 파충류 종 등 관광지 역 개발 역임 풍부 생물 종이 서식 것 나타 송 정사 구의 북단 남단 사구 포장도로 관광 시설 입지 원형 훼손 사 구의 중앙 출입 제한 초본 식물 발달 생태계 보전 맹 방사 구의 경우 삼림 욕 활용 하맹 방사 구의 해변 통보리사초 왕 잔디 군락 갯그령 군락 등 발달 멸종위기 야생 생물 급 새호리기 물수리 새매 참매 발견 이 무인도 곳 조사 멸종위기 야생 생물 급 종 매 수달 풍란 급 종 섬개개비 솔개 조롱 대청부채 장수 삿갓 조개 꼬리 딱새 구렁이 이 격렬 비도 석도 등 개 무인도 것 확인 최재천 국립생태원 장 앞 지속 적 특정 지역 생태계 정밀 조사 통 국가 보호지역 뿐 생태계 우수 지역 보전 관리 대책 수립 필요 생태계 기초 자료 확보 계획 특정 지역 생태계 정밀 조사 개요 생태 경관 보전 역 멸종위기 야생 생물 분포 지도 생태 경관 보전 역 정밀 조사 주요 출현 종 사진 특정도서 정밀 조사 출현 멸종위기 야생 생물 질의 응답 전문용어 설명 끝',\n",
       " '국립공원 가을 산행 재난 안전 알림 서비스 로 안 전하 국립공원 가을 산행 재난 안전 알림 서비스 로 안 전하 사물인터넷 접목 비콘 위험 요소 사전 스마트폰 안내 북 한산 설치 완료 및 월초 설악산 까지 확대 운영 국립공원 관리 공단 이사장 박보환 은 가을 단풍 철 탐방 객 급증 안전 사고 대비 위해 스마트폰 사물인터넷 기술 접목 비콘 활용 위험 요소 사전 탐방 객 재난 안전 알림 서비스 를 일부 터 제공 비콘 사용자 위치 정보 수집 콘텐츠 제공 센서 사용자 스마트폰 통해 음성 및 문자 메시지 전달 등 정보 제공 월부 터 까지 가을 철 동안 국립공원 탐방 객 약 달 연간 탐방 객 이상 집중 시기 최근 건의 안전 사고 발생 국립공원 관리 공단 가장 탐방 객 북 한산 국립공원 위험 정보 비콘 개소 설치 후 초 시범 운영 낙석 등 자연재해 발생 우려 설악산 초 까지 비콘 설치 완료 예정 재난 안전 알림 서비스 스마트폰 국립공원 산 행정 보 앱 설치 이후 이용 가능 비콘 일정 거리 접근 경우 위험 요소 대한 사전 정보 안전 산행 방법 문자 음성 형식 스마트폰 알림 서비스 전송 비콘 추락 위험 지역 낙석 발생 우려 지역 낙뢰 다발 구간 급경사 산사태 우려 지역 상습 결빙 지역 등 안전 사고 알림 정보 터 안내 탐방 객 안전 수칙 기상특보 발표 시 대피 방법 등 주요 거점 정보 제공 북 한산 국립공원 설치 비콘 개 소가 안전 정보 개 소가 주요 거점 정보 제공 국립공원 산 행정 보 앱 은 스마트폰 앱스토어 국립공원 산 행정 보 로 검색 다운 수 안드로이드 버전 스토어 국립공원 산 행정 보 검색 버전 애플 앱스토어 국립공원 산 행정 보 검색 비콘 기반 알림 서비스 사물인터넷 기술 접 목하 그간 백화점 마트 등 주로 실내 서비스 이루 어졌 국립공원 관리 공단 국내 처 음으로 자연 지형 산악 지역 서비스 활용 수 도록 비콘 제작 최승 운 국립공원 관리 공단 안전 방재 처 사물인터넷 기술 접목 재난 안전 알림 서비스 북 한산 설악산 시작 앞 전 공원 확대 예정 이 라며 비콘 활용 분야 안전 분야 뿐 탐방 안내 경관 해설 역사 문화 자원 안내 등 탐방 객 요구 부합 다양 탐방 정보 안내 활용 수 말 북 한산 국립공원 비콘 설치 현황 표 최근 월별 안전 사고 현황 국립공원 재난 알림 서비스 운영 현황 사진 질의 응답 전문 용어 설명 끝 관련 사진 및 영상 환경부 웹하드 게재',\n",
       " '가을 오색 단풍 국립공원 주간 과 일부 터 까지 동안 전국 국립공원 문화 행사 환경부 국립공원 관리 공단 일부 터 까지 주간 가을 철 국립공원 주간 정 문화 공연 사진 전시회 국립공원 장터 생태관광 체험 부스 등 개 분야 개 탐방 문화 행사 제공 국립공원 관리 공단 국내 관광 활성화 위해 정부 시행 여행 주간 기간 국립공원 주간 운영 봄 국립공원 주간 명 참여 등 봄 가을 철 국립공원 대표 탐방 문화 행사 자리 김 이번 가을 철 국립공원 주간 은 가을 정취 흠뻑 수 전국 개 국립공원 일제 진행 선선 가을 밤 분위기 만끽 수 야간 프로그램 운영 예정 대표 프로그램 덕유산 설 천봉 정상 처음 운영 산 음악회 계룡산 갑사 전통문화 수 창작 마당 지리산 국립공원 지정 주년 기념 음악회 등 열 린다 야간 프로그램 월악산 돈재 영화제 다도해 팔영산 달빛 영화관 가야산 달빛 별빛 음악회 진행 예정 또한 국립공원 주간 국립공원 구석구석 매력 재발 견할 수 국립공원 힐링 로드 걷기 행사 진행 열목어 최 남단 서식지 태백산 국립공원 백천 열목어 길 걷기 행사 김재 진 시인 토크 콘서트 가을 라디오 여행 자연 속 오카리나 바이올린 연주 감상 수 숲 속 음악회 열 린다 태안 해안 국립공원 솔모랫길 유류 피해 극복 주년 해 기념 자원봉사자 및 지역 주민 참여 걷기 행사 진행 국립공원 주간 행사 참여 사진 사회 관계 망 서비스 추첨 후 소정 기념품 증정 행사 열 린다 행사 일정 등 자세 정보 국립공원 누리집 국립공원 페이스북 통해 확인 수 김영 국립공원 관리 공단 탐방 복지 처 국립공원 수 다양 형태 체험 프로그램 탐방 객 참여 기대 며 오색 단풍 아름 다운 국립공원 탐방 객 가을 추억 바란 고 말 가을 국립공원 주간 세부 행사 계획 국립공원 힐링 로드 걷기 행사 계획 관련 사진 질의 응답 끝',\n",
       " '생물다양성 보전 기여 청년 전문가 양성 생물다양성 보전 기여 청년 전문가 양성 미래 생물다양성 전문가 활동 미개척 자생 생물 분류군 전공자 명 양성 중 미개척 분야 전문 인력 양성 통해 국가 생물 종 보전 사각 지대 해소 및 생물 주권 확보 기여 환경부 소속 국립생물자원관 관장 백운석 은 미개척 생물분류 군 전문 인력 양성 사업 통해 국내 연구 기반 취약 자생 생물 분류군 석 박사 전문 인력 양성 지속 적 지원 분류군 분류학 적 다른 생물 구별 질의 생물 무리 미개척 생물분류 군 전문 인력 양성 사업 은 국가 생물 주권 확보 및 생물다양성 관련 국제 교류 협력 기반 구축 위 미래 자생 생물 분류군 전문가 양성 위 사업 국립생물자원관 환경부 수립 생 물자원 분야 전문 인력 양성 기본 계획 개년 계획 부터 까지 단계 사업 추진 단계 사업 통해 명의 석 박사 과정 생 지원 석사 명 박사 명 등 총 명의 석 박사 학 위자 배출 부터 까지 단계 사업 진행 중이 올해 단계 차 년도 접합균류 지의류 등 국내 미개척 개 자생 생물 분류군 분야 대상 영남대 이화여대 전남대 등 개 대학 협력 총 명의 전문 인력 양성 단계 사업 참여 생물분류 군 접합균류 지의류 조류 곤충류 연갑류 다모류 태형동물 류 편형동물 류 개 생물분류 군 단계 사업 참여 대학 경북 고려대 군산대 단국대 서울대 순천대 영남대 우석대 이화여대 인천대 인하대 전남대 제주 충북대 개 대학 가나다순 명의 석 박사 과정 학생 미개척 생물 분류군 대한 연구 수행 위 연 구비 국외 연수 및 해외 전문가 초빙 교육 등 지원 그 결과 사업 기간 동안 박사 명 석사 명 등 총 명 학위 취득 국외 연수 개국 건 해외 전문가 초빙 건 실시 관련 분야 학술지 논문 건 게재 등 성과 도출 학위 취득 졸업 예정자 포함 국외 연수 영국 미국 헝가리 호주 체코 에콰도르 등 개국 수행 또한 사업 참여 학생 활발 연구 활동 통 미개척 생물분류 군 신종 미기 록종 발굴 가속 화 기여 올해 홍조류 속 돌가사리목 신종 종 및 미기 록종 종 비롯 총 신종 종 미기 록종 종 발굴 홍조류 속 돌가사리목 신종 종 및 미기 록종 종 제주 접합균류 신종 종 및 미기 록종 종 전남대 지의류 신종 종 및 미기 록종 종 순천대 규 조식 물문 신종 종 및 미기 록종 종 군산대 벌목 미기 록종 종 영남대 파리목 미기 록종 종 고려대 나비목 미기 록종 종 인천대 연갑류 류 미기 록종 종 서울대 연갑류 등각류 신종 종 및 미기 록종 종 인하대 연갑류 올챙이 새우 류 미기 록종 종 단국대 간 극성 다모류 미기 록종 종 이화여대 태형동물 문 미기 록종 종 우석대 편형동물 문 미기 록종 종 충북대 백운석 국립생물자원관 장 한반도 생물다양성 보전 및 생물 주권 확보 위해 연구 기반 취약 생물 종 사각 지대 면서 향후 설립 생물다양성 보전 관련 기관 활약 미래 자생 생물 전문가 적극 양성 계획 관련 사진 질의 응답 전문용어 설명 끝',\n",
       " '국립공원 오소리 괭이갈매기 이 발견 국립공원 오소리 괭이갈매기 이 발견 백색증 오소리 국내 처음 괭이갈매기 관찰 생태계 관리 위 모니터링 과정 관찰 매우 희귀 현상 지리산 려 해상 국립공원 일대 오소리 괭이갈매기 등 백색증 개체 이 발견 화제 백색증 멜라닌 색소 합성 나타 돌연변이 현상 대부분 동물 나타 며 매우 희귀 현상 이기 때문 예 로부터 길 징조 국립공원 관리 공단 이사장 박보환 이 지난 말 지리산 국립공원 오소리 포착 데 초 려 해상 국립공원 홍도 괭이갈매기 발견 촬 영하 데 성공 오소리 백색증 개체 지리산 국립공원 반달가슴곰 특별 보호 구역 야생동물 모니터링 위해 설치 무인 동작 감지 카메라 국내 처 음으로 포착 괭이갈매기 려 해상 국립공원 괭이갈매기 서식지 조류 모니터링 과정 촬영 오소리 촬영 지리산 국립공원 반달가슴곰 특별 보호 구역 부터 지정 개 지역 넓이 일반 탐방 객 출입 통제 공단 이 곳 연간 회의 조사 모니터링 분기 당 회의 순찰 통해 야생 동식물 서식지 관리 중 이번 오소리 관찰 것 무인 동작 감지 카메라 고정 장소 동물 움직임 감지 자동 촬 영하 장비 공단 자연 상태 종 백색증 발현 경우 매우 백색증 동물 무인 동작 감지 카메라 포착 경우 이번 촬영 매우 희귀 사례 보고 괭이갈매기 괭이갈매기 천국 경상남도 통영시 홍도 철새 중간 기 착지 복원 사업 사후 모니터링 과정 관찰 괭이갈매기 백색증 나타 현상 서해안 지역 차례 기록 남해안 홍도 이번 처 음으로 발견 홍도 국내 최대 괭이갈매기 번식 지로 해마 약 개체 이상 번식 위해 곳 철새 중간 기 착지 복원 사업 철새 괭이갈매기 공존 도록 섬 정 상부 철새 서식 공간 복구 것 김종완 국립공원 관리 공단 자원 보전 처 백색증 동물 알비노 동물 불리 유전 적 변 발생 개체 라면 흰색 동물 상 대적 눈 자연 상태 생존 율 매우 편 말 공단 이번 백색증 개체 관찰 이후 모니터링 강화 위해 현재 지리산 설치 무인 동작 감지 카메라 기존 대로 정 기적 순찰 강화 계획 지난 지리산 다람쥐 관찰 화제 바 오소리 및 갈매기 현황 사진 질의 응답 전문 용어 설명 끝',\n",
       " '참고 평창동계올림픽 상수도 공급 사업 차질 추진 동계올림픽 참가 선수단 관광객 식수 공급 위해 올해 준공 목표 마무리 공사 박차 조경규 환경부 장관 식수 전용 저수지 및 정수 장 등 주요 시설 공사 진행 상황 점검 차질 공사 마무리 당부 환경부 장관 조경규 평창동계올림픽 참가 선수단 관광객 등 안정 적 식수 제공 등 동계올림픽 성공 적 개최 지원 위해 상수도 공급 사업 추진 중이 말 준공 목표 공사 차질 진행 이 사업 대관령면 저수 용량 톤 식수 전용 저수지 시설 용량 일 규모 정 수장 건설 사업 총사 업비 원 국비 원 이 투입 착공 현재 평창군 대관령 정수 장 시설 용량 일 준공 이 운영 중이 취 수원 부족 노후 화로 동계올림픽 기간 동안 안 정적 식수 공급 판단 이번 사업 추진 전체 사업 공정 률 식수 전용 저수지 정수 장 올해 말 이면 공사 완공 월부 터 저수 시작 초 부터 용수 공급 가능 예정 식수 전용 저수지 설치 지역 대한 유량 분석 결과 평창동계올림픽 기간 동안 필요 급수 인구 하루 평균 약 명 것 예상 환경부 동계올림픽 이후 현재 운영 중인 노후 대관령 정수 장 폐쇄 이번 공사 중인 신규 정 수장 운 영하 여유 용량 일 종전 공급 지역 대관령면 중 물이 부족 지역 인근 진부 정 수장 공급 알펜시아 등 지역 공급 계획 조경규 환경부 장관 공사 현장 방 문하 식수 전용 저수지 정수 장 등 주요 시설 공사 진행 상황 점검 공사 관계자 격려 한편 공사 과정 안전 동계올림픽 성공 적 개최 위해 차질 공사 마무리 것 당부 평창동계올림픽 급수 체계 구축 사업 개요 평창동계올림픽 급수 체계 구축 사업 현장 사진 질의 응답 조경규 환경부 장관 공사 현장 방문 일정 끝',\n",
       " '국립생물자원관 학술지 무척추동물 특집 호 발간 국립생물자원관 학술지 무척추동물 특집 호 발간 국립생물자원관 학술지 제 권 자생 무척추동물 신종 미기 록종 종 실어 무척추동물 특집 호 발간 특집 호 발간 자생 생물 학술 적 근거 마련 함 동시 생물 주권 확립 크게 기여 환경부 소속 국립생물자원관 관장 백운석 은 관내 학술지 널 오브 스피시즈 리서치 이하 제 권 호 무척추동물 특집 호 이하 특집 호 로 구 성하 발간 이번 특집 호 한반도 자생 무척추동물 원생동물 포함 종 신종 미기 록종 보고 논문 형태 구성 특집 호 우리나라 자생 생물 중 무척추동물 신종 미기 록종 대한 편의 논문 생물다양성 위 분류학 연구 중요성 대한 리뷰 논문 편 등 총 편의 논문 구성 이번 수록 종 무척추동물 신종 종 미기 록종 종이 분류군 별로 절지동물문 종 환형동물문 종 원생동물 문 종 해면동물문 종 등 문 구성 편집 진 이번 특집 호 발표 논문 공식 적 학술 적 근거 자료 뿐 생물다양성 연구 분류학 중요성 제시 데 의의 예 절지동물 주걱벌레붙이목 의 신종 슈도 파 마 그나 의 경우 국내 슈도 파 속 속 종 처음 보고 또한 이번 호의 표지 게재 공생 성 갯지렁이 류 미기 록종 유령 비늘 갯지렁이 아르 비타 타 수중 채집 통해 동해 처음 확인 분류군 새 조사 발굴 가능성 제시 특집 수록 신종 미기 록종 종은 국가 생물 종 목록 공식 적 추가 예정 편집 진 이번 무척추동물 특집 호 를 시작 앞 곤충 식물 등 다른 분류군 대상 특집 호 특 간호 발간 지속 적 추진 계획 은 국내 자생 생물 뿐 해외 생물 대한 신종 미기 록종 등 분류학 적 연구 성과 전문 분류학 학술지 창간 현재 까지 권 특 간호 부터 제 권 호 까지 총 권 발간 통해 생물 종 분류학 적 연구 결과 종 달 신종 기록 종이 발표 백운석 국립생물자원관 장 학술지 발간 통해 한반도 자생 생물 종 대한 근거 자료 마련 가속 면서 국가 생물 종목 록 구축 효과 적 원함 자생 생물 대한 국가 생물 주권 강화 데 크게 기여 것 말 제 권 호 무척추동물 특집 호 표지 사진 질의 응답 전문용어 설명 끝',\n",
       " '참고 환경부 수해 폐기물 신속 처리 발 나선 환경부 수해 폐기물 신속 처리 발 나선 재난 폐기물 신속 처리 위해 전국 지자체 지침 전달 주요 재난 지역 집게 차 등 수거 장비 지원 특별 재난 역 폐기물 처리 비용 재 정지원 환경부 장관 조경규 제 호 태풍 차바 영향 피해 울산 지역 조속 복구 수 도록 수해 폐기물 신속 처리 적극 지원 결정 지난 조경규 환경부 장관 울산 광역시 방 문하 굴 수처리 시설 태화강 피해 상황 점검 긴급 지원 등 통해 복구 적극 지원 데 수해 복구 과정 발생 다량 수해 폐기물 대해 서도 신속 수거 처리 나선 것 우선 환경부 수해 폐기물 신속 처리 위해 생활 폐기물 처리 시설 사업 장 폐기물 처리 시설 처리 수 도록 수집 운반 차량 부족 경우 임시 차량 가능 도록 관련 지침 전국 지자체 전달 또한 수해 폐기물 정도 신속 처리 취약 지역 피해 범위 수거 장비 부족 울주군 한국 환경 공단 협력 집게 차 오전 우선 투입 기타 필요 장비 한국 산업 폐 자원 공제조합 건설 폐기물 수집 운반 업 협회 등 협력 신속 제공 특별 재난 역 선포 울산 광역시 북구 울주군 환경부 특별 재난 역 수해 폐기물 대하 재 정지원 적극 추진 울산 회 야호 부유 쓰레기 처리 지원 방안 대해 서도 조사 나선 환경부 앞 지자체 지원 요청 수요 건의 지속 적 파악 수해 어려움 국민 불편 수 도록 노력 계획 울산 시 수해 쓰레기 발생 및 장비 투입 현황 환경부 재난 폐기물 관리 체계 끝',\n",
       " '한국 수자원공사 싱가포르 대한민국 물 관리 역량 아시아 물 위원회 일부 터 싱가포르 국제 물주 간 참여 국내 중소 물기 업 해외진출 지원 제 차 아시아 국제 물주 간 홍보 환경부 한국 수자원공사 사장 이학수 아시아 물 위원회 국내 중소 물기 업 개사 일부 터 까지 싱가포르 마리나 베이 호텔 싱가포르 국제 물주 간 참가 아시아 물 위원회 대한민국 정부 한국 수자원공사 주도 설립 아시아 최대 물 관련 국제 협의 체 현재 이학수 한국 수자원공사 사장 회장 세계 은행 민간 기업 등 아시아 개 국 여개 기관 참여 싱가포르 정부 주도 시작 싱가포르 국제 물주 간 은 마다 개최 국 제적 물 행사 개 국 개 기업 참가 올해 개 국 개 기업 참가 예상 한국 수자원공사 이번 행사 참여 계기 우리나라 우수 물관 리 역량 비롯 아시아 물 위원회 주관 인도네시아 발리 예정 제 차 아시아 국제 물주 간 국제사회 알리 기 위 다양 활동 먼저 아시아 물 위원회 우리나라 중국 싱가포르 필리핀 등 국내외 스마트 물관 리 기술 사례 공 유하 스마트 물관 리 특별 세션 개최 스마트 물관 리 물 관리 최첨단 정보통신기술 접목 실시간 수질 수량 관 리하 기술 미래 물 산업 유망 기술 주목 날 오후 아시아 물 위원회 주관 제 차 아시아 국제 물주 간 의 개최 계획 등 공식 발표 발대식 킥 오프 미팅 이 열 린다 아시아 국제 물주 간 아시아 물 문제 해결 논의 위해 마다 개최 제 차 아시아 국제 물 주간 대한민국 경주 개최 한국 수자원공사 일부 터 까지 국내 개 중소 물 기업 전세계 물 산업 교류 장인 워터 엑스포 참여 한국 수자원공사 스마트 물관 리 비롯 최신 물관 리 기술 아시아 물 위원회 활동 소개 홍 보관 운 영하 중소기업 자사 우수 제품 기술 전시 개별 홍 보관 운영 참가 기업 복주 서원 기술 썬텍 엔지니어링 너 토크 에스 엠 테크 바 이오니아 테라 하임 필드 솔루션 이드 넷 엠비티 개사 이학수 한국 수자원공사 사장 이번 싱가포르 국제 물주 간 참여 전 세계 대한민국 물관 리 역량 소개 기회 라며 기회 활용 국내 물 산업 육성 물 분야 양질 일자리 창 까지 지도 록 최선 싱가포르 국제 물주 간 개요 한국 수자원공사 참여계 획 끝',\n",
       " '국내 미기 록종 푸른머리되새 흑산도 확인 국내 미기 록종 푸른머리되새 흑산도 확인 기상 악화 이동 중 길 것 추정 기후변화 관련성 및 조류 서식지 분포 변화 기초 자료 활용 환경부 국립공원 관리 공단 이사장 박보환 은 국립공원 연구원 철새 연구 센터 국내 기록 종인 푸른머리되새 가칭 암컷 마리 다도해 해상 국립공원 흑산도 발견 국립공원 연구원 철새 연구 센터 지난 흑산도 조류 이동 경로 연구 위 가락지 부착 조사 수행 중 푸른머리되새 를 발견 발견 푸른머리되새 암컷 개체 몸 전 체적 갈색 정수리 부분 조금 두운 갈색 등 부분 허리 빛 연 녹색 띠 수컷 성조 경우 이마 두운 회색 정수리 부터 머리 뒤 까지 청 회색 것 푸른머리되새 되새 되새 속 속 조류 서유럽 남 시베리아 동부 산림 지대 러시아 안가라 강 까지 분포 동아시아 중국 동북 부 허베이성 오니 성 일부 월 동하 기도 일본 관찰 기록 국내 발견 기록 이번 처음 푸른머리되새 발견 다도해 해상 국립공원 흑산도 일대 바다 건너 이 동하 철새 잠시 다가 중요 중 간기 착지 자 휴식 처 로서 현재 까지 국내 조류 종 중 달 여 종이 관찰 곳 지금 까지 철새 연구 센터 흑산도 홍 도지역 확인 국내 미기 록종 조류 이번 포함 종 아종 포함 흑산도 홍 도지역 발견 미기 록종 조류 종 다리 사막 딱새 머리 바위 딱새 가면 올빼미 북방 쇠개개비 귤빛지빠귀 등 때까치 꼬까 울새 집 참새 목 점박이 비둘기 연 노랑 솔새 점 어깨 수리 풀밭 종다리 배 줄무늬 수리 턱 해변 종다리 이마 알락 할미 새 쇠 덤불 개개비 가칭 노랑 배 솔새 가칭 푸른머리되새 가칭 철새 연구 센터 조류 이동 경로 연구 위해 매년 약 여 마리 조류 가락지 부착 상반기 까지 총 종 여 마리 가락지 부착 권 영수 철새 연구 센터 장 이번 확인 푸른머리되새 월동 위해 이동 중 길 흑산도 날 온 것 추정 며 기후변화 관련성 조류 서식지 분포 변화 연구 중요 자료 것 푸른머리되새 가칭 세부 설명 자료 질의 응답 전문용어 설명 끝',\n",
       " '환경 산업 육성 정책 설명 회 개최 서울 광주 부산 정책 설명 회 개최 융자 수출 인증 등 담당자 맞춤 형 상담 환경부 한국 환경 산업 기술 원 원장 남 광희 은 올해 환경 산업 육성 정책 주요 지원 사업 등 알리 기 위해 서울 시작 까지 환경 산업 육성 정책 설명 회 를 권역 별로 진행 수도권 설명 회 서울 영등포구 중소기업 중앙회 호남권 광주 김대중 컨벤션 센터 영남권 부산 벡스코 컨벤션 홀 각각 열 린다 환경 산업 육성 정책 설명 회 주요 환경 정책 환경 기업 지원 다양 사업 소개 기업 필요 지원 정보 종합 적 제공 기업 소통 강화 자리 한국 환경 산업 기술 원 설명 회 국내 환경 산업 육성 수출 및 해외 진출 지원 환경 산업 연구 단지 운영 환경기술 연구개발 환경 인증 등 다양 분야 올해 시행 지원 사업 구 체적 설명 예정 최근 화두 최저임금제 대해 설명 기업 이해 최저임금제 시행 환경 기업 경영 부담 완화 자 근로 복지 공단 일자리 안정 자금 소개 계획 또한 환경부 올해 주요 환경 정책 환경 산업 육성 계획 등 정부 환경 기업 지원 정책 상세 소개 이 외 설명 회 참여 한국 환경 산업 협회 우수 환경 기업 해외 수출 기업 화 지원 사업 아프리카 상수도 사업 등 안내 한편 진행 수도권 설명 회 융자 인증 수출 등 지원 사업 별로 상담 부스 별도 설 치하 환경 기업 사업 담당자 로 상담 수 자리 마련 예정 정책 설명 회 참가 희망 기업 한국 환경 산업 기술 원 누리집 의 공지 사항 확인 온라인 및 팩스 접수 이메일 팩스 접수 남 광희 한국 환경 산업 기술 원장 이번 정책 설명 회 통해 환경 기업 정보 성장 수 계기 마련 기대 라며 앞 계속 환경 기업 수요 파악 지원 안내 자로 의 역할 수행 것 권역별 환경 산업 육성 정책 설명 회 주요 일정 질의 응답 전문용어 설명 끝',\n",
       " '참고 년도 환경부 예산 및 기금 원 최종 확정 예산 년 원 대비 원 증가 수계 기금 및 석면 기금 년 원 대비 원 감소 환경부 장관 조명 년도 예산 및 기금 운용 계획 국회 본회의 의결 통해 최종 확정 발표 국회 심의 통해 확정 년도 예산 및 기금 운용 계획 주요 내용 다음 년도 예산 및 기금 운용 계획 주요 내용 총 괄 총 지출 년 대비 원 증액 원 예산 년 원 대비 원 증액 원 기금 년 원 대비 원 감액 원 주요 국회 증액 사업 전기자동차 보급 및 충전 인프라 구축 원 수소 연료 전지 차보 급 원 대강 보 개방 모니터링 등 원 노후 상수도 정비 원 하수 관로 정비 원 지하 역사 공기 질 개선 대책 원 물 산업 클러스터 실험 장비 구축 원 등 부문 별 편성 결과 년도 예산 국회 심사 증액 및 감액 사업 목록',\n",
       " '한강 수계 개 댐 부유 쓰레기 전량 수거 한강 수계 개 댐 부유 쓰레기 전량 수거 한강 수계 팔당댐 등 개 댐 집중호우 부유 쓰레기 총 톤 전량 수거 추가 유입 쓰레기 신속 수거 상수 원 수질 보호 한강유역환경청 청장 홍정기 은 지자체 한국 수자원공사 한국 수력 원자력 등 합동 팔당댐 등 한강 수계 개 댐 유입 부유 쓰레기 총 톤 전량 수거 처리 한강 수계 개 댐 북 한강 남 한강 위치 팔당댐 청평댐 횡성댐 광동댐 소양강댐 의암댐 춘천댐 충주댐 괴산 댐 이 댐 수거 쓰레기 대부분 초목 류 생활 쓰레기 최근 댐 상류 하천 변 이나 등 방치 다가 올해 장마철 집중호우 하천 유입 것 한강유역환경청 비롯 관계 기관 약 예산 투입 배 포크레인 등 각종 청소 장비 인력 동원 부유 쓰레기 신속 처리 댐별 부유 쓰레기 발생 량 팔당댐 톤 충주댐 톤 소양강댐 톤 순이 올해 총 발생 량 톤 은 극심 가뭄 지난해 발생 량 톤 의 약 배 달 한강유역환경청 등 관계 기관 앞 하천 변 등 남아 쓰레기 호우 등 댐 추가 유입 것 예상 퇴적 량 등 현장 여건 고려 신속 수거 계획 또한 쓰레기 댐 유입 원 천적 차단 위 하천 변 쓰레기 수거 작업 가라 수중 쓰레기 수거 작업 추가 적 실시 예정 위해 기존 예산 외 올해 하반기 약 수계 관리 기금 예산 추가 지원 예정 홍정기 한강유역환경청 장 일련 신속 철저 쓰레기 수거 작업 쓰레기 로부터 수질오염 물질 것 차단 수 생태계 건 강성 회복 한강 상수 원 수질 보호 기여 것 댐별 발생 부유 물 처리 량 및 지원 예산 관련 사진 주요 댐 부유 쓰레기 처리 현황 질의 응답 끝',\n",
       " '환경 영향 평가 환경 경제 상생 위 맞춤 형 개선 환경 영향 평가 환경 경제 상생 위 맞춤 형 개선 현장 목소리 반 영하 불합리 규제 정상화 전략 환경 영향 평가 대상 계획 도입 취지 스마트 손질 환경부 장관 윤성규 선진국 수준 환경 경제 상생 수 도록 환경 영향 평가 제도 개선 환경 영향 평 가법 하위 법령 개정안 입법 예고 이번 개정안 산업 현장 소통 불합리 규제 개선 법망 피해 사각 지대 해 소하 등 관리 체계 구축 것 특징 먼저 광물 채취 사업 대한 환경 영향 평가 대상 광구 면적 실제 채광 추진 산지 훼손 적 합리 적 개선 지금 실제 채광 추진 면적 전체 광구 면적 불합리 지적 국방 군사시설 사업 중 군사기지 안 환경 영향 평가 군사기지 밖 시설 평가 대상 포함 법률 사각 지대 따라서 비행장 신설 길이 이상 활주로 건설 그 사업 면적 이상인 시설 환경 영향 평가 대상 포함 공장 산업 용지 안 설 치하 집단 에너지 시설 발전기 이 전기 사업 법 이나 집단 에너지 사업 법 등 추진 근거 법률 평가 대상 규모 달라 문제점 해결 위해 평가 대상 규모 이상 통일 유 연하 개선 전기 사업 법 추진 경우 평가 대상 이상 이나 집단 에너지 사업 법 추진 경우 이상 형평성 문제 발생 엄격 환경 관리 필요 상수 원 보호 구역 주민 의견 수렴 평가 본안 협의 등 동시 진행 약식절차 대상 제외 충분 의견 수렴 과정 등 거치 도록 강화 상수 원 보호 구역 약식절차 제외 대상 악용 평가 절차 진행 사례 방지 위 조치 약식절차 환경 영향 보전 가치 지역 생태 자연도 등급 권역 자연 공원 변 구역 등 이 포함 사업 한해 주민 등 의견 수렴 평가 초안 검토 평가 본안 협의 동시 진행 절차 간소화 함 보전 관리 역 이상 계획 관리 역 이상 등 소규모 환경 영향 평가 전략 환경 영향 평가 환경 영향 평가 등 변경 협의 제도 도 입하 절차 명확 난 개발 예방 그간 소규모 환경 영향 평가 변경 협의 절차 사업자 행정기관 간 혼란 가중 가령 일부 사업자 자연 생태 우수 지역 사업 계획 제외 환경부 협의 후 사업 계획 변 경하 개발 일부 지자체 사업 계획 일부 변경 어도 평가 협의 아야 등 어려움 환경부 전략 환경 영향 평가 대상 계획 도입 취지 스마트 개 선하 정책 신뢰 를 계획 환경 영향 평가 협의 시기 동일 거나 실 행적 성격 일부 전략 환경 영향 평가 계획 비교 적 절차 간단 소규모 환경 영향 평가 전환 사업자 시간 적 경제 적 부담 예정 전략 환경 영향 평가 계획 소규모 환경 영향 평가 전환 어항 시설 기본 계획 체육 시설 사업 계획 골재 채취 예정 지정 도시 관리 계획 중 도시 기반시설 정비 개량 및 지구 단위계 획 도시 관리 계획 중 약 의 비중 차 지하 지구 단위계 획 시설 설치 건축물 배치 관련 실 행적 성격 임 불구 공고 공람 주민 설명 회 등 각종 절차 이행 비용 시간 소요 산업 현장 불편 한편 환경부 환경 영향 평가 의 부실 작성 예방 위해 다각 적 대책 추진 발 주청 하도급 금액 적정 성 여부 등 심 사하 승 인하 도록 절차 신설 위반 경우 제재 근거 이하 징역 만원 이하 벌금 도 마련 저가 하도급 원적 차단 계획 환경부 지난해 환경 영향 평가 대행 용역 하도급 경우 도급 금액 표시 대행 계약서 사본 제출 의무 이번 환경 영향 평 가법 하위 법령 개정안 일간 입법 예고 이후 규제 심사 법제처 심사 등 예정 구 체적 법령 개정안 내용 환경부 누리집 확인 수 환경 영향 평 가법 하위 법령 개정안 주요 내용 질의 응답 전문용어 설명',\n",
       " '환경부 우체국 친환경 배달 장비 보급 추진 까지 전기 이륜차 만대 보급 확대 환경부 과기 정통부 친환경 배달 장비 보급 확대 위 업무 협약 광화문우체국 체결 환경부 장관 김은경 과학기술 정보통신부 장관 유영민 서울 종로구 광화문우체국 친환경 배달 장비 보급 활성화 위 업무 협약 식 개최 양 기관 미세먼지 문제 해결 위 대책 하나로 노후 화 이륜차 친환경 배달 장비 전환 뜻 이하 과학기술 정보통신부 기관 우체국 앞장 도입 합의 우체국 월부 터 시범 사업 통해 안전 사고 예방 위 기술 성 검증 및 현장 집배원 의견 까지 전체 배달 장비 천대 인 만대 친환경 배달 장비 전환 계획 이번 협 약식 친환경 배달 장비 확대 위 양 기관 업무 협약 서명 식 우체국 시범 운영 발대식 예정 부대 행사 친환경 배달 장비 전시 및 퍼레이드 진행 전시 차량 르노 삼성 트위 등 초소 형 전기차 종 그린 모빌리티 발렌시아 등 전기 이륜차 종 구성 이 친환경 배달 장비 청계 광장 전시 양 부처 장관 및 집배원 광화문우체국 주변 승 행사 환경부 부터 전기 이륜차 구매 시 원 구매 보조금 지원 사업 추진 이번 협 약식 계기 전기 이륜차 보급 활성화 계획 그간 이륜차 도로 이동 오염원 중 일산화탄소 휘 발성 유기화합물 등 오염 물질 배출 비중 이 근접 운행 특성 인체 위 해성 제 도적 환경 관리 미흡 실정 었다 이 환경부 전기 이륜차 보급 확대 중요 추진 과제 삼고 지난해 월부 터 관련 전문가 및 이해 관계자 구성 협의 체 구 성하 개선 방안 논의 먼저 전기 이륜차 제작사 자발 적 시장 참여 및 기술 개발 유도 위해 까지 연간 보급 대수 천대 까지 확대 또한 전기 이륜차 차종 성능 보조금 차등 지급 보조금 현실 화 업체 성능 개선 수 도록 환경부 지난해 정부 합동 미세먼지 관리 종합 대책 까지 전기 이륜차 만대 보급 계획 발표 바 전기 이륜차 성능 과거 대폭 개선 초소 형 전기차 전기 이륜차 대한 시장 관심 아지 국내 친환경 배달 장비 보급 대폭 것 예상 초소 형 전기차 전기 이륜차 경우 제작사 중소기업 경우 구매 자도 주로 서민 보급 확대 경우 신규 일자리 창 및 복지 향상 크게 기여 것 김종률 대기 환경 정책 관 최근 미세먼지 문제 대한 관심 아지 면서 전기 이륜차 대한 관심 지고 라며 우체국 등 공공기관 뿐 민간 친환경 배달 장비 널리 보급 수 도록 적극 지원 것 행사 계획 안 환경부 우정 사업 본부 친환경 배달 장비 보급 계획 초 소형 전기차 전기 이륜차 보급 대상 차종 현황 초 소형 전기차 전기 이륜차 보급 실적 끝',\n",
       " '수량 수질 통합 물관 리 민 관 학 목소리 환경부 국토부 통합 물관 리 포럼 서울 스퀘어 그랜드 볼룸 홀 전체 회의 개최 수량 수질 수 생태계 등 분야 별 이해관계자 여 명 참석 수량 수질 등 다양 분야 민 관 학 전문가 통합 물관 리 위 비 전과 청사진 최초 통합 포럼 환경부 장관 김은경 국토교통부 장관 김현미 공동 지속 가능 통합 물관 리 포럼 이하 통합 물 포럼 전체 회의 오후 시부 터 서울 스퀘어 그랜드 볼룸 홀 개최 이번 포럼 현재 분산 관리 수량 수질 등 통합 적 물 관리 위 비 전과 청사진 로드맵 준비 위해 마련 그간 수량 수질 등 분야 별로 논의 방식 수량 수질 분야 전문가 정부 환경부 국토교통부 지자체 시민단체 등 공동 비 전과 청사진 최초 포럼 점 의미 포럼 지난 포럼 위원장 위촉 허재영 위원장 충남 도립대 총장 중심 정부 환경부 국토교통부 학회 수량 및 수질 수 생태계 관련 학회 시민단체 등 추천 총 여명 분야 별 이해관계자 참여 정책 법 제도 한강 금강 낙동강 섬진강 영산강 유역 분과 등 총 개 분과 구성 유역 분과 지역 전문가 시민단체 지자체 환경부 유역 환경청 국토교통부 홍수 통제 소 등 참여 유역 별 상 하류 수리권 물관 부담 금 하구둑 개방 문제 등 지역 물 문제 현안 논의 예정 포럼 올해 까지 약 개월 간 운영 예정 이번 전체 회의 지금 물관 리 현황 개선 방향 등 개 주제 발표 패널 토의 진행 제 발제 제 발제 환경부 국토교통부 부처 별 물관 리 정책 개선 방안 주제 발표 제 발제 충남 발전 연구원 금강 물 사례 발표 제 발제 대구시 대구 물 산업 현황 및 방향 대한 발표 통해 향후 통합 물관 리 물 산업 육성 방안 계 대한 논의 시작 예정 제 발제 포럼 주관 한국 환경 정책 평가 연구원 안종 호 박사 통합 물관 리 포럼 운영 방향 설명 패널 토론 허재영 포럼 위원장 좌 추 태호 부산 교수 김성수 연세대 교수 장석환 대진대 교수 박재현 인재 교수 이상진 충남 연구원 연구 위원 이학영 전남대 교수 등 분과 위원장 김봉재 수자원공사 사업 관리 사 최익훈 한국 환경 공단 물 환경 본부장 참여 앞서 발표 주제 대한 심층 토론 진행 허재영 위원장 수량 및 수질 분야 전문가 통합 물관 리 위 논의 시작 것 의미 것 이 라며 통합 물관 리가 조속 이루 어져 포럼 논의 우리나라 물관 리 정책 발전 도움 바란 고 말 행사 일정 안 질의 응답 끝',\n",
       " '환경 개선 부담 금 납부 편의 도모 감 면대 상 확대 환경 개선 비용 부담 법 과 법 시행 령 개정안 국무회의 의결 경유 차 소유자 부과 환경 개선 부담 금 일시 납부 기간 자동차세 일치 차량 이전 시 납부 증명서 제출 명시 민주화 운동 부 상자 장애인 복지 법 장애 등급 까지 환경 개선 부담 금 면제 환경부 장관 김은경 경유 차 소유자 부과 환경 개선 부담 금 징수 율 높이 감 면대 상 범위 확 대하 환경 개선 비용 부담 법 및 법 시행 령 개정안 국무회의 의결 이번 법률 개정안 환경 개선 부담 금 일시 납부 기간 자동차세 일시 납부 기간 일치 자동차 이전 시 납부 증명서 제 출하 도록 등 연간 약 불과 환경 개선 부담 금 징수 율 리기 위해 법률 정비 차량 환경 개선 부담 금 원 부과 원 징수 징수 율 시행 령 개정안 은 타 세법 감 면대 상 범위 유 사하 대상 확 대하 것 골자 주요 내용 다음 환경 개선 비용 부담 법 일부 개정안 주요 내용 환경 개선 부담 금 납부 편의 도모 환경 개선 부담 금 일시 납부 기간 자동차세 일시 납부 기간 일치 납부 수 도록 또한 부담 금 신용카드 등 납부 수 도록 명시 로써 납부 방식 다양 환경 개선 부담 금 체납 액 관리 위해 법적 근거 강화 체납 처분 수 법적 근거 보완 연대 납부 무 및 제 차 납부 의무 관 규정 마련 청산 법인 회사 등 체납 처분 집행 수 도록 자동차 소유권 이전 시 환경 개선 부담 금 납부 증명서 제 출하 도록 그간 지자체 환경 개선 부담 금 납부 이행 여부 확인 법적 근거 채권 소멸 거나 양도 자 양수 자 간 분쟁 소지 환경 개선 비용 부담 법 시행 령 일부 개정 령안 주요 내용 환경 개선 부담 금 대상 확대 종전 장애인 등급 중 팔 장애 감 면대 상이 다리 장애 제외 등 불합리 점 개 선하 등급 장애인 전부 대상 확대 또한 지난 국민권익위 원 회의 권고 사항 등 반 영하 취득세 자동차세 개별 소비 세 등 각종 제도 일치 도록 광주 민주화 운동 부상 자도 포함 황 계영 환경부 환경 경제정책 관 이번 법률 및 시행 령 개정안 체납 부담 금 징수 율 높이 면서 취약 계층 지원 제도 간의 형평성 제 것 말 환경 개선 비용 부담 법 및 시행 령 개정안 주요 내용 질의 응답 전문용어 설명 끝',\n",
       " '환경부 기관 임금 피크 제 도입 청년 고용 확대 환경부 기관 임금 피크 제 도입 청년 고용 확대 향후 개 기관 명 채용 당초 예상 확대 임금 피크 제 절감 액 활용 환경 분야 청년 취업 해결 도모 환경부 장관 윤성규 한국 환경 공단 등 개 공공기관 임금 피크 제 도입 올해 부터 까지 총 명 채용 예정 개 기관 한국 환경 공단 한국 환경 산업 기술 원 국립생태원 국립공원 관리 공단 수도권매립지 관리 공사 국상 하수도 협회 당초 환경부 공공기관 신규 채용 규모 명 수준 예상 임금 피크 제 도입 통한 인건비 절감 활용 명 이 더 환경부 지난해 정부 임금 피크 제 도입 확정 이후 공공기관 내 공감 형성 기관 별 애로 사항 해 결하 면서 모든 기관 지난해 까지 임금 피크 제 조기 도입 기관 별 임금 피크 제 도입 일자 한국 환경 공단 한국 환경 산업 기술 원 국립생태원 국립공원 관리 공단 수도권매립지 관리 공사 국상 하수도 협회 이로 임금 피크 제 운영 경험 한국 환경 공단 선도 기관 선정 성공사례 공 유하 등 전 기관 확산 계기 마련 국립공원 관리 공단 경우 임금 수준 불구 상생 고용 원금 등 정부 지원 제도 활용 임금 피크 제 도입 결실 또한 한국 환경 산업 기술 원 국립생태원 등 임금 피크 제 도입 과정 어려움 세대 간 상생 위해 노사 간 합의 환경부 기관 내 임금 피크 제 적용 대상자 임금 조정 기간 동안 임금 감액 고통 분담 신규 채용 필요 재원 마련 데 기여 임금 조정 기간 평균 약 임금 지급 률 김종률 환경부 창조 행정 담당 관 임금 피크 제 도입 환경 분야 추가 채용 인력 만큼 지원 예정자 기회 며 해당 기관 별 채용 시기 취업 준비 바란 고 말 환경부 공공기관 임금 피크 제 대상자 상대로 현장 자신 업무 경험 활용 합리 적 보상 수 도록 기관 별 업무 특성 적합 직무 개발 성과 체계 마련 계획 임금 피크 제 의의 및 년도 신규 채용 규모 기관 별 채용 담당자 현황 질의 응답 전문 용어 설명 끝',\n",
       " '국립생태원 생태학 자의 꿈 국립생태원 생태학 자의 꿈 국립생태원 자유 학기 제 생태 진로 교육 프로그램 개발 생태학 자 체험 탐구 활동 자연 놀이 등 구성 국립생태원 원장 최재천 은 생태학 청소년 위해 자유 학기 제 맞춤 형 생태 진로 교육 프로그램 월부 터 본격 적 운영 국립생태원 현재 운영 생태 진로 체험 과 생태 진로 캠프 프로그램 더 불어 자유 학기 제 주제 선택 활동 계 생태 진로 교육 프로그램 생태 교실 까지 신규 개발 생태 교실 프로그램 일선 학교 현장 활용 수 도록 교사 용 지도 학생용 교재 개발 예정 생태 교실 은 생물 종 개체군 생물 군집 생태계 탐구 등 생태학 관련 직업 진로 탐색 프로그램 들풀 도감 만들기 나무 신체검사 생태 직업 카드놀이 생물 종 다양성 보드게임 나뭇가지 자연 놀이 등 학생 주도 탐구 체험 중심 학습 활동 구성 중 국립생태원 누리집 공개 예정 구 체적 상담 문의 국립생태원 교육 운영 부 국립생태원 생 태원 위치 충남 지역 적 특성 활용 충남교육청 국립 양생 물자원 관 서천군 청소년 수련 관 등 지역 유관 기관 공동 운 영하 지역 맞춤 형 생태 진로 체험 프로그램 도 계획 지역 맞춤 형 생태 진로 체험 프로그램 은 생태학 주제 운영 당일 형 생태 진로 체험 숙박 형 육상 해양 생태 탐사 캠프 구성 최재천 국립생태원 장 미래세 주인 청소년 다양 생태 진로 탐색 수 고품 질의 생태 교육 제공 계획 이 라며 생태 적 가치관 형성 생명 사랑 정신 함양 노력 것 말 생태 교육 캠프 사진 질의 응답 전문용어 설명 끝',\n",
       " '깨끗 안전 올림픽 물 공급 평창 식수 전용 댐 완공 평창동계올림픽 및 패럴림픽 대회 기간 중 식수 공급 명 예상 안정 적 생활 용수 공급 위 식수 전용 댐 완공 친환경 올림픽 기조 흙 자갈 등 천연 재료 활용 필댐 건설 올림픽 이후 대관령면 등 인근 물 부족 지역 용수 공급 환경부 한국 환경 공단 이사장 전병성 은 평창동계올림픽 급수 체계 구축 사업 시설 공사 이하 평창 식수 전용 댐 구축 사업 를 완료 본격 적 운영 어간 고 이번 평창 식수 전용 댐 구축 사업 평창동계올림픽 대회 및 동계 패럴림픽 참가 선수단 대회 관계자 관광객 등 명 안 정적 식수 제공 위 것 평창군 대관령면 저수 용량 톤 규모 식수 전용 댐 시설 용량 일 규모 정 수장 구성 도수 관로 송수관 를 설 치하 등 올림픽선수 촌 알펜시아 리조트 일대 상수도 시설 확충 평창 식수 전용 댐 길이 높이 유역 면적 일 공급 능력 일 생활 용수 일 하천 유지 용수 일 평창 식수 전용 댐 수자원 풍부 송천 상류 삼양 목장 내 총사 업비 원 국비 원 투입 착공 개월 시설 공사 완료 일부 터 담수 시작 담수 부터 시작 날씨 및 계절 적 여건 등 고려 봄철 까지 계속 예정 올림픽 조직 위 등 평창동계올림픽 기간 일간 급수 인구 일 평균 약 명 추산 기존 대관령 정수 장 시설 용량 일 준공 은 취 수원 부족 상수 관로 및 시설 오래 이번 평창 식수 전용 댐 건설 추진 평창 식수 전용 댐 친환경 올림픽 기조 콘크리트 등 인공 재료 최대한 배제 흙 모래 자갈 암석 등 천연 재료 토 흙댐 필댐 형태 추진 환 경적 영향 최소 필댐 토질 재료 모래 자갈 암석 등 댐 총칭 경 제적 건설 수 견고 기초 반 필요 장점 전체 토용 토사 중 해 당하 를 댐 건설 위 수 지역 채취 점토 등 부족 토 재는 인근 경작지 내 구 산림 훼손 방 지하 중점 수 지역 내 수목 그루 구실 바위취 노랑 무늬 붓꽃 등 희귀 식물 댐 상류 미수 지역 대체 조림 를 조성 신 설정 수장 에너지 소비 최소 도록 고저 대관령 지형 적 특성 고려 가압 방식 대신 자 연적 물이 방식 자연 유하 도 입하 취 송수 펌프 원수 정수 공급 도록 설계 고도 현황 식수 전용 댐 표고 정수 장 표고 대회 관련 시설 표고 에너지 절감 온실가스 감쇄 추정량 연간 톤 전력 절 감량 연간 전망 평창동계올림픽 패럴림픽 이후 기존 대관령 정수 장 폐쇄되 설치 평창 식수 전용 댐 정 수장 종전 공급 지역 대관령면 중 물이 부족 지역 인근 진 부정 수장 식수 공급 알펜시아 지역 등 식수 공급 예정 전병성 한국 환경 공단 이사장 친환경 올림픽 이번 평창동계올림픽 평창 식수 전용 댐 통해 맑은 물 공급 수 며 전 세계 이목 집중 만큼 대회 때 까지 안전 물 공급 도록 최선 말 평창동계올림픽 급수 체계 구축 사업 개요 시설 물 조감도 전문용어 설명 질의 응답 끝',\n",
       " '이낙연 총리 가뭄 추가 대책 추진 전국 적 가뭄 피해 확대 방지 총력 이낙연 총리 첫 국정 현안 점검 회의 개최 가뭄 추가 대책 추진 전국 적 가뭄 피해 확대 방지 총력 용수원 추가 개발 및 가뭄 지속 대비 수계 연결 추진 보령 댐 비상 용수 공급 확대 대산 임해 산단 대체 공급 확대 강릉 동해 등 개 지역 비상 급수 및 지방 상수도 현대 화 추진 이낙연 국무총리 목 오전 정부 서울 청사 개 부처 장 차관 등 참석 가운데 첫 국정 현안 점검 조정 회의 약칭 현안 조정 회의 를 주재 참석자 국무총리 주재 기재 교육 미래 국방 행자 문체 농 식품 산업 복지 환경 고용 국토 해수 안전 처 장 차관 권익위 원장 대통령비서실 정무수석 국조 실장 국무 차장 국무총리비서실장 날 회의 가뭄 대한 대응 상황 추가 대책 집중 점검 그 주요 내용 다음 올해 누적 강수량 로 평년 불과 현재 경기 충남 전남 지역 중심 가뭄 발생 당분간 가뭄 지속 것 예상 정부 최악 상황 대비 가뭄 대책 추가 발굴 가뭄 극복 총력 대응 농업 용수 대책 농업 용 저수지 저수 율 로 평년 수준 모내기 마무리 상태 이나 모내기 이후 경기 충남 전남 등 일 부지역 물 부족 마름 현상 발생 밭 작물 등 생육 저조 현상 나타 고 까지 강수량 평년 적 경우 가뭄 피해 확산 우려 이 정부 가뭄 발생 역 물 공급 위 긴급 급수 대책 추진 중이 가뭄 확산 대비 추가 대책 마련 추진 계획 그동안 가뭄 대책 비 특별 교부 세 지방 비 등 투 입하 물 부족 지역 관정 개발 공 간이 양수 시설 설치 하천 굴착 저수지 준설 등 긴급 급수 대책 추진 앞 가뭄 확산 것 대비 관정 간이 양수 시설 등 용수원 개발 위해 가용 재원 활용 추가 지원 강 구한 저수 율 시기 활용 저수지 준설 통해 용수 저수 능력 확 대하 향후 가뭄 대비 계획 준설 대상 조사 추가 준설 실시 계획 또한 물이 풍부 담수호 하천 등 부족 지역 수계 연 결하 긴급 급수 대책 추진 계획 당초 연말 완료 예정 공주보 예 당지 도수 공사 말 까지 추진 일 예정 충남 서부 지역 대해 석 문호 대호 호로 일 공급 추가 급수 일 를 위 양수 시설 설치 월말 까지 마무리 계획 아산호 안성 금광 마 저수지 까지 물 공급 사업 현재 단계 일부 터 평택 지역 유천 집수 암거 급수 중이 초 까지 완료 예정 충남 전북 등 간척지 벼 이 논의 경우 물 대기 실시 예비 못자리 급수 차 등 석수 공급 지역 대해 콩 팥 등 대체 작물 유도 계획 대체 작물 지원 위 정부 보급 콩 종자 확보 톤 가능 대체 작물 판로 확보 위해 콩 수 매물 량 확대 및 논 콩 별도 매 또한 가뭄 피해 농민 지원 위해 벼 농작물 재해 보험 가입 기간 까지 연장 보험 가입 확대 위해 홍보 강화 예정 농협 등 군 관 민 총동원 가뭄 지역 일손 돕기 추진 계획 매년 반복 가뭄 본적 대처 위해 항구 대책 속도 낼 계획 그동안 추진 저수지 신설 등 기존 농촌 용수 개발 사업 단위 농업 개발 사업 영산강 지구 은 완공 위주 집중 투 자하 등 속도 감 추진 계획 소요 예산 추가 확보 예정 저수지 양수장 등 수리시설 확대 위 농촌 용수 개발 지구 은 완공 위주 집중 투자 지구 준공 올해 가뭄 전남 무안 해제면 신안 지도읍 지역 영농 급수 위해 사업 추진 추진 한편 경기 남부 및 충남 서북 부 항구 대책 수자원 여유 아산호 삽 교호 대호 호 안성 금광 마 저수지 수계 연결 조속 추진 계획 현재 임시 양수장 및 송수 시설 설 치하 긴급 물 부족 지역 공급 가뭄 완화 내년 영농 급수 향후 본적 대책 요구 조사 설계 금년 확보 방안 추진 관련 공 사비 예산 최대한 확보 계획 중장 기적 기후변화 상습 물 부족 지역 작 목선 택 급수 체계 재배 방식 변경 등 종합 적 검토 계획 효율 적 물 관리 위해 재배 방식 다각 화 이 무논 건답 직파 물 관리 개선 관행 간단 관개 등 물 절약 농법 확산 한편 쌀 생산 조정제 도입 계 논 타작 물 재배 확대 가뭄 염 벼 품종 개발 추진 계획 공업 댐 용수 대책 전국 다목적댐 저수 율 은 평년 의 수준 댐 간 계 운영 및 실수 요량 공급 위주 운영 통해 말 까지 비 오지 더라도 전국 다목적댐 용수 공급 차질 전망 다만 보령 댐 저수 율 은 평년 의 수준 불과 경계 단계 관리 중이 도수 가동 급수 체계 조정 등 대책 시행 계속 비 오지 경우 다목적댐 저수 율 저하 우려 보령 댐 심각 단계 도달 가능성 따라서 모든 댐 꼭 필요 수량 공급 용수 최대한 비축 관심 단계 관리 중인 소양강 충주댐 용수 공급 문제 범위 내 댐 방류 량 조정 검토 예정 또한 보령 댐 최악 상황 대비 추가 대책 마련 대응 도수 일 최대 공급 량 상향 급수 체계 조정 일 공급 량 확대 등 검토 추진 계획 또한 댐 용수 수급 상황 및 전망 관계 기관 철저 공유 가뭄 상황 지속 대비 관계 기관 협의 물 절약 홍보 등 적극 실시 보령 댐 제한 급수 대비 관계 기관 협의 통해 지자체 별 제한 급수 시행 방안 마련 예정 한국 수자원공사 보유 급 수차 병물 즉시 지원 수 도록 준비 최근 지속 적 강수량 부족 충남 부지역 대해 대청 단계 광역 상수도 사업 충남 서부 권 광역 상수도 사업 및 대산 산업 단지 해수담수화 사업 등 중장 기 대책 적극 추진 앞 물 부족 대응 생활 용수 대책 전국 개 취 수장 국민 급수 중 개소 이상 용수 공급 가능 하나 강원 강릉시 등 개 지역 가뭄 지속 경우 이후 용수 공급 제한 우려 용수 공급 제한 예상 시점 무 강우 시 강릉시 월초 동해시 월말 속초시 중순 영광군 중순 공주시 월초 소규모 수도 시설 마을 상수도 소규모 급수 시설 개인 관정 등 의존 도서 및 산간 일 부지역 현재 비상 급수 실시 도 서지역 인천 소연평도 등 개 도서 명 운반 급수 및 병 입수 공급 내륙 지역 경기 광주시 등 명 제한 급수 및 운반 급수 시행 환경부 가뭄 상황 대응 위해 일부 터 생활 용수 가뭄 상황 반 운영 취 수원 저수 율 및 비상 급수 상황 등 일일 단위 모니터링 지방 상수도 취 수원 저수 율 생활 용수 공급 제한 우려 개 지역 대해 지하수 관정 개발 운반 급수 및 인근 정수 장 등 비상 계 등 대책 추진 또한 가뭄 발생 지역 대해 인근 지자체 및 한국 수자원공사 등 협조 병물 및 예비 급수 차 지원 등 비상 급수 대책 지속 추진 예정 항구 적 가뭄 대책 유수 율 고 위 지방 상수도 현대 화사 업 투입 수처리 수 재 이용 확대 목표 년 농어촌 지역 지방 상수도 확충 개 마을 등 추진 계획 가뭄 대응 지원 대책 국민 안전 처 용수원 개발 저수지 준설 등 지원 특별 교부 세 조기 집행 위해 지자체 독려 및 현장 관리 강화 또한 민간 단체 등 보유 중인 자재 장비 필요시 신속 지원 수 도록 민관 협조 체계 를 구축 계획 대한 건설 협회 지하수 지열 협회 한국 레미콘 공업 협회 전력 공사 등 정부 국무조정실 통합 물관 리 상황 반 과 국민 안전 처 관계 부처 합동 가뭄 대책 를 통해 가뭄 실태 및 대책 점검 가뭄 피해 확산 시 특별 교부 세 등 추가 지원 적극 검토 계획',\n",
       " '세계 전문가 머리 온실가스 줄 이기 지혜 파리 협정 감축 목표 이행 방안 및 탄소 시장 활용 계획 논의 위해 서울 더 플라자 호텔 컨퍼런스 개최 영국 독일 일본 등 개국 최신 동향 및 전문가 토의 환경부 소속 온실가스 종합 정보 센터 이하 센터 오후 시부 터 서울 중구 더 플라자 호텔 국제 온실가스 컨퍼런스 를 개최 이번 컨퍼런스 센터 출범 행사 하나로 개최 지난 온실가스 감축 효과 분석 탄소 시장 전망 등 전 세계 온실가스 감축 동향 매년 공유 올해 컨퍼런스 파리 협정 이후 각국 결정 감축 기여분 이하 이행 준비 주제 열 린다 김영훈 환경부 기후변화 정책 관 국내외 이행 계획 및 탄소 시장 전문가 명 등 약 여 명 참석 각국 결정 기여 로 파리 협정 아래 국가 온실가스 감축 목표 의미 이번 컨퍼런스 파리 협정 시행 선 제적 세부 추진 계획 수립 주요 국 감축 방안 모범 사례 등 최신 정보 공 유하 시간 첫 세션 함훈 모하 마드 몰디브 환경 에너지부 담당 관 데이비드 마키 영국 대사관 팀 강 부영 환경부 기후 전략 사무관 등 개국 담당자 파리 협정 이행 계획 수립 동향 대해 발표 토론 몰디브 지구 온난화 피해 국가 기후변화 적응 정책 필요 섬나라 몰디브 온실가스 배출 전망 치 이하 대비 감축 목표 수립 세부 감축 이행 계획 준비 상황 발표 기후변화 완화 정책 가장 선진 적 국가 평가 영국 대비 온실가스 감축 목표 수립 뒤 추진 중인 탄소 예산 정책 발전 수송 등 부문 별 감축 정책 소개 우리나라 대비 감축 목표 이행 전략 소개 정부 기후 대기 에너지 정책 기조 지난해 부터 추진 중인 온실가스 감축 로드맵 작성 경과 공유 두 세션 과 진달 싱가포르 에너지 연구원 마틴 카 메스 독일 코 연구소 연구원 유코 코미 일본 해외 환경 협력 센터 선임 연구원 등 달성 위 탄소 시장 활용 계획 과 관련 발표 토론 예정 싱가포르 국내총생산 량 원단 위 온실가스 배출 량 총 대비 의 온실가스 감축 목표 수립 부터 시행 예정 탄소세 준비 동향 소개 독일 유럽연합 비롯 전 세계 기후변화 완화 논의 어가 강도 국가 목표 수립 독일 대비 온실가스 감축 위 탄소 시장 활용 계획 설명 일본 대비 의 온실가스 감축 목표 수립 해외 감축 사업 추진 통한 추가 감축 방안 그간 개도국 중심 추진 사업 성공사례 및 한계 점 발표 김병훈 온실가스 종합 정보 센터 기획 총괄 팀 앞 남지 파리 협정 시행 전 세계 각국 국가 감축 목표 성 공적 달성 위 세부 이행 방안 시급 마련 중 라며 이번 컨퍼런스 부문 별 감축 정책 및 수단 탄소 시장 활용 등 실 질적 온실가스 감축 방안 대한 국제 적 논의 흐름 파악 현황 비 교하 데 도움 것 컨퍼런스 프로그램 컨퍼런스 연사 및 토론자 정보 컨퍼런스 추진 경과 질의 응답 끝',\n",
       " '지구 얼 지구 날 제 기후변화 주간 운영 환경부 지구 날 기념 일부 터 까지 온실가스 감 저 탄소 생활 확산 위 기후변화 주간 운영 온 오프라인 캠페인 토크 콘서트 길 거리공연 등 다양 국민 참여 형 프로그램 기후변화 대한 국 민인식 제 환경부 장관 김은경 지구 날 일부 터 까지 제 기후변화 주간 운영 이번 기후변화 주간 기후변화 대한 인식 높이 저 탄소 생활 실천 확산 위해 국민 참여 수 채 행사 전 국적 올해 인스타그램 페이스북 등 사회 관계 망 서비스 이하 를 통해 관심 사람 면 누구 시간 장소 관계 참여 수 지구 날 이란 의미 얼 데이 캠페인 온라인 일부 터 환경 날인 까지 인스타그램 이나 페이스북 등 를 통해 참여 수 친환경 생활 실천 노하우 설명 거나 실천 모습 보 여준 후 나 환경 사람 얼 말 탈춤 등 응용 동작 취하 영상 친환경 생활 실천 모습 이나 얼 란 추임새 춤 동작 사진 친환경 생활 관련 실천 노하우 다짐 글 등 게시 수도 다만 지인 이나 관심 국민 검색 수 도록 데이 지구 날 기후변화 친환경 등 해시태그 이번 캠페인 환경부 전 현직 장차 관 직원 비롯 비로소 보이 것 의 저자 혜민스님 가수 바다 솔비 군조 국악인 송소희 남상일 개그맨 김인석 정재승 카이스트 교수 등 참여 예정 유명인 참여 영상 일부 터 환경부 누리집 블로그 통해 확인 수 얼 데이 지구 날 기후변화 친환경 등 검색어 도 수 얼 데이 캠페인 오프라인 전국 개 지역 참여 가능 인천 종합 터미널 오후 대전 역 오전 부산 해운대 이벤트 광장 창원 가로수길 제주 용머리 해안 이상 오전 광주 금남로 정오 서울역 오전 등 진행 참가자 진행 요원 안내 현장 준비 친환경 생활용품 활용 친환경 생활 실천 대한 포즈 영상 이나 사진 촬영 후 자신 직접 현장 참가자 소정 친환경 생활용품 기념품 제공 이 캠페인 릴레이 형식 진행 참가자 게시 물 때 다음 참가 대상 직접 지목 수도 환경부 참가자 중 를 명 선정 도서 상품권 증정 예정 기후변화 주제 전문가 청소년 청년 주부 등 생각 토론 장도 마련 기후변화 센터 참여 토크 콘서트 광주 오후 서강고 서울 오후 홍대 롤링 홀 대전 오전 믹 스페이스 믹스 홀 등 곳 열 린다 광주 걸그룹 레인보우 지숙 사회 김성중 극지 연구소 책임 연구원 통 환경 생태 이야기 의 저자 최원형 불교 생태 콘텐츠 연구소 소장 지구온난화 실상 미래세 대로 의 저 탄소 생활 이란 주제 청소년 소통 기후변화 시대 청년 역할 기회 를 주제 서울 토크 콘서트 안병옥 환경부 차관 조홍 섭 한겨레신문 환경 전문 기자 이경재 대지 위 바느질 대표 김정태 엠와이 소셜 컴퍼니 대표 등 참여 이영애 인천대학교 소비자 아동 학과 교수 원동 민 웹툰작가 선미 자 요리 연구 등 대전 친환경 소비 건강 지구 란 주제 주 부들 만날 예정 자세 안내 환경부 블로그 자연 움 확인 수 온라인 참가 신청 가능 주말 동안 바닷가 이 대상 노래 토크 기후변화 길 거리공연 버스킹 진행 오후 부산 해운대 이벤트 광장 장미여관 오후 강릉 안목 해변 아메리카 카페 커피소년 노래 기후변화 대한 대화 팬 예정 인터넷 방송 아프리카 비제 오후 분부 터 기후변화 친환경 생활 주제 한시 간 동안 특별 생방송 진행 비제 의 약자 인터넷 개인 방송 사람 의미 에너지 절약 대한 인식 환기 위 소등 행사 지구 날 당일 오후 시부 터 분간 기업 가정 상가 공공 건물 등 대상 전 국적 전개 서울 잠실 롯데 월드 경관 조명 부산 광안대교 경남 고성 해지 개 다리 울산 태화 루 등 지역 유명 건축물 참여 예정 참여 희망 곳 해당 시간 자발 적 소등 다만 일요일 점 고려 세종 대전 서울 등 정부 종합 청사 오후 소등 행사 진행 전국 각지 지자체 민간 단체 공공기관 등 주 도하 행사 양하 열 린다 기후변화 취약 계층 위 쿨 루프 사업 준공 식이 부산 범천 호 마을 개최 한국 기후 환경 네트워크 지자체 공동 자원봉사자 참여 가운데 월부 터 폭염 대비 가구 옥상 차열 페인트 도색 서울시 서울 광장 지구 날 기념 시민 실천 행사 연 환경 단체 별 부스 운영 지구 날 메시지 낭독 미세먼지 관련 퍼포먼스 등 진행 예정 경기도 양평동 초등학교 탄소 배출 생활 체험 정글 법칙 에너지 제로 캠프 를 연 날 제주도 용머리 해안 일대 지구온난화 체험 행사 환경 정화 활동 강원도 원주시 행 구수 변 공원 환경 퀴즈 대회 태양광 자동차 경주대 회 등 진행 지구 사랑 행사 개최 김영훈 환경부 기후변화 정책 관 올해 행사 국민 참여 수 도록 기획 며 기후변화 주간 통해 지구 다시 번 생 각하 계기 말 제 기후변화 주간 주요 행사 세부 계획 지역별 기후변화 주간 주요 행사 계획 질의 응답 용어 설명 끝',\n",
       " '황금 연휴 국립공원 전국 국립공원 문화 행사 운영 국립공원 매력 국립공원 힐링 로드 걷기 대회 개최 환경부 국립공원 관리 공단 이사장 박보환 은 일부 터 까지 국립공원 주간 정 문화 공연 전시회 특산 물 장터 국립공원 홍보 부스 생태관광 등 개 분야 여 개 탐방 서비스 제공 국립공원 주간 공단 설립 주년 국립공원 제도 지정 주년 기념 국내 관광 진흥 도움 주기 위해 특별 기획 행사 이번 주간 행사 전국 곳곳 국립공원 대표 수 장소 다양 콘텐츠 활용 프로그램 마련 지리산 달궁 야영장 태주 숲 속 음악회 계룡산 수통 골 일대 자연 문화 마당 전통 마당 태백산 임동창 토크 콘서트 경주 역사 문화 생태관광 프로그램 달빛 기행 등 예정 태주 오키 리나 연주가 대표 곡 물놀이 걸 어서 세 계속 임동창 피아니스트 겸 작곡가 건의 풍류 시리즈 엘범 선 보임 주간 행사 기간 동안 국립공원 구석구석 매력 재발 견할 수 국립공원 힐링 로드 걷기 대회 열 린다 국립공원 힐링 로드 국립공원 탐방 중 가장 감 성적 길 구성 계곡 길 문화 길 산책길 숲길 하늘 길 해안 길 등 총 개 주제 개 구간 선정 속리산 세조 길 변산반도 적벽 노을길 등 총 개 구간 손숙 전 환경부 장관 등 명사 초청 길 국립공원 아름 다운 자연 소통 공감 수 도록 기획 국립공원 힐링 로드 구간 별 체크 포인트 나 힐링 로드 기념 사진 촬영 참가 기념품 증정 등 채 프로그램 운영 예정 참가 방법 해당 국립공원 사무소 전화 현장 신청 통해 접수 김영 국립공원 관리 공단 탐방 복지 처 방문객 황금 연휴 기간 국립공원 주간 행사 참여 아름 다운 국립공원 화창 봄날 만끽 자연 보기 기대 고 말 국립공원 주간 세부 행사 계획 국립공원 힐링 로드 선 리스트 국립공원 힐링 로드 걷기 대회 구간 개요 관련 사진 질의 응답 끝',\n",
       " '부산 스마트 에코 델타 시티 국민 한국 수자원공사 일부 터 부산 스마트 에코 델타 시티 적용 신기 술 등 국민 아이디어 수렴 스마트 시티 번가 운영 시민 기업 학계 다양 의견 연말 기본 계획 담 계획 환경부 한국 수자원공사 사장 이학수 스마트 시티 국가 시범 시로 조성 부산 스마트 에코 델타 시티 국민 다양 의견 참신 아이디어 반영 위 소통 플랫폼 스마트 시티 번가 를 일부 터 운영 스마트 시티 사물인터넷 인공 지능 등 차 산업혁명 핵심 기술 물 환경 교통 안전 에너지 생활 등 적용 도시문제 해결 시민 안전 편 의성 대화 도시 소통 플랫폼 다수 의견 수렴 수 도록 구축 시스템 이나 환경 스마트 시티 번가 시민 직접 도시 부산 스마트 에코 델타 시티 기본 구상 아래 도시 계획 부터 조성 운영 관리 전 과정 시민 기업 학계 등 민간 직접 참여 수 온 오프라인 소통 플랫폼 의미 한국 수자원공사 공식 누리집 과 오프라인 체험 행사 통해 스마트 시티 번가 를 운영 계획 먼저 온라인 공식 누리집 일부 터 까지 부산 스마트 에코 델타 시티 도입 희망 생활 편의 서비스 혁신 기술 대한 시민 아이디어 민간 기업 사업 제안 학계 연구 제안 등 공모 공모 분야 시민 아이디어 민간 기업 사업 제안 연구개발 실증 기회 테스트 베드 제안 오프라인 일부 터 까지 부산광역시 해운대구 구 문화 광장 스마트 시티 번가 체험 관 운영 가상현실 과 증강현실 등 통해 가상공간 상상 현실 도시 스마트 시티 를 직접 체험 기회 제공 부산 스마트 에코 델타 시티 바 시민 의견 수렴 한국 수자원공사 추후 사업 예 정지인 강서구 체험 관 운영 계획 스마트 시티 번가 로 수렴 아이디어 제안 일반인 전문가 구성 심 사단 심사 올해 연말 까지 수립 예정 부산 스마트 에코 델타 시티 기본 계획 마스터 플랜 반영 계획 이 더 불어 한국 수자원공사 스마트 시티 번가 개시 시부 터 부산광역시 해운대구 노보텔 앰 배서 더 호텔 스마트 시티 적용 차 산업혁명 혁신 기술 등 보유 전문 기관 기업 업무 협약 식 및 민간 기업 간담 회 개최 날 업무 협약 한국 수자원공사 저 영향 개발 차원 프린팅 등 부산 스마트 에코 델타 시티 적용 개 분야 기술 보유 개 전문 기관 및 새싹 기업 체결 스마트 저 영향 개발 리빙랩 부산대학교 프린팅 한국 건설 기술 연구원 정보통신기술 기반 공공 서비스 한국 정보화 진흥 원 기상 미세먼지 한국 환경 산업 기술 원 한국 기상 산업 기술 원 부산광역시 보건 환경 연구원 물 특화 기술 더 웨이브 톡 스마프 필드 솔루션 에이 런 협약 식이 스마트 시티 관련 여 개 중소 벤처기업 대기업 관계자 여 명 참석 가운데 스마트 시티 민간 기업 참여 방안 논의 위 간담 회 열 린다 간담 회 김갑 성 스마트 시티 특별 위원회 위원장 유재수 부산광역시 경제 부시장 등 강연 자로 참석 예정 한국 수자원공사 스마트 시티 번가 기존 공공 주도 도시 개발 실제 도시 거주 시민 기업 등 도시 조성 모든 과정 참여 도시 모범 사례 것 기대 이학수 한국 수자원공사 사장 스마트 시티 번가 부산 스마트 에코 델타 시티 국민 첫걸음 이 라며 국가 전략 프로젝트 자 미래 도시 첫 실증 모델 데 국민 여러분 관심 참여 부탁 드 린다 말 부산 스마트 에코 델타 시티 올해 대통령 직속 차 산업혁명 위원회 스마트 시티 국가 시범 시로 선정 내년 부산 강서구 물 머리 지역 중심 부지 조성 시작 하반기 부터 시작 계획 스마트 시티 번가 운영 계획 업무 협약 식 및 민간 기업 간담 회 행사 계획 스마트 시티 번가 누리집 화면 및 기업 간담 회 포스터 부산 스마트 에코 델타 시티 조감도 전문용어 설명 끝',\n",
       " '중학생 전 알 아야 환경상 식 도서 간 미세먼지 층간소음 등 환경문제 탄소 포인트 제 등 환경 정보 가지 이야기 수록 주제 관련 인물 사건 등 환경상 식 전달 환경부 한국 환경 공단 이사장 전병성 은 환경 교육 도서 중학생 전 꼭 알 아야 환경상 식 가지 이하 환경상 식 가지 를 최근 발간 환경상 식 가지 석면 미세먼지 층간소음 등 생활 속 환경문제 비롯 탄소 포인트 및 분리 배출 표시 제도 등 주요 환경 정보 가지 초등학생 수준 전달 책 크게 거리 생 각거리 활동 거리 등 가지 구성 거리 환경상 식 정보 생 각거리 를 통해 주제 별로 용어 개념 내용 정리 활동 거리 를 통해 그림 그리기 십자말 퍼즐 빙고게임 등 오락 적 요소 내용 복습 수 도록 책 주제 관련 인물 사건 배경 등 수록 학생 환경 관련 역사 상식 부하 수 도록 라돈 이야기 퀴리부인 라듐 소녀 층간소음 이야기 고대 로마 주상 복합 아파트 불리 인 술라 석면 이야기 동방견문록 작가 마르코 폴로 원나라 황제 쿠빌라이 등장 흥미 더 동방견문록 돌 불 천 석면 이야기 환경상 식 가지 인천 지역 환경 특성 화 초등학교 곳 책자 우선 배포 전국 시 도 교육청 및 환경 교육 포털사이트 그림 파일 형태 일부 터 게재 또한 한국 환경 공단 누리집 공단 홍보 자료 게시판 날 게재 누구 무료 수 전병성 한국 환경 공단 이사장 환경 교육 발간 미래세 위 환경 교육 지원 한국 환경 공단 책임 의무 라며 미래 어린이 환경상 식이 아지 생활 속 실 천하 어린이 날수 록 우리 환경 더욱 것 말 환경상 식 가지 도서 표지 환경상 식 가지 도서 목차 질의 응답 끝',\n",
       " '푸른 하늘 날 기념 행사 서울숲 가족 마당 개최 수도권대기환경청 서울숲 가족 마당 푸른 하늘 날 기념 하늘 사랑 그림 및 글짓기 대회 개최 세부 터 세 까지 아동 청소년 참가 우수 창작물 선정 상장 및 장학금 혜택 부여 재활용 공작 소 등 각종 부대 행사 환경부 소속 수도권대기환경청 청장 김상훈 은 서울 성동구 서울숲 가족 마당 오전 시부 터 오후 까지 푸른 하늘 날 기념 행사 개최 이번 행사 맑은 공기 모금 푸른 하늘 아름 표어 아래 하늘 사랑 그림 및 글짓기 대회 를 중심 각종 체험 및 전시 공연 열 린다 수도권대기환경청 맑은 공기 푸른 하늘 알리 대기 환경 개선 위 실천 의식 향상 위해 부터 푸른 하늘 날 로 지정 매년 기념일 이전 휴일 기념 행사 인디밴드 비보이 공연 막 여 올해 푸른 하늘 날 기념 수도권 하늘 푸른 하늘 돌 리자 메시지 퍼포먼스 중심 이 날 기념 식 이준 목 소 아트 센터 대표 박경희 작가 비롯 시민 명 참석 예정 김혜선 전 기상캐스터 사회 기념 식 이후 하늘 사랑 그림 및 글짓기 대회 열 린다 참가 자격 세부 터 세 까지 아동 및 청소년 그림 글짓기 시 수필 두 가지 부문 진행 대회 주제 맑은 공기 푸른 하늘 가비 무료 대회 개최 앞서 행사 누리집 통해 사전 참가 신청 접수 행사 당일 현장 접수 수도권대기환경청 대상 명 금 명 등 대회 수상자 명 원 상당 장학금 상장 수여 계획 수상 작품 향후 환경 취약 계층 위 재능 나눔 차원 자원 등 활용 예정 대회 행사 재활용 공작 소 대기 환경보호 젠 페이 스페인 팅 전통 놀이 자생 생물 세밀화 전시회 등 가족 단위 수 각종 체험 행사 볼거리 제공 김상훈 수도권대기환경청 장 이번 행사 미래 환경 주체 이자 희망 아동 청소년 더 맑은 공기 더 살기 환경 고자 생각 일 시민 수도권 대기 환경 개선 자발 적 동참 계기 기대 고 말 행사 포스터 행사 개요 질의 응답 전문용어 설명 끝',\n",
       " '원시 자연 생태 간직 지리산 선 계곡 개방 선 계곡 탐방 예약 가이드 제 일부 터 선착순 예약 접수 일부 터 까지 국립공원 탐방 가이드 탐방 가능 환경부 국립공원 관리 공단 이사장 권 업 은 일부 터 까지 지리산 국립공원 선 계곡 특별 보호 구역 탐방 예약 가이드 제 를 통해 개방 선 계곡 울창 숲 수려 계곡 경관 아름 다운 곳 반달가슴곰 등 멸종위기 야생 생물 서식 보존 가치 매우 곳 국립공원 관리 공단 자연휴식년제 도입 부터 선 계곡 출입 통제 계곡 일대 비 천왕봉 를 국립공원 특별 보호 구역 지정 태고 자연 생태계 보존 올해 운영 맞이 선 계곡 탐방 예약 가이드 제 국립공원 관리 공단 소속 탐방 안내 자 가이드 선 계곡 원시 자연 생태 탐방 프로그램 상반기 과 하반기 의 월요일 토요일 하루 명 정원 운영 안전 위해 사전 여행자 보험 가입 참여 수 월요일 라가 기 프로그램 추 주차장 천왕봉 토요일 오기 프로그램 추 주차장 층 폭포 추 주차장 왕복 운영 선 계곡 탐방 예약 예약 통합 시스템 일부 터 선착순 일부 터 사이 프로그램 예약 나머지 기간 프로그램 예약 이용 과 이용 이용 부터 신용 석 국립공원 관리 공단 지리산 국립공원 사무소 장 선 계곡 탐방 를 모든 지역 특별 보호 구역 지정 라며 지리산 생태 가치 뒤 후손 수 도록 탐방 예약 제 운영 적극 협조 해주 길 바란 말 국립공원 관리 공단 탐방 객 이용 과밀 자연 훼손 방지 탐방 객 안전 위해 지리산 선 계곡 외 지리산 노고단 북한 산 우이령길 등 개 공원 개 코스 대해 탐방 예약 제 시행 자세 사항 국립공원 예약 통합 시스템 확인 수 선 계곡 탐방 예약 구간 현황 사진 국립공원 탐방 예약 제 운영 현황 질의 응답 끝',\n",
       " '우리나라 자생 종 수련 각시 수련 꼬마 수련 확인 우리나라 자생 종 수련 각시 수련 꼬마 수련 확인 국립생물자원관 유전자 분석 결과 자생 종 수련 기존 멸종위기종 각시 수련 꼬마 수련 확인 자생 종 수련 은 우리나라 발견 원예 종인 미국 수련 이 주로 자생 종 각시 수련 꼬마 수련 보급 위 연구 착수 국립생물자원관 관장 백운석 은 원효 식 대구대 교수 팀 부터 수련 속 식물 대한 종합 적 연구 수행 결과 우리나라 자생 종 수련 멸종위기종 야생 생물 급 각시 수련 꼬마 수련 확인 수련 속 식물 연못 등 담수 습지 자라 여러해살이 수초 말 통상 꽃 피고 전세계 여종 종 꽃 아름 워 조경 용이 원 예종 보급 연 구진 우리나라 전역 개 지점 서식 수련 속 식물 조사 개 지점 집단 대해 유전자 분석 실시 이중 강원도 고성 경남 거창 전남 순천 확보 개체 각시 수련 꽃 잎 크기 꼬마 수련 확인 꼬마 수련 겉모습 유전자 염기서열 각시 수련 유 사하 꽃잎 장 안팎 줄 배열 늘 어선 모습 잎 길이 로 이하 각시 수련 편이 각시 수련 지난 멸종위기 야생 생물 급 지정 강원도 고성 등 극히 일부 분포 우리나라 고유종 연 구진 일본 도쿄대 교토대 소장 일제강점기 당시 표본 조사 결과 각시 수련 꼬마 수련 세기 초 까지 서울시 노원구 태릉 전북 전주시 부산 온천장 일대 등 전국 각지 분포 것 보고 또한 이번 연구 결과 그간 학계 우리나라 자생 종 수련 이 발견 것 나타 이번 연구 조사 수련 서식지 중 인 개 지역 미국 수련 약 인 개 지역 유럽 수련 각각 확인 개 지역 자생 종인 각시 수련 꼬마 수련 발견 이 중 개 지역 각시 수련 미국 수련 분포 수련 은 중국 동북 부 시베리아 핀란드 등 유라시아 비롯 북미 캐나다 알래스카 등 북 부 고위 지역 분포 종 우리나라 자생 것 이번 조사 수련 대부분 식물 미국 수련 미국 수련 은 꽃 아름 워 생태 습지 정원 등 주로 고 국립생물자원관 향후 자생 종인 각시 수련 꼬마 수련 증식 기술 개발 보급 수 방안 마련 예정 또한 꼬마 수련 경우 종자 크기 조경 용 원예 용 품종 개발 가능성 것 보고 관련 연구 착수 계획 이번 연구 통해 각시 수련 꼬마 수련 유전자 표지 생물 주권 강화 위 품종 원산지 구별 위해 하반기 중 특허 출원 예정 관련 사진 질의 응답 전문용어 설명 끝',\n",
       " '세계 최초 한국 표범 게놈 지도 완성 세계 최초 한국 표범 게놈 지도 완성 국립생물자원관 한국 표범 아무르표범 의 고품 질 표준 게놈 지도 세계 최초 완성 멸종위기종 보전 위 근원 자료 확보 육식 잡식 초식 동물 게놈 비교 근력 시력 소화 당뇨 유전자 확인 등 인간 질병 건강 이해 귀중 자료 제공 환경부 소속 국립생물자원관 관장 백운석 은 남한 절멸 것 추정 멸종위기 야생 생물 급 한국 표범 아무르표범 의 표준 게놈 지도 세계 최초 완성 표준 게놈 참조 유전체 생물 종 대표 유전체 지도 한국 표범 호랑이 과거 우리나라 최고 포식자 활동 고양이 맹수 현재 북한 접경 지역 러시아 연해주 남서쪽 마리 분포 이번 한국 표범 게놈 지도 멸종위기 처 한국 표범 보전 복원 위 토대 마련 데 의의 한국 표범 게놈 지도 국립생물자원관 울산 과학기술원 과 지난해 공동 연구 협약 고양이 게놈 해독 위 국제 컨소시엄 참여 개월 간의 연구 끝 해독 연 구진 대전 동물원 자연사 표범 매화 의 근육 이용 표준 게놈 지도 러시아 서식 야생 아무르표범 혈액 확보 추가 유전체 서열 해독 비교 분석 그 결과 한국 표범 게놈 개 염기쌍 구성 여 개 유전자 포함 것 확인 또한 개체 간 동일 개체 내 염기서열 변 거의 유전 다양성 멸종 위험 매우 것 부 모 양친 로부터 유전자 염기서열 변 거의 부모 세대 유전자 서열 거의 비슷 개체 간의 유 전변 추 정연 구진 육식 고양이 잡식 사람과 초식 소 등 식성 다른 포유동물 종 게놈 정밀 비 교하 식성 특화된 유전자 표범 호랑이 고양이 근육 운동 신경 전달 빛 감지 능력 관련 유전자 보존 고양이 동물 반응 성과 유연성 시력 등 게놈 반영 음 확인 반면 사람과 지방 대사 관련 유전자 등 소 냄새 감지 유전자 등 보존 연 구진 육식 고양이 식성 주목 잡식 성 초식성 포유동물 게놈 비 교하 진화 유전자 확인 확인 결과 고양이 육식성 발달 면서 아밀라아제 탄수화물 소화 유전자 식물 독소 해독 관련 유전자 퇴화 것 또한 단백질 소화 근육 및 운동 신경 발달 등 관련 유전자 특 이하 진화 것 나타 당뇨 관련 혈당 조절 유전자 돌연변이 기능 것 확인 식성 생물 종 간 게놈 빅데이터 통해 분석 이번 연구 세계 최초 시행 것 연 구진 이번 연구 결과 근력 시력 등 인체 능력 육식 발생 추정 인간 질병 등 유전자 수준 이 해하 데 도움 줄 것 기대 이번 한국 표범 표준 게놈 해독 결과 포유류 게놈 비교 분석 연구 결과 세계 적 학술지 게놈 바이 올로 일자 게재 예정 백운석 국립생물자원관 장 세계 최초 한국 표범 전체 게놈 해독 통해 멸종위기 처 한국 표범 보전 위 근원 자료 확보 며 이번 게놈 지도 개방 공유 소통 협력 추구 정부 정책 한반도 생물다양성 누리집 통해 공개 계획 한국 표범 아무르표범 개요 게놈 분석 개요 주요 연구 결과 게재 논문 질의 응답 전문용어 설명 끝',\n",
       " '환경부 자동차 탄소 포인트 제 시범 사업 추진 환경부 자동차 탄소 포인트 제 시범 사업 추진 주행 거리 단축 친환경 운전 실적 경제 적 인 센티 브 지급 자동차 탄소 포인트 제 시범 사업 업무 협약 체결 환경부 장관 조경규 자동차 탄소 포인트 제 시범 사업 업무 협약 서울 중구 코트 야드 메리어트 호텔 체결 협 약식 이민호 환경부 환경 정책 실장 홍 표 융합기술원 연구소장 등 참석 자동차 탄소 포인트 제 시범 사업 은 현행 탄소 포인트 제 자동차 수송 분야 확 대하 운전자 년 주행 거리 단 축하 거나 급 가속 급 제동 친환경 운전 경우 실적 경제 적 혜택 인 센티 브 제공 것 현행 탄소 포인트 제 가정 상가 등 건물 전기 가스 수도 사 용량 경우 절감 실적 현금 처럼 사용 수 포인트 인 센티 브 제공 시범 사업 올해 월부 터 참여자 명 선착순 모집 내년 까지 진행 참여 대상자 비사 승용 승합차 량 운전자 모집 한국 환경 공단 누리집 이나 탄소 포인트 제 누리집 등 일부 터 접수 참여자 운행 정보 수집 방식 운행 기록 자기 진단 장치 방식 사진 방식 중 하나 선택 참여 수 주행 거리 단축 이나 친환경 운전 실적 연간 최대 만원 혜택 수 운행 기록 자기 진단 장치 자동차 전기 전자 적 작동 상태 확인 제어 위 진단 시스템 단자 별도 단말기 연 결하 운행 정보 차량 상태 등 정보 스마트폰 확인 방식 한국 환경 공단 제공 단말기 차량 부착 의 차량 운행 정보 수집 시스템 통해 주행 거리 친환경 운전 실적 자동 산정 방식 스마트폰 앱 통해 실시간 본인 운전 습관 참여자 간의 연비 순위 등 확인 수 사진 방식 참여자 참여 시점 종료 후의 차량 계기 판 사진 전송 과거 주행 거리 비 교하 감축 실적 산정 방식 환경부 이번 시범 사업 결과 면밀 검토 분석 부터 본격 적 자동차 탄소 포인트 제 를 도입 예정 한국 환경 공단 지난 공개 수송 부문 탄소 포인트 제 제도 활성화 방안 연구 자동차 탄소 포인트 제 부터 도입 경우 총 톤 의 이산화탄소 를 감축 수 것 추정 바 현행 건물 대상 탄소 포인트 제 가입 률 과 평균 감축 률 적용 차량 증가 율 등 고려 추산 이민호 환경부 환경 정책 실장 이번 사업 유류 소비 온실가스 감 축하 것 목표 라며 이 미세먼지 수 교통 혼잡 사회 비용 절감 안전 운전 교통사고 율 감소 등 부가 적 효과 수 고 말 시범 사업 업무 협약 계획 시범 사업 추진 계획 안 감축 실적 평가 및 인 센티 브 산정 기준 안 질의 응답 전문용어 설명 끝',\n",
       " '오대산 태백산 계곡 열목어 구애 장소 최적 어류 모니터링 중 멸종위기 야생 생물 급 열목어 구애 행동 촬영 점점 서식지 보전 위해 지속 적 관심 노력 필요 환경부 국립공원 관리 공단 이사장 박보환 은 올해 일부 터 실시 오대산 태백산 어류 모니터링 중 산란 위해 상류 이동 중인 열목어 구애 행동 촬영 열목어 연어목 연어 어류 냉수 성 대형 담수어 종이 국내 강원도 충청도 경상도 일 부지역 제 한적 서식 우리나라 포함 시베리아 연해주 압록강 두만강 등 동북아 지역 분포 용존 산소 풍부 한여름 수온 계곡 최상 류 지역 선호 산란 위해 계곡 상류 이동 후 암 수가 짝 이루 모래 자갈 곳 알 주로 수온 계곡 상류 서식 겨울 하류 소 곳 이 동하 월 동하 것 이 동하 상류 월 동하 개체 오대산 국립공원 수골 계곡 국내 최대 열목어 서식지 안 정적 서식지 보호 위해 특별 보호 구역 지정 태백산 국립공원 백천 계곡 국립공원 내 서도 산림 발달 지역 열목어 서식 최적 조건 유지 도로 신설 산지 개발 산림 골재 채취 등 서식지 파괴 남획 개체 수가 감소 추세 개체군 보호 위해 환경부 열목어 멸종위기 야생 생물 급 지정 이번 촬영 통해 오대산 태백산 국립공원 내 서도 열목어 서식 표적 공원 임 확인 최종 관 국립공원 관리 공단 자원 보전 처 열목어 서식지 보호 위해 지속 적 모니터링 보호 활동 계획 이 라며 멸종위기종 보호 위해 동참 줄 것 당부 드 린다 말 오대산 국립공원 수골 열목어 특별 보호 구역 현황 관련 사진 질의 응답 전문용어 설명 끝',\n",
       " '폐 휴대폰 수익금 독거 노인 겨울 폐 휴대폰 수익금 독거 노인 겨울 폐 휴대폰 수거 캠페인 통해 마련 수익금 독거 노인 지원 세종시 인근 어르신 겨울나기 행사 진행 환경부 부터 폐 휴대폰 상시 수거 체계 전환 환경부 장관 윤성규 년도 폐 휴대폰 수거 캠페인 통해 마련 수익금 독거 노인 지원 어르신 겨울나기 행사 세종시 세종 재 가노 지원 센터 개최 이번 행사 정연만 환경부 차관 임채환 한국 환경 공단 본부장 이동전화 단말기 제조 사 이동통신 사 독거 노인 원 센터 세종 재 가노 인지 원 센터 등 소속 관계자 여명 참석 환경부 인 조로 구성 개 팀 구 성하 세종 청사 인근 독거 노인 개 가구 각각 방 문하 도배 장판 문풍지 작업 등 주거 환경 개선 청소 생활용품 등 정리 또한 이번 독거 노인 주거 환경 개선 기 부금 활용 전국 개 독거 노인 가구 주거 환경 추가 지원 예정 환경부 부터 까지 제조 사 이동통신 사 등 공동 범 국민 폐 휴대폰 수거 캠페인 전개 약 만대 폐 휴대폰 수거 그간 폐 휴대폰 수거 캠페인 통한 매각 수익금 총 원 이번 독거 노인 위 어르신 겨울나기 행사 포함 결식 아동 등 소외 계층 기부 폐 휴대폰 수거 캠페인 실적 및 기부 금 현황 단위 천대 백만 원 년도 계 실적 기부 금 년도 수거 수익금 소외 계층 돕기 등 사용 진행 폐 휴대폰 수거 캠페인 지난해 월부 터 까지 약 개 월간 진행 지자체 초 중 고 단말기 제조 이통 사 대형 마트 등 참여 총 수거 매각 수익금 환경부 원 교육청 원 지자체 원 등 약 원 가량 수익금 교육청 지자체 등 참여 기관 배분 기관 별로 소외 이웃 돕기 등 사회 봉사활동 활용 예정 한편 환경부 폐 휴대폰 캠페인 수거 실적 감소 추세 보임 부터 수거 효율 주민 센터 등 수거 거점 활용 폐 휴대폰 상시 수거 체계 전환 계획 주민 센터 등 수거 폐 휴대폰 종전 동일 발생 수익금 취약 계층 등 위 지원 사업 사용 예정 어르신 겨울나기 행사 계획 폐 휴대폰 수거 체계 전환 끝 행사 사진 환경부 웹하드 게재 이후 예정',\n",
       " '스마트폰 이모티콘 환경 사랑 전하 음식물 쓰레기 줄 이기 물 절약 소등 생활화 등 일상생활 속 환경 메시지 스마트폰 이모티콘 종 무료 배포 일부 터 카카오 톡 친구 통해 무료 내려받기 가능 환경부 한국 환경 공단 이사장 전병성 은 환경보전 메시지 스마트폰 용 해 환경 사랑 이모티콘 종 제작 일부 터 주 동안 무료 배포 해 환경 사랑 이모티콘 은 한국 환경 공단 마스코트 푸루 그루 를 활용 일상생활 환경 사랑 실천 수 주제 표현 것 스마트폰 용 메신저 카카오 톡 사용 수 한국 환경 공단 음식물 쓰레기 줄 이기 전기자동차 충전 소등 생활화 에코 백 사용 물 절약 온 맵시 과대 포장 금지 적정 온도 유지 개인 컵 사용 분리 배출 등 환경 보전 주제 선정 국민 일상 대화 속 자주 활용 수 도록 움직 이모티콘 총 종 제작 물 절약 은 울 푸루 머리 위 수도꼭지 그루 모습 적정 온도 유지 이글 이글 푸루 화 그루 부채 모습 재미 표현 해 환경 사랑 이모티콘 은 카카오 톡 한국 환경 공단 플러스 친구 를 소진 시 까지 수 기존 친구 등록 경우 오후 일괄 적 자동 제공 플러스 친구 개인 카카오 톡 아이디 달리 회사 브랜드 단체 대표 카카오 톡 계정 플러스 친구 카카오 톡 아이디 검색 창 한국 환경 공단 검색 해당 화면 이동 후 친구 추가 를 선택 이모티콘 까지 수 시점 부터 동안 사용 수 한국 환경 공단 플러스 친구 카카오 톡 아이디 검색 한국 환경 공단 검색 해당 페이지 이동 친구 추가 클릭 이모티콘 기간 수 화 까지 전병성 한국 환경 공단 이사장 국민 생활 속 환경 사랑 실천 대한 말 생각 자연 수 도록 환경 사랑 이모티콘 제작 라며 이모티콘 메시지 꼭 국민 생활 속 실천 말 환경 공단 마스코트 이모티콘 대표 이미지 환경 공단 마스코트 이모티콘 종 이미지 환경 공단 마스코트 이모티콘 활용 개요 질의 응답 전문용어 설명 끝',\n",
       " '저 탄소 여행 즐거움 올여름 버스 타고 휴가 가요 환경부 달 여름철 기후변화 대응 적응 캠페인 버스 타고 바캉스 추진 서귀포시 시티투어 버스 활용 기후변화 체험 연극 버스 운영 환경부 장관 김은경 연간 전 력사 용량 상 대적 휴가 철 일부 터 달 여름철 기후변화 대응 적응 캠페인 버스 타고 바캉스 를 진행 이번 캠페인 버스 기차 등 대중교통 이용 여름 휴가 보 내기 주제 휴가 기간 동안 에너지 절약 온실가스 감축 도움 줄 수 저 탄소 생활 수칙 가지 제안 저 탄소 생활 수칙 가지 휴가 출발 전 가전제품 플러그 뽑기 여행 경로 정확 버스 기차 자전거 등 이용 여행 가지 일회용품 사용 자제 재활용품 분리 배출 등 환경부 여름 휴가 기간 동안 전 국민 저 탄소 생활 수칙 실천 경우 최대 여 만 톤 온실가스 감축 것 보고 저 탄소 생활 수칙 온실가스 감축 량 참조 환경부 이번 캠페인 기간 중 일부 터 까지 제주 서귀포시 시티투어 전기 버스 활용 기후변화 체험 연극 버스 를 운영 기후변화 체험 연극 버스 기후변화 초래 수 해수면 상승 현상 형 상화 이미지 버스 내 외부 디자인 관광객 기후변화 심 각성 인식 공감 수 도록 이 버스 안 폭염 대응 가지 방법 등 기후변화 적응 관련 홍보 영상 상영 폭염 대응 방법 기상 상황 확인 까지 야외 활동 자제 물 자주 마시기 차 안 어린이 반려동물 홀로 식중독 조심 에어컨 필터 청소 폭염 취약 자 돌 보기 등 기후변화 체험 연극 버스 시티투어 전기 버스 무대 기후변화 주제 총 편의 단막극 버스 탑승 시민 관객 참여 방식 연극 참여 수 안병옥 환경부 차관 환경 관심 제주 외국어 오현 등 이 일대 고등학교 학생 명 기후변화 체험 연극 버스 를 타고 기후변화 를 주제 의견 이외 인스타그램 페이스북 등 사회 관계 망 서비스 이하 를 통해 저 탄소 라이프 인증샷 이벤트 일부 터 까지 진행 이벤트 참여 방법 저 탄소 생활 수칙 가지 중 하나 실천 후 개인 인증 사진 탄소 라이프 해시태그 환경부 캠페인 종료 후 를 참가자 중 명 선정 소정 친환경 생활용품 초 증정 예정 김영훈 환경부 기후변화 정책 관 이번 캠페인 기후변화 심 각성 직접 체험 일상생활 속 저 탄소 생활 실천 위해 마련 라며 여름 휴가 기간 동안 자동차 대중교통 이용 탄소 배출 줄 지구 시원 해지 저 탄소 휴가 보 내기 관심 참여 바란 말 월별 전력 사용 량 하절 기 기후변화 대응 적응 캠페인 포스터 저 탄소 생활 수칙 온실가스 감축 량 기후변화 체험 버스 운영 계획 전문용어 설명 끝',\n",
       " '비정규직 고용 개선 환경 공단 일자리 위원회 출범 기간 제 근로자 및 파견 용역 근로자 고용 관행 개선 정규직 차별 철폐 신규 일자리 창 등 일자리 컨트롤 타워 명 기간 제 근로자 약 명의 파견 용역 근로자 대상 환경 분야 공공 민간 일자리 창 마중 물 역할 한국 환경 공단 이사장 전병성 은 새정부 국정 과제 일자리 창 지원 위 일자리 위원회 를 출범 환경 공단 이번 출범 일자리 위원회 를 통해 기간 제 근로자 비롯 파견 용역 근로자 고용 관행 개선 정규직 차별 철폐 환경 분야 공공 민간 일자리 창 등 기여 방침 일자리 위원회 위원장 전병성 환경 공단 이사장 직접 기간 제 근로자 정규직 전환 위 정규직 전환 심의 위원회 파견 용역 근로자 정규직 화 위 노사 및 전문가 협의 회 환경 분야 공공 민간 일자리 창 위 공공 민간 일자리 창 분과 등 각각 운영 또한 학계 기업 계 노동계 등 구성 분야 별 자문 위원회 각 분야 전문가 이해관계자 의견 수렴 계획 일자리 위원회 지난 중순 정부 발표 상시 지속 업무 등 정규직 전환 기준 향후 전환 대상자 선정 예정 정규직 전환 심의 위원회 직접 고용 등 전환 방식 채용 방식 임금 체계 등 기준 최종 심의 확정 예정 환경 공단 이번 위원회 출범 앞서 기간 제 근로자 대한 자기 경영 혁신 비 선택 적 복지 비 종합 건강검진 출산 다자 녀 다문화 및 장애 가정 지원 정규직 차별 동일 기준 적용 운영 말 기준 환경 공단 총 명의 기간 제 근로자 청소 직 시설 관리직 안내 직 콜센터 상담 원 등 약 명의 파견 용역 직원 근무 또한 환경 공단 환경 분야 사업 확대 통해 여 개 신규 공공 일자리 및 개 민간 일자리 창 총력 예정 공공 민간 일자리 창 분과 를 통해 화학물질 관리 미세먼지 감 대책 자원 순환 제도 선진 화 분야 뿐 환경 정보 융합 빅데이터 플랫폼 구축 사물인터넷 융합 기술 활용 폐수 관리 등 차 산업혁명 계 일자리 창 적극 계획 전병성 환경 공단 이사장 비정규직 고용 안정 차별 철폐 신규 일자리 창 공공기관 소임 이 라며 일자리 위원회 통해 환경 공단 내 모든 근로자 공생 발전 도모 공공 민간 환경 분야 양질 일자리 창 수 도록 마중 물 역할 수행 것 말 일자리 위원회 구성 운영 계획 안 질의 응답 전문용어 설명 끝',\n",
       " '국립생태원 서포터즈 생기 모집 국립생태원 서포터즈 생기 모집 생태계 보호 환경 사랑 실천 사례 연구 및 뉴스 발굴 일부 터 까지 국립생태원 누리집 접수 국립생태원 원장 최재천 이 환경 사랑 지구촌 생명 사랑 확산 기여 제 기 서포터즈 생기 를 일부 터 까지 모집 생기 국립생태원 생태계 보호 환경 사랑 실천 사례 대한 연구 활동 비롯 생물다양성 중요성 알리 뉴스 발굴 국립생태원 블로그 게재 생기 생기 발랄 국립생태원 기자 단 의 준말 서류 심사 명 선발 선발 사람 일부 터 까지 개 월간 활동 선발 대상 정보 활용 력 취 재력 만 세 이상 남녀 한중 방문 해 중국인 유학생 생태 환경 관심 웹툰 동영상 제작 등 익숙 사람 우대 생기 선발 국립생태원 진행 각종 교육 초청 홍보 여행 등 다양 행사 참여 기회 주 어진 주 단위 진행 취재 활동 게재 기사 웹툰 영상 등 콘텐츠 대해 소정 활동 비 원고료 지급 활 동기간 종료 후 기수 별 활동 수자 선발 국립생태원 원장 표창 포상 수여 생기 지원 사람 국립생태원 누리집 서식 담당자 이메일 로 신 청하면 자세 문의 국립생태원 서포터즈 운영자 합격자 국립생태원 누리집 통해 발표 제 기 서포터즈 사진 환경부 웹하드 게재',\n",
       " '논 희귀 생물 맨발 쇠뜨기 말 발견 논 희귀 생물 맨발 쇠뜨기 말 발견 서산 천수만 이후 발견 맨발 쇠뜨기 말 발견 맨발 쇠뜨기 말 분포 현황 파악 및 보전 방안 마련 시급 국립생물자원관 관장 김상배 은 월부 터 까지 자생 윤 조류 생육 실태 조사 결과 서산 천수만 농경지 이후 생육 확인 맨발 쇠뜨기 말 생육 를 발견 희귀 표본 점 확보 맨발 쇠뜨기 말 윤 조류 속 종 로서 논 바닥 부착 자라 녹색 까지 맨발 쇠뜨기 말 고 최 문 교수 전 공주대 전남 함평 전남 나주 개체 씩 채집 동안 발견 최광 철 박사 최 문 교수 채집 기록 근거 맨발 쇠뜨기 말 최초 보고 현재 관련 표본 이번 확보 표본 공식 적 국내 유일 표본 맨발 쇠뜨기 말 처음 보고 곳 스리랑카 우리나라 중국 일본 대만 미국 등 분포 함 윤조 류 맨발 쇠뜨기 말 쇠뜨기 말 등 전세계 여 종류 줄기 중심 가지 여진 이름 차축 조 류 고도 함 수생 식물 씨 포자 번식 점 크게 맨발 쇠뜨기 말 부영양화 등 환경오염 취약 분포 때문 발견 맨발 쇠뜨기 말 관 조사 중반 이후 이루 어진 것 전체 개 조사 지역 중 서산 개 지역 발견 맨발 쇠뜨기 말 일본 국가 적색 목록 등재 위급 위기 등급 국가 적색 목록 전 세계 야생 생물 중 멸종 위험 생물 목록 수질 양호 오염 지역 자라 특성 때문 환경오염 인위 적 교란 취약 것 어서 면밀 분포 조사 보전 방안 필 요하 국립생물자원관 앞 맨발 쇠뜨기 말 포함 그동안 연구 미흡 윤 조류 다양성 파악 지속 적 모니터링 실시 보전 방안 마련 계획 맨발 쇠뜨기 말 관련 사진 질의 응답',\n",
       " '중 일 환경과학 원장 미세먼지 등 아시아 환경오염 공동 연구 강화 합의 중 일 환경과학 원장 미세먼지 등 아시아 환경오염 공동 연구 강화 합의 제 차 중 일 환경과학 원장 회의 미세먼지 등 개 분야 개년 공동 연구 계획 확정 환경부 소속 국립 환경과학 원 원장 박진원 은 한국 중국 일본 간 환경 연구 협력 논의 위해 일부 터 까지 중국 운남성 곤명시 제 차 중 일 환경과학 원장 회의 열 린다 이번 회의 박진원 국립 환경과학 원 원장 송용휘 중국 환경과학 연구원 부원장 수미 아키 마사 일본 국립 환경 연구소 원장 참석 국 개년 공동 연구 계획 수립 중국 환경과학 원장 최근 교체 중국 부원장 참석 함 회의 아시아 미세먼지 황사 등 우선 협력 사업 대한 중 일 환경과학 원장 회의 우선 협력 사업 로드맵 확정 까지 공동 연구 협력 강화 합의 예정 개 우선 협력 사업 호소 수질오염 아시아 대기오염 도시 환경 및 친환경 도시 황사 화학물질 위해 및 관리 생물다양성 보존 고형 폐기물 관리 기후변화 재난 환경 등 미세먼지 분야 공동 연구 위 한국 중국 간 대기 자료 전용 회선 설치 황사 중 미세먼지 연직 분포 연구 대해 협의 동북아 미세먼지 대한 국 연구 협력 체계 구축 계획 이번 회의 수질오염 감 수생 태 건강 주제 워크숍 개최 워크숍 녹조 등 수질오염 각국 수질 현황 등 그간 국 수행 관련 연구 결과 발표 예정 또한 미국 워싱턴 대학 시브레 비달 교수 참석 선진국 수질 관련 역학 연구 결과 소개 몽고 기상 정보 연구소 간주 르 투야 박사 몽고 수질 모니터링 평가 현황 발표 바탕 동북아 국가 수질오염 감 방안 향후 연구 방향 등 논의 계획 회의 앞서 박진원 국립 환경과학 원장 베이징 중국 환경과학 원 내 위치 한중대 기질 공동 연구 단 일부 터 일간 방문 곳 박 원장 한중대 기질 공동 연구 단 의 그간 연구 추진 상황 점검 오염원 현장 실사 통해 미세먼지 감 위 중국 협력 강화 논의 박진원 국립 환경과학 원장 이번 회의 제시 미세먼지 공동 연구 결과 연구 계획 등 동북아 환경 발전 기여 것 기대 며 이번 회의 계기 국 간의 연구 협력 더욱 강화 동북아시아 환경 개선 노력 고 말 일정 질의 응답 전문용어 설명 끝',\n",
       " '태안 해안 국립공원 바람 아래 해변 야간 출입 바람 아래 해변 일부 터 오후 시부 터 시간 동안 출입 금지 익사 등 안전 사고 예방 및 해양 생물 채취 방지 해양 생태계 보호 환경부 국립공원 관리 공단 이사장 권 업 은 탐방 객 안전 사고 예방 및 해양 생태계 보호 위해 태안 해안 국립공원 안면도 바람 아래 해변 야간 출입 일부 터 통제 출입 금지 구역 바람 아래 해변 일대 갯벌 통제 시간 오후 시부 터 다음 날 아침 까지 시간 동안 국립공원 관리 공단 일부 터 야간 출입 금지 안내 판 설치 탐방 객 대상 출입통제 안내 홍보물 배부 계획 일부 터 태안 해양경찰 태안군 청 등 유관 기관 합동 야간 출입 행위 대해 집중 단속 실시 예정 출입 행위 적발 경우 자연 공원 법 최대 원 과태료 부과 바람 아래 해변 태안 해안 국립공원 안면읍 장 곡리 위치 곳 최근 해루 질 위해 사람 증가 조수간만 최대 사리 주기 반복 때 최대 여 명 해루 질 이란 물이 갯벌 어패류 채 취하 행위 주로 밤 불 불빛 보고 물고기 전통 어로 행위 밀물 시 갯벌 중간 부터 물이 차오 르 지형 적 영향 야간 해루 질 경우 갯벌 고립 거나 바다 안개 방향 안전 사고 발생 수 실제 올해 경기도 화성시 거 주하 중반 남성 바람 아래 해변 해루 질 중 밀물 때 물밖 나 오지 해양경찰 수색 구조 병원 후송 후 사망 사고 발생 최근 바람 아래 해변 야간 갯벌 출입 안전 사고 총 건 발생 총 명 사고 그 중 명 익사 박승 기 태안 해안 국립공원 사무소 장 바람 아래 해변 야간 출입통제 구역 지정 익사 등 탐방 객 안전 사고 예방 해양 생태계 보호 위 불가피 조치 탐방 객 적 극적 협조 바란 말 바람 아래 해변 야간 출입 금지 공고 관련 사진 질의 응답 전문용어 설명 끝',\n",
       " '습지 현황 정보 한눈 국가 습지 벤토 리 구축 전국 내륙 습지 곳 공간 정보 위치 면적 주요 생물 종 현황 등 개별 습지 별 상세 정보 공개 습지 생태계 생물다양성 연구 기초 자료 제공 보전 관리 대책 마련 위 정책 자료 활용 환경부 소속 국립 환경과학 원 원장 박진원 은 전국 내륙 습지 곳 공간 정보 생물 종 현황 등 상세 정보 국가 습지 벤토 리 를 일부 터 공개 국가 습지 벤토 리 환경부 국립 환경과학 원 부터 전국 내륙 습지 조사 발굴 곳 습지 지번 및 좌표 등 공간 지리 정보 습지 유형 면적 생물 종 경관 사진 등 상세 현황 정보 국립 환경과학 원 국립 습지 센터 전국 총 곳 지방 유역 환경청 지자체 등 자료 포함 의 습지 파악 정확 습지 유형 경계 면적 규모 생물 종 정보 등 대해 전문가 검증 과정 곳 내륙 습지 현황 정보 국가 습지 벤토 리 공개 전국 내륙 습지 조사 습지 보전 법 제 주기 전국 습지 발굴 조사 법정 조사 차 조사 차 조사 완료 연안 습지 해양수산부 실시 지방 청 지자체 등 습지 조사 결과 일부 포함 국가 습지 벤토 리 개별 습지 정보 누구 자유 롭 열람 수 관련 정보 수 국가 습지 토리 국립 습지 센터 습 지지리 정보 시스템 확인 수 국립 환경과학 원 국가 습지 벤토 리 내 구축 개별 습지 정보 대해 매년 생태계 생물다양성 변화 정 기적 관찰 습지 현황 최신 정보 반영 계획 이정환 국립 환경과학 원 국립 습지 센터 장 이번 공개 국가 습지 토리 공간 정보 기반 습지 현황 정보 구축함 습지 관련 다양 이해관계자 활용 가치 며 계기 국내 습지 보전 관리 정책 단계 발전 수 것 말 습 지지리 정보 시스템 구축 현황 국가 별 습지 인벤 토리 구축 내용 비교 국가 습지 인벤 토리 구축 역 비교 우리나라 습지 분포 현황 질의 응답 전문용어 설명 끝',\n",
       " '서천 유부도 멸종위기종 맹꽁이 발견 서식지 개선 위해 황소개구리 퇴치 추진 국립생태원 멸종위기 야생 생물 급 맹꽁이 서식 최초 확인 맹꽁이 보호 위해 외래종 황소개구리 퇴치 추진 환경부 국립생태원 원장 이희철 은 충남 서천군 유부도 멸종위기 야생 생물 급 맹꽁이 서식 최근 확인 국내 최대 도 물떼새 중 간기 착지 금강 유부도 맹꽁이 서식 확인 것 이번 처음 국립생태원 맹꽁이 올해 월부 터 까지 수행 금강 유부도 내 기수 생태계 조사 과정 중 발견 유부도 도 물떼새 발 농게 표범장지뱀 등 다양 멸종위기 야생동물 서식 등 생물다양성 보고 국립생태원 연 구진 유부도 내 습지 맹꽁이 마리 발견 후 당일 추가 조사 다른 맹꽁이 발견 양서류 맹꽁이 맹 맹 맹 울음소리 때문 맹꽁이 이름 전국 습지 살 종이 최근 급격 습지 감소 개체 수가 급감 장마철 번 출현 특징 때문 지금 일부 지역 서식 보고 국립생태원 유부도 내 맹꽁이 보호 위해 이 지역 대표 적 생태계 교란 생물 황소개구리 퇴치 국립생태원 지난해 유부도 내 황소개구리 서식 최초 확인 바 올해 일부 터 이틀 동안 금강유역환경청 여 마리 황소개구리 성체 마리 올챙이 포획 등 차 황소개구리 퇴치 작업 수행 또한 충남도청 충남 연구원 서천군 서천군 지속 가능 발전 협의 회 사 한국 생태계 교란 어종 퇴치 협회 등 개 기관 여 명과 황소개구리 차 퇴치 작업 일부 터 이틀 동안 진행 예정 이희철 국립생태원 장 유부도 맹꽁이 서식 확인 이 지역 생물다양성 조사 확대 맹꽁이 등 양서류 까지 수 황소개구리 면밀 말 유부도 위치 맹꽁이 발견 지점 및 황소개구리 사진 질의 응답 끝',\n",
       " '정수기 품질 검사 사후관리 까지 안전 관리 강화 국물 기술 증원 정수기 품질 검사 수행 품질 조사 시 심의 위원회 확대 및 심의 절차 이중화 등 품질 검사 전문성 강화 필터 교환 주기 산정 법 마련 부가 기능 얼음 음료 제조 등 관리 체계 마련 위생 관리 강화 환경부 장관 김은경 정수기 품질 검사 단계 부터 사후관리 까지 전 과정 정수기 안전 관리 강화 주요 내용 정수기 안전 관리 개선 종합 대책 시행 이번 종합 대책 품질 검사 체계 개선 위생 관리 체계 표준화 소비자 보호 강화 등 개 분야 개 세부 과제 구성 환경부 지난 발생 얼음 정수기 니켈 검 사건 이후 민 관 합동 대책 반 후보 과제 발굴 연구 용역 비롯 전문가 시민사회 제조업 계 등 관계자 의견 이번 종합 대책 최종 확정 정수기 안전 관리 개선 종합 대책 의 주요 내용 다음 첫 정수기 품질 검사 체계 개선 그간 제조업체 회원 사인 한국 정수기 공업 협동조합 품질 검사 실시 앞 국물 기술 증원 설 립하 정수기 품질 검사 수행 예정 물관 리기 술 발전 및 물 산업 진흥 관 법률 국물 기술 증원 설립 규정 시행 또한 품질 검사 기관 품질 검사 수행 실적 수수료 수입 지출 역 등 관련 정보 공개 의무 화 검사 기관 대한 지도 점검 강화 품질 검사 기관 운영 투 명성 계획 정수기 품질 검사 적합 여부 실 질적 결정 정수기 품질 심의 위원회 품질 심의 강화 구조 재질 사후관리 표시 사항 등 심의 분야 별로 전문가 명 명 늘 린다 각 분야 별 사전 심의 통과 제품 종합 심의 실시 그간 제한 위촉 위원 임 회로 제한 두 정수기 위생 관리 체계 표준화 정수기 성능 핵심 이자 수시 교환 이루 필터 대해 기능 별 흡착 여과 등 종류 별 활성탄 역삼투막 등 표준 교환 주기 산 정법 마련 그간 제조업체 필터 교환 주기 임의 실험 결과 활용 제품 표시 앞 개별 필터 별로 표준 교환 주기 산 정법 산정 표시 또한 최근 판매 증가 복합 정수기 부가 기능 제빙 음료 제조 등 대해 서도 위생 안전 관리 체계 마련 약 천대 전체 약 천대 전체 그간 복합 정수기 정수기 능 품질 검사 판매 가능 앞 부가 기능 별도 품질 검사 제품 판매 가능 환경부 지난해 부가 기능 품질 검사 도록 물 관리 법 개정안 국회 제출 이 법안 통과 경우 대비 연구 용역 등 부가 기능 대한 세부 품질 검사 체계 마련 이 소비자 자가 관리 수요 위생 관리 대한 관심 증가 소비자 보호 관 규정 강화 정수기 제조업체 제품 안내서 비교 검토 위생 안전 측면 보완 소비자 눈높이 표준 안내서 매뉴얼 를 마련 또한 소비자 직접 부품 교체 세척 살균 등 관리 수 도록 필터 취수 꼭지 접속 부 저수조 유로 관 등 주요 부품 구조 개선 이 대한 소비자 정보 제공 확대 계획 박용규 환경부 상 하수도 정책 관 이번 정수기 안전 관리 개선 종합 대책 통해 정수기 위생 안전 강화 국민 안심 정수기 사용 것 이 라며 정수기 전반 대한 소비자 알권리 증진 것 말 정수기 안전 관리 개선 종합 대책 질의 응답 전문용어 설명 끝',\n",
       " '참고 환경부 장관 낙동강 녹조 현장 방문 수질 수량 통합 지속 가능 물관 리 피 김은경 환경부 장관 오전 김해 화포 천 습지 방문 이 어서 낙동강 함안 보 녹조 현장 방 문하 관계 기관 환경 단체 전문가 지역 주민 등 다양 이해 관계자 의견 수렴 김해 화포 천 습지 우리나라 하천 습지 보호지역 중 가장 멸종위기 야생 생물 종이 살 지역 멸종위기 야생 생물 급 황새 인공 복원 종 봉 순이 도래 곳 이후 매년 황새 서식 확인 수 일본 인공 부화 방사 이후 화 포천 최초 발견 환경부 국내 외 한정 황새 멸종위기종 급 서식지 보전 대책 추진 주변 오염원 농경지 비닐하우스 등 난 개발 습지 훼손 방지 위 활동 지역 내 화 포천 환경 킴 사 자연보호 김해시 협의 회 울타리 가족 봉사 단 등 시민 환경 단체 화 포천 습지 보호지역 지정 방안 협의 계획 김은경 장관 낙동강 함 안보 녹조 발생 현장 점검 현장 전문가 시민단체 어민 등 간담 회 지속 가능 물 관리 위 대책 방안 논의 김은경 장관 오염 물질 감 등 수질 개선 노력 대강 사업 호소 화 낙동강 녹조 문제 해결 한계 면서 물관 리 일원화 오염 물질 차단 노력 보 개방 통한 체류 시간 감소 등 수질 수량 통합 관리 녹조 문제 본적 해결 수 것 기대 고 말 또한 올해 일부 터 우선 녹조 발생 심 체류 시간 길 수자원 이용 영향 개 보부 터 개방 개방 수준 함안 보 개방 기간 달 등 미흡 녹조 문제 해결 한계 상황 이 라며 대강 보 개방 개방 이후 수질 수생 태 모니터링 결과 수질 수량 통합 관리 차원 조사 농업 생 공용 수 이용 시설 조사 결과 토대 추가 적 필요 사항 관계 기관 논의 예정 한편 창녕 함안 지점 창녕함안보 상류 의 조류 경보 지난달 경계 단계 일부 터 관심 단계 하향 다소 완화 여전 녹조 비상 상황 환경부 관련 지자체 정 수처리 강화 등 물 안전 관리 만전 기하 일정 표 낙동강 함안 보 간담 회 개요 끝',\n",
       " '국립 환경과학 원 환경 보건 분야 협력 센터 재 지정 국립 환경과학 원 환경 건강 연구 부 까지 세계보건기구 취약 계층 환경 보건 협력 센터 다시 지정 환경부 소속 국립 환경과학 원 원장 박진원 은 원내 환경 건 강연 구부 기해 세계보건기구 이하 로부터 취약 계층 환경 보건 협력 센터 재 지정 이 국립 환경과학 원 환경 건 강연 구부 까지 아시아 태평양 환경 보건 분야 협력 센터 활동 협력 센터 국제 보건 사업 수행 위해 각 분야 전문 기관 선정 조직 국 제적 협력 기구 주요 임무 지역 적 국 제적 계획 전략 목표 달성 지원 거나 국제 보건 사업 과 학적 근거 확보 국가 지역 역량 강화 위 협력 체계 구 축하 것 등 협력 센터 규모 기준 전 세계 여 개 국 개 이상 환경 보건 산업 보건 전염 성 질병 정신건강 만성 질병 등 다양 분야 활동 국립 환경과학 원 국제 적 수준 기술 역량 협력 실적 등 인정 지난 동북아 지역 최초 환경 보건 분야 협력 센터 지정 지정 이후 국립 환경과학 원 아시아 태평양 주요 환경 보건 문제 해결 위 사업 적극 지원 지역 차원 협력 네트워크 구축 아시아 지역 환경 보건 분야 선도 우리나라 포함 여러 국가 환경 보건 개선 위해 취약 계층 환경 노출 건강 영향 연구 지역 내 환경 보건 기술 및 정보 교류 위 국제 행사 등 지속 적 개최 국립 환경과학 원 지난 간의 경험 성과 바탕 향후 활동 계획 구체화 협력 적 극적 강화 환경 보건 분야 협력 센터 위상 다양 사업 계획 중 저 소득 국가 환경 보건 역량 강화 훈련 워크숍 개최 지속 가능 발전 목표 달성 위 아태 지역 국가 환경 보건 표 개발 국내 외 어린이 환경 보건 역량 강화 훈련 과정 개발 등 준비 협력 센터 장 겸임 유승도 국립 환경과학 원 환경 건강 연구 부장 이번 협력 센터 재 지정 통해 국립 환경과학 원 기존 연구 활동 협력 분야 한층 강화 수 고 무적인 계기 마련 라며 우리나라 환경 보건 분야 발전 뿐 아태 지역 국가 환경 보건 개선 기여 질의 응답 전문용어 설명 끝',\n",
       " '정부 온실가스 감축 목표 제시 정부 온실가스 감축 목표 제시 관계 부처 합동 약 감축 목표 가지 시나리오 발표 온실가스 배출 전망 은 대비 약 감 축하 개 목표 시나리오 마련 시나리오 대비 안 안 안 안 사회 적 논의 감축 목표 확정 후 상반기 내 제출 예정 이후 신 기후 체제 마련 위 국제사회 논의 본격 화 가운데 우리 정부 상반기 중 감축 목표 확정 유엔 제출 위 개 감축 목표 시나리오 마련 사회 적 공론 화 절차 예정 정부 온실가스 감축 목표 설정 위 지난해 월부 터 온실가스 종합 정보 센터 에너지 경제 연구원 산업 연구원 등 개 전문 기관 중심 공동 작업 반 구성 분석 작업 진행 과학 적 분석 결과 토대 국무조정실 기획재정부 외교부 환경부 산업 통상 자원부 등 관계 부처 협의 금번 개 감축 목표 시나리오 마련 먼저 경제성장률 유가 산업 구조 등 주요 경제 변수 토대 온실가스 배출 전망 산정 결과 를 배출 것 분석 부문 별 배출 전망 기준 에너지 부문 비 에너지 부문 산업 공정 폐기물 농축 산 이 를 차지 한편 지난 전망 결과 비교 경우 배출전망치 폭 상승 작업 결과 비교 단위 백만 톤 연평 균 증가 율 정부 배출 전망 결과 기반 우리 감축 여력 등 거시경제 효과 국제 적 요구 수준 등 종합 고려 개 감축 목표 시나리오 다음 마련 제 안 대비 감축 감축 후 배출 량 백만 톤 대비 제 안 대비 감축 감축 후 배출 량 백만 톤 대비 제 안 대비 감축 감축 후 배출 량 백만 톤 대비 제 안 대비 감축 감축 후 배출 량 백만 톤 대비 시나리오 별 주요 내용 감축 수단 제 안 산업 발전 수송 건물 등 각 부문 별로 현재 시행 계획 중인 온실가스 감축 정책 강화 비용 효과 적 감 기술 반영 제 안 제 안 감축 수단 석탄 화 축소 건물 공장 에너지관 리 시스템 도입 자동차 평균 연비 제도 등 재 정지원 및 비용 부담 수반 감축 수단 포함 제 안 제 안 감축 수단 원자력 비중 확대 도입 상용 화 그린 카 보급 등 추가 적 대규모 재 정지원 및 비용 부담 필요 감축 수단 적용 제 안 제 안 감축 수단 추가 국민 적 동의 기초 원전 비중 추가 확대 추가 확대 석탄 전환 등 도입 가능 모든 감축 수단 포함 정부 개 시나리오 대해 공청회 금 등 통해 각계 의견 수렴 후 최종 감축 목표 확정 를 작 성하 달 말 유엔 제출 예정 각국 정 기여 한편 작년 페루 리마 개최 제 차 기후변화 협약 당사 국 총회 제출 일정 과 작성 지침 관 내용 정 바 준비 국가 까지 여타 국가 제 차 총회 충분 앞서 제출 현재 까지 미국 등 주요 선진국 비롯 총 개국 제출 상황 별 담당 부서 공청회 개최 계획 질의 응답 전문용어 설명 온실가스 감축 목표 설정 추진 계획 안 별도 배포 끝',\n",
       " '수소차 보급 지자체 점차 확대 추세 창원 팔 용동 수소 충전 소 준공 하루 충전 가능 수소차 및 충전 소 보급 확대 위해 지원 정책 강화 예정 환경부 장관 조경규 창원시 최초 수소 연료 전지 차 이하 수소차 충전 소 준공 식이 창원시 팔 용동 충전 소 현장 개최 이번 준 공식 이정섭 환경부 차관 안상수 창원시 장 비롯 충전 소 건설 참여 기업 수소차 관련 기업 관계자 등 명 참석 환경부 부터 수소차 및 수소 충전 소 보급 사업 추진 올해 까지 누적 전국 수소차 보급 수소차 충전 소 곳 확충 계획 지난해 수소차 수소차 충전 소 곳 확충 바 수소 충전 소 광주 광역시 진곡 환경부 보급 사업 최초 수소차 충전 소가 구축 이후 이번 준공 창원 충전 소 처럼 점차 확대 각 지자체 별로 충남 울산 전남 산업 단지 부생 수소 활용 광주 광역시 울산 수소차 생산 창원 수소 충전 소 제작사 부품 기업 등 집 적지 로서 각 지역별 장점 택시 카셰어링 등 민간 보급 변화 꾀 바 그간 환경부 지방자치단체 협업 통해 울산 시 수소 택시 출범 광주 광역시 수소차 카셰어링 발대식 등 추진 일반인 수소차 이용 수 기회 확대 환경부 관계 부처 합동 수소차 보급 및 시장 활성화 계획 수소차 로드맵 미세먼지 관리 특별 대책 발표 까지 수소차 만대 수소 충전 소 곳 구축 목표 달성 위해 지원 정책 강화 최근 국토교통부 민간 투자 활용 수소차 전기차 충 전소 보유 복합 휴게소 조성 까지 곳 등 민간 투자 유치 계획 이정섭 환경부 차관 최근 전기차 일부 지자체 보조금 신청 조기 마감 등 민간 수요 속도 증가 면서 수소차 아직 걸음 마 단계 보급 확대 수 도록 관련 지원 정책 강화 고 말 창원시 수소차 충전 소 준공 식 계획 용어 설명 수소차 보급 사업 국고 보조금 예산현 황 수소차 충전 소 현황 끝',\n",
       " '공기 상징 지의류 공기 상징 지의류 국립생물자원관 신종 종 등 국내 자생 지의류 종 롯데 시티 호텔 김포공항 국제 심포지엄 소개 국립생물자원관 관장 백운석 은 부터 최근 까지 국내 자생 지의류 종 아내 롯데 시티 호텔 김포공항 국제 심포지엄 소개 지의류 조류 균류 곰팡이 류 의 가지 생물 하나 생물체 생활 생물 군 말 조류 광합성 균류 당류 공급 균류 조류 살 곳 무기 양분 제공 이 특성 조류 균류 혼자 살 수 바위 나무 등 환경 살 아가 이끼 버섯 오인 기도 국립생물자원관 발견 국내 자생 지의류 종 세계 처 음으로 우리나라 발견 신종 종이 포함 국립생물자원관 연 구진 이 중 종 신종 비늘 잎낱 제주 밤색 문자 의 창자 탱자나무 의 방울 탱자나무 의 국명 부여 국립생물자원관 기준 표본 보관 수장 그 외 신종 종은 국명 아직 명명 연 구진 비늘 잎낱알 의 제주 밤색 문자 의의 학명 우리나라 최초 발견 의미 위해 나라 명과 지명 설악산 백담사 발견 신종 등재 비늘 잎낱알 의 고니 미아 코레아 우리나라 를 의 미하 학명 사용 제주도 관음사 발견 신종 등재 제주 밤색 문자 의 그 라피스 제주 엔시 스 제주 지명 의 미하 학명 부여 이번 발표 국내 자생 지의류 종 창자 탱자나무 의 아에 우스 거북 등 딱지 의 등 산 업적 활용 가치 종도 것 나타 창자 탱자나무 의 말리 인 테스 티니 포르 미스 서해안 남해안 제주도 분포 살균 기능 물질 우스 닌산 포함 천연 살생물제 원료 개발 수 것 기대 살생물제 자연 성분 이용 인간 해 곰팡이 등 생물체 물질 일본 우스 닌산 이용 천연 살생물제 코 레트 렐 개발 제주 전라도 고흥 해안 발견 국내 기록 종인 아에 우스 거북 등 딱지 의 디 프로 시스 테스 아에 우스 천연 염료 데 이용 물질 레 카노 린산 과 셀린 산 이 포함 국립생물자원관 이번 국제 심포지엄 소개 국내 자생 지의류 발표 통해 지의류 환경 변화 대기오염 를 측정 중요 지표 생물 생물 산업 활용 가능성 유용 생 물자원 임 적 극적 계획 대기오염 등 환경 변화 민감 원시 지의류 실송 세기 초 까지 한반도 분포 현재 이 종 보기 어려움 이번 국제 심포지엄 지의류 종 다양성 그 이용 주제 우리나라 포함 일본 러시아 독일 영국 등 개국 명의 연구자 지의류 발굴 통해 한반도 생물다양성 파악 결과 그 이용 대해 발표 우리나라 문 광희 국립생물자원관 미생 물자원 연 구관 한반도 속 매화 누지 속 재연 구 주제 연구 결과 소개 백운석 국립생물자원관 장 신종 학명 나라 명 이나 지명 자생 생물 산업 적 활용 연구 것 나고야 의정서 대응 위 일 이 라며 이번 심포지엄 우리 생물 주권 확 립하 데 바탕 바란 고 나고야 의정서 특정 국가 생물 이나 유전자 원 이용 상품화 려면 해 당국 미리 통보 승인 아야 이익 공유 합의 주요 지의류 참고자료 국제 심포지엄 포스터 및 일정 국제 심포지엄 발표 자 소개 질의 응답 전문용어 설명 끝',\n",
       " '화학사 테러 대비 전문 교육 훈련 장 설계 공모 총사 업비 규모 화학물질안전원 청사 시설 신축 이전 포함 충북 오송 까지 조성 우수 설계 업체 선정 위해 일부 터 달 공모 실시 환경부 소속 화학물질안전원 원장 김균 은 화학사 테러 대비 전문 교육 훈련 장 조성 화학물질안전원 청사 시설 신축 이전 위해 일부 터 달 건축 설계 공모 실시 이번 공모 사업 소방 군 지자체 화학물질 취급 사업 장 등 화학사 테러 대응 인력 전문성 강화 화학 안전 기술 개발 정보 함양 위 기반시설 조성하 기 위해 추진 시설 건립 예산 규모 총사 업비 원 부지 화학사 테러 유형 별 전문 교육 훈련 장 비롯 최신 식 실험 연구 교육 행정동 생활관 등 지상 층 규모 건축물 개 연 면적 이 어선 건립 지역 충청북도 오송 바이오 폴리스 구 오송 단지 일대 사업 부지 인근 오송역 경부 고속도로 등 인접 이번 설계 공모 교육 훈련 장 청사 구역 구분 전체 사업 부지 종합 계획 마스터플랜 제안 방식 진행 설계 안 선정 일반 설계 공모 달리 설계 업체 경험 역량 공모 과제 대한 기술 제안 아이디어 등 종합 적 심사 참가자 격 건축사 법령 건축사 사무소 개설 국토교통부 장관 신고 사업자 등 당선 설계 업체 약 원 상당 기본 및 실시 설계 대한 용역 비용 지원 예정 기본 및 실시 설계 건축 설계 과정 기본 설계 시설 물 배치 규모 개략 공사 방법 등 기술자 료 작성 실시 설계 시공 및 유지관리 필요 설계도 도면 시방서 등 작 성하 것 의미 함 화학물질안전원 참여 희망 사업자 대상 사업 전반 대한 현장 설명 회 대전 시 유성구 화학물질안전원 내 개최 예정 자세 사항 국가 종합 전자 조달 시스템 누리집 볼 수 화학물질안전원 이번 설계 공모 통해 우수 설계 업체 선정 까지 각종 인 허가 포함 기본 및 실시 설계 완료 이후 건축 공사 내 교육 훈련 장 건립 청사 신축 이전 사업 계획 김균 화학물질안전원 장 이번 설계 공모 화학 안전 대한 유능 설계자 참여 유도 품격 우수 아이디어 발굴 수 기회 것 이 라며 화학사 테러 실제 구현 각종 훈련 장 교육 연구 기반시설 등 성 공적 조성하 국내 외 화학 안전 분야 명실 상부 최고 전문 기관 위상 정립 고 신청 사 및 교육 훈련 장 건립 사업 개요 신청 사 및 교육 훈련 장 조감도 안 질의 응답 전문용어 설명 끝',\n",
       " '공동 참고 인 소자본 신업 종 창업 창업 규제 혁신 방안 창업 관련 업종 전반 검토 창업 규제 건 개선 다양 분야 능력 누구 인 소규모 간편 창업 수 도록 규제 혁신 전기차 이용 활성화 위 충전 인프라 강화 및 관리 체계 개선 방안 충전 인프라 및 충전기 점검 횟수 확대 등 국민 불편 사항 적극 개선 전기차 관리 체계 개편 공공기관 적극 구매 수소 버스 등 수소차 보급 확산 이낙연 국무총리 수 오전 정부 서울 청사 제 국정 현안 점검 조정 회의 서울 세종 영상 회의 를 주재 날 회의 정부 창업 규제 혁신 방안 전기차 이용 활성화 위 충전 인프라 강화 및 관리 체계 개선 방안 과 국가 재난 안전 관리 혁신 방안 논의 참석 교육부 과기 정통부 국방부 행안부 문체부 농식품부 산업부 복지부 고용부 국토부 해수부 중 기부 장관 국조 실장 기재부 환경부 차관 인사 처 법제처장 통계청 산림청 해양경찰 청 소방청 기상청장 등창 업 규제 혁신 방안 국무조정실 정부 날 회의 일자리 창 핵심 분야 창업 저 해하 규제 혁신 방안 논의 오늘 확정 창업 규제 혁신 방안 국무조정실 관계 부처 연초 부터 여개 주요 업종 검토 개선 방안 마련 것 일부 과제 개선 조치 완료 발표 그동안 정부 창업 인 센티 브 투자 확대 등 다양 창업 지원 정책 추진 이번 마련 규제 혁신 방안 추진 창업 활성화 위 시너지 효과 나타 날 것 기대 혁신 창업 생태계 조성 방안 중 기부 청년 창업 활성화 방안 일자리 위 청년 일자리 대책 기재부 금융업 진입 규제 개편 금융위 등 혁신 방안 중점 다양 분야 능력 누구 인 소규모 창업 가능 도록 것 개 업종 총 건 의 개선 과제 확정 이번 창업 규제 혁신 방안 주요 내용 사례 다음 다양 분야 창업 관광 보험 안전 문화 분야 등 창업 업종 세분 화 신설 새 재생에너지 차량 의약품 식품 등 출시 근거 마련 능력 누구 창업 창업 기업 과도 전공 경력 업력 등 요구 도록 창업 자격 요건 결격 사유 완화 인 소규모 창업 시설 장비 요건 축소 거나 임차 공동 사용 허용 창업 기업 부담 금 완화 운송 산림 복지 여행 등 자본금 축소 간편 창업 인 허가 등록 면제 창업 서류 간소화 처리기 간 단축 수수료 폐지 등 창업 절차 간소화 다양 지역 창업 가능 도록 입지 확 대합 정부 창업 규제 혁신 효과 체감 수 도록 관련 법령 개정 등 후속 조치 신속 추진 또한 신규 창업가 능 업종 계속 발굴 해나 고 규제 혁신 법 입법 완료 신 산업 창업 지원 더욱 확대 계획 정비 과제 건 세부 내용 전기차 이용 활성화 위 충전 인프라 강화 및 관리 체계 개선 방안 환경부 정부 전기차 이용 활성화 위해 충전 인프라 강화 관리 체계 개 선하 방안 논의 전기차 활성화 방안 주요 내용 다음 전기차 충전 인프라 강화 방안 누구 찾기 공공시설 군 중심 충전 인프라 구축 충전 시간 단축 위해 고속 충전기 보급 확대 우체국 공공 도서관 경찰서 등 부터 급 이상만 보급 예정 현재 급 기 구축 충전기 점검 횟수 강화 전기차 이용자 협업 고장 불편 사항 적 극적 개선 점검 횟수 월 확대 현지 출동 기존 시간 시간 이내 단축 전기차 서포터즈 선정 운 영하 고장 불편 사항 등 신고 체계 구축 실 사용자 고려 맞춤 형 정보 제공 과 충전 요금 결제 방식 다양 화 충전기 편 리하 사용 수 환경 조성 충전기 사용 안내서 이용 유의사항 충전 방식 등 주요 포털 실시간 운영 정보 제공 등 전기차 관리 체계 개선 방안지 자체 제작사 등 활용 수 전산 시스템 구 축하 전기차 등록부 터 폐차 까지 전 과정 대해 체계 적 관리 국토부 계 전기차 통합 관리 시스템 구축 전기차 수소차 등 친환경 차 공공기관 적극 구 매하 도록 로써 친환경 차 수요 기반 강화 나 가도 록 또한 수소차 천대 보급 및 수소 충전 소 개 설치 친환경 수소차 보급 사업 병행 나 가도 록 수소차 보급 확대 관련 이낙연 총리 광화문 공회 전하 경찰 버스 수소 버스 교체 것 공개 적 제안 면서 도심 미세먼지 줄 수소차 대한 시민 관심 를 수소차 수 데 기여 것 강조 국가 재난 안전 관리 혁신 방안 행정안전부 정부 대규모 재난 사고 대해 상 시적 대응 위해 과거 주요 재난 대응 사례 성과 한계 분석 마련 국가 재난 안전 관리 혁신 방안 대해 논의 날 회의 비상 상황 대응 체계 정립 혁신 국민 안전 생명 대한 국가 역할 책임 강화 위 방안 등 논의 정부 회의 논의 사항 반영 관계 기관 간 협의 연내 국가 재난 안전 관리 혁신 방안 최종 발표 예정',\n",
       " '환경 관리 우수 중소기업 환경 책임 보험 최대 만원 지원 환경 관리 우수 중소기업 환경 책임 보험 최대 만원 지원 한국 환경 산업 기술 원 일부 터 환경 책임 보험 보험료 지원 신청 접수 환경 관리 우수 중소기업 정부 로부터 환경 책임 보험료 지원 수 환경부 한국 환경 산업 기술 원 원장 김용주 은 환경 책임 보험 제도 안 정적 정착 중소기업 재정부 담 낮 추기 위해 환경 책임 보험 중소기업 지원 사업 진행 일부 터 접수 신청 지원 대상 최근 연평 균 매출 액 미만 소기 업 최근 연평 균 매출 액 대비 납부 환경 책임 보험료 비중 이상인 중소기업 중 환경 관리 우수 기업 환경 관리 우수 기업 이란 최근 이내 동안 환경오염 피해 발생 사실 거나 환경 안전 관련 법령 위반 영업정지 이상 행정처분 사실 기업 말 지원 금 규모 연간 보험료 평균 매출 액 를 초과 금액 를 지원 기업 당 최대 만원 까지 수 연평 균 매출 액 미만 소 기업 경우 연간 보험료 를 지원 접수 기간 일부 터 오후 까지 한국 환경 산업 기술 원 누리집 환경 책임 보험 통합 관리 시스템 신청서 양식 우편 방문 접 수하 방문 접수 주소 서울시 은평구 진흥 한국 환경 산업 기술 원 환경 피해 구제 실 중소기업 지원 담당 중소기업 환경 책임 보험 평균 보험료 약 만원 수준 규모 보장 금액 대비 편이 보험료 위험 량 비례 책정 유해 화학물질 등 다량 취급 일부 중소기업 경우 보험료 책정 재정 부담 경우 발생 따라서 이번 환경 책임 보험 중소기업 지원 사업 통해 평소 환경 안전 관리 수하 시행 온 중소기업 실 질적 보험료 혜택 수 전망 김용주 한국 환경 산업 기술 원장 환경 책임 보험 제도 사회 안 정적 정착 수 윤활유 역할 기대 고 환경 책임 보험 중소기업 지원 사업 공고 문 및 안내서 환경 책임 보험 중소기업 지원 사업 개요 질의 응답 전문용어 설명 끝',\n",
       " '아시아 태평양 국가 환경 보건 문제 해결 방안 아시아 태평양 국가 환경 보건 문제 해결 방안 국립 환경과학 원 세계보건기구 태평양 사무소 서울 국제 심포지엄 개최 몽골 피지 등 여국 직면 환경 보건 문제 해결 방안 모색 광산 등 취약 지역 주민 환경 건강 문제 논의 국립 환경과학 원 원장 박진원 은 세계보건기구 태평양 지역 사무소 소장 신영수 필리핀 마닐라 소재 아시아 태평양 권역 내 취약 지역 환경 보건 이슈 협력 방안 주제 롯데 시티 호텔 김포공항 점 심포지엄 개최 날 행사 태평양 지역 사무소 몽골 피지 일본 등 개국 환경 보건 전문가 여명 참석 참가 국 및 기관 몽골 베트남 인도네시아 일본 캄보디아 피지 필리핀 한국 등 개국 및 태평양 사무소 심포지엄 참여 국가 직면 주요 환경 보건 문제 해결 방안 대하 논의 그 중 광산 지역 환경 주민 건강 문제 대해 집중 적 논의 계획 또한 심포지엄 참여 전문가 인천 시 서구 국립 환경과학 원 방문 우리나라 환경 보건 정책 폐광 산 지역 주민 건강 조사 방법 등 소개 환경 관리 대한 경험 공 유하 시간 환경부 국립 환경과학 원 부터 태평양 지역 사무소 기후변화 건강 영향 폐광 산 지역 관리 분야 등 전문가 파견 현지 조사 등 협력 국립 환경과학 원 환경 건 강연 구부 동북아 최초 취약 계층 환경 보건 협력 센터 로 지정 바 이후 센터 아시아 태평양 지역 취약 계층 환 경보 건문제 해결 위 활동 지원 국내 외 관련 기관 공동 협력 관계 구축 취약 계층 환경 보건 협력 센터 장 최경희 국립 환경과학 원 환경 건강 연구 부장 협력 센터 통해 우리나라 국제사회 도움 수 도록 취약 계층 환경 보건 문제 파악 문제해결 위 연구 협력 지속 적 수행 계획 협력 센터 심포지엄 프로그램 주요 내용 질의 응답 전문용어 설명 끝',\n",
       " '국립공원 사망 사고 절반 심장 돌연사 가을 철 산행 주의 심정지 환자 발생 시 심폐소생술 실시 생존 확률 이상 환경부 국립공원 관리 공단 일 교차로 심장 돌연사 위험 가을 철 산행 때 탐방 객 각별 주의 필 요하 고 부터 동안 국립공원 내 발생 전체 사망 사고 건 중 심장 돌연사 건 절반 이상 차 지하 발생 사망 사고 건 중 심장 돌연사 건 국립공원 관리 공단 연중 일 교차 가장 가을 철 신체 갑작 기온 변화 적응 심장 돌연사 위험 평소 설명 따라서 산행 중 심장 돌연사 예방 위해 사전 심폐소생술 숙지 산행 나 서면 불의 사고 예방 수 심정지 발생 때 주변 목격자 바로 심폐소생술 실시 생존 율 이상 수 즉시 조치 취하 분만 지나 생존 율 미만 것 질병 관리 본부 심폐소생술 가이드라인 제시 심폐소생술 순서 환자 반응 확인 국립공원 사무소 신고 호흡 확인 가슴 압박 인공호흡 순 가슴 압박 분당 속도 후 인공호흡 연속 시행 인공호 홉 방법 모르거나 인공호흡 구조 일 반적 심폐소생술 달리 가슴 압박 시행 가슴 압박 소생 술 도록 권장 심폐소생술 시작 환자 호흡 오거 구조대 도착 때 까지 계속 시행 혼 자하 기보 심폐소생술 명의 사람 교대 시행 것 이번 추석 연휴 기간 가을 단풍 철 안전 산행 려면 출발 전 반드시 자신 체력 건강 상태 탐방 를 선택 스트레칭 등 충분 준비운동 필 요하 평소 산행 사람 고 지대 목표 산행 사고 위험 매우 국립공원 별 저지 탐방 명소 것 심혈관계 질환 거나 고령 경우 고지 정상 탐방 형 산행 가급 적 피하 둘레길 등 저지 수평 탐방 를 이용 것 사고 예방 방법 김경 국립공원 관리 공단 안전 방재 처 심정지 발견 동반 자 주변 탐방 객 신속 심폐소생술 생존 율 고 말 현황 사진 국립공원 안전 사고 현황 인포그래픽 국립공원 내 심정지 환자 소생 사례 심폐소생술 순서 질의 응답 끝',\n",
       " '기후변화 사막화 영향 정량 적 예측 기후변화 지표면 사막화 정량 적 분석 기술 개발 세계 적 학술지 네이처 기후변화 온라인 판 논문 게재 환경부 한국 환경 산업 기술 원 원장 남 광희 은 기후변화 전 세계 지표면 사막화 진행 변화 정량 적 예측 분석 기술 최근 개발 이번 기술 현재 보편 적 이용 기후 모형 및 시나리오 기반 향후 지표면 건조 화가 심각 해지 시점 건조 화 심각 지역 등 정량 적 예측 수 환경부 한국 환경 산업 기술 원 지원 기후변화 대응 환경기술 개발 사업 통해 서울대학교 허창 회 지구 환경과학 부 교수 연구 팀 연구개발 진행 이번 개발 기술 유엔 기후변화 정부 간 협의 체 차 보고서 제시 지구온난화 시나리오 온실가스 농도 시나리오 이하 를 기반 사막화 극심 해지 시점 사막화 심각 지역 피해 규모 등 분석 온실가스 농도 시나리오 시나리오 온실가스 감 정책 상당 실현 경우 시나리오 온실가스 감 정책 제대로 실행 현재 추세 온실가스 배 출하 경우 가정 함 분석 결과 시나리오 대로 기후변화 진행 경우 지구 평균 온도 산업혁명 이전 대비 증가 전 세계 적 건조 화가 심각 질 전망 중남미 남부 유럽 남아프리카 오스트레일리아 중국 남부 등 건조 화 문제 심각 것 예상 남부 유럽 지역 부터 사막화 현상 극심 질 것 분석 또한 지구 온도 증가 전 세계 지표면 건 조화로 극심 피해 입 것 나타 이로 세계 인구 영향 것 예측 기후변화 효과 적 대응 지구온난화 이내 억제 세계 적 사막화 건조 화가 나타 지역 및 인 구수 이하 수 것 전망 파리 기후변화 협정 지구 평균 온도 상승 수준 까지 제한 목표 설정 렇 개발 기술 기후변화 지표면 건조 화 피해 최소 정책 수립 효과 적 활용 수 파리 협정 각 당 사국 기후변화 국가 적응 계획 수 립하 기여 수 이번 기술 대한 논문 세계 적 과학 학술지 네이처 기후변화 의 온라인 판 게재 논문 명 파리 협정 목표 달성 평균 온도 상승 수준 제한 시 사막화 최소 화 수 게재 남 광희 한국 환경 산업 기술 원장 기후변화 효과 적 대응 위해 사막화 포함 이상기후 영향 분석 관련 기술 및 국내 현황 반영 기후변화 영향 분석 기술 개발 적극 지원 기후변화 사막화 예측 결과 질의 응답 전문용어 설명 끝',\n",
       " '우주 미세먼지 위성 활용 방안 논의 우주 미세먼지 위성 활용 방안 논의 환경 해양 기상 위성 천리안 위성 호기 활용 방안 논의 위해 국회 정부 공동 전문가 토론회 개최 환경 해양 기상 관측 자료 공동 활용 통해 미세먼지 관측 정확도 향상 등 동반 상승 효과 창 도모 국립 환경과학 원 원장 박진원 은 국민 삶 질 증진 위 천리안 위성 활용 주제 서울시 여의도 국회의원 회관 전문가 토론회 개최 날 토론회 학계 비롯 산업 계 정부 전문가 여명 참석 환경 위성 탑재 체 개발 현황 활용 방안 대해 논의 예정 환경 위성 탑재 체 정지궤도 복합 위성 탑재 환경 관측 장비 망원경 부 분광 부 전자 부로 구성 환경 기상 해양 분야 관측 자료 공동 활용 황사 미세먼지 감시 정확도 향상 시 공간 해상도 향상 등 동반 상승 효과 창 방안 대해 서도 토론 계획 환경 해양 기상 위성 천리안 위성 호 은 환경부 미래창조과학부 해양수산부 기상청 등 개 부처 공동 개발 중인 정지궤도 복합 위성 기상 센서 탑재 해양 환경 센서 탑재 로 구성 발사 예정 환경 감시 센서 올해 국내 개발 분 망원경 부 대한 제작 완료 내년 납품 목표 제작 진행 중이 위성 탑재 기상 센서 구름 탐지 등 개 항목 산 출하 해양 센서 적조 등 개 항목 환경 센서 대기 중 미세먼지 등 개 항목 정보 실시간 산 출하 장임 석 환경 위성 사업 추진단 장 일상생활 위성 활용 더 이상 미래 이야기 며 이번 토론회 통해 국민 쾌적 안전 삶 기여 수 정책 방안 제시 것 기대 고 말 이번 토론회 미래 창조과학 방송통신 위원회 간사 국민의당 김경진 국회의원 신용 현 국회의원 주 최하 국립 환경과학 원 기상청 국가 기상위성 센터 한국 해양 과학기술원 국회 뉴스 전파 신문 남 서울대학교 공동 주관 천리안 호 공동 활용 위 위성 토론회 개최 계획 위성 대토론 회 프로그램 일정 질의 응답 전문 용어 설명 끝',\n",
       " '가습기 살균제 피해 명 추가 인정 총 명 인정 제 차 가습기 살균제 피해 구제 위원회 개최 가습기 살균제 폐 명 태아 건 천식 명 중복 명 포함 등 명 인정 일부 터 천식 질환 신규 신청 접수 개시 환경부 장관 김은경 서울 중구 서울 스퀘어 제 차 가습기 살균제 피해 구제 위원회 위원장 환경부 차관 안병옥 를 개 최하 가습기 살균제 폐질 환 태아 피해 천식 질환 조사 판정 결과 등 건의 안건 심의 의결 위원회 가습기 살균제 피해 신청 자 명 재심사 명 포함 대한 폐질 환 조사 판정 결과 심의 명 재심사 명 포함 피 정인 의결 태아 피해 건 중 건 인정 또한 명 재심사 명 포함 대한 천식 피해 조사 판정 결과 심의 명 재심사 명 포함 피해 것 인정 명 추가 자료 확보 후 판정 완료 이로 총 명 천식 피해 인정 이번 의결 전체 신청 자 명 철회 자 명 제외 중 인 명 대한 폐질 환 조사 판정 완료 폐질 환 피해 인정 피 인정 인도 명 명 증가 태아 및 천식 질환 피 인정 포함 경우 가습기 살균제 건강 피해 피 인정 은 총 명 질환 별 중복 인정 자 제외 신규 신청 자 명 검사 연기 명 연락 두절 명 이외 판정 완료 피 인정 자 명 폐질 환 명 태아 피해 명 천식 피해 명 폐질 환 태아 중복 인정 자 명 폐질 환 천식 중복 인정 자 명 한편 환경부 일부 터 천식 피해 대한 신규 신청 예정 신청 절차 구비 서류 등 자세 사항 가습기 살균제 종합 지원 센터 콜센터 로 연락 거나 가습기 살균제 피해 지원 종합 포털 확 인하 환경부 관계자 올해 말 까지 접수 신 청자 연내 조사 판정 완료 수 도록 노력 라며 가습기 살균제 천식 의심 사람 이나 그 유족 가습기 살균제 종합 지원 센터 로 신청 바란 말 가습기 살균제 건강 피해 조사 판정 결과 끝',\n",
       " '수도 용 제품 안전 강화 수도 법 하위 법령 개정안 입법 예고 수도 용 제품 위생 안전 기준 항목 추가 및 수도 용 제품 인터넷 판매 시 위생 인증 정보 게재 의무 화 수도 요금 대상 유치원 포함 대형 건축물 급수 관 상태 검사 공개 의무 화 환경부 장관 김은경 수도 법 시행 령 시행 규칙 수도 용 자재 및 제품 위생 안전 기준 인증 등 관 규칙 환경부 령 개정안 일부 터 동안 입법 예고 이번 수도 법 하위 법령 개정안 올해 일부 터 시행 수도 용 제품 자재 위생 안전 관리 강화 골자 수도 법 개정 법률 위임 사항 제도 일부 부족 점 개선 위 것 또한 저수조 및 급 수관 관리 개선 등 위 하위 법령 개정 추진 개정안 주요 내용 다음 수도 용 제품 위생 안전 기준 강화 지난해 환경부 실시 수도 용 제품 위생 안전 기준 추가 위 연구 결과 현재 개인 위생 안전 기준 항목 니켈 추가 개 확대 수도 용 제품 위생 인증 제도 운영 측면 미비 점도 보완 인터넷 통해 수도 용 제품 구매 경우 인증 정보 제공 위생 기준 적합 여부 구매 자가 점 개 선하 통신 판매 시 위생 안전 증 마크 등 정보 웹사이트 게재 또한 현재 물 접촉 모든 수도 용 제품 마다 정기 위생 검사 아야 정당 사유 검사 기 피하 경우 인증 무효 도록 수도 요금 감 면대 상 교육 시설 유치원 포함 그동안 요금 교육 시설 초 중 고등학교 대상 었으 교육 시설 간의 형평성 추기 위해 국 공립 및 사립 유치원 대상 추가 지자체 조례 율 정 수 엄격 수돗물 급수 시설 관리 위 저수조 급수 관 위생 관리제 상의 문제점 개선 저수조 청소 인력 저수조 청소 업 신고 이후 이내 교육 도록 위생 관리 강화 차원 마다 주 기적 재교육 도록 또한 일정 규모 이상 건축물 대해 급 수관 상태 검사 주기 결과 아파트 등 해당 건축물 거주 자 게시판 이나 유인물 통해 반드시 공개 도록 이 정수 시설 운영 관리사 자격시험 공고 일 간지 한정 인터넷 홈페이지 등 활용 수 도록 시험 공고 방법 다양 화 이번 수도 법 하위 법령 개정안 자세 내용 환경부 누리집 법령 정보 확인 수 환경부 입법 예고 기간 동안 이해관계자 국민 등 다양 의견 수렴 개정안 반영 계획 수도 법 하위 법령 개정안 주요 내용 질의 응답 전문용어 설명 끝',\n",
       " '신 기후 체제 출범 위 기후변화 총회 파리 개막 신 기후 체제 출범 위 기후변화 총회 파리 개막 제 차 유엔 기후변화 협약 당 사국 총회 일부 터 주간 교토의정서 신하 신 기후 체제 합의 세계 이목 집중 제 차 유엔 기후변화 협약 당 사국 총회 프랑스 파리 현지 시각 부터 까지 주간 개최 당 사국 총회 유엔 기후변화 협약 최고 의사결정 기구 로서 매년 세계 각국 환경 분야 장관 급 인사 온실가스 감축 기후변화 적응 등 논의 회의 체다 이번 총회 개 당사 국 대표 비롯 국제 기구 산업 계 시민사회 관련 전문가 등 이상 참석 예정 이번 총회 세계 주목 이유 교토의정서 공약 기간 종료 이후 적용 신 기후 체제 대한 협상 타결 합의 문 가칭 파리 의정서 채택 목표 때문 국제사회 신 기후 체제 대한 논의 올해 말 까지 마무리 지난 부터 정부 간 협상 진행 우리나라 의 무적인 감축 책임 부과 교토의정서 달리 신 기후 체제 우리나라 포함 모든 국가 선진국 개도국 구분 감축 참여 국 제적 기후변화 대응 새 전기 마련 것 전망 다만 온실가스 감축 목표 설정 방식 국가 별 의무감 축 하향 식 할당 과거 방식 각국 다양 국가 별 상황 반 영하 스스로 감축 목표 결정 수 도록 허용 유연 접근 방식 채택 것 예상 이번 총회 한해 각국 제출 신 기후 체제 기여 방안 토대 앞 주 기적 감축 목표 갱신 이행 점검 위 절차 등 결정 예정 그간 협상 과정 각국 신규 감축 목표 포함 각국 기여 방안 파리 총회 앞서 제출 합의 바 이 지금 까지 여개 당 사국 유엔 제출 완료 우리나라 배출전망치 대비 감축 목표 국가 기후변화 적응 정책 등 포함 기여 방안 지난 유엔 제출 바 지금 까지 각국 제출 감축 목표 합 전세계 온실가스 배출 량 이상 달 목표 치 역사상 최대 규모 국 제적 온실가스 관리 기반 마련 것 평가 교토의정서 경우 미국 캐나다 일본 러시아 뉴질랜드 등 주요 국 불참 면서 그 관리 대상 전세계 온실가스 배출 량 지적 각국 기여 방안 제출 통한 동참 의지 표명 외 최근 미국 중국 프랑스 등 주요 국 신 기후 체제 출범 위 강력 정치 적 의지 보이 이번 총회 협상 타결 가능성 전망 각국 기여 방안 대한 국제 법적 구속력 개도국 기후변화 대응 지원 위 재 정지원 계획 등 일부 쟁점 대해 주요 국 의견 대립 협상 막바지 까지 격론 예상 우리나라 윤성규 환경부 장관 포함 환경부 외교부 산업 통상 자원부 등 구성 정부 대표 단 산업 계 시민사회 관계자 등 참석 우리 대표 단 선진국 개도국 간 중재 역할 통해 협상 타결 위해 적극 노력 한편 주요 국 양자 협의 등 통해 주요 쟁점 대한 해결 책 모색 계획 또한 총회 기간 동안 현지 한국 관 파빌리온 운 영하 온실가스 배출권거래제 도입 국가 기후변화 적응 대책 수립 국가 온실가스 통계 관리 체계 구축 등 우리나라 기후변화 대응 경험 노력 국제사회 적 극적 예정 김준기 환경부 지구 환경 담당 관 이번 파리 총회 신 기후 체제 협상 타결 통해 기후변화 효과 적 대응 수 국제 체제 마련 수 것 기대 며 우리나라 정책 경험 토대 협상 건설 적 기여 수 도록 노력 고 제 차 유엔 기후변화 협약 당 사국 총회 개요 한국 관 파빌리온 설치 운영 질의 응답 전문용어 설명 끝',\n",
       " '낙동강 생물 자원 관 담수 생 물자원 실용 화 연구 추진 낙동강 생물 자원 관 담수 생 물자원 실용 화 연구 추진 국립 낙동강 생 물자원 관 애경 산업 주 간 연구 업무 협약 체결 담수 및 지역 생 물자원 이용 실용 화 연구 육성 적극 지원 합의 냉 노화 방지 제품 등 개발 예정 국립 낙동강 생 물자원 관 관장 안영 은 애경 산업 주 대표이사 광현 과 경북 상주시 국립 낙동강 생 물자원 관 담수 및 지역 생 물자원 실용 화 연구 를 위 업무 협약 체결 이번 협약 지난해 나고야 의정서 발효 국가 생물 주권 조기 확보 담수 및 지역 생 물자원 실용 화 연구 의 하나로 마련 양 기관 협약 통해 담수 및 지역 생 물자원 이용 실용 화 연구 산업화 타당성 검증 및 협력 가능 분야 개발 상호 관심 분야 공동 연구 및 전문 인력 정보 교류 담수 및 지역 생 물자원 이용 향 품 공동 연구 사업 발굴 기타 교류 협력 위 필 요하 고 인정 사항 등 담수 및 지역 생 물자원 산업 육성 적 극적 지원 합의 이번 협약 통해 국립 낙동강 생 물자원 관 담수 및 지역 생 물자원 대한 유용성 정보 소재 제공 애경 산업 주 은 담수 소재 이용 제품 개발 예정 국립 낙동강 생 물자원 관 발굴 특허 논문 효능 등 유용성 정보 종합 분석 소재 애경 산업 주 제공 애경 산업 주 은 공동 연구개발 성과 상업 위해 우선 냉 노화 방지 제품 개발 예정 위해 양 기관 향후 실무 협 의회 구 성하 담수 및 지역 생 물자원 산업화 위 사업 기반 구축 공동 연구 통해 경쟁력 향 조기 사업 안영 국립 낙동강 생 물자원 관장 이번 협약 담 수생 물자원 조사 발굴 보존 활용 선도 적 역할 국립 낙동강 생 물자원 관 환경 친 및 저 탄소 제품 개발 기술 력 보유 애경 산업 주 간 공동 연구 시작 이 라며 통해 향후 국 제적 생 물자원 경쟁 체제 우위 선점 수 유용성 연구 모범 것 말 업무 협약 식 진행 내용 질의 응답 전문 용어 설명 끝 관련 사진 환경부 웹하드 게재 예정',\n",
       " '국제 기상 강우 레이더 콘퍼런스 개최 국제 기상 강우 레이더 콘퍼런스 일부 터 까지 부산 수재 대응 위 범 정부 기상 강우 레이더 협력 강화 국내외 레이더 기술 교류 창구 마련 환경부 장관 조명 일부 터 까지 부산 해운대구 파라다이스 호텔 국제 기상 강우 레이더 콘퍼런스 를 개최 이번 행사 미국 일본 중국 유럽 등 인의 해외 레이더 전문가 국내 연구자 인 등 총 명의 국내외 전문가 비롯 기상 강우 레이더 관련 기관 환경부 국방부 기상청 학계 및 연구기관 사업 체 등 여 명 참석 이번 콘퍼런스 물관 리 일원화 이후 처 음으로 환경부 기상청 공동 개 최하 학술 행사 국내외 기상 강우 레이더 운영 활용 기술 개발 사항 공유 발 전적 국가 레이더 공동 활용 확대 방안 논의 초청강연 중국 난징대 학 자오쿤 교수 레이더 활용 태풍 강수 특성 분석 연구 결과 일본 고베 대학 사토 루 오이 시 교수 일본 기상 강우 레이더 정보 활용 현황 소개 미국 체코 일본 등 국내외 레이더 기반 홍수예보 수자원 활용 관 기술 현황 레이더 기초 자료 분석 도시 홍수 예방 등 다양 분야 연구 결과 공유 기상 강우 레이더 전파 발 사하 구름 수증기 빗방울 반사 파 수 신하 비 양 등 기상 정보 환경부 강우 레이더 내륙 고 지대 설 치하 지표 부근 고도 이하 의 정밀 관측 정확 홍수 예측 필요 유역 별 물 유입 량 관측 기상청 기상레이더 주로 해안 설 치하 범위 지상 고도 관측 바다 한반도 유입 기상 관측 및 예보 활용 레이더 관련 기관 환경부 국방부 기상청 레이더 계 운영 강화 위해 정책 협의 회 구성 운영 레이더 관측 사각 지대 해소 관측 전략 분석 기술 개발 유지관리 등 상호 협력 박재현 환경부 한강홍수통제소 장 이번 콘퍼런스 기상 강우 레이더 활용 극대 수 지속 적 국내외 기술 교류 창구 레이더 범 국가 적 수재 관리 및 홍수 예보 방안 자리 김 기대 말 국제 기상 강우 레이더 콘퍼런스 세부 일정 끝',\n",
       " '금강 사랑 그림 그리기 대회 개최 세종 보 변 공원 개최 일부 터 까지 접수 대상 작품 환경부 장관 상 등 총 명 시상 개최 당일 금강 자연 성 회복 주제 사진전 환경부 장관 김은경 금강유역환경청 한국 수자원공사 공동 세종 보 인근 공원 세종 특별자치시 나리 초 중학생 대상 금강 사랑 그림 그리기 대회 를 개최 이번 그림 대회 살 숨 금강 피어 생태계 를 주제 강의 의미 미래세 공유 위해 마련 금강 대강 중 최초 중 완전 개방 예정 그림 대회 주관 대전 충남 환경보전 협회 일부 터 까지 참가자 접수 참가 희망 학교 명 학년 반 성명 연락처 인솔 자 정보 등 기재 팩스 이메일 우편 대전광역시 서구 대덕대로 번지 길 층 제 출하 그림 대회 당일 행 사장 배 부하 도화지 그린 작품 인정 초등학생 절 중등 학생 절 도화지 배부 각자 그림 도구로 자유 롭 면 날 대회 출품 작 가운데 대상 금 은상 동상 장려상 점 등 총 점 선정 수상자 환경부 장관 상 한국 수자 공사 사장 상 대전 세종 교육감 상 금강유역환경청 장상 등 상장 소정 상금 지급 예정 당일 그림 그리기 대회 금강 주제 환경 사진전 참가자 직접 참여 수 환경 체험 공간 부스 도 환경 사진전 그간 최대 개방 유지 세 종보 공주보 생태 변화 눈 확인 수 여 점 사진 전시 이 이동환 경교 실 등 다양 부대 행사 운영 김동진 금강유역환경청 장 이번 그림 대회 통해 참가 학생 금강 알 환경 대한 관심 기회 바란 금강 사랑 그림 그리기 대회 포스터 끝',\n",
       " '사고 상황 공유 앱 화학사 대응 시간 사고 상황 공유 앱 화학사 대응 시간 캐리 스 앱 사고 대응 시간 단축 환경부 소속 화학물질안전원 원장 김균 은 스마트폰 용 어플리케이션 캐리 스 앱 사고 상황 공유 앱 올해 도 입하 화학사 대응 정보 제공 시간 종전 평균 단축 캐리 스 앱 은 화학물질 사고 대응 정보 시스템 기반 화학물질안전원 개발 스마트폰 용 어플리케이션 화학사 대응 기관 직원 사이 채팅 통한 사고 상황 공유 비롯 사진 동영상 화학물질 특성 정보 등 자료 송 수신 기능 이 앱 여종 화학물질 물성 방재 정보 약 곳 화학물질 취급 사업 장 정보 방재 업체 현황 등 포함 사고 발생 시 현장 사고 대응 필요 각종 정보 실시간 활용 수 캐리 스 앱 은 문자 팩스 등 사고 대응 정보 단 방향 전달 기존 문제점 탈피 사고 대응 직원 간의 양방 향 정보 제공 공유 기능 유관 기관 간의 유 기적 사고 대응 수습 체계 강화 데 기여 것 평가 화학사 고가 발생 경우 전국 권역별 화학 특수 구조대 등 사고 대응 직원 현장 도착 방재 구조 등 초동 조치 착 수하 골든타임 통상 이 시간 단축 수록 방재 구조 등 사고 대응 원활 사고 대응 기관 화학물질안전원 캐리 스 앱 제공 정보 활용 사고 물질 적합 방재 활동 수 지자체 신속 주민 대피 통해 피해 최 소화 화학물질안전원 이 앱 소방 경찰서 군 화생방 등 여개 화학사 대응 유관 기관 직원 여명 배포 김균 화학물질안전원 장 화학사 현장 신속 정확 정보 공유 제공 위해 캐리 스 앱 확대 운영 계획 이 라며 유관 기관 간의 협업 강화 화학사 고의 골든타임 확보 피해 최소 위해 계속 노력 것 말 사고 상황 공유 앱 개요 질의 응답 전문용어 설명 끝',\n",
       " '멸종위기종 급 두드 럭 조개 국내 최대 서식지 발견 멸종위기종 급 두드 럭 조개 국내 최대 서식지 발견 국립생태원 금강 상류 내 습지 약 여 개체 발견 과거 대동강 한강 금강 등 서식 기록 한강 절종 추정 국립생태원 원장 최재천 이 생태 경관 우수 역 등 대한 자연환경 조사 통해 충남 금강 상류 내 습지 멸종위기 야생 생물 급 두드 럭 조개 의 국내 최대 규모 서식지 발견 두드 럭 조개 수질 양호 유속 하천 중 상류 지역 서식 우리나라 토종 민물 조개 인위 적 교란 서식지 축소 개체 수가 크게 환경부 멸종위기 야생 생물 급 지정 이번 내 습지 중심 면적 약 여 개체 서식 것 확인 두드 럭 조개 길이 높이 폭 까지 성 장하 황색 바탕 갈색 띤 껍데기 알갱이 돌기 특징 또한 다른 조개 달리 뻘 자갈 모래 곳 주로 산다 껍질 매우 과거 진주 양식 핵 이나 단추 재료 이용 기도 대동강 비롯 한강 금강 등 서식 금강 유역 지금 까지 개 소량 개체 발견 기록 이번 처럼 여개 개체 집단 서식지 발견 것 처음 김덕만 율 교육대학 교수 논문 집 한국 담 수산 패류 분포 조사 연구 발간 한강 본류 강동구 고덕동 근방 개체 두드 럭 조개 채집 한강 년대 이후 관찰 기록 절종 것 추정 두드 럭 조개 사람 출입 인위 적 교란 서식지 급격 사라 지면 현재 금강 일부 지역 제외 발견 보호 활동 시급 실정 전용 락 국립생태원 전문 위원 이번 발견 두드 럭 조개 서식지 보전 위해 지속 적 정밀 조사 보호지역 지정 등 적 극적 보호대 책 마련 필 요하 고 말 한편 멸종위기 야생 생물 포획 훼 손하 거나 고사 관련 규정 위반 경우 최고 이하 징역 원 이상 원 이하 벌금 처 멸종위기종 급 두드 럭 조개 발견 당시 사진 끝',\n",
       " '우리나라 생 물자원 보존 이용 위 발전 방향 생물소재 관리 기관 전문가 생물소재 은행 발전 포럼 개최 국내 생물소재 은행 전문가 지속 적 협력 체계 구축 환경부 소속 국립생물자원관 서울 용산구 포포 츠 바이 쉐라톤 남산 세미나 룸 제 차 생물소재 은행 발전 포럼 연 이번 포럼 우리나라 생물소재 관리 기관 전문가 자리 생물소재 은행 운영 대한 중요성 공감 기관 별 협력 방안 논의 위해 마련 생물소재 생물 그 자체 생물 로부터 어진 유전자 원 등 기초 연구 재료 생물다양성 보전 생물 산업 필수 적 중요 자원 생물소재 은행 과학계 수요 적정 형태 규모 생물 및 생물 로부터 자원 확보 관리 분 양하 연구개발 활동 지원 기관포 럼 국립생물자원관 국립 낙동강 생 물자원 관 국립종자원 농업 유전자 원 센터 국립수목원 한국 생명공학 연구원 한국 과학기술 연구원 한약 진흥 재단 등 개 부처 소속 및 기관 전문가 여 명 참여 이번 포럼 다양 생물소재 관 리하 국내 기관 지식 경험 공 유하 첫 자리 의미 우리나라 현재 운영 생물소재 은행 종자 은행 천연물 은행 미생물 은행 등 양하 그간 기관 간 정보 공유 및 실 질적 협력 체계 다소 미흡 나고야 의정서 발효 유전자 원 접근 이용 및 이익 공유 관 법률 시행 국내 생 물자원 대한 국가 차원 관리 대책 마련 관련 기관 및 산 업계 정보 공유 절실 상황 이번 포럼 참여 기관 기관 별 생물소재 관리 현황 공유 포럼 운영 방안 및 공동 협력 체계 마련 위해 토론 또한 국가 생물소재 안정 적 보존 지속 가능 이용 위해 향후 산업 계 학계 연 구계 까지 참여 확 대하 정 기적 포럼 운영 예정 앞 국립 생 물자원 포럼 논의 부처 별 협력 방향 및 전문가 의견 적극 반 영하 국가 생물소재 관리 전략 및 협력 방안 구 체적 마련 계획 황 계영 국립생물자원관 생 물자원 활용 부장 국내 최고 전문가 구성 포럼 발판 우리나라 생물 주권 보호 경쟁력 강화 위해 국가 차원 체계 적 생물소재 관리 수 협력 방안 도록 노력 말 생물소재 은행 발전 포럼 개최 계획 생물소재 은행 발전 포럼 포스터 이미지 국립생물자원관 생물소재 은행 소개 이미지 질의 응답 전문용어 설명 끝',\n",
       " '사업 장 질소 산화물 대기 배출 부과금 제도 도입 연간 삭감 기대 미세먼지 및 오존 생 원인 지목 질소 산화물 대기 배출 부과금 부과 대기 환경보전 법 하위 법령 개정안 일부 터 일간 입법 예고 환경부 장관 김은경 사업 장 배출 질소 산화물 대해 부과금 도 입하 대기 환경보전 법 시행 령 시행 규칙 일부 개정안 일부 터 동안 입법 예고 산업 계 등 이해관계자 의견 충분 수렴 질소 산화물 은 사업 장 연료 때 배출 거나 자동차 배출 가스 포함 대기오염 물질 주로 이산화질소 형태 그 자체 로서 독성 뿐 햇빛 광 화학반응 통해 미세먼지 및 오존 등 생 이번 개정안 지난해 정부 합동 발표 미세먼지 관리 종합 대책 의 후속 조치 중 하나 개정안 그간 먼지 황산화물 등 오염 물질 부과 대기 배출 부과금 질소 산화물 부과 도록 부과금 산정 필요 자료 거짓 제출 사업 장 최대 수준 산정 부과금 내 도록 등 대기 배출 부과금 제도 운영 상의 부족 점 개선 이번 개정안 주요 내용 다음 대기오염 물질 배출 사업 장 배출 허용 기준 초과 때 부과 초과 부과금 배출 허용 기준 이내 배출 오염 물질 부과 기본 부과금 질소 산화물 추가 질소 산화물 당 부과 단가 그간 산 업계 의견 수렴 결과 사업 장의 오염 물질 처리 비용 등 감안 정 부과 단가 외 농도 별 부과 계수 지역별 부과 계수 및 연도 별 부과금 산정 수 등 부과금 산정 필요 요소 시행 중인 먼지 황산화물 동일 설계 농도 별 부과 계수 배출 허용 기준 대비 배출 농도 차등 부과 위 계수 지역별 부과 계수 사업 장 소재지 차등 부과 위 계수 연도 별 부과금 산정 수 물가상승률 등 고려 위해 매년 고시 계수 질소 산화물 배출 부과금 공포 후 경과 날 부터 시행 기본 부과금 부과 배출 허용 기준 이내 최소 배출 농도 단계 적 강화 까지 사업 장의 반기 별 평균 배출 농도 배출 허용 기준 수치 이상일 경우 부과 까지 배출 허용 기준 부터 배출 허용 기준 이상 배 출하 경우 강화 환경부 지난해 산 업계 간담 회 등 통해 업계 의견 충분 수렴 부과 단가 시행 시기 및 최소 부과 농도 등 설정 이번 입법 예고 과정 산 업계 충분 의견 수렴 제도 안착 추진 예정 이 외 그간 부과금 산정 필요 배출 량 자료 거짓 제출 사업 장 대한 배출 량 추정 방법 강화 현장 측정 배출 량 가산 것 부과 기간 동안 배출 허용 기준 농도 배출 시설 설비 최대 용량 추정 배출 량 를 가산 것 또한 대기 배출 부과금 납부 방식 신용카드 직불카드 등 납부 수 도록 규정 환경부 이번 개정안 적용 사업 장 대기 배출 부과금 최소 부과 농도 질소 산화물 처리 경우 질소 산화물 연간 약 톤 감 사회 적 편익 약 천억 원인 것 추정 사회 적 편익 천억 원 질소 산화물 삭감 량 약 편익 원단 위 백만 원 톤 편익 원단 위 출처 대기오염 물질 사회 적 비용 재 평가 연구 미세먼지 기준 약 톤 해 당하 국내 미세먼지 배출 량 감축 목표 톤 수준 환경부 이번 개정안 자세 내용 환경부 누리집 공개 입법 예고 기간 동안 이해 관계자 국민 등 다양 의견 수렴 개정안 반영 계획 김종률 환경부 대기 환경 정책 관 사업 장 질소 산화물 배출 부과금 도입 미세먼지 및 오존 국민 건강 위 대책 사업 장 서도 사전 질소 산화물 관리 강화 수 도록 준비 바란 말 국내 질소 산화물 개요 및 배출 현황 대기 환경보전 법 하위 법령 개정안 주요 내용 대기 배출 부과금 제도 개요 질의 응답 끝',\n",
       " '전기자동차 무료 체험 공유 자동차 업체 통해 전기차 이용 시 쿠폰 형태 비용 지원 전기차 대한 국민 관심 증대 및 친밀 감 형성 기대 환경부 소속 수도권대기환경청 청장 김 동구 은 공유 자동차 카셰어링 업체 통해 전기차 체험 수 친환경 교통 수단 지원 행사 일부 터 진행 이번 행사 국민 친환경 교통 수단 전기차 운전 경험 제공 전기차 대한 친밀 감 형성 관심 높이 기 위해 마련 행사 대기오염 관련 퀴즈 풀 공유 자동차 서비스 업체 그린 카 카 제공 전기차 일정 시간 수 쿠폰 지원 방식 진행 공유 자동차 서비스 란 대의 자동차 여러 이용자 최소 분부 터 시작 시간 공유 서비스 기존 대여 렌터 카 택시 등 차별 화 교통 수단 이번 행사 스마트폰 소유 운전면허증 소지 자가 대상 자동차 대기오염 관련 퀴즈 대한 정답 방식 일부 터 까지 진행 행사 참가자 관련 누리집 그린 카 카 퀴즈 풀 행사 기간 정답 자 중 추첨 통해 명 공유 자동차 업체 전기차 약 시간 동안 이용 수 만원 상당 쿠폰 제공 쿠폰 공유 자동차 업체 전기차 이용 려면 스마트폰 그린 카 카를 검색 관련 모바일 앱 쿠폰 사용 기간 일부 터 까지 전국 그린 카 및 카 차고 전기차 보유 여 곳 사용 가능 이번 행사 자세 내용 수도권대기환경청 누리집 의 안내 문 고하 한편 수도권대기환경청 이번 행사 이용 고객 대상 전기차 체험 후기 및 대기오염 관련 설문조사 실시 전기차 이용 후 발송 문자 메시지 통해 전기차 체험 후기 설문조사 작성 사람 중 명 추첨 공유 자동차 서비스 전기차 이용 수 만원 상당 쿠폰 추가 증정 김 동구 수도권대기환경청 장 이번 행사 접 수 전기차 시민 직접 경험 수 기회 라며 친환경 전기차 인식 확산 계기 나 아가 전기차 보급 활성화 바란 말 질의 응답 전문용어 설명 끝',\n",
       " '화학 재난 합동 방재 센터 운영 활동 성과 평가 화학 재난 합동 방재 센터 운영 활동 성과 평가 부처 간 협업 조직 운영 중인 전국 개 화학 재난 합동 방재 센터 화학사 예방 대응 활동 평가 합동 방재 센터 만족도 개선 위 운영 방안 지속 추진 환경부 장관 조경규 전국 개 화학 재난 합동 방재 센터 위치 지역 주민 기업체 종사 자 방재 센터 직원 등 여명 대상 올해 월부 터 개 월간 방재 센터 운영 성과 조사 결과 응답 자 명중 명 은 방재 센터 화학사 안전 관리 기여 응답 지역 주민 명 기업체 종사 자 명 센터 직원 명 유관 기관 명 지역 주민 방재 센터 인지 응답 자 명 대상 기업체 종사 자 센터 직원 유관 기관 화학 재난 합동 방재 센터 정부 기반 협업 조직 화학사 예방 화학사 발생 시 대응 업무 수행 위해 전국 개 산업 단지 인근 환경부 고용부 산업부 안전 처 지자체 등 개 기관 합동 월부 터 설치 운영 중이 시화 시화 반월 서산 대산 익산 익산 제 여수 여수산단 울산 울산 포 온 산산 단 구미 구미산 단 이번 조사 방재 센터 설치 운영 그간 활동 성과 평가 개선 방안 모색 위 실시 것 방재 센터 인지도 화학 안전 대한 기여 정도 주요 활동 대한 만족도 개선 사항 등 조사 방재 센터 만족도 조사 결과 아래 인지도 기업체 방재 센터 활동 인지 반면 지역 주민 만 인 지하 것 나타 지역 주민 인지도 조사 결과 비 교하 증가 폭 아직 홍보 활동 필요 것 대비 인지도 변화 지역 주민 기업체 기여 방재 센터 지역 화학사 예방 대응 기여 대한 질문 지역 주민 기업체 유관 기관 긍 정적 평가 분야 별로 합동 지도 점검 모의 훈련 등 예방 대비 활동 부분 가장 기여 응답 그 음으로 사고 대응 지역 내 화학 안전 대한 인식 제 순 응답 방재 센터 수행 합동 지도 점검 유관 기관 모의 훈련 교육활동 등 주요 활동 별 만족도 모두 나타 일부 개선 필요 사항 지적 만족도 점 만점 합동 지도 점검 점 모의 훈련 점 교육 점 지도 점검 분야 방재 센터 팀 정보 교환 사업 장 대한 종합 진단 가능 점 평가 일정 조율 어려움 소규모 기업체 합동 점검 부담 등 개선 필요 것 나타 모의 훈련 분야 훈련 기업 대응 능력 향상 효과 확인 극단 적 상황 가정 훈련 현 실성 어진 의견 피드백 통한 훈련 결과 활용 의견 내부 직원 유관 기관 훈련 후 기업 사고 대응 능력 향상 응답 사고 대응 분야 화학사 발생 시 신속 대응 응답 사고 대응 위 방재 센터 가장 중요 역할 신속 출동 초동 대응 꼽았다 기업체 유관 기관 방재 센터 개선 발전 방향 응답 자 모두 장비 전문 인력 확충 노후 시설 교체 유관 기관 간 협력 강화 중 요하 고 응답 기업체 변화 법규 신속 안내 요청 등 화학사 예방 대비 활동 강화 기 대하 것 나타 환경부 이번 조사 결과 통해 화학 재난 합동 방재 센터 설치 이후 지역 화학 안전 크게 기여 것 확인 수 방재 센터 구성원 간 협업 통해 업무 효율 높이 방재 센터 중심 사업 체 안전 관리 강화 것 것 볼 수 지역 기업 참여 및 센터 팀 합동 사고 대응 사례 환경부 이번 조사 결과 도출 개선 분야 대해 관계 기관 기업체 등 논의 지속 적 개선 계획 다양 홍보 활동 통해 방재 센터 인지 높이 컨설팅 위주 사업 장 관리 확 대하 훈련 시나리오 현실 화 등 모의 훈련 개선 예정 또한 화학사 가능성 지역 중심 민관 공동 대응 협의 회 운영 확 대하 계획 화학 재난 합동 방재 센터 만족도 조사 결과 화학사 예방 대응 협업 사례 합동 방재 센터 사고 예방 대응 업무 사진 질의 응답 끝',\n",
       " '하천 호소 부영양화 원인 물질 질소 관리 위해 전문가 한자리 하천 호소 부영양화 원인 물질 질소 관리 위해 전문가 한자리 제 차 물 환경 정책 전문가 포럼 연세대 물 환경 보전 위 질소 관리 필요성 및 대응 방안 주제 개최 환경부 장관 윤성규 물 환경 정책 포럼 위원장 배병욱 교수 과 공동 연세대학교 신촌캠퍼스 제 공 학관 물 환경 보전 위 질소 관리 필요성 및 대응 방안 주제 제 차 물 환경 정책 포럼 개최 물 환경 정책 포럼 대한 환경공학 회 대한 상 하수도 학회 국물 환경학 회 한국 생태학 회 한국 습지 학회 한국 지하수 토양 환경학 회 한국 하천 호소학 회 한국 환경 분석 학회 한국 기상학 회 등 물 환경 분야 관련 개 학술단체 구성 이번 포럼 산업 계 학계 연구기관 등 물 환경 분야 전문가 여명 참여 녹조 현상 발생 부영양화 원인 물질 중 하나 질소 의 관리 방향 대해 발표 자유 롭 토의 시간 윤성택 고려대 교수 하천 호소 수질 지하수 질소 오염 중요성 관리 방안 대해 박준홍 연세대 교수 생물학 적 질소 감소 작 물 환경 관리 상의 시사 점 대해 각각 발표 권 중천 주 에코 다임 박사 축산 분뇨 처리 및 질소 관리 방안 대해 이재웅 국립 환경과학 원 박사 한강 질소 분포 특성 및 관리 방안 고찰 대해 공동 수 경기대 교수 우리나라 물 환경 질소 관리 방향 대해 각각 발표 발표 이호 식 한국 교통대 교수 좌 권수 열 국물 환경학 회장 이우진 카이스트 교수 유규 선 전주대 교수 이상민 공주대 교수 등 참여 종합 토론 시간 물 환경 정책 포럼 구성 매년 차례 열 린다 다양 물 환경 관련 정책 현안 중심 전문가 연구 결과 발표 토론 통해 국가 물 관리 정책 대한 과 학적 대안 제시 목표 삼고 올해 이번 포럼 포함 총 차례 개최 제 차 물 환경 정책 전문가 포럼 질의 응답 전문용어 설명 끝',\n",
       " '실내 공기 질 실태 점검 어린이집 개선 신축 공동 주택 예년 초과 율 증가 실내 공기 질 실태 점검 어린이집 개선 나신 축 공동 주택 예년 초과 율 증가 년도 어린이집 곳 중 곳 실내 공기 질 오염 물질 기준 초과 신축 공동 주택 곳 지점 중 곳 지점 권고 기준 초과 전 년도 대비 증가 건축 자재 오염 물질 방출 여부 사전 적 관리 전환 실내 공기 질 측정 공고 일 일전 일전 지난해 어린이집 등 다중이 용 시설 신축 공동 주택 실내 공기 질 실태 조사 결과 어린이집 예년 개선 신축 공동 주택 실내 공기 질 수준 년 것 나타 환경부 장관 윤성규 지난해 다중이 용 시설 신축 공동 주택 실내 공기 질 관리 실태 점검 결과 다중이 용 시설 곳 중 곳 실내 공기 질 유지 기준 신축 공동 주택 곳 지점 중 곳 지점 실내 공기 질 권고 기준 초과 것 다중이 용 시설 종류 별로 구분 어린이집 조사 대상 곳 중 인 곳 의료 기관 곳 중 인 곳 실 내공 기질 유지 기준 초과 다중이 용 시설 실내 공기 질 유지 기준 미세먼지 폼알데하이드 이하 총 부유세 균 이하 등 어린이집 경우 년도 실내 공기 질 점검 결과 기준 초과 율 기준 초과 율 약 감소 실내 공기 질 유지 기준 초과 항목 중 가장 것 총 부유세 균 전체 초과 시설 곳 중 곳 차지 폼알데하이드 곳 뒤 총 부유세 균 실내 공기 중 부 유하 세균 먼지 수증기 등 부착 생존 호흡기 피부 등 통해 노출 시 알레르기 성 질환 호흡기 질환 등 유발 폼알데하이드 자 극성 냄새 띤 무색 기체 세계보건기구 급 발암 물질 지정 관리 물질 바닥재 마감 재 등 건축 자재 주로 방출 어린이집 중 총 부유세 균 항목 곳 가장 미세먼지 항목 곳 두 번 차지 환경부 실내 공기 질 법적 기준 위반 다중이 용 시설 소유자 등 해당 지방자치단체 과태료 부과 개선 명령 조치 취했다 한편 서울 등 전국 개 시 도의 아파트 등 신축 공동 주택 곳 개 지점 대한 실내 공기 질 점검 결과 인 곳 개 지점 이 권고 기준 초과 것 나타 신축 공동 주택 실내 공기 질 권고 기준 폼알데하이드 스티렌 톨루엔 등초 항목 스티렌 전체 초과 시설 곳 중 곳 가장 음으로 톨루엔 곳 폼알데하이드 곳 순 나타 스티렌 인 화성 무색 액체 세계보건기구 급 발암 물질 지정 관리 물질 접착제 페인트 등 건축 자재 방출 톨루엔 무색 투명 가연성 액체 접착제 페인트 등 방출 년도 실내 공기 질 초과 비율 증가 것 환경부 이 결과 대해 신축 공동 주택 권고 기준 기준 초과 시 과태료 등 제재 때문 것 파악 환경부 다중이 용 시설 실 내공 기질 개선 위해 지자체 협력 기준 초과 율 어린이집 의료 기관 등 중점 적 관리 나 가기 법적 규제 대상 소규모 어린이집 미만 등 대한 실내 공기 질 무료 진단 개선 서비스 병행 병원 등 관련 협회 자율 관리 협약 체결 맞춤 형 실내 공기 질 관리 수칙 마련 홍보 등 통해 시설 소유자 자율 적 실 내공 기질 관리 나 가도 록 적극 지원 예정 또한 신축 공동 주택 등 실내 공기 질 관리 통해 새집 증후군 국민 건강 피해 사 전적 예방 자 실내 공기 오염 주요 원인 건축 자재 관리 현행 사후 샘플 조사 사전 확인 제로 개편 강화 나 가기 실내 공기 질 측정 공고 일도 일전 일전 입 주민 알 권리 확대 오염 경우 시공사 최소한 정화조 치 베이 크아 웃 환기 등 후 수 기반 마련 계획 다중이 용 시설 등 실내 공기 질 관리 법 시행 규칙 개정 추진 중 개정 완료 예정 다중이 용 시설 및 신축 공동 주택 실내 공기 질 관리 기준 다중이 용 시설 유지 기준 초과 현황 신축 공동 주택 권고 기준 초과 현황 질의 응답 전문 용어 설명 끝',\n",
       " '환경부 폭스바겐 배출 가스 조작 차량 리콜 승인 검증 결과 불법 소프트웨어 제거 및 배출 가스 질소 산화물 개선 가속 능력 등판 능력 연비 리콜 전 후 비슷 리콜 경위 미국 폭스바겐 배출 가스 조작 사건 발표 이후 환경부 두 달 동안 실태 조사 후 아우디 폭스바겐 개 차종 만대 대한 배출 가스 조작 발표 이 차량 인증 취소 판매정지 과징금 부과 리콜 명령 바 인증 취소 판매정지 과징금 부과 조치 이행 완료 리콜 폭스바겐 측 리콜 계획 를 부실 제 출하 리콜 서류 반려 다가 폭스바겐 리콜 서류 다시 제출 함 교통 환경 연구소 환경부 자동차 안전 연구원 국토부 리콜 검증 실시 폭스바겐 제출 리콜 내용 폭스바겐 제출 리콜 결함 시정 내용 첫째 실내 인증 조건 배출 가스 재 순환 장치 를 작동 도로 주행 등 조건 배출 가스 재 순환 장치 를 불법 소프트웨어 제거 실내 외 구별 배출 가스 재 순환 장치 를 정상 작동 소프트웨어 교체 둘째 연소 효율 차량 성능 높이 기 위 연료 분사 압력 증대 연료 분사 방식 연소 행정 기 압축 연소 팽창 배기 마다 분사 분사 스플릿 분사 로 이 외 차량 개 차종 만대 공기 흐름 균일 유지 연소 효율 높이 기 위 흡입 공기 제어기 추가 장 리콜 검증 결과 월부 터 까지 두 달 동안 교통 환경 연구소 소프트웨어 배출 가스 성능 시험 교통 안전 연구원 연비 시험 각각 실시 리콜 검사 장면 리콜 검증 결과 불법 소프트웨어 제거 질소 산화물 배출 량 개선 가속 능력 등판 능력 연비 리콜 전 후 나타 소프트웨어 실내 인증 조건 경우 배출 가스 재 순환 장치 중단 현상 도록 불법 조작 소프트웨어 제거 함 불법 조작 소프트웨어 제거 배출 가스 불법 소프트웨어 제거 배출 가스 재 순환 장치 가동 율 증가 질소 산화물 배출 량 실내 도로 주행 감소 질소 산화물 배출 량 실내 외 성능 시험 정지상 태 도달 시간 나타 가속 능력 경사 를 등판 능력 소프트웨어 교체 전 후 변화 성능 시험 가속 능력 등판 능력 연비 시험 연비 측정 결과 실내 공인 연비 차이 소프트웨어 교체 전 후 로서 변동 도로 주행 연비 과징금 기준 감 소하 차이 연비 시험 실내 외 공인 연비 측정 리콜 전 후 연비 차이 발생 대해 미국 판매 차량 배출 가스 재 순환 장치 외 연료 분사 질소 산화물 저장 제거 장치 배출 장치 장착 한국 판매 차량 연료 분사 질소 산화물 저장 제거 장치 장착 때문 것 환경부 분석 환경부 소프트웨어 배출 가스 성능 시험 연비 시험 등 가지 리콜 검증 마치 폭스바겐 측 연료 압력 매연 감 장치 리콜 이행 율 달성 방안 대한 보완 자료 요구 바 환경부 폭스바겐 제출 보완 자료 검토 결과 환경부 요구 수준 충족 것 판단 연료 압력 허용 압력 이내 유지 매연 감 장치 허용 온도 이내 작동 리콜 이행 율 달성 방안 픽업 배달 서비스 교통비 제공 등 환경부 폭스바겐 차량 배출 가스 연비 등 측면 리콜 승인 요건 충 족하 리콜 승인 참고 한국 차량 동일 사양 의 차량 판매 유럽 이후 차례 리콜 승 인하 개 그룹 전체 대해 리콜 승인 한국 엄격 사양 배출 기준 배 의 차량 판매 미국 모델 차량 대해 리콜 승인 것 리콜 후속 조치 그 동안 리콜 명령 차량 경우 리콜 이행 기간 개월 동안 리콜 이행 율 수준 환경부 폭스바겐 측 리콜 이행 율 미국 폭스바겐 리콜 이행 율 목표 로 방안 요구 이 대해 폭스바겐 측은 픽업 배달 서비스 교통비 제공 콜센터 운영 등 인 센티 브 제공 그 동안 리콜 대상 차량 픽업 배달 서비스 등 제공 사례 환경부 요구 분기 별 리콜 이행 실적 분석 리콜 예상 부진 경우 추가 적 리콜 보완 방안 마련 환경부 분기 별로 리콜 이행 실적 분석 리콜 보완 방안 요구 사례 환경부 폭스바겐 측 제시 리콜 이행 율 제 방안 외 차량 소유자 폭스바겐 측 제시 만원 상당 쿠폰 수령 위해 서비스 센터 방문 때 리콜 실시 경우 리콜 이행 율 달성 가능 것 전망 리콜 소요 시간 차량 환경부 리콜 승인 차량 이상 결함 확인 검사 연간 개 차종 차종 포함 결함 여부 지속 적 모니터링 계획 환경부 이번 리콜 승인 티 구안 개 차종 만대 이외 나머지 개 차종 만대 배기량 엔진 출력 등 개 그룹 리콜 계획 를 접수 후 검증 예정 리콜 검사 장면 불법 조작 소프트웨어 제거 질소 산화물 배출 량 실내 외 성능 시험 가속 능력 등판 능력 연비 시험 실내 외 아우디 폭스바겐 리콜 차량 만대 질의 응답 전문용어 설명',\n",
       " '화학물질 누출사고 대비 의료 대응 지침 환경부 순천향대 환경 보건 센터 화학사 응급환자 초기 의료 대응 위 응급처치 및 건강 진단 지침 발간 환경부 장관 김은경 순천향대 학교 구미 병원 유해 가스 노출 환경 보건 센터 센터 장 현 화학물질 노출 응급환자 의료 대응 위 사 고대 비물질 응급처치 지침 외래 진료 및 건강 진단 지침 를 발간 사 고대 비물질 응급처치 지침 화학사 고가 발생 경우 의료 진 바로 활용 수 도록 실 용성 초점 실무 지침 형태 어진 것 특징 이 지침 사 고대 비물질 종 중 시안화수소 등 종 대한 지침 공개 이후 두 번 발간 것 페놀 등 종 추가 알고리즘 응급처치 매뉴얼 응급실 대응 리스트 환자 용 물질 정보 시트 환자 용 후속 조치 설명 등 내용 시안화수소 아르신 포스핀 불산 염산 황화수소 암모니아 수산화나트륨 포름알데히드 톨루엔 부타디엔 벤젠 페놀 크실렌 염소 염화비닐 산화 에틸렌 포스겐 신경 작용 제 수포 작용 제 외래 진료 및 건강 진단 지침 화학물질 노출 환자 대상 증상 및 노출 평가 설문조사 생물학 적 노출 지표 건강 진단 등 건강 영향 조사 대한 방법 루고 이 지침 사 고대 비물질 응급처치 지침 수록 종 사 고대 비물질 대해 외래 진료 및 건강 진단 시기 절차 진찰 및 검사 항목 관련 고사항 등 내용 이번 종 지침 순천향대 학교 구미 병원 교수 진 부천 병원 천 안병원 서울 병원 등 교수 진과 협력 제작 종 지침 화학사 발생 위험 국가 산업 단지 주변 지역 응급의료 기관 선적 배포 환경부 누리집 법령 정책 환경 정책 과 순천향대 환경 보건 센터 누리집 서도 일부 터 그림 파일 형태 책자 수 현 순천향대 학교 구미 병원 환경 보건 센터 센터 장 이번 지침 발간 계기 의료 진 화학물질 노출 환자 대한 실 질적 응급처치 지고 임 진찰 검사 항목 상급 의료 기관 전원 및 추적 관찰 항목 등 관련 정보 제공 수 며 올해 말 트리 로 에탄 등 종 사 고대 비물질 추가 계획 말 순천향대 학교 구미 병원 구미 불산 누출사고 계기 환경부 로부터 유해 가스 노출 분야 환경 보건 센터 지정 사 고지역 주민 관찰 화학물질 노출 인체 영향 연구 조 사하 역할 지침 표지 사진 환경 보건 센터 지정 현황 끝',\n",
       " '유해 화학물질 유출 사고 행동 매뉴얼 담당자 자리 유해 화학물질 유출 사고 행동 매뉴얼 담당자 자리 국민 안전 처 환경부 협업 재난 관리 화학 안전 교육 매뉴얼 숙달 훈련 시행 교육 훈련 개요 일시 장소 화 목 국가 민방위 재난 안전교육 원 충남 천안 과정 명칭 유해 화학물질 유출 사고 재난 대비 역량 지원 과정 안전 처 환경부 협업 최초 부처 간 협업 과정 개설 유형 별 행동 매뉴얼 담당자 대상 교육 훈련 과정 구성 국민 안전 처 재난 관리 체계 매뉴얼 환경부 불산 누출사고 교훈 표준 매뉴얼 개정 내용 및 행동 매뉴얼 표준 안 합동 매뉴얼 숙달 훈련 국민 안전 처 장관 박 인용 환경부 장관 윤성규 유해 화학물질 유출 사고 철저 대비 신속 대응 위해 합동 행동 매뉴얼 담당자 대상 교육 훈련 과정 일부 터 일간 운영 교육 훈련 특징 이전 까지 유출 사고 관련 국민 안전 처 환경부 교육 훈련 지휘 부 현장 대응 기관 집중 개별 교육 기관 재난 화학 안전 별도 구분 교육 금번 교육 훈련 재난 및 화학 분야 협업 과정 구 성하 그간 교육 훈련 사각 지대 지자체 행동 매뉴얼 담당자 대한 재난 대비 역량 강화 중점 유해 화학물질 유출 사고 주관 기관 환경부 현장 작 동하 매뉴얼 도록 관리 최근 매뉴얼 개정 바 국민 안전 처 주최 매뉴얼 경진 대회 우수상 표준 매뉴얼 개정 국민 안전 처 매뉴얼 협의 회 확대 및 매뉴얼 작성 기준 마련 등 주관 기관 매뉴얼 개선 적극 지원 중이 금번 교육 훈련 지자체 행동 매뉴얼 일체 화 동시 개정 위해 매우 중요 의미 국민 안전 처 환경부 담당 부서 및 화학물질안전원 등 전문가 강사 지원 예정 교육 훈련 내용 세 부적 교육 훈련 내용 과 정운영 앞서 지난 지자체 협의 시행 외부 전문가 참석 사 전준 비회 를 개최 바 국민 안전 처 환경부 경북 구미시 외부 전문가 명 커리큘럼 강사 선정 등 일부 터 일간 국민 안전 처 재난 관리 체계 매뉴얼 관리 및 재난대응 환경부 표준 매뉴얼 개정 행동 매뉴얼 작성 방안 및 사고사 례 등 담당 강의식 교육 후 직접 매뉴얼 숙달 훈련 병행 교육 내용 즉시 매뉴얼 반영 수 도록 조치 계획 국민 안전 처 윤재철 국가 민방위 재난 안전교육 원장 재난 대비 역량 강화 위해 협업 과정 지속 개설 한편 시행착오 면밀 매뉴얼 담당자 필요 맞춤 형 교육 훈련 수 도록 최선 노력 것임',\n",
       " '중 일 환경 장관 수원 미세먼지 대응 지속 가능 발전 목표 이행 등 환경 현안 중점 논의 중 일 환경 장관 회의 일부 터 이틀 간 수원 개최 환경부 장관 중국 일본 장관 별도 양자 회담 예정 환경부 장관 김은경 일부 터 까지 중 일 국 간 환경 현안 향후 협력 방안 논의 위 제 차 중 일 환경 장관 회의 를 수원시 팔달구 소재 마다 프라자 호텔 개최 이번 회의 김은경 환경부 장관 리 제 중국 환경보호 부장 나카가와 마사 하루 일본 환경성 대신 비롯 국 정부 대표 참석 회의 각 국가 간의 양자 회담 시작 본회의 이후 공동 합의 문 서명 기자회견 등 진행 예정 중 일 환경 장관 회의 우리나라 제안 시작 매년 국 교대 개최 미세먼지 등 동북아 지역 환경문제 공동 대응 위 환경 분야 최고 위급 협력 체다 이번 회의 국 장관 직접 자국 주요 환경 정책 발표 지역 국제 적 차원 환경문제 대응 위 협력 방안 논의 김은경 장관 미세먼지 감 대책 생활 안전 강화 지속 가능 국토 환경 조성 지속 가능 발전 목표 및 신 기후 체제 이행 체계 구축 등 국내외 환경 현안 대응 위 우리나라 여러 정책 소개 국 장관 미세먼지 비롯 기후변화 생물다양성 등 환경 전반 협력 계획 공동 합의 문 채택 계획 김 장관 이번 회의 계기 오후 중국 일본 환경 장관 별도 양자 회담 예정 중국 미세먼지 비롯 대기오염 대응 정책 연구 기술 협력 강화 자연환경 물 토양 등 환경 전반 향후 간 의 중 환경 협력 계획 양국 간 환경 산업 기술 협력 대해 의견 일본 양국 간 미세먼지 공동 연구 협력 대해 논의 미국 파리 협정 탈퇴 그 중요성 부각 기후변화 대응 대하 입장 공유 계획 이번 회의 새 정부 첫 회의 로서 향후 간의 환경 정책 방향 중국 일본 알리 상호 협력 모색 자리 것 김 장관 이번 중 일 환경 장관 회의 미세먼지 등 환경 현안 해결 위 의지 국 간 상호 공유 향후 공동 대응 위 새 출발점 것 말 이번 회의 부대 행사 일부 터 이틀 동안 환경 비즈니스 라운드테이블 회의 수원 이비 스 호텔 청년 포럼 이 밸류 하이엔드 호텔 개최 환경상 시상식 장관 회의 종료 직후 마다 프라자 호텔 열 린다 청년 포럼 은 중 일 대학생 등 청년 명 참석 생물 문화 다양성 청년 참여 를 주제 환경 비즈니스 라운드테이블 국 산업 계 관계자 여 명 참석 녹색 경제 성과 확대 위 환 경산 업계 사회 적 책임 주제 각각 토론 환경상 은 국 환경 협력 기여 자 수여 우리나라 수상자 중 일 따오기 보호 기여 공로 창녕군 우포늪 관리사 무소 이성 봉 계장 선정 제 차 중 일 환경 장관 회의 주요 일정 끝',\n",
       " '환경 정책 자금 수요 자 중심 융자 지원 강화 환경 정책 자금 수요 자 중심 융자 지원 강화 실수 중심 지원 분야 조정 등 수요 자 편의 위 환경 정책 자금 융자 제도 운영 일부 터 접수 환경부 장관 윤성규 한국 환경 산업 기술 원 원장 김용주 은 환경 산업 체계 적 육성 환경보전 강화 위해 일부 터 환경 정책 자금 융자 신청 융자 관리 시스템 환경 정책 자금 융자 사업 총 규모 분야 별로 재활용 산업 육성 자금 환경 개선 자금 환경 산업 육성 자금 천연가스 공급 시설 설치 자금 등 융자 신청 접수 분기 별로 진행 시작 분기 환경 정책 자금 융자 신청 대해 금리 적용 올해 환경 정책 자금 융자 사업 재활용 산업 육성 자금 경우 재활용 산업 체 실수 중심 예산 운영 수 도록 세부 지원 분야 조정 세부 지원 분야 활용 실적 기술 개발자 금 과 유통 판매 자금 분야 폐지 활용 시설 자금 경영 안정 자금 분야 예산 집중 천연가스 충전 소 시설 필요 자금 지원 천연가스 공급 시설 설치 자금 총 사업 비 기준 융자 신청 이 천연가스 충전 소 시설 사용자 충전 소 부대 시설 설치 때 융 자금 편 리하 활용 수 친환경 자동차 보급 촉진 기여 것 이 환경 기업 실 질적 운영 비용 지원 운전자 금 사용 범위 확대 환경 개선 자금 중 오염 방지 시설 설치 자금 지원 대상 중소기업 뿐 만 중견 기업 확 대하 등 제도 적 변화 도입 융자 신청 기업 편 의성 증대 위해 온라인 신청 단계 간소화 문자 알림 서비스 도 입하 기업 융자 신청 진행 단계 파악 수 도록 이번 환경 정책 자금 융자 사업 수요 자 편익 강화 실현 초점 각 부문 별 활용 현황 기반 실제 사용자 중심 제도로 운영 예정 위해 한국 환경 산업 기술 원 지난해 총 기업 금융기관 등 관계 기관 대상 간담 회 설문조사 진행 현장 목소리 적극 반 영하 수요 자 맞춤 형 정책 운영 준비 김용주 한국 환경 산업 기술 원 원장 앞 국민 목소리 더욱 귀 수요 자 중심 환경 정책 자금 융자 사업 운영 환경 산업 육성 환경 개선 위해 노력 것 년도 환경 정책 자금 융 자공고 안내 문 질의 응답 전문 용어 설명 끝',\n",
       " '생물 산업 블루 오션 거미 유전자 원 확보 시작 생물 산업 블루 오션 거미 유전자 원 확보 시작 종 거미 유전자 원 생물소재 블루 오션 개척 시작 거미 바이오스 틸 개발 천적 곤충 환경 지표 생물 등 청년 일자리 창 생물 산업 원천 소재 주목 산학 연 요구 추어 생물 산업 활용 소재 거미류 유전자 원 무상 제공 국립생물자원관 관장 김상배 이 핵심 개혁 과제 중 하나 신 산업 확충 통한 청년 일자리 창 기여 자생 생 물자원 발굴 및 유용 생물 사업 화 지원 위해 우리나라 살 야생 거미류 약 해 당하 종 여 점 의 유전자 원 확보 한국 산 무당거미 추출 천연 효소 자임 은 미국 일본 등 전 세계 여개 나라 수출 연매출 원 이상 예상 정도 유망 사업 아이템 일자리 창 기여 것 기대 거미 실젖 생산 거미줄 무게 강철 강도 배 커서 방탄 조끼 활용 또한 거미 독 이용 생물 농약 의약품 등 생리 활 물질 탐색 산업 자원 세계 각국 주목 이번 확보 거미 유전자 원 소백산 발견 방울 게거미 속 리가 게거미 비롯 희귀 토양 성 거미류 포함 한국 고유 거미류 종 점 포함 야생 거미 유전자 원 확보 나고야 의정서 발효 활용 가능성 생 물자원 대한 주권 확보 뿐 활용 연구 다방면 이용 수 거미류 환경 지표 생물 뿐 해충 천적 활용 최근 거미줄 이나 거미 독 포함 생리 활 물질 생물 산업 원천 소재 주목 별 늑대 거미 중금속 환경오염 민감 호랑 거미 기후변화 지표 생물 황 산적 거미 육식성 해충 멸 구류 먹기 때문 농업 및 산림 생태계 유용 자원 활용 산업 적 활용 위해 육식성 거미 먹이 생물 개발 이나 고 밀도 사육 환경 서로 공식 현상 억 제하 등 대량생산 관련 연구 개발 절실 필 요하 국립생물자원관 우리나라 거미 산업 소 재화 위해 먹이 생물 대량생산 관련 기술 개발 연구 추진 계획 거미류 유전자 원 지난 해 온라인 대국민 서비스 시작 생 물자원 대여 분양 시스템 통해 유전자 국가 표준 뿐 기초 및 응용 연구 생물 산업 원천 소재 적극 활용 수 도록 산학 연 요구 제공 계획 우리나라 유용 거미류 사진 국립생물자원관 거미류 유전자 원 보유 현황 질의 응답 전문용어 설명 끝',\n",
       " '환경부 표준 시험 절차 문제 검 재 확인 켐텍 주 이 이의 제기 환경부 표준 시험 절차 질량 값 소수점 자리 수 문제 대해 검증 통해 존재 재 확인 환경부 장관 김은경 최근 논란 폴리 헥사메틸렌 구아니딘 이하 분석 적 정성 대해 표준 시험 절차 문제 검 것 입장 환경부 이번 입장 발표 환경부 올해 사용제한 물질 검 이유 주 피죤 스프레이 형 탈취 제 개 제품 회수 명령 주 피죤 해당 제품 원료 공급 처 켐텍 주 검찰 고발 하자 켐텍 주 이 지난 환경부 표준 시험 절차 대해 이의 제 기함 것 환경부 현재 표준 시험 절차 의 질량 전하 비 이하 질량 값 소수점 첫째 자리 규정 어서 질량 값 유사 자사 제품 베타 로 오인 가능성 켐텍 주 의 주장 타 당하 설명 환경부 타입 부터 타입 까지 종류 이성질체 를 고분자화합물 결 단량체 의 숫자 종 분자 구조 수 이성질체 분자식 분자 내 구성원 자의 연결 방식 공간 배열 동일 화합물 분자식 화합물 방식 배열 성질 달라 질 수 단량체 고분자화합물 구 성하 단위 분자량 물질 고분자화합물 단량체 구조 반복 적 결합 생 환경부 지난해 정성 분석 통해 타입 종 타입 종 타입 종 등 총 종 해당 제품 함유 것 확인 이 중 함유량 가장 것 판단 종 대해 정량 분석 실시 정성분석 시료 성분 구성 알 아내 거나 시료 내의 특정 화학물질 유무 확 인하 분석 정량 분석 시료 내 특정 화학물질 양 이나 비율 확 인하 분석 켐텍 주 은 위 종류 중 등 종이 자사 베타 제품 질량 값 과 유 사하 환경부 오인 가능성 주장 환경부 이 종 대해 올해 다시 일자 형 이온 트랩 액체 크로마토그래피 질량 분석 법 활용 의 존재 재 확인 켐텍 주 이 주 장하 베타 인의 예상 화학 조성 별 질량 값 분자 구조 과 유사 유사 유사 과 유사 또한 환경부 켐텍 주 이 환경부 검 종 중 나머지 종 대해 타 기관 시험 검 일 방적 주장 공인 시험 분석 기관 시험 기관 임의 실시 분석 결과 신뢰 참고 켐텍 주 이 분석 의뢰 곳 분석 기관 중 시험 연구원 제외 나머지 곳 중 곳 한국인 정기 구 화학 시험 분야 인정 인정 범위 도핑 방사성 수질 폐수 폐기물 로서 화학 제품 분석 거리 나머지 곳 인정 조차 기관 파악 한국인 정기 구 국가기술표준원 운 영하 기구 로서 국가 표준 제도 확립 산업 표준화 제도 운영 시험 기관 인정 제도 등 업무 관장 시험 기관 인정 제도 법률 국제 기준 적합 인정 기구 전 문적 자격 평 가사 시험 기관 품질 시스템 기술 능력 평가 특정 분야 대한 시험 능력 것 공식 적 인정 제도 환경부 켐텍 주 이 제 기하 표준 시험 절차 적정 성 문제 대해 환경부 표준 시험 절차 상의 시험 분석 법 매트릭스 보조 레이저 탈 착이온 화 시간 비행 형 질량 분석 법 이하 로서 가습기 살균제 사고 원인 물질 분석 방법 개발 위해 환경부 연구개발 사업 개발 전문가 검토 충분 마련 신뢰 성 시험 방법 설명 시료 레이저 발 사하 시료 이온 변환 후 전압 차 이용 검출기 향 검출기 까지 도착 때 소요 시간 질량 전 하비 변화 시료 질량 측정 방법 이온화 시료 분자 질량 전하 비 분리 켐텍 주 이 해당 분야 공인 시험 기관 시험 기관 분석 검 음 근거 현 환경부 표준 시험 절차 부적정 주 장하 것 적 절하 또한 환경부 정밀도 최신기 기 소수점 여섯 자리 분석 로 분석 수행 켐텍 주장 대해 서도 정밀도 기기 사 용해 야만 를 정확 분석 수 것 설명 환경부 켐텍 주 이 주 장하 메 트릭 스 보조 레이저 탈 착이온 화 이온 사이클론 공명 질량 분석 법 과 환경부 위해 우려 제품 지정 및 안전 표시 기준 고시 규정 기기 모두 질량 값 측정 위 질량분석기 이나 서로 다른 원리 사용 방법 별로 한계 존재 법 트랩 포집 이온 회 전하 속도 법 이온 비행 시간 이용 질량 측정 즉 분해능 력 질량 판별 력 우수 반면 분석 수 이온 수가 개 정도 제한 질량 값 유사 방해 물질 과량 존재 미량 질량 스펙트럼 보이지 개 연성 미량 방해 물질 비율 존재 방해 물질 시그널 존재 더라도 확인 수 이 분석 기관 시험 연구원 곳 뿐 부적절 주장 대해 환경부 현재 다른 시험 분석 기관 분석 능력 아직 때문 굳이 곳 제한 것 현재 위해 우려 제품 지정 및 안전 표시 기준 고시 위해 우려 제품 시험 분석 기관 지정 기관 총 곳 이 중 분석 수행 수 기관 시험 연구원 곳 한국 환경 산업 기술 원 한국 환경 공단 한국 건설 생활환경 시험 연구원 국기 계전기 전자 시험 연구원 한국 의류 시험 연구원 한국 화학 융합 시험 연구원 시험 연구원 시험 연구원 환경부 재 분석 통한 공개 검증 요구 대해 서도 현재 표준 시험 절차 문제 검 재 확인 상황 해당 분야 공인 시험 기관 시험 기관 분석 결과 근거 재 분석 요구 것 설득 력 위해 우려 제품 관리제 도의 안 정적 운영 차원 적절 치 보고 또한 해당 제품 대하 행정처분 관련 기업 간 법적 분쟁 진행 중 현 시점 재 분석 추후 사법 기관 판단 것 타 당하 입장 질량 전하 비 리스트 비교 설명',\n",
       " '커피전문점 패스트푸드 점 용품 줄 이기 재활용 촉진 앞 장선 환경부 개 커피전문점 개 패스트푸드 점 및 환경 단체 자발 적 협약 체결 플라스틱 컵 재질 단일 화 유색 컵 사용 억제 전문 재활용 업체 통한 처리 의무 회용컵 사용 혜택 강화 등 추진 환경부 장관 김은경 개 커피전문점 개 패스트푸드 점 자원 순환 사회 연대 용품 줄 재활용 촉진 위 자발 적 협약 체결 자발 적 협 약식 오전 시부 터 서울 중구 롯데 호텔 진행 김은경 환경부 장관 개 커피전문점 패스트푸드 점 사업자 대표 및 자원 순환 사회 연대 이사장 참석 커피전문점 참여 업체 스타벅스 엔제리너스 파스쿠찌 이디야 빽 다방 크리스 피 크림 도넛 탐앤탐스 커피 투썸플레이스 배스킨라빈스 던킨도너츠 커피빈 앤티 리프 커피 베이 카페베네 할리스커피 디초콜릿 커피 디초콜릿 커피 앤드 패스트푸드 점 참여 업체 맥도날드 롯데리아 버거킹 파파이스 환경부 지난해 이후 관련 업계 차례 간담 회 통해 자발 적 협약 내용 대해 지속 적 협의 협의 결과 기존 자발 적 협약 의 이행 사항 한층 강화 참여 업체 개 개 재질 개선 및 단일 화 먼저 이번 협약 재활용 촉진 위해 다양 재질 플라스틱 컵 유색 종이컵 등 문제 개선 나 가기 플라스틱 컵 경우 협약 참여 사업자 간 협의 통해 재질 단 일화 추진 재활용 과정 분리 선별 재활용 제품 품질 이기 플라스틱 컵 재질 대부분 페트 이나 일부 폴리스티렌 이 사용 페트 육안 구분 곤란 또한 재활용 시 탈색 등 별도 공정 추가 비용 상승 재활용 제품 가격 하락 원인 유색 전면 인쇄 종이컵 은 사용 억 제하 도록 일부 업체 자체 브랜드 디자인 특정 시기 크리스마스 등 주로 사용 회용컵 사용 활성화 이번 협약 회용컵 활성화 위해 텀블러 등 개인 컵 사용 소비자 혜택 제공 기존 협약 업체 별로 상이 가격 할인 쿠폰 제공 등 제공 텀블러 사용 고객 대한 혜택 가격 할인 제도로 통일 음료 판매 액 텀블러 주 사용 대상 아메리카노 커피 가격 기준 의 수준 가격 할인 혜택 주도 록 브랜드 별 상황 고려 자율 적 할인 금액 결정 할인 시행 시기 차이 시행 곳 시행 곳 기타 시행 등 또한 텀블러 사용 혜택 인 센티 브 고객 알 수 도록 매장 내 할인 안내 문 설치 등 적극 홍보 도록 용품 자발 적 협약 모니터링 결과 조사 대상 매장 중 인 센티 브 제공 대한 홍보 미흡 자원 순환 사회 연대 자원 재활용 법 매장 내 사용 금지 플라스틱 컵 대해 매장 내 머그컵 등 회용컵 우선 제공 이용 경우 인 센티 브 제공 도록 권장 자원 절약 재활용 촉진 관 법률 제 및 법 시행 규칙 별표 전문 수거 재활용 의무 화 그간 이행 다소 부진 전문 재활용 업체 통한 회수 재활용 기존 자발 적 협약 권고 사항 대해 이번 협약 의 무적 이행 도록 규정 전문 재활용 업체 수거 입 주건 물 계약 업체 지자체 수거 종량제 봉투 배출 자발 적 협약 모니터링 자원 순환 사회 연대 매장 내 회수 및 부속품 뚜껑 빨대 컵 홀더 등 분리 선별 전문 회수 재활용 업체 회수 재활용 수 도록 협약 사업자 회수 재활용 량 등 이행 실적 반기 마다 환경부 제 출하 이 사회 공헌 활동 하나로 길거리 전용 수거 함 등 설 치하 사용 회수 촉진 계획 플라스틱 컵 재질 단일 화 유색 종이컵 사용 억제 및 전문 회수 재활용 업체 통한 회수 재활용 중 업체 별 상황 고려 재고 물량 소진 전문 재활용 업체 계약 등 세부 계획 마련 이후 추진 예정 환경부 협약 이행 담보 위해 자원 순환 사회 연대 협약 이행 실태 정기 수시 점검 각 매장 별 협약 이행 여부 확인 계획 이행 점검 결과 협약 성실 이행 업체 우수 업체 지정 홍보 등 지원 방안 강구 자발 적 협약 실 효성 확보 수 관련 업계 공조 강화 예정 날 협약 식 이후 김은경 환경부 장관 서울 종로구 스타벅스 더 종로 점 방 문하 일회용 컵 사용 줄 이기 위 캠페인 진행 환경 서약 동참 고객 대상 머그컵 증정 행사 실시 소비자 회용컵 사용 계획 김은경 환경부 장관 용품 사용 줄 이기 위해 무엇 중요 것 용품 사용 문화 것 이 라며 친환경 소비 문화 정착 수 도록 국민 모두 힘 바 라며 환경부 관련 업계 적극 노력 것 말 행사 계획 자발 적 협약 유색 전면 인쇄 처리 과정 비교 전용 수거 함 설치 브랜드 별 텀블러 사용 시 할인 혜택 질의 응답 끝',\n",
       " '가습기 살균제 피해 미인 정자 지원 길이 구제 계 정운용 위원회 폐 섬유화 단계 판정 자 구제 급여 지급 말 까지 우선 심사 후 월부 터 단계 판정 자 지급 심사 추진 환경부 건강 피해 인정 질환 확대 및 인정 질환 재 검토 등 통 가습기 살균제 피해 구제 확대 추진 환경부 장관 김은경 한국 환경 산업 기술 원 원장 남 광희 은 서울역 개최 제 차 구제 계 정운용 위원회 가습기 살균제 건강 피해 미인 정자 구제 급여 지급 계획 이 심의 의결 구제 계 정운용 위원회 가습기 살균제 피해 구제 위 특별법 특별구 제계 정 활용 그동안 피해 구제 사각 지대 폐 섬유화 단계 판정 자 대한 구제 급여 지원 의료 적 재정 적 지원이 시급 피 해신 청자 대한 긴급 의료 원 한도 천만 원 원인 자 미상 무자력 피해자 지원 방안 등 심의 의결 정부 지원 대상 폐 섬유화 단계 가습기 살균제 가능성 거의 확실 및 단계 가능성 로 판정 단계 가능성 및 단계 가능성 거의 지난 개최 차 구제 계 정운용 위원회 폐 이식 환자 산소호흡 기 치료 환자 등 대한 긴급 의료 원 결정 바 개최 차 구제 계 정운용 위원회 건강 피해 미인 정자 피해 구제 전문 위원회 구성 의결 그간 차례 전문 위원회 개 최하 지원 계획 지원 심사 기준 등 논의 이번 차 구제 계 정운용 위원회 전문 위원회 검토 결과 토대 정부 지원 대상 피해자 판정 자 대한 구제 급여 지급 방안 등 피해 구제 계획 심의 의결 조사 판정 완료 판정 자 명 중 폐 섬유화 단계 명 단계 명 판정 불가 명 등 총 명주 내용 단계 판정 자 명 대한 피해 구제 우선 심사 말 까지 완료 신속 지원 단계 판정 자 명 등 대한 구제 급여 지원 위 전문 위원회 월부 터 운 영하 질환 별 가습기 건강 피해 관련성 등 심사 기준 마련 순차 적 지원 계획 지원 금액 정부 지원 대상 피해자 지급 구제 급여 동일 수준 구제 급여 의료 비 본인 부담 액 전액 요양 생활 수당 간병 비 장의 비 등 포함 환경부 그간 폐 섬유화 중심 피해 인정 천식 등 피해 인정 질환 확 대하 피해 인정 확 대하 방안 적극 검토 피해 구제 위원회 논의 계획 피해 구제 위원회 가습기 살균제 피해 지원 특별법 시행 법적 위원회 로서 피해 인정 여부 대한 최상 위 의결 기구 환경부 한국 환경 산업 기술 원 구제 계 정운용 위원회 확정 가습기 살균제 피해 특별구 제 계획 이 차질 이행 수 도록 만전 기 계획 끝',\n",
       " '태백산 국립공원 눈 축제 태백산 국립공원 제 태백산 눈 축제 열목어 주목 깃대종 홍보 자연 물 만들기 체험 관 운영 환경부 국립공원 관리 공단 이사장 권 업 은 태백산 국립공원 일대 일부 터 까지 제 태백산 눈 축제 를 적극 지원 태백산 눈 축제 태백시 주 최하 표적 지역 행사 올해 태백시 국립공원 관리 공단 처 음으로 협력 진행 국립공원 관리 공단 태백산 눈 축제 성공 위해 태백시 천만 원 지원 축제 기간 동안 지역 주민 여 명 청소 교통 정리 등 단기 인력 아르바이트 채용 또한 축제 기간 동안 탐방 객 안전 관리 특별 대책 수 립하 산 행사 신속 대응 수 도록 전담 요원 배치 유관 기관 안전 사고 상황 공유 등 안전 사고 예방 주력 예정 국립공원 관리 공단 태백산 눈 축제 방 문하 탐방 객 대상 축제 장 내의 골 광장 국립공원 홍보 체험 관 운영 태백산 국립공원 홍보 체험 관 지난해 태백산 국립공원 깃대종 선정 열목어 주목 알리 기 위 매직 페이퍼 태백산 깃대종 만들기 체험 프로그램 운영 멸종위기 야생 생물 급 열목어 주로 수온 하천 상류 지역 서식 연어 어류 태백산 남쪽 백천 계곡 세계 최 남단 열목어 서식지 유명 주목 국가 기후변화 지표 종 선정 나무 태백산 고산 를 대표 식물 천년 죽 어서 천년 정도 강인 나무 이 압화 씨앗 등 자연 물 이용 만들기 체험 태백산 아름 다운 명소 사진전 시 국립공원 탐방 행태 추기 게임 등 다양 프로그램 올해 태백산 눈 축제 눈 사랑 고 환희 주제 태백산 국립공원 세이프 타운 및 황지연못 등 태백시 일대 열 린다 눈 축제 백미 초대형 눈 조각 태백산 국립공원 비롯 시내 곳곳 전시 김진 광 태백산 국립공원 사무소 장 탐방 객 안전 관리 체험 프로그램 운영 등 전 직원 마음 성 공적 축제 수 도록 힘 제 태백산 눈 축제 개요 관련 사진 질의 응답 끝',\n",
       " '환경 산업 육성 정책 설명 회 개최 서울 부산 광주 환경 산업 육성 정책 설명 회 개최 융자 수출 인증 등 담당자 맞춤 형 상담 진행 환경부 한국 환경 산업 기술 원 원장 김용주 은 환경 산업 체 지자체 관계자 등 대상 환경 산업 육성 정책 중소기업 지원 시책 분야 별 주요 지원 사업 추진 방향 등 알리 기 위해 수도권 시작 까지 환경 산업 육성 정책 설명 회 를 권역 별로 진행 수도권 설명 회 서울 중구 대한 상공회의소 영남권 부산 벡스코 컨벤션 홀 호남권 광주 김대중 컨벤션 센터 개최 설명 회 환경 기업 필요 정책 구 체적 지원 사업 소개 올해 사업 추진 함 환경 기업 궁금증 애로 사항 해결 수 자리 마련 정책 세션 환경부 올해 주요 환경 정책 환경 산업 육성 계획 등 정부 환경 기업 지원 정책 자세 소개 사업 세션 역대 최대 지원 규모 환경 기업 대상 융자 사업 유해 화학물질 채 물질 연구개발 등 추진 연구개발 사업 우수 환경 기업 해외진출 지원 사업 지난 월부 터 시행 통합 환경 인증 제도 등 소개 개소 환경 산업 연구 단지 를 소개 자격 요건 혜택 일정 등 자세 내용 대한 상담 진행 예정 환경 기업 개발 기술 실증 연구 위 시설 제공 및 기술 개발 수출 까지 전 과정 지원 부지 인천 수도권매립지 종합 환 경연 구단 내 조성 또한 이번 설명 회 참여 중소기업청 올해 중소기업 지원 시책 코트라 해외 사업 수주 방안 해외진출 지원 사업 등 각각 소개 한편 진행 수도권 설명 회 융자 인증 수출 등 지원 사업 별로 상담 부스 별도 설 치하 환경 기업 사업 담당 전문가 로 상담 수 자리 마련 계획 조명 현 한국 환경 산업 기술 원 환경 산업 원 단장 환경 정책 방향 공유 정보 교환 장인 이번 설명 회 국내 환경 기업 성공 위 밑거름 수 도록 지원 안내 자로 의 역할 계속 것 권역별 환경 산업 육성 정책 설명 회 주요 일정 질의 응답 전문용어 설명 끝',\n",
       " '낙동강 생물 자원 관 담 수조류 초 저온 동결 보존 기술 개발 국립 낙동강 생 물자원 관 담 수조류 장기 보존 수 길 관리인 력 비용 개선 효과 생 물자원 보급 활성화 기대 환경부 국립 낙동강 생 물자원 관 관장 안영 은 담수 생물 배양 보존 연구 및 분양 시스템 구축 사업 의 결과 담 수조류 초 저온 보존 원천 기술 개발 이번 개발 기술 조류 배양 체 보존 다가 시기 다시 배양 수 기존 보존 법 단점 개선 지금 까지 담 수조류 보존 법 배양 체 개월 마다 새 배지 보존 때문 인력 시간 필요 이번 초 저온 동결 보존 기술 담 수조류 냉동 후 이상 장기 보존 수 초 저온 동결 보존 기술 이용 담 수조류 배양 체 생리 활 성과 유전형질 변동 최소한 공간 반영구 적 보존 가능 계대배양 필요 관리 비용 최소 이상 절감 국립 낙동강 생 물자원 관 연 구진 초 저온 동결 보존 기술 다양 담 수조류 적용 우리나라 고유종 및 유용 조류 자원 안 정적 장기 보존 보급 활성화 기여 계획 연 구진 담 수조류 세포 피해 최소 보존 제 및 냉각 조건 최적화 결과 미세 조류 동결 보존 용 조성 물 및 이용 미세 조류 동결 보존 방법 특허 출원 특허 출원 번호 동결 보존 실험 대상 클로렐라 불가리 스 데스 무스 오블 리쿠스 파라 클로렐라 종 대상 디메틸 설폭사이드 자당 혼합 액 동결 보존 제로 사용 결과 재생률 디메틸 설폭사이드 자당 각각 사용 때 배 이상 향상 것 확인 디메틸 설폭사이드 세포막 침 투하 냉동 시 세포 보호 동결 보존 제로 사용 물질 로 구성 안영 국립 낙동강 생 물자원 관장 이번 초 저온 동결 보존 기술 개발 고 부가가치 잠재력 담 수조류 배양 체 안 정적 장기 보존 생물 주권 경쟁력 강화 유용 자원 활 용성 지속 적 것 담 수조류 초 저온 동결 보존 관련 사진 초 저온 동결 보존 기술 특허 내용 질의 응답 전문용어 설명 끝',\n",
       " '안전 높이 부담 줄 화학사 대응 체계 안전 높이 부담 줄 화학사 대응 체계 총리 주재 국가 정책 조정 회의 화학사 예방 대응 체계 개선 방안 등 확정 화학사 수요 자 중심 기준 정비 중복 규제 개선 운송 차량 점검 강화 정부 월 오후 정부 서울 청사 황교안 국무총리 주재 제 국가 정책 조정 회의 화학사 예방 대응 체계 개선 방안 논의 확정 핵심 개혁 제 추진 현황 점검 참석자 교육부 미래창조과학부 행정자치부 문화 체육관 광부 농림축산식품부 환경부 고용노동부 해양수산부 국민 안전 처 장관 국토교통부 보건복지부 차관 등 날 국가 정책 조정 회의 확정 주요 개선 사항 아래 화학사 예방 대응 체계 개선 방안 우선 환경부 주관 관계 부처 합동 를 구 성하 법령 별 로 상이 화학물질 분류 및 관리 기준 수요 자 중심 정비 상 유해 화학물질 환경부 유해 위험 물질 고용부 고압 독성 스 산업부 위험 물 안전 처 예 실내 저장 시설 높이 기준 미만 환경부 미만 안전 처 등 화학물질 관리 방법 취급 시설 기준 등 단계 적 일치 위험성 표시 저장 시설 설치 기준 통일 그간 일부 중복 적용 온 안전 관리 계획 작성 시설 안전 검사 종사 자 교육 등 현장 불합리 규제 통합 거나 상호 인정 사업 장의 부담 최소 화해 고 산업 안전 보건 법 고용부 화학물질 관리 법 환경부 유사 제도 안전 관리 계획 작성 제출 시설 안전 검사 종사 자 안전교육 등 위험성 사전 관리 필요 화학물질 사 고대 비물질 국제 수준 확대 종 미국 종 사고 예방 나 가기 안전 관리 계획 작성 등 예방 관리 강화 위해 종 지정 화학물질 관리 법 또한 전체 화학사 고의 이상 차지 화학물질 운반 과정 사고 미연 방지 위 원인 작업 자 부주의 시설 관리 미흡 운반 차량 사고 관리 취약 소규모 운반 차량 대해 용기 적재 고정 방법 등 구 체적 안전 기준 마련 적재 중량 초과 시 부과 범칙 금도 일반 화물 상향 조정 상 방침 예 너 적재 트럭 터널 내 전복 폭발 명 부상 여대 차량 화재 또한 운전자 휴식시간 시간 마다 보장 화학물질 운송 차량 안전 점검 주 기적 실시 상 예정 운반 차량 실시간 모니터링 시스템 과 계 준수 여부 확인 강화 전국 개 지역 설치 화학 재난 합동 방재 센터 의 전문성 제 사고 대비 훈련 강화 등 상 유사시 초동 대응 지휘 체계 지역 소방 중심 일원화 신속 대응 태세 확립 나 간다',\n",
       " '통합 물 포럼 차 회의 개최 유역 별 통합 물관 리 논의 환경부 국토부 통합 물관 리 포럼 차 전체 회의 개최 수량 수질 수 생태계 등 분야 별 전문가 여 명 참석 유역 별 주요 통합 물관 리 쟁점 및 논의 환경부 장관 김은경 국토교통부 장관 김현미 통합 물관 리 포럼 허재영 위원장 과 공동 지속 가능 통합 물관 리 포럼 이하 통합 물 포럼 차 전체 회의 서울 서초구 엘 타워 개최 이번 차 전체 회의 통합 물 포럼 내 정책 법 제도 등 개 분과 별로 논의 지역별 물관 리 쟁점 정책 방향 공유 통합 물관 리 논의 위해 마련 개 분과 정책 법 제도 한강 금강 낙동강 섬진강 영산강 유역 분과 구성 지난 차 전체 회의 기존 물관 리 정책 개선 방안 물 산업 육성 전략 등 대한 발제 토론 이후 개 분과 별로 민 관 학 전문가 지역별 물 문제 등 대해 지금 까지 집중 적 논의 진행 날 회의 각 분과 별로 논의 유역 별 물관 리 정책 방향 및 통합 물관 리 안 의 발표 패널 토론 진행 제 발제 장석환 대진대 교수 한강 분과위 회 위원장 한강 유역 물관 리 정책 방향 및 안 주제 발표 제 발제 제 발제 까지 낙동강 금강 영산 섬진강 분과 위원장 이 각 유역 별 물관 리 정책 방향 및 안 소개 박재현 인제대 교수 낙동강 이상진 충남 연구원 선임 연구 위원 금강 정재성 순천대 교수 영산 섬진강 제 발제 추 태호 부산 교수 정책 분과위 회 위원장 국가 통합 물관 리 기본 원칙 안 발표 제 발제 최동진 국토 환경 연구소장 법 제도 분과 물관 리기 법 소위 위원장 이 통합 물관 리 물관 리 기본 법 주제 발표 패널 토론 허재영 위원장 좌 개 분과 위원장 참여 앞서 발표 주제 대해 심층 적 논의 이번 차 전체 회의 유역 별 통합 물관 리 안 이 처 음으로 공개 논의 점 의미 각 위원 의견 수렴 과정 정식 선포 통합 물관 리 법제 기능 개편 등 물관 리 정책 통합 계 위 과제 발굴 활용 등 물관 리 정책 추진 활용 예정 환경부 이번 전체 회의 이후 올해 말 까지 분과 별로 추가 적 논의 통합 물관 리 비 전과 종합 계획 로드맵 확정 공개 계획 허재영 위원장 최근 한국 정책학 회 실시 여론조사 결과 국민 명 중 명 물관 리 일원화 필요성 공감 며 이제 국민 열망 물관 리 일원화 이후 새 담 아내 기 위해 모두 노력 때 말 한국 정책학 회 발표 여론조사 결과 국민 명 의 전문가 명 의 환경부 의 물관 리 일원화 찬성 매우 찬성 약간 찬성 것 나타남 제 차 전체 회의 계획 통합 물관 리 안 질의 응답 끝',\n",
       " '국립생태원 국제 개미 연구 전시 박람회 개막 국립생태원 국제 개미 연구 전시 박람회 개막 일부 터 개미 과학 기지 개미 세계 탐험 전 전시 월부 터 잎꾼개미 등 해외 개미 종 도입 예정 개미 생태 적 경이 로움 등 개미 과학자 수행 과정 생태계 변화 위협 불구 환경 변화 적응 주위 공생 표적 곤충 개미 주제 국제 개미 연구 전시 박람회 열 린다 국립생태원 원장 최재천 이 국내외 표적 개미 한자리 선 보이 개미 과학 기지 개미 세계 탐험 전 일부 터 충남 서천군 국립생태원 내 에코 리움 기획 전시관 개최 이번 박람회 국립생태원 그동안 수행 온 생태계 조사 등 사회 성 생물 행동 생태 연구 과정 결과 국민 공유 연구 대상 개미 생태 적 중요성 경이 로움 생물다양성 대한 내용 전달 자 기획 전시 개미 종류 개막 한국 홍가슴개미 가시 개미 광택 불개미 등 국내 서식 개미 종 흰개미 종 벌 종 등 모두 종이 부터 잎꾼개미 등 해외 개미 종도 추가 전시 기존 관람 형태 일 상적 전시 방식 달리 방문객 기획 전시관 개미 과학 기지 방문 때 개미 과학자 수행 업무 과정 바탕 이동 동선 체험 보고 가상 체험 결과 보고서 작성 발표 것 구성 개미 과학 기지 어선 방문객 입구 안내 데스크 출입 절차 방문 증 실험복 가운 지급 주어 진 미션 개미 과학 기지 내부 탐험 주 진입 종 기원 책 통해 진화론 관 자료 정리 영국 생물학자 찰스 다윈 과 개미 연구 세계 적 권위자 이자 사회 생물학 창시자 에드워드 윌슨 교수 등 개미 연구 기반 이론 정립 개미 연구 대한 영감 일 준 학자 명 명예 전당 형식 소개 대형 개미 모형 자리 잡고 연구소장 실 개미 과학 기지 전체 상황 파악 모니터 등 설치 관람객 연구소장 자리 사진 촬영 수 이후 분류 실 개미 종 분류 보고 국립생태원 보유 개미 만날 수 사육 실과 행동 관찰 실로 스스로 가설 보고 생각 볼 수 체험 공간 질문 방 도 사회 연구실 개미 통해 인간 개미 사회 차이점 유사 점 알 수 도록 마지막 학술 발표 장 은 그동안 것 보고 나 가설 결과 도 출하 로써 개미 과학 기지 탐험 끝 월부 터 소개 해외 개미 종은 동남아 미국 코스타리카 국가 살 잎꾼개미 종 꿀 단지 개미 종 베 짜미 개미 기가스 왕개미 등 잎꾼개미 잎 먹이 용 버섯 재 배하 것 특징 베 짜미 개미 잎 엮어 집 꿀 단지 개미 뱃속 꿀 기가스 왕개미 존 개미 중 가장 이 해외 개미 국내 개미 볼 수 특이 생태 적 특성 지니 생태학 학자 청소년 기회 제공 국립생태원 이번 특별 박람회 생태 휴식 공간 확대 등 행복 생활 문화 공간 조성 국정 과제 도움 것 기대 최재천 국립생태원 원장 주변 어디 에나 관심 볼 수 개미 가운데 곳 박람회 전시 국내외 개미 삶 통해 개미 형태 계급 의사소통 공생 기생 등 현대 기계 문 명사회 주인 우리 모습 비 추어 보고 자연 생명 얼마나 조화 경이 알 계기 바란 고 말 개미 과학 기지 관람 동선 및 소개 개미 세계 탐험 전 개막식 일정 표 질의 응답 전문용어 설명 끝',\n",
       " '상반기 수도권 공급 자동차연료 환경 품질 국제 최고 기준 수준 상반기 수도권 공급 자동차연료 환경 품질 국제 최고 기준 수준 휘발유 환경 품질 에너지 별 개 등급 칼텍스 현대 오일 뱅크 별 개 등급 경유 환경 품질 에너지 칼텍스 현대 오일 뱅크 모두 별 개 등급 지속 유지 올해 상반기 수도권 지역 판매 에너지 칼텍스 현대 오일 뱅크 등 국내 개 정유 사의 자동차연료 휘발유 경유 환경 품질 국제 최고 기준 수준 것 확인 수도권대기환경청 청장 김상훈 은 상반기 수도권 지역 판매 자동차연료 품질 조사 결과 휘발유 환경 품질 에너지 이 국제 최고 기준 수준 별 개 등급 평가 칼텍스 현대 오일 뱅크 국제 최고 기준 거의 근접 수준 별 개 등급 평가 농협 한국 석유 공사 휘발유 환경 품질 별 개 에너지 칼텍스 현대 오일 뱅크 등 개 정 유사 판매 경유 환경 품질 모두 별 개 등급 부터 현재 까지 국제 최고 기준 수준 지속 유지 농협 한국 석유 공사 모두 별 개 평가 항 목별 휘발유 개 항목 중 방향족 화합물 벤젠 함량 황 함량 개 항목 개 정유 사 모두 별 개 등급 증기압 탄화수소 배출 관계 유출 온도 에너지 현대 오일 뱅크 농협 각각 별 개 칼텍스 별 개 증기압 에너지 현대 오일 뱅크 별 개 칼텍스 별 개 전 반적 성적 저조 오존 형성 물질 증가 올레 핀 함량 에너지 이 별 개 칼텍스 현대 오일 뱅크 농협 각각 별 개 경유 개 정 유사 농협 황 함량 등 개 항목 별 개 질소 산화물 등 배출 증가 방향족 화합물 에너지 현대 오일 뱅크 농협 별 개 칼텍스 이 별 개 자동차연료 환경 품질 등급 평가 제도 수도권 대기 환경 개선 관 특별법 소비자 친환경 연료 구매 유도 자동차연료 제조 공급 사의 자율 적 환경 품질 개선 유도 위 부터 시행 조사 방법 수도권대기환경청 수도권 지역 저 유소 및 주유소 대상 매월 휘발유 경유 각 건의 시료 채 취하 상 하반기 연 환경 품질 등급 산정 휘발유 및 경유 대하 방향족 화합물 등 각각 개 항목 분석 별 개 부터 별 개 까지 단계 구분 평가 자동차연료 환경 품질 개 선하 데 기여 수도권대기환경청 국민 소통 존 중하 정부 의 정책 공공 정보 적 극적 개방 위 매년 차례 수도권 지역 판매 자동차연료 환경 품질 평가 결과 공개 수도권 지역 자동차연료 환경 품질 등급제 개요 년도 상반기 자동차연료 환경 품질 등급 자동차연료 환경 품질 등급 기준 및 수준 질의 응답 전문용어 설명 끝',\n",
       " '국립 낙동강 생 물자원 관 설립 및 운영 관 법률 시행 국립 낙동강 생 물자원 관 설립 및 운영 관 법률 시행 국립 낙동강 생 물자원 관법 시행 법인 설립 근거 마련 담수 생물 보전 및 활용 기대 설립 위원회 운영 통해 정관 및 인사 직제 등 주요 규정 제정 초대 임원 선임 등 추진 중 올해 상반기 개관 목표 환경부 장관 윤성규 국립 낙동강 생 물자원 관 설립 근거 법령 국립 낙동강 생 물자원 관 설립 및 운영 관 법률 이하 낙동강 생물 자원 관법 일부 터 시행 경북 상주시 위치 국립 낙동강 생 물자원 관 국가 생물 주권 조기 확보 생 물자원 지속 가능 이용 등 위해 설립 중이 국정 과제 기후변화 질병 관리 강화 및 생물다양성 보전 기여 예정 이번 시행 낙동강 생 물자원 관법 기관 성격 주요 기능 운영 재원 등 규정 세부 내용 다음 낙동강 생물 자원 관 법인 담수 생 물자원 조사 발굴 및 보전 이용기 술 개발 실용 화 지원 등 담수 생물 보전 및 활용 지원 주요 기능 명기 낙동강 생물 자원 관 운영 재원 국가 보조금 출연 금 수익금 기부 금품 등 안정 적 운영 기반 조성 도모 환경부 장관 마다 경영 상태 조사 연구 활동 대국민 서비스 등 대한 운영 평가 실시 도록 기관 운영 투명 성과 효 율성 수 도록 환경부 국립 낙동강 생 물자원 관 본격 적 설립 준비 위해 올해 일부 터 외부 전문가 등 인 설립 위원회 위원장 환경부 차관 를 구 성하 운영 중 설립 위원회 그간 정관 및 인사 직제 보수 등 주요 규정 마련 관장 등 주요 임원 선임 직원 채용 등 추진 중이 장성현 국립 낙동강 생 물자원 관 건립 추진기 획단 팀 이번 법령 시행 제도 적 기반 마련 만큼 올해 상반기 개원 목표 설립 등기 등 남아 일정 마무리 국립 낙동강 생 물자원 관 설립 목적 국가 생물 주권 확보 기여 수 도록 최선 노력 것 말 국립 낙동강 생 물자원 관 주요 시설 현황 전문 용어 설명 끝',\n",
       " '참고 설악산 국립공원 첫 얼음 관측 오전 기온 설악산 중청 대피소 첫 얼음 관측 지난해 첫 얼음 관측 환경부 국립공원 관리 공단 이사장 권 업 오전 설악산 국립공원 중청 대피소 첫 얼음 관측 새벽 중청 대피소 최저 기온 체감 기온 풍속 로 관측 설악산 국립공원 첫 얼음 관측 올해 첫 얼음 지난해 김종완 설악산 국립공원 사무소 장 첫 얼음 발견 시작 단풍 철 산행 급격 기온 차이 주의 라면 새벽 산행 기온 탈진 저체온증 주의 고지 산행 경우 비상식량 보온 의류 각종 장비 등 철저 준비 관련 사진 끝 관련 영상 및 사진 환경부 웹하드 게재',\n",
       " '사업 용 운전자 시간 연속 운전 후 최소 휴식 보장 사업 용 운전자 시간 연속 운전 후 최소 휴식 보장 사업 용 차량 중대 교통사고 유발 버스 운전자 자격 제한 등 제재 강화 화학사 즉시 신고 신고 위반 시 영업 허가 취소 삼진아웃 제 건설 현장 위험 물 취급 모든 현장 안전 장비 보호 장구 구비 의무 화 특수 교량 모든 특수 교량 피뢰 설비 설치 및 유지관리 안전 점검 의무 화 정부 수 오전 정부 서울 청사 황교안 국무총리 주재 안전 관계 장관 회의 를 사업 용 차량 교통 안전 강화 대책 화학사 발생 현황 및 안전 관리 개선 대책 건설 현장 안전 점검 결과 및 개선 방안 및 특수 교 안전 관리 강화 방안 등 논의 확정 참석 환경부 국토부 안전 처 장관 행자부 산업부 고용부 차관 경찰청장 화학사 안전 관리 개선 대책 지난 불산 황산 유출 사고 이 발생 화학사 대한 국민 적 불안감 아지 정부 그간 발생 화학사 를 분석 현행 화학사 예방 대응 체계 재 검토 화학사 안전 관리 개선 대책 마련 금산 램 테크 주 불산 유출 사고 울산 고려아연 주 황산 유출 사고 사업 장 자체 안전 관리 내 실화 사업 장의 자율 관리 능력 강화 시설 안전성 제 계획 이후 발생 사업 장 화학사 고의 배관 밸브 등 시설 부식 균열 발생 사업 장 역량 부족 등 자체 점검 부실 이행 우려 상황 이 점검 방법 및 주기 중점 점검 사항 등 화학물질 취급 시설 자체 점검 안내서 를 제작 배포 사업 장의 자체 점검 역량 제 고해 계획 사업 위치 지역 내 중 소 기업 화학물질 안전 관리 대한 노하우 공유 사고 발생 시 공동 대응 협력 화학 안전 공동체 를 확대 활성화 기업 간 협력 상생 현장 안 전문화 확산 계획 현재 개 공동체 개 사업 장 개 공동체 여개 사업 장 안전 기초 요소 위반 처벌 강화 사업 장 기 초적 안전 관리 소홀 거나 사 고발 생시 늑장 신고 경우 제재 수준 강화 예정 도급 신고 자체 점검 이행 사고 발생 경우 업무 상 중대 과실 간 주하 처벌 강화 늑장 신고 초동 대응 지지 도록 즉시 신고 규정 사고 시 신고 위반 사업 장 대해 영업 허가 취 소하 삼진아웃 제 를 도입 반복 사고 예방 위 사고 사업 장 대한 관리 강화 사고 법령 위반 이력 시설 노후 취급 물질 등 고려 고 위험 사업 장 선정 중점 점검 사고사 업 장의 화학물질 취급 정보 법령 위반 사실 등 공개 주민 감시 활동 이루 지도 록 계획 사고 시설 대해 즉시 가동 중지 명 수 근거 마련 차사 등 위험 상황 방지 수 신속 조치 가능 가동 중지 해제 시 안전 조치 대한 절차 보완 화 관법 현 장적 용성 제 고하 기업 규정 이행 어려움 도록 개선 일용직 근로자 장시간 안전교육 이행 것 현 실적 어려움 교육 시간 현실 화 시간 시간 도급 신고 대상 명확 신고 혼선 도록 계획 또한 일부 보호 장구 착용 시 작업 능률 저하 열사병 등 차안 전사 우려 산 업계 목소리 작업 상황 별 적합 개인 보호 장구 착용 기준 설정 작업 자의 안전 작업 능률 동시 제 계획',\n",
       " '불법 보유 멸종위기 야생 생물 자진 신고 불법 보유 멸종위기 야생 생물 자진 신고 일부 터 개 월간 자진 신고 기간 운영 신 고자 형사 처벌 면제 신고 기간 이후 특별 단속 등 불법행위 적발 시 엄정 법 집행 허가 신고 불 법적 거래 사육 보관 멸종위기 야생 생물 대하 자진 신고 기간 일부 터 개 월간 운영 환경부 장관 윤성규 금 정부 서울 청사 황우여 사회 부총리 겸 교육부 장관 주재 개최 제 차 사회 관계 장관 회의 위해 외래종 불법 보유 멸종위기 야생 생물 관리 대책 보고 이번 대책 피라냐 인간 생태계 위해 수 위해 외래종 불 법적 거래 사육 보관 점점 더 심각 멸종위기 처 해지 멸종위기 야생 생물 적정 관리 위해 마련 자진 신고 기간 운영 불법 보유 멸종위기 야생 생물 관리 대책 의 주요 과제 로서 불법 개체 이번 한해 양성화 국내 서식 보유 중인 멸종위기 야생 생물 현황 정확 파악 바탕 사후관리 강화 향후 불법 개체 확산 것 방지 위 목적 추진 자진 신고 기간 운영 계획 다음 허가 신고 등 절차 거치 자진 신고 공고 일 이전 멸종위기 야생 생물 취득 보유 일부 터 까지 관할 지방 환경 관서 자진 신고 수 다만 불법 개체 여부 대한 민 형사 상 소송 진행중 개체 문화재 보호 법 허가 신고 대상 천연기념물 신고 대상 제외 자진 신 고자 야생 생물 보호 및 관리 관 법률 이하 야생 생물 법 벌칙 징역 벌금 과태료 몰수 이 면제 다만 부속 해당 종이 거나 야생 생물 법 시행 규칙 별표 의 규정 사육 보관 시설 거나 야생 생물 법 개인 사육 금지 동물 앵무새 제외 포유류 조류 전종 해당 개인 보유 경우 몰수 조치 수 멸종위기 처 야생 식물 종 국제 거래 관 협약 단 몰수 조치 해당 개체 보유 자가 스스로 처분 거나 개체 이송 보호 가능 시설 확보 수 유예 기간 부여 후 이행 자진 신고 기간 이후 엄정 법 집행 위 특별 단속 점검 기간 운영 상습 적 불법행위 의심 거래 업체 위주 점검 예정 주요 위반 행위 언론 공개 그 멸종위기 야생 생물 이력 관리 시스템 구축 불법 반입 보유 몰수 멸종위기종 적합 환경 보호 수 도록 보호 체계 마련 등 제도 개선 진행 예정 또한 자연 방사 시 사람과 생태계 해 수 위해 외래종 유입 차단 확산 방지 위 대책 차질 추진 위해 외래종 관리 대책 환경부 피라냐 위해 외래종 생물다양성 보전 및 이용 관 법률 이하 생물다양성 법 수입 반입 규제 위해 우려 종 지정 계획 또한 생물다양성 법 상의 위해 우려 종 관련 규제 사항 방사 금지 내용 처벌 조항 추가 생태계 교란 및 인체 피해 예방 강화 예정 홍보 교육 확 대하 인체 생태계 해치 위해 외래종 대한 경 각심 제 예정 환경부 앞 인간 자연 평화로 운 공존 위해 야생 생물 관리 보호 대책 적 극적 추진 계획 멸종위기 야생 생물 보유 자의 의무사 항 야생 생물 법 자진 신고 기간 홍보 포스터 위해 외래종 불법 보유 멸종위기 야생 생물 관리 대책 제 차 사회 관계 장관 회의 보고 자료 끝',\n",
       " '참고 제 차 혁신 성장 관계 장관 회의 개최 김동연 부총리 목 오전 정부 서울 청사 제 차 혁신 성장 관계 장관 회의 겸 제 차 경제 관계 장관 회의 를 주재 전기 수소차 보급 확산 방안 담당자 환경부 대기 환경 정책 관 대기 환경 박 선하 사무관 혁신 성장 가속 화 방안 논의 혁신 성장 관계 장관 회의 속도 감 혁신 성장 추진 위해 그간 정 기적 개최 온 경제 관계 장관 회의 범위 확대 것 통해 혁신 성장 성과 조기 창 출하 국민 체감 를 확대 주요 과제 대한 토의 진행 앞 원칙 적 월 현장 개최 필요시 민간 기업 관련 전문가 등 회의 참석 계획 임',\n",
       " '생태계 인간 혜택 평가 지표 마련 서울 생물다양성 과학 기구 사회 생태 지표 국제 워크숍 개최 사회 생태 지표 발표 예정 생물다양성 및 생태계 서비스 지구 평가 보고서 작성 활용 환경부 장관 김은경 환경부 국립생태원 원장 이희철 은 일부 터 까지 서울 중구 밀레니엄 힐튼 호텔 생물다양성 과학 기구 사회 생태 표 워크숍 개최 이번 워크숍 생물다양성 과학 기구 이하 생물다양성 및 생태계 서비스 지구 평가 보고서 작성 위해 필요 사회 생태 지표 를 마련 자리 지구 평가 보고서 제 차 당 사국 총회 승인 발표 계획 유엔 생물다양성 협약 과학 적 자문 위해 설립 독립 적 정부 간 국제 기구 워크숍 환경부 주최 국립생태원 주관 국제 기구 관계자 지표 관련 국제 전문가 지식 및 데이터 전문가 등 여 명 참여 현재 까지 총 개 생태 지표 를 개발 제공 각국 생물다양성 생태계 서비스 현황 및 추이 객관 적 파악 수 도록 자연 생물학 적 특성 주로 반영 생태 지표 외 인류 사회 경제 적 요소 포함 사회 생태 지표 의 필요성 제기 때문 이번 워크숍 사회 생태 지표 범주 생물다양성 식량 안보 주권 보건 텔레 커플링 원거리 인과관계 현상 글로벌 커먼 전지 구 공동 자연 자산 등 개 분야 각 분야 정의 분야 별로 지표 논의 계획 논의 사회 생태 지표 내년 콜롬비아 개최 제 차 총회 보고 한편 우리나라 국내 생물다양성 생태계 서비스 객관 적 평가 위 기반 마련 국제사회 기여 위해 노력 제 차 생물다양성 협약 당 사국 총회 강원도 평창 성 공적 개최 설립 주 도하 의 핵심 작업 반 지식 및 데이터 기술 지원 단 국립생태원 유치 운영 이희철 국립생태원 장 이번 워크숍 생물다양성 및 생태계 서비스 평가 기준 핵심 사항 지표 마련 향후 지구 평가 방향 결정 국 제적 논의 것 이 라며 의 국 제적 논의 동향 반 영하 국가 생태계 서비스 평가 방안 등 강구 수 것 기대 워크숍 일정 워크숍 포스터 생태 지표 개 용어 설명 끝',\n",
       " '수 생태계 현장 체험 환경 전문가 꿈 국립 환경과학 원 서울시 초 중 고 학생 대상 수 생태계 현장 체험 교육 실시 경기도 조종 천 일대 잠자리 피라미 등 채집 교육 통해 수 생태계 전문가 양성 환경부 소속 국립 환경과학 원 일과 경기도 가평군 조종 천 일대 서울시 초 중 고 학생 대상 수 생태계 현장 체험 교육 실시 이번 현장 체험 교육 학생 교사 포함 여 명 참여 예정 하천 수 생태계 조사 및 평가 이론 교육 현장 체험 학습 진행 국립 환경과학 원 지난 서울특별시 교육청 업무 협약 학생 미래 환경 전문가 키 우기 위해 수 생태계 현장 체험 교육 부터 매년 실시 올해 현장 체험 교육 부착 돌말류 저서 성 대형 무척추동물 어류 변 생 등 물속 생물 이론 교육 직접 수생 생물 조종 천 채집 분류 관찰 수 생태계 건 강성 평가 실습 교육 구성 학생 조종 천 다슬기 잠자리 유충 등 저서 성 대형 무척추동물 비롯 갈겨니 피라미 등 어류 볼 수 조종 천은 경기도 가평군 조종 상 발원 북 한강 합류 지방하천 국립 환경과학 원 지난 이 곳 일대 수 생태계 건 강성 평가 결과 어류 저서 성 대형 무척추동물 매우 부착 돌말류 등급 나타 국립 환경과학 원 이 곳 일대 수 생태계 교육 장소 적합 수도권 비교 적 체험 학습 장소 자주 활용 이수 웅 국립 환경과학 원 유역 생태 연구 팀 이번 현장 체험 교육 통해 학생 수 생태계 더욱 흥미 미래 수 생태계 환경 선 도하 전문가 성 장하 초석 바란 말 국립 환경과학 원 앞 더 초 중 고 학생 참여 기회 제공 위해 현장 체험 교육 확대 계획 수 생태계 현장 체험 교육 프로그램 일정 관련 사진 년도 질의 응답 전문용어 설명 끝',\n",
       " '희귀 종 귀 박쥐 북 한산 국립공원 발견 희귀 종 귀 박쥐 북 한산 국립공원 발견 국민 모니터링단 회원 발견 국립공원 내 최초 확인 국내 서식 정보 거의 지지 국 제적 멸종위기종 환경부 국립공원 관리 공단 이사장 박보환 은 세계 자연 보전 연맹 의 적색 목록 집 자료 부족 종 등재 귀 박쥐 북 한산 국립공원 발견 귀 박쥐 국립공원 관리 공단 운영 기후변화 국민 모니터링단 회원 김관식 씨 올해 말 발견 국내 서식 처음 보고 귀 박쥐 후 시화호 발견 이후 거제 창원 목격 국립공원 발견 것 이번 처음 귀 박쥐 국내 서식 거의 확인 멸종위기종 등재 정도 발견 기 매우 종이 일본 환경성 귀 박쥐 멸종위기 종 지정 보호 국립공원 관리 공단 지난해 부터 국민 기후변화 연구 위해 국립공원 탐방 중 발견 식물 동물 버섯 등 휴대폰 사진 찍 어서 사회 관계 망 서비스 공 유하 방법 국민 참여 형 기후변화 국민 모니터링단 운영 현재 명 등록 활동 지난 국립공원 연구원 회원 대상 모니터링 방법 대한 교육 실시 바 한편 국립공원 관리 공단 부터 국립공원 자연자원 조사 통해 박쥐 등 소형 포유류 분 리하 정밀 조사 국립공원 내 박쥐 서식지 특 별보 호구 지정 등 체계 적 관리 국내 서식 박쥐 총 종이 국립공원 이번 확인 귀 박쥐 포함 종이 서식 북 한산 국립공원 귀 박쥐 서식 처 음으로 기존 집 박쥐 종 포함 종 박쥐 살 것 확인 신용 석 국립공원 관리 공단 국립공원 연구원 장 희귀 종인 귀 박쥐 국민 모니터링 회원 발견 보고 사례 학술 적 가치 시민 참여 형 연구 가능성 보 여준 것 이 라며 국립공원 생태 적 가치 증명 고 관련 사진 국립공원 내 박쥐 류 분포 현황 질의 응답 전문 용어 설명 끝',\n",
       " '서울대 영배 교수 생물다양성 과학 기구 부의 장 선출 서울대 영배 교수 생물다양성 과학 기구 부의 장 선출 이회성 의장 한국 과학 이 국제 환경 분야 과학 기구 의사결정 담당 금번 총회 첫 성과 물 수분 매개 체 보고서 채택 서울대 영배 교수 생물다양성 과학 기구 아시 아태평양 지역 대표 부 의장 선출 환경부 일부 터 까지 말레이시아 쿠알라룸푸르 제 차 총회 서교 수가 차기 제 기 부 의장 최종 결정 생물다양성 협약 의 과학 적 자문 위해 설립 정부 간 연구 협의 체 로서 기후변화 협약 부속 과학 기구 기후변화 관 정 부간 협의 체 유사 기능 담당 의 장단 임기 개지 역 아시아 태평양 서유럽 기타 지역 아프리카 동유럽 중남미 별로 명 선출 총 명 의장 명 부의 장 명 구성 우리나라 속 아시아 태평양 지역 한국 중국 이란 인도네시아 명 총 명의 후보 등록 총회 기간 내 여 차례 회의 개 최하 등 치열 경합 한국 이란 의 장단 최종 선출 부의 장직 순차 역임 이란 한국 이로 우리나라 작년 이회성 교수 의장 진출 데 기후변화 환경 분야 생물다양성 분야 핵심 국제 과학 기구 리더 배 출하 금번 성과 최근 우리나라 생물다양성 분야 온 노력 국제사회 높이 평가 도출 것 것 우리나라 제 차 생물다양성 협약 평창 총회 성 공적 개최 설립 단계 부터 국제사회 설립 노력 한국 주 도하 면서 핵심 작업 반 지식 및 데이터 기술 지원 단 국립생태원 유치 운 영하 무엇 영배 교수 본인 이상 서울대 약학 대학 교수 재 직하 면서 천연물 연구소 운영 통해 연구 성과 생물다양성 협약 과학자 문 기구 의장 단 세계 자연 보전 연맹 아시아 위원회 의장 등 역임 면서 그 역량 준 결과 것 한편 금번 총회 설립 첫 성과 물 수분 및 수분 매개 체 평가 를 채택 발표 과학 적 자문 기구 순조 출발 평가 전세계 여명 저명 학자 참여 수분 관 최초 범 지구 적 평가 보고서 우리나라 안동 대학교 정철 교수 공동 저자 참여 보고서 전세계 작물 연 의 수분 매개 벌 나비 등 개체 수 감소 경고 농약 대체 품 개발 집약 농작 범위 제한 등 정책 대안 제안 전세계 척추동물 계 수 분매 개체 멸종위기 직면 유럽 경우 벌 나비 개체 수 멸종 위기 벌 나비 종 개체 수 감소 또한 금번 총회 의 핵심 연구 과제 생물다양성 및 생태계 서비스 관 지구 평가 작업 계획 합의 까지 전세계 생물다양성 현황 위협 요소 본격 적 분석 계획 이 관련 환경부 영 국제 협력 관 기후변화 협상 신 기후 체제 도출 위해 과학 적 자문 역할 확고 것 도 그 기능 확대 조속 성과 도출 통해 생물다양성 보전 위 국제사회 공동 대응 촉진 것 영배 교수 의장 단 진출 계기 의 발전 뿐 우리나라 생물다양성 각 분야 연구 국 제적 인정 계기 것 평가 생물다양성 과학 기구 개요 영배 아시아 태평 양지역 부의 장 약력 수분 및 수분 매개 체 평가 보고서 개요 끝',\n",
       " '람사르 습지 도시 증제 도입 국제 적 합의 도출 람사르 습지 도시 증제 도입 국제 적 합의 도출 제 차 람사르 협약 당 사국 총회 한국 튀니지 공동 발의 습지 도시 증제 결의 안 채택 람사르 를 브랜드 지역 주민 습지 보전 참여 습지 가치 고 기여 환경부 장관 윤성규 한국 시간 국 제적 중요 습지 보전 및 현명 이용 논의 위 제 차 람사르 협약 당 사국 총회 우루과이 한국 튀니지 공동 발의 습지 도시 증제 결의 안이 채택 습지 도시 증제 람사르 습지 주변 도시 마을 등 중 습지 복원 및 관리 방안 이행 등 인증 기준 충족 곳 람사르 협약 습지 도시 인증 제도로 람사르 를 브랜드 지역 공동체 활동 지역 주민 습지 보전 참여 활성화 습지 보전 가치 제 데 기여 것 기대 인증 기준 개 이상 람사르 습지 상호 계 습지 및 습지 제공 생태계 서비스 등 보전 대책 습지 복원 및 관리 이행 통합 적 토지 이용 계획 지역 내 습지 인식 증진 프로그램 운영 지역 습지 관리 위원회 구성 제도 우리나라 람사르 협약 사무국 최초 제안 부터 람사르 마을 시범 사업 추진 시범 사업 결과 토대 국 제적 절차 기준 초안 마련 금번 총회 당 사국 지지 람사르 습지 도시 증제 로 최종 채택 환경부 금년 하반기 부터 세부 추진 계획 수립 가이드라인 마련 대상 후보 선정 등 착 수하 람사르 습지 도시 성 공적 정착 도록 노력 계획 인증 습지 도시 대해 습지 보전 인식 높이 교육 소통 역량 강화 프로그램 운영 지속 가능 농 임 수산업 증진 생태관광 계 기반 등 지원 예정 이번 람사르 협약 당 사국 총회 총 개 협약 당사 국 중 개 당사 국 대표 국제 파트너 기구 등 여명 참가 습지 도시 증제 결 의안 비롯 람사르 전략 계획 전략 이행 위 재 정동원 및 국제 적 파트너 십 방안 등 마련 참고 우리나라 제 차 당사 국 총회 개최 경남 창원 현재 까지 람사르 협약 상임 위원 국 활동 금번 총회 기간 중 차기 람사르 협약 상임 위원 국 재선',\n",
       " '구한말 우리 식물 역사 구한말 우리 식물 역사 반출 자생 식물 점 국내 반입 러시아 코마 로프 식물 연구소 공동 연구 통한 기증 국내 매우 희귀 구한말 표본 서울 인천 식물 과거 기록 국립생물자원관 관장 김상배 은 러시아 코마 로프 식물 연구소 공동 연구 수행 과정 구한말 채집 코마 로프 식물 연구소 수장 보관 한반도 산 관속 식물 표본 점 지난달 기증 관속 식물 표본 점 주로 부터 사이 조선 러시아 폴란드 전문 채집 의사 통역사 인천 제물포 서울 채집 후 코마 로프 식물 연구소 보관 온 표본 이 표본 제비꿀 싱아 도라지 시호 층층 잔대 등 과거 한반도 생물다양성 파악 한반도 생물 종 분포 변화 대한 연구자 료 가치 표본 중 점 한국 최초 서양 식 호텔 손탁 호텔 지배인 었던 투 네트 손탁 창덕궁 탑동 현재 낙원동 진고 개 현재 충무로 효창동 등 서울 채집 것 서울 현재 아보 기 싱아 점 포함 싱아 우리나라 중국 주로 분포 마디풀 식물 잎 줄기 나물 신맛 주로 전국 산기슭 분포 하나 최근 서울 아보 기 소설가 박완서 그 싱아 누가 언급 종이 표본 중 점 유명 러시아 식물학자 분 의 아들 알렉산더 알렉산드로 비치 분게 구한말 개항 장 지정 제물포 채집 것 나머지 점 폴란드인 채집 칼리 노브 스키 등 시기 인천 서울 채집 국립생물자원관 이번 기증 구한말 관속 식물 표본 점 기후변화 생물 분포 연구 등 연구 자료 활용 계획 한편 우리나라 자생 생물 세기 초 부터 외국인 채집 반출 후 세계 유수 박물관 표 본관 소장 국립생물자원관 부터 최근 까지 전세계 개국 개 기관 소장 한반도 산 생물 표본 점 확인 화상 자료 확보 반출 생물 표본 국내 반 입하 것 국제 관례 상 일 때문 정부 국외 기관 공동 연구 등 통해 기증 유도 국립생물자원관 그간 일본국 립 과학 박물관 헝가리 자연사 박물관 큐슈 대학교 로부터 현재 까지 총 점 한반도 산 생물 표본 기증 바 김상배 국립생물자원관 장 반출 한반도 산 표본 대해 계속 적 추적 조사 자료 확보 관련 기관 상호 협력 통해 기증 지속 적 유도 것 기증 표본 사진 기증 표본 채집 자 자료 코마 로프 식물 연구소 개요 질의 응답 전문 용어 설명 끝',\n",
       " '수질 및 수 생태계 보전 관 법률 일부 개정 법률 안 이 국무회의 가결 수질 및 수 생태계 보전 관 법률 일부 개정 법률 안 이 국무회의 가결 추진 경과 체계 적 수 생태계 복원 물놀이 수경 시설 이용 수인 성 질환 예방 등 위 제도 개선 필요 함 법률 개정 추진 부처 협의 입법 예고 규제 심사 법제처 심사 주요 내용 수 생태계 복원 계획 수립 등 제 조의 환경부 장관 등 수질 개선 필 요하 거나 수 생태계 훼손 지역 대해 복원 계획 수립 시 도지사 환경부 장관 승인 계획 수립 시행 국정 과제 물놀이 형 수경 시설 의 신고 및 관리 제 조의 신설 바닥 분수 인공 폭포 등 수경 시설 이용 수인 성 질환 예방 자 일정 규모 이상 시설 설치 신고 수질 기준 및 관리 기준 등 준수 정 기적 수질 검사 도록 함 정의 수돗물 하천 수 등 이용 분수 연못 폭포 등 시설 물 중 일반인 개방 이용자 신체 직접 접촉 물놀이 시설 그 측정기 기 관리 대행 업 등록 수질 자동 측정기 기 등 측정기 기 관리 업무 대행 규정 신설 제 조의 정책 활용 수질 및 수 생태계 정책 심의 위원회 폐지 제 조의 등 포함 쟁점 특이 사항 해당 조문 별 제 개정 이유',\n",
       " '우리 생물 종 찾기 위 노력 현재 진행형 우리 생물 종 찾기 위 노력 현재 진행형 동안 우리 땅 종 생물 종 이름 우리나라 국명 지명 대한민국 위상 생 물자원 전쟁 시대 우리 생 물자원 활용 수 기반 마련 국립생물자원관 생 물자원 주권 확보 기반 마련 위해 지난 동안 우리나라 살 생물 종 결과 자생 생물 종 신종 종 미기 록종 종 만점 생물 표본 확보 부터 총 투입 자생 생물 조사 발굴 사업 통해 연간 평균 여명 총 명 박사 급 명 의 연 구진 모든 생물 군 대상 전국 생 물자원 채집 연구 결과 분류군 별로 발굴 종수 원핵생물 종 가장 무척추동물 종 곤충 종 조류 종 균류 지의류 종 식물 종 척추동물 종 순 나타 우리나라 서식 확인 생물 종은 전문 학술지 통해 보고 우리나라 생물 종임 세계 적 인정 절차 전세계 적 처음 보고 생물 종 신종 학명 부여 때 우리나라 최초 발견 의미 고 유성 위해 국립생물자원관 우리나라 국명 이나 지명 등 학명 포함 해조류 독도 은실 은 독도 최초 발견 후 지난 년도 우리 땅 독도 를 학명 신종 발표 바 갑각류 동해 삽 꼬리 올챙이 새우 해조류 울릉도 은실 은 우리나라 동해 연안 울릉도 발견 각각 지난 학명 이 지명 발표 이 우리나라 국명 표기 종 맵시 벌류 한국 소나 자루 맵시 벌 균류 한국 구멍 버섯 과 아브 시디아 코리아나 우리나라 국명 학명 사용 확인 생 물자원 중 산업 적 활용 기대 종 다수 포함 단순 우리나라 생물 종 존재 것 나고야 의정서 발효 생 물자원 주권 확보 시대 대비 의미 비소 독성 저 감시 키 신종 원핵생물 생물 농약 활용 가능 미기 록종 균류 메타리 움 과일 나무 피해 꽃매미 천적 미기 록종 꽃매미 벼룩 좀벌 등 발굴 표적 예 현재 우리나라 생물 종은 종이 기록 기록 종 수인 종 여 종이 증가 급격 기록 종 수의 증가 대부분 지난 이루 어진 결과 자생 생물 조사 발굴 사업 참여 국내 외 연구자 노력 크게 기여 생물학자 우리나라 만종 생물 종이 서식 것 추정 자생 생물 조사 발굴 사업 은 만종 대장정 절반 쯤 근접 실정 서민 환 국립생물자원관 장 직무 대리 앞 국내 전문가 생물 군 대한 연구 위해 해외 전문가 활용 점차 새 종 확률 원핵생물 곤충 등 분류군 집중 계획 관련 사진 및 참고 자료 질의 응답 전문용어 설명 끝',\n",
       " '강원도 발견 외래어 류 확산 원천 차단 조치 강원도 발견 외래어 류 확산 원천 차단 조치 피라냐 레드 파쿠 발견 횡성 저수지 폐쇄 및 포획 추진 인근 저수지 등 대한 추가 조사 실시 원주지방환경청 청장 황 계영 은 피라냐 레드 파쿠 등 열대어류 발견 강원도 횡성 저수지 수문 즉시 폐쇄 해당 어류 포획 제거 원주지방환경청 외래어 종이 저수지 외부 확산 경우 생태계 교란 국민 안전 위협 줄 우려 원 천적 차단 위해 저수지 수문 즉각 폐쇄하 한편 장마 등 집중호우 외래어 류 외부 유출 것 방지 위해 관할 지방자치단체 횡성군 로 그물 망 등 설치 일반인 저수지 출입 제한 위해 저수지 제당 진입 차단 펜스 설치 강원 등 전문 기관 협조 인근 저수지 등 외래어 종 서식 여부 조사 퇴치 작업 추진 계획 또한 금일 현장 환경부 원주지방환경청 국립생태원 강원도 내 수면 연구 센터 횡성군 강원대학교 어류 연구 센터 등 관계 기관 참여 대책 회의 후속 회의 외래어 종 확산 방지 조사 및 제거 방안 검토 예정 원주지방환경청 관계자 해당 저수지 지난 저수 시작 현재 저수지 수위 매우 상태 여서 해당 어종들 외부 유출 우려 강 우시 대비 신속 조치 취하 관 상용 외래어 류 무단 하천 이나 호소 저수지 등 방류 경우 생태계 중대 교란 발생 수 절대로 발생 도록 해 줄 것 당부 참고 원주지방환경청 횡성군 국립생태원 강원대학교 어류 연구 센터 등 해당 저수지 조사 결과 피라냐 마리 레드 파쿠 마리 총 마리 열대 성 외래어 류 포획 바 이 어류 관 상용 보유 개체 관리 지자 누군가 저수지 것 추정',\n",
       " '홍도 괭이갈매기 천국 철새 휴식 처 자리 김 마리 산란 준비 중인 국내 최대 괭이갈매기 번식 홍도 철새 중간 기 착지 복원 사업 통해 철새 휴식 처 자리 김 마리 괭이갈매기 것 유명 려 해상 국립공원 홍도 철새 중간 기 착지 복원 사업 통해 철새 휴식 처 자리 김 환경부 국립공원 관리 공단 이사장 권 업 은 현재 홍도 번식 시기 약 마리 괭이갈매기 산란 준비 중이 통영 약 어진 홍도 면적 해발고도 인 무인도 괭이갈매기 집단 번식 지로 지난 환경부 특정도서 제 호로 지정 홍도 우리나라 일본 철새 주요 중간 기 착지 생태 적 학술 적 가치 매우 멸종위기 야생 생물 급 매 서식지 특별 보호 구역 관리 홍도 등대 관리 숙소 철거 면서 괭이갈매기 개체 수가 철새 착 공간 상 대적 협소해짐 환경부 국립공원 관리 공단 부터 홍도 철새 중간 기 착지 복원 사업 추진 홍도 철새 중간 기 착지 복원 사업 은 철새 괭이갈매기 간섭 수 도록 횃대 관목 림 대나무 덤불 등 터 수분 섭취 수 도록 물웅덩이 설치 사업 노력 흑두루미 노랑 배진 박새 부리 찌르레기 등 종 철새 발견 기준 총 종 조류 발견 한국 조류 목록 한국 조류학 회 기준 우리나라 조류 총 종이 홍도 이중 인 종 조류 방문 국립공원 관리 공단 해양 국립공원 핵심 생태 축 도서 지역 생 물자원 보전 위해 홍도 포함 특별 보호 구역 관찰 모니터링 것 부터 인근 무인도 멸종위기 야생 식물 급 풍란 개체 이식 등 멸종위기종 복원 사업 진행 이수식 려 해상 국립공원 동부 사무소 장 올해 려 해상 국립공원 지정 주년 특별 해 라며 려 해상 홍도 등 섬 생태계 자연자원 보전 관리 통해 최고 가치 해상 국립공원 도록 노력 려 해상 국립공원 멸종위기 야생 생물 현황 괭이갈매기 생물 정보 홍도 철새 중간 기 착지 복원 사업 개요 관련 사진 질의 응답 전문용어 설명 끝',\n",
       " '교과서 밖 생물 공부 국립생물자원관 교육 과정 생물다양성 관련 직업 세계 체험 수 다양 교육 과정 개설 생물다양성 교실 은 일부 터 생물학자 진로 체험 일부 터 신청 가능 환경부 소속 국립생물자원관 급 학교 현장 체험 학습 참여 수 다양 생물 교육 과정 프로그램 개설 이번 교육 과정 학기 참가 단체 오전 시부 터 까지 선착순 모집 현장 체험 학습 계 과정 생물다양성 교실 로 어린이 및 청소년 단체 인 이상 를 대상 운영 참가 단체 국립생물자원관 누리집 참가 신청서 작 성하 전자 공문 팩스 로 제 출하 생물다양성 교실 은 유아 대상 개 프로그램 초 중 고등학생 및 청소년 대상 개 과정 개설 연령 과정 선택 신청 수 올해 신규 과정 멸종위기 야생 생물 우리 곁 생물 생 물자원 발굴 연구 계 가지 보물찾기 생김새 다른 새 이야기 학생 우리나라 자생 생물 생물다양성 생 물자원 가치 등 전문 강사 강의 및 국립생물자원관 자체 개발 교구 활용 모 활동 전시관 관람 등 통해 배우 체험 수 유아 대상 동물 숨바꼭질 콩닥 콩닥 알 속 생물 생김새 다른 새 이야기 등 개 프로그램 초 중 고등학생 및 청소년 대상 생물다양성 우리 생명 생 물자원 우리 힘 우리 곁 생물 가지 보물찾기 등 개 프로그램 기간 동안 자유 학기 제 자유 학년 제 계 진로 체험 과정 생물학자 도 중 고등학생 및 청소년 단체 인 내외 를 대상 운영 생물학자 과정 국립생물자원관 무하 연구자 직접 강의 형 프로그램 생물다양성 분야 직업 세계 탐색 표본 제작 등 관련 실습 이루 체험 형 프로그램 중 선택 신청 수 생물학자 프로그램 유네스코 한국 위원회 부터 유네스코 지속 가능 발전 교육 공식 프로젝트 로 인증 참가 단체 오전 시부 터 국립생물자원관 누리집 선착순 신청 수 최종원 국립생물자원관 생 물자원 활용 부장 국립생물자원관 교육과정 참여 통해 교과서 생 물자원 중요성 더 불어 이 관련 직업 체험 기회 것 말 관련 사진 교육 프로그램 설명 전문용어 설명 끝',\n",
       " '유망 환경 기업 투자 유치 위 만남 장 환경 기업 개사 투자 기관 개사 간 투자 유치 교류 장 마련 개 환경 기업 투자 유치 계약 식 총 원 유치 지원 환경부 한국 환경 산업 기술 원 원장 남 광희 은 유망 환경 기업 민간 투자 유치 지원 위해 서울 삼성동 코엑스 년도 환경 산업 투자 콘퍼런스 를 개최 이번 환경 산업 투자 콘퍼런스 투자 유치 희망 국내 환경 기업 개사 투자 기관 개사 관계자 등 여 명 참여 가운데 투자 협약 체결 식 유망 환경 기업 투자 설명 회 투자 상담 회 등 다양 프로그램 진행 날 행사 유망 환경 기업 개사 국내 투자 기관 총 원 규모 투 자금 유 치하 투자 유치 계 약식 진행 대기 환경 정화 시스템 업체 지엔 티엔 스 대표 이경우 투자 기관 스마일게이트 인베스트먼트 스마트 쓰레기 수거 관리 시스템 업체 이 큐브 랩 대표 권 범 은 한화 투자 증권 환경처 리 장비 및 필터 제조업체 에이 런 대표 박정 웅 은 포스코 기술 투자 각각 원 원 원 규모 투자 유치 계약 체결 이 환경 기업 유치 투 자금 바탕 기술 사업 화 촉진 및 기업 경쟁력 강화 등 주력 예정 또한 환경 기업 투자 유치 전략 및 동향 안내 위 세미나 유망 환경 기업 투자 설명 회 기업 투자 심사 역 투자 상담 회도 진행 환경 기업 투자 기관 간 소통 강화 환경 산업 분야 대한 민간 투자 확대 환경 기업 투자 설명 회 음식물 쓰레기 감량 기 제작 업체 콘포 테크 친환경 펄프 보드 개발 및 생산 업체 지앤택 기업 보유 기술 제품 소개 사업 전략 등 대하 투자 기관 발표 계획 이외 투자 유치 희망 환경 기업 투자 기관 간 투자 상담 회 및 사후관리 통해 실 질적 투자 유치 효과 예정 남 광희 한국 환경 산업 기술 원 원장 지난 이어진 환경 산업 투자 유치 지원 사업 통해 개 환경 기업 국내 외 투자 기관 원 투자 유치 성사 성과 라며 환경 산업 분야 혁신 성장 동력 창 출하 기 위 민간 투자 유치 환경 조성하 유망 환경 기업 투자 동반 자 확보 확대 수 도록 지속 적 노력 말 년도 환경 산업 투자 콘퍼런스 개최 계획 질의 응답 주요 용어 설명 끝',\n",
       " '겨울 폭설 탈진 산양 마리 구조 국립공원 관리 공단 이후 탈진 고립 산양 마리 구조 환경부 국립공원 관리 공단 이사장 박보환 은 최근 강원 지방 폭설 먹이 탈진 고립 멸종위기 야생 생물 급 산양 마리 구조 겨울 대설 경보 한파 경보 발효 강원도 인제군 기준 이 산양 올해 말 초 사이 폭설 먹이 설악산 인근 저지 대로 다가 탈진 상태 구조 구조 산양 현재 구조 센터 회복 중 향후 백두대간 산양 생태 축 복원 위해 활용 예정 산양 주로 산악 고지 대의 계곡 이나 절벽 생활 겨울철 숲 바닥 어진 열매 잎 등 버 틴다 눈 이면 양질 먹이 구 수 서식지 이 동하 데 그 과정 개체 간의 경쟁 유발 경쟁 개체 성체 먹이 부족 탈진 경우 발생 지난 폭설 산양 마리 폐 경우 국립공원 관리 공단 종 복원 기술 원 산양 보호 위해 매년 겨울철 서식지 순찰 구조 활동 신속 구조 위해 시간 비상 대기 체제 유지 부터 까지 종 복원 기술 원 구조 산양 총 마리 이 중 이상 겨울철 발생 원인 별로 기아 탈진 부상 고립 등 순 나타 구조 시기 한겨울 구조 빈도 암컷 수컷 배 정도 성체 절반 이상 차지 아성 체 준 성체 말로 새끼 성체 중간 정도 말 송동주 국립공원 관리 공단 종 복원 기술 원장 겨울철 산양 등 야생동물 매우 시기 라며 아직 겨울 만큼 산양 폭설 한파 먹이 탈진 고립 죽지 도록 노력 지원 것 구조 현황 분석 결과 현황 사진 산양 특성 설명 자료 질의 응답 끝',\n",
       " '모두 물 희망 물 국제 물주 간 성공 개최 다짐 국토부 등 개 기관 공동 성공 기원 공연 정책 토론회 등 대한민국 국제 물주 간 과 제 차 아시아 국제 물주 간 행사 여 일 성공 개최 위 다짐 행사 금 경주 화백 컨벤션 센터 국토교통부 장관 김현미 등 개 기관 공동 열 린다 이번 행사 기관 국토교통부 장관 김현미 환경부 장관 김은경 대구광역시 시장 권영진 경상북도 도지사 김관용 한국 수자원공사 사장 이학수 대한민국 국제 물주 간 은 지난 개최 제 차 세계 물포 럼 성과 지속 발전 나 가기 위해 작년 부터 시작 국제 행사 올해 행사 수 부터 토 까지 경주 개최 예정 또한 아시아 국제 물주 간 은 한국 주도 구축 국제 네트워크 현 사장 회장 역임 중 를 통해 아시아 물 문제 해결 기여 위 행사 올해 대한민국 국 제물 주간 동시 진행 모두 물 희망 물 주제 개최 이번 성공 기원 행사 대한민국 국제 물주 간 주최 기관 및 정부 지자체 관계자 물 관련 학계 산업 계 전문가 시민단체 언론 및 일반 시민 등 여 명 참석 부 행사 물의 중요성 대한민국 국제 물주 간 관련 다양 홍보 활동 참여 응원단 서포터즈 일반인 명 구성 발대식 개최 이 어서 성공 개최 기원 공연 예정 또한 부 지속 가능 물 관리 위 정책 방향 주제 토론회 지속 가능 물 관리 선도 위 대한민국 국 제물 주간 역할 및 향후 정책 방향 대한 각계 전문가 의견 예정 국토교통부 관계자 이번 사전 행사 통해 앞 다가 온 대한민국 국제 물주 간 대한 전 국민 적 관심 유도 행사 다양 이벤트 및 프로그램 채 개최 수 도록 기간 최선 다해 준비 각오 참고 국제 물주 간 성공 개최 다짐 행사 및 정책 토론회 개요 대한민국 국제 물주 간 개요',\n",
       " '나고야 의정서 보드게임 나고야 의정서 보드게임 나고야 의정서 개념 놀이 수 교육 용 교구 국내 최초 개발 국유 특허 등록 교육 및 유관 기관 교구 홍보 활용 지원 예정 환경부 소속 국립생물자원관 관장 백운석 은 나고야 의정서 개념 놀이 수 교육 용 교구 보드게임 생 물자원 기술 왕 국내 최초 개발 일부 터 이틀 간 일산 킨텍스 대한민국 행복 교육 박람회 출품 나고야 의정서 생 물자원 이용 상품화 려면 생 물자원 보유 국 미리 통보 승인 아야 이익 공유 합의 생 물자원 기술 왕 은 최근 국유 특허 특허 번호 등록 어린이 다소 나고야 의정서 기본 개념 모 활동 별 과제 형식 통해 수 도록 구성 게임 참여자 생 물자원 보유 국 생 물자원 이용 국 역할 수행 생 물자원 보유 국 생 물자원 이용 국 간의 협상 체험 등 통해 나고야 의정서 기본 개념 생 물자원 국가 적 중요성 이해 수 국립생물자원관 생 물자원 기술 왕 관내 나고야 의정서 대응 팀 과 협력 모든 국민 이용 수 도록 활용 계획 현재 생 물자원 우리 힘 나고야 의정서 알 아보 자 생물다양성 및 생물분류 교원 연수 등 국립생물자원관 교육 프로그램 생 물자원 기술 왕 교육 교재 활용 뿐 대한민국 행복 교육 박람회 출품 통해 시 도 교육청 관계자 등 방문객 직접 체험 수 기회 제공 등 교구 활용 확대 예정 국립생물자원관 나고야 의정서 대응 중심 기관 개방 공유 소통 협력 추구 정부 정책 각 시 도 교육청 협력 나고야 의정서 대한 대국민 인식 높이 기 위 다각 적 활동 지난해 미래 생물다양성 지킴 위 워 북 발간 전국 시 도 교육청 배포 그 파일 국립생물자원관 누리집 등록 누리집 온라인 배움 마당 중 고등학생 용 나고야 의정서 생물다양성 협약 콘텐츠 일선 학교 수업 이용 수 도록 백운석 국립생물자원관 장 급 학교 유관 기관 생 물자원 교육 시 활용 수 도록 교구 홍보 활용 적극 지원 고 생 물자원 기술 왕 사진 질의 응답 전문용어 설명 끝',\n",
       " '사라 한반도 생물 국립 멸종위기종 복원 센터 건립 본격 착공 사라 한반도 생물 국립 멸종위기종 복원 센터 건립 본격 착공 멸종위기 생물 증식 복원 기능 총괄 수행 핵심 연구시설 경북 영양군 영양읍 대천 리 일원 착공 개관 예정 멸종위기 한반도 야생 생물 살 리기 위 국가 차원 핵심 연구시설 경북 영양군 영양읍 대천 리 일원 건립 환경부 장관 윤성규 한반도 멸종위기 생물 증식 복원 기능 총괄 수행 국립 멸종위기종 복원 센터 건립 공사 착 공식 오후 분부 터 영양군 영양읍 대천 리 건립 부지 개최 날 착 공식 정연만 환경부 차관 비롯 김관용 경상북도지사 권영택 영양군 수 창영 국회의원 강석호 국회의원 각계 전문가 등 여명 참석 착 공식 사라 한반도 생물 주제 다양 행사 마련 영양군 사물놀이 단 길 놀이 시작 멸종위기 생물 복원 의의 건립 배경 및 수행 기능 등 동영상 상영 멸종위기 생물 복원 형 상화 공연 통해 건립 축 하하 순서 진행 국립 멸종위기종 복원 센터 개관 예정 총사 업비 원 부지면적 약 건물 연 면적 규모 건립 센터 한반도 주요 식물 멸종위기 생물 증식 복원 수 전문 인력 연구 실험 시설 등 멸종위기 생물 증식 복원 및 중장 기 정책 총괄 기능 수행 계획 사업 부지 내 멸종위기 야생 생물 급 대륙사슴 사향노루 스라소니 검독수리 저어새 등 행동 반경 대형동물 복원 예정 최근 관심 늑대 표범 정책 적 차원 복원 타당성 검토 중이 동물 서식 환경 고려 실내 외 사육 장 야외 방사 장 적응 훈련 장 맹금류 활강 연습장 등 자연 적응 시설 설립 예정 이 동물 복원 성 공률 수 것 기대 김호 환경부 센터 건립 추진 팀 팀 국립 멸종위기종 복원 센터 본격 운영 경우 국가 멸종위기 생물 보호 복원 사업 총괄 역할 며 한반도 절멸 거나 원종 확보 곤란 종 복원 효과 적 기능 수행 것 말 그간 멸종위기 생물 증식 복원 연구 장 기적 시간 연구 과정 필요 뿐 만 수익 성 민간 수행 게다가 증식 복원 사업 지자체 민간 서식지 외보 전기 관 등 다양 기관 각각 수행 체계 적 멸종위기 생물 보호 및 복원 필요성 제기 이 환경부 한반도 멸종위기 생물 국가 차원 체계 적 증식 복원 위 지난 국립 멸종위기종 복원 센터 건립 사업 기본 계획 수립 국립 멸종위기종 복원 센터 착공 식 행사 계획 국립 멸종위기종 복원 센터 건립 사업 추진 현황 국립 멸종위기종 복원 센터 조감도 및 주요 시설 현황 국가 멸종위기 생물 증식 복원 추진 현황 질의 응답 전문 용어 설명 끝',\n",
       " '가을 철 야외 활동 때 야생 진드기 매개 감염병 주의 추석 명절 이하 성묘 벌초 등산 등 야외 활동 대비 야생 진드기 예방 수칙 안내서 배포 예방 수칙 뿌리 기 피하 기 환경부 장관 김은경 국립 환경과학 원 야생 진드기 매개 질병 대한 예방 수칙 안전 야외 활동 위 야생 진드기 예방 요령 안내서 일부 터 국립공원 지자체 주민 센터 등 전국 배포 이번 안내서 벌초 성묘 등산 등 야외 활동 아지 추석 야생 진드기 매개 질병 중증 열성 혈소판 감소 증후군 이하 예방 위해 마련 중증 열성 혈소판 감소 증후군 바이러스 감염병 고열 혈소판 감 소하 것 특징 바이러스 보유 야생 진드기 피 진드기 감염 야생동물 직접 접촉 감염 사례 보고 바 지난해 바이러스 사망자 수 명 올해 잠정 통계 기준 명 야생 멧돼지 중 바이러스 유전자 검 국립 환경과학 원 연도 별 환자 사망자 수 명 명 명 명 명 명 명 명 잠정 통계 질병 관리 본부 안내서 예방 수칙 진드기 자국 발견 거나 고열 등 의심 증상 나타 날 경우 대처 요령 등 수록 예방 수칙 뿌리 기 피하 기 야외 활동 때 옷 피부 노출 최 소화 벌레 기피 제 등 뿌리 것 탐방 산책로 등 지정 통행 를 야생동물 접촉 피해 외출 후 옷 즉시 몸 이 안내서 반려동물 피 진드기 수 때문 외출 후 반려동물 몸 진드기 등 관리 요령 이번 안내서 일부 터 환경부 및 국립 환경과학 원 누리집 그림 파일 형태 전문 볼 수 정원 화 국립 환경과학 원 생물 안전 연구 팀 야외 활동 시 진드기 야생동물 접촉 줄 이기 위 주요 행동 수칙 준 수하 자칫 사망 수도 중증 열성 혈소판 감소 증후군 등 야생 진드기 매개 질병 충분 예방 수 라며 피 진드기 활동 시기 월부 터 집중 발생 시기 월부 터 까지 말 안전 야외 활동 위 야생 진드기 예방 요령 안내서 중증 열성 혈소판 감소 증후군 개요 중증 열성 혈소판 감소 증후군 대처 방법 및 신고 요령 질의 응답 끝',\n",
       " '소똥구리 우리 곁 멸종위기종 종 복원 국내 최대 규모 부지면적 멸종위기 야생 생물 복원 시설 멸종위기종 복원 센터 하반기 개관 소똥구리 몽골 대륙사슴 러시아 등 복원 대상 멸종위기종 확보 시작 개관 준비 착착 환경부 장관 김은경 경상북도 영양군 위치 국립생태원 멸종위기종 복원 센터 지난해 준공 올해 하반기 개관 멸종위기종 복원 센터 멸종위기 한반도 야생 생물 보전 복원 위 목적 설립 핵심 연구시설 까지 종 멸종위기 야생 생물 도입 이 중 종 복원 예정 현재 국내 개체 수가 크게 멸종위기 야생 생물 총 종이 이 중 멸종위기 임박 급 생물 종이 복원 센터 부지면적 약 건물 연 면적 규모 국내 최대 규모 멸종위기 야생 생물 복원 시설 복원 센터 대륙사슴 스라소니 멸종위기 처 대형 야생동물 서식 환경 고려 실내 외 사육 장 방사 장 적응 훈련 장 맹금류 활강 연습장 등 자연 적응 시설 마련 또한 멸종위기종 대한 복원 증식 기술 개발 위 연구 실험 시설 운영 예정 복원 센터 현재 소똥구리 대륙사슴 등 우선 복원 사업 대상 종 확보 등 개관 준비 박차 국내 멸종 것 추정 소똥구리 개체 대륙사슴 개체 은 몽골 러시아 올해 하반기 중 수입 예정 국내 개체 확보 가능 금개구리 따오기 황새 풍란 사향노루 등 보유 기관 도입 절차 및 사육 기술 이양 방법 등 협의 단계 적 도입 김정규 멸종위기종 복원 센터 생태 연구 본부장 국내 최대 멸종위기종 복원 시설 개관 향후 멸종위기 야생 생물 증식 복원 체계 적 이루 것 말 또한 국민 멸종위기종 보전 나 아가 우리나라 생태계 회복 필요성 대한 관심 지기 기대 멸종위기종 복원 센터 시설 개요 멸종위기종 복원 센터 도입 예정 생물 질의 응답 전문용어 설명 끝',\n",
       " '참고 국립공원 정규직 전환 근무 자 혹 의 추위 마음 김은경 환경부 장관 북 한산 국립공원 일 정규직 전환 자 최저임금 무자 애로 사항 향후 지속 적 점검 통해 현장 근무 여건 살피 처우 개선 노력 김은경 환경부 장관 오전 북 한산 국립공원 서울시 성북구 소재 혹 의 날씨 탐방 객 안전 관리 국립공원 환경 정화 업무 현장 근무 자 근무 여건 점검 애로 사항 시간 날 환경부 장관 격려 근무 자 북 한산 국립공원 공원 청소 탐방 객 구조 자연환경 해설 등 담 당하 국립공원 관리 공단 직원 이 중 상당수 올해 월부 터 정규직 전환 거나 최저임금 인상 수혜 국립공원 관리 공단 총 명 정규직 전환 기간 제 근로자 명 청소용역 명 비정규직 명 자연환경 해설 사 명 재난 구조대 명 청소원 지난해 까지 국립공원 관리 공단 외주 준 용역 회사 비정규직 고용 청소 업무 수행 올해 국립공원 관리 공단 정규직 원 채용 고용 불안 해소 뿐 급식 비 등 복지 혜택 당초 정규직 전환 대상 었던 긴급 구조대 원 환경부 국립공원 관리 공단 적 극적 노력 이번 정규직 전환 자연환경 해설 사도 최저 임금 인상 뿐 급식 비 등 복지 혜택 녹색 순찰 대의 경우 정규직 전환 최저임금 인상 연간 약 원 보수 인상 예정 김은경 환경부 장관 경제 협력 개발 기구 삶 질 지표 가계 소득 중요 지표 만큼 이번 최저 금 인상 삶 질 개선 도움 것 라면 열 악한 환경 일 최저임금 근로자 처우 개선 도록 지속 적 점검 정규직 전환 및 최저임금 인상 혜택 환경부 장관 북 한산 국립공원 방문 일정 표',\n",
       " '중 일 환경 장관 미세먼지 공동 조사 감축 협력 제 차 중 일 환경 장관 회의 일부 터 이틀 간 중국 쑤저우 중 환경 협력 센터 베이징 개소식 개최 환경부 장관 김은경 미세먼지 등 동북아 환경 현안 논의 위 제 차 중 일 환경 장관 회의 일부 터 까지 중국 쑤저우 열 린다 이번 회의 김은경 환경부 장관 리 제 중국 생태 환경부 장관 나카가와 마사 하루 일본 환경성 장관 비롯 국 정부 대표 참석 국가 간의 양자 회담 시작 국 장관 회의 본회의 기자회견 예정 우리나라 제안 시작 중 일 환경 장관 회의 매년 국 교대 개최 미세먼지 등 동북아 지역 환경문제 공동 대응 위 장관 급 협의 체다 이번 회의 국 장관 대기 질 개선 노력 포함 주요 환경 정책 직접 소개 동북아 차원 환경 현안 대응 위 협력 방안 논의 김은경 장관 미세먼지 감 지속 가능 발전 목표 이행 기후변화 대응 등 국내외 환경 현안 대응 위 우리나라 노력 소개 또한 김 장관 미세먼지 국 가장 시급 환경문제 점 강조 면서 중국 일본 장관 올해 동북아 청정 대기 파트너 십 이 출범 수 도록 협조 요청 계획 대기오염 관련 정보 공유 공동 연구 관련 정책 제언 협의 등 수행 협력 체 출범 목표 국 장관 미세먼지 생물다양성 등 분야 별로 그동안 협력 성과 계획 공동 합의 문 채택 예정 공동 합의 문 미세먼지 등 대기오염 해결 위 국 공동 연구 등 그간 노력 평가 향후 추가 적 진전 연구 정부 차원 공동 대응 협력 강조 내용 포함 예정 한편 이번 회의 계기 이후 지난 중 일 환경 장관 회의 성과 향후 국 협력 방향 제시 국 환경 협력 검토 전망 보고서 관련 홍보 자료 발간 공개 회의 앞서 김은경 장관 중국 일본 환경 장관 양자 회담 양국 간 환경 협력 강화 방안 논의 중국 중 환경 협력 센터 개소 미세먼지 등 대기오염 대응 협력 환경 산업 협력 등 양국 간 공동 협력 사업 대해 의견 산둥성 등 중국 내의 대기오염 물질 배출 시설 및 배출 량 공동 조사 등 대기오염 분야 신규 사업 추진 중국 측 논의 예정 일본 미세먼지 예보 정확도 제 등 대기오염 대응 지속 가능 발전 목표 이행 해양 쓰레기 등 양국 관심사 대해 중점 논의 이번 국 환경 장관 회의 회의 개최 주년 국 정부 관계자 전문가 참여 개 부대 행사 청년 포럼 환경 비즈니스 라운드테이블 화학물질 정책 대화 황사 공동 워크숍 지속 가능 발전 목표 녹색 금융 세미나 열 린다 청년 포럼 국 선발 청년 대표 국가 별 명 총 명 우리 공동 미래 대한 기여 를 주제 토론 환경 비즈니스 라운드테이블 국 산 업계 녹색 경제 이행 촉진 위 지속 가능 도시 를 주제 의견 화학물질 정책 대화 화학물질 관리 협력 방안 대해 논의 황사 공동 워크숍 황사 관측 예보 및 사막화 지역 식물 생태 복원 등 대한 연구 성과 발표 협력 방안 논의 또한 지속 가능 발전 목표 녹색 금융 세미나 국 지속 가능 발전 및 녹색 경제 이행 사례 논의 우리나라 국가 지속 능 발전 목표 수립 추진 수원시 지속 가능 발전 목표 개발 사례 등 소개 예정 이 이번 회의 국 환경 협력 기여 자 중 일 환경 장관 회의 환경상 수여 우리 수상자 개인 단체 동북아 장거리 대기오염 물질 이동 전문가 회의 의장 직 수행 공로 인정 김철 부산 교수 남북 환경 협력 분야 북한 람사르 협약 가입 지원 등 성과 한스 자이델 재단 한국 사무소 선정 한편 중국 베이징 중 환경 협력 센터 개소식 열 린다 한중일 환경 협력 센터 대기 질 공동 연구 단 환경기술 실증 지원 센터 를 통한 연구 기술 협력 통합 관리 또한 양국 간 환경 정책 교류 협력 위 중국 환경 협력 중심 역할 김은경 장관 올해 주년 맞이 중 일 환경 장관 회의 미세먼지 등 대기오염 문제 해결 위 실 질적 대응 방안 논의 등 중요 진전 것 이 라며 이번 중 환경 협력 센터 개소 계기 미세먼지 감 위 중간 공동 대응 한층 탄력 것 기대 제 차 중 일 환경 장관 회의 및 중 환경 협력 센터 개소식 주요 일정 중 환경 협력 센터 구성 끝',\n",
       " '우리나라 제일 교실 국립공원 자유 학기 제 확대 우리나라 제일 교실 국립공원 자유 학기 제 확대 국립공원 자유 학기 제 진로 체험 프로그램 전국 확대 운영 자연 속 꿈 끼 녹색 직업 체험 국립공원 관리 공단 이사장 박보환 은 북 한산 생태 탐방 연수 원 시범 운영 중인 자유 학기 제 진로 체험 프로그램 전국 국립공원 확대 운영 국립공원 관리 공단 지난 자유 학기 제 시범 운영 통해 확인 성과 토대 진로 탐색 활동 뿐 동아리 주제 선택 활동 예술 체육 활동 등 추가 운영 예정 진로 탐색 활동 경우 국립공원 오기 섬 지역 학교 아가 국립공원 진로 체험 프로그램 도 진행 국립공원 관리 공단 자연자원 조사 동식물 복원 해설 레인저 등 다양 녹색 직업 체험 수 도록 각 분야 별 프로그램 개발 진로 체험 교재 두드림 과 국립공원 를 자체 제작 운영 중이 또한 유치원 숲 바다 학교 초등학생 방과후 활동 중학생 자유 학기 제 고등학생 주니어 레인저 대학생 청년 희망 프로젝트 등 각 발달 단계 별로 다양 진로 체험 선 보이 국립공원 자유 학기 제 진로 체험 프로그램 대한 상담 문의 국립공원 관리 공단 해설 서비스 부 자세 내용 국립공원 관리 공단 누리집 탐방 프로그램 확인 수 안수 철 국립공원 관리 공단 탐방 복지 처 국립공원 우리나라 가장 교실 이 라며 향후 안 자연환경 관련 다양 일자리 것 전망 국립공원 대자연 속 녹색 직업 체험 자신 꿈 끼 수 기회 제공 것 자유 학기 제 운영 현황 사진 전국 공원 별 자유 학기 제 프로그램 운영 현황 질의 응답 전문용어 해설 끝',\n",
       " '국립공원 생명 가치 공간 국립공원 주년 기념 사업 성과 보고 회 개최 자연 공원 법 전부 개정안 등 국립공원 정책 방향 전환 위 국립공원 미래 포럼 논의 결과 발표 환경부 장관 김은경 국립공원 관리 공단 이사장 권 업 은 서울 마포구 가든 호텔 국립공원 주년 기념 사업 성과 보고 회 를 개 최하 국립공원 미래 정책 방향 논의 기념 사업 추진 성과 각계 각층 공유 성과 보고 회 국민의당 이상돈 의원 자유 한국 당 이종구 의원 조계종 사회 부장 진각 스님 등 국립공원 주년 기념 행사 추진 위원회 위원 비롯 안병옥 환경부 차관 서울대 양병 교수 이상 미래 포럼 공동 위원장 등 국립공원 주년 미래 포럼 워킹 그룹 여 명 참석 성과 보고 회 올해 광화문 국립공원 주년 기념 행사 를 포함 국립공원 주년 기념 사업 성과 공 유하 한편 지난 개월 동안 국립공원 미래 포럼 논의 마련 국립공원 미래 정책 방향 논의 예정 올해 지난 공원 법 제정 국립공원 제도 처음 도입 주년 해 환경부 국립공원 성과 국민 공유 위 다양 기념 사업 추진 올해 국립공원 주년 기념 사업 추진 논의 위해 환경부 장관 손숙 마포 문화재단 이사장 전 환경부 장관 공동 위원장 국립공원 주년 기념 행사 추진 위원회 출범 국립공원 주년 기념 행사 추진 위원회 국회의원 지자체 장 등 정부위원 명과 손숙 전 환경부 장관 등 민간 위원 명 구성 미래세 대의 생태 감수성 증진 위해 초등학교 가족 대상 국립공원 야영장 무료 사용 명사 국립공원 걷기 국립공원 편지 쓰기 대회 국립공원 섬 지역 어린이 자연 문화유산 체험 국립공원 힐링 콘서트 등 다양 참여 형 행사 추진 올해 일부 터 이틀 동안 국립공원 주년 기념 행사 국립공원 주년 기념 식 국립공원 국제 콜로키 움 국립공원 미래 대토론 회 등 선 보이 한편 광화문 광장 국립공원 특산 물 장터 다양 체험 행사 국민 참여 형 한편 올해 월부 터 환경부 차관 양병 서울대 교수 전 서울대 환경 대학원 장 위원장 국립공원 미래 포럼 운 영하 지난 자연 공원 정책 평가 국립공원 정책 방향 패러다임 전환 위 논의 진행 국립공원 미래 포럼 국립공원 위 위원 포함 시민사회 학계 유관 기관 등 명의 위원 구성 국립공원 미래 포럼 은 실 질적 논의 위해 워킹 그룹 명 별도 구 성하 워킹 그룹 마련 정책 방향 검토 방식 운영 포럼 워킹 그룹 개 최하 국립공원 보전 국민 생명 가치 공유 위 제도 개선 방안 자연 공원 법 개정 방향 등 논의 김은경 환경부 장관 국립공원 주년 최상 위 보호지역 국립공원 새 시대 정책 기준 패러다임 전환 필요 라면 시민사회 학계 등 각계 각층 논의 마련 국립공원 제도 개선 방향 자연 공원 법 등 관련 법률 및 공원 정책 반영 수 도록 최선 국립공원 주년 기념 사업 성과 보고 회 개최 계획 추진 위원회 미래 포럼 워킹 그룹 개요 및 주요 성과 추진 위원회 미래 포럼 워킹 그룹 위원 명단 국립공원 주년 기념 행사 개최 결과 국립공원 주년 기념 사업 주요 내용 끝',\n",
       " '국립생물자원관 서울대 약학 대학 해외 생 물자원 약효 대한 공동 연구 시작 국립생물자원관 서울대 약학 대학 해외 생 물자원 약효 대한 공동 연구 시작 동남아시아 생 물자원 약효 연구 위해 공동 연구 협약 체결 국내 생 명산 업계 새 산업화 가능 생물소재 연구 소재 접근 비용 절감 효과 국익 창 기대 국립생물자원관 관장 김상배 은 서울대학교 약학 대학 학장 이봉 진 과 인천광역시 서구 국립생물자원관 내 동남아시아 생 물자원 활용 위 공동 연구 협약 체결 이번 협약 국립생물자원관 해외 확보 생물소재 대상 양 기관 그 효능 기능 새 생물소재 산업화 수 기반 마련 위해 추진 협약 공동 연구 기관 서울대 약학 대학 박정일 교수 등 명의 교수 참여 간 및 신장 보호 혈관 신생 촉진 및 억제 항노화 항암 등 다양 효능 함유 해외 생물소재 제품 화 연구 추진 예정 서울대 약학 대학 약학 분야 세계 위 연 구력 확보 대학 의약품 건강 기능 식품 향수 화장품 등 개발 필요 제반 분야 합성 천연물 리 및 약효 제제 생화학 분석 세계 최고 수준 연 구력 국립생물자원관 부터 캄보디아 라오스 미얀마 베트남 등 동남아시아 개국 정부 공동 연구 협약 체결 현지 생 물자원 발굴 사업 추진 중이 발굴 자원 중 현지 원주민 기간 활용 온 전통 지식 조 사하 산업화 가능성 유용 자원 선정 확보 현재 확보 생 물자원 항산화 항염 항 알레르기 미백 독성 테스트 등 기초 적 효능 검증 완료 국립생물자원관 보관 수장 중이 국립생물자원관 확보 생 물자원 분류 생태 정보 등 서울대 약학 대학 제공 관련 연구 도울 계획 국립생물자원관 우리나라 신 성장동력 주목 생명 바이오 산업 이 성공 려면 참신 생물소재 확보 중 요하 고 보고 이번 공동 협약 생명 산업화 초기 비용 절감 투자 위험 감소 역할 것 기대 김상배 국립생물자원관 장 확보 해외 생 물자원 다양 분야 활용 생물 산업 계 지원 수 도록 최선 계획 말 이봉 진 서울대 약 학대 학장 동남아시아 생 물자원 대상 공동 연구 국내 생명 산업 분야 새 소재 대한 갈증 해소 도움 것 예상 고 말 질의 응답 전문 용어 설명 끝',\n",
       " '석면 제거 중인 전국 개 학교 겨울방학 중 석면 해체 제거 학교 현장 전수 점검 실시 석면 공사 기간 학교장 책임 아래 일일 자체 점검 공사 완료 이후 민관 합동 석면 잔 재물 조사 추진 환경부 장관 김은경 교육부 장관 김상곤 고용노동부 장관 김영주 지자체 겨울방학 석면 해체 제거 작업 실시 개 학교 석면 공사 현장 특별 관리 이번 특별 관리 지난해 여름방학 때 석면 제거 완료 일부 학교 석면 잔재 물이 발견 학생 건강 피해 우려 제기 사전 방지 위 추진 관계 부처 일부 터 월초 까지 개 학교 규모 별로 책임 부처 지정 전수 점검 대규모 현장 고용노동부 중간 규모 현장 환경부 지자체 소규모 현장 교육부 교육청 각각 점검 규모 구분 별 점검 기관 및 대상 수 규모 구분 석면 해체 면적 기준 계 대규모 초과 중 규모 소규모 미만 점검 기관 고용노동부 환경부 교육부 대상 수 개교 관계 부처 이번 점검 결과 석면 해체 제거 업자 석면 해체 작업 감리 이 업무 소홀 거나 작업기 준 준 수하 등 위반 사항 발견 작업중 형사 고발 등 엄중 조치 계획 석면 공사 진행 중인 학교 학교장 책임 아래 공사 기간 동안 학교 석면 건축물 안전 관리인 석면 공사 관리자 매일 공사 현장 확인 일일 점검 표 를 작성 작업장 밀폐 상태 음압 기 석면 해체 제거 작업장 내 공기 외부 배 출하 장치 가동 여부 감리 원 상주 여부 등 확인 일일 점검 결과 공사 현장 관리소 홀로 석면 날림 비산 이 우려 경우 작업 중단 등 적정 조치 예정 석면 해체 제거 공사 완료 중순 한국 환경 공단 한국 산업 안전 보건 공단 등 석면 전문 기관 학교 관계자 학부모 등 석면 잔재 물 조사 도 실시 잔재 물 조사 겨울방학 공사 학교 를 지역별 무작위 선정 이 과정 학부모 참여 조사 과정 신뢰 성과 투 명성 예정 교실 바닥 창틀 사물함 상부 등 어진 고형 물 채 취하 석면 여부 분석 환경부 교육부 고용노동부 지난해 일부 터 까지 겨울방학 중 석면 공사 철저 안전 관리 위해 전국 개 권역 별로 교육청 및 학교 관계자 학부모 등 약 명 대상 석면 안전교육 실시 또한 석면 해체 작업 감리 대한 처벌 기준 도입 감리 원 전문교육 강화 석면 잔재 물 조사 의무 화 등 석면 안전 관리 강화 위 제도 개선 추진 겨울방학 학교 석면 특별 관리 계획 석면 해체 제거 관리 체계 질의 응답 전문용어 설명 끝',\n",
       " '봄철 미세먼지 기간 노후 석탄 발전 가동 중단 이상 노후 석탄 발전소 대해 셧다운 시행 산업부 범부 처 미세먼지 관리 종합 대책 및 제 차 전력 수급 기본 계획 미세먼지 감 위해 노후 석탄 발전 대한 봄철 가동 중단 일부 터 시행 지난해 대해 달 시범 시행 이 중 기 서천 호기 영동 호기 이후 폐지 때문 금년 나머지 대해 개 월간 가동 중지 시행 것 임호 남 호기 지역 내 안정 적 전력 계통 유지 위해 지난해 가동 중지 대상 제외 한편 산업부 지난해 말 전기 사업 법 시행 령 개정 발전 사업자 환경 위해 가동 중지 수 도록 법적 근거 마련 제 조의 환경 보존 위 필요 조치 목적 발전 사의 전기공 급 정지 미세먼지 감축 효과 금번 노후 석탄 기 가동 중단 감축 미세먼지 톤 전망 지난해 석탄 발전 개월치 배출 량 톤 해당 노후 석탄 기 미세먼지 배출 실적 근거 추산 환경부 봄철 가동 정지 미세먼지 개선 효과 측정 분석 계획 국립 환경과학 원 한국 환경 공단 발전 사 중부 발전 남동 발전 등 여가 동정 대상 개 발전소 인근 수도권 등 가동 정지 전 후의 미세먼지 농도 변화 측정 분석 도시 대기 측정 소 발전 사 자체 측정 소 필요시 이동식 측정 차량 추가 운영 측정 결과 기반 가동 정지 후 배출 량 변화 통계 적 분석 대기 질 모형 등 통해 대기오염 변화 분석 계획 가동 중단 효과 분석 결과 이후 발표 예정 안정 적 전력 수급 가동 중지 기간 동절 기 절기 전력 수요 것 예상 안 정적 전력 수급 운용 가능 것 전망 다만 예기 치 못 수요 급증 및 기타 발전기 고장 등 철저 대비 위 발전기 정비 일정 조정 통해 공급 능력 확보 설비 예방 점검 등 추진 한편 비상 시 가동 중지 발전기 긴급 가동 수 도록 기동 대기 상태 유지 필수 인력 배치 계획 임',\n",
       " '낙동강 생물 자원 관 독도 세상 특별 전 개최 낙동강 생물 자원 관 독도 세상 특별 전 개최 대형 수조 박제 표본 영상 자료 등 독도 생물상 종 전시 국립 낙동강 생 물자원 관 관장 안영 은 개관 주년 기념 독도 생물 주권 알리 기 위해 일부 터 까지 경북 상주시 국립 낙동강 생 물자원 관 전시관 독도 세상 특별 전 개최 이번 특별 전 독도 서식 주요 생물 독도 처 음으로 발견 생물 독도 한반도 내륙 공통 서식 생물 등 전시 독도 생물 주권 대한민국 음 적 극적 홍보 주요 전시 내용 독도 바다 땅 살 생물 종 중심 총 점 박제 표본 등 대형 수조 영상 자료 통해 전시 대형 수조 혹돔 거북복 감태 등 생물 종 점 독도 생동감 해양 생태계 모습 보 여준 바다제비 슴새 등 조류 박제 종 해국 섬 기린초 등 식물 표본 종도 또한 해설 프로그램 생물 작동 모형 만들기 증강현실 체험 가상 독도 포토 존 등 다양 체험 형 콘텐츠 통해 독도 의의 중요성 관람객 전달 멸종 독도 바다사자 자체 개발 작동 모형 만들기 통해 다시 만날 수 독도 생물 생태계 차원 가상 이미지 개발 증강현실 등 실감 게 체험 수 독도 독도 등 도 서지역 생태계 보전 관 특별법 환경부 지정 우리나라 호 특정도서 생태계 지질 기후 적 특수성 여 종 식물 서식 생물다양성 보고 한편 국립 낙동강 생 물자원 관 이번 독도 특별 전 지난 낙동강 수계 세계 처음 발견 미생물 락시박터 낙 엔시 스 희귀 새 우류 알 바티넬 마 엔시 스 등 전시 개관 활동 주요 업무 성과 계획 안영 국립 낙동강 생 물자원 관장 이번 특별 전 통해 낙동강 생물 자원 관 관람객 독도 생 물자원 의미 가치 대해 다시 한번 생각 계기 전 것 말 질의 응답 전문용어 설명 독도 종 목록 독도 생물 사진 자료 홍보 포스터 끝',\n",
       " '울산 여천동 벤젠 대기 농도 환경 기준 달성 벤젠 농도 환경 기준 로 년 감축 자율 개선 기업 기술 지원 등 민관 협치 개선 효과 나타 환경부 소속 낙동강 유역 환경청 청장 신진수 은 해 동안 측정 울산 광역시 여천동 일대 벤젠 대기 농도 이후 대기 환경 기준 이하 달성 울산 여천동 유해 대기오염 물질 정소 측정 이 지역 벤젠 연간 평균 로 나 이 지역 정소 여천동 속 울산 포 산업 단지 유해 대기오염 물질 오염 를 측정 곳 울산 포 산업 단지 일대 석유화학 업종 공장 밀집 그간 대기오염 관련 민원 이지 곳 환경부 공개 화학물질 배출 이동 량 정보 년도 기준 이 지역 연간 벤젠 배출 량 약 톤 전국 전체 벤젠 배출 량 를 차지 개별 공장 대부분 벤젠 배출 허용 기준 이하 충족 기준 하나 부터 까지 측정 벤젠 농도 대기 환경 기준 약 배 초과 울산 여천동 측정 소 연도 별 벤젠 농도 울산 여천동 측정 소 연도 별 벤젠 농도 연도 벤젠 농도 벤젠 대기 환경 기준 환경 정책 기본 법 시행 령 제 제정 울산 여천동 부터 측정 시행 낙동강 유역 환경청 개별 공장 법적 기준 준수 등 점검 위주 관리 이 지역 벤젠 문제 해 결하 데 한계 판단 이 단속 등 규제 국한 민관 협치 중점 업체 자발 적 시설 등 개선 낙동강 유역 환경청 이 필요 교육 기술 등 적극 지원 먼저 민관협치 체계 구축 위해 벤젠 배출 업체 개 사 울산 남구 지역 벤젠 기질 개선 협의 회 를 구성 울산 공장 에너지 종합 화학 한화 종합 화학 롯데 케미칼 울산 공장 롯데 케미칼 울산 공장 이수화학 울산 공장 카프로 코엔텍 코오롱 인더스 트리 울산 공장 태 광산업 석유화학 공장 태영 인더스 트리 한국 엔지니어링 플라스틱 효성 용연 공장 울산 아로마 틱스 한국 석유 공업 협의 회 소속 개사 벤젠 배출 감 위해 사업 장 별로 자율 개선 계획 수립 대기오염 물질 방지 시설 개선 노후 시설 교체 누 감지 시스템 구축 등 약 원 투자 또한 환경부 소속 국립 환경과학 원 연구 진 개 사 담당자 상대로 벤젠 관리 기법 및 측정 방법 등 교육 영세 업체 대상 기술 자문 실시 협 의회 지난해 차례 정기회 를 벤젠 농도 현황 적극 알리 개선 정보 교류 등 상시 소통 체계 유지 신진수 낙동강 유역 환경청 장 이번 여천동 벤젠 대기 환경 기준 달성 민관 협치 통한 기업체 적 극적 노력 결과 라면 이 지역 환경 개선 위해 기업 적 극적 소통 울산 여천동 측정 소 연도 별 벤젠 농도 및 추진 실적 전문용어 설명 끝',\n",
       " '석면 해체 작업 관리 개정 석면 법 시행 석면 안전 관리 법 일부 터 시행 석면 해체 작업 감리 소홀 시 원 이하 벌금 월부 터 석면 감리 원 교육 수료 시험 실시 보수 교육 의무 화 앞 학교 재건축 사업 장 등 석면 해체 제거 공사 현장 대한 감리 해지 공사 참여 감리 인의 전문성 책임 성 강화 환경부 장관 김은경 석면 해체 작업 감리 제도 개선 주요 내용 지난해 개정 석면 안전 관리 법 과 올해 일과 각각 개정 시행 령 및 시행 규칙 일부 터 시행 이번 제도 개선 석면 해체 제거 작업 안전 관리 위해 배 치하 감리 인의 전문성 부족 공사 현장 이탈 등 감리 소홀 문제 개선 위해 추진 제도 개선 주요 내용 다음 석면 해체 제거 감리 책임 성 강화 석면 체 제거 작업 완료 시 잔재 물 조사 감리 원 현장 상주 여부 확인 등 감리 인의 업무 명확 업무 소홀 감리 최대 만원 벌금 부과 감리 실명 제 도입 석면 체 제거 작업장 설 치하 석면 해체 제거 작업 안내 판 석면 해체 제거 업자 정보 감리 정보 게시 작업장 인근 주민 부실 공사 우려 경우 신고 수 도록 감리 원 교육 수료 시험 실시 및 보수 교육 의무 화기 존 법정 교육 시간 만 이 수하 감리 원 역량 대한 확인 감리 원 자격 부여 부터 교육 이후 수료 시험 합격 사람 감리 원 수 감리 원 매 마다 보수 교육 아야 환경부 석면 해체 제거 감리 역량 강화 위해 전국 약 명의 감리 원 대상 법령 개정 사항 감리 요령 등 대해 특별 교육 실시 예정 학교 석면 공사 특성 감리 수행 가능 도록 학교 석면 해체 작업 감리 안내서 를 별도 마련 배포 한편 석면 관리 종합 정보망 계획 환경부 제도 개선 학교 석면 공사 관리 강화 위해 학교 석면 모니터 단 구성 중 올해 여름방학 부터 본격 적 활동 계획 모니터 단 학부모 학교장 민간 단체 감리 원 외부 전문가 등 구성 석면 공사 실시 학교 별로 운영 예정 모니터 단 공사 착수 전 사전 청소 집기 류 이동 비닐 밀폐 등 적정 한지 살피 석면 해체 제거 완료 시 잔재 물 조사 실시 합격 여부 판정 역할 하미나 환경부 환경 보건 정책 관 이번 제도 개선 석면 공사 대한 투명 책임 감리 수행 공사 이후 잔재 물 발견 등 논란 발생 기대 감리 제도 변경 사항 질의 응답 전문용어 설명',\n",
       " '전국 곳 오염 하천 선정 수질 개선 통합 집중 지원 전국 곳 오염 하천 선정 수질 개선 통합 집중 지원 통합 집중 형 오염 하천 개선 사업 논산 논산천 등 전국 곳 오염 하천 선정 개 사업 원 집중 투자 수질 개선 사업 통합 집 중하 단기간 수질 개선 효과 환경부 장관 윤성규 통합 집중 형 오염 하천 개선 사업 대상 낙동강 수계 함안 함안 천 금강 수계 논산 논산천 영산강 수계 광주 장수천 무안 사교 천 섬진강 수계 남원 촌 만경강 수계 전주 아중 천 등 전국 오염 하천 곳 선정 곳 하천 하수도 생태 하천 복원 가축 분뇨 처리 시설 등 개 사업 집중 투자 단기간 수질 개선 전망 이 하천 대해 각 사업 부문 별 한도 액 내외 수준 선적 예산 반영 부터 까지 국비 사업 비 지원 예정 장수천 아중 천 도시 지역 하천 해당 지자체 하수 관거 정비 생태 하천 복원 사업 등 추진 도록 지원 논산천 농촌 지역 하천 가축 분뇨 공공 처리 시설 개량 등 지원 곳 지자체 제출 신청서 유역 지방 청 검토 의견 바탕 수질오염 정도 인구 밀집 역 지역 주민 개선 요구 지자체 의지 등 고려 전문가 차 선정 회의 차 현장 실사 선정 이 하천 생물 화 학적 산소요구량 이 현재 수질 환경부 이번 사업 통해 이 하천 생활환경 수질 기준 등급 물 이하 개선 부유 물질 등 미관 문제 고 질적 악취 민원 등 해소 면서 지역 주민 친환경 적 생활 공간 제공 수 것 기대 통합 집중 형 오염 하천 개선 사업 오염 하천 하수도 생태 하천 복원 등 다양 개 선수단 단기간 집중 지원 묶음 형 패키지 수질 개선 사업 이 사업 그간 환경부 수질 개선 단위 사업 분산 추진 개선 효과 데 장기간 소요 문제점 개선 위해 부터 추진 현재 개 오염 하천 대상 개 사업 추진 대부분 사업 시행 전보 수질 개선 표적 대강 천은 사업 전 생활환경 수질 기준 등급 등급 로 계 성천 등급 등급 로 각각 개선 등 성과 보이 환경부 통합 집중 형 오염 하천 개선 사업 완료 이후 주 기적 모니터링 통해 오염 지류 수질 수 생태계 조사 결과 복합 적 분석 사업 효과 평가 계획 통합 집중 형 사업 선정 결과 질의 응답 전문용어 설명 끝',\n",
       " '한국 환경 산업 기술 원 새 보금자리 이전 한국 환경 산업 기술 원 새 보금자리 이전 서울 은평구 신 청사 개소식 개최 환경부 장관 등 명 참석 환경부 연구 과제 개발 기술 친환경 인증 제품 등 적용 친환경 건축물 조성 환경부 한국 환경 산업 기술 원 원장 김용주 은 오후 시부 터 서울시 은평구 불광동 위치 한국 환경 산업 기술 원 신 청사 청사 개소식 개최 날 개소식 조경규 환경부 장관 한정애 국회의원 김삼 화 국회의원 강 병원 국회의원 김우영 은평구 청장 등 여명 참석 예정 기념 영상 상영 청사 투어 기념 식수 등 행사 진행 한국 환경 산업 기술 원 신 청사 지상 층 지하 층 연 면적 규모 기존 건물 증축 리 모델링 친환경 기술 제품 적용 친환경 건축물 사무실 가로등 등 건물 설치 모든 조명기구 전부 발광다이오드 조명 설치 전기 소비 약 수 고 효율 창호 사용 창문 단열 보온 기능 보온 단열 재 마감 재 내장 재 벽지 등 대부분 자재 환경마크 인증 제품 사용 이번 신 청사 적용 친환경 저 탄소 제품 기술 총 개 건물 에너지 소 비량 설비 운전 상태 실시간 확인 수 건물 에너지관 리 시스템 은 환경부 한국 환경 산업 기술 원 진행 차 세대 에코 이노베이션 사업 개발 기술 이번 신 청사 직접 적용 데 의의 또한 건물 옥상 태양광 집 판 설치 지열 활용 냉 난방 시스템 히트 펌프 적용 풍력발전 기와 태양광 전지 모듈 통해 빛 하이브리드 가로등 설치 등 신재생에너지 원 적극 활용 이 친환경 건축 요소 바탕 한국 환경 산업 기술 원 신 청사 리 모델링 건물 중 국내 최초 녹색건축 최우수 등급 예비 인증 취득 현재 인증 취득 과정 진행 중이 이 외 신 청사 건축물 에너지 효율 등급 예비 인증 취득 한국 환경 산업 기술 원 이번 신청 사 건축 기관 설립 이후 여러 곳 산재 사무실 곳 통합 직원 업무 효율 성과 방문객 접근성 개선 예정 또한 신청 사 층 환경마크 상담 센터 가습기 살균제 피해자 지원 센터 홍보 관 고객 터 등 조성 방문객 공간 제공 건물 곳곳 회의실 직원 휴식 공간 조성하 직원 자유로 운 분위기 효율 적 업무 수행 수 김용주 한국 환경 산업 기술 원 원장 그 동안 사무 공간 기관 설립 신 청사 통합 매우 뜻 생 각하 새 보금자리 환경 경제 상생 위해 제 의 도약 수 도록 최선 고 한국 환경 산업 기술 원 신청 사 개요 한국 환경 산업 기술 원 신청 사 사진 및 조감도 질의 응답 전문용어 설명 끝',\n",
       " '선생님 우리 국립공원 수학여행 가요 선생님 우리 국립공원 수학여행 가요 교육 흥미 동시 충족 생태 체험 형 여행 오대산 등 개 프로그램 취약 계층 참가 비 지원 수학여행 안전 요원 배치 국립공원 관리 공단 이사장 박보환 이 자라 미래세 자 연속 다양 체험 활동 통해 자연 수 도록 국립공원 수학여행 공단 현재 오대산 등 전국 개 국립공원 총 개 생태 체험 형 수학여행 프로그램 운영 저렴 실속 여행 위해 주 트래블러스 맵 주 우리 미래 주 거위의꿈 등 개 사회 적 기업 여행사 진행 국립공원 수학여행 교 육적 흥미 유발 내용 구성 여타 수학여행 다른 가지 강점 첫째 현장 체험 위주 소규모 생태 체험 진행 지리산 반달가슴곰 태안 해안 해변 길 오대산 전나무 숲 평창 어름치 마을 순천만 창녕 우포늪 등 국립공원 환경부 지정 생태관광 지역 다양 생태 문화 체험 포함 둘째 안전 교 육적 수학여행 수학여행 안전성 강화 위해 자연환경 해설 사 등 관련 인원 명 대한 적십자 주최 수학여행 안전 요원 교육 수료 취약 계층 가비 지원 기초 생활 수급 자 차 상위 계층 등 생태 복지 사각 지대 학생 대상 학교장 추천 통해 최대 원 까지 지원 넷째 자연환경 해설 사 명 전국 배치 교과 과정 계 현장 교육 위해 환경 교육 전문가 구성 해설 인력 전국 배 치하 질 환경 교육 제공 이번 생태 체험 형 수학여행 참여 학교 해설 서비스 부 각 국립공원 사무소 문의 안수 철 국립공원 관리 공단 탐방 복지 처 교 육적 호기심 자극 양질 국립공원 수학여행 통해 학생 아름 다운 자연환경 체험 생태 체험 형 수학여행 문화 자리 잡기 기대 고 말 부터 진행 국립공원 수학여행 교과 과정 계 생태 체험 활동 통 실제 현장 수 도록 구성 그간 약 개교 명 국립공원 수학여행 프로그램 참여 국립공원 수학여행 프로그램 목록 환경부 지정 생태관광 우수 지역 현황 질의 응답 전문 용어 설명 관련 사진 환경부 웹하드 게재',\n",
       " '환경부 장관 낙동강 녹조 현장 점검 통합 물관 리 첫 발걸음 김은경 환경부 장관 오전 낙동강 강정고령보 녹조 발생 우려 지역 방 문하 녹조 대응 및 관리 대책 점검 김은경 환경부 장관 오전 대구 달성군 낙동강 강정고령보 방 문하 개 유역 지방 환경청 별 녹조 대응 및 관리 대책 점검 후 강정고령보 일대 녹조 발생 우려 지역 현황 한강유역환경청 낙동강 유역 환경청 금강유역환경청 영산강유역환경청 원주지방환경청 대구 지방 환경청 새만금지방환경청 이번 현장 점검 본격 적 무더위 오기 앞서 낙동강 등 수계 별로 세 부적 녹조 대책 선 제적 녹조 발생 대응 위해 추진 정부 지난 녹조 개선 위 보 수위 조절 녹조 유발 오염 물질 유입 차단 녹조 감시 대응 체계 강화 철저 정 수처리 및 물 안전 확보 국민 참여 형 녹조 대응 등 주요 내용 여름철 녹조 대응 및 관리 대책 수립 바 김은경 장관 통합 물관 리 계기 기존 오염 유입 차단 등 수질 관리 정책 더 댐 보 운영 등 수량 관리 정책 조화 녹조 문제 본적 해결 말 또한 완전 개방 중인 세종 보 공주보 승촌보 죽 산보 경우 초 현재 남조류 출현 양호 상황 보이 라며 감시 모니터링 철저 오염 물질 유입 차단 양호 상황 수 도록 노력 한편 낙동강 대해 서도 적 극적 수량 수질 통합 관리 녹조 문제 점진 적 해소 환경부 장관 현장 점검 일정 표 여름철 녹조 대응 및 관리 대책 끝',\n",
       " '태백산 국립공원 사무소 본격 적 업무 시작 태백산 국립공원 사무소 본격 적 업무 시작 태백시 소도 골 입구 사무소 마련 일부 터 업무 개시 자원 보전 훼손 복원 탐방 문화 개선 지역 사회 협력 주력 국립공원 관리 공단 박보환 이사장 은 태백산 국립공원 사무소 소장 김진 광 개 소하 본격 적 업무 돌입 태백산 도립 공원 지정 구역 올해 우리나라 제 호 국립공원 지정 국립공원 구역 강원 태백시 강원 영월군 강원 정선군 경북 봉화군 등 총 로 기존 도립 공원 면적 의 배 태백산 국립공원 사무소 태백시 소도 골 입구 사무소 마련 태백산 국립공원 사무소 장 등 여명 참여 가운데 무사 자원 보호 탐방 객 안전 등 기원 고사 것 업무 시작 태백산 국립공원 사무소 올해 하반기 부터 시작 자연자원 조사 통해 태백산 전 반적 자원 현황 파악 탐방 훼손 정비 일본잎갈나무 수종 갱신 사업 등 생태 복원 사업 실시 예정 또한 태백산 풍부 생태 문화 자원 활용 생태관광 탐방 문화 개선 시범 공원 추진 유관 기관 주민 대표 등 참여 지역 협력 위원회 구성 통해 지역 사회 공원 관리 추진 계획 김진 광 태백산 국립공원 사무소 장 국립공원 지정 태백산 자연자원 체계 적 보호 이바지 지역 발전 도움 수 도록 직원 최선 노력 것 이 라며 지역 주민 관심 협조 바란 고 말 사무소 및 분소 설치 현황 질의 응답 전문용어 설명 끝',\n",
       " '대전 녹색 구매 원 센터 친환경 생활 첨병 발돋움 대전 충남 지역 친환경 생활 장터 곳 운영 방문객 증가 여명 년 등 주민 대상 친환경 소비 문화 조성 기관 자리 김 환경부 장관 지역 특성 사업 발굴 친환경 정책 보급 확대 수 도록 당부 조경규 환경부 장관 오후 대전 시 중구 대전 녹색 구매 원 센터 방 문하 이후 성과 확인 친환경 소비 문화 확산 선 도적 역할 해달 직원 당부 개 소한 대전 녹색 구매 원 센터 대전 시 시민 대학 계 친환경 소비 강좌 운영 지역 여성 단체 협력 등 녹색 제품 홍보 공동 구매 추진 대전 충남 지역 친환경 생활 확산 거점 자리 김 곳 센터 내 전시장 운 영하 면서 환경마크 탄소 성적표 등 환경라벨 링 인증 제품 대한 정보 제공 녹색 제품 판매 교육 실 무료 대관 통해 지역 주민 녹 색공간 활용 면서 연간 명 이상 방문 또한 특화 사업 대전 시 동구 중구 서구 유성구 대덕구 등 곳 아파트 단지 녹색 제품 판 매하 친환경 생활 장터 도 운영 환경부 녹색 제품 정보 제공 친환경 소비 교육 홍보 등 다양 활동 효과 적 전개 위해 지자체 경기 안산 부산 제주 충북 대전 등 곳 녹색 구매 원 센터 설치 경기 안산 센터 부산 센터 제주 센터 충북 센터 대전 센터 곳 녹색 구매 원 센터 전국 어린이집 연합 회 협약 체 결하 어린이집 녹색 제품 구매 활성화 영유 시기 부터 친환경 소비 수 도록 지원 지역 네트워크 활용 지역별 특 화사 업도 활발 안산 센터 관내 기업 대상 그린 법인 카드 발급 지원 제주 센터 사설 관광지 그린카드 제휴 지원 부산 센터 중소기업 대상 환경마크 인증 수수료 지원 사업 충북 센터 녹색 제품 알림 마당 설치 운영 등 특화 사업 각각 운영 중 환경부 전국 개 광역 지자체 녹색 구매 원 센터 설치 운영 위해 지자체 협력 지역 내 녹색 제품 생산 기업 신규 발굴 유통 판로 강화 예정 조경규 환경부 장관 녹색 구매 원 센터 국민 가장 까운 곳 친환경 소비 생활 장려 중요 기관 이 라며 녹색 구매 원 센터 전 국적 확대 지역 특성 다양 사업 전개 수 도록 노력 고 말 대전 녹색 구매 원 센터 방문 계획 녹색 구매 원 센터 개요 녹색 구매 원 센터 운영 성과 질의 응답 끝',\n",
       " '참고 흑산공항 건설 찬 반 종합 토론회 개최 국립공원 위원회 주관 오후 시부 터 정부 서울 청사 별관 층 외교부 국제 회의실 개최 국립공원 위원회 심의 앞서 환경성 경제성 안전성 등 분야 별 쟁점 대한 찬 반 심층 토론 예상 환경부 국립공원 위원회 위원장 환경부 차관 오후 시부 터 정부 서울 청사 별관 층 외교부 국제 회의실 흑산공항 건설 찬 반 종합 토론회 를 개최 이번 종합 토론회 흑산공항 건설 사업 대한 제 차 국립공원 위원회 심의 찬성 반대 측 의견 종합 적 듣기 위해 마련 것 지난 제 차 국립공원 위원회 흑산공항 건설 사업 대한 환경성 경제성 안전성 등 분야 별 쟁점 사항 대해 전문가 검토 지역 주민 의견 추가 청취 종합 토론회 개최 등 결정 바 이번 종합 토론회 서울 지방 항공 청 사업자 신안군 지역 주민 등 찬성 측 국립공원 을지 키 시민 모임 전남 환경운동 연합 사 황해 섬 네트워크 등 반대 측 비롯 전문가 국민 등 참석 예정 토론회 찬성 및 반대 측 주제 발표 지정 토론 종합 토론 순 진행 환경성 경제성 안정 성 등 지난 국립공원 위원회 제기 분야 별 쟁점 사항 대하 심층 적 다각 적 토론 것 예상 날 종합 토론회 국립공원 위원회 위원 전 재경 위원 좌 정남 순 위원 김상배 위원 이 주재 토론 결과 개최 제 차 국립공원 위원회 심의 시 공원 위원 제공 예정 흑산공항 종합 토론회 개최 계획 사업 개요 흑산공항 건설 사업 추진 경과 끝',\n",
       " '국립생태원 어린이 생태 도서 터키 수출 과학기술 정보통신부 우수 과학 인증 어린이 생태 도서 개미 세계 탐험 북 터키 수출 터키어 제작 현지 내년 중 출판 예정 환경부 국립생태원 원장 이희철 은 어린이 생태 도서 미래 생태학 위 개미 세계 탐험 북 이하 개미 세계 탐험 북 터키 수출 국립생태원 올해 터키 출판사 예 인산 생태 도서 수출 계약 체결 예 인산 설립 중견 출판사 터키 이스탄불 말테페 위치 생태 철학 대안교육 관련 단행본 및 잡지 주로 발간 출판사 이번 터키 수 출하 개미 세계 탐험 북 개미 대해 지지 흥미 사실 소개 다양 탐구 활동 제시 어린이 생태 도서 지난해 과학기술 정보통신부 종전 미래창조과학부 인증 우수 과학 서로 선정 바 터키 출판사 예 인산 개미 세계 탐험 북 터키어 제작 내 현지 출판 예정 국립생태원 올해 일부 터 동안 터키 이스탄불 국제 서전 참가 앞서 이번 계약 체결 터키 이스탄불 국제 서전 국립생태원 아동 도서 및 전문 학술 서적 등 총 종 서적 전시 국립생태원 서울 국제 도서전 대한민국 독 서대전 등 국내 도서전 비롯 프랑크 프 루트 도서전 볼로냐 아동 서전 등 주요 국제 도서전 지속 적 참가 국립생태원 우수 서적 해외 수출 계획 이희철 국립생태원 장 이번 생태 도서 수출 계약 국립생태원 개발 서적 수성 확 인하 계기 마련 라며 앞 적 극적 해외 시장 진출 통해 국립생태원 개발 서적 수성 입증 계획 미래 생태학 위 개미 세계 탐험 북 이미지 질의 응답 끝',\n",
       " '지속 가능 통합 물관 리 포럼 운영 위원장 위촉 환경부 장관 허재영 충남 도립대 총장 지속 가능 통합 물관 리 포럼 운영 위원장 위촉 지난 출범 포럼 원활 운영 거버넌스 기반 국가 통합 물관 리 제시 당부 환경부 장관 김은경 정부 세종 청사 지속 가능 통합 물관 리 포럼 이하 통합 물 포럼 의 운영 위원장 위촉 식 개최 운영 위원장 허재영 충남 도립대 총장 위촉 통합 물 포럼 각계 의견 수렴 국가 통합 물관 리 도출 위 범 국민 포럼 수질 수생 태 수량 재해 예방 일관 체계 균형 적 지속 가능 관리 유역 민주주의 실현 위 논의 장 마련 위해 지난 출범 범식 환경부 장관 시민사회단체 분야 별 전문가 유관 기관 장 등 여 명 참석 통합 물관 리 방향 논의 패널 토론 좌 참석 허재영 총장 운영 위원장 추대 허재영 통합 물 포럼 운영 위원장 경남 진주 출생 일본 오사카대 학 토목공학 수자원 전공 공학 박사 학위 대전대 교수 대전 방재 연구소장 등 역임 김은경 환경부 장관 통합 물 포럼 위촉 식 그간 물관 리 인프라 충분 구축 이제 그 인프라 통합 조정 관리 시기 물관 리 정책 개선 전환 필 요하 며 국민 환경권 최 우선 삼고 환경 정의 가치 수 통합 물관 리 마련 위해 각계 의견 충분 수렴 수 방향 포럼 운영 해달 고 허재영 운영 위원장 당부 허재영 운영 위원장 통합 물관 리 마련 위해 포럼 출범 로써 다양 시각 물관 리 정책 의견 제시 민간 전문가 시민단체 역시 막중 책임감 것 생각 라며 각 분야 다양 관점 가지 충분 토론 해나 과정 통해 물관 리 패러다임 전 환기 걸 수 도록 위원장 책임 말 통합 물 포럼 각계 대표 참여 운영 위원회 약 명 내외 이번 달 중 구성 후 논의 중 포럼 분과 별 구성 및 추진 방안 세부 주제 및 일정 등 운영 기틀 올해 중 최종 확정 계획 위원장 프로필 질의 응답',\n",
       " '담수 생 물자원 요람 국립 낙동강 생 물자원 관 개관 담수 생 물자원 요람 국립 낙동강 생 물자원 관 개관 담수 생 물자원 전문 연구기관 국립 낙동강 생 물자원 관 경상북도 상주시 문 본격 적 활동 시작 국가 담수 생물 주권 실현 국립 낙동강 생 물자원 관 중심 를 주제 환경부 장관 자치 단체 장 및 지역 주민 등 여명 참여 국립 낙동강 생 물자원 관 관장 안영 이 공식 개관 경상북도 상주시 낙동강 변 위치 낙동강 생물 자원 관 담수 생 물자원 연구 중추 적 역할 것 기대 낙동강 생물 자원 관 기후변화 질병 관리 강화 및 생물다양성 보전 의 일환 지난 부터 추진 국가 생물 주권 확보 생물 산업 경쟁력 강화 목적 만점 이상 생 물자원 보존 수 최첨단 수장 시설 표본 보관 시설 과 다양 연구 시설 하천 호수 등 담수 서식 생 물자원 조사 발굴 유용성 연구 주로 수행 담수 의약품 등 산업 원천 소재 활용 가치 미생물 원핵생물 등 만종 이상 서식 것 추정 낙동강 생물 자원 관 향후 본격 적 연구 활동 시작 담수 생 물자원 발굴 가속 화 유용 성분 및 기능 분석 연구 성과 민간 공유 등 통해 국내 생물 산업 발전 기여 것 전망 낙동강 생물 자원 관 규모 부지 연구 수장 전시 교육 전시 온실 연구 온실 등 시설 물 실내 전시관 이제 멸종 볼 수 바바리사자 등 종 희귀 표본 전 세계 및 우리나라 생물다양성 경험 수 주요 생물 표본 점 전시 야외 공간 시시각각 변화 사계절 야생화 담수 생물 서식지 체험 수 계절 화원 및 생명 샘 등 조성 전시 온실 우리나라 남부 지역 대표 동백나무 새우난초 등 점 식물 관람객 방문 기 다리 낙동강 생물 자원 관 아름 다운 자연 경관 자랑 경천 섬 상주 박물관 국제 승마 장 등 인근 위치 이 시설 계 생태관광 프로그램 운영 통해 지역 상생 발전 기여 것 기대 이번 개관 행사 국가 담수 생물 주권 실현 국립 낙동강 생 물자원 관 중심 슬로건 아래 환경부 장관 및 국회의원 자치 단체 장 일반 시민 등 여명 참석 건립 경과 보고 유공 자 표창 기념 식수 및 테이프 커팅식 등 행사 생 물자원 체험 부스 및 생 물자원 창조 나래 를 주제 기획전 등 다양 부대 행사 개최 예정 환경부 장관 개관 식 인사말 통해 국립 낙동강 생 물자원 관 건립 가지 의미 미래 가치 창조 세계 최고 담수 생물 전문 연구기관 육성 등 예정 국립 낙동강 생 물자원 관 개관 식 개요 국립 낙동강 생 물자원 관 건립 개요 질의 응답 전문 용어 설명 끝',\n",
       " '고산 침엽수 미기 록 내생 균 종 발견 국립생태원 고산 침엽수 분비나무 미기 록종 내생 균 종 발견 기후변화 취약종 고산 침엽수 관리 대책 적응 기술 활용 가능 환경부 국립생태원 원장 이희철 은 고산 침엽수 종인 분비나무 우리나라 보고 미기 록 내생 균 종 발견 이번 내생 균 종은 국립생태원 수행 중인 기초 생태 연구 연구 사업 일환 지난해 강원도 인제군 점 봉산 채집 분비나무 잎 분리 배 양하 과정 발견 분비나무 소나무 속 침엽수 종 우리나라 비롯 중국 러시아 등 분포 고산 생태계 대표 수종 현재 기후변화 서식 환경 변화 개체 수가 줄 내생 균 식물 내부 존재 진균 공생 작 통해 환경 변화 스트레스 저항 성의 향상 병원균 및 초식동물 대한 보호 작용 등 관여 내생 균 분비 생리 활 물질 신약 후보 물질 활용 기도 이번 발견 내생 균 종은 페지 쿨 스포 룰 로사 플릭 테마 바 가분 이 종은 유럽 러시아 등 보고 국내 발견 적 미기 록 종이 페지 쿨 스포 룰 로사 균총 의 잎 가장자리 형태 톱 처럼 갈라 전 체적 모 양으로 안정 형태 띤다 표면 색상 연한 갈색 플릭 테마 바 가분 균총 잎 가장자리 불규칙 발생 표면 색상 흰색 균사 다소 성기 자라 공중 균사 발달 국립생태원 연 구진 이번 내생 균 종이 고산 침엽수 림 집단 고사 쇠퇴 현상 대한 대책 기술 개발 활용 수 것 보고 내생 균 종은 분비나무 서식 고산 대한 적응도 다른 내생 균 환경 적응 내생 균 접종 분비나무 환경 변화 스트레스 대한 저 항성 향상 데 도움 것 기대 연 구진 이번 발견 내생 균 한국 균학 회지 등 국내 외 전문 학술지 발표 예정 이희철 국립생태원 장 기후변화 취약종 분비나무 비롯 우리나라 고유종 구상나무 등 고산 침엽수 대해 내생 균 활용 보전 전략 적용 복원 성 공률 높이 기 위 내생 균 기초 생태 연구 적극 지원 것 미기 록종 내생 균 사진 질의 응답 전문용어 설명 끝',\n",
       " '정부 새만금 호 수질 대책 강화 정부 새만금 호 수질 대책 강화 새만금 위원회 목표 수질 달성 위해 개 추가 대책 추진 심의 의결 황 총리 목표 달성 위해 매년 점검 평가 등 수질 대책 이행 정부 황교안 국무총리 주재 제 차 새만금 위원회 위원장 국무총리 황교안 공동 위원장 종남 를 개 최하 새만금 유역 제 단계 수질 개선 종합 대책 중간 평가 결과 및 추가 대책 심의 확정 새만금 위원회 국무총리 종남 민간 위원장 공동 위원장 기재부 등 개 부처 장관 토지 개발 환경 등 각 분야 민간 위원 명 구성 정부 새만금 호 목표 수질 달성 위해 기존 수질 대책 이외 전 주하 수처리 장 증설 등 개 추가 대책 추진 결정 전 주하 수처리 장 증설 가축 분뇨 공공 처리 시설 확대 분 연료 화 사업 중간 평가 결과 농업 용지 구간 기존 대책 목표 수질 등급 달성 예측 도시 용지 구간 경우 화학 적 산소요구량 엽록소 목표 수질 등급 달성 예측 도시 용지 구간 총 의 경우 목표 수질 등급 달성 것 예측 때문 개 추가 대책 단계 대책 차질 추진 경우 새만금 목표 수질 모두 달성 수 것 예측 이 관련 황교안 국무총리 기존 대책 및 추가 대책 이행 목표 수질 달성 수 도록 최선 다해 줄 것 당부 수질 개선 변화 추이 등 매년 점검 평가 필요 대책 위원회 보고 하라 고 지시 날 회의 또 새만금사업 추진 현황 중 경제 협력 추진 현황 및 대책 광역 기반시설 조성 현황 등 새만금사업 전반 대한 다양 논의 이루 어졌다 새만금 청 새만금 방조제 내부 매립 공사 진행 개 기업 천억 원 규모 를 체 결하 등 정도 사업 성과 핵심 용지 국제 협력 용지 관광 레저 용지 사업 시행 자 유치 등 새만금사업 전반 활성화 촉진 필요 보고 정부 위해 규제 완화 인 센티 브 제공 등 투자 활성화 방안 범정 부적 마련 나 가기 이 관련 황 총리 새만금사업 장 기적 안목 다수 부처 협업 추진 사업 임 강조 면서 새만금 청 관계 부처 전라북도 총리실 긴밀 협의 대책 마련 지역 주민 소통 면서 사업 성 공적 추진 줄 것 당부 날 회의 논의 확정 내용 새만금 수질 중간 평가 결과 및 추가 대책 새만금 중 경제 협력 추진 현황 및 대책 광역 기반시설 조성 현황 및 대책',\n",
       " '공동 참고 안산시 물류 창고 가전제품 수입 컨테이너 내부 불개미 발견 관련 인천 항 전문가 합동 조사 및 조치 실시 인천 항 발견 지점 불개미 마리 추가 발견 농림축산검역본부 이하 검역 본부 불개미 발견 수입 컨테이너 적재 인천 항 한진 컨테이너 터미널 대해 농진청 학계 전문가 등 합동 조사 실시 결과 추가 일개미 마리 발견 총 마리 추가 발견 일개미 최초 발견 곳 마리 반경 이내 지점 발견 검역 본부 찰 방제 세부 실행 매뉴얼 전문가 의견 발견 지점 격자 이내 소독 조치 발견 지점 이내 지역 트랩 추가 설치 개 개 향후 모니터링 계속 예정 한편 환경부 안산시 등 관계 기관 불개미 발견 컨테이너 대한 훈증 소독 및 주변 지역 소독 완료 어제 발견 불개미 대한 정밀 조사 결과 공주 개미 마리 확인 밀폐 공간 약제 가스 등 주 입하 방역 방법 환경부 해당 물류 창고 주변 지역 대한 육안 및 트랩 조사 통해 불개미 모니터링 계속 계획',\n",
       " '참고 경기도 용인시 형 고 병원 성 바이러스 검 국립 환경과학 원 경기도 용인시 처인구 백암면 일대 채취 야생 조류 분변 고 병원 성 형 바이러스 확인 환경부 소속 국립 환경과학 원 원장 박진원 은 지난 경기도 용인시 처인구 백암면 일대 채취 야생 조류 분변 검 형 조류인플루엔자 이하 바이러스 병 원성 최종 확인 올해 이후 채취 야생 조류 분변 고 병원 성 바이러스 검 것 순천만 및 제주도 도리 번 국립 환경과학 원 농림축산식품부 질병 관리 본부 및 해당 지자체 등 관계 기관 신속 통보 국립 환경과학 원 항원 검 영암군 오리 농장 주변 및 용인시 처인구 백암면 청미 천 일대 철새 서식지 찰 강화 한편 평창올림픽 대비 강원도 특별 찰 도 지속 적 실시 예정',\n",
       " '물 산업 육성 위 국회 포럼 개최 물 산업 육성 위 국회 포럼 개최 신 성장동력 물 산업 전략 적 육성 위해 산 학 연 한자리 물 산업 육성 일자리 창 해외진출 촉진 등 효과 기대 환경부 장관 조경규 국회 기업 전문가 정부 물 산업 육성 위 국회 포럼 오후 시부 터 서울 영등포구 국회의원 회관 제 세미나 실 개최 이번 포럼 국회 환경 노동위 원장 홍영표 의원 조원진 의원 국회 신성 장 산업 포럼 주최 대한 상 하수도 학회 학회 장 오현 제 한국 환경 공단 이사장 전병성 이 주관 환경부 국회 환경 포럼 회장 권은희 의원 은 후원 물 산업 육성 위 국회 포럼 은 기후변화 점차 증가 물 수요 대비 국내 물 산업 체계 적 육성 신성 장 동력 화가 필 요하 공감 정 관계 언론 학계 산업 계 등 뜻 마련 국내 물 산업 현황 문제점 미래 전망 기술 개발 및 산업화 방향 해외진출 촉진 방안 등 국내 물 산업 육성 방안 집중 적 토의 홍영표 국회 환경 노동위 회 위원장 축사 통해 기후변화 우리 아주 까운 미래 안 정적 물 수급 대해 골몰 것 생존 향 화두 물 산업 결코 발상 접근 이유 오늘 이 자리 물 수급 문제 대한 장 기적 안목 고민 논의 수 바란 고 예정 조원진 의원 국가 물 산업 클러스터 성 공적 조성 경우 물 산업 육성 새 일자리 창 기대 체계 적 지원 운영 물 산업 진흥 원 설립 물 산업 진흥 법 제정 필 요하 의견 전 조경규 환경부 장관 하천 호수 관리 상 하수도 오 폐수 해수담수화 등 국가 경제 전반 영향 물 산업 단계 국민 물 복지 확대 기여 고 말 이번 포럼 국회 물 관련 기관 학계 국내 산업 전반 물 산업 대한 관심 기술 개발 유도 착공 국가 물 산업 클러스터 의 성 공적 추진 국가 전략 산업 추진 중인 우리나라 물 산업 도움 줄 것 기대 물 산업 강국 미국 유럽 노후 화 설비 개선 물 부족 대비 물재 이용 대체 수자원 개발 원수 악화 수처리 기술 개발 부각 반면 국내 산업 기반 자체 아직 취약 실정 국회 포럼 포스터 물 산업 육성 위 국회 포럼 일정 안 질의 응답 전문용어 설명 끝',\n",
       " '공동 환경부 국토교통부 통합 물 관리 위 상호 협력 협약 체결 풍수 재난 대응 물 산업 육성 다기 능 보 처리 스마트 시티 구현 등 협력 환경부 장관 김은경 국토교통부 장관 김현미 양 기관 간 합리 적 공조 통해 빈틈 통합 물 관리 실현 국민 생활 불편 초래 정부 정책 효율 적 추진 위해 화 업무 협약 체결 상호 협력 나선 업무 협약 지난 국회 통과 일부 터 시행 정부조직법 개정 후속 조치 일환 환경부 국토교통부 물 관리 분야 정책 협력 채널 강화 물 관리 일원화 취지 수량 수질 재해 예방 통합 물 관리 차질 도록 위함 상호 협력 협약 상 명시 협력 업무 사항 총 개 그 외 기타 협력 및 지원이 필요 사항 지속 적 발굴 협력 계획 국토교통부 국민 생명 보호 재산 피해 방지 최 우선 환경부 홍수 대응 업무 원활 진행 수 도록 하천 시설 등 소관 사회 기반 시설 의 피해 및 조치 현황 공 유하 빈틈 풍수 재난대응 도록 대강 사업 후속 조치 일환 환경부 마련 중인 다기 능 보 처리 방안 대해 국토교통부 적극 협력 국토교통부 아라천 체계 적 관 리하 환경부 수 립하 경인아라뱃길 기능 재정 립 방안 성과 수 도록 적극 협조 국토교통부 해수담수화 플랜트 댐 및 상 하수도 건설 등 환경부 물 산업 육성 관련 정책 시행 협조 환경부 물 산업 활발 해외 건설 진출 위 다양 시책 적극 추진 환경부 한국 수자원공사 추진 중인 부산 에코 델타 시티 사업 지역 지정 국토교통부 스마트 시티 국가 시범 시 사업 친환경 적 미래 혁신 성장 성공사례 발전 수 도록 적극 협조 환경부 물관 리 효율 성 고 위해 발전 댐 관리 체계 개선 노력 국토교통부 발전 댐 하천 점용 현행 화 노력 하천 시설 치수 안전성 확보 추진 환경부 한국 수자원공사 현재 시행 송산 그린 시티 시화 멀티 테크노 밸리 사업 등 하천 시설 유지관리 위탁 업무 등 국토교통부 연 관성 업무 차질 추진 수 도록 적극 협조 환경부 국토부 환경부 생태 하천 복원 사업 국토교통부 지방하천 정비사 업 효율 적 사업 추진 위해 상호 협조 환경부 안병옥 차관 환경부 국토교통부 수량 수질 관리 일원화 계기 차원 통합 물관 리가 이루 수 것 기대 라며 하천 관리 기능 제외 물관 리 일원화 것 대한 우려 금번 상호 협력 협약 통해 양 부처 더욱 긴밀 협력 우려 해소 말 국토교통부 손 병석 제 차관 이번 상호 협력 협약 통해 정부 물 관리 일원화 취지 물 관리 분야 정책 협력 채널 원만 작동 수 것 기대 라며 나 아가 각 기관 간 합리 적 공조 통해 빈틈 물 관리 실현 국민 생활 불편 초래 물 관련 정부 정책 효율 적 추진 도록 최선 말 협약 체결 계획 끝',\n",
       " '국립생태원 생태학 자의 길 소로 길 조성 미국 자연 주의 철학자 유명 헨리 데이비드 소 로우 주제 산책길 조성 제일 구달 찰스 다윈 그랜트 부부 길 환경부 국립생태원 생태학 자의 길 소로 길 명명 식 충남 서천군 국립생태원 용 화실 못 일대 개최 소로 길 은 제인 구달 길 과 찰스 다윈 그랜트 부부 길 번 조성 산책길 소로 길 명명 식 최재천 국립생태원 원장 비롯 관내 교사 초등학생 등 여 명 참석 행사 정진철 국립생태원 생태 전시 교육 본부장 인사말 최재천 전임 원장 축사 시작 현판 공개 후 참석자 소로 길 탐방 순 진행 예정 소로 길 의 주인공 헨리 데이비드 소로 미국 자연 주의 철학자 유명 사상가 그 미국 매사추세츠 주 콩코드 남쪽 월든 호숫가 숲 홀로 오두막 소박 자급자족 개월 생활 월든 간 그 삶 대부분 자연 관찰 인간 자연 관계 주제 소로 우의 일기 등 저서 다수 집필 국립생태원 자연 조화 이루 소박 지혜 삶 그 속 원적 질문 답 고자 그 일생 되새 기고 자 소로 길 조성 소로 길 은 그 삶 모습 생활 개 주제 용 화실 못 내 구간 조성 자연 자급자족 생활 그 소박 삶 철학 소개 기념 명언 등 해설 판 상징물 설 치하 관람객 흥미 이해 높이 도록 구성 버드나무 길 이팝나무 길 등 용 화실 못 둘레길 조성하 소로 길 사람 다양 식물 관찰 자연 편안함 즐거움 수 도록 구성 국립생태원 길 주변 철새 토양단면 등 관찰 수 통나무 학습장 등 조성하 자연 그대로 것 과 생태학 적 삶 수 생태 학습장 활용 계획 국립생태원 소로 길 조성 더 불어 소로 야생화 일기 서적 기반 우리 자생 식물 소개 소로 길 우리 들꽃 이야기 행사 일부 터 까지 소로 길 주변 숲 습지 등 개최 예정 손 대선 국립생태원 야외 식물 부장 이번 행사 국민 다가 수 생태 휴식 체험 공간 소로 길 더 마련 라며 이번 산책길 생물 종 다양성 이해 높이 자연환경 대한 인식 전환 수 기회 것 말 국립생태원 세계 적 환경운동가 이자 침팬지 연구 가인 제인 구달 박사 초청 탄생 주년 기념 제인 구달 길 조성 이 어서 진화론 창시자 찰스 다윈 그 연구 이 어가 그랜트 피터 로즈메리 부부 학문 적 정신 기리 고자 찰스 다윈 그랜트 부부 길 도 소로 길 동선 소개 소로 길 사진 질의 응답 전문용어 설명 끝',\n",
       " '공산 정수 장 고 도정 수처리 시설 현황 포항시 수처리 수 재 이용 시설 민간 투자 사업 개요 공산 정수 장 고 도정 수처리 시설 현황 포항시 수처리 수 재 이용 시설 민간 투자 사업 개요 공산 정수 장 고 도정 수처리 시설 현황 막 여과 오존 분말 활성탄 이용 고도 정 수처리 사례 막 여과 등 처리 일 대구시 북구 산격동 포항시 수처리 수 재 이용 시설 민간 투자 사업 개 요하 수처리 수 재 이용 시설 일 공업 용 세계 최대 갈수 기 용수 부족 해소 포스코 일 공급 공산 정수 장 고 도정 수처리 막 여과 시설 현황 포항시 수처리 수 재 이용 시설 민간 투자 사업 개요 포항시 수처리 수 재 이용 시설 민간 투자 사업 사업 현황 보고 별도 파일 끝']"
      ]
     },
     "execution_count": 35,
     "metadata": {},
     "output_type": "execute_result"
    }
   ],
   "source": [
    "corpus"
   ]
  },
  {
   "cell_type": "code",
   "execution_count": 36,
   "metadata": {
    "scrolled": true
   },
   "outputs": [
    {
     "data": {
      "text/html": [
       "<div>\n",
       "<style scoped>\n",
       "    .dataframe tbody tr th:only-of-type {\n",
       "        vertical-align: middle;\n",
       "    }\n",
       "\n",
       "    .dataframe tbody tr th {\n",
       "        vertical-align: top;\n",
       "    }\n",
       "\n",
       "    .dataframe thead th {\n",
       "        text-align: right;\n",
       "    }\n",
       "</style>\n",
       "<table border=\"1\" class=\"dataframe\">\n",
       "  <thead>\n",
       "    <tr style=\"text-align: right;\">\n",
       "      <th></th>\n",
       "      <th>0</th>\n",
       "      <th>1</th>\n",
       "    </tr>\n",
       "  </thead>\n",
       "  <tbody>\n",
       "    <tr>\n",
       "      <th>0</th>\n",
       "      <td>국립공원</td>\n",
       "      <td>20.805362</td>\n",
       "    </tr>\n",
       "    <tr>\n",
       "      <th>1</th>\n",
       "      <td>생태</td>\n",
       "      <td>9.299953</td>\n",
       "    </tr>\n",
       "    <tr>\n",
       "      <th>2</th>\n",
       "      <td>시설</td>\n",
       "      <td>8.984896</td>\n",
       "    </tr>\n",
       "    <tr>\n",
       "      <th>3</th>\n",
       "      <td>공단</td>\n",
       "      <td>8.949317</td>\n",
       "    </tr>\n",
       "    <tr>\n",
       "      <th>4</th>\n",
       "      <td>생물</td>\n",
       "      <td>8.826266</td>\n",
       "    </tr>\n",
       "    <tr>\n",
       "      <th>5</th>\n",
       "      <td>국립생태원</td>\n",
       "      <td>8.617792</td>\n",
       "    </tr>\n",
       "    <tr>\n",
       "      <th>6</th>\n",
       "      <td>물자원</td>\n",
       "      <td>8.222883</td>\n",
       "    </tr>\n",
       "    <tr>\n",
       "      <th>7</th>\n",
       "      <td>미세먼지</td>\n",
       "      <td>8.037539</td>\n",
       "    </tr>\n",
       "    <tr>\n",
       "      <th>8</th>\n",
       "      <td>안전</td>\n",
       "      <td>7.793034</td>\n",
       "    </tr>\n",
       "    <tr>\n",
       "      <th>9</th>\n",
       "      <td>배출</td>\n",
       "      <td>7.667951</td>\n",
       "    </tr>\n",
       "    <tr>\n",
       "      <th>10</th>\n",
       "      <td>발견</td>\n",
       "      <td>7.262234</td>\n",
       "    </tr>\n",
       "    <tr>\n",
       "      <th>11</th>\n",
       "      <td>교육</td>\n",
       "      <td>7.024596</td>\n",
       "    </tr>\n",
       "    <tr>\n",
       "      <th>12</th>\n",
       "      <td>식물</td>\n",
       "      <td>6.914979</td>\n",
       "    </tr>\n",
       "    <tr>\n",
       "      <th>13</th>\n",
       "      <td>화학물질</td>\n",
       "      <td>6.914776</td>\n",
       "    </tr>\n",
       "    <tr>\n",
       "      <th>14</th>\n",
       "      <td>제품</td>\n",
       "      <td>6.881961</td>\n",
       "    </tr>\n",
       "    <tr>\n",
       "      <th>15</th>\n",
       "      <td>개선</td>\n",
       "      <td>6.441500</td>\n",
       "    </tr>\n",
       "    <tr>\n",
       "      <th>16</th>\n",
       "      <td>국립공원 공단</td>\n",
       "      <td>6.353490</td>\n",
       "    </tr>\n",
       "    <tr>\n",
       "      <th>17</th>\n",
       "      <td>발생</td>\n",
       "      <td>6.299519</td>\n",
       "    </tr>\n",
       "    <tr>\n",
       "      <th>18</th>\n",
       "      <td>협력</td>\n",
       "      <td>6.167030</td>\n",
       "    </tr>\n",
       "    <tr>\n",
       "      <th>19</th>\n",
       "      <td>협약</td>\n",
       "      <td>6.127867</td>\n",
       "    </tr>\n",
       "    <tr>\n",
       "      <th>20</th>\n",
       "      <td>정책</td>\n",
       "      <td>6.096146</td>\n",
       "    </tr>\n",
       "    <tr>\n",
       "      <th>21</th>\n",
       "      <td>기준</td>\n",
       "      <td>6.057382</td>\n",
       "    </tr>\n",
       "    <tr>\n",
       "      <th>22</th>\n",
       "      <td>물질</td>\n",
       "      <td>5.925005</td>\n",
       "    </tr>\n",
       "    <tr>\n",
       "      <th>23</th>\n",
       "      <td>대응</td>\n",
       "      <td>5.891322</td>\n",
       "    </tr>\n",
       "    <tr>\n",
       "      <th>24</th>\n",
       "      <td>탐방</td>\n",
       "      <td>5.865542</td>\n",
       "    </tr>\n",
       "    <tr>\n",
       "      <th>25</th>\n",
       "      <td>생물다양성</td>\n",
       "      <td>5.740871</td>\n",
       "    </tr>\n",
       "    <tr>\n",
       "      <th>26</th>\n",
       "      <td>국립생물자원관</td>\n",
       "      <td>5.722356</td>\n",
       "    </tr>\n",
       "    <tr>\n",
       "      <th>27</th>\n",
       "      <td>개발</td>\n",
       "      <td>5.712927</td>\n",
       "    </tr>\n",
       "    <tr>\n",
       "      <th>28</th>\n",
       "      <td>정보</td>\n",
       "      <td>5.538157</td>\n",
       "    </tr>\n",
       "    <tr>\n",
       "      <th>29</th>\n",
       "      <td>조류</td>\n",
       "      <td>5.461684</td>\n",
       "    </tr>\n",
       "    <tr>\n",
       "      <th>30</th>\n",
       "      <td>복원</td>\n",
       "      <td>5.450984</td>\n",
       "    </tr>\n",
       "    <tr>\n",
       "      <th>31</th>\n",
       "      <td>낙동강</td>\n",
       "      <td>5.445472</td>\n",
       "    </tr>\n",
       "    <tr>\n",
       "      <th>32</th>\n",
       "      <td>체험</td>\n",
       "      <td>5.429750</td>\n",
       "    </tr>\n",
       "    <tr>\n",
       "      <th>33</th>\n",
       "      <td>생태계</td>\n",
       "      <td>5.392202</td>\n",
       "    </tr>\n",
       "    <tr>\n",
       "      <th>34</th>\n",
       "      <td>센터</td>\n",
       "      <td>5.260307</td>\n",
       "    </tr>\n",
       "    <tr>\n",
       "      <th>35</th>\n",
       "      <td>참여</td>\n",
       "      <td>5.085982</td>\n",
       "    </tr>\n",
       "    <tr>\n",
       "      <th>36</th>\n",
       "      <td>야생</td>\n",
       "      <td>5.031177</td>\n",
       "    </tr>\n",
       "    <tr>\n",
       "      <th>37</th>\n",
       "      <td>친환경</td>\n",
       "      <td>4.975771</td>\n",
       "    </tr>\n",
       "    <tr>\n",
       "      <th>38</th>\n",
       "      <td>기후변화</td>\n",
       "      <td>4.948120</td>\n",
       "    </tr>\n",
       "    <tr>\n",
       "      <th>39</th>\n",
       "      <td>개체</td>\n",
       "      <td>4.934796</td>\n",
       "    </tr>\n",
       "    <tr>\n",
       "      <th>40</th>\n",
       "      <td>활동</td>\n",
       "      <td>4.920654</td>\n",
       "    </tr>\n",
       "    <tr>\n",
       "      <th>41</th>\n",
       "      <td>국민</td>\n",
       "      <td>4.808843</td>\n",
       "    </tr>\n",
       "    <tr>\n",
       "      <th>42</th>\n",
       "      <td>방안</td>\n",
       "      <td>4.714173</td>\n",
       "    </tr>\n",
       "    <tr>\n",
       "      <th>43</th>\n",
       "      <td>사용</td>\n",
       "      <td>4.678241</td>\n",
       "    </tr>\n",
       "    <tr>\n",
       "      <th>44</th>\n",
       "      <td>사고</td>\n",
       "      <td>4.654592</td>\n",
       "    </tr>\n",
       "    <tr>\n",
       "      <th>45</th>\n",
       "      <td>습지</td>\n",
       "      <td>4.575717</td>\n",
       "    </tr>\n",
       "    <tr>\n",
       "      <th>46</th>\n",
       "      <td>현장</td>\n",
       "      <td>4.490154</td>\n",
       "    </tr>\n",
       "    <tr>\n",
       "      <th>47</th>\n",
       "      <td>위원회</td>\n",
       "      <td>4.433830</td>\n",
       "    </tr>\n",
       "    <tr>\n",
       "      <th>48</th>\n",
       "      <td>분석</td>\n",
       "      <td>4.410081</td>\n",
       "    </tr>\n",
       "    <tr>\n",
       "      <th>49</th>\n",
       "      <td>전시</td>\n",
       "      <td>4.373291</td>\n",
       "    </tr>\n",
       "  </tbody>\n",
       "</table>\n",
       "</div>"
      ],
      "text/plain": [
       "          0          1\n",
       "0      국립공원  20.805362\n",
       "1        생태   9.299953\n",
       "2        시설   8.984896\n",
       "3        공단   8.949317\n",
       "4        생물   8.826266\n",
       "5     국립생태원   8.617792\n",
       "6       물자원   8.222883\n",
       "7      미세먼지   8.037539\n",
       "8        안전   7.793034\n",
       "9        배출   7.667951\n",
       "10       발견   7.262234\n",
       "11       교육   7.024596\n",
       "12       식물   6.914979\n",
       "13     화학물질   6.914776\n",
       "14       제품   6.881961\n",
       "15       개선   6.441500\n",
       "16  국립공원 공단   6.353490\n",
       "17       발생   6.299519\n",
       "18       협력   6.167030\n",
       "19       협약   6.127867\n",
       "20       정책   6.096146\n",
       "21       기준   6.057382\n",
       "22       물질   5.925005\n",
       "23       대응   5.891322\n",
       "24       탐방   5.865542\n",
       "25    생물다양성   5.740871\n",
       "26  국립생물자원관   5.722356\n",
       "27       개발   5.712927\n",
       "28       정보   5.538157\n",
       "29       조류   5.461684\n",
       "30       복원   5.450984\n",
       "31      낙동강   5.445472\n",
       "32       체험   5.429750\n",
       "33      생태계   5.392202\n",
       "34       센터   5.260307\n",
       "35       참여   5.085982\n",
       "36       야생   5.031177\n",
       "37      친환경   4.975771\n",
       "38     기후변화   4.948120\n",
       "39       개체   4.934796\n",
       "40       활동   4.920654\n",
       "41       국민   4.808843\n",
       "42       방안   4.714173\n",
       "43       사용   4.678241\n",
       "44       사고   4.654592\n",
       "45       습지   4.575717\n",
       "46       현장   4.490154\n",
       "47      위원회   4.433830\n",
       "48       분석   4.410081\n",
       "49       전시   4.373291"
      ]
     },
     "execution_count": 36,
     "metadata": {},
     "output_type": "execute_result"
    }
   ],
   "source": [
    "result_df"
   ]
  },
  {
   "cell_type": "markdown",
   "metadata": {},
   "source": [
    "## 연도별 키워드 빈도수 분석\n",
    "- 연도별로 나누어서 주요 키워드 출력\n",
    "- 시작년도, 끝년도 지정"
   ]
  },
  {
   "cell_type": "code",
   "execution_count": 37,
   "metadata": {},
   "outputs": [],
   "source": [
    "# 시작년도, 끝년도 지정\n",
    "start_year = 2015\n",
    "end_year = 2018\n",
    "num = 500\n",
    "file_list = filtered_idx_result_df['file_list'].tolist()\n",
    "\n",
    "corpus = [\"\"] * len(file_list)\n",
    "\n",
    "result_df = pd.DataFrame()\n",
    "\n",
    "# 녇도별 문서 추출 후 키워드 빈도수 분석\n",
    "\n",
    "for year in range(int(start_year),int(end_year)+1):\n",
    "    start_date = str(year) + \"-01-01\"\n",
    "    end_date = str(year) + \"-12-31\"\n",
    "    dt_index = (filtered_idx_result_df['date'] >= start_date) & (filtered_idx_result_df['date'] <= end_date)\n",
    "    temp_filtered_idx_result_df = filtered_idx_result_df[dt_index]\n",
    "    file_list = temp_filtered_idx_result_df['file_list'].tolist()\n",
    "\n",
    "    for i in range(len(file_list)):\n",
    "        f = open(file_list[i], 'r',encoding='utf-8',errors=\"ignore\")\n",
    "        doc = f.read()\n",
    "        f.close()\n",
    "        corpus[i] = \" \".join(twitter.nouns(doc))\n",
    "\n",
    "\n",
    "    stop_words = [\"전략\", \"연구\", \"평가\", \"마련\", \"조사\", \"관리\", \"보다\", \"관련\",\"전문가\",\"예정\",\"이번\",\"환경부\", \"환경\", \"기술\", \"사업\", \"산업\", \"기업\",\"우리나라\", \"또한\",\n",
    "            \"총회\", \"대한\", \"통해\", \"한국\",\"국내\",\"개최\",\"행사\",\"우수\",\"장관\",\"피해\",\"해외\",\"일자리\",\"박람회\", \"지원\", \"위해\", \"총회\",\"국제\",\"분야\",\"물의\",\"세계\",\n",
    "            \"환경과학\",\"국립\",\"시민\",\"통합\",\"까지\"]\n",
    "\n",
    "    stop_words = list(set(stop_words))\n",
    "\n",
    "\n",
    "    vect = CountVectorizer(stop_words = stop_words,ngram_range=(1, 2),min_df=0.005,max_df=0.5)\n",
    "    X = vect.fit_transform(corpus)\n",
    "    if(is_tfidf == True):\n",
    "        X = TfidfTransformer().fit_transform(X)\n",
    "        \n",
    "    count = X.toarray().sum(axis=0)\n",
    "    idx = np.argsort(-count)\n",
    "    count = count[idx]\n",
    "\n",
    "    feature_name = np.array(vect.get_feature_names())[idx]\n",
    "\n",
    "    result = list(zip(feature_name[:num], count[:num]))\n",
    "    result = pd.DataFrame(result)\n",
    "    result.columns=[str(year) + ' 키워드','빈도수']\n",
    "    result_df = pd.concat([result_df,result],axis=1)\n",
    "\n",
    "    \n",
    "# 저장 파일 이름 설정\n",
    "\n",
    "fn = \"./keyword_frequency_yearly_basis_result/KF_yearly_TF_\"\n",
    "if is_tfidf == True:\n",
    "    fn = fn + \"norm_TF.txt\"\n",
    "else :\n",
    "    fn = fn + \"_TF.txt\"\n",
    "    \n",
    "result_df.to_csv(fn,encoding=\"UTF8\")"
   ]
  },
  {
   "cell_type": "markdown",
   "metadata": {},
   "source": [
    "## 연도별 키워드 특정 키워드 트랜드 분석\n",
    "- 연도별로 나누어서 주요 키워드 트랜드 출력\n",
    "- 시작년도, 끝년도 지정"
   ]
  },
  {
   "cell_type": "code",
   "execution_count": 38,
   "metadata": {},
   "outputs": [
    {
     "name": "stdout",
     "output_type": "stream",
     "text": [
      "2015\n",
      "2016\n",
      "2017\n",
      "2018\n"
     ]
    },
    {
     "data": {
      "text/html": [
       "<div>\n",
       "<style scoped>\n",
       "    .dataframe tbody tr th:only-of-type {\n",
       "        vertical-align: middle;\n",
       "    }\n",
       "\n",
       "    .dataframe tbody tr th {\n",
       "        vertical-align: top;\n",
       "    }\n",
       "\n",
       "    .dataframe thead th {\n",
       "        text-align: right;\n",
       "    }\n",
       "</style>\n",
       "<table border=\"1\" class=\"dataframe\">\n",
       "  <thead>\n",
       "    <tr style=\"text-align: right;\">\n",
       "      <th></th>\n",
       "      <th>2015</th>\n",
       "      <th>2016</th>\n",
       "      <th>2017</th>\n",
       "      <th>2018</th>\n",
       "    </tr>\n",
       "  </thead>\n",
       "  <tbody>\n",
       "    <tr>\n",
       "      <th>친환경</th>\n",
       "      <td>42</td>\n",
       "      <td>72</td>\n",
       "      <td>63</td>\n",
       "      <td>77</td>\n",
       "    </tr>\n",
       "    <tr>\n",
       "      <th>미세먼지</th>\n",
       "      <td>75</td>\n",
       "      <td>59</td>\n",
       "      <td>82</td>\n",
       "      <td>224</td>\n",
       "    </tr>\n",
       "    <tr>\n",
       "      <th>쓰레기</th>\n",
       "      <td>21</td>\n",
       "      <td>24</td>\n",
       "      <td>6</td>\n",
       "      <td>12</td>\n",
       "    </tr>\n",
       "  </tbody>\n",
       "</table>\n",
       "</div>"
      ],
      "text/plain": [
       "      2015  2016  2017  2018\n",
       "친환경     42    72    63    77\n",
       "미세먼지    75    59    82   224\n",
       "쓰레기     21    24     6    12"
      ]
     },
     "execution_count": 38,
     "metadata": {},
     "output_type": "execute_result"
    },
    {
     "data": {
      "text/html": [
       "<div>\n",
       "<style scoped>\n",
       "    .dataframe tbody tr th:only-of-type {\n",
       "        vertical-align: middle;\n",
       "    }\n",
       "\n",
       "    .dataframe tbody tr th {\n",
       "        vertical-align: top;\n",
       "    }\n",
       "\n",
       "    .dataframe thead th {\n",
       "        text-align: right;\n",
       "    }\n",
       "</style>\n",
       "<table border=\"1\" class=\"dataframe\">\n",
       "  <thead>\n",
       "    <tr style=\"text-align: right;\">\n",
       "      <th></th>\n",
       "      <th>2015</th>\n",
       "      <th>2016</th>\n",
       "      <th>2017</th>\n",
       "      <th>2018</th>\n",
       "    </tr>\n",
       "  </thead>\n",
       "  <tbody>\n",
       "    <tr>\n",
       "      <th>친환경</th>\n",
       "      <td>0.368421</td>\n",
       "      <td>0.672897</td>\n",
       "      <td>0.525000</td>\n",
       "      <td>0.531034</td>\n",
       "    </tr>\n",
       "    <tr>\n",
       "      <th>미세먼지</th>\n",
       "      <td>0.657895</td>\n",
       "      <td>0.551402</td>\n",
       "      <td>0.683333</td>\n",
       "      <td>1.544828</td>\n",
       "    </tr>\n",
       "    <tr>\n",
       "      <th>쓰레기</th>\n",
       "      <td>0.184211</td>\n",
       "      <td>0.224299</td>\n",
       "      <td>0.050000</td>\n",
       "      <td>0.082759</td>\n",
       "    </tr>\n",
       "  </tbody>\n",
       "</table>\n",
       "</div>"
      ],
      "text/plain": [
       "          2015      2016      2017      2018\n",
       "친환경   0.368421  0.672897  0.525000  0.531034\n",
       "미세먼지  0.657895  0.551402  0.683333  1.544828\n",
       "쓰레기   0.184211  0.224299  0.050000  0.082759"
      ]
     },
     "execution_count": 38,
     "metadata": {},
     "output_type": "execute_result"
    }
   ],
   "source": [
    "# 시작년도, 끝년도 지정\n",
    "start_year = 2015\n",
    "end_year = 2018\n",
    "num = 500\n",
    "file_list = filtered_idx_result_df['file_list'].tolist()\n",
    "\n",
    "\n",
    "result_df = pd.DataFrame()\n",
    "keyword_list = ['친환경','미세먼지','쓰레기']\n",
    "\n",
    "# 녇도별 문서 추출 후 키워드 빈도수 분석\n",
    "\n",
    "    \n",
    "result_df = pd.DataFrame()\n",
    "result_df2  = pd.DataFrame()\n",
    "\n",
    "for year in range(int(start_year),int(end_year)+1):\n",
    "    print(year)\n",
    "    start_date = str(year) + \"-01-01\"\n",
    "    end_date = str(year) + \"-12-31\"\n",
    "    dt_idx = (filtered_idx_result_df['date'] >= start_date) & (filtered_idx_result_df['date'] <= end_date)\n",
    "    temp_filtered_idx_result_df = filtered_idx_result_df[dt_idx]\n",
    "    s_ndocs = temp_filtered_idx_result_df.shape[0]\n",
    "    file_list = temp_filtered_idx_result_df['file_list'].tolist()\n",
    "\n",
    "    for i in range(len(file_list)):\n",
    "        f = open(file_list[i], 'r',encoding='utf-8',errors=\"ignore\")\n",
    "        doc = f.read()\n",
    "        f.close()\n",
    "        corpus[i] = doc\n",
    "    \n",
    "    s_corpus_str = \"\".join(corpus)\n",
    "\n",
    "    \n",
    "    result_list = []\n",
    "    result_list2 = []\n",
    "\n",
    "    for k in keyword_list:\n",
    "        result_list.append(s_corpus_str.count(k))  \n",
    "        result_list2.append(s_corpus_str.count(k) / (s_ndocs+1))  \n",
    "        \n",
    "    temp_df = pd.DataFrame(result_list,columns=[str(year)])\n",
    "    temp_df2 = pd.DataFrame(result_list2,columns=[str(year)])\n",
    "    \n",
    "    result_df = pd.concat([result_df,temp_df],axis=1)\n",
    "    result_df2 = pd.concat([result_df2,temp_df2],axis=1)\n",
    "    \n",
    "result_df.index=  keyword_list\n",
    "result_df\n",
    "result_df2.index=  keyword_list\n",
    "result_df2"
   ]
  },
  {
   "cell_type": "code",
   "execution_count": 39,
   "metadata": {},
   "outputs": [
    {
     "data": {
      "text/plain": [
       "<matplotlib.axes._subplots.AxesSubplot at 0x221768ec9b0>"
      ]
     },
     "execution_count": 39,
     "metadata": {},
     "output_type": "execute_result"
    },
    {
     "data": {
      "text/plain": [
       "<matplotlib.axes._subplots.AxesSubplot at 0x2210acf4048>"
      ]
     },
     "execution_count": 39,
     "metadata": {},
     "output_type": "execute_result"
    },
    {
     "name": "stderr",
     "output_type": "stream",
     "text": [
      "C:\\Users\\NFSI172\\Anaconda3\\lib\\site-packages\\matplotlib\\font_manager.py:1241: UserWarning: findfont: Font family ['NanumBarunGothicOTF'] not found. Falling back to DejaVu Sans.\n",
      "  (prop.get_family(), self.defaultFamily[fontext]))\n"
     ]
    },
    {
     "data": {
      "image/png": "[encoded data removed]",
      "text/plain": [
       "<Figure size 432x288 with 1 Axes>"
      ]
     },
     "metadata": {
      "needs_background": "light"
     },
     "output_type": "display_data"
    },
    {
     "data": {
      "image/png": "[encoded data removed]",
      "text/plain": [
       "<Figure size 432x288 with 1 Axes>"
      ]
     },
     "metadata": {
      "needs_background": "light"
     },
     "output_type": "display_data"
    }
   ],
   "source": [
    "# 막대그래프\n",
    "result_df.T.plot.bar()\n",
    "\n",
    "# 라인그래프\n",
    "result_df.T.plot.line()"
   ]
  },
  {
   "cell_type": "markdown",
   "metadata": {},
   "source": [
    "## 특정 키워드 빈도수 및 트랜드 (그래프) : 특정 키워드 포함 문서 빈도수 및 트랜드 (그래프)\n",
    "- keywords : 조사할 키워드 목록"
   ]
  },
  {
   "cell_type": "code",
   "execution_count": 43,
   "metadata": {},
   "outputs": [
    {
     "data": {
      "text/html": [
       "<div>\n",
       "<style scoped>\n",
       "    .dataframe tbody tr th:only-of-type {\n",
       "        vertical-align: middle;\n",
       "    }\n",
       "\n",
       "    .dataframe tbody tr th {\n",
       "        vertical-align: top;\n",
       "    }\n",
       "\n",
       "    .dataframe thead th {\n",
       "        text-align: right;\n",
       "    }\n",
       "</style>\n",
       "<table border=\"1\" class=\"dataframe\">\n",
       "  <thead>\n",
       "    <tr style=\"text-align: right;\">\n",
       "      <th></th>\n",
       "      <th>2015</th>\n",
       "      <th>2016</th>\n",
       "      <th>2017</th>\n",
       "      <th>2018</th>\n",
       "    </tr>\n",
       "  </thead>\n",
       "  <tbody>\n",
       "    <tr>\n",
       "      <th>친환경</th>\n",
       "      <td>16</td>\n",
       "      <td>17</td>\n",
       "      <td>12</td>\n",
       "      <td>24</td>\n",
       "    </tr>\n",
       "    <tr>\n",
       "      <th>초미세먼지</th>\n",
       "      <td>1</td>\n",
       "      <td>1</td>\n",
       "      <td>1</td>\n",
       "      <td>0</td>\n",
       "    </tr>\n",
       "    <tr>\n",
       "      <th>쓰레기</th>\n",
       "      <td>4</td>\n",
       "      <td>3</td>\n",
       "      <td>3</td>\n",
       "      <td>6</td>\n",
       "    </tr>\n",
       "  </tbody>\n",
       "</table>\n",
       "</div>"
      ],
      "text/plain": [
       "       2015  2016  2017  2018\n",
       "친환경      16    17    12    24\n",
       "초미세먼지     1     1     1     0\n",
       "쓰레기       4     3     3     6"
      ]
     },
     "execution_count": 43,
     "metadata": {},
     "output_type": "execute_result"
    },
    {
     "data": {
      "text/html": [
       "<div>\n",
       "<style scoped>\n",
       "    .dataframe tbody tr th:only-of-type {\n",
       "        vertical-align: middle;\n",
       "    }\n",
       "\n",
       "    .dataframe tbody tr th {\n",
       "        vertical-align: top;\n",
       "    }\n",
       "\n",
       "    .dataframe thead th {\n",
       "        text-align: right;\n",
       "    }\n",
       "</style>\n",
       "<table border=\"1\" class=\"dataframe\">\n",
       "  <thead>\n",
       "    <tr style=\"text-align: right;\">\n",
       "      <th></th>\n",
       "      <th>2015</th>\n",
       "      <th>2016</th>\n",
       "      <th>2017</th>\n",
       "      <th>2018</th>\n",
       "    </tr>\n",
       "  </thead>\n",
       "  <tbody>\n",
       "    <tr>\n",
       "      <th>친환경</th>\n",
       "      <td>0.140351</td>\n",
       "      <td>0.158879</td>\n",
       "      <td>0.100000</td>\n",
       "      <td>0.165517</td>\n",
       "    </tr>\n",
       "    <tr>\n",
       "      <th>초미세먼지</th>\n",
       "      <td>0.008772</td>\n",
       "      <td>0.009346</td>\n",
       "      <td>0.008333</td>\n",
       "      <td>0.000000</td>\n",
       "    </tr>\n",
       "    <tr>\n",
       "      <th>쓰레기</th>\n",
       "      <td>0.035088</td>\n",
       "      <td>0.028037</td>\n",
       "      <td>0.025000</td>\n",
       "      <td>0.041379</td>\n",
       "    </tr>\n",
       "  </tbody>\n",
       "</table>\n",
       "</div>"
      ],
      "text/plain": [
       "           2015      2016      2017      2018\n",
       "친환경    0.140351  0.158879  0.100000  0.165517\n",
       "초미세먼지  0.008772  0.009346  0.008333  0.000000\n",
       "쓰레기    0.035088  0.028037  0.025000  0.041379"
      ]
     },
     "execution_count": 43,
     "metadata": {},
     "output_type": "execute_result"
    }
   ],
   "source": [
    "# 시작년도, 끝년도 지정\n",
    "start_year = 2015\n",
    "end_year = 2018\n",
    "num = 500\n",
    "file_list = filtered_idx_result_df['file_list'].tolist()\n",
    "\n",
    "result_df = pd.DataFrame()\n",
    "result_df2 = pd.DataFrame()\n",
    "keyword_list = ['친환경','초미세먼지','쓰레기']\n",
    "\n",
    "for year in range(int(start_year),int(end_year)+1):\n",
    "    result_list = [0]*len(keyword_list)\n",
    "    result_list2 = [0]*len(keyword_list)\n",
    "    \n",
    "    start_date = str(year) + \"-01-01\"\n",
    "    end_date = str(year) + \"-12-31\"\n",
    "    dt_idx = (filtered_idx_result_df['date'] >= start_date) & (filtered_idx_result_df['date'] <= end_date)\n",
    "    temp_filtered_idx_result_df = filtered_idx_result_df[dt_idx]\n",
    "    \n",
    "    s_ndocs = temp_filtered_idx_result_df.shape[0]\n",
    "    file_list = temp_filtered_idx_result_df['file_list'].tolist()\n",
    "\n",
    "    for i in range(len(file_list)):\n",
    "        f = open(file_list[i], 'r',encoding='utf-8',errors=\"ignore\")\n",
    "        doc = f.read()\n",
    "        f.close()\n",
    "        corpus[i] = doc\n",
    "        \n",
    "        for kidx,k in enumerate(keyword_list):\n",
    "            p = re.compile(k)\n",
    "            ridx = p.search(doc)\n",
    "            if(ridx != None):\n",
    "                result_list[kidx] =  result_list[kidx] + 1\n",
    "                result_list2[kidx] =  result_list2[kidx] + 1\n",
    "                \n",
    "    result_list2 = list(map(lambda x: x / (s_ndocs+1), result_list2))\n",
    "    temp_df = pd.DataFrame(result_list,columns=[str(year)])\n",
    "    temp_df2 = pd.DataFrame(result_list2,columns=[str(year)])\n",
    "    \n",
    "    result_df = pd.concat([result_df,temp_df],axis=1)\n",
    "    result_df2 = pd.concat([result_df2,temp_df2],axis=1)\n",
    "    \n",
    "result_df.index=  keyword_list\n",
    "result_df\n",
    "result_df2.index=  keyword_list\n",
    "result_df2"
   ]
  },
  {
   "cell_type": "code",
   "execution_count": 44,
   "metadata": {},
   "outputs": [
    {
     "data": {
      "text/plain": [
       "<matplotlib.axes._subplots.AxesSubplot at 0x2210967d128>"
      ]
     },
     "execution_count": 44,
     "metadata": {},
     "output_type": "execute_result"
    },
    {
     "data": {
      "text/plain": [
       "<matplotlib.axes._subplots.AxesSubplot at 0x2210ae0ee10>"
      ]
     },
     "execution_count": 44,
     "metadata": {},
     "output_type": "execute_result"
    },
    {
     "data": {
      "image/png": "[encoded data removed]",
      "text/plain": [
       "<Figure size 432x288 with 1 Axes>"
      ]
     },
     "metadata": {
      "needs_background": "light"
     },
     "output_type": "display_data"
    },
    {
     "data": {
      "image/png": "[encoded data removed]",
      "text/plain": [
       "<Figure size 432x288 with 1 Axes>"
      ]
     },
     "metadata": {
      "needs_background": "light"
     },
     "output_type": "display_data"
    }
   ],
   "source": [
    "# 막대그래프\n",
    "result_df.T.plot.bar()\n",
    "\n",
    "# 라인그래프\n",
    "result_df.T.plot.line()"
   ]
  },
  {
   "cell_type": "markdown",
   "metadata": {},
   "source": [
    "## LDA 분석 : 토픽 모델링 분석\n",
    "- topic_words 변수를 통해 각 주제별 단어 확인 가능"
   ]
  },
  {
   "cell_type": "code",
   "execution_count": 45,
   "metadata": {},
   "outputs": [
    {
     "name": "stderr",
     "output_type": "stream",
     "text": [
      "C:\\Users\\NFSI172\\Anaconda3\\lib\\site-packages\\pyLDAvis\\_prepare.py:257: FutureWarning: Sorting because non-concatenation axis is not aligned. A future version\n",
      "of pandas will change to not sort by default.\n",
      "\n",
      "To accept the future behavior, pass 'sort=False'.\n",
      "\n",
      "To retain the current behavior and silence the warning, pass 'sort=True'.\n",
      "\n",
      "  return pd.concat([default_term_info] + list(topic_dfs))\n"
     ]
    }
   ],
   "source": [
    "# 인자 설정\n",
    "# Random Seed 값 설정, 이값에 따라 결과 달라짐\n",
    "# 토픽 갯수, 리스트 타입으로 한번에 설정 [5,6,7] 등 한번에 실행도 가능\n",
    "\n",
    "n_topics = [7]\n",
    "random_seed = 1004\n",
    "n_words = 50\n",
    "\n",
    "file_list = filtered_idx_result_df['file_list'].tolist()\n",
    "corpus = [\"\"] * len(file_list)\n",
    "\n",
    "# 파일 내용 읽어서 코퍼스에 저장\n",
    "\n",
    "for i in range(len(file_list)):\n",
    "    f = open(file_list[i], 'r',encoding='utf-8',errors=\"ignore\")\n",
    "    doc = f.read()\n",
    "    f.close()\n",
    "    corpus[i] = \" \".join(twitter.nouns(doc))\n",
    "\n",
    "# Stop words \n",
    "stop_words = [\"전략\", \"연구\", \"평가\", \"마련\", \"조사\", \"관리\", \"보다\", \"분석\", \"구축\",\"개발\",\"정책\",\"대책\",\n",
    "              \"관련\",\"전문가\",\"예정\",\"이번\",\"환경부\", \"환경\", \"기술\", \"사업\", \"산업\", \"기업\",\"우리나라\", \"또한\",\n",
    "              \"총회\", \"대한\", \"통해\", \"한국\",\"국내\",\"개최\",\"행사\",\"우수\",\"서울\",\"장관\",\"호남권\",\"피해\",\"해외\",\"일자리\",\"박람회\",\n",
    "              \"지원\", \"위해\", \"총회\",\"국제\",\"분야\",\"환경기술\"]\n",
    "\n",
    "stop_words = list(set(stop_words))\n",
    "\n",
    "vect = CountVectorizer(stop_words = stop_words,ngram_range=(1, 1),min_df=0.05,max_df=0.3)\n",
    "X = vect.fit_transform(corpus)\n",
    "X = TfidfTransformer().fit_transform(X)\n",
    "\n",
    "\n",
    "for i in n_topics:\n",
    "        \n",
    "    # LDA 수횅\n",
    "    lda = LatentDirichletAllocation(n_components = i,learning_method=\"batch\",random_state=random_seed)\n",
    "    document_topics = lda.fit_transform(X)\n",
    "\n",
    "    sorting = np.argsort(lda.components_, axis=1)[:,::-1]\n",
    "    feature_names = np.array(vect.get_feature_names())\n",
    "\n",
    "    # 각 문서별 주제번호 할당\n",
    "    topic_list = np.argmax(document_topics,axis=1).tolist()\n",
    "\n",
    "    topic_words = pd.DataFrame(feature_names[sorting])\n",
    "    topic_words = topic_words.T\n",
    "    topic_words = topic_words[:n_words]\n",
    "\n",
    "    # 파일경로 지정\n",
    "    fpath =  \"./lda_result/\"  + \"lda_result_n_\" + str(i) + \"_\" + str(random_seed) + \"_\"\n",
    "\n",
    "    # 파일 저장\n",
    "    document_topics = pd.DataFrame(document_topics)\n",
    "    document_topics.to_csv(fpath + \"document_topic.csv\",header=None,index=False,encoding=\"UTF8\")\n",
    "    topic_words.to_csv(fpath + \"topic_words.csv\",header=None,index=False,encoding=\"UTF8\")\n",
    "\n",
    "    # 시각화 및 저장\n",
    "    pyldavis = pyLDAvis.sklearn.prepare(lda, X, vect)\n",
    "    pyLDAvis.save_html(pyldavis,fpath + \"lda.html\")\n"
   ]
  },
  {
   "cell_type": "markdown",
   "metadata": {},
   "source": [
    "## LDA 연도별 추세 : 토픽 모델링 분포 분석\n",
    "- 앞에서 topic_list 에는 각 문서의 주제 번호가 할당되어있음"
   ]
  },
  {
   "cell_type": "code",
   "execution_count": 46,
   "metadata": {},
   "outputs": [],
   "source": [
    "# LDA 년도별 문서 분포 결과 출력\n",
    "\n",
    "topic_list = pd.Series(topic_list)\n",
    "result_df = pd.DataFrame()\n",
    "\n",
    "for year in range(int(start_year),int(end_year)+1):\n",
    "    start_date = str(year) + \"-01-01\"\n",
    "    end_date = str(year) + \"-12-31\"\n",
    "    dt_idx = (filtered_idx_result_df['date'] >= start_date) & (filtered_idx_result_df['date'] <= end_date)\n",
    "    sub_filtered_idx_result_df = filtered_idx_result_df[dt_idx]\n",
    "    sub_topic_list = topic_list[dt_idx]\n",
    "    \n",
    "    result = []\n",
    "    for t in range(max(topic_list) + 1):\n",
    "        num = len(sub_topic_list[sub_topic_list==t])\n",
    "        result.append(num)\n",
    "    \n",
    "    result = pd.Series(result,name=str(year))\n",
    "    result_df = pd.concat([result_df,result],axis=1)            \n",
    "\n",
    "\n",
    "# 비율로 만들기\n",
    "result_df = result_df.T.apply(lambda x: x / x.sum(),axis=1)"
   ]
  },
  {
   "cell_type": "code",
   "execution_count": 47,
   "metadata": {},
   "outputs": [
    {
     "data": {
      "text/html": [
       "<div>\n",
       "<style scoped>\n",
       "    .dataframe tbody tr th:only-of-type {\n",
       "        vertical-align: middle;\n",
       "    }\n",
       "\n",
       "    .dataframe tbody tr th {\n",
       "        vertical-align: top;\n",
       "    }\n",
       "\n",
       "    .dataframe thead th {\n",
       "        text-align: right;\n",
       "    }\n",
       "</style>\n",
       "<table border=\"1\" class=\"dataframe\">\n",
       "  <thead>\n",
       "    <tr style=\"text-align: right;\">\n",
       "      <th></th>\n",
       "      <th>0</th>\n",
       "      <th>1</th>\n",
       "      <th>2</th>\n",
       "      <th>3</th>\n",
       "      <th>4</th>\n",
       "    </tr>\n",
       "  </thead>\n",
       "  <tbody>\n",
       "    <tr>\n",
       "      <th>2015</th>\n",
       "      <td>0.159292</td>\n",
       "      <td>0.778761</td>\n",
       "      <td>0.0</td>\n",
       "      <td>0.0</td>\n",
       "      <td>0.061947</td>\n",
       "    </tr>\n",
       "    <tr>\n",
       "      <th>2016</th>\n",
       "      <td>0.226415</td>\n",
       "      <td>0.726415</td>\n",
       "      <td>0.0</td>\n",
       "      <td>0.0</td>\n",
       "      <td>0.047170</td>\n",
       "    </tr>\n",
       "    <tr>\n",
       "      <th>2017</th>\n",
       "      <td>0.285714</td>\n",
       "      <td>0.663866</td>\n",
       "      <td>0.0</td>\n",
       "      <td>0.0</td>\n",
       "      <td>0.050420</td>\n",
       "    </tr>\n",
       "    <tr>\n",
       "      <th>2018</th>\n",
       "      <td>0.097222</td>\n",
       "      <td>0.854167</td>\n",
       "      <td>0.0</td>\n",
       "      <td>0.0</td>\n",
       "      <td>0.048611</td>\n",
       "    </tr>\n",
       "  </tbody>\n",
       "</table>\n",
       "</div>"
      ],
      "text/plain": [
       "             0         1    2    3         4\n",
       "2015  0.159292  0.778761  0.0  0.0  0.061947\n",
       "2016  0.226415  0.726415  0.0  0.0  0.047170\n",
       "2017  0.285714  0.663866  0.0  0.0  0.050420\n",
       "2018  0.097222  0.854167  0.0  0.0  0.048611"
      ]
     },
     "execution_count": 47,
     "metadata": {},
     "output_type": "execute_result"
    }
   ],
   "source": [
    "result_df"
   ]
  },
  {
   "cell_type": "markdown",
   "metadata": {},
   "source": [
    "## LDA 토픽 비율 그래프 그리기\n",
    "- https://dailyheumsi.tistory.com/98 참조"
   ]
  },
  {
   "cell_type": "code",
   "execution_count": 48,
   "metadata": {},
   "outputs": [
    {
     "data": {
      "text/plain": [
       "<matplotlib.legend.Legend at 0x221768e2dd8>"
      ]
     },
     "execution_count": 48,
     "metadata": {},
     "output_type": "execute_result"
    },
    {
     "data": {
      "text/plain": [
       "Text(0.07964601769911504, 0.0, '15.9')"
      ]
     },
     "execution_count": 48,
     "metadata": {},
     "output_type": "execute_result"
    },
    {
     "data": {
      "text/plain": [
       "Text(0.11320754716981132, 1.0, '22.6')"
      ]
     },
     "execution_count": 48,
     "metadata": {},
     "output_type": "execute_result"
    },
    {
     "data": {
      "text/plain": [
       "Text(0.14285714285714285, 2.0, '28.6')"
      ]
     },
     "execution_count": 48,
     "metadata": {},
     "output_type": "execute_result"
    },
    {
     "data": {
      "text/plain": [
       "Text(0.04861111111111111, 3.0, '9.7')"
      ]
     },
     "execution_count": 48,
     "metadata": {},
     "output_type": "execute_result"
    },
    {
     "data": {
      "text/plain": [
       "Text(0.5486725663716814, 0.0, '77.9')"
      ]
     },
     "execution_count": 48,
     "metadata": {},
     "output_type": "execute_result"
    },
    {
     "data": {
      "text/plain": [
       "Text(0.5896226415094339, 1.0, '72.6')"
      ]
     },
     "execution_count": 48,
     "metadata": {},
     "output_type": "execute_result"
    },
    {
     "data": {
      "text/plain": [
       "Text(0.6176470588235294, 2.0, '66.4')"
      ]
     },
     "execution_count": 48,
     "metadata": {},
     "output_type": "execute_result"
    },
    {
     "data": {
      "text/plain": [
       "Text(0.5243055555555556, 3.0, '85.4')"
      ]
     },
     "execution_count": 48,
     "metadata": {},
     "output_type": "execute_result"
    },
    {
     "data": {
      "text/plain": [
       "Text(0.0, 0.0, '0.0')"
      ]
     },
     "execution_count": 48,
     "metadata": {},
     "output_type": "execute_result"
    },
    {
     "data": {
      "text/plain": [
       "Text(0.0, 1.0, '0.0')"
      ]
     },
     "execution_count": 48,
     "metadata": {},
     "output_type": "execute_result"
    },
    {
     "data": {
      "text/plain": [
       "Text(0.0, 2.0, '0.0')"
      ]
     },
     "execution_count": 48,
     "metadata": {},
     "output_type": "execute_result"
    },
    {
     "data": {
      "text/plain": [
       "Text(0.0, 3.0, '0.0')"
      ]
     },
     "execution_count": 48,
     "metadata": {},
     "output_type": "execute_result"
    },
    {
     "data": {
      "text/plain": [
       "Text(0.0, 0.0, '0.0')"
      ]
     },
     "execution_count": 48,
     "metadata": {},
     "output_type": "execute_result"
    },
    {
     "data": {
      "text/plain": [
       "Text(0.0, 1.0, '0.0')"
      ]
     },
     "execution_count": 48,
     "metadata": {},
     "output_type": "execute_result"
    },
    {
     "data": {
      "text/plain": [
       "Text(0.0, 2.0, '0.0')"
      ]
     },
     "execution_count": 48,
     "metadata": {},
     "output_type": "execute_result"
    },
    {
     "data": {
      "text/plain": [
       "Text(0.0, 3.0, '0.0')"
      ]
     },
     "execution_count": 48,
     "metadata": {},
     "output_type": "execute_result"
    },
    {
     "data": {
      "text/plain": [
       "Text(0.9690265486725664, 0.0, '6.2')"
      ]
     },
     "execution_count": 48,
     "metadata": {},
     "output_type": "execute_result"
    },
    {
     "data": {
      "text/plain": [
       "Text(0.9764150943396226, 1.0, '4.7')"
      ]
     },
     "execution_count": 48,
     "metadata": {},
     "output_type": "execute_result"
    },
    {
     "data": {
      "text/plain": [
       "Text(0.9747899159663865, 2.0, '5.0')"
      ]
     },
     "execution_count": 48,
     "metadata": {},
     "output_type": "execute_result"
    },
    {
     "data": {
      "text/plain": [
       "Text(0.9756944444444444, 3.0, '4.9')"
      ]
     },
     "execution_count": 48,
     "metadata": {},
     "output_type": "execute_result"
    },
    {
     "name": "stderr",
     "output_type": "stream",
     "text": [
      "C:\\Users\\NFSI172\\Anaconda3\\lib\\site-packages\\matplotlib\\font_manager.py:1241: UserWarning: findfont: Font family ['NanumBarunGothicOTF'] not found. Falling back to DejaVu Sans.\n",
      "  (prop.get_family(), self.defaultFamily[fontext]))\n"
     ]
    },
    {
     "data": {
      "image/png": "[encoded data removed]",
      "text/plain": [
       "<Figure size 1440x576 with 1 Axes>"
      ]
     },
     "metadata": {
      "needs_background": "light"
     },
     "output_type": "display_data"
    }
   ],
   "source": [
    "ax = result_df.plot.barh(stacked=True,legend=False,figsize=(20, 8), title=\"Topic Proportion(%)\")\n",
    "ax.legend(bbox_to_anchor=(1.03, 1),loc=2, borderaxespad=0.)\n",
    "\n",
    "for p in ax.patches: \n",
    "    left, bottom, width, height = p.get_bbox().bounds \n",
    "    ax.annotate(\"%.1f\"%(width*100), xy=(left+width/2, bottom+height/2), ha='center', va='center')"
   ]
  },
  {
   "cell_type": "markdown",
   "metadata": {},
   "source": [
    "## 연관 키워드 분석 (4가지 방법)\n",
    "- 예시로 '친환경' 관련 연관 키워드 분석"
   ]
  },
  {
   "cell_type": "code",
   "execution_count": 49,
   "metadata": {},
   "outputs": [],
   "source": [
    "# Word2vec 학습\n",
    "\n",
    "file_list = filtered_idx_result_df['file_list'].tolist()\n",
    "corpus = [\"\"] * len(file_list)\n",
    "\n",
    "# 파일 내용 읽어서 코퍼스에 저장\n",
    "for i in range(len(file_list)):\n",
    "    #print(i)\n",
    "    f = open(file_list[i], 'r',encoding='utf-8',errors=\"ignore\")\n",
    "    doc = f.read()\n",
    "    f.close()\n",
    "    doc = re.sub('[^가-힝0-9a-zA-Z\\\\s]', '', doc)\n",
    "    temp = twitter.nouns(doc)\n",
    "    \n",
    "    # 1글자 단어 제거\n",
    "    widx_list = list(map(lambda x : len(x) > 1 ,temp))\n",
    "    corpus[i] = list(np.array(temp)[widx_list])\n",
    "\n",
    "model = Word2Vec(corpus)\n",
    "model.init_sims(replace=True)\n",
    "w2v_model = model"
   ]
  },
  {
   "cell_type": "code",
   "execution_count": 50,
   "metadata": {},
   "outputs": [],
   "source": [
    "# 연관 키워드 분석을 수행할 단어 설정 \n",
    "word = '친환경'\n",
    "num = 30"
   ]
  },
  {
   "cell_type": "markdown",
   "metadata": {},
   "source": [
    "## 연관 키워드 분석 1 : word2vec cosine similarity"
   ]
  },
  {
   "cell_type": "code",
   "execution_count": 51,
   "metadata": {},
   "outputs": [
    {
     "name": "stderr",
     "output_type": "stream",
     "text": [
      "C:\\Users\\NFSI172\\Anaconda3\\lib\\site-packages\\ipykernel_launcher.py:1: DeprecationWarning: Call to deprecated `most_similar` (Method will be removed in 4.0.0, use self.wv.most_similar() instead).\n",
      "  \"\"\"Entry point for launching an IPython kernel.\n"
     ]
    }
   ],
   "source": [
    "result = pd.DataFrame(w2v_model.most_similar(word,topn=num))\n",
    "result.to_csv(\"./w2v_result/\" + \"w2v_\" + str(word) + \".csv\",encoding=\"UTF8\")\n",
    "#reuslt"
   ]
  },
  {
   "cell_type": "markdown",
   "metadata": {},
   "source": [
    "## 연관 키워드 분석 2 : 연관 단어가 특정단어 근처에서 나타날 확률"
   ]
  },
  {
   "cell_type": "code",
   "execution_count": 52,
   "metadata": {},
   "outputs": [],
   "source": [
    "# 반드시 리스트 타입 사용\n",
    "result2 = pd.DataFrame(w2v_model.predict_output_word([word], topn=num))\n",
    "result2.to_csv(\"./w2v_result/\" + \"w2v2_\"+ str(word) +  \".csv\",encoding=\"UTF8\")\n",
    "#result2"
   ]
  },
  {
   "cell_type": "markdown",
   "metadata": {},
   "source": [
    "## 연관 키워드 분석 3 : 키워드 포함 문장 추출 ⇒ 키워드 빈도수 분석"
   ]
  },
  {
   "cell_type": "code",
   "execution_count": 53,
   "metadata": {},
   "outputs": [
    {
     "data": {
      "text/plain": [
       "[]"
      ]
     },
     "execution_count": 53,
     "metadata": {},
     "output_type": "execute_result"
    }
   ],
   "source": [
    "kkma = Kkma()\n",
    "kkma.pos('')"
   ]
  },
  {
   "cell_type": "code",
   "execution_count": 54,
   "metadata": {},
   "outputs": [],
   "source": [
    "# 문장 최소길이\n",
    "slen = 10\n",
    "\n",
    "# 리스트 타입 사용\n",
    "\n",
    "file_list = filtered_idx_result_df['file_list'].tolist()\n",
    "filtered_sentences= []\n",
    "\n",
    "for i in range(len(file_list)):\n",
    "    f = open(file_list[i], 'r',encoding='utf-8',errors=\"ignore\")\n",
    "    doc = f.read()\n",
    "    new_text = doc.replace(\".\",\".\\n\").replace(\"?\",\"?\\n\").replace(\"!\",\"!\\n\")\n",
    "    sentences = new_text.splitlines()\n",
    "\n",
    "    for s in sentences:\n",
    "        filtered_sentences.append(s)\n",
    "        \n",
    "temp_df = pd.DataFrame(filtered_sentences)\n",
    "temp = []\n",
    "\n",
    "# 특정단어가 포함된 문장만 추출\n",
    "for s in filtered_sentences :\n",
    "    p = re.compile(word)\n",
    "    ridx = p.search(s)\n",
    "\n",
    "    if(ridx == None):\n",
    "        continue   \n",
    "    s = s.strip()\n",
    "    \n",
    "    if len(s) > slen :\n",
    "        temp.append(s)\n",
    "\n",
    "filtered_sentences = temp\n",
    "\n",
    "temp_df = pd.DataFrame(filtered_sentences)\n",
    "\n",
    "# 파일 내용 읽어서 코퍼스에 저장\n",
    "\n",
    "corpus = []     \n",
    "for i in range(len(filtered_sentences)):\n",
    "    corpus.append(\" \".join(twitter.nouns(filtered_sentences[i])))\n",
    "\n",
    "# Stop words \n",
    "stop_words = [\"전략\", \"연구\", \"평가\", \"마련\", \"조사\", \"관리\", \"보다\", \"분석\", \"구축\",\"개발\",\"정책\",\"대책\",\n",
    "              \"관련\",\"전문가\",\"예정\",\"이번\",\"환경부\", \"환경\", \"기술\", \"사업\", \"산업\", \"기업\",\"우리나라\", \"또한\",\n",
    "              \"총회\", \"대한\", \"통해\", \"한국\",\"국내\",\"개최\",\"행사\",\"우수\",\"서울\",\"장관\",\"호남권\",\"피해\",\"해외\",\"일자리\",\"박람회\",\n",
    "              \"지원\", \"위해\", \"총회\",\"국제\",\"분야\",\"환경기술\"]\n",
    "\n",
    "\n",
    "vect = CountVectorizer(stop_words = stop_words,ngram_range=(1, 2),min_df=0.005,max_df=0.3)\n",
    "\n",
    "X = vect.fit_transform(corpus)\n",
    "\n",
    "count = X.toarray().sum(axis=0)\n",
    "idx = np.argsort(-count)\n",
    "count = count[idx]\n",
    "\n",
    "feature_name = np.array(vect.get_feature_names())[idx]\n",
    "\n",
    "co_word_list = list(zip(feature_name[:num], count[:num]))\n",
    "co_word_list = pd.DataFrame(co_word_list)\n",
    "\n",
    "\n",
    "co_word_list.to_csv(\"./sentence_level_cowords/\" +  word + \"_scowords\" + \".csv\",encoding=\"UTF8\")\n",
    "# co_word_list"
   ]
  },
  {
   "cell_type": "markdown",
   "metadata": {},
   "source": [
    "## 연관 키워드 분석 4 : 키워드 포함 문서 추출 ⇒ 키워드 빈도수 분석"
   ]
  },
  {
   "cell_type": "code",
   "execution_count": 55,
   "metadata": {
    "scrolled": false
   },
   "outputs": [
    {
     "data": {
      "text/plain": [
       "<function next>"
      ]
     },
     "execution_count": 55,
     "metadata": {},
     "output_type": "execute_result"
    },
    {
     "data": {
      "text/plain": [
       "<function next>"
      ]
     },
     "execution_count": 55,
     "metadata": {},
     "output_type": "execute_result"
    },
    {
     "data": {
      "text/plain": [
       "<function next>"
      ]
     },
     "execution_count": 55,
     "metadata": {},
     "output_type": "execute_result"
    },
    {
     "data": {
      "text/plain": [
       "<function next>"
      ]
     },
     "execution_count": 55,
     "metadata": {},
     "output_type": "execute_result"
    },
    {
     "data": {
      "text/plain": [
       "<function next>"
      ]
     },
     "execution_count": 55,
     "metadata": {},
     "output_type": "execute_result"
    },
    {
     "data": {
      "text/plain": [
       "<function next>"
      ]
     },
     "execution_count": 55,
     "metadata": {},
     "output_type": "execute_result"
    },
    {
     "data": {
      "text/plain": [
       "<function next>"
      ]
     },
     "execution_count": 55,
     "metadata": {},
     "output_type": "execute_result"
    },
    {
     "data": {
      "text/plain": [
       "<function next>"
      ]
     },
     "execution_count": 55,
     "metadata": {},
     "output_type": "execute_result"
    },
    {
     "data": {
      "text/plain": [
       "<function next>"
      ]
     },
     "execution_count": 55,
     "metadata": {},
     "output_type": "execute_result"
    },
    {
     "data": {
      "text/plain": [
       "<function next>"
      ]
     },
     "execution_count": 55,
     "metadata": {},
     "output_type": "execute_result"
    },
    {
     "data": {
      "text/plain": [
       "<function next>"
      ]
     },
     "execution_count": 55,
     "metadata": {},
     "output_type": "execute_result"
    },
    {
     "data": {
      "text/plain": [
       "<function next>"
      ]
     },
     "execution_count": 55,
     "metadata": {},
     "output_type": "execute_result"
    },
    {
     "data": {
      "text/plain": [
       "<function next>"
      ]
     },
     "execution_count": 55,
     "metadata": {},
     "output_type": "execute_result"
    },
    {
     "data": {
      "text/plain": [
       "<function next>"
      ]
     },
     "execution_count": 55,
     "metadata": {},
     "output_type": "execute_result"
    },
    {
     "data": {
      "text/plain": [
       "<function next>"
      ]
     },
     "execution_count": 55,
     "metadata": {},
     "output_type": "execute_result"
    },
    {
     "data": {
      "text/plain": [
       "<function next>"
      ]
     },
     "execution_count": 55,
     "metadata": {},
     "output_type": "execute_result"
    },
    {
     "data": {
      "text/plain": [
       "<function next>"
      ]
     },
     "execution_count": 55,
     "metadata": {},
     "output_type": "execute_result"
    },
    {
     "data": {
      "text/plain": [
       "<function next>"
      ]
     },
     "execution_count": 55,
     "metadata": {},
     "output_type": "execute_result"
    },
    {
     "data": {
      "text/plain": [
       "<function next>"
      ]
     },
     "execution_count": 55,
     "metadata": {},
     "output_type": "execute_result"
    },
    {
     "data": {
      "text/plain": [
       "<function next>"
      ]
     },
     "execution_count": 55,
     "metadata": {},
     "output_type": "execute_result"
    },
    {
     "data": {
      "text/plain": [
       "<function next>"
      ]
     },
     "execution_count": 55,
     "metadata": {},
     "output_type": "execute_result"
    },
    {
     "data": {
      "text/plain": [
       "<function next>"
      ]
     },
     "execution_count": 55,
     "metadata": {},
     "output_type": "execute_result"
    },
    {
     "data": {
      "text/plain": [
       "<function next>"
      ]
     },
     "execution_count": 55,
     "metadata": {},
     "output_type": "execute_result"
    },
    {
     "data": {
      "text/plain": [
       "<function next>"
      ]
     },
     "execution_count": 55,
     "metadata": {},
     "output_type": "execute_result"
    },
    {
     "data": {
      "text/plain": [
       "<function next>"
      ]
     },
     "execution_count": 55,
     "metadata": {},
     "output_type": "execute_result"
    },
    {
     "data": {
      "text/plain": [
       "<function next>"
      ]
     },
     "execution_count": 55,
     "metadata": {},
     "output_type": "execute_result"
    },
    {
     "data": {
      "text/plain": [
       "<function next>"
      ]
     },
     "execution_count": 55,
     "metadata": {},
     "output_type": "execute_result"
    },
    {
     "data": {
      "text/plain": [
       "<function next>"
      ]
     },
     "execution_count": 55,
     "metadata": {},
     "output_type": "execute_result"
    },
    {
     "data": {
      "text/plain": [
       "<function next>"
      ]
     },
     "execution_count": 55,
     "metadata": {},
     "output_type": "execute_result"
    },
    {
     "data": {
      "text/plain": [
       "<function next>"
      ]
     },
     "execution_count": 55,
     "metadata": {},
     "output_type": "execute_result"
    },
    {
     "data": {
      "text/plain": [
       "<function next>"
      ]
     },
     "execution_count": 55,
     "metadata": {},
     "output_type": "execute_result"
    },
    {
     "data": {
      "text/plain": [
       "<function next>"
      ]
     },
     "execution_count": 55,
     "metadata": {},
     "output_type": "execute_result"
    },
    {
     "data": {
      "text/plain": [
       "<function next>"
      ]
     },
     "execution_count": 55,
     "metadata": {},
     "output_type": "execute_result"
    },
    {
     "data": {
      "text/plain": [
       "<function next>"
      ]
     },
     "execution_count": 55,
     "metadata": {},
     "output_type": "execute_result"
    },
    {
     "data": {
      "text/plain": [
       "<function next>"
      ]
     },
     "execution_count": 55,
     "metadata": {},
     "output_type": "execute_result"
    },
    {
     "data": {
      "text/plain": [
       "<function next>"
      ]
     },
     "execution_count": 55,
     "metadata": {},
     "output_type": "execute_result"
    },
    {
     "data": {
      "text/plain": [
       "<function next>"
      ]
     },
     "execution_count": 55,
     "metadata": {},
     "output_type": "execute_result"
    },
    {
     "data": {
      "text/plain": [
       "<function next>"
      ]
     },
     "execution_count": 55,
     "metadata": {},
     "output_type": "execute_result"
    },
    {
     "data": {
      "text/plain": [
       "<function next>"
      ]
     },
     "execution_count": 55,
     "metadata": {},
     "output_type": "execute_result"
    },
    {
     "data": {
      "text/plain": [
       "<function next>"
      ]
     },
     "execution_count": 55,
     "metadata": {},
     "output_type": "execute_result"
    },
    {
     "data": {
      "text/plain": [
       "<function next>"
      ]
     },
     "execution_count": 55,
     "metadata": {},
     "output_type": "execute_result"
    },
    {
     "data": {
      "text/plain": [
       "<function next>"
      ]
     },
     "execution_count": 55,
     "metadata": {},
     "output_type": "execute_result"
    },
    {
     "data": {
      "text/plain": [
       "<function next>"
      ]
     },
     "execution_count": 55,
     "metadata": {},
     "output_type": "execute_result"
    },
    {
     "data": {
      "text/plain": [
       "<function next>"
      ]
     },
     "execution_count": 55,
     "metadata": {},
     "output_type": "execute_result"
    },
    {
     "data": {
      "text/plain": [
       "<function next>"
      ]
     },
     "execution_count": 55,
     "metadata": {},
     "output_type": "execute_result"
    },
    {
     "data": {
      "text/plain": [
       "<function next>"
      ]
     },
     "execution_count": 55,
     "metadata": {},
     "output_type": "execute_result"
    },
    {
     "data": {
      "text/plain": [
       "<function next>"
      ]
     },
     "execution_count": 55,
     "metadata": {},
     "output_type": "execute_result"
    },
    {
     "data": {
      "text/plain": [
       "<function next>"
      ]
     },
     "execution_count": 55,
     "metadata": {},
     "output_type": "execute_result"
    },
    {
     "data": {
      "text/plain": [
       "<function next>"
      ]
     },
     "execution_count": 55,
     "metadata": {},
     "output_type": "execute_result"
    },
    {
     "data": {
      "text/plain": [
       "<function next>"
      ]
     },
     "execution_count": 55,
     "metadata": {},
     "output_type": "execute_result"
    },
    {
     "data": {
      "text/plain": [
       "<function next>"
      ]
     },
     "execution_count": 55,
     "metadata": {},
     "output_type": "execute_result"
    },
    {
     "data": {
      "text/plain": [
       "<function next>"
      ]
     },
     "execution_count": 55,
     "metadata": {},
     "output_type": "execute_result"
    },
    {
     "data": {
      "text/plain": [
       "<function next>"
      ]
     },
     "execution_count": 55,
     "metadata": {},
     "output_type": "execute_result"
    },
    {
     "data": {
      "text/plain": [
       "<function next>"
      ]
     },
     "execution_count": 55,
     "metadata": {},
     "output_type": "execute_result"
    },
    {
     "data": {
      "text/plain": [
       "<function next>"
      ]
     },
     "execution_count": 55,
     "metadata": {},
     "output_type": "execute_result"
    },
    {
     "data": {
      "text/plain": [
       "<function next>"
      ]
     },
     "execution_count": 55,
     "metadata": {},
     "output_type": "execute_result"
    },
    {
     "data": {
      "text/plain": [
       "<function next>"
      ]
     },
     "execution_count": 55,
     "metadata": {},
     "output_type": "execute_result"
    },
    {
     "data": {
      "text/plain": [
       "<function next>"
      ]
     },
     "execution_count": 55,
     "metadata": {},
     "output_type": "execute_result"
    },
    {
     "data": {
      "text/plain": [
       "<function next>"
      ]
     },
     "execution_count": 55,
     "metadata": {},
     "output_type": "execute_result"
    },
    {
     "data": {
      "text/plain": [
       "<function next>"
      ]
     },
     "execution_count": 55,
     "metadata": {},
     "output_type": "execute_result"
    },
    {
     "data": {
      "text/plain": [
       "<function next>"
      ]
     },
     "execution_count": 55,
     "metadata": {},
     "output_type": "execute_result"
    },
    {
     "data": {
      "text/plain": [
       "<function next>"
      ]
     },
     "execution_count": 55,
     "metadata": {},
     "output_type": "execute_result"
    },
    {
     "data": {
      "text/plain": [
       "<function next>"
      ]
     },
     "execution_count": 55,
     "metadata": {},
     "output_type": "execute_result"
    },
    {
     "data": {
      "text/plain": [
       "<function next>"
      ]
     },
     "execution_count": 55,
     "metadata": {},
     "output_type": "execute_result"
    },
    {
     "data": {
      "text/plain": [
       "<function next>"
      ]
     },
     "execution_count": 55,
     "metadata": {},
     "output_type": "execute_result"
    },
    {
     "data": {
      "text/plain": [
       "<function next>"
      ]
     },
     "execution_count": 55,
     "metadata": {},
     "output_type": "execute_result"
    },
    {
     "data": {
      "text/plain": [
       "<function next>"
      ]
     },
     "execution_count": 55,
     "metadata": {},
     "output_type": "execute_result"
    },
    {
     "data": {
      "text/plain": [
       "<function next>"
      ]
     },
     "execution_count": 55,
     "metadata": {},
     "output_type": "execute_result"
    },
    {
     "data": {
      "text/plain": [
       "<function next>"
      ]
     },
     "execution_count": 55,
     "metadata": {},
     "output_type": "execute_result"
    },
    {
     "data": {
      "text/plain": [
       "<function next>"
      ]
     },
     "execution_count": 55,
     "metadata": {},
     "output_type": "execute_result"
    },
    {
     "data": {
      "text/plain": [
       "<function next>"
      ]
     },
     "execution_count": 55,
     "metadata": {},
     "output_type": "execute_result"
    },
    {
     "data": {
      "text/plain": [
       "<function next>"
      ]
     },
     "execution_count": 55,
     "metadata": {},
     "output_type": "execute_result"
    },
    {
     "data": {
      "text/plain": [
       "<function next>"
      ]
     },
     "execution_count": 55,
     "metadata": {},
     "output_type": "execute_result"
    },
    {
     "data": {
      "text/plain": [
       "<function next>"
      ]
     },
     "execution_count": 55,
     "metadata": {},
     "output_type": "execute_result"
    },
    {
     "data": {
      "text/plain": [
       "<function next>"
      ]
     },
     "execution_count": 55,
     "metadata": {},
     "output_type": "execute_result"
    },
    {
     "data": {
      "text/plain": [
       "<function next>"
      ]
     },
     "execution_count": 55,
     "metadata": {},
     "output_type": "execute_result"
    },
    {
     "data": {
      "text/plain": [
       "<function next>"
      ]
     },
     "execution_count": 55,
     "metadata": {},
     "output_type": "execute_result"
    },
    {
     "data": {
      "text/plain": [
       "<function next>"
      ]
     },
     "execution_count": 55,
     "metadata": {},
     "output_type": "execute_result"
    },
    {
     "data": {
      "text/plain": [
       "<function next>"
      ]
     },
     "execution_count": 55,
     "metadata": {},
     "output_type": "execute_result"
    },
    {
     "data": {
      "text/plain": [
       "<function next>"
      ]
     },
     "execution_count": 55,
     "metadata": {},
     "output_type": "execute_result"
    },
    {
     "data": {
      "text/plain": [
       "<function next>"
      ]
     },
     "execution_count": 55,
     "metadata": {},
     "output_type": "execute_result"
    },
    {
     "data": {
      "text/plain": [
       "<function next>"
      ]
     },
     "execution_count": 55,
     "metadata": {},
     "output_type": "execute_result"
    },
    {
     "data": {
      "text/plain": [
       "<function next>"
      ]
     },
     "execution_count": 55,
     "metadata": {},
     "output_type": "execute_result"
    },
    {
     "data": {
      "text/plain": [
       "<function next>"
      ]
     },
     "execution_count": 55,
     "metadata": {},
     "output_type": "execute_result"
    },
    {
     "data": {
      "text/plain": [
       "<function next>"
      ]
     },
     "execution_count": 55,
     "metadata": {},
     "output_type": "execute_result"
    },
    {
     "data": {
      "text/plain": [
       "<function next>"
      ]
     },
     "execution_count": 55,
     "metadata": {},
     "output_type": "execute_result"
    },
    {
     "data": {
      "text/plain": [
       "<function next>"
      ]
     },
     "execution_count": 55,
     "metadata": {},
     "output_type": "execute_result"
    },
    {
     "data": {
      "text/plain": [
       "<function next>"
      ]
     },
     "execution_count": 55,
     "metadata": {},
     "output_type": "execute_result"
    },
    {
     "data": {
      "text/plain": [
       "<function next>"
      ]
     },
     "execution_count": 55,
     "metadata": {},
     "output_type": "execute_result"
    },
    {
     "data": {
      "text/plain": [
       "<function next>"
      ]
     },
     "execution_count": 55,
     "metadata": {},
     "output_type": "execute_result"
    },
    {
     "data": {
      "text/plain": [
       "<function next>"
      ]
     },
     "execution_count": 55,
     "metadata": {},
     "output_type": "execute_result"
    },
    {
     "data": {
      "text/plain": [
       "<function next>"
      ]
     },
     "execution_count": 55,
     "metadata": {},
     "output_type": "execute_result"
    },
    {
     "data": {
      "text/plain": [
       "<function next>"
      ]
     },
     "execution_count": 55,
     "metadata": {},
     "output_type": "execute_result"
    },
    {
     "data": {
      "text/plain": [
       "<function next>"
      ]
     },
     "execution_count": 55,
     "metadata": {},
     "output_type": "execute_result"
    },
    {
     "data": {
      "text/plain": [
       "<function next>"
      ]
     },
     "execution_count": 55,
     "metadata": {},
     "output_type": "execute_result"
    },
    {
     "data": {
      "text/plain": [
       "<function next>"
      ]
     },
     "execution_count": 55,
     "metadata": {},
     "output_type": "execute_result"
    },
    {
     "data": {
      "text/plain": [
       "<function next>"
      ]
     },
     "execution_count": 55,
     "metadata": {},
     "output_type": "execute_result"
    },
    {
     "data": {
      "text/plain": [
       "<function next>"
      ]
     },
     "execution_count": 55,
     "metadata": {},
     "output_type": "execute_result"
    },
    {
     "data": {
      "text/plain": [
       "<function next>"
      ]
     },
     "execution_count": 55,
     "metadata": {},
     "output_type": "execute_result"
    },
    {
     "data": {
      "text/plain": [
       "<function next>"
      ]
     },
     "execution_count": 55,
     "metadata": {},
     "output_type": "execute_result"
    },
    {
     "data": {
      "text/plain": [
       "<function next>"
      ]
     },
     "execution_count": 55,
     "metadata": {},
     "output_type": "execute_result"
    },
    {
     "data": {
      "text/plain": [
       "<function next>"
      ]
     },
     "execution_count": 55,
     "metadata": {},
     "output_type": "execute_result"
    },
    {
     "data": {
      "text/plain": [
       "<function next>"
      ]
     },
     "execution_count": 55,
     "metadata": {},
     "output_type": "execute_result"
    },
    {
     "data": {
      "text/plain": [
       "<function next>"
      ]
     },
     "execution_count": 55,
     "metadata": {},
     "output_type": "execute_result"
    },
    {
     "data": {
      "text/plain": [
       "<function next>"
      ]
     },
     "execution_count": 55,
     "metadata": {},
     "output_type": "execute_result"
    },
    {
     "data": {
      "text/plain": [
       "<function next>"
      ]
     },
     "execution_count": 55,
     "metadata": {},
     "output_type": "execute_result"
    },
    {
     "data": {
      "text/plain": [
       "<function next>"
      ]
     },
     "execution_count": 55,
     "metadata": {},
     "output_type": "execute_result"
    },
    {
     "data": {
      "text/plain": [
       "<function next>"
      ]
     },
     "execution_count": 55,
     "metadata": {},
     "output_type": "execute_result"
    },
    {
     "data": {
      "text/plain": [
       "<function next>"
      ]
     },
     "execution_count": 55,
     "metadata": {},
     "output_type": "execute_result"
    },
    {
     "data": {
      "text/plain": [
       "<function next>"
      ]
     },
     "execution_count": 55,
     "metadata": {},
     "output_type": "execute_result"
    },
    {
     "data": {
      "text/plain": [
       "<function next>"
      ]
     },
     "execution_count": 55,
     "metadata": {},
     "output_type": "execute_result"
    },
    {
     "data": {
      "text/plain": [
       "<function next>"
      ]
     },
     "execution_count": 55,
     "metadata": {},
     "output_type": "execute_result"
    },
    {
     "data": {
      "text/plain": [
       "<function next>"
      ]
     },
     "execution_count": 55,
     "metadata": {},
     "output_type": "execute_result"
    },
    {
     "data": {
      "text/plain": [
       "<function next>"
      ]
     },
     "execution_count": 55,
     "metadata": {},
     "output_type": "execute_result"
    },
    {
     "data": {
      "text/plain": [
       "<function next>"
      ]
     },
     "execution_count": 55,
     "metadata": {},
     "output_type": "execute_result"
    },
    {
     "data": {
      "text/plain": [
       "<function next>"
      ]
     },
     "execution_count": 55,
     "metadata": {},
     "output_type": "execute_result"
    },
    {
     "data": {
      "text/plain": [
       "<function next>"
      ]
     },
     "execution_count": 55,
     "metadata": {},
     "output_type": "execute_result"
    },
    {
     "data": {
      "text/plain": [
       "<function next>"
      ]
     },
     "execution_count": 55,
     "metadata": {},
     "output_type": "execute_result"
    },
    {
     "data": {
      "text/plain": [
       "<function next>"
      ]
     },
     "execution_count": 55,
     "metadata": {},
     "output_type": "execute_result"
    },
    {
     "data": {
      "text/plain": [
       "<function next>"
      ]
     },
     "execution_count": 55,
     "metadata": {},
     "output_type": "execute_result"
    },
    {
     "data": {
      "text/plain": [
       "<function next>"
      ]
     },
     "execution_count": 55,
     "metadata": {},
     "output_type": "execute_result"
    },
    {
     "data": {
      "text/plain": [
       "<function next>"
      ]
     },
     "execution_count": 55,
     "metadata": {},
     "output_type": "execute_result"
    },
    {
     "data": {
      "text/plain": [
       "<function next>"
      ]
     },
     "execution_count": 55,
     "metadata": {},
     "output_type": "execute_result"
    },
    {
     "data": {
      "text/plain": [
       "<function next>"
      ]
     },
     "execution_count": 55,
     "metadata": {},
     "output_type": "execute_result"
    },
    {
     "data": {
      "text/plain": [
       "<function next>"
      ]
     },
     "execution_count": 55,
     "metadata": {},
     "output_type": "execute_result"
    },
    {
     "data": {
      "text/plain": [
       "<function next>"
      ]
     },
     "execution_count": 55,
     "metadata": {},
     "output_type": "execute_result"
    },
    {
     "data": {
      "text/plain": [
       "<function next>"
      ]
     },
     "execution_count": 55,
     "metadata": {},
     "output_type": "execute_result"
    },
    {
     "data": {
      "text/plain": [
       "<function next>"
      ]
     },
     "execution_count": 55,
     "metadata": {},
     "output_type": "execute_result"
    },
    {
     "data": {
      "text/plain": [
       "<function next>"
      ]
     },
     "execution_count": 55,
     "metadata": {},
     "output_type": "execute_result"
    },
    {
     "data": {
      "text/plain": [
       "<function next>"
      ]
     },
     "execution_count": 55,
     "metadata": {},
     "output_type": "execute_result"
    },
    {
     "data": {
      "text/plain": [
       "<function next>"
      ]
     },
     "execution_count": 55,
     "metadata": {},
     "output_type": "execute_result"
    },
    {
     "data": {
      "text/plain": [
       "<function next>"
      ]
     },
     "execution_count": 55,
     "metadata": {},
     "output_type": "execute_result"
    },
    {
     "data": {
      "text/plain": [
       "<function next>"
      ]
     },
     "execution_count": 55,
     "metadata": {},
     "output_type": "execute_result"
    },
    {
     "data": {
      "text/plain": [
       "<function next>"
      ]
     },
     "execution_count": 55,
     "metadata": {},
     "output_type": "execute_result"
    },
    {
     "data": {
      "text/plain": [
       "<function next>"
      ]
     },
     "execution_count": 55,
     "metadata": {},
     "output_type": "execute_result"
    },
    {
     "data": {
      "text/plain": [
       "<function next>"
      ]
     },
     "execution_count": 55,
     "metadata": {},
     "output_type": "execute_result"
    },
    {
     "data": {
      "text/plain": [
       "<function next>"
      ]
     },
     "execution_count": 55,
     "metadata": {},
     "output_type": "execute_result"
    },
    {
     "data": {
      "text/plain": [
       "<function next>"
      ]
     },
     "execution_count": 55,
     "metadata": {},
     "output_type": "execute_result"
    },
    {
     "data": {
      "text/plain": [
       "<function next>"
      ]
     },
     "execution_count": 55,
     "metadata": {},
     "output_type": "execute_result"
    },
    {
     "data": {
      "text/plain": [
       "<function next>"
      ]
     },
     "execution_count": 55,
     "metadata": {},
     "output_type": "execute_result"
    },
    {
     "data": {
      "text/plain": [
       "<function next>"
      ]
     },
     "execution_count": 55,
     "metadata": {},
     "output_type": "execute_result"
    },
    {
     "data": {
      "text/plain": [
       "<function next>"
      ]
     },
     "execution_count": 55,
     "metadata": {},
     "output_type": "execute_result"
    },
    {
     "data": {
      "text/plain": [
       "<function next>"
      ]
     },
     "execution_count": 55,
     "metadata": {},
     "output_type": "execute_result"
    },
    {
     "data": {
      "text/plain": [
       "<function next>"
      ]
     },
     "execution_count": 55,
     "metadata": {},
     "output_type": "execute_result"
    },
    {
     "data": {
      "text/plain": [
       "<function next>"
      ]
     },
     "execution_count": 55,
     "metadata": {},
     "output_type": "execute_result"
    },
    {
     "data": {
      "text/plain": [
       "<function next>"
      ]
     },
     "execution_count": 55,
     "metadata": {},
     "output_type": "execute_result"
    },
    {
     "data": {
      "text/plain": [
       "<function next>"
      ]
     },
     "execution_count": 55,
     "metadata": {},
     "output_type": "execute_result"
    },
    {
     "data": {
      "text/plain": [
       "<function next>"
      ]
     },
     "execution_count": 55,
     "metadata": {},
     "output_type": "execute_result"
    },
    {
     "data": {
      "text/plain": [
       "<function next>"
      ]
     },
     "execution_count": 55,
     "metadata": {},
     "output_type": "execute_result"
    },
    {
     "data": {
      "text/plain": [
       "<function next>"
      ]
     },
     "execution_count": 55,
     "metadata": {},
     "output_type": "execute_result"
    },
    {
     "data": {
      "text/plain": [
       "<function next>"
      ]
     },
     "execution_count": 55,
     "metadata": {},
     "output_type": "execute_result"
    },
    {
     "data": {
      "text/plain": [
       "<function next>"
      ]
     },
     "execution_count": 55,
     "metadata": {},
     "output_type": "execute_result"
    },
    {
     "data": {
      "text/plain": [
       "<function next>"
      ]
     },
     "execution_count": 55,
     "metadata": {},
     "output_type": "execute_result"
    },
    {
     "data": {
      "text/plain": [
       "<function next>"
      ]
     },
     "execution_count": 55,
     "metadata": {},
     "output_type": "execute_result"
    },
    {
     "data": {
      "text/plain": [
       "<function next>"
      ]
     },
     "execution_count": 55,
     "metadata": {},
     "output_type": "execute_result"
    },
    {
     "data": {
      "text/plain": [
       "<function next>"
      ]
     },
     "execution_count": 55,
     "metadata": {},
     "output_type": "execute_result"
    },
    {
     "data": {
      "text/plain": [
       "<function next>"
      ]
     },
     "execution_count": 55,
     "metadata": {},
     "output_type": "execute_result"
    },
    {
     "data": {
      "text/plain": [
       "<function next>"
      ]
     },
     "execution_count": 55,
     "metadata": {},
     "output_type": "execute_result"
    },
    {
     "data": {
      "text/plain": [
       "<function next>"
      ]
     },
     "execution_count": 55,
     "metadata": {},
     "output_type": "execute_result"
    },
    {
     "data": {
      "text/plain": [
       "<function next>"
      ]
     },
     "execution_count": 55,
     "metadata": {},
     "output_type": "execute_result"
    },
    {
     "data": {
      "text/plain": [
       "<function next>"
      ]
     },
     "execution_count": 55,
     "metadata": {},
     "output_type": "execute_result"
    },
    {
     "data": {
      "text/plain": [
       "<function next>"
      ]
     },
     "execution_count": 55,
     "metadata": {},
     "output_type": "execute_result"
    },
    {
     "data": {
      "text/plain": [
       "<function next>"
      ]
     },
     "execution_count": 55,
     "metadata": {},
     "output_type": "execute_result"
    },
    {
     "data": {
      "text/plain": [
       "<function next>"
      ]
     },
     "execution_count": 55,
     "metadata": {},
     "output_type": "execute_result"
    },
    {
     "data": {
      "text/plain": [
       "<function next>"
      ]
     },
     "execution_count": 55,
     "metadata": {},
     "output_type": "execute_result"
    },
    {
     "data": {
      "text/plain": [
       "<function next>"
      ]
     },
     "execution_count": 55,
     "metadata": {},
     "output_type": "execute_result"
    },
    {
     "data": {
      "text/plain": [
       "<function next>"
      ]
     },
     "execution_count": 55,
     "metadata": {},
     "output_type": "execute_result"
    },
    {
     "data": {
      "text/plain": [
       "<function next>"
      ]
     },
     "execution_count": 55,
     "metadata": {},
     "output_type": "execute_result"
    },
    {
     "data": {
      "text/plain": [
       "<function next>"
      ]
     },
     "execution_count": 55,
     "metadata": {},
     "output_type": "execute_result"
    },
    {
     "data": {
      "text/plain": [
       "<function next>"
      ]
     },
     "execution_count": 55,
     "metadata": {},
     "output_type": "execute_result"
    },
    {
     "data": {
      "text/plain": [
       "<function next>"
      ]
     },
     "execution_count": 55,
     "metadata": {},
     "output_type": "execute_result"
    },
    {
     "data": {
      "text/plain": [
       "<function next>"
      ]
     },
     "execution_count": 55,
     "metadata": {},
     "output_type": "execute_result"
    },
    {
     "data": {
      "text/plain": [
       "<function next>"
      ]
     },
     "execution_count": 55,
     "metadata": {},
     "output_type": "execute_result"
    },
    {
     "data": {
      "text/plain": [
       "<function next>"
      ]
     },
     "execution_count": 55,
     "metadata": {},
     "output_type": "execute_result"
    },
    {
     "data": {
      "text/plain": [
       "<function next>"
      ]
     },
     "execution_count": 55,
     "metadata": {},
     "output_type": "execute_result"
    },
    {
     "data": {
      "text/plain": [
       "<function next>"
      ]
     },
     "execution_count": 55,
     "metadata": {},
     "output_type": "execute_result"
    },
    {
     "data": {
      "text/plain": [
       "<function next>"
      ]
     },
     "execution_count": 55,
     "metadata": {},
     "output_type": "execute_result"
    },
    {
     "data": {
      "text/plain": [
       "<function next>"
      ]
     },
     "execution_count": 55,
     "metadata": {},
     "output_type": "execute_result"
    },
    {
     "data": {
      "text/plain": [
       "<function next>"
      ]
     },
     "execution_count": 55,
     "metadata": {},
     "output_type": "execute_result"
    },
    {
     "data": {
      "text/plain": [
       "<function next>"
      ]
     },
     "execution_count": 55,
     "metadata": {},
     "output_type": "execute_result"
    },
    {
     "data": {
      "text/plain": [
       "<function next>"
      ]
     },
     "execution_count": 55,
     "metadata": {},
     "output_type": "execute_result"
    },
    {
     "data": {
      "text/plain": [
       "<function next>"
      ]
     },
     "execution_count": 55,
     "metadata": {},
     "output_type": "execute_result"
    },
    {
     "data": {
      "text/plain": [
       "<function next>"
      ]
     },
     "execution_count": 55,
     "metadata": {},
     "output_type": "execute_result"
    },
    {
     "data": {
      "text/plain": [
       "<function next>"
      ]
     },
     "execution_count": 55,
     "metadata": {},
     "output_type": "execute_result"
    },
    {
     "data": {
      "text/plain": [
       "<function next>"
      ]
     },
     "execution_count": 55,
     "metadata": {},
     "output_type": "execute_result"
    },
    {
     "data": {
      "text/plain": [
       "<function next>"
      ]
     },
     "execution_count": 55,
     "metadata": {},
     "output_type": "execute_result"
    },
    {
     "data": {
      "text/plain": [
       "<function next>"
      ]
     },
     "execution_count": 55,
     "metadata": {},
     "output_type": "execute_result"
    },
    {
     "data": {
      "text/plain": [
       "<function next>"
      ]
     },
     "execution_count": 55,
     "metadata": {},
     "output_type": "execute_result"
    },
    {
     "data": {
      "text/plain": [
       "<function next>"
      ]
     },
     "execution_count": 55,
     "metadata": {},
     "output_type": "execute_result"
    },
    {
     "data": {
      "text/plain": [
       "<function next>"
      ]
     },
     "execution_count": 55,
     "metadata": {},
     "output_type": "execute_result"
    },
    {
     "data": {
      "text/plain": [
       "<function next>"
      ]
     },
     "execution_count": 55,
     "metadata": {},
     "output_type": "execute_result"
    },
    {
     "data": {
      "text/plain": [
       "<function next>"
      ]
     },
     "execution_count": 55,
     "metadata": {},
     "output_type": "execute_result"
    },
    {
     "data": {
      "text/plain": [
       "<function next>"
      ]
     },
     "execution_count": 55,
     "metadata": {},
     "output_type": "execute_result"
    },
    {
     "data": {
      "text/plain": [
       "<function next>"
      ]
     },
     "execution_count": 55,
     "metadata": {},
     "output_type": "execute_result"
    },
    {
     "data": {
      "text/plain": [
       "<function next>"
      ]
     },
     "execution_count": 55,
     "metadata": {},
     "output_type": "execute_result"
    },
    {
     "data": {
      "text/plain": [
       "<function next>"
      ]
     },
     "execution_count": 55,
     "metadata": {},
     "output_type": "execute_result"
    },
    {
     "data": {
      "text/plain": [
       "<function next>"
      ]
     },
     "execution_count": 55,
     "metadata": {},
     "output_type": "execute_result"
    },
    {
     "data": {
      "text/plain": [
       "<function next>"
      ]
     },
     "execution_count": 55,
     "metadata": {},
     "output_type": "execute_result"
    },
    {
     "data": {
      "text/plain": [
       "<function next>"
      ]
     },
     "execution_count": 55,
     "metadata": {},
     "output_type": "execute_result"
    },
    {
     "data": {
      "text/plain": [
       "<function next>"
      ]
     },
     "execution_count": 55,
     "metadata": {},
     "output_type": "execute_result"
    },
    {
     "data": {
      "text/plain": [
       "<function next>"
      ]
     },
     "execution_count": 55,
     "metadata": {},
     "output_type": "execute_result"
    },
    {
     "data": {
      "text/plain": [
       "<function next>"
      ]
     },
     "execution_count": 55,
     "metadata": {},
     "output_type": "execute_result"
    },
    {
     "data": {
      "text/plain": [
       "<function next>"
      ]
     },
     "execution_count": 55,
     "metadata": {},
     "output_type": "execute_result"
    },
    {
     "data": {
      "text/plain": [
       "<function next>"
      ]
     },
     "execution_count": 55,
     "metadata": {},
     "output_type": "execute_result"
    },
    {
     "data": {
      "text/plain": [
       "<function next>"
      ]
     },
     "execution_count": 55,
     "metadata": {},
     "output_type": "execute_result"
    },
    {
     "data": {
      "text/plain": [
       "<function next>"
      ]
     },
     "execution_count": 55,
     "metadata": {},
     "output_type": "execute_result"
    },
    {
     "data": {
      "text/plain": [
       "<function next>"
      ]
     },
     "execution_count": 55,
     "metadata": {},
     "output_type": "execute_result"
    },
    {
     "data": {
      "text/plain": [
       "<function next>"
      ]
     },
     "execution_count": 55,
     "metadata": {},
     "output_type": "execute_result"
    },
    {
     "data": {
      "text/plain": [
       "<function next>"
      ]
     },
     "execution_count": 55,
     "metadata": {},
     "output_type": "execute_result"
    },
    {
     "data": {
      "text/plain": [
       "<function next>"
      ]
     },
     "execution_count": 55,
     "metadata": {},
     "output_type": "execute_result"
    },
    {
     "data": {
      "text/plain": [
       "<function next>"
      ]
     },
     "execution_count": 55,
     "metadata": {},
     "output_type": "execute_result"
    },
    {
     "data": {
      "text/plain": [
       "<function next>"
      ]
     },
     "execution_count": 55,
     "metadata": {},
     "output_type": "execute_result"
    },
    {
     "data": {
      "text/plain": [
       "<function next>"
      ]
     },
     "execution_count": 55,
     "metadata": {},
     "output_type": "execute_result"
    },
    {
     "data": {
      "text/plain": [
       "<function next>"
      ]
     },
     "execution_count": 55,
     "metadata": {},
     "output_type": "execute_result"
    },
    {
     "data": {
      "text/plain": [
       "<function next>"
      ]
     },
     "execution_count": 55,
     "metadata": {},
     "output_type": "execute_result"
    },
    {
     "data": {
      "text/plain": [
       "<function next>"
      ]
     },
     "execution_count": 55,
     "metadata": {},
     "output_type": "execute_result"
    },
    {
     "data": {
      "text/plain": [
       "<function next>"
      ]
     },
     "execution_count": 55,
     "metadata": {},
     "output_type": "execute_result"
    },
    {
     "data": {
      "text/plain": [
       "<function next>"
      ]
     },
     "execution_count": 55,
     "metadata": {},
     "output_type": "execute_result"
    },
    {
     "data": {
      "text/plain": [
       "<function next>"
      ]
     },
     "execution_count": 55,
     "metadata": {},
     "output_type": "execute_result"
    },
    {
     "data": {
      "text/plain": [
       "<function next>"
      ]
     },
     "execution_count": 55,
     "metadata": {},
     "output_type": "execute_result"
    },
    {
     "data": {
      "text/plain": [
       "<function next>"
      ]
     },
     "execution_count": 55,
     "metadata": {},
     "output_type": "execute_result"
    },
    {
     "data": {
      "text/plain": [
       "<function next>"
      ]
     },
     "execution_count": 55,
     "metadata": {},
     "output_type": "execute_result"
    },
    {
     "data": {
      "text/plain": [
       "<function next>"
      ]
     },
     "execution_count": 55,
     "metadata": {},
     "output_type": "execute_result"
    },
    {
     "data": {
      "text/plain": [
       "<function next>"
      ]
     },
     "execution_count": 55,
     "metadata": {},
     "output_type": "execute_result"
    },
    {
     "data": {
      "text/plain": [
       "<function next>"
      ]
     },
     "execution_count": 55,
     "metadata": {},
     "output_type": "execute_result"
    },
    {
     "data": {
      "text/plain": [
       "<function next>"
      ]
     },
     "execution_count": 55,
     "metadata": {},
     "output_type": "execute_result"
    },
    {
     "data": {
      "text/plain": [
       "<function next>"
      ]
     },
     "execution_count": 55,
     "metadata": {},
     "output_type": "execute_result"
    },
    {
     "data": {
      "text/plain": [
       "<function next>"
      ]
     },
     "execution_count": 55,
     "metadata": {},
     "output_type": "execute_result"
    },
    {
     "data": {
      "text/plain": [
       "<function next>"
      ]
     },
     "execution_count": 55,
     "metadata": {},
     "output_type": "execute_result"
    },
    {
     "data": {
      "text/plain": [
       "<function next>"
      ]
     },
     "execution_count": 55,
     "metadata": {},
     "output_type": "execute_result"
    },
    {
     "data": {
      "text/plain": [
       "<function next>"
      ]
     },
     "execution_count": 55,
     "metadata": {},
     "output_type": "execute_result"
    },
    {
     "data": {
      "text/plain": [
       "<function next>"
      ]
     },
     "execution_count": 55,
     "metadata": {},
     "output_type": "execute_result"
    },
    {
     "data": {
      "text/plain": [
       "<function next>"
      ]
     },
     "execution_count": 55,
     "metadata": {},
     "output_type": "execute_result"
    },
    {
     "data": {
      "text/plain": [
       "<function next>"
      ]
     },
     "execution_count": 55,
     "metadata": {},
     "output_type": "execute_result"
    },
    {
     "data": {
      "text/plain": [
       "<function next>"
      ]
     },
     "execution_count": 55,
     "metadata": {},
     "output_type": "execute_result"
    },
    {
     "data": {
      "text/plain": [
       "<function next>"
      ]
     },
     "execution_count": 55,
     "metadata": {},
     "output_type": "execute_result"
    },
    {
     "data": {
      "text/plain": [
       "<function next>"
      ]
     },
     "execution_count": 55,
     "metadata": {},
     "output_type": "execute_result"
    },
    {
     "data": {
      "text/plain": [
       "<function next>"
      ]
     },
     "execution_count": 55,
     "metadata": {},
     "output_type": "execute_result"
    },
    {
     "data": {
      "text/plain": [
       "<function next>"
      ]
     },
     "execution_count": 55,
     "metadata": {},
     "output_type": "execute_result"
    },
    {
     "data": {
      "text/plain": [
       "<function next>"
      ]
     },
     "execution_count": 55,
     "metadata": {},
     "output_type": "execute_result"
    },
    {
     "data": {
      "text/plain": [
       "<function next>"
      ]
     },
     "execution_count": 55,
     "metadata": {},
     "output_type": "execute_result"
    },
    {
     "data": {
      "text/plain": [
       "<function next>"
      ]
     },
     "execution_count": 55,
     "metadata": {},
     "output_type": "execute_result"
    },
    {
     "data": {
      "text/plain": [
       "<function next>"
      ]
     },
     "execution_count": 55,
     "metadata": {},
     "output_type": "execute_result"
    },
    {
     "data": {
      "text/plain": [
       "<function next>"
      ]
     },
     "execution_count": 55,
     "metadata": {},
     "output_type": "execute_result"
    },
    {
     "data": {
      "text/plain": [
       "<function next>"
      ]
     },
     "execution_count": 55,
     "metadata": {},
     "output_type": "execute_result"
    },
    {
     "data": {
      "text/plain": [
       "<function next>"
      ]
     },
     "execution_count": 55,
     "metadata": {},
     "output_type": "execute_result"
    },
    {
     "data": {
      "text/plain": [
       "<function next>"
      ]
     },
     "execution_count": 55,
     "metadata": {},
     "output_type": "execute_result"
    },
    {
     "data": {
      "text/plain": [
       "<function next>"
      ]
     },
     "execution_count": 55,
     "metadata": {},
     "output_type": "execute_result"
    },
    {
     "data": {
      "text/plain": [
       "<function next>"
      ]
     },
     "execution_count": 55,
     "metadata": {},
     "output_type": "execute_result"
    },
    {
     "data": {
      "text/plain": [
       "<function next>"
      ]
     },
     "execution_count": 55,
     "metadata": {},
     "output_type": "execute_result"
    },
    {
     "data": {
      "text/plain": [
       "<function next>"
      ]
     },
     "execution_count": 55,
     "metadata": {},
     "output_type": "execute_result"
    },
    {
     "data": {
      "text/plain": [
       "<function next>"
      ]
     },
     "execution_count": 55,
     "metadata": {},
     "output_type": "execute_result"
    },
    {
     "data": {
      "text/plain": [
       "<function next>"
      ]
     },
     "execution_count": 55,
     "metadata": {},
     "output_type": "execute_result"
    },
    {
     "data": {
      "text/plain": [
       "<function next>"
      ]
     },
     "execution_count": 55,
     "metadata": {},
     "output_type": "execute_result"
    },
    {
     "data": {
      "text/plain": [
       "<function next>"
      ]
     },
     "execution_count": 55,
     "metadata": {},
     "output_type": "execute_result"
    },
    {
     "data": {
      "text/plain": [
       "<function next>"
      ]
     },
     "execution_count": 55,
     "metadata": {},
     "output_type": "execute_result"
    },
    {
     "data": {
      "text/plain": [
       "<function next>"
      ]
     },
     "execution_count": 55,
     "metadata": {},
     "output_type": "execute_result"
    },
    {
     "data": {
      "text/plain": [
       "<function next>"
      ]
     },
     "execution_count": 55,
     "metadata": {},
     "output_type": "execute_result"
    },
    {
     "data": {
      "text/plain": [
       "<function next>"
      ]
     },
     "execution_count": 55,
     "metadata": {},
     "output_type": "execute_result"
    },
    {
     "data": {
      "text/plain": [
       "<function next>"
      ]
     },
     "execution_count": 55,
     "metadata": {},
     "output_type": "execute_result"
    },
    {
     "data": {
      "text/plain": [
       "<function next>"
      ]
     },
     "execution_count": 55,
     "metadata": {},
     "output_type": "execute_result"
    },
    {
     "data": {
      "text/plain": [
       "<function next>"
      ]
     },
     "execution_count": 55,
     "metadata": {},
     "output_type": "execute_result"
    },
    {
     "data": {
      "text/plain": [
       "<function next>"
      ]
     },
     "execution_count": 55,
     "metadata": {},
     "output_type": "execute_result"
    },
    {
     "data": {
      "text/plain": [
       "<function next>"
      ]
     },
     "execution_count": 55,
     "metadata": {},
     "output_type": "execute_result"
    },
    {
     "data": {
      "text/plain": [
       "<function next>"
      ]
     },
     "execution_count": 55,
     "metadata": {},
     "output_type": "execute_result"
    },
    {
     "data": {
      "text/plain": [
       "<function next>"
      ]
     },
     "execution_count": 55,
     "metadata": {},
     "output_type": "execute_result"
    },
    {
     "data": {
      "text/plain": [
       "<function next>"
      ]
     },
     "execution_count": 55,
     "metadata": {},
     "output_type": "execute_result"
    },
    {
     "data": {
      "text/plain": [
       "<function next>"
      ]
     },
     "execution_count": 55,
     "metadata": {},
     "output_type": "execute_result"
    },
    {
     "data": {
      "text/plain": [
       "<function next>"
      ]
     },
     "execution_count": 55,
     "metadata": {},
     "output_type": "execute_result"
    },
    {
     "data": {
      "text/plain": [
       "<function next>"
      ]
     },
     "execution_count": 55,
     "metadata": {},
     "output_type": "execute_result"
    },
    {
     "data": {
      "text/plain": [
       "<function next>"
      ]
     },
     "execution_count": 55,
     "metadata": {},
     "output_type": "execute_result"
    },
    {
     "data": {
      "text/plain": [
       "<function next>"
      ]
     },
     "execution_count": 55,
     "metadata": {},
     "output_type": "execute_result"
    },
    {
     "data": {
      "text/plain": [
       "<function next>"
      ]
     },
     "execution_count": 55,
     "metadata": {},
     "output_type": "execute_result"
    },
    {
     "data": {
      "text/plain": [
       "<function next>"
      ]
     },
     "execution_count": 55,
     "metadata": {},
     "output_type": "execute_result"
    },
    {
     "data": {
      "text/plain": [
       "<function next>"
      ]
     },
     "execution_count": 55,
     "metadata": {},
     "output_type": "execute_result"
    },
    {
     "data": {
      "text/plain": [
       "<function next>"
      ]
     },
     "execution_count": 55,
     "metadata": {},
     "output_type": "execute_result"
    },
    {
     "data": {
      "text/plain": [
       "<function next>"
      ]
     },
     "execution_count": 55,
     "metadata": {},
     "output_type": "execute_result"
    },
    {
     "data": {
      "text/plain": [
       "<function next>"
      ]
     },
     "execution_count": 55,
     "metadata": {},
     "output_type": "execute_result"
    },
    {
     "data": {
      "text/plain": [
       "<function next>"
      ]
     },
     "execution_count": 55,
     "metadata": {},
     "output_type": "execute_result"
    },
    {
     "data": {
      "text/plain": [
       "<function next>"
      ]
     },
     "execution_count": 55,
     "metadata": {},
     "output_type": "execute_result"
    },
    {
     "data": {
      "text/plain": [
       "<function next>"
      ]
     },
     "execution_count": 55,
     "metadata": {},
     "output_type": "execute_result"
    },
    {
     "data": {
      "text/plain": [
       "<function next>"
      ]
     },
     "execution_count": 55,
     "metadata": {},
     "output_type": "execute_result"
    },
    {
     "data": {
      "text/plain": [
       "<function next>"
      ]
     },
     "execution_count": 55,
     "metadata": {},
     "output_type": "execute_result"
    },
    {
     "data": {
      "text/plain": [
       "<function next>"
      ]
     },
     "execution_count": 55,
     "metadata": {},
     "output_type": "execute_result"
    },
    {
     "data": {
      "text/plain": [
       "<function next>"
      ]
     },
     "execution_count": 55,
     "metadata": {},
     "output_type": "execute_result"
    },
    {
     "data": {
      "text/plain": [
       "<function next>"
      ]
     },
     "execution_count": 55,
     "metadata": {},
     "output_type": "execute_result"
    },
    {
     "data": {
      "text/plain": [
       "<function next>"
      ]
     },
     "execution_count": 55,
     "metadata": {},
     "output_type": "execute_result"
    },
    {
     "data": {
      "text/plain": [
       "<function next>"
      ]
     },
     "execution_count": 55,
     "metadata": {},
     "output_type": "execute_result"
    },
    {
     "data": {
      "text/plain": [
       "<function next>"
      ]
     },
     "execution_count": 55,
     "metadata": {},
     "output_type": "execute_result"
    },
    {
     "data": {
      "text/plain": [
       "<function next>"
      ]
     },
     "execution_count": 55,
     "metadata": {},
     "output_type": "execute_result"
    },
    {
     "data": {
      "text/plain": [
       "<function next>"
      ]
     },
     "execution_count": 55,
     "metadata": {},
     "output_type": "execute_result"
    },
    {
     "data": {
      "text/plain": [
       "<function next>"
      ]
     },
     "execution_count": 55,
     "metadata": {},
     "output_type": "execute_result"
    },
    {
     "data": {
      "text/plain": [
       "<function next>"
      ]
     },
     "execution_count": 55,
     "metadata": {},
     "output_type": "execute_result"
    },
    {
     "data": {
      "text/plain": [
       "<function next>"
      ]
     },
     "execution_count": 55,
     "metadata": {},
     "output_type": "execute_result"
    },
    {
     "data": {
      "text/plain": [
       "<function next>"
      ]
     },
     "execution_count": 55,
     "metadata": {},
     "output_type": "execute_result"
    },
    {
     "data": {
      "text/plain": [
       "<function next>"
      ]
     },
     "execution_count": 55,
     "metadata": {},
     "output_type": "execute_result"
    },
    {
     "data": {
      "text/plain": [
       "<function next>"
      ]
     },
     "execution_count": 55,
     "metadata": {},
     "output_type": "execute_result"
    },
    {
     "data": {
      "text/plain": [
       "<function next>"
      ]
     },
     "execution_count": 55,
     "metadata": {},
     "output_type": "execute_result"
    },
    {
     "data": {
      "text/plain": [
       "<function next>"
      ]
     },
     "execution_count": 55,
     "metadata": {},
     "output_type": "execute_result"
    },
    {
     "data": {
      "text/plain": [
       "<function next>"
      ]
     },
     "execution_count": 55,
     "metadata": {},
     "output_type": "execute_result"
    },
    {
     "data": {
      "text/plain": [
       "<function next>"
      ]
     },
     "execution_count": 55,
     "metadata": {},
     "output_type": "execute_result"
    },
    {
     "data": {
      "text/plain": [
       "<function next>"
      ]
     },
     "execution_count": 55,
     "metadata": {},
     "output_type": "execute_result"
    },
    {
     "data": {
      "text/plain": [
       "<function next>"
      ]
     },
     "execution_count": 55,
     "metadata": {},
     "output_type": "execute_result"
    },
    {
     "data": {
      "text/plain": [
       "<function next>"
      ]
     },
     "execution_count": 55,
     "metadata": {},
     "output_type": "execute_result"
    },
    {
     "data": {
      "text/plain": [
       "<function next>"
      ]
     },
     "execution_count": 55,
     "metadata": {},
     "output_type": "execute_result"
    },
    {
     "data": {
      "text/plain": [
       "<function next>"
      ]
     },
     "execution_count": 55,
     "metadata": {},
     "output_type": "execute_result"
    },
    {
     "data": {
      "text/plain": [
       "<function next>"
      ]
     },
     "execution_count": 55,
     "metadata": {},
     "output_type": "execute_result"
    },
    {
     "data": {
      "text/plain": [
       "<function next>"
      ]
     },
     "execution_count": 55,
     "metadata": {},
     "output_type": "execute_result"
    },
    {
     "data": {
      "text/plain": [
       "<function next>"
      ]
     },
     "execution_count": 55,
     "metadata": {},
     "output_type": "execute_result"
    },
    {
     "data": {
      "text/plain": [
       "<function next>"
      ]
     },
     "execution_count": 55,
     "metadata": {},
     "output_type": "execute_result"
    },
    {
     "data": {
      "text/plain": [
       "<function next>"
      ]
     },
     "execution_count": 55,
     "metadata": {},
     "output_type": "execute_result"
    },
    {
     "data": {
      "text/plain": [
       "<function next>"
      ]
     },
     "execution_count": 55,
     "metadata": {},
     "output_type": "execute_result"
    },
    {
     "data": {
      "text/plain": [
       "<function next>"
      ]
     },
     "execution_count": 55,
     "metadata": {},
     "output_type": "execute_result"
    },
    {
     "data": {
      "text/plain": [
       "<function next>"
      ]
     },
     "execution_count": 55,
     "metadata": {},
     "output_type": "execute_result"
    },
    {
     "data": {
      "text/plain": [
       "<function next>"
      ]
     },
     "execution_count": 55,
     "metadata": {},
     "output_type": "execute_result"
    },
    {
     "data": {
      "text/plain": [
       "<function next>"
      ]
     },
     "execution_count": 55,
     "metadata": {},
     "output_type": "execute_result"
    },
    {
     "data": {
      "text/plain": [
       "<function next>"
      ]
     },
     "execution_count": 55,
     "metadata": {},
     "output_type": "execute_result"
    },
    {
     "data": {
      "text/plain": [
       "<function next>"
      ]
     },
     "execution_count": 55,
     "metadata": {},
     "output_type": "execute_result"
    },
    {
     "data": {
      "text/plain": [
       "<function next>"
      ]
     },
     "execution_count": 55,
     "metadata": {},
     "output_type": "execute_result"
    },
    {
     "data": {
      "text/plain": [
       "<function next>"
      ]
     },
     "execution_count": 55,
     "metadata": {},
     "output_type": "execute_result"
    },
    {
     "data": {
      "text/plain": [
       "<function next>"
      ]
     },
     "execution_count": 55,
     "metadata": {},
     "output_type": "execute_result"
    },
    {
     "data": {
      "text/plain": [
       "<function next>"
      ]
     },
     "execution_count": 55,
     "metadata": {},
     "output_type": "execute_result"
    },
    {
     "data": {
      "text/plain": [
       "<function next>"
      ]
     },
     "execution_count": 55,
     "metadata": {},
     "output_type": "execute_result"
    },
    {
     "data": {
      "text/plain": [
       "<function next>"
      ]
     },
     "execution_count": 55,
     "metadata": {},
     "output_type": "execute_result"
    },
    {
     "data": {
      "text/plain": [
       "<function next>"
      ]
     },
     "execution_count": 55,
     "metadata": {},
     "output_type": "execute_result"
    },
    {
     "data": {
      "text/plain": [
       "<function next>"
      ]
     },
     "execution_count": 55,
     "metadata": {},
     "output_type": "execute_result"
    },
    {
     "data": {
      "text/plain": [
       "<function next>"
      ]
     },
     "execution_count": 55,
     "metadata": {},
     "output_type": "execute_result"
    },
    {
     "data": {
      "text/plain": [
       "<function next>"
      ]
     },
     "execution_count": 55,
     "metadata": {},
     "output_type": "execute_result"
    },
    {
     "data": {
      "text/plain": [
       "<function next>"
      ]
     },
     "execution_count": 55,
     "metadata": {},
     "output_type": "execute_result"
    },
    {
     "data": {
      "text/plain": [
       "<function next>"
      ]
     },
     "execution_count": 55,
     "metadata": {},
     "output_type": "execute_result"
    },
    {
     "data": {
      "text/plain": [
       "<function next>"
      ]
     },
     "execution_count": 55,
     "metadata": {},
     "output_type": "execute_result"
    },
    {
     "data": {
      "text/plain": [
       "<function next>"
      ]
     },
     "execution_count": 55,
     "metadata": {},
     "output_type": "execute_result"
    },
    {
     "data": {
      "text/plain": [
       "<function next>"
      ]
     },
     "execution_count": 55,
     "metadata": {},
     "output_type": "execute_result"
    },
    {
     "data": {
      "text/plain": [
       "<function next>"
      ]
     },
     "execution_count": 55,
     "metadata": {},
     "output_type": "execute_result"
    },
    {
     "data": {
      "text/plain": [
       "<function next>"
      ]
     },
     "execution_count": 55,
     "metadata": {},
     "output_type": "execute_result"
    },
    {
     "data": {
      "text/plain": [
       "<function next>"
      ]
     },
     "execution_count": 55,
     "metadata": {},
     "output_type": "execute_result"
    },
    {
     "data": {
      "text/plain": [
       "<function next>"
      ]
     },
     "execution_count": 55,
     "metadata": {},
     "output_type": "execute_result"
    },
    {
     "data": {
      "text/plain": [
       "<function next>"
      ]
     },
     "execution_count": 55,
     "metadata": {},
     "output_type": "execute_result"
    },
    {
     "data": {
      "text/plain": [
       "<function next>"
      ]
     },
     "execution_count": 55,
     "metadata": {},
     "output_type": "execute_result"
    },
    {
     "data": {
      "text/plain": [
       "<function next>"
      ]
     },
     "execution_count": 55,
     "metadata": {},
     "output_type": "execute_result"
    },
    {
     "data": {
      "text/plain": [
       "<function next>"
      ]
     },
     "execution_count": 55,
     "metadata": {},
     "output_type": "execute_result"
    },
    {
     "data": {
      "text/plain": [
       "<function next>"
      ]
     },
     "execution_count": 55,
     "metadata": {},
     "output_type": "execute_result"
    },
    {
     "data": {
      "text/plain": [
       "<function next>"
      ]
     },
     "execution_count": 55,
     "metadata": {},
     "output_type": "execute_result"
    },
    {
     "data": {
      "text/plain": [
       "<function next>"
      ]
     },
     "execution_count": 55,
     "metadata": {},
     "output_type": "execute_result"
    },
    {
     "data": {
      "text/plain": [
       "<function next>"
      ]
     },
     "execution_count": 55,
     "metadata": {},
     "output_type": "execute_result"
    },
    {
     "data": {
      "text/plain": [
       "<function next>"
      ]
     },
     "execution_count": 55,
     "metadata": {},
     "output_type": "execute_result"
    },
    {
     "data": {
      "text/plain": [
       "<function next>"
      ]
     },
     "execution_count": 55,
     "metadata": {},
     "output_type": "execute_result"
    },
    {
     "data": {
      "text/plain": [
       "<function next>"
      ]
     },
     "execution_count": 55,
     "metadata": {},
     "output_type": "execute_result"
    },
    {
     "data": {
      "text/plain": [
       "<function next>"
      ]
     },
     "execution_count": 55,
     "metadata": {},
     "output_type": "execute_result"
    },
    {
     "data": {
      "text/plain": [
       "<function next>"
      ]
     },
     "execution_count": 55,
     "metadata": {},
     "output_type": "execute_result"
    },
    {
     "data": {
      "text/plain": [
       "<function next>"
      ]
     },
     "execution_count": 55,
     "metadata": {},
     "output_type": "execute_result"
    },
    {
     "data": {
      "text/plain": [
       "<function next>"
      ]
     },
     "execution_count": 55,
     "metadata": {},
     "output_type": "execute_result"
    },
    {
     "data": {
      "text/plain": [
       "<function next>"
      ]
     },
     "execution_count": 55,
     "metadata": {},
     "output_type": "execute_result"
    },
    {
     "data": {
      "text/plain": [
       "<function next>"
      ]
     },
     "execution_count": 55,
     "metadata": {},
     "output_type": "execute_result"
    },
    {
     "data": {
      "text/plain": [
       "<function next>"
      ]
     },
     "execution_count": 55,
     "metadata": {},
     "output_type": "execute_result"
    },
    {
     "data": {
      "text/plain": [
       "<function next>"
      ]
     },
     "execution_count": 55,
     "metadata": {},
     "output_type": "execute_result"
    },
    {
     "data": {
      "text/plain": [
       "<function next>"
      ]
     },
     "execution_count": 55,
     "metadata": {},
     "output_type": "execute_result"
    },
    {
     "data": {
      "text/plain": [
       "<function next>"
      ]
     },
     "execution_count": 55,
     "metadata": {},
     "output_type": "execute_result"
    },
    {
     "data": {
      "text/plain": [
       "<function next>"
      ]
     },
     "execution_count": 55,
     "metadata": {},
     "output_type": "execute_result"
    },
    {
     "data": {
      "text/plain": [
       "<function next>"
      ]
     },
     "execution_count": 55,
     "metadata": {},
     "output_type": "execute_result"
    },
    {
     "data": {
      "text/plain": [
       "<function next>"
      ]
     },
     "execution_count": 55,
     "metadata": {},
     "output_type": "execute_result"
    },
    {
     "data": {
      "text/plain": [
       "<function next>"
      ]
     },
     "execution_count": 55,
     "metadata": {},
     "output_type": "execute_result"
    },
    {
     "data": {
      "text/plain": [
       "<function next>"
      ]
     },
     "execution_count": 55,
     "metadata": {},
     "output_type": "execute_result"
    },
    {
     "data": {
      "text/plain": [
       "<function next>"
      ]
     },
     "execution_count": 55,
     "metadata": {},
     "output_type": "execute_result"
    },
    {
     "data": {
      "text/plain": [
       "<function next>"
      ]
     },
     "execution_count": 55,
     "metadata": {},
     "output_type": "execute_result"
    },
    {
     "data": {
      "text/plain": [
       "<function next>"
      ]
     },
     "execution_count": 55,
     "metadata": {},
     "output_type": "execute_result"
    },
    {
     "data": {
      "text/plain": [
       "<function next>"
      ]
     },
     "execution_count": 55,
     "metadata": {},
     "output_type": "execute_result"
    },
    {
     "data": {
      "text/plain": [
       "<function next>"
      ]
     },
     "execution_count": 55,
     "metadata": {},
     "output_type": "execute_result"
    },
    {
     "data": {
      "text/plain": [
       "<function next>"
      ]
     },
     "execution_count": 55,
     "metadata": {},
     "output_type": "execute_result"
    },
    {
     "data": {
      "text/plain": [
       "<function next>"
      ]
     },
     "execution_count": 55,
     "metadata": {},
     "output_type": "execute_result"
    },
    {
     "data": {
      "text/plain": [
       "<function next>"
      ]
     },
     "execution_count": 55,
     "metadata": {},
     "output_type": "execute_result"
    },
    {
     "data": {
      "text/plain": [
       "<function next>"
      ]
     },
     "execution_count": 55,
     "metadata": {},
     "output_type": "execute_result"
    },
    {
     "data": {
      "text/plain": [
       "<function next>"
      ]
     },
     "execution_count": 55,
     "metadata": {},
     "output_type": "execute_result"
    },
    {
     "data": {
      "text/plain": [
       "<function next>"
      ]
     },
     "execution_count": 55,
     "metadata": {},
     "output_type": "execute_result"
    },
    {
     "data": {
      "text/plain": [
       "<function next>"
      ]
     },
     "execution_count": 55,
     "metadata": {},
     "output_type": "execute_result"
    },
    {
     "data": {
      "text/plain": [
       "<function next>"
      ]
     },
     "execution_count": 55,
     "metadata": {},
     "output_type": "execute_result"
    },
    {
     "data": {
      "text/plain": [
       "<function next>"
      ]
     },
     "execution_count": 55,
     "metadata": {},
     "output_type": "execute_result"
    },
    {
     "data": {
      "text/plain": [
       "<function next>"
      ]
     },
     "execution_count": 55,
     "metadata": {},
     "output_type": "execute_result"
    },
    {
     "data": {
      "text/plain": [
       "<function next>"
      ]
     },
     "execution_count": 55,
     "metadata": {},
     "output_type": "execute_result"
    },
    {
     "data": {
      "text/plain": [
       "<function next>"
      ]
     },
     "execution_count": 55,
     "metadata": {},
     "output_type": "execute_result"
    },
    {
     "data": {
      "text/plain": [
       "<function next>"
      ]
     },
     "execution_count": 55,
     "metadata": {},
     "output_type": "execute_result"
    },
    {
     "data": {
      "text/plain": [
       "<function next>"
      ]
     },
     "execution_count": 55,
     "metadata": {},
     "output_type": "execute_result"
    },
    {
     "data": {
      "text/plain": [
       "<function next>"
      ]
     },
     "execution_count": 55,
     "metadata": {},
     "output_type": "execute_result"
    },
    {
     "data": {
      "text/plain": [
       "<function next>"
      ]
     },
     "execution_count": 55,
     "metadata": {},
     "output_type": "execute_result"
    },
    {
     "data": {
      "text/plain": [
       "<function next>"
      ]
     },
     "execution_count": 55,
     "metadata": {},
     "output_type": "execute_result"
    },
    {
     "data": {
      "text/plain": [
       "<function next>"
      ]
     },
     "execution_count": 55,
     "metadata": {},
     "output_type": "execute_result"
    },
    {
     "data": {
      "text/plain": [
       "<function next>"
      ]
     },
     "execution_count": 55,
     "metadata": {},
     "output_type": "execute_result"
    },
    {
     "data": {
      "text/plain": [
       "<function next>"
      ]
     },
     "execution_count": 55,
     "metadata": {},
     "output_type": "execute_result"
    },
    {
     "data": {
      "text/plain": [
       "<function next>"
      ]
     },
     "execution_count": 55,
     "metadata": {},
     "output_type": "execute_result"
    },
    {
     "data": {
      "text/plain": [
       "<function next>"
      ]
     },
     "execution_count": 55,
     "metadata": {},
     "output_type": "execute_result"
    },
    {
     "data": {
      "text/plain": [
       "<function next>"
      ]
     },
     "execution_count": 55,
     "metadata": {},
     "output_type": "execute_result"
    },
    {
     "data": {
      "text/plain": [
       "<function next>"
      ]
     },
     "execution_count": 55,
     "metadata": {},
     "output_type": "execute_result"
    },
    {
     "data": {
      "text/plain": [
       "<function next>"
      ]
     },
     "execution_count": 55,
     "metadata": {},
     "output_type": "execute_result"
    },
    {
     "data": {
      "text/plain": [
       "<function next>"
      ]
     },
     "execution_count": 55,
     "metadata": {},
     "output_type": "execute_result"
    },
    {
     "data": {
      "text/plain": [
       "<function next>"
      ]
     },
     "execution_count": 55,
     "metadata": {},
     "output_type": "execute_result"
    },
    {
     "data": {
      "text/plain": [
       "<function next>"
      ]
     },
     "execution_count": 55,
     "metadata": {},
     "output_type": "execute_result"
    },
    {
     "data": {
      "text/plain": [
       "<function next>"
      ]
     },
     "execution_count": 55,
     "metadata": {},
     "output_type": "execute_result"
    },
    {
     "data": {
      "text/plain": [
       "<function next>"
      ]
     },
     "execution_count": 55,
     "metadata": {},
     "output_type": "execute_result"
    },
    {
     "data": {
      "text/plain": [
       "<function next>"
      ]
     },
     "execution_count": 55,
     "metadata": {},
     "output_type": "execute_result"
    },
    {
     "data": {
      "text/plain": [
       "<function next>"
      ]
     },
     "execution_count": 55,
     "metadata": {},
     "output_type": "execute_result"
    },
    {
     "data": {
      "text/plain": [
       "<function next>"
      ]
     },
     "execution_count": 55,
     "metadata": {},
     "output_type": "execute_result"
    },
    {
     "data": {
      "text/plain": [
       "<function next>"
      ]
     },
     "execution_count": 55,
     "metadata": {},
     "output_type": "execute_result"
    },
    {
     "data": {
      "text/plain": [
       "<function next>"
      ]
     },
     "execution_count": 55,
     "metadata": {},
     "output_type": "execute_result"
    },
    {
     "data": {
      "text/plain": [
       "<function next>"
      ]
     },
     "execution_count": 55,
     "metadata": {},
     "output_type": "execute_result"
    },
    {
     "data": {
      "text/plain": [
       "<function next>"
      ]
     },
     "execution_count": 55,
     "metadata": {},
     "output_type": "execute_result"
    },
    {
     "data": {
      "text/plain": [
       "<function next>"
      ]
     },
     "execution_count": 55,
     "metadata": {},
     "output_type": "execute_result"
    },
    {
     "data": {
      "text/plain": [
       "<function next>"
      ]
     },
     "execution_count": 55,
     "metadata": {},
     "output_type": "execute_result"
    },
    {
     "data": {
      "text/plain": [
       "<function next>"
      ]
     },
     "execution_count": 55,
     "metadata": {},
     "output_type": "execute_result"
    },
    {
     "data": {
      "text/plain": [
       "<function next>"
      ]
     },
     "execution_count": 55,
     "metadata": {},
     "output_type": "execute_result"
    },
    {
     "data": {
      "text/plain": [
       "<function next>"
      ]
     },
     "execution_count": 55,
     "metadata": {},
     "output_type": "execute_result"
    },
    {
     "data": {
      "text/plain": [
       "<function next>"
      ]
     },
     "execution_count": 55,
     "metadata": {},
     "output_type": "execute_result"
    },
    {
     "data": {
      "text/plain": [
       "<function next>"
      ]
     },
     "execution_count": 55,
     "metadata": {},
     "output_type": "execute_result"
    },
    {
     "data": {
      "text/plain": [
       "<function next>"
      ]
     },
     "execution_count": 55,
     "metadata": {},
     "output_type": "execute_result"
    }
   ],
   "source": [
    "# 문서추출\n",
    "\n",
    "file_list =  filtered_idx_result_df['file_list'].tolist()\n",
    "temp_idx_result_df = pd.DataFrame()\n",
    "\n",
    "fidx = []\n",
    "didx = []\n",
    "\n",
    "for i in range(len(file_list)):\n",
    "    f = open(file_list[i], 'r',encoding='utf-8',errors=\"ignore\")\n",
    "    doc = f.read() \n",
    "\n",
    "    p = re.compile(word)\n",
    "    ridx = p.search(doc)\n",
    "\n",
    "    if(ridx == None):\n",
    "        next\n",
    "    else:\n",
    "        fidx.append(i)\n",
    "\n",
    "fidx = list(set(fidx))\n",
    "\n",
    "temp_idx_result_df = filtered_idx_result_df.iloc[fidx]\n",
    "temp_idx_result_df = temp_idx_result_df.reset_index(drop=True)\n",
    "\n",
    "file_list =  temp_idx_result_df['file_list'].tolist()\n",
    "\n",
    "corpus = []     \n",
    "for i in range(len(file_list)):\n",
    "    f = open(file_list[i], 'r',encoding='utf-8',errors=\"ignore\")\n",
    "    doc = f.read()\n",
    "    \n",
    "    # 파일 내용 읽어서 코퍼스에 저장\n",
    "    corpus.append(\" \".join(twitter.nouns(doc)))\n",
    "    f.close()\n",
    "\n",
    "# Stop words \n",
    "stop_words = [\"전략\", \"연구\", \"평가\", \"마련\", \"조사\", \"관리\", \"보다\", \"분석\", \"구축\",\"개발\",\"정책\",\"대책\",\n",
    "              \"관련\",\"전문가\",\"예정\",\"이번\",\"환경부\", \"환경\", \"기술\", \"사업\", \"산업\", \"기업\",\"우리나라\", \"또한\",\n",
    "              \"총회\", \"대한\", \"통해\", \"한국\",\"국내\",\"개최\",\"행사\",\"우수\",\"서울\",\"장관\",\"호남권\",\"피해\",\"해외\",\"일자리\",\"박람회\",\n",
    "              \"지원\", \"위해\", \"총회\",\"국제\",\"분야\",\"환경기술\"]\n",
    "\n",
    "stop_words = list(set(stop_words))\n",
    "\n",
    "\n",
    "vect = CountVectorizer(stop_words = stop_words,ngram_range=(1, 2),min_df=0.005,max_df=0.3)\n",
    "\n",
    "X = vect.fit_transform(corpus)\n",
    "\n",
    "count = X.toarray().sum(axis=0)\n",
    "idx = np.argsort(-count)\n",
    "count = count[idx]\n",
    "\n",
    "feature_name = np.array(vect.get_feature_names())[idx]\n",
    "\n",
    "co_word_list = list(zip(feature_name[:num], count[:num]))\n",
    "co_word_list = pd.DataFrame(co_word_list)\n",
    "\n",
    "co_word_list.to_csv(\"./doc_level_cowords/\" + word + \"_cowords\" + \".csv\",encoding=\"UTF8\")"
   ]
  },
  {
   "cell_type": "markdown",
   "metadata": {},
   "source": [
    "## 문서 요약 알고리즘 (TextRank)\n",
    "- 문서양이 많아지고, 문서길이가 속도가 급격하게 느려짐\n",
    "- Cooccurence 행렬의 형태가 단어수*단어수 형태이어서 데이터가 엄청 커질수 있음\n",
    "- 예시로 친환경 키워드가 포함된 제목에 대해서 요약 수행"
   ]
  },
  {
   "cell_type": "code",
   "execution_count": null,
   "metadata": {},
   "outputs": [
    {
     "data": {
      "text/plain": [
       "<function next>"
      ]
     },
     "execution_count": 56,
     "metadata": {},
     "output_type": "execute_result"
    },
    {
     "data": {
      "text/plain": [
       "<function next>"
      ]
     },
     "execution_count": 56,
     "metadata": {},
     "output_type": "execute_result"
    },
    {
     "data": {
      "text/plain": [
       "<function next>"
      ]
     },
     "execution_count": 56,
     "metadata": {},
     "output_type": "execute_result"
    },
    {
     "data": {
      "text/plain": [
       "<function next>"
      ]
     },
     "execution_count": 56,
     "metadata": {},
     "output_type": "execute_result"
    },
    {
     "data": {
      "text/plain": [
       "<function next>"
      ]
     },
     "execution_count": 56,
     "metadata": {},
     "output_type": "execute_result"
    },
    {
     "data": {
      "text/plain": [
       "<function next>"
      ]
     },
     "execution_count": 56,
     "metadata": {},
     "output_type": "execute_result"
    },
    {
     "data": {
      "text/plain": [
       "<function next>"
      ]
     },
     "execution_count": 56,
     "metadata": {},
     "output_type": "execute_result"
    },
    {
     "data": {
      "text/plain": [
       "<function next>"
      ]
     },
     "execution_count": 56,
     "metadata": {},
     "output_type": "execute_result"
    },
    {
     "data": {
      "text/plain": [
       "<function next>"
      ]
     },
     "execution_count": 56,
     "metadata": {},
     "output_type": "execute_result"
    },
    {
     "data": {
      "text/plain": [
       "<function next>"
      ]
     },
     "execution_count": 56,
     "metadata": {},
     "output_type": "execute_result"
    },
    {
     "data": {
      "text/plain": [
       "<function next>"
      ]
     },
     "execution_count": 56,
     "metadata": {},
     "output_type": "execute_result"
    },
    {
     "data": {
      "text/plain": [
       "<function next>"
      ]
     },
     "execution_count": 56,
     "metadata": {},
     "output_type": "execute_result"
    },
    {
     "data": {
      "text/plain": [
       "<function next>"
      ]
     },
     "execution_count": 56,
     "metadata": {},
     "output_type": "execute_result"
    },
    {
     "data": {
      "text/plain": [
       "<function next>"
      ]
     },
     "execution_count": 56,
     "metadata": {},
     "output_type": "execute_result"
    },
    {
     "data": {
      "text/plain": [
       "<function next>"
      ]
     },
     "execution_count": 56,
     "metadata": {},
     "output_type": "execute_result"
    },
    {
     "data": {
      "text/plain": [
       "<function next>"
      ]
     },
     "execution_count": 56,
     "metadata": {},
     "output_type": "execute_result"
    },
    {
     "data": {
      "text/plain": [
       "<function next>"
      ]
     },
     "execution_count": 56,
     "metadata": {},
     "output_type": "execute_result"
    },
    {
     "data": {
      "text/plain": [
       "<function next>"
      ]
     },
     "execution_count": 56,
     "metadata": {},
     "output_type": "execute_result"
    },
    {
     "data": {
      "text/plain": [
       "<function next>"
      ]
     },
     "execution_count": 56,
     "metadata": {},
     "output_type": "execute_result"
    },
    {
     "data": {
      "text/plain": [
       "<function next>"
      ]
     },
     "execution_count": 56,
     "metadata": {},
     "output_type": "execute_result"
    },
    {
     "data": {
      "text/plain": [
       "<function next>"
      ]
     },
     "execution_count": 56,
     "metadata": {},
     "output_type": "execute_result"
    },
    {
     "data": {
      "text/plain": [
       "<function next>"
      ]
     },
     "execution_count": 56,
     "metadata": {},
     "output_type": "execute_result"
    },
    {
     "data": {
      "text/plain": [
       "<function next>"
      ]
     },
     "execution_count": 56,
     "metadata": {},
     "output_type": "execute_result"
    },
    {
     "data": {
      "text/plain": [
       "<function next>"
      ]
     },
     "execution_count": 56,
     "metadata": {},
     "output_type": "execute_result"
    },
    {
     "data": {
      "text/plain": [
       "<function next>"
      ]
     },
     "execution_count": 56,
     "metadata": {},
     "output_type": "execute_result"
    },
    {
     "data": {
      "text/plain": [
       "<function next>"
      ]
     },
     "execution_count": 56,
     "metadata": {},
     "output_type": "execute_result"
    },
    {
     "data": {
      "text/plain": [
       "<function next>"
      ]
     },
     "execution_count": 56,
     "metadata": {},
     "output_type": "execute_result"
    },
    {
     "data": {
      "text/plain": [
       "<function next>"
      ]
     },
     "execution_count": 56,
     "metadata": {},
     "output_type": "execute_result"
    },
    {
     "data": {
      "text/plain": [
       "<function next>"
      ]
     },
     "execution_count": 56,
     "metadata": {},
     "output_type": "execute_result"
    },
    {
     "data": {
      "text/plain": [
       "<function next>"
      ]
     },
     "execution_count": 56,
     "metadata": {},
     "output_type": "execute_result"
    },
    {
     "data": {
      "text/plain": [
       "<function next>"
      ]
     },
     "execution_count": 56,
     "metadata": {},
     "output_type": "execute_result"
    },
    {
     "data": {
      "text/plain": [
       "<function next>"
      ]
     },
     "execution_count": 56,
     "metadata": {},
     "output_type": "execute_result"
    },
    {
     "data": {
      "text/plain": [
       "<function next>"
      ]
     },
     "execution_count": 56,
     "metadata": {},
     "output_type": "execute_result"
    },
    {
     "data": {
      "text/plain": [
       "<function next>"
      ]
     },
     "execution_count": 56,
     "metadata": {},
     "output_type": "execute_result"
    },
    {
     "data": {
      "text/plain": [
       "<function next>"
      ]
     },
     "execution_count": 56,
     "metadata": {},
     "output_type": "execute_result"
    },
    {
     "data": {
      "text/plain": [
       "<function next>"
      ]
     },
     "execution_count": 56,
     "metadata": {},
     "output_type": "execute_result"
    },
    {
     "data": {
      "text/plain": [
       "<function next>"
      ]
     },
     "execution_count": 56,
     "metadata": {},
     "output_type": "execute_result"
    },
    {
     "data": {
      "text/plain": [
       "<function next>"
      ]
     },
     "execution_count": 56,
     "metadata": {},
     "output_type": "execute_result"
    },
    {
     "data": {
      "text/plain": [
       "<function next>"
      ]
     },
     "execution_count": 56,
     "metadata": {},
     "output_type": "execute_result"
    },
    {
     "data": {
      "text/plain": [
       "<function next>"
      ]
     },
     "execution_count": 56,
     "metadata": {},
     "output_type": "execute_result"
    },
    {
     "data": {
      "text/plain": [
       "<function next>"
      ]
     },
     "execution_count": 56,
     "metadata": {},
     "output_type": "execute_result"
    },
    {
     "data": {
      "text/plain": [
       "<function next>"
      ]
     },
     "execution_count": 56,
     "metadata": {},
     "output_type": "execute_result"
    },
    {
     "data": {
      "text/plain": [
       "<function next>"
      ]
     },
     "execution_count": 56,
     "metadata": {},
     "output_type": "execute_result"
    },
    {
     "data": {
      "text/plain": [
       "<function next>"
      ]
     },
     "execution_count": 56,
     "metadata": {},
     "output_type": "execute_result"
    },
    {
     "data": {
      "text/plain": [
       "<function next>"
      ]
     },
     "execution_count": 56,
     "metadata": {},
     "output_type": "execute_result"
    },
    {
     "data": {
      "text/plain": [
       "<function next>"
      ]
     },
     "execution_count": 56,
     "metadata": {},
     "output_type": "execute_result"
    },
    {
     "data": {
      "text/plain": [
       "<function next>"
      ]
     },
     "execution_count": 56,
     "metadata": {},
     "output_type": "execute_result"
    },
    {
     "data": {
      "text/plain": [
       "<function next>"
      ]
     },
     "execution_count": 56,
     "metadata": {},
     "output_type": "execute_result"
    },
    {
     "data": {
      "text/plain": [
       "<function next>"
      ]
     },
     "execution_count": 56,
     "metadata": {},
     "output_type": "execute_result"
    },
    {
     "data": {
      "text/plain": [
       "<function next>"
      ]
     },
     "execution_count": 56,
     "metadata": {},
     "output_type": "execute_result"
    },
    {
     "data": {
      "text/plain": [
       "<function next>"
      ]
     },
     "execution_count": 56,
     "metadata": {},
     "output_type": "execute_result"
    },
    {
     "data": {
      "text/plain": [
       "<function next>"
      ]
     },
     "execution_count": 56,
     "metadata": {},
     "output_type": "execute_result"
    },
    {
     "data": {
      "text/plain": [
       "<function next>"
      ]
     },
     "execution_count": 56,
     "metadata": {},
     "output_type": "execute_result"
    },
    {
     "data": {
      "text/plain": [
       "<function next>"
      ]
     },
     "execution_count": 56,
     "metadata": {},
     "output_type": "execute_result"
    },
    {
     "data": {
      "text/plain": [
       "<function next>"
      ]
     },
     "execution_count": 56,
     "metadata": {},
     "output_type": "execute_result"
    },
    {
     "data": {
      "text/plain": [
       "<function next>"
      ]
     },
     "execution_count": 56,
     "metadata": {},
     "output_type": "execute_result"
    },
    {
     "data": {
      "text/plain": [
       "<function next>"
      ]
     },
     "execution_count": 56,
     "metadata": {},
     "output_type": "execute_result"
    },
    {
     "data": {
      "text/plain": [
       "<function next>"
      ]
     },
     "execution_count": 56,
     "metadata": {},
     "output_type": "execute_result"
    },
    {
     "data": {
      "text/plain": [
       "<function next>"
      ]
     },
     "execution_count": 56,
     "metadata": {},
     "output_type": "execute_result"
    },
    {
     "data": {
      "text/plain": [
       "<function next>"
      ]
     },
     "execution_count": 56,
     "metadata": {},
     "output_type": "execute_result"
    },
    {
     "data": {
      "text/plain": [
       "<function next>"
      ]
     },
     "execution_count": 56,
     "metadata": {},
     "output_type": "execute_result"
    },
    {
     "data": {
      "text/plain": [
       "<function next>"
      ]
     },
     "execution_count": 56,
     "metadata": {},
     "output_type": "execute_result"
    },
    {
     "data": {
      "text/plain": [
       "<function next>"
      ]
     },
     "execution_count": 56,
     "metadata": {},
     "output_type": "execute_result"
    },
    {
     "data": {
      "text/plain": [
       "<function next>"
      ]
     },
     "execution_count": 56,
     "metadata": {},
     "output_type": "execute_result"
    },
    {
     "data": {
      "text/plain": [
       "<function next>"
      ]
     },
     "execution_count": 56,
     "metadata": {},
     "output_type": "execute_result"
    },
    {
     "data": {
      "text/plain": [
       "<function next>"
      ]
     },
     "execution_count": 56,
     "metadata": {},
     "output_type": "execute_result"
    },
    {
     "data": {
      "text/plain": [
       "<function next>"
      ]
     },
     "execution_count": 56,
     "metadata": {},
     "output_type": "execute_result"
    },
    {
     "data": {
      "text/plain": [
       "<function next>"
      ]
     },
     "execution_count": 56,
     "metadata": {},
     "output_type": "execute_result"
    },
    {
     "data": {
      "text/plain": [
       "<function next>"
      ]
     },
     "execution_count": 56,
     "metadata": {},
     "output_type": "execute_result"
    },
    {
     "data": {
      "text/plain": [
       "<function next>"
      ]
     },
     "execution_count": 56,
     "metadata": {},
     "output_type": "execute_result"
    },
    {
     "data": {
      "text/plain": [
       "<function next>"
      ]
     },
     "execution_count": 56,
     "metadata": {},
     "output_type": "execute_result"
    },
    {
     "data": {
      "text/plain": [
       "<function next>"
      ]
     },
     "execution_count": 56,
     "metadata": {},
     "output_type": "execute_result"
    },
    {
     "data": {
      "text/plain": [
       "<function next>"
      ]
     },
     "execution_count": 56,
     "metadata": {},
     "output_type": "execute_result"
    },
    {
     "data": {
      "text/plain": [
       "<function next>"
      ]
     },
     "execution_count": 56,
     "metadata": {},
     "output_type": "execute_result"
    },
    {
     "data": {
      "text/plain": [
       "<function next>"
      ]
     },
     "execution_count": 56,
     "metadata": {},
     "output_type": "execute_result"
    },
    {
     "data": {
      "text/plain": [
       "<function next>"
      ]
     },
     "execution_count": 56,
     "metadata": {},
     "output_type": "execute_result"
    },
    {
     "data": {
      "text/plain": [
       "<function next>"
      ]
     },
     "execution_count": 56,
     "metadata": {},
     "output_type": "execute_result"
    },
    {
     "data": {
      "text/plain": [
       "<function next>"
      ]
     },
     "execution_count": 56,
     "metadata": {},
     "output_type": "execute_result"
    },
    {
     "data": {
      "text/plain": [
       "<function next>"
      ]
     },
     "execution_count": 56,
     "metadata": {},
     "output_type": "execute_result"
    },
    {
     "data": {
      "text/plain": [
       "<function next>"
      ]
     },
     "execution_count": 56,
     "metadata": {},
     "output_type": "execute_result"
    },
    {
     "data": {
      "text/plain": [
       "<function next>"
      ]
     },
     "execution_count": 56,
     "metadata": {},
     "output_type": "execute_result"
    },
    {
     "data": {
      "text/plain": [
       "<function next>"
      ]
     },
     "execution_count": 56,
     "metadata": {},
     "output_type": "execute_result"
    },
    {
     "data": {
      "text/plain": [
       "<function next>"
      ]
     },
     "execution_count": 56,
     "metadata": {},
     "output_type": "execute_result"
    },
    {
     "data": {
      "text/plain": [
       "<function next>"
      ]
     },
     "execution_count": 56,
     "metadata": {},
     "output_type": "execute_result"
    },
    {
     "data": {
      "text/plain": [
       "<function next>"
      ]
     },
     "execution_count": 56,
     "metadata": {},
     "output_type": "execute_result"
    },
    {
     "data": {
      "text/plain": [
       "<function next>"
      ]
     },
     "execution_count": 56,
     "metadata": {},
     "output_type": "execute_result"
    },
    {
     "data": {
      "text/plain": [
       "<function next>"
      ]
     },
     "execution_count": 56,
     "metadata": {},
     "output_type": "execute_result"
    },
    {
     "data": {
      "text/plain": [
       "<function next>"
      ]
     },
     "execution_count": 56,
     "metadata": {},
     "output_type": "execute_result"
    },
    {
     "data": {
      "text/plain": [
       "<function next>"
      ]
     },
     "execution_count": 56,
     "metadata": {},
     "output_type": "execute_result"
    },
    {
     "data": {
      "text/plain": [
       "<function next>"
      ]
     },
     "execution_count": 56,
     "metadata": {},
     "output_type": "execute_result"
    },
    {
     "data": {
      "text/plain": [
       "<function next>"
      ]
     },
     "execution_count": 56,
     "metadata": {},
     "output_type": "execute_result"
    },
    {
     "data": {
      "text/plain": [
       "<function next>"
      ]
     },
     "execution_count": 56,
     "metadata": {},
     "output_type": "execute_result"
    },
    {
     "data": {
      "text/plain": [
       "<function next>"
      ]
     },
     "execution_count": 56,
     "metadata": {},
     "output_type": "execute_result"
    },
    {
     "data": {
      "text/plain": [
       "<function next>"
      ]
     },
     "execution_count": 56,
     "metadata": {},
     "output_type": "execute_result"
    },
    {
     "data": {
      "text/plain": [
       "<function next>"
      ]
     },
     "execution_count": 56,
     "metadata": {},
     "output_type": "execute_result"
    },
    {
     "data": {
      "text/plain": [
       "<function next>"
      ]
     },
     "execution_count": 56,
     "metadata": {},
     "output_type": "execute_result"
    },
    {
     "data": {
      "text/plain": [
       "<function next>"
      ]
     },
     "execution_count": 56,
     "metadata": {},
     "output_type": "execute_result"
    },
    {
     "data": {
      "text/plain": [
       "<function next>"
      ]
     },
     "execution_count": 56,
     "metadata": {},
     "output_type": "execute_result"
    },
    {
     "data": {
      "text/plain": [
       "<function next>"
      ]
     },
     "execution_count": 56,
     "metadata": {},
     "output_type": "execute_result"
    },
    {
     "data": {
      "text/plain": [
       "<function next>"
      ]
     },
     "execution_count": 56,
     "metadata": {},
     "output_type": "execute_result"
    },
    {
     "data": {
      "text/plain": [
       "<function next>"
      ]
     },
     "execution_count": 56,
     "metadata": {},
     "output_type": "execute_result"
    },
    {
     "data": {
      "text/plain": [
       "<function next>"
      ]
     },
     "execution_count": 56,
     "metadata": {},
     "output_type": "execute_result"
    },
    {
     "data": {
      "text/plain": [
       "<function next>"
      ]
     },
     "execution_count": 56,
     "metadata": {},
     "output_type": "execute_result"
    },
    {
     "data": {
      "text/plain": [
       "<function next>"
      ]
     },
     "execution_count": 56,
     "metadata": {},
     "output_type": "execute_result"
    },
    {
     "data": {
      "text/plain": [
       "<function next>"
      ]
     },
     "execution_count": 56,
     "metadata": {},
     "output_type": "execute_result"
    },
    {
     "data": {
      "text/plain": [
       "<function next>"
      ]
     },
     "execution_count": 56,
     "metadata": {},
     "output_type": "execute_result"
    },
    {
     "data": {
      "text/plain": [
       "<function next>"
      ]
     },
     "execution_count": 56,
     "metadata": {},
     "output_type": "execute_result"
    },
    {
     "data": {
      "text/plain": [
       "<function next>"
      ]
     },
     "execution_count": 56,
     "metadata": {},
     "output_type": "execute_result"
    },
    {
     "data": {
      "text/plain": [
       "<function next>"
      ]
     },
     "execution_count": 56,
     "metadata": {},
     "output_type": "execute_result"
    },
    {
     "data": {
      "text/plain": [
       "<function next>"
      ]
     },
     "execution_count": 56,
     "metadata": {},
     "output_type": "execute_result"
    },
    {
     "data": {
      "text/plain": [
       "<function next>"
      ]
     },
     "execution_count": 56,
     "metadata": {},
     "output_type": "execute_result"
    },
    {
     "data": {
      "text/plain": [
       "<function next>"
      ]
     },
     "execution_count": 56,
     "metadata": {},
     "output_type": "execute_result"
    },
    {
     "data": {
      "text/plain": [
       "<function next>"
      ]
     },
     "execution_count": 56,
     "metadata": {},
     "output_type": "execute_result"
    },
    {
     "data": {
      "text/plain": [
       "<function next>"
      ]
     },
     "execution_count": 56,
     "metadata": {},
     "output_type": "execute_result"
    },
    {
     "data": {
      "text/plain": [
       "<function next>"
      ]
     },
     "execution_count": 56,
     "metadata": {},
     "output_type": "execute_result"
    },
    {
     "data": {
      "text/plain": [
       "<function next>"
      ]
     },
     "execution_count": 56,
     "metadata": {},
     "output_type": "execute_result"
    },
    {
     "data": {
      "text/plain": [
       "<function next>"
      ]
     },
     "execution_count": 56,
     "metadata": {},
     "output_type": "execute_result"
    },
    {
     "data": {
      "text/plain": [
       "<function next>"
      ]
     },
     "execution_count": 56,
     "metadata": {},
     "output_type": "execute_result"
    },
    {
     "data": {
      "text/plain": [
       "<function next>"
      ]
     },
     "execution_count": 56,
     "metadata": {},
     "output_type": "execute_result"
    },
    {
     "data": {
      "text/plain": [
       "<function next>"
      ]
     },
     "execution_count": 56,
     "metadata": {},
     "output_type": "execute_result"
    },
    {
     "data": {
      "text/plain": [
       "<function next>"
      ]
     },
     "execution_count": 56,
     "metadata": {},
     "output_type": "execute_result"
    },
    {
     "data": {
      "text/plain": [
       "<function next>"
      ]
     },
     "execution_count": 56,
     "metadata": {},
     "output_type": "execute_result"
    },
    {
     "data": {
      "text/plain": [
       "<function next>"
      ]
     },
     "execution_count": 56,
     "metadata": {},
     "output_type": "execute_result"
    },
    {
     "data": {
      "text/plain": [
       "<function next>"
      ]
     },
     "execution_count": 56,
     "metadata": {},
     "output_type": "execute_result"
    },
    {
     "data": {
      "text/plain": [
       "<function next>"
      ]
     },
     "execution_count": 56,
     "metadata": {},
     "output_type": "execute_result"
    },
    {
     "data": {
      "text/plain": [
       "<function next>"
      ]
     },
     "execution_count": 56,
     "metadata": {},
     "output_type": "execute_result"
    },
    {
     "data": {
      "text/plain": [
       "<function next>"
      ]
     },
     "execution_count": 56,
     "metadata": {},
     "output_type": "execute_result"
    },
    {
     "data": {
      "text/plain": [
       "<function next>"
      ]
     },
     "execution_count": 56,
     "metadata": {},
     "output_type": "execute_result"
    },
    {
     "data": {
      "text/plain": [
       "<function next>"
      ]
     },
     "execution_count": 56,
     "metadata": {},
     "output_type": "execute_result"
    },
    {
     "data": {
      "text/plain": [
       "<function next>"
      ]
     },
     "execution_count": 56,
     "metadata": {},
     "output_type": "execute_result"
    },
    {
     "data": {
      "text/plain": [
       "<function next>"
      ]
     },
     "execution_count": 56,
     "metadata": {},
     "output_type": "execute_result"
    },
    {
     "data": {
      "text/plain": [
       "<function next>"
      ]
     },
     "execution_count": 56,
     "metadata": {},
     "output_type": "execute_result"
    },
    {
     "data": {
      "text/plain": [
       "<function next>"
      ]
     },
     "execution_count": 56,
     "metadata": {},
     "output_type": "execute_result"
    },
    {
     "data": {
      "text/plain": [
       "<function next>"
      ]
     },
     "execution_count": 56,
     "metadata": {},
     "output_type": "execute_result"
    },
    {
     "data": {
      "text/plain": [
       "<function next>"
      ]
     },
     "execution_count": 56,
     "metadata": {},
     "output_type": "execute_result"
    },
    {
     "data": {
      "text/plain": [
       "<function next>"
      ]
     },
     "execution_count": 56,
     "metadata": {},
     "output_type": "execute_result"
    },
    {
     "data": {
      "text/plain": [
       "<function next>"
      ]
     },
     "execution_count": 56,
     "metadata": {},
     "output_type": "execute_result"
    },
    {
     "data": {
      "text/plain": [
       "<function next>"
      ]
     },
     "execution_count": 56,
     "metadata": {},
     "output_type": "execute_result"
    },
    {
     "data": {
      "text/plain": [
       "<function next>"
      ]
     },
     "execution_count": 56,
     "metadata": {},
     "output_type": "execute_result"
    },
    {
     "data": {
      "text/plain": [
       "<function next>"
      ]
     },
     "execution_count": 56,
     "metadata": {},
     "output_type": "execute_result"
    },
    {
     "data": {
      "text/plain": [
       "<function next>"
      ]
     },
     "execution_count": 56,
     "metadata": {},
     "output_type": "execute_result"
    },
    {
     "data": {
      "text/plain": [
       "<function next>"
      ]
     },
     "execution_count": 56,
     "metadata": {},
     "output_type": "execute_result"
    },
    {
     "data": {
      "text/plain": [
       "<function next>"
      ]
     },
     "execution_count": 56,
     "metadata": {},
     "output_type": "execute_result"
    },
    {
     "data": {
      "text/plain": [
       "<function next>"
      ]
     },
     "execution_count": 56,
     "metadata": {},
     "output_type": "execute_result"
    },
    {
     "data": {
      "text/plain": [
       "<function next>"
      ]
     },
     "execution_count": 56,
     "metadata": {},
     "output_type": "execute_result"
    },
    {
     "data": {
      "text/plain": [
       "<function next>"
      ]
     },
     "execution_count": 56,
     "metadata": {},
     "output_type": "execute_result"
    },
    {
     "data": {
      "text/plain": [
       "<function next>"
      ]
     },
     "execution_count": 56,
     "metadata": {},
     "output_type": "execute_result"
    },
    {
     "data": {
      "text/plain": [
       "<function next>"
      ]
     },
     "execution_count": 56,
     "metadata": {},
     "output_type": "execute_result"
    },
    {
     "data": {
      "text/plain": [
       "<function next>"
      ]
     },
     "execution_count": 56,
     "metadata": {},
     "output_type": "execute_result"
    },
    {
     "data": {
      "text/plain": [
       "<function next>"
      ]
     },
     "execution_count": 56,
     "metadata": {},
     "output_type": "execute_result"
    },
    {
     "data": {
      "text/plain": [
       "<function next>"
      ]
     },
     "execution_count": 56,
     "metadata": {},
     "output_type": "execute_result"
    },
    {
     "data": {
      "text/plain": [
       "<function next>"
      ]
     },
     "execution_count": 56,
     "metadata": {},
     "output_type": "execute_result"
    },
    {
     "data": {
      "text/plain": [
       "<function next>"
      ]
     },
     "execution_count": 56,
     "metadata": {},
     "output_type": "execute_result"
    },
    {
     "data": {
      "text/plain": [
       "<function next>"
      ]
     },
     "execution_count": 56,
     "metadata": {},
     "output_type": "execute_result"
    },
    {
     "data": {
      "text/plain": [
       "<function next>"
      ]
     },
     "execution_count": 56,
     "metadata": {},
     "output_type": "execute_result"
    },
    {
     "data": {
      "text/plain": [
       "<function next>"
      ]
     },
     "execution_count": 56,
     "metadata": {},
     "output_type": "execute_result"
    },
    {
     "data": {
      "text/plain": [
       "<function next>"
      ]
     },
     "execution_count": 56,
     "metadata": {},
     "output_type": "execute_result"
    },
    {
     "data": {
      "text/plain": [
       "<function next>"
      ]
     },
     "execution_count": 56,
     "metadata": {},
     "output_type": "execute_result"
    },
    {
     "data": {
      "text/plain": [
       "<function next>"
      ]
     },
     "execution_count": 56,
     "metadata": {},
     "output_type": "execute_result"
    },
    {
     "data": {
      "text/plain": [
       "<function next>"
      ]
     },
     "execution_count": 56,
     "metadata": {},
     "output_type": "execute_result"
    },
    {
     "data": {
      "text/plain": [
       "<function next>"
      ]
     },
     "execution_count": 56,
     "metadata": {},
     "output_type": "execute_result"
    },
    {
     "data": {
      "text/plain": [
       "<function next>"
      ]
     },
     "execution_count": 56,
     "metadata": {},
     "output_type": "execute_result"
    },
    {
     "data": {
      "text/plain": [
       "<function next>"
      ]
     },
     "execution_count": 56,
     "metadata": {},
     "output_type": "execute_result"
    },
    {
     "data": {
      "text/plain": [
       "<function next>"
      ]
     },
     "execution_count": 56,
     "metadata": {},
     "output_type": "execute_result"
    },
    {
     "data": {
      "text/plain": [
       "<function next>"
      ]
     },
     "execution_count": 56,
     "metadata": {},
     "output_type": "execute_result"
    },
    {
     "data": {
      "text/plain": [
       "<function next>"
      ]
     },
     "execution_count": 56,
     "metadata": {},
     "output_type": "execute_result"
    },
    {
     "data": {
      "text/plain": [
       "<function next>"
      ]
     },
     "execution_count": 56,
     "metadata": {},
     "output_type": "execute_result"
    },
    {
     "data": {
      "text/plain": [
       "<function next>"
      ]
     },
     "execution_count": 56,
     "metadata": {},
     "output_type": "execute_result"
    },
    {
     "data": {
      "text/plain": [
       "<function next>"
      ]
     },
     "execution_count": 56,
     "metadata": {},
     "output_type": "execute_result"
    },
    {
     "data": {
      "text/plain": [
       "<function next>"
      ]
     },
     "execution_count": 56,
     "metadata": {},
     "output_type": "execute_result"
    },
    {
     "data": {
      "text/plain": [
       "<function next>"
      ]
     },
     "execution_count": 56,
     "metadata": {},
     "output_type": "execute_result"
    },
    {
     "data": {
      "text/plain": [
       "<function next>"
      ]
     },
     "execution_count": 56,
     "metadata": {},
     "output_type": "execute_result"
    },
    {
     "data": {
      "text/plain": [
       "<function next>"
      ]
     },
     "execution_count": 56,
     "metadata": {},
     "output_type": "execute_result"
    },
    {
     "data": {
      "text/plain": [
       "<function next>"
      ]
     },
     "execution_count": 56,
     "metadata": {},
     "output_type": "execute_result"
    },
    {
     "data": {
      "text/plain": [
       "<function next>"
      ]
     },
     "execution_count": 56,
     "metadata": {},
     "output_type": "execute_result"
    },
    {
     "data": {
      "text/plain": [
       "<function next>"
      ]
     },
     "execution_count": 56,
     "metadata": {},
     "output_type": "execute_result"
    },
    {
     "data": {
      "text/plain": [
       "<function next>"
      ]
     },
     "execution_count": 56,
     "metadata": {},
     "output_type": "execute_result"
    },
    {
     "data": {
      "text/plain": [
       "<function next>"
      ]
     },
     "execution_count": 56,
     "metadata": {},
     "output_type": "execute_result"
    },
    {
     "data": {
      "text/plain": [
       "<function next>"
      ]
     },
     "execution_count": 56,
     "metadata": {},
     "output_type": "execute_result"
    },
    {
     "data": {
      "text/plain": [
       "<function next>"
      ]
     },
     "execution_count": 56,
     "metadata": {},
     "output_type": "execute_result"
    },
    {
     "data": {
      "text/plain": [
       "<function next>"
      ]
     },
     "execution_count": 56,
     "metadata": {},
     "output_type": "execute_result"
    },
    {
     "data": {
      "text/plain": [
       "<function next>"
      ]
     },
     "execution_count": 56,
     "metadata": {},
     "output_type": "execute_result"
    },
    {
     "data": {
      "text/plain": [
       "<function next>"
      ]
     },
     "execution_count": 56,
     "metadata": {},
     "output_type": "execute_result"
    },
    {
     "data": {
      "text/plain": [
       "<function next>"
      ]
     },
     "execution_count": 56,
     "metadata": {},
     "output_type": "execute_result"
    },
    {
     "data": {
      "text/plain": [
       "<function next>"
      ]
     },
     "execution_count": 56,
     "metadata": {},
     "output_type": "execute_result"
    },
    {
     "data": {
      "text/plain": [
       "<function next>"
      ]
     },
     "execution_count": 56,
     "metadata": {},
     "output_type": "execute_result"
    },
    {
     "data": {
      "text/plain": [
       "<function next>"
      ]
     },
     "execution_count": 56,
     "metadata": {},
     "output_type": "execute_result"
    },
    {
     "data": {
      "text/plain": [
       "<function next>"
      ]
     },
     "execution_count": 56,
     "metadata": {},
     "output_type": "execute_result"
    },
    {
     "data": {
      "text/plain": [
       "<function next>"
      ]
     },
     "execution_count": 56,
     "metadata": {},
     "output_type": "execute_result"
    },
    {
     "data": {
      "text/plain": [
       "<function next>"
      ]
     },
     "execution_count": 56,
     "metadata": {},
     "output_type": "execute_result"
    },
    {
     "data": {
      "text/plain": [
       "<function next>"
      ]
     },
     "execution_count": 56,
     "metadata": {},
     "output_type": "execute_result"
    },
    {
     "data": {
      "text/plain": [
       "<function next>"
      ]
     },
     "execution_count": 56,
     "metadata": {},
     "output_type": "execute_result"
    },
    {
     "data": {
      "text/plain": [
       "<function next>"
      ]
     },
     "execution_count": 56,
     "metadata": {},
     "output_type": "execute_result"
    },
    {
     "data": {
      "text/plain": [
       "<function next>"
      ]
     },
     "execution_count": 56,
     "metadata": {},
     "output_type": "execute_result"
    },
    {
     "data": {
      "text/plain": [
       "<function next>"
      ]
     },
     "execution_count": 56,
     "metadata": {},
     "output_type": "execute_result"
    },
    {
     "data": {
      "text/plain": [
       "<function next>"
      ]
     },
     "execution_count": 56,
     "metadata": {},
     "output_type": "execute_result"
    },
    {
     "data": {
      "text/plain": [
       "<function next>"
      ]
     },
     "execution_count": 56,
     "metadata": {},
     "output_type": "execute_result"
    },
    {
     "data": {
      "text/plain": [
       "<function next>"
      ]
     },
     "execution_count": 56,
     "metadata": {},
     "output_type": "execute_result"
    },
    {
     "data": {
      "text/plain": [
       "<function next>"
      ]
     },
     "execution_count": 56,
     "metadata": {},
     "output_type": "execute_result"
    },
    {
     "data": {
      "text/plain": [
       "<function next>"
      ]
     },
     "execution_count": 56,
     "metadata": {},
     "output_type": "execute_result"
    },
    {
     "data": {
      "text/plain": [
       "<function next>"
      ]
     },
     "execution_count": 56,
     "metadata": {},
     "output_type": "execute_result"
    },
    {
     "data": {
      "text/plain": [
       "<function next>"
      ]
     },
     "execution_count": 56,
     "metadata": {},
     "output_type": "execute_result"
    },
    {
     "data": {
      "text/plain": [
       "<function next>"
      ]
     },
     "execution_count": 56,
     "metadata": {},
     "output_type": "execute_result"
    },
    {
     "data": {
      "text/plain": [
       "<function next>"
      ]
     },
     "execution_count": 56,
     "metadata": {},
     "output_type": "execute_result"
    },
    {
     "data": {
      "text/plain": [
       "<function next>"
      ]
     },
     "execution_count": 56,
     "metadata": {},
     "output_type": "execute_result"
    },
    {
     "data": {
      "text/plain": [
       "<function next>"
      ]
     },
     "execution_count": 56,
     "metadata": {},
     "output_type": "execute_result"
    },
    {
     "data": {
      "text/plain": [
       "<function next>"
      ]
     },
     "execution_count": 56,
     "metadata": {},
     "output_type": "execute_result"
    },
    {
     "data": {
      "text/plain": [
       "<function next>"
      ]
     },
     "execution_count": 56,
     "metadata": {},
     "output_type": "execute_result"
    },
    {
     "data": {
      "text/plain": [
       "<function next>"
      ]
     },
     "execution_count": 56,
     "metadata": {},
     "output_type": "execute_result"
    },
    {
     "data": {
      "text/plain": [
       "<function next>"
      ]
     },
     "execution_count": 56,
     "metadata": {},
     "output_type": "execute_result"
    },
    {
     "data": {
      "text/plain": [
       "<function next>"
      ]
     },
     "execution_count": 56,
     "metadata": {},
     "output_type": "execute_result"
    },
    {
     "data": {
      "text/plain": [
       "<function next>"
      ]
     },
     "execution_count": 56,
     "metadata": {},
     "output_type": "execute_result"
    },
    {
     "data": {
      "text/plain": [
       "<function next>"
      ]
     },
     "execution_count": 56,
     "metadata": {},
     "output_type": "execute_result"
    },
    {
     "data": {
      "text/plain": [
       "<function next>"
      ]
     },
     "execution_count": 56,
     "metadata": {},
     "output_type": "execute_result"
    },
    {
     "data": {
      "text/plain": [
       "<function next>"
      ]
     },
     "execution_count": 56,
     "metadata": {},
     "output_type": "execute_result"
    },
    {
     "data": {
      "text/plain": [
       "<function next>"
      ]
     },
     "execution_count": 56,
     "metadata": {},
     "output_type": "execute_result"
    },
    {
     "data": {
      "text/plain": [
       "<function next>"
      ]
     },
     "execution_count": 56,
     "metadata": {},
     "output_type": "execute_result"
    },
    {
     "data": {
      "text/plain": [
       "<function next>"
      ]
     },
     "execution_count": 56,
     "metadata": {},
     "output_type": "execute_result"
    },
    {
     "data": {
      "text/plain": [
       "<function next>"
      ]
     },
     "execution_count": 56,
     "metadata": {},
     "output_type": "execute_result"
    },
    {
     "data": {
      "text/plain": [
       "<function next>"
      ]
     },
     "execution_count": 56,
     "metadata": {},
     "output_type": "execute_result"
    },
    {
     "data": {
      "text/plain": [
       "<function next>"
      ]
     },
     "execution_count": 56,
     "metadata": {},
     "output_type": "execute_result"
    },
    {
     "data": {
      "text/plain": [
       "<function next>"
      ]
     },
     "execution_count": 56,
     "metadata": {},
     "output_type": "execute_result"
    },
    {
     "data": {
      "text/plain": [
       "<function next>"
      ]
     },
     "execution_count": 56,
     "metadata": {},
     "output_type": "execute_result"
    },
    {
     "data": {
      "text/plain": [
       "<function next>"
      ]
     },
     "execution_count": 56,
     "metadata": {},
     "output_type": "execute_result"
    },
    {
     "data": {
      "text/plain": [
       "<function next>"
      ]
     },
     "execution_count": 56,
     "metadata": {},
     "output_type": "execute_result"
    },
    {
     "data": {
      "text/plain": [
       "<function next>"
      ]
     },
     "execution_count": 56,
     "metadata": {},
     "output_type": "execute_result"
    },
    {
     "data": {
      "text/plain": [
       "<function next>"
      ]
     },
     "execution_count": 56,
     "metadata": {},
     "output_type": "execute_result"
    },
    {
     "data": {
      "text/plain": [
       "<function next>"
      ]
     },
     "execution_count": 56,
     "metadata": {},
     "output_type": "execute_result"
    },
    {
     "data": {
      "text/plain": [
       "<function next>"
      ]
     },
     "execution_count": 56,
     "metadata": {},
     "output_type": "execute_result"
    },
    {
     "data": {
      "text/plain": [
       "<function next>"
      ]
     },
     "execution_count": 56,
     "metadata": {},
     "output_type": "execute_result"
    },
    {
     "data": {
      "text/plain": [
       "<function next>"
      ]
     },
     "execution_count": 56,
     "metadata": {},
     "output_type": "execute_result"
    },
    {
     "data": {
      "text/plain": [
       "<function next>"
      ]
     },
     "execution_count": 56,
     "metadata": {},
     "output_type": "execute_result"
    },
    {
     "data": {
      "text/plain": [
       "<function next>"
      ]
     },
     "execution_count": 56,
     "metadata": {},
     "output_type": "execute_result"
    },
    {
     "data": {
      "text/plain": [
       "<function next>"
      ]
     },
     "execution_count": 56,
     "metadata": {},
     "output_type": "execute_result"
    },
    {
     "data": {
      "text/plain": [
       "<function next>"
      ]
     },
     "execution_count": 56,
     "metadata": {},
     "output_type": "execute_result"
    },
    {
     "data": {
      "text/plain": [
       "<function next>"
      ]
     },
     "execution_count": 56,
     "metadata": {},
     "output_type": "execute_result"
    },
    {
     "data": {
      "text/plain": [
       "<function next>"
      ]
     },
     "execution_count": 56,
     "metadata": {},
     "output_type": "execute_result"
    },
    {
     "data": {
      "text/plain": [
       "<function next>"
      ]
     },
     "execution_count": 56,
     "metadata": {},
     "output_type": "execute_result"
    },
    {
     "data": {
      "text/plain": [
       "<function next>"
      ]
     },
     "execution_count": 56,
     "metadata": {},
     "output_type": "execute_result"
    },
    {
     "data": {
      "text/plain": [
       "<function next>"
      ]
     },
     "execution_count": 56,
     "metadata": {},
     "output_type": "execute_result"
    },
    {
     "data": {
      "text/plain": [
       "<function next>"
      ]
     },
     "execution_count": 56,
     "metadata": {},
     "output_type": "execute_result"
    },
    {
     "data": {
      "text/plain": [
       "<function next>"
      ]
     },
     "execution_count": 56,
     "metadata": {},
     "output_type": "execute_result"
    },
    {
     "data": {
      "text/plain": [
       "<function next>"
      ]
     },
     "execution_count": 56,
     "metadata": {},
     "output_type": "execute_result"
    },
    {
     "data": {
      "text/plain": [
       "<function next>"
      ]
     },
     "execution_count": 56,
     "metadata": {},
     "output_type": "execute_result"
    },
    {
     "data": {
      "text/plain": [
       "<function next>"
      ]
     },
     "execution_count": 56,
     "metadata": {},
     "output_type": "execute_result"
    },
    {
     "data": {
      "text/plain": [
       "<function next>"
      ]
     },
     "execution_count": 56,
     "metadata": {},
     "output_type": "execute_result"
    },
    {
     "data": {
      "text/plain": [
       "<function next>"
      ]
     },
     "execution_count": 56,
     "metadata": {},
     "output_type": "execute_result"
    },
    {
     "data": {
      "text/plain": [
       "<function next>"
      ]
     },
     "execution_count": 56,
     "metadata": {},
     "output_type": "execute_result"
    },
    {
     "data": {
      "text/plain": [
       "<function next>"
      ]
     },
     "execution_count": 56,
     "metadata": {},
     "output_type": "execute_result"
    },
    {
     "data": {
      "text/plain": [
       "<function next>"
      ]
     },
     "execution_count": 56,
     "metadata": {},
     "output_type": "execute_result"
    },
    {
     "data": {
      "text/plain": [
       "<function next>"
      ]
     },
     "execution_count": 56,
     "metadata": {},
     "output_type": "execute_result"
    },
    {
     "data": {
      "text/plain": [
       "<function next>"
      ]
     },
     "execution_count": 56,
     "metadata": {},
     "output_type": "execute_result"
    },
    {
     "data": {
      "text/plain": [
       "<function next>"
      ]
     },
     "execution_count": 56,
     "metadata": {},
     "output_type": "execute_result"
    },
    {
     "data": {
      "text/plain": [
       "<function next>"
      ]
     },
     "execution_count": 56,
     "metadata": {},
     "output_type": "execute_result"
    },
    {
     "data": {
      "text/plain": [
       "<function next>"
      ]
     },
     "execution_count": 56,
     "metadata": {},
     "output_type": "execute_result"
    },
    {
     "data": {
      "text/plain": [
       "<function next>"
      ]
     },
     "execution_count": 56,
     "metadata": {},
     "output_type": "execute_result"
    },
    {
     "data": {
      "text/plain": [
       "<function next>"
      ]
     },
     "execution_count": 56,
     "metadata": {},
     "output_type": "execute_result"
    },
    {
     "data": {
      "text/plain": [
       "<function next>"
      ]
     },
     "execution_count": 56,
     "metadata": {},
     "output_type": "execute_result"
    },
    {
     "data": {
      "text/plain": [
       "<function next>"
      ]
     },
     "execution_count": 56,
     "metadata": {},
     "output_type": "execute_result"
    },
    {
     "data": {
      "text/plain": [
       "<function next>"
      ]
     },
     "execution_count": 56,
     "metadata": {},
     "output_type": "execute_result"
    },
    {
     "data": {
      "text/plain": [
       "<function next>"
      ]
     },
     "execution_count": 56,
     "metadata": {},
     "output_type": "execute_result"
    },
    {
     "data": {
      "text/plain": [
       "<function next>"
      ]
     },
     "execution_count": 56,
     "metadata": {},
     "output_type": "execute_result"
    },
    {
     "data": {
      "text/plain": [
       "<function next>"
      ]
     },
     "execution_count": 56,
     "metadata": {},
     "output_type": "execute_result"
    },
    {
     "data": {
      "text/plain": [
       "<function next>"
      ]
     },
     "execution_count": 56,
     "metadata": {},
     "output_type": "execute_result"
    },
    {
     "data": {
      "text/plain": [
       "<function next>"
      ]
     },
     "execution_count": 56,
     "metadata": {},
     "output_type": "execute_result"
    },
    {
     "data": {
      "text/plain": [
       "<function next>"
      ]
     },
     "execution_count": 56,
     "metadata": {},
     "output_type": "execute_result"
    },
    {
     "data": {
      "text/plain": [
       "<function next>"
      ]
     },
     "execution_count": 56,
     "metadata": {},
     "output_type": "execute_result"
    },
    {
     "data": {
      "text/plain": [
       "<function next>"
      ]
     },
     "execution_count": 56,
     "metadata": {},
     "output_type": "execute_result"
    },
    {
     "data": {
      "text/plain": [
       "<function next>"
      ]
     },
     "execution_count": 56,
     "metadata": {},
     "output_type": "execute_result"
    },
    {
     "data": {
      "text/plain": [
       "<function next>"
      ]
     },
     "execution_count": 56,
     "metadata": {},
     "output_type": "execute_result"
    },
    {
     "data": {
      "text/plain": [
       "<function next>"
      ]
     },
     "execution_count": 56,
     "metadata": {},
     "output_type": "execute_result"
    },
    {
     "data": {
      "text/plain": [
       "<function next>"
      ]
     },
     "execution_count": 56,
     "metadata": {},
     "output_type": "execute_result"
    },
    {
     "data": {
      "text/plain": [
       "<function next>"
      ]
     },
     "execution_count": 56,
     "metadata": {},
     "output_type": "execute_result"
    },
    {
     "data": {
      "text/plain": [
       "<function next>"
      ]
     },
     "execution_count": 56,
     "metadata": {},
     "output_type": "execute_result"
    },
    {
     "data": {
      "text/plain": [
       "<function next>"
      ]
     },
     "execution_count": 56,
     "metadata": {},
     "output_type": "execute_result"
    },
    {
     "data": {
      "text/plain": [
       "<function next>"
      ]
     },
     "execution_count": 56,
     "metadata": {},
     "output_type": "execute_result"
    },
    {
     "data": {
      "text/plain": [
       "<function next>"
      ]
     },
     "execution_count": 56,
     "metadata": {},
     "output_type": "execute_result"
    },
    {
     "data": {
      "text/plain": [
       "<function next>"
      ]
     },
     "execution_count": 56,
     "metadata": {},
     "output_type": "execute_result"
    },
    {
     "data": {
      "text/plain": [
       "<function next>"
      ]
     },
     "execution_count": 56,
     "metadata": {},
     "output_type": "execute_result"
    },
    {
     "data": {
      "text/plain": [
       "<function next>"
      ]
     },
     "execution_count": 56,
     "metadata": {},
     "output_type": "execute_result"
    },
    {
     "data": {
      "text/plain": [
       "<function next>"
      ]
     },
     "execution_count": 56,
     "metadata": {},
     "output_type": "execute_result"
    },
    {
     "data": {
      "text/plain": [
       "<function next>"
      ]
     },
     "execution_count": 56,
     "metadata": {},
     "output_type": "execute_result"
    },
    {
     "data": {
      "text/plain": [
       "<function next>"
      ]
     },
     "execution_count": 56,
     "metadata": {},
     "output_type": "execute_result"
    },
    {
     "data": {
      "text/plain": [
       "<function next>"
      ]
     },
     "execution_count": 56,
     "metadata": {},
     "output_type": "execute_result"
    },
    {
     "data": {
      "text/plain": [
       "<function next>"
      ]
     },
     "execution_count": 56,
     "metadata": {},
     "output_type": "execute_result"
    },
    {
     "data": {
      "text/plain": [
       "<function next>"
      ]
     },
     "execution_count": 56,
     "metadata": {},
     "output_type": "execute_result"
    },
    {
     "data": {
      "text/plain": [
       "<function next>"
      ]
     },
     "execution_count": 56,
     "metadata": {},
     "output_type": "execute_result"
    },
    {
     "data": {
      "text/plain": [
       "<function next>"
      ]
     },
     "execution_count": 56,
     "metadata": {},
     "output_type": "execute_result"
    },
    {
     "data": {
      "text/plain": [
       "<function next>"
      ]
     },
     "execution_count": 56,
     "metadata": {},
     "output_type": "execute_result"
    },
    {
     "data": {
      "text/plain": [
       "<function next>"
      ]
     },
     "execution_count": 56,
     "metadata": {},
     "output_type": "execute_result"
    },
    {
     "data": {
      "text/plain": [
       "<function next>"
      ]
     },
     "execution_count": 56,
     "metadata": {},
     "output_type": "execute_result"
    },
    {
     "data": {
      "text/plain": [
       "<function next>"
      ]
     },
     "execution_count": 56,
     "metadata": {},
     "output_type": "execute_result"
    },
    {
     "data": {
      "text/plain": [
       "<function next>"
      ]
     },
     "execution_count": 56,
     "metadata": {},
     "output_type": "execute_result"
    },
    {
     "data": {
      "text/plain": [
       "<function next>"
      ]
     },
     "execution_count": 56,
     "metadata": {},
     "output_type": "execute_result"
    },
    {
     "data": {
      "text/plain": [
       "<function next>"
      ]
     },
     "execution_count": 56,
     "metadata": {},
     "output_type": "execute_result"
    },
    {
     "data": {
      "text/plain": [
       "<function next>"
      ]
     },
     "execution_count": 56,
     "metadata": {},
     "output_type": "execute_result"
    },
    {
     "data": {
      "text/plain": [
       "<function next>"
      ]
     },
     "execution_count": 56,
     "metadata": {},
     "output_type": "execute_result"
    },
    {
     "data": {
      "text/plain": [
       "<function next>"
      ]
     },
     "execution_count": 56,
     "metadata": {},
     "output_type": "execute_result"
    },
    {
     "data": {
      "text/plain": [
       "<function next>"
      ]
     },
     "execution_count": 56,
     "metadata": {},
     "output_type": "execute_result"
    },
    {
     "data": {
      "text/plain": [
       "<function next>"
      ]
     },
     "execution_count": 56,
     "metadata": {},
     "output_type": "execute_result"
    },
    {
     "data": {
      "text/plain": [
       "<function next>"
      ]
     },
     "execution_count": 56,
     "metadata": {},
     "output_type": "execute_result"
    },
    {
     "data": {
      "text/plain": [
       "<function next>"
      ]
     },
     "execution_count": 56,
     "metadata": {},
     "output_type": "execute_result"
    },
    {
     "data": {
      "text/plain": [
       "<function next>"
      ]
     },
     "execution_count": 56,
     "metadata": {},
     "output_type": "execute_result"
    },
    {
     "data": {
      "text/plain": [
       "<function next>"
      ]
     },
     "execution_count": 56,
     "metadata": {},
     "output_type": "execute_result"
    },
    {
     "data": {
      "text/plain": [
       "<function next>"
      ]
     },
     "execution_count": 56,
     "metadata": {},
     "output_type": "execute_result"
    },
    {
     "data": {
      "text/plain": [
       "<function next>"
      ]
     },
     "execution_count": 56,
     "metadata": {},
     "output_type": "execute_result"
    },
    {
     "data": {
      "text/plain": [
       "<function next>"
      ]
     },
     "execution_count": 56,
     "metadata": {},
     "output_type": "execute_result"
    },
    {
     "data": {
      "text/plain": [
       "<function next>"
      ]
     },
     "execution_count": 56,
     "metadata": {},
     "output_type": "execute_result"
    },
    {
     "data": {
      "text/plain": [
       "<function next>"
      ]
     },
     "execution_count": 56,
     "metadata": {},
     "output_type": "execute_result"
    },
    {
     "data": {
      "text/plain": [
       "<function next>"
      ]
     },
     "execution_count": 56,
     "metadata": {},
     "output_type": "execute_result"
    },
    {
     "data": {
      "text/plain": [
       "<function next>"
      ]
     },
     "execution_count": 56,
     "metadata": {},
     "output_type": "execute_result"
    },
    {
     "data": {
      "text/plain": [
       "<function next>"
      ]
     },
     "execution_count": 56,
     "metadata": {},
     "output_type": "execute_result"
    },
    {
     "data": {
      "text/plain": [
       "<function next>"
      ]
     },
     "execution_count": 56,
     "metadata": {},
     "output_type": "execute_result"
    },
    {
     "data": {
      "text/plain": [
       "<function next>"
      ]
     },
     "execution_count": 56,
     "metadata": {},
     "output_type": "execute_result"
    },
    {
     "data": {
      "text/plain": [
       "<function next>"
      ]
     },
     "execution_count": 56,
     "metadata": {},
     "output_type": "execute_result"
    },
    {
     "data": {
      "text/plain": [
       "<function next>"
      ]
     },
     "execution_count": 56,
     "metadata": {},
     "output_type": "execute_result"
    },
    {
     "data": {
      "text/plain": [
       "<function next>"
      ]
     },
     "execution_count": 56,
     "metadata": {},
     "output_type": "execute_result"
    },
    {
     "data": {
      "text/plain": [
       "<function next>"
      ]
     },
     "execution_count": 56,
     "metadata": {},
     "output_type": "execute_result"
    },
    {
     "data": {
      "text/plain": [
       "<function next>"
      ]
     },
     "execution_count": 56,
     "metadata": {},
     "output_type": "execute_result"
    },
    {
     "data": {
      "text/plain": [
       "<function next>"
      ]
     },
     "execution_count": 56,
     "metadata": {},
     "output_type": "execute_result"
    },
    {
     "data": {
      "text/plain": [
       "<function next>"
      ]
     },
     "execution_count": 56,
     "metadata": {},
     "output_type": "execute_result"
    },
    {
     "data": {
      "text/plain": [
       "<function next>"
      ]
     },
     "execution_count": 56,
     "metadata": {},
     "output_type": "execute_result"
    },
    {
     "data": {
      "text/plain": [
       "<function next>"
      ]
     },
     "execution_count": 56,
     "metadata": {},
     "output_type": "execute_result"
    },
    {
     "data": {
      "text/plain": [
       "<function next>"
      ]
     },
     "execution_count": 56,
     "metadata": {},
     "output_type": "execute_result"
    },
    {
     "data": {
      "text/plain": [
       "<function next>"
      ]
     },
     "execution_count": 56,
     "metadata": {},
     "output_type": "execute_result"
    },
    {
     "data": {
      "text/plain": [
       "<function next>"
      ]
     },
     "execution_count": 56,
     "metadata": {},
     "output_type": "execute_result"
    },
    {
     "data": {
      "text/plain": [
       "<function next>"
      ]
     },
     "execution_count": 56,
     "metadata": {},
     "output_type": "execute_result"
    },
    {
     "data": {
      "text/plain": [
       "<function next>"
      ]
     },
     "execution_count": 56,
     "metadata": {},
     "output_type": "execute_result"
    },
    {
     "data": {
      "text/plain": [
       "<function next>"
      ]
     },
     "execution_count": 56,
     "metadata": {},
     "output_type": "execute_result"
    },
    {
     "data": {
      "text/plain": [
       "<function next>"
      ]
     },
     "execution_count": 56,
     "metadata": {},
     "output_type": "execute_result"
    },
    {
     "data": {
      "text/plain": [
       "<function next>"
      ]
     },
     "execution_count": 56,
     "metadata": {},
     "output_type": "execute_result"
    },
    {
     "data": {
      "text/plain": [
       "<function next>"
      ]
     },
     "execution_count": 56,
     "metadata": {},
     "output_type": "execute_result"
    },
    {
     "data": {
      "text/plain": [
       "<function next>"
      ]
     },
     "execution_count": 56,
     "metadata": {},
     "output_type": "execute_result"
    },
    {
     "data": {
      "text/plain": [
       "<function next>"
      ]
     },
     "execution_count": 56,
     "metadata": {},
     "output_type": "execute_result"
    },
    {
     "data": {
      "text/plain": [
       "<function next>"
      ]
     },
     "execution_count": 56,
     "metadata": {},
     "output_type": "execute_result"
    },
    {
     "data": {
      "text/plain": [
       "<function next>"
      ]
     },
     "execution_count": 56,
     "metadata": {},
     "output_type": "execute_result"
    },
    {
     "data": {
      "text/plain": [
       "<function next>"
      ]
     },
     "execution_count": 56,
     "metadata": {},
     "output_type": "execute_result"
    },
    {
     "data": {
      "text/plain": [
       "<function next>"
      ]
     },
     "execution_count": 56,
     "metadata": {},
     "output_type": "execute_result"
    },
    {
     "data": {
      "text/plain": [
       "<function next>"
      ]
     },
     "execution_count": 56,
     "metadata": {},
     "output_type": "execute_result"
    },
    {
     "data": {
      "text/plain": [
       "<function next>"
      ]
     },
     "execution_count": 56,
     "metadata": {},
     "output_type": "execute_result"
    },
    {
     "data": {
      "text/plain": [
       "<function next>"
      ]
     },
     "execution_count": 56,
     "metadata": {},
     "output_type": "execute_result"
    },
    {
     "data": {
      "text/plain": [
       "<function next>"
      ]
     },
     "execution_count": 56,
     "metadata": {},
     "output_type": "execute_result"
    },
    {
     "data": {
      "text/plain": [
       "<function next>"
      ]
     },
     "execution_count": 56,
     "metadata": {},
     "output_type": "execute_result"
    },
    {
     "data": {
      "text/plain": [
       "<function next>"
      ]
     },
     "execution_count": 56,
     "metadata": {},
     "output_type": "execute_result"
    },
    {
     "data": {
      "text/plain": [
       "<function next>"
      ]
     },
     "execution_count": 56,
     "metadata": {},
     "output_type": "execute_result"
    },
    {
     "data": {
      "text/plain": [
       "<function next>"
      ]
     },
     "execution_count": 56,
     "metadata": {},
     "output_type": "execute_result"
    },
    {
     "data": {
      "text/plain": [
       "<function next>"
      ]
     },
     "execution_count": 56,
     "metadata": {},
     "output_type": "execute_result"
    },
    {
     "data": {
      "text/plain": [
       "<function next>"
      ]
     },
     "execution_count": 56,
     "metadata": {},
     "output_type": "execute_result"
    },
    {
     "data": {
      "text/plain": [
       "<function next>"
      ]
     },
     "execution_count": 56,
     "metadata": {},
     "output_type": "execute_result"
    },
    {
     "data": {
      "text/plain": [
       "<function next>"
      ]
     },
     "execution_count": 56,
     "metadata": {},
     "output_type": "execute_result"
    },
    {
     "data": {
      "text/plain": [
       "<function next>"
      ]
     },
     "execution_count": 56,
     "metadata": {},
     "output_type": "execute_result"
    },
    {
     "data": {
      "text/plain": [
       "<function next>"
      ]
     },
     "execution_count": 56,
     "metadata": {},
     "output_type": "execute_result"
    },
    {
     "data": {
      "text/plain": [
       "<function next>"
      ]
     },
     "execution_count": 56,
     "metadata": {},
     "output_type": "execute_result"
    },
    {
     "data": {
      "text/plain": [
       "<function next>"
      ]
     },
     "execution_count": 56,
     "metadata": {},
     "output_type": "execute_result"
    },
    {
     "data": {
      "text/plain": [
       "<function next>"
      ]
     },
     "execution_count": 56,
     "metadata": {},
     "output_type": "execute_result"
    },
    {
     "data": {
      "text/plain": [
       "<function next>"
      ]
     },
     "execution_count": 56,
     "metadata": {},
     "output_type": "execute_result"
    },
    {
     "data": {
      "text/plain": [
       "<function next>"
      ]
     },
     "execution_count": 56,
     "metadata": {},
     "output_type": "execute_result"
    },
    {
     "data": {
      "text/plain": [
       "<function next>"
      ]
     },
     "execution_count": 56,
     "metadata": {},
     "output_type": "execute_result"
    },
    {
     "data": {
      "text/plain": [
       "<function next>"
      ]
     },
     "execution_count": 56,
     "metadata": {},
     "output_type": "execute_result"
    },
    {
     "data": {
      "text/plain": [
       "<function next>"
      ]
     },
     "execution_count": 56,
     "metadata": {},
     "output_type": "execute_result"
    },
    {
     "data": {
      "text/plain": [
       "<function next>"
      ]
     },
     "execution_count": 56,
     "metadata": {},
     "output_type": "execute_result"
    },
    {
     "data": {
      "text/plain": [
       "<function next>"
      ]
     },
     "execution_count": 56,
     "metadata": {},
     "output_type": "execute_result"
    },
    {
     "data": {
      "text/plain": [
       "<function next>"
      ]
     },
     "execution_count": 56,
     "metadata": {},
     "output_type": "execute_result"
    },
    {
     "data": {
      "text/plain": [
       "<function next>"
      ]
     },
     "execution_count": 56,
     "metadata": {},
     "output_type": "execute_result"
    },
    {
     "data": {
      "text/plain": [
       "<function next>"
      ]
     },
     "execution_count": 56,
     "metadata": {},
     "output_type": "execute_result"
    },
    {
     "data": {
      "text/plain": [
       "<function next>"
      ]
     },
     "execution_count": 56,
     "metadata": {},
     "output_type": "execute_result"
    },
    {
     "data": {
      "text/plain": [
       "<function next>"
      ]
     },
     "execution_count": 56,
     "metadata": {},
     "output_type": "execute_result"
    },
    {
     "data": {
      "text/plain": [
       "<function next>"
      ]
     },
     "execution_count": 56,
     "metadata": {},
     "output_type": "execute_result"
    },
    {
     "data": {
      "text/plain": [
       "<function next>"
      ]
     },
     "execution_count": 56,
     "metadata": {},
     "output_type": "execute_result"
    },
    {
     "data": {
      "text/plain": [
       "<function next>"
      ]
     },
     "execution_count": 56,
     "metadata": {},
     "output_type": "execute_result"
    },
    {
     "data": {
      "text/plain": [
       "<function next>"
      ]
     },
     "execution_count": 56,
     "metadata": {},
     "output_type": "execute_result"
    },
    {
     "data": {
      "text/plain": [
       "<function next>"
      ]
     },
     "execution_count": 56,
     "metadata": {},
     "output_type": "execute_result"
    },
    {
     "data": {
      "text/plain": [
       "<function next>"
      ]
     },
     "execution_count": 56,
     "metadata": {},
     "output_type": "execute_result"
    },
    {
     "data": {
      "text/plain": [
       "<function next>"
      ]
     },
     "execution_count": 56,
     "metadata": {},
     "output_type": "execute_result"
    },
    {
     "data": {
      "text/plain": [
       "<function next>"
      ]
     },
     "execution_count": 56,
     "metadata": {},
     "output_type": "execute_result"
    },
    {
     "data": {
      "text/plain": [
       "<function next>"
      ]
     },
     "execution_count": 56,
     "metadata": {},
     "output_type": "execute_result"
    },
    {
     "data": {
      "text/plain": [
       "<function next>"
      ]
     },
     "execution_count": 56,
     "metadata": {},
     "output_type": "execute_result"
    },
    {
     "data": {
      "text/plain": [
       "<function next>"
      ]
     },
     "execution_count": 56,
     "metadata": {},
     "output_type": "execute_result"
    },
    {
     "data": {
      "text/plain": [
       "<function next>"
      ]
     },
     "execution_count": 56,
     "metadata": {},
     "output_type": "execute_result"
    },
    {
     "data": {
      "text/plain": [
       "<function next>"
      ]
     },
     "execution_count": 56,
     "metadata": {},
     "output_type": "execute_result"
    },
    {
     "data": {
      "text/plain": [
       "<function next>"
      ]
     },
     "execution_count": 56,
     "metadata": {},
     "output_type": "execute_result"
    },
    {
     "data": {
      "text/plain": [
       "<function next>"
      ]
     },
     "execution_count": 56,
     "metadata": {},
     "output_type": "execute_result"
    },
    {
     "data": {
      "text/plain": [
       "<function next>"
      ]
     },
     "execution_count": 56,
     "metadata": {},
     "output_type": "execute_result"
    },
    {
     "data": {
      "text/plain": [
       "<function next>"
      ]
     },
     "execution_count": 56,
     "metadata": {},
     "output_type": "execute_result"
    },
    {
     "data": {
      "text/plain": [
       "<function next>"
      ]
     },
     "execution_count": 56,
     "metadata": {},
     "output_type": "execute_result"
    },
    {
     "data": {
      "text/plain": [
       "<function next>"
      ]
     },
     "execution_count": 56,
     "metadata": {},
     "output_type": "execute_result"
    },
    {
     "data": {
      "text/plain": [
       "<function next>"
      ]
     },
     "execution_count": 56,
     "metadata": {},
     "output_type": "execute_result"
    },
    {
     "data": {
      "text/plain": [
       "<function next>"
      ]
     },
     "execution_count": 56,
     "metadata": {},
     "output_type": "execute_result"
    },
    {
     "data": {
      "text/plain": [
       "<function next>"
      ]
     },
     "execution_count": 56,
     "metadata": {},
     "output_type": "execute_result"
    },
    {
     "data": {
      "text/plain": [
       "<function next>"
      ]
     },
     "execution_count": 56,
     "metadata": {},
     "output_type": "execute_result"
    },
    {
     "data": {
      "text/plain": [
       "<function next>"
      ]
     },
     "execution_count": 56,
     "metadata": {},
     "output_type": "execute_result"
    },
    {
     "data": {
      "text/plain": [
       "<function next>"
      ]
     },
     "execution_count": 56,
     "metadata": {},
     "output_type": "execute_result"
    },
    {
     "data": {
      "text/plain": [
       "<function next>"
      ]
     },
     "execution_count": 56,
     "metadata": {},
     "output_type": "execute_result"
    },
    {
     "data": {
      "text/plain": [
       "<function next>"
      ]
     },
     "execution_count": 56,
     "metadata": {},
     "output_type": "execute_result"
    },
    {
     "data": {
      "text/plain": [
       "<function next>"
      ]
     },
     "execution_count": 56,
     "metadata": {},
     "output_type": "execute_result"
    },
    {
     "data": {
      "text/plain": [
       "<function next>"
      ]
     },
     "execution_count": 56,
     "metadata": {},
     "output_type": "execute_result"
    },
    {
     "data": {
      "text/plain": [
       "<function next>"
      ]
     },
     "execution_count": 56,
     "metadata": {},
     "output_type": "execute_result"
    },
    {
     "data": {
      "text/plain": [
       "<function next>"
      ]
     },
     "execution_count": 56,
     "metadata": {},
     "output_type": "execute_result"
    },
    {
     "data": {
      "text/plain": [
       "<function next>"
      ]
     },
     "execution_count": 56,
     "metadata": {},
     "output_type": "execute_result"
    },
    {
     "data": {
      "text/plain": [
       "<function next>"
      ]
     },
     "execution_count": 56,
     "metadata": {},
     "output_type": "execute_result"
    },
    {
     "data": {
      "text/plain": [
       "<function next>"
      ]
     },
     "execution_count": 56,
     "metadata": {},
     "output_type": "execute_result"
    },
    {
     "data": {
      "text/plain": [
       "<function next>"
      ]
     },
     "execution_count": 56,
     "metadata": {},
     "output_type": "execute_result"
    },
    {
     "data": {
      "text/plain": [
       "<function next>"
      ]
     },
     "execution_count": 56,
     "metadata": {},
     "output_type": "execute_result"
    },
    {
     "data": {
      "text/plain": [
       "<function next>"
      ]
     },
     "execution_count": 56,
     "metadata": {},
     "output_type": "execute_result"
    },
    {
     "data": {
      "text/plain": [
       "<function next>"
      ]
     },
     "execution_count": 56,
     "metadata": {},
     "output_type": "execute_result"
    },
    {
     "data": {
      "text/plain": [
       "<function next>"
      ]
     },
     "execution_count": 56,
     "metadata": {},
     "output_type": "execute_result"
    },
    {
     "data": {
      "text/plain": [
       "<function next>"
      ]
     },
     "execution_count": 56,
     "metadata": {},
     "output_type": "execute_result"
    },
    {
     "data": {
      "text/plain": [
       "<function next>"
      ]
     },
     "execution_count": 56,
     "metadata": {},
     "output_type": "execute_result"
    },
    {
     "data": {
      "text/plain": [
       "<function next>"
      ]
     },
     "execution_count": 56,
     "metadata": {},
     "output_type": "execute_result"
    },
    {
     "data": {
      "text/plain": [
       "<function next>"
      ]
     },
     "execution_count": 56,
     "metadata": {},
     "output_type": "execute_result"
    },
    {
     "data": {
      "text/plain": [
       "<function next>"
      ]
     },
     "execution_count": 56,
     "metadata": {},
     "output_type": "execute_result"
    },
    {
     "data": {
      "text/plain": [
       "<function next>"
      ]
     },
     "execution_count": 56,
     "metadata": {},
     "output_type": "execute_result"
    },
    {
     "data": {
      "text/plain": [
       "<function next>"
      ]
     },
     "execution_count": 56,
     "metadata": {},
     "output_type": "execute_result"
    },
    {
     "data": {
      "text/plain": [
       "<function next>"
      ]
     },
     "execution_count": 56,
     "metadata": {},
     "output_type": "execute_result"
    },
    {
     "data": {
      "text/plain": [
       "<function next>"
      ]
     },
     "execution_count": 56,
     "metadata": {},
     "output_type": "execute_result"
    },
    {
     "data": {
      "text/plain": [
       "<function next>"
      ]
     },
     "execution_count": 56,
     "metadata": {},
     "output_type": "execute_result"
    },
    {
     "data": {
      "text/plain": [
       "<function next>"
      ]
     },
     "execution_count": 56,
     "metadata": {},
     "output_type": "execute_result"
    },
    {
     "data": {
      "text/plain": [
       "<function next>"
      ]
     },
     "execution_count": 56,
     "metadata": {},
     "output_type": "execute_result"
    },
    {
     "data": {
      "text/plain": [
       "<function next>"
      ]
     },
     "execution_count": 56,
     "metadata": {},
     "output_type": "execute_result"
    },
    {
     "data": {
      "text/plain": [
       "<function next>"
      ]
     },
     "execution_count": 56,
     "metadata": {},
     "output_type": "execute_result"
    },
    {
     "data": {
      "text/plain": [
       "<function next>"
      ]
     },
     "execution_count": 56,
     "metadata": {},
     "output_type": "execute_result"
    },
    {
     "data": {
      "text/plain": [
       "<function next>"
      ]
     },
     "execution_count": 56,
     "metadata": {},
     "output_type": "execute_result"
    },
    {
     "data": {
      "text/plain": [
       "<function next>"
      ]
     },
     "execution_count": 56,
     "metadata": {},
     "output_type": "execute_result"
    },
    {
     "data": {
      "text/plain": [
       "<function next>"
      ]
     },
     "execution_count": 56,
     "metadata": {},
     "output_type": "execute_result"
    },
    {
     "data": {
      "text/plain": [
       "<function next>"
      ]
     },
     "execution_count": 56,
     "metadata": {},
     "output_type": "execute_result"
    },
    {
     "data": {
      "text/plain": [
       "<function next>"
      ]
     },
     "execution_count": 56,
     "metadata": {},
     "output_type": "execute_result"
    },
    {
     "data": {
      "text/plain": [
       "<function next>"
      ]
     },
     "execution_count": 56,
     "metadata": {},
     "output_type": "execute_result"
    },
    {
     "data": {
      "text/plain": [
       "<function next>"
      ]
     },
     "execution_count": 56,
     "metadata": {},
     "output_type": "execute_result"
    },
    {
     "data": {
      "text/plain": [
       "<function next>"
      ]
     },
     "execution_count": 56,
     "metadata": {},
     "output_type": "execute_result"
    },
    {
     "data": {
      "text/plain": [
       "<function next>"
      ]
     },
     "execution_count": 56,
     "metadata": {},
     "output_type": "execute_result"
    },
    {
     "data": {
      "text/plain": [
       "<function next>"
      ]
     },
     "execution_count": 56,
     "metadata": {},
     "output_type": "execute_result"
    },
    {
     "data": {
      "text/plain": [
       "<function next>"
      ]
     },
     "execution_count": 56,
     "metadata": {},
     "output_type": "execute_result"
    },
    {
     "data": {
      "text/plain": [
       "<function next>"
      ]
     },
     "execution_count": 56,
     "metadata": {},
     "output_type": "execute_result"
    },
    {
     "data": {
      "text/plain": [
       "<function next>"
      ]
     },
     "execution_count": 56,
     "metadata": {},
     "output_type": "execute_result"
    },
    {
     "data": {
      "text/plain": [
       "<function next>"
      ]
     },
     "execution_count": 56,
     "metadata": {},
     "output_type": "execute_result"
    },
    {
     "data": {
      "text/plain": [
       "<function next>"
      ]
     },
     "execution_count": 56,
     "metadata": {},
     "output_type": "execute_result"
    },
    {
     "data": {
      "text/plain": [
       "<function next>"
      ]
     },
     "execution_count": 56,
     "metadata": {},
     "output_type": "execute_result"
    },
    {
     "data": {
      "text/plain": [
       "<function next>"
      ]
     },
     "execution_count": 56,
     "metadata": {},
     "output_type": "execute_result"
    },
    {
     "data": {
      "text/plain": [
       "<function next>"
      ]
     },
     "execution_count": 56,
     "metadata": {},
     "output_type": "execute_result"
    },
    {
     "data": {
      "text/plain": [
       "<function next>"
      ]
     },
     "execution_count": 56,
     "metadata": {},
     "output_type": "execute_result"
    },
    {
     "data": {
      "text/plain": [
       "<function next>"
      ]
     },
     "execution_count": 56,
     "metadata": {},
     "output_type": "execute_result"
    },
    {
     "data": {
      "text/plain": [
       "<function next>"
      ]
     },
     "execution_count": 56,
     "metadata": {},
     "output_type": "execute_result"
    },
    {
     "data": {
      "text/plain": [
       "<function next>"
      ]
     },
     "execution_count": 56,
     "metadata": {},
     "output_type": "execute_result"
    },
    {
     "data": {
      "text/plain": [
       "<function next>"
      ]
     },
     "execution_count": 56,
     "metadata": {},
     "output_type": "execute_result"
    },
    {
     "data": {
      "text/plain": [
       "<function next>"
      ]
     },
     "execution_count": 56,
     "metadata": {},
     "output_type": "execute_result"
    },
    {
     "data": {
      "text/plain": [
       "<function next>"
      ]
     },
     "execution_count": 56,
     "metadata": {},
     "output_type": "execute_result"
    },
    {
     "data": {
      "text/plain": [
       "<function next>"
      ]
     },
     "execution_count": 56,
     "metadata": {},
     "output_type": "execute_result"
    },
    {
     "data": {
      "text/plain": [
       "<function next>"
      ]
     },
     "execution_count": 56,
     "metadata": {},
     "output_type": "execute_result"
    },
    {
     "data": {
      "text/plain": [
       "<function next>"
      ]
     },
     "execution_count": 56,
     "metadata": {},
     "output_type": "execute_result"
    },
    {
     "data": {
      "text/plain": [
       "<function next>"
      ]
     },
     "execution_count": 56,
     "metadata": {},
     "output_type": "execute_result"
    },
    {
     "data": {
      "text/plain": [
       "<function next>"
      ]
     },
     "execution_count": 56,
     "metadata": {},
     "output_type": "execute_result"
    },
    {
     "data": {
      "text/plain": [
       "<function next>"
      ]
     },
     "execution_count": 56,
     "metadata": {},
     "output_type": "execute_result"
    },
    {
     "data": {
      "text/plain": [
       "<function next>"
      ]
     },
     "execution_count": 56,
     "metadata": {},
     "output_type": "execute_result"
    },
    {
     "data": {
      "text/plain": [
       "<function next>"
      ]
     },
     "execution_count": 56,
     "metadata": {},
     "output_type": "execute_result"
    },
    {
     "data": {
      "text/plain": [
       "<function next>"
      ]
     },
     "execution_count": 56,
     "metadata": {},
     "output_type": "execute_result"
    },
    {
     "data": {
      "text/plain": [
       "<function next>"
      ]
     },
     "execution_count": 56,
     "metadata": {},
     "output_type": "execute_result"
    },
    {
     "data": {
      "text/plain": [
       "<function next>"
      ]
     },
     "execution_count": 56,
     "metadata": {},
     "output_type": "execute_result"
    },
    {
     "data": {
      "text/plain": [
       "<function next>"
      ]
     },
     "execution_count": 56,
     "metadata": {},
     "output_type": "execute_result"
    },
    {
     "data": {
      "text/plain": [
       "<function next>"
      ]
     },
     "execution_count": 56,
     "metadata": {},
     "output_type": "execute_result"
    },
    {
     "data": {
      "text/plain": [
       "<function next>"
      ]
     },
     "execution_count": 56,
     "metadata": {},
     "output_type": "execute_result"
    },
    {
     "data": {
      "text/plain": [
       "<function next>"
      ]
     },
     "execution_count": 56,
     "metadata": {},
     "output_type": "execute_result"
    },
    {
     "data": {
      "text/plain": [
       "<function next>"
      ]
     },
     "execution_count": 56,
     "metadata": {},
     "output_type": "execute_result"
    },
    {
     "data": {
      "text/plain": [
       "<function next>"
      ]
     },
     "execution_count": 56,
     "metadata": {},
     "output_type": "execute_result"
    },
    {
     "data": {
      "text/plain": [
       "<function next>"
      ]
     },
     "execution_count": 56,
     "metadata": {},
     "output_type": "execute_result"
    },
    {
     "data": {
      "text/plain": [
       "<function next>"
      ]
     },
     "execution_count": 56,
     "metadata": {},
     "output_type": "execute_result"
    },
    {
     "data": {
      "text/plain": [
       "<function next>"
      ]
     },
     "execution_count": 56,
     "metadata": {},
     "output_type": "execute_result"
    },
    {
     "data": {
      "text/plain": [
       "<function next>"
      ]
     },
     "execution_count": 56,
     "metadata": {},
     "output_type": "execute_result"
    },
    {
     "data": {
      "text/plain": [
       "<function next>"
      ]
     },
     "execution_count": 56,
     "metadata": {},
     "output_type": "execute_result"
    },
    {
     "data": {
      "text/plain": [
       "<function next>"
      ]
     },
     "execution_count": 56,
     "metadata": {},
     "output_type": "execute_result"
    },
    {
     "data": {
      "text/plain": [
       "<function next>"
      ]
     },
     "execution_count": 56,
     "metadata": {},
     "output_type": "execute_result"
    },
    {
     "data": {
      "text/plain": [
       "<function next>"
      ]
     },
     "execution_count": 56,
     "metadata": {},
     "output_type": "execute_result"
    },
    {
     "data": {
      "text/plain": [
       "<function next>"
      ]
     },
     "execution_count": 56,
     "metadata": {},
     "output_type": "execute_result"
    },
    {
     "data": {
      "text/plain": [
       "<function next>"
      ]
     },
     "execution_count": 56,
     "metadata": {},
     "output_type": "execute_result"
    },
    {
     "data": {
      "text/plain": [
       "<function next>"
      ]
     },
     "execution_count": 56,
     "metadata": {},
     "output_type": "execute_result"
    },
    {
     "data": {
      "text/plain": [
       "<function next>"
      ]
     },
     "execution_count": 56,
     "metadata": {},
     "output_type": "execute_result"
    },
    {
     "data": {
      "text/plain": [
       "<function next>"
      ]
     },
     "execution_count": 56,
     "metadata": {},
     "output_type": "execute_result"
    },
    {
     "data": {
      "text/plain": [
       "<function next>"
      ]
     },
     "execution_count": 56,
     "metadata": {},
     "output_type": "execute_result"
    }
   ],
   "source": [
    "# 문장 요약 갯수 설정\n",
    "\n",
    "cnt = 10\n",
    "# 여기에서는 '친환경'이 포함된 제목만 활용하여 작업 수행\n",
    "\n",
    "s_list = filtered_idx_result_df['title'].tolist()\n",
    "\n",
    "result = []\n",
    "fidx = []\n",
    "\n",
    "for sidx in range(len(s_list)):\n",
    "    p = re.compile(word)\n",
    "    ridx = p.search(s_list[sidx])\n",
    "\n",
    "    if(ridx == None):\n",
    "        next\n",
    "    else:\n",
    "        fidx.append(sidx)\n",
    "    \n",
    "t_list = filtered_idx_result_df['title']\n",
    "t_list = list(t_list.loc[fidx])\n",
    "\n",
    "\n",
    "for idx,t in enumerate(t_list):\n",
    "    t_list[idx] = re.sub('[^가-힝0-9a-zA-Z\\\\s]', '', t)\n",
    "\n",
    "p_sentences = \". \".join(t_list)\n",
    "textrank = TextRank(p_sentences)\n",
    "t = textrank.summarize(count=cnt)\n",
    "t = t.split(\"\\n\")\n",
    "\n",
    "result = pd.DataFrame(t)\n",
    "result.columns=['Sentences']\n",
    "result.to_csv(\"./sentence_summary_result/\" + \"ss_\" + \"친환경\" + \".csv\",encoding=\"UTF8\")"
   ]
  },
  {
   "cell_type": "code",
   "execution_count": null,
   "metadata": {},
   "outputs": [],
   "source": [
    "result"
   ]
  },
  {
   "cell_type": "code",
   "execution_count": null,
   "metadata": {},
   "outputs": [],
   "source": []
  }
 ],
 "metadata": {
  "kernelspec": {
   "display_name": "Python 3",
   "language": "python",
   "name": "python3"
  },
  "language_info": {
   "codemirror_mode": {
    "name": "ipython",
    "version": 3
   },
   "file_extension": ".py",
   "mimetype": "text/x-python",
   "name": "python",
   "nbconvert_exporter": "python",
   "pygments_lexer": "ipython3",
   "version": "3.7.3"
  }
 },
 "nbformat": 4,
 "nbformat_minor": 2
}
