{
 "cells": [
  {
   "cell_type": "markdown",
   "metadata": {},
   "source": [
    "# 제 3절. 신고이슈 분석"
   ]
  },
  {
   "cell_type": "markdown",
   "metadata": {},
   "source": [
    "## 관련 라이브러리 import\n",
    "- https://github.com/lovit/customized_konlpy\n",
    "- pip install customized_konlpy\n",
    "- pip install textrankr"
   ]
  },
  {
   "cell_type": "markdown",
   "metadata": {},
   "source": []
  },
  {
   "cell_type": "markdown",
   "metadata": {},
   "source": [
    "# <font color='green'> 1. 데이터 불러오기\n",
    "- soynlp 사용하여 인바운드콜의 text내용을 의미있는 단위인 token(단어, 형태소 등)을 정의, token은 corpus 리스트 형태로 정의"
   ]
  },
  {
   "cell_type": "code",
   "execution_count": 1,
   "metadata": {},
   "outputs": [
    {
     "name": "stderr",
     "output_type": "stream",
     "text": [
      "C:\\Users\\NFSI291\\Anaconda3\\lib\\site-packages\\statsmodels\\tools\\_testing.py:19: FutureWarning: pandas.util.testing is deprecated. Use the functions in the public API at pandas.testing instead.\n",
      "  import pandas.util.testing as tm\n"
     ]
    }
   ],
   "source": [
    "from IPython.core.interactiveshell import InteractiveShell\n",
    "InteractiveShell.ast_node_interactivity = \"all\"\n",
    "import numpy as np\n",
    "import pandas as pd\n",
    "import matplotlib.pyplot as plt\n",
    "get_ipython().run_line_magic('matplotlib', 'inline')\n",
    "import seaborn as sns\n",
    "import warnings\n",
    "warnings.filterwarnings('ignore')\n",
    "plt.rcParams['font.family']='Malgun Gothic'"
   ]
  },
  {
   "cell_type": "code",
   "execution_count": 2,
   "metadata": {},
   "outputs": [],
   "source": [
    "dir_path = 'D:/2020기본과제/1399/1399_data/'"
   ]
  },
  {
   "cell_type": "code",
   "execution_count": 3,
   "metadata": {
    "scrolled": true
   },
   "outputs": [
    {
     "data": {
      "text/plain": [
       "0"
      ]
     },
     "execution_count": 3,
     "metadata": {},
     "output_type": "execute_result"
    }
   ],
   "source": [
    "df = pd.read_pickle(dir_path + '1399_dataset.pkl')\n",
    "df =  df[['신고일시', '신고내용(내용기재) 200자', '년도', '시도']]\n",
    "df.columns = ['신고일시', '신고내용', '년도', '시도']\n",
    "# 인바운드 콜 정보에 nan을 제거\n",
    "df['신고내용'].fillna('조상', inplace=True)\n",
    "df['신고내용'].isnull().sum()"
   ]
  },
  {
   "cell_type": "code",
   "execution_count": 4,
   "metadata": {},
   "outputs": [
    {
     "data": {
      "text/plain": [
       "신고일시     1401\n",
       "신고내용        0\n",
       "년도       1401\n",
       "시도      19595\n",
       "dtype: int64"
      ]
     },
     "execution_count": 4,
     "metadata": {},
     "output_type": "execute_result"
    }
   ],
   "source": [
    "df.isnull().sum()"
   ]
  },
  {
   "cell_type": "markdown",
   "metadata": {},
   "source": [
    "# 실습용"
   ]
  },
  {
   "cell_type": "code",
   "execution_count": 5,
   "metadata": {},
   "outputs": [],
   "source": [
    "df = df.sample(frac=0.05, random_state= 1234)"
   ]
  },
  {
   "cell_type": "code",
   "execution_count": 6,
   "metadata": {
    "scrolled": false
   },
   "outputs": [
    {
     "data": {
      "text/plain": [
       "(2644, 4)"
      ]
     },
     "execution_count": 6,
     "metadata": {},
     "output_type": "execute_result"
    },
    {
     "data": {
      "text/html": [
       "<div>\n",
       "<style scoped>\n",
       "    .dataframe tbody tr th:only-of-type {\n",
       "        vertical-align: middle;\n",
       "    }\n",
       "\n",
       "    .dataframe tbody tr th {\n",
       "        vertical-align: top;\n",
       "    }\n",
       "\n",
       "    .dataframe thead th {\n",
       "        text-align: right;\n",
       "    }\n",
       "</style>\n",
       "<table border=\"1\" class=\"dataframe\">\n",
       "  <thead>\n",
       "    <tr style=\"text-align: right;\">\n",
       "      <th></th>\n",
       "      <th>신고일시</th>\n",
       "      <th>신고내용</th>\n",
       "      <th>년도</th>\n",
       "      <th>시도</th>\n",
       "    </tr>\n",
       "  </thead>\n",
       "  <tbody>\n",
       "    <tr>\n",
       "      <th>36470</th>\n",
       "      <td>2018-07-26 09:23:00</td>\n",
       "      <td>&lt;박현미대박김치에서 이물발견&gt;\\n민원인은 2018-07-16일경 서창식자재마트(인천...</td>\n",
       "      <td>2018.0</td>\n",
       "      <td>경기도</td>\n",
       "    </tr>\n",
       "    <tr>\n",
       "      <th>5343</th>\n",
       "      <td>2015-07-27 17:33:00</td>\n",
       "      <td>식객소불고기도시락(즉석섭취식품) 주의 사항 표시 관련 신고주심.\\n\\n제품 표시 사...</td>\n",
       "      <td>2015.0</td>\n",
       "      <td>NaN</td>\n",
       "    </tr>\n",
       "    <tr>\n",
       "      <th>16885</th>\n",
       "      <td>2016-09-07 14:03:00</td>\n",
       "      <td>&lt;담터꿀유자차에서 이물발견&gt;\\n민원인이 2016-08월중순쯤 롯데마트 삼양점에서 담...</td>\n",
       "      <td>2016.0</td>\n",
       "      <td>전라남도</td>\n",
       "    </tr>\n",
       "    <tr>\n",
       "      <th>22654</th>\n",
       "      <td>2017-04-24 13:16:00</td>\n",
       "      <td>&lt;빨간통닭 위생불량&gt;\\n민원인은 빨간통닭(일반음식점/대구광역시 서구 달서로12길 1...</td>\n",
       "      <td>2017.0</td>\n",
       "      <td>대구광역시</td>\n",
       "    </tr>\n",
       "    <tr>\n",
       "      <th>45870</th>\n",
       "      <td>2019-05-27 16:11:00</td>\n",
       "      <td>&lt;해룡각 짬뽕 플라스틱가닥 이물발견&gt;\\n\\n민원인은 2019-05-26, 해룡각(부...</td>\n",
       "      <td>2019.0</td>\n",
       "      <td>NaN</td>\n",
       "    </tr>\n",
       "  </tbody>\n",
       "</table>\n",
       "</div>"
      ],
      "text/plain": [
       "                     신고일시                                               신고내용  \\\n",
       "36470 2018-07-26 09:23:00  <박현미대박김치에서 이물발견>\\n민원인은 2018-07-16일경 서창식자재마트(인천...   \n",
       "5343  2015-07-27 17:33:00  식객소불고기도시락(즉석섭취식품) 주의 사항 표시 관련 신고주심.\\n\\n제품 표시 사...   \n",
       "16885 2016-09-07 14:03:00  <담터꿀유자차에서 이물발견>\\n민원인이 2016-08월중순쯤 롯데마트 삼양점에서 담...   \n",
       "22654 2017-04-24 13:16:00  <빨간통닭 위생불량>\\n민원인은 빨간통닭(일반음식점/대구광역시 서구 달서로12길 1...   \n",
       "45870 2019-05-27 16:11:00  <해룡각 짬뽕 플라스틱가닥 이물발견>\\n\\n민원인은 2019-05-26, 해룡각(부...   \n",
       "\n",
       "           년도     시도  \n",
       "36470  2018.0    경기도  \n",
       "5343   2015.0    NaN  \n",
       "16885  2016.0   전라남도  \n",
       "22654  2017.0  대구광역시  \n",
       "45870  2019.0    NaN  "
      ]
     },
     "execution_count": 6,
     "metadata": {},
     "output_type": "execute_result"
    },
    {
     "data": {
      "text/html": [
       "<div>\n",
       "<style scoped>\n",
       "    .dataframe tbody tr th:only-of-type {\n",
       "        vertical-align: middle;\n",
       "    }\n",
       "\n",
       "    .dataframe tbody tr th {\n",
       "        vertical-align: top;\n",
       "    }\n",
       "\n",
       "    .dataframe thead th {\n",
       "        text-align: right;\n",
       "    }\n",
       "</style>\n",
       "<table border=\"1\" class=\"dataframe\">\n",
       "  <thead>\n",
       "    <tr style=\"text-align: right;\">\n",
       "      <th></th>\n",
       "      <th>신고일시</th>\n",
       "      <th>신고내용</th>\n",
       "      <th>년도</th>\n",
       "      <th>시도</th>\n",
       "    </tr>\n",
       "  </thead>\n",
       "  <tbody>\n",
       "    <tr>\n",
       "      <th>44129</th>\n",
       "      <td>2019-03-28 11:07:00</td>\n",
       "      <td>&lt;발효현미 표시사항 관련&gt;\\n민원인은 당뇨를 앓고 있어 민원인의 자녀가 옥션을 통해...</td>\n",
       "      <td>2019.0</td>\n",
       "      <td>전라남도</td>\n",
       "    </tr>\n",
       "    <tr>\n",
       "      <th>51344</th>\n",
       "      <td>2019-11-06 09:26:00</td>\n",
       "      <td>&lt;진한초코 은박지 이물 발견&gt;\\n민원인의 자녀는 학교 급식시 진한초코(유형: 혼합음...</td>\n",
       "      <td>2019.0</td>\n",
       "      <td>경상남도</td>\n",
       "    </tr>\n",
       "    <tr>\n",
       "      <th>20454</th>\n",
       "      <td>2017-01-16 11:15:00</td>\n",
       "      <td>&lt;송담추어탕 충북청주점 추어탕에서 벌레발견&gt;\\n민원인이 2017-01-15 송담추어...</td>\n",
       "      <td>2017.0</td>\n",
       "      <td>충청북도</td>\n",
       "    </tr>\n",
       "    <tr>\n",
       "      <th>21441</th>\n",
       "      <td>2017-02-27 18:01:00</td>\n",
       "      <td>&lt;스무디더오렌지 곰팡이이물발견&gt;\\n민원인은 17-02-14 GS샵(인터넷)에서 스무...</td>\n",
       "      <td>2017.0</td>\n",
       "      <td>서울특별시</td>\n",
       "    </tr>\n",
       "    <tr>\n",
       "      <th>37584</th>\n",
       "      <td>2018-08-28 17:40:00</td>\n",
       "      <td>&lt;하림 닭근위소금구이 제품변질&gt;\\n민원인은 2018-08-22경 이마트 진접점(경기...</td>\n",
       "      <td>2018.0</td>\n",
       "      <td>전라북도</td>\n",
       "    </tr>\n",
       "  </tbody>\n",
       "</table>\n",
       "</div>"
      ],
      "text/plain": [
       "                     신고일시                                               신고내용  \\\n",
       "44129 2019-03-28 11:07:00  <발효현미 표시사항 관련>\\n민원인은 당뇨를 앓고 있어 민원인의 자녀가 옥션을 통해...   \n",
       "51344 2019-11-06 09:26:00  <진한초코 은박지 이물 발견>\\n민원인의 자녀는 학교 급식시 진한초코(유형: 혼합음...   \n",
       "20454 2017-01-16 11:15:00  <송담추어탕 충북청주점 추어탕에서 벌레발견>\\n민원인이 2017-01-15 송담추어...   \n",
       "21441 2017-02-27 18:01:00  <스무디더오렌지 곰팡이이물발견>\\n민원인은 17-02-14 GS샵(인터넷)에서 스무...   \n",
       "37584 2018-08-28 17:40:00  <하림 닭근위소금구이 제품변질>\\n민원인은 2018-08-22경 이마트 진접점(경기...   \n",
       "\n",
       "           년도     시도  \n",
       "44129  2019.0   전라남도  \n",
       "51344  2019.0   경상남도  \n",
       "20454  2017.0   충청북도  \n",
       "21441  2017.0  서울특별시  \n",
       "37584  2018.0   전라북도  "
      ]
     },
     "execution_count": 6,
     "metadata": {},
     "output_type": "execute_result"
    }
   ],
   "source": [
    "df.shape\n",
    "df.head()\n",
    "df.tail()"
   ]
  },
  {
   "cell_type": "markdown",
   "metadata": {},
   "source": [
    "### 이미지파일(jpg, ping 등) 불러오기 \n",
    "df.to_excel('../1399_working/orginnal.xlsx')"
   ]
  },
  {
   "cell_type": "markdown",
   "metadata": {},
   "source": [
    "## A. 신고콜 건별 문장길이, 단어 및 고유단어 수"
   ]
  },
  {
   "cell_type": "code",
   "execution_count": 7,
   "metadata": {
    "scrolled": false
   },
   "outputs": [
    {
     "data": {
      "text/plain": [
       "<matplotlib.axes._subplots.AxesSubplot at 0x187bc3a5908>"
      ]
     },
     "execution_count": 7,
     "metadata": {},
     "output_type": "execute_result"
    },
    {
     "data": {
      "text/plain": [
       "<matplotlib.lines.Line2D at 0x187c2312488>"
      ]
     },
     "execution_count": 7,
     "metadata": {},
     "output_type": "execute_result"
    },
    {
     "data": {
      "text/plain": [
       "Text(0.5, 1.0, '신고건 별 문장길이 분포')"
      ]
     },
     "execution_count": 7,
     "metadata": {},
     "output_type": "execute_result"
    },
    {
     "data": {
      "text/plain": [
       "<matplotlib.axes._subplots.AxesSubplot at 0x187c8c67fc8>"
      ]
     },
     "execution_count": 7,
     "metadata": {},
     "output_type": "execute_result"
    },
    {
     "data": {
      "text/plain": [
       "<matplotlib.lines.Line2D at 0x187be293a48>"
      ]
     },
     "execution_count": 7,
     "metadata": {},
     "output_type": "execute_result"
    },
    {
     "data": {
      "text/plain": [
       "Text(0.5, 1.0, '신고건 별 단어 수 분포')"
      ]
     },
     "execution_count": 7,
     "metadata": {},
     "output_type": "execute_result"
    },
    {
     "data": {
      "text/plain": [
       "<matplotlib.axes._subplots.AxesSubplot at 0x187c2e529c8>"
      ]
     },
     "execution_count": 7,
     "metadata": {},
     "output_type": "execute_result"
    },
    {
     "data": {
      "text/plain": [
       "<matplotlib.lines.Line2D at 0x187bda2de48>"
      ]
     },
     "execution_count": 7,
     "metadata": {},
     "output_type": "execute_result"
    },
    {
     "data": {
      "text/plain": [
       "Text(0.5, 1.0, '신고건 별 고유한 단어 수 분포')"
      ]
     },
     "execution_count": 7,
     "metadata": {},
     "output_type": "execute_result"
    },
    {
     "name": "stdout",
     "output_type": "stream",
     "text": [
      "신고건 별 문장길이 평균값 : 284.3245083207262\n",
      "신고건 별 문장길이 중간값 263.0\n",
      "신고건 별 단어 평균값 : 54.91906202723147\n",
      "신고건 별 단어 중간값 50.0\n",
      "신고건 별 고유 단어 평균값 : 51.54046898638427\n",
      "신고건 별 고유 단어 중간값 48.0\n"
     ]
    },
    {
     "data": {
      "image/png": "[encoded data removed]",
      "text/plain": [
       "<Figure size 1440x360 with 3 Axes>"
      ]
     },
     "metadata": {
      "needs_background": "light"
     },
     "output_type": "display_data"
    }
   ],
   "source": [
    "df['length_sentence'] = df['신고내용'].apply(lambda x: len(str(x))) # 문장길이\n",
    "df['num_words'] = df['신고내용'].apply(lambda x: len(str(x).split())) # 단어 수\n",
    "df['num_uniq_words'] = df['신고내용'].apply(lambda x: len(set(str(x).split()))) # 중복을 제거한 단어 수\n",
    "\n",
    "fig, axes = plt.subplots(ncols=3)\n",
    "fig.set_size_inches(20, 5)\n",
    "\n",
    "sns.distplot(df['length_sentence'], bins=100, color='g', ax=axes[0])\n",
    "axes[0].axvline(df['length_sentence'].median(), linestyle='dashed')\n",
    "axes[0].set_title('신고건 별 문장길이 분포')\n",
    "\n",
    "sns.distplot(df['num_words'], bins=100, ax=axes[1])\n",
    "axes[1].axvline(df['num_words'].median(), linestyle='dashed')\n",
    "axes[1].set_title('신고건 별 단어 수 분포')\n",
    "\n",
    "sns.distplot(df['num_uniq_words'], bins=100, color='g', ax=axes[2])\n",
    "axes[2].axvline(df['num_uniq_words'].median(), linestyle='dashed')\n",
    "axes[2].set_title('신고건 별 고유한 단어 수 분포')\n",
    "\n",
    "\n",
    "print('신고건 별 문장길이 평균값 :', df['length_sentence'].mean()) ; print('신고건 별 문장길이 중간값', df['length_sentence'].median())\n",
    "print('신고건 별 단어 평균값 :', df['num_words'].mean()); print('신고건 별 단어 중간값', df['num_words'].median())\n",
    "print('신고건 별 고유 단어 평균값 :', df['num_uniq_words'].mean()) ; print('신고건 별 고유 단어 중간값', df['num_uniq_words'].median())"
   ]
  },
  {
   "cell_type": "code",
   "execution_count": 8,
   "metadata": {
    "scrolled": false
   },
   "outputs": [
    {
     "ename": "NameError",
     "evalue": "name 'Image' is not defined",
     "output_type": "error",
     "traceback": [
      "\u001b[1;31m---------------------------------------------------------------------------\u001b[0m",
      "\u001b[1;31mNameError\u001b[0m                                 Traceback (most recent call last)",
      "\u001b[1;32m<ipython-input-8-9f5ea7a3202b>\u001b[0m in \u001b[0;36m<module>\u001b[1;34m\u001b[0m\n\u001b[1;32m----> 1\u001b[1;33m \u001b[0mImage\u001b[0m\u001b[1;33m(\u001b[0m\u001b[0mfilename\u001b[0m\u001b[1;33m=\u001b[0m\u001b[1;34m'../images/img1.png'\u001b[0m\u001b[1;33m,\u001b[0m \u001b[0mwidth\u001b[0m\u001b[1;33m=\u001b[0m\u001b[1;36m300\u001b[0m\u001b[1;33m,\u001b[0m \u001b[0mheight\u001b[0m\u001b[1;33m=\u001b[0m\u001b[1;36m200\u001b[0m\u001b[1;33m)\u001b[0m\u001b[1;33m\u001b[0m\u001b[1;33m\u001b[0m\u001b[0m\n\u001b[0m\u001b[0;32m      2\u001b[0m \u001b[0mImage\u001b[0m\u001b[1;33m(\u001b[0m\u001b[0mfilename\u001b[0m\u001b[1;33m=\u001b[0m\u001b[1;34m'../images/img5.png'\u001b[0m\u001b[1;33m,\u001b[0m \u001b[0mwidth\u001b[0m\u001b[1;33m=\u001b[0m\u001b[1;36m1000\u001b[0m\u001b[1;33m,\u001b[0m \u001b[0mheight\u001b[0m\u001b[1;33m=\u001b[0m\u001b[1;36m500\u001b[0m\u001b[1;33m)\u001b[0m\u001b[1;33m\u001b[0m\u001b[1;33m\u001b[0m\u001b[0m\n",
      "\u001b[1;31mNameError\u001b[0m: name 'Image' is not defined"
     ]
    }
   ],
   "source": [
    "Image(filename='../images/img1.png', width=300, height=200)\n",
    "Image(filename='../images/img5.png', width=1000, height=500)"
   ]
  },
  {
   "cell_type": "markdown",
   "metadata": {},
   "source": [
    "## B. Time"
   ]
  },
  {
   "cell_type": "code",
   "execution_count": null,
   "metadata": {},
   "outputs": [],
   "source": [
    "df['년도']=df['신고일시'].apply(lambda x: x.year)\n",
    "df['월']=df['신고일시'].apply(lambda x: x.month)\n",
    "df['요일']=df['신고일시'].apply(lambda x: x.weekday())"
   ]
  },
  {
   "cell_type": "code",
   "execution_count": 9,
   "metadata": {},
   "outputs": [
    {
     "data": {
      "text/plain": [
       "<matplotlib.axes._subplots.AxesSubplot at 0x187bdb32408>"
      ]
     },
     "execution_count": 9,
     "metadata": {},
     "output_type": "execute_result"
    },
    {
     "data": {
      "image/png": "[encoded data removed]",
      "text/plain": [
       "<Figure size 1800x216 with 1 Axes>"
      ]
     },
     "metadata": {
      "needs_background": "light"
     },
     "output_type": "display_data"
    }
   ],
   "source": [
    "df.set_index('신고일시')['신고내용'].resample('Y').count().plot(kind='bar', rot='45', figsize =(25,3))"
   ]
  },
  {
   "cell_type": "code",
   "execution_count": 10,
   "metadata": {},
   "outputs": [
    {
     "ename": "AttributeError",
     "evalue": "'DataFrame' object has no attribute '월'",
     "output_type": "error",
     "traceback": [
      "\u001b[1;31m---------------------------------------------------------------------------\u001b[0m",
      "\u001b[1;31mAttributeError\u001b[0m                            Traceback (most recent call last)",
      "\u001b[1;32m<ipython-input-10-5883af62c123>\u001b[0m in \u001b[0;36m<module>\u001b[1;34m\u001b[0m\n\u001b[1;32m----> 1\u001b[1;33m \u001b[0mdf\u001b[0m\u001b[1;33m.\u001b[0m\u001b[0m월\u001b[0m\u001b[1;33m.\u001b[0m\u001b[0mvalue_counts\u001b[0m\u001b[1;33m(\u001b[0m\u001b[1;33m)\u001b[0m\u001b[1;33m.\u001b[0m\u001b[0mplot\u001b[0m\u001b[1;33m(\u001b[0m\u001b[0mkind\u001b[0m\u001b[1;33m=\u001b[0m\u001b[1;34m'bar'\u001b[0m\u001b[1;33m,\u001b[0m \u001b[0mrot\u001b[0m\u001b[1;33m=\u001b[0m\u001b[1;34m'45'\u001b[0m\u001b[1;33m,\u001b[0m \u001b[0mfigsize\u001b[0m \u001b[1;33m=\u001b[0m\u001b[1;33m(\u001b[0m\u001b[1;36m25\u001b[0m\u001b[1;33m,\u001b[0m\u001b[1;36m3\u001b[0m\u001b[1;33m)\u001b[0m\u001b[1;33m)\u001b[0m\u001b[1;33m\u001b[0m\u001b[1;33m\u001b[0m\u001b[0m\n\u001b[0m",
      "\u001b[1;32m~\\Anaconda3\\lib\\site-packages\\pandas\\core\\generic.py\u001b[0m in \u001b[0;36m__getattr__\u001b[1;34m(self, name)\u001b[0m\n\u001b[0;32m   5272\u001b[0m             \u001b[1;32mif\u001b[0m \u001b[0mself\u001b[0m\u001b[1;33m.\u001b[0m\u001b[0m_info_axis\u001b[0m\u001b[1;33m.\u001b[0m\u001b[0m_can_hold_identifiers_and_holds_name\u001b[0m\u001b[1;33m(\u001b[0m\u001b[0mname\u001b[0m\u001b[1;33m)\u001b[0m\u001b[1;33m:\u001b[0m\u001b[1;33m\u001b[0m\u001b[1;33m\u001b[0m\u001b[0m\n\u001b[0;32m   5273\u001b[0m                 \u001b[1;32mreturn\u001b[0m \u001b[0mself\u001b[0m\u001b[1;33m[\u001b[0m\u001b[0mname\u001b[0m\u001b[1;33m]\u001b[0m\u001b[1;33m\u001b[0m\u001b[1;33m\u001b[0m\u001b[0m\n\u001b[1;32m-> 5274\u001b[1;33m             \u001b[1;32mreturn\u001b[0m \u001b[0mobject\u001b[0m\u001b[1;33m.\u001b[0m\u001b[0m__getattribute__\u001b[0m\u001b[1;33m(\u001b[0m\u001b[0mself\u001b[0m\u001b[1;33m,\u001b[0m \u001b[0mname\u001b[0m\u001b[1;33m)\u001b[0m\u001b[1;33m\u001b[0m\u001b[1;33m\u001b[0m\u001b[0m\n\u001b[0m\u001b[0;32m   5275\u001b[0m \u001b[1;33m\u001b[0m\u001b[0m\n\u001b[0;32m   5276\u001b[0m     \u001b[1;32mdef\u001b[0m \u001b[0m__setattr__\u001b[0m\u001b[1;33m(\u001b[0m\u001b[0mself\u001b[0m\u001b[1;33m,\u001b[0m \u001b[0mname\u001b[0m\u001b[1;33m:\u001b[0m \u001b[0mstr\u001b[0m\u001b[1;33m,\u001b[0m \u001b[0mvalue\u001b[0m\u001b[1;33m)\u001b[0m \u001b[1;33m->\u001b[0m \u001b[1;32mNone\u001b[0m\u001b[1;33m:\u001b[0m\u001b[1;33m\u001b[0m\u001b[1;33m\u001b[0m\u001b[0m\n",
      "\u001b[1;31mAttributeError\u001b[0m: 'DataFrame' object has no attribute '월'"
     ]
    }
   ],
   "source": [
    "df.월.value_counts().plot(kind='bar', rot='45', figsize =(25,3))"
   ]
  },
  {
   "cell_type": "code",
   "execution_count": 11,
   "metadata": {},
   "outputs": [
    {
     "ename": "AttributeError",
     "evalue": "'DataFrame' object has no attribute '요일'",
     "output_type": "error",
     "traceback": [
      "\u001b[1;31m---------------------------------------------------------------------------\u001b[0m",
      "\u001b[1;31mAttributeError\u001b[0m                            Traceback (most recent call last)",
      "\u001b[1;32m<ipython-input-11-f32ce4263b1b>\u001b[0m in \u001b[0;36m<module>\u001b[1;34m\u001b[0m\n\u001b[1;32m----> 1\u001b[1;33m \u001b[0mdf\u001b[0m\u001b[1;33m.\u001b[0m\u001b[0m요일\u001b[0m\u001b[1;33m.\u001b[0m\u001b[0mvalue_counts\u001b[0m\u001b[1;33m(\u001b[0m\u001b[1;33m)\u001b[0m\u001b[1;33m.\u001b[0m\u001b[0mplot\u001b[0m\u001b[1;33m(\u001b[0m\u001b[0mkind\u001b[0m\u001b[1;33m=\u001b[0m\u001b[1;34m'bar'\u001b[0m\u001b[1;33m,\u001b[0m \u001b[0mrot\u001b[0m\u001b[1;33m=\u001b[0m\u001b[1;34m'45'\u001b[0m\u001b[1;33m,\u001b[0m \u001b[0mfigsize\u001b[0m \u001b[1;33m=\u001b[0m\u001b[1;33m(\u001b[0m\u001b[1;36m25\u001b[0m\u001b[1;33m,\u001b[0m\u001b[1;36m3\u001b[0m\u001b[1;33m)\u001b[0m\u001b[1;33m)\u001b[0m\u001b[1;33m\u001b[0m\u001b[1;33m\u001b[0m\u001b[0m\n\u001b[0m",
      "\u001b[1;32m~\\Anaconda3\\lib\\site-packages\\pandas\\core\\generic.py\u001b[0m in \u001b[0;36m__getattr__\u001b[1;34m(self, name)\u001b[0m\n\u001b[0;32m   5272\u001b[0m             \u001b[1;32mif\u001b[0m \u001b[0mself\u001b[0m\u001b[1;33m.\u001b[0m\u001b[0m_info_axis\u001b[0m\u001b[1;33m.\u001b[0m\u001b[0m_can_hold_identifiers_and_holds_name\u001b[0m\u001b[1;33m(\u001b[0m\u001b[0mname\u001b[0m\u001b[1;33m)\u001b[0m\u001b[1;33m:\u001b[0m\u001b[1;33m\u001b[0m\u001b[1;33m\u001b[0m\u001b[0m\n\u001b[0;32m   5273\u001b[0m                 \u001b[1;32mreturn\u001b[0m \u001b[0mself\u001b[0m\u001b[1;33m[\u001b[0m\u001b[0mname\u001b[0m\u001b[1;33m]\u001b[0m\u001b[1;33m\u001b[0m\u001b[1;33m\u001b[0m\u001b[0m\n\u001b[1;32m-> 5274\u001b[1;33m             \u001b[1;32mreturn\u001b[0m \u001b[0mobject\u001b[0m\u001b[1;33m.\u001b[0m\u001b[0m__getattribute__\u001b[0m\u001b[1;33m(\u001b[0m\u001b[0mself\u001b[0m\u001b[1;33m,\u001b[0m \u001b[0mname\u001b[0m\u001b[1;33m)\u001b[0m\u001b[1;33m\u001b[0m\u001b[1;33m\u001b[0m\u001b[0m\n\u001b[0m\u001b[0;32m   5275\u001b[0m \u001b[1;33m\u001b[0m\u001b[0m\n\u001b[0;32m   5276\u001b[0m     \u001b[1;32mdef\u001b[0m \u001b[0m__setattr__\u001b[0m\u001b[1;33m(\u001b[0m\u001b[0mself\u001b[0m\u001b[1;33m,\u001b[0m \u001b[0mname\u001b[0m\u001b[1;33m:\u001b[0m \u001b[0mstr\u001b[0m\u001b[1;33m,\u001b[0m \u001b[0mvalue\u001b[0m\u001b[1;33m)\u001b[0m \u001b[1;33m->\u001b[0m \u001b[1;32mNone\u001b[0m\u001b[1;33m:\u001b[0m\u001b[1;33m\u001b[0m\u001b[1;33m\u001b[0m\u001b[0m\n",
      "\u001b[1;31mAttributeError\u001b[0m: 'DataFrame' object has no attribute '요일'"
     ]
    }
   ],
   "source": [
    "df.요일.value_counts().plot(kind='bar', rot='45', figsize =(25,3))"
   ]
  },
  {
   "cell_type": "markdown",
   "metadata": {},
   "source": [
    "# <font color='green'> 2. 텍스트 전처리"
   ]
  },
  {
   "cell_type": "code",
   "execution_count": 12,
   "metadata": {},
   "outputs": [],
   "source": [
    "from tqdm import tqdm_notebook\n",
    "import re\n",
    "\n",
    "def brush_clean (regex) :\n",
    "    \n",
    "    print('청소전', df.head(3))\n",
    "    for pattern_string in tqdm_notebook(regex) :\n",
    "        pattern = re.compile(pattern_string)\n",
    "        df['신고내용'] = df['신고내용'].apply(lambda x : re.sub(pattern, ' ', str(x)))\n",
    "    \n",
    "    df['신고내용'] = df['신고내용'].apply(lambda x : \"\".join(x.replace(\"\\n\",\" \")))\n",
    "        \n",
    "    return df['신고내용']"
   ]
  },
  {
   "cell_type": "markdown",
   "metadata": {},
   "source": [
    "### 2.1 특수문자 제거"
   ]
  },
  {
   "cell_type": "code",
   "execution_count": 13,
   "metadata": {},
   "outputs": [
    {
     "name": "stdout",
     "output_type": "stream",
     "text": [
      "청소전                      신고일시                                               신고내용  \\\n",
      "36470 2018-07-26 09:23:00  <박현미대박김치에서 이물발견>\\n민원인은 2018-07-16일경 서창식자재마트(인천...   \n",
      "5343  2015-07-27 17:33:00  식객소불고기도시락(즉석섭취식품) 주의 사항 표시 관련 신고주심.\\n\\n제품 표시 사...   \n",
      "16885 2016-09-07 14:03:00  <담터꿀유자차에서 이물발견>\\n민원인이 2016-08월중순쯤 롯데마트 삼양점에서 담...   \n",
      "\n",
      "           년도    시도  length_sentence  num_words  num_uniq_words  \n",
      "36470  2018.0   경기도              445         80              77  \n",
      "5343   2015.0   NaN              293         65              58  \n",
      "16885  2016.0  전라남도              160         27              26  \n"
     ]
    },
    {
     "data": {
      "application/vnd.jupyter.widget-view+json": {
       "model_id": "e4bea36af5ab4e58b569635bb003f6b8",
       "version_major": 2,
       "version_minor": 0
      },
      "text/plain": [
       "HBox(children=(FloatProgress(value=0.0, max=19.0), HTML(value='')))"
      ]
     },
     "metadata": {},
     "output_type": "display_data"
    },
    {
     "name": "stdout",
     "output_type": "stream",
     "text": [
      "\n"
     ]
    },
    {
     "data": {
      "text/plain": [
       "36470     박현미대박김치에서 이물발견  민원인은 2018 07 16일경 서창식자재마트 인천 ...\n",
       "5343     식객소불고기도시락 즉석섭취식품  주의 사항 표시 관련 신고주심   제품 표시 사항에...\n",
       "16885     담터꿀유자차에서 이물발견  민원인이 2016 08월중순쯤 롯데마트 삼양점에서 담터...\n",
       "22654     빨간통닭 위생불량  민원인은 빨간통닭 일반음식점 대구광역시 서구 달서로12길 14...\n",
       "45870     해룡각 짬뽕 플라스틱가닥 이물발견   민원인은 2019 05 26  해룡각 부산광...\n",
       "                               ...                        \n",
       "44129     발효현미 표시사항 관련  민원인은 당뇨를 앓고 있어 민원인의 자녀가 옥션을 통해 ...\n",
       "51344     진한초코 은박지 이물 발견  민원인의 자녀는 학교 급식시 진한초코 유형  혼합음료...\n",
       "20454     송담추어탕 충북청주점 추어탕에서 벌레발견  민원인이 2017 01 15 송담추어탕...\n",
       "21441     스무디더오렌지 곰팡이이물발견  민원인은 17 02 14 GS샵 인터넷 에서 스무디...\n",
       "37584     하림 닭근위소금구이 제품변질  민원인은 2018 08 22경 이마트 진접점 경기도...\n",
       "Name: 신고내용, Length: 2644, dtype: object"
      ]
     },
     "execution_count": 13,
     "metadata": {},
     "output_type": "execute_result"
    }
   ],
   "source": [
    "regex = ['[*]', '[.]', '[,]', '[-]', '[/]', \"[`]\", '[\"]',\n",
    "        '[%]', '[?]', '[&]', '[$]', '\\b', '\\t', '[:]', '[)]', '[(]', '[>]', '[<]', '[:]']\n",
    "\n",
    "brush_clean (regex)"
   ]
  },
  {
   "cell_type": "markdown",
   "metadata": {},
   "source": [
    "### 2.2 한글 혹은 영어로 시작하는 단어만 채택"
   ]
  },
  {
   "cell_type": "code",
   "execution_count": 14,
   "metadata": {},
   "outputs": [
    {
     "name": "stdout",
     "output_type": "stream",
     "text": [
      "청소전                      신고일시                                               신고내용  \\\n",
      "36470 2018-07-26 09:23:00   박현미대박김치에서 이물발견  민원인은 2018 07 16일경 서창식자재마트 인천 ...   \n",
      "5343  2015-07-27 17:33:00  식객소불고기도시락 즉석섭취식품  주의 사항 표시 관련 신고주심   제품 표시 사항에...   \n",
      "16885 2016-09-07 14:03:00   담터꿀유자차에서 이물발견  민원인이 2016 08월중순쯤 롯데마트 삼양점에서 담터...   \n",
      "\n",
      "           년도    시도  length_sentence  num_words  num_uniq_words  \n",
      "36470  2018.0   경기도              445         80              77  \n",
      "5343   2015.0   NaN              293         65              58  \n",
      "16885  2016.0  전라남도              160         27              26  \n"
     ]
    },
    {
     "data": {
      "application/vnd.jupyter.widget-view+json": {
       "model_id": "fb1a2e208d9b41a1b999bc928eabbca8",
       "version_major": 2,
       "version_minor": 0
      },
      "text/plain": [
       "HBox(children=(FloatProgress(value=0.0, max=1.0), HTML(value='')))"
      ]
     },
     "metadata": {},
     "output_type": "display_data"
    },
    {
     "name": "stdout",
     "output_type": "stream",
     "text": [
      "\n"
     ]
    },
    {
     "data": {
      "text/plain": [
       "36470     박현미대박김치에서 이물발견  민원인은           일경 서창식자재마트 인천 ...\n",
       "5343     식객소불고기도시락 즉석섭취식품  주의 사항 표시 관련 신고주심   제품 표시 사항에...\n",
       "16885     담터꿀유자차에서 이물발견  민원인이        월중순쯤 롯데마트 삼양점에서 담터...\n",
       "22654     빨간통닭 위생불량  민원인은 빨간통닭 일반음식점 대구광역시 서구 달서로  길   ...\n",
       "45870     해룡각 짬뽕 플라스틱가닥 이물발견   민원인은             해룡각 부산광...\n",
       "                               ...                        \n",
       "44129     발효현미 표시사항 관련  민원인은 당뇨를 앓고 있어 민원인의 자녀가 옥션을 통해 ...\n",
       "51344     진한초코 은박지 이물 발견  민원인의 자녀는 학교 급식시 진한초코 유형  혼합음료...\n",
       "20454     송담추어탕 충북청주점 추어탕에서 벌레발견  민원인이            송담추어탕...\n",
       "21441     스무디더오렌지 곰팡이이물발견  민원인은          GS샵 인터넷 에서 스무디...\n",
       "37584     하림 닭근위소금구이 제품변질  민원인은           경 이마트 진접점 경기도...\n",
       "Name: 신고내용, Length: 2644, dtype: object"
      ]
     },
     "execution_count": 14,
     "metadata": {},
     "output_type": "execute_result"
    }
   ],
   "source": [
    "regex = ['[^가-힣a-zA-Z\\s]']\n",
    "\n",
    "brush_clean (regex)"
   ]
  },
  {
   "cell_type": "markdown",
   "metadata": {},
   "source": [
    "### 2.3 달랑 '한' 글자 제거\n",
    "#### 동시에 더블스페이스이상은 모두 그냥 스페이스로 변경\n",
    "#### /n도 모두 제거"
   ]
  },
  {
   "cell_type": "code",
   "execution_count": 15,
   "metadata": {
    "scrolled": false
   },
   "outputs": [
    {
     "data": {
      "text/plain": [
       "'제이나초소스 변질의심 민원인은 중순경 다농마트식자재할인점 서울특별시 마포구 월드컵로 마포농수산물시장 에서 제이나초소스 소스류 제일유업 경기도 화성시 융건로 유통기한 구입하여 하나를 개봉함 개봉하여 보니 물과 소스가 분리되고 물이 뚝뚝 떨어짐 남은 제품은 개봉하지 않았으나 눈으로 물과 소스가 분리된 것이 보임 제품이 변질된 것으로 의심되어 원인조사 재발방지를 위해 신고접수함 사진전송함 현품보관중 사진전송시 제품의 회사에 전화를 했더니 너무 불성실하게 전화를 받아 이렇게 신고하게 됐으니 진상 규명에 최선을 다해 응해주시길바랍니다 참고로 저는 경희대 조리과 출신으로 호텔에서 년간 요리를 사람입니다 라고 같이 기재해주셨음'"
      ]
     },
     "execution_count": 15,
     "metadata": {},
     "output_type": "execute_result"
    }
   ],
   "source": [
    "df['신고내용'] = df['신고내용'].apply(lambda x: ' '.join([w for w in x.split() if len(w) > 1]))\n",
    "df['신고내용'].loc[27890]"
   ]
  },
  {
   "cell_type": "code",
   "execution_count": 16,
   "metadata": {},
   "outputs": [
    {
     "data": {
      "text/html": [
       "<div>\n",
       "<style scoped>\n",
       "    .dataframe tbody tr th:only-of-type {\n",
       "        vertical-align: middle;\n",
       "    }\n",
       "\n",
       "    .dataframe tbody tr th {\n",
       "        vertical-align: top;\n",
       "    }\n",
       "\n",
       "    .dataframe thead th {\n",
       "        text-align: right;\n",
       "    }\n",
       "</style>\n",
       "<table border=\"1\" class=\"dataframe\">\n",
       "  <thead>\n",
       "    <tr style=\"text-align: right;\">\n",
       "      <th></th>\n",
       "      <th>신고일시</th>\n",
       "      <th>신고내용</th>\n",
       "      <th>년도</th>\n",
       "      <th>시도</th>\n",
       "      <th>length_sentence</th>\n",
       "      <th>num_words</th>\n",
       "      <th>num_uniq_words</th>\n",
       "    </tr>\n",
       "  </thead>\n",
       "  <tbody>\n",
       "    <tr>\n",
       "      <th>36470</th>\n",
       "      <td>2018-07-26 09:23:00</td>\n",
       "      <td>박현미대박김치에서 이물발견 민원인은 일경 서창식자재마트 인천 남동구 서창남순환로 번...</td>\n",
       "      <td>2018.0</td>\n",
       "      <td>경기도</td>\n",
       "      <td>445</td>\n",
       "      <td>80</td>\n",
       "      <td>77</td>\n",
       "    </tr>\n",
       "    <tr>\n",
       "      <th>5343</th>\n",
       "      <td>2015-07-27 17:33:00</td>\n",
       "      <td>식객소불고기도시락 즉석섭취식품 주의 사항 표시 관련 신고주심 제품 표시 사항에 전자...</td>\n",
       "      <td>2015.0</td>\n",
       "      <td>NaN</td>\n",
       "      <td>293</td>\n",
       "      <td>65</td>\n",
       "      <td>58</td>\n",
       "    </tr>\n",
       "    <tr>\n",
       "      <th>16885</th>\n",
       "      <td>2016-09-07 14:03:00</td>\n",
       "      <td>담터꿀유자차에서 이물발견 민원인이 월중순쯤 롯데마트 삼양점에서 담터꿀유자차를 구매 ...</td>\n",
       "      <td>2016.0</td>\n",
       "      <td>전라남도</td>\n",
       "      <td>160</td>\n",
       "      <td>27</td>\n",
       "      <td>26</td>\n",
       "    </tr>\n",
       "    <tr>\n",
       "      <th>22654</th>\n",
       "      <td>2017-04-24 13:16:00</td>\n",
       "      <td>빨간통닭 위생불량 민원인은 빨간통닭 일반음식점 대구광역시 서구 달서로 닭을 배달하면...</td>\n",
       "      <td>2017.0</td>\n",
       "      <td>대구광역시</td>\n",
       "      <td>260</td>\n",
       "      <td>59</td>\n",
       "      <td>58</td>\n",
       "    </tr>\n",
       "    <tr>\n",
       "      <th>45870</th>\n",
       "      <td>2019-05-27 16:11:00</td>\n",
       "      <td>해룡각 짬뽕 플라스틱가닥 이물발견 민원인은 해룡각 부산광역시 사하구 윤공단로 다대남...</td>\n",
       "      <td>2019.0</td>\n",
       "      <td>NaN</td>\n",
       "      <td>141</td>\n",
       "      <td>26</td>\n",
       "      <td>26</td>\n",
       "    </tr>\n",
       "  </tbody>\n",
       "</table>\n",
       "</div>"
      ],
      "text/plain": [
       "                     신고일시                                               신고내용  \\\n",
       "36470 2018-07-26 09:23:00  박현미대박김치에서 이물발견 민원인은 일경 서창식자재마트 인천 남동구 서창남순환로 번...   \n",
       "5343  2015-07-27 17:33:00  식객소불고기도시락 즉석섭취식품 주의 사항 표시 관련 신고주심 제품 표시 사항에 전자...   \n",
       "16885 2016-09-07 14:03:00  담터꿀유자차에서 이물발견 민원인이 월중순쯤 롯데마트 삼양점에서 담터꿀유자차를 구매 ...   \n",
       "22654 2017-04-24 13:16:00  빨간통닭 위생불량 민원인은 빨간통닭 일반음식점 대구광역시 서구 달서로 닭을 배달하면...   \n",
       "45870 2019-05-27 16:11:00  해룡각 짬뽕 플라스틱가닥 이물발견 민원인은 해룡각 부산광역시 사하구 윤공단로 다대남...   \n",
       "\n",
       "           년도     시도  length_sentence  num_words  num_uniq_words  \n",
       "36470  2018.0    경기도              445         80              77  \n",
       "5343   2015.0    NaN              293         65              58  \n",
       "16885  2016.0   전라남도              160         27              26  \n",
       "22654  2017.0  대구광역시              260         59              58  \n",
       "45870  2019.0    NaN              141         26              26  "
      ]
     },
     "execution_count": 16,
     "metadata": {},
     "output_type": "execute_result"
    }
   ],
   "source": [
    "df.head()"
   ]
  },
  {
   "cell_type": "markdown",
   "metadata": {},
   "source": [
    "### 2.4 Corpus 생성 (corpus,  말뭉치는 리스트형태로)"
   ]
  },
  {
   "cell_type": "code",
   "execution_count": 17,
   "metadata": {
    "scrolled": false
   },
   "outputs": [
    {
     "data": {
      "text/html": [
       "<div>\n",
       "<style scoped>\n",
       "    .dataframe tbody tr th:only-of-type {\n",
       "        vertical-align: middle;\n",
       "    }\n",
       "\n",
       "    .dataframe tbody tr th {\n",
       "        vertical-align: top;\n",
       "    }\n",
       "\n",
       "    .dataframe thead th {\n",
       "        text-align: right;\n",
       "    }\n",
       "</style>\n",
       "<table border=\"1\" class=\"dataframe\">\n",
       "  <thead>\n",
       "    <tr style=\"text-align: right;\">\n",
       "      <th></th>\n",
       "      <th>신고내용</th>\n",
       "    </tr>\n",
       "  </thead>\n",
       "  <tbody>\n",
       "    <tr>\n",
       "      <th>0</th>\n",
       "      <td>박현미대박김치에서 이물발견 민원인은 일경 서창식자재마트 인천 남동구 서창남순환로 번...</td>\n",
       "    </tr>\n",
       "    <tr>\n",
       "      <th>1</th>\n",
       "      <td>식객소불고기도시락 즉석섭취식품 주의 사항 표시 관련 신고주심 제품 표시 사항에 전자...</td>\n",
       "    </tr>\n",
       "    <tr>\n",
       "      <th>2</th>\n",
       "      <td>담터꿀유자차에서 이물발견 민원인이 월중순쯤 롯데마트 삼양점에서 담터꿀유자차를 구매 ...</td>\n",
       "    </tr>\n",
       "    <tr>\n",
       "      <th>3</th>\n",
       "      <td>빨간통닭 위생불량 민원인은 빨간통닭 일반음식점 대구광역시 서구 달서로 닭을 배달하면...</td>\n",
       "    </tr>\n",
       "    <tr>\n",
       "      <th>4</th>\n",
       "      <td>해룡각 짬뽕 플라스틱가닥 이물발견 민원인은 해룡각 부산광역시 사하구 윤공단로 다대남...</td>\n",
       "    </tr>\n",
       "  </tbody>\n",
       "</table>\n",
       "</div>"
      ],
      "text/plain": [
       "                                                신고내용\n",
       "0  박현미대박김치에서 이물발견 민원인은 일경 서창식자재마트 인천 남동구 서창남순환로 번...\n",
       "1  식객소불고기도시락 즉석섭취식품 주의 사항 표시 관련 신고주심 제품 표시 사항에 전자...\n",
       "2  담터꿀유자차에서 이물발견 민원인이 월중순쯤 롯데마트 삼양점에서 담터꿀유자차를 구매 ...\n",
       "3  빨간통닭 위생불량 민원인은 빨간통닭 일반음식점 대구광역시 서구 달서로 닭을 배달하면...\n",
       "4  해룡각 짬뽕 플라스틱가닥 이물발견 민원인은 해룡각 부산광역시 사하구 윤공단로 다대남..."
      ]
     },
     "execution_count": 17,
     "metadata": {},
     "output_type": "execute_result"
    }
   ],
   "source": [
    "corpus = [] \n",
    "for fn in df['신고내용'] :  # (text를 반복문으로 불러 읽어 리스트로 다시 기록)\n",
    "    corpus.append(fn)\n",
    "    \n",
    "corpus = pd.DataFrame(corpus) # 데이터프레임 저장\n",
    "corpus.columns = ['신고내용']\n",
    "\n",
    "corpus_fname = dir_path + '../1399_output/corpus.txt'\n",
    "corpus.to_csv(dir_path + '../1399_output/corpus.txt', sep=\" \", header=None) # 필요시 저장\n",
    "\n",
    "corpus.head()"
   ]
  },
  {
   "cell_type": "markdown",
   "metadata": {},
   "source": [
    "# <font color='green'> 3. 명사를 추출하여 명사추출기(twitter.dictionary)에 추가"
   ]
  },
  {
   "cell_type": "markdown",
   "metadata": {},
   "source": [
    "### 3.1 min_num_of_features를 5, 10, 15, 20으로 해보고 가장 좋은 것을 select한 결과"
   ]
  },
  {
   "cell_type": "code",
   "execution_count": 18,
   "metadata": {},
   "outputs": [],
   "source": [
    "from soynlp.utils import DoublespaceLineCorpus\n",
    "from soynlp.noun import LRNounExtractor_v2"
   ]
  },
  {
   "cell_type": "code",
   "execution_count": 19,
   "metadata": {},
   "outputs": [
    {
     "name": "stdout",
     "output_type": "stream",
     "text": [
      "[Noun Extractor] use default predictors\n",
      "[Noun Extractor] num features: pos=3929, neg=2321, common=107\n",
      "[Noun Extractor] counting eojeols\n",
      "[EojeolCounter] n eojeol = 39169 from 2644 sents. mem=0.159 Gb                    \n",
      "[Noun Extractor] complete eojeol counter -> lr graph\n",
      "[Noun Extractor] has been trained. #eojeols=139926, mem=0.240 Gb\n",
      "[Noun Extractor] batch prediction was completed for 13117 words\n",
      "[Noun Extractor] checked compounds. discovered 3222 compounds\n",
      "[Noun Extractor] postprocessing detaching_features : 1809 -> 1781\n",
      "[Noun Extractor] postprocessing ignore_features : 1781 -> 1728\n",
      "[Noun Extractor] postprocessing ignore_NJ : 1728 -> 1712\n",
      "[Noun Extractor] 1712 nouns (3222 compounds) with min frequency=5\n",
      "[Noun Extractor] flushing was done. mem=0.266 Gb                    \n",
      "[Noun Extractor] 64.93 % eojeols are covered\n"
     ]
    }
   ],
   "source": [
    "sents = DoublespaceLineCorpus(corpus_fname, iter_sent=True) # 명사인식을 위한 메소드 내부구조 \n",
    "\n",
    "noun_extractor = LRNounExtractor_v2(verbose=True, max_left_length=10, min_num_of_features = 5) # 명사 인식기 생성\n",
    "noun_extractor.train(sents) # 명사 인식기 학습\n",
    "\n",
    "nouns = noun_extractor.extract(min_noun_frequency=5) # 명사추출, dictionary 자료 형태임"
   ]
  },
  {
   "cell_type": "markdown",
   "metadata": {},
   "source": [
    "### 3.2 한 글자 제거하고 따옴표 등 정리\n",
    "필요시 파일로 저장, 잘못 인식된 단어가 많으므로 수작업을 통해 필요한 단어 정리 필요"
   ]
  },
  {
   "cell_type": "code",
   "execution_count": 20,
   "metadata": {},
   "outputs": [
    {
     "name": "stdout",
     "output_type": "stream",
     "text": [
      "(1) 추출된 명사 총 개수 :  1712\n",
      "(2) 추출된 한 글자 명사 총 개수 :  98\n",
      "(3) 두글자 이상 명사 총 개수 :  1614\n"
     ]
    }
   ],
   "source": [
    "noun_list = list(nouns.keys()) # 사전형자료를 리스트자료로 변환\n",
    "print('(1) 추출된 명사 총 개수 : ', len(noun_list))\n",
    "\n",
    "single_letter_list =[]\n",
    "\n",
    "for word in noun_list:\n",
    "    if len(word) == 1:\n",
    "       single_letter_list.append(word)\n",
    "\n",
    "print('(2) 추출된 한 글자 명사 총 개수 : ', len(single_letter_list))\n",
    "print('(3) 두글자 이상 명사 총 개수 : ' , len(noun_list) - len(single_letter_list))\n",
    "\n",
    "noun_list = list(set(noun_list) - set(single_letter_list))"
   ]
  },
  {
   "cell_type": "markdown",
   "metadata": {},
   "source": [
    "#### 따옴표 제거하여 재정리"
   ]
  },
  {
   "cell_type": "code",
   "execution_count": 21,
   "metadata": {
    "scrolled": false
   },
   "outputs": [
    {
     "data": {
      "text/plain": [
       "1614"
      ]
     },
     "execution_count": 21,
     "metadata": {},
     "output_type": "execute_result"
    },
    {
     "data": {
      "text/plain": [
       "'인허가,사진첨부,시장,계산대,구토,이하,기름,본인,카드결제,알게,내용상,경남,낚시줄,없는지,함유,깻잎,녹취,오래,나사,배달의민족,세븐일레븐,신고,포장일자,점검,칼국수,홈앤쇼핑,않은것,번호,담당기관,접객업,맛있는우유GT,해주겠다고,서울우유,위생,용량,영상,교환,일행,공단,세트,구토를,쌓여,신뢰,신고접수,이마트몰,육회,하나로클럽,도가니탕,제품관리,미정,정육점,식당,신고인,반찬,현장,길이,그중,냉장보관을,중량,광고,햇반,수도,조사기관,심각,넘어,신맛,출구,쇳가루,안되어,알고,반품,겉포장,국내,가량,그후,위치,신고내용,소시지,대형마트,파리바게뜨,땅콩,해동,현미,물건,콩나물,표시사항이,날파리,비린내,의심,직원,포함,딱딱,충무,비위생적,실온보관,반복,꼬리곰탕,노점,지렁이,방문,삼겹살,냉동식품,미표시,주장,기분,이전,만들었다고,업체측,사장님,위생관련,다음,CU,테이블,월말,배달주문,자녀,파손,표시,고객,유통단계,탄화물,밑반찬,소고기,초록색,봉지,동일제품,mm,식용란수집판매원,일장,월경,야채,쉰맛'"
      ]
     },
     "execution_count": 21,
     "metadata": {},
     "output_type": "execute_result"
    }
   ],
   "source": [
    "noun_list_new =[]\n",
    "\n",
    "for i in noun_list :\n",
    "    noun_list_new.append(i.replace('\"',\"\"))\n",
    "    \n",
    "len(noun_list_new)\n",
    "','.join(noun_list_new)[0:500]\n",
    "\n",
    "noun_list = noun_list_new"
   ]
  },
  {
   "cell_type": "code",
   "execution_count": 22,
   "metadata": {
    "scrolled": true
   },
   "outputs": [
    {
     "data": {
      "text/html": [
       "<div>\n",
       "<style scoped>\n",
       "    .dataframe tbody tr th:only-of-type {\n",
       "        vertical-align: middle;\n",
       "    }\n",
       "\n",
       "    .dataframe tbody tr th {\n",
       "        vertical-align: top;\n",
       "    }\n",
       "\n",
       "    .dataframe thead th {\n",
       "        text-align: right;\n",
       "    }\n",
       "</style>\n",
       "<table border=\"1\" class=\"dataframe\">\n",
       "  <thead>\n",
       "    <tr style=\"text-align: right;\">\n",
       "      <th></th>\n",
       "      <th>0</th>\n",
       "    </tr>\n",
       "  </thead>\n",
       "  <tbody>\n",
       "    <tr>\n",
       "      <th>0</th>\n",
       "      <td>인허가</td>\n",
       "    </tr>\n",
       "    <tr>\n",
       "      <th>1</th>\n",
       "      <td>사진첨부</td>\n",
       "    </tr>\n",
       "    <tr>\n",
       "      <th>2</th>\n",
       "      <td>시장</td>\n",
       "    </tr>\n",
       "    <tr>\n",
       "      <th>3</th>\n",
       "      <td>계산대</td>\n",
       "    </tr>\n",
       "    <tr>\n",
       "      <th>4</th>\n",
       "      <td>구토</td>\n",
       "    </tr>\n",
       "    <tr>\n",
       "      <th>...</th>\n",
       "      <td>...</td>\n",
       "    </tr>\n",
       "    <tr>\n",
       "      <th>1609</th>\n",
       "      <td>제조공정</td>\n",
       "    </tr>\n",
       "    <tr>\n",
       "      <th>1610</th>\n",
       "      <td>제주시</td>\n",
       "    </tr>\n",
       "    <tr>\n",
       "      <th>1611</th>\n",
       "      <td>메뉴</td>\n",
       "    </tr>\n",
       "    <tr>\n",
       "      <th>1612</th>\n",
       "      <td>변경</td>\n",
       "    </tr>\n",
       "    <tr>\n",
       "      <th>1613</th>\n",
       "      <td>섭취를</td>\n",
       "    </tr>\n",
       "  </tbody>\n",
       "</table>\n",
       "<p>1614 rows × 1 columns</p>\n",
       "</div>"
      ],
      "text/plain": [
       "         0\n",
       "0      인허가\n",
       "1     사진첨부\n",
       "2       시장\n",
       "3      계산대\n",
       "4       구토\n",
       "...    ...\n",
       "1609  제조공정\n",
       "1610   제주시\n",
       "1611    메뉴\n",
       "1612    변경\n",
       "1613   섭취를\n",
       "\n",
       "[1614 rows x 1 columns]"
      ]
     },
     "execution_count": 22,
     "metadata": {},
     "output_type": "execute_result"
    }
   ],
   "source": [
    "# 필요시\n",
    "nouns_df = pd.DataFrame(noun_list)\n",
    "nouns_df.to_excel(dir_path + '../1399_working/nouns.xlsx')\n",
    "nouns_df"
   ]
  },
  {
   "cell_type": "code",
   "execution_count": 23,
   "metadata": {},
   "outputs": [
    {
     "ename": "NameError",
     "evalue": "name 'Image' is not defined",
     "output_type": "error",
     "traceback": [
      "\u001b[1;31m---------------------------------------------------------------------------\u001b[0m",
      "\u001b[1;31mNameError\u001b[0m                                 Traceback (most recent call last)",
      "\u001b[1;32m<ipython-input-23-e270574f47d3>\u001b[0m in \u001b[0;36m<module>\u001b[1;34m\u001b[0m\n\u001b[1;32m----> 1\u001b[1;33m \u001b[0mImage\u001b[0m\u001b[1;33m(\u001b[0m\u001b[0mfilename\u001b[0m\u001b[1;33m=\u001b[0m\u001b[1;34m'../images/img4.png'\u001b[0m\u001b[1;33m,\u001b[0m \u001b[0mwidth\u001b[0m\u001b[1;33m=\u001b[0m\u001b[1;36m800\u001b[0m\u001b[1;33m,\u001b[0m \u001b[0mheight\u001b[0m\u001b[1;33m=\u001b[0m\u001b[1;36m300\u001b[0m\u001b[1;33m)\u001b[0m\u001b[1;33m\u001b[0m\u001b[1;33m\u001b[0m\u001b[0m\n\u001b[0m",
      "\u001b[1;31mNameError\u001b[0m: name 'Image' is not defined"
     ]
    }
   ],
   "source": [
    "Image(filename='../images/img4.png', width=800, height=300)"
   ]
  },
  {
   "cell_type": "code",
   "execution_count": 24,
   "metadata": {
    "scrolled": true
   },
   "outputs": [
    {
     "data": {
      "text/plain": [
       "1941"
      ]
     },
     "execution_count": 24,
     "metadata": {},
     "output_type": "execute_result"
    },
    {
     "data": {
      "text/plain": [
       "318"
      ]
     },
     "execution_count": 24,
     "metadata": {},
     "output_type": "execute_result"
    },
    {
     "data": {
      "text/plain": [
       "1614"
      ]
     },
     "execution_count": 24,
     "metadata": {},
     "output_type": "execute_result"
    },
    {
     "data": {
      "text/plain": [
       "3555"
      ]
     },
     "execution_count": 24,
     "metadata": {},
     "output_type": "execute_result"
    }
   ],
   "source": [
    "refined_nouns = pd.read_excel(dir_path + '../1399_data/refined_nouns_조상.xlsx')['keywords'].tolist()\n",
    "len(refined_nouns)\n",
    "\n",
    "interest_keywors = list(set(pd.read_excel(dir_path + '../1399_data/관심주제어.xlsx')['주제어'].tolist()))\n",
    "len(interest_keywors)\n",
    "\n",
    "len(noun_list)\n",
    "len(noun_list + refined_nouns)\n",
    "twitter_nouns_added = noun_list + refined_nouns + interest_keywors"
   ]
  },
  {
   "cell_type": "markdown",
   "metadata": {},
   "source": [
    "pd.DataFrame(list(set(noun_list) - set(refined_nouns))).to_excel('../1399_working/nouns_부활후보.xlsx')"
   ]
  },
  {
   "cell_type": "markdown",
   "metadata": {},
   "source": [
    "### <font color='purple'> 3.3  twitter add_dict 사전에 추가\n",
    "LRNounExtractor_v2()로 추출한 단어와 연구자가 추가한 관심주제어를 모두 합쳐서 "
   ]
  },
  {
   "cell_type": "code",
   "execution_count": 25,
   "metadata": {
    "scrolled": true
   },
   "outputs": [
    {
     "data": {
      "text/plain": [
       "list"
      ]
     },
     "execution_count": 25,
     "metadata": {},
     "output_type": "execute_result"
    }
   ],
   "source": [
    "from ckonlpy.tag import Twitter\n",
    "twitter = Twitter()\n",
    "\n",
    "type(twitter_nouns_added)\n",
    "twitter.add_dictionary(twitter_nouns_added , 'Noun') "
   ]
  },
  {
   "cell_type": "markdown",
   "metadata": {},
   "source": [
    "# <font color='green'> 4. 키워드 빈도수 분석\n",
    "- CountVectorizer(stop_words = stop_words, ngram_range=(1, 2), min_df= 5, max_df=50)\n",
    "- twitter()로 추출된 명사 corpus를 수치화하는 scikit-learn API\n",
    "- X = vect.fit_transform(corpus) # Doc-Term Matrix 계산\n",
    "- X = TfidfTransformer().fit_transform(X)"
   ]
  },
  {
   "cell_type": "markdown",
   "metadata": {},
   "source": [
    "### <font color='green'> 4.1 불용어 정의\n",
    "#### '../1399_working/select_cho.xlsx'에서 choice 컬럼에 1과 0을 표시하여 1표기 값을 불용어로 만들고 추가하고 싶으면 여기에다가 추가"
   ]
  },
  {
   "cell_type": "code",
   "execution_count": 26,
   "metadata": {
    "scrolled": true
   },
   "outputs": [
    {
     "data": {
      "text/plain": [
       "431"
      ]
     },
     "execution_count": 26,
     "metadata": {},
     "output_type": "execute_result"
    },
    {
     "data": {
      "text/plain": [
       "580"
      ]
     },
     "execution_count": 26,
     "metadata": {},
     "output_type": "execute_result"
    },
    {
     "data": {
      "text/plain": [
       "'부천시,세종 특별자치시,센터,회사법,방법,사진첨부,각별 주의,고자,부산광역시,목적 사항,보람로,본인,년월,개선,연수구,경남,여진,복지여성보건국,신안군,경기,해당제품,영농,착용,허가,유출 우려,입안,오늘,제조 정보,어떻게,많이,어가,호려울로,검사기관협업부서,봉함,이기,도봉구,신고,대구,을때,부산청,점검,번호,식품총괄대응TF,업체,즉시,다고,용량,하동군,서북구,소재지,시경,시간,김제시,공단,보상 불가,통합식품정보서비스과,근처,신고접수,중임,동안구,만원,분당구,부터,유출 유의,부탁,홍천군,소정면,창녕군,발송 발송,신고인,갈매로,길이,종합운동장1로,처음,제조업체,중량,않는다,한글 표시,소비자원,산업,과학경제국,수도,영월군,대구청,조사기관,고령군,증평군,하남시,알고,필요시,계룡시,평창군,이기 때문,영도구,본사,고하,국내,가량,담당 공무원,일산동구'"
      ]
     },
     "execution_count": 26,
     "metadata": {},
     "output_type": "execute_result"
    },
    {
     "data": {
      "text/plain": [
       "1011"
      ]
     },
     "execution_count": 26,
     "metadata": {},
     "output_type": "execute_result"
    }
   ],
   "source": [
    "stop_words = pd.read_excel(dir_path + '../1399_data/Add_stop_words_20200317.xlsx')['Add_stop_words'].tolist()\n",
    "len(set(stop_words))\n",
    "\n",
    "tf = pd.read_excel(dir_path + '../1399_data/select_cho.xlsx')\n",
    "add01_stopwords = tf[tf['choice'] == 1][0].to_list()\n",
    "len(set(add01_stopwords))\n",
    "\n",
    "stop_words = list(set(stop_words) | set(add01_stopwords))\n",
    "','.join(stop_words[0:100])\n",
    "\n",
    "len(stop_words)"
   ]
  },
  {
   "cell_type": "markdown",
   "metadata": {},
   "source": [
    "### <font color='green'> 4.2 주제어 빈도수 분석"
   ]
  },
  {
   "cell_type": "markdown",
   "metadata": {},
   "source": [
    "### <font color='green'> 4.2.1 전체 기간동안 빈도수 분석"
   ]
  },
  {
   "cell_type": "code",
   "execution_count": 27,
   "metadata": {},
   "outputs": [],
   "source": [
    "from sklearn.feature_extraction.text import CountVectorizer, TfidfVectorizer,TfidfTransformer\n",
    "from sklearn.decomposition import LatentDirichletAllocation\n",
    "import pyLDAvis.gensim\n",
    "import pyLDAvis.sklearn\n",
    "import collections"
   ]
  },
  {
   "cell_type": "code",
   "execution_count": 28,
   "metadata": {},
   "outputs": [
    {
     "data": {
      "text/html": [
       "<div>\n",
       "<style scoped>\n",
       "    .dataframe tbody tr th:only-of-type {\n",
       "        vertical-align: middle;\n",
       "    }\n",
       "\n",
       "    .dataframe tbody tr th {\n",
       "        vertical-align: top;\n",
       "    }\n",
       "\n",
       "    .dataframe thead th {\n",
       "        text-align: right;\n",
       "    }\n",
       "</style>\n",
       "<table border=\"1\" class=\"dataframe\">\n",
       "  <thead>\n",
       "    <tr style=\"text-align: right;\">\n",
       "      <th></th>\n",
       "      <th>신고내용</th>\n",
       "    </tr>\n",
       "  </thead>\n",
       "  <tbody>\n",
       "    <tr>\n",
       "      <th>0</th>\n",
       "      <td>박현미대박김치에서 이물발견 민원인은 일경 서창식자재마트 인천 남동구 서창남순환로 번...</td>\n",
       "    </tr>\n",
       "    <tr>\n",
       "      <th>1</th>\n",
       "      <td>식객소불고기도시락 즉석섭취식품 주의 사항 표시 관련 신고주심 제품 표시 사항에 전자...</td>\n",
       "    </tr>\n",
       "    <tr>\n",
       "      <th>2</th>\n",
       "      <td>담터꿀유자차에서 이물발견 민원인이 월중순쯤 롯데마트 삼양점에서 담터꿀유자차를 구매 ...</td>\n",
       "    </tr>\n",
       "    <tr>\n",
       "      <th>3</th>\n",
       "      <td>빨간통닭 위생불량 민원인은 빨간통닭 일반음식점 대구광역시 서구 달서로 닭을 배달하면...</td>\n",
       "    </tr>\n",
       "    <tr>\n",
       "      <th>4</th>\n",
       "      <td>해룡각 짬뽕 플라스틱가닥 이물발견 민원인은 해룡각 부산광역시 사하구 윤공단로 다대남...</td>\n",
       "    </tr>\n",
       "  </tbody>\n",
       "</table>\n",
       "</div>"
      ],
      "text/plain": [
       "                                                신고내용\n",
       "0  박현미대박김치에서 이물발견 민원인은 일경 서창식자재마트 인천 남동구 서창남순환로 번...\n",
       "1  식객소불고기도시락 즉석섭취식품 주의 사항 표시 관련 신고주심 제품 표시 사항에 전자...\n",
       "2  담터꿀유자차에서 이물발견 민원인이 월중순쯤 롯데마트 삼양점에서 담터꿀유자차를 구매 ...\n",
       "3  빨간통닭 위생불량 민원인은 빨간통닭 일반음식점 대구광역시 서구 달서로 닭을 배달하면...\n",
       "4  해룡각 짬뽕 플라스틱가닥 이물발견 민원인은 해룡각 부산광역시 사하구 윤공단로 다대남..."
      ]
     },
     "execution_count": 28,
     "metadata": {},
     "output_type": "execute_result"
    }
   ],
   "source": [
    "corpus.head()"
   ]
  },
  {
   "cell_type": "code",
   "execution_count": 29,
   "metadata": {},
   "outputs": [
    {
     "name": "stderr",
     "output_type": "stream",
     "text": [
      "C:\\Users\\NFSI291\\Anaconda3\\lib\\site-packages\\ipykernel_launcher.py:2: TqdmDeprecationWarning: This function will be removed in tqdm==5.0.0\n",
      "Please use `tqdm.notebook.tqdm` instead of `tqdm.tqdm_notebook`\n",
      "  \n"
     ]
    },
    {
     "data": {
      "application/vnd.jupyter.widget-view+json": {
       "model_id": "58b7578942a446f9a9cc05ec9b0b1d6d",
       "version_major": 2,
       "version_minor": 0
      },
      "text/plain": [
       "HBox(children=(FloatProgress(value=0.0, max=2644.0), HTML(value='')))"
      ]
     },
     "metadata": {},
     "output_type": "display_data"
    },
    {
     "name": "stdout",
     "output_type": "stream",
     "text": [
      "\n"
     ]
    },
    {
     "data": {
      "text/plain": [
       "2644"
      ]
     },
     "execution_count": 29,
     "metadata": {},
     "output_type": "execute_result"
    }
   ],
   "source": [
    "corpus = [] \n",
    "for fn in tqdm_notebook(df['신고내용']) :\n",
    "    text = \" \".join(twitter.nouns(fn))\n",
    "    corpus.append(' '.join([w for w in text.split() if len(w) > 1]))\n",
    "\n",
    "len(corpus)"
   ]
  },
  {
   "cell_type": "code",
   "execution_count": 30,
   "metadata": {},
   "outputs": [
    {
     "data": {
      "text/plain": [
       "2644"
      ]
     },
     "execution_count": 30,
     "metadata": {},
     "output_type": "execute_result"
    },
    {
     "data": {
      "text/plain": [
       "list"
      ]
     },
     "execution_count": 30,
     "metadata": {},
     "output_type": "execute_result"
    }
   ],
   "source": [
    "len(corpus)\n",
    "type(corpus)"
   ]
  },
  {
   "cell_type": "code",
   "execution_count": 31,
   "metadata": {},
   "outputs": [],
   "source": [
    "# ngram_range를 (1,2)를 사용할 경우 unigram 및 bigram 혼합 활용\n",
    "\n",
    "vect = CountVectorizer(stop_words = stop_words, ngram_range=(1, 2), min_df= 0.0025, max_df= 0.7)  \n",
    "X = vect.fit_transform(corpus) # Doc-Term Matrix 계산\n",
    "X = TfidfTransformer().fit_transform(X)\n",
    "\n",
    "count = X.toarray().sum(axis=0) # Doc-Term Matrix 각 단어에 대한 합, 컬럼의 합, 행의 합은 X.toarray().sum(axis=1)\n",
    "idx = np.argsort(-count)\n",
    "count = count[idx]\n",
    "\n",
    "feature_name = np.array(vect.get_feature_names())[idx]\n",
    "keyword_list = list(zip(feature_name, count))\n",
    "result_df = pd.DataFrame(keyword_list)"
   ]
  },
  {
   "cell_type": "code",
   "execution_count": 32,
   "metadata": {},
   "outputs": [
    {
     "data": {
      "text/html": [
       "<div>\n",
       "<style scoped>\n",
       "    .dataframe tbody tr th:only-of-type {\n",
       "        vertical-align: middle;\n",
       "    }\n",
       "\n",
       "    .dataframe tbody tr th {\n",
       "        vertical-align: top;\n",
       "    }\n",
       "\n",
       "    .dataframe thead th {\n",
       "        text-align: right;\n",
       "    }\n",
       "</style>\n",
       "<table border=\"1\" class=\"dataframe\">\n",
       "  <thead>\n",
       "    <tr style=\"text-align: right;\">\n",
       "      <th></th>\n",
       "      <th>0</th>\n",
       "      <th>1</th>\n",
       "    </tr>\n",
       "  </thead>\n",
       "  <tbody>\n",
       "    <tr>\n",
       "      <th>0</th>\n",
       "      <td>이물</td>\n",
       "      <td>135.705627</td>\n",
       "    </tr>\n",
       "    <tr>\n",
       "      <th>1</th>\n",
       "      <td>유통기한</td>\n",
       "      <td>131.560871</td>\n",
       "    </tr>\n",
       "    <tr>\n",
       "      <th>2</th>\n",
       "      <td>이물발견</td>\n",
       "      <td>73.968289</td>\n",
       "    </tr>\n",
       "    <tr>\n",
       "      <th>3</th>\n",
       "      <td>제조원</td>\n",
       "      <td>67.358301</td>\n",
       "    </tr>\n",
       "    <tr>\n",
       "      <th>4</th>\n",
       "      <td>위해</td>\n",
       "      <td>64.330418</td>\n",
       "    </tr>\n",
       "  </tbody>\n",
       "</table>\n",
       "</div>"
      ],
      "text/plain": [
       "      0           1\n",
       "0    이물  135.705627\n",
       "1  유통기한  131.560871\n",
       "2  이물발견   73.968289\n",
       "3   제조원   67.358301\n",
       "4    위해   64.330418"
      ]
     },
     "execution_count": 32,
     "metadata": {},
     "output_type": "execute_result"
    }
   ],
   "source": [
    "result_df.head()"
   ]
  },
  {
   "cell_type": "code",
   "execution_count": 33,
   "metadata": {},
   "outputs": [
    {
     "ename": "FileCreateError",
     "evalue": "[Errno 2] No such file or directory: '../1399_working/주제어빈도_.xlsx'",
     "output_type": "error",
     "traceback": [
      "\u001b[1;31m---------------------------------------------------------------------------\u001b[0m",
      "\u001b[1;31mFileNotFoundError\u001b[0m                         Traceback (most recent call last)",
      "\u001b[1;32m~\\Anaconda3\\lib\\site-packages\\xlsxwriter\\workbook.py\u001b[0m in \u001b[0;36mclose\u001b[1;34m(self)\u001b[0m\n\u001b[0;32m    310\u001b[0m             \u001b[1;32mtry\u001b[0m\u001b[1;33m:\u001b[0m\u001b[1;33m\u001b[0m\u001b[1;33m\u001b[0m\u001b[0m\n\u001b[1;32m--> 311\u001b[1;33m                 \u001b[0mself\u001b[0m\u001b[1;33m.\u001b[0m\u001b[0m_store_workbook\u001b[0m\u001b[1;33m(\u001b[0m\u001b[1;33m)\u001b[0m\u001b[1;33m\u001b[0m\u001b[1;33m\u001b[0m\u001b[0m\n\u001b[0m\u001b[0;32m    312\u001b[0m             \u001b[1;32mexcept\u001b[0m \u001b[0mIOError\u001b[0m \u001b[1;32mas\u001b[0m \u001b[0me\u001b[0m\u001b[1;33m:\u001b[0m\u001b[1;33m\u001b[0m\u001b[1;33m\u001b[0m\u001b[0m\n",
      "\u001b[1;32m~\\Anaconda3\\lib\\site-packages\\xlsxwriter\\workbook.py\u001b[0m in \u001b[0;36m_store_workbook\u001b[1;34m(self)\u001b[0m\n\u001b[0;32m    626\u001b[0m         \u001b[1;32mexcept\u001b[0m \u001b[0mIOError\u001b[0m \u001b[1;32mas\u001b[0m \u001b[0me\u001b[0m\u001b[1;33m:\u001b[0m\u001b[1;33m\u001b[0m\u001b[1;33m\u001b[0m\u001b[0m\n\u001b[1;32m--> 627\u001b[1;33m             \u001b[1;32mraise\u001b[0m \u001b[0me\u001b[0m\u001b[1;33m\u001b[0m\u001b[1;33m\u001b[0m\u001b[0m\n\u001b[0m\u001b[0;32m    628\u001b[0m \u001b[1;33m\u001b[0m\u001b[0m\n",
      "\u001b[1;32m~\\Anaconda3\\lib\\site-packages\\xlsxwriter\\workbook.py\u001b[0m in \u001b[0;36m_store_workbook\u001b[1;34m(self)\u001b[0m\n\u001b[0;32m    624\u001b[0m             xlsx_file = ZipFile(self.filename, \"w\", compression=ZIP_DEFLATED,\n\u001b[1;32m--> 625\u001b[1;33m                                 allowZip64=self.allow_zip64)\n\u001b[0m\u001b[0;32m    626\u001b[0m         \u001b[1;32mexcept\u001b[0m \u001b[0mIOError\u001b[0m \u001b[1;32mas\u001b[0m \u001b[0me\u001b[0m\u001b[1;33m:\u001b[0m\u001b[1;33m\u001b[0m\u001b[1;33m\u001b[0m\u001b[0m\n",
      "\u001b[1;32m~\\Anaconda3\\lib\\zipfile.py\u001b[0m in \u001b[0;36m__init__\u001b[1;34m(self, file, mode, compression, allowZip64, compresslevel)\u001b[0m\n\u001b[0;32m   1206\u001b[0m                 \u001b[1;32mtry\u001b[0m\u001b[1;33m:\u001b[0m\u001b[1;33m\u001b[0m\u001b[1;33m\u001b[0m\u001b[0m\n\u001b[1;32m-> 1207\u001b[1;33m                     \u001b[0mself\u001b[0m\u001b[1;33m.\u001b[0m\u001b[0mfp\u001b[0m \u001b[1;33m=\u001b[0m \u001b[0mio\u001b[0m\u001b[1;33m.\u001b[0m\u001b[0mopen\u001b[0m\u001b[1;33m(\u001b[0m\u001b[0mfile\u001b[0m\u001b[1;33m,\u001b[0m \u001b[0mfilemode\u001b[0m\u001b[1;33m)\u001b[0m\u001b[1;33m\u001b[0m\u001b[1;33m\u001b[0m\u001b[0m\n\u001b[0m\u001b[0;32m   1208\u001b[0m                 \u001b[1;32mexcept\u001b[0m \u001b[0mOSError\u001b[0m\u001b[1;33m:\u001b[0m\u001b[1;33m\u001b[0m\u001b[1;33m\u001b[0m\u001b[0m\n",
      "\u001b[1;31mFileNotFoundError\u001b[0m: [Errno 2] No such file or directory: '../1399_working/주제어빈도_.xlsx'",
      "\nDuring handling of the above exception, another exception occurred:\n",
      "\u001b[1;31mFileCreateError\u001b[0m                           Traceback (most recent call last)",
      "\u001b[1;32m<ipython-input-33-50e958f89d1c>\u001b[0m in \u001b[0;36m<module>\u001b[1;34m\u001b[0m\n\u001b[0;32m      1\u001b[0m \u001b[1;31m# 파일 저장하기\u001b[0m\u001b[1;33m\u001b[0m\u001b[1;33m\u001b[0m\u001b[1;33m\u001b[0m\u001b[0m\n\u001b[0;32m      2\u001b[0m \u001b[0mfn\u001b[0m \u001b[1;33m=\u001b[0m \u001b[1;34m'../1399_working/주제어빈도_'\u001b[0m\u001b[1;33m\u001b[0m\u001b[1;33m\u001b[0m\u001b[0m\n\u001b[1;32m----> 3\u001b[1;33m \u001b[0mresult_df\u001b[0m\u001b[1;33m.\u001b[0m\u001b[0mto_excel\u001b[0m\u001b[1;33m(\u001b[0m\u001b[0mfn\u001b[0m \u001b[1;33m+\u001b[0m \u001b[1;34m'.xlsx'\u001b[0m\u001b[1;33m)\u001b[0m\u001b[1;33m\u001b[0m\u001b[1;33m\u001b[0m\u001b[0m\n\u001b[0m\u001b[0;32m      4\u001b[0m \u001b[1;33m\u001b[0m\u001b[0m\n\u001b[0;32m      5\u001b[0m \u001b[0mplt\u001b[0m\u001b[1;33m.\u001b[0m\u001b[0mrcParams\u001b[0m\u001b[1;33m[\u001b[0m\u001b[1;34m'font.family'\u001b[0m\u001b[1;33m]\u001b[0m\u001b[1;33m=\u001b[0m\u001b[1;34m'Malgun Gothic'\u001b[0m\u001b[1;33m\u001b[0m\u001b[1;33m\u001b[0m\u001b[0m\n",
      "\u001b[1;32m~\\Anaconda3\\lib\\site-packages\\pandas\\core\\generic.py\u001b[0m in \u001b[0;36mto_excel\u001b[1;34m(self, excel_writer, sheet_name, na_rep, float_format, columns, header, index, index_label, startrow, startcol, engine, merge_cells, encoding, inf_rep, verbose, freeze_panes)\u001b[0m\n\u001b[0;32m   2179\u001b[0m             \u001b[0mstartcol\u001b[0m\u001b[1;33m=\u001b[0m\u001b[0mstartcol\u001b[0m\u001b[1;33m,\u001b[0m\u001b[1;33m\u001b[0m\u001b[1;33m\u001b[0m\u001b[0m\n\u001b[0;32m   2180\u001b[0m             \u001b[0mfreeze_panes\u001b[0m\u001b[1;33m=\u001b[0m\u001b[0mfreeze_panes\u001b[0m\u001b[1;33m,\u001b[0m\u001b[1;33m\u001b[0m\u001b[1;33m\u001b[0m\u001b[0m\n\u001b[1;32m-> 2181\u001b[1;33m             \u001b[0mengine\u001b[0m\u001b[1;33m=\u001b[0m\u001b[0mengine\u001b[0m\u001b[1;33m,\u001b[0m\u001b[1;33m\u001b[0m\u001b[1;33m\u001b[0m\u001b[0m\n\u001b[0m\u001b[0;32m   2182\u001b[0m         )\n\u001b[0;32m   2183\u001b[0m \u001b[1;33m\u001b[0m\u001b[0m\n",
      "\u001b[1;32m~\\Anaconda3\\lib\\site-packages\\pandas\\io\\formats\\excel.py\u001b[0m in \u001b[0;36mwrite\u001b[1;34m(self, writer, sheet_name, startrow, startcol, freeze_panes, engine)\u001b[0m\n\u001b[0;32m    736\u001b[0m         )\n\u001b[0;32m    737\u001b[0m         \u001b[1;32mif\u001b[0m \u001b[0mneed_save\u001b[0m\u001b[1;33m:\u001b[0m\u001b[1;33m\u001b[0m\u001b[1;33m\u001b[0m\u001b[0m\n\u001b[1;32m--> 738\u001b[1;33m             \u001b[0mwriter\u001b[0m\u001b[1;33m.\u001b[0m\u001b[0msave\u001b[0m\u001b[1;33m(\u001b[0m\u001b[1;33m)\u001b[0m\u001b[1;33m\u001b[0m\u001b[1;33m\u001b[0m\u001b[0m\n\u001b[0m",
      "\u001b[1;32m~\\Anaconda3\\lib\\site-packages\\pandas\\io\\excel\\_xlsxwriter.py\u001b[0m in \u001b[0;36msave\u001b[1;34m(self)\u001b[0m\n\u001b[0;32m    193\u001b[0m         \"\"\"\n\u001b[0;32m    194\u001b[0m \u001b[1;33m\u001b[0m\u001b[0m\n\u001b[1;32m--> 195\u001b[1;33m         \u001b[1;32mreturn\u001b[0m \u001b[0mself\u001b[0m\u001b[1;33m.\u001b[0m\u001b[0mbook\u001b[0m\u001b[1;33m.\u001b[0m\u001b[0mclose\u001b[0m\u001b[1;33m(\u001b[0m\u001b[1;33m)\u001b[0m\u001b[1;33m\u001b[0m\u001b[1;33m\u001b[0m\u001b[0m\n\u001b[0m\u001b[0;32m    196\u001b[0m \u001b[1;33m\u001b[0m\u001b[0m\n\u001b[0;32m    197\u001b[0m     def write_cells(\n",
      "\u001b[1;32m~\\Anaconda3\\lib\\site-packages\\xlsxwriter\\workbook.py\u001b[0m in \u001b[0;36mclose\u001b[1;34m(self)\u001b[0m\n\u001b[0;32m    311\u001b[0m                 \u001b[0mself\u001b[0m\u001b[1;33m.\u001b[0m\u001b[0m_store_workbook\u001b[0m\u001b[1;33m(\u001b[0m\u001b[1;33m)\u001b[0m\u001b[1;33m\u001b[0m\u001b[1;33m\u001b[0m\u001b[0m\n\u001b[0;32m    312\u001b[0m             \u001b[1;32mexcept\u001b[0m \u001b[0mIOError\u001b[0m \u001b[1;32mas\u001b[0m \u001b[0me\u001b[0m\u001b[1;33m:\u001b[0m\u001b[1;33m\u001b[0m\u001b[1;33m\u001b[0m\u001b[0m\n\u001b[1;32m--> 313\u001b[1;33m                 \u001b[1;32mraise\u001b[0m \u001b[0mFileCreateError\u001b[0m\u001b[1;33m(\u001b[0m\u001b[0me\u001b[0m\u001b[1;33m)\u001b[0m\u001b[1;33m\u001b[0m\u001b[1;33m\u001b[0m\u001b[0m\n\u001b[0m\u001b[0;32m    314\u001b[0m             \u001b[1;32mexcept\u001b[0m \u001b[0mLargeZipFile\u001b[0m \u001b[1;32mas\u001b[0m \u001b[0me\u001b[0m\u001b[1;33m:\u001b[0m\u001b[1;33m\u001b[0m\u001b[1;33m\u001b[0m\u001b[0m\n\u001b[0;32m    315\u001b[0m                 raise FileSizeError(\"Filesize would require ZIP64 extensions. \"\n",
      "\u001b[1;31mFileCreateError\u001b[0m: [Errno 2] No such file or directory: '../1399_working/주제어빈도_.xlsx'"
     ]
    }
   ],
   "source": [
    "# 파일 저장하기\n",
    "fn = '../1399_working/주제어빈도_'\n",
    "result_df.to_excel(fn + '.xlsx')\n",
    "\n",
    "plt.rcParams['font.family']='Malgun Gothic'\n",
    "result_df.set_index(0).plot(kind='bar', rot='30', figsize=(30,6))\n",
    "plt.savefig('../1399_working/주제어빈도수_막대.png')"
   ]
  },
  {
   "cell_type": "code",
   "execution_count": 34,
   "metadata": {
    "scrolled": false
   },
   "outputs": [
    {
     "data": {
      "text/plain": [
       "<matplotlib.axes._subplots.AxesSubplot at 0x187a50c1088>"
      ]
     },
     "execution_count": 34,
     "metadata": {},
     "output_type": "execute_result"
    },
    {
     "data": {
      "text/plain": [
       "<matplotlib.axes._subplots.AxesSubplot at 0x187e8294bc8>"
      ]
     },
     "execution_count": 34,
     "metadata": {},
     "output_type": "execute_result"
    },
    {
     "data": {
      "image/png": "[encoded data removed]",
      "text/plain": [
       "<Figure size 2520x432 with 1 Axes>"
      ]
     },
     "metadata": {
      "needs_background": "light"
     },
     "output_type": "display_data"
    },
    {
     "data": {
      "image/png": "[encoded data removed]",
      "text/plain": [
       "<Figure size 2520x432 with 1 Axes>"
      ]
     },
     "metadata": {
      "needs_background": "light"
     },
     "output_type": "display_data"
    }
   ],
   "source": [
    "result_df.set_index(0)[0:37].plot(kind='bar', rot='30', figsize=(35,6))\n",
    "result_df.set_index(0)[37:75].plot(kind='bar', rot='30', figsize=(35,6))"
   ]
  },
  {
   "cell_type": "markdown",
   "metadata": {},
   "source": [
    "### <font color='green'> 4.2.2 년도별 키워드 빈도수 분석\n",
    "- 연도별로 나누어서 주요 키워드 출력\n",
    "- 시작년도, 끝년도 지정\n",
    "- 신고일자가 없는 1401개는 데이터에서 삭제"
   ]
  },
  {
   "cell_type": "code",
   "execution_count": 29,
   "metadata": {},
   "outputs": [],
   "source": [
    "df = df.reset_index()\n",
    "df.dropna(axis=0, inplace=True) # 결측값이 있는 행을 삭제"
   ]
  },
  {
   "cell_type": "code",
   "execution_count": 62,
   "metadata": {},
   "outputs": [],
   "source": [
    "start_year = 2015\n",
    "end_year = 2019"
   ]
  },
  {
   "cell_type": "code",
   "execution_count": 59,
   "metadata": {},
   "outputs": [
    {
     "data": {
      "application/vnd.jupyter.widget-view+json": {
       "model_id": "410b47b6077646bfad3e18ad5c1c5170",
       "version_major": 2,
       "version_minor": 0
      },
      "text/plain": [
       "HBox(children=(FloatProgress(value=0.0, max=5.0), HTML(value='')))"
      ]
     },
     "metadata": {},
     "output_type": "display_data"
    },
    {
     "name": "stdout",
     "output_type": "stream",
     "text": [
      "\n"
     ]
    }
   ],
   "source": [
    "# 시작년도, 끝년도 지정\n",
    "\n",
    "start_year = 2015\n",
    "end_year = 2019\n",
    "\n",
    "corpus = [\"\"] * len(df)\n",
    "\n",
    "result_df = pd.DataFrame()\n",
    "\n",
    "# 녇도별 문서 추출 후 키워드 빈도수 분석\n",
    "\n",
    "for year in tqdm_notebook(range(int(start_year),int(end_year)+1)):\n",
    "    start_date = str(year) + \"-01-01\"\n",
    "    end_date = str(year) + \"-12-31\"\n",
    "    dt_index = (df['신고일시'] >= start_date) & (df['신고일시'] <= end_date)\n",
    "    temp_df = df[dt_index]\n",
    "\n",
    "    for i, fn in enumerate(temp_df['신고내용']) :\n",
    "        corpus[i] = \" \".join(twitter.nouns(fn))\n",
    "        \n",
    "    vect = CountVectorizer(stop_words = stop_words,ngram_range=(1, 2),min_df=0.005,max_df=0.5)\n",
    "    X = vect.fit_transform(corpus)\n",
    "    X = TfidfTransformer().fit_transform(X)\n",
    "        \n",
    "    count = X.toarray().sum(axis=0)\n",
    "    idx = np.argsort(-count)\n",
    "    count = count[idx]\n",
    "\n",
    "    feature_name = np.array(vect.get_feature_names())[idx]\n",
    "\n",
    "    result = list(zip(feature_name, count))\n",
    "    result = pd.DataFrame(result)\n",
    "    result.columns=[str(year) + ' 키워드','빈도수']\n",
    "    result_df = pd.concat([result_df,result],axis=1)\n",
    "\n",
    "    "
   ]
  },
  {
   "cell_type": "code",
   "execution_count": 31,
   "metadata": {},
   "outputs": [
    {
     "data": {
      "text/html": [
       "<div>\n",
       "<style scoped>\n",
       "    .dataframe tbody tr th:only-of-type {\n",
       "        vertical-align: middle;\n",
       "    }\n",
       "\n",
       "    .dataframe tbody tr th {\n",
       "        vertical-align: top;\n",
       "    }\n",
       "\n",
       "    .dataframe thead th {\n",
       "        text-align: right;\n",
       "    }\n",
       "</style>\n",
       "<table border=\"1\" class=\"dataframe\">\n",
       "  <thead>\n",
       "    <tr style=\"text-align: right;\">\n",
       "      <th></th>\n",
       "      <th>2015 키워드</th>\n",
       "      <th>빈도수</th>\n",
       "      <th>2016 키워드</th>\n",
       "      <th>빈도수</th>\n",
       "      <th>2017 키워드</th>\n",
       "      <th>빈도수</th>\n",
       "      <th>2018 키워드</th>\n",
       "      <th>빈도수</th>\n",
       "      <th>2019 키워드</th>\n",
       "      <th>빈도수</th>\n",
       "    </tr>\n",
       "  </thead>\n",
       "  <tbody>\n",
       "    <tr>\n",
       "      <th>0</th>\n",
       "      <td>이물</td>\n",
       "      <td>30.021765</td>\n",
       "      <td>이물</td>\n",
       "      <td>55.540280</td>\n",
       "      <td>신고접수</td>\n",
       "      <td>54.387336</td>\n",
       "      <td>신고접수</td>\n",
       "      <td>45.447017</td>\n",
       "      <td>이물</td>\n",
       "      <td>47.879391</td>\n",
       "    </tr>\n",
       "    <tr>\n",
       "      <th>1</th>\n",
       "      <td>신고접수</td>\n",
       "      <td>27.672943</td>\n",
       "      <td>신고접수</td>\n",
       "      <td>54.739595</td>\n",
       "      <td>이물</td>\n",
       "      <td>45.136821</td>\n",
       "      <td>이물</td>\n",
       "      <td>43.055475</td>\n",
       "      <td>유통기한</td>\n",
       "      <td>45.770487</td>\n",
       "    </tr>\n",
       "    <tr>\n",
       "      <th>2</th>\n",
       "      <td>유통기한</td>\n",
       "      <td>20.179669</td>\n",
       "      <td>이물발견</td>\n",
       "      <td>33.718356</td>\n",
       "      <td>재발방지</td>\n",
       "      <td>35.208214</td>\n",
       "      <td>재발방지</td>\n",
       "      <td>38.520422</td>\n",
       "      <td>재발방지</td>\n",
       "      <td>44.577248</td>\n",
       "    </tr>\n",
       "    <tr>\n",
       "      <th>3</th>\n",
       "      <td>신고인</td>\n",
       "      <td>16.114759</td>\n",
       "      <td>유통기한</td>\n",
       "      <td>31.155674</td>\n",
       "      <td>재발방지 신고접수</td>\n",
       "      <td>28.742336</td>\n",
       "      <td>유통기한</td>\n",
       "      <td>38.193253</td>\n",
       "      <td>신고접수</td>\n",
       "      <td>42.033015</td>\n",
       "    </tr>\n",
       "    <tr>\n",
       "      <th>4</th>\n",
       "      <td>이물발견</td>\n",
       "      <td>14.147491</td>\n",
       "      <td>재발방지</td>\n",
       "      <td>24.846665</td>\n",
       "      <td>유통기한</td>\n",
       "      <td>26.584302</td>\n",
       "      <td>제조원</td>\n",
       "      <td>29.473172</td>\n",
       "      <td>제조원</td>\n",
       "      <td>35.263381</td>\n",
       "    </tr>\n",
       "    <tr>\n",
       "      <th>5</th>\n",
       "      <td>이물질</td>\n",
       "      <td>12.748645</td>\n",
       "      <td>신고접수 이물</td>\n",
       "      <td>24.129279</td>\n",
       "      <td>원인조사</td>\n",
       "      <td>23.122027</td>\n",
       "      <td>위해</td>\n",
       "      <td>27.014934</td>\n",
       "      <td>재발방지 신고접수</td>\n",
       "      <td>31.359838</td>\n",
       "    </tr>\n",
       "    <tr>\n",
       "      <th>6</th>\n",
       "      <td>위해</td>\n",
       "      <td>10.331989</td>\n",
       "      <td>위해</td>\n",
       "      <td>22.443547</td>\n",
       "      <td>이물발견</td>\n",
       "      <td>21.943626</td>\n",
       "      <td>이물발견</td>\n",
       "      <td>23.371769</td>\n",
       "      <td>이물발견</td>\n",
       "      <td>23.643941</td>\n",
       "    </tr>\n",
       "    <tr>\n",
       "      <th>7</th>\n",
       "      <td>신고자</td>\n",
       "      <td>8.482753</td>\n",
       "      <td>원인조사</td>\n",
       "      <td>22.096145</td>\n",
       "      <td>위해</td>\n",
       "      <td>21.767443</td>\n",
       "      <td>재발방지 신고접수</td>\n",
       "      <td>22.647609</td>\n",
       "      <td>조사기관</td>\n",
       "      <td>18.482525</td>\n",
       "    </tr>\n",
       "    <tr>\n",
       "      <th>8</th>\n",
       "      <td>원인조사</td>\n",
       "      <td>8.410502</td>\n",
       "      <td>제조원</td>\n",
       "      <td>17.734283</td>\n",
       "      <td>신고접수 이물</td>\n",
       "      <td>19.402330</td>\n",
       "      <td>위해 신고접수</td>\n",
       "      <td>19.666711</td>\n",
       "      <td>곰팡이</td>\n",
       "      <td>17.859000</td>\n",
       "    </tr>\n",
       "    <tr>\n",
       "      <th>9</th>\n",
       "      <td>이물발견 신고접수</td>\n",
       "      <td>7.936951</td>\n",
       "      <td>마트</td>\n",
       "      <td>17.082078</td>\n",
       "      <td>제조원</td>\n",
       "      <td>19.387565</td>\n",
       "      <td>이물질</td>\n",
       "      <td>19.276992</td>\n",
       "      <td>원인조사</td>\n",
       "      <td>14.484947</td>\n",
       "    </tr>\n",
       "    <tr>\n",
       "      <th>10</th>\n",
       "      <td>곰팡이</td>\n",
       "      <td>7.645266</td>\n",
       "      <td>곰팡이</td>\n",
       "      <td>16.985548</td>\n",
       "      <td>위해 신고접수</td>\n",
       "      <td>16.215714</td>\n",
       "      <td>원인조사</td>\n",
       "      <td>18.936583</td>\n",
       "      <td>cm</td>\n",
       "      <td>14.363904</td>\n",
       "    </tr>\n",
       "    <tr>\n",
       "      <th>11</th>\n",
       "      <td>마트</td>\n",
       "      <td>7.615402</td>\n",
       "      <td>제품변질</td>\n",
       "      <td>15.945210</td>\n",
       "      <td>원인조사 재발방지</td>\n",
       "      <td>14.777780</td>\n",
       "      <td>재발방지 위해</td>\n",
       "      <td>16.472217</td>\n",
       "      <td>원인조사 재발방지</td>\n",
       "      <td>13.805426</td>\n",
       "    </tr>\n",
       "    <tr>\n",
       "      <th>12</th>\n",
       "      <td>재발방지</td>\n",
       "      <td>7.400253</td>\n",
       "      <td>위해 신고접수</td>\n",
       "      <td>15.428163</td>\n",
       "      <td>이물이</td>\n",
       "      <td>13.991388</td>\n",
       "      <td>조사기관</td>\n",
       "      <td>15.707584</td>\n",
       "      <td>위해</td>\n",
       "      <td>13.736451</td>\n",
       "    </tr>\n",
       "    <tr>\n",
       "      <th>13</th>\n",
       "      <td>신고접수 이물</td>\n",
       "      <td>6.718200</td>\n",
       "      <td>재발방지 신고접수</td>\n",
       "      <td>14.277659</td>\n",
       "      <td>조사기관</td>\n",
       "      <td>13.867267</td>\n",
       "      <td>원인조사 재발방지</td>\n",
       "      <td>15.498283</td>\n",
       "      <td>택배발송</td>\n",
       "      <td>13.598932</td>\n",
       "    </tr>\n",
       "    <tr>\n",
       "      <th>14</th>\n",
       "      <td>보관중</td>\n",
       "      <td>6.299600</td>\n",
       "      <td>이물질</td>\n",
       "      <td>13.925997</td>\n",
       "      <td>cm</td>\n",
       "      <td>12.815559</td>\n",
       "      <td>신고접수 이물</td>\n",
       "      <td>13.733113</td>\n",
       "      <td>음식</td>\n",
       "      <td>13.547458</td>\n",
       "    </tr>\n",
       "    <tr>\n",
       "      <th>15</th>\n",
       "      <td>음식</td>\n",
       "      <td>6.127173</td>\n",
       "      <td>원인조사 위해</td>\n",
       "      <td>13.206099</td>\n",
       "      <td>인적사항</td>\n",
       "      <td>12.153369</td>\n",
       "      <td>주문</td>\n",
       "      <td>13.385101</td>\n",
       "      <td>제품변질</td>\n",
       "      <td>12.277102</td>\n",
       "    </tr>\n",
       "    <tr>\n",
       "      <th>16</th>\n",
       "      <td>위해 신고접수</td>\n",
       "      <td>6.087094</td>\n",
       "      <td>이물발견 신고접수</td>\n",
       "      <td>12.377300</td>\n",
       "      <td>제품변질</td>\n",
       "      <td>11.807730</td>\n",
       "      <td>음식</td>\n",
       "      <td>12.370610</td>\n",
       "      <td>위생</td>\n",
       "      <td>11.930418</td>\n",
       "    </tr>\n",
       "    <tr>\n",
       "      <th>17</th>\n",
       "      <td>표기</td>\n",
       "      <td>5.863614</td>\n",
       "      <td>제품명</td>\n",
       "      <td>12.097044</td>\n",
       "      <td>곰팡이</td>\n",
       "      <td>11.593237</td>\n",
       "      <td>인적사항</td>\n",
       "      <td>12.329318</td>\n",
       "      <td>주문</td>\n",
       "      <td>11.327688</td>\n",
       "    </tr>\n",
       "    <tr>\n",
       "      <th>18</th>\n",
       "      <td>이물이</td>\n",
       "      <td>5.756817</td>\n",
       "      <td>주문</td>\n",
       "      <td>10.420161</td>\n",
       "      <td>음식</td>\n",
       "      <td>11.314515</td>\n",
       "      <td>내용량</td>\n",
       "      <td>12.123073</td>\n",
       "      <td>위생관리</td>\n",
       "      <td>10.875854</td>\n",
       "    </tr>\n",
       "    <tr>\n",
       "      <th>19</th>\n",
       "      <td>해당제품</td>\n",
       "      <td>5.752125</td>\n",
       "      <td>cm</td>\n",
       "      <td>10.022152</td>\n",
       "      <td>원인조사 위해</td>\n",
       "      <td>10.987003</td>\n",
       "      <td>택배발송</td>\n",
       "      <td>11.797651</td>\n",
       "      <td>해당제품</td>\n",
       "      <td>10.714572</td>\n",
       "    </tr>\n",
       "  </tbody>\n",
       "</table>\n",
       "</div>"
      ],
      "text/plain": [
       "     2015 키워드        빈도수   2016 키워드        빈도수   2017 키워드        빈도수  \\\n",
       "0          이물  30.021765         이물  55.540280       신고접수  54.387336   \n",
       "1        신고접수  27.672943       신고접수  54.739595         이물  45.136821   \n",
       "2        유통기한  20.179669       이물발견  33.718356       재발방지  35.208214   \n",
       "3         신고인  16.114759       유통기한  31.155674  재발방지 신고접수  28.742336   \n",
       "4        이물발견  14.147491       재발방지  24.846665       유통기한  26.584302   \n",
       "5         이물질  12.748645    신고접수 이물  24.129279       원인조사  23.122027   \n",
       "6          위해  10.331989         위해  22.443547       이물발견  21.943626   \n",
       "7         신고자   8.482753       원인조사  22.096145         위해  21.767443   \n",
       "8        원인조사   8.410502        제조원  17.734283    신고접수 이물  19.402330   \n",
       "9   이물발견 신고접수   7.936951         마트  17.082078        제조원  19.387565   \n",
       "10        곰팡이   7.645266        곰팡이  16.985548    위해 신고접수  16.215714   \n",
       "11         마트   7.615402       제품변질  15.945210  원인조사 재발방지  14.777780   \n",
       "12       재발방지   7.400253    위해 신고접수  15.428163        이물이  13.991388   \n",
       "13    신고접수 이물   6.718200  재발방지 신고접수  14.277659       조사기관  13.867267   \n",
       "14        보관중   6.299600        이물질  13.925997         cm  12.815559   \n",
       "15         음식   6.127173    원인조사 위해  13.206099       인적사항  12.153369   \n",
       "16    위해 신고접수   6.087094  이물발견 신고접수  12.377300       제품변질  11.807730   \n",
       "17         표기   5.863614        제품명  12.097044        곰팡이  11.593237   \n",
       "18        이물이   5.756817         주문  10.420161         음식  11.314515   \n",
       "19       해당제품   5.752125         cm  10.022152    원인조사 위해  10.987003   \n",
       "\n",
       "     2018 키워드        빈도수   2019 키워드        빈도수  \n",
       "0        신고접수  45.447017         이물  47.879391  \n",
       "1          이물  43.055475       유통기한  45.770487  \n",
       "2        재발방지  38.520422       재발방지  44.577248  \n",
       "3        유통기한  38.193253       신고접수  42.033015  \n",
       "4         제조원  29.473172        제조원  35.263381  \n",
       "5          위해  27.014934  재발방지 신고접수  31.359838  \n",
       "6        이물발견  23.371769       이물발견  23.643941  \n",
       "7   재발방지 신고접수  22.647609       조사기관  18.482525  \n",
       "8     위해 신고접수  19.666711        곰팡이  17.859000  \n",
       "9         이물질  19.276992       원인조사  14.484947  \n",
       "10       원인조사  18.936583         cm  14.363904  \n",
       "11    재발방지 위해  16.472217  원인조사 재발방지  13.805426  \n",
       "12       조사기관  15.707584         위해  13.736451  \n",
       "13  원인조사 재발방지  15.498283       택배발송  13.598932  \n",
       "14    신고접수 이물  13.733113         음식  13.547458  \n",
       "15         주문  13.385101       제품변질  12.277102  \n",
       "16         음식  12.370610         위생  11.930418  \n",
       "17       인적사항  12.329318         주문  11.327688  \n",
       "18        내용량  12.123073       위생관리  10.875854  \n",
       "19       택배발송  11.797651       해당제품  10.714572  "
      ]
     },
     "execution_count": 31,
     "metadata": {},
     "output_type": "execute_result"
    }
   ],
   "source": [
    "# 저장 파일 이름 설정\n",
    "fn = '../1399_working/주제어빈도_년도별_'\n",
    "result_df.to_excel(fn + '.xlsx')\n",
    "\n",
    "result_df.head(20)"
   ]
  },
  {
   "cell_type": "markdown",
   "metadata": {},
   "source": [
    "# <font color='green'> 5. LDA 분석 : 토픽 모델링 분석¶"
   ]
  },
  {
   "cell_type": "code",
   "execution_count": 35,
   "metadata": {},
   "outputs": [
    {
     "name": "stderr",
     "output_type": "stream",
     "text": [
      "C:\\Users\\NFSI291\\Anaconda3\\lib\\site-packages\\ipykernel_launcher.py:11: TqdmDeprecationWarning: This function will be removed in tqdm==5.0.0\n",
      "Please use `tqdm.notebook.tqdm` instead of `tqdm.tqdm_notebook`\n",
      "  # This is added back by InteractiveShellApp.init_path()\n"
     ]
    },
    {
     "data": {
      "application/vnd.jupyter.widget-view+json": {
       "model_id": "9f3d99c17b3847028ac38f836b7584e8",
       "version_major": 2,
       "version_minor": 0
      },
      "text/plain": [
       "HBox(children=(FloatProgress(value=0.0, max=2644.0), HTML(value='')))"
      ]
     },
     "metadata": {},
     "output_type": "display_data"
    },
    {
     "name": "stdout",
     "output_type": "stream",
     "text": [
      "\n"
     ]
    }
   ],
   "source": [
    "# 인자 설정\n",
    "# Random Seed 값 설정, 이값에 따라 결과 달라짐\n",
    "\n",
    "random_seed = 1004\n",
    "n_words = 20 # 상위 20개\n",
    "\n",
    "corpus = []\n",
    "\n",
    "# 파일 내용 읽어서 코퍼스에 저장\n",
    "\n",
    "for fn in tqdm_notebook(df['신고내용']) :\n",
    "    text = \" \".join(twitter.nouns(fn))\n",
    "    corpus.append(' '.join([w for w in text.split() if len(w) > 1])) # 한 글자는 제외하고 명사추출\n",
    "\n",
    "vect = CountVectorizer(stop_words = stop_words,ngram_range=(1, 2),min_df=0.05,max_df=0.5)\n",
    "X = vect.fit_transform(corpus)\n",
    "X = TfidfTransformer().fit_transform(X)"
   ]
  },
  {
   "cell_type": "code",
   "execution_count": 39,
   "metadata": {},
   "outputs": [
    {
     "data": {
      "text/plain": [
       "<2644x21 sparse matrix of type '<class 'numpy.float64'>'\n",
       "\twith 6413 stored elements in Compressed Sparse Row format>"
      ]
     },
     "execution_count": 39,
     "metadata": {},
     "output_type": "execute_result"
    },
    {
     "data": {
      "text/plain": [
       "array([[0.        , 0.        , 0.        , ..., 0.        , 0.        ,\n",
       "        0.        ],\n",
       "       [0.        , 0.        , 0.        , ..., 0.        , 0.        ,\n",
       "        0.        ],\n",
       "       [0.47503615, 0.        , 0.        , ..., 0.        , 0.        ,\n",
       "        0.        ],\n",
       "       ...,\n",
       "       [0.67706944, 0.        , 0.        , ..., 0.        , 0.        ,\n",
       "        0.        ],\n",
       "       [0.        , 0.51944702, 0.        , ..., 0.        , 0.        ,\n",
       "        0.        ],\n",
       "       [0.        , 0.        , 0.        , ..., 1.        , 0.        ,\n",
       "        0.        ]])"
      ]
     },
     "execution_count": 39,
     "metadata": {},
     "output_type": "execute_result"
    }
   ],
   "source": [
    "X\n",
    "X.toarray()"
   ]
  },
  {
   "cell_type": "code",
   "execution_count": 41,
   "metadata": {},
   "outputs": [
    {
     "data": {
      "text/plain": [
       "'C:\\\\Users\\\\NFSI291\\\\1A1A\\\\naver news\\\\script_news'"
      ]
     },
     "execution_count": 41,
     "metadata": {},
     "output_type": "execute_result"
    },
    {
     "data": {
      "text/plain": [
       "'D:/2020기본과제/1399/1399_data/'"
      ]
     },
     "execution_count": 41,
     "metadata": {},
     "output_type": "execute_result"
    }
   ],
   "source": [
    "%pwd\n",
    "dir_path"
   ]
  },
  {
   "cell_type": "code",
   "execution_count": 45,
   "metadata": {},
   "outputs": [
    {
     "data": {
      "text/plain": [
       "<2644x21 sparse matrix of type '<class 'numpy.float64'>'\n",
       "\twith 6413 stored elements in Compressed Sparse Row format>"
      ]
     },
     "execution_count": 45,
     "metadata": {},
     "output_type": "execute_result"
    }
   ],
   "source": [
    "X"
   ]
  },
  {
   "cell_type": "code",
   "execution_count": 44,
   "metadata": {},
   "outputs": [
    {
     "data": {
      "text/plain": [
       "<2x3 sparse matrix of type '<class 'numpy.intc'>'\n",
       "\twith 2 stored elements in Compressed Sparse Column format>"
      ]
     },
     "execution_count": 44,
     "metadata": {},
     "output_type": "execute_result"
    }
   ],
   "source": [
    "\n",
    "sparse_matrix = scipy.sparse.csc_matrix(np.array([[0, 0, 3], [4, 0, 0]]))\n",
    "sparse_matrix"
   ]
  },
  {
   "cell_type": "code",
   "execution_count": 50,
   "metadata": {
    "scrolled": true
   },
   "outputs": [
    {
     "data": {
      "text/plain": [
       "<2644x21 sparse matrix of type '<class 'numpy.float64'>'\n",
       "\twith 6413 stored elements in Compressed Sparse Row format>"
      ]
     },
     "execution_count": 50,
     "metadata": {},
     "output_type": "execute_result"
    }
   ],
   "source": [
    "import scipy.sparse\n",
    "scipy.sparse.save_npz(dir_path + 'sparse_matrix.npz', X)\n",
    "X = scipy.sparse.load_npz(dir_path + 'sparse_matrix.npz')\n",
    "X"
   ]
  },
  {
   "cell_type": "code",
   "execution_count": 53,
   "metadata": {},
   "outputs": [
    {
     "data": {
      "text/plain": [
       "'C:\\\\Users\\\\NFSI291\\\\1A1A\\\\naver news\\\\script_news'"
      ]
     },
     "execution_count": 53,
     "metadata": {},
     "output_type": "execute_result"
    },
    {
     "data": {
      "text/plain": [
       "'D:/2020기본과제/1399/1399_data/'"
      ]
     },
     "execution_count": 53,
     "metadata": {},
     "output_type": "execute_result"
    }
   ],
   "source": [
    "%pwd\n",
    "dir_path"
   ]
  },
  {
   "cell_type": "code",
   "execution_count": 57,
   "metadata": {},
   "outputs": [
    {
     "name": "stderr",
     "output_type": "stream",
     "text": [
      "C:\\Users\\NFSI291\\Anaconda3\\lib\\site-packages\\ipykernel_launcher.py:6: TqdmDeprecationWarning: This function will be removed in tqdm==5.0.0\n",
      "Please use `tqdm.notebook.tqdm` instead of `tqdm.tqdm_notebook`\n",
      "  \n"
     ]
    },
    {
     "data": {
      "application/vnd.jupyter.widget-view+json": {
       "model_id": "887ff17ceb014ea3b213de76856c0527",
       "version_major": 2,
       "version_minor": 0
      },
      "text/plain": [
       "HBox(children=(FloatProgress(value=0.0, max=1.0), HTML(value='')))"
      ]
     },
     "metadata": {},
     "output_type": "display_data"
    },
    {
     "name": "stdout",
     "output_type": "stream",
     "text": [
      "\n"
     ]
    }
   ],
   "source": [
    "# 토픽 갯수, 리스트 타입으로 한번에 설정 [5,6,7] 등 한번에 실행도 가능\n",
    "\n",
    "n_topics = [3,5,7,9]\n",
    "n_topics = [7]\n",
    "\n",
    "for i in tqdm_notebook(n_topics):\n",
    "        \n",
    "    # LDA 수횅\n",
    "    lda = LatentDirichletAllocation(n_components = i,learning_method=\"batch\",random_state=random_seed)\n",
    "    document_topics = lda.fit_transform(X)\n",
    "\n",
    "    sorting = np.argsort(lda.components_, axis=1)[:,::-1]\n",
    "    feature_names = np.array(vect.get_feature_names())\n",
    "\n",
    "    # 각 문서별 주제번호 할당\n",
    "    topic_list = np.argmax(document_topics,axis=1).tolist()\n",
    "\n",
    "    topic_words = pd.DataFrame(feature_names[sorting])\n",
    "    topic_words = topic_words.T\n",
    "    topic_words = topic_words[:n_words]\n",
    "\n",
    "    # 파일경로 지정\n",
    "    fpath =  dir_path + \"../1399_output/\"  + \"lda_result_n_\" + str(i) + \"_\" + str(random_seed) + \"_\"\n",
    "\n",
    "    # 파일 저장\n",
    "    document_topics = pd.DataFrame(document_topics)\n",
    "    document_topics.to_excel(fpath + \"document_topic.xlsx\")\n",
    "    topic_words.to_excel(fpath + \"topic_words.xlsx\")\n",
    "\n",
    "    # 시각화 및 저장\n",
    "    pyldavis = pyLDAvis.sklearn.prepare(lda, X, vect)\n",
    "    pyLDAvis.save_html(pyldavis, fpath + str(i) + \"lda.html\")"
   ]
  },
  {
   "cell_type": "code",
   "execution_count": 58,
   "metadata": {},
   "outputs": [
    {
     "data": {
      "text/html": [
       "<div>\n",
       "<style scoped>\n",
       "    .dataframe tbody tr th:only-of-type {\n",
       "        vertical-align: middle;\n",
       "    }\n",
       "\n",
       "    .dataframe tbody tr th {\n",
       "        vertical-align: top;\n",
       "    }\n",
       "\n",
       "    .dataframe thead th {\n",
       "        text-align: right;\n",
       "    }\n",
       "</style>\n",
       "<table border=\"1\" class=\"dataframe\">\n",
       "  <thead>\n",
       "    <tr style=\"text-align: right;\">\n",
       "      <th></th>\n",
       "      <th>0</th>\n",
       "      <th>1</th>\n",
       "      <th>2</th>\n",
       "      <th>3</th>\n",
       "      <th>4</th>\n",
       "      <th>5</th>\n",
       "      <th>6</th>\n",
       "    </tr>\n",
       "  </thead>\n",
       "  <tbody>\n",
       "    <tr>\n",
       "      <th>0</th>\n",
       "      <td>0.685254</td>\n",
       "      <td>0.052337</td>\n",
       "      <td>0.052324</td>\n",
       "      <td>0.052227</td>\n",
       "      <td>0.053299</td>\n",
       "      <td>0.052213</td>\n",
       "      <td>0.052347</td>\n",
       "    </tr>\n",
       "    <tr>\n",
       "      <th>1</th>\n",
       "      <td>0.071474</td>\n",
       "      <td>0.571021</td>\n",
       "      <td>0.071501</td>\n",
       "      <td>0.071429</td>\n",
       "      <td>0.071637</td>\n",
       "      <td>0.071429</td>\n",
       "      <td>0.071510</td>\n",
       "    </tr>\n",
       "    <tr>\n",
       "      <th>2</th>\n",
       "      <td>0.684220</td>\n",
       "      <td>0.052599</td>\n",
       "      <td>0.052599</td>\n",
       "      <td>0.052610</td>\n",
       "      <td>0.052599</td>\n",
       "      <td>0.052599</td>\n",
       "      <td>0.052773</td>\n",
       "    </tr>\n",
       "    <tr>\n",
       "      <th>3</th>\n",
       "      <td>0.059174</td>\n",
       "      <td>0.351020</td>\n",
       "      <td>0.059174</td>\n",
       "      <td>0.353112</td>\n",
       "      <td>0.059174</td>\n",
       "      <td>0.059174</td>\n",
       "      <td>0.059174</td>\n",
       "    </tr>\n",
       "    <tr>\n",
       "      <th>4</th>\n",
       "      <td>0.629275</td>\n",
       "      <td>0.061748</td>\n",
       "      <td>0.061748</td>\n",
       "      <td>0.061761</td>\n",
       "      <td>0.061748</td>\n",
       "      <td>0.061748</td>\n",
       "      <td>0.061972</td>\n",
       "    </tr>\n",
       "    <tr>\n",
       "      <th>...</th>\n",
       "      <td>...</td>\n",
       "      <td>...</td>\n",
       "      <td>...</td>\n",
       "      <td>...</td>\n",
       "      <td>...</td>\n",
       "      <td>...</td>\n",
       "      <td>...</td>\n",
       "    </tr>\n",
       "    <tr>\n",
       "      <th>2639</th>\n",
       "      <td>0.071474</td>\n",
       "      <td>0.571021</td>\n",
       "      <td>0.071501</td>\n",
       "      <td>0.071429</td>\n",
       "      <td>0.071637</td>\n",
       "      <td>0.071429</td>\n",
       "      <td>0.071510</td>\n",
       "    </tr>\n",
       "    <tr>\n",
       "      <th>2640</th>\n",
       "      <td>0.423197</td>\n",
       "      <td>0.054824</td>\n",
       "      <td>0.054330</td>\n",
       "      <td>0.054251</td>\n",
       "      <td>0.304710</td>\n",
       "      <td>0.054218</td>\n",
       "      <td>0.054470</td>\n",
       "    </tr>\n",
       "    <tr>\n",
       "      <th>2641</th>\n",
       "      <td>0.447427</td>\n",
       "      <td>0.052954</td>\n",
       "      <td>0.052954</td>\n",
       "      <td>0.287586</td>\n",
       "      <td>0.052954</td>\n",
       "      <td>0.052954</td>\n",
       "      <td>0.053172</td>\n",
       "    </tr>\n",
       "    <tr>\n",
       "      <th>2642</th>\n",
       "      <td>0.529225</td>\n",
       "      <td>0.052461</td>\n",
       "      <td>0.208376</td>\n",
       "      <td>0.052479</td>\n",
       "      <td>0.052461</td>\n",
       "      <td>0.052461</td>\n",
       "      <td>0.052537</td>\n",
       "    </tr>\n",
       "    <tr>\n",
       "      <th>2643</th>\n",
       "      <td>0.071429</td>\n",
       "      <td>0.071429</td>\n",
       "      <td>0.571429</td>\n",
       "      <td>0.071429</td>\n",
       "      <td>0.071429</td>\n",
       "      <td>0.071429</td>\n",
       "      <td>0.071429</td>\n",
       "    </tr>\n",
       "  </tbody>\n",
       "</table>\n",
       "<p>2644 rows × 7 columns</p>\n",
       "</div>"
      ],
      "text/plain": [
       "             0         1         2         3         4         5         6\n",
       "0     0.685254  0.052337  0.052324  0.052227  0.053299  0.052213  0.052347\n",
       "1     0.071474  0.571021  0.071501  0.071429  0.071637  0.071429  0.071510\n",
       "2     0.684220  0.052599  0.052599  0.052610  0.052599  0.052599  0.052773\n",
       "3     0.059174  0.351020  0.059174  0.353112  0.059174  0.059174  0.059174\n",
       "4     0.629275  0.061748  0.061748  0.061761  0.061748  0.061748  0.061972\n",
       "...        ...       ...       ...       ...       ...       ...       ...\n",
       "2639  0.071474  0.571021  0.071501  0.071429  0.071637  0.071429  0.071510\n",
       "2640  0.423197  0.054824  0.054330  0.054251  0.304710  0.054218  0.054470\n",
       "2641  0.447427  0.052954  0.052954  0.287586  0.052954  0.052954  0.053172\n",
       "2642  0.529225  0.052461  0.208376  0.052479  0.052461  0.052461  0.052537\n",
       "2643  0.071429  0.071429  0.571429  0.071429  0.071429  0.071429  0.071429\n",
       "\n",
       "[2644 rows x 7 columns]"
      ]
     },
     "execution_count": 58,
     "metadata": {},
     "output_type": "execute_result"
    }
   ],
   "source": [
    "document_topics"
   ]
  },
  {
   "cell_type": "code",
   "execution_count": 59,
   "metadata": {
    "scrolled": false
   },
   "outputs": [
    {
     "data": {
      "text/html": [
       "<div>\n",
       "<style scoped>\n",
       "    .dataframe tbody tr th:only-of-type {\n",
       "        vertical-align: middle;\n",
       "    }\n",
       "\n",
       "    .dataframe tbody tr th {\n",
       "        vertical-align: top;\n",
       "    }\n",
       "\n",
       "    .dataframe thead th {\n",
       "        text-align: right;\n",
       "    }\n",
       "</style>\n",
       "<table border=\"1\" class=\"dataframe\">\n",
       "  <thead>\n",
       "    <tr style=\"text-align: right;\">\n",
       "      <th></th>\n",
       "      <th>0</th>\n",
       "      <th>1</th>\n",
       "      <th>2</th>\n",
       "      <th>3</th>\n",
       "      <th>4</th>\n",
       "      <th>5</th>\n",
       "      <th>6</th>\n",
       "    </tr>\n",
       "  </thead>\n",
       "  <tbody>\n",
       "    <tr>\n",
       "      <th>0</th>\n",
       "      <td>이물</td>\n",
       "      <td>제조원</td>\n",
       "      <td>마트</td>\n",
       "      <td>보관중</td>\n",
       "      <td>유통기한</td>\n",
       "      <td>음식</td>\n",
       "      <td>이물질</td>\n",
       "    </tr>\n",
       "    <tr>\n",
       "      <th>1</th>\n",
       "      <td>이물발견</td>\n",
       "      <td>냄새가</td>\n",
       "      <td>곰팡이</td>\n",
       "      <td>이상</td>\n",
       "      <td>제조원</td>\n",
       "      <td>주문</td>\n",
       "      <td>택배발송</td>\n",
       "    </tr>\n",
       "    <tr>\n",
       "      <th>2</th>\n",
       "      <td>위해</td>\n",
       "      <td>내용량</td>\n",
       "      <td>제품변질</td>\n",
       "      <td>이물이</td>\n",
       "      <td>위해</td>\n",
       "      <td>제조</td>\n",
       "      <td>이물</td>\n",
       "    </tr>\n",
       "    <tr>\n",
       "      <th>3</th>\n",
       "      <td>이물이</td>\n",
       "      <td>유통기한</td>\n",
       "      <td>유통</td>\n",
       "      <td>위해</td>\n",
       "      <td>마트</td>\n",
       "      <td>위해</td>\n",
       "      <td>이물발견</td>\n",
       "    </tr>\n",
       "    <tr>\n",
       "      <th>4</th>\n",
       "      <td>이물 이물</td>\n",
       "      <td>위해</td>\n",
       "      <td>유통기한</td>\n",
       "      <td>이물</td>\n",
       "      <td>보관중</td>\n",
       "      <td>이물발견</td>\n",
       "      <td>제조원</td>\n",
       "    </tr>\n",
       "    <tr>\n",
       "      <th>5</th>\n",
       "      <td>cm</td>\n",
       "      <td>보관중</td>\n",
       "      <td>위해</td>\n",
       "      <td>이물발견</td>\n",
       "      <td>제조</td>\n",
       "      <td>이물이</td>\n",
       "      <td>cm</td>\n",
       "    </tr>\n",
       "    <tr>\n",
       "      <th>6</th>\n",
       "      <td>제조원</td>\n",
       "      <td>제품변질</td>\n",
       "      <td>제조원</td>\n",
       "      <td>유통기한</td>\n",
       "      <td>이상</td>\n",
       "      <td>유통</td>\n",
       "      <td>유통기한</td>\n",
       "    </tr>\n",
       "    <tr>\n",
       "      <th>7</th>\n",
       "      <td>유통기한</td>\n",
       "      <td>이물</td>\n",
       "      <td>보관중</td>\n",
       "      <td>제조원</td>\n",
       "      <td>이물이</td>\n",
       "      <td>유통기한</td>\n",
       "      <td>위해</td>\n",
       "    </tr>\n",
       "    <tr>\n",
       "      <th>8</th>\n",
       "      <td>곰팡이</td>\n",
       "      <td>이물이</td>\n",
       "      <td>이물</td>\n",
       "      <td>유통</td>\n",
       "      <td>유통</td>\n",
       "      <td>냄새가</td>\n",
       "      <td>이물이</td>\n",
       "    </tr>\n",
       "    <tr>\n",
       "      <th>9</th>\n",
       "      <td>보관중</td>\n",
       "      <td>마트</td>\n",
       "      <td>이물발견</td>\n",
       "      <td>마트</td>\n",
       "      <td>이물</td>\n",
       "      <td>이물</td>\n",
       "      <td>마트</td>\n",
       "    </tr>\n",
       "    <tr>\n",
       "      <th>10</th>\n",
       "      <td>마트</td>\n",
       "      <td>이물 이물</td>\n",
       "      <td>제조</td>\n",
       "      <td>냄새가</td>\n",
       "      <td>주문</td>\n",
       "      <td>곰팡이</td>\n",
       "      <td>곰팡이</td>\n",
       "    </tr>\n",
       "    <tr>\n",
       "      <th>11</th>\n",
       "      <td>주문</td>\n",
       "      <td>이상</td>\n",
       "      <td>냄새가</td>\n",
       "      <td>cm</td>\n",
       "      <td>제품변질</td>\n",
       "      <td>제조원</td>\n",
       "      <td>보관중</td>\n",
       "    </tr>\n",
       "    <tr>\n",
       "      <th>12</th>\n",
       "      <td>내용량</td>\n",
       "      <td>곰팡이</td>\n",
       "      <td>이물이</td>\n",
       "      <td>곰팡이</td>\n",
       "      <td>곰팡이</td>\n",
       "      <td>이상</td>\n",
       "      <td>내용량</td>\n",
       "    </tr>\n",
       "    <tr>\n",
       "      <th>13</th>\n",
       "      <td>제조</td>\n",
       "      <td>제조</td>\n",
       "      <td>이상</td>\n",
       "      <td>제품변질</td>\n",
       "      <td>이물발견</td>\n",
       "      <td>cm</td>\n",
       "      <td>이물 이물</td>\n",
       "    </tr>\n",
       "    <tr>\n",
       "      <th>14</th>\n",
       "      <td>택배발송</td>\n",
       "      <td>유통</td>\n",
       "      <td>내용량</td>\n",
       "      <td>주문</td>\n",
       "      <td>내용량</td>\n",
       "      <td>보관중</td>\n",
       "      <td>주문</td>\n",
       "    </tr>\n",
       "    <tr>\n",
       "      <th>15</th>\n",
       "      <td>유통</td>\n",
       "      <td>이물발견</td>\n",
       "      <td>택배발송</td>\n",
       "      <td>내용량</td>\n",
       "      <td>택배발송</td>\n",
       "      <td>마트</td>\n",
       "      <td>유통</td>\n",
       "    </tr>\n",
       "    <tr>\n",
       "      <th>16</th>\n",
       "      <td>음식</td>\n",
       "      <td>주문</td>\n",
       "      <td>cm</td>\n",
       "      <td>제조</td>\n",
       "      <td>음식</td>\n",
       "      <td>이물질</td>\n",
       "      <td>제조</td>\n",
       "    </tr>\n",
       "    <tr>\n",
       "      <th>17</th>\n",
       "      <td>이물질</td>\n",
       "      <td>cm</td>\n",
       "      <td>이물질</td>\n",
       "      <td>이물 이물</td>\n",
       "      <td>cm</td>\n",
       "      <td>제품변질</td>\n",
       "      <td>이상</td>\n",
       "    </tr>\n",
       "    <tr>\n",
       "      <th>18</th>\n",
       "      <td>이상</td>\n",
       "      <td>음식</td>\n",
       "      <td>주문</td>\n",
       "      <td>음식</td>\n",
       "      <td>이물 이물</td>\n",
       "      <td>택배발송</td>\n",
       "      <td>음식</td>\n",
       "    </tr>\n",
       "    <tr>\n",
       "      <th>19</th>\n",
       "      <td>냄새가</td>\n",
       "      <td>택배발송</td>\n",
       "      <td>음식</td>\n",
       "      <td>이물질</td>\n",
       "      <td>이물질</td>\n",
       "      <td>내용량</td>\n",
       "      <td>냄새가</td>\n",
       "    </tr>\n",
       "  </tbody>\n",
       "</table>\n",
       "</div>"
      ],
      "text/plain": [
       "        0      1     2      3      4     5      6\n",
       "0      이물    제조원    마트    보관중   유통기한    음식    이물질\n",
       "1    이물발견    냄새가   곰팡이     이상    제조원    주문   택배발송\n",
       "2      위해    내용량  제품변질    이물이     위해    제조     이물\n",
       "3     이물이   유통기한    유통     위해     마트    위해   이물발견\n",
       "4   이물 이물     위해  유통기한     이물    보관중  이물발견    제조원\n",
       "5      cm    보관중    위해   이물발견     제조   이물이     cm\n",
       "6     제조원   제품변질   제조원   유통기한     이상    유통   유통기한\n",
       "7    유통기한     이물   보관중    제조원    이물이  유통기한     위해\n",
       "8     곰팡이    이물이    이물     유통     유통   냄새가    이물이\n",
       "9     보관중     마트  이물발견     마트     이물    이물     마트\n",
       "10     마트  이물 이물    제조    냄새가     주문   곰팡이    곰팡이\n",
       "11     주문     이상   냄새가     cm   제품변질   제조원    보관중\n",
       "12    내용량    곰팡이   이물이    곰팡이    곰팡이    이상    내용량\n",
       "13     제조     제조    이상   제품변질   이물발견    cm  이물 이물\n",
       "14   택배발송     유통   내용량     주문    내용량   보관중     주문\n",
       "15     유통   이물발견  택배발송    내용량   택배발송    마트     유통\n",
       "16     음식     주문    cm     제조     음식   이물질     제조\n",
       "17    이물질     cm   이물질  이물 이물     cm  제품변질     이상\n",
       "18     이상     음식    주문     음식  이물 이물  택배발송     음식\n",
       "19    냄새가   택배발송    음식    이물질    이물질   내용량    냄새가"
      ]
     },
     "execution_count": 59,
     "metadata": {},
     "output_type": "execute_result"
    }
   ],
   "source": [
    "topic_words"
   ]
  },
  {
   "cell_type": "markdown",
   "metadata": {},
   "source": [
    "# <font color='green'> A. LDA 연도별 추세 : 토픽 모델링 분포 분석\n",
    "- 앞에서 topic_list 에는 각 문서의 주제 번호가 할당되어있음"
   ]
  },
  {
   "cell_type": "code",
   "execution_count": null,
   "metadata": {},
   "outputs": [],
   "source": []
  },
  {
   "cell_type": "code",
   "execution_count": 63,
   "metadata": {
    "scrolled": false
   },
   "outputs": [
    {
     "name": "stderr",
     "output_type": "stream",
     "text": [
      "C:\\Users\\NFSI291\\Anaconda3\\lib\\site-packages\\ipykernel_launcher.py:6: TqdmDeprecationWarning: This function will be removed in tqdm==5.0.0\n",
      "Please use `tqdm.notebook.tqdm` instead of `tqdm.tqdm_notebook`\n",
      "  \n"
     ]
    },
    {
     "data": {
      "application/vnd.jupyter.widget-view+json": {
       "model_id": "ad32c6dc6e3342d0a4fb1a1360b7a52f",
       "version_major": 2,
       "version_minor": 0
      },
      "text/plain": [
       "HBox(children=(FloatProgress(value=0.0, max=5.0), HTML(value='')))"
      ]
     },
     "metadata": {},
     "output_type": "display_data"
    },
    {
     "name": "stdout",
     "output_type": "stream",
     "text": [
      "\n"
     ]
    }
   ],
   "source": [
    "# LDA 년도별 문서 분포 결과 출력\n",
    "\n",
    "topic_list = pd.Series(topic_list)\n",
    "result_df = pd.DataFrame()\n",
    "\n",
    "for year in tqdm_notebook(range(int(start_year),int(end_year)+1)):\n",
    "    start_date = str(year) + \"-01-01\"\n",
    "    end_date = str(year) + \"-12-31\"\n",
    "    dt_idx = (df['신고일시'] >= start_date) & (df['신고일시'] <= end_date)\n",
    "    sub_df = df[dt_idx]\n",
    "    \n",
    "    dt_idx.index = topic_list.index # index 번호를 맞추기\n",
    "    sub_topic_list = topic_list[dt_idx]\n",
    "    \n",
    "    result = []\n",
    "    for t in range(max(topic_list) + 1):\n",
    "        num = len(sub_topic_list[sub_topic_list==t])\n",
    "        result.append(num)\n",
    "    \n",
    "    result = pd.Series(result,name=str(year))\n",
    "    result_df = pd.concat([result_df,result],axis=1)            \n",
    "\n",
    "\n",
    "# 비율로 만들기\n",
    "result_df = result_df.T.apply(lambda x: x / x.sum(),axis=1)"
   ]
  },
  {
   "cell_type": "code",
   "execution_count": 64,
   "metadata": {},
   "outputs": [
    {
     "data": {
      "text/html": [
       "<div>\n",
       "<style scoped>\n",
       "    .dataframe tbody tr th:only-of-type {\n",
       "        vertical-align: middle;\n",
       "    }\n",
       "\n",
       "    .dataframe tbody tr th {\n",
       "        vertical-align: top;\n",
       "    }\n",
       "\n",
       "    .dataframe thead th {\n",
       "        text-align: right;\n",
       "    }\n",
       "</style>\n",
       "<table border=\"1\" class=\"dataframe\">\n",
       "  <thead>\n",
       "    <tr style=\"text-align: right;\">\n",
       "      <th></th>\n",
       "      <th>0</th>\n",
       "      <th>1</th>\n",
       "      <th>2</th>\n",
       "      <th>3</th>\n",
       "      <th>4</th>\n",
       "      <th>5</th>\n",
       "      <th>6</th>\n",
       "    </tr>\n",
       "  </thead>\n",
       "  <tbody>\n",
       "    <tr>\n",
       "      <th>2015</th>\n",
       "      <td>0.380952</td>\n",
       "      <td>0.042857</td>\n",
       "      <td>0.128571</td>\n",
       "      <td>0.078571</td>\n",
       "      <td>0.109524</td>\n",
       "      <td>0.142857</td>\n",
       "      <td>0.116667</td>\n",
       "    </tr>\n",
       "    <tr>\n",
       "      <th>2016</th>\n",
       "      <td>0.440613</td>\n",
       "      <td>0.059387</td>\n",
       "      <td>0.195402</td>\n",
       "      <td>0.051724</td>\n",
       "      <td>0.113027</td>\n",
       "      <td>0.090038</td>\n",
       "      <td>0.049808</td>\n",
       "    </tr>\n",
       "    <tr>\n",
       "      <th>2017</th>\n",
       "      <td>0.397363</td>\n",
       "      <td>0.079096</td>\n",
       "      <td>0.180791</td>\n",
       "      <td>0.033898</td>\n",
       "      <td>0.099812</td>\n",
       "      <td>0.133710</td>\n",
       "      <td>0.075330</td>\n",
       "    </tr>\n",
       "    <tr>\n",
       "      <th>2018</th>\n",
       "      <td>0.333333</td>\n",
       "      <td>0.098837</td>\n",
       "      <td>0.129845</td>\n",
       "      <td>0.050388</td>\n",
       "      <td>0.141473</td>\n",
       "      <td>0.112403</td>\n",
       "      <td>0.133721</td>\n",
       "    </tr>\n",
       "    <tr>\n",
       "      <th>2019</th>\n",
       "      <td>0.334465</td>\n",
       "      <td>0.083192</td>\n",
       "      <td>0.157895</td>\n",
       "      <td>0.028862</td>\n",
       "      <td>0.174873</td>\n",
       "      <td>0.101868</td>\n",
       "      <td>0.118846</td>\n",
       "    </tr>\n",
       "  </tbody>\n",
       "</table>\n",
       "</div>"
      ],
      "text/plain": [
       "             0         1         2         3         4         5         6\n",
       "2015  0.380952  0.042857  0.128571  0.078571  0.109524  0.142857  0.116667\n",
       "2016  0.440613  0.059387  0.195402  0.051724  0.113027  0.090038  0.049808\n",
       "2017  0.397363  0.079096  0.180791  0.033898  0.099812  0.133710  0.075330\n",
       "2018  0.333333  0.098837  0.129845  0.050388  0.141473  0.112403  0.133721\n",
       "2019  0.334465  0.083192  0.157895  0.028862  0.174873  0.101868  0.118846"
      ]
     },
     "execution_count": 64,
     "metadata": {},
     "output_type": "execute_result"
    }
   ],
   "source": [
    "result_df"
   ]
  },
  {
   "cell_type": "markdown",
   "metadata": {},
   "source": [
    "## LDA 토픽 비율 그래프 그리기\n",
    "- https://dailyheumsi.tistory.com/98 참조"
   ]
  },
  {
   "cell_type": "code",
   "execution_count": 65,
   "metadata": {
    "scrolled": false
   },
   "outputs": [
    {
     "data": {
      "text/plain": [
       "<matplotlib.legend.Legend at 0x187eac765c8>"
      ]
     },
     "execution_count": 65,
     "metadata": {},
     "output_type": "execute_result"
    },
    {
     "data": {
      "text/plain": [
       "Text(0.19047619047619047, 0.0, '38.1')"
      ]
     },
     "execution_count": 65,
     "metadata": {},
     "output_type": "execute_result"
    },
    {
     "data": {
      "text/plain": [
       "Text(0.22030651340996169, 1.0, '44.1')"
      ]
     },
     "execution_count": 65,
     "metadata": {},
     "output_type": "execute_result"
    },
    {
     "data": {
      "text/plain": [
       "Text(0.19868173258003766, 2.0, '39.7')"
      ]
     },
     "execution_count": 65,
     "metadata": {},
     "output_type": "execute_result"
    },
    {
     "data": {
      "text/plain": [
       "Text(0.16666666666666666, 3.0, '33.3')"
      ]
     },
     "execution_count": 65,
     "metadata": {},
     "output_type": "execute_result"
    },
    {
     "data": {
      "text/plain": [
       "Text(0.16723259762308998, 4.0, '33.4')"
      ]
     },
     "execution_count": 65,
     "metadata": {},
     "output_type": "execute_result"
    },
    {
     "data": {
      "text/plain": [
       "Text(0.4023809523809524, 0.0, '4.3')"
      ]
     },
     "execution_count": 65,
     "metadata": {},
     "output_type": "execute_result"
    },
    {
     "data": {
      "text/plain": [
       "Text(0.47030651340996166, 1.0, '5.9')"
      ]
     },
     "execution_count": 65,
     "metadata": {},
     "output_type": "execute_result"
    },
    {
     "data": {
      "text/plain": [
       "Text(0.4369114877589454, 2.0, '7.9')"
      ]
     },
     "execution_count": 65,
     "metadata": {},
     "output_type": "execute_result"
    },
    {
     "data": {
      "text/plain": [
       "Text(0.38275193798449614, 3.0, '9.9')"
      ]
     },
     "execution_count": 65,
     "metadata": {},
     "output_type": "execute_result"
    },
    {
     "data": {
      "text/plain": [
       "Text(0.3760611205432937, 4.0, '8.3')"
      ]
     },
     "execution_count": 65,
     "metadata": {},
     "output_type": "execute_result"
    },
    {
     "data": {
      "text/plain": [
       "Text(0.48809523809523814, 0.0, '12.9')"
      ]
     },
     "execution_count": 65,
     "metadata": {},
     "output_type": "execute_result"
    },
    {
     "data": {
      "text/plain": [
       "Text(0.5977011494252874, 1.0, '19.5')"
      ]
     },
     "execution_count": 65,
     "metadata": {},
     "output_type": "execute_result"
    },
    {
     "data": {
      "text/plain": [
       "Text(0.5668549905838041, 2.0, '18.1')"
      ]
     },
     "execution_count": 65,
     "metadata": {},
     "output_type": "execute_result"
    },
    {
     "data": {
      "text/plain": [
       "Text(0.497093023255814, 3.0, '13.0')"
      ]
     },
     "execution_count": 65,
     "metadata": {},
     "output_type": "execute_result"
    },
    {
     "data": {
      "text/plain": [
       "Text(0.49660441426146007, 4.0, '15.8')"
      ]
     },
     "execution_count": 65,
     "metadata": {},
     "output_type": "execute_result"
    },
    {
     "data": {
      "text/plain": [
       "Text(0.5916666666666667, 0.0, '7.9')"
      ]
     },
     "execution_count": 65,
     "metadata": {},
     "output_type": "execute_result"
    },
    {
     "data": {
      "text/plain": [
       "Text(0.7212643678160919, 1.0, '5.2')"
      ]
     },
     "execution_count": 65,
     "metadata": {},
     "output_type": "execute_result"
    },
    {
     "data": {
      "text/plain": [
       "Text(0.6741996233521657, 2.0, '3.4')"
      ]
     },
     "execution_count": 65,
     "metadata": {},
     "output_type": "execute_result"
    },
    {
     "data": {
      "text/plain": [
       "Text(0.5872093023255813, 3.0, '5.0')"
      ]
     },
     "execution_count": 65,
     "metadata": {},
     "output_type": "execute_result"
    },
    {
     "data": {
      "text/plain": [
       "Text(0.5899830220713074, 4.0, '2.9')"
      ]
     },
     "execution_count": 65,
     "metadata": {},
     "output_type": "execute_result"
    },
    {
     "data": {
      "text/plain": [
       "Text(0.6857142857142857, 0.0, '11.0')"
      ]
     },
     "execution_count": 65,
     "metadata": {},
     "output_type": "execute_result"
    },
    {
     "data": {
      "text/plain": [
       "Text(0.803639846743295, 1.0, '11.3')"
      ]
     },
     "execution_count": 65,
     "metadata": {},
     "output_type": "execute_result"
    },
    {
     "data": {
      "text/plain": [
       "Text(0.7410546139359699, 2.0, '10.0')"
      ]
     },
     "execution_count": 65,
     "metadata": {},
     "output_type": "execute_result"
    },
    {
     "data": {
      "text/plain": [
       "Text(0.6831395348837209, 3.0, '14.1')"
      ]
     },
     "execution_count": 65,
     "metadata": {},
     "output_type": "execute_result"
    },
    {
     "data": {
      "text/plain": [
       "Text(0.6918505942275043, 4.0, '17.5')"
      ]
     },
     "execution_count": 65,
     "metadata": {},
     "output_type": "execute_result"
    },
    {
     "data": {
      "text/plain": [
       "Text(0.8119047619047619, 0.0, '14.3')"
      ]
     },
     "execution_count": 65,
     "metadata": {},
     "output_type": "execute_result"
    },
    {
     "data": {
      "text/plain": [
       "Text(0.9051724137931034, 1.0, '9.0')"
      ]
     },
     "execution_count": 65,
     "metadata": {},
     "output_type": "execute_result"
    },
    {
     "data": {
      "text/plain": [
       "Text(0.8578154425612053, 2.0, '13.4')"
      ]
     },
     "execution_count": 65,
     "metadata": {},
     "output_type": "execute_result"
    },
    {
     "data": {
      "text/plain": [
       "Text(0.810077519379845, 3.0, '11.2')"
      ]
     },
     "execution_count": 65,
     "metadata": {},
     "output_type": "execute_result"
    },
    {
     "data": {
      "text/plain": [
       "Text(0.830220713073005, 4.0, '10.2')"
      ]
     },
     "execution_count": 65,
     "metadata": {},
     "output_type": "execute_result"
    },
    {
     "data": {
      "text/plain": [
       "Text(0.9416666666666667, 0.0, '11.7')"
      ]
     },
     "execution_count": 65,
     "metadata": {},
     "output_type": "execute_result"
    },
    {
     "data": {
      "text/plain": [
       "Text(0.9750957854406129, 1.0, '5.0')"
      ]
     },
     "execution_count": 65,
     "metadata": {},
     "output_type": "execute_result"
    },
    {
     "data": {
      "text/plain": [
       "Text(0.9623352165725048, 2.0, '7.5')"
      ]
     },
     "execution_count": 65,
     "metadata": {},
     "output_type": "execute_result"
    },
    {
     "data": {
      "text/plain": [
       "Text(0.9331395348837209, 3.0, '13.4')"
      ]
     },
     "execution_count": 65,
     "metadata": {},
     "output_type": "execute_result"
    },
    {
     "data": {
      "text/plain": [
       "Text(0.9405772495755518, 4.0, '11.9')"
      ]
     },
     "execution_count": 65,
     "metadata": {},
     "output_type": "execute_result"
    },
    {
     "data": {
      "image/png": "[encoded data removed]",
      "text/plain": [
       "<Figure size 1440x576 with 1 Axes>"
      ]
     },
     "metadata": {
      "needs_background": "light"
     },
     "output_type": "display_data"
    }
   ],
   "source": [
    "ax = result_df.plot.barh(stacked=True,legend=False,figsize=(20, 8), title=\"Topic Proportion(%)\")\n",
    "ax.legend(bbox_to_anchor=(1.03, 1),loc=2, borderaxespad=0.)\n",
    "\n",
    "for p in ax.patches: \n",
    "    left, bottom, width, height = p.get_bbox().bounds \n",
    "    ax.annotate(\"%.1f\"%(width*100), xy=(left+width/2, bottom+height/2), ha='center', va='center')"
   ]
  },
  {
   "cell_type": "code",
   "execution_count": null,
   "metadata": {},
   "outputs": [],
   "source": []
  },
  {
   "cell_type": "code",
   "execution_count": null,
   "metadata": {},
   "outputs": [],
   "source": []
  },
  {
   "cell_type": "markdown",
   "metadata": {},
   "source": [
    "# 최적의 토픽수를 찾기\n",
    "## LDA in Python – How to grid search best topic models?\n",
    "https://www.machinelearningplus.com/nlp/topic-modeling-python-sklearn-examples/"
   ]
  },
  {
   "cell_type": "code",
   "execution_count": 39,
   "metadata": {},
   "outputs": [
    {
     "data": {
      "text/plain": [
       "LatentDirichletAllocation(n_components=7, random_state=1004)"
      ]
     },
     "execution_count": 39,
     "metadata": {},
     "output_type": "execute_result"
    }
   ],
   "source": [
    "lda # Model attributes"
   ]
  },
  {
   "cell_type": "markdown",
   "metadata": {},
   "source": [
    "### a. Diagnose model performance with perplexity and log-likelihood"
   ]
  },
  {
   "cell_type": "code",
   "execution_count": 66,
   "metadata": {},
   "outputs": [
    {
     "name": "stdout",
     "output_type": "stream",
     "text": [
      "Log Likelihood:  -4387.11725389153\n",
      "Perplexity:  41.15843513727793\n",
      "{'batch_size': 128,\n",
      " 'doc_topic_prior': None,\n",
      " 'evaluate_every': -1,\n",
      " 'learning_decay': 0.7,\n",
      " 'learning_method': 'batch',\n",
      " 'learning_offset': 10.0,\n",
      " 'max_doc_update_iter': 100,\n",
      " 'max_iter': 10,\n",
      " 'mean_change_tol': 0.001,\n",
      " 'n_components': 5,\n",
      " 'n_jobs': None,\n",
      " 'perp_tol': 0.1,\n",
      " 'random_state': 1004,\n",
      " 'topic_word_prior': None,\n",
      " 'total_samples': 1000000.0,\n",
      " 'verbose': 0}\n"
     ]
    }
   ],
   "source": [
    "from konlpy.utils import pprint\n",
    "# Log Likelyhood: Higher the better\n",
    "print(\"Log Likelihood: \", lda.score(X))\n",
    "\n",
    "# Perplexity: Lower the better. Perplexity = exp(-1. * log-likelihood per word)\n",
    "print(\"Perplexity: \", lda.perplexity(X))\n",
    "\n",
    "# See model parameters\n",
    "pprint(lda.get_params())"
   ]
  },
  {
   "cell_type": "markdown",
   "metadata": {},
   "source": [
    "On a different note, perplexity might not be the best measure to evaluate topic models because it doesn’t consider the context and semantic associations between words. This can be captured using topic coherence measure, an example of this is described in the gensim tutorial I mentioned earlier."
   ]
  },
  {
   "cell_type": "markdown",
   "metadata": {},
   "source": [
    "### b. How to GridSearch the best LDA model, see the best topic model and its parameters?\n",
    "The most important tuning parameter for LDA models is n_components (number of topics). In addition, I am going to search learning_decay (which controls the learning rate) as well. Besides these, other possible search params could be learning_offset (downweigh early iterations. Should be > 1) and max_iter. These could be worth experimenting if you have enough computing resources. \n",
    "Be warned, the grid search constructs multiple LDA models for all possible combinations of param values in the param_grid dict. So, this process can consume a lot of time and resources."
   ]
  },
  {
   "cell_type": "code",
   "execution_count": 68,
   "metadata": {},
   "outputs": [
    {
     "name": "stdout",
     "output_type": "stream",
     "text": [
      "Wall time: 34.1 s\n"
     ]
    },
    {
     "data": {
      "text/plain": [
       "GridSearchCV(cv=None, error_score=nan,\n",
       "             estimator=LatentDirichletAllocation(batch_size=128,\n",
       "                                                 doc_topic_prior=None,\n",
       "                                                 evaluate_every=-1,\n",
       "                                                 learning_decay=0.7,\n",
       "                                                 learning_method='batch',\n",
       "                                                 learning_offset=10.0,\n",
       "                                                 max_doc_update_iter=100,\n",
       "                                                 max_iter=10,\n",
       "                                                 mean_change_tol=0.001,\n",
       "                                                 n_components=10, n_jobs=None,\n",
       "                                                 perp_tol=0.1,\n",
       "                                                 random_state=None,\n",
       "                                                 topic_word_prior=None,\n",
       "                                                 total_samples=1000000.0,\n",
       "                                                 verbose=0),\n",
       "             iid='deprecated', n_jobs=None,\n",
       "             param_grid={'learning_decay': [0.5, 0.7, 0.9],\n",
       "                         'n_components': [3, 5, 7, 9, 11]},\n",
       "             pre_dispatch='2*n_jobs', refit=True, return_train_score=False,\n",
       "             scoring=None, verbose=0)"
      ]
     },
     "execution_count": 68,
     "metadata": {},
     "output_type": "execute_result"
    }
   ],
   "source": [
    "from sklearn.model_selection import GridSearchCV\n",
    "\n",
    "# Define Search Param\n",
    "search_params = {'n_components': [3,5,7,9,11], 'learning_decay': [.5, .7, .9]}\n",
    "\n",
    "# Init the Model\n",
    "lda = LatentDirichletAllocation()\n",
    "\n",
    "# Init Grid Search Class\n",
    "model = GridSearchCV(lda, param_grid=search_params)\n",
    "\n",
    "# Do the Grid Search\n",
    "%time model.fit(X)"
   ]
  },
  {
   "cell_type": "code",
   "execution_count": 69,
   "metadata": {
    "scrolled": true
   },
   "outputs": [
    {
     "data": {
      "text/plain": [
       "array([ -919.46030971, -1004.0264732 , -1062.49617581, -1121.97087063,\n",
       "       -1156.33076462,  -918.01845457, -1000.52747626, -1074.64243365,\n",
       "       -1126.30938837, -1159.11433316,  -915.77055798, -1000.71509349,\n",
       "       -1066.8466333 , -1116.83190546, -1163.42292401])"
      ]
     },
     "execution_count": 69,
     "metadata": {},
     "output_type": "execute_result"
    },
    {
     "name": "stdout",
     "output_type": "stream",
     "text": [
      "-915.7705579794825\n",
      "{'learning_decay': 0.9, 'n_components': 3}\n"
     ]
    }
   ],
   "source": [
    "model.cv_results_[\"mean_test_score\"]\n",
    "print(model.best_score_)\n",
    "print(model.best_params_)"
   ]
  },
  {
   "cell_type": "code",
   "execution_count": 70,
   "metadata": {},
   "outputs": [
    {
     "name": "stdout",
     "output_type": "stream",
     "text": [
      "Best Model's Params:  {'learning_decay': 0.9, 'n_components': 3}\n",
      "Best Log Likelihood Score:  -915.7705579794825\n",
      "Model Perplexity:  33.641357430316475\n"
     ]
    }
   ],
   "source": [
    "# Best Model\n",
    "best_lda_model = model.best_estimator_\n",
    "\n",
    "# Model Parameters\n",
    "print(\"Best Model's Params: \", model.best_params_)\n",
    "\n",
    "# Log Likelihood Score\n",
    "print(\"Best Log Likelihood Score: \", model.best_score_)\n",
    "\n",
    "# Perplexity\n",
    "print(\"Model Perplexity: \", best_lda_model.perplexity(X))"
   ]
  },
  {
   "cell_type": "markdown",
   "metadata": {},
   "source": [
    "### Compare LDA Model Performance Scores\n",
    "Plotting the log-likelihood scores against num_topics, clearly shows number of topics = 3 has better scores. And learning_decay of 0.9 outperforms both 0.5 and 0.7......This makes me think, even though we know that the dataset has 20 distinct topics to start with, some topics could share common keywords. For example, ‘alt.atheism’ and ‘soc.religion.christian’ can have a lot of common words. Same with ‘rec.motorcycles’ and ‘rec.autos’, ‘comp.sys.ibm.pc.hardware’ and ‘comp.sys.mac.hardware’, you get the idea.\n",
    "\n",
    "To tune this even further, you can do a finer grid search for number of topics between 10 and 15. But I am going to skip that for now.\n",
    "So the bottom line is, a lower optimal number of distinct topics (even 10 topics) may be reasonable for this dataset. I don’t know that yet. But LDA says so. Let’s see.\n"
   ]
  },
  {
   "cell_type": "code",
   "execution_count": 71,
   "metadata": {
    "scrolled": true
   },
   "outputs": [
    {
     "data": {
      "text/html": [
       "<div>\n",
       "<style scoped>\n",
       "    .dataframe tbody tr th:only-of-type {\n",
       "        vertical-align: middle;\n",
       "    }\n",
       "\n",
       "    .dataframe tbody tr th {\n",
       "        vertical-align: top;\n",
       "    }\n",
       "\n",
       "    .dataframe thead th {\n",
       "        text-align: right;\n",
       "    }\n",
       "</style>\n",
       "<table border=\"1\" class=\"dataframe\">\n",
       "  <thead>\n",
       "    <tr style=\"text-align: right;\">\n",
       "      <th></th>\n",
       "      <th>param_learning_decay</th>\n",
       "      <th>param_n_components</th>\n",
       "      <th>mean_test_score</th>\n",
       "    </tr>\n",
       "  </thead>\n",
       "  <tbody>\n",
       "    <tr>\n",
       "      <td>10</td>\n",
       "      <td>0.9</td>\n",
       "      <td>3</td>\n",
       "      <td>-915.770558</td>\n",
       "    </tr>\n",
       "    <tr>\n",
       "      <td>5</td>\n",
       "      <td>0.7</td>\n",
       "      <td>3</td>\n",
       "      <td>-918.018455</td>\n",
       "    </tr>\n",
       "    <tr>\n",
       "      <td>0</td>\n",
       "      <td>0.5</td>\n",
       "      <td>3</td>\n",
       "      <td>-919.460310</td>\n",
       "    </tr>\n",
       "    <tr>\n",
       "      <td>6</td>\n",
       "      <td>0.7</td>\n",
       "      <td>5</td>\n",
       "      <td>-1000.527476</td>\n",
       "    </tr>\n",
       "    <tr>\n",
       "      <td>11</td>\n",
       "      <td>0.9</td>\n",
       "      <td>5</td>\n",
       "      <td>-1000.715093</td>\n",
       "    </tr>\n",
       "    <tr>\n",
       "      <td>1</td>\n",
       "      <td>0.5</td>\n",
       "      <td>5</td>\n",
       "      <td>-1004.026473</td>\n",
       "    </tr>\n",
       "    <tr>\n",
       "      <td>2</td>\n",
       "      <td>0.5</td>\n",
       "      <td>7</td>\n",
       "      <td>-1062.496176</td>\n",
       "    </tr>\n",
       "    <tr>\n",
       "      <td>12</td>\n",
       "      <td>0.9</td>\n",
       "      <td>7</td>\n",
       "      <td>-1066.846633</td>\n",
       "    </tr>\n",
       "    <tr>\n",
       "      <td>7</td>\n",
       "      <td>0.7</td>\n",
       "      <td>7</td>\n",
       "      <td>-1074.642434</td>\n",
       "    </tr>\n",
       "    <tr>\n",
       "      <td>13</td>\n",
       "      <td>0.9</td>\n",
       "      <td>9</td>\n",
       "      <td>-1116.831905</td>\n",
       "    </tr>\n",
       "    <tr>\n",
       "      <td>3</td>\n",
       "      <td>0.5</td>\n",
       "      <td>9</td>\n",
       "      <td>-1121.970871</td>\n",
       "    </tr>\n",
       "    <tr>\n",
       "      <td>8</td>\n",
       "      <td>0.7</td>\n",
       "      <td>9</td>\n",
       "      <td>-1126.309388</td>\n",
       "    </tr>\n",
       "    <tr>\n",
       "      <td>4</td>\n",
       "      <td>0.5</td>\n",
       "      <td>11</td>\n",
       "      <td>-1156.330765</td>\n",
       "    </tr>\n",
       "    <tr>\n",
       "      <td>9</td>\n",
       "      <td>0.7</td>\n",
       "      <td>11</td>\n",
       "      <td>-1159.114333</td>\n",
       "    </tr>\n",
       "    <tr>\n",
       "      <td>14</td>\n",
       "      <td>0.9</td>\n",
       "      <td>11</td>\n",
       "      <td>-1163.422924</td>\n",
       "    </tr>\n",
       "  </tbody>\n",
       "</table>\n",
       "</div>"
      ],
      "text/plain": [
       "   param_learning_decay param_n_components  mean_test_score\n",
       "10                  0.9                  3      -915.770558\n",
       "5                   0.7                  3      -918.018455\n",
       "0                   0.5                  3      -919.460310\n",
       "6                   0.7                  5     -1000.527476\n",
       "11                  0.9                  5     -1000.715093\n",
       "1                   0.5                  5     -1004.026473\n",
       "2                   0.5                  7     -1062.496176\n",
       "12                  0.9                  7     -1066.846633\n",
       "7                   0.7                  7     -1074.642434\n",
       "13                  0.9                  9     -1116.831905\n",
       "3                   0.5                  9     -1121.970871\n",
       "8                   0.7                  9     -1126.309388\n",
       "4                   0.5                 11     -1156.330765\n",
       "9                   0.7                 11     -1159.114333\n",
       "14                  0.9                 11     -1163.422924"
      ]
     },
     "execution_count": 71,
     "metadata": {},
     "output_type": "execute_result"
    }
   ],
   "source": [
    "pd.DataFrame(model.cv_results_)[['param_learning_decay', 'param_n_components', 'mean_test_score']].sort_values(by ='mean_test_score', ascending=False)"
   ]
  },
  {
   "cell_type": "code",
   "execution_count": null,
   "metadata": {},
   "outputs": [],
   "source": []
  }
 ],
 "metadata": {
  "kernelspec": {
   "display_name": "Python 3",
   "language": "python",
   "name": "python3"
  },
  "language_info": {
   "codemirror_mode": {
    "name": "ipython",
    "version": 3
   },
   "file_extension": ".py",
   "mimetype": "text/x-python",
   "name": "python",
   "nbconvert_exporter": "python",
   "pygments_lexer": "ipython3",
   "version": "3.7.4"
  }
 },
 "nbformat": 4,
 "nbformat_minor": 2
}
